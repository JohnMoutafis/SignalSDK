{
 "cells": [
  {
   "source": [
    "## Create a distance matrix\n",
    "Find distance in NM for a Aframax vessel from Trieste to every available port.\n",
    "Persist the output in an excel file."
   ],
   "cell_type": "markdown",
   "metadata": {}
  },
  {
   "cell_type": "markdown",
   "metadata": {},
   "source": [
    "# Companies API Example"
   ]
  },
  {
   "cell_type": "markdown",
   "metadata": {},
   "source": [
    "## Setup\n",
    "Install the Signal Ocean SDK:\n",
    "```\n",
    "pip install signal-ocean\n",
    "```\n",
    "And put your API key in a `SIGNAL_OCEAN_API_KEY` environment variable."
   ]
  },
  {
   "cell_type": "code",
   "execution_count": 1,
   "metadata": {},
   "outputs": [],
   "source": [
    "signal_ocean_api_key = '' #replace with your subscription key"
   ]
  },
  {
   "cell_type": "markdown",
   "metadata": {},
   "source": [
    "## Calculate a distance over 2 ports\n",
    "\n",
    "Create a connections towards distances API.\n",
    "Then call the distance API to get a distance between Fuijairah and Singapore for a VLCC vessel (corresponding restrictions applied)"
   ]
  },
  {
   "cell_type": "code",
   "execution_count": 2,
   "metadata": {},
   "outputs": [
    {
     "output_type": "stream",
     "name": "stdout",
     "text": [
      "3302.86\n"
     ]
    }
   ],
   "source": [
    "from signal_ocean import Connection\n",
    "from signal_ocean.distances import DistancesAPI, VesselClassFilter, PortFilter, LoadingCondition\n",
    "\n",
    "connection = Connection(api_key=signal_ocean_api_key)\n",
    "distances_api = DistancesAPI(connection)\n",
    "\n",
    "all_ports = distances_api.get_ports()\n",
    "load_port = tuple(PortFilter(name_like='Fujairah')._apply(all_ports))[0]\n",
    "discharge_port = tuple(PortFilter(name_like='Singapore')._apply(all_ports))[0]\n",
    "\n",
    "vessel_class = distances_api.get_vessel_classes(VesselClassFilter(name_like='vlcc'))[0]\n",
    "distanceInNM = distances_api.get_port_to_port_distance(vessel_class, LoadingCondition.BALLAST, load_port, discharge_port)\n",
    "\n",
    "print(distanceInNM)"
   ]
  },
  {
   "source": [
    "## Create a distance matrix\n",
    "Find distance in NM for a Aframax vessel from Trieste to every available port. Persist the output in an excel file."
   ],
   "cell_type": "markdown",
   "metadata": {}
  },
  {
   "cell_type": "code",
   "execution_count": 3,
   "metadata": {},
   "outputs": [],
   "source": [
    "distancesFromTriesteDictionary = {}\n",
    "\n",
    "port_from = tuple(PortFilter(name_like='Trieste')._apply(all_ports))[0]\n",
    "ports_to_get_distance = ['Rotterdam','Singapore','Lome','Long Beach','Galveston','Pazflor','Bonny','Ras Tanura','Houston','Escravos']\n",
    "\n",
    "for port_to_filter in ports_to_get_distance:\n",
    "    port_to = tuple(PortFilter(name_like=port_to_filter)._apply(all_ports))[0]\n",
    "    distanceInNM = distances_api.get_port_to_port_distance(vessel_class, LoadingCondition.BALLAST, port_from, port_to)\n",
    "    distancesFromTriesteDictionary[port_to.name] = distanceInNM"
   ]
  },
  {
   "cell_type": "code",
   "execution_count": 4,
   "metadata": {},
   "outputs": [
    {
     "output_type": "stream",
     "name": "stdout",
     "text": [
      "                            0\nRotterdam             3079.19\nSingapore             6386.87\nLome                  4688.84\nLong Beach           13980.85\nGalveston             6403.92\nPazflor               5500.45\nBonny                 5027.66\nRas Tanura            4480.52\nHouston     6430.570000000001\nEscravos              4884.11\n"
     ]
    }
   ],
   "source": [
    "import pandas as pd\n",
    "import openpyxl\n",
    "\n",
    "df = pd.DataFrame(data=distancesFromTriesteDictionary, index=[0])\n",
    "df = (df.T)\n",
    "\n",
    "print (df)\n",
    "\n",
    "df.to_excel('simpleDistanceMatrix_Trieste_Aframax_Ballast.xlsx')"
   ]
  }
 ],
 "metadata": {
  "kernelspec": {
   "display_name": "Python 3",
   "language": "python",
   "name": "python3"
  },
  "language_info": {
   "codemirror_mode": {
    "name": "ipython",
    "version": 3
   },
   "file_extension": ".py",
   "mimetype": "text/x-python",
   "name": "python",
   "nbconvert_exporter": "python",
   "pygments_lexer": "ipython3",
   "version": "3.8.5-final"
  }
 },
 "nbformat": 4,
 "nbformat_minor": 4
}