{
 "cells": [
  {
   "cell_type": "markdown",
   "metadata": {},
   "source": [
    "# Distances API Example\n",
    "\n",
    "## Run this example in [Colab](https://colab.research.google.com/github/SignalOceanSdk/SignalSDK/blob/master/docs/examples/jupyter/DistancesAPI/QuickStartDistancesAPI.ipynb)"
   ]
  },
  {
   "cell_type": "markdown",
   "metadata": {},
   "source": [
    "## Setup\n",
    "Install the Signal Ocean SDK:\n",
    "```\n",
    "pip install signal-ocean\n",
    "```\n",
    "Set your subscription key acquired here: https://apis.signalocean.com/profile"
   ]
  },
  {
   "cell_type": "code",
   "execution_count": 1,
   "metadata": {},
   "outputs": [],
   "source": [
    "pip install signal-ocean"
   ]
  },
  {
   "cell_type": "code",
   "execution_count": 2,
   "metadata": {},
   "outputs": [],
   "source": [
    "signal_ocean_api_key = '' #replace with your subscription key"
   ]
  },
  {
   "cell_type": "markdown",
   "metadata": {},
   "source": [
    "## Calculate a distance over 2 ports\n",
    "\n",
    "Create a connections towards distances API.\n",
    "Then call the distance API to get a distance between Fuijairah and Singapore for a VLCC vessel (corresponding restrictions applied)"
   ]
  },
  {
   "cell_type": "code",
   "execution_count": 3,
   "metadata": {},
   "outputs": [
    {
     "name": "stdout",
     "output_type": "stream",
     "text": [
      "3302.86\n"
     ]
    }
   ],
   "source": [
    "from signal_ocean import Connection\n",
    "from signal_ocean.distances import DistancesAPI, VesselClassFilter, PortFilter, LoadingCondition\n",
    "\n",
    "connection = Connection(api_key=signal_ocean_api_key)\n",
    "distances_api = DistancesAPI(connection)\n",
    "\n",
    "load_port = distances_api.get_ports(PortFilter(name_like='Fujairah'))[0]\n",
    "discharge_port = distances_api.get_ports(PortFilter(name_like='Singapore'))[0]\n",
    "\n",
    "vessel_class = distances_api.get_vessel_classes(VesselClassFilter(name_like='vlcc'))[0]\n",
    "distanceInNM = distances_api.get_port_to_port_distance(vessel_class, LoadingCondition.BALLAST, load_port, discharge_port)\n",
    "\n",
    "print(distanceInNM)"
   ]
  },
  {
   "cell_type": "markdown",
   "metadata": {},
   "source": [
    "## Create a distance matrix\n",
    "Find distance in NM for a Aframax vessel from Trieste to every available port. Persist the output in an excel file."
   ]
  },
  {
   "cell_type": "code",
   "execution_count": 4,
   "metadata": {},
   "outputs": [],
   "source": [
    "distancesFromTriesteDictionary = {}\n",
    "\n",
    "port_from = distances_api.get_ports(PortFilter(name_like='Trieste'))[0]\n",
    "ports_to_get_distance = ['Rotterdam','Singapore','Lome','Long Beach','Galveston','Pazflor','Bonny','Ras Tanura','Houston','Escravos']\n",
    "\n",
    "for port_to_filter in ports_to_get_distance:\n",
    "    port_to = distances_api.get_ports(PortFilter(name_like=port_to_filter))[0]\n",
    "    distanceInNM = distances_api.get_port_to_port_distance(vessel_class, LoadingCondition.BALLAST, port_from, port_to)\n",
    "    distancesFromTriesteDictionary[port_to.name] = float(distanceInNM)"
   ]
  },
  {
   "cell_type": "code",
   "execution_count": 5,
   "metadata": {},
   "outputs": [
    {
     "data": {
      "text/html": [
       "<div>\n",
       "<style scoped>\n",
       "    .dataframe tbody tr th:only-of-type {\n",
       "        vertical-align: middle;\n",
       "    }\n",
       "\n",
       "    .dataframe tbody tr th {\n",
       "        vertical-align: top;\n",
       "    }\n",
       "\n",
       "    .dataframe thead th {\n",
       "        text-align: right;\n",
       "    }\n",
       "</style>\n",
       "<table border=\"1\" class=\"dataframe\">\n",
       "  <thead>\n",
       "    <tr style=\"text-align: right;\">\n",
       "      <th></th>\n",
       "      <th>0</th>\n",
       "    </tr>\n",
       "  </thead>\n",
       "  <tbody>\n",
       "    <tr>\n",
       "      <th>Rotterdam</th>\n",
       "      <td>3,079.19</td>\n",
       "    </tr>\n",
       "    <tr>\n",
       "      <th>Singapore</th>\n",
       "      <td>6,386.87</td>\n",
       "    </tr>\n",
       "    <tr>\n",
       "      <th>Lome</th>\n",
       "      <td>4,688.84</td>\n",
       "    </tr>\n",
       "    <tr>\n",
       "      <th>Long Beach</th>\n",
       "      <td>13,980.85</td>\n",
       "    </tr>\n",
       "    <tr>\n",
       "      <th>Galveston</th>\n",
       "      <td>6,403.92</td>\n",
       "    </tr>\n",
       "    <tr>\n",
       "      <th>Pazflor</th>\n",
       "      <td>5,500.45</td>\n",
       "    </tr>\n",
       "    <tr>\n",
       "      <th>Bonny</th>\n",
       "      <td>5,027.66</td>\n",
       "    </tr>\n",
       "    <tr>\n",
       "      <th>Ras Tanura</th>\n",
       "      <td>4,480.52</td>\n",
       "    </tr>\n",
       "    <tr>\n",
       "      <th>Houston</th>\n",
       "      <td>6,430.57</td>\n",
       "    </tr>\n",
       "    <tr>\n",
       "      <th>Escravos</th>\n",
       "      <td>4,884.11</td>\n",
       "    </tr>\n",
       "  </tbody>\n",
       "</table>\n",
       "</div>"
      ],
      "text/plain": [
       "                   0\n",
       "Rotterdam   3,079.19\n",
       "Singapore   6,386.87\n",
       "Lome        4,688.84\n",
       "Long Beach 13,980.85\n",
       "Galveston   6,403.92\n",
       "Pazflor     5,500.45\n",
       "Bonny       5,027.66\n",
       "Ras Tanura  4,480.52\n",
       "Houston     6,430.57\n",
       "Escravos    4,884.11"
      ]
     },
     "execution_count": 5,
     "metadata": {},
     "output_type": "execute_result"
    }
   ],
   "source": [
    "import pandas as pd\n",
    "import openpyxl\n",
    "\n",
    "df = pd.DataFrame(data=distancesFromTriesteDictionary, index=[0])\n",
    "pd.options.display.float_format = '{:,.2f}'.format\n",
    "df = (df.T)\n",
    "df.to_excel('simpleDistanceMatrix_Trieste_Aframax_Ballast.xlsx')\n",
    "df"
   ]
  }
 ],
 "metadata": {
  "kernelspec": {
   "display_name": "Python 3",
   "language": "python",
   "name": "python3"
  },
  "language_info": {
   "codemirror_mode": {
    "name": "ipython",
    "version": 3
   },
   "file_extension": ".py",
   "mimetype": "text/x-python",
   "name": "python",
   "nbconvert_exporter": "python",
   "pygments_lexer": "ipython3",
   "version": "3.8.5-final"
  }
 },
 "nbformat": 4,
 "nbformat_minor": 4
}
