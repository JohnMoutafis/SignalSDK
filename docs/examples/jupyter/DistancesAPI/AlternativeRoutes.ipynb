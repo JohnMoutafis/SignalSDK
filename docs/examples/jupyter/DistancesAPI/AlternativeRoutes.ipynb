{
 "cells": [
  {
   "cell_type": "markdown",
   "metadata": {},
   "source": [
    "# Distances API - Alternative Routes Example\n",
    "\n",
    "## Run this example in [Colab](https://colab.research.google.com/github/SignalOceanSdk/SignalSDK/blob/master/docs/examples/jupyter/DistancesAPI/AlternativeRoutes.ipynb)\n",
    "\n",
    "## Setup\n",
    "Install the Signal Ocean SDK:\n",
    "```\n",
    "pip install signal-ocean\n",
    "```\n",
    "Subscribe to the Distances API at https://apis.signalocean.com/ to get a subscription key. Use the key to configure your connection to the API:"
   ]
  },
  {
   "cell_type": "code",
   "execution_count": null,
   "metadata": {},
   "outputs": [],
   "source": [
    "pip install signal-ocean"
   ]
  },
  {
   "cell_type": "code",
   "execution_count": null,
   "metadata": {},
   "outputs": [],
   "source": [
    "pip install folium"
   ]
  },
  {
   "cell_type": "code",
   "execution_count": 1,
   "metadata": {},
   "outputs": [],
   "source": [
    "from signal_ocean import Connection\n",
    "\n",
    "subscription_key = \"\" # paste your subscription key here\n",
    "connection = Connection(subscription_key)"
   ]
  },
  {
   "cell_type": "markdown",
   "metadata": {},
   "source": [
    "## Get a route and its alternatives\n",
    "To get a route along with all possible alternative routes, use the `get_generic_point_to_point_route` method and set the `get_alternatives` parameter to `True`. For example, to find all possible routes between the ports in Milazzo and Basrah:"
   ]
  },
  {
   "cell_type": "code",
   "execution_count": 2,
   "metadata": {},
   "outputs": [],
   "source": [
    "from decimal import Decimal\n",
    "from signal_ocean.distances import DistancesAPI, Point\n",
    "\n",
    "distances_api = DistancesAPI(connection)\n",
    "\n",
    "milazzo_coordinates = Point(Decimal(\"38.2115\"), Decimal(\"15.2665\"))\n",
    "basrah_coordinates = Point(Decimal(\"29.6964\"), Decimal(\"48.8095\"))\n",
    "\n",
    "main_route = distances_api.get_generic_point_to_point_route(milazzo_coordinates, basrah_coordinates, get_alternatives=True)"
   ]
  },
  {
   "cell_type": "markdown",
   "metadata": {},
   "source": [
    "The return value is a route that contains a list of its alternatives:"
   ]
  },
  {
   "cell_type": "code",
   "execution_count": 3,
   "metadata": {},
   "outputs": [
    {
     "name": "stdout",
     "output_type": "stream",
     "text": [
      "Main route distance: 4291.93\n",
      "Alternative routes: 2\n",
      "Alternative 1 distance: 4581.4\n",
      "Alternative 2 distance: 11268.02\n"
     ]
    }
   ],
   "source": [
    "print(\"Main route distance:\", main_route.distance)\n",
    "print(\"Alternative routes:\", len(main_route.alternative_paths))\n",
    "for n, alternative in enumerate(main_route.alternative_paths, start=1):\n",
    "    print(f\"Alternative {n} distance: {alternative.distance}\")"
   ]
  },
  {
   "cell_type": "markdown",
   "metadata": {},
   "source": [
    "## Visualize the routes\n",
    "To display the routes on a map:"
   ]
  },
  {
   "cell_type": "code",
   "execution_count": 4,
   "metadata": {},
   "outputs": [
    {
     "data": {
      "text/html": [
       "<div style=\"width:100%;\"><div style=\"position:relative;width:100%;height:0;padding-bottom:60%;\"><span style=\"color:#565656\">Make this Notebook Trusted to load map: File -> Trust Notebook</span><iframe src=\"about:blank\" style=\"position:absolute;width:100%;height:100%;left:0;top:0;border:none !important;\" data-html=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 onload=\"this.contentDocument.open();this.contentDocument.write(atob(this.getAttribute('data-html')));this.contentDocument.close();\" allowfullscreen webkitallowfullscreen mozallowfullscreen></iframe></div></div>"
      ],
      "text/plain": [
       "<folium.folium.Map at 0x5bbe8c8>"
      ]
     },
     "execution_count": 4,
     "metadata": {},
     "output_type": "execute_result"
    }
   ],
   "source": [
    "import folium\n",
    "\n",
    "m = folium.Map()\n",
    "folium.Marker([milazzo_coordinates.lat, milazzo_coordinates.lon], popup=\"Milazzo\").add_to(m)\n",
    "folium.Marker([basrah_coordinates.lat, basrah_coordinates.lon], popup=\"Basrah\").add_to(m)\n",
    "\n",
    "all_routes = [main_route.calculated_route] + [alternative.calculated_route for alternative in main_route.alternative_paths]\n",
    "colors = [\"red\", \"blue\", \"green\", \"purple\", \"orange\"]\n",
    "\n",
    "for index, route in enumerate(all_routes):\n",
    "    folium.PolyLine([[float(point.lat), float(point.lon)] for point in route], color=colors[index % len(colors)]).add_to(m)\n",
    "\n",
    "latitudes = [float(point.lat) for point in route for route in all_routes]\n",
    "longitudes = [float(point.lon) for point in route for route in all_routes]\n",
    "m.fit_bounds([\n",
    "    [min(latitudes), min(longitudes)],\n",
    "    [max(latitudes), max(longitudes)],\n",
    "])\n",
    "\n",
    "m"
   ]
  }
 ],
 "metadata": {
  "kernelspec": {
   "display_name": "Python 3",
   "language": "python",
   "name": "python3"
  },
  "language_info": {
   "codemirror_mode": {
    "name": "ipython",
    "version": 3
   },
   "file_extension": ".py",
   "mimetype": "text/x-python",
   "name": "python",
   "nbconvert_exporter": "python",
   "pygments_lexer": "ipython3",
   "version": "3.8.5-final"
  }
 },
 "nbformat": 4,
 "nbformat_minor": 4
}
