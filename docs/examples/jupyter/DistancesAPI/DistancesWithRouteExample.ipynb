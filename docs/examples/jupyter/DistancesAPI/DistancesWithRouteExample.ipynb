{
 "cells": [
  {
   "cell_type": "markdown",
   "metadata": {},
   "source": [
    "# Distances API Route Example"
   ]
  },
  {
   "cell_type": "markdown",
   "metadata": {},
   "source": [
    "## Setup\n",
    "Install the Signal Ocean SDK:\n",
    "```\n",
    "pip install signal-ocean\n",
    "```\n",
    "Set your subscription key acquired here: https://apis.signalocean.com/profile"
   ]
  },
  {
   "cell_type": "code",
   "execution_count": 1,
   "metadata": {},
   "outputs": [],
   "source": [
    "pip install signal-ocean"
   ]
  },
  {
   "cell_type": "code",
   "execution_count": null,
   "metadata": {},
   "outputs": [],
   "source": [
    "pip install folium"
   ]
  },
  {
   "cell_type": "code",
   "execution_count": 2,
   "metadata": {},
   "outputs": [],
   "source": [
    "signal_ocean_api_key = '' #replace with your subscription key"
   ]
  },
  {
   "cell_type": "markdown",
   "metadata": {},
   "source": [
    "## Get the route between 2 ports\n",
    "\n",
    "Create a connections towards distances API.\n",
    "Then call the distance API to get the actual route between Basrah and Milazzo for a Suezmax vessel (corresponding restrictions applied)"
   ]
  },
  {
   "cell_type": "code",
   "execution_count": 3,
   "metadata": {},
   "outputs": [],
   "source": [
    "from signal_ocean import Connection\n",
    "from signal_ocean.distances import DistancesAPI, VesselClassFilter, PortFilter, LoadingCondition\n",
    "\n",
    "connection = Connection(api_key=signal_ocean_api_key)\n",
    "distances_api = DistancesAPI(connection)\n",
    "\n",
    "load_port = distances_api.get_ports(PortFilter(name_like='Basrah'))[0]\n",
    "discharge_port = distances_api.get_ports(PortFilter(name_like='Milazzo'))[0]\n",
    "\n",
    "vessel_class = distances_api.get_vessel_classes(VesselClassFilter(name_like='suezmax'))[0]\n",
    "routeResponse = distances_api.get_port_to_port_route(vessel_class, LoadingCondition.BALLAST, load_port, discharge_port)"
   ]
  },
  {
   "cell_type": "markdown",
   "metadata": {},
   "source": [
    "## Display some properties for the route\n",
    "The route response objects holds information on properties regarding the route like:\n",
    "- The total distance covered.\n",
    "- The seca distance covered within the route.\n",
    "- The hra distance covered within the route.\n",
    "- Any significant routing points met across the route (i.e: Suez)"
   ]
  },
  {
   "cell_type": "code",
   "execution_count": 4,
   "metadata": {},
   "outputs": [
    {
     "output_type": "stream",
     "name": "stdout",
     "text": [
      "Total distance: 4574.86\nSeca distance: 0\nHra distance: 1301.22\nSignificant routing points: ['Suez']\n"
     ]
    }
   ],
   "source": [
    "\n",
    "print(f\"Total distance: {routeResponse.distance}\")\n",
    "print(f\"Seca distance: {routeResponse.seca_distance}\")\n",
    "print(f\"Hra distance: {routeResponse.piracy_distance}\")\n",
    "print(f\"Significant routing points: {[(routing_point.name) for routing_point in routeResponse.routing_points_on_route if routing_point.is_shown]}\")\n"
   ]
  },
  {
   "cell_type": "markdown",
   "metadata": {},
   "source": [
    "## Display the route on a map\n",
    "\n",
    "Finally you can get all route coordinates and display them on the map."
   ]
  },
  {
   "cell_type": "code",
   "execution_count": 5,
   "metadata": {},
   "outputs": [
    {
     "output_type": "execute_result",
     "data": {
      "text/plain": [
       "<folium.folium.Map at 0x71c7940>"
      ],
      "text/html": "<div style=\"width:100%;\"><div style=\"position:relative;width:100%;height:0;padding-bottom:60%;\"><span style=\"color:#565656\">Make this Notebook Trusted to load map: File -> Trust Notebook</span><iframe src=\"about:blank\" style=\"position:absolute;width:100%;height:100%;left:0;top:0;border:none !important;\" data-html=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 onload=\"this.contentDocument.open();this.contentDocument.write(atob(this.getAttribute('data-html')));this.contentDocument.close();\" allowfullscreen webkitallowfullscreen mozallowfullscreen></iframe></div></div>"
     },
     "metadata": {},
     "execution_count": 5
    }
   ],
   "source": [
    "import folium\n",
    "\n",
    "coordinatesList = []\n",
    "for point in routeResponse.calculated_route:\n",
    "    newList = [point.lat, point.lon]\n",
    "    coordinatesList.append(newList)\n",
    "m = folium.Map(zoom_start=10)\n",
    "gh_fg = folium.FeatureGroup(name=f\"Path ({load_port.name}) -> ({discharge_port.name})\").add_to(m)\n",
    "folium.PolyLine(locations=coordinatesList, weight=2, color='cadetblue').add_to(gh_fg)\n",
    "folium.LayerControl().add_to(m)\n",
    "\n",
    "#Get bounding box of route:\n",
    "bbox = [[float(routeResponse.bbox[1]), float(routeResponse.bbox[0])], [float(routeResponse.bbox[3]), float(routeResponse.bbox[2])]]\n",
    "m.fit_bounds(bbox)\n",
    "\n",
    "#put some markers to display start and stop\n",
    "folium.Marker(\n",
    "    location=[routeResponse.start_point.lat, routeResponse.start_point.lon],\n",
    "    popup= load_port.name,\n",
    "    icon=folium.Icon(color='green')\n",
    ").add_to(m)\n",
    "\n",
    "folium.Marker(\n",
    "    location=[routeResponse.end_point.lat, routeResponse.end_point.lon],\n",
    "    popup= discharge_port.name,\n",
    "    icon=folium.Icon(color='red')\n",
    ").add_to(m)\n",
    "\n",
    "m"
   ]
  }
 ],
 "metadata": {
  "kernelspec": {
   "display_name": "Python 3",
   "language": "python",
   "name": "python3"
  },
  "language_info": {
   "codemirror_mode": {
    "name": "ipython",
    "version": 3
   },
   "file_extension": ".py",
   "mimetype": "text/x-python",
   "name": "python",
   "nbconvert_exporter": "python",
   "pygments_lexer": "ipython3",
   "version": "3.8.5-final"
  }
 },
 "nbformat": 4,
 "nbformat_minor": 4
}