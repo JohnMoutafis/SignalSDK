{
 "cells": [
  {
   "cell_type": "markdown",
   "metadata": {
    "id": "pLubipKzOyvL",
    "pycharm": {
     "name": "#%% md\n"
    }
   },
   "source": [
    "# Voyages API Example\n",
    "\n",
    "## Run this example in [Colab](https://colab.research.google.com/github/SignalOceanSdk/SignalSDK/blob/master/docs/examples/jupyter/VoyagesAPI/VoyagesAPI.ipynb). "
   ]
  },
  {
   "cell_type": "markdown",
   "metadata": {
    "id": "aXN078DoOyvP",
    "pycharm": {
     "name": "#%% md\n"
    }
   },
   "source": [
    "## Setup\n",
    "Install the Signal Ocean SDK:\n",
    "```\n",
    "pip install signal-ocean\n",
    "```\n",
    "Set your subscription key acquired here: https://apis.signalocean.com/profile"
   ]
  },
  {
   "cell_type": "code",
   "execution_count": 20,
   "metadata": {
    "colab": {
     "base_uri": "https://localhost:8080/"
    },
    "id": "9bJiz_f0OyvQ",
    "outputId": "79d748c6-f3ef-4528-fd32-0999b0304c03",
    "pycharm": {
     "name": "#%%\n"
    }
   },
   "outputs": [
    {
     "name": "stdout",
     "output_type": "stream",
     "text": [
      "Requirement already satisfied: signal-ocean in c:\\users\\kimon\\workspace\\signalsdk (2.0.0)\n",
      "Requirement already satisfied: requests<3,>=2.23.0 in c:\\users\\kimon\\workspace\\signalsdk\\venv2\\lib\\site-packages (from signal-ocean) (2.28.1)\n",
      "Requirement already satisfied: python-dateutil<3,>=2.8.1 in c:\\users\\kimon\\workspace\\signalsdk\\venv2\\lib\\site-packages (from signal-ocean) (2.8.2)\n",
      "Requirement already satisfied: pandas<2,>=1.0.3 in c:\\users\\kimon\\workspace\\signalsdk\\venv2\\lib\\site-packages (from signal-ocean) (1.3.0)\n",
      "Requirement already satisfied: numpy>=1.18.5 in c:\\users\\kimon\\workspace\\signalsdk\\venv2\\lib\\site-packages (from signal-ocean) (1.23.5)\n",
      "Requirement already satisfied: strictly-typed-pandas==0.1.4 in c:\\users\\kimon\\workspace\\signalsdk\\venv2\\lib\\site-packages (from signal-ocean) (0.1.4)\n",
      "Requirement already satisfied: typeguard>=2.13.3 in c:\\users\\kimon\\workspace\\signalsdk\\venv2\\lib\\site-packages (from signal-ocean) (2.13.3)\n",
      "Requirement already satisfied: pandas-stubs in c:\\users\\kimon\\workspace\\signalsdk\\venv2\\lib\\site-packages (from strictly-typed-pandas==0.1.4->signal-ocean) (1.4.3.220718)\n",
      "Requirement already satisfied: pytz>=2017.3 in c:\\users\\kimon\\workspace\\signalsdk\\venv2\\lib\\site-packages (from pandas<2,>=1.0.3->signal-ocean) (2020.1)\n",
      "Requirement already satisfied: six>=1.5 in c:\\users\\kimon\\workspace\\signalsdk\\venv2\\lib\\site-packages (from python-dateutil<3,>=2.8.1->signal-ocean) (1.15.0)\n",
      "Requirement already satisfied: charset-normalizer<3,>=2 in c:\\users\\kimon\\workspace\\signalsdk\\venv2\\lib\\site-packages (from requests<3,>=2.23.0->signal-ocean) (2.1.1)\n",
      "Requirement already satisfied: certifi>=2017.4.17 in c:\\users\\kimon\\workspace\\signalsdk\\venv2\\lib\\site-packages (from requests<3,>=2.23.0->signal-ocean) (2020.4.5.1)\n",
      "Requirement already satisfied: urllib3<1.27,>=1.21.1 in c:\\users\\kimon\\workspace\\signalsdk\\venv2\\lib\\site-packages (from requests<3,>=2.23.0->signal-ocean) (1.25.9)\n",
      "Requirement already satisfied: idna<4,>=2.5 in c:\\users\\kimon\\workspace\\signalsdk\\venv2\\lib\\site-packages (from requests<3,>=2.23.0->signal-ocean) (2.9)\n",
      "Requirement already satisfied: types-pytz>=2022.1.1 in c:\\users\\kimon\\workspace\\signalsdk\\venv2\\lib\\site-packages (from pandas-stubs->strictly-typed-pandas==0.1.4->signal-ocean) (2022.1.2)\n",
      "\n",
      "[notice] A new release of pip available: 22.2 -> 23.0.1\n",
      "[notice] To update, run: python.exe -m pip install --upgrade pip\n"
     ]
    }
   ],
   "source": [
    "!pip install signal-ocean"
   ]
  },
  {
   "cell_type": "code",
   "execution_count": 21,
   "metadata": {
    "id": "poC0RHOcOyvR",
    "pycharm": {
     "name": "#%%\n"
    }
   },
   "outputs": [],
   "source": [
    "signal_ocean_api_key = '' #replace with your subscription key"
   ]
  },
  {
   "cell_type": "markdown",
   "metadata": {
    "id": "QzHwIp20OyvS",
    "pycharm": {
     "name": "#%% md\n"
    }
   },
   "source": [
    "## Call the Voyages API\n",
    "The Voyages API retrieves information about vessel voyages."
   ]
  },
  {
   "cell_type": "code",
   "execution_count": 22,
   "metadata": {
    "id": "VaLkKseYOyvT",
    "pycharm": {
     "name": "#%%\n"
    }
   },
   "outputs": [],
   "source": [
    "from signal_ocean import Connection\n",
    "from signal_ocean.voyages import VoyagesAPI\n",
    "from signal_ocean.voyages import Vessel, VesselFilter\n",
    "from signal_ocean.voyages import VesselType, VesselTypeFilter\n",
    "from signal_ocean.voyages import VesselClass, VesselClassFilter\n",
    "import pandas as pd\n",
    "from datetime import date, timedelta"
   ]
  },
  {
   "cell_type": "code",
   "execution_count": 23,
   "metadata": {
    "id": "bSu1XgNTOyvT",
    "pycharm": {
     "name": "#%%\n"
    }
   },
   "outputs": [],
   "source": [
    "connection = Connection(signal_ocean_api_key)\n",
    "api = VoyagesAPI(connection)"
   ]
  },
  {
   "cell_type": "markdown",
   "metadata": {
    "id": "G6tGahRbOyvU",
    "pycharm": {
     "name": "#%% md\n"
    }
   },
   "source": [
    "### Get voyages for vessel"
   ]
  },
  {
   "cell_type": "code",
   "execution_count": 24,
   "metadata": {
    "colab": {
     "base_uri": "https://localhost:8080/"
    },
    "id": "TgqUa2VkQGH1",
    "outputId": "21dbd2a9-a52a-4376-b0fa-5384f01d5611",
    "pycharm": {
     "name": "#%%\n"
    }
   },
   "outputs": [
    {
     "data": {
      "text/plain": "Vessel(imo=9292187, vessel_name='Gold Pearl')"
     },
     "execution_count": 24,
     "metadata": {},
     "output_type": "execute_result"
    }
   ],
   "source": [
    "# get the imo by using the vessel name\n",
    "vessel = api.get_imos(VesselFilter('Gold Pearl'))[0]\n",
    "vessel"
   ]
  },
  {
   "cell_type": "code",
   "execution_count": 25,
   "metadata": {
    "id": "sdwh-04uOyvU",
    "pycharm": {
     "name": "#%%\n"
    }
   },
   "outputs": [],
   "source": [
    "vessel_voyages = api.get_voyages(imo=vessel.imo)"
   ]
  },
  {
   "cell_type": "code",
   "execution_count": 26,
   "metadata": {
    "colab": {
     "base_uri": "https://localhost:8080/",
     "height": 409
    },
    "id": "JFd0wslmOyvV",
    "outputId": "e2de31e6-bb3e-4945-f05b-79a34c122853",
    "pycharm": {
     "name": "#%%\n"
    }
   },
   "outputs": [
    {
     "data": {
      "text/plain": "        imo  voyage_number  vessel_type_id  vessel_class_id  vessel_status_id  \\\n62  9292187             63               1               84                 1   \n63  9292187             64               1               84                 1   \n64  9292187             65               1               84                 1   \n65  9292187             66               1               84                 1   \n66  9292187             67               1               84                 1   \n\n    commercial_operator_id  deleted  \\\n62                  1684.0    False   \n63                  1684.0    False   \n64                  1684.0    False   \n65                  1684.0    False   \n66                     NaN    False   \n\n                                               events                 id  \\\n62  (VoyageEvent(id='I8DC99BSEDA976100', port_id=3...  I8DC99BVEDA976100   \n63  (VoyageEvent(id='I8DC99BSEDABEEE00', port_id=3...  I8DC99BVEDABEEE00   \n64  (VoyageEvent(id='I8DC99BSEDB0E0800', port_id=7...  I8DC99BVEDB0E0800   \n65  (VoyageEvent(id='I8DC99BSEDB359500', port_id=3...  I8DC99BVEDB359500   \n66  (VoyageEvent(id='I8DC99BSEDB5D2200', port_id=7...  I8DC99BVEDB5D2200   \n\n    horizon_id  ... is_implied_by_ais has_manual_entries ballast_distance  \\\n62           1  ...              None               None          4531.50   \n63           1  ...              None               None          3831.88   \n64           1  ...              None               None          4612.85   \n65           1  ...              None               None          5422.68   \n66           2  ...              True               None          8591.59   \n\n   predicted_ballast_distance laden_distance predicted_laden_distance  \\\n62                        NaN        3968.99                      NaN   \n63                        NaN        4588.66                      NaN   \n64                        NaN        5273.31                      NaN   \n65                        NaN        4631.81                      NaN   \n66                     185.74            NaN                  9748.04   \n\n   suez_crossing  panama_crossing canakkale_crossing  bosporus_crossing  \n62          None             None               None               None  \n63          None             None               None               None  \n64          None             None               None               None  \n65          None             None               None               None  \n66          None             None               None               None  \n\n[5 rows x 55 columns]",
      "text/html": "<div>\n<style scoped>\n    .dataframe tbody tr th:only-of-type {\n        vertical-align: middle;\n    }\n\n    .dataframe tbody tr th {\n        vertical-align: top;\n    }\n\n    .dataframe thead th {\n        text-align: right;\n    }\n</style>\n<table border=\"1\" class=\"dataframe\">\n  <thead>\n    <tr style=\"text-align: right;\">\n      <th></th>\n      <th>imo</th>\n      <th>voyage_number</th>\n      <th>vessel_type_id</th>\n      <th>vessel_class_id</th>\n      <th>vessel_status_id</th>\n      <th>commercial_operator_id</th>\n      <th>deleted</th>\n      <th>events</th>\n      <th>id</th>\n      <th>horizon_id</th>\n      <th>...</th>\n      <th>is_implied_by_ais</th>\n      <th>has_manual_entries</th>\n      <th>ballast_distance</th>\n      <th>predicted_ballast_distance</th>\n      <th>laden_distance</th>\n      <th>predicted_laden_distance</th>\n      <th>suez_crossing</th>\n      <th>panama_crossing</th>\n      <th>canakkale_crossing</th>\n      <th>bosporus_crossing</th>\n    </tr>\n  </thead>\n  <tbody>\n    <tr>\n      <th>62</th>\n      <td>9292187</td>\n      <td>63</td>\n      <td>1</td>\n      <td>84</td>\n      <td>1</td>\n      <td>1684.0</td>\n      <td>False</td>\n      <td>(VoyageEvent(id='I8DC99BSEDA976100', port_id=3...</td>\n      <td>I8DC99BVEDA976100</td>\n      <td>1</td>\n      <td>...</td>\n      <td>None</td>\n      <td>None</td>\n      <td>4531.50</td>\n      <td>NaN</td>\n      <td>3968.99</td>\n      <td>NaN</td>\n      <td>None</td>\n      <td>None</td>\n      <td>None</td>\n      <td>None</td>\n    </tr>\n    <tr>\n      <th>63</th>\n      <td>9292187</td>\n      <td>64</td>\n      <td>1</td>\n      <td>84</td>\n      <td>1</td>\n      <td>1684.0</td>\n      <td>False</td>\n      <td>(VoyageEvent(id='I8DC99BSEDABEEE00', port_id=3...</td>\n      <td>I8DC99BVEDABEEE00</td>\n      <td>1</td>\n      <td>...</td>\n      <td>None</td>\n      <td>None</td>\n      <td>3831.88</td>\n      <td>NaN</td>\n      <td>4588.66</td>\n      <td>NaN</td>\n      <td>None</td>\n      <td>None</td>\n      <td>None</td>\n      <td>None</td>\n    </tr>\n    <tr>\n      <th>64</th>\n      <td>9292187</td>\n      <td>65</td>\n      <td>1</td>\n      <td>84</td>\n      <td>1</td>\n      <td>1684.0</td>\n      <td>False</td>\n      <td>(VoyageEvent(id='I8DC99BSEDB0E0800', port_id=7...</td>\n      <td>I8DC99BVEDB0E0800</td>\n      <td>1</td>\n      <td>...</td>\n      <td>None</td>\n      <td>None</td>\n      <td>4612.85</td>\n      <td>NaN</td>\n      <td>5273.31</td>\n      <td>NaN</td>\n      <td>None</td>\n      <td>None</td>\n      <td>None</td>\n      <td>None</td>\n    </tr>\n    <tr>\n      <th>65</th>\n      <td>9292187</td>\n      <td>66</td>\n      <td>1</td>\n      <td>84</td>\n      <td>1</td>\n      <td>1684.0</td>\n      <td>False</td>\n      <td>(VoyageEvent(id='I8DC99BSEDB359500', port_id=3...</td>\n      <td>I8DC99BVEDB359500</td>\n      <td>1</td>\n      <td>...</td>\n      <td>None</td>\n      <td>None</td>\n      <td>5422.68</td>\n      <td>NaN</td>\n      <td>4631.81</td>\n      <td>NaN</td>\n      <td>None</td>\n      <td>None</td>\n      <td>None</td>\n      <td>None</td>\n    </tr>\n    <tr>\n      <th>66</th>\n      <td>9292187</td>\n      <td>67</td>\n      <td>1</td>\n      <td>84</td>\n      <td>1</td>\n      <td>NaN</td>\n      <td>False</td>\n      <td>(VoyageEvent(id='I8DC99BSEDB5D2200', port_id=7...</td>\n      <td>I8DC99BVEDB5D2200</td>\n      <td>2</td>\n      <td>...</td>\n      <td>True</td>\n      <td>None</td>\n      <td>8591.59</td>\n      <td>185.74</td>\n      <td>NaN</td>\n      <td>9748.04</td>\n      <td>None</td>\n      <td>None</td>\n      <td>None</td>\n      <td>None</td>\n    </tr>\n  </tbody>\n</table>\n<p>5 rows × 55 columns</p>\n</div>"
     },
     "execution_count": 26,
     "metadata": {},
     "output_type": "execute_result"
    }
   ],
   "source": [
    "vessel_voyages_df = pd.DataFrame([v.__dict__ for v in vessel_voyages])\n",
    "vessel_voyages_df.tail(5)"
   ]
  },
  {
   "cell_type": "code",
   "execution_count": 27,
   "metadata": {
    "id": "MEjdHQ3cOyvW",
    "outputId": "0f167ab2-b1d4-4663-b994-ad1ac06485ea",
    "pycharm": {
     "name": "#%%\n"
    }
   },
   "outputs": [
    {
     "data": {
      "text/plain": "                    id  port_id voyage_id   event_type event_horizon  \\\n391  I8DC99BSEDB5D2200     7359      None  VoyageStart    Historical   \n392  I8DC99BTEDB84AF00     3794      None         Stop    Historical   \n393  I8DC99BTEDBAC3C00     3164      None         Stop       Current   \n394  I8DC99BTEDBB96B00     3167      None     PortCall        Future   \n395  I8DC99BTEDBD3C900     3303      None     PortCall        Future   \n\n       purpose                event_date                     arrival_date  \\\n391      Start 2023-02-19 03:57:06+00:00                              NaT   \n392       Stop                       NaT        2023-02-22 07:56:28+00:00   \n393       Stop                       NaT        2023-03-25 19:34:04+00:00   \n394       Load                       NaT 2023-04-07 01:33:14.693000+00:00   \n395  Discharge                       NaT 2023-05-12 22:09:27.737000+00:00   \n\n                        sailing_date  latitude  ...  area_idlevel0  \\\n391                              NaT   12.6359  ...          24770   \n392        2023-02-27 15:55:07+00:00    1.2675  ...          24655   \n393        2023-04-06 12:01:19+00:00   -6.4718  ...          24772   \n394 2023-04-10 00:40:17.307000+00:00   -5.4876  ...          24772   \n395 2023-05-18 18:10:35.498000+00:00   36.0409  ...          24666   \n\n          area_name_level0 area_idlevel1 area_name_level1  area_idlevel2  \\\n391     Thailand / Vietnam            23  South East Asia             99   \n392   Singapore / Malaysia            23  South East Asia             99   \n393  Africa Atlantic Coast            37      West Africa          25018   \n394  Africa Atlantic Coast            37      West Africa          25018   \n395            North China            17   China / Taiwan             99   \n\n    area_name_level2  area_idlevel3 area_name_level3  low_ais_density  \\\n391         Far East             84             East             None   \n392         Far East             84             East             None   \n393           Africa          25027           Africa             None   \n394           Africa          25027           Africa             True   \n395         Far East             84             East             True   \n\n                                         event_details  \n391                                               None  \n392  (VoyageEventDetail(id='I8DC99BLEDB84AF00', eve...  \n393  (VoyageEventDetail(id='I8DC99BLEDBAC3C00', eve...  \n394                                               None  \n395                                               None  \n\n[5 rows x 26 columns]",
      "text/html": "<div>\n<style scoped>\n    .dataframe tbody tr th:only-of-type {\n        vertical-align: middle;\n    }\n\n    .dataframe tbody tr th {\n        vertical-align: top;\n    }\n\n    .dataframe thead th {\n        text-align: right;\n    }\n</style>\n<table border=\"1\" class=\"dataframe\">\n  <thead>\n    <tr style=\"text-align: right;\">\n      <th></th>\n      <th>id</th>\n      <th>port_id</th>\n      <th>voyage_id</th>\n      <th>event_type</th>\n      <th>event_horizon</th>\n      <th>purpose</th>\n      <th>event_date</th>\n      <th>arrival_date</th>\n      <th>sailing_date</th>\n      <th>latitude</th>\n      <th>...</th>\n      <th>area_idlevel0</th>\n      <th>area_name_level0</th>\n      <th>area_idlevel1</th>\n      <th>area_name_level1</th>\n      <th>area_idlevel2</th>\n      <th>area_name_level2</th>\n      <th>area_idlevel3</th>\n      <th>area_name_level3</th>\n      <th>low_ais_density</th>\n      <th>event_details</th>\n    </tr>\n  </thead>\n  <tbody>\n    <tr>\n      <th>391</th>\n      <td>I8DC99BSEDB5D2200</td>\n      <td>7359</td>\n      <td>None</td>\n      <td>VoyageStart</td>\n      <td>Historical</td>\n      <td>Start</td>\n      <td>2023-02-19 03:57:06+00:00</td>\n      <td>NaT</td>\n      <td>NaT</td>\n      <td>12.6359</td>\n      <td>...</td>\n      <td>24770</td>\n      <td>Thailand / Vietnam</td>\n      <td>23</td>\n      <td>South East Asia</td>\n      <td>99</td>\n      <td>Far East</td>\n      <td>84</td>\n      <td>East</td>\n      <td>None</td>\n      <td>None</td>\n    </tr>\n    <tr>\n      <th>392</th>\n      <td>I8DC99BTEDB84AF00</td>\n      <td>3794</td>\n      <td>None</td>\n      <td>Stop</td>\n      <td>Historical</td>\n      <td>Stop</td>\n      <td>NaT</td>\n      <td>2023-02-22 07:56:28+00:00</td>\n      <td>2023-02-27 15:55:07+00:00</td>\n      <td>1.2675</td>\n      <td>...</td>\n      <td>24655</td>\n      <td>Singapore / Malaysia</td>\n      <td>23</td>\n      <td>South East Asia</td>\n      <td>99</td>\n      <td>Far East</td>\n      <td>84</td>\n      <td>East</td>\n      <td>None</td>\n      <td>(VoyageEventDetail(id='I8DC99BLEDB84AF00', eve...</td>\n    </tr>\n    <tr>\n      <th>393</th>\n      <td>I8DC99BTEDBAC3C00</td>\n      <td>3164</td>\n      <td>None</td>\n      <td>Stop</td>\n      <td>Current</td>\n      <td>Stop</td>\n      <td>NaT</td>\n      <td>2023-03-25 19:34:04+00:00</td>\n      <td>2023-04-06 12:01:19+00:00</td>\n      <td>-6.4718</td>\n      <td>...</td>\n      <td>24772</td>\n      <td>Africa Atlantic Coast</td>\n      <td>37</td>\n      <td>West Africa</td>\n      <td>25018</td>\n      <td>Africa</td>\n      <td>25027</td>\n      <td>Africa</td>\n      <td>None</td>\n      <td>(VoyageEventDetail(id='I8DC99BLEDBAC3C00', eve...</td>\n    </tr>\n    <tr>\n      <th>394</th>\n      <td>I8DC99BTEDBB96B00</td>\n      <td>3167</td>\n      <td>None</td>\n      <td>PortCall</td>\n      <td>Future</td>\n      <td>Load</td>\n      <td>NaT</td>\n      <td>2023-04-07 01:33:14.693000+00:00</td>\n      <td>2023-04-10 00:40:17.307000+00:00</td>\n      <td>-5.4876</td>\n      <td>...</td>\n      <td>24772</td>\n      <td>Africa Atlantic Coast</td>\n      <td>37</td>\n      <td>West Africa</td>\n      <td>25018</td>\n      <td>Africa</td>\n      <td>25027</td>\n      <td>Africa</td>\n      <td>True</td>\n      <td>None</td>\n    </tr>\n    <tr>\n      <th>395</th>\n      <td>I8DC99BTEDBD3C900</td>\n      <td>3303</td>\n      <td>None</td>\n      <td>PortCall</td>\n      <td>Future</td>\n      <td>Discharge</td>\n      <td>NaT</td>\n      <td>2023-05-12 22:09:27.737000+00:00</td>\n      <td>2023-05-18 18:10:35.498000+00:00</td>\n      <td>36.0409</td>\n      <td>...</td>\n      <td>24666</td>\n      <td>North China</td>\n      <td>17</td>\n      <td>China / Taiwan</td>\n      <td>99</td>\n      <td>Far East</td>\n      <td>84</td>\n      <td>East</td>\n      <td>True</td>\n      <td>None</td>\n    </tr>\n  </tbody>\n</table>\n<p>5 rows × 26 columns</p>\n</div>"
     },
     "execution_count": 27,
     "metadata": {},
     "output_type": "execute_result"
    }
   ],
   "source": [
    "vessel_events_df = pd.DataFrame(e.__dict__ for voyage_events in vessel_voyages_df['events'] for e in voyage_events)\n",
    "vessel_events_df.tail(5)"
   ]
  },
  {
   "cell_type": "code",
   "execution_count": 28,
   "metadata": {
    "id": "FBsyOee5OyvW",
    "outputId": "438d0aea-53f4-4817-cc36-43e9ec82b142",
    "pycharm": {
     "name": "#%%\n"
    }
   },
   "outputs": [
    {
     "data": {
      "text/plain": "                    id event_id event_detail_type              arrival_date  \\\n356  I8DC99BLEDB63B980     None             Jetty 2023-01-29 07:44:32+00:00   \n357  I8DC99BLEDB6A5100     None              Stop 2023-02-02 19:59:27+00:00   \n358  I8DC99BLEDB778000     None             Jetty 2023-02-16 23:51:11+00:00   \n359  I8DC99BLEDB84AF00     None              Stop 2023-02-22 07:56:28+00:00   \n360  I8DC99BLEDBAC3C00     None              Stop 2023-03-25 19:34:04+00:00   \n\n                 sailing_date   start_time_of_operation  \\\n356 2023-02-01 03:31:27+00:00 2023-01-29 19:55:54+00:00   \n357 2023-02-02 23:56:25+00:00                       NaT   \n358 2023-02-19 03:57:06+00:00 2023-02-17 03:53:54+00:00   \n359 2023-02-27 15:55:07+00:00                       NaT   \n360 2023-04-06 12:01:19+00:00                       NaT   \n\n        end_time_of_operation sts_id  geo_asset_id  \\\n356 2023-01-30 23:48:35+00:00   None          5868   \n357                       NaT   None          4182   \n358 2023-02-19 03:57:06+00:00   None          7243   \n359                       NaT   None          4446   \n360                       NaT   None          4384   \n\n                               geo_asset_name  latitude  longitude  \\\n356  Saudi Aramco Ju'aymah Crude Oil Terminal   26.9316    50.0587   \n357                        Fujairah Anchorage   25.1575    56.5679   \n358                         Rayong Ldpe Plant   12.6359   101.3018   \n359                    Changi Lightering Zone    1.2675   103.9512   \n360                                 FPSO PSVM   -6.4718     9.4283   \n\n     other_vessel_imo other_vessel_name  \n356               NaN              None  \n357               NaN              None  \n358               NaN              None  \n359               NaN              None  \n360               NaN              None  ",
      "text/html": "<div>\n<style scoped>\n    .dataframe tbody tr th:only-of-type {\n        vertical-align: middle;\n    }\n\n    .dataframe tbody tr th {\n        vertical-align: top;\n    }\n\n    .dataframe thead th {\n        text-align: right;\n    }\n</style>\n<table border=\"1\" class=\"dataframe\">\n  <thead>\n    <tr style=\"text-align: right;\">\n      <th></th>\n      <th>id</th>\n      <th>event_id</th>\n      <th>event_detail_type</th>\n      <th>arrival_date</th>\n      <th>sailing_date</th>\n      <th>start_time_of_operation</th>\n      <th>end_time_of_operation</th>\n      <th>sts_id</th>\n      <th>geo_asset_id</th>\n      <th>geo_asset_name</th>\n      <th>latitude</th>\n      <th>longitude</th>\n      <th>other_vessel_imo</th>\n      <th>other_vessel_name</th>\n    </tr>\n  </thead>\n  <tbody>\n    <tr>\n      <th>356</th>\n      <td>I8DC99BLEDB63B980</td>\n      <td>None</td>\n      <td>Jetty</td>\n      <td>2023-01-29 07:44:32+00:00</td>\n      <td>2023-02-01 03:31:27+00:00</td>\n      <td>2023-01-29 19:55:54+00:00</td>\n      <td>2023-01-30 23:48:35+00:00</td>\n      <td>None</td>\n      <td>5868</td>\n      <td>Saudi Aramco Ju'aymah Crude Oil Terminal</td>\n      <td>26.9316</td>\n      <td>50.0587</td>\n      <td>NaN</td>\n      <td>None</td>\n    </tr>\n    <tr>\n      <th>357</th>\n      <td>I8DC99BLEDB6A5100</td>\n      <td>None</td>\n      <td>Stop</td>\n      <td>2023-02-02 19:59:27+00:00</td>\n      <td>2023-02-02 23:56:25+00:00</td>\n      <td>NaT</td>\n      <td>NaT</td>\n      <td>None</td>\n      <td>4182</td>\n      <td>Fujairah Anchorage</td>\n      <td>25.1575</td>\n      <td>56.5679</td>\n      <td>NaN</td>\n      <td>None</td>\n    </tr>\n    <tr>\n      <th>358</th>\n      <td>I8DC99BLEDB778000</td>\n      <td>None</td>\n      <td>Jetty</td>\n      <td>2023-02-16 23:51:11+00:00</td>\n      <td>2023-02-19 03:57:06+00:00</td>\n      <td>2023-02-17 03:53:54+00:00</td>\n      <td>2023-02-19 03:57:06+00:00</td>\n      <td>None</td>\n      <td>7243</td>\n      <td>Rayong Ldpe Plant</td>\n      <td>12.6359</td>\n      <td>101.3018</td>\n      <td>NaN</td>\n      <td>None</td>\n    </tr>\n    <tr>\n      <th>359</th>\n      <td>I8DC99BLEDB84AF00</td>\n      <td>None</td>\n      <td>Stop</td>\n      <td>2023-02-22 07:56:28+00:00</td>\n      <td>2023-02-27 15:55:07+00:00</td>\n      <td>NaT</td>\n      <td>NaT</td>\n      <td>None</td>\n      <td>4446</td>\n      <td>Changi Lightering Zone</td>\n      <td>1.2675</td>\n      <td>103.9512</td>\n      <td>NaN</td>\n      <td>None</td>\n    </tr>\n    <tr>\n      <th>360</th>\n      <td>I8DC99BLEDBAC3C00</td>\n      <td>None</td>\n      <td>Stop</td>\n      <td>2023-03-25 19:34:04+00:00</td>\n      <td>2023-04-06 12:01:19+00:00</td>\n      <td>NaT</td>\n      <td>NaT</td>\n      <td>None</td>\n      <td>4384</td>\n      <td>FPSO PSVM</td>\n      <td>-6.4718</td>\n      <td>9.4283</td>\n      <td>NaN</td>\n      <td>None</td>\n    </tr>\n  </tbody>\n</table>\n</div>"
     },
     "execution_count": 28,
     "metadata": {},
     "output_type": "execute_result"
    }
   ],
   "source": [
    "vessel_event_details_df = pd.DataFrame(e.__dict__ for event_details in vessel_events_df['event_details'] for e in event_details or [])\n",
    "vessel_event_details_df.tail(5)"
   ]
  },
  {
   "cell_type": "markdown",
   "metadata": {
    "id": "PZA3IrDHOyvY",
    "pycharm": {
     "name": "#%% md\n"
    }
   },
   "source": [
    "### Get voyages for vessel class"
   ]
  },
  {
   "cell_type": "code",
   "execution_count": 29,
   "metadata": {
    "colab": {
     "base_uri": "https://localhost:8080/"
    },
    "id": "anZJAWDBQwt4",
    "outputId": "b5f4bbb2-edeb-478b-f250-9b3ee2339275",
    "pycharm": {
     "name": "#%%\n"
    }
   },
   "outputs": [
    {
     "data": {
      "text/plain": "84"
     },
     "execution_count": 29,
     "metadata": {},
     "output_type": "execute_result"
    }
   ],
   "source": [
    "#get vessel class id for vlcc\n",
    "vc = api.get_vessel_classes(VesselClassFilter('vlcc'))[0]\n",
    "vlcc_id = vc.vessel_class_id\n",
    "vlcc_id"
   ]
  },
  {
   "cell_type": "code",
   "execution_count": 30,
   "metadata": {
    "id": "U6U3qvJyOyvY",
    "pycharm": {
     "name": "#%%\n"
    }
   },
   "outputs": [],
   "source": [
    "date_from = date.today() - timedelta(days=30)\n",
    "recent_vlcc_voyages = api.get_voyages(vessel_class_id=vlcc_id, date_from=date_from)"
   ]
  },
  {
   "cell_type": "code",
   "execution_count": 31,
   "metadata": {
    "id": "YDI7YTy9OyvZ",
    "outputId": "d6923ce4-a1e3-40ae-e71a-5cde311247a5",
    "scrolled": true,
    "pycharm": {
     "name": "#%%\n"
    }
   },
   "outputs": [
    {
     "data": {
      "text/plain": "         imo  voyage_number  vessel_type_id  vessel_class_id  \\\n398  9937098              2               1               84   \n399  9941661              2               1               84   \n400  9941661              3               1               84   \n401  9941673              3               1               84   \n402  9946673              1               1               84   \n\n     vessel_status_id  commercial_operator_id  deleted  \\\n398                 1                  1645.0    False   \n399                 1                  2236.0    False   \n400                 1                  2236.0    False   \n401                 1                  2236.0    False   \n402                 1                     NaN    False   \n\n                                                events                   id  \\\n398  (VoyageEvent(id='I97A0CA54SEDB84AF00', port_id...  I97A0CA54VEDB84AF00   \n399  (VoyageEvent(id='I97B29D54SEDB84AF00', port_id...  I97B29D54VEDB84AF00   \n400  (VoyageEvent(id='I97B29D54SEDBAC3C00', port_id...  I97B29D54VEDBAC3C00   \n401  (VoyageEvent(id='I97B2A954SEDB84AF00', port_id...  I97B2A954VEDB84AF00   \n402  (VoyageEvent(id='I97C63154SEDB84AF00', port_id...  I97C63154VEDB84AF00   \n\n     horizon_id  ... is_implied_by_ais has_manual_entries ballast_distance  \\\n398           2  ...              None               None          6270.88   \n399           1  ...              None               None              NaN   \n400           2  ...              None               None          2302.67   \n401           2  ...              None               None          1738.52   \n402           2  ...              None               None            17.37   \n\n    predicted_ballast_distance laden_distance predicted_laden_distance  \\\n398                        NaN           4.35                  3429.73   \n399                        NaN          46.03                      NaN   \n400                    1619.54            NaN                  6282.20   \n401                       9.60            NaN                      NaN   \n402                        NaN            NaN                      NaN   \n\n    suez_crossing  panama_crossing canakkale_crossing  bosporus_crossing  \n398          None             None               None               None  \n399          None             None               None               None  \n400         Laden             None               None               None  \n401          None             None               None               None  \n402          None             None               None               None  \n\n[5 rows x 55 columns]",
      "text/html": "<div>\n<style scoped>\n    .dataframe tbody tr th:only-of-type {\n        vertical-align: middle;\n    }\n\n    .dataframe tbody tr th {\n        vertical-align: top;\n    }\n\n    .dataframe thead th {\n        text-align: right;\n    }\n</style>\n<table border=\"1\" class=\"dataframe\">\n  <thead>\n    <tr style=\"text-align: right;\">\n      <th></th>\n      <th>imo</th>\n      <th>voyage_number</th>\n      <th>vessel_type_id</th>\n      <th>vessel_class_id</th>\n      <th>vessel_status_id</th>\n      <th>commercial_operator_id</th>\n      <th>deleted</th>\n      <th>events</th>\n      <th>id</th>\n      <th>horizon_id</th>\n      <th>...</th>\n      <th>is_implied_by_ais</th>\n      <th>has_manual_entries</th>\n      <th>ballast_distance</th>\n      <th>predicted_ballast_distance</th>\n      <th>laden_distance</th>\n      <th>predicted_laden_distance</th>\n      <th>suez_crossing</th>\n      <th>panama_crossing</th>\n      <th>canakkale_crossing</th>\n      <th>bosporus_crossing</th>\n    </tr>\n  </thead>\n  <tbody>\n    <tr>\n      <th>398</th>\n      <td>9937098</td>\n      <td>2</td>\n      <td>1</td>\n      <td>84</td>\n      <td>1</td>\n      <td>1645.0</td>\n      <td>False</td>\n      <td>(VoyageEvent(id='I97A0CA54SEDB84AF00', port_id...</td>\n      <td>I97A0CA54VEDB84AF00</td>\n      <td>2</td>\n      <td>...</td>\n      <td>None</td>\n      <td>None</td>\n      <td>6270.88</td>\n      <td>NaN</td>\n      <td>4.35</td>\n      <td>3429.73</td>\n      <td>None</td>\n      <td>None</td>\n      <td>None</td>\n      <td>None</td>\n    </tr>\n    <tr>\n      <th>399</th>\n      <td>9941661</td>\n      <td>2</td>\n      <td>1</td>\n      <td>84</td>\n      <td>1</td>\n      <td>2236.0</td>\n      <td>False</td>\n      <td>(VoyageEvent(id='I97B29D54SEDB84AF00', port_id...</td>\n      <td>I97B29D54VEDB84AF00</td>\n      <td>1</td>\n      <td>...</td>\n      <td>None</td>\n      <td>None</td>\n      <td>NaN</td>\n      <td>NaN</td>\n      <td>46.03</td>\n      <td>NaN</td>\n      <td>None</td>\n      <td>None</td>\n      <td>None</td>\n      <td>None</td>\n    </tr>\n    <tr>\n      <th>400</th>\n      <td>9941661</td>\n      <td>3</td>\n      <td>1</td>\n      <td>84</td>\n      <td>1</td>\n      <td>2236.0</td>\n      <td>False</td>\n      <td>(VoyageEvent(id='I97B29D54SEDBAC3C00', port_id...</td>\n      <td>I97B29D54VEDBAC3C00</td>\n      <td>2</td>\n      <td>...</td>\n      <td>None</td>\n      <td>None</td>\n      <td>2302.67</td>\n      <td>1619.54</td>\n      <td>NaN</td>\n      <td>6282.20</td>\n      <td>Laden</td>\n      <td>None</td>\n      <td>None</td>\n      <td>None</td>\n    </tr>\n    <tr>\n      <th>401</th>\n      <td>9941673</td>\n      <td>3</td>\n      <td>1</td>\n      <td>84</td>\n      <td>1</td>\n      <td>2236.0</td>\n      <td>False</td>\n      <td>(VoyageEvent(id='I97B2A954SEDB84AF00', port_id...</td>\n      <td>I97B2A954VEDB84AF00</td>\n      <td>2</td>\n      <td>...</td>\n      <td>None</td>\n      <td>None</td>\n      <td>1738.52</td>\n      <td>9.60</td>\n      <td>NaN</td>\n      <td>NaN</td>\n      <td>None</td>\n      <td>None</td>\n      <td>None</td>\n      <td>None</td>\n    </tr>\n    <tr>\n      <th>402</th>\n      <td>9946673</td>\n      <td>1</td>\n      <td>1</td>\n      <td>84</td>\n      <td>1</td>\n      <td>NaN</td>\n      <td>False</td>\n      <td>(VoyageEvent(id='I97C63154SEDB84AF00', port_id...</td>\n      <td>I97C63154VEDB84AF00</td>\n      <td>2</td>\n      <td>...</td>\n      <td>None</td>\n      <td>None</td>\n      <td>17.37</td>\n      <td>NaN</td>\n      <td>NaN</td>\n      <td>NaN</td>\n      <td>None</td>\n      <td>None</td>\n      <td>None</td>\n      <td>None</td>\n    </tr>\n  </tbody>\n</table>\n<p>5 rows × 55 columns</p>\n</div>"
     },
     "execution_count": 31,
     "metadata": {},
     "output_type": "execute_result"
    }
   ],
   "source": [
    "recent_vlcc_voyages = pd.DataFrame([v.__dict__ for v in recent_vlcc_voyages])\n",
    "recent_vlcc_voyages.tail(5)"
   ]
  },
  {
   "cell_type": "markdown",
   "metadata": {
    "id": "Lf8nvgtXOyvZ",
    "pycharm": {
     "name": "#%% md\n"
    }
   },
   "source": [
    "### Get voyages for vessel in flat format"
   ]
  },
  {
   "cell_type": "code",
   "execution_count": 32,
   "metadata": {
    "colab": {
     "base_uri": "https://localhost:8080/"
    },
    "id": "wOvAcRnrRWTK",
    "outputId": "15308ea2-4d85-4b1e-85ed-d22104ba4e7f",
    "pycharm": {
     "name": "#%%\n"
    }
   },
   "outputs": [
    {
     "data": {
      "text/plain": "Vessel(imo=9292187, vessel_name='Gold Pearl')"
     },
     "execution_count": 32,
     "metadata": {},
     "output_type": "execute_result"
    }
   ],
   "source": [
    "# get the imo by using the vessel name\n",
    "vessel = api.get_imos(VesselFilter('Gold Pearl'))[0]\n",
    "vessel"
   ]
  },
  {
   "cell_type": "code",
   "execution_count": 33,
   "metadata": {
    "id": "5GL354yQOyvZ",
    "pycharm": {
     "name": "#%%\n"
    }
   },
   "outputs": [],
   "source": [
    "vessel_voyages_flat = api.get_voyages_flat(imo=vessel.imo)"
   ]
  },
  {
   "cell_type": "code",
   "execution_count": 34,
   "metadata": {
    "id": "eomp96KPOyva",
    "outputId": "ceb37f6c-c28a-4253-b3c4-9ff06a4244d9",
    "pycharm": {
     "name": "#%%\n"
    }
   },
   "outputs": [
    {
     "data": {
      "text/plain": "        imo  voyage_number  vessel_type_id  vessel_class_id  vessel_status_id  \\\n62  9292187             63               1               84                 1   \n63  9292187             64               1               84                 1   \n64  9292187             65               1               84                 1   \n65  9292187             66               1               84                 1   \n66  9292187             67               1               84                 1   \n\n    commercial_operator_id  deleted events                 id  horizon_id  \\\n62                  1684.0    False   None  I8DC99BVEDA976100           1   \n63                  1684.0    False   None  I8DC99BVEDABEEE00           1   \n64                  1684.0    False   None  I8DC99BVEDB0E0800           1   \n65                  1684.0    False   None  I8DC99BVEDB359500           1   \n66                     NaN    False   None  I8DC99BVEDB5D2200           2   \n\n    ... is_implied_by_ais has_manual_entries ballast_distance  \\\n62  ...              None               None          4531.50   \n63  ...              None               None          3831.88   \n64  ...              None               None          4612.85   \n65  ...              None               None          5422.68   \n66  ...              True               None          8591.59   \n\n   predicted_ballast_distance laden_distance predicted_laden_distance  \\\n62                        NaN        3968.99                      NaN   \n63                        NaN        4588.66                      NaN   \n64                        NaN        5273.31                      NaN   \n65                        NaN        4631.81                      NaN   \n66                     185.74            NaN                  9748.04   \n\n   suez_crossing  panama_crossing canakkale_crossing  bosporus_crossing  \n62          None             None               None               None  \n63          None             None               None               None  \n64          None             None               None               None  \n65          None             None               None               None  \n66          None             None               None               None  \n\n[5 rows x 55 columns]",
      "text/html": "<div>\n<style scoped>\n    .dataframe tbody tr th:only-of-type {\n        vertical-align: middle;\n    }\n\n    .dataframe tbody tr th {\n        vertical-align: top;\n    }\n\n    .dataframe thead th {\n        text-align: right;\n    }\n</style>\n<table border=\"1\" class=\"dataframe\">\n  <thead>\n    <tr style=\"text-align: right;\">\n      <th></th>\n      <th>imo</th>\n      <th>voyage_number</th>\n      <th>vessel_type_id</th>\n      <th>vessel_class_id</th>\n      <th>vessel_status_id</th>\n      <th>commercial_operator_id</th>\n      <th>deleted</th>\n      <th>events</th>\n      <th>id</th>\n      <th>horizon_id</th>\n      <th>...</th>\n      <th>is_implied_by_ais</th>\n      <th>has_manual_entries</th>\n      <th>ballast_distance</th>\n      <th>predicted_ballast_distance</th>\n      <th>laden_distance</th>\n      <th>predicted_laden_distance</th>\n      <th>suez_crossing</th>\n      <th>panama_crossing</th>\n      <th>canakkale_crossing</th>\n      <th>bosporus_crossing</th>\n    </tr>\n  </thead>\n  <tbody>\n    <tr>\n      <th>62</th>\n      <td>9292187</td>\n      <td>63</td>\n      <td>1</td>\n      <td>84</td>\n      <td>1</td>\n      <td>1684.0</td>\n      <td>False</td>\n      <td>None</td>\n      <td>I8DC99BVEDA976100</td>\n      <td>1</td>\n      <td>...</td>\n      <td>None</td>\n      <td>None</td>\n      <td>4531.50</td>\n      <td>NaN</td>\n      <td>3968.99</td>\n      <td>NaN</td>\n      <td>None</td>\n      <td>None</td>\n      <td>None</td>\n      <td>None</td>\n    </tr>\n    <tr>\n      <th>63</th>\n      <td>9292187</td>\n      <td>64</td>\n      <td>1</td>\n      <td>84</td>\n      <td>1</td>\n      <td>1684.0</td>\n      <td>False</td>\n      <td>None</td>\n      <td>I8DC99BVEDABEEE00</td>\n      <td>1</td>\n      <td>...</td>\n      <td>None</td>\n      <td>None</td>\n      <td>3831.88</td>\n      <td>NaN</td>\n      <td>4588.66</td>\n      <td>NaN</td>\n      <td>None</td>\n      <td>None</td>\n      <td>None</td>\n      <td>None</td>\n    </tr>\n    <tr>\n      <th>64</th>\n      <td>9292187</td>\n      <td>65</td>\n      <td>1</td>\n      <td>84</td>\n      <td>1</td>\n      <td>1684.0</td>\n      <td>False</td>\n      <td>None</td>\n      <td>I8DC99BVEDB0E0800</td>\n      <td>1</td>\n      <td>...</td>\n      <td>None</td>\n      <td>None</td>\n      <td>4612.85</td>\n      <td>NaN</td>\n      <td>5273.31</td>\n      <td>NaN</td>\n      <td>None</td>\n      <td>None</td>\n      <td>None</td>\n      <td>None</td>\n    </tr>\n    <tr>\n      <th>65</th>\n      <td>9292187</td>\n      <td>66</td>\n      <td>1</td>\n      <td>84</td>\n      <td>1</td>\n      <td>1684.0</td>\n      <td>False</td>\n      <td>None</td>\n      <td>I8DC99BVEDB359500</td>\n      <td>1</td>\n      <td>...</td>\n      <td>None</td>\n      <td>None</td>\n      <td>5422.68</td>\n      <td>NaN</td>\n      <td>4631.81</td>\n      <td>NaN</td>\n      <td>None</td>\n      <td>None</td>\n      <td>None</td>\n      <td>None</td>\n    </tr>\n    <tr>\n      <th>66</th>\n      <td>9292187</td>\n      <td>67</td>\n      <td>1</td>\n      <td>84</td>\n      <td>1</td>\n      <td>NaN</td>\n      <td>False</td>\n      <td>None</td>\n      <td>I8DC99BVEDB5D2200</td>\n      <td>2</td>\n      <td>...</td>\n      <td>True</td>\n      <td>None</td>\n      <td>8591.59</td>\n      <td>185.74</td>\n      <td>NaN</td>\n      <td>9748.04</td>\n      <td>None</td>\n      <td>None</td>\n      <td>None</td>\n      <td>None</td>\n    </tr>\n  </tbody>\n</table>\n<p>5 rows × 55 columns</p>\n</div>"
     },
     "execution_count": 34,
     "metadata": {},
     "output_type": "execute_result"
    }
   ],
   "source": [
    "vessel_voyages_df = pd.DataFrame(v.__dict__ for v in vessel_voyages_flat.voyages)\n",
    "vessel_voyages_df.tail(5)"
   ]
  },
  {
   "cell_type": "code",
   "execution_count": 35,
   "metadata": {
    "id": "ztvF1PRTOyva",
    "outputId": "878ee026-13ab-4fd6-93ec-df2aab28618d",
    "pycharm": {
     "name": "#%%\n"
    }
   },
   "outputs": [
    {
     "data": {
      "text/plain": "                    id  port_id          voyage_id   event_type event_horizon  \\\n391  I8DC99BSEDB5D2200     7359  I8DC99BVEDB5D2200  VoyageStart    Historical   \n392  I8DC99BTEDB84AF00     3794  I8DC99BVEDB5D2200         Stop    Historical   \n393  I8DC99BTEDBAC3C00     3164  I8DC99BVEDB5D2200         Stop       Current   \n394  I8DC99BTEDBB96B00     3167  I8DC99BVEDB5D2200     PortCall        Future   \n395  I8DC99BTEDBD3C900     3303  I8DC99BVEDB5D2200     PortCall        Future   \n\n       purpose                event_date                     arrival_date  \\\n391      Start 2023-02-19 03:57:06+00:00                              NaT   \n392       Stop                       NaT        2023-02-22 07:56:28+00:00   \n393       Stop                       NaT        2023-03-25 19:34:04+00:00   \n394       Load                       NaT 2023-04-07 01:33:14.693000+00:00   \n395  Discharge                       NaT 2023-05-12 22:09:27.737000+00:00   \n\n                        sailing_date  latitude  ...  area_idlevel0  \\\n391                              NaT   12.6359  ...           None   \n392        2023-02-27 15:55:07+00:00    1.2675  ...           None   \n393        2023-04-06 12:01:19+00:00   -6.4718  ...           None   \n394 2023-04-10 00:40:17.307000+00:00   -5.4876  ...           None   \n395 2023-05-18 18:10:35.498000+00:00   36.0409  ...           None   \n\n     area_name_level0 area_idlevel1 area_name_level1 area_idlevel2  \\\n391              None          None             None          None   \n392              None          None             None          None   \n393              None          None             None          None   \n394              None          None             None          None   \n395              None          None             None          None   \n\n    area_name_level2 area_idlevel3 area_name_level3 low_ais_density  \\\n391             None          None             None            None   \n392             None          None             None            None   \n393             None          None             None            None   \n394             None          None             None            True   \n395             None          None             None            True   \n\n    event_details  \n391          None  \n392          None  \n393          None  \n394          None  \n395          None  \n\n[5 rows x 26 columns]",
      "text/html": "<div>\n<style scoped>\n    .dataframe tbody tr th:only-of-type {\n        vertical-align: middle;\n    }\n\n    .dataframe tbody tr th {\n        vertical-align: top;\n    }\n\n    .dataframe thead th {\n        text-align: right;\n    }\n</style>\n<table border=\"1\" class=\"dataframe\">\n  <thead>\n    <tr style=\"text-align: right;\">\n      <th></th>\n      <th>id</th>\n      <th>port_id</th>\n      <th>voyage_id</th>\n      <th>event_type</th>\n      <th>event_horizon</th>\n      <th>purpose</th>\n      <th>event_date</th>\n      <th>arrival_date</th>\n      <th>sailing_date</th>\n      <th>latitude</th>\n      <th>...</th>\n      <th>area_idlevel0</th>\n      <th>area_name_level0</th>\n      <th>area_idlevel1</th>\n      <th>area_name_level1</th>\n      <th>area_idlevel2</th>\n      <th>area_name_level2</th>\n      <th>area_idlevel3</th>\n      <th>area_name_level3</th>\n      <th>low_ais_density</th>\n      <th>event_details</th>\n    </tr>\n  </thead>\n  <tbody>\n    <tr>\n      <th>391</th>\n      <td>I8DC99BSEDB5D2200</td>\n      <td>7359</td>\n      <td>I8DC99BVEDB5D2200</td>\n      <td>VoyageStart</td>\n      <td>Historical</td>\n      <td>Start</td>\n      <td>2023-02-19 03:57:06+00:00</td>\n      <td>NaT</td>\n      <td>NaT</td>\n      <td>12.6359</td>\n      <td>...</td>\n      <td>None</td>\n      <td>None</td>\n      <td>None</td>\n      <td>None</td>\n      <td>None</td>\n      <td>None</td>\n      <td>None</td>\n      <td>None</td>\n      <td>None</td>\n      <td>None</td>\n    </tr>\n    <tr>\n      <th>392</th>\n      <td>I8DC99BTEDB84AF00</td>\n      <td>3794</td>\n      <td>I8DC99BVEDB5D2200</td>\n      <td>Stop</td>\n      <td>Historical</td>\n      <td>Stop</td>\n      <td>NaT</td>\n      <td>2023-02-22 07:56:28+00:00</td>\n      <td>2023-02-27 15:55:07+00:00</td>\n      <td>1.2675</td>\n      <td>...</td>\n      <td>None</td>\n      <td>None</td>\n      <td>None</td>\n      <td>None</td>\n      <td>None</td>\n      <td>None</td>\n      <td>None</td>\n      <td>None</td>\n      <td>None</td>\n      <td>None</td>\n    </tr>\n    <tr>\n      <th>393</th>\n      <td>I8DC99BTEDBAC3C00</td>\n      <td>3164</td>\n      <td>I8DC99BVEDB5D2200</td>\n      <td>Stop</td>\n      <td>Current</td>\n      <td>Stop</td>\n      <td>NaT</td>\n      <td>2023-03-25 19:34:04+00:00</td>\n      <td>2023-04-06 12:01:19+00:00</td>\n      <td>-6.4718</td>\n      <td>...</td>\n      <td>None</td>\n      <td>None</td>\n      <td>None</td>\n      <td>None</td>\n      <td>None</td>\n      <td>None</td>\n      <td>None</td>\n      <td>None</td>\n      <td>None</td>\n      <td>None</td>\n    </tr>\n    <tr>\n      <th>394</th>\n      <td>I8DC99BTEDBB96B00</td>\n      <td>3167</td>\n      <td>I8DC99BVEDB5D2200</td>\n      <td>PortCall</td>\n      <td>Future</td>\n      <td>Load</td>\n      <td>NaT</td>\n      <td>2023-04-07 01:33:14.693000+00:00</td>\n      <td>2023-04-10 00:40:17.307000+00:00</td>\n      <td>-5.4876</td>\n      <td>...</td>\n      <td>None</td>\n      <td>None</td>\n      <td>None</td>\n      <td>None</td>\n      <td>None</td>\n      <td>None</td>\n      <td>None</td>\n      <td>None</td>\n      <td>True</td>\n      <td>None</td>\n    </tr>\n    <tr>\n      <th>395</th>\n      <td>I8DC99BTEDBD3C900</td>\n      <td>3303</td>\n      <td>I8DC99BVEDB5D2200</td>\n      <td>PortCall</td>\n      <td>Future</td>\n      <td>Discharge</td>\n      <td>NaT</td>\n      <td>2023-05-12 22:09:27.737000+00:00</td>\n      <td>2023-05-18 18:10:35.498000+00:00</td>\n      <td>36.0409</td>\n      <td>...</td>\n      <td>None</td>\n      <td>None</td>\n      <td>None</td>\n      <td>None</td>\n      <td>None</td>\n      <td>None</td>\n      <td>None</td>\n      <td>None</td>\n      <td>True</td>\n      <td>None</td>\n    </tr>\n  </tbody>\n</table>\n<p>5 rows × 26 columns</p>\n</div>"
     },
     "execution_count": 35,
     "metadata": {},
     "output_type": "execute_result"
    }
   ],
   "source": [
    "vessel_events_df = pd.DataFrame(v.__dict__ for v in vessel_voyages_flat.events)\n",
    "vessel_events_df.tail(5)"
   ]
  },
  {
   "cell_type": "code",
   "execution_count": 36,
   "metadata": {
    "id": "PklwbZAvOyva",
    "outputId": "b20a7939-012c-4f1f-f5da-f2567c91939e",
    "pycharm": {
     "name": "#%%\n"
    }
   },
   "outputs": [
    {
     "data": {
      "text/plain": "                    id           event_id event_detail_type  \\\n356  I8DC99BLEDB63B980  I8DC99BTEDB63B980             Jetty   \n357  I8DC99BLEDB6A5100  I8DC99BTEDB6A5100              Stop   \n358  I8DC99BLEDB778000  I8DC99BTEDB778000             Jetty   \n359  I8DC99BLEDB84AF00  I8DC99BTEDB84AF00              Stop   \n360  I8DC99BLEDBAC3C00  I8DC99BTEDBAC3C00              Stop   \n\n                 arrival_date              sailing_date  \\\n356 2023-01-29 07:44:32+00:00 2023-02-01 03:31:27+00:00   \n357 2023-02-02 19:59:27+00:00 2023-02-02 23:56:25+00:00   \n358 2023-02-16 23:51:11+00:00 2023-02-19 03:57:06+00:00   \n359 2023-02-22 07:56:28+00:00 2023-02-27 15:55:07+00:00   \n360 2023-03-25 19:34:04+00:00 2023-04-06 12:01:19+00:00   \n\n      start_time_of_operation     end_time_of_operation sts_id  geo_asset_id  \\\n356 2023-01-29 19:55:54+00:00 2023-01-30 23:48:35+00:00   None          5868   \n357                       NaT                       NaT   None          4182   \n358 2023-02-17 03:53:54+00:00 2023-02-19 03:57:06+00:00   None          7243   \n359                       NaT                       NaT   None          4446   \n360                       NaT                       NaT   None          4384   \n\n                               geo_asset_name  latitude  longitude  \\\n356  Saudi Aramco Ju'aymah Crude Oil Terminal   26.9316    50.0587   \n357                        Fujairah Anchorage   25.1575    56.5679   \n358                         Rayong Ldpe Plant   12.6359   101.3018   \n359                    Changi Lightering Zone    1.2675   103.9512   \n360                                 FPSO PSVM   -6.4718     9.4283   \n\n     other_vessel_imo other_vessel_name  \n356               NaN              None  \n357               NaN              None  \n358               NaN              None  \n359               NaN              None  \n360               NaN              None  ",
      "text/html": "<div>\n<style scoped>\n    .dataframe tbody tr th:only-of-type {\n        vertical-align: middle;\n    }\n\n    .dataframe tbody tr th {\n        vertical-align: top;\n    }\n\n    .dataframe thead th {\n        text-align: right;\n    }\n</style>\n<table border=\"1\" class=\"dataframe\">\n  <thead>\n    <tr style=\"text-align: right;\">\n      <th></th>\n      <th>id</th>\n      <th>event_id</th>\n      <th>event_detail_type</th>\n      <th>arrival_date</th>\n      <th>sailing_date</th>\n      <th>start_time_of_operation</th>\n      <th>end_time_of_operation</th>\n      <th>sts_id</th>\n      <th>geo_asset_id</th>\n      <th>geo_asset_name</th>\n      <th>latitude</th>\n      <th>longitude</th>\n      <th>other_vessel_imo</th>\n      <th>other_vessel_name</th>\n    </tr>\n  </thead>\n  <tbody>\n    <tr>\n      <th>356</th>\n      <td>I8DC99BLEDB63B980</td>\n      <td>I8DC99BTEDB63B980</td>\n      <td>Jetty</td>\n      <td>2023-01-29 07:44:32+00:00</td>\n      <td>2023-02-01 03:31:27+00:00</td>\n      <td>2023-01-29 19:55:54+00:00</td>\n      <td>2023-01-30 23:48:35+00:00</td>\n      <td>None</td>\n      <td>5868</td>\n      <td>Saudi Aramco Ju'aymah Crude Oil Terminal</td>\n      <td>26.9316</td>\n      <td>50.0587</td>\n      <td>NaN</td>\n      <td>None</td>\n    </tr>\n    <tr>\n      <th>357</th>\n      <td>I8DC99BLEDB6A5100</td>\n      <td>I8DC99BTEDB6A5100</td>\n      <td>Stop</td>\n      <td>2023-02-02 19:59:27+00:00</td>\n      <td>2023-02-02 23:56:25+00:00</td>\n      <td>NaT</td>\n      <td>NaT</td>\n      <td>None</td>\n      <td>4182</td>\n      <td>Fujairah Anchorage</td>\n      <td>25.1575</td>\n      <td>56.5679</td>\n      <td>NaN</td>\n      <td>None</td>\n    </tr>\n    <tr>\n      <th>358</th>\n      <td>I8DC99BLEDB778000</td>\n      <td>I8DC99BTEDB778000</td>\n      <td>Jetty</td>\n      <td>2023-02-16 23:51:11+00:00</td>\n      <td>2023-02-19 03:57:06+00:00</td>\n      <td>2023-02-17 03:53:54+00:00</td>\n      <td>2023-02-19 03:57:06+00:00</td>\n      <td>None</td>\n      <td>7243</td>\n      <td>Rayong Ldpe Plant</td>\n      <td>12.6359</td>\n      <td>101.3018</td>\n      <td>NaN</td>\n      <td>None</td>\n    </tr>\n    <tr>\n      <th>359</th>\n      <td>I8DC99BLEDB84AF00</td>\n      <td>I8DC99BTEDB84AF00</td>\n      <td>Stop</td>\n      <td>2023-02-22 07:56:28+00:00</td>\n      <td>2023-02-27 15:55:07+00:00</td>\n      <td>NaT</td>\n      <td>NaT</td>\n      <td>None</td>\n      <td>4446</td>\n      <td>Changi Lightering Zone</td>\n      <td>1.2675</td>\n      <td>103.9512</td>\n      <td>NaN</td>\n      <td>None</td>\n    </tr>\n    <tr>\n      <th>360</th>\n      <td>I8DC99BLEDBAC3C00</td>\n      <td>I8DC99BTEDBAC3C00</td>\n      <td>Stop</td>\n      <td>2023-03-25 19:34:04+00:00</td>\n      <td>2023-04-06 12:01:19+00:00</td>\n      <td>NaT</td>\n      <td>NaT</td>\n      <td>None</td>\n      <td>4384</td>\n      <td>FPSO PSVM</td>\n      <td>-6.4718</td>\n      <td>9.4283</td>\n      <td>NaN</td>\n      <td>None</td>\n    </tr>\n  </tbody>\n</table>\n</div>"
     },
     "execution_count": 36,
     "metadata": {},
     "output_type": "execute_result"
    }
   ],
   "source": [
    "vessel_event_details_df = pd.DataFrame(v.__dict__ for v in vessel_voyages_flat.event_details)\n",
    "vessel_event_details_df.tail(5)"
   ]
  },
  {
   "cell_type": "code",
   "execution_count": 37,
   "metadata": {
    "id": "Rj2ZAg3_Oyvb",
    "outputId": "35a71f08-d78d-411e-cf3a-76ee77287a35",
    "pycharm": {
     "name": "#%%\n"
    }
   },
   "outputs": [
    {
     "data": {
      "text/plain": "       id                          name  port_id         port_name  \\\n235  6163      Vopak Terminal Europoort     3689         Rotterdam   \n236  5744       Euro Tank Terminal B.v.     3689         Rotterdam   \n237  6361         Aruba Lightering Zone     3214      San Nicolaas   \n238  5745  Maatschap Europoort Terminal     3689         Rotterdam   \n239  4177           Assaluyeh Anchorage     3538  Bandar Assaluyeh   \n\n     country_id                    country  area_idlevel0 area_name_level0  \\\n235         173                Netherlands          24758        Continent   \n236         173                Netherlands          24758        Continent   \n237          21                      Aruba          24746           Caribs   \n238         173                Netherlands          24758        Continent   \n239         115  Iran, Islamic Republic of          24777     Arabian Gulf   \n\n     area_idlevel1 area_name_level1  area_idlevel2  \\\n235          25016     UK Continent          25025   \n236          25016     UK Continent          25025   \n237              9           Caribs          25019   \n238          25016     UK Continent          25025   \n239              2     Arabian Gulf             89   \n\n                 area_name_level2  area_idlevel3 area_name_level3  \n235  Mediterranean / UK Continent          25028             West  \n236  Mediterranean / UK Continent          25028             West  \n237              Atlantic America          25028             West  \n238  Mediterranean / UK Continent          25028             West  \n239                  Arabian Gulf             84             East  ",
      "text/html": "<div>\n<style scoped>\n    .dataframe tbody tr th:only-of-type {\n        vertical-align: middle;\n    }\n\n    .dataframe tbody tr th {\n        vertical-align: top;\n    }\n\n    .dataframe thead th {\n        text-align: right;\n    }\n</style>\n<table border=\"1\" class=\"dataframe\">\n  <thead>\n    <tr style=\"text-align: right;\">\n      <th></th>\n      <th>id</th>\n      <th>name</th>\n      <th>port_id</th>\n      <th>port_name</th>\n      <th>country_id</th>\n      <th>country</th>\n      <th>area_idlevel0</th>\n      <th>area_name_level0</th>\n      <th>area_idlevel1</th>\n      <th>area_name_level1</th>\n      <th>area_idlevel2</th>\n      <th>area_name_level2</th>\n      <th>area_idlevel3</th>\n      <th>area_name_level3</th>\n    </tr>\n  </thead>\n  <tbody>\n    <tr>\n      <th>235</th>\n      <td>6163</td>\n      <td>Vopak Terminal Europoort</td>\n      <td>3689</td>\n      <td>Rotterdam</td>\n      <td>173</td>\n      <td>Netherlands</td>\n      <td>24758</td>\n      <td>Continent</td>\n      <td>25016</td>\n      <td>UK Continent</td>\n      <td>25025</td>\n      <td>Mediterranean / UK Continent</td>\n      <td>25028</td>\n      <td>West</td>\n    </tr>\n    <tr>\n      <th>236</th>\n      <td>5744</td>\n      <td>Euro Tank Terminal B.v.</td>\n      <td>3689</td>\n      <td>Rotterdam</td>\n      <td>173</td>\n      <td>Netherlands</td>\n      <td>24758</td>\n      <td>Continent</td>\n      <td>25016</td>\n      <td>UK Continent</td>\n      <td>25025</td>\n      <td>Mediterranean / UK Continent</td>\n      <td>25028</td>\n      <td>West</td>\n    </tr>\n    <tr>\n      <th>237</th>\n      <td>6361</td>\n      <td>Aruba Lightering Zone</td>\n      <td>3214</td>\n      <td>San Nicolaas</td>\n      <td>21</td>\n      <td>Aruba</td>\n      <td>24746</td>\n      <td>Caribs</td>\n      <td>9</td>\n      <td>Caribs</td>\n      <td>25019</td>\n      <td>Atlantic America</td>\n      <td>25028</td>\n      <td>West</td>\n    </tr>\n    <tr>\n      <th>238</th>\n      <td>5745</td>\n      <td>Maatschap Europoort Terminal</td>\n      <td>3689</td>\n      <td>Rotterdam</td>\n      <td>173</td>\n      <td>Netherlands</td>\n      <td>24758</td>\n      <td>Continent</td>\n      <td>25016</td>\n      <td>UK Continent</td>\n      <td>25025</td>\n      <td>Mediterranean / UK Continent</td>\n      <td>25028</td>\n      <td>West</td>\n    </tr>\n    <tr>\n      <th>239</th>\n      <td>4177</td>\n      <td>Assaluyeh Anchorage</td>\n      <td>3538</td>\n      <td>Bandar Assaluyeh</td>\n      <td>115</td>\n      <td>Iran, Islamic Republic of</td>\n      <td>24777</td>\n      <td>Arabian Gulf</td>\n      <td>2</td>\n      <td>Arabian Gulf</td>\n      <td>89</td>\n      <td>Arabian Gulf</td>\n      <td>84</td>\n      <td>East</td>\n    </tr>\n  </tbody>\n</table>\n</div>"
     },
     "execution_count": 37,
     "metadata": {},
     "output_type": "execute_result"
    }
   ],
   "source": [
    "vessel_voyages_geos_df = pd.DataFrame(v.__dict__ for v in vessel_voyages_flat.geos)\n",
    "vessel_voyages_geos_df.tail(5)"
   ]
  },
  {
   "cell_type": "markdown",
   "metadata": {
    "id": "KosfTNj0Oyvb",
    "pycharm": {
     "name": "#%% md\n"
    }
   },
   "source": [
    "### Get voyages for vessel class in the flat format"
   ]
  },
  {
   "cell_type": "code",
   "execution_count": 38,
   "metadata": {
    "id": "kCud5NPqOyvb",
    "pycharm": {
     "name": "#%%\n"
    }
   },
   "outputs": [],
   "source": [
    "#get vessel class id for vlcc\n",
    "vc = api.get_vessel_classes(VesselClassFilter('vlcc'))[0]\n",
    "vlcc_id = vc.vessel_class_id\n",
    "\n",
    "date_from = date.today() - timedelta(days=30)\n",
    "recent_vlcc_voyages_flat = api.get_voyages_flat(vessel_class_id=vlcc_id, date_from=date_from)"
   ]
  },
  {
   "cell_type": "code",
   "execution_count": 39,
   "metadata": {
    "colab": {
     "base_uri": "https://localhost:8080/"
    },
    "id": "bQwUf_ItOyvb",
    "outputId": "117a5582-d5b9-48de-9946-1806509a805d",
    "pycharm": {
     "name": "#%%\n"
    }
   },
   "outputs": [
    {
     "name": "stdout",
     "output_type": "stream",
     "text": [
      "Voyages: 403\n",
      "Events: 1479\n",
      "EventDetails: 526\n",
      "Geos: 261\n"
     ]
    }
   ],
   "source": [
    "print('Voyages:', len(recent_vlcc_voyages_flat.voyages))\n",
    "print('Events:', len(recent_vlcc_voyages_flat.events))\n",
    "print('EventDetails:', len(recent_vlcc_voyages_flat.event_details))\n",
    "print('Geos:', len(recent_vlcc_voyages_flat.geos))"
   ]
  },
  {
   "cell_type": "markdown",
   "metadata": {
    "id": "-mLcTt21Oyvc",
    "pycharm": {
     "name": "#%% md\n"
    }
   },
   "source": [
    "### Get voyages for vessel incrementally "
   ]
  },
  {
   "cell_type": "markdown",
   "metadata": {
    "id": "rTgyj0MnOyvc",
    "pycharm": {
     "name": "#%% md\n"
    }
   },
   "source": [
    "Initial requests retrieves voyages mathcing the query criteria and a query token that can be used in the subsequent request."
   ]
  },
  {
   "cell_type": "code",
   "execution_count": 40,
   "metadata": {
    "colab": {
     "base_uri": "https://localhost:8080/"
    },
    "id": "RsFqB1r_Rl-L",
    "outputId": "bda75918-067e-4cd6-f0f7-9af0c0d59f7d",
    "pycharm": {
     "name": "#%%\n"
    }
   },
   "outputs": [
    {
     "data": {
      "text/plain": "Vessel(imo=9416642, vessel_name='Xin Yong Yang')"
     },
     "execution_count": 40,
     "metadata": {},
     "output_type": "execute_result"
    }
   ],
   "source": [
    "# get the imo by using the vessel name\n",
    "vessel = api.get_imos(VesselFilter('XIN YONG YANG'))[0]\n",
    "vessel"
   ]
  },
  {
   "cell_type": "code",
   "execution_count": 41,
   "metadata": {
    "colab": {
     "base_uri": "https://localhost:8080/"
    },
    "id": "A4QIdI9DOyvc",
    "outputId": "4beee3d2-7273-4732-bc90-c722d21f7e19",
    "pycharm": {
     "name": "#%%\n"
    }
   },
   "outputs": [
    {
     "data": {
      "text/plain": "79"
     },
     "execution_count": 41,
     "metadata": {},
     "output_type": "execute_result"
    }
   ],
   "source": [
    "vessel_voyages, next_request_token = api.get_incremental_voyages(imo=vessel.imo)\n",
    "len(vessel_voyages)"
   ]
  },
  {
   "cell_type": "markdown",
   "metadata": {
    "id": "PO1euHByOyvc",
    "pycharm": {
     "name": "#%% md\n"
    }
   },
   "source": [
    "Provided the token retrieved for the previous request, the subsequent request retrieves only voyages that have been updated since the previous request. "
   ]
  },
  {
   "cell_type": "code",
   "execution_count": 42,
   "metadata": {
    "id": "qmVQVvyrOyvc",
    "outputId": "344ffec4-6ab9-4357-ca19-a4fdfb9078b3",
    "pycharm": {
     "name": "#%%\n"
    }
   },
   "outputs": [
    {
     "data": {
      "text/plain": "0"
     },
     "execution_count": 42,
     "metadata": {},
     "output_type": "execute_result"
    }
   ],
   "source": [
    "incremental_voyages, next_request_token = api.get_incremental_voyages(imo=9416642, incremental_token=next_request_token)\n",
    "len(incremental_voyages)"
   ]
  },
  {
   "cell_type": "markdown",
   "metadata": {
    "id": "uehO3EAYOyvd",
    "pycharm": {
     "name": "#%% md\n"
    }
   },
   "source": [
    "The retrieved information is used to replace any modify voyages from the dataset. Note that returned voyages marked as deleted are only used to filter out voyages. "
   ]
  },
  {
   "cell_type": "code",
   "execution_count": 43,
   "metadata": {
    "id": "xA1FkflhOyvd",
    "outputId": "0c859de7-bd80-4ecf-f549-73eae3029e46",
    "pycharm": {
     "name": "#%%\n"
    }
   },
   "outputs": [
    {
     "data": {
      "text/plain": "79"
     },
     "execution_count": 43,
     "metadata": {},
     "output_type": "execute_result"
    }
   ],
   "source": [
    "updated_voyage_ids = set(v.id for v in incremental_voyages)\n",
    "vessel_voyages = [v for v in vessel_voyages if v.id not in updated_voyage_ids]\n",
    "new_vessel_voyages = [v for v in incremental_voyages if not v.deleted]\n",
    "vessel_voyages = sorted(vessel_voyages + new_vessel_voyages, key= lambda v: v.voyage_number)\n",
    "len(vessel_voyages)"
   ]
  },
  {
   "cell_type": "markdown",
   "metadata": {
    "id": "OWOaKgomOyvd",
    "pycharm": {
     "name": "#%% md\n"
    }
   },
   "source": [
    "### Get voyages for vessel class incrementally "
   ]
  },
  {
   "cell_type": "markdown",
   "metadata": {
    "id": "EuJdS_MdOyvd",
    "pycharm": {
     "name": "#%% md\n"
    }
   },
   "source": [
    "Voyages for vessel class are retieved and updated in the same way incrementally."
   ]
  },
  {
   "cell_type": "code",
   "execution_count": 44,
   "metadata": {
    "colab": {
     "base_uri": "https://localhost:8080/"
    },
    "id": "aaKjySklR9Pv",
    "outputId": "e2d82fc0-2efc-4468-daa8-1867d7d682c5",
    "pycharm": {
     "name": "#%%\n"
    }
   },
   "outputs": [
    {
     "data": {
      "text/plain": "84"
     },
     "execution_count": 44,
     "metadata": {},
     "output_type": "execute_result"
    }
   ],
   "source": [
    "#get vessel class id for vlcc\n",
    "vc = api.get_vessel_classes(VesselClassFilter('vlcc'))[0]\n",
    "vessel_class_id = vc.vessel_class_id\n",
    "vessel_class_id"
   ]
  },
  {
   "cell_type": "code",
   "execution_count": 45,
   "metadata": {
    "id": "hoDG2TrAOyvd",
    "pycharm": {
     "name": "#%%\n"
    }
   },
   "outputs": [],
   "source": [
    "date_from = date.today() - timedelta(days=30)"
   ]
  },
  {
   "cell_type": "code",
   "execution_count": 46,
   "metadata": {
    "id": "u-NrM_yFOyve",
    "outputId": "40a6b456-8a83-4e8e-f45a-757b990258c9",
    "pycharm": {
     "name": "#%%\n"
    }
   },
   "outputs": [
    {
     "data": {
      "text/plain": "403"
     },
     "execution_count": 46,
     "metadata": {},
     "output_type": "execute_result"
    }
   ],
   "source": [
    "voyages, next_request_token = api.get_incremental_voyages(vessel_class_id=vessel_class_id, date_from=date_from)\n",
    "len(voyages)"
   ]
  },
  {
   "cell_type": "code",
   "execution_count": 47,
   "metadata": {
    "id": "NteLP5YGOyve",
    "outputId": "8165a9aa-d7bd-45d0-ea49-e211a144cf44",
    "pycharm": {
     "name": "#%%\n"
    }
   },
   "outputs": [
    {
     "data": {
      "text/plain": "0"
     },
     "execution_count": 47,
     "metadata": {},
     "output_type": "execute_result"
    }
   ],
   "source": [
    "incremental_voyages, next_request_token = api.get_incremental_voyages(vessel_class_id=vessel_class_id, date_from=date_from, incremental_token=next_request_token)\n",
    "len(incremental_voyages)"
   ]
  },
  {
   "cell_type": "code",
   "execution_count": 48,
   "metadata": {
    "id": "EnhF_D7oOyve",
    "outputId": "dbc6d5ae-abc1-4374-d4f1-d81468496a78",
    "pycharm": {
     "name": "#%%\n"
    }
   },
   "outputs": [
    {
     "data": {
      "text/plain": "403"
     },
     "execution_count": 48,
     "metadata": {},
     "output_type": "execute_result"
    }
   ],
   "source": [
    "updated_voyage_ids = set(v.id for v in incremental_voyages)\n",
    "voyages = [v for v in voyages if v.id not in updated_voyage_ids and not v.deleted]\n",
    "new_voyages = [v for v in incremental_voyages if not v.deleted]\n",
    "voyages = sorted(voyages + new_voyages, key= lambda v: (v.imo, v.voyage_number))\n",
    "len(voyages)"
   ]
  },
  {
   "cell_type": "markdown",
   "metadata": {
    "id": "7Z90cXUMOyve",
    "pycharm": {
     "name": "#%% md\n"
    }
   },
   "source": [
    "### Get voyages for vessel class incrementally in the flat format"
   ]
  },
  {
   "cell_type": "markdown",
   "metadata": {
    "id": "CDfq-d7IOyvg",
    "pycharm": {
     "name": "#%% md\n"
    }
   },
   "source": [
    "Voyages may be retrieved and updated incrementally in the flat format. "
   ]
  },
  {
   "cell_type": "code",
   "execution_count": 49,
   "metadata": {
    "colab": {
     "base_uri": "https://localhost:8080/"
    },
    "id": "bTK4pOcRSCss",
    "outputId": "9b404040-5026-40a6-ad88-08c286eb0792",
    "pycharm": {
     "name": "#%%\n"
    }
   },
   "outputs": [
    {
     "data": {
      "text/plain": "84"
     },
     "execution_count": 49,
     "metadata": {},
     "output_type": "execute_result"
    }
   ],
   "source": [
    "#get vessel class id for vlcc\n",
    "vc = api.get_vessel_classes(VesselClassFilter('vlcc'))[0]\n",
    "vessel_class_id = vc.vessel_class_id\n",
    "vessel_class_id"
   ]
  },
  {
   "cell_type": "code",
   "execution_count": 50,
   "metadata": {
    "id": "GuHVwQc8Oyvg",
    "pycharm": {
     "name": "#%%\n"
    }
   },
   "outputs": [],
   "source": [
    "date_from = date.today() - timedelta(days=30)"
   ]
  },
  {
   "cell_type": "code",
   "execution_count": 51,
   "metadata": {
    "id": "IJIWwU7sOyvg",
    "pycharm": {
     "name": "#%%\n"
    }
   },
   "outputs": [],
   "source": [
    "voyages_flat, next_request_token = api.get_incremental_voyages_flat(vessel_class_id=vessel_class_id, date_from=date_from)"
   ]
  },
  {
   "cell_type": "code",
   "execution_count": 52,
   "metadata": {
    "id": "9Py1NwlNOyvg",
    "pycharm": {
     "name": "#%%\n"
    }
   },
   "outputs": [],
   "source": [
    "voyages = voyages_flat.voyages\n",
    "events = voyages_flat.events\n",
    "event_details = voyages_flat.event_details\n",
    "geos = voyages_flat.geos"
   ]
  },
  {
   "cell_type": "code",
   "execution_count": 53,
   "metadata": {
    "id": "Jy3B4gg9Oyvg",
    "outputId": "e66bfa84-49f4-40a7-f6e8-bd29ffaf1918",
    "pycharm": {
     "name": "#%%\n"
    }
   },
   "outputs": [
    {
     "data": {
      "text/plain": "(403, 1479, 526, 261)"
     },
     "execution_count": 53,
     "metadata": {},
     "output_type": "execute_result"
    }
   ],
   "source": [
    "len(voyages), len(events), len(event_details), len(geos)"
   ]
  },
  {
   "cell_type": "code",
   "execution_count": 54,
   "metadata": {
    "id": "LbnYof4VOyvh",
    "pycharm": {
     "name": "#%%\n"
    }
   },
   "outputs": [],
   "source": [
    "incremental_voyages_flat, next_request_token = api.get_incremental_voyages_flat(vessel_class_id=vessel_class_id, date_from=date_from, incremental_token=next_request_token)"
   ]
  },
  {
   "cell_type": "code",
   "execution_count": 55,
   "metadata": {
    "id": "cXpOEn0uOyvh",
    "outputId": "8cf171cf-4703-4b31-9e80-923f92419544",
    "pycharm": {
     "name": "#%%\n"
    }
   },
   "outputs": [
    {
     "data": {
      "text/plain": "0"
     },
     "execution_count": 55,
     "metadata": {},
     "output_type": "execute_result"
    }
   ],
   "source": [
    "len(incremental_voyages_flat.voyages)"
   ]
  },
  {
   "cell_type": "markdown",
   "metadata": {
    "id": "Us-FRQ9DOyvh",
    "pycharm": {
     "name": "#%% md\n"
    }
   },
   "source": [
    "In this case the update step is applied to voyages, events, event details and geos datasets."
   ]
  },
  {
   "cell_type": "code",
   "execution_count": 56,
   "metadata": {
    "id": "ZMj4PhVqOyvh",
    "outputId": "2bb6aea3-7055-448d-fe6d-dbf8d4e40d2b",
    "pycharm": {
     "name": "#%%\n"
    }
   },
   "outputs": [
    {
     "data": {
      "text/plain": "403"
     },
     "execution_count": 56,
     "metadata": {},
     "output_type": "execute_result"
    }
   ],
   "source": [
    "updated_voyage_ids = set(v.id for v in incremental_voyages_flat.voyages)\n",
    "voyages = [v for v in voyages if v.id not in updated_voyage_ids and not v.deleted]\n",
    "new_voyages = [v for v in incremental_voyages_flat.voyages if not v.deleted]\n",
    "voyages = sorted(voyages + new_voyages, key= lambda v: (v.imo, v.voyage_number))\n",
    "len(voyages)"
   ]
  },
  {
   "cell_type": "code",
   "execution_count": 57,
   "metadata": {
    "id": "XDTr5qU3Oyvh",
    "outputId": "8f3c6357-092a-4ee9-8d30-47998e9c3237",
    "pycharm": {
     "name": "#%%\n"
    }
   },
   "outputs": [
    {
     "data": {
      "text/plain": "1479"
     },
     "execution_count": 57,
     "metadata": {},
     "output_type": "execute_result"
    }
   ],
   "source": [
    "updated_event_ids = set(e.id for e in events if e.voyage_id in updated_voyage_ids)\n",
    "events = [e for e in events if e.id not in updated_event_ids]\n",
    "events = sorted(events + list(incremental_voyages_flat.events), key= lambda e: e.id)\n",
    "len(events)"
   ]
  },
  {
   "cell_type": "code",
   "execution_count": 58,
   "metadata": {
    "id": "aRpLomdkOyvh",
    "outputId": "4dd4e4d0-ec83-44c7-c12d-e1f2e6b3f797",
    "pycharm": {
     "name": "#%%\n"
    }
   },
   "outputs": [
    {
     "data": {
      "text/plain": "526"
     },
     "execution_count": 58,
     "metadata": {},
     "output_type": "execute_result"
    }
   ],
   "source": [
    "event_details = [e for e in event_details if e.id not in updated_event_ids]\n",
    "event_details = sorted(event_details + list(incremental_voyages_flat.event_details), key= lambda e: e.id)\n",
    "len(event_details)"
   ]
  },
  {
   "cell_type": "code",
   "execution_count": 59,
   "metadata": {
    "id": "twfn4aRvOyvi",
    "outputId": "b5bb8b74-f929-47c4-e68f-760570524f84",
    "pycharm": {
     "name": "#%%\n"
    }
   },
   "outputs": [
    {
     "data": {
      "text/plain": "261"
     },
     "execution_count": 59,
     "metadata": {},
     "output_type": "execute_result"
    }
   ],
   "source": [
    "updated_geo_ids = set(g.id for g in incremental_voyages_flat.geos)\n",
    "geos = [g for g in geos if g.id not in updated_geo_ids] + list(incremental_voyages_flat.geos)\n",
    "len(geos)"
   ]
  }
 ],
 "metadata": {
  "colab": {
   "collapsed_sections": [],
   "name": "Copy of VoyagesAPI.ipynb",
   "provenance": []
  },
  "kernelspec": {
   "display_name": "Python 3",
   "language": "python",
   "name": "python3"
  },
  "language_info": {
   "codemirror_mode": {
    "name": "ipython",
    "version": 3
   },
   "file_extension": ".py",
   "mimetype": "text/x-python",
   "name": "python",
   "nbconvert_exporter": "python",
   "pygments_lexer": "ipython3",
   "version": "3.8.5"
  }
 },
 "nbformat": 4,
 "nbformat_minor": 1
}