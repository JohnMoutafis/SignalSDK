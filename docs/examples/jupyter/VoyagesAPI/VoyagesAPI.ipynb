{
 "cells": [
  {
   "cell_type": "markdown",
   "metadata": {},
   "source": [
    "# Voyages API Example"
   ]
  },
  {
   "cell_type": "markdown",
   "metadata": {},
   "source": [
    "## Setup\n",
    "Install the Signal Ocean SDK:\n",
    "```\n",
    "pip install signal-ocean\n",
    "```\n",
    "Set your subscription key acquired here: https://apis.signalocean.com/profile"
   ]
  },
  {
   "cell_type": "code",
   "execution_count": null,
   "metadata": {},
   "outputs": [],
   "source": [
    "pip install signal-ocean"
   ]
  },
  {
   "cell_type": "code",
   "execution_count": 1,
   "metadata": {},
   "outputs": [],
   "source": [
    "signal_ocean_api_key = '' #replace with your subscription key"
   ]
  },
  {
   "cell_type": "markdown",
   "metadata": {},
   "source": [
    "## Call the Voyages API\n",
    "The Voyages API retrieves information about vessel voyages."
   ]
  },
  {
   "cell_type": "code",
   "execution_count": 2,
   "metadata": {},
   "outputs": [],
   "source": [
    "from signal_ocean import Connection\n",
    "from signal_ocean.voyages import VoyagesAPI\n",
    "import pandas as pd\n",
    "from datetime import date, timedelta"
   ]
  },
  {
   "cell_type": "code",
   "execution_count": 3,
   "metadata": {},
   "outputs": [],
   "source": [
    "connection = Connection(signal_ocean_api_key)\n",
    "api = VoyagesAPI(connection)"
   ]
  },
  {
   "cell_type": "markdown",
   "metadata": {},
   "source": [
    "### Get voyages for vessel"
   ]
  },
  {
   "cell_type": "code",
   "execution_count": 4,
   "metadata": {},
   "outputs": [],
   "source": [
    "vessel_voyages = api.get_voyages(imo=9292187)"
   ]
  },
  {
   "cell_type": "code",
   "execution_count": 5,
   "metadata": {},
   "outputs": [
    {
     "output_type": "execute_result",
     "data": {
      "text/plain": [
       "        imo  voyage_number  vessel_type_id  vessel_class_id  vessel_status_id  \\\n",
       "48  9292187             49               1               84                 1   \n",
       "49  9292187             50               1               84                 1   \n",
       "50  9292187             51               1               84                 1   \n",
       "51  9292187             52               1               84                 1   \n",
       "52  9292187             53               1               84                 1   \n",
       "\n",
       "    commercial_operator_id  deleted  \\\n",
       "48                    1684    False   \n",
       "49                    1713    False   \n",
       "50                    1713    False   \n",
       "51                    1713    False   \n",
       "52                    1713    False   \n",
       "\n",
       "                                               events          id vessel_name  \\\n",
       "48  (VoyageEvent(id=None, port_id=3317, voyage_id=...  9292187.49     Seaking   \n",
       "49  (VoyageEvent(id=None, port_id=6615, voyage_id=...  9292187.50     Seaking   \n",
       "50  (VoyageEvent(id=None, port_id=3317, voyage_id=...  9292187.51     Seaking   \n",
       "51  (VoyageEvent(id=None, port_id=6649, voyage_id=...  9292187.52     Seaking   \n",
       "52  (VoyageEvent(id=None, port_id=3532, voyage_id=...  9292187.53     Seaking   \n",
       "\n",
       "    ... cargo_group cargo_type_source  quantity               laycan_from  \\\n",
       "48  ...       Dirty         Estimated       NaN 2020-04-25 03:47:05+00:00   \n",
       "49  ...       Dirty         Estimated       NaN 2020-06-01 03:57:15+00:00   \n",
       "50  ...       Dirty        MarketInfo  270000.0 2020-10-16 00:00:00+00:00   \n",
       "51  ...       Dirty        MarketInfo  260000.0 2021-02-02 00:00:00+00:00   \n",
       "52  ...       Dirty        MarketInfo  270000.0 2021-04-08 00:00:00+00:00   \n",
       "\n",
       "                   laycan_to fixture_status_id fixture_status  \\\n",
       "48 2020-04-26 03:47:05+00:00               1.0     FullyFixed   \n",
       "49 2020-06-02 03:57:15+00:00               1.0     FullyFixed   \n",
       "50 2020-10-18 23:59:00+00:00               1.0     FullyFixed   \n",
       "51 2021-02-02 00:00:00+00:00               1.0     FullyFixed   \n",
       "52 2021-04-08 00:00:00+00:00               1.0     FullyFixed   \n",
       "\n",
       "                       fixture_date  fixture_is_coa fixture_is_hold  \n",
       "48        2020-03-19 03:42:23+00:00           False           False  \n",
       "49        2020-05-26 17:49:57+00:00            True            True  \n",
       "50        2020-10-07 13:08:52+00:00            True           False  \n",
       "51 2021-01-12 13:45:27.563000+00:00           False           False  \n",
       "52        2021-03-23 12:57:56+00:00           False           False  \n",
       "\n",
       "[5 rows x 37 columns]"
      ],
      "text/html": "<div>\n<style scoped>\n    .dataframe tbody tr th:only-of-type {\n        vertical-align: middle;\n    }\n\n    .dataframe tbody tr th {\n        vertical-align: top;\n    }\n\n    .dataframe thead th {\n        text-align: right;\n    }\n</style>\n<table border=\"1\" class=\"dataframe\">\n  <thead>\n    <tr style=\"text-align: right;\">\n      <th></th>\n      <th>imo</th>\n      <th>voyage_number</th>\n      <th>vessel_type_id</th>\n      <th>vessel_class_id</th>\n      <th>vessel_status_id</th>\n      <th>commercial_operator_id</th>\n      <th>deleted</th>\n      <th>events</th>\n      <th>id</th>\n      <th>vessel_name</th>\n      <th>...</th>\n      <th>cargo_group</th>\n      <th>cargo_type_source</th>\n      <th>quantity</th>\n      <th>laycan_from</th>\n      <th>laycan_to</th>\n      <th>fixture_status_id</th>\n      <th>fixture_status</th>\n      <th>fixture_date</th>\n      <th>fixture_is_coa</th>\n      <th>fixture_is_hold</th>\n    </tr>\n  </thead>\n  <tbody>\n    <tr>\n      <th>48</th>\n      <td>9292187</td>\n      <td>49</td>\n      <td>1</td>\n      <td>84</td>\n      <td>1</td>\n      <td>1684</td>\n      <td>False</td>\n      <td>(VoyageEvent(id=None, port_id=3317, voyage_id=...</td>\n      <td>9292187.49</td>\n      <td>Seaking</td>\n      <td>...</td>\n      <td>Dirty</td>\n      <td>Estimated</td>\n      <td>NaN</td>\n      <td>2020-04-25 03:47:05+00:00</td>\n      <td>2020-04-26 03:47:05+00:00</td>\n      <td>1.0</td>\n      <td>FullyFixed</td>\n      <td>2020-03-19 03:42:23+00:00</td>\n      <td>False</td>\n      <td>False</td>\n    </tr>\n    <tr>\n      <th>49</th>\n      <td>9292187</td>\n      <td>50</td>\n      <td>1</td>\n      <td>84</td>\n      <td>1</td>\n      <td>1713</td>\n      <td>False</td>\n      <td>(VoyageEvent(id=None, port_id=6615, voyage_id=...</td>\n      <td>9292187.50</td>\n      <td>Seaking</td>\n      <td>...</td>\n      <td>Dirty</td>\n      <td>Estimated</td>\n      <td>NaN</td>\n      <td>2020-06-01 03:57:15+00:00</td>\n      <td>2020-06-02 03:57:15+00:00</td>\n      <td>1.0</td>\n      <td>FullyFixed</td>\n      <td>2020-05-26 17:49:57+00:00</td>\n      <td>True</td>\n      <td>True</td>\n    </tr>\n    <tr>\n      <th>50</th>\n      <td>9292187</td>\n      <td>51</td>\n      <td>1</td>\n      <td>84</td>\n      <td>1</td>\n      <td>1713</td>\n      <td>False</td>\n      <td>(VoyageEvent(id=None, port_id=3317, voyage_id=...</td>\n      <td>9292187.51</td>\n      <td>Seaking</td>\n      <td>...</td>\n      <td>Dirty</td>\n      <td>MarketInfo</td>\n      <td>270000.0</td>\n      <td>2020-10-16 00:00:00+00:00</td>\n      <td>2020-10-18 23:59:00+00:00</td>\n      <td>1.0</td>\n      <td>FullyFixed</td>\n      <td>2020-10-07 13:08:52+00:00</td>\n      <td>True</td>\n      <td>False</td>\n    </tr>\n    <tr>\n      <th>51</th>\n      <td>9292187</td>\n      <td>52</td>\n      <td>1</td>\n      <td>84</td>\n      <td>1</td>\n      <td>1713</td>\n      <td>False</td>\n      <td>(VoyageEvent(id=None, port_id=6649, voyage_id=...</td>\n      <td>9292187.52</td>\n      <td>Seaking</td>\n      <td>...</td>\n      <td>Dirty</td>\n      <td>MarketInfo</td>\n      <td>260000.0</td>\n      <td>2021-02-02 00:00:00+00:00</td>\n      <td>2021-02-02 00:00:00+00:00</td>\n      <td>1.0</td>\n      <td>FullyFixed</td>\n      <td>2021-01-12 13:45:27.563000+00:00</td>\n      <td>False</td>\n      <td>False</td>\n    </tr>\n    <tr>\n      <th>52</th>\n      <td>9292187</td>\n      <td>53</td>\n      <td>1</td>\n      <td>84</td>\n      <td>1</td>\n      <td>1713</td>\n      <td>False</td>\n      <td>(VoyageEvent(id=None, port_id=3532, voyage_id=...</td>\n      <td>9292187.53</td>\n      <td>Seaking</td>\n      <td>...</td>\n      <td>Dirty</td>\n      <td>MarketInfo</td>\n      <td>270000.0</td>\n      <td>2021-04-08 00:00:00+00:00</td>\n      <td>2021-04-08 00:00:00+00:00</td>\n      <td>1.0</td>\n      <td>FullyFixed</td>\n      <td>2021-03-23 12:57:56+00:00</td>\n      <td>False</td>\n      <td>False</td>\n    </tr>\n  </tbody>\n</table>\n<p>5 rows × 37 columns</p>\n</div>"
     },
     "metadata": {},
     "execution_count": 5
    }
   ],
   "source": [
    "vessel_voyages_df = pd.DataFrame([v.__dict__ for v in vessel_voyages])\n",
    "vessel_voyages_df.tail(5)"
   ]
  },
  {
   "cell_type": "code",
   "execution_count": 6,
   "metadata": {},
   "outputs": [
    {
     "output_type": "execute_result",
     "data": {
      "text/plain": [
       "       id  port_id voyage_id   event_type event_horizon    purpose  \\\n",
       "299  None     3532      None     PortCall    Historical  Discharge   \n",
       "300  None     3532      None  VoyageStart    Historical      Start   \n",
       "301  None     3711      None         Stop    Historical       Stop   \n",
       "302  None     3778      None     PortCall        Future       Load   \n",
       "303  None     3823      None     PortCall        Future  Discharge   \n",
       "\n",
       "                        arrival_date                     sailing_date  \\\n",
       "299        2021-03-25 03:55:58+00:00        2021-03-26 23:59:41+00:00   \n",
       "300                              NaT                              NaT   \n",
       "301        2021-03-29 19:59:51+00:00        2021-03-30 04:58:00+00:00   \n",
       "302 2021-04-03 15:46:02.040000+00:00        2021-04-08 00:00:00+00:00   \n",
       "303 2021-04-26 15:41:50.200000+00:00 2021-04-28 16:22:09.956000+00:00   \n",
       "\n",
       "     latitude  longitude  ...  area_idlevel0             area_name_level0  \\\n",
       "299   22.5143    69.7044  ...          24764  Pakistan / West Coast India   \n",
       "300   22.5143    69.7044  ...          24764  Pakistan / West Coast India   \n",
       "301   24.9521    58.6659  ...          24777                 Arabian Gulf   \n",
       "302   26.7658    50.1478  ...          24777                 Arabian Gulf   \n",
       "303   23.7871   120.1687  ...          24729                       Taiwan   \n",
       "\n",
       "    area_idlevel1  area_name_level1 area_idlevel2  area_name_level2  \\\n",
       "299         25012  India / Pakistan         25023  India / Pakistan   \n",
       "300         25012  India / Pakistan         25023  India / Pakistan   \n",
       "301             2      Arabian Gulf            89      Arabian Gulf   \n",
       "302             2      Arabian Gulf            89      Arabian Gulf   \n",
       "303            17    China / Taiwan            99          Far East   \n",
       "\n",
       "    area_idlevel3  area_name_level3 low_ais_density  \\\n",
       "299            84              East            None   \n",
       "300            84              East            None   \n",
       "301            84              East            None   \n",
       "302            84              East            True   \n",
       "303            84              East            True   \n",
       "\n",
       "                                         event_details  \n",
       "299  (VoyageEventDetail(id=None, event_id=None, eve...  \n",
       "300                                               None  \n",
       "301  (VoyageEventDetail(id=None, event_id=None, eve...  \n",
       "302                                               None  \n",
       "303                                               None  \n",
       "\n",
       "[5 rows x 25 columns]"
      ],
      "text/html": "<div>\n<style scoped>\n    .dataframe tbody tr th:only-of-type {\n        vertical-align: middle;\n    }\n\n    .dataframe tbody tr th {\n        vertical-align: top;\n    }\n\n    .dataframe thead th {\n        text-align: right;\n    }\n</style>\n<table border=\"1\" class=\"dataframe\">\n  <thead>\n    <tr style=\"text-align: right;\">\n      <th></th>\n      <th>id</th>\n      <th>port_id</th>\n      <th>voyage_id</th>\n      <th>event_type</th>\n      <th>event_horizon</th>\n      <th>purpose</th>\n      <th>arrival_date</th>\n      <th>sailing_date</th>\n      <th>latitude</th>\n      <th>longitude</th>\n      <th>...</th>\n      <th>area_idlevel0</th>\n      <th>area_name_level0</th>\n      <th>area_idlevel1</th>\n      <th>area_name_level1</th>\n      <th>area_idlevel2</th>\n      <th>area_name_level2</th>\n      <th>area_idlevel3</th>\n      <th>area_name_level3</th>\n      <th>low_ais_density</th>\n      <th>event_details</th>\n    </tr>\n  </thead>\n  <tbody>\n    <tr>\n      <th>299</th>\n      <td>None</td>\n      <td>3532</td>\n      <td>None</td>\n      <td>PortCall</td>\n      <td>Historical</td>\n      <td>Discharge</td>\n      <td>2021-03-25 03:55:58+00:00</td>\n      <td>2021-03-26 23:59:41+00:00</td>\n      <td>22.5143</td>\n      <td>69.7044</td>\n      <td>...</td>\n      <td>24764</td>\n      <td>Pakistan / West Coast India</td>\n      <td>25012</td>\n      <td>India / Pakistan</td>\n      <td>25023</td>\n      <td>India / Pakistan</td>\n      <td>84</td>\n      <td>East</td>\n      <td>None</td>\n      <td>(VoyageEventDetail(id=None, event_id=None, eve...</td>\n    </tr>\n    <tr>\n      <th>300</th>\n      <td>None</td>\n      <td>3532</td>\n      <td>None</td>\n      <td>VoyageStart</td>\n      <td>Historical</td>\n      <td>Start</td>\n      <td>NaT</td>\n      <td>NaT</td>\n      <td>22.5143</td>\n      <td>69.7044</td>\n      <td>...</td>\n      <td>24764</td>\n      <td>Pakistan / West Coast India</td>\n      <td>25012</td>\n      <td>India / Pakistan</td>\n      <td>25023</td>\n      <td>India / Pakistan</td>\n      <td>84</td>\n      <td>East</td>\n      <td>None</td>\n      <td>None</td>\n    </tr>\n    <tr>\n      <th>301</th>\n      <td>None</td>\n      <td>3711</td>\n      <td>None</td>\n      <td>Stop</td>\n      <td>Historical</td>\n      <td>Stop</td>\n      <td>2021-03-29 19:59:51+00:00</td>\n      <td>2021-03-30 04:58:00+00:00</td>\n      <td>24.9521</td>\n      <td>58.6659</td>\n      <td>...</td>\n      <td>24777</td>\n      <td>Arabian Gulf</td>\n      <td>2</td>\n      <td>Arabian Gulf</td>\n      <td>89</td>\n      <td>Arabian Gulf</td>\n      <td>84</td>\n      <td>East</td>\n      <td>None</td>\n      <td>(VoyageEventDetail(id=None, event_id=None, eve...</td>\n    </tr>\n    <tr>\n      <th>302</th>\n      <td>None</td>\n      <td>3778</td>\n      <td>None</td>\n      <td>PortCall</td>\n      <td>Future</td>\n      <td>Load</td>\n      <td>2021-04-03 15:46:02.040000+00:00</td>\n      <td>2021-04-08 00:00:00+00:00</td>\n      <td>26.7658</td>\n      <td>50.1478</td>\n      <td>...</td>\n      <td>24777</td>\n      <td>Arabian Gulf</td>\n      <td>2</td>\n      <td>Arabian Gulf</td>\n      <td>89</td>\n      <td>Arabian Gulf</td>\n      <td>84</td>\n      <td>East</td>\n      <td>True</td>\n      <td>None</td>\n    </tr>\n    <tr>\n      <th>303</th>\n      <td>None</td>\n      <td>3823</td>\n      <td>None</td>\n      <td>PortCall</td>\n      <td>Future</td>\n      <td>Discharge</td>\n      <td>2021-04-26 15:41:50.200000+00:00</td>\n      <td>2021-04-28 16:22:09.956000+00:00</td>\n      <td>23.7871</td>\n      <td>120.1687</td>\n      <td>...</td>\n      <td>24729</td>\n      <td>Taiwan</td>\n      <td>17</td>\n      <td>China / Taiwan</td>\n      <td>99</td>\n      <td>Far East</td>\n      <td>84</td>\n      <td>East</td>\n      <td>True</td>\n      <td>None</td>\n    </tr>\n  </tbody>\n</table>\n<p>5 rows × 25 columns</p>\n</div>"
     },
     "metadata": {},
     "execution_count": 6
    }
   ],
   "source": [
    "vessel_events_df = pd.DataFrame(e.__dict__ for voyage_events in vessel_voyages_df['events'] for e in voyage_events)\n",
    "vessel_events_df.tail(5)"
   ]
  },
  {
   "cell_type": "code",
   "execution_count": 7,
   "metadata": {},
   "outputs": [
    {
     "output_type": "execute_result",
     "data": {
      "text/plain": [
       "       id event_id event_detail_type              arrival_date  \\\n",
       "271  None     None             Jetty 2021-02-03 07:55:41+00:00   \n",
       "272  None     None              Stop 2021-02-06 11:35:06+00:00   \n",
       "273  None     None             Jetty 2021-02-09 09:05:48+00:00   \n",
       "274  None     None             Jetty 2021-03-25 03:55:58+00:00   \n",
       "275  None     None              Stop 2021-03-29 19:59:51+00:00   \n",
       "\n",
       "                        sailing_date   start_time_of_operation  \\\n",
       "271        2021-02-04 23:39:34+00:00 2021-02-03 10:57:50+00:00   \n",
       "272        2021-02-08 10:46:06+00:00                       NaT   \n",
       "273 2021-02-28 23:06:13.400000+00:00 2021-02-26 15:27:11+00:00   \n",
       "274        2021-03-26 23:59:41+00:00 2021-03-25 03:55:58+00:00   \n",
       "275        2021-03-30 04:58:00+00:00                       NaT   \n",
       "\n",
       "        end_time_of_operation  geo_asset_id           geo_asset_name  \\\n",
       "271 2021-02-03 12:15:52+00:00          4369                FPSO Akpo   \n",
       "272                       NaT          4062    Port Gentil Anchorage   \n",
       "273 2021-02-26 15:27:11+00:00          5352  Bonny Offshore Terminal   \n",
       "274 2021-03-26 23:59:41+00:00          5112   Essar Vadinar Refinery   \n",
       "275                       NaT          5101   Mina Al Fahal Refinery   \n",
       "\n",
       "      latitude  longitude  other_vessel_imo other_vessel_name  \n",
       "271   3.160565   6.831695               NaN              None  \n",
       "272  -0.996812   7.547887               NaN              None  \n",
       "273   4.170430   7.218700               NaN              None  \n",
       "274  22.514310  69.704380               NaN              None  \n",
       "275  24.952147  58.665850               NaN              None  "
      ],
      "text/html": "<div>\n<style scoped>\n    .dataframe tbody tr th:only-of-type {\n        vertical-align: middle;\n    }\n\n    .dataframe tbody tr th {\n        vertical-align: top;\n    }\n\n    .dataframe thead th {\n        text-align: right;\n    }\n</style>\n<table border=\"1\" class=\"dataframe\">\n  <thead>\n    <tr style=\"text-align: right;\">\n      <th></th>\n      <th>id</th>\n      <th>event_id</th>\n      <th>event_detail_type</th>\n      <th>arrival_date</th>\n      <th>sailing_date</th>\n      <th>start_time_of_operation</th>\n      <th>end_time_of_operation</th>\n      <th>geo_asset_id</th>\n      <th>geo_asset_name</th>\n      <th>latitude</th>\n      <th>longitude</th>\n      <th>other_vessel_imo</th>\n      <th>other_vessel_name</th>\n    </tr>\n  </thead>\n  <tbody>\n    <tr>\n      <th>271</th>\n      <td>None</td>\n      <td>None</td>\n      <td>Jetty</td>\n      <td>2021-02-03 07:55:41+00:00</td>\n      <td>2021-02-04 23:39:34+00:00</td>\n      <td>2021-02-03 10:57:50+00:00</td>\n      <td>2021-02-03 12:15:52+00:00</td>\n      <td>4369</td>\n      <td>FPSO Akpo</td>\n      <td>3.160565</td>\n      <td>6.831695</td>\n      <td>NaN</td>\n      <td>None</td>\n    </tr>\n    <tr>\n      <th>272</th>\n      <td>None</td>\n      <td>None</td>\n      <td>Stop</td>\n      <td>2021-02-06 11:35:06+00:00</td>\n      <td>2021-02-08 10:46:06+00:00</td>\n      <td>NaT</td>\n      <td>NaT</td>\n      <td>4062</td>\n      <td>Port Gentil Anchorage</td>\n      <td>-0.996812</td>\n      <td>7.547887</td>\n      <td>NaN</td>\n      <td>None</td>\n    </tr>\n    <tr>\n      <th>273</th>\n      <td>None</td>\n      <td>None</td>\n      <td>Jetty</td>\n      <td>2021-02-09 09:05:48+00:00</td>\n      <td>2021-02-28 23:06:13.400000+00:00</td>\n      <td>2021-02-26 15:27:11+00:00</td>\n      <td>2021-02-26 15:27:11+00:00</td>\n      <td>5352</td>\n      <td>Bonny Offshore Terminal</td>\n      <td>4.170430</td>\n      <td>7.218700</td>\n      <td>NaN</td>\n      <td>None</td>\n    </tr>\n    <tr>\n      <th>274</th>\n      <td>None</td>\n      <td>None</td>\n      <td>Jetty</td>\n      <td>2021-03-25 03:55:58+00:00</td>\n      <td>2021-03-26 23:59:41+00:00</td>\n      <td>2021-03-25 03:55:58+00:00</td>\n      <td>2021-03-26 23:59:41+00:00</td>\n      <td>5112</td>\n      <td>Essar Vadinar Refinery</td>\n      <td>22.514310</td>\n      <td>69.704380</td>\n      <td>NaN</td>\n      <td>None</td>\n    </tr>\n    <tr>\n      <th>275</th>\n      <td>None</td>\n      <td>None</td>\n      <td>Stop</td>\n      <td>2021-03-29 19:59:51+00:00</td>\n      <td>2021-03-30 04:58:00+00:00</td>\n      <td>NaT</td>\n      <td>NaT</td>\n      <td>5101</td>\n      <td>Mina Al Fahal Refinery</td>\n      <td>24.952147</td>\n      <td>58.665850</td>\n      <td>NaN</td>\n      <td>None</td>\n    </tr>\n  </tbody>\n</table>\n</div>"
     },
     "metadata": {},
     "execution_count": 7
    }
   ],
   "source": [
    "vessel_event_details_df = pd.DataFrame(e.__dict__ for event_details in vessel_events_df['event_details'] for e in event_details or [])\n",
    "vessel_event_details_df.tail(5)"
   ]
  },
  {
   "cell_type": "markdown",
   "metadata": {},
   "source": [
    "### Get voyages for vessel class"
   ]
  },
  {
   "cell_type": "code",
   "execution_count": 8,
   "metadata": {},
   "outputs": [],
   "source": [
    "vlcc_id = 84\n",
    "date_from = date.today() - timedelta(days=30)\n",
    "recent_vlcc_voyages = api.get_voyages(vessel_class_id=vlcc_id, date_from=date_from)"
   ]
  },
  {
   "cell_type": "code",
   "execution_count": 9,
   "metadata": {
    "scrolled": true
   },
   "outputs": [
    {
     "output_type": "execute_result",
     "data": {
      "text/plain": [
       "         imo  voyage_number  vessel_type_id  vessel_class_id  \\\n",
       "188  9878656              4               1               84   \n",
       "189  9878826              4               1               84   \n",
       "190  9878826              5               1               84   \n",
       "191  9878838              5               1               84   \n",
       "192  9878838              6               1               84   \n",
       "\n",
       "     vessel_status_id  commercial_operator_id  deleted  \\\n",
       "188                 1                      -1    False   \n",
       "189                 1                    1713    False   \n",
       "190                 1                    1713    False   \n",
       "191                 1                    1713    False   \n",
       "192                 1                    1713    False   \n",
       "\n",
       "                                                events         id  \\\n",
       "188  (VoyageEvent(id=None, port_id=3596, voyage_id=...  9878656.4   \n",
       "189  (VoyageEvent(id=None, port_id=3801, voyage_id=...  9878826.4   \n",
       "190  (VoyageEvent(id=None, port_id=3801, voyage_id=...  9878826.5   \n",
       "191  (VoyageEvent(id=None, port_id=3801, voyage_id=...  9878838.5   \n",
       "192  (VoyageEvent(id=None, port_id=3801, voyage_id=...  9878838.6   \n",
       "\n",
       "        vessel_name  ... cargo_group cargo_type_source quantity  laycan_from  \\\n",
       "188      Shoho Maru  ...       Dirty         Estimated      NaN          NaT   \n",
       "189         Babylon  ...       Dirty         Estimated      NaN          NaT   \n",
       "190         Babylon  ...       Dirty         Estimated      NaN          NaT   \n",
       "191  Silverstone St  ...       Dirty         Estimated      NaN          NaT   \n",
       "192  Silverstone St  ...       Dirty         Estimated      NaN          NaT   \n",
       "\n",
       "    laycan_to fixture_status_id fixture_status fixture_date  fixture_is_coa  \\\n",
       "188       NaT               NaN           None          NaT            None   \n",
       "189       NaT               NaN           None          NaT            None   \n",
       "190       NaT               NaN           None          NaT            None   \n",
       "191       NaT               NaN           None          NaT            None   \n",
       "192       NaT               NaN           None          NaT            None   \n",
       "\n",
       "    fixture_is_hold  \n",
       "188            None  \n",
       "189            None  \n",
       "190            None  \n",
       "191            None  \n",
       "192            None  \n",
       "\n",
       "[5 rows x 37 columns]"
      ],
      "text/html": "<div>\n<style scoped>\n    .dataframe tbody tr th:only-of-type {\n        vertical-align: middle;\n    }\n\n    .dataframe tbody tr th {\n        vertical-align: top;\n    }\n\n    .dataframe thead th {\n        text-align: right;\n    }\n</style>\n<table border=\"1\" class=\"dataframe\">\n  <thead>\n    <tr style=\"text-align: right;\">\n      <th></th>\n      <th>imo</th>\n      <th>voyage_number</th>\n      <th>vessel_type_id</th>\n      <th>vessel_class_id</th>\n      <th>vessel_status_id</th>\n      <th>commercial_operator_id</th>\n      <th>deleted</th>\n      <th>events</th>\n      <th>id</th>\n      <th>vessel_name</th>\n      <th>...</th>\n      <th>cargo_group</th>\n      <th>cargo_type_source</th>\n      <th>quantity</th>\n      <th>laycan_from</th>\n      <th>laycan_to</th>\n      <th>fixture_status_id</th>\n      <th>fixture_status</th>\n      <th>fixture_date</th>\n      <th>fixture_is_coa</th>\n      <th>fixture_is_hold</th>\n    </tr>\n  </thead>\n  <tbody>\n    <tr>\n      <th>188</th>\n      <td>9878656</td>\n      <td>4</td>\n      <td>1</td>\n      <td>84</td>\n      <td>1</td>\n      <td>-1</td>\n      <td>False</td>\n      <td>(VoyageEvent(id=None, port_id=3596, voyage_id=...</td>\n      <td>9878656.4</td>\n      <td>Shoho Maru</td>\n      <td>...</td>\n      <td>Dirty</td>\n      <td>Estimated</td>\n      <td>NaN</td>\n      <td>NaT</td>\n      <td>NaT</td>\n      <td>NaN</td>\n      <td>None</td>\n      <td>NaT</td>\n      <td>None</td>\n      <td>None</td>\n    </tr>\n    <tr>\n      <th>189</th>\n      <td>9878826</td>\n      <td>4</td>\n      <td>1</td>\n      <td>84</td>\n      <td>1</td>\n      <td>1713</td>\n      <td>False</td>\n      <td>(VoyageEvent(id=None, port_id=3801, voyage_id=...</td>\n      <td>9878826.4</td>\n      <td>Babylon</td>\n      <td>...</td>\n      <td>Dirty</td>\n      <td>Estimated</td>\n      <td>NaN</td>\n      <td>NaT</td>\n      <td>NaT</td>\n      <td>NaN</td>\n      <td>None</td>\n      <td>NaT</td>\n      <td>None</td>\n      <td>None</td>\n    </tr>\n    <tr>\n      <th>190</th>\n      <td>9878826</td>\n      <td>5</td>\n      <td>1</td>\n      <td>84</td>\n      <td>1</td>\n      <td>1713</td>\n      <td>False</td>\n      <td>(VoyageEvent(id=None, port_id=3801, voyage_id=...</td>\n      <td>9878826.5</td>\n      <td>Babylon</td>\n      <td>...</td>\n      <td>Dirty</td>\n      <td>Estimated</td>\n      <td>NaN</td>\n      <td>NaT</td>\n      <td>NaT</td>\n      <td>NaN</td>\n      <td>None</td>\n      <td>NaT</td>\n      <td>None</td>\n      <td>None</td>\n    </tr>\n    <tr>\n      <th>191</th>\n      <td>9878838</td>\n      <td>5</td>\n      <td>1</td>\n      <td>84</td>\n      <td>1</td>\n      <td>1713</td>\n      <td>False</td>\n      <td>(VoyageEvent(id=None, port_id=3801, voyage_id=...</td>\n      <td>9878838.5</td>\n      <td>Silverstone St</td>\n      <td>...</td>\n      <td>Dirty</td>\n      <td>Estimated</td>\n      <td>NaN</td>\n      <td>NaT</td>\n      <td>NaT</td>\n      <td>NaN</td>\n      <td>None</td>\n      <td>NaT</td>\n      <td>None</td>\n      <td>None</td>\n    </tr>\n    <tr>\n      <th>192</th>\n      <td>9878838</td>\n      <td>6</td>\n      <td>1</td>\n      <td>84</td>\n      <td>1</td>\n      <td>1713</td>\n      <td>False</td>\n      <td>(VoyageEvent(id=None, port_id=3801, voyage_id=...</td>\n      <td>9878838.6</td>\n      <td>Silverstone St</td>\n      <td>...</td>\n      <td>Dirty</td>\n      <td>Estimated</td>\n      <td>NaN</td>\n      <td>NaT</td>\n      <td>NaT</td>\n      <td>NaN</td>\n      <td>None</td>\n      <td>NaT</td>\n      <td>None</td>\n      <td>None</td>\n    </tr>\n  </tbody>\n</table>\n<p>5 rows × 37 columns</p>\n</div>"
     },
     "metadata": {},
     "execution_count": 9
    }
   ],
   "source": [
    "recent_vlcc_voyages = pd.DataFrame([v.__dict__ for v in recent_vlcc_voyages])\n",
    "recent_vlcc_voyages.tail(5)"
   ]
  },
  {
   "cell_type": "markdown",
   "metadata": {},
   "source": [
    "### Get voyages for vessel in flat format"
   ]
  },
  {
   "cell_type": "code",
   "execution_count": 10,
   "metadata": {},
   "outputs": [],
   "source": [
    "vessel_voyages_flat = api.get_voyages_flat(imo=9292187)"
   ]
  },
  {
   "cell_type": "code",
   "execution_count": 11,
   "metadata": {},
   "outputs": [
    {
     "output_type": "execute_result",
     "data": {
      "text/plain": [
       "        imo  voyage_number  vessel_type_id  vessel_class_id  vessel_status_id  \\\n",
       "48  9292187             49               1               84                 1   \n",
       "49  9292187             50               1               84                 1   \n",
       "50  9292187             51               1               84                 1   \n",
       "51  9292187             52               1               84                 1   \n",
       "52  9292187             53               1               84                 1   \n",
       "\n",
       "    commercial_operator_id  deleted events          id vessel_name  ...  \\\n",
       "48                    1684    False   None  9292187.49     Seaking  ...   \n",
       "49                    1713    False   None  9292187.50     Seaking  ...   \n",
       "50                    1713    False   None  9292187.51     Seaking  ...   \n",
       "51                    1713    False   None  9292187.52     Seaking  ...   \n",
       "52                    1713    False   None  9292187.53     Seaking  ...   \n",
       "\n",
       "   cargo_group cargo_type_source  quantity               laycan_from  \\\n",
       "48       Dirty         Estimated       NaN 2020-04-25 03:47:05+00:00   \n",
       "49       Dirty         Estimated       NaN 2020-06-01 03:57:15+00:00   \n",
       "50       Dirty        MarketInfo  270000.0 2020-10-16 00:00:00+00:00   \n",
       "51       Dirty        MarketInfo  260000.0 2021-02-02 00:00:00+00:00   \n",
       "52       Dirty        MarketInfo  270000.0 2021-04-08 00:00:00+00:00   \n",
       "\n",
       "                   laycan_to fixture_status_id fixture_status  \\\n",
       "48 2020-04-26 03:47:05+00:00               1.0     FullyFixed   \n",
       "49 2020-06-02 03:57:15+00:00               1.0     FullyFixed   \n",
       "50 2020-10-18 23:59:00+00:00               1.0     FullyFixed   \n",
       "51 2021-02-02 00:00:00+00:00               1.0     FullyFixed   \n",
       "52 2021-04-08 00:00:00+00:00               1.0     FullyFixed   \n",
       "\n",
       "                       fixture_date  fixture_is_coa fixture_is_hold  \n",
       "48        2020-03-19 03:42:23+00:00           False           False  \n",
       "49        2020-05-26 17:49:57+00:00            True            True  \n",
       "50        2020-10-07 13:08:52+00:00            True           False  \n",
       "51 2021-01-12 13:45:27.563000+00:00           False           False  \n",
       "52        2021-03-23 12:57:56+00:00           False           False  \n",
       "\n",
       "[5 rows x 37 columns]"
      ],
      "text/html": "<div>\n<style scoped>\n    .dataframe tbody tr th:only-of-type {\n        vertical-align: middle;\n    }\n\n    .dataframe tbody tr th {\n        vertical-align: top;\n    }\n\n    .dataframe thead th {\n        text-align: right;\n    }\n</style>\n<table border=\"1\" class=\"dataframe\">\n  <thead>\n    <tr style=\"text-align: right;\">\n      <th></th>\n      <th>imo</th>\n      <th>voyage_number</th>\n      <th>vessel_type_id</th>\n      <th>vessel_class_id</th>\n      <th>vessel_status_id</th>\n      <th>commercial_operator_id</th>\n      <th>deleted</th>\n      <th>events</th>\n      <th>id</th>\n      <th>vessel_name</th>\n      <th>...</th>\n      <th>cargo_group</th>\n      <th>cargo_type_source</th>\n      <th>quantity</th>\n      <th>laycan_from</th>\n      <th>laycan_to</th>\n      <th>fixture_status_id</th>\n      <th>fixture_status</th>\n      <th>fixture_date</th>\n      <th>fixture_is_coa</th>\n      <th>fixture_is_hold</th>\n    </tr>\n  </thead>\n  <tbody>\n    <tr>\n      <th>48</th>\n      <td>9292187</td>\n      <td>49</td>\n      <td>1</td>\n      <td>84</td>\n      <td>1</td>\n      <td>1684</td>\n      <td>False</td>\n      <td>None</td>\n      <td>9292187.49</td>\n      <td>Seaking</td>\n      <td>...</td>\n      <td>Dirty</td>\n      <td>Estimated</td>\n      <td>NaN</td>\n      <td>2020-04-25 03:47:05+00:00</td>\n      <td>2020-04-26 03:47:05+00:00</td>\n      <td>1.0</td>\n      <td>FullyFixed</td>\n      <td>2020-03-19 03:42:23+00:00</td>\n      <td>False</td>\n      <td>False</td>\n    </tr>\n    <tr>\n      <th>49</th>\n      <td>9292187</td>\n      <td>50</td>\n      <td>1</td>\n      <td>84</td>\n      <td>1</td>\n      <td>1713</td>\n      <td>False</td>\n      <td>None</td>\n      <td>9292187.50</td>\n      <td>Seaking</td>\n      <td>...</td>\n      <td>Dirty</td>\n      <td>Estimated</td>\n      <td>NaN</td>\n      <td>2020-06-01 03:57:15+00:00</td>\n      <td>2020-06-02 03:57:15+00:00</td>\n      <td>1.0</td>\n      <td>FullyFixed</td>\n      <td>2020-05-26 17:49:57+00:00</td>\n      <td>True</td>\n      <td>True</td>\n    </tr>\n    <tr>\n      <th>50</th>\n      <td>9292187</td>\n      <td>51</td>\n      <td>1</td>\n      <td>84</td>\n      <td>1</td>\n      <td>1713</td>\n      <td>False</td>\n      <td>None</td>\n      <td>9292187.51</td>\n      <td>Seaking</td>\n      <td>...</td>\n      <td>Dirty</td>\n      <td>MarketInfo</td>\n      <td>270000.0</td>\n      <td>2020-10-16 00:00:00+00:00</td>\n      <td>2020-10-18 23:59:00+00:00</td>\n      <td>1.0</td>\n      <td>FullyFixed</td>\n      <td>2020-10-07 13:08:52+00:00</td>\n      <td>True</td>\n      <td>False</td>\n    </tr>\n    <tr>\n      <th>51</th>\n      <td>9292187</td>\n      <td>52</td>\n      <td>1</td>\n      <td>84</td>\n      <td>1</td>\n      <td>1713</td>\n      <td>False</td>\n      <td>None</td>\n      <td>9292187.52</td>\n      <td>Seaking</td>\n      <td>...</td>\n      <td>Dirty</td>\n      <td>MarketInfo</td>\n      <td>260000.0</td>\n      <td>2021-02-02 00:00:00+00:00</td>\n      <td>2021-02-02 00:00:00+00:00</td>\n      <td>1.0</td>\n      <td>FullyFixed</td>\n      <td>2021-01-12 13:45:27.563000+00:00</td>\n      <td>False</td>\n      <td>False</td>\n    </tr>\n    <tr>\n      <th>52</th>\n      <td>9292187</td>\n      <td>53</td>\n      <td>1</td>\n      <td>84</td>\n      <td>1</td>\n      <td>1713</td>\n      <td>False</td>\n      <td>None</td>\n      <td>9292187.53</td>\n      <td>Seaking</td>\n      <td>...</td>\n      <td>Dirty</td>\n      <td>MarketInfo</td>\n      <td>270000.0</td>\n      <td>2021-04-08 00:00:00+00:00</td>\n      <td>2021-04-08 00:00:00+00:00</td>\n      <td>1.0</td>\n      <td>FullyFixed</td>\n      <td>2021-03-23 12:57:56+00:00</td>\n      <td>False</td>\n      <td>False</td>\n    </tr>\n  </tbody>\n</table>\n<p>5 rows × 37 columns</p>\n</div>"
     },
     "metadata": {},
     "execution_count": 11
    }
   ],
   "source": [
    "vessel_voyages_df = pd.DataFrame(v.__dict__ for v in vessel_voyages_flat.voyages)\n",
    "vessel_voyages_df.tail(5)"
   ]
  },
  {
   "cell_type": "code",
   "execution_count": 12,
   "metadata": {},
   "outputs": [
    {
     "output_type": "execute_result",
     "data": {
      "text/plain": [
       "               id  port_id   voyage_id   event_type event_horizon    purpose  \\\n",
       "299  9292187.52.6     3532  9292187.52     PortCall    Historical  Discharge   \n",
       "300  9292187.53.0     3532  9292187.53  VoyageStart    Historical      Start   \n",
       "301  9292187.53.1     3711  9292187.53         Stop    Historical       Stop   \n",
       "302  9292187.53.2     3778  9292187.53     PortCall        Future       Load   \n",
       "303  9292187.53.3     3823  9292187.53     PortCall        Future  Discharge   \n",
       "\n",
       "                        arrival_date                     sailing_date  \\\n",
       "299        2021-03-25 03:55:58+00:00        2021-03-26 23:59:41+00:00   \n",
       "300                              NaT                              NaT   \n",
       "301        2021-03-29 19:59:51+00:00        2021-03-30 04:58:00+00:00   \n",
       "302 2021-04-03 15:46:02.040000+00:00        2021-04-08 00:00:00+00:00   \n",
       "303 2021-04-26 15:41:50.200000+00:00 2021-04-28 16:22:09.956000+00:00   \n",
       "\n",
       "     latitude  longitude  ...  area_idlevel0 area_name_level0 area_idlevel1  \\\n",
       "299   22.5143    69.7044  ...           None             None          None   \n",
       "300   22.5143    69.7044  ...           None             None          None   \n",
       "301   24.9521    58.6659  ...           None             None          None   \n",
       "302   26.7658    50.1478  ...           None             None          None   \n",
       "303   23.7871   120.1687  ...           None             None          None   \n",
       "\n",
       "    area_name_level1 area_idlevel2 area_name_level2 area_idlevel3  \\\n",
       "299             None          None             None          None   \n",
       "300             None          None             None          None   \n",
       "301             None          None             None          None   \n",
       "302             None          None             None          None   \n",
       "303             None          None             None          None   \n",
       "\n",
       "    area_name_level3 low_ais_density event_details  \n",
       "299             None            None          None  \n",
       "300             None            None          None  \n",
       "301             None            None          None  \n",
       "302             None            True          None  \n",
       "303             None            True          None  \n",
       "\n",
       "[5 rows x 25 columns]"
      ],
      "text/html": "<div>\n<style scoped>\n    .dataframe tbody tr th:only-of-type {\n        vertical-align: middle;\n    }\n\n    .dataframe tbody tr th {\n        vertical-align: top;\n    }\n\n    .dataframe thead th {\n        text-align: right;\n    }\n</style>\n<table border=\"1\" class=\"dataframe\">\n  <thead>\n    <tr style=\"text-align: right;\">\n      <th></th>\n      <th>id</th>\n      <th>port_id</th>\n      <th>voyage_id</th>\n      <th>event_type</th>\n      <th>event_horizon</th>\n      <th>purpose</th>\n      <th>arrival_date</th>\n      <th>sailing_date</th>\n      <th>latitude</th>\n      <th>longitude</th>\n      <th>...</th>\n      <th>area_idlevel0</th>\n      <th>area_name_level0</th>\n      <th>area_idlevel1</th>\n      <th>area_name_level1</th>\n      <th>area_idlevel2</th>\n      <th>area_name_level2</th>\n      <th>area_idlevel3</th>\n      <th>area_name_level3</th>\n      <th>low_ais_density</th>\n      <th>event_details</th>\n    </tr>\n  </thead>\n  <tbody>\n    <tr>\n      <th>299</th>\n      <td>9292187.52.6</td>\n      <td>3532</td>\n      <td>9292187.52</td>\n      <td>PortCall</td>\n      <td>Historical</td>\n      <td>Discharge</td>\n      <td>2021-03-25 03:55:58+00:00</td>\n      <td>2021-03-26 23:59:41+00:00</td>\n      <td>22.5143</td>\n      <td>69.7044</td>\n      <td>...</td>\n      <td>None</td>\n      <td>None</td>\n      <td>None</td>\n      <td>None</td>\n      <td>None</td>\n      <td>None</td>\n      <td>None</td>\n      <td>None</td>\n      <td>None</td>\n      <td>None</td>\n    </tr>\n    <tr>\n      <th>300</th>\n      <td>9292187.53.0</td>\n      <td>3532</td>\n      <td>9292187.53</td>\n      <td>VoyageStart</td>\n      <td>Historical</td>\n      <td>Start</td>\n      <td>NaT</td>\n      <td>NaT</td>\n      <td>22.5143</td>\n      <td>69.7044</td>\n      <td>...</td>\n      <td>None</td>\n      <td>None</td>\n      <td>None</td>\n      <td>None</td>\n      <td>None</td>\n      <td>None</td>\n      <td>None</td>\n      <td>None</td>\n      <td>None</td>\n      <td>None</td>\n    </tr>\n    <tr>\n      <th>301</th>\n      <td>9292187.53.1</td>\n      <td>3711</td>\n      <td>9292187.53</td>\n      <td>Stop</td>\n      <td>Historical</td>\n      <td>Stop</td>\n      <td>2021-03-29 19:59:51+00:00</td>\n      <td>2021-03-30 04:58:00+00:00</td>\n      <td>24.9521</td>\n      <td>58.6659</td>\n      <td>...</td>\n      <td>None</td>\n      <td>None</td>\n      <td>None</td>\n      <td>None</td>\n      <td>None</td>\n      <td>None</td>\n      <td>None</td>\n      <td>None</td>\n      <td>None</td>\n      <td>None</td>\n    </tr>\n    <tr>\n      <th>302</th>\n      <td>9292187.53.2</td>\n      <td>3778</td>\n      <td>9292187.53</td>\n      <td>PortCall</td>\n      <td>Future</td>\n      <td>Load</td>\n      <td>2021-04-03 15:46:02.040000+00:00</td>\n      <td>2021-04-08 00:00:00+00:00</td>\n      <td>26.7658</td>\n      <td>50.1478</td>\n      <td>...</td>\n      <td>None</td>\n      <td>None</td>\n      <td>None</td>\n      <td>None</td>\n      <td>None</td>\n      <td>None</td>\n      <td>None</td>\n      <td>None</td>\n      <td>True</td>\n      <td>None</td>\n    </tr>\n    <tr>\n      <th>303</th>\n      <td>9292187.53.3</td>\n      <td>3823</td>\n      <td>9292187.53</td>\n      <td>PortCall</td>\n      <td>Future</td>\n      <td>Discharge</td>\n      <td>2021-04-26 15:41:50.200000+00:00</td>\n      <td>2021-04-28 16:22:09.956000+00:00</td>\n      <td>23.7871</td>\n      <td>120.1687</td>\n      <td>...</td>\n      <td>None</td>\n      <td>None</td>\n      <td>None</td>\n      <td>None</td>\n      <td>None</td>\n      <td>None</td>\n      <td>None</td>\n      <td>None</td>\n      <td>True</td>\n      <td>None</td>\n    </tr>\n  </tbody>\n</table>\n<p>5 rows × 25 columns</p>\n</div>"
     },
     "metadata": {},
     "execution_count": 12
    }
   ],
   "source": [
    "vessel_events_df = pd.DataFrame(v.__dict__ for v in vessel_voyages_flat.events)\n",
    "vessel_events_df.tail(5)"
   ]
  },
  {
   "cell_type": "code",
   "execution_count": 13,
   "metadata": {},
   "outputs": [
    {
     "output_type": "execute_result",
     "data": {
      "text/plain": [
       "                 id      event_id event_detail_type              arrival_date  \\\n",
       "271  9292187.52.3.0  9292187.52.3             Jetty 2021-02-03 07:55:41+00:00   \n",
       "272  9292187.52.4.0  9292187.52.4              Stop 2021-02-06 11:35:06+00:00   \n",
       "273  9292187.52.5.0  9292187.52.5             Jetty 2021-02-09 09:05:48+00:00   \n",
       "274  9292187.52.6.0  9292187.52.6             Jetty 2021-03-25 03:55:58+00:00   \n",
       "275  9292187.53.1.0  9292187.53.1              Stop 2021-03-29 19:59:51+00:00   \n",
       "\n",
       "                        sailing_date   start_time_of_operation  \\\n",
       "271        2021-02-04 23:39:34+00:00 2021-02-03 10:57:50+00:00   \n",
       "272        2021-02-08 10:46:06+00:00                       NaT   \n",
       "273 2021-02-28 23:06:13.400000+00:00 2021-02-26 15:27:11+00:00   \n",
       "274        2021-03-26 23:59:41+00:00 2021-03-25 03:55:58+00:00   \n",
       "275        2021-03-30 04:58:00+00:00                       NaT   \n",
       "\n",
       "        end_time_of_operation  geo_asset_id           geo_asset_name  \\\n",
       "271 2021-02-03 12:15:52+00:00          4369                FPSO Akpo   \n",
       "272                       NaT          4062    Port Gentil Anchorage   \n",
       "273 2021-02-26 15:27:11+00:00          5352  Bonny Offshore Terminal   \n",
       "274 2021-03-26 23:59:41+00:00          5112   Essar Vadinar Refinery   \n",
       "275                       NaT          5101   Mina Al Fahal Refinery   \n",
       "\n",
       "      latitude  longitude  other_vessel_imo other_vessel_name  \n",
       "271   3.160565   6.831695               NaN              None  \n",
       "272  -0.996812   7.547887               NaN              None  \n",
       "273   4.170430   7.218700               NaN              None  \n",
       "274  22.514310  69.704380               NaN              None  \n",
       "275  24.952147  58.665850               NaN              None  "
      ],
      "text/html": "<div>\n<style scoped>\n    .dataframe tbody tr th:only-of-type {\n        vertical-align: middle;\n    }\n\n    .dataframe tbody tr th {\n        vertical-align: top;\n    }\n\n    .dataframe thead th {\n        text-align: right;\n    }\n</style>\n<table border=\"1\" class=\"dataframe\">\n  <thead>\n    <tr style=\"text-align: right;\">\n      <th></th>\n      <th>id</th>\n      <th>event_id</th>\n      <th>event_detail_type</th>\n      <th>arrival_date</th>\n      <th>sailing_date</th>\n      <th>start_time_of_operation</th>\n      <th>end_time_of_operation</th>\n      <th>geo_asset_id</th>\n      <th>geo_asset_name</th>\n      <th>latitude</th>\n      <th>longitude</th>\n      <th>other_vessel_imo</th>\n      <th>other_vessel_name</th>\n    </tr>\n  </thead>\n  <tbody>\n    <tr>\n      <th>271</th>\n      <td>9292187.52.3.0</td>\n      <td>9292187.52.3</td>\n      <td>Jetty</td>\n      <td>2021-02-03 07:55:41+00:00</td>\n      <td>2021-02-04 23:39:34+00:00</td>\n      <td>2021-02-03 10:57:50+00:00</td>\n      <td>2021-02-03 12:15:52+00:00</td>\n      <td>4369</td>\n      <td>FPSO Akpo</td>\n      <td>3.160565</td>\n      <td>6.831695</td>\n      <td>NaN</td>\n      <td>None</td>\n    </tr>\n    <tr>\n      <th>272</th>\n      <td>9292187.52.4.0</td>\n      <td>9292187.52.4</td>\n      <td>Stop</td>\n      <td>2021-02-06 11:35:06+00:00</td>\n      <td>2021-02-08 10:46:06+00:00</td>\n      <td>NaT</td>\n      <td>NaT</td>\n      <td>4062</td>\n      <td>Port Gentil Anchorage</td>\n      <td>-0.996812</td>\n      <td>7.547887</td>\n      <td>NaN</td>\n      <td>None</td>\n    </tr>\n    <tr>\n      <th>273</th>\n      <td>9292187.52.5.0</td>\n      <td>9292187.52.5</td>\n      <td>Jetty</td>\n      <td>2021-02-09 09:05:48+00:00</td>\n      <td>2021-02-28 23:06:13.400000+00:00</td>\n      <td>2021-02-26 15:27:11+00:00</td>\n      <td>2021-02-26 15:27:11+00:00</td>\n      <td>5352</td>\n      <td>Bonny Offshore Terminal</td>\n      <td>4.170430</td>\n      <td>7.218700</td>\n      <td>NaN</td>\n      <td>None</td>\n    </tr>\n    <tr>\n      <th>274</th>\n      <td>9292187.52.6.0</td>\n      <td>9292187.52.6</td>\n      <td>Jetty</td>\n      <td>2021-03-25 03:55:58+00:00</td>\n      <td>2021-03-26 23:59:41+00:00</td>\n      <td>2021-03-25 03:55:58+00:00</td>\n      <td>2021-03-26 23:59:41+00:00</td>\n      <td>5112</td>\n      <td>Essar Vadinar Refinery</td>\n      <td>22.514310</td>\n      <td>69.704380</td>\n      <td>NaN</td>\n      <td>None</td>\n    </tr>\n    <tr>\n      <th>275</th>\n      <td>9292187.53.1.0</td>\n      <td>9292187.53.1</td>\n      <td>Stop</td>\n      <td>2021-03-29 19:59:51+00:00</td>\n      <td>2021-03-30 04:58:00+00:00</td>\n      <td>NaT</td>\n      <td>NaT</td>\n      <td>5101</td>\n      <td>Mina Al Fahal Refinery</td>\n      <td>24.952147</td>\n      <td>58.665850</td>\n      <td>NaN</td>\n      <td>None</td>\n    </tr>\n  </tbody>\n</table>\n</div>"
     },
     "metadata": {},
     "execution_count": 13
    }
   ],
   "source": [
    "vessel_event_details_df = pd.DataFrame(v.__dict__ for v in vessel_voyages_flat.event_details)\n",
    "vessel_event_details_df.tail(5)"
   ]
  },
  {
   "cell_type": "code",
   "execution_count": 14,
   "metadata": {},
   "outputs": [
    {
     "output_type": "execute_result",
     "data": {
      "text/plain": [
       "       id                          name  port_id     port_name  country_id  \\\n",
       "205  6507               Terminal Island     3857    Long Beach         240   \n",
       "206  6163      Vopak Terminal Europoort     3689     Rotterdam         173   \n",
       "207  5744       Euro Tank Terminal B.v.     3689     Rotterdam         173   \n",
       "208  6361         Aruba Lightering Zone     3214  San Nicolaas          21   \n",
       "209  5745  Maatschap Europoort Terminal     3689     Rotterdam         173   \n",
       "\n",
       "           country  area_idlevel0 area_name_level0  area_idlevel1  \\\n",
       "205  United States          24741    US West Coast          25017   \n",
       "206    Netherlands          24758        Continent          25016   \n",
       "207    Netherlands          24758        Continent          25016   \n",
       "208          Aruba          24746           Caribs              9   \n",
       "209    Netherlands          24758        Continent          25016   \n",
       "\n",
       "             area_name_level1  area_idlevel2              area_name_level2  \\\n",
       "205  West Coast North America          25026      West Coast North America   \n",
       "206              UK Continent          25025  Mediterranean / UK Continent   \n",
       "207              UK Continent          25025  Mediterranean / UK Continent   \n",
       "208                    Caribs          25019              Atlantic America   \n",
       "209              UK Continent          25025  Mediterranean / UK Continent   \n",
       "\n",
       "     area_idlevel3 area_name_level3  \n",
       "205             85  Pacific America  \n",
       "206          25028             West  \n",
       "207          25028             West  \n",
       "208          25028             West  \n",
       "209          25028             West  "
      ],
      "text/html": "<div>\n<style scoped>\n    .dataframe tbody tr th:only-of-type {\n        vertical-align: middle;\n    }\n\n    .dataframe tbody tr th {\n        vertical-align: top;\n    }\n\n    .dataframe thead th {\n        text-align: right;\n    }\n</style>\n<table border=\"1\" class=\"dataframe\">\n  <thead>\n    <tr style=\"text-align: right;\">\n      <th></th>\n      <th>id</th>\n      <th>name</th>\n      <th>port_id</th>\n      <th>port_name</th>\n      <th>country_id</th>\n      <th>country</th>\n      <th>area_idlevel0</th>\n      <th>area_name_level0</th>\n      <th>area_idlevel1</th>\n      <th>area_name_level1</th>\n      <th>area_idlevel2</th>\n      <th>area_name_level2</th>\n      <th>area_idlevel3</th>\n      <th>area_name_level3</th>\n    </tr>\n  </thead>\n  <tbody>\n    <tr>\n      <th>205</th>\n      <td>6507</td>\n      <td>Terminal Island</td>\n      <td>3857</td>\n      <td>Long Beach</td>\n      <td>240</td>\n      <td>United States</td>\n      <td>24741</td>\n      <td>US West Coast</td>\n      <td>25017</td>\n      <td>West Coast North America</td>\n      <td>25026</td>\n      <td>West Coast North America</td>\n      <td>85</td>\n      <td>Pacific America</td>\n    </tr>\n    <tr>\n      <th>206</th>\n      <td>6163</td>\n      <td>Vopak Terminal Europoort</td>\n      <td>3689</td>\n      <td>Rotterdam</td>\n      <td>173</td>\n      <td>Netherlands</td>\n      <td>24758</td>\n      <td>Continent</td>\n      <td>25016</td>\n      <td>UK Continent</td>\n      <td>25025</td>\n      <td>Mediterranean / UK Continent</td>\n      <td>25028</td>\n      <td>West</td>\n    </tr>\n    <tr>\n      <th>207</th>\n      <td>5744</td>\n      <td>Euro Tank Terminal B.v.</td>\n      <td>3689</td>\n      <td>Rotterdam</td>\n      <td>173</td>\n      <td>Netherlands</td>\n      <td>24758</td>\n      <td>Continent</td>\n      <td>25016</td>\n      <td>UK Continent</td>\n      <td>25025</td>\n      <td>Mediterranean / UK Continent</td>\n      <td>25028</td>\n      <td>West</td>\n    </tr>\n    <tr>\n      <th>208</th>\n      <td>6361</td>\n      <td>Aruba Lightering Zone</td>\n      <td>3214</td>\n      <td>San Nicolaas</td>\n      <td>21</td>\n      <td>Aruba</td>\n      <td>24746</td>\n      <td>Caribs</td>\n      <td>9</td>\n      <td>Caribs</td>\n      <td>25019</td>\n      <td>Atlantic America</td>\n      <td>25028</td>\n      <td>West</td>\n    </tr>\n    <tr>\n      <th>209</th>\n      <td>5745</td>\n      <td>Maatschap Europoort Terminal</td>\n      <td>3689</td>\n      <td>Rotterdam</td>\n      <td>173</td>\n      <td>Netherlands</td>\n      <td>24758</td>\n      <td>Continent</td>\n      <td>25016</td>\n      <td>UK Continent</td>\n      <td>25025</td>\n      <td>Mediterranean / UK Continent</td>\n      <td>25028</td>\n      <td>West</td>\n    </tr>\n  </tbody>\n</table>\n</div>"
     },
     "metadata": {},
     "execution_count": 14
    }
   ],
   "source": [
    "vessel_voyages_geos_df = pd.DataFrame(v.__dict__ for v in vessel_voyages_flat.geos)\n",
    "vessel_voyages_geos_df.tail(5)"
   ]
  },
  {
   "cell_type": "markdown",
   "metadata": {},
   "source": [
    "### Get voyages for vessel class in the flat format"
   ]
  },
  {
   "cell_type": "code",
   "execution_count": 15,
   "metadata": {},
   "outputs": [],
   "source": [
    "vlcc_id = 84\n",
    "date_from = date.today() - timedelta(days=30)\n",
    "recent_vlcc_voyages_flat = api.get_voyages_flat(vessel_class_id=vlcc_id, date_from=date_from)"
   ]
  },
  {
   "cell_type": "code",
   "execution_count": 16,
   "metadata": {},
   "outputs": [
    {
     "output_type": "stream",
     "name": "stdout",
     "text": [
      "Voyages: 193\nEvents: 801\nEventDetails: 345\nGeos: 187\n"
     ]
    }
   ],
   "source": [
    "print('Voyages:', len(recent_vlcc_voyages_flat.voyages))\n",
    "print('Events:', len(recent_vlcc_voyages_flat.events))\n",
    "print('EventDetails:', len(recent_vlcc_voyages_flat.event_details))\n",
    "print('Geos:', len(recent_vlcc_voyages_flat.geos))"
   ]
  },
  {
   "cell_type": "markdown",
   "metadata": {},
   "source": [
    "### Get voyages for vessel incrementally "
   ]
  },
  {
   "cell_type": "markdown",
   "metadata": {},
   "source": [
    "Initial requests retrieves voyages mathcing the query criteria and a query token that can be used in the subsequent request."
   ]
  },
  {
   "cell_type": "code",
   "execution_count": 17,
   "metadata": {},
   "outputs": [
    {
     "output_type": "execute_result",
     "data": {
      "text/plain": [
       "68"
      ]
     },
     "metadata": {},
     "execution_count": 17
    }
   ],
   "source": [
    "vessel_voyages, next_request_token = api.get_incremental_voyages(imo=9416642)\n",
    "len(vessel_voyages)"
   ]
  },
  {
   "cell_type": "markdown",
   "metadata": {},
   "source": [
    "Provided the token retrieved for the previous request, the subsequent request retrieves only voyages that have been updated since the previous request. "
   ]
  },
  {
   "cell_type": "code",
   "execution_count": 18,
   "metadata": {},
   "outputs": [
    {
     "output_type": "execute_result",
     "data": {
      "text/plain": [
       "0"
      ]
     },
     "metadata": {},
     "execution_count": 18
    }
   ],
   "source": [
    "incremental_voyages, next_request_token = api.get_incremental_voyages(imo=9416642, incremental_token=next_request_token)\n",
    "len(incremental_voyages)"
   ]
  },
  {
   "cell_type": "markdown",
   "metadata": {},
   "source": [
    "The retrieved information is used to replace any modify voyages from the dataset. Note that returned voyages marked as deleted are only used to filter out voyages. "
   ]
  },
  {
   "cell_type": "code",
   "execution_count": 19,
   "metadata": {},
   "outputs": [
    {
     "output_type": "execute_result",
     "data": {
      "text/plain": [
       "68"
      ]
     },
     "metadata": {},
     "execution_count": 19
    }
   ],
   "source": [
    "updated_voyage_ids = set(v.id for v in incremental_voyages)\n",
    "vessel_voyages = [v for v in vessel_voyages if v.id not in updated_voyage_ids]\n",
    "new_vessel_voyages = [v for v in incremental_voyages if not v.deleted]\n",
    "vessel_voyages = sorted(vessel_voyages + new_vessel_voyages, key= lambda v: v.voyage_number)\n",
    "len(vessel_voyages)"
   ]
  },
  {
   "cell_type": "markdown",
   "metadata": {},
   "source": [
    "### Get voyages for vessel class incrementally "
   ]
  },
  {
   "cell_type": "markdown",
   "metadata": {},
   "source": [
    "Voyages for vessel class are retieved and updated in the same way incrementally."
   ]
  },
  {
   "cell_type": "code",
   "execution_count": 20,
   "metadata": {},
   "outputs": [],
   "source": [
    "vessel_class_id = 84\n",
    "date_from = date.today() - timedelta(days=30)"
   ]
  },
  {
   "cell_type": "code",
   "execution_count": 21,
   "metadata": {},
   "outputs": [
    {
     "output_type": "execute_result",
     "data": {
      "text/plain": [
       "193"
      ]
     },
     "metadata": {},
     "execution_count": 21
    }
   ],
   "source": [
    "voyages, next_request_token = api.get_incremental_voyages(vessel_class_id=vessel_class_id, date_from=date_from)\n",
    "len(voyages)"
   ]
  },
  {
   "cell_type": "code",
   "execution_count": 22,
   "metadata": {},
   "outputs": [
    {
     "output_type": "execute_result",
     "data": {
      "text/plain": [
       "0"
      ]
     },
     "metadata": {},
     "execution_count": 22
    }
   ],
   "source": [
    "incremental_voyages, next_request_token = api.get_incremental_voyages(vessel_class_id=vessel_class_id, date_from=date_from, incremental_token=next_request_token)\n",
    "len(incremental_voyages)"
   ]
  },
  {
   "cell_type": "code",
   "execution_count": 23,
   "metadata": {},
   "outputs": [
    {
     "output_type": "execute_result",
     "data": {
      "text/plain": [
       "193"
      ]
     },
     "metadata": {},
     "execution_count": 23
    }
   ],
   "source": [
    "updated_voyage_ids = set(v.id for v in incremental_voyages)\n",
    "voyages = [v for v in voyages if v.id not in updated_voyage_ids]\n",
    "new_voyages = [v for v in incremental_voyages if not v.deleted]\n",
    "voyages = sorted(voyages + new_voyages, key= lambda v: (v.imo, v.voyage_number))\n",
    "len(voyages)"
   ]
  },
  {
   "cell_type": "markdown",
   "metadata": {},
   "source": [
    "### Get voyages for vessel class incrementally in the flat format"
   ]
  },
  {
   "cell_type": "markdown",
   "metadata": {},
   "source": [
    "Voyages may be retrieved and updated incrementally in the flat format. "
   ]
  },
  {
   "cell_type": "code",
   "execution_count": 24,
   "metadata": {},
   "outputs": [],
   "source": [
    "vessel_class_id = 84\n",
    "date_from = date.today() - timedelta(days=30)"
   ]
  },
  {
   "cell_type": "code",
   "execution_count": 25,
   "metadata": {},
   "outputs": [],
   "source": [
    "voyages_flat, next_request_token = api.get_incremental_voyages_flat(vessel_class_id=vessel_class_id, date_from=date_from)"
   ]
  },
  {
   "cell_type": "code",
   "execution_count": 26,
   "metadata": {},
   "outputs": [],
   "source": [
    "voyages = voyages_flat.voyages\n",
    "events = voyages_flat.events\n",
    "event_details = voyages_flat.event_details\n",
    "geos = voyages_flat.geos"
   ]
  },
  {
   "cell_type": "code",
   "execution_count": 27,
   "metadata": {},
   "outputs": [
    {
     "output_type": "execute_result",
     "data": {
      "text/plain": [
       "(193, 801, 345, 187)"
      ]
     },
     "metadata": {},
     "execution_count": 27
    }
   ],
   "source": [
    "len(voyages), len(events), len(event_details), len(geos)"
   ]
  },
  {
   "cell_type": "code",
   "execution_count": 28,
   "metadata": {},
   "outputs": [],
   "source": [
    "incremental_voyages_flat, next_request_token = api.get_incremental_voyages_flat(vessel_class_id=vessel_class_id, date_from=date_from, incremental_token=next_request_token)"
   ]
  },
  {
   "cell_type": "code",
   "execution_count": 29,
   "metadata": {},
   "outputs": [
    {
     "output_type": "execute_result",
     "data": {
      "text/plain": [
       "0"
      ]
     },
     "metadata": {},
     "execution_count": 29
    }
   ],
   "source": [
    "len(incremental_voyages_flat.voyages)"
   ]
  },
  {
   "cell_type": "markdown",
   "metadata": {},
   "source": [
    "In this case the update step is applied to voyages, events, event details and geos datasets."
   ]
  },
  {
   "cell_type": "code",
   "execution_count": 30,
   "metadata": {},
   "outputs": [
    {
     "output_type": "execute_result",
     "data": {
      "text/plain": [
       "193"
      ]
     },
     "metadata": {},
     "execution_count": 30
    }
   ],
   "source": [
    "updated_voyage_ids = set(v.id for v in incremental_voyages_flat.voyages)\n",
    "voyages = [v for v in voyages if v.id not in updated_voyage_ids]\n",
    "new_voyages = [v for v in incremental_voyages_flat.voyages if not v.deleted]\n",
    "voyages = sorted(voyages + new_voyages, key= lambda v: (v.imo, v.voyage_number))\n",
    "len(voyages)"
   ]
  },
  {
   "cell_type": "code",
   "execution_count": 31,
   "metadata": {},
   "outputs": [
    {
     "output_type": "execute_result",
     "data": {
      "text/plain": [
       "801"
      ]
     },
     "metadata": {},
     "execution_count": 31
    }
   ],
   "source": [
    "updated_event_ids = set(e.id for e in events if e.voyage_id in updated_voyage_ids)\n",
    "events = [e for e in events if e.id not in updated_event_ids]\n",
    "events = sorted(events + list(incremental_voyages_flat.events), key= lambda e: e.id)\n",
    "len(events)"
   ]
  },
  {
   "cell_type": "code",
   "execution_count": 32,
   "metadata": {},
   "outputs": [
    {
     "output_type": "execute_result",
     "data": {
      "text/plain": [
       "345"
      ]
     },
     "metadata": {},
     "execution_count": 32
    }
   ],
   "source": [
    "event_details = [e for e in event_details if e.id not in updated_event_ids]\n",
    "event_details = sorted(event_details + list(incremental_voyages_flat.event_details), key= lambda e: e.id)\n",
    "len(event_details)"
   ]
  },
  {
   "cell_type": "code",
   "execution_count": 33,
   "metadata": {},
   "outputs": [
    {
     "output_type": "execute_result",
     "data": {
      "text/plain": [
       "187"
      ]
     },
     "metadata": {},
     "execution_count": 33
    }
   ],
   "source": [
    "updated_geo_ids = set(g.id for g in incremental_voyages_flat.geos)\n",
    "geos = [g for g in geos if g.id not in updated_geo_ids] + list(incremental_voyages_flat.geos)\n",
    "len(geos)"
   ]
  }
 ],
 "metadata": {
  "kernelspec": {
   "display_name": "Python 3",
   "language": "python",
   "name": "python3"
  },
  "language_info": {
   "codemirror_mode": {
    "name": "ipython",
    "version": 3
   },
   "file_extension": ".py",
   "mimetype": "text/x-python",
   "name": "python",
   "nbconvert_exporter": "python",
   "pygments_lexer": "ipython3",
   "version": "3.8.5"
  }
 },
 "nbformat": 4,
 "nbformat_minor": 4
}