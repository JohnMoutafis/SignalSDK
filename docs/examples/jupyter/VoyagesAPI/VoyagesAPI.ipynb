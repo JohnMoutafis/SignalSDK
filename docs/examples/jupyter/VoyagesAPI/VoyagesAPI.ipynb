{
 "cells": [
  {
   "cell_type": "markdown",
   "metadata": {},
   "source": [
    "# Voyages API Example"
   ]
  },
  {
   "cell_type": "markdown",
   "metadata": {},
   "source": [
    "## Setup\n",
    "Install the Signal Ocean SDK:\n",
    "```\n",
    "pip install signal-ocean\n",
    "```\n",
    "Set your subscription key acquired here: https://apis.signalocean.com/profile"
   ]
  },
  {
   "cell_type": "code",
   "execution_count": null,
   "metadata": {},
   "outputs": [],
   "source": [
    "pip install signal-ocean"
   ]
  },
  {
   "cell_type": "code",
   "execution_count": 1,
   "metadata": {},
   "outputs": [],
   "source": [
    "signal_ocean_api_key = '' #replace with your subscription key"
   ]
  },
  {
   "cell_type": "markdown",
   "metadata": {},
   "source": [
    "## Call the Voyages API\n",
    "The Voyages API retrieves information about vessel voyages."
   ]
  },
  {
   "cell_type": "code",
   "execution_count": 2,
   "metadata": {},
   "outputs": [],
   "source": [
    "from signal_ocean import Connection\n",
    "from signal_ocean.voyages import VoyagesAPI\n",
    "import pandas as pd\n",
    "from datetime import date, timedelta"
   ]
  },
  {
   "cell_type": "code",
   "execution_count": 3,
   "metadata": {},
   "outputs": [],
   "source": [
    "connection = Connection(signal_ocean_api_key)\n",
    "api = VoyagesAPI(connection)"
   ]
  },
  {
   "cell_type": "markdown",
   "metadata": {},
   "source": [
    "### Get voyages for vessel"
   ]
  },
  {
   "cell_type": "code",
   "execution_count": 4,
   "metadata": {},
   "outputs": [],
   "source": [
    "vessel_voyages = api.get_voyages(imo=9292187)"
   ]
  },
  {
   "cell_type": "code",
   "execution_count": 5,
   "metadata": {},
   "outputs": [
    {
     "output_type": "execute_result",
     "data": {
      "text/plain": [
       "        imo  voyage_number  vessel_type_id  vessel_class_id  vessel_status_id  \\\n",
       "47  9292187             48               1               84                 1   \n",
       "48  9292187             49               1               84                 1   \n",
       "49  9292187             50               1               84                 1   \n",
       "50  9292187             51               1               84                 1   \n",
       "51  9292187             52               1               84                 1   \n",
       "\n",
       "    commercial_operator_id  deleted  \\\n",
       "47                    1684    False   \n",
       "48                    1684    False   \n",
       "49                    1713    False   \n",
       "50                    1713    False   \n",
       "51                    1713    False   \n",
       "\n",
       "                                               events          id vessel_name  \\\n",
       "47  (VoyageEvent(id=None, port_id=3303, voyage_id=...  9292187.48     Seaking   \n",
       "48  (VoyageEvent(id=None, port_id=3317, voyage_id=...  9292187.49     Seaking   \n",
       "49  (VoyageEvent(id=None, port_id=6615, voyage_id=...  9292187.50     Seaking   \n",
       "50  (VoyageEvent(id=None, port_id=3317, voyage_id=...  9292187.51     Seaking   \n",
       "51  (VoyageEvent(id=None, port_id=6649, voyage_id=...  9292187.52     Seaking   \n",
       "\n",
       "    ... cargo_group cargo_type_source  quantity               laycan_from  \\\n",
       "47  ...       Dirty        MarketInfo  260000.0 2019-12-20 00:00:00+00:00   \n",
       "48  ...       Dirty         Estimated       NaN 2020-04-25 03:47:05+00:00   \n",
       "49  ...       Dirty         Estimated       NaN 2020-06-01 03:57:15+00:00   \n",
       "50  ...       Dirty         Estimated       NaN                       NaT   \n",
       "51  ...       Dirty        MarketInfo  260000.0 2021-02-02 00:00:00+00:00   \n",
       "\n",
       "                   laycan_to fixture_status_id fixture_status  \\\n",
       "47 2019-12-22 23:59:00+00:00               1.0     FullyFixed   \n",
       "48 2020-04-26 03:47:05+00:00               1.0     FullyFixed   \n",
       "49 2020-06-02 03:57:15+00:00               1.0     FullyFixed   \n",
       "50                       NaT               NaN           None   \n",
       "51 2021-02-02 00:00:00+00:00               1.0     FullyFixed   \n",
       "\n",
       "                       fixture_date  fixture_is_coa fixture_is_hold  \n",
       "47 2019-11-20 10:49:57.117000+00:00           False           False  \n",
       "48        2020-03-19 03:42:23+00:00           False           False  \n",
       "49        2020-05-26 17:49:57+00:00            True            True  \n",
       "50                              NaT            None            None  \n",
       "51 2021-01-12 13:45:27.563000+00:00           False           False  \n",
       "\n",
       "[5 rows x 37 columns]"
      ],
      "text/html": "<div>\n<style scoped>\n    .dataframe tbody tr th:only-of-type {\n        vertical-align: middle;\n    }\n\n    .dataframe tbody tr th {\n        vertical-align: top;\n    }\n\n    .dataframe thead th {\n        text-align: right;\n    }\n</style>\n<table border=\"1\" class=\"dataframe\">\n  <thead>\n    <tr style=\"text-align: right;\">\n      <th></th>\n      <th>imo</th>\n      <th>voyage_number</th>\n      <th>vessel_type_id</th>\n      <th>vessel_class_id</th>\n      <th>vessel_status_id</th>\n      <th>commercial_operator_id</th>\n      <th>deleted</th>\n      <th>events</th>\n      <th>id</th>\n      <th>vessel_name</th>\n      <th>...</th>\n      <th>cargo_group</th>\n      <th>cargo_type_source</th>\n      <th>quantity</th>\n      <th>laycan_from</th>\n      <th>laycan_to</th>\n      <th>fixture_status_id</th>\n      <th>fixture_status</th>\n      <th>fixture_date</th>\n      <th>fixture_is_coa</th>\n      <th>fixture_is_hold</th>\n    </tr>\n  </thead>\n  <tbody>\n    <tr>\n      <th>47</th>\n      <td>9292187</td>\n      <td>48</td>\n      <td>1</td>\n      <td>84</td>\n      <td>1</td>\n      <td>1684</td>\n      <td>False</td>\n      <td>(VoyageEvent(id=None, port_id=3303, voyage_id=...</td>\n      <td>9292187.48</td>\n      <td>Seaking</td>\n      <td>...</td>\n      <td>Dirty</td>\n      <td>MarketInfo</td>\n      <td>260000.0</td>\n      <td>2019-12-20 00:00:00+00:00</td>\n      <td>2019-12-22 23:59:00+00:00</td>\n      <td>1.0</td>\n      <td>FullyFixed</td>\n      <td>2019-11-20 10:49:57.117000+00:00</td>\n      <td>False</td>\n      <td>False</td>\n    </tr>\n    <tr>\n      <th>48</th>\n      <td>9292187</td>\n      <td>49</td>\n      <td>1</td>\n      <td>84</td>\n      <td>1</td>\n      <td>1684</td>\n      <td>False</td>\n      <td>(VoyageEvent(id=None, port_id=3317, voyage_id=...</td>\n      <td>9292187.49</td>\n      <td>Seaking</td>\n      <td>...</td>\n      <td>Dirty</td>\n      <td>Estimated</td>\n      <td>NaN</td>\n      <td>2020-04-25 03:47:05+00:00</td>\n      <td>2020-04-26 03:47:05+00:00</td>\n      <td>1.0</td>\n      <td>FullyFixed</td>\n      <td>2020-03-19 03:42:23+00:00</td>\n      <td>False</td>\n      <td>False</td>\n    </tr>\n    <tr>\n      <th>49</th>\n      <td>9292187</td>\n      <td>50</td>\n      <td>1</td>\n      <td>84</td>\n      <td>1</td>\n      <td>1713</td>\n      <td>False</td>\n      <td>(VoyageEvent(id=None, port_id=6615, voyage_id=...</td>\n      <td>9292187.50</td>\n      <td>Seaking</td>\n      <td>...</td>\n      <td>Dirty</td>\n      <td>Estimated</td>\n      <td>NaN</td>\n      <td>2020-06-01 03:57:15+00:00</td>\n      <td>2020-06-02 03:57:15+00:00</td>\n      <td>1.0</td>\n      <td>FullyFixed</td>\n      <td>2020-05-26 17:49:57+00:00</td>\n      <td>True</td>\n      <td>True</td>\n    </tr>\n    <tr>\n      <th>50</th>\n      <td>9292187</td>\n      <td>51</td>\n      <td>1</td>\n      <td>84</td>\n      <td>1</td>\n      <td>1713</td>\n      <td>False</td>\n      <td>(VoyageEvent(id=None, port_id=3317, voyage_id=...</td>\n      <td>9292187.51</td>\n      <td>Seaking</td>\n      <td>...</td>\n      <td>Dirty</td>\n      <td>Estimated</td>\n      <td>NaN</td>\n      <td>NaT</td>\n      <td>NaT</td>\n      <td>NaN</td>\n      <td>None</td>\n      <td>NaT</td>\n      <td>None</td>\n      <td>None</td>\n    </tr>\n    <tr>\n      <th>51</th>\n      <td>9292187</td>\n      <td>52</td>\n      <td>1</td>\n      <td>84</td>\n      <td>1</td>\n      <td>1713</td>\n      <td>False</td>\n      <td>(VoyageEvent(id=None, port_id=6649, voyage_id=...</td>\n      <td>9292187.52</td>\n      <td>Seaking</td>\n      <td>...</td>\n      <td>Dirty</td>\n      <td>MarketInfo</td>\n      <td>260000.0</td>\n      <td>2021-02-02 00:00:00+00:00</td>\n      <td>2021-02-02 00:00:00+00:00</td>\n      <td>1.0</td>\n      <td>FullyFixed</td>\n      <td>2021-01-12 13:45:27.563000+00:00</td>\n      <td>False</td>\n      <td>False</td>\n    </tr>\n  </tbody>\n</table>\n<p>5 rows × 37 columns</p>\n</div>"
     },
     "metadata": {},
     "execution_count": 5
    }
   ],
   "source": [
    "vessel_voyages_df = pd.DataFrame([v.__dict__ for v in vessel_voyages])\n",
    "vessel_voyages_df.tail(5)"
   ]
  },
  {
   "cell_type": "code",
   "execution_count": 6,
   "metadata": {},
   "outputs": [
    {
     "output_type": "execute_result",
     "data": {
      "text/plain": [
       "       id  port_id voyage_id event_type event_horizon    purpose  \\\n",
       "295  None    13261      None       Stop    Historical       Stop   \n",
       "296  None     3679      None   PortCall    Historical       Load   \n",
       "297  None     3422      None       Stop    Historical       Stop   \n",
       "298  None     3679      None   PortCall    Historical       Load   \n",
       "299  None     3532      None   PortCall        Future  Discharge   \n",
       "\n",
       "                        arrival_date                     sailing_date  \\\n",
       "295        2021-01-25 11:31:10+00:00        2021-01-30 19:44:08+00:00   \n",
       "296        2021-02-03 07:55:41+00:00        2021-02-04 23:39:34+00:00   \n",
       "297        2021-02-06 11:35:06+00:00        2021-02-08 10:46:06+00:00   \n",
       "298        2021-02-09 09:05:48+00:00 2021-02-28 23:06:13.400000+00:00   \n",
       "299 2021-03-24 23:06:30.159000+00:00        2021-03-27 23:00:00+00:00   \n",
       "\n",
       "     latitude  longitude  ...  area_idlevel0             area_name_level0  \\\n",
       "295  -13.0024     9.8397  ...          24772        Africa Atlantic Coast   \n",
       "296    3.1606     6.8317  ...          24772        Africa Atlantic Coast   \n",
       "297   -0.9968     7.5479  ...          24772        Africa Atlantic Coast   \n",
       "298    4.1704     7.2187  ...          24772        Africa Atlantic Coast   \n",
       "299   22.4842    69.6743  ...          24764  Pakistan / West Coast India   \n",
       "\n",
       "    area_idlevel1  area_name_level1 area_idlevel2  area_name_level2  \\\n",
       "295            37       West Africa         25018            Africa   \n",
       "296            37       West Africa         25018            Africa   \n",
       "297            37       West Africa         25018            Africa   \n",
       "298            37       West Africa         25018            Africa   \n",
       "299         25012  India / Pakistan         25023  India / Pakistan   \n",
       "\n",
       "    area_idlevel3  area_name_level3 low_ais_density  \\\n",
       "295         25027            Africa            None   \n",
       "296         25027            Africa            True   \n",
       "297         25027            Africa            None   \n",
       "298         25027            Africa            True   \n",
       "299            84              East            True   \n",
       "\n",
       "                                         event_details  \n",
       "295  (VoyageEventDetail(id=None, event_id=None, eve...  \n",
       "296  (VoyageEventDetail(id=None, event_id=None, eve...  \n",
       "297  (VoyageEventDetail(id=None, event_id=None, eve...  \n",
       "298  (VoyageEventDetail(id=None, event_id=None, eve...  \n",
       "299                                               None  \n",
       "\n",
       "[5 rows x 25 columns]"
      ],
      "text/html": "<div>\n<style scoped>\n    .dataframe tbody tr th:only-of-type {\n        vertical-align: middle;\n    }\n\n    .dataframe tbody tr th {\n        vertical-align: top;\n    }\n\n    .dataframe thead th {\n        text-align: right;\n    }\n</style>\n<table border=\"1\" class=\"dataframe\">\n  <thead>\n    <tr style=\"text-align: right;\">\n      <th></th>\n      <th>id</th>\n      <th>port_id</th>\n      <th>voyage_id</th>\n      <th>event_type</th>\n      <th>event_horizon</th>\n      <th>purpose</th>\n      <th>arrival_date</th>\n      <th>sailing_date</th>\n      <th>latitude</th>\n      <th>longitude</th>\n      <th>...</th>\n      <th>area_idlevel0</th>\n      <th>area_name_level0</th>\n      <th>area_idlevel1</th>\n      <th>area_name_level1</th>\n      <th>area_idlevel2</th>\n      <th>area_name_level2</th>\n      <th>area_idlevel3</th>\n      <th>area_name_level3</th>\n      <th>low_ais_density</th>\n      <th>event_details</th>\n    </tr>\n  </thead>\n  <tbody>\n    <tr>\n      <th>295</th>\n      <td>None</td>\n      <td>13261</td>\n      <td>None</td>\n      <td>Stop</td>\n      <td>Historical</td>\n      <td>Stop</td>\n      <td>2021-01-25 11:31:10+00:00</td>\n      <td>2021-01-30 19:44:08+00:00</td>\n      <td>-13.0024</td>\n      <td>9.8397</td>\n      <td>...</td>\n      <td>24772</td>\n      <td>Africa Atlantic Coast</td>\n      <td>37</td>\n      <td>West Africa</td>\n      <td>25018</td>\n      <td>Africa</td>\n      <td>25027</td>\n      <td>Africa</td>\n      <td>None</td>\n      <td>(VoyageEventDetail(id=None, event_id=None, eve...</td>\n    </tr>\n    <tr>\n      <th>296</th>\n      <td>None</td>\n      <td>3679</td>\n      <td>None</td>\n      <td>PortCall</td>\n      <td>Historical</td>\n      <td>Load</td>\n      <td>2021-02-03 07:55:41+00:00</td>\n      <td>2021-02-04 23:39:34+00:00</td>\n      <td>3.1606</td>\n      <td>6.8317</td>\n      <td>...</td>\n      <td>24772</td>\n      <td>Africa Atlantic Coast</td>\n      <td>37</td>\n      <td>West Africa</td>\n      <td>25018</td>\n      <td>Africa</td>\n      <td>25027</td>\n      <td>Africa</td>\n      <td>True</td>\n      <td>(VoyageEventDetail(id=None, event_id=None, eve...</td>\n    </tr>\n    <tr>\n      <th>297</th>\n      <td>None</td>\n      <td>3422</td>\n      <td>None</td>\n      <td>Stop</td>\n      <td>Historical</td>\n      <td>Stop</td>\n      <td>2021-02-06 11:35:06+00:00</td>\n      <td>2021-02-08 10:46:06+00:00</td>\n      <td>-0.9968</td>\n      <td>7.5479</td>\n      <td>...</td>\n      <td>24772</td>\n      <td>Africa Atlantic Coast</td>\n      <td>37</td>\n      <td>West Africa</td>\n      <td>25018</td>\n      <td>Africa</td>\n      <td>25027</td>\n      <td>Africa</td>\n      <td>None</td>\n      <td>(VoyageEventDetail(id=None, event_id=None, eve...</td>\n    </tr>\n    <tr>\n      <th>298</th>\n      <td>None</td>\n      <td>3679</td>\n      <td>None</td>\n      <td>PortCall</td>\n      <td>Historical</td>\n      <td>Load</td>\n      <td>2021-02-09 09:05:48+00:00</td>\n      <td>2021-02-28 23:06:13.400000+00:00</td>\n      <td>4.1704</td>\n      <td>7.2187</td>\n      <td>...</td>\n      <td>24772</td>\n      <td>Africa Atlantic Coast</td>\n      <td>37</td>\n      <td>West Africa</td>\n      <td>25018</td>\n      <td>Africa</td>\n      <td>25027</td>\n      <td>Africa</td>\n      <td>True</td>\n      <td>(VoyageEventDetail(id=None, event_id=None, eve...</td>\n    </tr>\n    <tr>\n      <th>299</th>\n      <td>None</td>\n      <td>3532</td>\n      <td>None</td>\n      <td>PortCall</td>\n      <td>Future</td>\n      <td>Discharge</td>\n      <td>2021-03-24 23:06:30.159000+00:00</td>\n      <td>2021-03-27 23:00:00+00:00</td>\n      <td>22.4842</td>\n      <td>69.6743</td>\n      <td>...</td>\n      <td>24764</td>\n      <td>Pakistan / West Coast India</td>\n      <td>25012</td>\n      <td>India / Pakistan</td>\n      <td>25023</td>\n      <td>India / Pakistan</td>\n      <td>84</td>\n      <td>East</td>\n      <td>True</td>\n      <td>None</td>\n    </tr>\n  </tbody>\n</table>\n<p>5 rows × 25 columns</p>\n</div>"
     },
     "metadata": {},
     "execution_count": 6
    }
   ],
   "source": [
    "vessel_events_df = pd.DataFrame(e.__dict__ for voyage_events in vessel_voyages_df['events'] for e in voyage_events)\n",
    "vessel_events_df.tail(5)"
   ]
  },
  {
   "cell_type": "code",
   "execution_count": 7,
   "metadata": {},
   "outputs": [
    {
     "output_type": "execute_result",
     "data": {
      "text/plain": [
       "       id event_id event_detail_type              arrival_date  \\\n",
       "269  None     None              Stop 2020-12-29 03:57:13+00:00   \n",
       "270  None     None              Stop 2021-01-25 11:31:10+00:00   \n",
       "271  None     None             Jetty 2021-02-03 07:55:41+00:00   \n",
       "272  None     None              Stop 2021-02-06 11:35:06+00:00   \n",
       "273  None     None             Jetty 2021-02-09 09:05:48+00:00   \n",
       "\n",
       "                        sailing_date   start_time_of_operation  \\\n",
       "269        2020-12-30 11:58:24+00:00                       NaT   \n",
       "270        2021-01-30 19:44:08+00:00                       NaT   \n",
       "271        2021-02-04 23:39:34+00:00 2021-02-03 10:57:50+00:00   \n",
       "272        2021-02-08 10:46:06+00:00                       NaT   \n",
       "273 2021-02-28 23:06:13.400000+00:00 2021-02-26 15:27:11+00:00   \n",
       "\n",
       "        end_time_of_operation  geo_asset_id           geo_asset_name  \\\n",
       "269                       NaT          4446   Changi Lightering Zone   \n",
       "270                       NaT          4393               FPSO Dalia   \n",
       "271 2021-02-03 12:15:52+00:00          4369                FPSO Akpo   \n",
       "272                       NaT          4062    Port Gentil Anchorage   \n",
       "273 2021-02-26 15:27:11+00:00          5352  Bonny Offshore Terminal   \n",
       "\n",
       "      latitude   longitude  other_vessel_imo other_vessel_name  \n",
       "269   1.269630  103.960800               NaN              None  \n",
       "270 -13.002350    9.839715               NaN              None  \n",
       "271   3.160565    6.831695               NaN              None  \n",
       "272  -0.996812    7.547887               NaN              None  \n",
       "273   4.170430    7.218700               NaN              None  "
      ],
      "text/html": "<div>\n<style scoped>\n    .dataframe tbody tr th:only-of-type {\n        vertical-align: middle;\n    }\n\n    .dataframe tbody tr th {\n        vertical-align: top;\n    }\n\n    .dataframe thead th {\n        text-align: right;\n    }\n</style>\n<table border=\"1\" class=\"dataframe\">\n  <thead>\n    <tr style=\"text-align: right;\">\n      <th></th>\n      <th>id</th>\n      <th>event_id</th>\n      <th>event_detail_type</th>\n      <th>arrival_date</th>\n      <th>sailing_date</th>\n      <th>start_time_of_operation</th>\n      <th>end_time_of_operation</th>\n      <th>geo_asset_id</th>\n      <th>geo_asset_name</th>\n      <th>latitude</th>\n      <th>longitude</th>\n      <th>other_vessel_imo</th>\n      <th>other_vessel_name</th>\n    </tr>\n  </thead>\n  <tbody>\n    <tr>\n      <th>269</th>\n      <td>None</td>\n      <td>None</td>\n      <td>Stop</td>\n      <td>2020-12-29 03:57:13+00:00</td>\n      <td>2020-12-30 11:58:24+00:00</td>\n      <td>NaT</td>\n      <td>NaT</td>\n      <td>4446</td>\n      <td>Changi Lightering Zone</td>\n      <td>1.269630</td>\n      <td>103.960800</td>\n      <td>NaN</td>\n      <td>None</td>\n    </tr>\n    <tr>\n      <th>270</th>\n      <td>None</td>\n      <td>None</td>\n      <td>Stop</td>\n      <td>2021-01-25 11:31:10+00:00</td>\n      <td>2021-01-30 19:44:08+00:00</td>\n      <td>NaT</td>\n      <td>NaT</td>\n      <td>4393</td>\n      <td>FPSO Dalia</td>\n      <td>-13.002350</td>\n      <td>9.839715</td>\n      <td>NaN</td>\n      <td>None</td>\n    </tr>\n    <tr>\n      <th>271</th>\n      <td>None</td>\n      <td>None</td>\n      <td>Jetty</td>\n      <td>2021-02-03 07:55:41+00:00</td>\n      <td>2021-02-04 23:39:34+00:00</td>\n      <td>2021-02-03 10:57:50+00:00</td>\n      <td>2021-02-03 12:15:52+00:00</td>\n      <td>4369</td>\n      <td>FPSO Akpo</td>\n      <td>3.160565</td>\n      <td>6.831695</td>\n      <td>NaN</td>\n      <td>None</td>\n    </tr>\n    <tr>\n      <th>272</th>\n      <td>None</td>\n      <td>None</td>\n      <td>Stop</td>\n      <td>2021-02-06 11:35:06+00:00</td>\n      <td>2021-02-08 10:46:06+00:00</td>\n      <td>NaT</td>\n      <td>NaT</td>\n      <td>4062</td>\n      <td>Port Gentil Anchorage</td>\n      <td>-0.996812</td>\n      <td>7.547887</td>\n      <td>NaN</td>\n      <td>None</td>\n    </tr>\n    <tr>\n      <th>273</th>\n      <td>None</td>\n      <td>None</td>\n      <td>Jetty</td>\n      <td>2021-02-09 09:05:48+00:00</td>\n      <td>2021-02-28 23:06:13.400000+00:00</td>\n      <td>2021-02-26 15:27:11+00:00</td>\n      <td>2021-02-26 15:27:11+00:00</td>\n      <td>5352</td>\n      <td>Bonny Offshore Terminal</td>\n      <td>4.170430</td>\n      <td>7.218700</td>\n      <td>NaN</td>\n      <td>None</td>\n    </tr>\n  </tbody>\n</table>\n</div>"
     },
     "metadata": {},
     "execution_count": 7
    }
   ],
   "source": [
    "vessel_event_details_df = pd.DataFrame(e.__dict__ for event_details in vessel_events_df['event_details'] for e in event_details or [])\n",
    "vessel_event_details_df.tail(5)"
   ]
  },
  {
   "cell_type": "markdown",
   "metadata": {},
   "source": [
    "### Get voyages for vessel class"
   ]
  },
  {
   "cell_type": "code",
   "execution_count": 8,
   "metadata": {},
   "outputs": [],
   "source": [
    "vlcc_id = 84\n",
    "date_from = date.today() - timedelta(days=30)\n",
    "recent_vlcc_voyages = api.get_voyages(vessel_class_id=vlcc_id, date_from=date_from)"
   ]
  },
  {
   "cell_type": "code",
   "execution_count": 9,
   "metadata": {
    "scrolled": true
   },
   "outputs": [
    {
     "output_type": "execute_result",
     "data": {
      "text/plain": [
       "         imo  voyage_number  vessel_type_id  vessel_class_id  \\\n",
       "188  9878644              2               1               84   \n",
       "189  9878826              3               1               84   \n",
       "190  9878826              4               1               84   \n",
       "191  9878838              5               1               84   \n",
       "192  9878838              6               1               84   \n",
       "\n",
       "     vessel_status_id  commercial_operator_id  deleted  \\\n",
       "188                 1                      -1    False   \n",
       "189                 1                    1713    False   \n",
       "190                 1                    1713    False   \n",
       "191                 1                    1713    False   \n",
       "192                 1                    1713    False   \n",
       "\n",
       "                                                events         id  \\\n",
       "188  (VoyageEvent(id=None, port_id=3597, voyage_id=...  9878644.2   \n",
       "189  (VoyageEvent(id=None, port_id=3801, voyage_id=...  9878826.3   \n",
       "190  (VoyageEvent(id=None, port_id=3801, voyage_id=...  9878826.4   \n",
       "191  (VoyageEvent(id=None, port_id=3801, voyage_id=...  9878838.5   \n",
       "192  (VoyageEvent(id=None, port_id=3801, voyage_id=...  9878838.6   \n",
       "\n",
       "        vessel_name  ... cargo_group cargo_type_source  quantity  \\\n",
       "188            Yoho  ...     Not set         Estimated       NaN   \n",
       "189         Babylon  ...       Dirty         Estimated       NaN   \n",
       "190         Babylon  ...       Dirty         Estimated       NaN   \n",
       "191  Silverstone St  ...       Dirty         Estimated       NaN   \n",
       "192  Silverstone St  ...       Dirty        MarketInfo  260000.0   \n",
       "\n",
       "                         laycan_from                        laycan_to  \\\n",
       "188 2021-04-03 00:38:32.772000+00:00 2021-04-04 14:31:58.513000+00:00   \n",
       "189                              NaT                              NaT   \n",
       "190                              NaT                              NaT   \n",
       "191                              NaT                              NaT   \n",
       "192        2021-04-01 00:00:00+00:00        2021-04-01 00:00:00+00:00   \n",
       "\n",
       "    fixture_status_id fixture_status              fixture_date  \\\n",
       "188               5.0      PossFixed 2021-03-13 23:56:30+00:00   \n",
       "189               NaN           None                       NaT   \n",
       "190               NaN           None                       NaT   \n",
       "191               NaN           None                       NaT   \n",
       "192               0.0         OnSubs 2021-03-19 17:36:47+00:00   \n",
       "\n",
       "     fixture_is_coa fixture_is_hold  \n",
       "188           False           False  \n",
       "189            None            None  \n",
       "190            None            None  \n",
       "191            None            None  \n",
       "192            True           False  \n",
       "\n",
       "[5 rows x 37 columns]"
      ],
      "text/html": "<div>\n<style scoped>\n    .dataframe tbody tr th:only-of-type {\n        vertical-align: middle;\n    }\n\n    .dataframe tbody tr th {\n        vertical-align: top;\n    }\n\n    .dataframe thead th {\n        text-align: right;\n    }\n</style>\n<table border=\"1\" class=\"dataframe\">\n  <thead>\n    <tr style=\"text-align: right;\">\n      <th></th>\n      <th>imo</th>\n      <th>voyage_number</th>\n      <th>vessel_type_id</th>\n      <th>vessel_class_id</th>\n      <th>vessel_status_id</th>\n      <th>commercial_operator_id</th>\n      <th>deleted</th>\n      <th>events</th>\n      <th>id</th>\n      <th>vessel_name</th>\n      <th>...</th>\n      <th>cargo_group</th>\n      <th>cargo_type_source</th>\n      <th>quantity</th>\n      <th>laycan_from</th>\n      <th>laycan_to</th>\n      <th>fixture_status_id</th>\n      <th>fixture_status</th>\n      <th>fixture_date</th>\n      <th>fixture_is_coa</th>\n      <th>fixture_is_hold</th>\n    </tr>\n  </thead>\n  <tbody>\n    <tr>\n      <th>188</th>\n      <td>9878644</td>\n      <td>2</td>\n      <td>1</td>\n      <td>84</td>\n      <td>1</td>\n      <td>-1</td>\n      <td>False</td>\n      <td>(VoyageEvent(id=None, port_id=3597, voyage_id=...</td>\n      <td>9878644.2</td>\n      <td>Yoho</td>\n      <td>...</td>\n      <td>Not set</td>\n      <td>Estimated</td>\n      <td>NaN</td>\n      <td>2021-04-03 00:38:32.772000+00:00</td>\n      <td>2021-04-04 14:31:58.513000+00:00</td>\n      <td>5.0</td>\n      <td>PossFixed</td>\n      <td>2021-03-13 23:56:30+00:00</td>\n      <td>False</td>\n      <td>False</td>\n    </tr>\n    <tr>\n      <th>189</th>\n      <td>9878826</td>\n      <td>3</td>\n      <td>1</td>\n      <td>84</td>\n      <td>1</td>\n      <td>1713</td>\n      <td>False</td>\n      <td>(VoyageEvent(id=None, port_id=3801, voyage_id=...</td>\n      <td>9878826.3</td>\n      <td>Babylon</td>\n      <td>...</td>\n      <td>Dirty</td>\n      <td>Estimated</td>\n      <td>NaN</td>\n      <td>NaT</td>\n      <td>NaT</td>\n      <td>NaN</td>\n      <td>None</td>\n      <td>NaT</td>\n      <td>None</td>\n      <td>None</td>\n    </tr>\n    <tr>\n      <th>190</th>\n      <td>9878826</td>\n      <td>4</td>\n      <td>1</td>\n      <td>84</td>\n      <td>1</td>\n      <td>1713</td>\n      <td>False</td>\n      <td>(VoyageEvent(id=None, port_id=3801, voyage_id=...</td>\n      <td>9878826.4</td>\n      <td>Babylon</td>\n      <td>...</td>\n      <td>Dirty</td>\n      <td>Estimated</td>\n      <td>NaN</td>\n      <td>NaT</td>\n      <td>NaT</td>\n      <td>NaN</td>\n      <td>None</td>\n      <td>NaT</td>\n      <td>None</td>\n      <td>None</td>\n    </tr>\n    <tr>\n      <th>191</th>\n      <td>9878838</td>\n      <td>5</td>\n      <td>1</td>\n      <td>84</td>\n      <td>1</td>\n      <td>1713</td>\n      <td>False</td>\n      <td>(VoyageEvent(id=None, port_id=3801, voyage_id=...</td>\n      <td>9878838.5</td>\n      <td>Silverstone St</td>\n      <td>...</td>\n      <td>Dirty</td>\n      <td>Estimated</td>\n      <td>NaN</td>\n      <td>NaT</td>\n      <td>NaT</td>\n      <td>NaN</td>\n      <td>None</td>\n      <td>NaT</td>\n      <td>None</td>\n      <td>None</td>\n    </tr>\n    <tr>\n      <th>192</th>\n      <td>9878838</td>\n      <td>6</td>\n      <td>1</td>\n      <td>84</td>\n      <td>1</td>\n      <td>1713</td>\n      <td>False</td>\n      <td>(VoyageEvent(id=None, port_id=3801, voyage_id=...</td>\n      <td>9878838.6</td>\n      <td>Silverstone St</td>\n      <td>...</td>\n      <td>Dirty</td>\n      <td>MarketInfo</td>\n      <td>260000.0</td>\n      <td>2021-04-01 00:00:00+00:00</td>\n      <td>2021-04-01 00:00:00+00:00</td>\n      <td>0.0</td>\n      <td>OnSubs</td>\n      <td>2021-03-19 17:36:47+00:00</td>\n      <td>True</td>\n      <td>False</td>\n    </tr>\n  </tbody>\n</table>\n<p>5 rows × 37 columns</p>\n</div>"
     },
     "metadata": {},
     "execution_count": 9
    }
   ],
   "source": [
    "recent_vlcc_voyages = pd.DataFrame([v.__dict__ for v in recent_vlcc_voyages])\n",
    "recent_vlcc_voyages.tail(5)"
   ]
  },
  {
   "cell_type": "markdown",
   "metadata": {},
   "source": [
    "### Get voyages for vessel type"
   ]
  },
  {
   "cell_type": "code",
   "execution_count": 10,
   "metadata": {},
   "outputs": [],
   "source": [
    "tankers_id = 1\n",
    "date_from = date.today() - timedelta(days=10)\n",
    "recent_tanker_voyages = api.get_voyages(vessel_type_id=tankers_id, date_from=date_from)"
   ]
  },
  {
   "cell_type": "code",
   "execution_count": 11,
   "metadata": {},
   "outputs": [
    {
     "output_type": "execute_result",
     "data": {
      "text/plain": [
       "          imo  voyage_number  vessel_type_id  vessel_class_id  \\\n",
       "1388  9888742              2               1               86   \n",
       "1389  9891438              3               1               88   \n",
       "1390  9895915              3               1               88   \n",
       "1391  9899985              2               1               88   \n",
       "1392  9909950              8               1               87   \n",
       "\n",
       "      vessel_status_id  commercial_operator_id  deleted  \\\n",
       "1388                 1                     578    False   \n",
       "1389                 1                     529    False   \n",
       "1390                 1                     440    False   \n",
       "1391                 1                    1713    False   \n",
       "1392                 1                      -1    False   \n",
       "\n",
       "                                                 events         id  \\\n",
       "1388  (VoyageEvent(id=None, port_id=3599, voyage_id=...  9888742.2   \n",
       "1389  (VoyageEvent(id=None, port_id=3193, voyage_id=...  9891438.3   \n",
       "1390  (VoyageEvent(id=None, port_id=3794, voyage_id=...  9895915.3   \n",
       "1391  (VoyageEvent(id=None, port_id=3498, voyage_id=...  9899985.2   \n",
       "1392  (VoyageEvent(id=None, port_id=7278, voyage_id=...  9909950.8   \n",
       "\n",
       "                vessel_name  ... cargo_group cargo_type_source quantity  \\\n",
       "1388        Anwaar Benghazi  ...     Not set         Estimated      NaN   \n",
       "1389          Energy Apollo  ...        None        MarketInfo  35000.0   \n",
       "1390       Eco Santa Monica  ...     Not set         Estimated      NaN   \n",
       "1391            Nord Vision  ...     Not set         Estimated  30000.0   \n",
       "1392  Zhong You Hua Yuan 18  ...       Dirty         Estimated      NaN   \n",
       "\n",
       "                          laycan_from                        laycan_to  \\\n",
       "1388 2021-04-14 05:34:32.195000+00:00 2021-04-16 03:40:31.651000+00:00   \n",
       "1389        2021-04-16 00:00:00+00:00        2021-04-18 00:00:00+00:00   \n",
       "1390 2021-03-26 02:57:59.248000+00:00 2021-03-29 14:23:31.879000+00:00   \n",
       "1391        2021-03-20 00:00:00+00:00        2021-03-30 00:00:00+00:00   \n",
       "1392                              NaT                              NaT   \n",
       "\n",
       "     fixture_status_id fixture_status              fixture_date  \\\n",
       "1388               0.0         OnSubs 2021-03-22 15:41:39+00:00   \n",
       "1389               1.0     FullyFixed 2021-03-02 02:31:25+00:00   \n",
       "1390               5.0      PossFixed 2021-03-22 15:57:49+00:00   \n",
       "1391               1.0     FullyFixed 2021-03-03 15:07:35+00:00   \n",
       "1392               NaN           None                       NaT   \n",
       "\n",
       "      fixture_is_coa fixture_is_hold  \n",
       "1388           False           False  \n",
       "1389           False           False  \n",
       "1390           False           False  \n",
       "1391           False           False  \n",
       "1392            None            None  \n",
       "\n",
       "[5 rows x 37 columns]"
      ],
      "text/html": "<div>\n<style scoped>\n    .dataframe tbody tr th:only-of-type {\n        vertical-align: middle;\n    }\n\n    .dataframe tbody tr th {\n        vertical-align: top;\n    }\n\n    .dataframe thead th {\n        text-align: right;\n    }\n</style>\n<table border=\"1\" class=\"dataframe\">\n  <thead>\n    <tr style=\"text-align: right;\">\n      <th></th>\n      <th>imo</th>\n      <th>voyage_number</th>\n      <th>vessel_type_id</th>\n      <th>vessel_class_id</th>\n      <th>vessel_status_id</th>\n      <th>commercial_operator_id</th>\n      <th>deleted</th>\n      <th>events</th>\n      <th>id</th>\n      <th>vessel_name</th>\n      <th>...</th>\n      <th>cargo_group</th>\n      <th>cargo_type_source</th>\n      <th>quantity</th>\n      <th>laycan_from</th>\n      <th>laycan_to</th>\n      <th>fixture_status_id</th>\n      <th>fixture_status</th>\n      <th>fixture_date</th>\n      <th>fixture_is_coa</th>\n      <th>fixture_is_hold</th>\n    </tr>\n  </thead>\n  <tbody>\n    <tr>\n      <th>1388</th>\n      <td>9888742</td>\n      <td>2</td>\n      <td>1</td>\n      <td>86</td>\n      <td>1</td>\n      <td>578</td>\n      <td>False</td>\n      <td>(VoyageEvent(id=None, port_id=3599, voyage_id=...</td>\n      <td>9888742.2</td>\n      <td>Anwaar Benghazi</td>\n      <td>...</td>\n      <td>Not set</td>\n      <td>Estimated</td>\n      <td>NaN</td>\n      <td>2021-04-14 05:34:32.195000+00:00</td>\n      <td>2021-04-16 03:40:31.651000+00:00</td>\n      <td>0.0</td>\n      <td>OnSubs</td>\n      <td>2021-03-22 15:41:39+00:00</td>\n      <td>False</td>\n      <td>False</td>\n    </tr>\n    <tr>\n      <th>1389</th>\n      <td>9891438</td>\n      <td>3</td>\n      <td>1</td>\n      <td>88</td>\n      <td>1</td>\n      <td>529</td>\n      <td>False</td>\n      <td>(VoyageEvent(id=None, port_id=3193, voyage_id=...</td>\n      <td>9891438.3</td>\n      <td>Energy Apollo</td>\n      <td>...</td>\n      <td>None</td>\n      <td>MarketInfo</td>\n      <td>35000.0</td>\n      <td>2021-04-16 00:00:00+00:00</td>\n      <td>2021-04-18 00:00:00+00:00</td>\n      <td>1.0</td>\n      <td>FullyFixed</td>\n      <td>2021-03-02 02:31:25+00:00</td>\n      <td>False</td>\n      <td>False</td>\n    </tr>\n    <tr>\n      <th>1390</th>\n      <td>9895915</td>\n      <td>3</td>\n      <td>1</td>\n      <td>88</td>\n      <td>1</td>\n      <td>440</td>\n      <td>False</td>\n      <td>(VoyageEvent(id=None, port_id=3794, voyage_id=...</td>\n      <td>9895915.3</td>\n      <td>Eco Santa Monica</td>\n      <td>...</td>\n      <td>Not set</td>\n      <td>Estimated</td>\n      <td>NaN</td>\n      <td>2021-03-26 02:57:59.248000+00:00</td>\n      <td>2021-03-29 14:23:31.879000+00:00</td>\n      <td>5.0</td>\n      <td>PossFixed</td>\n      <td>2021-03-22 15:57:49+00:00</td>\n      <td>False</td>\n      <td>False</td>\n    </tr>\n    <tr>\n      <th>1391</th>\n      <td>9899985</td>\n      <td>2</td>\n      <td>1</td>\n      <td>88</td>\n      <td>1</td>\n      <td>1713</td>\n      <td>False</td>\n      <td>(VoyageEvent(id=None, port_id=3498, voyage_id=...</td>\n      <td>9899985.2</td>\n      <td>Nord Vision</td>\n      <td>...</td>\n      <td>Not set</td>\n      <td>Estimated</td>\n      <td>30000.0</td>\n      <td>2021-03-20 00:00:00+00:00</td>\n      <td>2021-03-30 00:00:00+00:00</td>\n      <td>1.0</td>\n      <td>FullyFixed</td>\n      <td>2021-03-03 15:07:35+00:00</td>\n      <td>False</td>\n      <td>False</td>\n    </tr>\n    <tr>\n      <th>1392</th>\n      <td>9909950</td>\n      <td>8</td>\n      <td>1</td>\n      <td>87</td>\n      <td>1</td>\n      <td>-1</td>\n      <td>False</td>\n      <td>(VoyageEvent(id=None, port_id=7278, voyage_id=...</td>\n      <td>9909950.8</td>\n      <td>Zhong You Hua Yuan 18</td>\n      <td>...</td>\n      <td>Dirty</td>\n      <td>Estimated</td>\n      <td>NaN</td>\n      <td>NaT</td>\n      <td>NaT</td>\n      <td>NaN</td>\n      <td>None</td>\n      <td>NaT</td>\n      <td>None</td>\n      <td>None</td>\n    </tr>\n  </tbody>\n</table>\n<p>5 rows × 37 columns</p>\n</div>"
     },
     "metadata": {},
     "execution_count": 11
    }
   ],
   "source": [
    "recent_tanker_voyages_df = pd.DataFrame([v.__dict__ for v in recent_tanker_voyages])\n",
    "recent_tanker_voyages_df.tail(5)"
   ]
  },
  {
   "cell_type": "markdown",
   "metadata": {},
   "source": [
    "### Get voyages for vessel in flat format"
   ]
  },
  {
   "cell_type": "code",
   "execution_count": 12,
   "metadata": {},
   "outputs": [],
   "source": [
    "vessel_voyages_flat = api.get_voyages_flat(imo=9292187)"
   ]
  },
  {
   "cell_type": "code",
   "execution_count": 13,
   "metadata": {},
   "outputs": [
    {
     "output_type": "execute_result",
     "data": {
      "text/plain": [
       "        imo  voyage_number  vessel_type_id  vessel_class_id  vessel_status_id  \\\n",
       "47  9292187             48               1               84                 1   \n",
       "48  9292187             49               1               84                 1   \n",
       "49  9292187             50               1               84                 1   \n",
       "50  9292187             51               1               84                 1   \n",
       "51  9292187             52               1               84                 1   \n",
       "\n",
       "    commercial_operator_id  deleted events          id vessel_name  ...  \\\n",
       "47                    1684    False   None  9292187.48     Seaking  ...   \n",
       "48                    1684    False   None  9292187.49     Seaking  ...   \n",
       "49                    1713    False   None  9292187.50     Seaking  ...   \n",
       "50                    1713    False   None  9292187.51     Seaking  ...   \n",
       "51                    1713    False   None  9292187.52     Seaking  ...   \n",
       "\n",
       "   cargo_group cargo_type_source  quantity               laycan_from  \\\n",
       "47       Dirty        MarketInfo  260000.0 2019-12-20 00:00:00+00:00   \n",
       "48       Dirty         Estimated       NaN 2020-04-25 03:47:05+00:00   \n",
       "49       Dirty         Estimated       NaN 2020-06-01 03:57:15+00:00   \n",
       "50       Dirty         Estimated       NaN                       NaT   \n",
       "51       Dirty        MarketInfo  260000.0 2021-02-02 00:00:00+00:00   \n",
       "\n",
       "                   laycan_to fixture_status_id fixture_status  \\\n",
       "47 2019-12-22 23:59:00+00:00               1.0     FullyFixed   \n",
       "48 2020-04-26 03:47:05+00:00               1.0     FullyFixed   \n",
       "49 2020-06-02 03:57:15+00:00               1.0     FullyFixed   \n",
       "50                       NaT               NaN           None   \n",
       "51 2021-02-02 00:00:00+00:00               1.0     FullyFixed   \n",
       "\n",
       "                       fixture_date  fixture_is_coa fixture_is_hold  \n",
       "47 2019-11-20 10:49:57.117000+00:00           False           False  \n",
       "48        2020-03-19 03:42:23+00:00           False           False  \n",
       "49        2020-05-26 17:49:57+00:00            True            True  \n",
       "50                              NaT            None            None  \n",
       "51 2021-01-12 13:45:27.563000+00:00           False           False  \n",
       "\n",
       "[5 rows x 37 columns]"
      ],
      "text/html": "<div>\n<style scoped>\n    .dataframe tbody tr th:only-of-type {\n        vertical-align: middle;\n    }\n\n    .dataframe tbody tr th {\n        vertical-align: top;\n    }\n\n    .dataframe thead th {\n        text-align: right;\n    }\n</style>\n<table border=\"1\" class=\"dataframe\">\n  <thead>\n    <tr style=\"text-align: right;\">\n      <th></th>\n      <th>imo</th>\n      <th>voyage_number</th>\n      <th>vessel_type_id</th>\n      <th>vessel_class_id</th>\n      <th>vessel_status_id</th>\n      <th>commercial_operator_id</th>\n      <th>deleted</th>\n      <th>events</th>\n      <th>id</th>\n      <th>vessel_name</th>\n      <th>...</th>\n      <th>cargo_group</th>\n      <th>cargo_type_source</th>\n      <th>quantity</th>\n      <th>laycan_from</th>\n      <th>laycan_to</th>\n      <th>fixture_status_id</th>\n      <th>fixture_status</th>\n      <th>fixture_date</th>\n      <th>fixture_is_coa</th>\n      <th>fixture_is_hold</th>\n    </tr>\n  </thead>\n  <tbody>\n    <tr>\n      <th>47</th>\n      <td>9292187</td>\n      <td>48</td>\n      <td>1</td>\n      <td>84</td>\n      <td>1</td>\n      <td>1684</td>\n      <td>False</td>\n      <td>None</td>\n      <td>9292187.48</td>\n      <td>Seaking</td>\n      <td>...</td>\n      <td>Dirty</td>\n      <td>MarketInfo</td>\n      <td>260000.0</td>\n      <td>2019-12-20 00:00:00+00:00</td>\n      <td>2019-12-22 23:59:00+00:00</td>\n      <td>1.0</td>\n      <td>FullyFixed</td>\n      <td>2019-11-20 10:49:57.117000+00:00</td>\n      <td>False</td>\n      <td>False</td>\n    </tr>\n    <tr>\n      <th>48</th>\n      <td>9292187</td>\n      <td>49</td>\n      <td>1</td>\n      <td>84</td>\n      <td>1</td>\n      <td>1684</td>\n      <td>False</td>\n      <td>None</td>\n      <td>9292187.49</td>\n      <td>Seaking</td>\n      <td>...</td>\n      <td>Dirty</td>\n      <td>Estimated</td>\n      <td>NaN</td>\n      <td>2020-04-25 03:47:05+00:00</td>\n      <td>2020-04-26 03:47:05+00:00</td>\n      <td>1.0</td>\n      <td>FullyFixed</td>\n      <td>2020-03-19 03:42:23+00:00</td>\n      <td>False</td>\n      <td>False</td>\n    </tr>\n    <tr>\n      <th>49</th>\n      <td>9292187</td>\n      <td>50</td>\n      <td>1</td>\n      <td>84</td>\n      <td>1</td>\n      <td>1713</td>\n      <td>False</td>\n      <td>None</td>\n      <td>9292187.50</td>\n      <td>Seaking</td>\n      <td>...</td>\n      <td>Dirty</td>\n      <td>Estimated</td>\n      <td>NaN</td>\n      <td>2020-06-01 03:57:15+00:00</td>\n      <td>2020-06-02 03:57:15+00:00</td>\n      <td>1.0</td>\n      <td>FullyFixed</td>\n      <td>2020-05-26 17:49:57+00:00</td>\n      <td>True</td>\n      <td>True</td>\n    </tr>\n    <tr>\n      <th>50</th>\n      <td>9292187</td>\n      <td>51</td>\n      <td>1</td>\n      <td>84</td>\n      <td>1</td>\n      <td>1713</td>\n      <td>False</td>\n      <td>None</td>\n      <td>9292187.51</td>\n      <td>Seaking</td>\n      <td>...</td>\n      <td>Dirty</td>\n      <td>Estimated</td>\n      <td>NaN</td>\n      <td>NaT</td>\n      <td>NaT</td>\n      <td>NaN</td>\n      <td>None</td>\n      <td>NaT</td>\n      <td>None</td>\n      <td>None</td>\n    </tr>\n    <tr>\n      <th>51</th>\n      <td>9292187</td>\n      <td>52</td>\n      <td>1</td>\n      <td>84</td>\n      <td>1</td>\n      <td>1713</td>\n      <td>False</td>\n      <td>None</td>\n      <td>9292187.52</td>\n      <td>Seaking</td>\n      <td>...</td>\n      <td>Dirty</td>\n      <td>MarketInfo</td>\n      <td>260000.0</td>\n      <td>2021-02-02 00:00:00+00:00</td>\n      <td>2021-02-02 00:00:00+00:00</td>\n      <td>1.0</td>\n      <td>FullyFixed</td>\n      <td>2021-01-12 13:45:27.563000+00:00</td>\n      <td>False</td>\n      <td>False</td>\n    </tr>\n  </tbody>\n</table>\n<p>5 rows × 37 columns</p>\n</div>"
     },
     "metadata": {},
     "execution_count": 13
    }
   ],
   "source": [
    "vessel_voyages_df = pd.DataFrame(v.__dict__ for v in vessel_voyages_flat.voyages)\n",
    "vessel_voyages_df.tail(5)"
   ]
  },
  {
   "cell_type": "code",
   "execution_count": 14,
   "metadata": {},
   "outputs": [
    {
     "output_type": "execute_result",
     "data": {
      "text/plain": [
       "               id  port_id   voyage_id event_type event_horizon    purpose  \\\n",
       "295  9292187.52.2    13261  9292187.52       Stop    Historical       Stop   \n",
       "296  9292187.52.3     3679  9292187.52   PortCall    Historical       Load   \n",
       "297  9292187.52.4     3422  9292187.52       Stop    Historical       Stop   \n",
       "298  9292187.52.5     3679  9292187.52   PortCall    Historical       Load   \n",
       "299  9292187.52.6     3532  9292187.52   PortCall        Future  Discharge   \n",
       "\n",
       "                        arrival_date                     sailing_date  \\\n",
       "295        2021-01-25 11:31:10+00:00        2021-01-30 19:44:08+00:00   \n",
       "296        2021-02-03 07:55:41+00:00        2021-02-04 23:39:34+00:00   \n",
       "297        2021-02-06 11:35:06+00:00        2021-02-08 10:46:06+00:00   \n",
       "298        2021-02-09 09:05:48+00:00 2021-02-28 23:06:13.400000+00:00   \n",
       "299 2021-03-24 23:06:30.159000+00:00        2021-03-27 23:00:00+00:00   \n",
       "\n",
       "     latitude  longitude  ...  area_idlevel0 area_name_level0 area_idlevel1  \\\n",
       "295  -13.0024     9.8397  ...           None             None          None   \n",
       "296    3.1606     6.8317  ...           None             None          None   \n",
       "297   -0.9968     7.5479  ...           None             None          None   \n",
       "298    4.1704     7.2187  ...           None             None          None   \n",
       "299   22.4842    69.6743  ...           None             None          None   \n",
       "\n",
       "    area_name_level1 area_idlevel2 area_name_level2 area_idlevel3  \\\n",
       "295             None          None             None          None   \n",
       "296             None          None             None          None   \n",
       "297             None          None             None          None   \n",
       "298             None          None             None          None   \n",
       "299             None          None             None          None   \n",
       "\n",
       "    area_name_level3 low_ais_density event_details  \n",
       "295             None            None          None  \n",
       "296             None            True          None  \n",
       "297             None            None          None  \n",
       "298             None            True          None  \n",
       "299             None            True          None  \n",
       "\n",
       "[5 rows x 25 columns]"
      ],
      "text/html": "<div>\n<style scoped>\n    .dataframe tbody tr th:only-of-type {\n        vertical-align: middle;\n    }\n\n    .dataframe tbody tr th {\n        vertical-align: top;\n    }\n\n    .dataframe thead th {\n        text-align: right;\n    }\n</style>\n<table border=\"1\" class=\"dataframe\">\n  <thead>\n    <tr style=\"text-align: right;\">\n      <th></th>\n      <th>id</th>\n      <th>port_id</th>\n      <th>voyage_id</th>\n      <th>event_type</th>\n      <th>event_horizon</th>\n      <th>purpose</th>\n      <th>arrival_date</th>\n      <th>sailing_date</th>\n      <th>latitude</th>\n      <th>longitude</th>\n      <th>...</th>\n      <th>area_idlevel0</th>\n      <th>area_name_level0</th>\n      <th>area_idlevel1</th>\n      <th>area_name_level1</th>\n      <th>area_idlevel2</th>\n      <th>area_name_level2</th>\n      <th>area_idlevel3</th>\n      <th>area_name_level3</th>\n      <th>low_ais_density</th>\n      <th>event_details</th>\n    </tr>\n  </thead>\n  <tbody>\n    <tr>\n      <th>295</th>\n      <td>9292187.52.2</td>\n      <td>13261</td>\n      <td>9292187.52</td>\n      <td>Stop</td>\n      <td>Historical</td>\n      <td>Stop</td>\n      <td>2021-01-25 11:31:10+00:00</td>\n      <td>2021-01-30 19:44:08+00:00</td>\n      <td>-13.0024</td>\n      <td>9.8397</td>\n      <td>...</td>\n      <td>None</td>\n      <td>None</td>\n      <td>None</td>\n      <td>None</td>\n      <td>None</td>\n      <td>None</td>\n      <td>None</td>\n      <td>None</td>\n      <td>None</td>\n      <td>None</td>\n    </tr>\n    <tr>\n      <th>296</th>\n      <td>9292187.52.3</td>\n      <td>3679</td>\n      <td>9292187.52</td>\n      <td>PortCall</td>\n      <td>Historical</td>\n      <td>Load</td>\n      <td>2021-02-03 07:55:41+00:00</td>\n      <td>2021-02-04 23:39:34+00:00</td>\n      <td>3.1606</td>\n      <td>6.8317</td>\n      <td>...</td>\n      <td>None</td>\n      <td>None</td>\n      <td>None</td>\n      <td>None</td>\n      <td>None</td>\n      <td>None</td>\n      <td>None</td>\n      <td>None</td>\n      <td>True</td>\n      <td>None</td>\n    </tr>\n    <tr>\n      <th>297</th>\n      <td>9292187.52.4</td>\n      <td>3422</td>\n      <td>9292187.52</td>\n      <td>Stop</td>\n      <td>Historical</td>\n      <td>Stop</td>\n      <td>2021-02-06 11:35:06+00:00</td>\n      <td>2021-02-08 10:46:06+00:00</td>\n      <td>-0.9968</td>\n      <td>7.5479</td>\n      <td>...</td>\n      <td>None</td>\n      <td>None</td>\n      <td>None</td>\n      <td>None</td>\n      <td>None</td>\n      <td>None</td>\n      <td>None</td>\n      <td>None</td>\n      <td>None</td>\n      <td>None</td>\n    </tr>\n    <tr>\n      <th>298</th>\n      <td>9292187.52.5</td>\n      <td>3679</td>\n      <td>9292187.52</td>\n      <td>PortCall</td>\n      <td>Historical</td>\n      <td>Load</td>\n      <td>2021-02-09 09:05:48+00:00</td>\n      <td>2021-02-28 23:06:13.400000+00:00</td>\n      <td>4.1704</td>\n      <td>7.2187</td>\n      <td>...</td>\n      <td>None</td>\n      <td>None</td>\n      <td>None</td>\n      <td>None</td>\n      <td>None</td>\n      <td>None</td>\n      <td>None</td>\n      <td>None</td>\n      <td>True</td>\n      <td>None</td>\n    </tr>\n    <tr>\n      <th>299</th>\n      <td>9292187.52.6</td>\n      <td>3532</td>\n      <td>9292187.52</td>\n      <td>PortCall</td>\n      <td>Future</td>\n      <td>Discharge</td>\n      <td>2021-03-24 23:06:30.159000+00:00</td>\n      <td>2021-03-27 23:00:00+00:00</td>\n      <td>22.4842</td>\n      <td>69.6743</td>\n      <td>...</td>\n      <td>None</td>\n      <td>None</td>\n      <td>None</td>\n      <td>None</td>\n      <td>None</td>\n      <td>None</td>\n      <td>None</td>\n      <td>None</td>\n      <td>True</td>\n      <td>None</td>\n    </tr>\n  </tbody>\n</table>\n<p>5 rows × 25 columns</p>\n</div>"
     },
     "metadata": {},
     "execution_count": 14
    }
   ],
   "source": [
    "vessel_events_df = pd.DataFrame(v.__dict__ for v in vessel_voyages_flat.events)\n",
    "vessel_events_df.tail(5)"
   ]
  },
  {
   "cell_type": "code",
   "execution_count": 15,
   "metadata": {},
   "outputs": [
    {
     "output_type": "execute_result",
     "data": {
      "text/plain": [
       "                 id      event_id event_detail_type              arrival_date  \\\n",
       "269  9292187.52.1.0  9292187.52.1              Stop 2020-12-29 03:57:13+00:00   \n",
       "270  9292187.52.2.0  9292187.52.2              Stop 2021-01-25 11:31:10+00:00   \n",
       "271  9292187.52.3.0  9292187.52.3             Jetty 2021-02-03 07:55:41+00:00   \n",
       "272  9292187.52.4.0  9292187.52.4              Stop 2021-02-06 11:35:06+00:00   \n",
       "273  9292187.52.5.0  9292187.52.5             Jetty 2021-02-09 09:05:48+00:00   \n",
       "\n",
       "                        sailing_date   start_time_of_operation  \\\n",
       "269        2020-12-30 11:58:24+00:00                       NaT   \n",
       "270        2021-01-30 19:44:08+00:00                       NaT   \n",
       "271        2021-02-04 23:39:34+00:00 2021-02-03 10:57:50+00:00   \n",
       "272        2021-02-08 10:46:06+00:00                       NaT   \n",
       "273 2021-02-28 23:06:13.400000+00:00 2021-02-26 15:27:11+00:00   \n",
       "\n",
       "        end_time_of_operation  geo_asset_id           geo_asset_name  \\\n",
       "269                       NaT          4446   Changi Lightering Zone   \n",
       "270                       NaT          4393               FPSO Dalia   \n",
       "271 2021-02-03 12:15:52+00:00          4369                FPSO Akpo   \n",
       "272                       NaT          4062    Port Gentil Anchorage   \n",
       "273 2021-02-26 15:27:11+00:00          5352  Bonny Offshore Terminal   \n",
       "\n",
       "      latitude   longitude  other_vessel_imo other_vessel_name  \n",
       "269   1.269630  103.960800               NaN              None  \n",
       "270 -13.002350    9.839715               NaN              None  \n",
       "271   3.160565    6.831695               NaN              None  \n",
       "272  -0.996812    7.547887               NaN              None  \n",
       "273   4.170430    7.218700               NaN              None  "
      ],
      "text/html": "<div>\n<style scoped>\n    .dataframe tbody tr th:only-of-type {\n        vertical-align: middle;\n    }\n\n    .dataframe tbody tr th {\n        vertical-align: top;\n    }\n\n    .dataframe thead th {\n        text-align: right;\n    }\n</style>\n<table border=\"1\" class=\"dataframe\">\n  <thead>\n    <tr style=\"text-align: right;\">\n      <th></th>\n      <th>id</th>\n      <th>event_id</th>\n      <th>event_detail_type</th>\n      <th>arrival_date</th>\n      <th>sailing_date</th>\n      <th>start_time_of_operation</th>\n      <th>end_time_of_operation</th>\n      <th>geo_asset_id</th>\n      <th>geo_asset_name</th>\n      <th>latitude</th>\n      <th>longitude</th>\n      <th>other_vessel_imo</th>\n      <th>other_vessel_name</th>\n    </tr>\n  </thead>\n  <tbody>\n    <tr>\n      <th>269</th>\n      <td>9292187.52.1.0</td>\n      <td>9292187.52.1</td>\n      <td>Stop</td>\n      <td>2020-12-29 03:57:13+00:00</td>\n      <td>2020-12-30 11:58:24+00:00</td>\n      <td>NaT</td>\n      <td>NaT</td>\n      <td>4446</td>\n      <td>Changi Lightering Zone</td>\n      <td>1.269630</td>\n      <td>103.960800</td>\n      <td>NaN</td>\n      <td>None</td>\n    </tr>\n    <tr>\n      <th>270</th>\n      <td>9292187.52.2.0</td>\n      <td>9292187.52.2</td>\n      <td>Stop</td>\n      <td>2021-01-25 11:31:10+00:00</td>\n      <td>2021-01-30 19:44:08+00:00</td>\n      <td>NaT</td>\n      <td>NaT</td>\n      <td>4393</td>\n      <td>FPSO Dalia</td>\n      <td>-13.002350</td>\n      <td>9.839715</td>\n      <td>NaN</td>\n      <td>None</td>\n    </tr>\n    <tr>\n      <th>271</th>\n      <td>9292187.52.3.0</td>\n      <td>9292187.52.3</td>\n      <td>Jetty</td>\n      <td>2021-02-03 07:55:41+00:00</td>\n      <td>2021-02-04 23:39:34+00:00</td>\n      <td>2021-02-03 10:57:50+00:00</td>\n      <td>2021-02-03 12:15:52+00:00</td>\n      <td>4369</td>\n      <td>FPSO Akpo</td>\n      <td>3.160565</td>\n      <td>6.831695</td>\n      <td>NaN</td>\n      <td>None</td>\n    </tr>\n    <tr>\n      <th>272</th>\n      <td>9292187.52.4.0</td>\n      <td>9292187.52.4</td>\n      <td>Stop</td>\n      <td>2021-02-06 11:35:06+00:00</td>\n      <td>2021-02-08 10:46:06+00:00</td>\n      <td>NaT</td>\n      <td>NaT</td>\n      <td>4062</td>\n      <td>Port Gentil Anchorage</td>\n      <td>-0.996812</td>\n      <td>7.547887</td>\n      <td>NaN</td>\n      <td>None</td>\n    </tr>\n    <tr>\n      <th>273</th>\n      <td>9292187.52.5.0</td>\n      <td>9292187.52.5</td>\n      <td>Jetty</td>\n      <td>2021-02-09 09:05:48+00:00</td>\n      <td>2021-02-28 23:06:13.400000+00:00</td>\n      <td>2021-02-26 15:27:11+00:00</td>\n      <td>2021-02-26 15:27:11+00:00</td>\n      <td>5352</td>\n      <td>Bonny Offshore Terminal</td>\n      <td>4.170430</td>\n      <td>7.218700</td>\n      <td>NaN</td>\n      <td>None</td>\n    </tr>\n  </tbody>\n</table>\n</div>"
     },
     "metadata": {},
     "execution_count": 15
    }
   ],
   "source": [
    "vessel_event_details_df = pd.DataFrame(v.__dict__ for v in vessel_voyages_flat.event_details)\n",
    "vessel_event_details_df.tail(5)"
   ]
  },
  {
   "cell_type": "code",
   "execution_count": 16,
   "metadata": {},
   "outputs": [
    {
     "output_type": "execute_result",
     "data": {
      "text/plain": [
       "       id                          name  port_id     port_name  country_id  \\\n",
       "203  6507               Terminal Island     3857    Long Beach         240   \n",
       "204  6163      Vopak Terminal Europoort     3689     Rotterdam         173   \n",
       "205  5744       Euro Tank Terminal B.v.     3689     Rotterdam         173   \n",
       "206  6361         Aruba Lightering Zone     3214  San Nicolaas          21   \n",
       "207  5745  Maatschap Europoort Terminal     3689     Rotterdam         173   \n",
       "\n",
       "           country  area_idlevel0 area_name_level0  area_idlevel1  \\\n",
       "203  United States          24741    US West Coast          25017   \n",
       "204    Netherlands          24758        Continent          25016   \n",
       "205    Netherlands          24758        Continent          25016   \n",
       "206          Aruba          24746           Caribs              9   \n",
       "207    Netherlands          24758        Continent          25016   \n",
       "\n",
       "             area_name_level1  area_idlevel2              area_name_level2  \\\n",
       "203  West Coast North America          25026      West Coast North America   \n",
       "204              UK Continent          25025  Mediterranean / UK Continent   \n",
       "205              UK Continent          25025  Mediterranean / UK Continent   \n",
       "206                    Caribs          25019              Atlantic America   \n",
       "207              UK Continent          25025  Mediterranean / UK Continent   \n",
       "\n",
       "     area_idlevel3 area_name_level3  \n",
       "203             85  Pacific America  \n",
       "204          25028             West  \n",
       "205          25028             West  \n",
       "206          25028             West  \n",
       "207          25028             West  "
      ],
      "text/html": "<div>\n<style scoped>\n    .dataframe tbody tr th:only-of-type {\n        vertical-align: middle;\n    }\n\n    .dataframe tbody tr th {\n        vertical-align: top;\n    }\n\n    .dataframe thead th {\n        text-align: right;\n    }\n</style>\n<table border=\"1\" class=\"dataframe\">\n  <thead>\n    <tr style=\"text-align: right;\">\n      <th></th>\n      <th>id</th>\n      <th>name</th>\n      <th>port_id</th>\n      <th>port_name</th>\n      <th>country_id</th>\n      <th>country</th>\n      <th>area_idlevel0</th>\n      <th>area_name_level0</th>\n      <th>area_idlevel1</th>\n      <th>area_name_level1</th>\n      <th>area_idlevel2</th>\n      <th>area_name_level2</th>\n      <th>area_idlevel3</th>\n      <th>area_name_level3</th>\n    </tr>\n  </thead>\n  <tbody>\n    <tr>\n      <th>203</th>\n      <td>6507</td>\n      <td>Terminal Island</td>\n      <td>3857</td>\n      <td>Long Beach</td>\n      <td>240</td>\n      <td>United States</td>\n      <td>24741</td>\n      <td>US West Coast</td>\n      <td>25017</td>\n      <td>West Coast North America</td>\n      <td>25026</td>\n      <td>West Coast North America</td>\n      <td>85</td>\n      <td>Pacific America</td>\n    </tr>\n    <tr>\n      <th>204</th>\n      <td>6163</td>\n      <td>Vopak Terminal Europoort</td>\n      <td>3689</td>\n      <td>Rotterdam</td>\n      <td>173</td>\n      <td>Netherlands</td>\n      <td>24758</td>\n      <td>Continent</td>\n      <td>25016</td>\n      <td>UK Continent</td>\n      <td>25025</td>\n      <td>Mediterranean / UK Continent</td>\n      <td>25028</td>\n      <td>West</td>\n    </tr>\n    <tr>\n      <th>205</th>\n      <td>5744</td>\n      <td>Euro Tank Terminal B.v.</td>\n      <td>3689</td>\n      <td>Rotterdam</td>\n      <td>173</td>\n      <td>Netherlands</td>\n      <td>24758</td>\n      <td>Continent</td>\n      <td>25016</td>\n      <td>UK Continent</td>\n      <td>25025</td>\n      <td>Mediterranean / UK Continent</td>\n      <td>25028</td>\n      <td>West</td>\n    </tr>\n    <tr>\n      <th>206</th>\n      <td>6361</td>\n      <td>Aruba Lightering Zone</td>\n      <td>3214</td>\n      <td>San Nicolaas</td>\n      <td>21</td>\n      <td>Aruba</td>\n      <td>24746</td>\n      <td>Caribs</td>\n      <td>9</td>\n      <td>Caribs</td>\n      <td>25019</td>\n      <td>Atlantic America</td>\n      <td>25028</td>\n      <td>West</td>\n    </tr>\n    <tr>\n      <th>207</th>\n      <td>5745</td>\n      <td>Maatschap Europoort Terminal</td>\n      <td>3689</td>\n      <td>Rotterdam</td>\n      <td>173</td>\n      <td>Netherlands</td>\n      <td>24758</td>\n      <td>Continent</td>\n      <td>25016</td>\n      <td>UK Continent</td>\n      <td>25025</td>\n      <td>Mediterranean / UK Continent</td>\n      <td>25028</td>\n      <td>West</td>\n    </tr>\n  </tbody>\n</table>\n</div>"
     },
     "metadata": {},
     "execution_count": 16
    }
   ],
   "source": [
    "vessel_voyages_geos_df = pd.DataFrame(v.__dict__ for v in vessel_voyages_flat.geos)\n",
    "vessel_voyages_geos_df.tail(5)"
   ]
  },
  {
   "cell_type": "markdown",
   "metadata": {},
   "source": [
    "### Get voyages for vessel class in the flat format"
   ]
  },
  {
   "cell_type": "code",
   "execution_count": 17,
   "metadata": {},
   "outputs": [],
   "source": [
    "vlcc_id = 84\n",
    "date_from = date.today() - timedelta(days=30)\n",
    "recent_vlcc_voyages_flat = api.get_voyages_flat(vessel_class_id=vlcc_id, date_from=date_from)"
   ]
  },
  {
   "cell_type": "code",
   "execution_count": 18,
   "metadata": {},
   "outputs": [
    {
     "output_type": "stream",
     "name": "stdout",
     "text": [
      "Voyages: 193\nEvents: 794\nEventDetails: 345\nGeos: 191\n"
     ]
    }
   ],
   "source": [
    "print('Voyages:', len(recent_vlcc_voyages_flat.voyages))\n",
    "print('Events:', len(recent_vlcc_voyages_flat.events))\n",
    "print('EventDetails:', len(recent_vlcc_voyages_flat.event_details))\n",
    "print('Geos:', len(recent_vlcc_voyages_flat.geos))"
   ]
  },
  {
   "cell_type": "markdown",
   "metadata": {},
   "source": [
    "### Get voyages for vessel type in the flat format"
   ]
  },
  {
   "cell_type": "code",
   "execution_count": 19,
   "metadata": {},
   "outputs": [],
   "source": [
    "tankers_id = 1\n",
    "date_from = date.today() - timedelta(days=10)\n",
    "recent_tankers_voyages_flat = api.get_voyages_flat(vessel_type_id=tankers_id, date_from=date_from)"
   ]
  },
  {
   "cell_type": "code",
   "execution_count": 20,
   "metadata": {},
   "outputs": [
    {
     "output_type": "stream",
     "name": "stdout",
     "text": [
      "Voyages: 1393\nEvents: 4833\nEventDetails: 1426\nGeos: 2977\n"
     ]
    }
   ],
   "source": [
    "print('Voyages:', len(recent_tankers_voyages_flat.voyages))\n",
    "print('Events:', len(recent_tankers_voyages_flat.events))\n",
    "print('EventDetails:', len(recent_tankers_voyages_flat.event_details))\n",
    "print('Geos:', len(recent_tankers_voyages_flat.geos))"
   ]
  },
  {
   "cell_type": "markdown",
   "metadata": {},
   "source": [
    "### Get voyages for vessel incrementally "
   ]
  },
  {
   "cell_type": "markdown",
   "metadata": {},
   "source": [
    "Initial requests retrieves voyages mathcing the query criteria and a query token that can be used in the subsequent request."
   ]
  },
  {
   "cell_type": "code",
   "execution_count": 21,
   "metadata": {},
   "outputs": [
    {
     "output_type": "execute_result",
     "data": {
      "text/plain": [
       "67"
      ]
     },
     "metadata": {},
     "execution_count": 21
    }
   ],
   "source": [
    "vessel_voyages, next_request_token = api.get_incremental_voyages(imo=9416642)\n",
    "len(vessel_voyages)"
   ]
  },
  {
   "cell_type": "markdown",
   "metadata": {},
   "source": [
    "Provided the token retrieved for the previous request, the subsequent request retrieves only voyages that have been updated since the previous request. "
   ]
  },
  {
   "cell_type": "code",
   "execution_count": 22,
   "metadata": {},
   "outputs": [
    {
     "output_type": "execute_result",
     "data": {
      "text/plain": [
       "0"
      ]
     },
     "metadata": {},
     "execution_count": 22
    }
   ],
   "source": [
    "incremental_voyages, next_request_token = api.get_incremental_voyages(imo=9416642, incremental_token=next_request_token)\n",
    "len(incremental_voyages)"
   ]
  },
  {
   "cell_type": "markdown",
   "metadata": {},
   "source": [
    "The retrieved information is used to replace any modify voyages from the dataset. Note that returned voyages marked as deleted are only used to filter out voyages. "
   ]
  },
  {
   "cell_type": "code",
   "execution_count": 23,
   "metadata": {},
   "outputs": [
    {
     "output_type": "execute_result",
     "data": {
      "text/plain": [
       "67"
      ]
     },
     "metadata": {},
     "execution_count": 23
    }
   ],
   "source": [
    "updated_voyage_ids = set(v.id for v in incremental_voyages)\n",
    "vessel_voyages = [v for v in vessel_voyages if v.id not in updated_voyage_ids]\n",
    "new_vessel_voyages = [v for v in incremental_voyages if not v.deleted]\n",
    "vessel_voyages = sorted(vessel_voyages + new_vessel_voyages, key= lambda v: v.voyage_number)\n",
    "len(vessel_voyages)"
   ]
  },
  {
   "cell_type": "markdown",
   "metadata": {},
   "source": [
    "### Get voyages for vessel class incrementally "
   ]
  },
  {
   "cell_type": "markdown",
   "metadata": {},
   "source": [
    "Voyages for vessel class are retieved and updated in the same way incrementally."
   ]
  },
  {
   "cell_type": "code",
   "execution_count": 24,
   "metadata": {},
   "outputs": [],
   "source": [
    "vessel_class_id = 84\n",
    "date_from = date.today() - timedelta(days=30)"
   ]
  },
  {
   "cell_type": "code",
   "execution_count": 25,
   "metadata": {},
   "outputs": [
    {
     "output_type": "execute_result",
     "data": {
      "text/plain": [
       "193"
      ]
     },
     "metadata": {},
     "execution_count": 25
    }
   ],
   "source": [
    "voyages, next_request_token = api.get_incremental_voyages(vessel_class_id=vessel_class_id, date_from=date_from)\n",
    "len(voyages)"
   ]
  },
  {
   "cell_type": "code",
   "execution_count": 26,
   "metadata": {},
   "outputs": [
    {
     "output_type": "execute_result",
     "data": {
      "text/plain": [
       "0"
      ]
     },
     "metadata": {},
     "execution_count": 26
    }
   ],
   "source": [
    "incremental_voyages, next_request_token = api.get_incremental_voyages(vessel_class_id=vessel_class_id, date_from=date_from, incremental_token=next_request_token)\n",
    "len(incremental_voyages)"
   ]
  },
  {
   "cell_type": "code",
   "execution_count": 27,
   "metadata": {},
   "outputs": [
    {
     "output_type": "execute_result",
     "data": {
      "text/plain": [
       "193"
      ]
     },
     "metadata": {},
     "execution_count": 27
    }
   ],
   "source": [
    "updated_voyage_ids = set(v.id for v in incremental_voyages)\n",
    "voyages = [v for v in voyages if v.id not in updated_voyage_ids]\n",
    "new_voyages = [v for v in incremental_voyages if not v.deleted]\n",
    "voyages = sorted(voyages + new_voyages, key= lambda v: (v.imo, v.voyage_number))\n",
    "len(voyages)"
   ]
  },
  {
   "cell_type": "markdown",
   "metadata": {},
   "source": [
    "### Get voyages for vessel class incrementally in the flat format"
   ]
  },
  {
   "cell_type": "markdown",
   "metadata": {},
   "source": [
    "Voyages may be retrieved and updated incrementally in the flat format. "
   ]
  },
  {
   "cell_type": "code",
   "execution_count": 28,
   "metadata": {},
   "outputs": [],
   "source": [
    "vessel_class_id = 84\n",
    "date_from = date.today() - timedelta(days=30)"
   ]
  },
  {
   "cell_type": "code",
   "execution_count": 29,
   "metadata": {},
   "outputs": [],
   "source": [
    "voyages_flat, next_request_token = api.get_incremental_voyages_flat(vessel_class_id=vessel_class_id, date_from=date_from)"
   ]
  },
  {
   "cell_type": "code",
   "execution_count": 30,
   "metadata": {},
   "outputs": [],
   "source": [
    "voyages = voyages_flat.voyages\n",
    "events = voyages_flat.events\n",
    "event_details = voyages_flat.event_details\n",
    "geos = voyages_flat.geos"
   ]
  },
  {
   "cell_type": "code",
   "execution_count": 31,
   "metadata": {},
   "outputs": [
    {
     "output_type": "execute_result",
     "data": {
      "text/plain": [
       "(193, 794, 345, 191)"
      ]
     },
     "metadata": {},
     "execution_count": 31
    }
   ],
   "source": [
    "len(voyages), len(events), len(event_details), len(geos)"
   ]
  },
  {
   "cell_type": "code",
   "execution_count": 32,
   "metadata": {},
   "outputs": [],
   "source": [
    "incremental_voyages_flat, next_request_token = api.get_incremental_voyages_flat(vessel_class_id=vessel_class_id, date_from=date_from, incremental_token=next_request_token)"
   ]
  },
  {
   "cell_type": "code",
   "execution_count": 33,
   "metadata": {},
   "outputs": [
    {
     "output_type": "execute_result",
     "data": {
      "text/plain": [
       "0"
      ]
     },
     "metadata": {},
     "execution_count": 33
    }
   ],
   "source": [
    "len(incremental_voyages_flat.voyages)"
   ]
  },
  {
   "cell_type": "markdown",
   "metadata": {},
   "source": [
    "In this case the update step is applied to voyages, events, event details and geos datasets."
   ]
  },
  {
   "cell_type": "code",
   "execution_count": 34,
   "metadata": {},
   "outputs": [
    {
     "output_type": "execute_result",
     "data": {
      "text/plain": [
       "193"
      ]
     },
     "metadata": {},
     "execution_count": 34
    }
   ],
   "source": [
    "updated_voyage_ids = set(v.id for v in incremental_voyages_flat.voyages)\n",
    "voyages = [v for v in voyages if v.id not in updated_voyage_ids]\n",
    "new_voyages = [v for v in incremental_voyages_flat.voyages if not v.deleted]\n",
    "voyages = sorted(voyages + new_voyages, key= lambda v: (v.imo, v.voyage_number))\n",
    "len(voyages)"
   ]
  },
  {
   "cell_type": "code",
   "execution_count": 35,
   "metadata": {},
   "outputs": [
    {
     "output_type": "execute_result",
     "data": {
      "text/plain": [
       "794"
      ]
     },
     "metadata": {},
     "execution_count": 35
    }
   ],
   "source": [
    "updated_event_ids = set(e.id for e in events if e.voyage_id in updated_voyage_ids)\n",
    "events = [e for e in events if e.id not in updated_event_ids]\n",
    "events = sorted(events + list(incremental_voyages_flat.events), key= lambda e: e.id)\n",
    "len(events)"
   ]
  },
  {
   "cell_type": "code",
   "execution_count": 36,
   "metadata": {},
   "outputs": [
    {
     "output_type": "execute_result",
     "data": {
      "text/plain": [
       "345"
      ]
     },
     "metadata": {},
     "execution_count": 36
    }
   ],
   "source": [
    "event_details = [e for e in event_details if e.id not in updated_event_ids]\n",
    "event_details = sorted(event_details + list(incremental_voyages_flat.event_details), key= lambda e: e.id)\n",
    "len(event_details)"
   ]
  },
  {
   "cell_type": "code",
   "execution_count": 37,
   "metadata": {},
   "outputs": [
    {
     "output_type": "execute_result",
     "data": {
      "text/plain": [
       "191"
      ]
     },
     "metadata": {},
     "execution_count": 37
    }
   ],
   "source": [
    "updated_geo_ids = set(g.id for g in incremental_voyages_flat.geos)\n",
    "geos = [g for g in geos if g.id not in updated_geo_ids] + list(incremental_voyages_flat.geos)\n",
    "len(geos)"
   ]
  }
 ],
 "metadata": {
  "kernelspec": {
   "display_name": "Python 3",
   "language": "python",
   "name": "python3"
  },
  "language_info": {
   "codemirror_mode": {
    "name": "ipython",
    "version": 3
   },
   "file_extension": ".py",
   "mimetype": "text/x-python",
   "name": "python",
   "nbconvert_exporter": "python",
   "pygments_lexer": "ipython3",
   "version": "3.8.5-final"
  }
 },
 "nbformat": 4,
 "nbformat_minor": 4
}