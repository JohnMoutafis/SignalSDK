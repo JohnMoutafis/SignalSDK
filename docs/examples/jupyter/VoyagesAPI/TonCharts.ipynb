{
 "cells": [
  {
   "cell_type": "markdown",
   "metadata": {},
   "source": [
    "# Ton Charts\n",
    "\n",
    "## Run this example in [Colab](https://colab.research.google.com/github/SignalOceanSdk/SignalSDK/blob/master/docs/examples/jupyter/VoyagesAPI/TonChatrts.ipynb)."
   ]
  },
  {
   "cell_type": "markdown",
   "metadata": {},
   "source": [
    "In this example we are going to calculate the following metrics over time:\n",
    "* **Ton Days**: Deadweight of the vessel times the number of days the vessels was laden during a voyage.  \n",
    "* **Ton Miles**: Deadweight of the vessel times laden distance in miles during a voyage.  \n",
    "\n",
    "**Ton Days time series calculation:**  \n",
    "The goal is to distribute the ton days of a vessel across the days of the laden leg of the voyage. For this reason we calculate ton days per day, which is ton days divided by the number of laden days.\n",
    "\n",
    "**Ton Miles time series calculation:**   \n",
    "The goal is to distribute the ton miles of a vessel across the seagoing days of the laden leg of the voyage. For this reason we need to calculate ton miles per day between two voyage events (load events, stops) during the laden leg of the voyage.  "
   ]
  },
  {
   "cell_type": "markdown",
   "metadata": {
    "id": "Gr4mWUgyBc-1"
   },
   "source": [
    "## Setup\n",
    "- Install the Signal Ocean SDK:"
   ]
  },
  {
   "cell_type": "code",
   "execution_count": 1,
   "metadata": {
    "id": "-FntgVFqBc-1"
   },
   "outputs": [],
   "source": [
    "%%capture\n",
    "!pip install signal-ocean"
   ]
  },
  {
   "cell_type": "markdown",
   "metadata": {
    "id": "ZfZ7n2ckEL9M"
   },
   "source": [
    "- Get your personal Signal Ocean API subscription key (acquired [here](https://apis.signalocean.com/profile)) and replace it below:"
   ]
  },
  {
   "cell_type": "code",
   "execution_count": 2,
   "metadata": {
    "id": "-PBKXA9YBc-3"
   },
   "outputs": [],
   "source": [
    "signal_ocean_api_key = \"\"  # replace with your subscription key\n",
    "\n",
    "from signal_ocean import Connection\n",
    "connection = Connection(signal_ocean_api_key)"
   ]
  },
  {
   "cell_type": "markdown",
   "metadata": {},
   "source": [
    "## Import all required modules"
   ]
  },
  {
   "cell_type": "code",
   "execution_count": 3,
   "metadata": {},
   "outputs": [],
   "source": [
    "from signal_ocean import Connection\n",
    "from signal_ocean.voyages import VoyagesAPI\n",
    "from signal_ocean.vessels import VesselsAPI\n",
    "\n",
    "import pandas as pd\n",
    "import numpy as np\n",
    "pd.set_option('display.max_columns', None)\n",
    "\n",
    "\n",
    "from datetime import date, datetime, timedelta\n",
    "from dateutil.relativedelta import relativedelta\n",
    "from matplotlib import pyplot as plt\n",
    "\n",
    "# Create instances of APIs used throughout this notebook:\n",
    "connection = Connection(signal_ocean_api_key)\n",
    "voyages_api = VoyagesAPI(connection)\n",
    "vessels_api = VesselsAPI(connection)"
   ]
  },
  {
   "cell_type": "markdown",
   "metadata": {},
   "source": [
    "## Get the relevant Data (Voyages Data API)"
   ]
  },
  {
   "cell_type": "markdown",
   "metadata": {},
   "source": [
    "- Define the Voyages Data parameters"
   ]
  },
  {
   "cell_type": "code",
   "execution_count": 53,
   "metadata": {},
   "outputs": [],
   "source": [
    "# Vessel Class\n",
    "vessel_class_id = 70\n",
    "\n",
    "# Areas of interest\n",
    "load_areas = ['Caribs', 'US Atlantic Coast', 'Brazil',\n",
    "              'East Coast Central America', 'US Gulf', 'East Coast Mexico']\n",
    "\n",
    "dis_areas = ['East Coast India', 'Pakistan / West Coast India', 'East Africa']\n",
    "\n",
    "\n",
    "# Start date for Ton Miles & Ton Days Calculation (Last 6 months)\n",
    "tonncharts_start_date = date.today() - relativedelta(months=6)"
   ]
  },
  {
   "cell_type": "markdown",
   "metadata": {},
   "source": [
    "Voyages Data API allows users to retrieve voyages based on voyage start date.\n",
    "Since we need all the port calls of the last six months to calculate ton days and ton miles, we will have to retrieve voyages that ended after tonncharts_start_date."
   ]
  },
  {
   "cell_type": "code",
   "execution_count": 6,
   "metadata": {},
   "outputs": [],
   "source": [
    "voyages_start_date = tonncharts_start_date - relativedelta(months=6)\n",
    "\n",
    "voyages_flat = voyages_api.get_voyages_flat(\n",
    "    vessel_class_id=vessel_class_id, date_from=voyages_start_date\n",
    ")"
   ]
  },
  {
   "cell_type": "code",
   "execution_count": 7,
   "metadata": {},
   "outputs": [],
   "source": [
    "voyages_df = pd.DataFrame(v.__dict__ for v in voyages_flat.voyages)\n",
    "events_df = pd.DataFrame(v.__dict__ for v in voyages_flat.events)\n",
    "events_details_df = pd.DataFrame(v.__dict__ for v in voyages_flat.event_details)\n",
    "geos_df = pd.DataFrame(v.__dict__ for v in voyages_flat.geos).drop_duplicates()"
   ]
  },
  {
   "cell_type": "code",
   "execution_count": 8,
   "metadata": {},
   "outputs": [],
   "source": [
    "# we will use only voyages that have ended after the tonncharts_start_date\n",
    "voyages_df.end_date = pd.to_datetime(voyages_df.end_date, errors = 'coerce', utc = True)\n",
    "voyages_df = voyages_df[voyages_df.end_date.dt.date >= tonncharts_start_date]"
   ]
  },
  {
   "cell_type": "markdown",
   "metadata": {},
   "source": [
    "## Get the relevant Data (Vessels API)"
   ]
  },
  {
   "cell_type": "code",
   "execution_count": 9,
   "metadata": {},
   "outputs": [],
   "source": [
    "capesize_vessels = vessels_api.get_vessels_by_vessel_class(70)"
   ]
  },
  {
   "cell_type": "code",
   "execution_count": 10,
   "metadata": {},
   "outputs": [],
   "source": [
    "capesize_vessels_df = pd.DataFrame(v.__dict__ for v in capesize_vessels)"
   ]
  },
  {
   "cell_type": "markdown",
   "metadata": {},
   "source": [
    "We need to merge the load events with the events details because we need to retrieve the start time of operation for each load port call."
   ]
  },
  {
   "cell_type": "code",
   "execution_count": 40,
   "metadata": {},
   "outputs": [],
   "source": [
    "load_events_with_start_time_of_operation = (\n",
    "    events_df[events_df.purpose == 'Load']\n",
    "    .merge(\n",
    "        events_details_df.loc[\n",
    "            (events_details_df.event_detail_type.isin(['Jetty','StS','Stop'])),\n",
    "            ['event_id','start_time_of_operation']],\n",
    "        how = 'left',\n",
    "        left_on = 'id',\n",
    "        right_on = 'event_id'\n",
    "    )\n",
    "    .groupby('event_id')\n",
    "    .head(1)\n",
    ")"
   ]
  },
  {
   "cell_type": "code",
   "execution_count": 58,
   "metadata": {},
   "outputs": [],
   "source": [
    "toncharts_df = (\n",
    "    pd.concat(\n",
    "        [load_events_with_start_time_of_operation,\n",
    "         events_df[~events_df.purpose.isin(['Load','Start'])]],\n",
    "        ignore_index = True\n",
    "    )\n",
    "    .merge(\n",
    "        voyages_df[\n",
    "            ['id','imo','voyage_number','first_load_arrival_date',\n",
    "             'end_date','laycan_from',\n",
    "            'laden_distance','predicted_laden_distance']\n",
    "        ],\n",
    "        how = 'left',\n",
    "        left_on = 'voyage_id',\n",
    "        right_on = 'id',\n",
    "        suffixes = ['_ev','_voy']\n",
    "    ).merge(\n",
    "        capesize_vessels_df[['imo','deadweight']],\n",
    "        how = 'inner',\n",
    "        on = 'imo'\n",
    "    ).merge(\n",
    "        geos_df,\n",
    "        how = 'inner',\n",
    "        left_on = 'geo_asset_id',\n",
    "        right_on = 'id',\n",
    "        suffixes = ['_vs','_geos']\n",
    "    )\n",
    ")"
   ]
  },
  {
   "cell_type": "code",
   "execution_count": 59,
   "metadata": {},
   "outputs": [],
   "source": [
    "# get only port calls after the first load\n",
    "toncharts_df = toncharts_df.loc[toncharts_df['arrival_date'] >= toncharts_df['first_load_arrival_date']]"
   ]
  },
  {
   "cell_type": "code",
   "execution_count": 60,
   "metadata": {},
   "outputs": [],
   "source": [
    "toncharts_df['first_load_arrival_area'] = (\n",
    "    toncharts_df\n",
    "    .sort_values('arrival_date')\n",
    "    .groupby('voyage_id')\n",
    "    .area_name_level0_geos\n",
    "    .transform('first')\n",
    ")\n",
    "\n",
    "toncharts_df['last_discharge_arrival_area'] = (\n",
    "    toncharts_df\n",
    "    .sort_values('arrival_date')\n",
    "    .groupby('voyage_id')\n",
    "    .area_name_level0_geos\n",
    "    .transform('last')\n",
    ")"
   ]
  },
  {
   "cell_type": "code",
   "execution_count": 63,
   "metadata": {},
   "outputs": [],
   "source": [
    "#filter on the load/discharge areas\n",
    "load_area_filter = (toncharts_df.first_load_arrival_area.isin(load_areas))\n",
    "discharge_area_filter = (toncharts_df.last_discharge_arrival_area.isin(dis_areas))\n",
    "\n",
    "toncharts_df = toncharts_df[load_area_filter & discharge_area_filter]"
   ]
  },
  {
   "cell_type": "markdown",
   "metadata": {},
   "source": [
    "Here we introduce start_date as the first day of the laden leg for each voyage. Start date for a voyage is:  \n",
    "* start_time_of_operation if exists, else\n",
    "* laycan_from if exists, else\n",
    "* sailing_date of the first load port call minus 2 days"
   ]
  },
  {
   "cell_type": "code",
   "execution_count": 65,
   "metadata": {},
   "outputs": [],
   "source": [
    "condlist = [\n",
    "    toncharts_df.start_time_of_operation.notna(),\n",
    "    toncharts_df.laycan_from.notna()\n",
    "]\n",
    "\n",
    "choicelist = [toncharts_df.start_time_of_operation, toncharts_df.laycan_from]\n",
    "\n",
    "toncharts_df['start_date'] = np.select(\n",
    "    condlist, \n",
    "    choicelist, \n",
    "    default= (toncharts_df.sailing_date - timedelta(days=2))\n",
    ")"
   ]
  },
  {
   "cell_type": "code",
   "execution_count": 66,
   "metadata": {},
   "outputs": [],
   "source": [
    "# voyage days calculation\n",
    "toncharts_df['voyage_days'] = (\n",
    "    toncharts_df['end_date'] - toncharts_df['start_date']\n",
    ") / np.timedelta64(1, 'D')\n",
    "\n",
    "toncharts_df['voyage_days'] = (\n",
    "    toncharts_df\n",
    "    .sort_values('arrival_date')\n",
    "    .groupby('voyage_id')\n",
    "    .voyage_days\n",
    "    .transform('first')\n",
    ")\n",
    "\n",
    "toncharts_df = toncharts_df[toncharts_df['voyage_days'] <= 250]"
   ]
  },
  {
   "cell_type": "code",
   "execution_count": 67,
   "metadata": {},
   "outputs": [],
   "source": [
    "# ton days calculation\n",
    "toncharts_df['ton_days'] = toncharts_df.deadweight * toncharts_df.voyage_days\n",
    "toncharts_df['ton_days_per_day'] = toncharts_df.ton_days / toncharts_df.voyage_days"
   ]
  },
  {
   "cell_type": "code",
   "execution_count": 68,
   "metadata": {},
   "outputs": [],
   "source": [
    "# voyage miles calculation\n",
    "toncharts_df['voyage_miles'] = (\n",
    "    toncharts_df['laden_distance'].fillna(0) + \n",
    "    toncharts_df['predicted_laden_distance'].fillna(0)\n",
    ")"
   ]
  },
  {
   "cell_type": "code",
   "execution_count": 69,
   "metadata": {},
   "outputs": [],
   "source": [
    "# calculation of the date ranges in which ton days and ton miles will be distributed\n",
    "toncharts_df['next_arrival_date'] = (\n",
    "    toncharts_df\n",
    "    .sort_values('arrival_date')\n",
    "    .groupby('voyage_id')['arrival_date']\n",
    "    .shift(-1)\n",
    ")\n",
    "\n",
    "toncharts_df['tonmiles_daterange'] = (\n",
    "    toncharts_df\n",
    "    .apply(lambda row: pd.date_range(\n",
    "        row.sailing_date.date() + timedelta(days = 1), \n",
    "        row.next_arrival_date.date() - timedelta(days = 1)) if not pd.isnull(row.next_arrival_date) else [], \n",
    "    axis = 1)\n",
    ")\n",
    "\n",
    "toncharts_df['tondays_daterange'] = (\n",
    "    toncharts_df\n",
    "    .apply(lambda row: pd.date_range(\n",
    "        row.start_date.date(), \n",
    "        row.end_date.date()), \n",
    "    axis = 1)\n",
    ")"
   ]
  },
  {
   "cell_type": "code",
   "execution_count": 70,
   "metadata": {},
   "outputs": [],
   "source": [
    "#calculating seagoing days between events and total seagoing days of a voyage\n",
    "toncharts_df['seagoing_hours_between_events'] = (\n",
    "    toncharts_df['next_arrival_date'] - toncharts_df['sailing_date']\n",
    ") /np.timedelta64(1,'h')\n",
    "\n",
    "toncharts_df.loc[\n",
    "    toncharts_df['seagoing_hours_between_events'] < 1.0, \n",
    "    'seagoing_hours_between_events'] = 1.0\n",
    "\n",
    "toncharts_df['seagoing_days_between_events'] = toncharts_df['seagoing_hours_between_events']/24\n",
    "\n",
    "toncharts_df['seagoing_days'] = (\n",
    "    toncharts_df\n",
    "    .groupby('voyage_id')\n",
    "    .seagoing_days_between_events\n",
    "    .transform('sum')\n",
    ")"
   ]
  },
  {
   "cell_type": "code",
   "execution_count": 71,
   "metadata": {},
   "outputs": [],
   "source": [
    "# calculating ton miles between events and total ton miles of a voyage\n",
    "toncharts_df['ton_miles'] = toncharts_df['deadweight']*toncharts_df['voyage_miles']\n",
    "\n",
    "toncharts_df['miles_between_events'] = (\n",
    "    toncharts_df['voyage_miles']*\n",
    "    toncharts_df['seagoing_days_between_events']/\n",
    "    toncharts_df['seagoing_days']\n",
    ")\n",
    "toncharts_df['ton_miles_between_events_per_day'] = (\n",
    "    toncharts_df['deadweight']*\n",
    "    toncharts_df['miles_between_events']/\n",
    "    toncharts_df['seagoing_days_between_events']\n",
    ")"
   ]
  },
  {
   "cell_type": "code",
   "execution_count": 72,
   "metadata": {},
   "outputs": [],
   "source": [
    "# calculating ton miles and ton days time series\n",
    "ton_miles_ts = (\n",
    "    toncharts_df.loc[\n",
    "        (load_area_filter & discharge_area_filter) &\n",
    "        (toncharts_df.purpose != 'Discharge'),\n",
    "        ['voyage_id','tonmiles_daterange',\n",
    "         'ton_miles_between_events_per_day']\n",
    "    ].dropna()\n",
    "    .explode('tonmiles_daterange')\n",
    "    .rename(\n",
    "        columns={\n",
    "            'tonmiles_daterange':'date',\n",
    "            'ton_miles_between_events_per_day':'ton_miles'\n",
    "        })\n",
    "    .drop_duplicates(subset = ['voyage_id','date'])\n",
    "    .groupby('date')\n",
    "    .sum()\n",
    "    .rolling(window=7)\n",
    "    .mean()\n",
    ")\n",
    "\n",
    "ton_days_ts = (\n",
    "    toncharts_df.loc[\n",
    "        (load_area_filter & discharge_area_filter),\n",
    "        ['voyage_id','tondays_daterange',\n",
    "         'ton_days_per_day']\n",
    "    ]\n",
    "    .explode('tondays_daterange')\n",
    "    .rename(\n",
    "        columns={\n",
    "            'tondays_daterange':'date',\n",
    "            'ton_days_per_day':'ton_days'\n",
    "        })\n",
    "    .drop_duplicates(subset = ['voyage_id','date'])\n",
    "    .groupby('date')\n",
    "    .sum()\n",
    "    .rolling(window=7)\n",
    "    .mean()\n",
    ")"
   ]
  },
  {
   "cell_type": "code",
   "execution_count": 73,
   "metadata": {},
   "outputs": [
    {
     "data": {
      "image/png": "[encoded data removed]",
      "text/plain": [
       "<Figure size 1200x480 with 1 Axes>"
      ]
     },
     "metadata": {
      "needs_background": "light"
     },
     "output_type": "display_data"
    }
   ],
   "source": [
    "tm = ton_miles_ts.loc[tonncharts_start_date:date.today()]/1000000\n",
    "\n",
    "plt.figure(figsize=(15,6), dpi= 80)\n",
    "plt.plot(tm.index, tm.ton_miles)\n",
    "\n",
    "\n",
    "plt.title(\"TonMiles time series (7 days MA)\", fontsize=16)\n",
    "plt.grid(axis='both', alpha=.3)\n",
    "\n",
    "# Remove borders\n",
    "plt.gca().spines[\"top\"].set_alpha(0.0)    \n",
    "plt.gca().spines[\"bottom\"].set_alpha(0.3)\n",
    "plt.gca().spines[\"right\"].set_alpha(0.0)    \n",
    "plt.gca().spines[\"left\"].set_alpha(0.3)   \n",
    "plt.show()"
   ]
  },
  {
   "cell_type": "code",
   "execution_count": 74,
   "metadata": {},
   "outputs": [
    {
     "data": {
      "image/png": "[encoded data removed]",
      "text/plain": [
       "<Figure size 1200x480 with 1 Axes>"
      ]
     },
     "metadata": {
      "needs_background": "light"
     },
     "output_type": "display_data"
    }
   ],
   "source": [
    "td = ton_days_ts.loc[tonncharts_start_date:date.today()]/1000\n",
    "\n",
    "plt.figure(figsize=(15,6), dpi= 80)\n",
    "plt.plot(td.index, td.ton_days)\n",
    "\n",
    "\n",
    "plt.title(\"TonDays time series (7 days MA)\", fontsize=16)\n",
    "plt.grid(axis='both', alpha=.3)\n",
    "\n",
    "# Remove borders\n",
    "plt.gca().spines[\"top\"].set_alpha(0.0)    \n",
    "plt.gca().spines[\"bottom\"].set_alpha(0.3)\n",
    "plt.gca().spines[\"right\"].set_alpha(0.0)    \n",
    "plt.gca().spines[\"left\"].set_alpha(0.3)   \n",
    "plt.show()"
   ]
  }
 ],
 "metadata": {
  "kernelspec": {
   "display_name": "Python 3",
   "language": "python",
   "name": "python3"
  },
  "language_info": {
   "codemirror_mode": {
    "name": "ipython",
    "version": 3
   },
   "file_extension": ".py",
   "mimetype": "text/x-python",
   "name": "python",
   "nbconvert_exporter": "python",
   "pygments_lexer": "ipython3",
   "version": "3.8.5"
  }
 },
 "nbformat": 4,
 "nbformat_minor": 4
}
