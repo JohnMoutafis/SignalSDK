{
 "cells": [
  {
   "cell_type": "markdown",
   "metadata": {
    "id": "8ssuRDYeyOru"
   },
   "source": [
    "# Cargo Flows\n",
    "\n",
    "## Run this example in [Colab](https://colab.research.google.com/github/SignalOceanSdk/SignalSDK/blob/master/docs/examples/jupyter/VoyagesAPI/CargoFlows.ipynb) "
   ]
  },
  {
   "cell_type": "markdown",
   "metadata": {
    "id": "BQO9XPVgyOr1"
   },
   "source": [
    "This example replicates SignalOcean's \"Cargo Flows\" dashboard, which visualizes the flow of cargo of either imports/exports from a specific load area and of a specific vessel class."
   ]
  },
  {
   "cell_type": "markdown",
   "metadata": {
    "id": "fxJ44sXKyOr2"
   },
   "source": [
    "## Setup"
   ]
  },
  {
   "cell_type": "markdown",
   "metadata": {
    "id": "mIk82Of1yOr3"
   },
   "source": [
    "Install the Signal Ocean SDK:"
   ]
  },
  {
   "cell_type": "code",
   "execution_count": 21,
   "metadata": {
    "colab": {
     "base_uri": "https://localhost:8080/"
    },
    "id": "w2idECShyOr4",
    "outputId": "7b159f7e-b4dc-4a20-98f2-6d133d37ffc5"
   },
   "outputs": [],
   "source": [
    "pip install signal-ocean"
   ]
  },
  {
   "cell_type": "markdown",
   "metadata": {
    "id": "8hq1SgijyOr6"
   },
   "source": [
    "Import required libraries / APIs / packages:"
   ]
  },
  {
   "cell_type": "code",
   "execution_count": 2,
   "metadata": {
    "id": "Hmu-KaWXyOr7"
   },
   "outputs": [],
   "source": [
    "import pandas as pd\n",
    "import matplotlib.pyplot as plt\n",
    "\n",
    "from signal_ocean.voyages import VoyagesAPI\n",
    "from signal_ocean.voyages import VesselClass, VesselClassFilter\n",
    "from signal_ocean import VesselClassAPI, Connection\n",
    "from datetime import datetime, date, timedelta, timezone"
   ]
  },
  {
   "cell_type": "markdown",
   "metadata": {
    "id": "w3y19XNwyOr8"
   },
   "source": [
    "Fill in your personal SignalOcean API subscription key acquired <a href=\"https://apis.signalocean.com/profile\" target=\"_blank\">here</a> and open a connection:"
   ]
  },
  {
   "cell_type": "code",
   "execution_count": 3,
   "metadata": {
    "id": "9AAv370YyOr9"
   },
   "outputs": [],
   "source": [
    "signal_ocean_api_key = '' #replace with your subscription key\n",
    "connection = Connection(signal_ocean_api_key)"
   ]
  },
  {
   "cell_type": "markdown",
   "metadata": {
    "id": "v1Wq2fToyOsH"
   },
   "source": [
    "### 1. Importing Voyages data "
   ]
  },
  {
   "cell_type": "markdown",
   "metadata": {
    "id": "oUKllbJyyOsD"
   },
   "source": [
    "Specify the vessel class ID of interest,"
   ]
  },
  {
   "cell_type": "code",
   "execution_count": 4,
   "metadata": {},
   "outputs": [
    {
     "data": {
      "text/plain": [
       "70"
      ]
     },
     "execution_count": 4,
     "metadata": {},
     "output_type": "execute_result"
    }
   ],
   "source": [
    "#get vessel class id for capesize\n",
    "voyages_api = VoyagesAPI(connection)\n",
    "vc = voyages_api.get_vessel_classes(VesselClassFilter('cape'))[0]\n",
    "vessel_class_id = vc.vessel_class_id\n",
    "vessel_class_id"
   ]
  },
  {
   "cell_type": "markdown",
   "metadata": {
    "id": "PsJIz_TayOsI"
   },
   "source": [
    "This section demonstrates how to make a call to the VoyagesAPI and extract voyage data under certain specified filters."
   ]
  },
  {
   "cell_type": "markdown",
   "metadata": {
    "id": "IKQ6Y5nSyOsI"
   },
   "source": [
    "Specify call parameters:"
   ]
  },
  {
   "cell_type": "code",
   "execution_count": 5,
   "metadata": {
    "id": "rR05SsBYyOsI"
   },
   "outputs": [],
   "source": [
    "area_of_interest = 'Australia West'\n",
    "date_from = date(2017,1,1)         # refers to first_load_arrival_date_from\n",
    "activity = 'export'                  # either \"import\" or \"export\""
   ]
  },
  {
   "cell_type": "markdown",
   "metadata": {
    "id": "-j6A4OvtyOsI"
   },
   "source": [
    "Extract voyages and their events filtered by vessel class,"
   ]
  },
  {
   "cell_type": "code",
   "execution_count": 6,
   "metadata": {
    "id": "g09_bkgoyOsI"
   },
   "outputs": [],
   "source": [
    "voyages = voyages_api.get_voyages_by_advanced_search(vessel_class_id=vessel_class_id, first_load_arrival_date_from=date_from)\n",
    "voyages = pd.DataFrame(v.__dict__ for v in voyages)\n",
    "\n",
    "events = pd.DataFrame(e.__dict__ for voyage_events in voyages['events'].dropna() for e in voyage_events)"
   ]
  },
  {
   "cell_type": "markdown",
   "metadata": {
    "id": "l8gtmPNtyOsJ"
   },
   "source": [
    "Expose necessary cargo flow events:"
   ]
  },
  {
   "cell_type": "code",
   "execution_count": 7,
   "metadata": {
    "id": "6dfuRPpKyOsJ"
   },
   "outputs": [],
   "source": [
    "def get_voyage_load_area(voyage_events):\n",
    "    return next((e.area_name_level0 for e in voyage_events or [] if e.purpose=='Load'), None)\n",
    "\n",
    "def get_voyage_load_country(voyage_events):\n",
    "    return next((e.country for e in voyage_events or [] if e.purpose=='Load'), None)\n",
    "\n",
    "def get_voyage_discharge_country(voyage_events):\n",
    "    return next((e.country for e in reversed(voyage_events or []) if e.purpose=='Discharge'), None)\n",
    "\n",
    "voyages['load_area'] = voyages['events'].apply(get_voyage_load_area)\n",
    "voyages['load_country'] = voyages['events'].apply(get_voyage_load_country)\n",
    "voyages['discharge_country'] = voyages['events'].apply(get_voyage_discharge_country)"
   ]
  },
  {
   "cell_type": "markdown",
   "metadata": {
    "id": "HWZk2v2RyOsJ"
   },
   "source": [
    "Filter voyages by either \"imports\" or \"exports\":"
   ]
  },
  {
   "cell_type": "code",
   "execution_count": 8,
   "metadata": {
    "id": "eoYII46nyOsJ"
   },
   "outputs": [],
   "source": [
    "def get_voyages_by_activity(voyages, activity):\n",
    "    if activity == 'export':\n",
    "        return voyages[(voyages['load_area']==area_of_interest)&(voyages['discharge_country']!=area_of_interest)]\n",
    "    elif activity == 'import':\n",
    "        return voyages[(voyages['discharge_country']==area_of_interest)&(voyages['load_area']!=area_of_interest)]\n",
    "    else:\n",
    "        raise ValueError('Activity parameter must take values \"import\" or \"export\".')\n",
    "        \n",
    "voyages_by_activity = get_voyages_by_activity(voyages, activity)"
   ]
  },
  {
   "cell_type": "markdown",
   "metadata": {
    "id": "bnxCfb1cyOsK"
   },
   "source": [
    "Filter out the predicted voyages and visualize the dataframe:"
   ]
  },
  {
   "cell_type": "code",
   "execution_count": 9,
   "metadata": {
    "colab": {
     "base_uri": "https://localhost:8080/",
     "height": 661
    },
    "id": "BAUtIpbMyOsK",
    "outputId": "a0ece59e-97af-447b-b2a5-10a24a74b42b"
   },
   "outputs": [
    {
     "data": {
      "text/html": [
       "<div>\n",
       "<style scoped>\n",
       "    .dataframe tbody tr th:only-of-type {\n",
       "        vertical-align: middle;\n",
       "    }\n",
       "\n",
       "    .dataframe tbody tr th {\n",
       "        vertical-align: top;\n",
       "    }\n",
       "\n",
       "    .dataframe thead th {\n",
       "        text-align: right;\n",
       "    }\n",
       "</style>\n",
       "<table border=\"1\" class=\"dataframe\">\n",
       "  <thead>\n",
       "    <tr style=\"text-align: right;\">\n",
       "      <th></th>\n",
       "      <th>imo</th>\n",
       "      <th>voyage_number</th>\n",
       "      <th>vessel_type_id</th>\n",
       "      <th>vessel_class_id</th>\n",
       "      <th>vessel_status_id</th>\n",
       "      <th>commercial_operator_id</th>\n",
       "      <th>deleted</th>\n",
       "      <th>events</th>\n",
       "      <th>id</th>\n",
       "      <th>horizon</th>\n",
       "      <th>...</th>\n",
       "      <th>fixture_is_hold</th>\n",
       "      <th>is_implied_by_ais</th>\n",
       "      <th>has_manual_entries</th>\n",
       "      <th>ballast_distance</th>\n",
       "      <th>predicted_ballast_distance</th>\n",
       "      <th>laden_distance</th>\n",
       "      <th>predicted_laden_distance</th>\n",
       "      <th>load_area</th>\n",
       "      <th>load_country</th>\n",
       "      <th>discharge_country</th>\n",
       "    </tr>\n",
       "  </thead>\n",
       "  <tbody>\n",
       "    <tr>\n",
       "      <th>0</th>\n",
       "      <td>9037719</td>\n",
       "      <td>55</td>\n",
       "      <td>3</td>\n",
       "      <td>70</td>\n",
       "      <td>1</td>\n",
       "      <td>672.0</td>\n",
       "      <td>False</td>\n",
       "      <td>(VoyageEvent(id='I89E797SECFEE6000', port_id=8...</td>\n",
       "      <td>I89E797VECFEE6000</td>\n",
       "      <td>Historic</td>\n",
       "      <td>...</td>\n",
       "      <td>None</td>\n",
       "      <td>None</td>\n",
       "      <td>None</td>\n",
       "      <td>3825.43</td>\n",
       "      <td>NaN</td>\n",
       "      <td>3573.12</td>\n",
       "      <td>NaN</td>\n",
       "      <td>Australia West</td>\n",
       "      <td>Australia</td>\n",
       "      <td>Korea, Republic of</td>\n",
       "    </tr>\n",
       "    <tr>\n",
       "      <th>1</th>\n",
       "      <td>9037719</td>\n",
       "      <td>56</td>\n",
       "      <td>3</td>\n",
       "      <td>70</td>\n",
       "      <td>1</td>\n",
       "      <td>672.0</td>\n",
       "      <td>False</td>\n",
       "      <td>(VoyageEvent(id='I89E797SED03D7A00', port_id=8...</td>\n",
       "      <td>I89E797VED03D7A00</td>\n",
       "      <td>Historic</td>\n",
       "      <td>...</td>\n",
       "      <td>None</td>\n",
       "      <td>None</td>\n",
       "      <td>None</td>\n",
       "      <td>3467.84</td>\n",
       "      <td>NaN</td>\n",
       "      <td>3608.16</td>\n",
       "      <td>NaN</td>\n",
       "      <td>Australia West</td>\n",
       "      <td>Australia</td>\n",
       "      <td>Korea, Republic of</td>\n",
       "    </tr>\n",
       "    <tr>\n",
       "      <th>2</th>\n",
       "      <td>9037719</td>\n",
       "      <td>57</td>\n",
       "      <td>3</td>\n",
       "      <td>70</td>\n",
       "      <td>1</td>\n",
       "      <td>672.0</td>\n",
       "      <td>False</td>\n",
       "      <td>(VoyageEvent(id='I89E797SED0650700', port_id=8...</td>\n",
       "      <td>I89E797VED0650700</td>\n",
       "      <td>Historic</td>\n",
       "      <td>...</td>\n",
       "      <td>None</td>\n",
       "      <td>None</td>\n",
       "      <td>None</td>\n",
       "      <td>3576.48</td>\n",
       "      <td>NaN</td>\n",
       "      <td>3502.46</td>\n",
       "      <td>NaN</td>\n",
       "      <td>Australia West</td>\n",
       "      <td>Australia</td>\n",
       "      <td>Korea, Republic of</td>\n",
       "    </tr>\n",
       "    <tr>\n",
       "      <th>3</th>\n",
       "      <td>9037719</td>\n",
       "      <td>58</td>\n",
       "      <td>3</td>\n",
       "      <td>70</td>\n",
       "      <td>1</td>\n",
       "      <td>672.0</td>\n",
       "      <td>False</td>\n",
       "      <td>(VoyageEvent(id='I89E797SED08C9400', port_id=8...</td>\n",
       "      <td>I89E797VED08C9400</td>\n",
       "      <td>Historic</td>\n",
       "      <td>...</td>\n",
       "      <td>None</td>\n",
       "      <td>None</td>\n",
       "      <td>None</td>\n",
       "      <td>3474.42</td>\n",
       "      <td>NaN</td>\n",
       "      <td>3605.31</td>\n",
       "      <td>NaN</td>\n",
       "      <td>Australia West</td>\n",
       "      <td>Australia</td>\n",
       "      <td>Korea, Republic of</td>\n",
       "    </tr>\n",
       "    <tr>\n",
       "      <th>4</th>\n",
       "      <td>9037719</td>\n",
       "      <td>59</td>\n",
       "      <td>3</td>\n",
       "      <td>70</td>\n",
       "      <td>1</td>\n",
       "      <td>672.0</td>\n",
       "      <td>False</td>\n",
       "      <td>(VoyageEvent(id='I89E797SED0B42100', port_id=8...</td>\n",
       "      <td>I89E797VED0B42100</td>\n",
       "      <td>Historic</td>\n",
       "      <td>...</td>\n",
       "      <td>None</td>\n",
       "      <td>None</td>\n",
       "      <td>None</td>\n",
       "      <td>3828.73</td>\n",
       "      <td>NaN</td>\n",
       "      <td>3623.80</td>\n",
       "      <td>NaN</td>\n",
       "      <td>Australia West</td>\n",
       "      <td>Australia</td>\n",
       "      <td>Korea, Republic of</td>\n",
       "    </tr>\n",
       "    <tr>\n",
       "      <th>...</th>\n",
       "      <td>...</td>\n",
       "      <td>...</td>\n",
       "      <td>...</td>\n",
       "      <td>...</td>\n",
       "      <td>...</td>\n",
       "      <td>...</td>\n",
       "      <td>...</td>\n",
       "      <td>...</td>\n",
       "      <td>...</td>\n",
       "      <td>...</td>\n",
       "      <td>...</td>\n",
       "      <td>...</td>\n",
       "      <td>...</td>\n",
       "      <td>...</td>\n",
       "      <td>...</td>\n",
       "      <td>...</td>\n",
       "      <td>...</td>\n",
       "      <td>...</td>\n",
       "      <td>...</td>\n",
       "      <td>...</td>\n",
       "      <td>...</td>\n",
       "    </tr>\n",
       "    <tr>\n",
       "      <th>20910</th>\n",
       "      <td>9922691</td>\n",
       "      <td>1</td>\n",
       "      <td>3</td>\n",
       "      <td>70</td>\n",
       "      <td>1</td>\n",
       "      <td>NaN</td>\n",
       "      <td>False</td>\n",
       "      <td>(VoyageEvent(id='I976883SED8E45200', port_id=6...</td>\n",
       "      <td>I976883VED8E45200</td>\n",
       "      <td>Historic</td>\n",
       "      <td>...</td>\n",
       "      <td>None</td>\n",
       "      <td>None</td>\n",
       "      <td>None</td>\n",
       "      <td>3646.41</td>\n",
       "      <td>NaN</td>\n",
       "      <td>3661.90</td>\n",
       "      <td>NaN</td>\n",
       "      <td>Australia West</td>\n",
       "      <td>Australia</td>\n",
       "      <td>China</td>\n",
       "    </tr>\n",
       "    <tr>\n",
       "      <th>20911</th>\n",
       "      <td>9922691</td>\n",
       "      <td>2</td>\n",
       "      <td>3</td>\n",
       "      <td>70</td>\n",
       "      <td>1</td>\n",
       "      <td>NaN</td>\n",
       "      <td>False</td>\n",
       "      <td>(VoyageEvent(id='I976883SED9336C00', port_id=6...</td>\n",
       "      <td>I976883VED9336C00</td>\n",
       "      <td>Historic</td>\n",
       "      <td>...</td>\n",
       "      <td>None</td>\n",
       "      <td>None</td>\n",
       "      <td>None</td>\n",
       "      <td>3676.98</td>\n",
       "      <td>NaN</td>\n",
       "      <td>3456.64</td>\n",
       "      <td>NaN</td>\n",
       "      <td>Australia West</td>\n",
       "      <td>Australia</td>\n",
       "      <td>China</td>\n",
       "    </tr>\n",
       "    <tr>\n",
       "      <th>20912</th>\n",
       "      <td>9922691</td>\n",
       "      <td>3</td>\n",
       "      <td>3</td>\n",
       "      <td>70</td>\n",
       "      <td>1</td>\n",
       "      <td>NaN</td>\n",
       "      <td>False</td>\n",
       "      <td>(VoyageEvent(id='I976883SED9828600', port_id=3...</td>\n",
       "      <td>I976883VED9828600</td>\n",
       "      <td>Historic</td>\n",
       "      <td>...</td>\n",
       "      <td>None</td>\n",
       "      <td>None</td>\n",
       "      <td>None</td>\n",
       "      <td>3333.49</td>\n",
       "      <td>NaN</td>\n",
       "      <td>4175.76</td>\n",
       "      <td>NaN</td>\n",
       "      <td>Australia West</td>\n",
       "      <td>Australia</td>\n",
       "      <td>China</td>\n",
       "    </tr>\n",
       "    <tr>\n",
       "      <th>20913</th>\n",
       "      <td>9922691</td>\n",
       "      <td>4</td>\n",
       "      <td>3</td>\n",
       "      <td>70</td>\n",
       "      <td>1</td>\n",
       "      <td>3662.0</td>\n",
       "      <td>False</td>\n",
       "      <td>(VoyageEvent(id='I976883SED9AA1300', port_id=3...</td>\n",
       "      <td>I976883VED9AA1300</td>\n",
       "      <td>Historic</td>\n",
       "      <td>...</td>\n",
       "      <td>False</td>\n",
       "      <td>None</td>\n",
       "      <td>None</td>\n",
       "      <td>3392.70</td>\n",
       "      <td>NaN</td>\n",
       "      <td>3415.83</td>\n",
       "      <td>NaN</td>\n",
       "      <td>Australia West</td>\n",
       "      <td>Australia</td>\n",
       "      <td>China</td>\n",
       "    </tr>\n",
       "    <tr>\n",
       "      <th>20914</th>\n",
       "      <td>9926386</td>\n",
       "      <td>2</td>\n",
       "      <td>3</td>\n",
       "      <td>70</td>\n",
       "      <td>1</td>\n",
       "      <td>4345.0</td>\n",
       "      <td>False</td>\n",
       "      <td>(VoyageEvent(id='I9776F2SED9D1A000', port_id=3...</td>\n",
       "      <td>I9776F2VED9D1A000</td>\n",
       "      <td>Current</td>\n",
       "      <td>...</td>\n",
       "      <td>False</td>\n",
       "      <td>None</td>\n",
       "      <td>None</td>\n",
       "      <td>3890.15</td>\n",
       "      <td>NaN</td>\n",
       "      <td>1472.52</td>\n",
       "      <td>2553.04</td>\n",
       "      <td>Australia West</td>\n",
       "      <td>Australia</td>\n",
       "      <td>Japan</td>\n",
       "    </tr>\n",
       "  </tbody>\n",
       "</table>\n",
       "<p>20915 rows × 50 columns</p>\n",
       "</div>"
      ],
      "text/plain": [
       "           imo  voyage_number  vessel_type_id  vessel_class_id  \\\n",
       "0      9037719             55               3               70   \n",
       "1      9037719             56               3               70   \n",
       "2      9037719             57               3               70   \n",
       "3      9037719             58               3               70   \n",
       "4      9037719             59               3               70   \n",
       "...        ...            ...             ...              ...   \n",
       "20910  9922691              1               3               70   \n",
       "20911  9922691              2               3               70   \n",
       "20912  9922691              3               3               70   \n",
       "20913  9922691              4               3               70   \n",
       "20914  9926386              2               3               70   \n",
       "\n",
       "       vessel_status_id  commercial_operator_id  deleted  \\\n",
       "0                     1                   672.0    False   \n",
       "1                     1                   672.0    False   \n",
       "2                     1                   672.0    False   \n",
       "3                     1                   672.0    False   \n",
       "4                     1                   672.0    False   \n",
       "...                 ...                     ...      ...   \n",
       "20910                 1                     NaN    False   \n",
       "20911                 1                     NaN    False   \n",
       "20912                 1                     NaN    False   \n",
       "20913                 1                  3662.0    False   \n",
       "20914                 1                  4345.0    False   \n",
       "\n",
       "                                                  events                 id  \\\n",
       "0      (VoyageEvent(id='I89E797SECFEE6000', port_id=8...  I89E797VECFEE6000   \n",
       "1      (VoyageEvent(id='I89E797SED03D7A00', port_id=8...  I89E797VED03D7A00   \n",
       "2      (VoyageEvent(id='I89E797SED0650700', port_id=8...  I89E797VED0650700   \n",
       "3      (VoyageEvent(id='I89E797SED08C9400', port_id=8...  I89E797VED08C9400   \n",
       "4      (VoyageEvent(id='I89E797SED0B42100', port_id=8...  I89E797VED0B42100   \n",
       "...                                                  ...                ...   \n",
       "20910  (VoyageEvent(id='I976883SED8E45200', port_id=6...  I976883VED8E45200   \n",
       "20911  (VoyageEvent(id='I976883SED9336C00', port_id=6...  I976883VED9336C00   \n",
       "20912  (VoyageEvent(id='I976883SED9828600', port_id=3...  I976883VED9828600   \n",
       "20913  (VoyageEvent(id='I976883SED9AA1300', port_id=3...  I976883VED9AA1300   \n",
       "20914  (VoyageEvent(id='I9776F2SED9D1A000', port_id=3...  I9776F2VED9D1A000   \n",
       "\n",
       "        horizon  ... fixture_is_hold is_implied_by_ais has_manual_entries  \\\n",
       "0      Historic  ...            None              None               None   \n",
       "1      Historic  ...            None              None               None   \n",
       "2      Historic  ...            None              None               None   \n",
       "3      Historic  ...            None              None               None   \n",
       "4      Historic  ...            None              None               None   \n",
       "...         ...  ...             ...               ...                ...   \n",
       "20910  Historic  ...            None              None               None   \n",
       "20911  Historic  ...            None              None               None   \n",
       "20912  Historic  ...            None              None               None   \n",
       "20913  Historic  ...           False              None               None   \n",
       "20914   Current  ...           False              None               None   \n",
       "\n",
       "      ballast_distance predicted_ballast_distance laden_distance  \\\n",
       "0              3825.43                        NaN        3573.12   \n",
       "1              3467.84                        NaN        3608.16   \n",
       "2              3576.48                        NaN        3502.46   \n",
       "3              3474.42                        NaN        3605.31   \n",
       "4              3828.73                        NaN        3623.80   \n",
       "...                ...                        ...            ...   \n",
       "20910          3646.41                        NaN        3661.90   \n",
       "20911          3676.98                        NaN        3456.64   \n",
       "20912          3333.49                        NaN        4175.76   \n",
       "20913          3392.70                        NaN        3415.83   \n",
       "20914          3890.15                        NaN        1472.52   \n",
       "\n",
       "      predicted_laden_distance       load_area load_country  \\\n",
       "0                          NaN  Australia West    Australia   \n",
       "1                          NaN  Australia West    Australia   \n",
       "2                          NaN  Australia West    Australia   \n",
       "3                          NaN  Australia West    Australia   \n",
       "4                          NaN  Australia West    Australia   \n",
       "...                        ...             ...          ...   \n",
       "20910                      NaN  Australia West    Australia   \n",
       "20911                      NaN  Australia West    Australia   \n",
       "20912                      NaN  Australia West    Australia   \n",
       "20913                      NaN  Australia West    Australia   \n",
       "20914                  2553.04  Australia West    Australia   \n",
       "\n",
       "        discharge_country  \n",
       "0      Korea, Republic of  \n",
       "1      Korea, Republic of  \n",
       "2      Korea, Republic of  \n",
       "3      Korea, Republic of  \n",
       "4      Korea, Republic of  \n",
       "...                   ...  \n",
       "20910               China  \n",
       "20911               China  \n",
       "20912               China  \n",
       "20913               China  \n",
       "20914               Japan  \n",
       "\n",
       "[20915 rows x 50 columns]"
      ]
     },
     "execution_count": 9,
     "metadata": {},
     "output_type": "execute_result"
    }
   ],
   "source": [
    "voyages_by_activity = voyages_by_activity[pd.to_datetime(voyages_by_activity['first_load_arrival_date']) <= datetime.now(tz=timezone.utc)].reset_index(drop=True)\n",
    "voyages_by_activity"
   ]
  },
  {
   "cell_type": "markdown",
   "metadata": {
    "id": "xL2wdappyOsL"
   },
   "source": [
    "## 2. Plotting the data"
   ]
  },
  {
   "cell_type": "markdown",
   "metadata": {
    "id": "DkyG7LouyOsL"
   },
   "source": [
    "### 2.1. Plot: Volume per Week"
   ]
  },
  {
   "cell_type": "markdown",
   "metadata": {
    "id": "VOI0RFN1yOsL"
   },
   "source": [
    "The volume per week plot is very useful in getting a high-level overview of cargo flows for the provided filters.<br>\n",
    "In order to plot it, we need to create bins of weeks-of-interest, which start from a Monday, end on a Sunday and are time-beggining. The bins can be changed to any supported frequency by modifying the *freq* parameter.\n",
    "\n",
    "In the following dataframe, we create the grouping bins by date:"
   ]
  },
  {
   "cell_type": "code",
   "execution_count": 10,
   "metadata": {
    "id": "nuLWS95XyOsL"
   },
   "outputs": [],
   "source": [
    "dates = pd.date_range(start=date_from, end=date.today(), freq='W-MON', tz='UTC') \n",
    "weeks_from_monday = pd.DataFrame(dates, columns=['first_load_arrival_date'])"
   ]
  },
  {
   "cell_type": "markdown",
   "metadata": {
    "id": "vmxsjQxkyOsL"
   },
   "source": [
    "Group voyages deadweight into weekly bins (starting from Monday) and take the sum,"
   ]
  },
  {
   "cell_type": "code",
   "execution_count": 11,
   "metadata": {
    "colab": {
     "base_uri": "https://localhost:8080/",
     "height": 424
    },
    "id": "oIHJzPyUyOsL",
    "outputId": "7693cc07-43c1-45a3-c365-f68c1440a438"
   },
   "outputs": [
    {
     "data": {
      "text/html": [
       "<div>\n",
       "<style scoped>\n",
       "    .dataframe tbody tr th:only-of-type {\n",
       "        vertical-align: middle;\n",
       "    }\n",
       "\n",
       "    .dataframe tbody tr th {\n",
       "        vertical-align: top;\n",
       "    }\n",
       "\n",
       "    .dataframe thead th {\n",
       "        text-align: right;\n",
       "    }\n",
       "</style>\n",
       "<table border=\"1\" class=\"dataframe\">\n",
       "  <thead>\n",
       "    <tr style=\"text-align: right;\">\n",
       "      <th></th>\n",
       "      <th>first_load_arrival_date</th>\n",
       "      <th>deadweight</th>\n",
       "    </tr>\n",
       "  </thead>\n",
       "  <tbody>\n",
       "    <tr>\n",
       "      <th>0</th>\n",
       "      <td>2017-01-02 00:00:00+00:00</td>\n",
       "      <td>2622461</td>\n",
       "    </tr>\n",
       "    <tr>\n",
       "      <th>1</th>\n",
       "      <td>2017-01-09 00:00:00+00:00</td>\n",
       "      <td>13778423</td>\n",
       "    </tr>\n",
       "    <tr>\n",
       "      <th>2</th>\n",
       "      <td>2017-01-16 00:00:00+00:00</td>\n",
       "      <td>13288428</td>\n",
       "    </tr>\n",
       "    <tr>\n",
       "      <th>3</th>\n",
       "      <td>2017-01-23 00:00:00+00:00</td>\n",
       "      <td>14074946</td>\n",
       "    </tr>\n",
       "    <tr>\n",
       "      <th>4</th>\n",
       "      <td>2017-01-30 00:00:00+00:00</td>\n",
       "      <td>15222157</td>\n",
       "    </tr>\n",
       "    <tr>\n",
       "      <th>...</th>\n",
       "      <td>...</td>\n",
       "      <td>...</td>\n",
       "    </tr>\n",
       "    <tr>\n",
       "      <th>277</th>\n",
       "      <td>2022-04-25 00:00:00+00:00</td>\n",
       "      <td>11657404</td>\n",
       "    </tr>\n",
       "    <tr>\n",
       "      <th>278</th>\n",
       "      <td>2022-05-02 00:00:00+00:00</td>\n",
       "      <td>13047248</td>\n",
       "    </tr>\n",
       "    <tr>\n",
       "      <th>279</th>\n",
       "      <td>2022-05-09 00:00:00+00:00</td>\n",
       "      <td>12526191</td>\n",
       "    </tr>\n",
       "    <tr>\n",
       "      <th>280</th>\n",
       "      <td>2022-05-16 00:00:00+00:00</td>\n",
       "      <td>17917144</td>\n",
       "    </tr>\n",
       "    <tr>\n",
       "      <th>281</th>\n",
       "      <td>2022-05-23 00:00:00+00:00</td>\n",
       "      <td>4154289</td>\n",
       "    </tr>\n",
       "  </tbody>\n",
       "</table>\n",
       "<p>282 rows × 2 columns</p>\n",
       "</div>"
      ],
      "text/plain": [
       "      first_load_arrival_date  deadweight\n",
       "0   2017-01-02 00:00:00+00:00     2622461\n",
       "1   2017-01-09 00:00:00+00:00    13778423\n",
       "2   2017-01-16 00:00:00+00:00    13288428\n",
       "3   2017-01-23 00:00:00+00:00    14074946\n",
       "4   2017-01-30 00:00:00+00:00    15222157\n",
       "..                        ...         ...\n",
       "277 2022-04-25 00:00:00+00:00    11657404\n",
       "278 2022-05-02 00:00:00+00:00    13047248\n",
       "279 2022-05-09 00:00:00+00:00    12526191\n",
       "280 2022-05-16 00:00:00+00:00    17917144\n",
       "281 2022-05-23 00:00:00+00:00     4154289\n",
       "\n",
       "[282 rows x 2 columns]"
      ]
     },
     "execution_count": 11,
     "metadata": {},
     "output_type": "execute_result"
    }
   ],
   "source": [
    "volume_per_week = voyages_by_activity[['first_load_arrival_date', 'deadweight']].groupby(pd.Grouper(key='first_load_arrival_date', freq='W-MON', closed='right')).sum().reset_index()\n",
    "volume_per_week"
   ]
  },
  {
   "cell_type": "markdown",
   "metadata": {
    "id": "CSZOcFFYyOsM"
   },
   "source": [
    "Filter the grouped output using the weeks-of-interest bins that were generated at the start of this section."
   ]
  },
  {
   "cell_type": "code",
   "execution_count": 12,
   "metadata": {
    "colab": {
     "base_uri": "https://localhost:8080/",
     "height": 424
    },
    "id": "rcDspyn3yOsM",
    "outputId": "8c6be5a5-73d5-4bf5-ace3-06320c58cd02"
   },
   "outputs": [
    {
     "data": {
      "text/html": [
       "<div>\n",
       "<style scoped>\n",
       "    .dataframe tbody tr th:only-of-type {\n",
       "        vertical-align: middle;\n",
       "    }\n",
       "\n",
       "    .dataframe tbody tr th {\n",
       "        vertical-align: top;\n",
       "    }\n",
       "\n",
       "    .dataframe thead th {\n",
       "        text-align: right;\n",
       "    }\n",
       "</style>\n",
       "<table border=\"1\" class=\"dataframe\">\n",
       "  <thead>\n",
       "    <tr style=\"text-align: right;\">\n",
       "      <th></th>\n",
       "      <th>first_load_arrival_date</th>\n",
       "      <th>deadweight</th>\n",
       "    </tr>\n",
       "  </thead>\n",
       "  <tbody>\n",
       "    <tr>\n",
       "      <th>0</th>\n",
       "      <td>2017-01-02 00:00:00+00:00</td>\n",
       "      <td>2.622461</td>\n",
       "    </tr>\n",
       "    <tr>\n",
       "      <th>1</th>\n",
       "      <td>2017-01-09 00:00:00+00:00</td>\n",
       "      <td>13.778423</td>\n",
       "    </tr>\n",
       "    <tr>\n",
       "      <th>2</th>\n",
       "      <td>2017-01-16 00:00:00+00:00</td>\n",
       "      <td>13.288428</td>\n",
       "    </tr>\n",
       "    <tr>\n",
       "      <th>3</th>\n",
       "      <td>2017-01-23 00:00:00+00:00</td>\n",
       "      <td>14.074946</td>\n",
       "    </tr>\n",
       "    <tr>\n",
       "      <th>4</th>\n",
       "      <td>2017-01-30 00:00:00+00:00</td>\n",
       "      <td>15.222157</td>\n",
       "    </tr>\n",
       "    <tr>\n",
       "      <th>...</th>\n",
       "      <td>...</td>\n",
       "      <td>...</td>\n",
       "    </tr>\n",
       "    <tr>\n",
       "      <th>276</th>\n",
       "      <td>2022-04-18 00:00:00+00:00</td>\n",
       "      <td>16.504938</td>\n",
       "    </tr>\n",
       "    <tr>\n",
       "      <th>277</th>\n",
       "      <td>2022-04-25 00:00:00+00:00</td>\n",
       "      <td>11.657404</td>\n",
       "    </tr>\n",
       "    <tr>\n",
       "      <th>278</th>\n",
       "      <td>2022-05-02 00:00:00+00:00</td>\n",
       "      <td>13.047248</td>\n",
       "    </tr>\n",
       "    <tr>\n",
       "      <th>279</th>\n",
       "      <td>2022-05-09 00:00:00+00:00</td>\n",
       "      <td>12.526191</td>\n",
       "    </tr>\n",
       "    <tr>\n",
       "      <th>280</th>\n",
       "      <td>2022-05-16 00:00:00+00:00</td>\n",
       "      <td>17.917144</td>\n",
       "    </tr>\n",
       "  </tbody>\n",
       "</table>\n",
       "<p>281 rows × 2 columns</p>\n",
       "</div>"
      ],
      "text/plain": [
       "      first_load_arrival_date  deadweight\n",
       "0   2017-01-02 00:00:00+00:00    2.622461\n",
       "1   2017-01-09 00:00:00+00:00   13.778423\n",
       "2   2017-01-16 00:00:00+00:00   13.288428\n",
       "3   2017-01-23 00:00:00+00:00   14.074946\n",
       "4   2017-01-30 00:00:00+00:00   15.222157\n",
       "..                        ...         ...\n",
       "276 2022-04-18 00:00:00+00:00   16.504938\n",
       "277 2022-04-25 00:00:00+00:00   11.657404\n",
       "278 2022-05-02 00:00:00+00:00   13.047248\n",
       "279 2022-05-09 00:00:00+00:00   12.526191\n",
       "280 2022-05-16 00:00:00+00:00   17.917144\n",
       "\n",
       "[281 rows x 2 columns]"
      ]
     },
     "execution_count": 12,
     "metadata": {},
     "output_type": "execute_result"
    }
   ],
   "source": [
    "volume_per_week = weeks_from_monday.merge(volume_per_week, how='left', on='first_load_arrival_date')\n",
    "volume_per_week['deadweight'] /= 1e6 # in million tonnes\n",
    "volume_per_week"
   ]
  },
  {
   "cell_type": "markdown",
   "metadata": {
    "id": "qVZWQdZ5yOsM"
   },
   "source": [
    "Plot the volume per week chart as follows:"
   ]
  },
  {
   "cell_type": "code",
   "execution_count": 13,
   "metadata": {
    "colab": {
     "base_uri": "https://localhost:8080/",
     "height": 370
    },
    "id": "7vcJyCQMyOsM",
    "outputId": "c30ddbca-90e1-4ae2-ccaa-11908550a99b"
   },
   "outputs": [
    {
     "data": {
      "image/png": "[encoded data removed]",
      "text/plain": [
       "<Figure size 1440x432 with 1 Axes>"
      ]
     },
     "metadata": {
      "needs_background": "light"
     },
     "output_type": "display_data"
    }
   ],
   "source": [
    "fig, axs = plt.subplots(figsize=(20,6))\n",
    "volume_per_week.plot(ax=axs, x='first_load_arrival_date', y='deadweight', kind ='area', stacked=False)\n",
    "\n",
    "# Properties\n",
    "axs.set_xlabel('')\n",
    "axs.set_ylabel('Million Tonnes')\n",
    "axs.set_title('Volume per week',  fontsize=14, fontweight='bold', loc='left',)\n",
    "axs.legend([f'Load Area: {area_of_interest}'])\n",
    "axs.set_ylim([min(volume_per_week['deadweight']), 1.2*max(volume_per_week['deadweight'])]);\n",
    "axs.grid(which='major', axis='y', linewidth=0.5)"
   ]
  },
  {
   "cell_type": "markdown",
   "metadata": {
    "id": "LrlJFzSCyOsM"
   },
   "source": [
    "### 2.2. Plot: Countries of Destination"
   ]
  },
  {
   "cell_type": "markdown",
   "metadata": {
    "id": "G6Wxmie6yOsN"
   },
   "source": [
    "The countries of destination plot gives insight to which country the cargo from the specified load area ends up in and in what amount. <br>\n",
    "To plot it, we need to re-filter the voyages dataframe by date in order to get the date-range of interest. Also, we need to group voyages by discharge country and calculate the percentage of deadweight being imported/exported compared to all the other countries."
   ]
  },
  {
   "cell_type": "markdown",
   "metadata": {
    "id": "u00fOBzSyOsN"
   },
   "source": [
    "First off, specify a new starting date:"
   ]
  },
  {
   "cell_type": "code",
   "execution_count": 14,
   "metadata": {
    "id": "YdrS2ueCyOsN"
   },
   "outputs": [],
   "source": [
    "date_from = date(2021,1,1) "
   ]
  },
  {
   "cell_type": "markdown",
   "metadata": {
    "id": "sowezBDNyOsN"
   },
   "source": [
    "Group voyages by countries of destination,"
   ]
  },
  {
   "cell_type": "code",
   "execution_count": 15,
   "metadata": {
    "id": "mTcUip6nyOsN"
   },
   "outputs": [],
   "source": [
    "voyages_countries_of_destination = voyages_by_activity.loc[voyages_by_activity['first_load_arrival_date'].dt.date >= date_from].reset_index(drop=True)\n",
    "voyages_countries_of_destination = voyages_countries_of_destination.groupby(by='discharge_country').sum().reset_index().sort_values('deadweight', ascending=True).reset_index(drop=True)"
   ]
  },
  {
   "cell_type": "markdown",
   "metadata": {
    "id": "sbt6C34lyOsN"
   },
   "source": [
    "Compute voyage percentages performing specified activity at each country and append,"
   ]
  },
  {
   "cell_type": "code",
   "execution_count": 16,
   "metadata": {
    "colab": {
     "base_uri": "https://localhost:8080/",
     "height": 488
    },
    "id": "CC4I9CHcyOsO",
    "outputId": "cb5404a1-c947-42b5-d707-f1cfd6d78d15"
   },
   "outputs": [
    {
     "data": {
      "text/html": [
       "<div>\n",
       "<style scoped>\n",
       "    .dataframe tbody tr th:only-of-type {\n",
       "        vertical-align: middle;\n",
       "    }\n",
       "\n",
       "    .dataframe tbody tr th {\n",
       "        vertical-align: top;\n",
       "    }\n",
       "\n",
       "    .dataframe thead th {\n",
       "        text-align: right;\n",
       "    }\n",
       "</style>\n",
       "<table border=\"1\" class=\"dataframe\">\n",
       "  <thead>\n",
       "    <tr style=\"text-align: right;\">\n",
       "      <th></th>\n",
       "      <th>discharge_country</th>\n",
       "      <th>imo</th>\n",
       "      <th>voyage_number</th>\n",
       "      <th>vessel_type_id</th>\n",
       "      <th>vessel_class_id</th>\n",
       "      <th>vessel_status_id</th>\n",
       "      <th>commercial_operator_id</th>\n",
       "      <th>deleted</th>\n",
       "      <th>deadweight</th>\n",
       "      <th>charterer_id</th>\n",
       "      <th>...</th>\n",
       "      <th>ballast_bonus</th>\n",
       "      <th>cargo_type_id</th>\n",
       "      <th>cargo_group_id</th>\n",
       "      <th>quantity</th>\n",
       "      <th>fixture_status_id</th>\n",
       "      <th>ballast_distance</th>\n",
       "      <th>predicted_ballast_distance</th>\n",
       "      <th>laden_distance</th>\n",
       "      <th>predicted_laden_distance</th>\n",
       "      <th>%_deadweight</th>\n",
       "    </tr>\n",
       "  </thead>\n",
       "  <tbody>\n",
       "    <tr>\n",
       "      <th>0</th>\n",
       "      <td>Egypt</td>\n",
       "      <td>9427316</td>\n",
       "      <td>74</td>\n",
       "      <td>3</td>\n",
       "      <td>70</td>\n",
       "      <td>1</td>\n",
       "      <td>1042.0</td>\n",
       "      <td>0</td>\n",
       "      <td>176382</td>\n",
       "      <td>0.0</td>\n",
       "      <td>...</td>\n",
       "      <td>0.0</td>\n",
       "      <td>28.0</td>\n",
       "      <td>0.0</td>\n",
       "      <td>0.0</td>\n",
       "      <td>1.0</td>\n",
       "      <td>4950.76</td>\n",
       "      <td>0.00</td>\n",
       "      <td>4780.40</td>\n",
       "      <td>1653.26</td>\n",
       "      <td>0.017074</td>\n",
       "    </tr>\n",
       "    <tr>\n",
       "      <th>1</th>\n",
       "      <td>United Kingdom</td>\n",
       "      <td>9438779</td>\n",
       "      <td>62</td>\n",
       "      <td>3</td>\n",
       "      <td>70</td>\n",
       "      <td>1</td>\n",
       "      <td>1042.0</td>\n",
       "      <td>0</td>\n",
       "      <td>180018</td>\n",
       "      <td>0.0</td>\n",
       "      <td>...</td>\n",
       "      <td>0.0</td>\n",
       "      <td>28.0</td>\n",
       "      <td>0.0</td>\n",
       "      <td>0.0</td>\n",
       "      <td>0.0</td>\n",
       "      <td>2743.18</td>\n",
       "      <td>0.00</td>\n",
       "      <td>9938.33</td>\n",
       "      <td>0.00</td>\n",
       "      <td>0.017426</td>\n",
       "    </tr>\n",
       "    <tr>\n",
       "      <th>2</th>\n",
       "      <td>Poland</td>\n",
       "      <td>9750830</td>\n",
       "      <td>31</td>\n",
       "      <td>3</td>\n",
       "      <td>70</td>\n",
       "      <td>1</td>\n",
       "      <td>829.0</td>\n",
       "      <td>0</td>\n",
       "      <td>182644</td>\n",
       "      <td>0.0</td>\n",
       "      <td>...</td>\n",
       "      <td>0.0</td>\n",
       "      <td>28.0</td>\n",
       "      <td>0.0</td>\n",
       "      <td>0.0</td>\n",
       "      <td>0.0</td>\n",
       "      <td>3183.06</td>\n",
       "      <td>0.00</td>\n",
       "      <td>11900.00</td>\n",
       "      <td>0.00</td>\n",
       "      <td>0.017680</td>\n",
       "    </tr>\n",
       "    <tr>\n",
       "      <th>3</th>\n",
       "      <td>Philippines</td>\n",
       "      <td>18929458</td>\n",
       "      <td>149</td>\n",
       "      <td>6</td>\n",
       "      <td>140</td>\n",
       "      <td>2</td>\n",
       "      <td>5472.0</td>\n",
       "      <td>0</td>\n",
       "      <td>360423</td>\n",
       "      <td>0.0</td>\n",
       "      <td>...</td>\n",
       "      <td>0.0</td>\n",
       "      <td>56.0</td>\n",
       "      <td>0.0</td>\n",
       "      <td>0.0</td>\n",
       "      <td>0.0</td>\n",
       "      <td>6120.44</td>\n",
       "      <td>0.00</td>\n",
       "      <td>9924.44</td>\n",
       "      <td>0.00</td>\n",
       "      <td>0.034889</td>\n",
       "    </tr>\n",
       "    <tr>\n",
       "      <th>4</th>\n",
       "      <td>India</td>\n",
       "      <td>38452415</td>\n",
       "      <td>211</td>\n",
       "      <td>12</td>\n",
       "      <td>280</td>\n",
       "      <td>4</td>\n",
       "      <td>13495.0</td>\n",
       "      <td>0</td>\n",
       "      <td>772408</td>\n",
       "      <td>0.0</td>\n",
       "      <td>...</td>\n",
       "      <td>0.0</td>\n",
       "      <td>112.0</td>\n",
       "      <td>0.0</td>\n",
       "      <td>0.0</td>\n",
       "      <td>1.0</td>\n",
       "      <td>15020.09</td>\n",
       "      <td>0.00</td>\n",
       "      <td>12142.92</td>\n",
       "      <td>3972.64</td>\n",
       "      <td>0.074769</td>\n",
       "    </tr>\n",
       "    <tr>\n",
       "      <th>5</th>\n",
       "      <td>Netherlands</td>\n",
       "      <td>48007514</td>\n",
       "      <td>262</td>\n",
       "      <td>15</td>\n",
       "      <td>350</td>\n",
       "      <td>5</td>\n",
       "      <td>5922.0</td>\n",
       "      <td>0</td>\n",
       "      <td>891347</td>\n",
       "      <td>0.0</td>\n",
       "      <td>...</td>\n",
       "      <td>0.0</td>\n",
       "      <td>140.0</td>\n",
       "      <td>0.0</td>\n",
       "      <td>0.0</td>\n",
       "      <td>2.0</td>\n",
       "      <td>19747.30</td>\n",
       "      <td>0.00</td>\n",
       "      <td>54343.19</td>\n",
       "      <td>425.04</td>\n",
       "      <td>0.086282</td>\n",
       "    </tr>\n",
       "    <tr>\n",
       "      <th>6</th>\n",
       "      <td>Malaysia</td>\n",
       "      <td>76665015</td>\n",
       "      <td>546</td>\n",
       "      <td>24</td>\n",
       "      <td>560</td>\n",
       "      <td>8</td>\n",
       "      <td>14997.0</td>\n",
       "      <td>0</td>\n",
       "      <td>1460148</td>\n",
       "      <td>0.0</td>\n",
       "      <td>...</td>\n",
       "      <td>0.0</td>\n",
       "      <td>224.0</td>\n",
       "      <td>0.0</td>\n",
       "      <td>0.0</td>\n",
       "      <td>0.0</td>\n",
       "      <td>26417.35</td>\n",
       "      <td>0.00</td>\n",
       "      <td>19330.17</td>\n",
       "      <td>0.00</td>\n",
       "      <td>0.141341</td>\n",
       "    </tr>\n",
       "    <tr>\n",
       "      <th>7</th>\n",
       "      <td>Australia</td>\n",
       "      <td>277112116</td>\n",
       "      <td>1717</td>\n",
       "      <td>87</td>\n",
       "      <td>2030</td>\n",
       "      <td>29</td>\n",
       "      <td>87745.0</td>\n",
       "      <td>0</td>\n",
       "      <td>5175609</td>\n",
       "      <td>0.0</td>\n",
       "      <td>...</td>\n",
       "      <td>0.0</td>\n",
       "      <td>812.0</td>\n",
       "      <td>0.0</td>\n",
       "      <td>110000.0</td>\n",
       "      <td>2.0</td>\n",
       "      <td>100754.74</td>\n",
       "      <td>0.00</td>\n",
       "      <td>79850.35</td>\n",
       "      <td>5969.30</td>\n",
       "      <td>0.500996</td>\n",
       "    </tr>\n",
       "    <tr>\n",
       "      <th>8</th>\n",
       "      <td>Indonesia</td>\n",
       "      <td>356684857</td>\n",
       "      <td>1720</td>\n",
       "      <td>111</td>\n",
       "      <td>2590</td>\n",
       "      <td>37</td>\n",
       "      <td>75116.0</td>\n",
       "      <td>0</td>\n",
       "      <td>6810521</td>\n",
       "      <td>3680.0</td>\n",
       "      <td>...</td>\n",
       "      <td>0.0</td>\n",
       "      <td>1036.0</td>\n",
       "      <td>0.0</td>\n",
       "      <td>0.0</td>\n",
       "      <td>4.0</td>\n",
       "      <td>127224.15</td>\n",
       "      <td>0.00</td>\n",
       "      <td>44592.08</td>\n",
       "      <td>2375.52</td>\n",
       "      <td>0.659254</td>\n",
       "    </tr>\n",
       "    <tr>\n",
       "      <th>9</th>\n",
       "      <td>Viet Nam</td>\n",
       "      <td>822890219</td>\n",
       "      <td>4772</td>\n",
       "      <td>258</td>\n",
       "      <td>6020</td>\n",
       "      <td>86</td>\n",
       "      <td>201484.0</td>\n",
       "      <td>0</td>\n",
       "      <td>15508538</td>\n",
       "      <td>0.0</td>\n",
       "      <td>...</td>\n",
       "      <td>0.0</td>\n",
       "      <td>2408.0</td>\n",
       "      <td>0.0</td>\n",
       "      <td>0.0</td>\n",
       "      <td>5.0</td>\n",
       "      <td>298395.47</td>\n",
       "      <td>0.00</td>\n",
       "      <td>227268.38</td>\n",
       "      <td>1960.30</td>\n",
       "      <td>1.501217</td>\n",
       "    </tr>\n",
       "    <tr>\n",
       "      <th>10</th>\n",
       "      <td>Taiwan</td>\n",
       "      <td>1557549662</td>\n",
       "      <td>8004</td>\n",
       "      <td>483</td>\n",
       "      <td>11270</td>\n",
       "      <td>161</td>\n",
       "      <td>464925.0</td>\n",
       "      <td>0</td>\n",
       "      <td>33099068</td>\n",
       "      <td>8447.0</td>\n",
       "      <td>...</td>\n",
       "      <td>0.0</td>\n",
       "      <td>4396.0</td>\n",
       "      <td>0.0</td>\n",
       "      <td>170000.0</td>\n",
       "      <td>24.0</td>\n",
       "      <td>486875.31</td>\n",
       "      <td>832.75</td>\n",
       "      <td>469942.43</td>\n",
       "      <td>17095.37</td>\n",
       "      <td>3.203970</td>\n",
       "    </tr>\n",
       "    <tr>\n",
       "      <th>11</th>\n",
       "      <td>Korea, Republic of</td>\n",
       "      <td>2902729232</td>\n",
       "      <td>15975</td>\n",
       "      <td>906</td>\n",
       "      <td>21140</td>\n",
       "      <td>302</td>\n",
       "      <td>513377.0</td>\n",
       "      <td>0</td>\n",
       "      <td>59728023</td>\n",
       "      <td>28677.0</td>\n",
       "      <td>...</td>\n",
       "      <td>0.0</td>\n",
       "      <td>8424.0</td>\n",
       "      <td>0.0</td>\n",
       "      <td>530000.0</td>\n",
       "      <td>37.0</td>\n",
       "      <td>1086621.33</td>\n",
       "      <td>1029.04</td>\n",
       "      <td>1112522.05</td>\n",
       "      <td>14932.39</td>\n",
       "      <td>5.781637</td>\n",
       "    </tr>\n",
       "    <tr>\n",
       "      <th>12</th>\n",
       "      <td>Japan</td>\n",
       "      <td>3956494091</td>\n",
       "      <td>17913</td>\n",
       "      <td>1230</td>\n",
       "      <td>28700</td>\n",
       "      <td>410</td>\n",
       "      <td>827993.0</td>\n",
       "      <td>0</td>\n",
       "      <td>80972833</td>\n",
       "      <td>1111.0</td>\n",
       "      <td>...</td>\n",
       "      <td>0.0</td>\n",
       "      <td>11452.0</td>\n",
       "      <td>0.0</td>\n",
       "      <td>170000.0</td>\n",
       "      <td>42.0</td>\n",
       "      <td>1466316.86</td>\n",
       "      <td>768.98</td>\n",
       "      <td>1626196.89</td>\n",
       "      <td>34316.32</td>\n",
       "      <td>7.838122</td>\n",
       "    </tr>\n",
       "    <tr>\n",
       "      <th>13</th>\n",
       "      <td>China</td>\n",
       "      <td>42346574173</td>\n",
       "      <td>241591</td>\n",
       "      <td>13251</td>\n",
       "      <td>309190</td>\n",
       "      <td>4417</td>\n",
       "      <td>10510074.0</td>\n",
       "      <td>0</td>\n",
       "      <td>827746251</td>\n",
       "      <td>475566.0</td>\n",
       "      <td>...</td>\n",
       "      <td>152000.0</td>\n",
       "      <td>522800.0</td>\n",
       "      <td>0.0</td>\n",
       "      <td>24540000.0</td>\n",
       "      <td>758.0</td>\n",
       "      <td>15974619.61</td>\n",
       "      <td>13467.58</td>\n",
       "      <td>16242079.12</td>\n",
       "      <td>514915.47</td>\n",
       "      <td>80.125344</td>\n",
       "    </tr>\n",
       "  </tbody>\n",
       "</table>\n",
       "<p>14 rows × 21 columns</p>\n",
       "</div>"
      ],
      "text/plain": [
       "     discharge_country          imo  voyage_number  vessel_type_id  \\\n",
       "0                Egypt      9427316             74               3   \n",
       "1       United Kingdom      9438779             62               3   \n",
       "2               Poland      9750830             31               3   \n",
       "3          Philippines     18929458            149               6   \n",
       "4                India     38452415            211              12   \n",
       "5          Netherlands     48007514            262              15   \n",
       "6             Malaysia     76665015            546              24   \n",
       "7            Australia    277112116           1717              87   \n",
       "8            Indonesia    356684857           1720             111   \n",
       "9             Viet Nam    822890219           4772             258   \n",
       "10              Taiwan   1557549662           8004             483   \n",
       "11  Korea, Republic of   2902729232          15975             906   \n",
       "12               Japan   3956494091          17913            1230   \n",
       "13               China  42346574173         241591           13251   \n",
       "\n",
       "    vessel_class_id  vessel_status_id  commercial_operator_id  deleted  \\\n",
       "0                70                 1                  1042.0        0   \n",
       "1                70                 1                  1042.0        0   \n",
       "2                70                 1                   829.0        0   \n",
       "3               140                 2                  5472.0        0   \n",
       "4               280                 4                 13495.0        0   \n",
       "5               350                 5                  5922.0        0   \n",
       "6               560                 8                 14997.0        0   \n",
       "7              2030                29                 87745.0        0   \n",
       "8              2590                37                 75116.0        0   \n",
       "9              6020                86                201484.0        0   \n",
       "10            11270               161                464925.0        0   \n",
       "11            21140               302                513377.0        0   \n",
       "12            28700               410                827993.0        0   \n",
       "13           309190              4417              10510074.0        0   \n",
       "\n",
       "    deadweight  charterer_id  ...  ballast_bonus  cargo_type_id  \\\n",
       "0       176382           0.0  ...            0.0           28.0   \n",
       "1       180018           0.0  ...            0.0           28.0   \n",
       "2       182644           0.0  ...            0.0           28.0   \n",
       "3       360423           0.0  ...            0.0           56.0   \n",
       "4       772408           0.0  ...            0.0          112.0   \n",
       "5       891347           0.0  ...            0.0          140.0   \n",
       "6      1460148           0.0  ...            0.0          224.0   \n",
       "7      5175609           0.0  ...            0.0          812.0   \n",
       "8      6810521        3680.0  ...            0.0         1036.0   \n",
       "9     15508538           0.0  ...            0.0         2408.0   \n",
       "10    33099068        8447.0  ...            0.0         4396.0   \n",
       "11    59728023       28677.0  ...            0.0         8424.0   \n",
       "12    80972833        1111.0  ...            0.0        11452.0   \n",
       "13   827746251      475566.0  ...       152000.0       522800.0   \n",
       "\n",
       "    cargo_group_id    quantity  fixture_status_id  ballast_distance  \\\n",
       "0              0.0         0.0                1.0           4950.76   \n",
       "1              0.0         0.0                0.0           2743.18   \n",
       "2              0.0         0.0                0.0           3183.06   \n",
       "3              0.0         0.0                0.0           6120.44   \n",
       "4              0.0         0.0                1.0          15020.09   \n",
       "5              0.0         0.0                2.0          19747.30   \n",
       "6              0.0         0.0                0.0          26417.35   \n",
       "7              0.0    110000.0                2.0         100754.74   \n",
       "8              0.0         0.0                4.0         127224.15   \n",
       "9              0.0         0.0                5.0         298395.47   \n",
       "10             0.0    170000.0               24.0         486875.31   \n",
       "11             0.0    530000.0               37.0        1086621.33   \n",
       "12             0.0    170000.0               42.0        1466316.86   \n",
       "13             0.0  24540000.0              758.0       15974619.61   \n",
       "\n",
       "    predicted_ballast_distance  laden_distance  predicted_laden_distance  \\\n",
       "0                         0.00         4780.40                   1653.26   \n",
       "1                         0.00         9938.33                      0.00   \n",
       "2                         0.00        11900.00                      0.00   \n",
       "3                         0.00         9924.44                      0.00   \n",
       "4                         0.00        12142.92                   3972.64   \n",
       "5                         0.00        54343.19                    425.04   \n",
       "6                         0.00        19330.17                      0.00   \n",
       "7                         0.00        79850.35                   5969.30   \n",
       "8                         0.00        44592.08                   2375.52   \n",
       "9                         0.00       227268.38                   1960.30   \n",
       "10                      832.75       469942.43                  17095.37   \n",
       "11                     1029.04      1112522.05                  14932.39   \n",
       "12                      768.98      1626196.89                  34316.32   \n",
       "13                    13467.58     16242079.12                 514915.47   \n",
       "\n",
       "    %_deadweight  \n",
       "0       0.017074  \n",
       "1       0.017426  \n",
       "2       0.017680  \n",
       "3       0.034889  \n",
       "4       0.074769  \n",
       "5       0.086282  \n",
       "6       0.141341  \n",
       "7       0.500996  \n",
       "8       0.659254  \n",
       "9       1.501217  \n",
       "10      3.203970  \n",
       "11      5.781637  \n",
       "12      7.838122  \n",
       "13     80.125344  \n",
       "\n",
       "[14 rows x 21 columns]"
      ]
     },
     "execution_count": 16,
     "metadata": {},
     "output_type": "execute_result"
    }
   ],
   "source": [
    "voyages_countries_of_destination['%_deadweight'] = 100*voyages_countries_of_destination['deadweight'] / voyages_countries_of_destination['deadweight'].sum()\n",
    "voyages_countries_of_destination"
   ]
  },
  {
   "cell_type": "markdown",
   "metadata": {
    "id": "vvetX4sIyOsO"
   },
   "source": [
    "Plot the countries of destination chart as follows:"
   ]
  },
  {
   "cell_type": "code",
   "execution_count": 17,
   "metadata": {
    "colab": {
     "base_uri": "https://localhost:8080/",
     "height": 404
    },
    "id": "1SKaIsoayOsO",
    "outputId": "cc949824-3350-4a1b-a531-9a1a09deab6c"
   },
   "outputs": [
    {
     "data": {
      "image/png": "[encoded data removed]",
      "text/plain": [
       "<Figure size 1080x432 with 1 Axes>"
      ]
     },
     "metadata": {
      "needs_background": "light"
     },
     "output_type": "display_data"
    }
   ],
   "source": [
    "fig, axs = plt.subplots(figsize=(15,6))\n",
    "voyages_countries_of_destination.plot.barh(ax=axs, y='%_deadweight', x='discharge_country')\n",
    "\n",
    "# Properties\n",
    "axs.set_title(f'Countries of Destination ({date_from.year})', loc='left', fontweight='bold')\n",
    "axs.set_ylabel('Country')\n",
    "axs.set_xlabel('Percentage of total')\n",
    "axs.get_legend().remove()\n",
    "axs.legend([f'Load Area: {area_of_interest}'], loc='lower right')\n",
    "\n",
    "axs.set_xlim([0, 100])\n",
    "axs.grid(which='major', axis='x', linewidth=0.5)\n",
    "\n",
    "for i, v in enumerate(round(voyages_countries_of_destination['%_deadweight'],1)): # attach annotations at end of bars\n",
    "    if voyages_countries_of_destination['%_deadweight'][i] >= 0.1:\n",
    "        dwt = voyages_countries_of_destination['deadweight'][i]\n",
    "        axs.text(v + 1, i - 0.15, f'{v}% ({round(dwt/1e6,1)} mil. tonnes)', color='black')"
   ]
  },
  {
   "cell_type": "markdown",
   "metadata": {
    "id": "DrJidp_6yOsP"
   },
   "source": [
    "### 2.3. Plot: Volume Per Month "
   ]
  },
  {
   "cell_type": "markdown",
   "metadata": {
    "id": "Vx9V9SF-yOsP"
   },
   "source": [
    "The volume per month plot is useful in visualizing how the volume of cargo being transported from/to the specified area changes from year to year on a monthly level."
   ]
  },
  {
   "cell_type": "markdown",
   "metadata": {
    "id": "MADfqA3wyOsP"
   },
   "source": [
    "First, specify how many years back, from the current year, we want to compare and aggregate the voyages deadweight into the respective date-range bins:"
   ]
  },
  {
   "cell_type": "code",
   "execution_count": 18,
   "metadata": {
    "id": "B6g6bnr8yOsP"
   },
   "outputs": [],
   "source": [
    "years_back = 3"
   ]
  },
  {
   "cell_type": "markdown",
   "metadata": {
    "id": "5OsKFtqPyOsP"
   },
   "source": [
    "Calculate volume per month,"
   ]
  },
  {
   "cell_type": "code",
   "execution_count": 19,
   "metadata": {
    "colab": {
     "base_uri": "https://localhost:8080/",
     "height": 927
    },
    "id": "vfbmAL5uyOsP",
    "outputId": "bae66af1-8693-4cb4-8249-fcb24af02502"
   },
   "outputs": [
    {
     "data": {
      "text/html": [
       "<div>\n",
       "<style scoped>\n",
       "    .dataframe tbody tr th:only-of-type {\n",
       "        vertical-align: middle;\n",
       "    }\n",
       "\n",
       "    .dataframe tbody tr th {\n",
       "        vertical-align: top;\n",
       "    }\n",
       "\n",
       "    .dataframe thead th {\n",
       "        text-align: right;\n",
       "    }\n",
       "</style>\n",
       "<table border=\"1\" class=\"dataframe\">\n",
       "  <thead>\n",
       "    <tr style=\"text-align: right;\">\n",
       "      <th></th>\n",
       "      <th></th>\n",
       "      <th>deadweight</th>\n",
       "    </tr>\n",
       "    <tr>\n",
       "      <th>month</th>\n",
       "      <th>year</th>\n",
       "      <th></th>\n",
       "    </tr>\n",
       "  </thead>\n",
       "  <tbody>\n",
       "    <tr>\n",
       "      <th rowspan=\"3\" valign=\"top\">1</th>\n",
       "      <th>2020</th>\n",
       "      <td>57.249031</td>\n",
       "    </tr>\n",
       "    <tr>\n",
       "      <th>2021</th>\n",
       "      <td>56.094286</td>\n",
       "    </tr>\n",
       "    <tr>\n",
       "      <th>2022</th>\n",
       "      <td>63.608431</td>\n",
       "    </tr>\n",
       "    <tr>\n",
       "      <th rowspan=\"3\" valign=\"top\">2</th>\n",
       "      <th>2020</th>\n",
       "      <td>52.523605</td>\n",
       "    </tr>\n",
       "    <tr>\n",
       "      <th>2021</th>\n",
       "      <td>57.536230</td>\n",
       "    </tr>\n",
       "    <tr>\n",
       "      <th>2022</th>\n",
       "      <td>52.930154</td>\n",
       "    </tr>\n",
       "    <tr>\n",
       "      <th rowspan=\"3\" valign=\"top\">3</th>\n",
       "      <th>2020</th>\n",
       "      <td>63.861629</td>\n",
       "    </tr>\n",
       "    <tr>\n",
       "      <th>2021</th>\n",
       "      <td>63.757555</td>\n",
       "    </tr>\n",
       "    <tr>\n",
       "      <th>2022</th>\n",
       "      <td>61.778963</td>\n",
       "    </tr>\n",
       "    <tr>\n",
       "      <th rowspan=\"3\" valign=\"top\">4</th>\n",
       "      <th>2020</th>\n",
       "      <td>65.205238</td>\n",
       "    </tr>\n",
       "    <tr>\n",
       "      <th>2021</th>\n",
       "      <td>61.433982</td>\n",
       "    </tr>\n",
       "    <tr>\n",
       "      <th>2022</th>\n",
       "      <td>59.028687</td>\n",
       "    </tr>\n",
       "    <tr>\n",
       "      <th rowspan=\"3\" valign=\"top\">5</th>\n",
       "      <th>2020</th>\n",
       "      <td>63.975702</td>\n",
       "    </tr>\n",
       "    <tr>\n",
       "      <th>2021</th>\n",
       "      <td>63.512448</td>\n",
       "    </tr>\n",
       "    <tr>\n",
       "      <th>2022</th>\n",
       "      <td>38.983146</td>\n",
       "    </tr>\n",
       "    <tr>\n",
       "      <th rowspan=\"2\" valign=\"top\">6</th>\n",
       "      <th>2020</th>\n",
       "      <td>66.279639</td>\n",
       "    </tr>\n",
       "    <tr>\n",
       "      <th>2021</th>\n",
       "      <td>63.165958</td>\n",
       "    </tr>\n",
       "    <tr>\n",
       "      <th rowspan=\"2\" valign=\"top\">7</th>\n",
       "      <th>2020</th>\n",
       "      <td>67.059849</td>\n",
       "    </tr>\n",
       "    <tr>\n",
       "      <th>2021</th>\n",
       "      <td>60.502940</td>\n",
       "    </tr>\n",
       "    <tr>\n",
       "      <th rowspan=\"2\" valign=\"top\">8</th>\n",
       "      <th>2020</th>\n",
       "      <td>63.432037</td>\n",
       "    </tr>\n",
       "    <tr>\n",
       "      <th>2021</th>\n",
       "      <td>65.651844</td>\n",
       "    </tr>\n",
       "    <tr>\n",
       "      <th rowspan=\"2\" valign=\"top\">9</th>\n",
       "      <th>2020</th>\n",
       "      <td>61.575203</td>\n",
       "    </tr>\n",
       "    <tr>\n",
       "      <th>2021</th>\n",
       "      <td>65.460524</td>\n",
       "    </tr>\n",
       "    <tr>\n",
       "      <th rowspan=\"2\" valign=\"top\">10</th>\n",
       "      <th>2020</th>\n",
       "      <td>62.868822</td>\n",
       "    </tr>\n",
       "    <tr>\n",
       "      <th>2021</th>\n",
       "      <td>66.903119</td>\n",
       "    </tr>\n",
       "    <tr>\n",
       "      <th rowspan=\"2\" valign=\"top\">11</th>\n",
       "      <th>2020</th>\n",
       "      <td>61.347426</td>\n",
       "    </tr>\n",
       "    <tr>\n",
       "      <th>2021</th>\n",
       "      <td>61.251175</td>\n",
       "    </tr>\n",
       "    <tr>\n",
       "      <th rowspan=\"2\" valign=\"top\">12</th>\n",
       "      <th>2020</th>\n",
       "      <td>67.755055</td>\n",
       "    </tr>\n",
       "    <tr>\n",
       "      <th>2021</th>\n",
       "      <td>71.464771</td>\n",
       "    </tr>\n",
       "  </tbody>\n",
       "</table>\n",
       "</div>"
      ],
      "text/plain": [
       "            deadweight\n",
       "month year            \n",
       "1     2020   57.249031\n",
       "      2021   56.094286\n",
       "      2022   63.608431\n",
       "2     2020   52.523605\n",
       "      2021   57.536230\n",
       "      2022   52.930154\n",
       "3     2020   63.861629\n",
       "      2021   63.757555\n",
       "      2022   61.778963\n",
       "4     2020   65.205238\n",
       "      2021   61.433982\n",
       "      2022   59.028687\n",
       "5     2020   63.975702\n",
       "      2021   63.512448\n",
       "      2022   38.983146\n",
       "6     2020   66.279639\n",
       "      2021   63.165958\n",
       "7     2020   67.059849\n",
       "      2021   60.502940\n",
       "8     2020   63.432037\n",
       "      2021   65.651844\n",
       "9     2020   61.575203\n",
       "      2021   65.460524\n",
       "10    2020   62.868822\n",
       "      2021   66.903119\n",
       "11    2020   61.347426\n",
       "      2021   61.251175\n",
       "12    2020   67.755055\n",
       "      2021   71.464771"
      ]
     },
     "execution_count": 19,
     "metadata": {},
     "output_type": "execute_result"
    }
   ],
   "source": [
    "# Create a new dataframe and aggregate cargo by month and year (multiIndex)\n",
    "vpm = voyages_by_activity[['first_load_arrival_date', 'deadweight']].set_index('first_load_arrival_date')\n",
    "volume_per_month = vpm.groupby([vpm.index.month, vpm.index.year]).sum()\n",
    "volume_per_month.index.rename(['month','year'], inplace=True)\n",
    "\n",
    "# Filter to last \"years_back\" years\n",
    "years = volume_per_month.index.get_level_values('year')\n",
    "volume_per_month = volume_per_month[years > (date.today().year - years_back)]\n",
    "\n",
    "volume_per_month['deadweight'] /= 1e6 # in million tonnes\n",
    "volume_per_month"
   ]
  },
  {
   "cell_type": "markdown",
   "metadata": {
    "id": "jQ1yTMP9yOsQ"
   },
   "source": [
    "We can now plot the volume per month chart as follows:"
   ]
  },
  {
   "cell_type": "code",
   "execution_count": 20,
   "metadata": {
    "colab": {
     "base_uri": "https://localhost:8080/",
     "height": 459
    },
    "id": "p7qA2W3LyOsQ",
    "outputId": "9205b02d-6406-4a21-9f16-8635325a4388"
   },
   "outputs": [
    {
     "data": {
      "image/png": "[encoded data removed]",
      "text/plain": [
       "<Figure size 1080x432 with 1 Axes>"
      ]
     },
     "metadata": {
      "needs_background": "light"
     },
     "output_type": "display_data"
    }
   ],
   "source": [
    "fig, axs = plt.subplots(figsize=(15,6))\n",
    "volume_per_month.unstack().plot(kind='bar', ax=axs, width=0.8, colormap='tab20c')\n",
    "\n",
    "years_for_graph = (\n",
    "    years.unique().sort_values()[-years_back:] if years_back < years.nunique()\n",
    "    else\n",
    "    years.unique().sort_values()\n",
    ")\n",
    "\n",
    "# Properties\n",
    "axs.set_title(f'Volume per Month (Last {len(years_for_graph)} years)', loc='left', fontweight='bold')\n",
    "axs.set_ylabel('Million Tonnes')\n",
    "axs.set_xlabel('')\n",
    "\n",
    "\n",
    "axs.legend(years_for_graph, loc='upper center', bbox_to_anchor=(0.5, -0.1))\n",
    "axs.set_ylim([0, 1.1*max(volume_per_month['deadweight'])])\n",
    "\n",
    "months = list(map(str, volume_per_month.index.get_level_values('month').array.unique()))\n",
    "months = [datetime.strftime(datetime.strptime(m, '%m'), '%B') for m in months]\n",
    "axs.set_xticklabels(months, rotation=45)\n",
    "\n",
    "axs.grid(which='major', axis='y', linewidth=0.5)\n",
    "\n",
    "for bar in axs.patches:\n",
    "    if bar.get_height() > 0:\n",
    "        axs.annotate(format(bar.get_height(), '0.0f'),\n",
    "                    (bar.get_x() + bar.get_width()/2,\n",
    "                     bar.get_height()), ha='center', va='center',\n",
    "                     size=10, xytext=(0, 8),\n",
    "                     textcoords='offset points')"
   ]
  }
 ],
 "metadata": {
  "colab": {
   "collapsed_sections": [],
   "name": "Copy of CargoFlows.ipynb",
   "provenance": []
  },
  "kernelspec": {
   "display_name": "Python 3",
   "language": "python",
   "name": "python3"
  },
  "language_info": {
   "codemirror_mode": {
    "name": "ipython",
    "version": 3
   },
   "file_extension": ".py",
   "mimetype": "text/x-python",
   "name": "python",
   "nbconvert_exporter": "python",
   "pygments_lexer": "ipython3",
   "version": "3.8.5"
  }
 },
 "nbformat": 4,
 "nbformat_minor": 1
}
