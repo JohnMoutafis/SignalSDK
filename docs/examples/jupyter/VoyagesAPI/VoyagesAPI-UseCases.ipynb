{
 "cells": [
  {
   "cell_type": "markdown",
   "metadata": {},
   "source": [
    "# Voyages API Use Cases"
   ]
  },
  {
   "cell_type": "markdown",
   "metadata": {},
   "source": [
    "## Setup\n",
    "Install the Signal Ocean SDK:\n",
    "```\n",
    "pip install signal-ocean\n",
    "```\n",
    "Set your subscription key acquired here: https://apis.signalocean.com/profile"
   ]
  },
  {
   "cell_type": "code",
   "execution_count": null,
   "metadata": {},
   "outputs": [],
   "source": [
    "pip install signal-ocean"
   ]
  },
  {
   "cell_type": "code",
   "execution_count": 1,
   "metadata": {},
   "outputs": [],
   "source": [
    "signal_ocean_api_key = '' #replace with your subscription key"
   ]
  },
  {
   "cell_type": "markdown",
   "metadata": {},
   "source": [
    "## Voyages API Use Cases\n"
   ]
  },
  {
   "cell_type": "code",
   "execution_count": 2,
   "metadata": {},
   "outputs": [],
   "source": [
    "from signal_ocean import Connection\n",
    "from signal_ocean.voyages import VoyagesAPI\n",
    "import pandas as pd\n",
    "import numpy as np\n",
    "from datetime import date, timedelta\n",
    "import seaborn as sns\n",
    "import matplotlib.pyplot as plt\n",
    "sns.set_theme()"
   ]
  },
  {
   "cell_type": "code",
   "execution_count": 3,
   "metadata": {},
   "outputs": [],
   "source": [
    "connection = Connection(signal_ocean_api_key)\n",
    "api = VoyagesAPI(connection)"
   ]
  },
  {
   "cell_type": "markdown",
   "metadata": {},
   "source": [
    "### Get voyages"
   ]
  },
  {
   "cell_type": "code",
   "execution_count": 4,
   "metadata": {},
   "outputs": [],
   "source": [
    "vlcc_id = 84\n",
    "date_from = date.today() - timedelta(days=180)"
   ]
  },
  {
   "cell_type": "code",
   "execution_count": 5,
   "metadata": {},
   "outputs": [],
   "source": [
    "voyages = api.get_voyages(vessel_class_id=vlcc_id, date_from=date_from)"
   ]
  },
  {
   "cell_type": "code",
   "execution_count": 6,
   "metadata": {},
   "outputs": [],
   "source": [
    "voyages = pd.DataFrame(v.__dict__ for v in voyages)\n",
    "events = pd.DataFrame(e.__dict__ for voyage_events in voyages['events'].dropna() for e in voyage_events)\n",
    "historical_events = events[events['event_horizon']=='Historical']"
   ]
  },
  {
   "cell_type": "code",
   "execution_count": 7,
   "metadata": {},
   "outputs": [],
   "source": [
    "def get_voyage_load_area(voyage_events):\n",
    "    return next((e.area_name_level0 for e in voyage_events or [] if e.purpose=='Load'), None)\n",
    "\n",
    "voyages['load_area'] = voyages['events'].apply(get_voyage_load_area)"
   ]
  },
  {
   "cell_type": "code",
   "execution_count": 8,
   "metadata": {},
   "outputs": [],
   "source": [
    "def get_voyage_discharge_country(voyage_events):\n",
    "    return next((e.country for e in reversed(voyage_events or []) if e.purpose=='Discharge'), None)\n",
    "\n",
    "voyages['discharge_country'] = voyages['events'].apply(get_voyage_discharge_country)"
   ]
  },
  {
   "cell_type": "code",
   "execution_count": 9,
   "metadata": {},
   "outputs": [],
   "source": [
    "def get_voyage_load_country(voyage_events):\n",
    "    return next((e.country for e in voyage_events or [] if e.purpose=='Load'), None)\n",
    "\n",
    "voyages['load_country'] = voyages['events'].apply(get_voyage_load_country)"
   ]
  },
  {
   "cell_type": "markdown",
   "metadata": {},
   "source": [
    "### Number of exporting voyages "
   ]
  },
  {
   "cell_type": "code",
   "execution_count": 10,
   "metadata": {},
   "outputs": [],
   "source": [
    "voyages_exports_usg = voyages[(voyages['load_area']=='US Gulf')&(voyages['discharge_country']!='United States')]"
   ]
  },
  {
   "cell_type": "code",
   "execution_count": 11,
   "metadata": {},
   "outputs": [
    {
     "data": {
      "text/plain": [
       "86"
      ]
     },
     "execution_count": 11,
     "metadata": {},
     "output_type": "execute_result"
    }
   ],
   "source": [
    "voyages_exports_usg.shape[0]"
   ]
  },
  {
   "cell_type": "code",
   "execution_count": 12,
   "metadata": {},
   "outputs": [
    {
     "data": {
      "text/plain": [
       "Korea, Republic of    32\n",
       "India                 21\n",
       "China                 14\n",
       "Taiwan                10\n",
       "Singapore              5\n",
       "Thailand               3\n",
       "Malaysia               1\n",
       "Name: discharge_country, dtype: int64"
      ]
     },
     "execution_count": 12,
     "metadata": {},
     "output_type": "execute_result"
    }
   ],
   "source": [
    "voyages_exports_usg['discharge_country'].value_counts()"
   ]
  },
  {
   "cell_type": "markdown",
   "metadata": {},
   "source": [
    "### Port Delays"
   ]
  },
  {
   "cell_type": "code",
   "execution_count": 13,
   "metadata": {},
   "outputs": [],
   "source": [
    "discharges_china = historical_events[(historical_events['country']=='China')&(historical_events['purpose']=='Discharge')].copy()\n",
    "discharges_china['duration'] =  discharges_china['sailing_date'] - discharges_china['arrival_date']"
   ]
  },
  {
   "cell_type": "code",
   "execution_count": 14,
   "metadata": {},
   "outputs": [
    {
     "data": {
      "text/plain": [
       "count                          502\n",
       "mean     6 days 17:33:52.400760956\n",
       "std      7 days 03:28:37.457735556\n",
       "min                0 days 02:06:19\n",
       "25%         3 days 00:01:15.250000\n",
       "50%                4 days 08:00:19\n",
       "75%         7 days 00:06:48.750000\n",
       "max               79 days 15:54:45\n",
       "Name: duration, dtype: object"
      ]
     },
     "execution_count": 14,
     "metadata": {},
     "output_type": "execute_result"
    }
   ],
   "source": [
    "discharges_china['duration'].describe()"
   ]
  },
  {
   "cell_type": "code",
   "execution_count": 15,
   "metadata": {},
   "outputs": [],
   "source": [
    "discharges_china['duration_in_hours'] = discharges_china['duration'] / np.timedelta64(1, 'h')"
   ]
  },
  {
   "cell_type": "code",
   "execution_count": 16,
   "metadata": {},
   "outputs": [
    {
     "data": {
      "image/png": "[encoded data removed]",
      "text/plain": [
       "<Figure size 720x360 with 1 Axes>"
      ]
     },
     "metadata": {},
     "output_type": "display_data"
    }
   ],
   "source": [
    "common_discharge_ports_china = discharges_china['port_name'].value_counts().head(8)\n",
    "common_port_discharges_china = discharges_china[discharges_china['port_name'].isin(common_discharge_ports_china.index)]\n",
    "sns.catplot(x=\"port_name\", y=\"duration_in_hours\", kind=\"box\", data=common_port_discharges_china, aspect=2);"
   ]
  },
  {
   "cell_type": "code",
   "execution_count": 17,
   "metadata": {},
   "outputs": [
    {
     "data": {
      "image/png": "[encoded data removed]",
      "text/plain": [
       "<Figure size 432x288 with 1 Axes>"
      ]
     },
     "metadata": {},
     "output_type": "display_data"
    }
   ],
   "source": [
    "discharges_china['arrival_month'] = discharges_china['arrival_date'].dt.tz_localize(None).dt.to_period('M').dt.to_timestamp()\n",
    "sns.lineplot(data=discharges_china, x='arrival_month', y='duration_in_hours')\n",
    "plt.xticks(rotation=90);"
   ]
  },
  {
   "cell_type": "markdown",
   "metadata": {},
   "source": [
    "### Discharge destinations"
   ]
  },
  {
   "cell_type": "code",
   "execution_count": 18,
   "metadata": {},
   "outputs": [],
   "source": [
    "discharge_destinations_brazil = voyages[voyages['load_country']=='Brazil'].dropna(subset=['discharge_country'])"
   ]
  },
  {
   "cell_type": "code",
   "execution_count": 19,
   "metadata": {},
   "outputs": [
    {
     "data": {
      "text/plain": [
       "China                 46\n",
       "Korea, Republic of     5\n",
       "India                  4\n",
       "Singapore              3\n",
       "Japan                  1\n",
       "Name: discharge_country, dtype: int64"
      ]
     },
     "execution_count": 19,
     "metadata": {},
     "output_type": "execute_result"
    }
   ],
   "source": [
    "discharge_destinations_brazil['discharge_country'].value_counts()"
   ]
  },
  {
   "cell_type": "code",
   "execution_count": 20,
   "metadata": {},
   "outputs": [
    {
     "data": {
      "image/png": "[encoded data removed]",
      "text/plain": [
       "<Figure size 850.475x360 with 1 Axes>"
      ]
     },
     "metadata": {},
     "output_type": "display_data"
    }
   ],
   "source": [
    "sns.displot(discharge_destinations_brazil, x=\"start_date\", hue=\"discharge_country\", aspect=2);"
   ]
  },
  {
   "cell_type": "markdown",
   "metadata": {},
   "source": [
    "### Advanced Voyage Search: Discharge origins"
   ]
  },
  {
   "cell_type": "markdown",
   "metadata": {},
   "source": [
    "This use-case demonstrates how to utilise the advanced search endpoint to extract historical voyages by **vessel_class_id**, **first_load_arrival_date** and a specific **event_purpose**. The voyages with the provided purpose can then be merged and filtered with a specific *load_area* and *discharge_country* in order to visualize the vessel flows into the specified country."
   ]
  },
  {
   "cell_type": "code",
   "execution_count": 21,
   "metadata": {},
   "outputs": [],
   "source": [
    "vlcc_id = 84\n",
    "date_from = date.today() - timedelta(days=60)\n",
    "load_area = 'Arabian Gulf'\n",
    "discharge_country = 'Japan'"
   ]
  },
  {
   "cell_type": "code",
   "execution_count": 22,
   "metadata": {},
   "outputs": [],
   "source": [
    "voyages_load_events = api.get_voyages_by_advanced_search(vessel_class_id=vlcc_id, first_load_arrival_date_from=date_from,\n",
    "                                                    event_horizon='Historical', event_purpose='Load')\n",
    "\n",
    "voyages_discharge_events = api.get_voyages_by_advanced_search(vessel_class_id=vlcc_id, first_load_arrival_date_from=date_from,\n",
    "                                                    event_horizon='Historical', event_purpose='Discharge')"
   ]
  },
  {
   "cell_type": "code",
   "execution_count": 23,
   "metadata": {},
   "outputs": [],
   "source": [
    "voyages_load_events = pd.DataFrame(v.__dict__ for v in voyages_load_events)\n",
    "voyages_discharge_events = pd.DataFrame(v.__dict__ for v in voyages_discharge_events)"
   ]
  },
  {
   "cell_type": "code",
   "execution_count": 24,
   "metadata": {},
   "outputs": [],
   "source": [
    "def get_voyage_load_area(voyage_events):\n",
    "    return next((e.area_name_level0 for e in voyage_events or [] if e.purpose=='Load'), None)\n",
    "\n",
    "def get_voyage_load_country(voyage_events):\n",
    "    return next((e.country for e in voyage_events or [] if e.purpose=='Load'), None)\n",
    "\n",
    "def get_voyage_discharge_country(voyage_events):\n",
    "    return next((e.country for e in reversed(voyage_events or []) if e.purpose=='Discharge'), None)\n",
    "\n",
    "voyages_load_events['load_area'] = voyages_load_events['events'].apply(get_voyage_load_area)\n",
    "voyages_load_events['load_country'] = voyages_load_events['events'].apply(get_voyage_load_country)\n",
    "voyages_discharge_events['discharge_country'] = voyages_discharge_events['events'].apply(get_voyage_discharge_country)"
   ]
  },
  {
   "cell_type": "code",
   "execution_count": 25,
   "metadata": {},
   "outputs": [],
   "source": [
    "voyages_events_merged = voyages_load_events.merge(voyages_discharge_events[['id','discharge_country']], on='id', how='inner')"
   ]
  },
  {
   "cell_type": "code",
   "execution_count": 26,
   "metadata": {},
   "outputs": [],
   "source": [
    "voyages_filtered = voyages_events_merged.loc[(voyages_events_merged['load_area'] == load_area) & (voyages_events_merged['discharge_country'] == discharge_country)].reset_index(drop=True)"
   ]
  },
  {
   "cell_type": "code",
   "execution_count": 27,
   "metadata": {},
   "outputs": [
    {
     "data": {
      "image/png": "[encoded data removed]",
      "text/plain": [
       "<Figure size 864x360 with 1 Axes>"
      ]
     },
     "metadata": {},
     "output_type": "display_data"
    }
   ],
   "source": [
    "plt.rcParams[\"figure.figsize\"] = (12,5)\n",
    "ax = sns.countplot(x='load_country', data=voyages_filtered)\n",
    "\n",
    "ax.set_title(f'Vessel Flows ({discharge_country})', fontsize=14)\n",
    "ax.set_xlabel('Load Countries', fontsize=12)\n",
    "ax.set_ylabel('Vessel Counts', fontsize=12);"
   ]
  }
 ],
 "metadata": {
  "kernelspec": {
   "display_name": "Python 3",
   "language": "python",
   "name": "python3"
  },
  "language_info": {
   "codemirror_mode": {
    "name": "ipython",
    "version": 3
   },
   "file_extension": ".py",
   "mimetype": "text/x-python",
   "name": "python",
   "nbconvert_exporter": "python",
   "pygments_lexer": "ipython3",
   "version": "3.8.5"
  }
 },
 "nbformat": 4,
 "nbformat_minor": 4
}
