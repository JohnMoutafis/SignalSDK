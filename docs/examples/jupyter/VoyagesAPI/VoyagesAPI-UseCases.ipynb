{
 "cells": [
  {
   "cell_type": "markdown",
   "metadata": {
    "id": "RunkoKlaL_Tp"
   },
   "source": [
    "# Voyages API Use Cases\n",
    "\n",
    "## Run this example in [Colab](https://colab.research.google.com/github/SignalOceanSdk/SignalSDK/blob/master/docs/examples/jupyter/VoyagesAPI/VoyagesAPI-UseCases.ipynb)."
   ]
  },
  {
   "cell_type": "markdown",
   "metadata": {
    "id": "tvetzRuTL_Tz"
   },
   "source": [
    "## Setup\n",
    "Install the Signal Ocean SDK:\n",
    "```\n",
    "pip install signal-ocean\n",
    "```\n",
    "Set your subscription key acquired here: https://apis.signalocean.com/profile"
   ]
  },
  {
   "cell_type": "code",
   "execution_count": 1,
   "metadata": {
    "colab": {
     "base_uri": "https://localhost:8080/"
    },
    "id": "4wb6AffqL_T0",
    "outputId": "37343aa8-d409-409e-d74c-c301c0ea6c14"
   },
   "outputs": [],
   "source": [
    "!pip install signal-ocean"
   ]
  },
  {
   "cell_type": "code",
   "execution_count": 1,
   "metadata": {
    "id": "FXlMit3IL_T3"
   },
   "outputs": [],
   "source": [
    "signal_ocean_api_key = '6de2b1078a424f5cb70f571948fc4ba1' #replace with your subscription key"
   ]
  },
  {
   "cell_type": "markdown",
   "metadata": {
    "id": "Xndwt3UKL_T4"
   },
   "source": [
    "## Voyages API Use Cases\n"
   ]
  },
  {
   "cell_type": "code",
   "execution_count": 2,
   "metadata": {
    "id": "-O-dOZc6L_T5"
   },
   "outputs": [],
   "source": [
    "from signal_ocean import Connection\n",
    "from signal_ocean.voyages import VoyagesAPI\n",
    "from signal_ocean.voyages import Vessel, VesselFilter\n",
    "from signal_ocean.voyages import VesselType, VesselTypeFilter\n",
    "from signal_ocean.voyages import VesselClass, VesselClassFilter\n",
    "import pandas as pd\n",
    "import numpy as np\n",
    "from datetime import date, timedelta\n",
    "import seaborn as sns\n",
    "import matplotlib.pyplot as plt\n",
    "sns.set_theme()"
   ]
  },
  {
   "cell_type": "code",
   "execution_count": 3,
   "metadata": {
    "id": "_QcfK8D9L_T6"
   },
   "outputs": [],
   "source": [
    "connection = Connection(signal_ocean_api_key)\n",
    "api = VoyagesAPI(connection)"
   ]
  },
  {
   "cell_type": "markdown",
   "metadata": {
    "id": "_U357gdGL_T7"
   },
   "source": [
    "Declare helper functions"
   ]
  },
  {
   "cell_type": "code",
   "execution_count": 4,
   "metadata": {
    "id": "H6TLW9cvL_T8"
   },
   "outputs": [],
   "source": [
    "def get_voyage_load_area(voyage_events):\n",
    "    return next((e.area_name_level0 for e in voyage_events or [] if e.purpose=='Load'), None)\n",
    "\n",
    "def get_voyage_discharge_country(voyage_events):\n",
    "    return next((e.country for e in reversed(voyage_events or []) if e.purpose=='Discharge'), None)\n",
    "\n",
    "def get_voyage_load_country(voyage_events):\n",
    "    return next((e.country for e in voyage_events or [] if e.purpose=='Load'), None)"
   ]
  },
  {
   "cell_type": "markdown",
   "metadata": {
    "id": "KsSRjepML_T-"
   },
   "source": [
    "### Get voyages"
   ]
  },
  {
   "cell_type": "code",
   "execution_count": 5,
   "metadata": {
    "colab": {
     "base_uri": "https://localhost:8080/"
    },
    "id": "_4PtDkTwL_T_",
    "outputId": "0c3f88d5-77b4-4f00-abb1-07f96458921d"
   },
   "outputs": [
    {
     "data": {
      "text/plain": [
       "84"
      ]
     },
     "execution_count": 5,
     "metadata": {},
     "output_type": "execute_result"
    }
   ],
   "source": [
    "# get vessel class id for vlcc\n",
    "vessel_class = api.get_vessel_classes(VesselClassFilter('vlcc'))\n",
    "vlcc_id = vessel_class[0].vessel_class_id\n",
    "vlcc_id"
   ]
  },
  {
   "cell_type": "code",
   "execution_count": 6,
   "metadata": {
    "id": "eRLo-KCyNpPx"
   },
   "outputs": [],
   "source": [
    "date_from = date.today() - timedelta(days=180)"
   ]
  },
  {
   "cell_type": "code",
   "execution_count": 7,
   "metadata": {
    "id": "gEHxeCpZL_UA"
   },
   "outputs": [],
   "source": [
    "voyages = api.get_voyages(vessel_class_id=vlcc_id, date_from=date_from)"
   ]
  },
  {
   "cell_type": "code",
   "execution_count": 8,
   "metadata": {
    "id": "dBz3rg0ML_UB"
   },
   "outputs": [],
   "source": [
    "voyages = pd.DataFrame(v.__dict__ for v in voyages)\n",
    "events = pd.DataFrame(e.__dict__ for voyage_events in voyages['events'].dropna() for e in voyage_events)\n",
    "historical_events = events[events['event_horizon']=='Historical']"
   ]
  },
  {
   "cell_type": "code",
   "execution_count": 9,
   "metadata": {
    "id": "JCgd55eKL_UB"
   },
   "outputs": [],
   "source": [
    "voyages['load_area'] = voyages['events'].apply(get_voyage_load_area)\n",
    "voyages['discharge_country'] = voyages['events'].apply(get_voyage_discharge_country)\n",
    "voyages['load_country'] = voyages['events'].apply(get_voyage_load_country)"
   ]
  },
  {
   "cell_type": "markdown",
   "metadata": {
    "id": "hCJwVFD3L_UC"
   },
   "source": [
    "### Number of exporting voyages "
   ]
  },
  {
   "cell_type": "code",
   "execution_count": 10,
   "metadata": {
    "id": "cRBauKGwL_UD"
   },
   "outputs": [],
   "source": [
    "voyages_exports_usg = voyages[(voyages['load_area']=='US Gulf')&(voyages['discharge_country']!='United States')]"
   ]
  },
  {
   "cell_type": "code",
   "execution_count": 11,
   "metadata": {
    "id": "axw_sC1UL_UD",
    "outputId": "3f06d737-278e-41b2-b77f-cd771c1e6ca7"
   },
   "outputs": [
    {
     "data": {
      "text/plain": [
       "176"
      ]
     },
     "execution_count": 11,
     "metadata": {},
     "output_type": "execute_result"
    }
   ],
   "source": [
    "voyages_exports_usg.shape[0]"
   ]
  },
  {
   "cell_type": "code",
   "execution_count": 12,
   "metadata": {
    "id": "uTAQYfOkL_UF",
    "outputId": "41f0331a-4da7-4164-ad4d-d569d8638077"
   },
   "outputs": [
    {
     "data": {
      "text/plain": [
       "Korea, Republic of    44\n",
       "China                 29\n",
       "Netherlands           19\n",
       "India                 19\n",
       "Taiwan                15\n",
       "Singapore             15\n",
       "Germany                9\n",
       "France                 7\n",
       "Malaysia               4\n",
       "Sweden                 3\n",
       "Thailand               3\n",
       "United Kingdom         3\n",
       "Japan                  2\n",
       "Indonesia              1\n",
       "Canada                 1\n",
       "Greece                 1\n",
       "Norway                 1\n",
       "Name: discharge_country, dtype: int64"
      ]
     },
     "execution_count": 12,
     "metadata": {},
     "output_type": "execute_result"
    }
   ],
   "source": [
    "voyages_exports_usg['discharge_country'].value_counts()"
   ]
  },
  {
   "cell_type": "markdown",
   "metadata": {
    "id": "VC24S5lVL_UG"
   },
   "source": [
    "### Port Delays"
   ]
  },
  {
   "cell_type": "code",
   "execution_count": 13,
   "metadata": {
    "id": "wiIQUsM0L_UG"
   },
   "outputs": [],
   "source": [
    "discharges_china = historical_events[(historical_events['country']=='China')&(historical_events['purpose']=='Discharge')].copy()\n",
    "discharges_china['duration'] =  discharges_china['sailing_date'] - discharges_china['arrival_date']"
   ]
  },
  {
   "cell_type": "code",
   "execution_count": 14,
   "metadata": {
    "id": "0A-YMw8JL_UH",
    "outputId": "af73b6e1-6199-4a86-c083-92efba3cfd2c"
   },
   "outputs": [
    {
     "data": {
      "text/plain": [
       "count                          567\n",
       "mean     5 days 01:09:11.434761904\n",
       "std      3 days 09:38:37.560335102\n",
       "min                1 days 00:01:04\n",
       "25%         2 days 16:10:01.500000\n",
       "50%                4 days 00:03:15\n",
       "75%         6 days 12:05:44.500000\n",
       "max               27 days 12:11:04\n",
       "Name: duration, dtype: object"
      ]
     },
     "execution_count": 14,
     "metadata": {},
     "output_type": "execute_result"
    }
   ],
   "source": [
    "discharges_china['duration'].describe()"
   ]
  },
  {
   "cell_type": "code",
   "execution_count": 15,
   "metadata": {
    "id": "zztbi-bZL_UH"
   },
   "outputs": [],
   "source": [
    "discharges_china['duration_in_hours'] = discharges_china['duration'] / np.timedelta64(1, 'h')"
   ]
  },
  {
   "cell_type": "code",
   "execution_count": 16,
   "metadata": {
    "id": "l3BW-SdCL_UI",
    "outputId": "976a87b1-4444-4c6e-d086-0a865a61b530"
   },
   "outputs": [
    {
     "data": {
      "image/png": "[encoded data removed]",
      "text/plain": [
       "<Figure size 720x360 with 1 Axes>"
      ]
     },
     "metadata": {},
     "output_type": "display_data"
    }
   ],
   "source": [
    "common_discharge_ports_china = discharges_china['port_name'].value_counts().head(8)\n",
    "common_port_discharges_china = discharges_china[discharges_china['port_name'].isin(common_discharge_ports_china.index)]\n",
    "sns.catplot(x=\"port_name\", y=\"duration_in_hours\", kind=\"box\", data=common_port_discharges_china, aspect=2);"
   ]
  },
  {
   "cell_type": "code",
   "execution_count": 17,
   "metadata": {
    "id": "Eu9L09xuL_UJ",
    "outputId": "7ca18142-77c1-4e9f-cb26-e87220c09f7e"
   },
   "outputs": [
    {
     "data": {
      "image/png": "[encoded data removed]",
      "text/plain": [
       "<Figure size 432x288 with 1 Axes>"
      ]
     },
     "metadata": {},
     "output_type": "display_data"
    }
   ],
   "source": [
    "discharges_china['arrival_month'] = discharges_china['arrival_date'].dt.tz_localize(None).dt.to_period('M').dt.to_timestamp()\n",
    "sns.lineplot(data=discharges_china, x='arrival_month', y='duration_in_hours')\n",
    "plt.xticks(rotation=90);"
   ]
  },
  {
   "cell_type": "markdown",
   "metadata": {
    "id": "S58a6oyHL_UK"
   },
   "source": [
    "### Discharge destinations"
   ]
  },
  {
   "cell_type": "code",
   "execution_count": 18,
   "metadata": {
    "id": "hemUQXSFL_UK"
   },
   "outputs": [],
   "source": [
    "discharge_destinations_brazil = voyages[voyages['load_country']=='Brazil'].dropna(subset=['discharge_country'])"
   ]
  },
  {
   "cell_type": "code",
   "execution_count": 19,
   "metadata": {
    "id": "f2_SlDlvL_UL",
    "outputId": "440c0aef-7a85-449e-f586-f2ccece8bd7e"
   },
   "outputs": [
    {
     "data": {
      "text/plain": [
       "China                 64\n",
       "United States          7\n",
       "Singapore              4\n",
       "Korea, Republic of     4\n",
       "India                  3\n",
       "Portugal               2\n",
       "Malaysia               1\n",
       "South Africa           1\n",
       "Spain                  1\n",
       "Netherlands            1\n",
       "France                 1\n",
       "Panama                 1\n",
       "Name: discharge_country, dtype: int64"
      ]
     },
     "execution_count": 19,
     "metadata": {},
     "output_type": "execute_result"
    }
   ],
   "source": [
    "discharge_destinations_brazil['discharge_country'].value_counts()"
   ]
  },
  {
   "cell_type": "code",
   "execution_count": 20,
   "metadata": {
    "id": "SA3_Aa-PL_UL",
    "outputId": "959308d7-8390-4461-84d2-8bd3b551b431"
   },
   "outputs": [
    {
     "data": {
      "image/png": "[encoded data removed]",
      "text/plain": [
       "<Figure size 850.475x360 with 1 Axes>"
      ]
     },
     "metadata": {},
     "output_type": "display_data"
    }
   ],
   "source": [
    "sns.displot(discharge_destinations_brazil, x=\"start_date\", hue=\"discharge_country\", aspect=2);"
   ]
  },
  {
   "cell_type": "markdown",
   "metadata": {
    "id": "pP8TanobL_UM"
   },
   "source": [
    "### Advanced Voyage Search: Discharge origins"
   ]
  },
  {
   "cell_type": "markdown",
   "metadata": {
    "id": "dspHaosQL_UN"
   },
   "source": [
    "This use-case demonstrates how to utilise the advanced search endpoint to extract historical voyages by `vessel_class_id`, `first_load_arrival_date` and a specific `event_purpose`. The voyages with the provided purpose can then be merged and filtered with a specific `load_area` and `discharge_country` in order to visualize the vessel flows into the specified country."
   ]
  },
  {
   "cell_type": "code",
   "execution_count": 21,
   "metadata": {
    "colab": {
     "base_uri": "https://localhost:8080/"
    },
    "id": "OTbMUwP1OHCN",
    "outputId": "ae7e5a85-e70d-4d0d-a6ad-5ec948db3985"
   },
   "outputs": [
    {
     "data": {
      "text/plain": [
       "84"
      ]
     },
     "execution_count": 21,
     "metadata": {},
     "output_type": "execute_result"
    }
   ],
   "source": [
    "# get vessel class id for vlcc\n",
    "vessel_class = api.get_vessel_classes(VesselClassFilter('vlcc'))\n",
    "vlcc_id = vessel_class[0].vessel_class_id\n",
    "vlcc_id"
   ]
  },
  {
   "cell_type": "code",
   "execution_count": 22,
   "metadata": {
    "id": "3vSEb8A4L_UN"
   },
   "outputs": [],
   "source": [
    "date_from = date.today() - timedelta(days=60)\n",
    "load_area = 'Arabian Gulf'\n",
    "discharge_country = 'Japan'"
   ]
  },
  {
   "cell_type": "markdown",
   "metadata": {
    "id": "m1kQ5q7RL_UN"
   },
   "source": [
    "In the following cell we extract the voyages with an `event_purpose=\"Discharge\"`, which essentially looks up for all the voyages with *at least one discharge event*. This implies, due to the nature of the shipping pipeline, that load events are also included in the discharge call and can therefore be omitted."
   ]
  },
  {
   "cell_type": "code",
   "execution_count": 23,
   "metadata": {
    "id": "krv_r90CL_UO"
   },
   "outputs": [],
   "source": [
    "voyages = api.get_voyages_by_advanced_search(vessel_class_id=vlcc_id, first_load_arrival_date_from=date_from,\n",
    "                                                              event_horizon='Historical', event_purpose='Discharge')\n",
    "\n",
    "voyages = pd.DataFrame(v.__dict__ for v in voyages)"
   ]
  },
  {
   "cell_type": "code",
   "execution_count": 24,
   "metadata": {
    "id": "DrFTExgeL_UO"
   },
   "outputs": [],
   "source": [
    "voyages['load_area'] = voyages['events'].apply(get_voyage_load_area)\n",
    "voyages['load_country'] = voyages['events'].apply(get_voyage_load_country)\n",
    "voyages['discharge_country'] = voyages['events'].apply(get_voyage_discharge_country)"
   ]
  },
  {
   "cell_type": "code",
   "execution_count": 25,
   "metadata": {
    "id": "vy9vxwGLL_UP"
   },
   "outputs": [],
   "source": [
    "voyages_filtered = voyages.loc[(voyages['load_area'] == load_area) & (voyages['discharge_country'] == discharge_country)].reset_index(drop=True)"
   ]
  },
  {
   "cell_type": "code",
   "execution_count": 26,
   "metadata": {
    "id": "hSSHPqWJL_UP",
    "outputId": "b71bbd76-63ef-4dbf-b628-bb1df7fd7df9"
   },
   "outputs": [
    {
     "data": {
      "image/png": "[encoded data removed]",
      "text/plain": [
       "<Figure size 864x360 with 1 Axes>"
      ]
     },
     "metadata": {},
     "output_type": "display_data"
    }
   ],
   "source": [
    "fig, _ = plt.subplots(figsize=(12, 5))\n",
    "ax = sns.countplot(x='load_country', data=voyages_filtered)\n",
    "\n",
    "ax.set_title(f'Vessel Flows ({discharge_country})', fontsize=14)\n",
    "ax.set_xlabel('Load Countries', fontsize=12)\n",
    "ax.set_ylabel('Vessel Counts', fontsize=12);"
   ]
  },
  {
   "cell_type": "code",
   "execution_count": null,
   "metadata": {},
   "outputs": [],
   "source": []
  },
  {
   "cell_type": "code",
   "execution_count": null,
   "metadata": {},
   "outputs": [],
   "source": []
  }
 ],
 "metadata": {
  "colab": {
   "collapsed_sections": [],
   "name": "Copy of VoyagesAPI-UseCases.ipynb",
   "provenance": []
  },
  "interpreter": {
   "hash": "95abce3249c29cf4a4b213944cddc30e0b4ba417b2d2dc48eae924abf5e7309b"
  },
  "kernelspec": {
   "display_name": "Python 3 (ipykernel)",
   "language": "python",
   "name": "python3"
  },
  "language_info": {
   "codemirror_mode": {
    "name": "ipython",
    "version": 3
   },
   "file_extension": ".py",
   "mimetype": "text/x-python",
   "name": "python",
   "nbconvert_exporter": "python",
   "pygments_lexer": "ipython3",
   "version": "3.9.12"
  }
 },
 "nbformat": 4,
 "nbformat_minor": 1
}
