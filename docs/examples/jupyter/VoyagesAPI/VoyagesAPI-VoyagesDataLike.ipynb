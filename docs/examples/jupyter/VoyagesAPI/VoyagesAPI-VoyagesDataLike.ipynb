{
 "cells": [
  {
   "cell_type": "markdown",
   "metadata": {},
   "source": [
    "# Voyages API Voyages Like Use Case"
   ]
  },
  {
   "cell_type": "markdown",
   "metadata": {},
   "source": [
    "The purpose of this example is to produce an excel file similar to the output that a user of Signal Ocean platform would get if he/she downloaded the results of Voyages Data Dashboard https://www.signalocean.com/"
   ]
  },
  {
   "cell_type": "markdown",
   "metadata": {},
   "source": [
    "## Setup\n",
    "Install the Signal Ocean SDK:\n",
    "```\n",
    "pip install signal-ocean\n",
    "```\n",
    "Set your subscription key acquired here: https://apis.signalocean.com/profile"
   ]
  },
  {
   "cell_type": "code",
   "execution_count": 1,
   "metadata": {},
   "outputs": [],
   "source": [
    "signal_ocean_api_key = '' #replace with your subscription key"
   ]
  },
  {
   "cell_type": "code",
   "execution_count": 3,
   "metadata": {},
   "outputs": [],
   "source": [
    "from signal_ocean import Connection\n",
    "from signal_ocean.voyages import VoyagesAPI\n",
    "import pandas as pd\n",
    "import numpy as np\n",
    "from datetime import date, timedelta\n",
    "import datetime as dt"
   ]
  },
  {
   "cell_type": "code",
   "execution_count": 4,
   "metadata": {},
   "outputs": [],
   "source": [
    "connection = Connection(signal_ocean_api_key)\n",
    "api = VoyagesAPI(connection)"
   ]
  },
  {
   "cell_type": "markdown",
   "metadata": {},
   "source": [
    "### Get voyages"
   ]
  },
  {
   "cell_type": "code",
   "execution_count": 5,
   "metadata": {},
   "outputs": [],
   "source": [
    "vlcc_id = 84\n",
    "date_from = date.today() - timedelta(days=100)"
   ]
  },
  {
   "cell_type": "markdown",
   "metadata": {},
   "source": [
    "For this example we will also need a relaxed_date_from variable in order to increase the chances of retrieving the attributes concerning the opening of the vessel. More specifically while someone may be interested in the voyages of the last X months for a specific vessel class, the opening info of the first voyage of each vessel are equivalent to the one of the last discharge of the previous voyage of the same vessel.For this reason we should be confident that the previous voyage is retrieved as well."
   ]
  },
  {
   "cell_type": "code",
   "execution_count": 6,
   "metadata": {},
   "outputs": [],
   "source": [
    "relaxed_date_from = date_from - timedelta(days=360)\n",
    "voyages = api.get_voyages(vessel_class_id=vlcc_id, date_from=relaxed_date_from)"
   ]
  },
  {
   "cell_type": "code",
   "execution_count": 7,
   "metadata": {},
   "outputs": [],
   "source": [
    "voyages = pd.DataFrame(v.__dict__ for v in voyages)\n",
    "events = pd.DataFrame(e.__dict__ for voyage_events in voyages['events'].dropna() for e in voyage_events)"
   ]
  },
  {
   "cell_type": "code",
   "execution_count": 8,
   "metadata": {},
   "outputs": [],
   "source": [
    "for col in voyages.columns.tolist():\n",
    "    if str(voyages[col].dtypes) =='datetime64[ns, UTC]':\n",
    "        voyages[col] = pd.to_datetime(voyages[col].astype(str).str[:-6])"
   ]
  },
  {
   "cell_type": "code",
   "execution_count": 9,
   "metadata": {},
   "outputs": [],
   "source": [
    "voyages_of_interest = voyages[voyages['start_date'] >= pd.to_datetime(date_from)].copy()"
   ]
  },
  {
   "cell_type": "code",
   "execution_count": 10,
   "metadata": {},
   "outputs": [],
   "source": [
    "voyages.reset_index(inplace=True)"
   ]
  },
  {
   "cell_type": "code",
   "execution_count": 11,
   "metadata": {},
   "outputs": [],
   "source": [
    "voyage_ids = voyages.set_index(['imo', 'voyage_number'])['id'].to_dict()\n",
    "previous_voyage_id = {voyage_id: voyage_ids[(imo, voyage_number-1)] \n",
    "                  for voyage_id, imo, voyage_number in voyages[['id', 'imo', 'voyage_number']].values \n",
    "                  if (imo, voyage_number-1) in voyage_ids}\n",
    "voyages_of_interest['prev_id'] = voyages.id.map(previous_voyage_id)\n",
    "voyages.set_index('id',inplace=True)"
   ]
  },
  {
   "cell_type": "code",
   "execution_count": 12,
   "metadata": {},
   "outputs": [],
   "source": [
    "def get_opening_event(id_of_prev_voy):\n",
    "    return next((e.__dict__ for e in reversed(voyages.loc[id_of_prev_voy].events or []) if e.purpose=='Discharge'),None)\n",
    "    \n",
    "voyages_of_interest.loc[voyages_of_interest.prev_id.notna(),'opening_event'] = \\\n",
    "voyages_of_interest.loc[voyages_of_interest.prev_id.notna(),'prev_id'].apply(get_opening_event)\n",
    "\n",
    "voy_df_for_iterations = voyages_of_interest.dropna(axis=0, subset=['prev_id'])\n",
    "\n",
    "voyages_of_interest.loc[voyages_of_interest.prev_id.notna(),'open_port'] = \\\n",
    "[ event['port_name'] for event in voy_df_for_iterations.opening_event]\n",
    "\n",
    "voyages_of_interest.loc[voyages_of_interest.prev_id.notna(),'narrow_area'] = \\\n",
    "[ event['area_name_level0'] for event in voy_df_for_iterations.opening_event]\n",
    "\n",
    "voyages_of_interest.loc[voyages_of_interest.prev_id.notna(),'wide_area'] = \\\n",
    "[ event['area_name_level2'] for event in voy_df_for_iterations.opening_event]\n",
    "\n",
    "voyages_of_interest.loc[voyages_of_interest.prev_id.notna(),'area'] = \\\n",
    "[ event['area_name_level1'] for event in voy_df_for_iterations.opening_event]\n",
    "\n",
    "voyages_of_interest.loc[voyages_of_interest.prev_id.notna(),'starting_port_sail_date'] = \\\n",
    "[ event['sailing_date'] for event in voy_df_for_iterations.opening_event]\n",
    "\n",
    "voyages_of_interest.loc[voyages_of_interest.prev_id.notna(),'starting_port_longitude'] = \\\n",
    "[ event['longitude'] for event in voy_df_for_iterations.opening_event]\n",
    "\n",
    "voyages_of_interest.loc[voyages_of_interest.prev_id.notna(),'starting_port_lantitude'] = \\\n",
    "[ event['latitude'] for event in voy_df_for_iterations.opening_event]"
   ]
  },
  {
   "cell_type": "code",
   "execution_count": 13,
   "metadata": {},
   "outputs": [],
   "source": [
    "def get_load_event(voyage_events):\n",
    "    return next((e.__dict__ for e in voyage_events or [] if e.purpose=='Load'), None)\n",
    "\n",
    "voyages_of_interest['load_event'] = voyages_of_interest['events'].apply(get_load_event)\n",
    "voy_df_for_iterations = voyages_of_interest.dropna(axis=0, subset=['load_event'])\n",
    "\n",
    "voyages_of_interest.loc[voyages_of_interest.load_event.notna(),'load_port'] = \\\n",
    "[ event['port_name'] for event in voy_df_for_iterations.load_event]\n",
    "\n",
    "voyages_of_interest.loc[voyages_of_interest.load_event.notna(),'load_country'] = \\\n",
    "[ event['country'] for event in voy_df_for_iterations.load_event]\n",
    "\n",
    "voyages_of_interest.loc[voyages_of_interest.load_event.notna(),'load_port_arrival_date'] = \\\n",
    "[ event['arrival_date'] for event in voy_df_for_iterations.load_event]\n",
    "\n",
    "voyages_of_interest.loc[voyages_of_interest.load_event.notna(),'load_port_sailing_date'] = \\\n",
    "[ event['sailing_date'] for event in voy_df_for_iterations.load_event]\n",
    "\n",
    "voyages_of_interest.loc[voyages_of_interest.load_event.notna(),'load_port_narrow_area'] = \\\n",
    "[ event['area_name_level0'] for event in voy_df_for_iterations.load_event]\n",
    "\n",
    "voyages_of_interest.loc[voyages_of_interest.load_event.notna(),'load_port_wider_area'] = \\\n",
    "[ event['area_name_level2'] for event in voy_df_for_iterations.load_event]\n",
    "\n",
    "voyages_of_interest.loc[voyages_of_interest.load_event.notna(),'load_port_area'] = \\\n",
    "[ event['area_name_level1'] for event in voy_df_for_iterations.load_event]\n",
    "\n",
    "voyages_of_interest.loc[voyages_of_interest.load_event.notna(),'load_port_longitude'] = \\\n",
    "[ event['longitude'] for event in voy_df_for_iterations.load_event]\n",
    "\n",
    "voyages_of_interest.loc[voyages_of_interest.load_event.notna(),'load_port_latitude'] = \\\n",
    "[ event['latitude'] for event in voy_df_for_iterations.load_event]\n",
    "\n",
    "voyages_of_interest.loc[voyages_of_interest.load_event.notna(),'predicted_l'] = \\\n",
    "[ event['event_horizon'] for event in voy_df_for_iterations.load_event]"
   ]
  },
  {
   "cell_type": "code",
   "execution_count": 14,
   "metadata": {},
   "outputs": [],
   "source": [
    "def get_discharge_event(voyage_events):\n",
    "    return next((e.__dict__ for e in reversed(voyage_events or []) if e.purpose=='Discharge'), None)\n",
    "\n",
    "voyages_of_interest['discharge_event'] = voyages_of_interest['events'].apply(get_discharge_event)\n",
    "voy_df_for_iterations = voyages_of_interest.dropna(axis=0, subset=['discharge_event'])\n",
    "\n",
    "voyages_of_interest.loc[voyages_of_interest.discharge_event.notna(),'discharge_port'] = \\\n",
    "[ event['port_name'] for event in voy_df_for_iterations.discharge_event]\n",
    "\n",
    "voyages_of_interest.loc[voyages_of_interest.discharge_event.notna(),'discharge_country'] = \\\n",
    "[ event['country'] for event in voy_df_for_iterations.discharge_event]\n",
    "\n",
    "voyages_of_interest.loc[voyages_of_interest.discharge_event.notna(),'discharge_port_arrival_date'] = \\\n",
    "[ event['arrival_date'] for event in voy_df_for_iterations.discharge_event]\n",
    "\n",
    "voyages_of_interest.loc[voyages_of_interest.discharge_event.notna(),'discharge_port_sailing_date'] = \\\n",
    "[ event['sailing_date'] for event in voy_df_for_iterations.discharge_event]\n",
    "\n",
    "voyages_of_interest.loc[voyages_of_interest.discharge_event.notna(),'discharge_port_narrow_area'] = \\\n",
    "[ event['area_name_level0'] for event in voy_df_for_iterations.discharge_event]\n",
    "\n",
    "voyages_of_interest.loc[voyages_of_interest.discharge_event.notna(),'discharge_port_wider_area'] = \\\n",
    "[ event['area_name_level2'] for event in voy_df_for_iterations.discharge_event]\n",
    "\n",
    "voyages_of_interest.loc[voyages_of_interest.discharge_event.notna(),'discharge_port_area'] = \\\n",
    "[ event['area_name_level1'] for event in voy_df_for_iterations.discharge_event]\n",
    "\n",
    "voyages_of_interest.loc[voyages_of_interest.discharge_event.notna(),'discharge_port_longitude'] = \\\n",
    "[ event['longitude'] for event in voy_df_for_iterations.discharge_event]\n",
    "\n",
    "voyages_of_interest.loc[voyages_of_interest.discharge_event.notna(),'discharge_port_latitude'] = \\\n",
    "[ event['latitude'] for event in voy_df_for_iterations.discharge_event]\n",
    "\n",
    "voyages_of_interest.loc[voyages_of_interest.discharge_event.notna(),'predicted_d'] = \\\n",
    "[ event['event_horizon'] for event in voy_df_for_iterations.discharge_event]"
   ]
  },
  {
   "cell_type": "code",
   "execution_count": 15,
   "metadata": {},
   "outputs": [
    {
     "data": {
      "text/plain": [
       "True"
      ]
     },
     "execution_count": 15,
     "metadata": {},
     "output_type": "execute_result"
    }
   ],
   "source": [
    "#validation that we do not have opening event only for the voyages that do not have prev voyage\n",
    "voyages_of_interest.opening_event.isna().sum() == voyages_of_interest.prev_id.isna().sum()"
   ]
  },
  {
   "cell_type": "code",
   "execution_count": 16,
   "metadata": {},
   "outputs": [],
   "source": [
    "def get_last_discharge_port(voyage):\n",
    "    if not voyage['discharge_event']:\n",
    "        return voyage['open_port']\n",
    "    else:\n",
    "        return next((e.port_name for e in reversed(voyage['events'][:-2] or []) if e.purpose=='Discharge'), None)\n",
    "    \n",
    "voyages_of_interest['last_discharge_port'] = voyages_of_interest.apply(get_last_discharge_port, axis=1)"
   ]
  },
  {
   "cell_type": "code",
   "execution_count": 17,
   "metadata": {},
   "outputs": [],
   "source": [
    "def get_last_3_months_ind(laycan_from):\n",
    "    if not pd.isnull(laycan_from):\n",
    "        laycan_from = pd.to_datetime(laycan_from)\n",
    "        return 1 if ((laycan_from.date()-date.today()).days<4*30) else 0\n",
    "    else:\n",
    "        return 0\n",
    "    \n",
    "voyages['last_3_months_ind'] = voyages['laycan_from'].apply(get_last_3_months_ind)"
   ]
  },
  {
   "cell_type": "code",
   "execution_count": 18,
   "metadata": {},
   "outputs": [],
   "source": [
    "def get_sts_load_ind(load_event):\n",
    "    return next((1 for d in load_event[\"event_details\"] or [] if d.event_detail_type =='StS'), 0)\n",
    "\n",
    "def get_sts_discharge_ind(discharge_event):\n",
    "    return next((1 for d in discharge_event[\"event_details\"] or [] if d.event_detail_type =='StS'), 0)\n",
    "\n",
    "\n",
    "voyages_of_interest.loc[voyages_of_interest.discharge_event.notna(),'sts_discharge_ind'] = \\\n",
    "voyages_of_interest.loc[voyages_of_interest.discharge_event.notna(),'discharge_event'].apply(get_sts_discharge_ind)\n",
    "voyages_of_interest.loc[voyages_of_interest.discharge_event.notna(),'sts_load_ind'] = \\\n",
    "voyages_of_interest.loc[voyages_of_interest.discharge_event.notna(),'load_event'].apply(get_sts_load_ind)"
   ]
  },
  {
   "cell_type": "code",
   "execution_count": 19,
   "metadata": {},
   "outputs": [],
   "source": [
    "vessel_status_dict = {\n",
    "    1:\"Voyage\", 2:\"Breaking\", 3:\"Domestic Trade\", 4:\"FPSO\", 5:\"FPSO Conversion\", \n",
    "    6:\"Inactive\", 7:\"Storage Vessel\", 9:\"Conversion\"\n",
    "}\n",
    "voyages_of_interest['vessel_status'] = voyages_of_interest.vessel_status_id.replace(vessel_status_dict)"
   ]
  },
  {
   "cell_type": "code",
   "execution_count": null,
   "metadata": {},
   "outputs": [],
   "source": []
  },
  {
   "cell_type": "code",
   "execution_count": 20,
   "metadata": {},
   "outputs": [],
   "source": [
    "unwanted_columns = ['vessel_class_id',\n",
    "                    'vessel_status_id',\n",
    "                    'commercial_operator_id',\n",
    "                    'deleted',\n",
    "                    'events',\n",
    "                    'trade_id',\n",
    "                    'vessel_status',\n",
    "                    'start_date',\n",
    "                    'end_date',\n",
    "                    'charterer_id',\n",
    "                    'ballast_bonus',\n",
    "                    'ballast_bonus_type',\n",
    "                    'cargo_type_id',\n",
    "                    'cargo_group_id',\n",
    "                    'cargo_type_source'\n",
    "                   ]\n",
    "\n",
    "voyages_of_interest.drop(unwanted_columns,axis=1,inplace=True)"
   ]
  },
  {
   "cell_type": "code",
   "execution_count": 21,
   "metadata": {},
   "outputs": [],
   "source": [
    "voyages_of_interest.to_excel('voyages_data_likeV2.xlsx')"
   ]
  }
 ],
 "metadata": {
  "kernelspec": {
   "display_name": "Python 3",
   "language": "python",
   "name": "python3"
  },
  "language_info": {
   "codemirror_mode": {
    "name": "ipython",
    "version": 3
   },
   "file_extension": ".py",
   "mimetype": "text/x-python",
   "name": "python",
   "nbconvert_exporter": "python",
   "pygments_lexer": "ipython3",
   "version": "3.8.5"
  }
 },
 "nbformat": 4,
 "nbformat_minor": 4
}
