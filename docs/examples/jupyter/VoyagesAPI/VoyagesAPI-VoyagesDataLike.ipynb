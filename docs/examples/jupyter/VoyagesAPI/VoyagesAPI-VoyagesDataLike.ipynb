{
 "cells": [
  {
   "cell_type": "markdown",
   "metadata": {},
   "source": [
    "# Voyages API Voyages Like Use Case"
   ]
  },
  {
   "cell_type": "markdown",
   "metadata": {},
   "source": [
    "A Voyage is defined to be a sequence of Load operations followed by a sequence of Discharges. Users of **Signal Ocean Platform** interface with the concept of a voyage in different levels of detail. For example in the Voyages tab of Vessels Data (https://app.signalocean.com/vessels) users can see  all the operations of a voyage even at jetty level.  \n",
    "However very often arises the need of conducting an analysis of the voyages for a specific vessel class for a specific time window. This need is accommodated by the  **Voyages Data Dashboard** (https://app.signalocean.com/reportsindex/voyagesdatalive).  "
   ]
  },
  {
   "cell_type": "markdown",
   "metadata": {},
   "source": [
    "The level of detail provided by the Voyages Data Dashboard has been tailored, having in mind the neccessary information needed to carry out such an analysis without being overwhelmed by the full data provided by Signal Ocean Platform regarding the voyages of the vessels.  "
   ]
  },
  {
   "cell_type": "markdown",
   "metadata": {},
   "source": [
    "While both ```get_voyages``` and ``get_voyages_flat`` functions of the Signal SDK return the full low level data available, in this example we are going to construct a dataframe that resembles the form of ***Voyages Data Dashboard***"
   ]
  },
  {
   "cell_type": "markdown",
   "metadata": {},
   "source": [
    "## Setup\n",
    "Install the Signal Ocean SDK:\n",
    "```\n",
    "pip install signal-ocean\n",
    "```\n",
    "Set your subscription key acquired here: https://apis.signalocean.com/profile"
   ]
  },
  {
   "cell_type": "code",
   "execution_count": 1,
   "metadata": {},
   "outputs": [],
   "source": [
    "signal_ocean_api_key = '' #replace with your subscription key"
   ]
  },
  {
   "cell_type": "code",
   "execution_count": 2,
   "metadata": {},
   "outputs": [],
   "source": [
    "from signal_ocean import Connection\n",
    "from signal_ocean.voyages import VoyagesAPI\n",
    "import pandas as pd\n",
    "import numpy as np\n",
    "from datetime import date, timedelta, datetime, timezone\n",
    "import datetime as dt"
   ]
  },
  {
   "cell_type": "code",
   "execution_count": 3,
   "metadata": {},
   "outputs": [],
   "source": [
    "connection = Connection(signal_ocean_api_key)\n",
    "api = VoyagesAPI(connection)"
   ]
  },
  {
   "cell_type": "markdown",
   "metadata": {},
   "source": [
    "### Get voyages"
   ]
  },
  {
   "cell_type": "code",
   "execution_count": 4,
   "metadata": {},
   "outputs": [],
   "source": [
    "vlcc_id = 84\n",
    "date_from = datetime.now(timezone.utc) - timedelta(days=365)"
   ]
  },
  {
   "cell_type": "code",
   "execution_count": null,
   "metadata": {},
   "outputs": [],
   "source": [
    "voyages = api.get_voyages(vessel_class_id=vlcc_id, date_from=date_from)"
   ]
  },
  {
   "cell_type": "code",
   "execution_count": null,
   "metadata": {},
   "outputs": [],
   "source": [
    "voyages = pd.DataFrame(v.__dict__ for v in voyages)\n",
    "events = pd.DataFrame(e.__dict__ for voyage_events in voyages['events'].dropna() for e in voyage_events)"
   ]
  },
  {
   "cell_type": "code",
   "execution_count": null,
   "metadata": {},
   "outputs": [],
   "source": [
    "def get_load_discharge_events(voyage_events):\n",
    "    load_event = next((e.__dict__ for e in voyage_events or [] if e.purpose=='Load'), None)\n",
    "    discharge_event = next((e.__dict__ for e in voyage_events or [] if e.purpose=='Load'), None)\n",
    "    return pd.Series((load_event, discharge_event))\n",
    "    \n",
    "voyages[['load_event','discharge_event']] = voyages['events'].apply(get_load_discharge_events)"
   ]
  },
  {
   "cell_type": "code",
   "execution_count": null,
   "metadata": {},
   "outputs": [],
   "source": [
    "mapping_dict = {'port_name':['load_port','discharge_port'],\n",
    "                'area_name_level0':['load_port_narrow_area','discharge_port_narrow_area'], \n",
    "                'area_name_level2':['load_port_wide_area','discharge_port_wide_area'], \n",
    "                'area_name_level1':['load_port_area','discharge_port_area'], \n",
    "                'sailing_date':['load_port_sailing_date','discharge_port_sailing_date'], \n",
    "                'longitude':['load_port_longitude','discharge_port_longitude'], \n",
    "                'latitude':['load_port_latitude','discharge_port_latitude'],\n",
    "                'event_horizon':['load_horizon','discharge_horizon']}\n",
    "\n",
    "events = {0:'load_event',1:'discharge_event'}"
   ]
  },
  {
   "cell_type": "code",
   "execution_count": null,
   "metadata": {
    "scrolled": true
   },
   "outputs": [],
   "source": [
    "for feature,targets in mapping_dict.items():\n",
    "    for num,target in enumerate(targets):\n",
    "        voyages[target] = voyages[events[num]].apply(lambda e: e[feature] if isinstance(e,dict) else None)"
   ]
  },
  {
   "cell_type": "code",
   "execution_count": null,
   "metadata": {},
   "outputs": [],
   "source": [
    "def get_last_discharge_port(voyage):\n",
    "    return next((e.port_name for e in reversed(voyage['events'][:-2] or []) if e.purpose=='Discharge'), None)\n",
    "    \n",
    "voyages['last_discharge_port'] = voyages.apply(get_last_discharge_port, axis=1)"
   ]
  },
  {
   "cell_type": "code",
   "execution_count": null,
   "metadata": {},
   "outputs": [],
   "source": [
    "def get_last_3_months_ind(laycan_from):\n",
    "    if not pd.isnull(laycan_from):\n",
    "        laycan_from = pd.to_datetime(laycan_from)\n",
    "        return 1 if ((laycan_from.date()-date.today()).days<4*30) else 0\n",
    "    else:\n",
    "        return 0\n",
    "    \n",
    "voyages['last_3_months_ind'] = voyages['laycan_from'].apply(get_last_3_months_ind)"
   ]
  },
  {
   "cell_type": "code",
   "execution_count": null,
   "metadata": {},
   "outputs": [],
   "source": [
    "def get_sts_load_ind(load_event):\n",
    "    return next((1 for d in load_event[\"event_details\"] or [] if d.event_detail_type =='StS'), 0)\n",
    "\n",
    "def get_sts_discharge_ind(discharge_event):\n",
    "    return next((1 for d in discharge_event[\"event_details\"] or [] if d.event_detail_type =='StS'), 0)\n",
    "\n",
    "\n",
    "voyages.loc[voyages.discharge_event.notna(),'sts_discharge_ind'] = \\\n",
    "voyages.loc[voyages.discharge_event.notna(),'discharge_event'].apply(get_sts_discharge_ind)\n",
    "voyages.loc[voyages.discharge_event.notna(),'sts_load_ind'] = \\\n",
    "voyages.loc[voyages.discharge_event.notna(),'load_event'].apply(get_sts_load_ind)"
   ]
  },
  {
   "cell_type": "code",
   "execution_count": null,
   "metadata": {},
   "outputs": [],
   "source": [
    "vessel_status_dict = {\n",
    "    1:\"Voyage\", 2:\"Breaking\", 3:\"Domestic Trade\", 4:\"FPSO\", 5:\"FPSO Conversion\", \n",
    "    6:\"Inactive\", 7:\"Storage Vessel\", 9:\"Conversion\"\n",
    "}\n",
    "voyages['vessel_status'] = voyages.vessel_status_id.replace(vessel_status_dict)"
   ]
  },
  {
   "cell_type": "code",
   "execution_count": null,
   "metadata": {},
   "outputs": [],
   "source": [
    "wanted_columns = ['imo',\n",
    "                  'voyage_number',\n",
    "                  'vessel_type_id',\n",
    "                  'vessel_name',\n",
    "                  'vessel_type',\n",
    "                  'vessel_class',\n",
    "                  'trade',\n",
    "                  'commercial_operator',\n",
    "                  'charterer',\n",
    "                  'rate',\n",
    "                  'rate_type',\n",
    "                  'cargo_type',\n",
    "                  'cargo_group',\n",
    "                  'quantity',\n",
    "                  'laycan_from',\n",
    "                  'laycan_to',\n",
    "                  'fixture_status_id',\n",
    "                  'fixture_status',\n",
    "                  'fixture_date',\n",
    "                  'fixture_is_coa',\n",
    "                  'fixture_is_hold',\n",
    "                  'load_port',\n",
    "                  'discharge_port',\n",
    "                  'load_port_narrow_area',\n",
    "                  'discharge_port_narrow_area',\n",
    "                  'load_port_wide_area',\n",
    "                  'discharge_port_wide_area',\n",
    "                  'load_port_area',\n",
    "                  'discharge_port_area',\n",
    "                  'load_port_sailing_date',\n",
    "                  'discharge_port_sailing_date',\n",
    "                  'load_port_longitude',\n",
    "                  'discharge_port_longitude',\n",
    "                  'load_port_latitude',\n",
    "                  'discharge_port_latitude',\n",
    "                  'sts_discharge_ind',\n",
    "                  'sts_load_ind',\n",
    "                  'load_horizon',\n",
    "                  'discharge_horizon']\n",
    "\n",
    "voyages = voyages[wanted_columns]"
   ]
  },
  {
   "cell_type": "code",
   "execution_count": null,
   "metadata": {},
   "outputs": [],
   "source": [
    "voyages = voyages.astype(\n",
    "                        {\n",
    "                            'laycan_from':'datetime64[ns]', \n",
    "                            'laycan_to':'datetime64[ns]',\n",
    "                            'fixture_date':'datetime64[ns]',\n",
    "                            'laycan_to':'datetime64[ns]',\n",
    "                            'fixture_date':'datetime64[ns]',\n",
    "                            'load_port_sailing_date':'datetime64[ns]',\n",
    "                            'discharge_port_sailing_date':'datetime64[ns]'\n",
    "                        })"
   ]
  },
  {
   "cell_type": "code",
   "execution_count": null,
   "metadata": {},
   "outputs": [],
   "source": [
    "voyages.to_excel('voyages_data.xlsx')"
   ]
  },
  {
   "cell_type": "code",
   "execution_count": null,
   "metadata": {},
   "outputs": [],
   "source": []
  },
  {
   "cell_type": "code",
   "execution_count": null,
   "metadata": {},
   "outputs": [],
   "source": []
  }
 ],
 "metadata": {
  "kernelspec": {
   "display_name": "Python 3",
   "language": "python",
   "name": "python3"
  },
  "language_info": {
   "codemirror_mode": {
    "name": "ipython",
    "version": 3
   },
   "file_extension": ".py",
   "mimetype": "text/x-python",
   "name": "python",
   "nbconvert_exporter": "python",
   "pygments_lexer": "ipython3",
   "version": "3.8.5"
  }
 },
 "nbformat": 4,
 "nbformat_minor": 4
}
