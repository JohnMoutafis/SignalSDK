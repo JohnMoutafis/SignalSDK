{
 "cells": [
  {
   "cell_type": "markdown",
   "metadata": {
    "id": "XGIw6V8XBc-w"
   },
   "source": [
    "# Port Congestion in China (Capes)"
   ]
  },
  {
   "cell_type": "markdown",
   "metadata": {
    "id": "Gr4mWUgyBc-1"
   },
   "source": [
    "## Setup\n",
    "- Install the Signal Ocean SDK:"
   ]
  },
  {
   "cell_type": "code",
   "execution_count": 1,
   "metadata": {
    "id": "-FntgVFqBc-1"
   },
   "outputs": [],
   "source": [
    "%%capture\n",
    "!pip install signal-ocean"
   ]
  },
  {
   "cell_type": "markdown",
   "metadata": {
    "id": "ZfZ7n2ckEL9M"
   },
   "source": [
    "- Get your personal Signal Ocean API subscription key (acquired [here](https://apis.signalocean.com/profile)) and replace it below:"
   ]
  },
  {
   "cell_type": "code",
   "execution_count": 2,
   "metadata": {
    "id": "-PBKXA9YBc-3"
   },
   "outputs": [],
   "source": [
    "signal_ocean_api_key = \"\"  # replace with your subscription key\n",
    "\n",
    "from signal_ocean import Connection\n",
    "connection = Connection(signal_ocean_api_key)"
   ]
  },
  {
   "cell_type": "markdown",
   "metadata": {
    "id": "6_JisR96Bc-6"
   },
   "source": [
    "## Import all required modules"
   ]
  },
  {
   "cell_type": "code",
   "execution_count": 3,
   "metadata": {
    "id": "a2rFRK72Bc-7"
   },
   "outputs": [],
   "source": [
    "from signal_ocean import Connection\n",
    "from signal_ocean.voyages import VoyagesAPI\n",
    "\n",
    "import pandas as pd\n",
    "pd.set_option('display.max_columns', None)\n",
    "\n",
    "import numpy as np\n",
    "from datetime import date, datetime, timedelta\n",
    "from dateutil.relativedelta import relativedelta\n",
    "from functools import reduce\n",
    "import plotly.express as px\n",
    "\n",
    "# Create instances of APIs used throughout this notebook:\n",
    "connection = Connection(signal_ocean_api_key)\n",
    "voyages_api = VoyagesAPI(connection)"
   ]
  },
  {
   "cell_type": "markdown",
   "metadata": {
    "id": "065ftLkBBc-8"
   },
   "source": [
    "## Get the relevant Data (Voyages Data API)"
   ]
  },
  {
   "cell_type": "markdown",
   "metadata": {
    "id": "GgZaKl9GBc-8"
   },
   "source": [
    "- Define the Voyages Data parameters"
   ]
  },
  {
   "cell_type": "code",
   "execution_count": 4,
   "metadata": {
    "id": "fKFZZdJ3Bc--"
   },
   "outputs": [],
   "source": [
    "# Vessel Class\n",
    "vessel_class_id = 70\n",
    "\n",
    "# Port/Areas of interest,\n",
    "port = 'Qingdao'\n",
    "areas = ['Central China','North China','South China']\n",
    "\n",
    "# Start date for Port Congestion Calculation (Last 6 months)\n",
    "congestion_start_date = date.today() - relativedelta(months=6)"
   ]
  },
  {
   "cell_type": "markdown",
   "metadata": {
    "id": "GRT_YtWyBc-_"
   },
   "source": [
    "Voyages Data API allows users to retrieve voyages based on voyage start date.   \n",
    "Since we need all the port calls of the last six months to calculate the congestion, we will have to retrieve voyages that started earlier that congestion_start_date."
   ]
  },
  {
   "cell_type": "code",
   "execution_count": 5,
   "metadata": {
    "id": "pgEnK4S8Bc-_"
   },
   "outputs": [],
   "source": [
    "voyages_start_date = congestion_start_date - relativedelta(months=4)\n",
    "\n",
    "voyages_flat = voyages_api.get_voyages_flat(\n",
    "    vessel_class_id=vessel_class_id, date_from=voyages_start_date\n",
    ")"
   ]
  },
  {
   "cell_type": "code",
   "execution_count": 6,
   "metadata": {
    "id": "dLWOtZ85Bc-_"
   },
   "outputs": [],
   "source": [
    "voyages_df = pd.DataFrame(v.__dict__ for v in voyages_flat.voyages)\n",
    "events_df = pd.DataFrame(v.__dict__ for v in voyages_flat.events)\n",
    "events_details_df = pd.DataFrame(v.__dict__ for v in voyages_flat.event_details)\n",
    "geos_df = pd.DataFrame(v.__dict__ for v in voyages_flat.geos).drop_duplicates()"
   ]
  },
  {
   "cell_type": "markdown",
   "metadata": {
    "id": "GbTqnBWyBc-_"
   },
   "source": [
    "We merge voyages, events and event details in order to capture each detail of each voyage."
   ]
  },
  {
   "cell_type": "code",
   "execution_count": 7,
   "metadata": {
    "id": "uTAYLzfjBc_A"
   },
   "outputs": [],
   "source": [
    "left_merge_keys = iter(['id','id_ev'])\n",
    "right_merge_keys = iter(['voyage_id','event_id'])\n",
    "suffixes = iter([('_voy','_ev'),('_ev','_det')])\n",
    "\n",
    "voyages_extd = reduce(\n",
    "    lambda left,right: pd.merge(\n",
    "        left,\n",
    "        right,\n",
    "        how ='left',\n",
    "        left_on = next(left_merge_keys,None),\n",
    "        right_on = next(right_merge_keys,None),\n",
    "        suffixes = next(suffixes,None)), \n",
    "    [voyages_df, events_df, events_details_df]\n",
    ")"
   ]
  },
  {
   "cell_type": "markdown",
   "metadata": {
    "id": "KTAhpBJXBc_A"
   },
   "source": [
    "We need only port calls where the vessels executed an operation (Load/Discharge).  \n",
    "We exlude STS operations since they do not add up to port congestion."
   ]
  },
  {
   "cell_type": "code",
   "execution_count": 8,
   "metadata": {
    "id": "uzUlM1wXBc_A"
   },
   "outputs": [],
   "source": [
    "voyages_extd = voyages_extd[\n",
    "    (voyages_extd['purpose'].isin(['Load', 'Discharge'])) &\n",
    "    (voyages_extd['event_detail_type'] != 'StS')\n",
    "]"
   ]
  },
  {
   "cell_type": "markdown",
   "metadata": {
    "id": "PRu9190oBc_A"
   },
   "source": [
    "Port Congestion calculation takes into account also stopped vessels outside the port/anchorage limits using the forecasted part of the voyage (mainly driven from AIS).  \n",
    "This is achieved by 'connecting' future(predicted) port calls with their previous stops, given that the stops ended during the last 24 hours from the beginnning of the port calls.  \n",
    "The above results to new extended port calls that span from previous stop arrival date to future portcall sailing date."
   ]
  },
  {
   "cell_type": "code",
   "execution_count": 9,
   "metadata": {
    "colab": {
     "base_uri": "https://localhost:8080/"
    },
    "id": "ZGHvHJAABc_A",
    "outputId": "c09a912d-8370-4ac2-b96d-17d1b23e9364"
   },
   "outputs": [
    {
     "name": "stdout",
     "output_type": "stream",
     "text": [
      "Stops-Future PortCalls Connected: 76\n"
     ]
    }
   ],
   "source": [
    "future_portcalls = (\n",
    "    events_df\n",
    "    .loc[\n",
    "    (events_df['purpose'].isin(['Load', 'Discharge'])) & \n",
    "    (events_df['event_horizon'] == 'Future')\n",
    "    ]\n",
    ")\n",
    "\n",
    "stops = events_df.loc[(events_df['purpose'] == 'Stop')]\n",
    "\n",
    "future_portcalls_extd = future_portcalls.merge(\n",
    "    stops, \n",
    "    how = 'inner',\n",
    "    left_on = 'voyage_id', \n",
    "    right_on = 'voyage_id', \n",
    "    suffixes = ('_fportcalls', '_stops')\n",
    ")\n",
    "\n",
    "future_portcalls_extd['stop_portcall_diff'] = (\n",
    "    (future_portcalls_extd['arrival_date_fportcalls'] - \n",
    "     future_portcalls_extd['sailing_date_stops'])\n",
    "    .dt\n",
    "    .total_seconds()\n",
    ")/3600\n",
    "\n",
    "future_portcalls_extd = (\n",
    "    future_portcalls_extd\n",
    "    .loc[future_portcalls_extd['stop_portcall_diff'] <= 24]\n",
    ")\n",
    "\n",
    "future_portcalls_extd = (\n",
    "    future_portcalls_extd\n",
    "    .sort_values('sailing_date_stops')\n",
    "    .groupby('voyage_id')\n",
    "    .tail(1)\n",
    ")\n",
    "\n",
    "future_portcalls_extd['original_sailing_date_fportcalls'] = future_portcalls_extd['sailing_date_fportcalls']\n",
    "print(f'Stops-Future PortCalls Connected: {future_portcalls_extd.shape[0]}')"
   ]
  },
  {
   "cell_type": "markdown",
   "metadata": {
    "id": "ck9SQ0kTBc_B"
   },
   "source": [
    "In the code block below we are merging the oringinal event details(enriched with events and voyage info) with the extended port calls we mentioned above.  \n",
    "This aims to update the event details attributes for the extended port calls.  \n",
    "The result of the merge will produce a column named Exist which indicates the following:  \n",
    "* Exist = 'both': \"connected\" Stops-Future PortCalls\n",
    "* Exist = 'left_only': original PortCalls, without connected Stops-Future PortCalls"
   ]
  },
  {
   "cell_type": "code",
   "execution_count": 10,
   "metadata": {
    "id": "C_VJepxeBc_B"
   },
   "outputs": [],
   "source": [
    "voyages_final_df = (\n",
    "    voyages_extd\n",
    "    .merge(\n",
    "        future_portcalls_extd, \n",
    "        how=\"outer\", \n",
    "        left_on=['id_voy', 'id_ev'], \n",
    "        right_on=['voyage_id', 'id_fportcalls'], \n",
    "        suffixes=('_connected', '_portcalls'), \n",
    "        indicator='Exist'\n",
    "    )\n",
    ")"
   ]
  },
  {
   "cell_type": "markdown",
   "metadata": {
    "id": "sv0efYT_Bc_B"
   },
   "source": [
    "## Waiting/Operating Intervals Calculation"
   ]
  },
  {
   "cell_type": "markdown",
   "metadata": {
    "id": "-tz0v3brBc_B"
   },
   "source": [
    "In a few words, the date range between start_time_of_operation and end_time_of_operation(sailing date) will be marked as Operating, \n",
    "and the rest of the days inside each port call are going to be marked as waiting.  \n",
    "Later on we will dive into further details."
   ]
  },
  {
   "cell_type": "markdown",
   "metadata": {
    "id": "TibCaxFTBc_B",
    "tags": []
   },
   "source": [
    "### Waiting  \n",
    "\n",
    "We will split the port calls into 4 categories whose waiting interval calculation is differentiated.  \n",
    "For each category start/end time of the waiting interval is calculated as follows:  \n",
    "* **Historical Port Calls with start time of operation** : \n",
    "    * waiting_time_start -> event arrival date\n",
    "    * waiting_time_end -> one day prior to the start time of operation\n",
    "* **Historical Port Calls without start time of operation** :    \n",
    "(Note) A historical port call may lack the attribute start time of operation due to low ais density during the port call.\n",
    "    * waiting_time_start -> event arrival date\n",
    "    * waiting_time_end -> event detail sailing date \n",
    "* **Current Port Calls without start time of operation** :    \n",
    "(Note) A Current port call may also have event_horizon = 'Future' due to missing AIS data.\n",
    "    * waiting_time_start -> event arrival date\n",
    "    * waiting_time_end -> event sailing date  \n",
    "* **Extended Port Calls** :    \n",
    "(Note) A Current port call may also have event_horizon = 'Future' due to missing AIS data.\n",
    "    * waiting_time_start -> arrival date of previous stop\n",
    "    * waiting_time_end -> event sailing date  "
   ]
  },
  {
   "cell_type": "code",
   "execution_count": 11,
   "metadata": {
    "id": "iOKFzU4HBc_C"
   },
   "outputs": [],
   "source": [
    "hist_port_calls_with_start_time_of_operation = (\n",
    "    voyages_final_df.start_time_of_operation.notna()\n",
    ")\n",
    "\n",
    "hist_port_calls_without_start_time_of_operation = (\n",
    "    (voyages_final_df.start_time_of_operation.isna()) &\n",
    "    (voyages_final_df.event_horizon == 'Historical')\n",
    ")\n",
    "\n",
    "current_port_calls_without_start_time_of_operation = (\n",
    "    (voyages_final_df.start_time_of_operation.isna()) &\n",
    "    (voyages_final_df.event_horizon.isin(['Current', 'Future']))\n",
    ")\n",
    "\n",
    "port_calls_merged_with_previous_stops = (\n",
    "    (voyages_final_df.Exist == 'both')\n",
    ")"
   ]
  },
  {
   "cell_type": "code",
   "execution_count": 12,
   "metadata": {
    "id": "ijKsSXg-Bc_C"
   },
   "outputs": [],
   "source": [
    "voyages_final_df.loc[\n",
    "    hist_port_calls_with_start_time_of_operation |\n",
    "    hist_port_calls_without_start_time_of_operation |\n",
    "    current_port_calls_without_start_time_of_operation,\n",
    "    'waiting_time_start'] = (\n",
    "    voyages_final_df[\n",
    "    hist_port_calls_with_start_time_of_operation |\n",
    "    hist_port_calls_without_start_time_of_operation |\n",
    "    current_port_calls_without_start_time_of_operation \n",
    "    ].arrival_date_ev\n",
    ")\n",
    "\n",
    "voyages_final_df.loc[\n",
    "    port_calls_merged_with_previous_stops,\n",
    "    'waiting_time_start'] = (\n",
    "    voyages_final_df[port_calls_merged_with_previous_stops]\n",
    "    .arrival_date_stops\n",
    ")\n",
    "\n",
    "\n",
    "voyages_final_df.loc[\n",
    "    hist_port_calls_with_start_time_of_operation,\n",
    "    'waiting_time_end'] = (\n",
    "    voyages_final_df[hist_port_calls_with_start_time_of_operation]\n",
    "    .start_time_of_operation\n",
    "    .apply(lambda x:datetime.combine(x, datetime.min.time()) - timedelta(minutes = 1))\n",
    ")\n",
    "    \n",
    "voyages_final_df.loc[\n",
    "    hist_port_calls_without_start_time_of_operation,\n",
    "    'waiting_time_end'] = (\n",
    "    voyages_final_df[hist_port_calls_without_start_time_of_operation]\n",
    "    .sailing_date_det\n",
    ")\n",
    "    \n",
    "voyages_final_df.loc[\n",
    "    current_port_calls_without_start_time_of_operation,\n",
    "    'waiting_time_end'] = (\n",
    "    voyages_final_df[current_port_calls_without_start_time_of_operation].sailing_date_ev\n",
    ")\n",
    "\n",
    "voyages_final_df.loc[\n",
    "    port_calls_merged_with_previous_stops,\n",
    "    'waiting_time_end'] = (\n",
    "    voyages_final_df[port_calls_merged_with_previous_stops]\n",
    "    .sailing_date_fportcalls\n",
    ")\n"
   ]
  },
  {
   "cell_type": "markdown",
   "metadata": {
    "id": "AApe2t7XBc_D"
   },
   "source": [
    "### Operating  \n",
    "\n",
    "The operating time interval is simply calculated by taking as operating_time_start the start time of operation and as operating_time_end the end time of operation.  \n",
    "In cases that later is not available the event sailing date is used instead."
   ]
  },
  {
   "cell_type": "code",
   "execution_count": 13,
   "metadata": {
    "id": "cR6xlTLlBc_D"
   },
   "outputs": [],
   "source": [
    "voyages_final_df.loc[\n",
    "    hist_port_calls_with_start_time_of_operation,\n",
    "    'operating_time_start'] = (\n",
    "    voyages_final_df[\n",
    "    hist_port_calls_with_start_time_of_operation \n",
    "    ].start_time_of_operation\n",
    ")\n",
    "    \n",
    "voyages_final_df.loc[\n",
    "    hist_port_calls_with_start_time_of_operation &\n",
    "    (voyages_final_df.end_time_of_operation.notna()),\n",
    "    'operating_time_end'] = (\n",
    "    voyages_final_df[\n",
    "    hist_port_calls_with_start_time_of_operation &\n",
    "    (voyages_final_df.end_time_of_operation.notna())\n",
    "    ].end_time_of_operation\n",
    ")\n",
    "    \n",
    "voyages_final_df.loc[\n",
    "    hist_port_calls_with_start_time_of_operation &\n",
    "    (voyages_final_df.end_time_of_operation.isna()),\n",
    "    'operating_time_end'] = (\n",
    "    voyages_final_df[\n",
    "    hist_port_calls_with_start_time_of_operation &\n",
    "    (voyages_final_df.end_time_of_operation.isna())\n",
    "    ].sailing_date_ev\n",
    ")"
   ]
  },
  {
   "cell_type": "markdown",
   "metadata": {
    "id": "_kIG6YSqBc_D",
    "tags": []
   },
   "source": [
    "## Calculating the Mode Per Day  \n",
    "\n",
    "The code below is used to mark each pair of date and imo with the correct Mode(Waiting/Operating).  \n",
    "We are using the assumption that for each day one vessel can be either waiting or operating and not both. In case of overlapping between waiting and operating interval, the days inside are marked as operating."
   ]
  },
  {
   "cell_type": "code",
   "execution_count": 14,
   "metadata": {
    "id": "lawEvFNPBc_D"
   },
   "outputs": [],
   "source": [
    "voyages_final_df['waiting_duration'] = (\n",
    "    voyages_final_df\n",
    "    .apply(lambda row: pd.date_range(\n",
    "        row.waiting_time_start.date(), \n",
    "        row.waiting_time_end.date()),\n",
    "    axis = 1)\n",
    ")\n",
    "    \n",
    "voyages_final_df['operating_duration'] = (\n",
    "    voyages_final_df\n",
    "    .apply(lambda row: pd.date_range(\n",
    "        row.operating_time_start.date(), \n",
    "        row.operating_time_end.date()) if not pd.isnull(row.operating_time_start) else [], \n",
    "    axis = 1)\n",
    ")"
   ]
  },
  {
   "cell_type": "code",
   "execution_count": 15,
   "metadata": {
    "id": "mcRDKq7hBc_D"
   },
   "outputs": [],
   "source": [
    "vessels_status_df = (\n",
    "    pd.concat(\n",
    "    [(voyages_final_df\n",
    "      .explode('operating_duration')\n",
    "      .rename({'operating_duration':'DayDate'}, axis='columns')\n",
    "      .assign(Mode='Operating')),\n",
    "     (voyages_final_df\n",
    "      .explode('waiting_duration')\n",
    "      .rename({'waiting_duration':'DayDate'}, axis='columns')\n",
    "      .assign(Mode='Waiting'))],\n",
    "    ignore_index = True\n",
    "    )\n",
    "    .drop_duplicates(subset = ['imo','DayDate'], keep = 'first')\n",
    ")    "
   ]
  },
  {
   "cell_type": "markdown",
   "metadata": {
    "id": "3RUKeJVWBc_D"
   },
   "source": [
    "Here we are updating the columns affected by the extension of the future/predicted port calls we mentioned earlier."
   ]
  },
  {
   "cell_type": "code",
   "execution_count": 16,
   "metadata": {
    "id": "bH845je8Bc_E"
   },
   "outputs": [],
   "source": [
    "mapping_dict = {'geo_asset_name':['geo_asset_name_fportcalls','geo_asset_name_ev'],\n",
    "                'geo_asset_id':['geo_asset_id_fportcalls','geo_asset_id_ev'], \n",
    "                'purpose':['purpose_fportcalls','purpose'],\n",
    "                'latitude':['latitude_fportcalls','latitude_ev'],\n",
    "                'longitude':['longitude_fportcalls','longitude_ev'],\n",
    "                'port_name':['port_name_fportcalls','port_name'], \n",
    "                'arrival_date':['arrival_date_stops','arrival_date_ev'],\n",
    "                }"
   ]
  },
  {
   "cell_type": "code",
   "execution_count": 17,
   "metadata": {
    "id": "4QpJvbunBc_E"
   },
   "outputs": [],
   "source": [
    "conditions = [(vessels_status_df['Exist'] == 'both'), (vessels_status_df['Exist'] != 'both')]\n",
    "for key, value in mapping_dict.items():\n",
    "    actions = [vessels_status_df[value[0]], vessels_status_df[value[1]]]\n",
    "    vessels_status_df[key] = np.select(conditions, actions, default=actions[0])"
   ]
  },
  {
   "cell_type": "code",
   "execution_count": 18,
   "metadata": {
    "id": "UB-XnKDTBc_E"
   },
   "outputs": [],
   "source": [
    "vessels_status_df_datetimetz = vessels_status_df.select_dtypes('datetimetz')\n",
    "vessels_status_df[vessels_status_df_datetimetz.columns] = (\n",
    "    vessels_status_df_datetimetz\n",
    "    .apply(lambda x: x.dt.tz_convert(None), \n",
    "           axis = 0)\n",
    ")"
   ]
  },
  {
   "cell_type": "code",
   "execution_count": 19,
   "metadata": {
    "id": "51FqY-68Bc_E"
   },
   "outputs": [],
   "source": [
    "vessels_status_df = (\n",
    "    vessels_status_df[\n",
    "        vessels_status_df\n",
    "        .DayDate\n",
    "        .dt\n",
    "        .date\n",
    "        .between(congestion_start_date, date.today())]\n",
    ")"
   ]
  },
  {
   "cell_type": "code",
   "execution_count": 20,
   "metadata": {
    "id": "QHZXypUbBc_E"
   },
   "outputs": [],
   "source": [
    "vessels_status_with_geos_df = vessels_status_df.merge(\n",
    "    geos_df,\n",
    "    how = 'inner',\n",
    "    left_on = 'geo_asset_id',\n",
    "    right_on = 'id',\n",
    "    suffixes = ['_vs','_geos']\n",
    ")"
   ]
  },
  {
   "cell_type": "markdown",
   "metadata": {
    "id": "JPVMM7ysBc_E"
   },
   "source": [
    "## Results"
   ]
  },
  {
   "cell_type": "markdown",
   "metadata": {
    "id": "9WIxiv7bBc_F",
    "tags": []
   },
   "source": [
    "### Port Congestion (Number of Vessels)"
   ]
  },
  {
   "cell_type": "markdown",
   "metadata": {
    "id": "eufBo5u_Bc_F"
   },
   "source": [
    "Historical Port Congestion is translated to the number of vessels waiting or operating Over Time.   \n",
    "In this particular example we will focus on the historical port congestion of the defined areas/ports of interest."
   ]
  },
  {
   "cell_type": "code",
   "execution_count": 21,
   "metadata": {
    "id": "cQl_EHrnBc_F"
   },
   "outputs": [],
   "source": [
    "areas_filter = (vessels_status_with_geos_df.area_name_level0_geos.isin(areas))\n",
    "port_filter = (vessels_status_with_geos_df.port_name_geos == port)"
   ]
  },
  {
   "cell_type": "code",
   "execution_count": 22,
   "metadata": {
    "colab": {
     "base_uri": "https://localhost:8080/",
     "height": 424
    },
    "id": "RY046tIaBc_F",
    "outputId": "ed2e6596-6744-490a-f80b-977466f59c3c"
   },
   "outputs": [
    {
     "data": {
      "text/html": [
       "<div>\n",
       "<style scoped>\n",
       "    .dataframe tbody tr th:only-of-type {\n",
       "        vertical-align: middle;\n",
       "    }\n",
       "\n",
       "    .dataframe tbody tr th {\n",
       "        vertical-align: top;\n",
       "    }\n",
       "\n",
       "    .dataframe thead th {\n",
       "        text-align: right;\n",
       "    }\n",
       "</style>\n",
       "<table border=\"1\" class=\"dataframe\">\n",
       "  <thead>\n",
       "    <tr style=\"text-align: right;\">\n",
       "      <th></th>\n",
       "      <th>date</th>\n",
       "      <th>vessels</th>\n",
       "    </tr>\n",
       "  </thead>\n",
       "  <tbody>\n",
       "    <tr>\n",
       "      <th>0</th>\n",
       "      <td>2021-07-18</td>\n",
       "      <td>156</td>\n",
       "    </tr>\n",
       "    <tr>\n",
       "      <th>1</th>\n",
       "      <td>2021-07-19</td>\n",
       "      <td>157</td>\n",
       "    </tr>\n",
       "    <tr>\n",
       "      <th>2</th>\n",
       "      <td>2021-07-20</td>\n",
       "      <td>164</td>\n",
       "    </tr>\n",
       "    <tr>\n",
       "      <th>3</th>\n",
       "      <td>2021-07-21</td>\n",
       "      <td>159</td>\n",
       "    </tr>\n",
       "    <tr>\n",
       "      <th>4</th>\n",
       "      <td>2021-07-22</td>\n",
       "      <td>153</td>\n",
       "    </tr>\n",
       "    <tr>\n",
       "      <th>...</th>\n",
       "      <td>...</td>\n",
       "      <td>...</td>\n",
       "    </tr>\n",
       "    <tr>\n",
       "      <th>180</th>\n",
       "      <td>2022-01-14</td>\n",
       "      <td>188</td>\n",
       "    </tr>\n",
       "    <tr>\n",
       "      <th>181</th>\n",
       "      <td>2022-01-15</td>\n",
       "      <td>191</td>\n",
       "    </tr>\n",
       "    <tr>\n",
       "      <th>182</th>\n",
       "      <td>2022-01-16</td>\n",
       "      <td>198</td>\n",
       "    </tr>\n",
       "    <tr>\n",
       "      <th>183</th>\n",
       "      <td>2022-01-17</td>\n",
       "      <td>184</td>\n",
       "    </tr>\n",
       "    <tr>\n",
       "      <th>184</th>\n",
       "      <td>2022-01-18</td>\n",
       "      <td>183</td>\n",
       "    </tr>\n",
       "  </tbody>\n",
       "</table>\n",
       "<p>185 rows × 2 columns</p>\n",
       "</div>"
      ],
      "text/plain": [
       "          date  vessels\n",
       "0   2021-07-18      156\n",
       "1   2021-07-19      157\n",
       "2   2021-07-20      164\n",
       "3   2021-07-21      159\n",
       "4   2021-07-22      153\n",
       "..         ...      ...\n",
       "180 2022-01-14      188\n",
       "181 2022-01-15      191\n",
       "182 2022-01-16      198\n",
       "183 2022-01-17      184\n",
       "184 2022-01-18      183\n",
       "\n",
       "[185 rows x 2 columns]"
      ]
     },
     "execution_count": 22,
     "metadata": {},
     "output_type": "execute_result"
    }
   ],
   "source": [
    "num_of_vessels_time_series = vessels_status_with_geos_df[\n",
    "    areas_filter | port_filter\n",
    "].groupby('DayDate')['imo'].nunique().reset_index()\n",
    "num_of_vessels_time_series.columns = ['date', 'vessels']\n",
    "num_of_vessels_time_series"
   ]
  },
  {
   "cell_type": "code",
   "execution_count": 23,
   "metadata": {
    "id": "JxkImtA8Bc_F"
   },
   "outputs": [],
   "source": [
    "# Helper 2Function that adds date buttons in time series visualisations\n",
    "def add_date_buttons(months_back, time_series):\n",
    "    current_date = datetime.utcnow().date()\n",
    "    past_date = current_date - pd.DateOffset(months=months_back)\n",
    "    if (months_back < 12):\n",
    "        label_m = str(months_back) + 'm'\n",
    "        if past_date >= time_series.date.min(): date_buttons.append(dict(count = months_back, label = label_m, step = \"month\", stepmode = \"backward\"))\n",
    "    else:\n",
    "        label_y = str(int(months_back/12)) + 'y'\n",
    "        if past_date >= time_series.date.min(): date_buttons.append(dict(count = int(months_back/12), label = label_y, step = \"year\", stepmode = \"backward\"))\n",
    "    return date_buttons"
   ]
  },
  {
   "cell_type": "code",
   "execution_count": 24,
   "metadata": {
    "colab": {
     "base_uri": "https://localhost:8080/",
     "height": 1000
    },
    "id": "OOpPppdOBc_F",
    "outputId": "28e20b9c-988d-44c7-d3b5-c1baac69df03"
   },
   "outputs": [
    {
     "data": {
      "image/svg+xml": [
       "<svg class=\"main-svg\" xmlns=\"http://www.w3.org/2000/svg\" xmlns:xlink=\"http://www.w3.org/1999/xlink\" width=\"1250\" height=\"500\" style=\"\" viewBox=\"0 0 1250 500\"><rect x=\"0\" y=\"0\" width=\"1250\" height=\"500\" style=\"fill: rgb(255, 255, 255); fill-opacity: 1;\"/><defs id=\"defs-de151a\"><g class=\"clips\"><clipPath id=\"clipde151axyplot\" class=\"plotclip\"><rect width=\"1090\" height=\"241\"/></clipPath><clipPath class=\"axesclip\" id=\"clipde151ax\"><rect x=\"80\" y=\"0\" width=\"1090\" height=\"500\"/></clipPath><clipPath class=\"axesclip\" id=\"clipde151ay\"><rect x=\"0\" y=\"100\" width=\"1250\" height=\"241\"/></clipPath><clipPath class=\"axesclip\" id=\"clipde151axy\"><rect x=\"80\" y=\"100\" width=\"1090\" height=\"241\"/></clipPath></g><g class=\"gradients\"/><g class=\"patterns\"/></defs><g class=\"bglayer\"><rect class=\"bg\" x=\"80\" y=\"100\" width=\"1090\" height=\"241\" style=\"fill: rgb(0, 0, 0); fill-opacity: 0.05; stroke-width: 0;\"/></g><g class=\"layer-below\"><g class=\"imagelayer\"/><g class=\"shapelayer\"/></g><g class=\"cartesianlayer\"><g class=\"subplot xy\"><g class=\"layer-subplot\"><g class=\"shapelayer\"/><g class=\"imagelayer\"/></g><g class=\"gridlayer\"><g class=\"x\"><path class=\"xgrid crisp\" transform=\"translate(162.93,0)\" d=\"M0,100v241\" style=\"stroke: rgb(255, 255, 255); stroke-opacity: 1; stroke-width: 1px;\"/><path class=\"xgrid crisp\" transform=\"translate(346.58,0)\" d=\"M0,100v241\" style=\"stroke: rgb(255, 255, 255); stroke-opacity: 1; stroke-width: 1px;\"/><path class=\"xgrid crisp\" transform=\"translate(524.29,0)\" d=\"M0,100v241\" style=\"stroke: rgb(255, 255, 255); stroke-opacity: 1; stroke-width: 1px;\"/><path class=\"xgrid crisp\" transform=\"translate(707.93,0)\" d=\"M0,100v241\" style=\"stroke: rgb(255, 255, 255); stroke-opacity: 1; stroke-width: 1px;\"/><path class=\"xgrid crisp\" transform=\"translate(885.65,0)\" d=\"M0,100v241\" style=\"stroke: rgb(255, 255, 255); stroke-opacity: 1; stroke-width: 1px;\"/><path class=\"xgrid crisp\" transform=\"translate(1069.29,0)\" d=\"M0,100v241\" style=\"stroke: rgb(255, 255, 255); stroke-opacity: 1; stroke-width: 1px;\"/></g><g class=\"y\"><path class=\"ygrid crisp\" transform=\"translate(0,333.66999999999996)\" d=\"M80,0h1090\" style=\"stroke: rgb(255, 255, 255); stroke-opacity: 1; stroke-width: 1px;\"/><path class=\"ygrid crisp\" transform=\"translate(0,286.51)\" d=\"M80,0h1090\" style=\"stroke: rgb(255, 255, 255); stroke-opacity: 1; stroke-width: 1px;\"/><path class=\"ygrid crisp\" transform=\"translate(0,239.36)\" d=\"M80,0h1090\" style=\"stroke: rgb(255, 255, 255); stroke-opacity: 1; stroke-width: 1px;\"/><path class=\"ygrid crisp\" transform=\"translate(0,192.20999999999998)\" d=\"M80,0h1090\" style=\"stroke: rgb(255, 255, 255); stroke-opacity: 1; stroke-width: 1px;\"/><path class=\"ygrid crisp\" transform=\"translate(0,145.06)\" d=\"M80,0h1090\" style=\"stroke: rgb(255, 255, 255); stroke-opacity: 1; stroke-width: 1px;\"/></g></g><g class=\"zerolinelayer\"/><path class=\"xlines-below\"/><path class=\"ylines-below\"/><g class=\"overlines-below\"/><g class=\"xaxislayer-below\"/><g class=\"yaxislayer-below\"/><g class=\"overaxes-below\"/><g class=\"plot\" transform=\"translate(80,100)\" clip-path=\"url(#clipde151axyplot)\"><g class=\"scatterlayer mlayer\"><g class=\"trace scatter trace7f94e7\" style=\"stroke-miterlimit: 2; opacity: 1;\"><g class=\"fills\"/><g class=\"errorbars\"/><g class=\"lines\"><path class=\"js-line\" d=\"M0,148.79L5.92,146.43L11.85,129.93L17.77,141.72L23.7,155.86L29.62,198.3L35.54,217.16L41.47,228.95L47.39,221.88L53.32,203.02L59.24,172.37L65.16,129.93L71.09,99.28L77.01,78.06L82.93,89.85L88.86,82.78L94.78,85.14L100.71,70.99L106.63,78.06L112.55,63.92L118.48,59.2L124.4,63.92L130.33,47.41L136.25,42.7L142.17,30.91L148.1,30.91L154.02,37.98L159.95,42.7L165.87,54.49L171.79,56.84L177.72,68.63L183.64,59.2L189.57,80.42L195.49,66.27L201.41,59.2L207.34,73.35L213.26,75.71L219.18,70.99L225.11,80.42L231.03,78.06L236.96,73.35L242.88,92.21L248.8,80.42L254.73,73.35L260.65,89.85L266.58,104L272.5,108.71L278.42,113.43L284.35,111.07L290.27,106.35L296.2,113.43L302.12,99.28L308.04,99.28L313.97,96.92L319.89,113.43L325.82,122.86L331.74,137L337.66,172.37L343.59,170.01L349.51,179.44L355.43,146.43L361.36,146.43L367.28,111.07L373.21,66.27L379.13,49.77L385.05,61.56L390.98,52.13L396.9,59.2L402.83,63.92L408.75,37.98L414.67,35.63L420.6,54.49L426.52,68.63L432.45,96.92L438.37,94.57L444.29,87.49L450.22,78.06L456.14,80.42L462.07,94.57L467.99,66.27L473.91,56.84L479.84,56.84L485.76,59.2L491.68,47.41L497.61,49.77L503.53,26.2L509.46,21.48L515.38,21.48L521.3,35.63L527.23,12.05L533.15,28.55L539.08,40.34L545,42.7L550.92,28.55L556.85,33.27L562.77,42.7L568.7,54.49L574.62,33.27L580.54,45.06L586.47,35.63L592.39,28.55L598.32,47.41L604.24,59.2L610.16,66.27L616.09,68.63L622.01,87.49L627.93,101.64L633.86,118.14L639.78,87.49L645.71,89.85L651.63,99.28L657.55,75.71L663.48,104L669.4,99.28L675.33,111.07L681.25,96.92L687.17,94.57L693.1,104L699.02,106.35L704.95,94.57L710.87,92.21L716.79,99.28L722.72,104L728.64,96.92L734.57,82.78L746.41,101.64L752.34,85.14L764.18,104L770.11,115.78L776.03,122.86L781.96,127.57L787.88,137L793.8,129.93L799.73,141.72L805.65,129.93L811.58,141.72L817.5,129.93L823.42,94.57L829.35,101.64L835.27,101.64L841.2,111.07L847.12,99.28L853.04,115.78L858.97,99.28L864.89,96.92L870.82,92.21L876.74,115.78L888.59,115.78L894.51,129.93L900.43,122.86L906.36,129.93L912.28,125.22L918.21,122.86L924.13,104L930.05,101.64L935.98,125.22L941.9,137L947.83,106.35L953.75,125.22L959.67,99.28L965.6,113.43L971.52,78.06L977.45,70.99L983.37,73.35L989.29,73.35L995.22,66.27L1001.14,68.63L1007.07,66.27L1012.99,92.21L1018.91,104L1024.84,92.21L1030.76,104L1036.68,113.43L1042.61,111.07L1048.53,94.57L1054.46,92.21L1060.38,73.35L1066.3,73.35L1072.23,66.27L1078.15,49.77L1084.08,82.78L1090,85.14\" style=\"vector-effect: non-scaling-stroke; fill: none; stroke: rgb(99, 110, 250); stroke-opacity: 1; stroke-width: 2px; opacity: 1;\"/></g><g class=\"points\"/><g class=\"text\"/></g></g></g><g class=\"overplot\"/><path class=\"xlines-above crisp\" d=\"M0,0\" style=\"fill: none;\"/><path class=\"ylines-above crisp\" d=\"M0,0\" style=\"fill: none;\"/><g class=\"overlines-above\"/><g class=\"xaxislayer-above\"><g class=\"xtick\"><text text-anchor=\"middle\" x=\"0\" y=\"354\" transform=\"translate(162.93,0)\" style=\"font-family: 'Open Sans', verdana, arial, sans-serif; font-size: 12px; fill: rgb(42, 63, 95); fill-opacity: 1; white-space: pre; opacity: 1;\">Aug 2021</text></g><g class=\"xtick\"><text text-anchor=\"middle\" x=\"0\" y=\"354\" style=\"font-family: 'Open Sans', verdana, arial, sans-serif; font-size: 12px; fill: rgb(42, 63, 95); fill-opacity: 1; white-space: pre; opacity: 1;\" transform=\"translate(346.58,0)\">Sep 2021</text></g><g class=\"xtick\"><text text-anchor=\"middle\" x=\"0\" y=\"354\" style=\"font-family: 'Open Sans', verdana, arial, sans-serif; font-size: 12px; fill: rgb(42, 63, 95); fill-opacity: 1; white-space: pre; opacity: 1;\" transform=\"translate(524.29,0)\">Oct 2021</text></g><g class=\"xtick\"><text text-anchor=\"middle\" x=\"0\" y=\"354\" style=\"font-family: 'Open Sans', verdana, arial, sans-serif; font-size: 12px; fill: rgb(42, 63, 95); fill-opacity: 1; white-space: pre; opacity: 1;\" transform=\"translate(707.93,0)\">Nov 2021</text></g><g class=\"xtick\"><text text-anchor=\"middle\" x=\"0\" y=\"354\" style=\"font-family: 'Open Sans', verdana, arial, sans-serif; font-size: 12px; fill: rgb(42, 63, 95); fill-opacity: 1; white-space: pre; opacity: 1;\" transform=\"translate(885.65,0)\">Dec 2021</text></g><g class=\"xtick\"><text text-anchor=\"middle\" x=\"0\" y=\"354\" style=\"font-family: 'Open Sans', verdana, arial, sans-serif; font-size: 12px; fill: rgb(42, 63, 95); fill-opacity: 1; white-space: pre; opacity: 1;\" transform=\"translate(1069.29,0)\">Jan 2022</text></g></g><g class=\"yaxislayer-above\"><g class=\"ytick\"><text text-anchor=\"end\" x=\"79\" y=\"4.199999999999999\" transform=\"translate(0,333.66999999999996)\" style=\"font-family: 'Open Sans', verdana, arial, sans-serif; font-size: 12px; fill: rgb(42, 63, 95); fill-opacity: 1; white-space: pre; opacity: 1;\">120</text></g><g class=\"ytick\"><text text-anchor=\"end\" x=\"79\" y=\"4.199999999999999\" style=\"font-family: 'Open Sans', verdana, arial, sans-serif; font-size: 12px; fill: rgb(42, 63, 95); fill-opacity: 1; white-space: pre; opacity: 1;\" transform=\"translate(0,286.51)\">140</text></g><g class=\"ytick\"><text text-anchor=\"end\" x=\"79\" y=\"4.199999999999999\" style=\"font-family: 'Open Sans', verdana, arial, sans-serif; font-size: 12px; fill: rgb(42, 63, 95); fill-opacity: 1; white-space: pre; opacity: 1;\" transform=\"translate(0,239.36)\">160</text></g><g class=\"ytick\"><text text-anchor=\"end\" x=\"79\" y=\"4.199999999999999\" style=\"font-family: 'Open Sans', verdana, arial, sans-serif; font-size: 12px; fill: rgb(42, 63, 95); fill-opacity: 1; white-space: pre; opacity: 1;\" transform=\"translate(0,192.20999999999998)\">180</text></g><g class=\"ytick\"><text text-anchor=\"end\" x=\"79\" y=\"4.199999999999999\" style=\"font-family: 'Open Sans', verdana, arial, sans-serif; font-size: 12px; fill: rgb(42, 63, 95); fill-opacity: 1; white-space: pre; opacity: 1;\" transform=\"translate(0,145.06)\">200</text></g></g><g class=\"overaxes-above\"/></g></g><g class=\"polarlayer\"/><g class=\"ternarylayer\"/><g class=\"geolayer\"/><g class=\"funnelarealayer\"/><g class=\"pielayer\"/><g class=\"iciclelayer\"/><g class=\"treemaplayer\"/><g class=\"sunburstlayer\"/><g class=\"glimages\"/><defs id=\"topdefs-de151a\"><g class=\"clips\"/><clipPath id=\"rangesliderx-de151a\"><rect x=\"0\" y=\"0\" width=\"1090\" height=\"48\"/></clipPath></defs><g class=\"layer-above\"><g class=\"imagelayer\"/><g class=\"shapelayer\"/></g><g class=\"infolayer\"><g class=\"rangeselector\" transform=\"translate(80,75)\" style=\"cursor: pointer; pointer-events: all;\"><g class=\"button\" transform=\"\"><rect class=\"selector-rect\" shape-rendering=\"crispEdges\" rx=\"3\" ry=\"3\" style=\"stroke: rgb(68, 68, 68); stroke-opacity: 1; fill: rgb(238, 238, 238); fill-opacity: 1; stroke-width: 0px;\" x=\"0\" y=\"0\" width=\"30\" height=\"19\"/><text class=\"selector-text\" text-anchor=\"middle\" x=\"15\" y=\"12.5\" style=\"font-family: 'Open Sans', verdana, arial, sans-serif; font-size: 12px; fill: rgb(42, 63, 95); fill-opacity: 1; white-space: pre;\">1m</text></g><g class=\"button\" transform=\"translate(35,0)\"><rect class=\"selector-rect\" shape-rendering=\"crispEdges\" rx=\"3\" ry=\"3\" style=\"stroke: rgb(68, 68, 68); stroke-opacity: 1; fill: rgb(212, 212, 212); fill-opacity: 1; stroke-width: 0px;\" x=\"0\" y=\"0\" width=\"30\" height=\"19\"/><text class=\"selector-text\" text-anchor=\"middle\" x=\"15\" y=\"12.5\" style=\"font-family: 'Open Sans', verdana, arial, sans-serif; font-size: 12px; fill: rgb(42, 63, 95); fill-opacity: 1; white-space: pre;\">6m</text></g><g class=\"button\" transform=\"translate(70,0)\"><rect class=\"selector-rect\" shape-rendering=\"crispEdges\" rx=\"3\" ry=\"3\" style=\"stroke: rgb(68, 68, 68); stroke-opacity: 1; fill: rgb(238, 238, 238); fill-opacity: 1; stroke-width: 0px;\" x=\"0\" y=\"0\" width=\"35.03125\" height=\"19\"/><text class=\"selector-text\" text-anchor=\"middle\" x=\"17.515625\" y=\"12.5\" style=\"font-family: 'Open Sans', verdana, arial, sans-serif; font-size: 12px; fill: rgb(42, 63, 95); fill-opacity: 1; white-space: pre;\">YTD</text></g></g><g class=\"g-gtitle\"><text class=\"gtitle\" x=\"62.5\" y=\"50\" text-anchor=\"start\" dy=\"0em\" style=\"font-family: 'Open Sans', verdana, arial, sans-serif; font-size: 17px; fill: rgb(42, 63, 95); opacity: 1; font-weight: normal; white-space: pre;\">Number of Vessels Over Time</text></g><g class=\"rangeslider-container\" pointer-events=\"all\" transform=\"translate(80,372)\"><rect class=\"rangeslider-bg\" x=\"0\" y=\"0\" shape-rendering=\"crispEdges\" width=\"1090\" height=\"48\" transform=\"\" fill=\"rgba(0, 0, 0, 0.05)\" stroke=\"#444\" stroke-width=\"0\"/><g class=\"rangeslider-rangeplot xy\" clip-path=\"url(#rangesliderx-de151a)\"><g class=\"layer-subplot\"><g class=\"shapelayer\"/><g class=\"imagelayer\"/></g><g class=\"gridlayer\"><g class=\"x\"/><g class=\"y\"/></g><g class=\"zerolinelayer\"/><path class=\"xlines-below\"/><path class=\"ylines-below\"/><g class=\"overlines-below\"/><g class=\"xaxislayer-below\"/><g class=\"yaxislayer-below\"/><g class=\"overaxes-below\"/><g class=\"plot\"><g class=\"scatterlayer mlayer rangeplot\"><g class=\"trace scatter trace7f94e7\" style=\"stroke-miterlimit: 2; opacity: 1;\"><g class=\"fills\"/><g class=\"errorbars\"/><g class=\"lines\"><path class=\"js-line\" d=\"M0,29.63L5.92,29.17L11.85,25.88L23.7,31.04L29.62,39.5L35.54,43.25L41.47,45.6L47.39,44.19L53.32,40.43L59.24,34.33L65.16,25.88L71.09,19.77L77.01,15.55L82.93,17.9L88.86,16.49L94.78,16.96L100.71,14.14L106.63,15.55L112.55,12.73L118.48,11.79L124.4,12.73L130.33,9.44L136.25,8.5L142.17,6.16L148.1,6.16L159.95,8.5L165.87,10.85L171.79,11.32L177.72,13.67L183.64,11.79L189.57,16.02L195.49,13.2L201.41,11.79L207.34,14.61L213.26,15.08L219.18,14.14L225.11,16.02L236.96,14.61L242.88,18.37L248.8,16.02L254.73,14.61L266.58,20.71L272.5,21.65L278.42,22.59L284.35,22.12L290.27,21.18L296.2,22.59L302.12,19.77L308.04,19.77L313.97,19.3L319.89,22.59L325.82,24.47L331.74,27.29L337.66,34.33L343.59,33.86L349.51,35.74L355.43,29.17L361.36,29.17L367.28,22.12L373.21,13.2L379.13,9.91L385.05,12.26L390.98,10.38L402.83,12.73L408.75,7.57L414.67,7.1L420.6,10.85L426.52,13.67L432.45,19.3L438.37,18.83L444.29,17.43L450.22,15.55L456.14,16.02L462.07,18.83L467.99,13.2L473.91,11.32L479.84,11.32L485.76,11.79L491.68,9.44L497.61,9.91L503.53,5.22L509.46,4.28L515.38,4.28L521.3,7.1L527.23,2.4L533.15,5.69L539.08,8.03L545,8.5L550.92,5.69L556.85,6.63L562.77,8.5L568.7,10.85L574.62,6.63L580.54,8.97L586.47,7.1L592.39,5.69L598.32,9.44L604.24,11.79L610.16,13.2L616.09,13.67L622.01,17.43L633.86,23.53L639.78,17.43L645.71,17.9L651.63,19.77L657.55,15.08L663.48,20.71L669.4,19.77L675.33,22.12L681.25,19.3L687.17,18.83L693.1,20.71L699.02,21.18L704.95,18.83L710.87,18.37L722.72,20.71L728.64,19.3L734.57,16.49L740.49,18.37L746.41,20.24L752.34,16.96L776.03,24.47L781.96,25.41L787.88,27.29L793.8,25.88L799.73,28.23L805.65,25.88L811.58,28.23L817.5,25.88L823.42,18.83L829.35,20.24L835.27,20.24L841.2,22.12L847.12,19.77L853.04,23.06L858.97,19.77L864.89,19.3L870.82,18.37L876.74,23.06L888.59,23.06L894.51,25.88L900.43,24.47L906.36,25.88L918.21,24.47L924.13,20.71L930.05,20.24L935.98,24.94L941.9,27.29L947.83,21.18L953.75,24.94L959.67,19.77L965.6,22.59L971.52,15.55L977.45,14.14L983.37,14.61L989.29,14.61L995.22,13.2L1001.14,13.67L1007.07,13.2L1012.99,18.37L1018.91,20.71L1024.84,18.37L1030.76,20.71L1036.68,22.59L1042.61,22.12L1048.53,18.83L1054.46,18.37L1060.38,14.61L1066.3,14.61L1072.23,13.2L1078.15,9.91L1084.08,16.49L1090,16.96\" style=\"vector-effect: non-scaling-stroke; fill: none; stroke: rgb(99, 110, 250); stroke-opacity: 1; stroke-width: 2px; opacity: 1;\"/></g><g class=\"points\"/><g class=\"text\"/></g></g></g><g class=\"overplot\"/><path class=\"xlines-above crisp\" style=\"fill: none;\"/><path class=\"ylines-above crisp\" style=\"fill: none;\"/><g class=\"overlines-above\"/><g class=\"xaxislayer-above\"/><g class=\"yaxislayer-above\"/><g class=\"overaxes-above\"/></g><rect class=\"rangeslider-mask-min\" x=\"0\" y=\"0\" shape-rendering=\"crispEdges\" height=\"48\" width=\"0\" style=\"fill: rgb(0, 0, 0); fill-opacity: 0.4;\"/><rect class=\"rangeslider-mask-max\" y=\"0\" shape-rendering=\"crispEdges\" height=\"48\" x=\"1090\" width=\"0\" style=\"fill: rgb(0, 0, 0); fill-opacity: 0.4;\"/><g class=\"rangeslider-grabber-min\" transform=\"translate(-2.5,0.5)\"><rect class=\"rangeslider-handle-min\" x=\"0\" width=\"4\" rx=\"1\" fill=\"#fff\" stroke=\"#444\" stroke-width=\"1\" shape-rendering=\"crispEdges\" y=\"12\" height=\"24\"/><rect class=\"rangeslider-grabarea-min\" width=\"10\" x=\"0\" y=\"0\" fill=\"transparent\" height=\"48\"/></g><g class=\"rangeslider-grabber-max\" transform=\"translate(1088.5,0.5)\"><rect class=\"rangeslider-handle-max\" x=\"0\" width=\"4\" rx=\"1\" fill=\"#fff\" stroke=\"#444\" stroke-width=\"1\" shape-rendering=\"crispEdges\" y=\"12\" height=\"24\"/><rect class=\"rangeslider-grabarea-max\" width=\"10\" x=\"0\" y=\"0\" fill=\"transparent\" height=\"48\"/></g></g><g class=\"g-ytitle\"><text class=\"ytitle\" transform=\"rotate(-90,31.309375000000003,220.5)\" x=\"31.309375000000003\" y=\"220.5\" text-anchor=\"middle\" style=\"font-family: 'Open Sans', verdana, arial, sans-serif; font-size: 14px; fill: rgb(42, 63, 95); opacity: 1; font-weight: normal; white-space: pre;\">vessels</text></g><g class=\"g-xtitle\"><text class=\"xtitle\" x=\"625\" y=\"451\" text-anchor=\"middle\" style=\"font-family: 'Open Sans', verdana, arial, sans-serif; font-size: 14px; fill: rgb(42, 63, 95); opacity: 1; font-weight: normal; white-space: pre;\">date</text></g></g></svg>"
      ]
     },
     "metadata": {},
     "output_type": "display_data"
    }
   ],
   "source": [
    "fig = px.line(num_of_vessels_time_series, x='date', y='vessels', \n",
    "              title = f'Number of Vessels Over Time')\n",
    "\n",
    "fig.update_traces(hovertemplate='Date: %{x|%Y-%m-%d}<br>Day: %{x|%A}<br>Vessels: %{y}')\n",
    "\n",
    "# Add buttons with dates, if applicable\n",
    "date_buttons = []\n",
    "date_buttons = add_date_buttons(1, num_of_vessels_time_series) # 1 month back\n",
    "date_buttons = add_date_buttons(6, num_of_vessels_time_series) # 6 months back\n",
    "date_buttons.append(dict(count = 1, label = \"YTD\", step = \"year\", stepmode = \"todate\"))\n",
    "fig.update_xaxes(rangeslider_visible = True, rangeselector = dict(buttons = date_buttons))\n",
    "fig.update_layout(\n",
    "    width=1250,\n",
    "    height=500,\n",
    "    plot_bgcolor = 'rgba(0,0,0,0.05)')\n",
    "fig.show() "
   ]
  },
  {
   "cell_type": "markdown",
   "metadata": {
    "id": "WVX1MlZuBc_F",
    "tags": []
   },
   "source": [
    "### Port Congestion (Waiting Time)"
   ]
  },
  {
   "cell_type": "markdown",
   "metadata": {
    "id": "FsrbZWXUBc_G"
   },
   "source": [
    "Waiting Time is calculated for each day of each port call and is defined as the difference between that day and the starting point of the waiting interval.  \n",
    "We have noticed that the following assumptions lead to more accurate calculations:  \n",
    "* The first point of each interval is rolled over one day.\n",
    "* We do not take into account Waiting Time over 60 days (removing outliers)."
   ]
  },
  {
   "cell_type": "code",
   "execution_count": 25,
   "metadata": {
    "id": "XmdmV4nHBc_G"
   },
   "outputs": [],
   "source": [
    "waiting_vessels = vessels_status_with_geos_df[\n",
    "    (port_filter | areas_filter) &\n",
    "    (vessels_status_with_geos_df.Mode == 'Waiting') & \n",
    "    (vessels_status_with_geos_df.waiting_time_start.dt.date != vessels_status_with_geos_df.DayDate.dt.date)\n",
    "].copy()"
   ]
  },
  {
   "cell_type": "code",
   "execution_count": 26,
   "metadata": {
    "id": "Bmtzt9wrBc_G"
   },
   "outputs": [],
   "source": [
    "waiting_vessels['waiting_time'] = (\n",
    "    (waiting_vessels['DayDate'] - waiting_vessels['waiting_time_start'])\n",
    "    .dt.total_seconds()/(60*60*24.0)\n",
    ")"
   ]
  },
  {
   "cell_type": "code",
   "execution_count": 27,
   "metadata": {
    "id": "NeK9ppngBc_G"
   },
   "outputs": [],
   "source": [
    "waiting_time_df = (\n",
    "    waiting_vessels[\n",
    "    (waiting_vessels.waiting_time < 60) & \n",
    "    (waiting_vessels.DayDate.dt.date != date.today())\n",
    "    ].groupby('DayDate')['waiting_time']\n",
    "    .mean()\n",
    "    .reset_index()\n",
    "    .rename(columns = {'waiting_time':'avg_waiting_time'})\n",
    "    .set_index('DayDate')\n",
    ")\n",
    "\n",
    "waiting_time_df.avg_waiting_time = waiting_time_df.avg_waiting_time.round(1)\n",
    "\n",
    "all_days = pd.date_range(waiting_time_df.index.min(), waiting_time_df.index.max(), freq = 'D')\n",
    "waiting_time_df = waiting_time_df.reindex(all_days)\n",
    "\n",
    "waiting_time_df['7d MA'] = np.around(\n",
    "    waiting_time_df\n",
    "    .avg_waiting_time\n",
    "    .rolling(window = 7, min_periods = 1).mean(), \n",
    "    decimals = 2\n",
    ")"
   ]
  },
  {
   "cell_type": "code",
   "execution_count": 28,
   "metadata": {
    "id": "0X1hxSNaBc_G"
   },
   "outputs": [
    {
     "data": {
      "text/html": [
       "<div>\n",
       "<style scoped>\n",
       "    .dataframe tbody tr th:only-of-type {\n",
       "        vertical-align: middle;\n",
       "    }\n",
       "\n",
       "    .dataframe tbody tr th {\n",
       "        vertical-align: top;\n",
       "    }\n",
       "\n",
       "    .dataframe thead th {\n",
       "        text-align: right;\n",
       "    }\n",
       "</style>\n",
       "<table border=\"1\" class=\"dataframe\">\n",
       "  <thead>\n",
       "    <tr style=\"text-align: right;\">\n",
       "      <th></th>\n",
       "      <th>avg_waiting_time</th>\n",
       "      <th>7d MA</th>\n",
       "    </tr>\n",
       "  </thead>\n",
       "  <tbody>\n",
       "    <tr>\n",
       "      <th>2022-01-08</th>\n",
       "      <td>6.8</td>\n",
       "      <td>6.66</td>\n",
       "    </tr>\n",
       "    <tr>\n",
       "      <th>2022-01-09</th>\n",
       "      <td>6.8</td>\n",
       "      <td>6.66</td>\n",
       "    </tr>\n",
       "    <tr>\n",
       "      <th>2022-01-10</th>\n",
       "      <td>7.1</td>\n",
       "      <td>6.79</td>\n",
       "    </tr>\n",
       "    <tr>\n",
       "      <th>2022-01-11</th>\n",
       "      <td>6.9</td>\n",
       "      <td>6.87</td>\n",
       "    </tr>\n",
       "    <tr>\n",
       "      <th>2022-01-12</th>\n",
       "      <td>6.1</td>\n",
       "      <td>6.81</td>\n",
       "    </tr>\n",
       "    <tr>\n",
       "      <th>2022-01-13</th>\n",
       "      <td>6.4</td>\n",
       "      <td>6.71</td>\n",
       "    </tr>\n",
       "    <tr>\n",
       "      <th>2022-01-14</th>\n",
       "      <td>6.3</td>\n",
       "      <td>6.63</td>\n",
       "    </tr>\n",
       "    <tr>\n",
       "      <th>2022-01-15</th>\n",
       "      <td>6.4</td>\n",
       "      <td>6.57</td>\n",
       "    </tr>\n",
       "    <tr>\n",
       "      <th>2022-01-16</th>\n",
       "      <td>5.6</td>\n",
       "      <td>6.40</td>\n",
       "    </tr>\n",
       "    <tr>\n",
       "      <th>2022-01-17</th>\n",
       "      <td>6.0</td>\n",
       "      <td>6.24</td>\n",
       "    </tr>\n",
       "  </tbody>\n",
       "</table>\n",
       "</div>"
      ],
      "text/plain": [
       "            avg_waiting_time  7d MA\n",
       "2022-01-08               6.8   6.66\n",
       "2022-01-09               6.8   6.66\n",
       "2022-01-10               7.1   6.79\n",
       "2022-01-11               6.9   6.87\n",
       "2022-01-12               6.1   6.81\n",
       "2022-01-13               6.4   6.71\n",
       "2022-01-14               6.3   6.63\n",
       "2022-01-15               6.4   6.57\n",
       "2022-01-16               5.6   6.40\n",
       "2022-01-17               6.0   6.24"
      ]
     },
     "execution_count": 28,
     "metadata": {},
     "output_type": "execute_result"
    }
   ],
   "source": [
    "waiting_time_df.tail(10)"
   ]
  },
  {
   "cell_type": "code",
   "execution_count": 29,
   "metadata": {
    "id": "y5Hxwrm_Bc_G"
   },
   "outputs": [
    {
     "data": {
      "image/svg+xml": [
       "<svg class=\"main-svg\" xmlns=\"http://www.w3.org/2000/svg\" xmlns:xlink=\"http://www.w3.org/1999/xlink\" width=\"1250\" height=\"500\" style=\"\" viewBox=\"0 0 1250 500\"><rect x=\"0\" y=\"0\" width=\"1250\" height=\"500\" style=\"fill: rgb(255, 255, 255); fill-opacity: 1;\"/><defs id=\"defs-b299c2\"><g class=\"clips\"><clipPath id=\"clipb299c2xyplot\" class=\"plotclip\"><rect width=\"1090\" height=\"241\"/></clipPath><clipPath class=\"axesclip\" id=\"clipb299c2x\"><rect x=\"80\" y=\"0\" width=\"1090\" height=\"500\"/></clipPath><clipPath class=\"axesclip\" id=\"clipb299c2y\"><rect x=\"0\" y=\"100\" width=\"1250\" height=\"241\"/></clipPath><clipPath class=\"axesclip\" id=\"clipb299c2xy\"><rect x=\"80\" y=\"100\" width=\"1090\" height=\"241\"/></clipPath></g><g class=\"gradients\"/><g class=\"patterns\"/></defs><g class=\"bglayer\"><rect class=\"bg\" x=\"80\" y=\"100\" width=\"1090\" height=\"241\" style=\"fill: rgb(0, 0, 0); fill-opacity: 0.05; stroke-width: 0;\"/></g><g class=\"layer-below\"><g class=\"imagelayer\"/><g class=\"shapelayer\"/></g><g class=\"cartesianlayer\"><g class=\"subplot xy\"><g class=\"layer-subplot\"><g class=\"shapelayer\"/><g class=\"imagelayer\"/></g><g class=\"gridlayer\"><g class=\"x\"><path class=\"xgrid crisp\" transform=\"translate(163.39,0)\" d=\"M0,100v241\" style=\"stroke: rgb(255, 255, 255); stroke-opacity: 1; stroke-width: 1px;\"/><path class=\"xgrid crisp\" transform=\"translate(348.03,0)\" d=\"M0,100v241\" style=\"stroke: rgb(255, 255, 255); stroke-opacity: 1; stroke-width: 1px;\"/><path class=\"xgrid crisp\" transform=\"translate(526.72,0)\" d=\"M0,100v241\" style=\"stroke: rgb(255, 255, 255); stroke-opacity: 1; stroke-width: 1px;\"/><path class=\"xgrid crisp\" transform=\"translate(711.37,0)\" d=\"M0,100v241\" style=\"stroke: rgb(255, 255, 255); stroke-opacity: 1; stroke-width: 1px;\"/><path class=\"xgrid crisp\" transform=\"translate(890.05,0)\" d=\"M0,100v241\" style=\"stroke: rgb(255, 255, 255); stroke-opacity: 1; stroke-width: 1px;\"/><path class=\"xgrid crisp\" transform=\"translate(1074.7,0)\" d=\"M0,100v241\" style=\"stroke: rgb(255, 255, 255); stroke-opacity: 1; stroke-width: 1px;\"/></g><g class=\"y\"><path class=\"ygrid crisp\" transform=\"translate(0,321.32)\" d=\"M80,0h1090\" style=\"stroke: rgb(255, 255, 255); stroke-opacity: 1; stroke-width: 1px;\"/><path class=\"ygrid crisp\" transform=\"translate(0,278.96000000000004)\" d=\"M80,0h1090\" style=\"stroke: rgb(255, 255, 255); stroke-opacity: 1; stroke-width: 1px;\"/><path class=\"ygrid crisp\" transform=\"translate(0,236.6)\" d=\"M80,0h1090\" style=\"stroke: rgb(255, 255, 255); stroke-opacity: 1; stroke-width: 1px;\"/><path class=\"ygrid crisp\" transform=\"translate(0,194.23000000000002)\" d=\"M80,0h1090\" style=\"stroke: rgb(255, 255, 255); stroke-opacity: 1; stroke-width: 1px;\"/><path class=\"ygrid crisp\" transform=\"translate(0,151.87)\" d=\"M80,0h1090\" style=\"stroke: rgb(255, 255, 255); stroke-opacity: 1; stroke-width: 1px;\"/><path class=\"ygrid crisp\" transform=\"translate(0,109.51)\" d=\"M80,0h1090\" style=\"stroke: rgb(255, 255, 255); stroke-opacity: 1; stroke-width: 1px;\"/></g></g><g class=\"zerolinelayer\"/><path class=\"xlines-below\"/><path class=\"ylines-below\"/><g class=\"overlines-below\"/><g class=\"xaxislayer-below\"/><g class=\"yaxislayer-below\"/><g class=\"overaxes-below\"/><g class=\"plot\" transform=\"translate(80,100)\" clip-path=\"url(#clipb299c2xyplot)\"><g class=\"scatterlayer mlayer\"><g class=\"trace scatter trace1dc6f1\" style=\"stroke-miterlimit: 2; opacity: 1;\"><g class=\"fills\"/><g class=\"errorbars\"/><g class=\"lines\"><path class=\"js-line\" d=\"M0,128.13L5.96,145.07L11.91,134.06L23.83,121.35L29.78,108.64L35.74,96.78L41.69,77.29L47.65,51.87L53.61,35.77L59.56,17.98L65.52,12.05L77.43,34.93L83.39,48.48L89.34,63.73L95.3,73.9L101.26,90.85L107.21,97.62L113.17,95.08L119.13,94.23L125.08,96.78L131.04,102.71L136.99,114.57L142.95,120.5L160.82,151L166.78,162.02L172.73,167.1L178.69,167.95L190.6,184.04L196.56,186.59L202.51,190.82L208.47,192.52L214.43,193.36L220.38,192.52L238.25,176.42L244.21,175.57L250.16,175.57L256.12,178.96L262.08,184.04L268.03,179.81L273.99,173.88L279.95,170.49L285.9,156.93L291.86,148.46L297.81,135.75L303.77,127.28L315.68,130.67L321.64,131.51L327.6,133.21L333.55,135.75L339.51,133.21L345.46,119.65L351.42,99.32L357.38,74.75L363.33,63.73L369.29,57.8L375.25,56.96L381.2,69.66L393.11,102.71L399.07,127.28L405.03,134.06L410.98,148.46L416.94,153.54L422.9,148.46L428.85,139.99L434.81,139.14L440.77,130.67L446.72,136.6L452.68,144.22L458.63,156.09L464.59,170.49L470.55,189.98L482.46,222.17L488.42,228.95L500.33,223.87L506.28,220.48L518.2,220.48L524.15,222.17L530.11,222.17L536.07,220.48L542.02,205.23L547.98,195.06L553.93,184.04L559.89,178.96L571.8,161.17L577.76,152.7L583.72,159.47L589.67,162.02L595.63,162.86L601.58,162.86L607.54,165.41L613.5,171.34L619.45,173.88L625.41,162.02L631.37,156.09L637.32,148.46L643.28,128.97L649.23,124.74L655.19,127.28L661.15,133.21L673.06,165.41L679.02,175.57L684.97,190.82L690.93,195.91L702.84,181.5L708.8,167.95L714.75,156.93L720.71,153.54L726.67,154.39L732.62,154.39L738.58,156.93L744.54,161.17L750.49,161.17L756.45,156.09L762.4,156.09L768.36,147.61L774.32,133.21L780.27,113.72L786.23,99.32L792.19,90.85L798.14,80.68L804.1,66.27L810.05,55.26L816.01,52.72L821.97,48.48L827.92,42.55L833.88,44.25L839.84,42.55L845.79,42.55L851.75,38.32L857.7,42.55L863.66,48.48L869.62,56.96L875.57,62.89L881.53,76.44L887.49,76.44L893.44,78.14L899.4,69.66L905.36,71.36L911.31,59.5L917.27,37.47L923.22,23.91L929.18,29L935.14,40.01L941.09,45.94L947.05,45.94L953.01,49.33L958.96,61.19L964.92,60.34L970.87,60.34L976.83,51.02L982.79,56.96L988.74,59.5L994.7,65.43L1000.66,66.27L1006.61,78.14L1012.57,82.37L1018.52,89.15L1024.48,80.68L1030.44,79.83L1036.39,80.68L1042.35,80.68L1048.31,69.66L1054.26,62.89L1060.22,67.97L1066.17,76.44L1072.13,83.22L1078.09,88.3L1090,116.26\" style=\"vector-effect: non-scaling-stroke; fill: none; stroke: rgb(99, 110, 250); stroke-opacity: 1; stroke-width: 2px; opacity: 1;\"/></g><g class=\"points\"/><g class=\"text\"/></g></g></g><g class=\"overplot\"/><path class=\"xlines-above crisp\" d=\"M0,0\" style=\"fill: none;\"/><path class=\"ylines-above crisp\" d=\"M0,0\" style=\"fill: none;\"/><g class=\"overlines-above\"/><g class=\"xaxislayer-above\"><g class=\"xtick\"><text text-anchor=\"middle\" x=\"0\" y=\"354\" transform=\"translate(163.39,0)\" style=\"font-family: 'Open Sans', verdana, arial, sans-serif; font-size: 12px; fill: rgb(42, 63, 95); fill-opacity: 1; white-space: pre; opacity: 1;\">Aug 2021</text></g><g class=\"xtick\"><text text-anchor=\"middle\" x=\"0\" y=\"354\" style=\"font-family: 'Open Sans', verdana, arial, sans-serif; font-size: 12px; fill: rgb(42, 63, 95); fill-opacity: 1; white-space: pre; opacity: 1;\" transform=\"translate(348.03,0)\">Sep 2021</text></g><g class=\"xtick\"><text text-anchor=\"middle\" x=\"0\" y=\"354\" style=\"font-family: 'Open Sans', verdana, arial, sans-serif; font-size: 12px; fill: rgb(42, 63, 95); fill-opacity: 1; white-space: pre; opacity: 1;\" transform=\"translate(526.72,0)\">Oct 2021</text></g><g class=\"xtick\"><text text-anchor=\"middle\" x=\"0\" y=\"354\" style=\"font-family: 'Open Sans', verdana, arial, sans-serif; font-size: 12px; fill: rgb(42, 63, 95); fill-opacity: 1; white-space: pre; opacity: 1;\" transform=\"translate(711.37,0)\">Nov 2021</text></g><g class=\"xtick\"><text text-anchor=\"middle\" x=\"0\" y=\"354\" style=\"font-family: 'Open Sans', verdana, arial, sans-serif; font-size: 12px; fill: rgb(42, 63, 95); fill-opacity: 1; white-space: pre; opacity: 1;\" transform=\"translate(890.05,0)\">Dec 2021</text></g><g class=\"xtick\"><text text-anchor=\"middle\" x=\"0\" y=\"354\" style=\"font-family: 'Open Sans', verdana, arial, sans-serif; font-size: 12px; fill: rgb(42, 63, 95); fill-opacity: 1; white-space: pre; opacity: 1;\" transform=\"translate(1074.7,0)\">Jan 2022</text></g></g><g class=\"yaxislayer-above\"><g class=\"ytick\"><text text-anchor=\"end\" x=\"79\" y=\"4.199999999999999\" transform=\"translate(0,321.32)\" style=\"font-family: 'Open Sans', verdana, arial, sans-serif; font-size: 12px; fill: rgb(42, 63, 95); fill-opacity: 1; white-space: pre; opacity: 1;\">5</text></g><g class=\"ytick\"><text text-anchor=\"end\" x=\"79\" y=\"4.199999999999999\" style=\"font-family: 'Open Sans', verdana, arial, sans-serif; font-size: 12px; fill: rgb(42, 63, 95); fill-opacity: 1; white-space: pre; opacity: 1;\" transform=\"translate(0,278.96000000000004)\">5.5</text></g><g class=\"ytick\"><text text-anchor=\"end\" x=\"79\" y=\"4.199999999999999\" style=\"font-family: 'Open Sans', verdana, arial, sans-serif; font-size: 12px; fill: rgb(42, 63, 95); fill-opacity: 1; white-space: pre; opacity: 1;\" transform=\"translate(0,236.6)\">6</text></g><g class=\"ytick\"><text text-anchor=\"end\" x=\"79\" y=\"4.199999999999999\" style=\"font-family: 'Open Sans', verdana, arial, sans-serif; font-size: 12px; fill: rgb(42, 63, 95); fill-opacity: 1; white-space: pre; opacity: 1;\" transform=\"translate(0,194.23000000000002)\">6.5</text></g><g class=\"ytick\"><text text-anchor=\"end\" x=\"79\" y=\"4.199999999999999\" style=\"font-family: 'Open Sans', verdana, arial, sans-serif; font-size: 12px; fill: rgb(42, 63, 95); fill-opacity: 1; white-space: pre; opacity: 1;\" transform=\"translate(0,151.87)\">7</text></g><g class=\"ytick\"><text text-anchor=\"end\" x=\"79\" y=\"4.199999999999999\" style=\"font-family: 'Open Sans', verdana, arial, sans-serif; font-size: 12px; fill: rgb(42, 63, 95); fill-opacity: 1; white-space: pre; opacity: 1;\" transform=\"translate(0,109.51)\">7.5</text></g></g><g class=\"overaxes-above\"/></g></g><g class=\"polarlayer\"/><g class=\"ternarylayer\"/><g class=\"geolayer\"/><g class=\"funnelarealayer\"/><g class=\"pielayer\"/><g class=\"iciclelayer\"/><g class=\"treemaplayer\"/><g class=\"sunburstlayer\"/><g class=\"glimages\"/><defs id=\"topdefs-b299c2\"><g class=\"clips\"/><clipPath id=\"rangesliderx-b299c2\"><rect x=\"0\" y=\"0\" width=\"1090\" height=\"48\"/></clipPath></defs><g class=\"layer-above\"><g class=\"imagelayer\"/><g class=\"shapelayer\"/></g><g class=\"infolayer\"><g class=\"rangeselector\" transform=\"translate(80,75)\" style=\"cursor: pointer; pointer-events: all;\"><g class=\"button\" transform=\"\"><rect class=\"selector-rect\" shape-rendering=\"crispEdges\" rx=\"3\" ry=\"3\" x=\"0\" y=\"0\" width=\"30\" height=\"19\" style=\"stroke: rgb(68, 68, 68); stroke-opacity: 1; fill: rgb(238, 238, 238); fill-opacity: 1; stroke-width: 0px;\"/><text class=\"selector-text\" text-anchor=\"middle\" x=\"15\" y=\"12.5\" style=\"font-family: 'Open Sans', verdana, arial, sans-serif; font-size: 12px; fill: rgb(42, 63, 95); fill-opacity: 1; white-space: pre;\">1m</text></g><g class=\"button\" transform=\"translate(35,0)\"><rect class=\"selector-rect\" shape-rendering=\"crispEdges\" rx=\"3\" ry=\"3\" x=\"0\" y=\"0\" width=\"30\" height=\"19\" style=\"stroke: rgb(68, 68, 68); stroke-opacity: 1; fill: rgb(238, 238, 238); fill-opacity: 1; stroke-width: 0px;\"/><text class=\"selector-text\" text-anchor=\"middle\" x=\"15\" y=\"12.5\" style=\"font-family: 'Open Sans', verdana, arial, sans-serif; font-size: 12px; fill: rgb(42, 63, 95); fill-opacity: 1; white-space: pre;\">6m</text></g><g class=\"button\" transform=\"translate(70,0)\"><rect class=\"selector-rect\" shape-rendering=\"crispEdges\" rx=\"3\" ry=\"3\" x=\"0\" y=\"0\" width=\"35.03125\" height=\"19\" style=\"stroke: rgb(68, 68, 68); stroke-opacity: 1; fill: rgb(238, 238, 238); fill-opacity: 1; stroke-width: 0px;\"/><text class=\"selector-text\" text-anchor=\"middle\" x=\"17.515625\" y=\"12.5\" style=\"font-family: 'Open Sans', verdana, arial, sans-serif; font-size: 12px; fill: rgb(42, 63, 95); fill-opacity: 1; white-space: pre;\">YTD</text></g></g><g class=\"g-gtitle\"><text class=\"gtitle\" x=\"62.5\" y=\"50\" text-anchor=\"start\" dy=\"0em\" style=\"font-family: 'Open Sans', verdana, arial, sans-serif; font-size: 17px; fill: rgb(42, 63, 95); opacity: 1; font-weight: normal; white-space: pre;\">Waiting Time - 7 days Moving Average</text></g><g class=\"rangeslider-container\" pointer-events=\"all\" transform=\"translate(80,372)\"><rect class=\"rangeslider-bg\" x=\"0\" y=\"0\" shape-rendering=\"crispEdges\" width=\"1090\" height=\"48\" transform=\"\" fill=\"rgba(0, 0, 0, 0.05)\" stroke=\"#444\" stroke-width=\"0\"/><g class=\"rangeslider-rangeplot xy\" clip-path=\"url(#rangesliderx-b299c2)\"><g class=\"layer-subplot\"><g class=\"shapelayer\"/><g class=\"imagelayer\"/></g><g class=\"gridlayer\"><g class=\"x\"/><g class=\"y\"/></g><g class=\"zerolinelayer\"/><path class=\"xlines-below\"/><path class=\"ylines-below\"/><g class=\"overlines-below\"/><g class=\"xaxislayer-below\"/><g class=\"yaxislayer-below\"/><g class=\"overaxes-below\"/><g class=\"plot\"><g class=\"scatterlayer mlayer rangeplot\"><g class=\"trace scatter trace1dc6f1\" style=\"stroke-miterlimit: 2; opacity: 1;\"><g class=\"fills\"/><g class=\"errorbars\"/><g class=\"lines\"><path class=\"js-line\" d=\"M0,25.52L5.96,28.89L11.91,26.7L23.83,24.17L29.78,21.64L35.74,19.27L41.69,15.39L47.65,10.33L53.61,7.12L59.56,3.58L65.52,2.4L83.39,9.66L89.34,12.69L95.3,14.72L101.26,18.09L107.21,19.44L113.17,18.94L125.08,19.27L131.04,20.46L136.99,22.82L142.95,24L166.78,32.27L172.73,33.28L178.69,33.45L184.64,35.14L190.6,36.66L196.56,37.16L208.47,38.34L214.43,38.51L220.38,38.34L226.34,37.33L238.25,35.14L244.21,34.97L256.12,35.64L262.08,36.66L279.95,33.96L285.9,31.26L291.86,29.57L297.81,27.04L303.77,25.35L309.73,25.69L333.55,27.04L339.51,26.53L345.46,23.83L351.42,19.78L357.38,14.89L363.33,12.69L369.29,11.51L375.25,11.34L381.2,13.87L387.16,17.25L393.11,20.46L399.07,25.35L405.03,26.7L410.98,29.57L416.94,30.58L422.9,29.57L428.85,27.88L434.81,27.71L440.77,26.02L446.72,27.21L452.68,28.72L458.63,31.09L464.59,33.96L470.55,37.84L482.46,44.25L488.42,45.6L512.24,43.91L518.2,43.91L530.11,44.25L536.07,43.91L542.02,40.87L547.98,38.85L553.93,36.66L559.89,35.64L577.76,30.41L583.72,31.76L595.63,32.44L601.58,32.44L619.45,34.63L625.41,32.27L637.32,29.57L643.28,25.69L649.23,24.84L655.19,25.35L661.15,26.53L667.1,29.91L673.06,32.94L679.02,34.97L684.97,38.01L690.93,39.02L702.84,36.15L708.8,33.45L714.75,31.26L720.71,30.58L738.58,31.26L744.54,32.1L750.49,32.1L756.45,31.09L762.4,31.09L768.36,29.4L774.32,26.53L780.27,22.65L786.23,19.78L792.19,18.09L798.14,16.07L804.1,13.2L810.05,11.01L816.01,10.5L827.92,8.47L833.88,8.81L851.75,7.63L857.7,8.47L875.57,12.52L881.53,15.22L893.44,15.56L899.4,13.87L905.36,14.21L911.31,11.85L917.27,7.46L923.22,4.76L929.18,5.77L935.14,7.97L941.09,9.15L947.05,9.15L953.01,9.82L958.96,12.19L970.87,12.02L976.83,10.16L994.7,13.03L1000.66,13.2L1006.61,15.56L1012.57,16.41L1018.52,17.76L1024.48,16.07L1042.35,16.07L1048.31,13.87L1054.26,12.52L1060.22,13.54L1072.13,16.57L1078.09,17.59L1090,23.16\" style=\"vector-effect: non-scaling-stroke; fill: none; stroke: rgb(99, 110, 250); stroke-opacity: 1; stroke-width: 2px; opacity: 1;\"/></g><g class=\"points\"/><g class=\"text\"/></g></g></g><g class=\"overplot\"/><path class=\"xlines-above crisp\" style=\"fill: none;\"/><path class=\"ylines-above crisp\" style=\"fill: none;\"/><g class=\"overlines-above\"/><g class=\"xaxislayer-above\"/><g class=\"yaxislayer-above\"/><g class=\"overaxes-above\"/></g><rect class=\"rangeslider-mask-min\" x=\"0\" y=\"0\" shape-rendering=\"crispEdges\" height=\"48\" width=\"0\" style=\"fill: rgb(0, 0, 0); fill-opacity: 0.4;\"/><rect class=\"rangeslider-mask-max\" y=\"0\" shape-rendering=\"crispEdges\" height=\"48\" x=\"1090\" width=\"0\" style=\"fill: rgb(0, 0, 0); fill-opacity: 0.4;\"/><g class=\"rangeslider-grabber-min\" transform=\"translate(-2.5,0.5)\"><rect class=\"rangeslider-handle-min\" x=\"0\" width=\"4\" rx=\"1\" fill=\"#fff\" stroke=\"#444\" stroke-width=\"1\" shape-rendering=\"crispEdges\" y=\"12\" height=\"24\"/><rect class=\"rangeslider-grabarea-min\" width=\"10\" x=\"0\" y=\"0\" fill=\"transparent\" height=\"48\"/></g><g class=\"rangeslider-grabber-max\" transform=\"translate(1088.5,0.5)\"><rect class=\"rangeslider-handle-max\" x=\"0\" width=\"4\" rx=\"1\" fill=\"#fff\" stroke=\"#444\" stroke-width=\"1\" shape-rendering=\"crispEdges\" y=\"12\" height=\"24\"/><rect class=\"rangeslider-grabarea-max\" width=\"10\" x=\"0\" y=\"0\" fill=\"transparent\" height=\"48\"/></g></g><g class=\"g-ytitle\"><text class=\"ytitle\" transform=\"rotate(-90,34.575,220.5)\" x=\"34.575\" y=\"220.5\" text-anchor=\"middle\" style=\"font-family: 'Open Sans', verdana, arial, sans-serif; font-size: 14px; fill: rgb(42, 63, 95); opacity: 1; font-weight: normal; white-space: pre;\">Waiting Days</text></g><g class=\"g-xtitle\"><text class=\"xtitle\" x=\"625\" y=\"451\" text-anchor=\"middle\" style=\"font-family: 'Open Sans', verdana, arial, sans-serif; font-size: 14px; fill: rgb(42, 63, 95); opacity: 1; font-weight: normal; white-space: pre;\">date</text></g></g></svg>"
      ]
     },
     "metadata": {},
     "output_type": "display_data"
    }
   ],
   "source": [
    "waiting_time_df['date'] = waiting_time_df.index\n",
    "\n",
    "fig = px.line(waiting_time_df, x = 'date', y = '7d MA', \n",
    "              title = f'Waiting Time - 7 days Moving Average')\n",
    "\n",
    "fig.update_traces(hovertemplate='Date: %{x|%Y-%m-%d}<br>Day: %{x|%A}<br>7d MA: %{y:.1f}')\n",
    "\n",
    "# Add buttons with dates, if applicable\n",
    "date_buttons = []\n",
    "date_buttons = add_date_buttons(1, waiting_time_df) # 1 month back\n",
    "date_buttons = add_date_buttons(6, waiting_time_df) # 6 months back\n",
    "date_buttons.append(dict(count = 1, label = \"YTD\", step = \"year\", stepmode = \"todate\"))\n",
    "\n",
    "fig.update_xaxes( rangeslider_visible = True, rangeselector = dict(buttons = date_buttons))\n",
    "fig.update_yaxes(title_text = 'Waiting Days')\n",
    "fig.update_layout(\n",
    "    width=1250,\n",
    "    height=500,\n",
    "    plot_bgcolor = 'rgba(0,0,0,0.05)')\n",
    "\n",
    "fig.show()"
   ]
  },
  {
   "cell_type": "markdown",
   "metadata": {
    "id": "pDzIyF0FBc_H"
   },
   "source": [
    "### Live Port Congestion"
   ]
  },
  {
   "cell_type": "markdown",
   "metadata": {
    "id": "3R8eMJMYBc_H"
   },
   "source": [
    "Live Port Congestion is translated to the number of vessels currently waiting or operating.  \n",
    "We also take into account vessels that have finished their current port call today or are expected to start their current port call within the day."
   ]
  },
  {
   "cell_type": "markdown",
   "metadata": {
    "id": "qBa17fk0Bc_H"
   },
   "source": [
    "- **Live Congestion Table**"
   ]
  },
  {
   "cell_type": "code",
   "execution_count": 30,
   "metadata": {
    "id": "013QRY37Bc_H"
   },
   "outputs": [],
   "source": [
    "vessels_at_port_df = vessels_status_with_geos_df[\n",
    "    (port_filter | areas_filter) & \n",
    "    (vessels_status_with_geos_df.DayDate.dt.date == date.today())\n",
    "].copy()"
   ]
  },
  {
   "cell_type": "code",
   "execution_count": 31,
   "metadata": {
    "id": "jdy--YUCBc_H"
   },
   "outputs": [],
   "source": [
    "vessels_at_port_df['days_at_port'] = (\n",
    "    (vessels_at_port_df.DayDate - vessels_at_port_df['arrival_date'])\n",
    "    .dt\n",
    "    .total_seconds()\n",
    "    /(60*60*24.0)\n",
    ")"
   ]
  },
  {
   "cell_type": "code",
   "execution_count": 32,
   "metadata": {
    "id": "zEq-DjHTBc_H"
   },
   "outputs": [],
   "source": [
    "vessels_at_port_df.loc[vessels_at_port_df.days_at_port < 0, 'days_at_port'] = None"
   ]
  },
  {
   "cell_type": "code",
   "execution_count": 33,
   "metadata": {
    "id": "gOdNBEEkBc_H"
   },
   "outputs": [
    {
     "data": {
      "text/html": [
       "<div>\n",
       "<style scoped>\n",
       "    .dataframe tbody tr th:only-of-type {\n",
       "        vertical-align: middle;\n",
       "    }\n",
       "\n",
       "    .dataframe tbody tr th {\n",
       "        vertical-align: top;\n",
       "    }\n",
       "\n",
       "    .dataframe thead th {\n",
       "        text-align: right;\n",
       "    }\n",
       "</style>\n",
       "<table border=\"1\" class=\"dataframe\">\n",
       "  <thead>\n",
       "    <tr style=\"text-align: right;\">\n",
       "      <th></th>\n",
       "      <th>imo</th>\n",
       "      <th>vessel_name</th>\n",
       "      <th>area_name_level0_geos</th>\n",
       "      <th>country_geos</th>\n",
       "      <th>geo_asset_name</th>\n",
       "      <th>port_name_geos</th>\n",
       "      <th>arrival_date</th>\n",
       "      <th>Mode</th>\n",
       "      <th>days_at_port</th>\n",
       "    </tr>\n",
       "  </thead>\n",
       "  <tbody>\n",
       "    <tr>\n",
       "      <th>4950</th>\n",
       "      <td>9374040</td>\n",
       "      <td>Berge Kuju</td>\n",
       "      <td>North China</td>\n",
       "      <td>China</td>\n",
       "      <td>Rizhao - Lanshan Bulk Terminal</td>\n",
       "      <td>Rizhao - Lanshan</td>\n",
       "      <td>2022-01-16 11:57:00.000</td>\n",
       "      <td>Operating</td>\n",
       "      <td>1.502083</td>\n",
       "    </tr>\n",
       "    <tr>\n",
       "      <th>4996</th>\n",
       "      <td>9423774</td>\n",
       "      <td>Alpha Faith</td>\n",
       "      <td>North China</td>\n",
       "      <td>China</td>\n",
       "      <td>Rizhao - Lanshan Bulk Terminal</td>\n",
       "      <td>Rizhao - Lanshan</td>\n",
       "      <td>2022-01-13 19:59:33.000</td>\n",
       "      <td>Operating</td>\n",
       "      <td>4.166979</td>\n",
       "    </tr>\n",
       "    <tr>\n",
       "      <th>5066</th>\n",
       "      <td>9447184</td>\n",
       "      <td>Coalmax</td>\n",
       "      <td>North China</td>\n",
       "      <td>China</td>\n",
       "      <td>Rizhao - Lanshan Bulk Terminal</td>\n",
       "      <td>Rizhao - Lanshan</td>\n",
       "      <td>2022-01-14 03:49:48.000</td>\n",
       "      <td>Operating</td>\n",
       "      <td>3.840417</td>\n",
       "    </tr>\n",
       "    <tr>\n",
       "      <th>5527</th>\n",
       "      <td>9743174</td>\n",
       "      <td>Golden Calvus</td>\n",
       "      <td>North China</td>\n",
       "      <td>China</td>\n",
       "      <td>Rizhao - Lanshan Bulk Terminal</td>\n",
       "      <td>Rizhao - Lanshan</td>\n",
       "      <td>2022-01-14 23:45:56.000</td>\n",
       "      <td>Operating</td>\n",
       "      <td>3.009769</td>\n",
       "    </tr>\n",
       "    <tr>\n",
       "      <th>5594</th>\n",
       "      <td>9844564</td>\n",
       "      <td>CL Pearl River</td>\n",
       "      <td>North China</td>\n",
       "      <td>China</td>\n",
       "      <td>Rizhao - Lanshan Bulk Terminal</td>\n",
       "      <td>Rizhao - Lanshan</td>\n",
       "      <td>2022-01-16 11:42:30.000</td>\n",
       "      <td>Operating</td>\n",
       "      <td>1.512153</td>\n",
       "    </tr>\n",
       "    <tr>\n",
       "      <th>...</th>\n",
       "      <td>...</td>\n",
       "      <td>...</td>\n",
       "      <td>...</td>\n",
       "      <td>...</td>\n",
       "      <td>...</td>\n",
       "      <td>...</td>\n",
       "      <td>...</td>\n",
       "      <td>...</td>\n",
       "      <td>...</td>\n",
       "    </tr>\n",
       "    <tr>\n",
       "      <th>93253</th>\n",
       "      <td>9902689</td>\n",
       "      <td>Hui Xiu Hai</td>\n",
       "      <td>North China</td>\n",
       "      <td>China</td>\n",
       "      <td>Dalian</td>\n",
       "      <td>Dalian</td>\n",
       "      <td>2022-01-11 03:57:52.000</td>\n",
       "      <td>Waiting</td>\n",
       "      <td>6.834815</td>\n",
       "    </tr>\n",
       "    <tr>\n",
       "      <th>93321</th>\n",
       "      <td>9678795</td>\n",
       "      <td>Mina Oldendorff</td>\n",
       "      <td>South China</td>\n",
       "      <td>China</td>\n",
       "      <td>Kemen</td>\n",
       "      <td>Kemen</td>\n",
       "      <td>2022-01-18 03:33:36.000</td>\n",
       "      <td>Waiting</td>\n",
       "      <td>NaN</td>\n",
       "    </tr>\n",
       "    <tr>\n",
       "      <th>93362</th>\n",
       "      <td>9724661</td>\n",
       "      <td>True Crimson</td>\n",
       "      <td>North China</td>\n",
       "      <td>China</td>\n",
       "      <td>Tianjin</td>\n",
       "      <td>Tianjin</td>\n",
       "      <td>2022-01-17 07:15:34.925</td>\n",
       "      <td>Waiting</td>\n",
       "      <td>0.697512</td>\n",
       "    </tr>\n",
       "    <tr>\n",
       "      <th>93489</th>\n",
       "      <td>9863106</td>\n",
       "      <td>Zella Oldendorff</td>\n",
       "      <td>Central China</td>\n",
       "      <td>China</td>\n",
       "      <td>Taicang</td>\n",
       "      <td>Taicang</td>\n",
       "      <td>2022-01-14 02:05:29.743</td>\n",
       "      <td>Waiting</td>\n",
       "      <td>3.912850</td>\n",
       "    </tr>\n",
       "    <tr>\n",
       "      <th>93507</th>\n",
       "      <td>9874715</td>\n",
       "      <td>Cs Wu Han</td>\n",
       "      <td>North China</td>\n",
       "      <td>China</td>\n",
       "      <td>Huanghua</td>\n",
       "      <td>Huanghua</td>\n",
       "      <td>2022-01-16 04:30:23.755</td>\n",
       "      <td>Waiting</td>\n",
       "      <td>1.812225</td>\n",
       "    </tr>\n",
       "  </tbody>\n",
       "</table>\n",
       "<p>183 rows × 9 columns</p>\n",
       "</div>"
      ],
      "text/plain": [
       "           imo       vessel_name area_name_level0_geos country_geos  \\\n",
       "4950   9374040        Berge Kuju           North China        China   \n",
       "4996   9423774       Alpha Faith           North China        China   \n",
       "5066   9447184           Coalmax           North China        China   \n",
       "5527   9743174     Golden Calvus           North China        China   \n",
       "5594   9844564    CL Pearl River           North China        China   \n",
       "...        ...               ...                   ...          ...   \n",
       "93253  9902689       Hui Xiu Hai           North China        China   \n",
       "93321  9678795   Mina Oldendorff           South China        China   \n",
       "93362  9724661      True Crimson           North China        China   \n",
       "93489  9863106  Zella Oldendorff         Central China        China   \n",
       "93507  9874715         Cs Wu Han           North China        China   \n",
       "\n",
       "                       geo_asset_name    port_name_geos  \\\n",
       "4950   Rizhao - Lanshan Bulk Terminal  Rizhao - Lanshan   \n",
       "4996   Rizhao - Lanshan Bulk Terminal  Rizhao - Lanshan   \n",
       "5066   Rizhao - Lanshan Bulk Terminal  Rizhao - Lanshan   \n",
       "5527   Rizhao - Lanshan Bulk Terminal  Rizhao - Lanshan   \n",
       "5594   Rizhao - Lanshan Bulk Terminal  Rizhao - Lanshan   \n",
       "...                               ...               ...   \n",
       "93253                          Dalian            Dalian   \n",
       "93321                           Kemen             Kemen   \n",
       "93362                         Tianjin           Tianjin   \n",
       "93489                         Taicang           Taicang   \n",
       "93507                        Huanghua          Huanghua   \n",
       "\n",
       "                 arrival_date       Mode  days_at_port  \n",
       "4950  2022-01-16 11:57:00.000  Operating      1.502083  \n",
       "4996  2022-01-13 19:59:33.000  Operating      4.166979  \n",
       "5066  2022-01-14 03:49:48.000  Operating      3.840417  \n",
       "5527  2022-01-14 23:45:56.000  Operating      3.009769  \n",
       "5594  2022-01-16 11:42:30.000  Operating      1.512153  \n",
       "...                       ...        ...           ...  \n",
       "93253 2022-01-11 03:57:52.000    Waiting      6.834815  \n",
       "93321 2022-01-18 03:33:36.000    Waiting           NaN  \n",
       "93362 2022-01-17 07:15:34.925    Waiting      0.697512  \n",
       "93489 2022-01-14 02:05:29.743    Waiting      3.912850  \n",
       "93507 2022-01-16 04:30:23.755    Waiting      1.812225  \n",
       "\n",
       "[183 rows x 9 columns]"
      ]
     },
     "execution_count": 33,
     "metadata": {},
     "output_type": "execute_result"
    }
   ],
   "source": [
    "vessels_at_port_df\\\n",
    "[['imo','vessel_name','area_name_level0_geos','country_geos','geo_asset_name','port_name_geos','arrival_date','Mode','days_at_port']]"
   ]
  },
  {
   "cell_type": "markdown",
   "metadata": {
    "id": "9K_C7F5-Bc_H"
   },
   "source": [
    "- **Congestion Heatmap**"
   ]
  },
  {
   "cell_type": "markdown",
   "metadata": {
    "id": "EjQOBMDUBc_H"
   },
   "source": [
    "In this example we are displaying the density of the measure 'days at port' around the world.  \n",
    "Dasy at port correspond to the difference between current date and port call arrival date."
   ]
  },
  {
   "cell_type": "code",
   "execution_count": 34,
   "metadata": {
    "id": "borlJW84Bc_J"
   },
   "outputs": [
    {
     "data": {
      "image/svg+xml": [
       "<svg class=\"main-svg\" xmlns=\"http://www.w3.org/2000/svg\" xmlns:xlink=\"http://www.w3.org/1999/xlink\" width=\"700\" height=\"500\" style=\"\" viewBox=\"0 0 700 500\"><rect x=\"0\" y=\"0\" width=\"700\" height=\"500\" style=\"fill: rgb(255, 255, 255); fill-opacity: 1;\"/><defs id=\"defs-5bcf8d\"><g class=\"clips\"/><g class=\"gradients\"><linearGradient x1=\"0\" x2=\"0\" y1=\"1\" y2=\"0\" id=\"g5bcf8d-cbcoloraxis\"><stop offset=\"0%\" stop-color=\"rgb(13, 8, 135)\" stop-opacity=\"1\"/><stop offset=\"11.111111%\" stop-color=\"rgb(70, 3, 159)\" stop-opacity=\"1\"/><stop offset=\"22.222222%\" stop-color=\"rgb(114, 1, 168)\" stop-opacity=\"1\"/><stop offset=\"33.333333%\" stop-color=\"rgb(156, 23, 158)\" stop-opacity=\"1\"/><stop offset=\"44.444444%\" stop-color=\"rgb(189, 55, 134)\" stop-opacity=\"1\"/><stop offset=\"55.555556%\" stop-color=\"rgb(216, 87, 107)\" stop-opacity=\"1\"/><stop offset=\"66.666667%\" stop-color=\"rgb(237, 121, 83)\" stop-opacity=\"1\"/><stop offset=\"77.777778%\" stop-color=\"rgb(251, 159, 58)\" stop-opacity=\"1\"/><stop offset=\"88.888889%\" stop-color=\"rgb(253, 202, 38)\" stop-opacity=\"1\"/><stop offset=\"100%\" stop-color=\"rgb(240, 249, 33)\" stop-opacity=\"1\"/></linearGradient></g><g class=\"patterns\"/></defs><g class=\"bglayer\"/><g class=\"layer-below\"><g class=\"imagelayer\"/><g class=\"shapelayer\"/></g><g class=\"cartesianlayer\"/><g class=\"polarlayer\"/><g class=\"ternarylayer\"/><g class=\"geolayer\"/><g class=\"funnelarealayer\"/><g class=\"pielayer\"/><g class=\"iciclelayer\"/><g class=\"treemaplayer\"/><g class=\"sunburstlayer\"/><g class=\"glimages\"><image xmlns=\"http://www.w3.org/2000/svg\" xlink:href=\"data:image/png;base64,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\" x=\"80\" y=\"60\" width=\"485\" height=\"360\" preserveAspectRatio=\"none\"/><g transform=\"translate(565,420)\"><rect x=\"-273.8125\" y=\"-32.609375\" width=\"273.8125\" height=\"32.609375\" fill=\"rgba(255, 255, 255, 0.75)\"/><text class=\"static-attribution\" font-size=\"12\" font-family=\"Arial\" color=\"rgba(0, 0, 0, 0.75)\" text-anchor=\"end\" x=\"0\" y=\"0\" style=\"white-space: pre;\" transform=\"translate(-3,-21.609375)\"><tspan class=\"line\" dy=\"0em\" x=\"0\" y=\"0\">Map tiles by Stamen Design under CC BY 3.0 </tspan><tspan class=\"line\" dy=\"1.3em\" x=\"0\" y=\"0\"> Data by OpenStreetMap contributors under ODbL</tspan></text></g></g><defs id=\"topdefs-5bcf8d\"><g class=\"clips\"/></defs><g class=\"layer-above\"><g class=\"imagelayer\"/><g class=\"shapelayer\"/></g><g class=\"infolayer\"><g class=\"cbcoloraxis colorbar\" transform=\"translate(80,60)\"><rect class=\"cbbg\" x=\"495\" y=\"0\" width=\"113.234375\" height=\"360\" style=\"fill: rgb(0, 0, 0); fill-opacity: 0; stroke: rgb(68, 68, 68); stroke-opacity: 1; stroke-width: 0;\"/><g class=\"cbfills\" transform=\"translate(0,32)\"><rect class=\"cbfill\" x=\"505\" width=\"30\" y=\"0\" height=\"318\" style=\"fill: url('#g5bcf8d-cbcoloraxis');\"/></g><g class=\"cblines\" transform=\"translate(0,32)\"/><g class=\"cbaxis crisp\" transform=\"translate(0,-60)\"><g class=\"ycbcoloraxistick\"><text text-anchor=\"start\" x=\"537.9\" y=\"4.199999999999999\" transform=\"translate(0,369.08)\" style=\"font-family: 'Open Sans', verdana, arial, sans-serif; font-size: 12px; fill: rgb(42, 63, 95); fill-opacity: 1; white-space: pre; opacity: 1;\">5</text></g><g class=\"ycbcoloraxistick\"><text text-anchor=\"start\" x=\"537.9\" y=\"4.199999999999999\" style=\"font-family: 'Open Sans', verdana, arial, sans-serif; font-size: 12px; fill: rgb(42, 63, 95); fill-opacity: 1; white-space: pre; opacity: 1;\" transform=\"translate(0,328.14)\">10</text></g><g class=\"ycbcoloraxistick\"><text text-anchor=\"start\" x=\"537.9\" y=\"4.199999999999999\" style=\"font-family: 'Open Sans', verdana, arial, sans-serif; font-size: 12px; fill: rgb(42, 63, 95); fill-opacity: 1; white-space: pre; opacity: 1;\" transform=\"translate(0,287.19)\">15</text></g><g class=\"ycbcoloraxistick\"><text text-anchor=\"start\" x=\"537.9\" y=\"4.199999999999999\" style=\"font-family: 'Open Sans', verdana, arial, sans-serif; font-size: 12px; fill: rgb(42, 63, 95); fill-opacity: 1; white-space: pre; opacity: 1;\" transform=\"translate(0,246.24)\">20</text></g><g class=\"ycbcoloraxistick\"><text text-anchor=\"start\" x=\"537.9\" y=\"4.199999999999999\" style=\"font-family: 'Open Sans', verdana, arial, sans-serif; font-size: 12px; fill: rgb(42, 63, 95); fill-opacity: 1; white-space: pre; opacity: 1;\" transform=\"translate(0,205.29000000000002)\">25</text></g><g class=\"ycbcoloraxistick\"><text text-anchor=\"start\" x=\"537.9\" y=\"4.199999999999999\" style=\"font-family: 'Open Sans', verdana, arial, sans-serif; font-size: 12px; fill: rgb(42, 63, 95); fill-opacity: 1; white-space: pre; opacity: 1;\" transform=\"translate(0,164.34)\">30</text></g><g class=\"ycbcoloraxistick\"><text text-anchor=\"start\" x=\"537.9\" y=\"4.199999999999999\" style=\"font-family: 'Open Sans', verdana, arial, sans-serif; font-size: 12px; fill: rgb(42, 63, 95); fill-opacity: 1; white-space: pre; opacity: 1;\" transform=\"translate(0,123.39)\">35</text></g></g><g class=\"cbtitleunshift\" transform=\"translate(-80,-60)\"><g class=\"cbtitle\" transform=\"\"><text class=\"ycbcoloraxistitle\" x=\"584.7\" y=\"83.5\" text-anchor=\"start\" style=\"font-family: 'Open Sans', verdana, arial, sans-serif; font-size: 14px; fill: rgb(42, 63, 95); opacity: 1; font-weight: normal; white-space: pre;\">days_at_port</text></g></g><rect class=\"cboutline\" x=\"505\" y=\"32\" width=\"30\" height=\"318\" style=\"stroke: rgb(68, 68, 68); stroke-opacity: 1; fill: none; stroke-width: 0;\"/></g><g class=\"g-gtitle\"><text class=\"gtitle\" x=\"350\" y=\"30\" text-anchor=\"middle\" dy=\"0em\" style=\"font-family: 'Open Sans', verdana, arial, sans-serif; font-size: 17px; fill: rgb(42, 63, 95); opacity: 1; font-weight: normal; white-space: pre;\">Today's Activity</text></g></g></svg>"
      ]
     },
     "metadata": {},
     "output_type": "display_data"
    }
   ],
   "source": [
    "fig = px.density_mapbox(vessels_at_port_df, lat = 'latitude', lon = 'longitude', z = 'days_at_port', radius = 10,\n",
    "                        center = dict(lat = 0, lon = 180),zoom = 0, mapbox_style = \"stamen-terrain\",\n",
    "                        custom_data = ['imo', 'vessel_name', 'purpose', 'port_name_geos', 'arrival_date', 'days_at_port'])\n",
    "fig.update_layout(\n",
    "    title = \"Today's Activity\", \n",
    "    title_x = 0.5,\n",
    "    width=700,\n",
    "    height=500)\n",
    "fig.update_traces(hovertemplate = 'IMO: %{customdata[0]} <br>Vessel Name: %{customdata[1]} <br>Purpose: %{customdata[2]} <br>Port: %{customdata[3]} <br>Arrival Date: %{customdata[4]} <br>Days at port: %{customdata[5]:.1f}')\n",
    "fig.show()"
   ]
  },
  {
   "cell_type": "markdown",
   "metadata": {
    "id": "2xoVU379Bc_J"
   },
   "source": [
    "- **Busiest Ports**"
   ]
  },
  {
   "cell_type": "markdown",
   "metadata": {
    "id": "znP0FpF_Bc_J"
   },
   "source": [
    "With this example we can monitor the number of vessels and their current Mode under any areas of interest. "
   ]
  },
  {
   "cell_type": "code",
   "execution_count": 35,
   "metadata": {
    "id": "AQGXmcJtBc_J"
   },
   "outputs": [],
   "source": [
    "aggregated_df = (\n",
    "    vessels_at_port_df[\n",
    "        (vessels_at_port_df.area_name_level0_geos.isin(\n",
    "            ['Central China','North China', 'South China'])\n",
    "        )\n",
    "    ]\n",
    "    .groupby(['port_name_geos','Mode'])\n",
    "    .imo\n",
    "    .nunique()\n",
    "    .reset_index()\n",
    "    .rename(columns = {'imo':'num_of_vessels'})\n",
    ")"
   ]
  },
  {
   "cell_type": "code",
   "execution_count": 36,
   "metadata": {
    "id": "CD7oyGUpBc_K"
   },
   "outputs": [],
   "source": [
    "top_10_busy_ports = (\n",
    "    aggregated_df.\n",
    "    groupby('port_name_geos')\n",
    "    .num_of_vessels\n",
    "    .sum()\n",
    "    .sort_values(ascending = False)\n",
    "    .head(10)\n",
    "    .index\n",
    ")"
   ]
  },
  {
   "cell_type": "code",
   "execution_count": 37,
   "metadata": {
    "id": "y3w7CWwmBc_K"
   },
   "outputs": [
    {
     "data": {
      "image/svg+xml": [
       "<svg class=\"main-svg\" xmlns=\"http://www.w3.org/2000/svg\" xmlns:xlink=\"http://www.w3.org/1999/xlink\" width=\"1000\" height=\"500\" style=\"\" viewBox=\"0 0 1000 500\"><rect x=\"0\" y=\"0\" width=\"1000\" height=\"500\" style=\"fill: rgb(255, 255, 255); fill-opacity: 1;\"/><defs id=\"defs-6aaf95\"><g class=\"clips\"><clipPath id=\"clip6aaf95xyplot\" class=\"plotclip\"><rect width=\"726\" height=\"320\"/></clipPath><clipPath class=\"axesclip\" id=\"clip6aaf95x\"><rect x=\"142\" y=\"0\" width=\"726\" height=\"500\"/></clipPath><clipPath class=\"axesclip\" id=\"clip6aaf95y\"><rect x=\"0\" y=\"100\" width=\"1000\" height=\"320\"/></clipPath><clipPath class=\"axesclip\" id=\"clip6aaf95xy\"><rect x=\"142\" y=\"100\" width=\"726\" height=\"320\"/></clipPath></g><g class=\"gradients\"/><g class=\"patterns\"/></defs><g class=\"bglayer\"><rect class=\"bg\" x=\"142\" y=\"100\" width=\"726\" height=\"320\" style=\"fill: rgb(229, 236, 246); fill-opacity: 1; stroke-width: 0;\"/></g><g class=\"layer-below\"><g class=\"imagelayer\"/><g class=\"shapelayer\"/></g><g class=\"cartesianlayer\"><g class=\"subplot xy\"><g class=\"layer-subplot\"><g class=\"shapelayer\"/><g class=\"imagelayer\"/></g><g class=\"gridlayer\"><g class=\"x\"><path class=\"xgrid crisp\" transform=\"translate(314.43,0)\" d=\"M0,100v320\" style=\"stroke: rgb(255, 255, 255); stroke-opacity: 1; stroke-width: 1px;\"/><path class=\"xgrid crisp\" transform=\"translate(486.85,0)\" d=\"M0,100v320\" style=\"stroke: rgb(255, 255, 255); stroke-opacity: 1; stroke-width: 1px;\"/><path class=\"xgrid crisp\" transform=\"translate(659.28,0)\" d=\"M0,100v320\" style=\"stroke: rgb(255, 255, 255); stroke-opacity: 1; stroke-width: 1px;\"/><path class=\"xgrid crisp\" transform=\"translate(831.7,0)\" d=\"M0,100v320\" style=\"stroke: rgb(255, 255, 255); stroke-opacity: 1; stroke-width: 1px;\"/></g><g class=\"y\"/></g><g class=\"zerolinelayer\"><path class=\"xzl zl crisp\" transform=\"translate(142,0)\" d=\"M0,100v320\" style=\"stroke: rgb(255, 255, 255); stroke-opacity: 1; stroke-width: 2px;\"/></g><path class=\"xlines-below\"/><path class=\"ylines-below\"/><g class=\"overlines-below\"/><g class=\"xaxislayer-below\"/><g class=\"yaxislayer-below\"/><g class=\"overaxes-below\"/><g class=\"plot\" transform=\"translate(142,100)\" clip-path=\"url(#clip6aaf95xyplot)\"><g class=\"barlayer mlayer\"><g class=\"trace bars\" shape-rendering=\"crispEdges\" style=\"opacity: 1;\"><g class=\"points\"><g class=\"point\"><path d=\"M0,28.8V3.2H103.46V28.8Z\" style=\"vector-effect: non-scaling-stroke; opacity: 1; stroke-width: 0.5px; fill: rgb(38, 24, 74); fill-opacity: 0.8; stroke: rgb(229, 236, 246); stroke-opacity: 1;\"/><text class=\"bartext bartext-inside\" text-anchor=\"middle\" data-notex=\"1\" x=\"0\" y=\"0\" style=\"font-family: 'Open Sans', verdana, arial, sans-serif; font-size: 12px; fill: rgb(255, 255, 255); fill-opacity: 1; white-space: pre;\" transform=\"translate(96.631875,20.5)\">3</text></g><g class=\"point\"><path d=\"M0,316.8V291.2H137.94V316.8Z\" style=\"vector-effect: non-scaling-stroke; opacity: 1; stroke-width: 0.5px; fill: rgb(38, 24, 74); fill-opacity: 0.8; stroke: rgb(229, 236, 246); stroke-opacity: 1;\"/><text class=\"bartext bartext-inside\" text-anchor=\"middle\" data-notex=\"1\" x=\"0\" y=\"0\" style=\"font-family: 'Open Sans', verdana, arial, sans-serif; font-size: 12px; fill: rgb(255, 255, 255); fill-opacity: 1; white-space: pre;\" transform=\"translate(130.7525,308.5)\">4</text></g><g class=\"point\"><path d=\"M0,60.8V35.2H103.46V60.8Z\" style=\"vector-effect: non-scaling-stroke; opacity: 1; stroke-width: 0.5px; fill: rgb(38, 24, 74); fill-opacity: 0.8; stroke: rgb(229, 236, 246); stroke-opacity: 1;\"/><text class=\"bartext bartext-inside\" text-anchor=\"middle\" data-notex=\"1\" x=\"0\" y=\"0\" style=\"font-family: 'Open Sans', verdana, arial, sans-serif; font-size: 12px; fill: rgb(255, 255, 255); fill-opacity: 1; white-space: pre;\" transform=\"translate(96.631875,52.5)\">3</text></g><g class=\"point\"><path d=\"M0,284.8V259.2H137.94V284.8Z\" style=\"vector-effect: non-scaling-stroke; opacity: 1; stroke-width: 0.5px; fill: rgb(38, 24, 74); fill-opacity: 0.8; stroke: rgb(229, 236, 246); stroke-opacity: 1;\"/><text class=\"bartext bartext-inside\" text-anchor=\"middle\" data-notex=\"1\" x=\"0\" y=\"0\" style=\"font-family: 'Open Sans', verdana, arial, sans-serif; font-size: 12px; fill: rgb(255, 255, 255); fill-opacity: 1; white-space: pre;\" transform=\"translate(130.7525,276.5)\">4</text></g><g class=\"point\"><path d=\"M0,220.8V195.2H137.94V220.8Z\" style=\"vector-effect: non-scaling-stroke; opacity: 1; stroke-width: 0.5px; fill: rgb(38, 24, 74); fill-opacity: 0.8; stroke: rgb(229, 236, 246); stroke-opacity: 1;\"/><text class=\"bartext bartext-inside\" text-anchor=\"middle\" data-notex=\"1\" x=\"0\" y=\"0\" style=\"font-family: 'Open Sans', verdana, arial, sans-serif; font-size: 12px; fill: rgb(255, 255, 255); fill-opacity: 1; white-space: pre;\" transform=\"translate(130.7525,212.5)\">4</text></g><g class=\"point\"><path d=\"M0,156.8V131.2H206.91V156.8Z\" style=\"vector-effect: non-scaling-stroke; opacity: 1; stroke-width: 0.5px; fill: rgb(38, 24, 74); fill-opacity: 0.8; stroke: rgb(229, 236, 246); stroke-opacity: 1;\"/><text class=\"bartext bartext-inside\" text-anchor=\"middle\" data-notex=\"1\" x=\"0\" y=\"0\" style=\"font-family: 'Open Sans', verdana, arial, sans-serif; font-size: 12px; fill: rgb(255, 255, 255); fill-opacity: 1; white-space: pre;\" transform=\"translate(199.7225,148.5)\">6</text></g><g class=\"point\"><path d=\"M0,252.8V227.2H103.46V252.8Z\" style=\"vector-effect: non-scaling-stroke; opacity: 1; stroke-width: 0.5px; fill: rgb(38, 24, 74); fill-opacity: 0.8; stroke: rgb(229, 236, 246); stroke-opacity: 1;\"/><text class=\"bartext bartext-inside\" text-anchor=\"middle\" data-notex=\"1\" x=\"0\" y=\"0\" style=\"font-family: 'Open Sans', verdana, arial, sans-serif; font-size: 12px; fill: rgb(255, 255, 255); fill-opacity: 1; white-space: pre;\" transform=\"translate(96.631875,244.5)\">3</text></g><g class=\"point\"><path d=\"M0,92.8V67.2H172.43V92.8Z\" style=\"vector-effect: non-scaling-stroke; opacity: 1; stroke-width: 0.5px; fill: rgb(38, 24, 74); fill-opacity: 0.8; stroke: rgb(229, 236, 246); stroke-opacity: 1;\"/><text class=\"bartext bartext-inside\" text-anchor=\"middle\" data-notex=\"1\" x=\"0\" y=\"0\" style=\"font-family: 'Open Sans', verdana, arial, sans-serif; font-size: 12px; fill: rgb(255, 255, 255); fill-opacity: 1; white-space: pre;\" transform=\"translate(165.2425,84.5)\">5</text></g><g class=\"point\"><path d=\"M0,188.8V163.2H34.49V188.8Z\" style=\"vector-effect: non-scaling-stroke; opacity: 1; stroke-width: 0.5px; fill: rgb(38, 24, 74); fill-opacity: 0.8; stroke: rgb(229, 236, 246); stroke-opacity: 1;\"/><text class=\"bartext bartext-inside\" text-anchor=\"middle\" data-notex=\"1\" x=\"0\" y=\"0\" style=\"font-family: 'Open Sans', verdana, arial, sans-serif; font-size: 12px; fill: rgb(255, 255, 255); fill-opacity: 1; white-space: pre;\" transform=\"translate(27.661875000000002,180.5)\">1</text></g><g class=\"point\"><path d=\"M0,124.8V99.2H103.46V124.8Z\" style=\"vector-effect: non-scaling-stroke; opacity: 1; stroke-width: 0.5px; fill: rgb(38, 24, 74); fill-opacity: 0.8; stroke: rgb(229, 236, 246); stroke-opacity: 1;\"/><text class=\"bartext bartext-inside\" text-anchor=\"middle\" data-notex=\"1\" x=\"0\" y=\"0\" style=\"font-family: 'Open Sans', verdana, arial, sans-serif; font-size: 12px; fill: rgb(255, 255, 255); fill-opacity: 1; white-space: pre;\" transform=\"translate(96.631875,116.5)\">3</text></g></g></g><g class=\"trace bars\" shape-rendering=\"crispEdges\" style=\"opacity: 1;\"><g class=\"points\"><g class=\"point\"><path d=\"M103.46,28.8V3.2H689.7V28.8Z\" style=\"vector-effect: non-scaling-stroke; opacity: 1; stroke-width: 0.5px; fill: rgb(122, 120, 168); fill-opacity: 0.8; stroke: rgb(229, 236, 246); stroke-opacity: 1;\"/><text class=\"bartext bartext-inside\" text-anchor=\"middle\" data-notex=\"1\" x=\"0\" y=\"0\" style=\"font-family: 'Open Sans', verdana, arial, sans-serif; font-size: 12px; fill: rgb(68, 68, 68); fill-opacity: 1; white-space: pre;\" transform=\"translate(678.7,20.5)\">17</text></g><g class=\"point\"><path d=\"M137.94,316.8V291.2H275.88V316.8Z\" style=\"vector-effect: non-scaling-stroke; opacity: 1; stroke-width: 0.5px; fill: rgb(122, 120, 168); fill-opacity: 0.8; stroke: rgb(229, 236, 246); stroke-opacity: 1;\"/><text class=\"bartext bartext-inside\" text-anchor=\"middle\" data-notex=\"1\" x=\"0\" y=\"0\" style=\"font-family: 'Open Sans', verdana, arial, sans-serif; font-size: 12px; fill: rgb(68, 68, 68); fill-opacity: 1; white-space: pre;\" transform=\"translate(268.6925,308.5)\">4</text></g><g class=\"point\"><path d=\"M103.46,60.8V35.2H586.25V60.8Z\" style=\"vector-effect: non-scaling-stroke; opacity: 1; stroke-width: 0.5px; fill: rgb(122, 120, 168); fill-opacity: 0.8; stroke: rgb(229, 236, 246); stroke-opacity: 1;\"/><text class=\"bartext bartext-inside\" text-anchor=\"middle\" data-notex=\"1\" x=\"0\" y=\"0\" style=\"font-family: 'Open Sans', verdana, arial, sans-serif; font-size: 12px; fill: rgb(68, 68, 68); fill-opacity: 1; white-space: pre;\" transform=\"translate(575.25,52.5)\">14</text></g><g class=\"point\"><path d=\"M137.94,284.8V259.2H275.88V284.8Z\" style=\"vector-effect: non-scaling-stroke; opacity: 1; stroke-width: 0.5px; fill: rgb(122, 120, 168); fill-opacity: 0.8; stroke: rgb(229, 236, 246); stroke-opacity: 1;\"/><text class=\"bartext bartext-inside\" text-anchor=\"middle\" data-notex=\"1\" x=\"0\" y=\"0\" style=\"font-family: 'Open Sans', verdana, arial, sans-serif; font-size: 12px; fill: rgb(68, 68, 68); fill-opacity: 1; white-space: pre;\" transform=\"translate(268.6925,276.5)\">4</text></g><g class=\"point\"><path d=\"M137.94,220.8V195.2H310.37V220.8Z\" style=\"vector-effect: non-scaling-stroke; opacity: 1; stroke-width: 0.5px; fill: rgb(122, 120, 168); fill-opacity: 0.8; stroke: rgb(229, 236, 246); stroke-opacity: 1;\"/><text class=\"bartext bartext-inside\" text-anchor=\"middle\" data-notex=\"1\" x=\"0\" y=\"0\" style=\"font-family: 'Open Sans', verdana, arial, sans-serif; font-size: 12px; fill: rgb(68, 68, 68); fill-opacity: 1; white-space: pre;\" transform=\"translate(303.1825,212.5)\">5</text></g><g class=\"point\"><path d=\"M206.91,156.8V131.2H379.34V156.8Z\" style=\"vector-effect: non-scaling-stroke; opacity: 1; stroke-width: 0.5px; fill: rgb(122, 120, 168); fill-opacity: 0.8; stroke: rgb(229, 236, 246); stroke-opacity: 1;\"/><text class=\"bartext bartext-inside\" text-anchor=\"middle\" data-notex=\"1\" x=\"0\" y=\"0\" style=\"font-family: 'Open Sans', verdana, arial, sans-serif; font-size: 12px; fill: rgb(68, 68, 68); fill-opacity: 1; white-space: pre;\" transform=\"translate(372.1525,148.5)\">5</text></g><g class=\"point\"><path d=\"M103.46,252.8V227.2H275.88V252.8Z\" style=\"vector-effect: non-scaling-stroke; opacity: 1; stroke-width: 0.5px; fill: rgb(122, 120, 168); fill-opacity: 0.8; stroke: rgb(229, 236, 246); stroke-opacity: 1;\"/><text class=\"bartext bartext-inside\" text-anchor=\"middle\" data-notex=\"1\" x=\"0\" y=\"0\" style=\"font-family: 'Open Sans', verdana, arial, sans-serif; font-size: 12px; fill: rgb(68, 68, 68); fill-opacity: 1; white-space: pre;\" transform=\"translate(268.6925,244.5)\">5</text></g><g class=\"point\"><path d=\"M172.43,92.8V67.2H551.76V92.8Z\" style=\"vector-effect: non-scaling-stroke; opacity: 1; stroke-width: 0.5px; fill: rgb(122, 120, 168); fill-opacity: 0.8; stroke: rgb(229, 236, 246); stroke-opacity: 1;\"/><text class=\"bartext bartext-inside\" text-anchor=\"middle\" data-notex=\"1\" x=\"0\" y=\"0\" style=\"font-family: 'Open Sans', verdana, arial, sans-serif; font-size: 12px; fill: rgb(68, 68, 68); fill-opacity: 1; white-space: pre;\" transform=\"translate(541.119375,84.5)\">11</text></g><g class=\"point\"><path d=\"M34.49,188.8V163.2H344.85V188.8Z\" style=\"vector-effect: non-scaling-stroke; opacity: 1; stroke-width: 0.5px; fill: rgb(122, 120, 168); fill-opacity: 0.8; stroke: rgb(229, 236, 246); stroke-opacity: 1;\"/><text class=\"bartext bartext-inside\" text-anchor=\"middle\" data-notex=\"1\" x=\"0\" y=\"0\" style=\"font-family: 'Open Sans', verdana, arial, sans-serif; font-size: 12px; fill: rgb(68, 68, 68); fill-opacity: 1; white-space: pre;\" transform=\"translate(337.6625,180.5)\">9</text></g><g class=\"point\"><path d=\"M103.46,124.8V99.2H413.82V124.8Z\" style=\"vector-effect: non-scaling-stroke; opacity: 1; stroke-width: 0.5px; fill: rgb(122, 120, 168); fill-opacity: 0.8; stroke: rgb(229, 236, 246); stroke-opacity: 1;\"/><text class=\"bartext bartext-inside\" text-anchor=\"middle\" data-notex=\"1\" x=\"0\" y=\"0\" style=\"font-family: 'Open Sans', verdana, arial, sans-serif; font-size: 12px; fill: rgb(68, 68, 68); fill-opacity: 1; white-space: pre;\" transform=\"translate(406.6325,116.5)\">9</text></g></g></g></g></g><g class=\"overplot\"/><path class=\"xlines-above crisp\" d=\"M0,0\" style=\"fill: none;\"/><path class=\"ylines-above crisp\" d=\"M0,0\" style=\"fill: none;\"/><g class=\"overlines-above\"/><g class=\"xaxislayer-above\"><g class=\"xtick\"><text text-anchor=\"middle\" x=\"0\" y=\"433\" transform=\"translate(142,0)\" style=\"font-family: 'Open Sans', verdana, arial, sans-serif; font-size: 12px; fill: rgb(42, 63, 95); fill-opacity: 1; white-space: pre; opacity: 1;\">0</text></g><g class=\"xtick\"><text text-anchor=\"middle\" x=\"0\" y=\"433\" style=\"font-family: 'Open Sans', verdana, arial, sans-serif; font-size: 12px; fill: rgb(42, 63, 95); fill-opacity: 1; white-space: pre; opacity: 1;\" transform=\"translate(314.43,0)\">5</text></g><g class=\"xtick\"><text text-anchor=\"middle\" x=\"0\" y=\"433\" style=\"font-family: 'Open Sans', verdana, arial, sans-serif; font-size: 12px; fill: rgb(42, 63, 95); fill-opacity: 1; white-space: pre; opacity: 1;\" transform=\"translate(486.85,0)\">10</text></g><g class=\"xtick\"><text text-anchor=\"middle\" x=\"0\" y=\"433\" style=\"font-family: 'Open Sans', verdana, arial, sans-serif; font-size: 12px; fill: rgb(42, 63, 95); fill-opacity: 1; white-space: pre; opacity: 1;\" transform=\"translate(659.28,0)\">15</text></g><g class=\"xtick\"><text text-anchor=\"middle\" x=\"0\" y=\"433\" style=\"font-family: 'Open Sans', verdana, arial, sans-serif; font-size: 12px; fill: rgb(42, 63, 95); fill-opacity: 1; white-space: pre; opacity: 1;\" transform=\"translate(831.7,0)\">20</text></g></g><g class=\"yaxislayer-above\"><g class=\"ytick\"><text text-anchor=\"end\" x=\"141\" y=\"4.199999999999999\" transform=\"translate(0,404)\" style=\"font-family: 'Open Sans', verdana, arial, sans-serif; font-size: 12px; fill: rgb(42, 63, 95); fill-opacity: 1; white-space: pre; opacity: 1;\">Caofeidian</text></g><g class=\"ytick\"><text text-anchor=\"end\" x=\"141\" y=\"4.199999999999999\" transform=\"translate(0,372)\" style=\"font-family: 'Open Sans', verdana, arial, sans-serif; font-size: 12px; fill: rgb(42, 63, 95); fill-opacity: 1; white-space: pre; opacity: 1;\">Jiangyin</text></g><g class=\"ytick\"><text text-anchor=\"end\" x=\"141\" y=\"4.199999999999999\" transform=\"translate(0,340)\" style=\"font-family: 'Open Sans', verdana, arial, sans-serif; font-size: 12px; fill: rgb(42, 63, 95); fill-opacity: 1; white-space: pre; opacity: 1;\">Qingdao</text></g><g class=\"ytick\"><text text-anchor=\"end\" x=\"141\" y=\"4.199999999999999\" transform=\"translate(0,308)\" style=\"font-family: 'Open Sans', verdana, arial, sans-serif; font-size: 12px; fill: rgb(42, 63, 95); fill-opacity: 1; white-space: pre; opacity: 1;\">Lianyungang</text></g><g class=\"ytick\"><text text-anchor=\"end\" x=\"141\" y=\"4.199999999999999\" transform=\"translate(0,276)\" style=\"font-family: 'Open Sans', verdana, arial, sans-serif; font-size: 12px; fill: rgb(42, 63, 95); fill-opacity: 1; white-space: pre; opacity: 1;\">Shanghai</text></g><g class=\"ytick\"><text text-anchor=\"end\" x=\"141\" y=\"4.199999999999999\" transform=\"translate(0,244)\" style=\"font-family: 'Open Sans', verdana, arial, sans-serif; font-size: 12px; fill: rgb(42, 63, 95); fill-opacity: 1; white-space: pre; opacity: 1;\">Ningbo</text></g><g class=\"ytick\"><text text-anchor=\"end\" x=\"141\" y=\"4.199999999999999\" transform=\"translate(0,212)\" style=\"font-family: 'Open Sans', verdana, arial, sans-serif; font-size: 12px; fill: rgb(42, 63, 95); fill-opacity: 1; white-space: pre; opacity: 1;\">Tianjin</text></g><g class=\"ytick\"><text text-anchor=\"end\" x=\"141\" y=\"4.199999999999999\" transform=\"translate(0,180)\" style=\"font-family: 'Open Sans', verdana, arial, sans-serif; font-size: 12px; fill: rgb(42, 63, 95); fill-opacity: 1; white-space: pre; opacity: 1;\">Rizhao - Lanshan</text></g><g class=\"ytick\"><text text-anchor=\"end\" x=\"141\" y=\"4.199999999999999\" transform=\"translate(0,148)\" style=\"font-family: 'Open Sans', verdana, arial, sans-serif; font-size: 12px; fill: rgb(42, 63, 95); fill-opacity: 1; white-space: pre; opacity: 1;\">Fangcheng</text></g><g class=\"ytick\"><text text-anchor=\"end\" x=\"141\" y=\"4.199999999999999\" transform=\"translate(0,116)\" style=\"font-family: 'Open Sans', verdana, arial, sans-serif; font-size: 12px; fill: rgb(42, 63, 95); fill-opacity: 1; white-space: pre; opacity: 1;\">Bayuquan</text></g></g><g class=\"overaxes-above\"/></g></g><g class=\"polarlayer\"/><g class=\"ternarylayer\"/><g class=\"geolayer\"/><g class=\"funnelarealayer\"/><g class=\"pielayer\"/><g class=\"iciclelayer\"/><g class=\"treemaplayer\"/><g class=\"sunburstlayer\"/><g class=\"glimages\"/><defs id=\"topdefs-6aaf95\"><g class=\"clips\"/><clipPath id=\"legend6aaf95\"><rect width=\"105\" height=\"67\" x=\"0\" y=\"0\"/></clipPath></defs><g class=\"layer-above\"><g class=\"imagelayer\"/><g class=\"shapelayer\"/></g><g class=\"infolayer\"><g class=\"legend\" pointer-events=\"all\" transform=\"translate(882.52,100)\"><rect class=\"bg\" shape-rendering=\"crispEdges\" style=\"stroke: rgb(68, 68, 68); stroke-opacity: 1; fill: rgb(255, 255, 255); fill-opacity: 1; stroke-width: 0px;\" width=\"105\" height=\"67\" x=\"0\" y=\"0\"/><g class=\"scrollbox\" transform=\"\" clip-path=\"url(#legend6aaf95)\"><text class=\"legendtitletext\" text-anchor=\"start\" x=\"2\" y=\"18.2\" style=\"font-family: 'Open Sans', verdana, arial, sans-serif; font-size: 14px; fill: rgb(42, 63, 95); fill-opacity: 1; white-space: pre;\">Mode</text><g class=\"groups\" transform=\"\"><g class=\"traces\" transform=\"translate(0,32.7)\" style=\"opacity: 1;\"><text class=\"legendtext\" text-anchor=\"start\" x=\"40\" y=\"4.680000000000001\" style=\"font-family: 'Open Sans', verdana, arial, sans-serif; font-size: 12px; fill: rgb(42, 63, 95); fill-opacity: 1; white-space: pre;\">Operating</text><g class=\"layers\" style=\"opacity: 1;\"><g class=\"legendfill\"/><g class=\"legendlines\"/><g class=\"legendsymbols\"><g class=\"legendpoints\"><path class=\"legendundefined\" d=\"M6,6H-6V-6H6Z\" transform=\"translate(20,0)\" style=\"stroke-width: 0.5px; fill: rgb(38, 24, 74); fill-opacity: 0.8; stroke: rgb(229, 236, 246); stroke-opacity: 1;\"/></g></g></g><rect class=\"legendtoggle\" x=\"0\" y=\"-9.5\" width=\"99.28125\" height=\"19\" style=\"fill: rgb(0, 0, 0); fill-opacity: 0;\"/></g></g><g class=\"groups\" transform=\"\"><g class=\"traces\" transform=\"translate(0,51.7)\" style=\"opacity: 1;\"><text class=\"legendtext\" text-anchor=\"start\" x=\"40\" y=\"4.680000000000001\" style=\"font-family: 'Open Sans', verdana, arial, sans-serif; font-size: 12px; fill: rgb(42, 63, 95); fill-opacity: 1; white-space: pre;\">Waiting</text><g class=\"layers\" style=\"opacity: 1;\"><g class=\"legendfill\"/><g class=\"legendlines\"/><g class=\"legendsymbols\"><g class=\"legendpoints\"><path class=\"legendundefined\" d=\"M6,6H-6V-6H6Z\" transform=\"translate(20,0)\" style=\"stroke-width: 0.5px; fill: rgb(122, 120, 168); fill-opacity: 0.8; stroke: rgb(229, 236, 246); stroke-opacity: 1;\"/></g></g></g><rect class=\"legendtoggle\" x=\"0\" y=\"-9.5\" width=\"99.28125\" height=\"19\" style=\"fill: rgb(0, 0, 0); fill-opacity: 0;\"/></g></g></g><rect class=\"scrollbar\" rx=\"20\" ry=\"3\" width=\"0\" height=\"0\" style=\"fill: rgb(128, 139, 164); fill-opacity: 1;\" x=\"0\" y=\"0\"/></g><g class=\"g-gtitle\"><text class=\"gtitle\" x=\"50\" y=\"50\" text-anchor=\"start\" dy=\"0em\" style=\"font-family: 'Open Sans', verdana, arial, sans-serif; font-size: 17px; fill: rgb(42, 63, 95); opacity: 1; font-weight: normal; white-space: pre;\">Today's Activity - Top Ports</text></g><g class=\"g-xtitle\"><text class=\"xtitle\" x=\"505\" y=\"460.8\" text-anchor=\"middle\" style=\"font-family: 'Open Sans', verdana, arial, sans-serif; font-size: 14px; fill: rgb(42, 63, 95); opacity: 1; font-weight: normal; white-space: pre;\">Number of Vessels</text></g><g class=\"g-ytitle\" transform=\"translate(1.8466796875,0)\"><text class=\"ytitle\" transform=\"rotate(-90,12.153124999999989,260)\" x=\"12.153124999999989\" y=\"260\" text-anchor=\"middle\" style=\"font-family: 'Open Sans', verdana, arial, sans-serif; font-size: 14px; fill: rgb(42, 63, 95); opacity: 1; font-weight: normal; white-space: pre;\">Port</text></g></g></svg>"
      ]
     },
     "metadata": {},
     "output_type": "display_data"
    }
   ],
   "source": [
    "colors = ['rgba(38, 24, 74, 0.8)', 'rgba(122, 120, 168, 0.8)']\n",
    "fig = px.bar(aggregated_df[aggregated_df.port_name_geos.isin(top_10_busy_ports)], \n",
    "             y = 'port_name_geos', \n",
    "             x = 'num_of_vessels', \n",
    "             color= 'Mode', \n",
    "             title=\"Today's Activity - Top Ports\", \n",
    "             orientation = 'h', \n",
    "             color_discrete_sequence = colors, \n",
    "             text = 'num_of_vessels', \n",
    "             custom_data = ['Mode'])\n",
    "\n",
    "fig.update_layout(\n",
    "    width=1000,\n",
    "    height=500, \n",
    "    xaxis_title= 'Number of Vessels', yaxis_title = 'Port', barmode = 'stack', \n",
    "    yaxis = {'categoryorder':'total ascending'}\n",
    ") \n",
    "\n",
    "fig.update_traces(hovertemplate = '%{y} <br>%{customdata[0]}: %{x}<extra></extra>')\n",
    "fig.show()"
   ]
  }
 ],
 "metadata": {
  "colab": {
   "collapsed_sections": [],
   "name": "Port Congestion in China (Capes).ipynb",
   "provenance": []
  },
  "kernelspec": {
   "display_name": "Python 3",
   "language": "python",
   "name": "python3"
  },
  "language_info": {
   "codemirror_mode": {
    "name": "ipython",
    "version": 3
   },
   "file_extension": ".py",
   "mimetype": "text/x-python",
   "name": "python",
   "nbconvert_exporter": "python",
   "pygments_lexer": "ipython3",
   "version": "3.8.5"
  }
 },
 "nbformat": 4,
 "nbformat_minor": 4
}
