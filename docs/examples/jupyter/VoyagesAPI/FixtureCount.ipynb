{
 "cells": [
  {
   "cell_type": "markdown",
   "metadata": {
    "id": "V70yOocurXnC"
   },
   "source": [
    "# Fixture Count Example\n",
    "\n",
    "## Run this example in [Colab](https://colab.research.google.com/github/SignalOceanSdk/SignalSDK/blob/master/docs/examples/jupyter/VoyagesAPI/FixtureCount.ipynb)"
   ]
  },
  {
   "cell_type": "markdown",
   "metadata": {
    "id": "k8jAdWCWrkxs"
   },
   "source": [
    "- Get your personal Signal Ocean API subscription key (acquired [here](https://apis.signalocean.com/profile)) and replace it below:"
   ]
  },
  {
   "cell_type": "code",
   "execution_count": 1,
   "metadata": {
    "id": "-zD_5VRirW3l"
   },
   "outputs": [],
   "source": [
    "signal_ocean_api_key = \"\"  # replace with your subscription key"
   ]
  },
  {
   "cell_type": "markdown",
   "metadata": {
    "id": "Q_h-MW7rwnvq"
   },
   "source": [
    "## Setup"
   ]
  },
  {
   "cell_type": "markdown",
   "metadata": {
    "id": "pPx-tu3_UnFv"
   },
   "source": [
    "### Import libraries and set default values"
   ]
  },
  {
   "cell_type": "markdown",
   "metadata": {
    "id": "87m_JUs5ws_T"
   },
   "source": [
    "- Install the Signal Ocean SDK and import all required modules:"
   ]
  },
  {
   "cell_type": "code",
   "execution_count": 3,
   "metadata": {
    "colab": {
     "base_uri": "https://localhost:8080/"
    },
    "id": "7e9KKjzJwnEg",
    "outputId": "61a5e78d-c8e9-41ac-dcaa-fe533210b075"
   },
   "outputs": [],
   "source": [
    "%%capture\n",
    "!pip install signal-ocean\n",
    "\n",
    "from signal_ocean import Connection\n",
    "from signal_ocean.voyages import VoyagesAPI\n",
    "from signal_ocean.voyages import VesselClass, VesselClassFilter\n",
    "import pandas as pd\n",
    "from datetime import date, timedelta, datetime\n",
    "from dateutil.relativedelta import relativedelta\n",
    "import matplotlib.pyplot as plt\n",
    "from matplotlib.pyplot import figure\n",
    "from collections import OrderedDict\n",
    "\n",
    "from plotly.subplots import make_subplots\n",
    "import plotly.graph_objects as go\n",
    "import plotly.express as px\n",
    "import numpy as np\n",
    "import math\n",
    "\n",
    "# Initialize the voyage api\n",
    "connection = Connection(signal_ocean_api_key)\n",
    "api = VoyagesAPI(connection)\n",
    "\n",
    "#set up the grouped areas\n",
    "area_mapping = {\n",
    "    'Arabian Gulf':'AG',\n",
    "    'Red Sea':'AG',\n",
    "    'Singapore / Malaysia':'AG',\n",
    "    'Canada Atlantic Coast':'Caribs',\n",
    "    'Caribs':'Caribs',\n",
    "    'US Atlantic Coast':'Caribs',\n",
    "    'East Coast Mexico':'USG',\n",
    "    'US Gulf':'USG',\n",
    "    'Africa Atlantic Coast':'WAF',\n",
    "    'Argentina & Uruguay':'WAF',\n",
    "    'Brazil':'WAF'\n",
    "}"
   ]
  },
  {
   "cell_type": "markdown",
   "metadata": {
    "id": "dB-QigpmUt1s"
   },
   "source": [
    "### Set parameters"
   ]
  },
  {
   "cell_type": "markdown",
   "metadata": {
    "id": "2wGxDaBEyiIo"
   },
   "source": [
    "- set  the vessel class"
   ]
  },
  {
   "cell_type": "code",
   "execution_count": 4,
   "metadata": {
    "id": "oPNGSyY6ybOC"
   },
   "outputs": [],
   "source": [
    "vessel_class_name_like = 'vlcc'"
   ]
  },
  {
   "cell_type": "markdown",
   "metadata": {
    "id": "bpgUvY_nzVOM"
   },
   "source": [
    "- set the year and month from when you want to count fixtures"
   ]
  },
  {
   "cell_type": "code",
   "execution_count": 5,
   "metadata": {
    "id": "-xHZ7iqxzVzV"
   },
   "outputs": [],
   "source": [
    "year, month = 2021, 8"
   ]
  },
  {
   "cell_type": "markdown",
   "metadata": {
    "id": "ipszfMrlz9I0"
   },
   "source": [
    "## Calculate Fixture Count"
   ]
  },
  {
   "cell_type": "markdown",
   "metadata": {
    "id": "_Rjau3TuvNfr"
   },
   "source": [
    "### Get fixtures"
   ]
  },
  {
   "cell_type": "markdown",
   "metadata": {
    "id": "p0-q-ElQzkGu"
   },
   "source": [
    "* get the voyages data using Voyage API \n",
    "* we extract the voyages which have start after 2 months before the fixture date\n",
    "* from the Voyage Events we extract the Area Level 0, which will be used to create the area groups for fixtures"
   ]
  },
  {
   "cell_type": "code",
   "execution_count": 6,
   "metadata": {
    "id": "4or49rRrzm9f"
   },
   "outputs": [],
   "source": [
    "def get_voyages(vcn, year, month):\n",
    "    def get_voyage_load_area(voyage_events):\n",
    "        return next((e.area_name_level0 for e in voyage_events or [] if e.purpose=='Load'), None)\n",
    "    def get_voyage_port_id(voyage_events):\n",
    "        return next((e.port_id for e in voyage_events or [] if e.purpose=='Load'), None)\n",
    "\n",
    "    #calculate the voyage start date (2 month before)\n",
    "    months_back = 2\n",
    "    fixture_date_from = date(year=year, month=month,day=1)\n",
    "    date_from = fixture_date_from - relativedelta(months=+months_back)\n",
    "\n",
    "    # get the vessel class id\n",
    "    vc = api.get_vessel_classes(VesselClassFilter(vcn))[0]\n",
    "    vessel_class_id = vc.vessel_class_id\n",
    "\n",
    "    data = api.get_voyages(vessel_class_id=vessel_class_id, date_from=date_from)\n",
    "    voyages = pd.DataFrame([v.__dict__ for v in data])\n",
    "    voyages['Level0AreaName_load'] = voyages['events'].apply(get_voyage_load_area)\n",
    "    voyages['port_id'] = voyages['events'].apply(get_voyage_port_id)\n",
    "    voyages.rename(columns={'vessel_class_id': 'VesselClassID'}, inplace=True)\n",
    "    return voyages"
   ]
  },
  {
   "cell_type": "markdown",
   "metadata": {
    "id": "7Tj_dh-TvR1o"
   },
   "source": [
    "### Preprocess Fixtures"
   ]
  },
  {
   "cell_type": "markdown",
   "metadata": {
    "id": "EXBU4h1m0AdY"
   },
   "source": [
    "- We use the area_mapping dictionary we group the level 0 areas\n",
    "- In order a voyage to be fixed, the laycan_from field should not be null\n",
    "- We keep the voyages which has laycan_from is greater than the selected date \n",
    "- The final Step is to group the data by year, month, area, and decate and calculate the fixture count for each group"
   ]
  },
  {
   "cell_type": "code",
   "execution_count": 7,
   "metadata": {
    "id": "teoLBibp0Csc"
   },
   "outputs": [],
   "source": [
    "def preprocess(data,area_mapping):\n",
    "\n",
    "    # Keep only the dirty\n",
    "    voyages = data.copy()\n",
    "    voyages = voyages[voyages.trade_id == 1]\n",
    "\n",
    "    # merge with the area_mapping on area_level0_name and vessel_class_id\n",
    "    voyages['Area'] = voyages.Level0AreaName_load.map(lambda x: area_mapping[x] \n",
    "                                                    if x in area_mapping \n",
    "                                                    else None)\n",
    "    voyages_df = voyages[[\"imo\",\"voyage_number\",\"VesselClassID\",\n",
    "                        \"Level0AreaName_load\",\"Area\",\"laycan_from\",\"port_id\"]]\n",
    "\n",
    "    # filter with laycan from is not null\n",
    "    voyages_df = voyages_df[~voyages_df.laycan_from.isna()]\n",
    "\n",
    "    # filter with laycan from\n",
    "    filtered_voyages = voyages_df[voyages_df.laycan_from.dt.date >= \n",
    "                                date(year=year, month=month, day=1)]\n",
    "\n",
    "    # split the laycan from to month, date, year and create the decade\n",
    "    final_df = filtered_voyages.copy()\n",
    "    final_df['day'] = final_df['laycan_from'].dt.day\n",
    "    final_df['month'] = final_df['laycan_from'].dt.month\n",
    "    final_df['year'] = final_df['laycan_from'].dt.year\n",
    "\n",
    "    choices = [1,2,3]\n",
    "    conditions = [\n",
    "        (final_df['day'] <= 10), \n",
    "        ((final_df['day'] > 10) & (final_df['day'] <= 20)),\n",
    "        (final_df['day'] > 20) ]\n",
    "    final_df['decade'] = np.select(conditions, choices, default=np.nan)\n",
    "    final_df['decade'] = final_df['decade'].astype(int)\n",
    "\n",
    "    # Remove nan load areas\n",
    "    final_df = final_df[~final_df.Area.isna()]\n",
    "\n",
    "    fixture_counts_df = (\n",
    "    final_df\n",
    "    .groupby(['month','year','Area','decade'])\n",
    "    .size()\n",
    "    .rename('fixture_counts')\n",
    "    .reset_index()    \n",
    "    )\n",
    "\n",
    "    # this step is to help us visualize the Area with 0 fixtures \n",
    "    month_groups = set(fixture_counts_df.groupby(['year','month']) \\\n",
    "                                        .groups.keys())\n",
    "    area_groups = set(area_mapping.values())\n",
    "    area_month_groups = []\n",
    "    for area in area_groups:\n",
    "        for period in month_groups:\n",
    "            area_month_groups.append((period[0],period[1],area))\n",
    "    decate_areas = []\n",
    "    for area_month in area_month_groups:\n",
    "        decate_areas.append((1,area_month[0],area_month[1],area_month[2]))\n",
    "        decate_areas.append((2,area_month[0],area_month[1],area_month[2]))\n",
    "        decate_areas.append((3,area_month[0],area_month[1],area_month[2]))\n",
    "    decate_per_area = pd.DataFrame(decate_areas, columns=['decade', \n",
    "                                                        'year','month',\n",
    "                                                        'Area'])\n",
    "    fixture_counts_df = pd.merge(fixture_counts_df,decate_per_area,\n",
    "                               on=['decade','year','month','Area'],\n",
    "                               how='right').fillna(0)\n",
    "    # calculate the total fixtures\n",
    "    fixture_counts_df['Area Total'] = (\n",
    "    fixture_counts_df\n",
    "    .groupby(['year','month','Area'])\n",
    "    .fixture_counts\n",
    "    .transform('sum')    \n",
    "    )\n",
    "\n",
    "    # sort the the fixture counts\n",
    "    fixture_counts_df = fixture_counts_df.sort_values(\n",
    "        ['year','month','Area Total','Area','decade'],\n",
    "        ascending=[False,False,True,True,True,]) \n",
    "    return fixture_counts_df"
   ]
  },
  {
   "cell_type": "markdown",
   "metadata": {
    "id": "83p-iwGH1P2J"
   },
   "source": [
    "### Plot Fixture Counts"
   ]
  },
  {
   "cell_type": "code",
   "execution_count": 16,
   "metadata": {
    "id": "4qvPBBGM5lms"
   },
   "outputs": [],
   "source": [
    "def plot_results(fixture_counts_df):\n",
    "\n",
    "    def get_trace(name,color,decate,show_legend):\n",
    "        return go.Bar(\n",
    "                    name=name,\n",
    "                    x=data[data.decade==decate][\"fixture_counts\"],\n",
    "                    y=data[data.decade==decate][\"Area\"],\n",
    "                    orientation='h',\n",
    "                    showlegend=show_legend,\n",
    "                    marker={'color': color},\n",
    "                    text=data[data.decade==decate][\"fixture_counts\"]\n",
    "                )\n",
    "\n",
    "    group_plots = fixture_counts_df.groupby(['year','month']).groups.keys()\n",
    "    sorted_groups = sorted(group_plots, \n",
    "                         key=lambda element: (element[0], element[1]),\n",
    "                         reverse=True)\n",
    "    figures = []\n",
    "    titles = []\n",
    "    for i,group in enumerate(sorted_groups):\n",
    "        data = fixture_counts_df[\n",
    "                                 (fixture_counts_df.year==group[0])&\n",
    "                                 (fixture_counts_df.month==group[1])\n",
    "                                 ]\n",
    "        titles.append(\n",
    "            date(group[0], group[1], 1).strftime('%B') + \" \" + str(group[0])\n",
    "            )\n",
    "        show_legend = True if i == 0 else False\n",
    "        fig = go.Figure(\n",
    "              data=[\n",
    "                get_trace(\"First decade (1st - 10th)\", 'green', 1, show_legend),\n",
    "                get_trace(\"Second decade (10th - 20th)\", 'blue', 2, show_legend),\n",
    "                get_trace(\"Third decade (20th - 30th)\", 'red', 3, show_legend)\n",
    "              ],\n",
    "            )\n",
    "        figures.append(fig)\n",
    "        \n",
    "    no_rows = math.ceil(len(sorted_groups)/2)\n",
    "    specs = [[{}, {}] for _ in range(no_rows)]\n",
    "    fig_subplots = make_subplots(\n",
    "        rows=no_rows, cols=2,\n",
    "        specs=specs,\n",
    "        x_title='Fixture Counts',\n",
    "        y_title='Areas',\n",
    "        subplot_titles=tuple(titles),\n",
    "    )\n",
    "\n",
    "    for i,f in enumerate(figures):\n",
    "        for t in f.data:\n",
    "            fig_subplots.append_trace(t, row=(i//2)+1, col=(i%2)+1)\n",
    "\n",
    "    fig_subplots['layout'].update(\n",
    "      height=300*no_rows, \n",
    "      width=1400, \n",
    "      title='Fixture Counts',\n",
    "      barmode='stack',\n",
    "      legend_traceorder='reversed')\n",
    "    fig_subplots.show()"
   ]
  },
  {
   "cell_type": "markdown",
   "metadata": {
    "id": "LM0ZhYA-5oLL"
   },
   "source": [
    "## Results"
   ]
  },
  {
   "cell_type": "code",
   "execution_count": 9,
   "metadata": {
    "id": "PvWHcnG15sEl"
   },
   "outputs": [],
   "source": [
    "# Get voyages\n",
    "voyages = get_voyages(vessel_class_name_like, year, month)"
   ]
  },
  {
   "cell_type": "code",
   "execution_count": 10,
   "metadata": {
    "id": "4bdbRCEe57BI"
   },
   "outputs": [],
   "source": [
    "# Preprocess fixtures\n",
    "preprocessed_voyages = preprocess(voyages, area_mapping)"
   ]
  },
  {
   "cell_type": "code",
   "execution_count": 17,
   "metadata": {
    "colab": {
     "base_uri": "https://localhost:8080/",
     "height": 1000
    },
    "id": "TGc9soQlVPVl",
    "outputId": "9264f350-8d7d-4aac-886b-7d3f7fbd2b38",
    "scrolled": false
   },
   "outputs": [
    {
     "data": {
      "image/png": "[encoded data removed]"
     },
     "metadata": {},
     "output_type": "display_data"
    }
   ],
   "source": [
    "# Plot the results\n",
    "plot_results(preprocessed_voyages)"
   ]
  }
 ],
 "metadata": {
  "colab": {
   "collapsed_sections": [],
   "name": "FixtureCount.ipynb",
   "provenance": []
  },
  "kernelspec": {
   "display_name": "Python 3",
   "language": "python",
   "name": "python3"
  },
  "language_info": {
   "codemirror_mode": {
    "name": "ipython",
    "version": 3
   },
   "file_extension": ".py",
   "mimetype": "text/x-python",
   "name": "python",
   "nbconvert_exporter": "python",
   "pygments_lexer": "ipython3",
   "version": "3.8.7"
  }
 },
 "nbformat": 4,
 "nbformat_minor": 1
}
