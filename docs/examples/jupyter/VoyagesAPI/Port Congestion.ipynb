{
 "cells": [
  {
   "cell_type": "markdown",
   "metadata": {},
   "source": [
    "# Voyages API  - Port Congestion\n",
    "\n",
    "## Run this example in [Colab](https://colab.research.google.com/github/SignalOceanSdk/SignalSDK/blob/master/docs/examples/jupyter/VoyagesAPI/Port%20Congestion.ipynb)"
   ]
  },
  {
   "cell_type": "markdown",
   "metadata": {},
   "source": [
    "## Setup\n",
    "Install the Signal Ocean SDK:\n",
    "```\n",
    "pip install signal-ocean\n",
    "```\n",
    "Set your subscription key acquired here: https://apis.signalocean.com/profile"
   ]
  },
  {
   "cell_type": "code",
   "execution_count": 1,
   "metadata": {},
   "outputs": [],
   "source": [
    "pip install signal-ocean"
   ]
  },
  {
   "cell_type": "code",
   "execution_count": 2,
   "metadata": {},
   "outputs": [],
   "source": [
    "signal_ocean_api_key = \"\"  # replace with your subscription key"
   ]
  },
  {
   "cell_type": "markdown",
   "metadata": {},
   "source": [
    "## Scope"
   ]
  },
  {
   "cell_type": "markdown",
   "metadata": {},
   "source": [
    "This example provides information about the following:  \n",
    "* Live & historical number of vessels waiting/operating at ports/areas of interest.\n",
    "* Historical waiting time of vessels at ports/areas of interest."
   ]
  },
  {
   "cell_type": "markdown",
   "metadata": {},
   "source": [
    "## Methodology"
   ]
  },
  {
   "cell_type": "markdown",
   "metadata": {},
   "source": [
    "We are going to use voyages that have started over the last 365 days.  \n",
    "\n",
    "Generally, in order to identify the time intervals that a vessel was waiting/operating during a port call, we have to drill down to event details of its voyage.  \n",
    "We will built up the methodology used in more details as we go."
   ]
  },
  {
   "cell_type": "markdown",
   "metadata": {},
   "source": [
    "## Retrieve data"
   ]
  },
  {
   "cell_type": "code",
   "execution_count": 3,
   "metadata": {},
   "outputs": [],
   "source": [
    "from signal_ocean import Connection\n",
    "from signal_ocean.voyages import VoyagesAPI\n",
    "\n",
    "import pandas as pd\n",
    "pd.set_option('display.max_columns', None)\n",
    "\n",
    "import numpy as np\n",
    "from datetime import date, datetime, timedelta\n",
    "from functools import reduce\n",
    "import plotly.express as px"
   ]
  },
  {
   "cell_type": "markdown",
   "metadata": {},
   "source": [
    "Port congestion will be created using the voyages data api."
   ]
  },
  {
   "cell_type": "code",
   "execution_count": 4,
   "metadata": {},
   "outputs": [],
   "source": [
    "connection = Connection(signal_ocean_api_key)\n",
    "api = VoyagesAPI(connection)"
   ]
  },
  {
   "cell_type": "markdown",
   "metadata": {},
   "source": [
    "In this example, we will retrieve voyages of Capesize vessels that started during the last 365 days."
   ]
  },
  {
   "cell_type": "code",
   "execution_count": 5,
   "metadata": {},
   "outputs": [
    {
     "name": "stdout",
     "output_type": "stream",
     "text": [
      "Wall time: 1min 8s\n"
     ]
    }
   ],
   "source": [
    "%%time\n",
    "capesize_id = 70\n",
    "date_from = date.today() - timedelta(days = 365)\n",
    "\n",
    "voyages_flat = api.get_voyages_flat(\n",
    "    vessel_class_id=capesize_id, date_from=date_from\n",
    ")"
   ]
  },
  {
   "cell_type": "code",
   "execution_count": 6,
   "metadata": {},
   "outputs": [],
   "source": [
    "voyages_df = pd.DataFrame(v.__dict__ for v in voyages_flat.voyages)\n",
    "events_df = pd.DataFrame(v.__dict__ for v in voyages_flat.events)\n",
    "events_details_df = pd.DataFrame(v.__dict__ for v in voyages_flat.event_details)\n",
    "geos_df = pd.DataFrame(v.__dict__ for v in voyages_flat.geos).drop_duplicates()"
   ]
  },
  {
   "cell_type": "markdown",
   "metadata": {},
   "source": [
    "We merge voyages, events and event details in order to capture each detail of each voyage."
   ]
  },
  {
   "cell_type": "code",
   "execution_count": 7,
   "metadata": {},
   "outputs": [],
   "source": [
    "left_merge_keys = iter(['id','id_ev'])\n",
    "right_merge_keys = iter(['voyage_id','event_id'])\n",
    "suffixes = iter([('_voy','_ev'),('_ev','_det')])\n",
    "\n",
    "voyages_extd = reduce(\n",
    "    lambda left,right: pd.merge(\n",
    "        left,\n",
    "        right,\n",
    "        how ='left',\n",
    "        left_on = next(left_merge_keys,None),\n",
    "        right_on = next(right_merge_keys,None),\n",
    "        suffixes = next(suffixes,None)), \n",
    "    [voyages_df, events_df, events_details_df]\n",
    ")"
   ]
  },
  {
   "cell_type": "markdown",
   "metadata": {},
   "source": [
    "We need only port calls where the vessels executed an operation (Load/Discharge).  \n",
    "We exlude STS operations since they do not add up to port congestion."
   ]
  },
  {
   "cell_type": "code",
   "execution_count": 8,
   "metadata": {},
   "outputs": [],
   "source": [
    "voyages_extd = voyages_extd[\n",
    "    (voyages_extd['purpose'].isin(['Load', 'Discharge'])) &\n",
    "    (voyages_extd['event_detail_type'] != 'StS')\n",
    "]"
   ]
  },
  {
   "cell_type": "markdown",
   "metadata": {},
   "source": [
    "Port Congestion calculation takes into account also stopped vessels outside the port/anchorage limits using the forecasted part of the voyage (mainly driven from AIS).  \n",
    "This is achieved by 'connecting' future(predicted) port calls with their previous stops, given that the stops ended during the last 24 hours from the beginnning of the port calls.  \n",
    "The above results to new extended port calls that span from previous stop arrival date to future portcall sailing date."
   ]
  },
  {
   "cell_type": "code",
   "execution_count": 9,
   "metadata": {},
   "outputs": [
    {
     "name": "stdout",
     "output_type": "stream",
     "text": [
      "Stops-Future PortCalls Connected: 84\n"
     ]
    }
   ],
   "source": [
    "future_portcalls = (\n",
    "    events_df\n",
    "    .loc[\n",
    "    (events_df['purpose'].isin(['Load', 'Discharge'])) & \n",
    "    (events_df['event_horizon'] == 'Future')\n",
    "    ]\n",
    ")\n",
    "\n",
    "stops = events_df.loc[(events_df['purpose'] == 'Stop')]\n",
    "\n",
    "future_portcalls_extd = future_portcalls.merge(\n",
    "    stops, \n",
    "    how = 'inner',\n",
    "    left_on = 'voyage_id', \n",
    "    right_on = 'voyage_id', \n",
    "    suffixes = ('_fportcalls', '_stops')\n",
    ")\n",
    "\n",
    "future_portcalls_extd['stop_portcall_diff'] = (\n",
    "    (future_portcalls_extd['arrival_date_fportcalls'] - \n",
    "     future_portcalls_extd['sailing_date_stops'])\n",
    "    .dt\n",
    "    .total_seconds()\n",
    ")/3600\n",
    "\n",
    "future_portcalls_extd = (\n",
    "    future_portcalls_extd\n",
    "    .loc[future_portcalls_extd['stop_portcall_diff'] <= 24]\n",
    ")\n",
    "\n",
    "future_portcalls_extd = (\n",
    "    future_portcalls_extd\n",
    "    .sort_values('sailing_date_stops')\n",
    "    .groupby('voyage_id')\n",
    "    .tail(1)\n",
    ")\n",
    "\n",
    "future_portcalls_extd['original_sailing_date_fportcalls'] = future_portcalls_extd['sailing_date_fportcalls']\n",
    "print(f'Stops-Future PortCalls Connected: {future_portcalls_extd.shape[0]}')"
   ]
  },
  {
   "cell_type": "markdown",
   "metadata": {},
   "source": [
    "In the code block below we are merging the oringinal event details(enriched with events and voyage info) with the extended port calls we mentioned above.  \n",
    "This aims to update the event details attributes for the extended port calls.  \n",
    "The result of the merge will produce a column named Exist which indicates the following:  \n",
    "* Exist = 'both': \"connected\" Stops-Future PortCalls\n",
    "* Exist = 'left_only': original PortCalls, without connected Stops-Future PortCalls"
   ]
  },
  {
   "cell_type": "code",
   "execution_count": 10,
   "metadata": {},
   "outputs": [],
   "source": [
    "voyages_final_df = (\n",
    "    voyages_extd\n",
    "    .merge(\n",
    "        future_portcalls_extd, \n",
    "        how=\"outer\", \n",
    "        left_on=['id_voy', 'id_ev'], \n",
    "        right_on=['voyage_id', 'id_fportcalls'], \n",
    "        suffixes=('_connected', '_portcalls'), \n",
    "        indicator='Exist'\n",
    "    )\n",
    ")"
   ]
  },
  {
   "cell_type": "markdown",
   "metadata": {},
   "source": [
    "## Waiting/Operating Intervals Calculation"
   ]
  },
  {
   "cell_type": "markdown",
   "metadata": {},
   "source": [
    "In a few words, the date range between start_time_of_operation and end_time_of_operation(sailing date) will be marked as Operating, \n",
    "and the rest of the days inside each port call are going to be marked as waiting.  \n",
    "Later on we will dive into further details."
   ]
  },
  {
   "cell_type": "markdown",
   "metadata": {
    "tags": []
   },
   "source": [
    "### Waiting  \n",
    "\n",
    "We will split the port calls into 4 categories whose waiting interval calculation is differentiated.  \n",
    "For each category start/end time of the waiting interval is calculated as follows:  \n",
    "* **Historical Port Calls with start time of operation** : \n",
    "    * waiting_time_start -> event arrival date\n",
    "    * waiting_time_end -> one day prior to the start time of operation\n",
    "* **Historical Port Calls without start time of operation** :    \n",
    "(Note) A historical port call may lack the attribute start time of operation due to low ais density during the port call.\n",
    "    * waiting_time_start -> event arrival date\n",
    "    * waiting_time_end -> event detail sailing date \n",
    "* **Current Port Calls without start time of operation** :    \n",
    "(Note) A Current port call may also have event_horizon = 'Future' due to missing AIS data.\n",
    "    * waiting_time_start -> event arrival date\n",
    "    * waiting_time_end -> event sailing date  \n",
    "* **Extended Port Calls** :    \n",
    "(Note) A Current port call may also have event_horizon = 'Future' due to missing AIS data.\n",
    "    * waiting_time_start -> arrival date of previous stop\n",
    "    * waiting_time_end -> event sailing date  "
   ]
  },
  {
   "cell_type": "code",
   "execution_count": 11,
   "metadata": {},
   "outputs": [],
   "source": [
    "hist_port_calls_with_start_time_of_operation = (\n",
    "    voyages_final_df.start_time_of_operation.notna()\n",
    ")\n",
    "\n",
    "hist_port_calls_without_start_time_of_operation = (\n",
    "    (voyages_final_df.start_time_of_operation.isna()) &\n",
    "    (voyages_final_df.event_horizon == 'Historical')\n",
    ")\n",
    "\n",
    "current_port_calls_without_start_time_of_operation = (\n",
    "    (voyages_final_df.start_time_of_operation.isna()) &\n",
    "    (voyages_final_df.event_horizon.isin(['Current', 'Future']))\n",
    ")\n",
    "\n",
    "port_calls_merged_with_previous_stops = (\n",
    "    (voyages_final_df.Exist == 'both')\n",
    ")"
   ]
  },
  {
   "cell_type": "code",
   "execution_count": 12,
   "metadata": {},
   "outputs": [],
   "source": [
    "voyages_final_df.loc[\n",
    "    hist_port_calls_with_start_time_of_operation |\n",
    "    hist_port_calls_without_start_time_of_operation |\n",
    "    current_port_calls_without_start_time_of_operation,\n",
    "    'waiting_time_start'] = (\n",
    "    voyages_final_df[\n",
    "    hist_port_calls_with_start_time_of_operation |\n",
    "    hist_port_calls_without_start_time_of_operation |\n",
    "    current_port_calls_without_start_time_of_operation \n",
    "    ].arrival_date_ev\n",
    ")\n",
    "\n",
    "voyages_final_df.loc[\n",
    "    port_calls_merged_with_previous_stops,\n",
    "    'waiting_time_start'] = (\n",
    "    voyages_final_df[port_calls_merged_with_previous_stops]\n",
    "    .arrival_date_stops\n",
    ")\n",
    "\n",
    "\n",
    "voyages_final_df.loc[\n",
    "    hist_port_calls_with_start_time_of_operation,\n",
    "    'waiting_time_end'] = (\n",
    "    voyages_final_df[hist_port_calls_with_start_time_of_operation]\n",
    "    .start_time_of_operation\n",
    "    .apply(lambda x:datetime.combine(x, datetime.min.time()) - timedelta(minutes = 1))\n",
    ")\n",
    "    \n",
    "voyages_final_df.loc[\n",
    "    hist_port_calls_without_start_time_of_operation,\n",
    "    'waiting_time_end'] = (\n",
    "    voyages_final_df[hist_port_calls_without_start_time_of_operation]\n",
    "    .sailing_date_det\n",
    ")\n",
    "    \n",
    "voyages_final_df.loc[\n",
    "    current_port_calls_without_start_time_of_operation,\n",
    "    'waiting_time_end'] = (\n",
    "    voyages_final_df[current_port_calls_without_start_time_of_operation].sailing_date_ev\n",
    ")\n",
    "\n",
    "voyages_final_df.loc[\n",
    "    port_calls_merged_with_previous_stops,\n",
    "    'waiting_time_end'] = (\n",
    "    voyages_final_df[port_calls_merged_with_previous_stops]\n",
    "    .sailing_date_fportcalls\n",
    ")\n"
   ]
  },
  {
   "cell_type": "markdown",
   "metadata": {},
   "source": [
    "### Operating  \n",
    "\n",
    "The operating time interval is simply calculated by taking as operating_time_start the start time of operation and as operating_time_end the end time of operation.  \n",
    "In cases that later is not available the event sailing date is used instead."
   ]
  },
  {
   "cell_type": "code",
   "execution_count": 13,
   "metadata": {},
   "outputs": [],
   "source": [
    "voyages_final_df.loc[\n",
    "    hist_port_calls_with_start_time_of_operation,\n",
    "    'operating_time_start'] = (\n",
    "    voyages_final_df[\n",
    "    hist_port_calls_with_start_time_of_operation \n",
    "    ].start_time_of_operation\n",
    ")\n",
    "    \n",
    "voyages_final_df.loc[\n",
    "    hist_port_calls_with_start_time_of_operation &\n",
    "    (voyages_final_df.end_time_of_operation.notna()),\n",
    "    'operating_time_end'] = (\n",
    "    voyages_final_df[\n",
    "    hist_port_calls_with_start_time_of_operation &\n",
    "    (voyages_final_df.end_time_of_operation.notna())\n",
    "    ].end_time_of_operation\n",
    ")\n",
    "    \n",
    "voyages_final_df.loc[\n",
    "    hist_port_calls_with_start_time_of_operation &\n",
    "    (voyages_final_df.end_time_of_operation.isna()),\n",
    "    'operating_time_end'] = (\n",
    "    voyages_final_df[\n",
    "    hist_port_calls_with_start_time_of_operation &\n",
    "    (voyages_final_df.end_time_of_operation.isna())\n",
    "    ].sailing_date_ev\n",
    ")"
   ]
  },
  {
   "cell_type": "markdown",
   "metadata": {
    "tags": []
   },
   "source": [
    "## Calculating the Mode Per Day  \n",
    "\n",
    "The code below is used to mark each pair of date and imo with the correct Mode(Waiting/Operating).  \n",
    "We are using the assumption that for each day one vessel can be either waiting or operating and not both. In case of overlapping between waiting and operating interval, the days inside are marked as operating."
   ]
  },
  {
   "cell_type": "code",
   "execution_count": 40,
   "metadata": {},
   "outputs": [],
   "source": [
    "voyages_final_df['waiting_duration'] = (\n",
    "    voyages_final_df\n",
    "    .apply(lambda row: pd.date_range(\n",
    "        row.waiting_time_start.date(), \n",
    "        row.waiting_time_end.date()),\n",
    "    axis = 1)\n",
    ")\n",
    "    \n",
    "voyages_final_df['operating_duration'] = (\n",
    "    voyages_final_df\n",
    "    .apply(lambda row: pd.date_range(\n",
    "        row.operating_time_start.date(), \n",
    "        row.operating_time_end.date()) if not pd.isnull(row.operating_time_start) else [], \n",
    "    axis = 1)\n",
    ")"
   ]
  },
  {
   "cell_type": "code",
   "execution_count": 41,
   "metadata": {},
   "outputs": [],
   "source": [
    "vessels_status_df = (\n",
    "    pd.concat(\n",
    "    [(voyages_final_df\n",
    "      .explode('operating_duration')\n",
    "      .rename({'operating_duration':'DayDate'}, axis='columns')\n",
    "      .assign(Mode='Operating')),\n",
    "     (voyages_final_df\n",
    "      .explode('waiting_duration')\n",
    "      .rename({'waiting_duration':'DayDate'}, axis='columns')\n",
    "      .assign(Mode='Waiting'))],\n",
    "    ignore_index = True\n",
    "    )\n",
    "    .drop_duplicates(subset = ['imo','DayDate'], keep = 'first')\n",
    ")    "
   ]
  },
  {
   "cell_type": "markdown",
   "metadata": {},
   "source": [
    "Here we are updating the columns affected by the extension of the future/predicted port calls we mentioned earlier."
   ]
  },
  {
   "cell_type": "code",
   "execution_count": 42,
   "metadata": {},
   "outputs": [],
   "source": [
    "mapping_dict = {'geo_asset_name':['geo_asset_name_fportcalls','geo_asset_name_ev'],\n",
    "                'geo_asset_id':['geo_asset_id_fportcalls','geo_asset_id_ev'], \n",
    "                'purpose':['purpose_fportcalls','purpose'],\n",
    "                'latitude':['latitude_fportcalls','latitude_ev'],\n",
    "                'longitude':['longitude_fportcalls','longitude_ev'],\n",
    "                'port_name':['port_name_fportcalls','port_name'], \n",
    "                'arrival_date':['arrival_date_stops','arrival_date_ev'],\n",
    "                }"
   ]
  },
  {
   "cell_type": "code",
   "execution_count": 43,
   "metadata": {},
   "outputs": [],
   "source": [
    "for key, value in mapping_dict.items():\n",
    "    vessels_status_df[key] = (\n",
    "        vessels_status_df.apply( lambda row:\n",
    "        row[value[0]] if row.Exist == 'both'\n",
    "        else row[value[1]], \n",
    "        axis = 1)\n",
    "    )"
   ]
  },
  {
   "cell_type": "code",
   "execution_count": 44,
   "metadata": {},
   "outputs": [],
   "source": [
    "vessels_status_df_datetimetz = vessels_status_df.select_dtypes('datetimetz')\n",
    "vessels_status_df[vessels_status_df_datetimetz.columns] = (\n",
    "    vessels_status_df_datetimetz\n",
    "    .apply(lambda x: x.dt.tz_convert(None), \n",
    "           axis = 0)\n",
    ")"
   ]
  },
  {
   "cell_type": "code",
   "execution_count": 45,
   "metadata": {},
   "outputs": [],
   "source": [
    "vessels_status_df = vessels_status_df[\n",
    "    vessels_status_df.DayDate.dt.date <= date.today()]"
   ]
  },
  {
   "cell_type": "markdown",
   "metadata": {},
   "source": [
    "## Business Cases and Plots"
   ]
  },
  {
   "cell_type": "markdown",
   "metadata": {
    "tags": []
   },
   "source": [
    "### Historical Port Congestion"
   ]
  },
  {
   "cell_type": "markdown",
   "metadata": {},
   "source": [
    "Historical Port Congestion is translated to the number of vessels waiting or operating Over Time.   \n",
    "In this particular example we will focus on the historical port congestion across the globe."
   ]
  },
  {
   "cell_type": "code",
   "execution_count": 46,
   "metadata": {},
   "outputs": [
    {
     "data": {
      "text/html": [
       "<div>\n",
       "<style scoped>\n",
       "    .dataframe tbody tr th:only-of-type {\n",
       "        vertical-align: middle;\n",
       "    }\n",
       "\n",
       "    .dataframe tbody tr th {\n",
       "        vertical-align: top;\n",
       "    }\n",
       "\n",
       "    .dataframe thead th {\n",
       "        text-align: right;\n",
       "    }\n",
       "</style>\n",
       "<table border=\"1\" class=\"dataframe\">\n",
       "  <thead>\n",
       "    <tr style=\"text-align: right;\">\n",
       "      <th></th>\n",
       "      <th>date</th>\n",
       "      <th>vessels</th>\n",
       "    </tr>\n",
       "  </thead>\n",
       "  <tbody>\n",
       "    <tr>\n",
       "      <th>0</th>\n",
       "      <td>2021-01-17</td>\n",
       "      <td>1</td>\n",
       "    </tr>\n",
       "    <tr>\n",
       "      <th>1</th>\n",
       "      <td>2021-01-18</td>\n",
       "      <td>3</td>\n",
       "    </tr>\n",
       "    <tr>\n",
       "      <th>2</th>\n",
       "      <td>2021-01-19</td>\n",
       "      <td>3</td>\n",
       "    </tr>\n",
       "    <tr>\n",
       "      <th>3</th>\n",
       "      <td>2021-01-20</td>\n",
       "      <td>3</td>\n",
       "    </tr>\n",
       "    <tr>\n",
       "      <th>4</th>\n",
       "      <td>2021-01-21</td>\n",
       "      <td>2</td>\n",
       "    </tr>\n",
       "    <tr>\n",
       "      <th>...</th>\n",
       "      <td>...</td>\n",
       "      <td>...</td>\n",
       "    </tr>\n",
       "    <tr>\n",
       "      <th>358</th>\n",
       "      <td>2022-01-10</td>\n",
       "      <td>475</td>\n",
       "    </tr>\n",
       "    <tr>\n",
       "      <th>359</th>\n",
       "      <td>2022-01-11</td>\n",
       "      <td>471</td>\n",
       "    </tr>\n",
       "    <tr>\n",
       "      <th>360</th>\n",
       "      <td>2022-01-12</td>\n",
       "      <td>478</td>\n",
       "    </tr>\n",
       "    <tr>\n",
       "      <th>361</th>\n",
       "      <td>2022-01-13</td>\n",
       "      <td>490</td>\n",
       "    </tr>\n",
       "    <tr>\n",
       "      <th>362</th>\n",
       "      <td>2022-01-14</td>\n",
       "      <td>504</td>\n",
       "    </tr>\n",
       "  </tbody>\n",
       "</table>\n",
       "<p>363 rows × 2 columns</p>\n",
       "</div>"
      ],
      "text/plain": [
       "          date  vessels\n",
       "0   2021-01-17        1\n",
       "1   2021-01-18        3\n",
       "2   2021-01-19        3\n",
       "3   2021-01-20        3\n",
       "4   2021-01-21        2\n",
       "..         ...      ...\n",
       "358 2022-01-10      475\n",
       "359 2022-01-11      471\n",
       "360 2022-01-12      478\n",
       "361 2022-01-13      490\n",
       "362 2022-01-14      504\n",
       "\n",
       "[363 rows x 2 columns]"
      ]
     },
     "execution_count": 46,
     "metadata": {},
     "output_type": "execute_result"
    }
   ],
   "source": [
    "num_of_vessels_time_series = vessels_status_df.groupby('DayDate')['imo'].nunique().reset_index()\n",
    "num_of_vessels_time_series.columns = ['date', 'vessels']\n",
    "num_of_vessels_time_series"
   ]
  },
  {
   "cell_type": "code",
   "execution_count": 47,
   "metadata": {},
   "outputs": [],
   "source": [
    "# Helper 2Function that adds date buttons in time series visualisations\n",
    "def add_date_buttons(months_back, time_series):\n",
    "    current_date = datetime.utcnow().date()\n",
    "    past_date = current_date - pd.DateOffset(months=months_back)\n",
    "    if (months_back < 12):\n",
    "        label_m = str(months_back) + 'm'\n",
    "        if past_date >= time_series.date.min(): date_buttons.append(dict(count = months_back, label = label_m, step = \"month\", stepmode = \"backward\"))\n",
    "    else:\n",
    "        label_y = str(int(months_back/12)) + 'y'\n",
    "        if past_date >= time_series.date.min(): date_buttons.append(dict(count = int(months_back/12), label = label_y, step = \"year\", stepmode = \"backward\"))\n",
    "    return date_buttons"
   ]
  },
  {
   "cell_type": "code",
   "execution_count": 48,
   "metadata": {},
   "outputs": [
    {
     "data": {
      "application/vnd.plotly.v1+json": {
       "config": {
        "plotlyServerURL": "https://plot.ly"
       },
       "data": [
        {
         "hovertemplate": "Date: %{x|%Y-%m-%d}<br>Day: %{x|%A}<br>Vessels: %{y}",
         "legendgroup": "",
         "line": {
          "color": "#636efa",
          "dash": "solid"
         },
         "marker": {
          "symbol": "circle"
         },
         "mode": "lines",
         "name": "",
         "orientation": "v",
         "showlegend": false,
         "type": "scatter",
         "x": [
          "2021-01-17T00:00:00",
          "2021-01-18T00:00:00",
          "2021-01-19T00:00:00",
          "2021-01-20T00:00:00",
          "2021-01-21T00:00:00",
          "2021-01-22T00:00:00",
          "2021-01-23T00:00:00",
          "2021-01-24T00:00:00",
          "2021-01-25T00:00:00",
          "2021-01-26T00:00:00",
          "2021-01-27T00:00:00",
          "2021-01-28T00:00:00",
          "2021-01-29T00:00:00",
          "2021-01-30T00:00:00",
          "2021-01-31T00:00:00",
          "2021-02-01T00:00:00",
          "2021-02-02T00:00:00",
          "2021-02-03T00:00:00",
          "2021-02-04T00:00:00",
          "2021-02-05T00:00:00",
          "2021-02-06T00:00:00",
          "2021-02-07T00:00:00",
          "2021-02-08T00:00:00",
          "2021-02-09T00:00:00",
          "2021-02-10T00:00:00",
          "2021-02-11T00:00:00",
          "2021-02-12T00:00:00",
          "2021-02-13T00:00:00",
          "2021-02-14T00:00:00",
          "2021-02-15T00:00:00",
          "2021-02-16T00:00:00",
          "2021-02-17T00:00:00",
          "2021-02-18T00:00:00",
          "2021-02-19T00:00:00",
          "2021-02-20T00:00:00",
          "2021-02-21T00:00:00",
          "2021-02-22T00:00:00",
          "2021-02-23T00:00:00",
          "2021-02-24T00:00:00",
          "2021-02-25T00:00:00",
          "2021-02-26T00:00:00",
          "2021-02-27T00:00:00",
          "2021-02-28T00:00:00",
          "2021-03-01T00:00:00",
          "2021-03-02T00:00:00",
          "2021-03-03T00:00:00",
          "2021-03-04T00:00:00",
          "2021-03-05T00:00:00",
          "2021-03-06T00:00:00",
          "2021-03-07T00:00:00",
          "2021-03-08T00:00:00",
          "2021-03-09T00:00:00",
          "2021-03-10T00:00:00",
          "2021-03-11T00:00:00",
          "2021-03-12T00:00:00",
          "2021-03-13T00:00:00",
          "2021-03-14T00:00:00",
          "2021-03-15T00:00:00",
          "2021-03-16T00:00:00",
          "2021-03-17T00:00:00",
          "2021-03-18T00:00:00",
          "2021-03-19T00:00:00",
          "2021-03-20T00:00:00",
          "2021-03-21T00:00:00",
          "2021-03-22T00:00:00",
          "2021-03-23T00:00:00",
          "2021-03-24T00:00:00",
          "2021-03-25T00:00:00",
          "2021-03-26T00:00:00",
          "2021-03-27T00:00:00",
          "2021-03-28T00:00:00",
          "2021-03-29T00:00:00",
          "2021-03-30T00:00:00",
          "2021-03-31T00:00:00",
          "2021-04-01T00:00:00",
          "2021-04-02T00:00:00",
          "2021-04-03T00:00:00",
          "2021-04-04T00:00:00",
          "2021-04-05T00:00:00",
          "2021-04-06T00:00:00",
          "2021-04-07T00:00:00",
          "2021-04-08T00:00:00",
          "2021-04-09T00:00:00",
          "2021-04-10T00:00:00",
          "2021-04-11T00:00:00",
          "2021-04-12T00:00:00",
          "2021-04-13T00:00:00",
          "2021-04-14T00:00:00",
          "2021-04-15T00:00:00",
          "2021-04-16T00:00:00",
          "2021-04-17T00:00:00",
          "2021-04-18T00:00:00",
          "2021-04-19T00:00:00",
          "2021-04-20T00:00:00",
          "2021-04-21T00:00:00",
          "2021-04-22T00:00:00",
          "2021-04-23T00:00:00",
          "2021-04-24T00:00:00",
          "2021-04-25T00:00:00",
          "2021-04-26T00:00:00",
          "2021-04-27T00:00:00",
          "2021-04-28T00:00:00",
          "2021-04-29T00:00:00",
          "2021-04-30T00:00:00",
          "2021-05-01T00:00:00",
          "2021-05-02T00:00:00",
          "2021-05-03T00:00:00",
          "2021-05-04T00:00:00",
          "2021-05-05T00:00:00",
          "2021-05-06T00:00:00",
          "2021-05-07T00:00:00",
          "2021-05-08T00:00:00",
          "2021-05-09T00:00:00",
          "2021-05-10T00:00:00",
          "2021-05-11T00:00:00",
          "2021-05-12T00:00:00",
          "2021-05-13T00:00:00",
          "2021-05-14T00:00:00",
          "2021-05-15T00:00:00",
          "2021-05-16T00:00:00",
          "2021-05-17T00:00:00",
          "2021-05-18T00:00:00",
          "2021-05-19T00:00:00",
          "2021-05-20T00:00:00",
          "2021-05-21T00:00:00",
          "2021-05-22T00:00:00",
          "2021-05-23T00:00:00",
          "2021-05-24T00:00:00",
          "2021-05-25T00:00:00",
          "2021-05-26T00:00:00",
          "2021-05-27T00:00:00",
          "2021-05-28T00:00:00",
          "2021-05-29T00:00:00",
          "2021-05-30T00:00:00",
          "2021-05-31T00:00:00",
          "2021-06-01T00:00:00",
          "2021-06-02T00:00:00",
          "2021-06-03T00:00:00",
          "2021-06-04T00:00:00",
          "2021-06-05T00:00:00",
          "2021-06-06T00:00:00",
          "2021-06-07T00:00:00",
          "2021-06-08T00:00:00",
          "2021-06-09T00:00:00",
          "2021-06-10T00:00:00",
          "2021-06-11T00:00:00",
          "2021-06-12T00:00:00",
          "2021-06-13T00:00:00",
          "2021-06-14T00:00:00",
          "2021-06-15T00:00:00",
          "2021-06-16T00:00:00",
          "2021-06-17T00:00:00",
          "2021-06-18T00:00:00",
          "2021-06-19T00:00:00",
          "2021-06-20T00:00:00",
          "2021-06-21T00:00:00",
          "2021-06-22T00:00:00",
          "2021-06-23T00:00:00",
          "2021-06-24T00:00:00",
          "2021-06-25T00:00:00",
          "2021-06-26T00:00:00",
          "2021-06-27T00:00:00",
          "2021-06-28T00:00:00",
          "2021-06-29T00:00:00",
          "2021-06-30T00:00:00",
          "2021-07-01T00:00:00",
          "2021-07-02T00:00:00",
          "2021-07-03T00:00:00",
          "2021-07-04T00:00:00",
          "2021-07-05T00:00:00",
          "2021-07-06T00:00:00",
          "2021-07-07T00:00:00",
          "2021-07-08T00:00:00",
          "2021-07-09T00:00:00",
          "2021-07-10T00:00:00",
          "2021-07-11T00:00:00",
          "2021-07-12T00:00:00",
          "2021-07-13T00:00:00",
          "2021-07-14T00:00:00",
          "2021-07-15T00:00:00",
          "2021-07-16T00:00:00",
          "2021-07-17T00:00:00",
          "2021-07-18T00:00:00",
          "2021-07-19T00:00:00",
          "2021-07-20T00:00:00",
          "2021-07-21T00:00:00",
          "2021-07-22T00:00:00",
          "2021-07-23T00:00:00",
          "2021-07-24T00:00:00",
          "2021-07-25T00:00:00",
          "2021-07-26T00:00:00",
          "2021-07-27T00:00:00",
          "2021-07-28T00:00:00",
          "2021-07-29T00:00:00",
          "2021-07-30T00:00:00",
          "2021-07-31T00:00:00",
          "2021-08-01T00:00:00",
          "2021-08-02T00:00:00",
          "2021-08-03T00:00:00",
          "2021-08-04T00:00:00",
          "2021-08-05T00:00:00",
          "2021-08-06T00:00:00",
          "2021-08-07T00:00:00",
          "2021-08-08T00:00:00",
          "2021-08-09T00:00:00",
          "2021-08-10T00:00:00",
          "2021-08-11T00:00:00",
          "2021-08-12T00:00:00",
          "2021-08-13T00:00:00",
          "2021-08-14T00:00:00",
          "2021-08-15T00:00:00",
          "2021-08-16T00:00:00",
          "2021-08-17T00:00:00",
          "2021-08-18T00:00:00",
          "2021-08-19T00:00:00",
          "2021-08-20T00:00:00",
          "2021-08-21T00:00:00",
          "2021-08-22T00:00:00",
          "2021-08-23T00:00:00",
          "2021-08-24T00:00:00",
          "2021-08-25T00:00:00",
          "2021-08-26T00:00:00",
          "2021-08-27T00:00:00",
          "2021-08-28T00:00:00",
          "2021-08-29T00:00:00",
          "2021-08-30T00:00:00",
          "2021-08-31T00:00:00",
          "2021-09-01T00:00:00",
          "2021-09-02T00:00:00",
          "2021-09-03T00:00:00",
          "2021-09-04T00:00:00",
          "2021-09-05T00:00:00",
          "2021-09-06T00:00:00",
          "2021-09-07T00:00:00",
          "2021-09-08T00:00:00",
          "2021-09-09T00:00:00",
          "2021-09-10T00:00:00",
          "2021-09-11T00:00:00",
          "2021-09-12T00:00:00",
          "2021-09-13T00:00:00",
          "2021-09-14T00:00:00",
          "2021-09-15T00:00:00",
          "2021-09-16T00:00:00",
          "2021-09-17T00:00:00",
          "2021-09-18T00:00:00",
          "2021-09-19T00:00:00",
          "2021-09-20T00:00:00",
          "2021-09-21T00:00:00",
          "2021-09-22T00:00:00",
          "2021-09-23T00:00:00",
          "2021-09-24T00:00:00",
          "2021-09-25T00:00:00",
          "2021-09-26T00:00:00",
          "2021-09-27T00:00:00",
          "2021-09-28T00:00:00",
          "2021-09-29T00:00:00",
          "2021-09-30T00:00:00",
          "2021-10-01T00:00:00",
          "2021-10-02T00:00:00",
          "2021-10-03T00:00:00",
          "2021-10-04T00:00:00",
          "2021-10-05T00:00:00",
          "2021-10-06T00:00:00",
          "2021-10-07T00:00:00",
          "2021-10-08T00:00:00",
          "2021-10-09T00:00:00",
          "2021-10-10T00:00:00",
          "2021-10-11T00:00:00",
          "2021-10-12T00:00:00",
          "2021-10-13T00:00:00",
          "2021-10-14T00:00:00",
          "2021-10-15T00:00:00",
          "2021-10-16T00:00:00",
          "2021-10-17T00:00:00",
          "2021-10-18T00:00:00",
          "2021-10-19T00:00:00",
          "2021-10-20T00:00:00",
          "2021-10-21T00:00:00",
          "2021-10-22T00:00:00",
          "2021-10-23T00:00:00",
          "2021-10-24T00:00:00",
          "2021-10-25T00:00:00",
          "2021-10-26T00:00:00",
          "2021-10-27T00:00:00",
          "2021-10-28T00:00:00",
          "2021-10-29T00:00:00",
          "2021-10-30T00:00:00",
          "2021-10-31T00:00:00",
          "2021-11-01T00:00:00",
          "2021-11-02T00:00:00",
          "2021-11-03T00:00:00",
          "2021-11-04T00:00:00",
          "2021-11-05T00:00:00",
          "2021-11-06T00:00:00",
          "2021-11-07T00:00:00",
          "2021-11-08T00:00:00",
          "2021-11-09T00:00:00",
          "2021-11-10T00:00:00",
          "2021-11-11T00:00:00",
          "2021-11-12T00:00:00",
          "2021-11-13T00:00:00",
          "2021-11-14T00:00:00",
          "2021-11-15T00:00:00",
          "2021-11-16T00:00:00",
          "2021-11-17T00:00:00",
          "2021-11-18T00:00:00",
          "2021-11-19T00:00:00",
          "2021-11-20T00:00:00",
          "2021-11-21T00:00:00",
          "2021-11-22T00:00:00",
          "2021-11-23T00:00:00",
          "2021-11-24T00:00:00",
          "2021-11-25T00:00:00",
          "2021-11-26T00:00:00",
          "2021-11-27T00:00:00",
          "2021-11-28T00:00:00",
          "2021-11-29T00:00:00",
          "2021-11-30T00:00:00",
          "2021-12-01T00:00:00",
          "2021-12-02T00:00:00",
          "2021-12-03T00:00:00",
          "2021-12-04T00:00:00",
          "2021-12-05T00:00:00",
          "2021-12-06T00:00:00",
          "2021-12-07T00:00:00",
          "2021-12-08T00:00:00",
          "2021-12-09T00:00:00",
          "2021-12-10T00:00:00",
          "2021-12-11T00:00:00",
          "2021-12-12T00:00:00",
          "2021-12-13T00:00:00",
          "2021-12-14T00:00:00",
          "2021-12-15T00:00:00",
          "2021-12-16T00:00:00",
          "2021-12-17T00:00:00",
          "2021-12-18T00:00:00",
          "2021-12-19T00:00:00",
          "2021-12-20T00:00:00",
          "2021-12-21T00:00:00",
          "2021-12-22T00:00:00",
          "2021-12-23T00:00:00",
          "2021-12-24T00:00:00",
          "2021-12-25T00:00:00",
          "2021-12-26T00:00:00",
          "2021-12-27T00:00:00",
          "2021-12-28T00:00:00",
          "2021-12-29T00:00:00",
          "2021-12-30T00:00:00",
          "2021-12-31T00:00:00",
          "2022-01-01T00:00:00",
          "2022-01-02T00:00:00",
          "2022-01-03T00:00:00",
          "2022-01-04T00:00:00",
          "2022-01-05T00:00:00",
          "2022-01-06T00:00:00",
          "2022-01-07T00:00:00",
          "2022-01-08T00:00:00",
          "2022-01-09T00:00:00",
          "2022-01-10T00:00:00",
          "2022-01-11T00:00:00",
          "2022-01-12T00:00:00",
          "2022-01-13T00:00:00",
          "2022-01-14T00:00:00"
         ],
         "xaxis": "x",
         "y": [
          1,
          3,
          3,
          3,
          2,
          2,
          4,
          3,
          6,
          10,
          14,
          21,
          32,
          40,
          47,
          64,
          94,
          105,
          113,
          120,
          120,
          136,
          147,
          143,
          148,
          154,
          161,
          163,
          160,
          151,
          155,
          165,
          168,
          186,
          196,
          204,
          214,
          220,
          237,
          236,
          263,
          265,
          280,
          291,
          296,
          298,
          296,
          304,
          318,
          321,
          340,
          347,
          360,
          355,
          354,
          346,
          334,
          332,
          338,
          357,
          358,
          356,
          373,
          371,
          391,
          383,
          372,
          382,
          381,
          390,
          404,
          409,
          414,
          428,
          428,
          409,
          413,
          405,
          405,
          409,
          408,
          412,
          433,
          443,
          447,
          440,
          453,
          462,
          466,
          452,
          451,
          440,
          439,
          423,
          418,
          425,
          424,
          432,
          412,
          418,
          430,
          445,
          452,
          446,
          436,
          457,
          455,
          443,
          448,
          457,
          459,
          447,
          461,
          465,
          464,
          449,
          437,
          456,
          454,
          458,
          459,
          474,
          489,
          484,
          478,
          481,
          476,
          468,
          479,
          480,
          478,
          463,
          475,
          483,
          486,
          489,
          480,
          491,
          499,
          501,
          504,
          493,
          500,
          501,
          491,
          489,
          491,
          498,
          491,
          499,
          494,
          496,
          490,
          473,
          479,
          487,
          500,
          478,
          470,
          471,
          471,
          462,
          454,
          463,
          461,
          466,
          446,
          452,
          457,
          458,
          457,
          461,
          464,
          459,
          465,
          469,
          486,
          499,
          503,
          513,
          517,
          489,
          485,
          487,
          507,
          508,
          510,
          486,
          473,
          461,
          458,
          478,
          486,
          503,
          510,
          519,
          503,
          491,
          476,
          493,
          489,
          493,
          504,
          507,
          515,
          526,
          527,
          535,
          537,
          549,
          542,
          538,
          538,
          554,
          547,
          549,
          556,
          542,
          532,
          540,
          526,
          525,
          520,
          509,
          513,
          507,
          503,
          496,
          494,
          483,
          479,
          480,
          473,
          471,
          480,
          476,
          481,
          477,
          462,
          454,
          462,
          455,
          457,
          460,
          477,
          511,
          518,
          511,
          512,
          521,
          520,
          531,
          524,
          524,
          512,
          490,
          490,
          504,
          501,
          490,
          490,
          500,
          512,
          513,
          513,
          516,
          528,
          542,
          550,
          555,
          564,
          569,
          551,
          547,
          553,
          547,
          543,
          541,
          534,
          538,
          534,
          528,
          530,
          525,
          526,
          520,
          516,
          492,
          482,
          479,
          498,
          505,
          501,
          514,
          491,
          507,
          501,
          509,
          513,
          513,
          510,
          515,
          525,
          518,
          516,
          524,
          523,
          510,
          503,
          498,
          495,
          486,
          505,
          507,
          506,
          503,
          501,
          487,
          487,
          492,
          502,
          512,
          509,
          507,
          492,
          505,
          499,
          513,
          506,
          519,
          524,
          517,
          521,
          507,
          510,
          518,
          517,
          509,
          511,
          515,
          499,
          497,
          513,
          507,
          509,
          500,
          501,
          500,
          496,
          477,
          486,
          460,
          477,
          466,
          481,
          484,
          480,
          475,
          475,
          471,
          478,
          490,
          504
         ],
         "yaxis": "y"
        }
       ],
       "layout": {
        "height": 500,
        "legend": {
         "tracegroupgap": 0
        },
        "plot_bgcolor": "rgba(0, 0, 0, 0.05)",
        "template": {
         "data": {
          "bar": [
           {
            "error_x": {
             "color": "#2a3f5f"
            },
            "error_y": {
             "color": "#2a3f5f"
            },
            "marker": {
             "line": {
              "color": "#E5ECF6",
              "width": 0.5
             },
             "pattern": {
              "fillmode": "overlay",
              "size": 10,
              "solidity": 0.2
             }
            },
            "type": "bar"
           }
          ],
          "barpolar": [
           {
            "marker": {
             "line": {
              "color": "#E5ECF6",
              "width": 0.5
             },
             "pattern": {
              "fillmode": "overlay",
              "size": 10,
              "solidity": 0.2
             }
            },
            "type": "barpolar"
           }
          ],
          "carpet": [
           {
            "aaxis": {
             "endlinecolor": "#2a3f5f",
             "gridcolor": "white",
             "linecolor": "white",
             "minorgridcolor": "white",
             "startlinecolor": "#2a3f5f"
            },
            "baxis": {
             "endlinecolor": "#2a3f5f",
             "gridcolor": "white",
             "linecolor": "white",
             "minorgridcolor": "white",
             "startlinecolor": "#2a3f5f"
            },
            "type": "carpet"
           }
          ],
          "choropleth": [
           {
            "colorbar": {
             "outlinewidth": 0,
             "ticks": ""
            },
            "type": "choropleth"
           }
          ],
          "contour": [
           {
            "colorbar": {
             "outlinewidth": 0,
             "ticks": ""
            },
            "colorscale": [
             [
              0,
              "#0d0887"
             ],
             [
              0.1111111111111111,
              "#46039f"
             ],
             [
              0.2222222222222222,
              "#7201a8"
             ],
             [
              0.3333333333333333,
              "#9c179e"
             ],
             [
              0.4444444444444444,
              "#bd3786"
             ],
             [
              0.5555555555555556,
              "#d8576b"
             ],
             [
              0.6666666666666666,
              "#ed7953"
             ],
             [
              0.7777777777777778,
              "#fb9f3a"
             ],
             [
              0.8888888888888888,
              "#fdca26"
             ],
             [
              1,
              "#f0f921"
             ]
            ],
            "type": "contour"
           }
          ],
          "contourcarpet": [
           {
            "colorbar": {
             "outlinewidth": 0,
             "ticks": ""
            },
            "type": "contourcarpet"
           }
          ],
          "heatmap": [
           {
            "colorbar": {
             "outlinewidth": 0,
             "ticks": ""
            },
            "colorscale": [
             [
              0,
              "#0d0887"
             ],
             [
              0.1111111111111111,
              "#46039f"
             ],
             [
              0.2222222222222222,
              "#7201a8"
             ],
             [
              0.3333333333333333,
              "#9c179e"
             ],
             [
              0.4444444444444444,
              "#bd3786"
             ],
             [
              0.5555555555555556,
              "#d8576b"
             ],
             [
              0.6666666666666666,
              "#ed7953"
             ],
             [
              0.7777777777777778,
              "#fb9f3a"
             ],
             [
              0.8888888888888888,
              "#fdca26"
             ],
             [
              1,
              "#f0f921"
             ]
            ],
            "type": "heatmap"
           }
          ],
          "heatmapgl": [
           {
            "colorbar": {
             "outlinewidth": 0,
             "ticks": ""
            },
            "colorscale": [
             [
              0,
              "#0d0887"
             ],
             [
              0.1111111111111111,
              "#46039f"
             ],
             [
              0.2222222222222222,
              "#7201a8"
             ],
             [
              0.3333333333333333,
              "#9c179e"
             ],
             [
              0.4444444444444444,
              "#bd3786"
             ],
             [
              0.5555555555555556,
              "#d8576b"
             ],
             [
              0.6666666666666666,
              "#ed7953"
             ],
             [
              0.7777777777777778,
              "#fb9f3a"
             ],
             [
              0.8888888888888888,
              "#fdca26"
             ],
             [
              1,
              "#f0f921"
             ]
            ],
            "type": "heatmapgl"
           }
          ],
          "histogram": [
           {
            "marker": {
             "pattern": {
              "fillmode": "overlay",
              "size": 10,
              "solidity": 0.2
             }
            },
            "type": "histogram"
           }
          ],
          "histogram2d": [
           {
            "colorbar": {
             "outlinewidth": 0,
             "ticks": ""
            },
            "colorscale": [
             [
              0,
              "#0d0887"
             ],
             [
              0.1111111111111111,
              "#46039f"
             ],
             [
              0.2222222222222222,
              "#7201a8"
             ],
             [
              0.3333333333333333,
              "#9c179e"
             ],
             [
              0.4444444444444444,
              "#bd3786"
             ],
             [
              0.5555555555555556,
              "#d8576b"
             ],
             [
              0.6666666666666666,
              "#ed7953"
             ],
             [
              0.7777777777777778,
              "#fb9f3a"
             ],
             [
              0.8888888888888888,
              "#fdca26"
             ],
             [
              1,
              "#f0f921"
             ]
            ],
            "type": "histogram2d"
           }
          ],
          "histogram2dcontour": [
           {
            "colorbar": {
             "outlinewidth": 0,
             "ticks": ""
            },
            "colorscale": [
             [
              0,
              "#0d0887"
             ],
             [
              0.1111111111111111,
              "#46039f"
             ],
             [
              0.2222222222222222,
              "#7201a8"
             ],
             [
              0.3333333333333333,
              "#9c179e"
             ],
             [
              0.4444444444444444,
              "#bd3786"
             ],
             [
              0.5555555555555556,
              "#d8576b"
             ],
             [
              0.6666666666666666,
              "#ed7953"
             ],
             [
              0.7777777777777778,
              "#fb9f3a"
             ],
             [
              0.8888888888888888,
              "#fdca26"
             ],
             [
              1,
              "#f0f921"
             ]
            ],
            "type": "histogram2dcontour"
           }
          ],
          "mesh3d": [
           {
            "colorbar": {
             "outlinewidth": 0,
             "ticks": ""
            },
            "type": "mesh3d"
           }
          ],
          "parcoords": [
           {
            "line": {
             "colorbar": {
              "outlinewidth": 0,
              "ticks": ""
             }
            },
            "type": "parcoords"
           }
          ],
          "pie": [
           {
            "automargin": true,
            "type": "pie"
           }
          ],
          "scatter": [
           {
            "marker": {
             "colorbar": {
              "outlinewidth": 0,
              "ticks": ""
             }
            },
            "type": "scatter"
           }
          ],
          "scatter3d": [
           {
            "line": {
             "colorbar": {
              "outlinewidth": 0,
              "ticks": ""
             }
            },
            "marker": {
             "colorbar": {
              "outlinewidth": 0,
              "ticks": ""
             }
            },
            "type": "scatter3d"
           }
          ],
          "scattercarpet": [
           {
            "marker": {
             "colorbar": {
              "outlinewidth": 0,
              "ticks": ""
             }
            },
            "type": "scattercarpet"
           }
          ],
          "scattergeo": [
           {
            "marker": {
             "colorbar": {
              "outlinewidth": 0,
              "ticks": ""
             }
            },
            "type": "scattergeo"
           }
          ],
          "scattergl": [
           {
            "marker": {
             "colorbar": {
              "outlinewidth": 0,
              "ticks": ""
             }
            },
            "type": "scattergl"
           }
          ],
          "scattermapbox": [
           {
            "marker": {
             "colorbar": {
              "outlinewidth": 0,
              "ticks": ""
             }
            },
            "type": "scattermapbox"
           }
          ],
          "scatterpolar": [
           {
            "marker": {
             "colorbar": {
              "outlinewidth": 0,
              "ticks": ""
             }
            },
            "type": "scatterpolar"
           }
          ],
          "scatterpolargl": [
           {
            "marker": {
             "colorbar": {
              "outlinewidth": 0,
              "ticks": ""
             }
            },
            "type": "scatterpolargl"
           }
          ],
          "scatterternary": [
           {
            "marker": {
             "colorbar": {
              "outlinewidth": 0,
              "ticks": ""
             }
            },
            "type": "scatterternary"
           }
          ],
          "surface": [
           {
            "colorbar": {
             "outlinewidth": 0,
             "ticks": ""
            },
            "colorscale": [
             [
              0,
              "#0d0887"
             ],
             [
              0.1111111111111111,
              "#46039f"
             ],
             [
              0.2222222222222222,
              "#7201a8"
             ],
             [
              0.3333333333333333,
              "#9c179e"
             ],
             [
              0.4444444444444444,
              "#bd3786"
             ],
             [
              0.5555555555555556,
              "#d8576b"
             ],
             [
              0.6666666666666666,
              "#ed7953"
             ],
             [
              0.7777777777777778,
              "#fb9f3a"
             ],
             [
              0.8888888888888888,
              "#fdca26"
             ],
             [
              1,
              "#f0f921"
             ]
            ],
            "type": "surface"
           }
          ],
          "table": [
           {
            "cells": {
             "fill": {
              "color": "#EBF0F8"
             },
             "line": {
              "color": "white"
             }
            },
            "header": {
             "fill": {
              "color": "#C8D4E3"
             },
             "line": {
              "color": "white"
             }
            },
            "type": "table"
           }
          ]
         },
         "layout": {
          "annotationdefaults": {
           "arrowcolor": "#2a3f5f",
           "arrowhead": 0,
           "arrowwidth": 1
          },
          "autotypenumbers": "strict",
          "coloraxis": {
           "colorbar": {
            "outlinewidth": 0,
            "ticks": ""
           }
          },
          "colorscale": {
           "diverging": [
            [
             0,
             "#8e0152"
            ],
            [
             0.1,
             "#c51b7d"
            ],
            [
             0.2,
             "#de77ae"
            ],
            [
             0.3,
             "#f1b6da"
            ],
            [
             0.4,
             "#fde0ef"
            ],
            [
             0.5,
             "#f7f7f7"
            ],
            [
             0.6,
             "#e6f5d0"
            ],
            [
             0.7,
             "#b8e186"
            ],
            [
             0.8,
             "#7fbc41"
            ],
            [
             0.9,
             "#4d9221"
            ],
            [
             1,
             "#276419"
            ]
           ],
           "sequential": [
            [
             0,
             "#0d0887"
            ],
            [
             0.1111111111111111,
             "#46039f"
            ],
            [
             0.2222222222222222,
             "#7201a8"
            ],
            [
             0.3333333333333333,
             "#9c179e"
            ],
            [
             0.4444444444444444,
             "#bd3786"
            ],
            [
             0.5555555555555556,
             "#d8576b"
            ],
            [
             0.6666666666666666,
             "#ed7953"
            ],
            [
             0.7777777777777778,
             "#fb9f3a"
            ],
            [
             0.8888888888888888,
             "#fdca26"
            ],
            [
             1,
             "#f0f921"
            ]
           ],
           "sequentialminus": [
            [
             0,
             "#0d0887"
            ],
            [
             0.1111111111111111,
             "#46039f"
            ],
            [
             0.2222222222222222,
             "#7201a8"
            ],
            [
             0.3333333333333333,
             "#9c179e"
            ],
            [
             0.4444444444444444,
             "#bd3786"
            ],
            [
             0.5555555555555556,
             "#d8576b"
            ],
            [
             0.6666666666666666,
             "#ed7953"
            ],
            [
             0.7777777777777778,
             "#fb9f3a"
            ],
            [
             0.8888888888888888,
             "#fdca26"
            ],
            [
             1,
             "#f0f921"
            ]
           ]
          },
          "colorway": [
           "#636efa",
           "#EF553B",
           "#00cc96",
           "#ab63fa",
           "#FFA15A",
           "#19d3f3",
           "#FF6692",
           "#B6E880",
           "#FF97FF",
           "#FECB52"
          ],
          "font": {
           "color": "#2a3f5f"
          },
          "geo": {
           "bgcolor": "white",
           "lakecolor": "white",
           "landcolor": "#E5ECF6",
           "showlakes": true,
           "showland": true,
           "subunitcolor": "white"
          },
          "hoverlabel": {
           "align": "left"
          },
          "hovermode": "closest",
          "mapbox": {
           "style": "light"
          },
          "paper_bgcolor": "white",
          "plot_bgcolor": "#E5ECF6",
          "polar": {
           "angularaxis": {
            "gridcolor": "white",
            "linecolor": "white",
            "ticks": ""
           },
           "bgcolor": "#E5ECF6",
           "radialaxis": {
            "gridcolor": "white",
            "linecolor": "white",
            "ticks": ""
           }
          },
          "scene": {
           "xaxis": {
            "backgroundcolor": "#E5ECF6",
            "gridcolor": "white",
            "gridwidth": 2,
            "linecolor": "white",
            "showbackground": true,
            "ticks": "",
            "zerolinecolor": "white"
           },
           "yaxis": {
            "backgroundcolor": "#E5ECF6",
            "gridcolor": "white",
            "gridwidth": 2,
            "linecolor": "white",
            "showbackground": true,
            "ticks": "",
            "zerolinecolor": "white"
           },
           "zaxis": {
            "backgroundcolor": "#E5ECF6",
            "gridcolor": "white",
            "gridwidth": 2,
            "linecolor": "white",
            "showbackground": true,
            "ticks": "",
            "zerolinecolor": "white"
           }
          },
          "shapedefaults": {
           "line": {
            "color": "#2a3f5f"
           }
          },
          "ternary": {
           "aaxis": {
            "gridcolor": "white",
            "linecolor": "white",
            "ticks": ""
           },
           "baxis": {
            "gridcolor": "white",
            "linecolor": "white",
            "ticks": ""
           },
           "bgcolor": "#E5ECF6",
           "caxis": {
            "gridcolor": "white",
            "linecolor": "white",
            "ticks": ""
           }
          },
          "title": {
           "x": 0.05
          },
          "xaxis": {
           "automargin": true,
           "gridcolor": "white",
           "linecolor": "white",
           "ticks": "",
           "title": {
            "standoff": 15
           },
           "zerolinecolor": "white",
           "zerolinewidth": 2
          },
          "yaxis": {
           "automargin": true,
           "gridcolor": "white",
           "linecolor": "white",
           "ticks": "",
           "title": {
            "standoff": 15
           },
           "zerolinecolor": "white",
           "zerolinewidth": 2
          }
         }
        },
        "title": {
         "text": "Number of Vessels per Day for voyages with Start Date >= 2021-01-14"
        },
        "width": 1250,
        "xaxis": {
         "anchor": "y",
         "autorange": true,
         "domain": [
          0,
          1
         ],
         "range": [
          "2021-01-17",
          "2022-01-14"
         ],
         "rangeselector": {
          "buttons": [
           {
            "count": 1,
            "label": "1m",
            "step": "month",
            "stepmode": "backward"
           },
           {
            "count": 6,
            "label": "6m",
            "step": "month",
            "stepmode": "backward"
           },
           {
            "count": 1,
            "label": "YTD",
            "step": "year",
            "stepmode": "todate"
           }
          ]
         },
         "rangeslider": {
          "autorange": true,
          "range": [
           "2021-01-17",
           "2022-01-14"
          ],
          "visible": true,
          "yaxis": {
           "_template": null,
           "rangemode": "match"
          }
         },
         "title": {
          "text": "date"
         },
         "type": "date"
        },
        "yaxis": {
         "anchor": "x",
         "autorange": true,
         "domain": [
          0,
          1
         ],
         "range": [
          -30.555555555555564,
          600.5555555555555
         ],
         "title": {
          "text": "vessels"
         },
         "type": "linear"
        }
       }
      },
      "image/png": "[encoded data removed]",
      "text/html": [
       "<div>                            <div id=\"15bfc8ea-047d-4ba0-956a-225c45babb78\" class=\"plotly-graph-div\" style=\"height:500px; width:1250px;\"></div>            <script type=\"text/javascript\">                require([\"plotly\"], function(Plotly) {                    window.PLOTLYENV=window.PLOTLYENV || {};                                    if (document.getElementById(\"15bfc8ea-047d-4ba0-956a-225c45babb78\")) {                    Plotly.newPlot(                        \"15bfc8ea-047d-4ba0-956a-225c45babb78\",                        [{\"hovertemplate\":\"Date: %{x|%Y-%m-%d}<br>Day: %{x|%A}<br>Vessels: %{y}\",\"legendgroup\":\"\",\"line\":{\"color\":\"#636efa\",\"dash\":\"solid\"},\"marker\":{\"symbol\":\"circle\"},\"mode\":\"lines\",\"name\":\"\",\"orientation\":\"v\",\"showlegend\":false,\"type\":\"scatter\",\"x\":[\"2021-01-17T00:00:00\",\"2021-01-18T00:00:00\",\"2021-01-19T00:00:00\",\"2021-01-20T00:00:00\",\"2021-01-21T00:00:00\",\"2021-01-22T00:00:00\",\"2021-01-23T00:00:00\",\"2021-01-24T00:00:00\",\"2021-01-25T00:00:00\",\"2021-01-26T00:00:00\",\"2021-01-27T00:00:00\",\"2021-01-28T00:00:00\",\"2021-01-29T00:00:00\",\"2021-01-30T00:00:00\",\"2021-01-31T00:00:00\",\"2021-02-01T00:00:00\",\"2021-02-02T00:00:00\",\"2021-02-03T00:00:00\",\"2021-02-04T00:00:00\",\"2021-02-05T00:00:00\",\"2021-02-06T00:00:00\",\"2021-02-07T00:00:00\",\"2021-02-08T00:00:00\",\"2021-02-09T00:00:00\",\"2021-02-10T00:00:00\",\"2021-02-11T00:00:00\",\"2021-02-12T00:00:00\",\"2021-02-13T00:00:00\",\"2021-02-14T00:00:00\",\"2021-02-15T00:00:00\",\"2021-02-16T00:00:00\",\"2021-02-17T00:00:00\",\"2021-02-18T00:00:00\",\"2021-02-19T00:00:00\",\"2021-02-20T00:00:00\",\"2021-02-21T00:00:00\",\"2021-02-22T00:00:00\",\"2021-02-23T00:00:00\",\"2021-02-24T00:00:00\",\"2021-02-25T00:00:00\",\"2021-02-26T00:00:00\",\"2021-02-27T00:00:00\",\"2021-02-28T00:00:00\",\"2021-03-01T00:00:00\",\"2021-03-02T00:00:00\",\"2021-03-03T00:00:00\",\"2021-03-04T00:00:00\",\"2021-03-05T00:00:00\",\"2021-03-06T00:00:00\",\"2021-03-07T00:00:00\",\"2021-03-08T00:00:00\",\"2021-03-09T00:00:00\",\"2021-03-10T00:00:00\",\"2021-03-11T00:00:00\",\"2021-03-12T00:00:00\",\"2021-03-13T00:00:00\",\"2021-03-14T00:00:00\",\"2021-03-15T00:00:00\",\"2021-03-16T00:00:00\",\"2021-03-17T00:00:00\",\"2021-03-18T00:00:00\",\"2021-03-19T00:00:00\",\"2021-03-20T00:00:00\",\"2021-03-21T00:00:00\",\"2021-03-22T00:00:00\",\"2021-03-23T00:00:00\",\"2021-03-24T00:00:00\",\"2021-03-25T00:00:00\",\"2021-03-26T00:00:00\",\"2021-03-27T00:00:00\",\"2021-03-28T00:00:00\",\"2021-03-29T00:00:00\",\"2021-03-30T00:00:00\",\"2021-03-31T00:00:00\",\"2021-04-01T00:00:00\",\"2021-04-02T00:00:00\",\"2021-04-03T00:00:00\",\"2021-04-04T00:00:00\",\"2021-04-05T00:00:00\",\"2021-04-06T00:00:00\",\"2021-04-07T00:00:00\",\"2021-04-08T00:00:00\",\"2021-04-09T00:00:00\",\"2021-04-10T00:00:00\",\"2021-04-11T00:00:00\",\"2021-04-12T00:00:00\",\"2021-04-13T00:00:00\",\"2021-04-14T00:00:00\",\"2021-04-15T00:00:00\",\"2021-04-16T00:00:00\",\"2021-04-17T00:00:00\",\"2021-04-18T00:00:00\",\"2021-04-19T00:00:00\",\"2021-04-20T00:00:00\",\"2021-04-21T00:00:00\",\"2021-04-22T00:00:00\",\"2021-04-23T00:00:00\",\"2021-04-24T00:00:00\",\"2021-04-25T00:00:00\",\"2021-04-26T00:00:00\",\"2021-04-27T00:00:00\",\"2021-04-28T00:00:00\",\"2021-04-29T00:00:00\",\"2021-04-30T00:00:00\",\"2021-05-01T00:00:00\",\"2021-05-02T00:00:00\",\"2021-05-03T00:00:00\",\"2021-05-04T00:00:00\",\"2021-05-05T00:00:00\",\"2021-05-06T00:00:00\",\"2021-05-07T00:00:00\",\"2021-05-08T00:00:00\",\"2021-05-09T00:00:00\",\"2021-05-10T00:00:00\",\"2021-05-11T00:00:00\",\"2021-05-12T00:00:00\",\"2021-05-13T00:00:00\",\"2021-05-14T00:00:00\",\"2021-05-15T00:00:00\",\"2021-05-16T00:00:00\",\"2021-05-17T00:00:00\",\"2021-05-18T00:00:00\",\"2021-05-19T00:00:00\",\"2021-05-20T00:00:00\",\"2021-05-21T00:00:00\",\"2021-05-22T00:00:00\",\"2021-05-23T00:00:00\",\"2021-05-24T00:00:00\",\"2021-05-25T00:00:00\",\"2021-05-26T00:00:00\",\"2021-05-27T00:00:00\",\"2021-05-28T00:00:00\",\"2021-05-29T00:00:00\",\"2021-05-30T00:00:00\",\"2021-05-31T00:00:00\",\"2021-06-01T00:00:00\",\"2021-06-02T00:00:00\",\"2021-06-03T00:00:00\",\"2021-06-04T00:00:00\",\"2021-06-05T00:00:00\",\"2021-06-06T00:00:00\",\"2021-06-07T00:00:00\",\"2021-06-08T00:00:00\",\"2021-06-09T00:00:00\",\"2021-06-10T00:00:00\",\"2021-06-11T00:00:00\",\"2021-06-12T00:00:00\",\"2021-06-13T00:00:00\",\"2021-06-14T00:00:00\",\"2021-06-15T00:00:00\",\"2021-06-16T00:00:00\",\"2021-06-17T00:00:00\",\"2021-06-18T00:00:00\",\"2021-06-19T00:00:00\",\"2021-06-20T00:00:00\",\"2021-06-21T00:00:00\",\"2021-06-22T00:00:00\",\"2021-06-23T00:00:00\",\"2021-06-24T00:00:00\",\"2021-06-25T00:00:00\",\"2021-06-26T00:00:00\",\"2021-06-27T00:00:00\",\"2021-06-28T00:00:00\",\"2021-06-29T00:00:00\",\"2021-06-30T00:00:00\",\"2021-07-01T00:00:00\",\"2021-07-02T00:00:00\",\"2021-07-03T00:00:00\",\"2021-07-04T00:00:00\",\"2021-07-05T00:00:00\",\"2021-07-06T00:00:00\",\"2021-07-07T00:00:00\",\"2021-07-08T00:00:00\",\"2021-07-09T00:00:00\",\"2021-07-10T00:00:00\",\"2021-07-11T00:00:00\",\"2021-07-12T00:00:00\",\"2021-07-13T00:00:00\",\"2021-07-14T00:00:00\",\"2021-07-15T00:00:00\",\"2021-07-16T00:00:00\",\"2021-07-17T00:00:00\",\"2021-07-18T00:00:00\",\"2021-07-19T00:00:00\",\"2021-07-20T00:00:00\",\"2021-07-21T00:00:00\",\"2021-07-22T00:00:00\",\"2021-07-23T00:00:00\",\"2021-07-24T00:00:00\",\"2021-07-25T00:00:00\",\"2021-07-26T00:00:00\",\"2021-07-27T00:00:00\",\"2021-07-28T00:00:00\",\"2021-07-29T00:00:00\",\"2021-07-30T00:00:00\",\"2021-07-31T00:00:00\",\"2021-08-01T00:00:00\",\"2021-08-02T00:00:00\",\"2021-08-03T00:00:00\",\"2021-08-04T00:00:00\",\"2021-08-05T00:00:00\",\"2021-08-06T00:00:00\",\"2021-08-07T00:00:00\",\"2021-08-08T00:00:00\",\"2021-08-09T00:00:00\",\"2021-08-10T00:00:00\",\"2021-08-11T00:00:00\",\"2021-08-12T00:00:00\",\"2021-08-13T00:00:00\",\"2021-08-14T00:00:00\",\"2021-08-15T00:00:00\",\"2021-08-16T00:00:00\",\"2021-08-17T00:00:00\",\"2021-08-18T00:00:00\",\"2021-08-19T00:00:00\",\"2021-08-20T00:00:00\",\"2021-08-21T00:00:00\",\"2021-08-22T00:00:00\",\"2021-08-23T00:00:00\",\"2021-08-24T00:00:00\",\"2021-08-25T00:00:00\",\"2021-08-26T00:00:00\",\"2021-08-27T00:00:00\",\"2021-08-28T00:00:00\",\"2021-08-29T00:00:00\",\"2021-08-30T00:00:00\",\"2021-08-31T00:00:00\",\"2021-09-01T00:00:00\",\"2021-09-02T00:00:00\",\"2021-09-03T00:00:00\",\"2021-09-04T00:00:00\",\"2021-09-05T00:00:00\",\"2021-09-06T00:00:00\",\"2021-09-07T00:00:00\",\"2021-09-08T00:00:00\",\"2021-09-09T00:00:00\",\"2021-09-10T00:00:00\",\"2021-09-11T00:00:00\",\"2021-09-12T00:00:00\",\"2021-09-13T00:00:00\",\"2021-09-14T00:00:00\",\"2021-09-15T00:00:00\",\"2021-09-16T00:00:00\",\"2021-09-17T00:00:00\",\"2021-09-18T00:00:00\",\"2021-09-19T00:00:00\",\"2021-09-20T00:00:00\",\"2021-09-21T00:00:00\",\"2021-09-22T00:00:00\",\"2021-09-23T00:00:00\",\"2021-09-24T00:00:00\",\"2021-09-25T00:00:00\",\"2021-09-26T00:00:00\",\"2021-09-27T00:00:00\",\"2021-09-28T00:00:00\",\"2021-09-29T00:00:00\",\"2021-09-30T00:00:00\",\"2021-10-01T00:00:00\",\"2021-10-02T00:00:00\",\"2021-10-03T00:00:00\",\"2021-10-04T00:00:00\",\"2021-10-05T00:00:00\",\"2021-10-06T00:00:00\",\"2021-10-07T00:00:00\",\"2021-10-08T00:00:00\",\"2021-10-09T00:00:00\",\"2021-10-10T00:00:00\",\"2021-10-11T00:00:00\",\"2021-10-12T00:00:00\",\"2021-10-13T00:00:00\",\"2021-10-14T00:00:00\",\"2021-10-15T00:00:00\",\"2021-10-16T00:00:00\",\"2021-10-17T00:00:00\",\"2021-10-18T00:00:00\",\"2021-10-19T00:00:00\",\"2021-10-20T00:00:00\",\"2021-10-21T00:00:00\",\"2021-10-22T00:00:00\",\"2021-10-23T00:00:00\",\"2021-10-24T00:00:00\",\"2021-10-25T00:00:00\",\"2021-10-26T00:00:00\",\"2021-10-27T00:00:00\",\"2021-10-28T00:00:00\",\"2021-10-29T00:00:00\",\"2021-10-30T00:00:00\",\"2021-10-31T00:00:00\",\"2021-11-01T00:00:00\",\"2021-11-02T00:00:00\",\"2021-11-03T00:00:00\",\"2021-11-04T00:00:00\",\"2021-11-05T00:00:00\",\"2021-11-06T00:00:00\",\"2021-11-07T00:00:00\",\"2021-11-08T00:00:00\",\"2021-11-09T00:00:00\",\"2021-11-10T00:00:00\",\"2021-11-11T00:00:00\",\"2021-11-12T00:00:00\",\"2021-11-13T00:00:00\",\"2021-11-14T00:00:00\",\"2021-11-15T00:00:00\",\"2021-11-16T00:00:00\",\"2021-11-17T00:00:00\",\"2021-11-18T00:00:00\",\"2021-11-19T00:00:00\",\"2021-11-20T00:00:00\",\"2021-11-21T00:00:00\",\"2021-11-22T00:00:00\",\"2021-11-23T00:00:00\",\"2021-11-24T00:00:00\",\"2021-11-25T00:00:00\",\"2021-11-26T00:00:00\",\"2021-11-27T00:00:00\",\"2021-11-28T00:00:00\",\"2021-11-29T00:00:00\",\"2021-11-30T00:00:00\",\"2021-12-01T00:00:00\",\"2021-12-02T00:00:00\",\"2021-12-03T00:00:00\",\"2021-12-04T00:00:00\",\"2021-12-05T00:00:00\",\"2021-12-06T00:00:00\",\"2021-12-07T00:00:00\",\"2021-12-08T00:00:00\",\"2021-12-09T00:00:00\",\"2021-12-10T00:00:00\",\"2021-12-11T00:00:00\",\"2021-12-12T00:00:00\",\"2021-12-13T00:00:00\",\"2021-12-14T00:00:00\",\"2021-12-15T00:00:00\",\"2021-12-16T00:00:00\",\"2021-12-17T00:00:00\",\"2021-12-18T00:00:00\",\"2021-12-19T00:00:00\",\"2021-12-20T00:00:00\",\"2021-12-21T00:00:00\",\"2021-12-22T00:00:00\",\"2021-12-23T00:00:00\",\"2021-12-24T00:00:00\",\"2021-12-25T00:00:00\",\"2021-12-26T00:00:00\",\"2021-12-27T00:00:00\",\"2021-12-28T00:00:00\",\"2021-12-29T00:00:00\",\"2021-12-30T00:00:00\",\"2021-12-31T00:00:00\",\"2022-01-01T00:00:00\",\"2022-01-02T00:00:00\",\"2022-01-03T00:00:00\",\"2022-01-04T00:00:00\",\"2022-01-05T00:00:00\",\"2022-01-06T00:00:00\",\"2022-01-07T00:00:00\",\"2022-01-08T00:00:00\",\"2022-01-09T00:00:00\",\"2022-01-10T00:00:00\",\"2022-01-11T00:00:00\",\"2022-01-12T00:00:00\",\"2022-01-13T00:00:00\",\"2022-01-14T00:00:00\"],\"xaxis\":\"x\",\"y\":[1,3,3,3,2,2,4,3,6,10,14,21,32,40,47,64,94,105,113,120,120,136,147,143,148,154,161,163,160,151,155,165,168,186,196,204,214,220,237,236,263,265,280,291,296,298,296,304,318,321,340,347,360,355,354,346,334,332,338,357,358,356,373,371,391,383,372,382,381,390,404,409,414,428,428,409,413,405,405,409,408,412,433,443,447,440,453,462,466,452,451,440,439,423,418,425,424,432,412,418,430,445,452,446,436,457,455,443,448,457,459,447,461,465,464,449,437,456,454,458,459,474,489,484,478,481,476,468,479,480,478,463,475,483,486,489,480,491,499,501,504,493,500,501,491,489,491,498,491,499,494,496,490,473,479,487,500,478,470,471,471,462,454,463,461,466,446,452,457,458,457,461,464,459,465,469,486,499,503,513,517,489,485,487,507,508,510,486,473,461,458,478,486,503,510,519,503,491,476,493,489,493,504,507,515,526,527,535,537,549,542,538,538,554,547,549,556,542,532,540,526,525,520,509,513,507,503,496,494,483,479,480,473,471,480,476,481,477,462,454,462,455,457,460,477,511,518,511,512,521,520,531,524,524,512,490,490,504,501,490,490,500,512,513,513,516,528,542,550,555,564,569,551,547,553,547,543,541,534,538,534,528,530,525,526,520,516,492,482,479,498,505,501,514,491,507,501,509,513,513,510,515,525,518,516,524,523,510,503,498,495,486,505,507,506,503,501,487,487,492,502,512,509,507,492,505,499,513,506,519,524,517,521,507,510,518,517,509,511,515,499,497,513,507,509,500,501,500,496,477,486,460,477,466,481,484,480,475,475,471,478,490,504],\"yaxis\":\"y\"}],                        {\"height\":500,\"legend\":{\"tracegroupgap\":0},\"plot_bgcolor\":\"rgba(0,0,0,0.05)\",\"template\":{\"data\":{\"bar\":[{\"error_x\":{\"color\":\"#2a3f5f\"},\"error_y\":{\"color\":\"#2a3f5f\"},\"marker\":{\"line\":{\"color\":\"#E5ECF6\",\"width\":0.5},\"pattern\":{\"fillmode\":\"overlay\",\"size\":10,\"solidity\":0.2}},\"type\":\"bar\"}],\"barpolar\":[{\"marker\":{\"line\":{\"color\":\"#E5ECF6\",\"width\":0.5},\"pattern\":{\"fillmode\":\"overlay\",\"size\":10,\"solidity\":0.2}},\"type\":\"barpolar\"}],\"carpet\":[{\"aaxis\":{\"endlinecolor\":\"#2a3f5f\",\"gridcolor\":\"white\",\"linecolor\":\"white\",\"minorgridcolor\":\"white\",\"startlinecolor\":\"#2a3f5f\"},\"baxis\":{\"endlinecolor\":\"#2a3f5f\",\"gridcolor\":\"white\",\"linecolor\":\"white\",\"minorgridcolor\":\"white\",\"startlinecolor\":\"#2a3f5f\"},\"type\":\"carpet\"}],\"choropleth\":[{\"colorbar\":{\"outlinewidth\":0,\"ticks\":\"\"},\"type\":\"choropleth\"}],\"contour\":[{\"colorbar\":{\"outlinewidth\":0,\"ticks\":\"\"},\"colorscale\":[[0.0,\"#0d0887\"],[0.1111111111111111,\"#46039f\"],[0.2222222222222222,\"#7201a8\"],[0.3333333333333333,\"#9c179e\"],[0.4444444444444444,\"#bd3786\"],[0.5555555555555556,\"#d8576b\"],[0.6666666666666666,\"#ed7953\"],[0.7777777777777778,\"#fb9f3a\"],[0.8888888888888888,\"#fdca26\"],[1.0,\"#f0f921\"]],\"type\":\"contour\"}],\"contourcarpet\":[{\"colorbar\":{\"outlinewidth\":0,\"ticks\":\"\"},\"type\":\"contourcarpet\"}],\"heatmap\":[{\"colorbar\":{\"outlinewidth\":0,\"ticks\":\"\"},\"colorscale\":[[0.0,\"#0d0887\"],[0.1111111111111111,\"#46039f\"],[0.2222222222222222,\"#7201a8\"],[0.3333333333333333,\"#9c179e\"],[0.4444444444444444,\"#bd3786\"],[0.5555555555555556,\"#d8576b\"],[0.6666666666666666,\"#ed7953\"],[0.7777777777777778,\"#fb9f3a\"],[0.8888888888888888,\"#fdca26\"],[1.0,\"#f0f921\"]],\"type\":\"heatmap\"}],\"heatmapgl\":[{\"colorbar\":{\"outlinewidth\":0,\"ticks\":\"\"},\"colorscale\":[[0.0,\"#0d0887\"],[0.1111111111111111,\"#46039f\"],[0.2222222222222222,\"#7201a8\"],[0.3333333333333333,\"#9c179e\"],[0.4444444444444444,\"#bd3786\"],[0.5555555555555556,\"#d8576b\"],[0.6666666666666666,\"#ed7953\"],[0.7777777777777778,\"#fb9f3a\"],[0.8888888888888888,\"#fdca26\"],[1.0,\"#f0f921\"]],\"type\":\"heatmapgl\"}],\"histogram\":[{\"marker\":{\"pattern\":{\"fillmode\":\"overlay\",\"size\":10,\"solidity\":0.2}},\"type\":\"histogram\"}],\"histogram2d\":[{\"colorbar\":{\"outlinewidth\":0,\"ticks\":\"\"},\"colorscale\":[[0.0,\"#0d0887\"],[0.1111111111111111,\"#46039f\"],[0.2222222222222222,\"#7201a8\"],[0.3333333333333333,\"#9c179e\"],[0.4444444444444444,\"#bd3786\"],[0.5555555555555556,\"#d8576b\"],[0.6666666666666666,\"#ed7953\"],[0.7777777777777778,\"#fb9f3a\"],[0.8888888888888888,\"#fdca26\"],[1.0,\"#f0f921\"]],\"type\":\"histogram2d\"}],\"histogram2dcontour\":[{\"colorbar\":{\"outlinewidth\":0,\"ticks\":\"\"},\"colorscale\":[[0.0,\"#0d0887\"],[0.1111111111111111,\"#46039f\"],[0.2222222222222222,\"#7201a8\"],[0.3333333333333333,\"#9c179e\"],[0.4444444444444444,\"#bd3786\"],[0.5555555555555556,\"#d8576b\"],[0.6666666666666666,\"#ed7953\"],[0.7777777777777778,\"#fb9f3a\"],[0.8888888888888888,\"#fdca26\"],[1.0,\"#f0f921\"]],\"type\":\"histogram2dcontour\"}],\"mesh3d\":[{\"colorbar\":{\"outlinewidth\":0,\"ticks\":\"\"},\"type\":\"mesh3d\"}],\"parcoords\":[{\"line\":{\"colorbar\":{\"outlinewidth\":0,\"ticks\":\"\"}},\"type\":\"parcoords\"}],\"pie\":[{\"automargin\":true,\"type\":\"pie\"}],\"scatter\":[{\"marker\":{\"colorbar\":{\"outlinewidth\":0,\"ticks\":\"\"}},\"type\":\"scatter\"}],\"scatter3d\":[{\"line\":{\"colorbar\":{\"outlinewidth\":0,\"ticks\":\"\"}},\"marker\":{\"colorbar\":{\"outlinewidth\":0,\"ticks\":\"\"}},\"type\":\"scatter3d\"}],\"scattercarpet\":[{\"marker\":{\"colorbar\":{\"outlinewidth\":0,\"ticks\":\"\"}},\"type\":\"scattercarpet\"}],\"scattergeo\":[{\"marker\":{\"colorbar\":{\"outlinewidth\":0,\"ticks\":\"\"}},\"type\":\"scattergeo\"}],\"scattergl\":[{\"marker\":{\"colorbar\":{\"outlinewidth\":0,\"ticks\":\"\"}},\"type\":\"scattergl\"}],\"scattermapbox\":[{\"marker\":{\"colorbar\":{\"outlinewidth\":0,\"ticks\":\"\"}},\"type\":\"scattermapbox\"}],\"scatterpolar\":[{\"marker\":{\"colorbar\":{\"outlinewidth\":0,\"ticks\":\"\"}},\"type\":\"scatterpolar\"}],\"scatterpolargl\":[{\"marker\":{\"colorbar\":{\"outlinewidth\":0,\"ticks\":\"\"}},\"type\":\"scatterpolargl\"}],\"scatterternary\":[{\"marker\":{\"colorbar\":{\"outlinewidth\":0,\"ticks\":\"\"}},\"type\":\"scatterternary\"}],\"surface\":[{\"colorbar\":{\"outlinewidth\":0,\"ticks\":\"\"},\"colorscale\":[[0.0,\"#0d0887\"],[0.1111111111111111,\"#46039f\"],[0.2222222222222222,\"#7201a8\"],[0.3333333333333333,\"#9c179e\"],[0.4444444444444444,\"#bd3786\"],[0.5555555555555556,\"#d8576b\"],[0.6666666666666666,\"#ed7953\"],[0.7777777777777778,\"#fb9f3a\"],[0.8888888888888888,\"#fdca26\"],[1.0,\"#f0f921\"]],\"type\":\"surface\"}],\"table\":[{\"cells\":{\"fill\":{\"color\":\"#EBF0F8\"},\"line\":{\"color\":\"white\"}},\"header\":{\"fill\":{\"color\":\"#C8D4E3\"},\"line\":{\"color\":\"white\"}},\"type\":\"table\"}]},\"layout\":{\"annotationdefaults\":{\"arrowcolor\":\"#2a3f5f\",\"arrowhead\":0,\"arrowwidth\":1},\"autotypenumbers\":\"strict\",\"coloraxis\":{\"colorbar\":{\"outlinewidth\":0,\"ticks\":\"\"}},\"colorscale\":{\"diverging\":[[0,\"#8e0152\"],[0.1,\"#c51b7d\"],[0.2,\"#de77ae\"],[0.3,\"#f1b6da\"],[0.4,\"#fde0ef\"],[0.5,\"#f7f7f7\"],[0.6,\"#e6f5d0\"],[0.7,\"#b8e186\"],[0.8,\"#7fbc41\"],[0.9,\"#4d9221\"],[1,\"#276419\"]],\"sequential\":[[0.0,\"#0d0887\"],[0.1111111111111111,\"#46039f\"],[0.2222222222222222,\"#7201a8\"],[0.3333333333333333,\"#9c179e\"],[0.4444444444444444,\"#bd3786\"],[0.5555555555555556,\"#d8576b\"],[0.6666666666666666,\"#ed7953\"],[0.7777777777777778,\"#fb9f3a\"],[0.8888888888888888,\"#fdca26\"],[1.0,\"#f0f921\"]],\"sequentialminus\":[[0.0,\"#0d0887\"],[0.1111111111111111,\"#46039f\"],[0.2222222222222222,\"#7201a8\"],[0.3333333333333333,\"#9c179e\"],[0.4444444444444444,\"#bd3786\"],[0.5555555555555556,\"#d8576b\"],[0.6666666666666666,\"#ed7953\"],[0.7777777777777778,\"#fb9f3a\"],[0.8888888888888888,\"#fdca26\"],[1.0,\"#f0f921\"]]},\"colorway\":[\"#636efa\",\"#EF553B\",\"#00cc96\",\"#ab63fa\",\"#FFA15A\",\"#19d3f3\",\"#FF6692\",\"#B6E880\",\"#FF97FF\",\"#FECB52\"],\"font\":{\"color\":\"#2a3f5f\"},\"geo\":{\"bgcolor\":\"white\",\"lakecolor\":\"white\",\"landcolor\":\"#E5ECF6\",\"showlakes\":true,\"showland\":true,\"subunitcolor\":\"white\"},\"hoverlabel\":{\"align\":\"left\"},\"hovermode\":\"closest\",\"mapbox\":{\"style\":\"light\"},\"paper_bgcolor\":\"white\",\"plot_bgcolor\":\"#E5ECF6\",\"polar\":{\"angularaxis\":{\"gridcolor\":\"white\",\"linecolor\":\"white\",\"ticks\":\"\"},\"bgcolor\":\"#E5ECF6\",\"radialaxis\":{\"gridcolor\":\"white\",\"linecolor\":\"white\",\"ticks\":\"\"}},\"scene\":{\"xaxis\":{\"backgroundcolor\":\"#E5ECF6\",\"gridcolor\":\"white\",\"gridwidth\":2,\"linecolor\":\"white\",\"showbackground\":true,\"ticks\":\"\",\"zerolinecolor\":\"white\"},\"yaxis\":{\"backgroundcolor\":\"#E5ECF6\",\"gridcolor\":\"white\",\"gridwidth\":2,\"linecolor\":\"white\",\"showbackground\":true,\"ticks\":\"\",\"zerolinecolor\":\"white\"},\"zaxis\":{\"backgroundcolor\":\"#E5ECF6\",\"gridcolor\":\"white\",\"gridwidth\":2,\"linecolor\":\"white\",\"showbackground\":true,\"ticks\":\"\",\"zerolinecolor\":\"white\"}},\"shapedefaults\":{\"line\":{\"color\":\"#2a3f5f\"}},\"ternary\":{\"aaxis\":{\"gridcolor\":\"white\",\"linecolor\":\"white\",\"ticks\":\"\"},\"baxis\":{\"gridcolor\":\"white\",\"linecolor\":\"white\",\"ticks\":\"\"},\"bgcolor\":\"#E5ECF6\",\"caxis\":{\"gridcolor\":\"white\",\"linecolor\":\"white\",\"ticks\":\"\"}},\"title\":{\"x\":0.05},\"xaxis\":{\"automargin\":true,\"gridcolor\":\"white\",\"linecolor\":\"white\",\"ticks\":\"\",\"title\":{\"standoff\":15},\"zerolinecolor\":\"white\",\"zerolinewidth\":2},\"yaxis\":{\"automargin\":true,\"gridcolor\":\"white\",\"linecolor\":\"white\",\"ticks\":\"\",\"title\":{\"standoff\":15},\"zerolinecolor\":\"white\",\"zerolinewidth\":2}}},\"title\":{\"text\":\"Number of Vessels per Day for voyages with Start Date >= 2021-01-14\"},\"width\":1250,\"xaxis\":{\"anchor\":\"y\",\"domain\":[0.0,1.0],\"rangeselector\":{\"buttons\":[{\"count\":1,\"label\":\"1m\",\"step\":\"month\",\"stepmode\":\"backward\"},{\"count\":6,\"label\":\"6m\",\"step\":\"month\",\"stepmode\":\"backward\"},{\"count\":1,\"label\":\"YTD\",\"step\":\"year\",\"stepmode\":\"todate\"}]},\"rangeslider\":{\"visible\":true},\"title\":{\"text\":\"date\"}},\"yaxis\":{\"anchor\":\"x\",\"domain\":[0.0,1.0],\"title\":{\"text\":\"vessels\"}}},                        {\"responsive\": true}                    ).then(function(){\n",
       "                            \n",
       "var gd = document.getElementById('15bfc8ea-047d-4ba0-956a-225c45babb78');\n",
       "var x = new MutationObserver(function (mutations, observer) {{\n",
       "        var display = window.getComputedStyle(gd).display;\n",
       "        if (!display || display === 'none') {{\n",
       "            console.log([gd, 'removed!']);\n",
       "            Plotly.purge(gd);\n",
       "            observer.disconnect();\n",
       "        }}\n",
       "}});\n",
       "\n",
       "// Listen for the removal of the full notebook cells\n",
       "var notebookContainer = gd.closest('#notebook-container');\n",
       "if (notebookContainer) {{\n",
       "    x.observe(notebookContainer, {childList: true});\n",
       "}}\n",
       "\n",
       "// Listen for the clearing of the current output cell\n",
       "var outputEl = gd.closest('.output');\n",
       "if (outputEl) {{\n",
       "    x.observe(outputEl, {childList: true});\n",
       "}}\n",
       "\n",
       "                        })                };                });            </script>        </div>"
      ]
     },
     "metadata": {},
     "output_type": "display_data"
    }
   ],
   "source": [
    "fig = px.line(num_of_vessels_time_series, x='date', y='vessels', \n",
    "              title = f'Number of Vessels per Day for voyages with Start Date >= {date_from}')\n",
    "\n",
    "fig.update_traces(hovertemplate='Date: %{x|%Y-%m-%d}<br>Day: %{x|%A}<br>Vessels: %{y}')\n",
    "\n",
    "# Add buttons with dates, if applicable\n",
    "date_buttons = []\n",
    "date_buttons = add_date_buttons(1, num_of_vessels_time_series) # 1 month back\n",
    "date_buttons = add_date_buttons(6, num_of_vessels_time_series) # 6 months back\n",
    "date_buttons = add_date_buttons(12, num_of_vessels_time_series) # 12 months back\n",
    "date_buttons.append(dict(count = 1, label = \"YTD\", step = \"year\", stepmode = \"todate\"))\n",
    "fig.update_xaxes(rangeslider_visible = True, rangeselector = dict(buttons = date_buttons))\n",
    "fig.update_layout(\n",
    "    width=1250,\n",
    "    height=500,\n",
    "    plot_bgcolor = 'rgba(0,0,0,0.05)')\n",
    "fig.show() "
   ]
  },
  {
   "cell_type": "markdown",
   "metadata": {},
   "source": [
    "### Live Port Congestion"
   ]
  },
  {
   "cell_type": "markdown",
   "metadata": {},
   "source": [
    "Live Port Congestion is translated to the number of vessels currently waiting or operating.  \n",
    "We also take into account vessels that have finished their current port call today or are expected to start their current port call within the day."
   ]
  },
  {
   "cell_type": "code",
   "execution_count": 49,
   "metadata": {},
   "outputs": [],
   "source": [
    "vessel_at_port_df = vessels_status_df[\n",
    "    (vessels_status_df.DayDate.dt.date == date.today())\n",
    "].copy()"
   ]
  },
  {
   "cell_type": "code",
   "execution_count": 50,
   "metadata": {},
   "outputs": [],
   "source": [
    "vessel_at_port_df['days_at_port'] = (\n",
    "    (vessel_at_port_df.DayDate - vessel_at_port_df['arrival_date'])\n",
    "    .dt\n",
    "    .total_seconds()\n",
    "    /(60*60*24.0)\n",
    ")"
   ]
  },
  {
   "cell_type": "code",
   "execution_count": 51,
   "metadata": {},
   "outputs": [],
   "source": [
    "vessel_at_port_df.loc[vessel_at_port_df.days_at_port < 0, 'days_at_port'] = None"
   ]
  },
  {
   "cell_type": "code",
   "execution_count": 52,
   "metadata": {},
   "outputs": [],
   "source": [
    "vessel_at_port_df = vessel_at_port_df.merge(\n",
    "    geos_df,\n",
    "    how = 'inner',\n",
    "    left_on = 'geo_asset_id',\n",
    "    right_on = 'id',\n",
    "    suffixes = ['_at_port','_geos']\n",
    ")"
   ]
  },
  {
   "cell_type": "markdown",
   "metadata": {},
   "source": [
    "#### Live Congestion in Ningbo"
   ]
  },
  {
   "cell_type": "code",
   "execution_count": 53,
   "metadata": {},
   "outputs": [
    {
     "data": {
      "text/html": [
       "<div>\n",
       "<style scoped>\n",
       "    .dataframe tbody tr th:only-of-type {\n",
       "        vertical-align: middle;\n",
       "    }\n",
       "\n",
       "    .dataframe tbody tr th {\n",
       "        vertical-align: top;\n",
       "    }\n",
       "\n",
       "    .dataframe thead th {\n",
       "        text-align: right;\n",
       "    }\n",
       "</style>\n",
       "<table border=\"1\" class=\"dataframe\">\n",
       "  <thead>\n",
       "    <tr style=\"text-align: right;\">\n",
       "      <th></th>\n",
       "      <th>imo</th>\n",
       "      <th>vessel_name</th>\n",
       "      <th>area_name_level0_geos</th>\n",
       "      <th>country_geos</th>\n",
       "      <th>geo_asset_name</th>\n",
       "      <th>port_name_geos</th>\n",
       "      <th>arrival_date</th>\n",
       "      <th>Mode</th>\n",
       "      <th>days_at_port</th>\n",
       "    </tr>\n",
       "  </thead>\n",
       "  <tbody>\n",
       "    <tr>\n",
       "      <th>34</th>\n",
       "      <td>9324124</td>\n",
       "      <td>HL Baltimore</td>\n",
       "      <td>Central China</td>\n",
       "      <td>China</td>\n",
       "      <td>Ningbo Iron &amp; Steel</td>\n",
       "      <td>Ningbo</td>\n",
       "      <td>2022-01-07 23:54:34.000</td>\n",
       "      <td>Operating</td>\n",
       "      <td>6.003773</td>\n",
       "    </tr>\n",
       "    <tr>\n",
       "      <th>107</th>\n",
       "      <td>9446582</td>\n",
       "      <td>Alpha Hope</td>\n",
       "      <td>Central China</td>\n",
       "      <td>China</td>\n",
       "      <td>Zhoushan Wugang Dock</td>\n",
       "      <td>Ningbo</td>\n",
       "      <td>2022-01-11 11:58:24.000</td>\n",
       "      <td>Operating</td>\n",
       "      <td>2.501111</td>\n",
       "    </tr>\n",
       "    <tr>\n",
       "      <th>108</th>\n",
       "      <td>9567099</td>\n",
       "      <td>SSI Brilliant</td>\n",
       "      <td>Central China</td>\n",
       "      <td>China</td>\n",
       "      <td>Zhoushan Wugang Dock</td>\n",
       "      <td>Ningbo</td>\n",
       "      <td>2022-01-10 07:52:58.000</td>\n",
       "      <td>Operating</td>\n",
       "      <td>3.671551</td>\n",
       "    </tr>\n",
       "    <tr>\n",
       "      <th>112</th>\n",
       "      <td>9448011</td>\n",
       "      <td>Berge Lyngor</td>\n",
       "      <td>Central China</td>\n",
       "      <td>China</td>\n",
       "      <td>Ningbo Bulk Terminal</td>\n",
       "      <td>Ningbo</td>\n",
       "      <td>2022-01-11 07:49:06.000</td>\n",
       "      <td>Operating</td>\n",
       "      <td>2.674236</td>\n",
       "    </tr>\n",
       "    <tr>\n",
       "      <th>113</th>\n",
       "      <td>9501851</td>\n",
       "      <td>Giant Ace</td>\n",
       "      <td>Central China</td>\n",
       "      <td>China</td>\n",
       "      <td>Ningbo Bulk Terminal</td>\n",
       "      <td>Ningbo</td>\n",
       "      <td>2022-01-07 15:57:38.000</td>\n",
       "      <td>Operating</td>\n",
       "      <td>6.334977</td>\n",
       "    </tr>\n",
       "    <tr>\n",
       "      <th>270</th>\n",
       "      <td>9278571</td>\n",
       "      <td>Ocean Queen</td>\n",
       "      <td>Central China</td>\n",
       "      <td>China</td>\n",
       "      <td>Ningbo</td>\n",
       "      <td>Ningbo</td>\n",
       "      <td>2022-01-11 11:50:56.000</td>\n",
       "      <td>Waiting</td>\n",
       "      <td>2.506296</td>\n",
       "    </tr>\n",
       "    <tr>\n",
       "      <th>271</th>\n",
       "      <td>9472282</td>\n",
       "      <td>Rutland</td>\n",
       "      <td>Central China</td>\n",
       "      <td>China</td>\n",
       "      <td>Ningbo</td>\n",
       "      <td>Ningbo</td>\n",
       "      <td>2022-01-09 23:51:42.000</td>\n",
       "      <td>Waiting</td>\n",
       "      <td>4.005764</td>\n",
       "    </tr>\n",
       "    <tr>\n",
       "      <th>272</th>\n",
       "      <td>9518658</td>\n",
       "      <td>Pacific Success</td>\n",
       "      <td>Central China</td>\n",
       "      <td>China</td>\n",
       "      <td>Ningbo</td>\n",
       "      <td>Ningbo</td>\n",
       "      <td>2022-01-08 03:51:06.000</td>\n",
       "      <td>Waiting</td>\n",
       "      <td>5.839514</td>\n",
       "    </tr>\n",
       "    <tr>\n",
       "      <th>273</th>\n",
       "      <td>9531868</td>\n",
       "      <td>Cape Midori</td>\n",
       "      <td>Central China</td>\n",
       "      <td>China</td>\n",
       "      <td>Ningbo</td>\n",
       "      <td>Ningbo</td>\n",
       "      <td>2022-01-08 11:53:48.000</td>\n",
       "      <td>Waiting</td>\n",
       "      <td>5.504306</td>\n",
       "    </tr>\n",
       "    <tr>\n",
       "      <th>274</th>\n",
       "      <td>9604196</td>\n",
       "      <td>Pacific North</td>\n",
       "      <td>Central China</td>\n",
       "      <td>China</td>\n",
       "      <td>Ningbo</td>\n",
       "      <td>Ningbo</td>\n",
       "      <td>2022-01-12 07:46:58.000</td>\n",
       "      <td>Waiting</td>\n",
       "      <td>1.675718</td>\n",
       "    </tr>\n",
       "    <tr>\n",
       "      <th>275</th>\n",
       "      <td>9631321</td>\n",
       "      <td>Cape Stars</td>\n",
       "      <td>Central China</td>\n",
       "      <td>China</td>\n",
       "      <td>Ningbo</td>\n",
       "      <td>Ningbo</td>\n",
       "      <td>2022-01-09 11:58:07.000</td>\n",
       "      <td>Waiting</td>\n",
       "      <td>4.501308</td>\n",
       "    </tr>\n",
       "    <tr>\n",
       "      <th>276</th>\n",
       "      <td>9632234</td>\n",
       "      <td>Imperator Australis</td>\n",
       "      <td>Central China</td>\n",
       "      <td>China</td>\n",
       "      <td>Ningbo</td>\n",
       "      <td>Ningbo</td>\n",
       "      <td>2022-01-13 07:45:17.000</td>\n",
       "      <td>Waiting</td>\n",
       "      <td>0.676887</td>\n",
       "    </tr>\n",
       "    <tr>\n",
       "      <th>277</th>\n",
       "      <td>9747869</td>\n",
       "      <td>True Corsair</td>\n",
       "      <td>Central China</td>\n",
       "      <td>China</td>\n",
       "      <td>Ningbo</td>\n",
       "      <td>Ningbo</td>\n",
       "      <td>2022-01-13 03:45:11.000</td>\n",
       "      <td>Waiting</td>\n",
       "      <td>0.843623</td>\n",
       "    </tr>\n",
       "    <tr>\n",
       "      <th>278</th>\n",
       "      <td>9802114</td>\n",
       "      <td>CSK Zephyr</td>\n",
       "      <td>Central China</td>\n",
       "      <td>China</td>\n",
       "      <td>Ningbo</td>\n",
       "      <td>Ningbo</td>\n",
       "      <td>2022-01-11 12:11:13.148</td>\n",
       "      <td>Waiting</td>\n",
       "      <td>2.492209</td>\n",
       "    </tr>\n",
       "    <tr>\n",
       "      <th>279</th>\n",
       "      <td>9906013</td>\n",
       "      <td>Trust Qingdao</td>\n",
       "      <td>Central China</td>\n",
       "      <td>China</td>\n",
       "      <td>Ningbo</td>\n",
       "      <td>Ningbo</td>\n",
       "      <td>2022-01-12 19:46:13.000</td>\n",
       "      <td>Waiting</td>\n",
       "      <td>1.176238</td>\n",
       "    </tr>\n",
       "    <tr>\n",
       "      <th>280</th>\n",
       "      <td>9920679</td>\n",
       "      <td>Ace Eternity</td>\n",
       "      <td>Central China</td>\n",
       "      <td>China</td>\n",
       "      <td>Ningbo</td>\n",
       "      <td>Ningbo</td>\n",
       "      <td>2022-01-12 11:49:40.000</td>\n",
       "      <td>Waiting</td>\n",
       "      <td>1.507176</td>\n",
       "    </tr>\n",
       "  </tbody>\n",
       "</table>\n",
       "</div>"
      ],
      "text/plain": [
       "         imo          vessel_name area_name_level0_geos country_geos  \\\n",
       "34   9324124         HL Baltimore         Central China        China   \n",
       "107  9446582           Alpha Hope         Central China        China   \n",
       "108  9567099        SSI Brilliant         Central China        China   \n",
       "112  9448011         Berge Lyngor         Central China        China   \n",
       "113  9501851            Giant Ace         Central China        China   \n",
       "270  9278571          Ocean Queen         Central China        China   \n",
       "271  9472282              Rutland         Central China        China   \n",
       "272  9518658      Pacific Success         Central China        China   \n",
       "273  9531868          Cape Midori         Central China        China   \n",
       "274  9604196        Pacific North         Central China        China   \n",
       "275  9631321           Cape Stars         Central China        China   \n",
       "276  9632234  Imperator Australis         Central China        China   \n",
       "277  9747869         True Corsair         Central China        China   \n",
       "278  9802114           CSK Zephyr         Central China        China   \n",
       "279  9906013        Trust Qingdao         Central China        China   \n",
       "280  9920679         Ace Eternity         Central China        China   \n",
       "\n",
       "           geo_asset_name port_name_geos            arrival_date       Mode  \\\n",
       "34    Ningbo Iron & Steel         Ningbo 2022-01-07 23:54:34.000  Operating   \n",
       "107  Zhoushan Wugang Dock         Ningbo 2022-01-11 11:58:24.000  Operating   \n",
       "108  Zhoushan Wugang Dock         Ningbo 2022-01-10 07:52:58.000  Operating   \n",
       "112  Ningbo Bulk Terminal         Ningbo 2022-01-11 07:49:06.000  Operating   \n",
       "113  Ningbo Bulk Terminal         Ningbo 2022-01-07 15:57:38.000  Operating   \n",
       "270                Ningbo         Ningbo 2022-01-11 11:50:56.000    Waiting   \n",
       "271                Ningbo         Ningbo 2022-01-09 23:51:42.000    Waiting   \n",
       "272                Ningbo         Ningbo 2022-01-08 03:51:06.000    Waiting   \n",
       "273                Ningbo         Ningbo 2022-01-08 11:53:48.000    Waiting   \n",
       "274                Ningbo         Ningbo 2022-01-12 07:46:58.000    Waiting   \n",
       "275                Ningbo         Ningbo 2022-01-09 11:58:07.000    Waiting   \n",
       "276                Ningbo         Ningbo 2022-01-13 07:45:17.000    Waiting   \n",
       "277                Ningbo         Ningbo 2022-01-13 03:45:11.000    Waiting   \n",
       "278                Ningbo         Ningbo 2022-01-11 12:11:13.148    Waiting   \n",
       "279                Ningbo         Ningbo 2022-01-12 19:46:13.000    Waiting   \n",
       "280                Ningbo         Ningbo 2022-01-12 11:49:40.000    Waiting   \n",
       "\n",
       "     days_at_port  \n",
       "34       6.003773  \n",
       "107      2.501111  \n",
       "108      3.671551  \n",
       "112      2.674236  \n",
       "113      6.334977  \n",
       "270      2.506296  \n",
       "271      4.005764  \n",
       "272      5.839514  \n",
       "273      5.504306  \n",
       "274      1.675718  \n",
       "275      4.501308  \n",
       "276      0.676887  \n",
       "277      0.843623  \n",
       "278      2.492209  \n",
       "279      1.176238  \n",
       "280      1.507176  "
      ]
     },
     "execution_count": 53,
     "metadata": {},
     "output_type": "execute_result"
    }
   ],
   "source": [
    "vessel_at_port_df[vessel_at_port_df.port_name_geos == 'Ningbo']\\\n",
    "[['imo','vessel_name','area_name_level0_geos','country_geos','geo_asset_name','port_name_geos','arrival_date','Mode','days_at_port']]\n"
   ]
  },
  {
   "cell_type": "markdown",
   "metadata": {},
   "source": [
    "#### Days at port Heatmap (globally)"
   ]
  },
  {
   "cell_type": "markdown",
   "metadata": {},
   "source": [
    "In this example we are displaying the density of the measure 'days at port' around the world.  \n",
    "Dasy at port correspond to the difference between current date and port call arrival date."
   ]
  },
  {
   "cell_type": "code",
   "execution_count": 54,
   "metadata": {},
   "outputs": [
    {
     "data": {
      "application/vnd.plotly.v1+json": {
       "config": {
        "plotlyServerURL": "https://plot.ly"
       },
       "data": [
        {
         "coloraxis": "coloraxis",
         "customdata": [
          [
           9141326,
           "Keoyang Orient",
           "Load",
           "Puerto Drummond",
           "2022-01-09T23:59:50",
           4.000115740740741
          ],
          [
           9465198,
           "Ocean Courtesy",
           "Load",
           "Puerto Drummond",
           "2022-01-10T03:47:11",
           3.8422337962962962
          ],
          [
           9172430,
           "Oriental Navigator",
           "Discharge",
           "Boryeong",
           "2022-01-01T15:51:09",
           12.339479166666667
          ],
          [
           9218777,
           "F Fortune",
           "Discharge",
           "Youngheung",
           "2022-01-14T07:55:53",
           null
          ],
          [
           9483322,
           "Ocean Lady",
           "Discharge",
           "Youngheung",
           "2022-01-07T23:57:51",
           6.001493055555557
          ],
          [
           9224879,
           "CIC Pride",
           "Discharge",
           "Mundra",
           "2022-01-13T18:04:15",
           0.24704861111111112
          ],
          [
           9701188,
           "Golden Houston",
           "Discharge",
           "Mundra",
           "2022-01-11T11:38:12",
           2.515138888888889
          ],
          [
           9232058,
           "Winning Endurance",
           "Discharge",
           "Yantai",
           "2022-01-12T15:41:22",
           1.3462731481481482
          ],
          [
           9659866,
           "Winning Nature",
           "Discharge",
           "Yantai",
           "2022-01-11T23:52:23",
           2.005289351851852
          ],
          [
           9856933,
           "Golden Spirit",
           "Discharge",
           "Yantai",
           "2022-01-11T04:48:03",
           2.799965277777778
          ],
          [
           9254678,
           "Winning Sea",
           "Discharge",
           "Yantai",
           "2022-01-12T23:38:08",
           1.0151851851851852
          ],
          [
           9567001,
           "Bulk Joyance",
           "Discharge",
           "Yantai",
           "2022-01-13T07:51:02",
           0.6728935185185185
          ],
          [
           9254666,
           "Sunny Link",
           "Load",
           "Kendawangan",
           "2021-12-23T07:50:41",
           21.67313657407408
          ],
          [
           9579872,
           "Marvellous",
           "Load",
           "Kendawangan",
           "2022-01-08T19:39:29",
           5.180914351851852
          ],
          [
           9254680,
           "Xh Explorer",
           "Discharge",
           "Dongjiangkou",
           "2022-01-03T07:40:01",
           10.680543981481481
          ],
          [
           9489845,
           "Mineral Haiku",
           "Discharge",
           "Dongjiangkou",
           "2022-01-07T07:34:49",
           6.684155092592593
          ],
          [
           9493614,
           "ESL Sealion",
           "Discharge",
           "Dongjiangkou",
           "2022-01-06T03:56:23",
           7.835844907407408
          ],
          [
           9260639,
           "Seacon Brazil",
           "Discharge",
           "Zhanjiang",
           "2022-01-04T11:57:19",
           9.501863425925926
          ],
          [
           9398711,
           "Divinus",
           "Discharge",
           "Zhanjiang",
           "2022-01-14T03:55:07",
           null
          ],
          [
           9300374,
           "Castillo De Valverde",
           "Load",
           "Ponta Da Madeira",
           "2022-01-08T19:59:22",
           5.167106481481482
          ],
          [
           9595412,
           "Azul Horizonte",
           "Load",
           "Ponta Da Madeira",
           "2022-01-10T07:57:41",
           3.668275462962963
          ],
          [
           9300570,
           "Aquavoyageurs",
           "Load",
           "Richard's Bay",
           "2022-01-11T15:55:13",
           2.3366550925925926
          ],
          [
           9476630,
           "Mineral Brussel",
           "Load",
           "Richard's Bay",
           "2022-01-11T03:58:16",
           2.8345370370370375
          ],
          [
           9301079,
           "Great Navigator",
           "Discharge",
           "Dangjin",
           "2022-01-14T07:53:58",
           null
          ],
          [
           9747948,
           "Navios Corali",
           "Discharge",
           "Dangjin",
           "2022-01-07T03:54:52",
           6.836898148148149
          ],
          [
           9310123,
           "Kymopolia",
           "Load",
           "Mina Saqr",
           "2022-01-08T23:57:32",
           5.001712962962963
          ],
          [
           9311593,
           "Jean Ld",
           "Discharge",
           "Zhangjiagang",
           "2022-01-12T07:58:17",
           1.6678587962962963
          ],
          [
           9406881,
           "Xin Run",
           "Discharge",
           "Zhangjiagang",
           "2022-01-14T10:10:09",
           null
          ],
          [
           9507881,
           "Navios Aster",
           "Discharge",
           "Zhangjiagang",
           "2022-01-12T07:41:37",
           1.6794328703703705
          ],
          [
           9511416,
           "Golden Myrtalia",
           "Discharge",
           "Zhangjiagang",
           "2022-01-14T09:00:25",
           null
          ],
          [
           9552381,
           "Cape Swan",
           "Discharge",
           "Zhangjiagang",
           "2022-01-14T10:41:21",
           null
          ],
          [
           9597197,
           "Zje Ocean 1",
           "Discharge",
           "Zhangjiagang",
           "2022-01-13T07:28:55",
           0.6882523148148149
          ],
          [
           9314129,
           "Salt Lake City",
           "Discharge",
           "Mailiao",
           "2021-12-30T03:45:18",
           14.843541666666667
          ],
          [
           9568005,
           "South Trader",
           "Discharge",
           "Mailiao",
           "2022-01-04T15:58:33",
           9.334340277777779
          ],
          [
           9324124,
           "HL Baltimore",
           "Discharge",
           "Ningbo",
           "2022-01-07T23:54:34",
           6.003773148148149
          ],
          [
           9331426,
           "Sunny Morebaya",
           "Discharge",
           "Longkou",
           "2022-01-10T07:58:10",
           3.667939814814815
          ],
          [
           9639476,
           "Judd",
           "Discharge",
           "Longkou",
           "2022-01-09T15:45:06",
           4.343680555555555
          ],
          [
           9344291,
           "Ocean Trinity",
           "Discharge",
           "Yokohama",
           "2022-01-12T07:57:22",
           1.6684953703703704
          ],
          [
           9344473,
           "C.Vision",
           "Discharge",
           "Fangcheng",
           "2022-01-06T03:56:40",
           7.835648148148148
          ],
          [
           9405071,
           "Cape Ray",
           "Discharge",
           "Fangcheng",
           "2022-01-04T07:47:16",
           9.67550925925926
          ],
          [
           9469003,
           "Bulk Mexico",
           "Discharge",
           "Fangcheng",
           "2022-01-04T07:58:28",
           9.667731481481482
          ],
          [
           9531856,
           "Cape Camellia",
           "Discharge",
           "Fangcheng",
           "2022-01-06T03:54:54",
           7.836875
          ],
          [
           9729180,
           "Cotswold",
           "Discharge",
           "Fangcheng",
           "2022-01-03T15:56:10",
           10.33599537037037
          ],
          [
           9592458,
           "Aashna",
           "Discharge",
           "Fangcheng",
           "2022-01-10T03:55:19",
           3.836585648148148
          ],
          [
           9346354,
           "Irene II",
           "Discharge",
           "Richard's Bay",
           "2021-11-05T15:59:05",
           69.33396990740741
          ],
          [
           9347188,
           "Big Bang",
           "Load",
           "Richard's Bay",
           "2022-01-09T07:55:13",
           4.669988425925926
          ],
          [
           9844540,
           "CL Rhine River",
           "Load",
           "Richard's Bay",
           "2021-12-07T07:58:01",
           37.66804398148148
          ],
          [
           9176113,
           "Lila Kyoto",
           "Load",
           "Richard's Bay",
           "2022-01-11T19:59:59",
           2.166678240740741
          ],
          [
           9241657,
           "Agia Trias",
           "Load",
           "Richard's Bay",
           "2022-01-04T03:57:06",
           9.835347222222222
          ],
          [
           9271614,
           "Dongyuan",
           "Load",
           "Richard's Bay",
           "2022-01-12T15:56:34",
           1.3357175925925926
          ],
          [
           9283681,
           "Mineral Noble",
           "Load",
           "Richard's Bay",
           "2021-12-14T11:56:53",
           30.502164351851853
          ],
          [
           9406893,
           "Semirio",
           "Load",
           "Richard's Bay",
           "2022-01-10T19:58:01",
           3.1680439814814814
          ],
          [
           9346756,
           "Ventura",
           "Load",
           "Hay Point",
           "2022-01-13T23:58:25",
           0.001099537037037037
          ],
          [
           9363003,
           "Smyrna",
           "Load",
           "Port Hedland",
           "2022-01-12T23:57:01",
           1.0020717592592592
          ],
          [
           9748112,
           "Mineral Hiroshige",
           "Load",
           "Port Hedland",
           "2022-01-12T03:57:27",
           1.8351041666666668
          ],
          [
           9839026,
           "NSU Young Star",
           "Load",
           "Port Hedland",
           "2022-01-12T11:57:53",
           1.5014699074074076
          ],
          [
           9862841,
           "Peng May",
           "Load",
           "Port Hedland",
           "2022-01-10T15:58:10",
           3.3346064814814813
          ],
          [
           9363039,
           "Sivota",
           "Load",
           "Puerto Bolivar",
           "2022-01-12T23:55:18",
           1.003263888888889
          ],
          [
           9374026,
           "Xin Rui Ocean",
           "Discharge",
           "Kemen",
           "2022-01-08T11:48:59",
           5.507650462962964
          ],
          [
           9469558,
           "Aquaprincess",
           "Discharge",
           "Kemen",
           "2022-01-12T17:58:05",
           1.2513310185185185
          ],
          [
           9374038,
           "Cape Alliance",
           "Discharge",
           "Kwangyang",
           "2022-01-13T03:45:36",
           0.8433333333333334
          ],
          [
           9410167,
           "Lan May",
           "Discharge",
           "Kwangyang",
           "2022-01-01T23:57:38",
           12.00164351851852
          ],
          [
           9425447,
           "Cape Peony",
           "Discharge",
           "Kwangyang",
           "2022-01-10T07:51:35",
           3.672511574074074
          ],
          [
           9444247,
           "Pan Freesia",
           "Discharge",
           "Kwangyang",
           "2022-01-08T07:37:49",
           5.68207175925926
          ],
          [
           9374040,
           "Berge Kuju",
           "Discharge",
           "Tianjin",
           "2022-01-09T19:47:15",
           4.175520833333334
          ],
          [
           9379260,
           "NSU Katsura",
           "Load",
           "Port Hedland",
           "2022-01-04T03:57:18",
           9.835208333333334
          ],
          [
           9700184,
           "Solar Dolphin",
           "Load",
           "Port Hedland",
           "2022-01-11T23:57:31",
           2.001724537037037
          ],
          [
           9393216,
           "Moonlight Dolphin",
           "Discharge",
           "Higashi-harima",
           "2022-01-10T07:54:03",
           3.670798611111111
          ],
          [
           9395202,
           "Nian Feng Hai",
           "Discharge",
           "Caofeidian",
           "2022-01-11T19:53:51",
           2.1709375
          ],
          [
           9416848,
           "Mineral Ningbo",
           "Discharge",
           "Caofeidian",
           "2022-01-11T11:40:19",
           2.5136689814814814
          ],
          [
           9481233,
           "Navios Buena Ventura",
           "Discharge",
           "Caofeidian",
           "2022-01-01T11:50:19",
           12.506724537037037
          ],
          [
           9648908,
           "Margret Oldendorff",
           "Discharge",
           "Caofeidian",
           "2022-01-13T03:59:53",
           0.8334143518518519
          ],
          [
           9715464,
           "Herun Global",
           "Discharge",
           "Caofeidian",
           "2022-01-09T03:48:26",
           4.84136574074074
          ],
          [
           9398113,
           "HL Frontier",
           "Load",
           "Port Hedland",
           "2022-01-07T03:57:30",
           6.835069444444445
          ],
          [
           9434369,
           "Maran Guardian",
           "Load",
           "Port Hedland",
           "2022-01-11T15:58:31",
           2.334363425925926
          ],
          [
           9558177,
           "Cape Crane",
           "Load",
           "Port Hedland",
           "2022-01-11T23:56:38",
           2.002337962962963
          ],
          [
           9398694,
           "Citius",
           "Load",
           "Porto do Acu",
           "2022-01-05T23:56:53",
           8.002164351851851
          ],
          [
           9592446,
           "Aanya",
           "Load",
           "Porto do Acu",
           "2022-01-05T23:52:04",
           8.00550925925926
          ],
          [
           9403528,
           "Spartacus",
           "Load",
           "Saldanha Bay",
           "2022-01-14T03:52:45",
           null
          ],
          [
           9627837,
           "Morandi",
           "Load",
           "Saldanha Bay",
           "2022-01-13T19:56:36",
           0.1690277777777778
          ],
          [
           9406520,
           "Winning Zephyr",
           "Discharge",
           "Qingdao",
           "2021-12-29T03:59:44",
           15.833518518518519
          ],
          [
           9552276,
           "Navios Phoenix",
           "Discharge",
           "Qingdao",
           "2022-01-11T11:51:03",
           2.5062152777777778
          ],
          [
           9587386,
           "Star Borealis",
           "Discharge",
           "Qingdao",
           "2022-01-07T19:45:45",
           6.1765625
          ],
          [
           9226633,
           "Sunny Conakry",
           "Discharge",
           "Qingdao",
           "2022-01-10T23:44:44",
           3.010601851851852
          ],
          [
           9483310,
           "SG Express",
           "Discharge",
           "Qingdao",
           "2022-01-13T11:58:20",
           0.5011574074074074
          ],
          [
           9522087,
           "Europe",
           "Discharge",
           "Qingdao",
           "2022-01-11T15:42:57",
           2.345173611111111
          ],
          [
           9589384,
           "Pantariste",
           "Discharge",
           "Qingdao",
           "2021-12-27T19:57:49",
           17.16818287037037
          ],
          [
           9591363,
           "RTM Columbus",
           "Discharge",
           "Qingdao",
           "2022-01-08T07:43:12",
           5.678333333333334
          ],
          [
           9408085,
           "Shibumi",
           "Discharge",
           "Rotterdam",
           "2022-01-12T03:57:19",
           1.8351967592592593
          ],
          [
           9488009,
           "Frontier Sky",
           "Discharge",
           "Rotterdam",
           "2022-01-06T15:56:47",
           7.33556712962963
          ],
          [
           9552422,
           "Southern Harmony",
           "Discharge",
           "Rotterdam",
           "2022-01-07T15:55:32",
           6.336435185185185
          ],
          [
           9423970,
           "Georgina Hope",
           "Load",
           "Lumut",
           "2022-01-07T15:56:37",
           6.335682870370371
          ],
          [
           9426415,
           "Captain Petros H.",
           "Discharge",
           "Jingtang",
           "2022-01-12T23:45:43",
           1.0099189814814815
          ],
          [
           9536806,
           "Taharoa Providence",
           "Discharge",
           "Jingtang",
           "2022-01-12T23:57:30",
           1.0017361111111112
          ],
          [
           9585106,
           "Aquarange",
           "Discharge",
           "Jingtang",
           "2022-01-13T07:55:53",
           0.669525462962963
          ],
          [
           9860984,
           "MP The Vrabel",
           "Discharge",
           "Jingtang",
           "2022-01-12T11:34:17",
           1.5178587962962964
          ],
          [
           9430038,
           "Genco London",
           "Discharge",
           "Rizhao - Donggang",
           "2022-01-06T15:56:56",
           7.335462962962963
          ],
          [
           9469259,
           "Baltic Bear",
           "Discharge",
           "Rizhao - Donggang",
           "2022-01-04T19:56:26",
           9.169143518518519
          ],
          [
           9546899,
           "Cape Sun",
           "Discharge",
           "Rizhao - Donggang",
           "2022-01-07T03:40:17",
           6.8470254629629625
          ],
          [
           9713064,
           "Hinrich Oldendorff",
           "Discharge",
           "Rizhao - Donggang",
           "2022-01-09T07:47:43",
           4.67519675925926
          ],
          [
           9436513,
           "Berge Song Shan",
           "Discharge",
           "Oita",
           "2022-01-14T03:55:38",
           null
          ],
          [
           9595424,
           "Shagang Haili",
           "Discharge",
           "Oita",
           "2022-01-08T15:56:50",
           5.335532407407407
          ],
          [
           9437696,
           "Golden Shui",
           "Discharge",
           "Taean",
           "2022-01-02T15:58:46",
           11.334189814814817
          ],
          [
           9438781,
           "Nymphe",
           "Load",
           "Baltimore",
           "2021-12-21T07:55:09",
           23.670034722222226
          ],
          [
           9439046,
           "Benitamou",
           "Discharge",
           "Icdas",
           "2021-10-24T03:47:48",
           81.84180555555555
          ],
          [
           9443607,
           "Golden Future",
           "Load",
           "Boffa",
           "2022-01-14T07:58:07",
           null
          ],
          [
           9910741,
           "Shandong Mission",
           "Load",
           "Boffa",
           "2022-01-10T03:58:11",
           3.8345949074074075
          ],
          [
           9446582,
           "Alpha Hope",
           "Discharge",
           "Ningbo",
           "2022-01-11T11:58:24",
           2.5011111111111113
          ],
          [
           9567099,
           "SSI Brilliant",
           "Discharge",
           "Ningbo",
           "2022-01-10T07:52:58",
           3.671550925925926
          ],
          [
           9446611,
           "Orange Tiger",
           "Load",
           "Dampier",
           "2022-01-09T23:57:29",
           4.001747685185185
          ],
          [
           9446635,
           "Mount Dampier",
           "Discharge",
           "Xiamen",
           "2022-01-12T07:38:10",
           1.6818287037037036
          ],
          [
           9427316,
           "Savina",
           "Discharge",
           "Xiamen",
           "2022-01-13T23:53:52",
           0.0042592592592592595
          ],
          [
           9448011,
           "Berge Lyngor",
           "Discharge",
           "Ningbo",
           "2022-01-11T07:49:06",
           2.674236111111111
          ],
          [
           9501851,
           "Giant Ace",
           "Discharge",
           "Ningbo",
           "2022-01-07T15:57:38",
           6.334976851851851
          ],
          [
           9451769,
           "Vidyut",
           "Load",
           "Bunati",
           "2021-12-27T10:42:06",
           17.55409722222222
          ],
          [
           9454577,
           "ESL Whale",
           "Discharge",
           "Bayuquan",
           "2021-12-11T11:42:26",
           33.512199074074076
          ],
          [
           9750933,
           "Berge Toubkal",
           "Discharge",
           "Bayuquan",
           "2021-12-10T19:42:38",
           34.17872685185185
          ],
          [
           9461257,
           "Minerva Providence",
           "Discharge",
           "Dangjin",
           "2022-01-13T03:54:31",
           0.8371412037037037
          ],
          [
           9748708,
           "Pan Delight",
           "Discharge",
           "Dangjin",
           "2022-01-10T07:55:38",
           3.669699074074074
          ],
          [
           9462471,
           "Edwin",
           "Discharge",
           "El-Dekheila",
           "2022-01-09T11:59:45",
           4.500173611111111
          ],
          [
           9468712,
           "Pan Gold",
           "Discharge",
           "Rizhao - Lanshan",
           "2022-01-12T07:55:14",
           1.6699768518518519
          ],
          [
           9489302,
           "Cape Alexandros",
           "Discharge",
           "Rizhao - Lanshan",
           "2022-01-11T11:46:22",
           2.5094675925925927
          ],
          [
           9747871,
           "Alpha Gallant",
           "Discharge",
           "Rizhao - Lanshan",
           "2022-01-08T19:54:52",
           5.170231481481482
          ],
          [
           9871103,
           "Heide Oldendorff",
           "Discharge",
           "Rizhao - Lanshan",
           "2022-01-10T15:57:03",
           3.3353819444444444
          ],
          [
           9325661,
           "Ocean Confidence",
           "Discharge",
           "Rizhao - Lanshan",
           "2022-01-11T07:50:54",
           2.6729861111111113
          ],
          [
           9420588,
           "Hebei Power",
           "Discharge",
           "Rizhao - Lanshan",
           "2022-01-10T23:59:42",
           3.0002083333333336
          ],
          [
           9423774,
           "Alpha Faith",
           "Discharge",
           "Rizhao - Lanshan",
           "2022-01-13T19:59:33",
           0.16697916666666668
          ],
          [
           9447184,
           "Coalmax",
           "Discharge",
           "Rizhao - Lanshan",
           "2022-01-14T03:49:48",
           null
          ],
          [
           9560388,
           "Linda Fortune",
           "Discharge",
           "Rizhao - Lanshan",
           "2022-01-13T03:50:16",
           0.8400925925925926
          ],
          [
           9633214,
           "New Delight",
           "Discharge",
           "Rizhao - Lanshan",
           "2022-01-13T23:55:52",
           0.002870370370370371
          ],
          [
           9702479,
           "Golden Scape",
           "Discharge",
           "Rizhao - Lanshan",
           "2022-01-11T11:57:35",
           2.5016782407407407
          ],
          [
           9906025,
           "Trust Shanghai",
           "Discharge",
           "Rizhao - Lanshan",
           "2022-01-13T11:57:13",
           0.5019328703703704
          ],
          [
           9468736,
           "Pan Iris",
           "Discharge",
           "Samcheonpo",
           "2022-01-10T23:57:12",
           3.0019444444444447
          ],
          [
           9470923,
           "Maran Happiness",
           "Load",
           "Abbot Point",
           "2022-01-13T15:51:49",
           0.3390162037037037
          ],
          [
           9469675,
           "Aquadiva",
           "Load",
           "Abbot Point",
           "2022-01-05T23:57:14",
           8.001921296296297
          ],
          [
           9483293,
           "SG Foundation",
           "Discharge",
           "Luhuashan",
           "2022-01-11T07:57:31",
           2.668391203703704
          ],
          [
           9487976,
           "Frontier Harvest",
           "Load",
           "Sept-Iles",
           "2022-01-04T19:55:16",
           9.169953703703703
          ],
          [
           9492103,
           "Amity",
           "Discharge",
           "Huanghua",
           "2022-01-07T19:47:47",
           6.1751504629629625
          ],
          [
           9587570,
           "Mangas",
           "Discharge",
           "Huanghua",
           "2022-01-06T11:53:14",
           7.504699074074074
          ],
          [
           9612076,
           "Samjohn Vision",
           "Discharge",
           "Huanghua",
           "2022-01-11T07:53:49",
           2.670960648148148
          ],
          [
           9675676,
           "Lake Despina",
           "Discharge",
           "Huanghua",
           "2022-01-11T02:51:08",
           2.8811574074074078
          ],
          [
           9715490,
           "Herun Zhoushan",
           "Discharge",
           "Huanghua",
           "2022-01-05T19:49:08",
           8.174212962962963
          ],
          [
           9493860,
           "Quorn",
           "Discharge",
           "Mormugao",
           "2022-01-08T11:55:20",
           5.5032407407407415
          ],
          [
           9500742,
           "Iron Miracle",
           "Load",
           "Port Hedland",
           "2022-01-06T23:55:44",
           7.002962962962963
          ],
          [
           9631333,
           "Cape Splendor",
           "Load",
           "Port Hedland",
           "2022-01-13T11:57:42",
           0.5015972222222222
          ],
          [
           9638850,
           "Dawn Horizon",
           "Load",
           "Port Hedland",
           "2022-01-05T15:55:34",
           8.336412037037038
          ],
          [
           9689706,
           "Marigo P",
           "Load",
           "Port Hedland",
           "2022-01-12T15:58:16",
           1.334537037037037
          ],
          [
           9500754,
           "Cape Peregrine",
           "Discharge",
           "Lazaro Cardenas",
           "2022-01-10T15:56:08",
           3.3360185185185185
          ],
          [
           9742209,
           "Stella Hope",
           "Discharge",
           "Lazaro Cardenas",
           "2022-01-09T23:59:52",
           4.000092592592592
          ],
          [
           9501497,
           "Aipos",
           "Load",
           "Roberts Bank",
           "2022-01-14T03:57:53",
           null
          ],
          [
           9589396,
           "Blue Lhotse",
           "Load",
           "Roberts Bank",
           "2021-12-13T23:57:19",
           31.001863425925926
          ],
          [
           9141338,
           "HL Richards Bay",
           "Load",
           "Roberts Bank",
           "2021-12-27T19:55:35",
           17.169733796296295
          ],
          [
           9502934,
           "Youngheung",
           "Load",
           "Roberts Bank",
           "2021-12-23T07:59:18",
           21.66715277777778
          ],
          [
           9752199,
           "Stella Tess",
           "Load",
           "Roberts Bank",
           "2022-01-08T11:58:01",
           5.501377314814816
          ],
          [
           9503201,
           "Ocean Road",
           "Discharge",
           "Koper",
           "2022-01-12T19:57:56",
           1.1681018518518518
          ],
          [
           9507893,
           "Knightship",
           "Discharge",
           "IJmuiden",
           "2022-01-10T23:57:46",
           3.001550925925926
          ],
          [
           9835898,
           "Pacific Myra",
           "Discharge",
           "IJmuiden",
           "2022-01-06T19:59:29",
           7.167025462962963
          ],
          [
           9604976,
           "Frontier Unity",
           "Discharge",
           "IJmuiden",
           "2021-10-27T07:56:49",
           78.66887731481482
          ],
          [
           9511454,
           "Resilience",
           "Discharge",
           "Eren",
           "2022-01-02T19:52:34",
           11.171828703703705
          ],
          [
           9514509,
           "Golden Horizon",
           "Discharge",
           "Dagang",
           "2022-01-13T07:57:12",
           0.6686111111111112
          ],
          [
           9516492,
           "Heng Mao",
           "Discharge",
           "Taichung",
           "2022-01-04T07:55:53",
           9.669525462962962
          ],
          [
           9516521,
           "Tian Fa Hai",
           "Discharge",
           "Kaohsiung",
           "2022-01-13T23:59:47",
           0.00015046296296296297
          ],
          [
           9702558,
           "China Steel Endeavor",
           "Discharge",
           "Kaohsiung",
           "2022-01-14T07:57:39",
           null
          ],
          [
           9521409,
           "Indian Partnership",
           "Load",
           "Sitrah",
           "2022-01-13T11:57:20",
           0.5018518518518519
          ],
          [
           9747962,
           "Capricorn Sigma",
           "Discharge",
           "Sitrah",
           "2022-01-04T19:56:23",
           9.169178240740742
          ],
          [
           9753351,
           "Star Europe",
           "Discharge",
           "Sitrah",
           "2022-01-14T07:56:53",
           null
          ],
          [
           9532094,
           "Vega Dream",
           "Discharge",
           "Taicang",
           "2022-01-06T18:25:34",
           7.232245370370371
          ],
          [
           9536155,
           "Aquahaha",
           "Discharge",
           "Ain Sukhna",
           "2021-12-29T19:56:15",
           15.169270833333334
          ],
          [
           9538751,
           "Cape Jasmine",
           "Discharge",
           "Jaigarh",
           "2022-01-13T15:56:46",
           0.3355787037037037
          ],
          [
           9595606,
           "Honor",
           "Discharge",
           "Jaigarh",
           "2022-01-09T23:58:03",
           4.001354166666666
          ],
          [
           9802097,
           "Cape Oasis",
           "Discharge",
           "Jaigarh",
           "2022-01-13T19:55:26",
           0.169837962962963
          ],
          [
           9552159,
           "Golden Crown",
           "Discharge",
           "Cigading",
           "2022-01-11T07:03:51",
           2.7056597222222227
          ],
          [
           9565326,
           "Pacific Resource",
           "Load",
           "San Nicolas (Peru)",
           "2021-12-31T19:44:09",
           13.17767361111111
          ],
          [
           9567025,
           "Mineral Hope",
           "Load",
           "Taboneo",
           "2022-01-06T23:51:39",
           7.0057986111111115
          ],
          [
           9579781,
           "New Hydra",
           "Discharge",
           "Port Talbot",
           "2022-01-13T11:59:38",
           0.5002546296296296
          ],
          [
           9590826,
           "Lowlands Sunrise",
           "Load",
           "Skardon River",
           "2021-12-28T23:52:35",
           16.005150462962963
          ],
          [
           9591739,
           "Aquamarie",
           "Discharge",
           "Tianjin",
           "2022-01-07T11:56:42",
           6.502291666666666
          ],
          [
           9654799,
           "Cape Europe",
           "Discharge",
           "Tianjin",
           "2022-01-03T15:43:13",
           10.344988425925926
          ],
          [
           9592434,
           "China Prosperity",
           "Discharge",
           "Kisarazu",
           "2022-01-10T03:58:09",
           3.8346180555555556
          ],
          [
           9675664,
           "NSU Obelisk",
           "Discharge",
           "Kisarazu",
           "2022-01-10T07:57:09",
           3.668645833333333
          ],
          [
           9600437,
           "Ever Shine",
           "Discharge",
           "Majishan",
           "2022-01-13T03:59:29",
           0.8336921296296296
          ],
          [
           9730397,
           "Johanna",
           "Discharge",
           "Majishan",
           "2022-01-13T15:57:28",
           0.3350925925925926
          ],
          [
           9743198,
           "Golden Incus",
           "Discharge",
           "Majishan",
           "2022-01-12T03:47:19",
           1.8421412037037037
          ],
          [
           9603427,
           "Clear Horizon",
           "Discharge",
           "Zhanjiang",
           "2022-01-11T15:56:07",
           2.3360300925925928
          ],
          [
           9604988,
           "Pacific Treasure",
           "Discharge",
           "Lianyungang",
           "2022-01-11T15:58:53",
           2.334108796296296
          ],
          [
           9641900,
           "Mount Logan",
           "Discharge",
           "Lianyungang",
           "2022-01-08T15:58:14",
           5.334560185185185
          ],
          [
           9723186,
           "Red Sage",
           "Discharge",
           "Lianyungang",
           "2022-01-07T19:39:53",
           6.180636574074074
          ],
          [
           9434395,
           "Maran Vigour",
           "Discharge",
           "Lianyungang",
           "2022-01-11T15:56:46",
           2.3355787037037037
          ],
          [
           9454163,
           "Zampa Blue",
           "Discharge",
           "Lianyungang",
           "2022-01-07T19:56:35",
           6.169039351851852
          ],
          [
           9921623,
           "Star Shibumi",
           "Discharge",
           "Lianyungang",
           "2022-01-04T03:56:30",
           9.83576388888889
          ],
          [
           9605487,
           "Flag Thenia",
           "Load",
           "Cartier",
           "2022-01-08T11:57:24",
           5.501805555555556
          ],
          [
           9624469,
           "Cape Eagle",
           "Discharge",
           "Karabiga",
           "2022-01-09T19:58:13",
           4.1679050925925925
          ],
          [
           9643506,
           "Pacific Maru",
           "Discharge",
           "Tobata",
           "2022-01-10T03:54:14",
           3.837337962962963
          ],
          [
           9651072,
           "Cape Green",
           "Discharge",
           "Fukuyama",
           "2022-01-11T03:56:35",
           2.835706018518519
          ],
          [
           9654804,
           "Cape India",
           "Load",
           "Dampier",
           "2022-01-04T23:58:03",
           9.001354166666667
          ],
          [
           9736951,
           "True Caspian",
           "Load",
           "Dampier",
           "2022-01-12T07:53:07",
           1.6714467592592592
          ],
          [
           9664873,
           "Navios Joy",
           "Discharge",
           "Changshu",
           "2022-01-13T07:57:59",
           0.6680671296296297
          ],
          [
           9699634,
           "Lydia Oldendorff",
           "Load",
           "Itaguai",
           "2022-01-04T23:51:34",
           9.005856481481482
          ],
          [
           9700823,
           "Cape Hope",
           "Discharge",
           "Villanueva",
           "2022-01-12T11:50:21",
           1.5067013888888892
          ],
          [
           9718351,
           "Helena Oldendorff",
           "Load",
           "Guaiba",
           "2021-12-23T03:58:41",
           21.834247685185186
          ],
          [
           9837327,
           "Wang May",
           "Load",
           "Guaiba",
           "2021-12-25T11:56:55",
           19.502141203703705
          ],
          [
           9227388,
           "Pitsa D",
           "Load",
           "Guaiba",
           "2022-01-04T19:59:05",
           9.167303240740742
          ],
          [
           9723150,
           "Fpmc B Majesty",
           "Load",
           "Port Walcott",
           "2021-12-27T03:59:16",
           17.833842592592593
          ],
          [
           9736925,
           "True Condor",
           "Discharge",
           "Port Kembla",
           "2022-01-11T19:58:20",
           2.167824074074074
          ],
          [
           9737826,
           "China Steel Vision",
           "Load",
           "Port Walcott",
           "2021-12-28T11:55:41",
           16.502997685185186
          ],
          [
           9751119,
           "Graceous",
           "Load",
           "Port Walcott",
           "2022-01-09T11:58:59",
           4.500706018518518
          ],
          [
           9737840,
           "Mount Hermon",
           "Discharge",
           "Vung Ang",
           "2022-01-09T11:58:55",
           4.5007523148148145
          ],
          [
           9738131,
           "Xin Li Hai",
           "Discharge",
           "Shanghai",
           "2022-01-09T07:47:41",
           4.675219907407407
          ],
          [
           9262730,
           "Agios Charalambos",
           "Discharge",
           "Shanghai",
           "2022-01-11T15:50:53",
           2.339664351851852
          ],
          [
           9300594,
           "Mount Nevis",
           "Discharge",
           "Shanghai",
           "2022-01-11T07:49:53",
           2.6736921296296297
          ],
          [
           9482677,
           "Xin Jin Hai",
           "Discharge",
           "Shanghai",
           "2022-01-09T11:47:41",
           4.508553240740741
          ],
          [
           9518646,
           "Pacific Spirit",
           "Discharge",
           "Shanghai",
           "2022-01-08T23:51:33",
           5.005868055555555
          ],
          [
           9566992,
           "Bulk Genius",
           "Discharge",
           "Shanghai",
           "2022-01-09T03:47:34",
           4.841967592592592
          ],
          [
           9567063,
           "Berge Townsend",
           "Discharge",
           "Shanghai",
           "2022-01-07T07:57:40",
           6.668287037037037
          ],
          [
           9702481,
           "Golden Swift",
           "Discharge",
           "Shanghai",
           "2022-01-09T11:45:52",
           4.509814814814815
          ],
          [
           9721011,
           "Maran Spirit",
           "Discharge",
           "Shanghai",
           "2022-01-11T07:48:15",
           2.674826388888889
          ],
          [
           9743277,
           "Contamines",
           "Discharge",
           "Flushing",
           "2022-01-06T23:58:20",
           7.001157407407407
          ],
          [
           9756743,
           "Navios Felix",
           "Discharge",
           "Gijon",
           "2022-01-06T11:55:14",
           7.503310185185185
          ],
          [
           9757917,
           "KN Arcadia",
           "Discharge",
           "Mizushima",
           "2022-01-09T11:57:41",
           4.5016087962962965
          ],
          [
           9895630,
           "Hui Ji Hai",
           "Discharge",
           "Mizushima",
           "2022-01-10T19:57:17",
           3.168553240740741
          ],
          [
           9759977,
           "Ino Horizon",
           "Discharge",
           "Muroran",
           "2022-01-10T23:57:48",
           3.001527777777778
          ],
          [
           9760005,
           "AOM Marta",
           "Discharge",
           "Jiangyin",
           "2022-01-07T08:48:53",
           6.632719907407408
          ],
          [
           9844605,
           "Bulk Santiago",
           "Discharge",
           "Jiangyin",
           "2022-01-06T03:44:17",
           7.844247685185185
          ],
          [
           9834129,
           "Ferrum Australis",
           "Discharge",
           "Qushan Island",
           "2022-01-10T19:57:06",
           3.1686805555555555
          ],
          [
           9835874,
           "Pacific Anouk",
           "Load",
           "Murmansk",
           "2022-01-09T23:58:01",
           4.001377314814815
          ],
          [
           9839014,
           "Bulk Peninsula",
           "Load",
           "Hay Point",
           "2022-01-07T23:52:18",
           6.005347222222223
          ],
          [
           9853711,
           "Annabel L",
           "Load",
           "Sept-Iles",
           "2022-01-04T19:57:25",
           9.168460648148148
          ],
          [
           9692820,
           "CIC Paola",
           "Load",
           "Sept-Iles",
           "2021-12-30T23:55:46",
           14.002939814814814
          ],
          [
           9790880,
           "NSU Voyager",
           "Load",
           "Sept-Iles",
           "2022-01-11T19:58:07",
           2.167974537037037
          ],
          [
           9872092,
           "Shandong De Guang",
           "Load",
           "Sept-Iles",
           "2022-01-09T23:59:15",
           4.000520833333334
          ],
          [
           9854533,
           "CL Liuzhou",
           "Discharge",
           "Kandla",
           "2022-01-11T19:58:00",
           2.1680555555555556
          ],
          [
           9860568,
           "Oceania Maru",
           "Discharge",
           "Kashima",
           "2022-01-10T23:56:15",
           3.002604166666667
          ],
          [
           9864112,
           "MP The Vinatieri",
           "Discharge",
           "Dalian",
           "2021-12-31T11:51:43",
           13.505752314814815
          ],
          [
           9882463,
           "HL Sapphire",
           "Discharge",
           "Taranto",
           "2022-01-14T10:46:05",
           null
          ],
          [
           9889291,
           "Azul Costa",
           "Discharge",
           "Chiba",
           "2022-01-10T03:57:09",
           3.8353125
          ],
          [
           9123180,
           "Bell",
           "Discharge",
           "Dhamra",
           "2022-01-07T03:45:44",
           6.8432407407407405
          ],
          [
           9165504,
           "Lady Cedros",
           "Load",
           "Morro Redondo",
           "2022-01-04T23:56:38",
           9.002337962962963
          ],
          [
           9171618,
           "Winning Joy",
           "Load",
           "Kamsar",
           "2022-01-12T03:45:31",
           1.8433912037037037
          ],
          [
           9406491,
           "Crassier",
           "Load",
           "Kamsar",
           "2022-01-09T23:59:48",
           4.0001388888888885
          ],
          [
           9683269,
           "KSL Sydney",
           "Load",
           "Kamsar",
           "2022-01-13T15:53:51",
           0.33760416666666665
          ],
          [
           9724867,
           "Jolanda",
           "Load",
           "Kamsar",
           "2022-01-10T19:56:59",
           3.168761574074074
          ],
          [
           9198240,
           "Sunny Boke",
           "Load",
           "Kamsar",
           "2022-01-14T22:51:38.796000",
           null
          ],
          [
           9860491,
           "Cape Olympia",
           "Load",
           "Kamsar",
           "2022-01-13T03:57:52",
           0.8348148148148148
          ],
          [
           9220237,
           "Samc Responsibility",
           "Discharge",
           "Qingdao",
           "2022-01-14T18:03:05.914000",
           null
          ],
          [
           9292565,
           "Star Tianjin",
           "Discharge",
           "Qingdao",
           "2022-01-12T02:13:32.764000",
           1.907259675925926
          ],
          [
           9691929,
           "Linda Oldendorff",
           "Discharge",
           "Qingdao",
           "2022-01-14T21:12:57.901000",
           null
          ],
          [
           9222742,
           "Formosabulk Clement",
           "Load",
           "Kozmino",
           "2022-01-12T11:32:07",
           1.5193634259259259
          ],
          [
           9224740,
           "Antwerp",
           "Discharge",
           "Fangcheng",
           "2022-01-12T03:24:14",
           1.8581712962962964
          ],
          [
           9304538,
           "SJ Asia",
           "Discharge",
           "Fangcheng",
           "2022-01-10T15:31:25",
           3.3531828703703703
          ],
          [
           9332951,
           "Maran Vision",
           "Discharge",
           "Fangcheng",
           "2022-01-11T03:43:08",
           2.845046296296297
          ],
          [
           9435076,
           "Mineral Gent",
           "Discharge",
           "Fangcheng",
           "2022-01-09T03:47:19",
           4.8421412037037035
          ],
          [
           9455686,
           "Monemvasia",
           "Discharge",
           "Fangcheng",
           "2022-01-13T19:56:08",
           0.16935185185185186
          ],
          [
           9492098,
           "Xin Bin Hai",
           "Discharge",
           "Fangcheng",
           "2022-01-09T15:44:27",
           4.344131944444444
          ],
          [
           9516507,
           "Zhong Xing Hai",
           "Discharge",
           "Fangcheng",
           "2022-01-07T15:52:18",
           6.338680555555555
          ],
          [
           9558218,
           "Urja",
           "Discharge",
           "Fangcheng",
           "2022-01-11T23:48:15",
           2.008159722222222
          ],
          [
           9558294,
           "Berge Nyangani",
           "Discharge",
           "Fangcheng",
           "2022-01-06T07:45:18",
           7.676875
          ],
          [
           9614921,
           "Fortune Violet",
           "Discharge",
           "Fangcheng",
           "2022-01-08T19:56:37",
           5.169016203703704
          ],
          [
           9704099,
           "Cape Success",
           "Discharge",
           "Fangcheng",
           "2022-01-07T07:43:43",
           6.677974537037037
          ],
          [
           9248459,
           "Cougar",
           "Load",
           "Sept-Iles",
           "2022-01-14T23:46:28.218000",
           null
          ],
          [
           9599810,
           "Berge Tsurugi",
           "Load",
           "Sept-Iles",
           "2022-01-13T15:55:44",
           0.3362962962962963
          ],
          [
           9250610,
           "Winning Brother",
           "Discharge",
           "Longkou",
           "2022-01-11T15:01:03",
           2.3742708333333336
          ],
          [
           9255000,
           "S Cape",
           "Load",
           "Takoradi",
           "2021-12-27T19:53:15",
           17.171354166666667
          ],
          [
           9258117,
           "Ocean Leo",
           "Discharge",
           "Mailiao",
           "2022-01-13T03:54:11",
           0.8373726851851852
          ],
          [
           9260641,
           "New Leonidas",
           "Discharge",
           "Mundra",
           "2022-01-13T07:51:49",
           0.672349537037037
          ],
          [
           9266944,
           "Gloriuship",
           "Discharge",
           "Qushan Island",
           "2022-01-14T22:25:10.826000",
           null
          ],
          [
           9266956,
           "Olympius",
           "Discharge",
           "Boryeong",
           "2022-01-13T10:40:30.136000",
           0.5552067592592593
          ],
          [
           9268473,
           "Aigaion",
           "Load",
           "Kwangyang",
           "2022-01-14T23:41:16.063000",
           null
          ],
          [
           9268485,
           "Cyclades",
           "Load",
           "Kwangyang",
           "2022-01-12T23:51:17",
           1.0060532407407408
          ],
          [
           9693563,
           "HL Passion",
           "Discharge",
           "Kwangyang",
           "2022-01-12T07:47:07",
           1.6756134259259259
          ],
          [
           9743289,
           "Comanche",
           "Load",
           "Kwangyang",
           "2022-01-14T20:29:33.862000",
           null
          ],
          [
           9278571,
           "Ocean Queen",
           "Discharge",
           "Ningbo",
           "2022-01-11T11:50:56",
           2.5062962962962962
          ],
          [
           9472282,
           "Rutland",
           "Discharge",
           "Ningbo",
           "2022-01-09T23:51:42",
           4.005763888888889
          ],
          [
           9518658,
           "Pacific Success",
           "Discharge",
           "Ningbo",
           "2022-01-08T03:51:06",
           5.83951388888889
          ],
          [
           9531868,
           "Cape Midori",
           "Discharge",
           "Ningbo",
           "2022-01-08T11:53:48",
           5.504305555555557
          ],
          [
           9604196,
           "Pacific North",
           "Discharge",
           "Ningbo",
           "2022-01-12T07:46:58",
           1.6757175925925927
          ],
          [
           9631321,
           "Cape Stars",
           "Discharge",
           "Ningbo",
           "2022-01-09T11:58:07",
           4.50130787037037
          ],
          [
           9632234,
           "Imperator Australis",
           "Discharge",
           "Ningbo",
           "2022-01-13T07:45:17",
           0.6768865740740742
          ],
          [
           9747869,
           "True Corsair",
           "Discharge",
           "Ningbo",
           "2022-01-13T03:45:11",
           0.8436226851851852
          ],
          [
           9802114,
           "CSK Zephyr",
           "Discharge",
           "Ningbo",
           "2022-01-11T12:11:13.148000",
           2.4922089351851855
          ],
          [
           9906013,
           "Trust Qingdao",
           "Discharge",
           "Ningbo",
           "2022-01-12T19:46:13",
           1.176238425925926
          ],
          [
           9920679,
           "Ace Eternity",
           "Discharge",
           "Ningbo",
           "2022-01-12T11:49:40",
           1.507175925925926
          ],
          [
           9281906,
           "Cape Acacia",
           "Discharge",
           "Pohang",
           "2022-01-13T15:58:11",
           0.3345949074074074
          ],
          [
           9454527,
           "HL Port Hedland",
           "Discharge",
           "Pohang",
           "2022-01-08T11:56:18",
           5.502569444444445
          ],
          [
           9723904,
           "SM Dragon",
           "Discharge",
           "Pohang",
           "2022-01-14T21:16:19.458000",
           null
          ],
          [
           9284271,
           "Bulk Ara",
           "Load",
           "Itaguai",
           "2022-01-04T03:56:58",
           9.835439814814816
          ],
          [
           9363027,
           "Tampa",
           "Load",
           "Itaguai",
           "2021-12-28T19:57:44",
           16.168240740740742
          ],
          [
           9428463,
           "Maran Argonaut",
           "Load",
           "Itaguai",
           "2022-01-03T07:58:55",
           10.66741898148148
          ],
          [
           9446441,
           "Patriotship",
           "Load",
           "Itaguai",
           "2022-01-08T19:57:57",
           5.168090277777778
          ],
          [
           9568017,
           "Camellia Dream",
           "Load",
           "Itaguai",
           "2022-01-05T15:57:29",
           8.335081018518519
          ],
          [
           9569798,
           "Solar Frontier",
           "Load",
           "Itaguai",
           "2021-12-19T19:55:36",
           25.169722222222223
          ],
          [
           9587245,
           "Negonego",
           "Load",
           "Itaguai",
           "2022-01-12T23:53:43",
           1.004363425925926
          ],
          [
           9703239,
           "Maran Venture",
           "Load",
           "Itaguai",
           "2022-01-08T19:42:34",
           5.1787731481481485
          ],
          [
           9884629,
           "Hl Diamond",
           "Load",
           "Itaguai",
           "2021-12-31T11:55:49",
           13.502905092592593
          ],
          [
           9910789,
           "Shandong Happiness",
           "Load",
           "Itaguai",
           "2021-12-25T15:47:48",
           19.341805555555556
          ],
          [
           9286798,
           "Maran Innovation",
           "Discharge",
           "Bayuquan",
           "2021-12-26T03:39:06",
           18.84784722222222
          ],
          [
           9321158,
           "Successor",
           "Discharge",
           "Bayuquan",
           "2021-12-20T15:45:35",
           24.343344907407406
          ],
          [
           9345764,
           "Maran Sailor",
           "Discharge",
           "Bayuquan",
           "2021-12-26T03:54:16",
           18.837314814814814
          ],
          [
           9440332,
           "Maran Virtue",
           "Discharge",
           "Bayuquan",
           "2022-01-07T23:55:47",
           6.002928240740742
          ],
          [
           9469637,
           "MSXT Trinity",
           "Discharge",
           "Bayuquan",
           "2021-12-17T07:47:43",
           27.675196759259258
          ],
          [
           9490882,
           "SM Newcastle",
           "Discharge",
           "Bayuquan",
           "2021-12-27T07:48:04",
           17.674953703703704
          ],
          [
           9520728,
           "Shagangfirst Star",
           "Discharge",
           "Bayuquan",
           "2021-12-10T03:59:54",
           34.83340277777778
          ],
          [
           9558220,
           "Cape Sampagita",
           "Discharge",
           "Bayuquan",
           "2021-12-27T19:34:14",
           17.184560185185184
          ],
          [
           9558713,
           "Mineral Cloudbreak",
           "Discharge",
           "Bayuquan",
           "2021-12-27T19:42:19",
           17.178946759259258
          ],
          [
           9591351,
           "RTM Drake",
           "Discharge",
           "Bayuquan",
           "2022-01-03T19:59:02",
           10.167337962962963
          ],
          [
           9675937,
           "Berge Tai Shan",
           "Discharge",
           "Bayuquan",
           "2021-12-27T19:43:43",
           17.177974537037038
          ],
          [
           9790878,
           "NSU Ultimate",
           "Discharge",
           "Bayuquan",
           "2021-12-18T23:57:31",
           26.00172453703704
          ],
          [
           9869514,
           "Ferae Australis",
           "Discharge",
           "Bayuquan",
           "2021-12-16T19:51:27",
           28.172604166666666
          ],
          [
           9870563,
           "NSU Ambitious",
           "Discharge",
           "Bayuquan",
           "2021-12-22T15:42:00",
           22.345833333333335
          ],
          [
           9880867,
           "Atlantic Lion",
           "Discharge",
           "Bayuquan",
           "2022-01-07T19:59:44",
           6.166851851851852
          ],
          [
           9882437,
           "Pan Epic",
           "Discharge",
           "Bayuquan",
           "2022-01-09T03:52:38",
           4.838449074074074
          ],
          [
           9290593,
           "Bulk China",
           "Discharge",
           "Eren",
           "2022-01-14T22:26:55.219000",
           null
          ],
          [
           9301067,
           "ASL Earth",
           "Load",
           "Pontianak",
           "2021-12-03T15:20:47",
           41.36056712962963
          ],
          [
           9347164,
           "Grand Century",
           "Load",
           "Pontianak",
           "2021-12-10T23:21:36",
           34.026666666666664
          ],
          [
           9307073,
           "Maple Power",
           "Discharge",
           "Rizhao - Donggang",
           "2022-01-12T11:55:55",
           1.5028356481481484
          ],
          [
           9435064,
           "Mineral Brugge",
           "Discharge",
           "Rizhao - Donggang",
           "2022-01-14T15:09:25.901000",
           null
          ],
          [
           9447160,
           "Cape Kallia",
           "Discharge",
           "Rizhao - Donggang",
           "2022-01-14T23:51:01.362000",
           null
          ],
          [
           9324112,
           "Green Galaxy",
           "Discharge",
           "Taean",
           "2022-01-08T07:44:15",
           5.677604166666668
          ],
          [
           9330290,
           "Xyg Fortune",
           "Load",
           "Lumut",
           "2022-01-08T23:58:17",
           5.001192129629629
          ],
          [
           9593464,
           "Baltic Lion",
           "Load",
           "Lumut",
           "2022-01-14T13:44:08.557000",
           null
          ],
          [
           9332523,
           "Maran Odyssey",
           "Load",
           "Port Hedland",
           "2022-01-13T19:57:20",
           0.1685185185185185
          ],
          [
           9468401,
           "Sun Orchid",
           "Load",
           "Port Hedland",
           "2022-01-13T07:56:45",
           0.6689236111111111
          ],
          [
           9469986,
           "Pacific Argosy",
           "Load",
           "Port Hedland",
           "2022-01-11T19:59:08",
           2.1672685185185183
          ],
          [
           9507532,
           "Great Sui",
           "Load",
           "Port Hedland",
           "2022-01-13T19:56:22",
           0.16918981481481485
          ],
          [
           9512939,
           "Mount Hedland",
           "Load",
           "Port Hedland",
           "2022-01-14T11:56:40",
           null
          ],
          [
           9603439,
           "Cape Azalea",
           "Load",
           "Port Hedland",
           "2022-01-12T23:56:09",
           1.0026736111111112
          ],
          [
           9612959,
           "Ever Ability",
           "Load",
           "Port Hedland",
           "2022-01-14T10:47:57",
           null
          ],
          [
           9648295,
           "Maran Elegance",
           "Load",
           "Port Hedland",
           "2022-01-13T19:40:22",
           0.18030092592592595
          ],
          [
           9673812,
           "China Steel Challenge",
           "Load",
           "Port Hedland",
           "2022-01-09T19:55:32",
           4.169768518518518
          ],
          [
           9683104,
           "Pacific Assurance",
           "Load",
           "Port Hedland",
           "2022-01-13T07:56:47",
           0.668900462962963
          ],
          [
           9691955,
           "Ludolf Oldendorff",
           "Load",
           "Port Hedland",
           "2022-01-07T23:56:38",
           6.002337962962963
          ],
          [
           9701334,
           "Golden Aso",
           "Load",
           "Port Hedland",
           "2022-01-12T19:58:54",
           1.1674305555555555
          ],
          [
           9713052,
           "Henriette Oldendorff",
           "Load",
           "Port Hedland",
           "2022-01-13T03:58:07",
           0.8346412037037036
          ],
          [
           9723899,
           "SM Lion",
           "Load",
           "Port Hedland",
           "2022-01-12T07:54:25",
           1.6705439814814815
          ],
          [
           9853888,
           "Cssc Cape Town",
           "Load",
           "Port Hedland",
           "2022-01-11T07:59:42",
           2.666875
          ],
          [
           9870355,
           "Hagen Oldendorff",
           "Load",
           "Port Hedland",
           "2022-01-13T19:57:38",
           0.16831018518518517
          ],
          [
           9919204,
           "Alpha Trophy",
           "Load",
           "Port Hedland",
           "2022-01-14T11:57:02",
           null
          ],
          [
           9337169,
           "Sikamia",
           "Load",
           "Gladstone",
           "2021-12-16T23:59:15",
           28.000520833333333
          ],
          [
           9385415,
           "Cape Progress",
           "Load",
           "Gladstone",
           "2022-01-05T23:55:47",
           8.00292824074074
          ],
          [
           9435648,
           "Golden Feng",
           "Load",
           "Gladstone",
           "2022-01-03T03:56:08",
           10.83601851851852
          ],
          [
           9449376,
           "Lavender",
           "Load",
           "Gladstone",
           "2022-01-05T11:55:41",
           8.502997685185186
          ],
          [
           9486726,
           "Star Ophelia",
           "Load",
           "Gladstone",
           "2022-01-12T11:57:35",
           1.501678240740741
          ],
          [
           9518921,
           "Cape Venture",
           "Load",
           "Gladstone",
           "2022-01-12T03:56:48",
           1.8355555555555556
          ],
          [
           9713454,
           "NSU Quest",
           "Load",
           "Gladstone",
           "2021-12-22T23:56:27",
           22.00246527777778
          ],
          [
           9346342,
           "Star Venture",
           "Discharge",
           "Dongjiangkou",
           "2022-01-06T20:38:21",
           7.1400347222222225
          ],
          [
           9638044,
           "Magdalena Oldendorff",
           "Discharge",
           "Dongjiangkou",
           "2022-01-12T07:49:49",
           1.673738425925926
          ],
          [
           9756248,
           "Star Laetitia",
           "Discharge",
           "Dongjiangkou",
           "2022-01-11T07:52:15",
           2.6720486111111112
          ],
          [
           9361251,
           "Genco Constantine",
           "Load",
           "Vanino",
           "2022-01-09T07:59:42",
           4.666875
          ],
          [
           9374052,
           "Samc MG",
           "Load",
           "Itaguai",
           "2022-01-05T07:57:20",
           8.66851851851852
          ],
          [
           9469924,
           "Transworld Navigator",
           "Load",
           "Itaguai",
           "2022-01-12T15:54:49",
           1.3369328703703705
          ],
          [
           9378319,
           "China Progress",
           "Load",
           "Dampier",
           "2022-01-13T03:56:35",
           0.8357060185185186
          ],
          [
           9451276,
           "Navios Melodia",
           "Load",
           "Dampier",
           "2022-01-09T03:58:01",
           4.834710648148148
          ],
          [
           9482940,
           "Aquasurfer",
           "Load",
           "Dampier",
           "2022-01-12T07:58:09",
           1.6679513888888888
          ],
          [
           9516519,
           "Yuan Wang Hai",
           "Load",
           "Dampier",
           "2022-01-13T19:57:44",
           0.16824074074074075
          ],
          [
           9568914,
           "Pacific Vista",
           "Load",
           "Dampier",
           "2022-01-13T15:56:03",
           0.3360763888888889
          ],
          [
           9641895,
           "Kinokawa Maru",
           "Load",
           "Dampier",
           "2022-01-11T11:55:56",
           2.502824074074074
          ],
          [
           9767510,
           "Cape Kestrel",
           "Load",
           "Dampier",
           "2022-01-12T19:57:37",
           1.1683217592592592
          ],
          [
           9849241,
           "China Steel Prd",
           "Load",
           "Dampier",
           "2022-01-05T23:52:16",
           8.00537037037037
          ],
          [
           9398163,
           "Cape Odyssey",
           "Discharge",
           "Samcheonpo",
           "2022-01-10T03:47:37",
           3.8419328703703703
          ],
          [
           9509499,
           "Pan Champion",
           "Discharge",
           "Samcheonpo",
           "2022-01-13T19:47:34",
           0.17530092592592594
          ],
          [
           9409144,
           "Cape Celtic",
           "Load",
           "Cartier",
           "2021-12-21T23:57:23",
           23.001817129629632
          ],
          [
           9468748,
           "Pan Joy",
           "Load",
           "Cartier",
           "2021-12-22T07:55:20",
           22.66990740740741
          ],
          [
           9410155,
           "Bao May",
           "Discharge",
           "Rizhao - Lanshan",
           "2022-01-14T20:58:29.871000",
           null
          ],
          [
           9410480,
           "Haralambos",
           "Load",
           "Port Walcott",
           "2022-01-14T03:54:47",
           null
          ],
          [
           9426427,
           "Aquafortune",
           "Load",
           "Port Walcott",
           "2022-01-12T07:56:11",
           1.6693171296296296
          ],
          [
           9532082,
           "Frontier Kotobuki",
           "Load",
           "Port Walcott",
           "2022-01-12T19:58:59",
           1.167372685185185
          ],
          [
           9587350,
           "Rosebank",
           "Load",
           "Port Walcott",
           "2022-01-14T07:54:12",
           null
          ],
          [
           9696096,
           "Ioannis",
           "Load",
           "Port Walcott",
           "2022-01-07T15:52:03",
           6.338854166666667
          ],
          [
           9729219,
           "Cape Owl",
           "Load",
           "Port Walcott",
           "2022-01-13T03:46:36",
           0.8426388888888889
          ],
          [
           9747883,
           "True Captain",
           "Load",
           "Port Walcott",
           "2022-01-10T23:54:09",
           3.0040625000000003
          ],
          [
           9915583,
           "Kauri",
           "Load",
           "Port Walcott",
           "2022-01-07T19:55:00",
           6.170138888888889
          ],
          [
           9420564,
           "Hebei No.1",
           "Load",
           "Jiangyin",
           "2021-12-31T15:55:20",
           13.336574074074074
          ],
          [
           9422081,
           "Genco Maximus",
           "Load",
           "Jiangyin",
           "2022-01-10T07:50:36",
           3.6731944444444444
          ],
          [
           9547910,
           "Yue Shan",
           "Discharge",
           "Jiangyin",
           "2022-01-12T17:58:21.464000",
           1.251140462962963
          ],
          [
           9698989,
           "Ormond",
           "Load",
           "Jiangyin",
           "2022-01-13T07:53:49",
           0.6709606481481482
          ],
          [
           9718222,
           "Genco Liberty",
           "Load",
           "Jiangyin",
           "2022-01-11T19:51:46",
           2.172384259259259
          ],
          [
           9434412,
           "Maran Harmony",
           "Load",
           "Norfolk",
           "2021-11-13T11:57:02",
           61.50206018518519
          ],
          [
           9434448,
           "Mineral Destelbergen",
           "Discharge",
           "Mailiao",
           "2022-01-14T03:53:00",
           null
          ],
          [
           9435052,
           "Mineral Temse",
           "Discharge",
           "Kandla",
           "2022-01-12T19:42:48",
           1.178611111111111
          ],
          [
           9701346,
           "Golden Finsbury",
           "Discharge",
           "Kandla",
           "2022-01-13T19:58:02",
           0.1680324074074074
          ],
          [
           9438470,
           "Hebei Legend",
           "Discharge",
           "Zhanjiang",
           "2022-01-13T07:58:20",
           0.6678240740740741
          ],
          [
           9439591,
           "Hebei Challenger",
           "Discharge",
           "Zhanjiang",
           "2022-01-14T03:54:38",
           null
          ],
          [
           9439034,
           "HL Imabari",
           "Load",
           "Port Hedland",
           "2022-01-13T23:59:42",
           0.00020833333333333335
          ],
          [
           9493755,
           "Mount Apo",
           "Load",
           "Port Hedland",
           "2022-01-14T14:22:21.768000",
           null
          ],
          [
           9750830,
           "True Courage",
           "Load",
           "Port Hedland",
           "2022-01-12T07:57:03",
           1.6687152777777778
          ],
          [
           9759965,
           "Pacific Grace",
           "Load",
           "Port Hedland",
           "2022-01-14T14:26:10.262000",
           null
          ],
          [
           9844576,
           "CL Yellow River",
           "Load",
           "Port Hedland",
           "2022-01-14T21:08:07.545000",
           null
          ],
          [
           9847061,
           "Sheng May",
           "Load",
           "Port Hedland",
           "2022-01-14T03:57:56",
           null
          ],
          [
           9860972,
           "MP The Bruschi",
           "Load",
           "Port Hedland",
           "2022-01-13T19:52:33",
           0.1718402777777778
          ],
          [
           9443592,
           "Belgravia",
           "Discharge",
           "Hosan",
           "2022-01-10T11:55:57",
           3.5028125
          ],
          [
           9443619,
           "Golden Zhejiang",
           "Discharge",
           "Youngheung",
           "2022-01-14T10:58:37.088000",
           null
          ],
          [
           9484792,
           "Scarlett",
           "Discharge",
           "Youngheung",
           "2022-01-11T09:59:05.918000",
           2.583959282407408
          ],
          [
           9446099,
           "PSU Cmp",
           "Load",
           "Caldera (Chile)",
           "2022-01-13T15:57:26",
           0.33511574074074074
          ],
          [
           9446465,
           "Aqua Bonanza",
           "Load",
           "Porto do Acu",
           "2022-01-07T15:55:08",
           6.336712962962963
          ],
          [
           9460655,
           "Cape Proteus",
           "Load",
           "Porto do Acu",
           "2022-01-13T19:57:50",
           0.1681712962962963
          ],
          [
           9446568,
           "Frontier Mirage",
           "Discharge",
           "Kisarazu",
           "2022-01-12T11:55:30",
           1.5031250000000003
          ],
          [
           9590890,
           "Frontier Garland",
           "Discharge",
           "Kisarazu",
           "2022-01-10T07:57:15",
           3.668576388888889
          ],
          [
           9446594,
           "Cape Jacaranda",
           "Discharge",
           "Higashi-harima",
           "2022-01-14T07:54:06",
           null
          ],
          [
           9446908,
           "Cape Sandra",
           "Discharge",
           "Busan",
           "2022-01-12T07:53:25",
           1.6712384259259259
          ],
          [
           9448554,
           "Golden Zhoushan",
           "Load",
           "North Pulau Laut",
           "2022-01-11T15:51:55",
           2.3389467592592594
          ],
          [
           9702546,
           "Leviathan",
           "Load",
           "North Pulau Laut",
           "2021-12-30T11:54:00",
           14.504166666666666
          ],
          [
           9453743,
           "Aquaenna",
           "Load",
           "Nouadhibou",
           "2022-01-02T11:53:51",
           11.504270833333335
          ],
          [
           9479216,
           "Freedom",
           "Load",
           "Nouadhibou",
           "2022-01-02T23:59:38",
           11.00025462962963
          ],
          [
           9490600,
           "Great Perseus",
           "Load",
           "Nouadhibou",
           "2021-12-25T03:57:20",
           19.835185185185185
          ],
          [
           9454333,
           "F.sun",
           "Load",
           "Newcastle",
           "2022-01-08T19:59:50",
           5.166782407407408
          ],
          [
           9456692,
           "Navios Ray",
           "Load",
           "San Nicolas (Peru)",
           "2021-12-31T03:55:31",
           13.836446759259259
          ],
          [
           9538749,
           "Cape Aster",
           "Load",
           "San Nicolas (Peru)",
           "2022-01-08T15:51:54",
           5.338958333333333
          ],
          [
           9552408,
           "Coronet",
           "Load",
           "San Nicolas (Peru)",
           "2022-01-08T19:33:25",
           5.185127314814815
          ],
          [
           9603362,
           "Cape Eternity",
           "Load",
           "San Nicolas (Peru)",
           "2022-01-14T07:52:03",
           null
          ],
          [
           9623570,
           "William Oldendorff",
           "Load",
           "San Nicolas (Peru)",
           "2022-01-10T07:49:00",
           3.6743055555555557
          ],
          [
           9743291,
           "Chow",
           "Load",
           "San Nicolas (Peru)",
           "2022-01-09T23:58:11",
           4.001261574074074
          ],
          [
           9461300,
           "Sunny Star",
           "Discharge",
           "Yantai",
           "2022-01-13T11:49:58",
           0.5069675925925926
          ],
          [
           9469546,
           "Aquamarine",
           "Load",
           "Yantai",
           "2022-01-11T23:44:20",
           2.01087962962963
          ],
          [
           9462811,
           "Alpha Dignity",
           "Discharge",
           "Dalian",
           "2022-01-10T15:58:06",
           3.334652777777778
          ],
          [
           9488853,
           "Sealink",
           "Discharge",
           "Dalian",
           "2022-01-11T11:49:40",
           2.507175925925926
          ],
          [
           9463322,
           "Cape Dream",
           "Discharge",
           "Tianjin",
           "2022-01-10T03:51:12",
           3.8394444444444447
          ],
          [
           9603910,
           "MSXT Capella",
           "Discharge",
           "Tianjin",
           "2022-01-12T15:49:29",
           1.340636574074074
          ],
          [
           9612064,
           "Samjohn Dream",
           "Discharge",
           "Tianjin",
           "2022-01-06T03:42:51",
           7.845243055555556
          ],
          [
           9678800,
           "Mathilde Oldendorff",
           "Discharge",
           "Tianjin",
           "2022-01-10T19:56:19",
           3.169224537037037
          ],
          [
           9715488,
           "Herun Zhejiang",
           "Discharge",
           "Tianjin",
           "2022-01-13T15:55:54",
           0.33618055555555554
          ],
          [
           9718387,
           "Hans Oldendorff",
           "Discharge",
           "Tianjin",
           "2022-01-14T07:56:13",
           null
          ],
          [
           9465215,
           "United Adventure",
           "Load",
           "Point Lisas",
           "2022-01-08T15:57:15",
           5.335243055555556
          ],
          [
           9469015,
           "Bulk Spain",
           "Load",
           "Hay Point",
           "2021-12-28T11:51:26",
           16.505949074074074
          ],
          [
           9560390,
           "Cape Condor",
           "Load",
           "Hay Point",
           "2021-12-13T07:57:11",
           31.668622685185184
          ],
          [
           9563689,
           "Cape Iris",
           "Load",
           "Hay Point",
           "2022-01-13T15:56:24",
           0.3358333333333333
          ],
          [
           9589401,
           "Cape Legacy",
           "Load",
           "Hay Point",
           "2022-01-14T03:53:00",
           null
          ],
          [
           9683257,
           "KSL Sapporo",
           "Load",
           "Hay Point",
           "2021-12-17T15:55:42",
           27.336319444444445
          ],
          [
           9827372,
           "Santa Isabel",
           "Load",
           "Hay Point",
           "2022-01-04T23:57:44",
           9.001574074074075
          ],
          [
           9469857,
           "Kanaris",
           "Load",
           "Nacala",
           "2022-01-06T07:51:51",
           7.672326388888889
          ],
          [
           9482251,
           "Frontier Neige",
           "Load",
           "Nacala",
           "2022-01-12T07:55:53",
           1.669525462962963
          ],
          [
           9473353,
           "Kiran Turkiye",
           "Load",
           "Whyalla",
           "2021-12-31T07:55:19",
           13.669918981481482
          ],
          [
           9479888,
           "Alpha Grace",
           "Load",
           "Ponta Da Madeira",
           "2022-01-12T19:57:40",
           1.168287037037037
          ],
          [
           9479905,
           "Cape Violet",
           "Discharge",
           "Mormugao",
           "2022-01-04T03:56:42",
           9.835625
          ],
          [
           9480526,
           "Andama",
           "Discharge",
           "Kemen",
           "2022-01-14T20:41:31.479000",
           null
          ],
          [
           9481245,
           "Navios Aurora II",
           "Load",
           "Puerto Bolivar",
           "2022-01-14T13:29:13.494000",
           null
          ],
          [
           9482524,
           "Cape Victory",
           "Discharge",
           "Caofeidian",
           "2022-01-13T11:58:41",
           0.5009143518518518
          ],
          [
           9718375,
           "Hermine Oldendorff",
           "Discharge",
           "Caofeidian",
           "2022-01-12T11:47:22",
           1.5087731481481483
          ],
          [
           9869526,
           "Fidum Australis",
           "Discharge",
           "Caofeidian",
           "2022-01-13T15:46:04",
           0.3430092592592593
          ],
          [
           9490595,
           "Global Enterprise",
           "Discharge",
           "Pyeongtaek",
           "2022-01-12T03:54:13",
           1.837349537037037
          ],
          [
           9492359,
           "Casta Diva",
           "Discharge",
           "Lushun New Pt",
           "2022-01-10T23:52:40",
           3.005092592592593
          ],
          [
           9495416,
           "K. Confidence",
           "Load",
           "Narvik",
           "2022-01-14T10:47:29",
           null
          ],
          [
           9498327,
           "Heng Long",
           "Discharge",
           "Dandong",
           "2021-12-21T23:34:31",
           23.017696759259263
          ],
          [
           9513816,
           "Shirara",
           "Discharge",
           "Dandong",
           "2022-01-01T11:57:36",
           12.501666666666667
          ],
          [
           9507544,
           "Star Bueno",
           "Discharge",
           "Misurata",
           "2022-01-13T19:57:32",
           0.16837962962962963
          ],
          [
           9510515,
           "Pan Acacia",
           "Discharge",
           "Lianyungang",
           "2022-01-05T11:46:31",
           8.509363425925926
          ],
          [
           9526667,
           "Great Qin",
           "Discharge",
           "Lianyungang",
           "2022-01-12T11:53:26",
           1.5045601851851853
          ],
          [
           9617519,
           "Thalassini Astrid",
           "Discharge",
           "Lianyungang",
           "2022-01-08T03:53:36",
           5.837777777777778
          ],
          [
           9639529,
           "Marini",
           "Discharge",
           "Lianyungang",
           "2022-01-10T15:49:03",
           3.3409375
          ],
          [
           9783318,
           "Fomento Three",
           "Discharge",
           "Lianyungang",
           "2022-01-08T07:51:25",
           5.672627314814815
          ],
          [
           9514224,
           "Flagship",
           "Discharge",
           "Fukuyama",
           "2022-01-12T03:45:29",
           1.8434143518518518
          ],
          [
           9801213,
           "CSK United",
           "Discharge",
           "Fukuyama",
           "2022-01-14T03:57:58",
           null
          ],
          [
           9519767,
           "Mineral New York",
           "Discharge",
           "Jaigarh",
           "2022-01-14T23:28:42.802000",
           null
          ],
          [
           9524035,
           "Tsukuba Maru",
           "Discharge",
           "Nagoya",
           "2022-01-12T07:56:16",
           1.6692592592592592
          ],
          [
           9531844,
           "Global Commander",
           "Discharge",
           "Tobata",
           "2022-01-05T07:55:09",
           8.670034722222223
          ],
          [
           9750816,
           "New Future",
           "Discharge",
           "Tobata",
           "2022-01-11T20:57:58.389000",
           2.1264075347222224
          ],
          [
           9537848,
           "Aquatonka",
           "Load",
           "Tubarao",
           "2022-01-13T19:59:35",
           0.16695601851851852
          ],
          [
           9596325,
           "Wisdom Of The Sea 1",
           "Discharge",
           "Tubarao",
           "2021-12-31T15:58:38",
           13.334282407407407
          ],
          [
           9735165,
           "Maharaj",
           "Load",
           "Tubarao",
           "2022-01-07T11:57:06",
           6.5020138888888885
          ],
          [
           9545168,
           "Cape Miron",
           "Load",
           "Vancouver (CA)",
           "2022-01-06T07:57:57",
           7.668090277777778
          ],
          [
           9724635,
           "Conquistador",
           "Load",
           "Vancouver (CA)",
           "2021-12-28T19:55:59",
           16.169456018518517
          ],
          [
           9847243,
           "Nightsky",
           "Load",
           "Vancouver (CA)",
           "2022-01-14T07:57:50",
           null
          ],
          [
           9552434,
           "Kashima Maru",
           "Discharge",
           "Muroran",
           "2022-01-09T22:05:10",
           4.079745370370371
          ],
          [
           9566966,
           "Bulk Integrity",
           "Load",
           "Dampier",
           "2022-01-14T22:32:15.401000",
           null
          ],
          [
           9573115,
           "Beks Leo",
           "Load",
           "Whyalla",
           "2022-01-06T15:56:54",
           7.335486111111111
          ],
          [
           9576337,
           "Berge Dhaulagiri",
           "Discharge",
           "Mokpo",
           "2022-01-11T02:14:05.024000",
           2.9068862962962965
          ],
          [
           9584607,
           "Amorito",
           "Discharge",
           "Jingtang",
           "2022-01-14T14:38:13.479000",
           null
          ],
          [
           9588495,
           "Philadelphia",
           "Discharge",
           "Luhuashan",
           "2022-01-13T19:57:41",
           0.16827546296296297
          ],
          [
           9597185,
           "Edward N",
           "Discharge",
           "Huanghua",
           "2022-01-14T21:05:20.962000",
           null
          ],
          [
           9612961,
           "Ever Beauty",
           "Discharge",
           "Dagang",
           "2022-01-11T03:54:44",
           2.836990740740741
          ],
          [
           9614880,
           "Navios Obeliks",
           "Discharge",
           "Praia Mole",
           "2022-01-14T17:23:16.776000",
           null
          ],
          [
           9633226,
           "Cape Armeria",
           "Discharge",
           "Khalifa Port",
           "2021-12-28T15:58:50",
           16.33414351851852
          ],
          [
           9638056,
           "May Oldendorff",
           "Load",
           "Tanjung Bara",
           "2022-01-08T09:41:43",
           5.596030092592593
          ],
          [
           9673848,
           "China Steel Sustainability",
           "Discharge",
           "Taichung",
           "2022-01-10T15:59:32",
           3.3336574074074075
          ],
          [
           9675951,
           "Santa Barbara",
           "Load",
           "Cartier",
           "2022-01-06T11:57:30",
           7.501736111111111
          ],
          [
           9682954,
           "Berge Kosciuszko",
           "Discharge",
           "Isdemir",
           "2022-01-07T11:59:38",
           6.500254629629629
          ],
          [
           9702584,
           "Gortynia",
           "Discharge",
           "Vung Ang",
           "2022-01-14T10:35:53.409000",
           null
          ],
          [
           9702687,
           "Maran Hero",
           "Discharge",
           "Mizushima",
           "2022-01-12T07:57:44",
           1.6682407407407407
          ],
          [
           9705134,
           "Courageous",
           "Load",
           "Paradip",
           "2022-01-13T23:58:09",
           0.0012847222222222223
          ],
          [
           9721683,
           "Oregon",
           "Discharge",
           "Bayuquan",
           "2022-01-14T14:43:35.336000",
           null
          ],
          [
           9874715,
           "Cs Wu Han",
           "Discharge",
           "Bayuquan",
           "2022-01-03T00:30:48",
           10.978611111111112
          ],
          [
           9723526,
           "Golden Surabaya",
           "Discharge",
           "Uncertain",
           "2022-01-04T07:55:41",
           9.669664351851852
          ],
          [
           9729166,
           "Maran Unity",
           "Discharge",
           "Chiba",
           "2022-01-14T07:57:57",
           null
          ],
          [
           9731432,
           "Star Virgo",
           "Load",
           "Guaiba",
           "2021-12-30T19:55:35",
           14.169733796296295
          ],
          [
           9737838,
           "Fortune",
           "Discharge",
           "Algeciras",
           "2022-01-13T11:58:11",
           0.5012615740740741
          ],
          [
           9738856,
           "NSU Responsibility",
           "Discharge",
           "Hirohata",
           "2022-01-14T12:31:29.041000",
           null
          ],
          [
           9743150,
           "Golden Nimbus",
           "Discharge",
           "Zhangjiagang",
           "2022-01-13T03:52:07",
           0.8388078703703704
          ],
          [
           9750921,
           "Berge Grossglockner",
           "Discharge",
           "Icdas",
           "2022-01-07T23:53:20",
           6.004629629629631
          ],
          [
           9767508,
           "Jubilant Dream",
           "Load",
           "Uncertain",
           "2021-12-12T02:51:20",
           32.881018518518516
          ],
          [
           9770581,
           "Shinzan Maru",
           "Load",
           "Port Walcott",
           "2021-12-26T19:55:18",
           18.169930555555556
          ],
          [
           9832987,
           "China Steel Harmony",
           "Load",
           "Port Walcott",
           "2022-01-14T20:45:55.471000",
           null
          ],
          [
           9851804,
           "Golden Comfort",
           "Load",
           "Port Walcott",
           "2022-01-14T15:38:33.850000",
           null
          ],
          [
           9774379,
           "NSU Sirius",
           "Discharge",
           "Kashima",
           "2022-01-14T22:27:58.845000",
           null
          ],
          [
           9782297,
           "NSU Trust",
           "Discharge",
           "Kashima",
           "2022-01-14T17:53:50.894000",
           null
          ],
          [
           9816555,
           "CSK Enterprise",
           "Discharge",
           "Oita",
           "2022-01-14T03:57:09",
           null
          ],
          [
           9837315,
           "Xin May",
           "Discharge",
           "Gangavaram",
           "2022-01-14T13:12:01.396000",
           null
          ],
          [
           9839868,
           "Maran Splendour",
           "Discharge",
           "Chiba",
           "2022-01-14T18:36:34.358000",
           null
          ],
          [
           9847085,
           "Long May",
           "Load",
           "Itaqui",
           "2022-01-08T11:56:15",
           5.502604166666667
          ],
          [
           9851816,
           "Golden Courage",
           "Load",
           "Freetown",
           "2022-01-06T03:50:47",
           7.839733796296296
          ],
          [
           9853905,
           "CSSC Rotterdam",
           "Discharge",
           "Salaya",
           "2022-01-14T03:55:47",
           null
          ],
          [
           9856490,
           "Golden Competence",
           "Load",
           "Narvik",
           "2022-01-10T23:59:44",
           3.0001851851851855
          ],
          [
           9862827,
           "An May",
           "Discharge",
           "Majishan",
           "2022-01-14T18:31:01.577000",
           null
          ],
          [
           9863106,
           "Zella Oldendorff",
           "Discharge",
           "Taicang",
           "2022-01-14T02:05:29.743000",
           null
          ],
          [
           9874909,
           "New Promise",
           "Load",
           "Ponta Do Ubu",
           "2022-01-13T15:52:49",
           0.3383217592592593
          ],
          [
           9883821,
           "Azul Harmony",
           "Load",
           "Abbot Point",
           "2022-01-14T21:13:01.194000",
           null
          ],
          [
           9902689,
           "Hui Xiu Hai",
           "Discharge",
           "Dalian",
           "2022-01-11T03:57:52",
           2.8348148148148153
          ]
         ],
         "hovertemplate": "IMO: %{customdata[0]} <br>Vessel Name: %{customdata[1]} <br>Purpose: %{customdata[2]} <br>Port: %{customdata[3]} <br>Arrival Date: %{customdata[4]} <br>Days at port: %{customdata[5]:.1f}",
         "lat": [
          11.0724,
          11.072,
          36.3894,
          37.2422,
          37.2423,
          22.7546,
          22.7515,
          37.7173,
          37.7208,
          37.7243,
          37.832,
          37.9407,
          -2.4832,
          -2.4576,
          35.5886,
          35.5861,
          35.5863,
          21.1644,
          21.1645,
          -2.5607,
          -2.5637,
          -28.8139,
          -28.8166,
          37.0665,
          37.0679,
          25.9806,
          31.9687,
          31.9571,
          32.0282,
          32.0282,
          31.9687,
          31.9902,
          23.7926,
          23.7882,
          29.9367,
          37.6452,
          37.6477,
          35.4027,
          21.6072,
          21.5508,
          21.5508,
          21.5507,
          21.5574,
          21.3524,
          -28.792,
          -28.792,
          -28.792,
          -28.9246,
          -28.9845,
          -28.9629,
          -28.9917,
          -28.9528,
          -21.2484,
          -20.3286,
          -20.3305,
          -20.3303,
          -20.3279,
          12.2569,
          26.3838,
          26.3935,
          34.9041,
          34.9048,
          34.896,
          34.9032,
          38.9666,
          -20.3271,
          -20.3296,
          34.7118,
          38.9142,
          38.9945,
          39.0051,
          38.9144,
          38.9152,
          -20.3197,
          -20.321,
          -20.327,
          -21.8083,
          -21.8085,
          -33.0286,
          -33.0293,
          36.0287,
          36.0287,
          36.0285,
          35.8266,
          35.8037,
          35.8104,
          35.7788,
          35.7123,
          51.937,
          51.9656,
          51.967,
          4.1578,
          39.2407,
          39.239,
          39.2427,
          39.2118,
          35.3557,
          35.3558,
          35.3557,
          35.3555,
          33.2721,
          33.269,
          36.9163,
          39.2218,
          40.4072,
          9.7031,
          9.8109,
          29.7303,
          29.7303,
          -20.649,
          24.4483,
          24.229,
          29.8933,
          30.026,
          -3.9883,
          40.2918,
          40.2918,
          36.9976,
          36.9956,
          31.1392,
          35.1138,
          35.0889,
          35.0861,
          35.0888,
          35.1736,
          35.2445,
          35.2995,
          35.2582,
          35.2699,
          35.1541,
          35.2842,
          35.2652,
          34.9061,
          -19.8583,
          -19.7238,
          30.8064,
          50.1889,
          38.3663,
          38.3679,
          38.3472,
          38.3663,
          38.368,
          15.4138,
          -20.3098,
          -20.3238,
          -20.3129,
          -20.3238,
          17.9485,
          17.9292,
          49.0106,
          49.0152,
          48.7212,
          48.7323,
          48.4034,
          45.565,
          52.4688,
          52.4715,
          52.4509,
          41.5285,
          32.1941,
          24.2272,
          22.5402,
          22.5387,
          26.1902,
          26.7608,
          26.7657,
          31.6822,
          29.6557,
          17.3061,
          17.3042,
          17.2964,
          -5.9967,
          -15.2517,
          -3.7794,
          51.5736,
          -11.7541,
          38.9518,
          38.9511,
          35.3671,
          35.3659,
          30.6691,
          30.4102,
          30.4273,
          21.0735,
          34.7488,
          34.7499,
          34.7498,
          34.9015,
          34.9061,
          34.9316,
          50.0321,
          40.4229,
          33.923,
          34.4496,
          -20.637,
          -20.6378,
          31.8299,
          -22.9373,
          8.5787,
          -23.0132,
          -23.0125,
          -23.0166,
          -20.5786,
          -34.4589,
          -20.5851,
          -20.5844,
          18.0527,
          31.4761,
          31.2128,
          31.2289,
          31.3019,
          31.2657,
          31.1963,
          31.5434,
          31.2244,
          31.303,
          51.4459,
          43.5664,
          34.4863,
          34.4918,
          42.344,
          31.9275,
          31.9305,
          30.43,
          68.9825,
          -21.2666,
          50.1682,
          50.1911,
          50.2011,
          50.1836,
          22.8879,
          35.9232,
          38.9515,
          40.4754,
          35.5825,
          20.8197,
          28.0653,
          10.4082,
          10.3755,
          10.3573,
          10.3401,
          10.6412,
          10.6412,
          36.0409,
          36.0409,
          36.0409,
          42.7516,
          21.6072,
          21.6072,
          21.6072,
          21.6072,
          21.6072,
          21.6072,
          21.6072,
          21.6072,
          21.6072,
          21.6072,
          21.6072,
          50.196,
          50.196,
          37.6567,
          4.9449,
          23.7914,
          22.7097,
          30.4854,
          36.3998,
          34.8932,
          34.8932,
          34.8932,
          34.8932,
          29.9282,
          29.9282,
          29.9282,
          29.9282,
          29.9282,
          29.9282,
          29.9282,
          29.9282,
          29.9282,
          29.9282,
          29.9282,
          36.0167,
          36.0167,
          36.0167,
          -22.9679,
          -23.1372,
          -23.1688,
          -23.2248,
          -23.1955,
          -23.2203,
          -23.2374,
          -23.2162,
          -23.2334,
          -23.1953,
          40.0749,
          40.1697,
          40.0209,
          39.9839,
          39.9814,
          40.1387,
          40.0302,
          40.1394,
          40.0721,
          39.9724,
          40.0072,
          40.1459,
          40.056,
          40.144,
          40.0498,
          40.1419,
          41.5256,
          -0.7088,
          -0.7363,
          35.372,
          35.372,
          35.372,
          36.9167,
          4.258,
          4.258,
          -20.0712,
          -20.1235,
          -20.1053,
          -20.072,
          -20.0843,
          -19.9,
          -20.0989,
          -19.8727,
          -20.0792,
          -20.0877,
          -20.0711,
          -20.1244,
          -20.102,
          -20.119,
          -19.8504,
          -19.8874,
          -20.0691,
          -23.7984,
          -23.8354,
          -23.8194,
          -23.8334,
          -23.831,
          -23.7616,
          -23.8013,
          35.5714,
          35.5714,
          35.5714,
          49.0892,
          -22.9357,
          -22.9357,
          -20.3855,
          -20.3568,
          -20.3811,
          -20.3608,
          -20.3653,
          -20.3575,
          -20.3586,
          -20.3839,
          34.1352,
          33.9947,
          50.0159,
          50.0044,
          35.0961,
          -20.5418,
          -20.5351,
          -20.5403,
          -20.5462,
          -20.542,
          -20.5028,
          -20.5469,
          -20.5544,
          31.9621,
          31.9621,
          31.9621,
          31.9621,
          31.9621,
          37.2402,
          23.7871,
          22.7443,
          22.7233,
          20.9507,
          20.9722,
          -20.3173,
          -20.3173,
          -20.3173,
          -20.3173,
          -20.3173,
          -20.3173,
          -20.3173,
          37.1818,
          37.2455,
          37.2455,
          -27.0425,
          -21.7751,
          -21.7584,
          35.4304,
          35.4405,
          34.659,
          35.0979,
          -3.2006,
          -3.2397,
          20.7334,
          20.7226,
          20.7455,
          -32.9056,
          -15.219,
          -15.23,
          -15.22,
          -15.2376,
          -15.2289,
          -15.215,
          37.6414,
          37.6414,
          38.8823,
          38.883,
          38.8112,
          38.7682,
          38.8247,
          38.7996,
          38.8143,
          38.8271,
          10.3579,
          -21.1932,
          -21.1803,
          -21.2635,
          -21.1864,
          -21.1795,
          -21.2654,
          -14.3801,
          -14.3764,
          -33.3776,
          -2.5667,
          15.4065,
          26.3825,
          12.2534,
          38.9006,
          38.856,
          38.8672,
          37.0685,
          39.2083,
          68.4716,
          39.8176,
          39.8176,
          32.3656,
          34.753,
          34.753,
          34.753,
          34.753,
          34.753,
          34.4521,
          34.4521,
          17.3049,
          34.8663,
          33.9167,
          33.9167,
          -20.3858,
          -20.3222,
          -20.3671,
          48.3472,
          49.1948,
          49.307,
          42.3582,
          -20.4502,
          -33.0333,
          34.7745,
          39.1995,
          30.8167,
          38.3252,
          32.1887,
          -20.2923,
          24.8186,
          0.5526,
          24.2375,
          50.0315,
          36.7167,
          18.0507,
          34.5694,
          20.2076,
          40.2722,
          40.2722,
          32.8665,
          35.5316,
          -23.0121,
          36.14,
          34.7574,
          31.9797,
          40.45,
          10.2405,
          -20.6167,
          -20.6167,
          -20.6167,
          35.9301,
          35.9301,
          33.2691,
          17.6223,
          35.5072,
          -2.4007,
          8.4824,
          22.3186,
          68.4167,
          30.6737,
          31.6822,
          -20.8058,
          -19.8765,
          38.9343
         ],
         "lon": [
          -74.2302,
          -74.2308,
          126.4784,
          126.428,
          126.4279,
          69.5689,
          69.5674,
          121.1134,
          121.1224,
          121.1224,
          121.6645,
          121.4557,
          109.941,
          109.9286,
          119.7892,
          119.7911,
          119.7912,
          110.4077,
          110.4078,
          -44.3797,
          -44.3796,
          32.051,
          32.0493,
          126.5064,
          126.5027,
          56.046,
          120.3997,
          120.3299,
          120.5862,
          120.5863,
          120.3998,
          120.634,
          120.1811,
          120.1787,
          121.8838,
          120.2868,
          120.2844,
          139.6685,
          108.3267,
          108.3519,
          108.3519,
          108.3519,
          108.3536,
          108.3755,
          32.043,
          32.0452,
          32.0488,
          32.1109,
          32.1263,
          32.1687,
          32.1527,
          32.1545,
          149.3046,
          118.5795,
          118.5694,
          118.5823,
          118.5713,
          -71.96,
          119.7644,
          119.78,
          127.7494,
          127.7453,
          127.7618,
          127.7548,
          117.7933,
          118.5674,
          118.5654,
          134.8393,
          118.5003,
          118.4553,
          118.4551,
          118.4958,
          118.4914,
          118.5781,
          118.5807,
          118.5865,
          -40.982,
          -40.9827,
          17.9851,
          17.9859,
          120.2341,
          120.2342,
          120.2343,
          120.2699,
          120.8986,
          120.968,
          120.9376,
          120.9933,
          4.0555,
          4.1131,
          4.1079,
          100.6047,
          119.08,
          119.0765,
          119.0836,
          119.0265,
          119.5455,
          119.5455,
          119.5456,
          119.5447,
          131.6314,
          131.6265,
          126.2429,
          -76.5764,
          27.0447,
          -14.2185,
          -14.1809,
          122.2073,
          122.2073,
          116.6739,
          118.0018,
          118.3344,
          122.0768,
          121.9903,
          115.6973,
          122.0808,
          122.081,
          126.709,
          126.713,
          29.8093,
          119.421,
          119.3733,
          119.3765,
          119.3734,
          120.1042,
          119.8319,
          119.8535,
          119.8083,
          119.8313,
          120.0871,
          119.8158,
          119.8505,
          128.1077,
          148.0883,
          148.0734,
          122.6255,
          -66.3709,
          117.9061,
          117.9096,
          117.8653,
          117.9061,
          117.9096,
          73.7978,
          118.5703,
          118.5698,
          118.5692,
          118.5696,
          -102.1566,
          -102.1854,
          -123.1678,
          -123.1552,
          -123.5436,
          -123.5596,
          -123.4481,
          13.7415,
          4.5788,
          4.5867,
          3.7313,
          31.9053,
          119.641,
          120.4857,
          120.345,
          120.3442,
          50.6876,
          51.4432,
          51.4329,
          121.1859,
          32.3529,
          73.2095,
          73.2039,
          73.0928,
          105.9633,
          -75.2422,
          114.4742,
          -3.8014,
          141.8547,
          117.8497,
          117.8538,
          139.8651,
          139.8692,
          122.4212,
          122.7662,
          122.7719,
          110.4929,
          119.421,
          119.4124,
          119.4089,
          120.0923,
          120.0057,
          120.0134,
          -66.7886,
          27.3321,
          130.8589,
          133.4458,
          116.718,
          116.7181,
          120.8457,
          -43.8388,
          124.7583,
          -44.0326,
          -44.0329,
          -44.0801,
          117.1995,
          150.8897,
          117.1817,
          117.181,
          106.4444,
          121.4242,
          122.5988,
          122.6456,
          122.6627,
          122.686,
          122.6546,
          121.4099,
          122.7284,
          122.7358,
          3.7053,
          -5.6871,
          133.7389,
          133.7346,
          140.9813,
          120.1503,
          120.1354,
          122.4443,
          33.0625,
          149.3141,
          -66.4693,
          -66.4458,
          -66.4781,
          -66.4536,
          70.106,
          140.6844,
          121.8794,
          17.2059,
          140.1045,
          86.9699,
          -115.1647,
          -14.7732,
          -14.7788,
          -14.7682,
          -14.7687,
          -14.6298,
          -14.6298,
          120.2608,
          120.2608,
          120.2608,
          133.0438,
          108.3267,
          108.3267,
          108.3267,
          108.3267,
          108.3267,
          108.3267,
          108.3267,
          108.3267,
          108.3267,
          108.3267,
          108.3267,
          -66.3802,
          -66.3802,
          120.3036,
          -1.6232,
          120.0237,
          69.6847,
          122.3472,
          126.4798,
          127.7,
          127.7,
          127.7,
          127.7,
          122.0835,
          122.0835,
          122.0835,
          122.0835,
          122.0835,
          122.0835,
          122.0835,
          122.0835,
          122.0835,
          122.0835,
          122.0835,
          129.4,
          129.4,
          129.4,
          -43.9476,
          -43.9699,
          -43.9481,
          -44.0342,
          -44.0288,
          -44.0045,
          -43.9443,
          -43.9405,
          -44.0631,
          -43.9182,
          121.3703,
          121.5971,
          121.3571,
          121.4836,
          121.437,
          121.3668,
          121.4782,
          121.4083,
          121.4205,
          121.4069,
          121.5078,
          121.5256,
          121.498,
          121.4966,
          121.4406,
          121.4592,
          31.9059,
          109.008,
          109.0053,
          119.541,
          119.541,
          119.541,
          126.2333,
          100.6599,
          100.6599,
          118.5771,
          118.6242,
          118.5835,
          118.5939,
          118.5977,
          118.5698,
          118.5207,
          118.5702,
          118.5407,
          118.616,
          118.6387,
          118.6044,
          118.6254,
          118.5157,
          118.3815,
          118.5456,
          118.6197,
          151.5172,
          151.4961,
          151.4965,
          151.4572,
          151.4785,
          151.4911,
          151.4779,
          119.7835,
          119.7835,
          119.7835,
          140.2975,
          -43.8473,
          -43.8473,
          116.5024,
          116.6331,
          116.5713,
          116.6049,
          116.5855,
          116.5491,
          116.5649,
          116.5269,
          128.0229,
          128.2528,
          -66.7556,
          -66.7596,
          119.3952,
          117.3225,
          117.4403,
          117.4184,
          117.3807,
          117.3464,
          117.2867,
          117.306,
          117.3605,
          120.0279,
          120.0279,
          120.0279,
          120.0279,
          120.0279,
          -76.1044,
          120.1687,
          69.9189,
          69.9267,
          110.9576,
          110.8739,
          118.5723,
          118.5723,
          118.5723,
          118.5723,
          118.5723,
          118.5723,
          118.5723,
          129.3529,
          126.427,
          126.427,
          -70.8331,
          -40.9383,
          -40.931,
          139.8319,
          139.8487,
          134.7826,
          129.0771,
          116.3738,
          116.3851,
          -17.001,
          -17.0052,
          -17.0143,
          151.7748,
          -75.2547,
          -75.2467,
          -75.235,
          -75.2364,
          -75.2618,
          -75.2472,
          121.2245,
          121.2245,
          121.988,
          122.0276,
          118.2578,
          118.4951,
          118.2381,
          118.273,
          118.2191,
          118.2228,
          -61.5973,
          149.6131,
          149.3819,
          149.4489,
          149.4649,
          149.4468,
          149.4147,
          40.7026,
          40.7115,
          137.54,
          -44.3833,
          73.8077,
          119.7625,
          -71.9586,
          118.6863,
          118.6854,
          118.6013,
          126.222,
          119.0217,
          17.4212,
          124.1488,
          124.1488,
          15.321,
          119.4229,
          119.4229,
          119.4229,
          119.4229,
          119.4229,
          133.4279,
          133.4279,
          73.2081,
          136.7509,
          130.85,
          130.85,
          -40.2114,
          -40.1636,
          -40.1792,
          -123.3554,
          -123.9046,
          -123.1833,
          140.9506,
          116.359,
          137.6,
          126.3795,
          119.0136,
          122.6333,
          117.8986,
          119.638,
          -40.2363,
          54.6772,
          117.726,
          120.4352,
          -66.7877,
          36.1833,
          106.4439,
          135.165,
          86.68,
          122.0176,
          122.0176,
          32.9499,
          139.9384,
          -44.0323,
          -5.4204,
          134.6299,
          120.4449,
          27.1333,
          -64.6332,
          117.1833,
          117.1833,
          117.1833,
          140.7005,
          140.7005,
          131.7635,
          83.2339,
          140.0186,
          -44.2863,
          -13.1855,
          69.6005,
          17.4,
          122.4088,
          121.1859,
          -40.4849,
          148.0765,
          121.848
         ],
         "name": "",
         "radius": 10,
         "subplot": "mapbox",
         "type": "densitymapbox",
         "z": [
          4.000115740740741,
          3.8422337962962962,
          12.339479166666667,
          null,
          6.001493055555557,
          0.24704861111111112,
          2.515138888888889,
          1.3462731481481482,
          2.005289351851852,
          2.799965277777778,
          1.0151851851851852,
          0.6728935185185185,
          21.67313657407408,
          5.180914351851852,
          10.680543981481481,
          6.684155092592593,
          7.835844907407408,
          9.501863425925926,
          null,
          5.167106481481482,
          3.668275462962963,
          2.3366550925925926,
          2.8345370370370375,
          null,
          6.836898148148149,
          5.001712962962963,
          1.6678587962962963,
          null,
          1.6794328703703705,
          null,
          null,
          0.6882523148148149,
          14.843541666666667,
          9.334340277777779,
          6.003773148148149,
          3.667939814814815,
          4.343680555555555,
          1.6684953703703704,
          7.835648148148148,
          9.67550925925926,
          9.667731481481482,
          7.836875,
          10.33599537037037,
          3.836585648148148,
          69.33396990740741,
          4.669988425925926,
          37.66804398148148,
          2.166678240740741,
          9.835347222222222,
          1.3357175925925926,
          30.502164351851853,
          3.1680439814814814,
          0.001099537037037037,
          1.0020717592592592,
          1.8351041666666668,
          1.5014699074074076,
          3.3346064814814813,
          1.003263888888889,
          5.507650462962964,
          1.2513310185185185,
          0.8433333333333334,
          12.00164351851852,
          3.672511574074074,
          5.68207175925926,
          4.175520833333334,
          9.835208333333334,
          2.001724537037037,
          3.670798611111111,
          2.1709375,
          2.5136689814814814,
          12.506724537037037,
          0.8334143518518519,
          4.84136574074074,
          6.835069444444445,
          2.334363425925926,
          2.002337962962963,
          8.002164351851851,
          8.00550925925926,
          null,
          0.1690277777777778,
          15.833518518518519,
          2.5062152777777778,
          6.1765625,
          3.010601851851852,
          0.5011574074074074,
          2.345173611111111,
          17.16818287037037,
          5.678333333333334,
          1.8351967592592593,
          7.33556712962963,
          6.336435185185185,
          6.335682870370371,
          1.0099189814814815,
          1.0017361111111112,
          0.669525462962963,
          1.5178587962962964,
          7.335462962962963,
          9.169143518518519,
          6.8470254629629625,
          4.67519675925926,
          null,
          5.335532407407407,
          11.334189814814817,
          23.670034722222226,
          81.84180555555555,
          null,
          3.8345949074074075,
          2.5011111111111113,
          3.671550925925926,
          4.001747685185185,
          1.6818287037037036,
          0.0042592592592592595,
          2.674236111111111,
          6.334976851851851,
          17.55409722222222,
          33.512199074074076,
          34.17872685185185,
          0.8371412037037037,
          3.669699074074074,
          4.500173611111111,
          1.6699768518518519,
          2.5094675925925927,
          5.170231481481482,
          3.3353819444444444,
          2.6729861111111113,
          3.0002083333333336,
          0.16697916666666668,
          null,
          0.8400925925925926,
          0.002870370370370371,
          2.5016782407407407,
          0.5019328703703704,
          3.0019444444444447,
          0.3390162037037037,
          8.001921296296297,
          2.668391203703704,
          9.169953703703703,
          6.1751504629629625,
          7.504699074074074,
          2.670960648148148,
          2.8811574074074078,
          8.174212962962963,
          5.5032407407407415,
          7.002962962962963,
          0.5015972222222222,
          8.336412037037038,
          1.334537037037037,
          3.3360185185185185,
          4.000092592592592,
          null,
          31.001863425925926,
          17.169733796296295,
          21.66715277777778,
          5.501377314814816,
          1.1681018518518518,
          3.001550925925926,
          7.167025462962963,
          78.66887731481482,
          11.171828703703705,
          0.6686111111111112,
          9.669525462962962,
          0.00015046296296296297,
          null,
          0.5018518518518519,
          9.169178240740742,
          null,
          7.232245370370371,
          15.169270833333334,
          0.3355787037037037,
          4.001354166666666,
          0.169837962962963,
          2.7056597222222227,
          13.17767361111111,
          7.0057986111111115,
          0.5002546296296296,
          16.005150462962963,
          6.502291666666666,
          10.344988425925926,
          3.8346180555555556,
          3.668645833333333,
          0.8336921296296296,
          0.3350925925925926,
          1.8421412037037037,
          2.3360300925925928,
          2.334108796296296,
          5.334560185185185,
          6.180636574074074,
          2.3355787037037037,
          6.169039351851852,
          9.83576388888889,
          5.501805555555556,
          4.1679050925925925,
          3.837337962962963,
          2.835706018518519,
          9.001354166666667,
          1.6714467592592592,
          0.6680671296296297,
          9.005856481481482,
          1.5067013888888892,
          21.834247685185186,
          19.502141203703705,
          9.167303240740742,
          17.833842592592593,
          2.167824074074074,
          16.502997685185186,
          4.500706018518518,
          4.5007523148148145,
          4.675219907407407,
          2.339664351851852,
          2.6736921296296297,
          4.508553240740741,
          5.005868055555555,
          4.841967592592592,
          6.668287037037037,
          4.509814814814815,
          2.674826388888889,
          7.001157407407407,
          7.503310185185185,
          4.5016087962962965,
          3.168553240740741,
          3.001527777777778,
          6.632719907407408,
          7.844247685185185,
          3.1686805555555555,
          4.001377314814815,
          6.005347222222223,
          9.168460648148148,
          14.002939814814814,
          2.167974537037037,
          4.000520833333334,
          2.1680555555555556,
          3.002604166666667,
          13.505752314814815,
          null,
          3.8353125,
          6.8432407407407405,
          9.002337962962963,
          1.8433912037037037,
          4.0001388888888885,
          0.33760416666666665,
          3.168761574074074,
          null,
          0.8348148148148148,
          null,
          1.907259675925926,
          null,
          1.5193634259259259,
          1.8581712962962964,
          3.3531828703703703,
          2.845046296296297,
          4.8421412037037035,
          0.16935185185185186,
          4.344131944444444,
          6.338680555555555,
          2.008159722222222,
          7.676875,
          5.169016203703704,
          6.677974537037037,
          null,
          0.3362962962962963,
          2.3742708333333336,
          17.171354166666667,
          0.8373726851851852,
          0.672349537037037,
          null,
          0.5552067592592593,
          null,
          1.0060532407407408,
          1.6756134259259259,
          null,
          2.5062962962962962,
          4.005763888888889,
          5.83951388888889,
          5.504305555555557,
          1.6757175925925927,
          4.50130787037037,
          0.6768865740740742,
          0.8436226851851852,
          2.4922089351851855,
          1.176238425925926,
          1.507175925925926,
          0.3345949074074074,
          5.502569444444445,
          null,
          9.835439814814816,
          16.168240740740742,
          10.66741898148148,
          5.168090277777778,
          8.335081018518519,
          25.169722222222223,
          1.004363425925926,
          5.1787731481481485,
          13.502905092592593,
          19.341805555555556,
          18.84784722222222,
          24.343344907407406,
          18.837314814814814,
          6.002928240740742,
          27.675196759259258,
          17.674953703703704,
          34.83340277777778,
          17.184560185185184,
          17.178946759259258,
          10.167337962962963,
          17.177974537037038,
          26.00172453703704,
          28.172604166666666,
          22.345833333333335,
          6.166851851851852,
          4.838449074074074,
          null,
          41.36056712962963,
          34.026666666666664,
          1.5028356481481484,
          null,
          null,
          5.677604166666668,
          5.001192129629629,
          null,
          0.1685185185185185,
          0.6689236111111111,
          2.1672685185185183,
          0.16918981481481485,
          null,
          1.0026736111111112,
          null,
          0.18030092592592595,
          4.169768518518518,
          0.668900462962963,
          6.002337962962963,
          1.1674305555555555,
          0.8346412037037036,
          1.6705439814814815,
          2.666875,
          0.16831018518518517,
          null,
          28.000520833333333,
          8.00292824074074,
          10.83601851851852,
          8.502997685185186,
          1.501678240740741,
          1.8355555555555556,
          22.00246527777778,
          7.1400347222222225,
          1.673738425925926,
          2.6720486111111112,
          4.666875,
          8.66851851851852,
          1.3369328703703705,
          0.8357060185185186,
          4.834710648148148,
          1.6679513888888888,
          0.16824074074074075,
          0.3360763888888889,
          2.502824074074074,
          1.1683217592592592,
          8.00537037037037,
          3.8419328703703703,
          0.17530092592592594,
          23.001817129629632,
          22.66990740740741,
          null,
          null,
          1.6693171296296296,
          1.167372685185185,
          null,
          6.338854166666667,
          0.8426388888888889,
          3.0040625000000003,
          6.170138888888889,
          13.336574074074074,
          3.6731944444444444,
          1.251140462962963,
          0.6709606481481482,
          2.172384259259259,
          61.50206018518519,
          null,
          1.178611111111111,
          0.1680324074074074,
          0.6678240740740741,
          null,
          0.00020833333333333335,
          null,
          1.6687152777777778,
          null,
          null,
          null,
          0.1718402777777778,
          3.5028125,
          null,
          2.583959282407408,
          0.33511574074074074,
          6.336712962962963,
          0.1681712962962963,
          1.5031250000000003,
          3.668576388888889,
          null,
          1.6712384259259259,
          2.3389467592592594,
          14.504166666666666,
          11.504270833333335,
          11.00025462962963,
          19.835185185185185,
          5.166782407407408,
          13.836446759259259,
          5.338958333333333,
          5.185127314814815,
          null,
          3.6743055555555557,
          4.001261574074074,
          0.5069675925925926,
          2.01087962962963,
          3.334652777777778,
          2.507175925925926,
          3.8394444444444447,
          1.340636574074074,
          7.845243055555556,
          3.169224537037037,
          0.33618055555555554,
          null,
          5.335243055555556,
          16.505949074074074,
          31.668622685185184,
          0.3358333333333333,
          null,
          27.336319444444445,
          9.001574074074075,
          7.672326388888889,
          1.669525462962963,
          13.669918981481482,
          1.168287037037037,
          9.835625,
          null,
          null,
          0.5009143518518518,
          1.5087731481481483,
          0.3430092592592593,
          1.837349537037037,
          3.005092592592593,
          null,
          23.017696759259263,
          12.501666666666667,
          0.16837962962962963,
          8.509363425925926,
          1.5045601851851853,
          5.837777777777778,
          3.3409375,
          5.672627314814815,
          1.8434143518518518,
          null,
          null,
          1.6692592592592592,
          8.670034722222223,
          2.1264075347222224,
          0.16695601851851852,
          13.334282407407407,
          6.5020138888888885,
          7.668090277777778,
          16.169456018518517,
          null,
          4.079745370370371,
          null,
          7.335486111111111,
          2.9068862962962965,
          null,
          0.16827546296296297,
          null,
          2.836990740740741,
          null,
          16.33414351851852,
          5.596030092592593,
          3.3336574074074075,
          7.501736111111111,
          6.500254629629629,
          null,
          1.6682407407407407,
          0.0012847222222222223,
          null,
          10.978611111111112,
          9.669664351851852,
          null,
          14.169733796296295,
          0.5012615740740741,
          null,
          0.8388078703703704,
          6.004629629629631,
          32.881018518518516,
          18.169930555555556,
          null,
          null,
          null,
          null,
          null,
          null,
          null,
          5.502604166666667,
          7.839733796296296,
          null,
          3.0001851851851855,
          null,
          null,
          0.3383217592592593,
          null,
          2.8348148148148153
         ]
        }
       ],
       "layout": {
        "coloraxis": {
         "colorbar": {
          "title": {
           "text": "days_at_port"
          }
         },
         "colorscale": [
          [
           0,
           "#0d0887"
          ],
          [
           0.1111111111111111,
           "#46039f"
          ],
          [
           0.2222222222222222,
           "#7201a8"
          ],
          [
           0.3333333333333333,
           "#9c179e"
          ],
          [
           0.4444444444444444,
           "#bd3786"
          ],
          [
           0.5555555555555556,
           "#d8576b"
          ],
          [
           0.6666666666666666,
           "#ed7953"
          ],
          [
           0.7777777777777778,
           "#fb9f3a"
          ],
          [
           0.8888888888888888,
           "#fdca26"
          ],
          [
           1,
           "#f0f921"
          ]
         ]
        },
        "height": 500,
        "legend": {
         "tracegroupgap": 0
        },
        "mapbox": {
         "center": {
          "lat": 0,
          "lon": 180
         },
         "domain": {
          "x": [
           0,
           1
          ],
          "y": [
           0,
           1
          ]
         },
         "style": "stamen-terrain",
         "zoom": 0
        },
        "margin": {
         "t": 60
        },
        "template": {
         "data": {
          "bar": [
           {
            "error_x": {
             "color": "#2a3f5f"
            },
            "error_y": {
             "color": "#2a3f5f"
            },
            "marker": {
             "line": {
              "color": "#E5ECF6",
              "width": 0.5
             },
             "pattern": {
              "fillmode": "overlay",
              "size": 10,
              "solidity": 0.2
             }
            },
            "type": "bar"
           }
          ],
          "barpolar": [
           {
            "marker": {
             "line": {
              "color": "#E5ECF6",
              "width": 0.5
             },
             "pattern": {
              "fillmode": "overlay",
              "size": 10,
              "solidity": 0.2
             }
            },
            "type": "barpolar"
           }
          ],
          "carpet": [
           {
            "aaxis": {
             "endlinecolor": "#2a3f5f",
             "gridcolor": "white",
             "linecolor": "white",
             "minorgridcolor": "white",
             "startlinecolor": "#2a3f5f"
            },
            "baxis": {
             "endlinecolor": "#2a3f5f",
             "gridcolor": "white",
             "linecolor": "white",
             "minorgridcolor": "white",
             "startlinecolor": "#2a3f5f"
            },
            "type": "carpet"
           }
          ],
          "choropleth": [
           {
            "colorbar": {
             "outlinewidth": 0,
             "ticks": ""
            },
            "type": "choropleth"
           }
          ],
          "contour": [
           {
            "colorbar": {
             "outlinewidth": 0,
             "ticks": ""
            },
            "colorscale": [
             [
              0,
              "#0d0887"
             ],
             [
              0.1111111111111111,
              "#46039f"
             ],
             [
              0.2222222222222222,
              "#7201a8"
             ],
             [
              0.3333333333333333,
              "#9c179e"
             ],
             [
              0.4444444444444444,
              "#bd3786"
             ],
             [
              0.5555555555555556,
              "#d8576b"
             ],
             [
              0.6666666666666666,
              "#ed7953"
             ],
             [
              0.7777777777777778,
              "#fb9f3a"
             ],
             [
              0.8888888888888888,
              "#fdca26"
             ],
             [
              1,
              "#f0f921"
             ]
            ],
            "type": "contour"
           }
          ],
          "contourcarpet": [
           {
            "colorbar": {
             "outlinewidth": 0,
             "ticks": ""
            },
            "type": "contourcarpet"
           }
          ],
          "heatmap": [
           {
            "colorbar": {
             "outlinewidth": 0,
             "ticks": ""
            },
            "colorscale": [
             [
              0,
              "#0d0887"
             ],
             [
              0.1111111111111111,
              "#46039f"
             ],
             [
              0.2222222222222222,
              "#7201a8"
             ],
             [
              0.3333333333333333,
              "#9c179e"
             ],
             [
              0.4444444444444444,
              "#bd3786"
             ],
             [
              0.5555555555555556,
              "#d8576b"
             ],
             [
              0.6666666666666666,
              "#ed7953"
             ],
             [
              0.7777777777777778,
              "#fb9f3a"
             ],
             [
              0.8888888888888888,
              "#fdca26"
             ],
             [
              1,
              "#f0f921"
             ]
            ],
            "type": "heatmap"
           }
          ],
          "heatmapgl": [
           {
            "colorbar": {
             "outlinewidth": 0,
             "ticks": ""
            },
            "colorscale": [
             [
              0,
              "#0d0887"
             ],
             [
              0.1111111111111111,
              "#46039f"
             ],
             [
              0.2222222222222222,
              "#7201a8"
             ],
             [
              0.3333333333333333,
              "#9c179e"
             ],
             [
              0.4444444444444444,
              "#bd3786"
             ],
             [
              0.5555555555555556,
              "#d8576b"
             ],
             [
              0.6666666666666666,
              "#ed7953"
             ],
             [
              0.7777777777777778,
              "#fb9f3a"
             ],
             [
              0.8888888888888888,
              "#fdca26"
             ],
             [
              1,
              "#f0f921"
             ]
            ],
            "type": "heatmapgl"
           }
          ],
          "histogram": [
           {
            "marker": {
             "pattern": {
              "fillmode": "overlay",
              "size": 10,
              "solidity": 0.2
             }
            },
            "type": "histogram"
           }
          ],
          "histogram2d": [
           {
            "colorbar": {
             "outlinewidth": 0,
             "ticks": ""
            },
            "colorscale": [
             [
              0,
              "#0d0887"
             ],
             [
              0.1111111111111111,
              "#46039f"
             ],
             [
              0.2222222222222222,
              "#7201a8"
             ],
             [
              0.3333333333333333,
              "#9c179e"
             ],
             [
              0.4444444444444444,
              "#bd3786"
             ],
             [
              0.5555555555555556,
              "#d8576b"
             ],
             [
              0.6666666666666666,
              "#ed7953"
             ],
             [
              0.7777777777777778,
              "#fb9f3a"
             ],
             [
              0.8888888888888888,
              "#fdca26"
             ],
             [
              1,
              "#f0f921"
             ]
            ],
            "type": "histogram2d"
           }
          ],
          "histogram2dcontour": [
           {
            "colorbar": {
             "outlinewidth": 0,
             "ticks": ""
            },
            "colorscale": [
             [
              0,
              "#0d0887"
             ],
             [
              0.1111111111111111,
              "#46039f"
             ],
             [
              0.2222222222222222,
              "#7201a8"
             ],
             [
              0.3333333333333333,
              "#9c179e"
             ],
             [
              0.4444444444444444,
              "#bd3786"
             ],
             [
              0.5555555555555556,
              "#d8576b"
             ],
             [
              0.6666666666666666,
              "#ed7953"
             ],
             [
              0.7777777777777778,
              "#fb9f3a"
             ],
             [
              0.8888888888888888,
              "#fdca26"
             ],
             [
              1,
              "#f0f921"
             ]
            ],
            "type": "histogram2dcontour"
           }
          ],
          "mesh3d": [
           {
            "colorbar": {
             "outlinewidth": 0,
             "ticks": ""
            },
            "type": "mesh3d"
           }
          ],
          "parcoords": [
           {
            "line": {
             "colorbar": {
              "outlinewidth": 0,
              "ticks": ""
             }
            },
            "type": "parcoords"
           }
          ],
          "pie": [
           {
            "automargin": true,
            "type": "pie"
           }
          ],
          "scatter": [
           {
            "marker": {
             "colorbar": {
              "outlinewidth": 0,
              "ticks": ""
             }
            },
            "type": "scatter"
           }
          ],
          "scatter3d": [
           {
            "line": {
             "colorbar": {
              "outlinewidth": 0,
              "ticks": ""
             }
            },
            "marker": {
             "colorbar": {
              "outlinewidth": 0,
              "ticks": ""
             }
            },
            "type": "scatter3d"
           }
          ],
          "scattercarpet": [
           {
            "marker": {
             "colorbar": {
              "outlinewidth": 0,
              "ticks": ""
             }
            },
            "type": "scattercarpet"
           }
          ],
          "scattergeo": [
           {
            "marker": {
             "colorbar": {
              "outlinewidth": 0,
              "ticks": ""
             }
            },
            "type": "scattergeo"
           }
          ],
          "scattergl": [
           {
            "marker": {
             "colorbar": {
              "outlinewidth": 0,
              "ticks": ""
             }
            },
            "type": "scattergl"
           }
          ],
          "scattermapbox": [
           {
            "marker": {
             "colorbar": {
              "outlinewidth": 0,
              "ticks": ""
             }
            },
            "type": "scattermapbox"
           }
          ],
          "scatterpolar": [
           {
            "marker": {
             "colorbar": {
              "outlinewidth": 0,
              "ticks": ""
             }
            },
            "type": "scatterpolar"
           }
          ],
          "scatterpolargl": [
           {
            "marker": {
             "colorbar": {
              "outlinewidth": 0,
              "ticks": ""
             }
            },
            "type": "scatterpolargl"
           }
          ],
          "scatterternary": [
           {
            "marker": {
             "colorbar": {
              "outlinewidth": 0,
              "ticks": ""
             }
            },
            "type": "scatterternary"
           }
          ],
          "surface": [
           {
            "colorbar": {
             "outlinewidth": 0,
             "ticks": ""
            },
            "colorscale": [
             [
              0,
              "#0d0887"
             ],
             [
              0.1111111111111111,
              "#46039f"
             ],
             [
              0.2222222222222222,
              "#7201a8"
             ],
             [
              0.3333333333333333,
              "#9c179e"
             ],
             [
              0.4444444444444444,
              "#bd3786"
             ],
             [
              0.5555555555555556,
              "#d8576b"
             ],
             [
              0.6666666666666666,
              "#ed7953"
             ],
             [
              0.7777777777777778,
              "#fb9f3a"
             ],
             [
              0.8888888888888888,
              "#fdca26"
             ],
             [
              1,
              "#f0f921"
             ]
            ],
            "type": "surface"
           }
          ],
          "table": [
           {
            "cells": {
             "fill": {
              "color": "#EBF0F8"
             },
             "line": {
              "color": "white"
             }
            },
            "header": {
             "fill": {
              "color": "#C8D4E3"
             },
             "line": {
              "color": "white"
             }
            },
            "type": "table"
           }
          ]
         },
         "layout": {
          "annotationdefaults": {
           "arrowcolor": "#2a3f5f",
           "arrowhead": 0,
           "arrowwidth": 1
          },
          "autotypenumbers": "strict",
          "coloraxis": {
           "colorbar": {
            "outlinewidth": 0,
            "ticks": ""
           }
          },
          "colorscale": {
           "diverging": [
            [
             0,
             "#8e0152"
            ],
            [
             0.1,
             "#c51b7d"
            ],
            [
             0.2,
             "#de77ae"
            ],
            [
             0.3,
             "#f1b6da"
            ],
            [
             0.4,
             "#fde0ef"
            ],
            [
             0.5,
             "#f7f7f7"
            ],
            [
             0.6,
             "#e6f5d0"
            ],
            [
             0.7,
             "#b8e186"
            ],
            [
             0.8,
             "#7fbc41"
            ],
            [
             0.9,
             "#4d9221"
            ],
            [
             1,
             "#276419"
            ]
           ],
           "sequential": [
            [
             0,
             "#0d0887"
            ],
            [
             0.1111111111111111,
             "#46039f"
            ],
            [
             0.2222222222222222,
             "#7201a8"
            ],
            [
             0.3333333333333333,
             "#9c179e"
            ],
            [
             0.4444444444444444,
             "#bd3786"
            ],
            [
             0.5555555555555556,
             "#d8576b"
            ],
            [
             0.6666666666666666,
             "#ed7953"
            ],
            [
             0.7777777777777778,
             "#fb9f3a"
            ],
            [
             0.8888888888888888,
             "#fdca26"
            ],
            [
             1,
             "#f0f921"
            ]
           ],
           "sequentialminus": [
            [
             0,
             "#0d0887"
            ],
            [
             0.1111111111111111,
             "#46039f"
            ],
            [
             0.2222222222222222,
             "#7201a8"
            ],
            [
             0.3333333333333333,
             "#9c179e"
            ],
            [
             0.4444444444444444,
             "#bd3786"
            ],
            [
             0.5555555555555556,
             "#d8576b"
            ],
            [
             0.6666666666666666,
             "#ed7953"
            ],
            [
             0.7777777777777778,
             "#fb9f3a"
            ],
            [
             0.8888888888888888,
             "#fdca26"
            ],
            [
             1,
             "#f0f921"
            ]
           ]
          },
          "colorway": [
           "#636efa",
           "#EF553B",
           "#00cc96",
           "#ab63fa",
           "#FFA15A",
           "#19d3f3",
           "#FF6692",
           "#B6E880",
           "#FF97FF",
           "#FECB52"
          ],
          "font": {
           "color": "#2a3f5f"
          },
          "geo": {
           "bgcolor": "white",
           "lakecolor": "white",
           "landcolor": "#E5ECF6",
           "showlakes": true,
           "showland": true,
           "subunitcolor": "white"
          },
          "hoverlabel": {
           "align": "left"
          },
          "hovermode": "closest",
          "mapbox": {
           "style": "light"
          },
          "paper_bgcolor": "white",
          "plot_bgcolor": "#E5ECF6",
          "polar": {
           "angularaxis": {
            "gridcolor": "white",
            "linecolor": "white",
            "ticks": ""
           },
           "bgcolor": "#E5ECF6",
           "radialaxis": {
            "gridcolor": "white",
            "linecolor": "white",
            "ticks": ""
           }
          },
          "scene": {
           "xaxis": {
            "backgroundcolor": "#E5ECF6",
            "gridcolor": "white",
            "gridwidth": 2,
            "linecolor": "white",
            "showbackground": true,
            "ticks": "",
            "zerolinecolor": "white"
           },
           "yaxis": {
            "backgroundcolor": "#E5ECF6",
            "gridcolor": "white",
            "gridwidth": 2,
            "linecolor": "white",
            "showbackground": true,
            "ticks": "",
            "zerolinecolor": "white"
           },
           "zaxis": {
            "backgroundcolor": "#E5ECF6",
            "gridcolor": "white",
            "gridwidth": 2,
            "linecolor": "white",
            "showbackground": true,
            "ticks": "",
            "zerolinecolor": "white"
           }
          },
          "shapedefaults": {
           "line": {
            "color": "#2a3f5f"
           }
          },
          "ternary": {
           "aaxis": {
            "gridcolor": "white",
            "linecolor": "white",
            "ticks": ""
           },
           "baxis": {
            "gridcolor": "white",
            "linecolor": "white",
            "ticks": ""
           },
           "bgcolor": "#E5ECF6",
           "caxis": {
            "gridcolor": "white",
            "linecolor": "white",
            "ticks": ""
           }
          },
          "title": {
           "x": 0.05
          },
          "xaxis": {
           "automargin": true,
           "gridcolor": "white",
           "linecolor": "white",
           "ticks": "",
           "title": {
            "standoff": 15
           },
           "zerolinecolor": "white",
           "zerolinewidth": 2
          },
          "yaxis": {
           "automargin": true,
           "gridcolor": "white",
           "linecolor": "white",
           "ticks": "",
           "title": {
            "standoff": 15
           },
           "zerolinecolor": "white",
           "zerolinewidth": 2
          }
         }
        },
        "title": {
         "text": "Today's Activity",
         "x": 0.5
        },
        "width": 700
       }
      },
      "image/png": "[encoded data removed]",
      "text/html": [
       "<div>                            <div id=\"9dcdc153-4fde-4c58-9645-6142c8f973b7\" class=\"plotly-graph-div\" style=\"height:500px; width:700px;\"></div>            <script type=\"text/javascript\">                require([\"plotly\"], function(Plotly) {                    window.PLOTLYENV=window.PLOTLYENV || {};                                    if (document.getElementById(\"9dcdc153-4fde-4c58-9645-6142c8f973b7\")) {                    Plotly.newPlot(                        \"9dcdc153-4fde-4c58-9645-6142c8f973b7\",                        [{\"coloraxis\":\"coloraxis\",\"customdata\":[[9141326,\"Keoyang Orient\",\"Load\",\"Puerto Drummond\",\"2022-01-09T23:59:50\",4.000115740740741],[9465198,\"Ocean Courtesy\",\"Load\",\"Puerto Drummond\",\"2022-01-10T03:47:11\",3.8422337962962962],[9172430,\"Oriental Navigator\",\"Discharge\",\"Boryeong\",\"2022-01-01T15:51:09\",12.339479166666667],[9218777,\"F Fortune\",\"Discharge\",\"Youngheung\",\"2022-01-14T07:55:53\",null],[9483322,\"Ocean Lady\",\"Discharge\",\"Youngheung\",\"2022-01-07T23:57:51\",6.001493055555557],[9224879,\"CIC Pride\",\"Discharge\",\"Mundra\",\"2022-01-13T18:04:15\",0.24704861111111112],[9701188,\"Golden Houston\",\"Discharge\",\"Mundra\",\"2022-01-11T11:38:12\",2.515138888888889],[9232058,\"Winning Endurance\",\"Discharge\",\"Yantai\",\"2022-01-12T15:41:22\",1.3462731481481482],[9659866,\"Winning Nature\",\"Discharge\",\"Yantai\",\"2022-01-11T23:52:23\",2.005289351851852],[9856933,\"Golden Spirit\",\"Discharge\",\"Yantai\",\"2022-01-11T04:48:03\",2.799965277777778],[9254678,\"Winning Sea\",\"Discharge\",\"Yantai\",\"2022-01-12T23:38:08\",1.0151851851851852],[9567001,\"Bulk Joyance\",\"Discharge\",\"Yantai\",\"2022-01-13T07:51:02\",0.6728935185185185],[9254666,\"Sunny Link\",\"Load\",\"Kendawangan\",\"2021-12-23T07:50:41\",21.67313657407408],[9579872,\"Marvellous\",\"Load\",\"Kendawangan\",\"2022-01-08T19:39:29\",5.180914351851852],[9254680,\"Xh Explorer\",\"Discharge\",\"Dongjiangkou\",\"2022-01-03T07:40:01\",10.680543981481481],[9489845,\"Mineral Haiku\",\"Discharge\",\"Dongjiangkou\",\"2022-01-07T07:34:49\",6.684155092592593],[9493614,\"ESL Sealion\",\"Discharge\",\"Dongjiangkou\",\"2022-01-06T03:56:23\",7.835844907407408],[9260639,\"Seacon Brazil\",\"Discharge\",\"Zhanjiang\",\"2022-01-04T11:57:19\",9.501863425925926],[9398711,\"Divinus\",\"Discharge\",\"Zhanjiang\",\"2022-01-14T03:55:07\",null],[9300374,\"Castillo De Valverde\",\"Load\",\"Ponta Da Madeira\",\"2022-01-08T19:59:22\",5.167106481481482],[9595412,\"Azul Horizonte\",\"Load\",\"Ponta Da Madeira\",\"2022-01-10T07:57:41\",3.668275462962963],[9300570,\"Aquavoyageurs\",\"Load\",\"Richard's Bay\",\"2022-01-11T15:55:13\",2.3366550925925926],[9476630,\"Mineral Brussel\",\"Load\",\"Richard's Bay\",\"2022-01-11T03:58:16\",2.8345370370370375],[9301079,\"Great Navigator\",\"Discharge\",\"Dangjin\",\"2022-01-14T07:53:58\",null],[9747948,\"Navios Corali\",\"Discharge\",\"Dangjin\",\"2022-01-07T03:54:52\",6.836898148148149],[9310123,\"Kymopolia\",\"Load\",\"Mina Saqr\",\"2022-01-08T23:57:32\",5.001712962962963],[9311593,\"Jean Ld\",\"Discharge\",\"Zhangjiagang\",\"2022-01-12T07:58:17\",1.6678587962962963],[9406881,\"Xin Run\",\"Discharge\",\"Zhangjiagang\",\"2022-01-14T10:10:09\",null],[9507881,\"Navios Aster\",\"Discharge\",\"Zhangjiagang\",\"2022-01-12T07:41:37\",1.6794328703703705],[9511416,\"Golden Myrtalia\",\"Discharge\",\"Zhangjiagang\",\"2022-01-14T09:00:25\",null],[9552381,\"Cape Swan\",\"Discharge\",\"Zhangjiagang\",\"2022-01-14T10:41:21\",null],[9597197,\"Zje Ocean 1\",\"Discharge\",\"Zhangjiagang\",\"2022-01-13T07:28:55\",0.6882523148148149],[9314129,\"Salt Lake City\",\"Discharge\",\"Mailiao\",\"2021-12-30T03:45:18\",14.843541666666667],[9568005,\"South Trader\",\"Discharge\",\"Mailiao\",\"2022-01-04T15:58:33\",9.334340277777779],[9324124,\"HL Baltimore\",\"Discharge\",\"Ningbo\",\"2022-01-07T23:54:34\",6.003773148148149],[9331426,\"Sunny Morebaya\",\"Discharge\",\"Longkou\",\"2022-01-10T07:58:10\",3.667939814814815],[9639476,\"Judd\",\"Discharge\",\"Longkou\",\"2022-01-09T15:45:06\",4.343680555555555],[9344291,\"Ocean Trinity\",\"Discharge\",\"Yokohama\",\"2022-01-12T07:57:22\",1.6684953703703704],[9344473,\"C.Vision\",\"Discharge\",\"Fangcheng\",\"2022-01-06T03:56:40\",7.835648148148148],[9405071,\"Cape Ray\",\"Discharge\",\"Fangcheng\",\"2022-01-04T07:47:16\",9.67550925925926],[9469003,\"Bulk Mexico\",\"Discharge\",\"Fangcheng\",\"2022-01-04T07:58:28\",9.667731481481482],[9531856,\"Cape Camellia\",\"Discharge\",\"Fangcheng\",\"2022-01-06T03:54:54\",7.836875],[9729180,\"Cotswold\",\"Discharge\",\"Fangcheng\",\"2022-01-03T15:56:10\",10.33599537037037],[9592458,\"Aashna\",\"Discharge\",\"Fangcheng\",\"2022-01-10T03:55:19\",3.836585648148148],[9346354,\"Irene II\",\"Discharge\",\"Richard's Bay\",\"2021-11-05T15:59:05\",69.33396990740741],[9347188,\"Big Bang\",\"Load\",\"Richard's Bay\",\"2022-01-09T07:55:13\",4.669988425925926],[9844540,\"CL Rhine River\",\"Load\",\"Richard's Bay\",\"2021-12-07T07:58:01\",37.66804398148148],[9176113,\"Lila Kyoto\",\"Load\",\"Richard's Bay\",\"2022-01-11T19:59:59\",2.166678240740741],[9241657,\"Agia Trias\",\"Load\",\"Richard's Bay\",\"2022-01-04T03:57:06\",9.835347222222222],[9271614,\"Dongyuan\",\"Load\",\"Richard's Bay\",\"2022-01-12T15:56:34\",1.3357175925925926],[9283681,\"Mineral Noble\",\"Load\",\"Richard's Bay\",\"2021-12-14T11:56:53\",30.502164351851853],[9406893,\"Semirio\",\"Load\",\"Richard's Bay\",\"2022-01-10T19:58:01\",3.1680439814814814],[9346756,\"Ventura\",\"Load\",\"Hay Point\",\"2022-01-13T23:58:25\",0.001099537037037037],[9363003,\"Smyrna\",\"Load\",\"Port Hedland\",\"2022-01-12T23:57:01\",1.0020717592592592],[9748112,\"Mineral Hiroshige\",\"Load\",\"Port Hedland\",\"2022-01-12T03:57:27\",1.8351041666666668],[9839026,\"NSU Young Star\",\"Load\",\"Port Hedland\",\"2022-01-12T11:57:53\",1.5014699074074076],[9862841,\"Peng May\",\"Load\",\"Port Hedland\",\"2022-01-10T15:58:10\",3.3346064814814813],[9363039,\"Sivota\",\"Load\",\"Puerto Bolivar\",\"2022-01-12T23:55:18\",1.003263888888889],[9374026,\"Xin Rui Ocean\",\"Discharge\",\"Kemen\",\"2022-01-08T11:48:59\",5.507650462962964],[9469558,\"Aquaprincess\",\"Discharge\",\"Kemen\",\"2022-01-12T17:58:05\",1.2513310185185185],[9374038,\"Cape Alliance\",\"Discharge\",\"Kwangyang\",\"2022-01-13T03:45:36\",0.8433333333333334],[9410167,\"Lan May\",\"Discharge\",\"Kwangyang\",\"2022-01-01T23:57:38\",12.00164351851852],[9425447,\"Cape Peony\",\"Discharge\",\"Kwangyang\",\"2022-01-10T07:51:35\",3.672511574074074],[9444247,\"Pan Freesia\",\"Discharge\",\"Kwangyang\",\"2022-01-08T07:37:49\",5.68207175925926],[9374040,\"Berge Kuju\",\"Discharge\",\"Tianjin\",\"2022-01-09T19:47:15\",4.175520833333334],[9379260,\"NSU Katsura\",\"Load\",\"Port Hedland\",\"2022-01-04T03:57:18\",9.835208333333334],[9700184,\"Solar Dolphin\",\"Load\",\"Port Hedland\",\"2022-01-11T23:57:31\",2.001724537037037],[9393216,\"Moonlight Dolphin\",\"Discharge\",\"Higashi-harima\",\"2022-01-10T07:54:03\",3.670798611111111],[9395202,\"Nian Feng Hai\",\"Discharge\",\"Caofeidian\",\"2022-01-11T19:53:51\",2.1709375],[9416848,\"Mineral Ningbo\",\"Discharge\",\"Caofeidian\",\"2022-01-11T11:40:19\",2.5136689814814814],[9481233,\"Navios Buena Ventura\",\"Discharge\",\"Caofeidian\",\"2022-01-01T11:50:19\",12.506724537037037],[9648908,\"Margret Oldendorff\",\"Discharge\",\"Caofeidian\",\"2022-01-13T03:59:53\",0.8334143518518519],[9715464,\"Herun Global\",\"Discharge\",\"Caofeidian\",\"2022-01-09T03:48:26\",4.84136574074074],[9398113,\"HL Frontier\",\"Load\",\"Port Hedland\",\"2022-01-07T03:57:30\",6.835069444444445],[9434369,\"Maran Guardian\",\"Load\",\"Port Hedland\",\"2022-01-11T15:58:31\",2.334363425925926],[9558177,\"Cape Crane\",\"Load\",\"Port Hedland\",\"2022-01-11T23:56:38\",2.002337962962963],[9398694,\"Citius\",\"Load\",\"Porto do Acu\",\"2022-01-05T23:56:53\",8.002164351851851],[9592446,\"Aanya\",\"Load\",\"Porto do Acu\",\"2022-01-05T23:52:04\",8.00550925925926],[9403528,\"Spartacus\",\"Load\",\"Saldanha Bay\",\"2022-01-14T03:52:45\",null],[9627837,\"Morandi\",\"Load\",\"Saldanha Bay\",\"2022-01-13T19:56:36\",0.1690277777777778],[9406520,\"Winning Zephyr\",\"Discharge\",\"Qingdao\",\"2021-12-29T03:59:44\",15.833518518518519],[9552276,\"Navios Phoenix\",\"Discharge\",\"Qingdao\",\"2022-01-11T11:51:03\",2.5062152777777778],[9587386,\"Star Borealis\",\"Discharge\",\"Qingdao\",\"2022-01-07T19:45:45\",6.1765625],[9226633,\"Sunny Conakry\",\"Discharge\",\"Qingdao\",\"2022-01-10T23:44:44\",3.010601851851852],[9483310,\"SG Express\",\"Discharge\",\"Qingdao\",\"2022-01-13T11:58:20\",0.5011574074074074],[9522087,\"Europe\",\"Discharge\",\"Qingdao\",\"2022-01-11T15:42:57\",2.345173611111111],[9589384,\"Pantariste\",\"Discharge\",\"Qingdao\",\"2021-12-27T19:57:49\",17.16818287037037],[9591363,\"RTM Columbus\",\"Discharge\",\"Qingdao\",\"2022-01-08T07:43:12\",5.678333333333334],[9408085,\"Shibumi\",\"Discharge\",\"Rotterdam\",\"2022-01-12T03:57:19\",1.8351967592592593],[9488009,\"Frontier Sky\",\"Discharge\",\"Rotterdam\",\"2022-01-06T15:56:47\",7.33556712962963],[9552422,\"Southern Harmony\",\"Discharge\",\"Rotterdam\",\"2022-01-07T15:55:32\",6.336435185185185],[9423970,\"Georgina Hope\",\"Load\",\"Lumut\",\"2022-01-07T15:56:37\",6.335682870370371],[9426415,\"Captain Petros H.\",\"Discharge\",\"Jingtang\",\"2022-01-12T23:45:43\",1.0099189814814815],[9536806,\"Taharoa Providence\",\"Discharge\",\"Jingtang\",\"2022-01-12T23:57:30\",1.0017361111111112],[9585106,\"Aquarange\",\"Discharge\",\"Jingtang\",\"2022-01-13T07:55:53\",0.669525462962963],[9860984,\"MP The Vrabel\",\"Discharge\",\"Jingtang\",\"2022-01-12T11:34:17\",1.5178587962962964],[9430038,\"Genco London\",\"Discharge\",\"Rizhao - Donggang\",\"2022-01-06T15:56:56\",7.335462962962963],[9469259,\"Baltic Bear\",\"Discharge\",\"Rizhao - Donggang\",\"2022-01-04T19:56:26\",9.169143518518519],[9546899,\"Cape Sun\",\"Discharge\",\"Rizhao - Donggang\",\"2022-01-07T03:40:17\",6.8470254629629625],[9713064,\"Hinrich Oldendorff\",\"Discharge\",\"Rizhao - Donggang\",\"2022-01-09T07:47:43\",4.67519675925926],[9436513,\"Berge Song Shan\",\"Discharge\",\"Oita\",\"2022-01-14T03:55:38\",null],[9595424,\"Shagang Haili\",\"Discharge\",\"Oita\",\"2022-01-08T15:56:50\",5.335532407407407],[9437696,\"Golden Shui\",\"Discharge\",\"Taean\",\"2022-01-02T15:58:46\",11.334189814814817],[9438781,\"Nymphe\",\"Load\",\"Baltimore\",\"2021-12-21T07:55:09\",23.670034722222226],[9439046,\"Benitamou\",\"Discharge\",\"Icdas\",\"2021-10-24T03:47:48\",81.84180555555555],[9443607,\"Golden Future\",\"Load\",\"Boffa\",\"2022-01-14T07:58:07\",null],[9910741,\"Shandong Mission\",\"Load\",\"Boffa\",\"2022-01-10T03:58:11\",3.8345949074074075],[9446582,\"Alpha Hope\",\"Discharge\",\"Ningbo\",\"2022-01-11T11:58:24\",2.5011111111111113],[9567099,\"SSI Brilliant\",\"Discharge\",\"Ningbo\",\"2022-01-10T07:52:58\",3.671550925925926],[9446611,\"Orange Tiger\",\"Load\",\"Dampier\",\"2022-01-09T23:57:29\",4.001747685185185],[9446635,\"Mount Dampier\",\"Discharge\",\"Xiamen\",\"2022-01-12T07:38:10\",1.6818287037037036],[9427316,\"Savina\",\"Discharge\",\"Xiamen\",\"2022-01-13T23:53:52\",0.0042592592592592595],[9448011,\"Berge Lyngor\",\"Discharge\",\"Ningbo\",\"2022-01-11T07:49:06\",2.674236111111111],[9501851,\"Giant Ace\",\"Discharge\",\"Ningbo\",\"2022-01-07T15:57:38\",6.334976851851851],[9451769,\"Vidyut\",\"Load\",\"Bunati\",\"2021-12-27T10:42:06\",17.55409722222222],[9454577,\"ESL Whale\",\"Discharge\",\"Bayuquan\",\"2021-12-11T11:42:26\",33.512199074074076],[9750933,\"Berge Toubkal\",\"Discharge\",\"Bayuquan\",\"2021-12-10T19:42:38\",34.17872685185185],[9461257,\"Minerva Providence\",\"Discharge\",\"Dangjin\",\"2022-01-13T03:54:31\",0.8371412037037037],[9748708,\"Pan Delight\",\"Discharge\",\"Dangjin\",\"2022-01-10T07:55:38\",3.669699074074074],[9462471,\"Edwin\",\"Discharge\",\"El-Dekheila\",\"2022-01-09T11:59:45\",4.500173611111111],[9468712,\"Pan Gold\",\"Discharge\",\"Rizhao - Lanshan\",\"2022-01-12T07:55:14\",1.6699768518518519],[9489302,\"Cape Alexandros\",\"Discharge\",\"Rizhao - Lanshan\",\"2022-01-11T11:46:22\",2.5094675925925927],[9747871,\"Alpha Gallant\",\"Discharge\",\"Rizhao - Lanshan\",\"2022-01-08T19:54:52\",5.170231481481482],[9871103,\"Heide Oldendorff\",\"Discharge\",\"Rizhao - Lanshan\",\"2022-01-10T15:57:03\",3.3353819444444444],[9325661,\"Ocean Confidence\",\"Discharge\",\"Rizhao - Lanshan\",\"2022-01-11T07:50:54\",2.6729861111111113],[9420588,\"Hebei Power\",\"Discharge\",\"Rizhao - Lanshan\",\"2022-01-10T23:59:42\",3.0002083333333336],[9423774,\"Alpha Faith\",\"Discharge\",\"Rizhao - Lanshan\",\"2022-01-13T19:59:33\",0.16697916666666668],[9447184,\"Coalmax\",\"Discharge\",\"Rizhao - Lanshan\",\"2022-01-14T03:49:48\",null],[9560388,\"Linda Fortune\",\"Discharge\",\"Rizhao - Lanshan\",\"2022-01-13T03:50:16\",0.8400925925925926],[9633214,\"New Delight\",\"Discharge\",\"Rizhao - Lanshan\",\"2022-01-13T23:55:52\",0.002870370370370371],[9702479,\"Golden Scape\",\"Discharge\",\"Rizhao - Lanshan\",\"2022-01-11T11:57:35\",2.5016782407407407],[9906025,\"Trust Shanghai\",\"Discharge\",\"Rizhao - Lanshan\",\"2022-01-13T11:57:13\",0.5019328703703704],[9468736,\"Pan Iris\",\"Discharge\",\"Samcheonpo\",\"2022-01-10T23:57:12\",3.0019444444444447],[9470923,\"Maran Happiness\",\"Load\",\"Abbot Point\",\"2022-01-13T15:51:49\",0.3390162037037037],[9469675,\"Aquadiva\",\"Load\",\"Abbot Point\",\"2022-01-05T23:57:14\",8.001921296296297],[9483293,\"SG Foundation\",\"Discharge\",\"Luhuashan\",\"2022-01-11T07:57:31\",2.668391203703704],[9487976,\"Frontier Harvest\",\"Load\",\"Sept-Iles\",\"2022-01-04T19:55:16\",9.169953703703703],[9492103,\"Amity\",\"Discharge\",\"Huanghua\",\"2022-01-07T19:47:47\",6.1751504629629625],[9587570,\"Mangas\",\"Discharge\",\"Huanghua\",\"2022-01-06T11:53:14\",7.504699074074074],[9612076,\"Samjohn Vision\",\"Discharge\",\"Huanghua\",\"2022-01-11T07:53:49\",2.670960648148148],[9675676,\"Lake Despina\",\"Discharge\",\"Huanghua\",\"2022-01-11T02:51:08\",2.8811574074074078],[9715490,\"Herun Zhoushan\",\"Discharge\",\"Huanghua\",\"2022-01-05T19:49:08\",8.174212962962963],[9493860,\"Quorn\",\"Discharge\",\"Mormugao\",\"2022-01-08T11:55:20\",5.5032407407407415],[9500742,\"Iron Miracle\",\"Load\",\"Port Hedland\",\"2022-01-06T23:55:44\",7.002962962962963],[9631333,\"Cape Splendor\",\"Load\",\"Port Hedland\",\"2022-01-13T11:57:42\",0.5015972222222222],[9638850,\"Dawn Horizon\",\"Load\",\"Port Hedland\",\"2022-01-05T15:55:34\",8.336412037037038],[9689706,\"Marigo P\",\"Load\",\"Port Hedland\",\"2022-01-12T15:58:16\",1.334537037037037],[9500754,\"Cape Peregrine\",\"Discharge\",\"Lazaro Cardenas\",\"2022-01-10T15:56:08\",3.3360185185185185],[9742209,\"Stella Hope\",\"Discharge\",\"Lazaro Cardenas\",\"2022-01-09T23:59:52\",4.000092592592592],[9501497,\"Aipos\",\"Load\",\"Roberts Bank\",\"2022-01-14T03:57:53\",null],[9589396,\"Blue Lhotse\",\"Load\",\"Roberts Bank\",\"2021-12-13T23:57:19\",31.001863425925926],[9141338,\"HL Richards Bay\",\"Load\",\"Roberts Bank\",\"2021-12-27T19:55:35\",17.169733796296295],[9502934,\"Youngheung\",\"Load\",\"Roberts Bank\",\"2021-12-23T07:59:18\",21.66715277777778],[9752199,\"Stella Tess\",\"Load\",\"Roberts Bank\",\"2022-01-08T11:58:01\",5.501377314814816],[9503201,\"Ocean Road\",\"Discharge\",\"Koper\",\"2022-01-12T19:57:56\",1.1681018518518518],[9507893,\"Knightship\",\"Discharge\",\"IJmuiden\",\"2022-01-10T23:57:46\",3.001550925925926],[9835898,\"Pacific Myra\",\"Discharge\",\"IJmuiden\",\"2022-01-06T19:59:29\",7.167025462962963],[9604976,\"Frontier Unity\",\"Discharge\",\"IJmuiden\",\"2021-10-27T07:56:49\",78.66887731481482],[9511454,\"Resilience\",\"Discharge\",\"Eren\",\"2022-01-02T19:52:34\",11.171828703703705],[9514509,\"Golden Horizon\",\"Discharge\",\"Dagang\",\"2022-01-13T07:57:12\",0.6686111111111112],[9516492,\"Heng Mao\",\"Discharge\",\"Taichung\",\"2022-01-04T07:55:53\",9.669525462962962],[9516521,\"Tian Fa Hai\",\"Discharge\",\"Kaohsiung\",\"2022-01-13T23:59:47\",0.00015046296296296297],[9702558,\"China Steel Endeavor\",\"Discharge\",\"Kaohsiung\",\"2022-01-14T07:57:39\",null],[9521409,\"Indian Partnership\",\"Load\",\"Sitrah\",\"2022-01-13T11:57:20\",0.5018518518518519],[9747962,\"Capricorn Sigma\",\"Discharge\",\"Sitrah\",\"2022-01-04T19:56:23\",9.169178240740742],[9753351,\"Star Europe\",\"Discharge\",\"Sitrah\",\"2022-01-14T07:56:53\",null],[9532094,\"Vega Dream\",\"Discharge\",\"Taicang\",\"2022-01-06T18:25:34\",7.232245370370371],[9536155,\"Aquahaha\",\"Discharge\",\"Ain Sukhna\",\"2021-12-29T19:56:15\",15.169270833333334],[9538751,\"Cape Jasmine\",\"Discharge\",\"Jaigarh\",\"2022-01-13T15:56:46\",0.3355787037037037],[9595606,\"Honor\",\"Discharge\",\"Jaigarh\",\"2022-01-09T23:58:03\",4.001354166666666],[9802097,\"Cape Oasis\",\"Discharge\",\"Jaigarh\",\"2022-01-13T19:55:26\",0.169837962962963],[9552159,\"Golden Crown\",\"Discharge\",\"Cigading\",\"2022-01-11T07:03:51\",2.7056597222222227],[9565326,\"Pacific Resource\",\"Load\",\"San Nicolas (Peru)\",\"2021-12-31T19:44:09\",13.17767361111111],[9567025,\"Mineral Hope\",\"Load\",\"Taboneo\",\"2022-01-06T23:51:39\",7.0057986111111115],[9579781,\"New Hydra\",\"Discharge\",\"Port Talbot\",\"2022-01-13T11:59:38\",0.5002546296296296],[9590826,\"Lowlands Sunrise\",\"Load\",\"Skardon River\",\"2021-12-28T23:52:35\",16.005150462962963],[9591739,\"Aquamarie\",\"Discharge\",\"Tianjin\",\"2022-01-07T11:56:42\",6.502291666666666],[9654799,\"Cape Europe\",\"Discharge\",\"Tianjin\",\"2022-01-03T15:43:13\",10.344988425925926],[9592434,\"China Prosperity\",\"Discharge\",\"Kisarazu\",\"2022-01-10T03:58:09\",3.8346180555555556],[9675664,\"NSU Obelisk\",\"Discharge\",\"Kisarazu\",\"2022-01-10T07:57:09\",3.668645833333333],[9600437,\"Ever Shine\",\"Discharge\",\"Majishan\",\"2022-01-13T03:59:29\",0.8336921296296296],[9730397,\"Johanna\",\"Discharge\",\"Majishan\",\"2022-01-13T15:57:28\",0.3350925925925926],[9743198,\"Golden Incus\",\"Discharge\",\"Majishan\",\"2022-01-12T03:47:19\",1.8421412037037037],[9603427,\"Clear Horizon\",\"Discharge\",\"Zhanjiang\",\"2022-01-11T15:56:07\",2.3360300925925928],[9604988,\"Pacific Treasure\",\"Discharge\",\"Lianyungang\",\"2022-01-11T15:58:53\",2.334108796296296],[9641900,\"Mount Logan\",\"Discharge\",\"Lianyungang\",\"2022-01-08T15:58:14\",5.334560185185185],[9723186,\"Red Sage\",\"Discharge\",\"Lianyungang\",\"2022-01-07T19:39:53\",6.180636574074074],[9434395,\"Maran Vigour\",\"Discharge\",\"Lianyungang\",\"2022-01-11T15:56:46\",2.3355787037037037],[9454163,\"Zampa Blue\",\"Discharge\",\"Lianyungang\",\"2022-01-07T19:56:35\",6.169039351851852],[9921623,\"Star Shibumi\",\"Discharge\",\"Lianyungang\",\"2022-01-04T03:56:30\",9.83576388888889],[9605487,\"Flag Thenia\",\"Load\",\"Cartier\",\"2022-01-08T11:57:24\",5.501805555555556],[9624469,\"Cape Eagle\",\"Discharge\",\"Karabiga\",\"2022-01-09T19:58:13\",4.1679050925925925],[9643506,\"Pacific Maru\",\"Discharge\",\"Tobata\",\"2022-01-10T03:54:14\",3.837337962962963],[9651072,\"Cape Green\",\"Discharge\",\"Fukuyama\",\"2022-01-11T03:56:35\",2.835706018518519],[9654804,\"Cape India\",\"Load\",\"Dampier\",\"2022-01-04T23:58:03\",9.001354166666667],[9736951,\"True Caspian\",\"Load\",\"Dampier\",\"2022-01-12T07:53:07\",1.6714467592592592],[9664873,\"Navios Joy\",\"Discharge\",\"Changshu\",\"2022-01-13T07:57:59\",0.6680671296296297],[9699634,\"Lydia Oldendorff\",\"Load\",\"Itaguai\",\"2022-01-04T23:51:34\",9.005856481481482],[9700823,\"Cape Hope\",\"Discharge\",\"Villanueva\",\"2022-01-12T11:50:21\",1.5067013888888892],[9718351,\"Helena Oldendorff\",\"Load\",\"Guaiba\",\"2021-12-23T03:58:41\",21.834247685185186],[9837327,\"Wang May\",\"Load\",\"Guaiba\",\"2021-12-25T11:56:55\",19.502141203703705],[9227388,\"Pitsa D\",\"Load\",\"Guaiba\",\"2022-01-04T19:59:05\",9.167303240740742],[9723150,\"Fpmc B Majesty\",\"Load\",\"Port Walcott\",\"2021-12-27T03:59:16\",17.833842592592593],[9736925,\"True Condor\",\"Discharge\",\"Port Kembla\",\"2022-01-11T19:58:20\",2.167824074074074],[9737826,\"China Steel Vision\",\"Load\",\"Port Walcott\",\"2021-12-28T11:55:41\",16.502997685185186],[9751119,\"Graceous\",\"Load\",\"Port Walcott\",\"2022-01-09T11:58:59\",4.500706018518518],[9737840,\"Mount Hermon\",\"Discharge\",\"Vung Ang\",\"2022-01-09T11:58:55\",4.5007523148148145],[9738131,\"Xin Li Hai\",\"Discharge\",\"Shanghai\",\"2022-01-09T07:47:41\",4.675219907407407],[9262730,\"Agios Charalambos\",\"Discharge\",\"Shanghai\",\"2022-01-11T15:50:53\",2.339664351851852],[9300594,\"Mount Nevis\",\"Discharge\",\"Shanghai\",\"2022-01-11T07:49:53\",2.6736921296296297],[9482677,\"Xin Jin Hai\",\"Discharge\",\"Shanghai\",\"2022-01-09T11:47:41\",4.508553240740741],[9518646,\"Pacific Spirit\",\"Discharge\",\"Shanghai\",\"2022-01-08T23:51:33\",5.005868055555555],[9566992,\"Bulk Genius\",\"Discharge\",\"Shanghai\",\"2022-01-09T03:47:34\",4.841967592592592],[9567063,\"Berge Townsend\",\"Discharge\",\"Shanghai\",\"2022-01-07T07:57:40\",6.668287037037037],[9702481,\"Golden Swift\",\"Discharge\",\"Shanghai\",\"2022-01-09T11:45:52\",4.509814814814815],[9721011,\"Maran Spirit\",\"Discharge\",\"Shanghai\",\"2022-01-11T07:48:15\",2.674826388888889],[9743277,\"Contamines\",\"Discharge\",\"Flushing\",\"2022-01-06T23:58:20\",7.001157407407407],[9756743,\"Navios Felix\",\"Discharge\",\"Gijon\",\"2022-01-06T11:55:14\",7.503310185185185],[9757917,\"KN Arcadia\",\"Discharge\",\"Mizushima\",\"2022-01-09T11:57:41\",4.5016087962962965],[9895630,\"Hui Ji Hai\",\"Discharge\",\"Mizushima\",\"2022-01-10T19:57:17\",3.168553240740741],[9759977,\"Ino Horizon\",\"Discharge\",\"Muroran\",\"2022-01-10T23:57:48\",3.001527777777778],[9760005,\"AOM Marta\",\"Discharge\",\"Jiangyin\",\"2022-01-07T08:48:53\",6.632719907407408],[9844605,\"Bulk Santiago\",\"Discharge\",\"Jiangyin\",\"2022-01-06T03:44:17\",7.844247685185185],[9834129,\"Ferrum Australis\",\"Discharge\",\"Qushan Island\",\"2022-01-10T19:57:06\",3.1686805555555555],[9835874,\"Pacific Anouk\",\"Load\",\"Murmansk\",\"2022-01-09T23:58:01\",4.001377314814815],[9839014,\"Bulk Peninsula\",\"Load\",\"Hay Point\",\"2022-01-07T23:52:18\",6.005347222222223],[9853711,\"Annabel L\",\"Load\",\"Sept-Iles\",\"2022-01-04T19:57:25\",9.168460648148148],[9692820,\"CIC Paola\",\"Load\",\"Sept-Iles\",\"2021-12-30T23:55:46\",14.002939814814814],[9790880,\"NSU Voyager\",\"Load\",\"Sept-Iles\",\"2022-01-11T19:58:07\",2.167974537037037],[9872092,\"Shandong De Guang\",\"Load\",\"Sept-Iles\",\"2022-01-09T23:59:15\",4.000520833333334],[9854533,\"CL Liuzhou\",\"Discharge\",\"Kandla\",\"2022-01-11T19:58:00\",2.1680555555555556],[9860568,\"Oceania Maru\",\"Discharge\",\"Kashima\",\"2022-01-10T23:56:15\",3.002604166666667],[9864112,\"MP The Vinatieri\",\"Discharge\",\"Dalian\",\"2021-12-31T11:51:43\",13.505752314814815],[9882463,\"HL Sapphire\",\"Discharge\",\"Taranto\",\"2022-01-14T10:46:05\",null],[9889291,\"Azul Costa\",\"Discharge\",\"Chiba\",\"2022-01-10T03:57:09\",3.8353125],[9123180,\"Bell\",\"Discharge\",\"Dhamra\",\"2022-01-07T03:45:44\",6.8432407407407405],[9165504,\"Lady Cedros\",\"Load\",\"Morro Redondo\",\"2022-01-04T23:56:38\",9.002337962962963],[9171618,\"Winning Joy\",\"Load\",\"Kamsar\",\"2022-01-12T03:45:31\",1.8433912037037037],[9406491,\"Crassier\",\"Load\",\"Kamsar\",\"2022-01-09T23:59:48\",4.0001388888888885],[9683269,\"KSL Sydney\",\"Load\",\"Kamsar\",\"2022-01-13T15:53:51\",0.33760416666666665],[9724867,\"Jolanda\",\"Load\",\"Kamsar\",\"2022-01-10T19:56:59\",3.168761574074074],[9198240,\"Sunny Boke\",\"Load\",\"Kamsar\",\"2022-01-14T22:51:38.796000\",null],[9860491,\"Cape Olympia\",\"Load\",\"Kamsar\",\"2022-01-13T03:57:52\",0.8348148148148148],[9220237,\"Samc Responsibility\",\"Discharge\",\"Qingdao\",\"2022-01-14T18:03:05.914000\",null],[9292565,\"Star Tianjin\",\"Discharge\",\"Qingdao\",\"2022-01-12T02:13:32.764000\",1.907259675925926],[9691929,\"Linda Oldendorff\",\"Discharge\",\"Qingdao\",\"2022-01-14T21:12:57.901000\",null],[9222742,\"Formosabulk Clement\",\"Load\",\"Kozmino\",\"2022-01-12T11:32:07\",1.5193634259259259],[9224740,\"Antwerp\",\"Discharge\",\"Fangcheng\",\"2022-01-12T03:24:14\",1.8581712962962964],[9304538,\"SJ Asia\",\"Discharge\",\"Fangcheng\",\"2022-01-10T15:31:25\",3.3531828703703703],[9332951,\"Maran Vision\",\"Discharge\",\"Fangcheng\",\"2022-01-11T03:43:08\",2.845046296296297],[9435076,\"Mineral Gent\",\"Discharge\",\"Fangcheng\",\"2022-01-09T03:47:19\",4.8421412037037035],[9455686,\"Monemvasia\",\"Discharge\",\"Fangcheng\",\"2022-01-13T19:56:08\",0.16935185185185186],[9492098,\"Xin Bin Hai\",\"Discharge\",\"Fangcheng\",\"2022-01-09T15:44:27\",4.344131944444444],[9516507,\"Zhong Xing Hai\",\"Discharge\",\"Fangcheng\",\"2022-01-07T15:52:18\",6.338680555555555],[9558218,\"Urja\",\"Discharge\",\"Fangcheng\",\"2022-01-11T23:48:15\",2.008159722222222],[9558294,\"Berge Nyangani\",\"Discharge\",\"Fangcheng\",\"2022-01-06T07:45:18\",7.676875],[9614921,\"Fortune Violet\",\"Discharge\",\"Fangcheng\",\"2022-01-08T19:56:37\",5.169016203703704],[9704099,\"Cape Success\",\"Discharge\",\"Fangcheng\",\"2022-01-07T07:43:43\",6.677974537037037],[9248459,\"Cougar\",\"Load\",\"Sept-Iles\",\"2022-01-14T23:46:28.218000\",null],[9599810,\"Berge Tsurugi\",\"Load\",\"Sept-Iles\",\"2022-01-13T15:55:44\",0.3362962962962963],[9250610,\"Winning Brother\",\"Discharge\",\"Longkou\",\"2022-01-11T15:01:03\",2.3742708333333336],[9255000,\"S Cape\",\"Load\",\"Takoradi\",\"2021-12-27T19:53:15\",17.171354166666667],[9258117,\"Ocean Leo\",\"Discharge\",\"Mailiao\",\"2022-01-13T03:54:11\",0.8373726851851852],[9260641,\"New Leonidas\",\"Discharge\",\"Mundra\",\"2022-01-13T07:51:49\",0.672349537037037],[9266944,\"Gloriuship\",\"Discharge\",\"Qushan Island\",\"2022-01-14T22:25:10.826000\",null],[9266956,\"Olympius\",\"Discharge\",\"Boryeong\",\"2022-01-13T10:40:30.136000\",0.5552067592592593],[9268473,\"Aigaion\",\"Load\",\"Kwangyang\",\"2022-01-14T23:41:16.063000\",null],[9268485,\"Cyclades\",\"Load\",\"Kwangyang\",\"2022-01-12T23:51:17\",1.0060532407407408],[9693563,\"HL Passion\",\"Discharge\",\"Kwangyang\",\"2022-01-12T07:47:07\",1.6756134259259259],[9743289,\"Comanche\",\"Load\",\"Kwangyang\",\"2022-01-14T20:29:33.862000\",null],[9278571,\"Ocean Queen\",\"Discharge\",\"Ningbo\",\"2022-01-11T11:50:56\",2.5062962962962962],[9472282,\"Rutland\",\"Discharge\",\"Ningbo\",\"2022-01-09T23:51:42\",4.005763888888889],[9518658,\"Pacific Success\",\"Discharge\",\"Ningbo\",\"2022-01-08T03:51:06\",5.83951388888889],[9531868,\"Cape Midori\",\"Discharge\",\"Ningbo\",\"2022-01-08T11:53:48\",5.504305555555557],[9604196,\"Pacific North\",\"Discharge\",\"Ningbo\",\"2022-01-12T07:46:58\",1.6757175925925927],[9631321,\"Cape Stars\",\"Discharge\",\"Ningbo\",\"2022-01-09T11:58:07\",4.50130787037037],[9632234,\"Imperator Australis\",\"Discharge\",\"Ningbo\",\"2022-01-13T07:45:17\",0.6768865740740742],[9747869,\"True Corsair\",\"Discharge\",\"Ningbo\",\"2022-01-13T03:45:11\",0.8436226851851852],[9802114,\"CSK Zephyr\",\"Discharge\",\"Ningbo\",\"2022-01-11T12:11:13.148000\",2.4922089351851855],[9906013,\"Trust Qingdao\",\"Discharge\",\"Ningbo\",\"2022-01-12T19:46:13\",1.176238425925926],[9920679,\"Ace Eternity\",\"Discharge\",\"Ningbo\",\"2022-01-12T11:49:40\",1.507175925925926],[9281906,\"Cape Acacia\",\"Discharge\",\"Pohang\",\"2022-01-13T15:58:11\",0.3345949074074074],[9454527,\"HL Port Hedland\",\"Discharge\",\"Pohang\",\"2022-01-08T11:56:18\",5.502569444444445],[9723904,\"SM Dragon\",\"Discharge\",\"Pohang\",\"2022-01-14T21:16:19.458000\",null],[9284271,\"Bulk Ara\",\"Load\",\"Itaguai\",\"2022-01-04T03:56:58\",9.835439814814816],[9363027,\"Tampa\",\"Load\",\"Itaguai\",\"2021-12-28T19:57:44\",16.168240740740742],[9428463,\"Maran Argonaut\",\"Load\",\"Itaguai\",\"2022-01-03T07:58:55\",10.66741898148148],[9446441,\"Patriotship\",\"Load\",\"Itaguai\",\"2022-01-08T19:57:57\",5.168090277777778],[9568017,\"Camellia Dream\",\"Load\",\"Itaguai\",\"2022-01-05T15:57:29\",8.335081018518519],[9569798,\"Solar Frontier\",\"Load\",\"Itaguai\",\"2021-12-19T19:55:36\",25.169722222222223],[9587245,\"Negonego\",\"Load\",\"Itaguai\",\"2022-01-12T23:53:43\",1.004363425925926],[9703239,\"Maran Venture\",\"Load\",\"Itaguai\",\"2022-01-08T19:42:34\",5.1787731481481485],[9884629,\"Hl Diamond\",\"Load\",\"Itaguai\",\"2021-12-31T11:55:49\",13.502905092592593],[9910789,\"Shandong Happiness\",\"Load\",\"Itaguai\",\"2021-12-25T15:47:48\",19.341805555555556],[9286798,\"Maran Innovation\",\"Discharge\",\"Bayuquan\",\"2021-12-26T03:39:06\",18.84784722222222],[9321158,\"Successor\",\"Discharge\",\"Bayuquan\",\"2021-12-20T15:45:35\",24.343344907407406],[9345764,\"Maran Sailor\",\"Discharge\",\"Bayuquan\",\"2021-12-26T03:54:16\",18.837314814814814],[9440332,\"Maran Virtue\",\"Discharge\",\"Bayuquan\",\"2022-01-07T23:55:47\",6.002928240740742],[9469637,\"MSXT Trinity\",\"Discharge\",\"Bayuquan\",\"2021-12-17T07:47:43\",27.675196759259258],[9490882,\"SM Newcastle\",\"Discharge\",\"Bayuquan\",\"2021-12-27T07:48:04\",17.674953703703704],[9520728,\"Shagangfirst Star\",\"Discharge\",\"Bayuquan\",\"2021-12-10T03:59:54\",34.83340277777778],[9558220,\"Cape Sampagita\",\"Discharge\",\"Bayuquan\",\"2021-12-27T19:34:14\",17.184560185185184],[9558713,\"Mineral Cloudbreak\",\"Discharge\",\"Bayuquan\",\"2021-12-27T19:42:19\",17.178946759259258],[9591351,\"RTM Drake\",\"Discharge\",\"Bayuquan\",\"2022-01-03T19:59:02\",10.167337962962963],[9675937,\"Berge Tai Shan\",\"Discharge\",\"Bayuquan\",\"2021-12-27T19:43:43\",17.177974537037038],[9790878,\"NSU Ultimate\",\"Discharge\",\"Bayuquan\",\"2021-12-18T23:57:31\",26.00172453703704],[9869514,\"Ferae Australis\",\"Discharge\",\"Bayuquan\",\"2021-12-16T19:51:27\",28.172604166666666],[9870563,\"NSU Ambitious\",\"Discharge\",\"Bayuquan\",\"2021-12-22T15:42:00\",22.345833333333335],[9880867,\"Atlantic Lion\",\"Discharge\",\"Bayuquan\",\"2022-01-07T19:59:44\",6.166851851851852],[9882437,\"Pan Epic\",\"Discharge\",\"Bayuquan\",\"2022-01-09T03:52:38\",4.838449074074074],[9290593,\"Bulk China\",\"Discharge\",\"Eren\",\"2022-01-14T22:26:55.219000\",null],[9301067,\"ASL Earth\",\"Load\",\"Pontianak\",\"2021-12-03T15:20:47\",41.36056712962963],[9347164,\"Grand Century\",\"Load\",\"Pontianak\",\"2021-12-10T23:21:36\",34.026666666666664],[9307073,\"Maple Power\",\"Discharge\",\"Rizhao - Donggang\",\"2022-01-12T11:55:55\",1.5028356481481484],[9435064,\"Mineral Brugge\",\"Discharge\",\"Rizhao - Donggang\",\"2022-01-14T15:09:25.901000\",null],[9447160,\"Cape Kallia\",\"Discharge\",\"Rizhao - Donggang\",\"2022-01-14T23:51:01.362000\",null],[9324112,\"Green Galaxy\",\"Discharge\",\"Taean\",\"2022-01-08T07:44:15\",5.677604166666668],[9330290,\"Xyg Fortune\",\"Load\",\"Lumut\",\"2022-01-08T23:58:17\",5.001192129629629],[9593464,\"Baltic Lion\",\"Load\",\"Lumut\",\"2022-01-14T13:44:08.557000\",null],[9332523,\"Maran Odyssey\",\"Load\",\"Port Hedland\",\"2022-01-13T19:57:20\",0.1685185185185185],[9468401,\"Sun Orchid\",\"Load\",\"Port Hedland\",\"2022-01-13T07:56:45\",0.6689236111111111],[9469986,\"Pacific Argosy\",\"Load\",\"Port Hedland\",\"2022-01-11T19:59:08\",2.1672685185185183],[9507532,\"Great Sui\",\"Load\",\"Port Hedland\",\"2022-01-13T19:56:22\",0.16918981481481485],[9512939,\"Mount Hedland\",\"Load\",\"Port Hedland\",\"2022-01-14T11:56:40\",null],[9603439,\"Cape Azalea\",\"Load\",\"Port Hedland\",\"2022-01-12T23:56:09\",1.0026736111111112],[9612959,\"Ever Ability\",\"Load\",\"Port Hedland\",\"2022-01-14T10:47:57\",null],[9648295,\"Maran Elegance\",\"Load\",\"Port Hedland\",\"2022-01-13T19:40:22\",0.18030092592592595],[9673812,\"China Steel Challenge\",\"Load\",\"Port Hedland\",\"2022-01-09T19:55:32\",4.169768518518518],[9683104,\"Pacific Assurance\",\"Load\",\"Port Hedland\",\"2022-01-13T07:56:47\",0.668900462962963],[9691955,\"Ludolf Oldendorff\",\"Load\",\"Port Hedland\",\"2022-01-07T23:56:38\",6.002337962962963],[9701334,\"Golden Aso\",\"Load\",\"Port Hedland\",\"2022-01-12T19:58:54\",1.1674305555555555],[9713052,\"Henriette Oldendorff\",\"Load\",\"Port Hedland\",\"2022-01-13T03:58:07\",0.8346412037037036],[9723899,\"SM Lion\",\"Load\",\"Port Hedland\",\"2022-01-12T07:54:25\",1.6705439814814815],[9853888,\"Cssc Cape Town\",\"Load\",\"Port Hedland\",\"2022-01-11T07:59:42\",2.666875],[9870355,\"Hagen Oldendorff\",\"Load\",\"Port Hedland\",\"2022-01-13T19:57:38\",0.16831018518518517],[9919204,\"Alpha Trophy\",\"Load\",\"Port Hedland\",\"2022-01-14T11:57:02\",null],[9337169,\"Sikamia\",\"Load\",\"Gladstone\",\"2021-12-16T23:59:15\",28.000520833333333],[9385415,\"Cape Progress\",\"Load\",\"Gladstone\",\"2022-01-05T23:55:47\",8.00292824074074],[9435648,\"Golden Feng\",\"Load\",\"Gladstone\",\"2022-01-03T03:56:08\",10.83601851851852],[9449376,\"Lavender\",\"Load\",\"Gladstone\",\"2022-01-05T11:55:41\",8.502997685185186],[9486726,\"Star Ophelia\",\"Load\",\"Gladstone\",\"2022-01-12T11:57:35\",1.501678240740741],[9518921,\"Cape Venture\",\"Load\",\"Gladstone\",\"2022-01-12T03:56:48\",1.8355555555555556],[9713454,\"NSU Quest\",\"Load\",\"Gladstone\",\"2021-12-22T23:56:27\",22.00246527777778],[9346342,\"Star Venture\",\"Discharge\",\"Dongjiangkou\",\"2022-01-06T20:38:21\",7.1400347222222225],[9638044,\"Magdalena Oldendorff\",\"Discharge\",\"Dongjiangkou\",\"2022-01-12T07:49:49\",1.673738425925926],[9756248,\"Star Laetitia\",\"Discharge\",\"Dongjiangkou\",\"2022-01-11T07:52:15\",2.6720486111111112],[9361251,\"Genco Constantine\",\"Load\",\"Vanino\",\"2022-01-09T07:59:42\",4.666875],[9374052,\"Samc MG\",\"Load\",\"Itaguai\",\"2022-01-05T07:57:20\",8.66851851851852],[9469924,\"Transworld Navigator\",\"Load\",\"Itaguai\",\"2022-01-12T15:54:49\",1.3369328703703705],[9378319,\"China Progress\",\"Load\",\"Dampier\",\"2022-01-13T03:56:35\",0.8357060185185186],[9451276,\"Navios Melodia\",\"Load\",\"Dampier\",\"2022-01-09T03:58:01\",4.834710648148148],[9482940,\"Aquasurfer\",\"Load\",\"Dampier\",\"2022-01-12T07:58:09\",1.6679513888888888],[9516519,\"Yuan Wang Hai\",\"Load\",\"Dampier\",\"2022-01-13T19:57:44\",0.16824074074074075],[9568914,\"Pacific Vista\",\"Load\",\"Dampier\",\"2022-01-13T15:56:03\",0.3360763888888889],[9641895,\"Kinokawa Maru\",\"Load\",\"Dampier\",\"2022-01-11T11:55:56\",2.502824074074074],[9767510,\"Cape Kestrel\",\"Load\",\"Dampier\",\"2022-01-12T19:57:37\",1.1683217592592592],[9849241,\"China Steel Prd\",\"Load\",\"Dampier\",\"2022-01-05T23:52:16\",8.00537037037037],[9398163,\"Cape Odyssey\",\"Discharge\",\"Samcheonpo\",\"2022-01-10T03:47:37\",3.8419328703703703],[9509499,\"Pan Champion\",\"Discharge\",\"Samcheonpo\",\"2022-01-13T19:47:34\",0.17530092592592594],[9409144,\"Cape Celtic\",\"Load\",\"Cartier\",\"2021-12-21T23:57:23\",23.001817129629632],[9468748,\"Pan Joy\",\"Load\",\"Cartier\",\"2021-12-22T07:55:20\",22.66990740740741],[9410155,\"Bao May\",\"Discharge\",\"Rizhao - Lanshan\",\"2022-01-14T20:58:29.871000\",null],[9410480,\"Haralambos\",\"Load\",\"Port Walcott\",\"2022-01-14T03:54:47\",null],[9426427,\"Aquafortune\",\"Load\",\"Port Walcott\",\"2022-01-12T07:56:11\",1.6693171296296296],[9532082,\"Frontier Kotobuki\",\"Load\",\"Port Walcott\",\"2022-01-12T19:58:59\",1.167372685185185],[9587350,\"Rosebank\",\"Load\",\"Port Walcott\",\"2022-01-14T07:54:12\",null],[9696096,\"Ioannis\",\"Load\",\"Port Walcott\",\"2022-01-07T15:52:03\",6.338854166666667],[9729219,\"Cape Owl\",\"Load\",\"Port Walcott\",\"2022-01-13T03:46:36\",0.8426388888888889],[9747883,\"True Captain\",\"Load\",\"Port Walcott\",\"2022-01-10T23:54:09\",3.0040625000000003],[9915583,\"Kauri\",\"Load\",\"Port Walcott\",\"2022-01-07T19:55:00\",6.170138888888889],[9420564,\"Hebei No.1\",\"Load\",\"Jiangyin\",\"2021-12-31T15:55:20\",13.336574074074074],[9422081,\"Genco Maximus\",\"Load\",\"Jiangyin\",\"2022-01-10T07:50:36\",3.6731944444444444],[9547910,\"Yue Shan\",\"Discharge\",\"Jiangyin\",\"2022-01-12T17:58:21.464000\",1.251140462962963],[9698989,\"Ormond\",\"Load\",\"Jiangyin\",\"2022-01-13T07:53:49\",0.6709606481481482],[9718222,\"Genco Liberty\",\"Load\",\"Jiangyin\",\"2022-01-11T19:51:46\",2.172384259259259],[9434412,\"Maran Harmony\",\"Load\",\"Norfolk\",\"2021-11-13T11:57:02\",61.50206018518519],[9434448,\"Mineral Destelbergen\",\"Discharge\",\"Mailiao\",\"2022-01-14T03:53:00\",null],[9435052,\"Mineral Temse\",\"Discharge\",\"Kandla\",\"2022-01-12T19:42:48\",1.178611111111111],[9701346,\"Golden Finsbury\",\"Discharge\",\"Kandla\",\"2022-01-13T19:58:02\",0.1680324074074074],[9438470,\"Hebei Legend\",\"Discharge\",\"Zhanjiang\",\"2022-01-13T07:58:20\",0.6678240740740741],[9439591,\"Hebei Challenger\",\"Discharge\",\"Zhanjiang\",\"2022-01-14T03:54:38\",null],[9439034,\"HL Imabari\",\"Load\",\"Port Hedland\",\"2022-01-13T23:59:42\",0.00020833333333333335],[9493755,\"Mount Apo\",\"Load\",\"Port Hedland\",\"2022-01-14T14:22:21.768000\",null],[9750830,\"True Courage\",\"Load\",\"Port Hedland\",\"2022-01-12T07:57:03\",1.6687152777777778],[9759965,\"Pacific Grace\",\"Load\",\"Port Hedland\",\"2022-01-14T14:26:10.262000\",null],[9844576,\"CL Yellow River\",\"Load\",\"Port Hedland\",\"2022-01-14T21:08:07.545000\",null],[9847061,\"Sheng May\",\"Load\",\"Port Hedland\",\"2022-01-14T03:57:56\",null],[9860972,\"MP The Bruschi\",\"Load\",\"Port Hedland\",\"2022-01-13T19:52:33\",0.1718402777777778],[9443592,\"Belgravia\",\"Discharge\",\"Hosan\",\"2022-01-10T11:55:57\",3.5028125],[9443619,\"Golden Zhejiang\",\"Discharge\",\"Youngheung\",\"2022-01-14T10:58:37.088000\",null],[9484792,\"Scarlett\",\"Discharge\",\"Youngheung\",\"2022-01-11T09:59:05.918000\",2.583959282407408],[9446099,\"PSU Cmp\",\"Load\",\"Caldera (Chile)\",\"2022-01-13T15:57:26\",0.33511574074074074],[9446465,\"Aqua Bonanza\",\"Load\",\"Porto do Acu\",\"2022-01-07T15:55:08\",6.336712962962963],[9460655,\"Cape Proteus\",\"Load\",\"Porto do Acu\",\"2022-01-13T19:57:50\",0.1681712962962963],[9446568,\"Frontier Mirage\",\"Discharge\",\"Kisarazu\",\"2022-01-12T11:55:30\",1.5031250000000003],[9590890,\"Frontier Garland\",\"Discharge\",\"Kisarazu\",\"2022-01-10T07:57:15\",3.668576388888889],[9446594,\"Cape Jacaranda\",\"Discharge\",\"Higashi-harima\",\"2022-01-14T07:54:06\",null],[9446908,\"Cape Sandra\",\"Discharge\",\"Busan\",\"2022-01-12T07:53:25\",1.6712384259259259],[9448554,\"Golden Zhoushan\",\"Load\",\"North Pulau Laut\",\"2022-01-11T15:51:55\",2.3389467592592594],[9702546,\"Leviathan\",\"Load\",\"North Pulau Laut\",\"2021-12-30T11:54:00\",14.504166666666666],[9453743,\"Aquaenna\",\"Load\",\"Nouadhibou\",\"2022-01-02T11:53:51\",11.504270833333335],[9479216,\"Freedom\",\"Load\",\"Nouadhibou\",\"2022-01-02T23:59:38\",11.00025462962963],[9490600,\"Great Perseus\",\"Load\",\"Nouadhibou\",\"2021-12-25T03:57:20\",19.835185185185185],[9454333,\"F.sun\",\"Load\",\"Newcastle\",\"2022-01-08T19:59:50\",5.166782407407408],[9456692,\"Navios Ray\",\"Load\",\"San Nicolas (Peru)\",\"2021-12-31T03:55:31\",13.836446759259259],[9538749,\"Cape Aster\",\"Load\",\"San Nicolas (Peru)\",\"2022-01-08T15:51:54\",5.338958333333333],[9552408,\"Coronet\",\"Load\",\"San Nicolas (Peru)\",\"2022-01-08T19:33:25\",5.185127314814815],[9603362,\"Cape Eternity\",\"Load\",\"San Nicolas (Peru)\",\"2022-01-14T07:52:03\",null],[9623570,\"William Oldendorff\",\"Load\",\"San Nicolas (Peru)\",\"2022-01-10T07:49:00\",3.6743055555555557],[9743291,\"Chow\",\"Load\",\"San Nicolas (Peru)\",\"2022-01-09T23:58:11\",4.001261574074074],[9461300,\"Sunny Star\",\"Discharge\",\"Yantai\",\"2022-01-13T11:49:58\",0.5069675925925926],[9469546,\"Aquamarine\",\"Load\",\"Yantai\",\"2022-01-11T23:44:20\",2.01087962962963],[9462811,\"Alpha Dignity\",\"Discharge\",\"Dalian\",\"2022-01-10T15:58:06\",3.334652777777778],[9488853,\"Sealink\",\"Discharge\",\"Dalian\",\"2022-01-11T11:49:40\",2.507175925925926],[9463322,\"Cape Dream\",\"Discharge\",\"Tianjin\",\"2022-01-10T03:51:12\",3.8394444444444447],[9603910,\"MSXT Capella\",\"Discharge\",\"Tianjin\",\"2022-01-12T15:49:29\",1.340636574074074],[9612064,\"Samjohn Dream\",\"Discharge\",\"Tianjin\",\"2022-01-06T03:42:51\",7.845243055555556],[9678800,\"Mathilde Oldendorff\",\"Discharge\",\"Tianjin\",\"2022-01-10T19:56:19\",3.169224537037037],[9715488,\"Herun Zhejiang\",\"Discharge\",\"Tianjin\",\"2022-01-13T15:55:54\",0.33618055555555554],[9718387,\"Hans Oldendorff\",\"Discharge\",\"Tianjin\",\"2022-01-14T07:56:13\",null],[9465215,\"United Adventure\",\"Load\",\"Point Lisas\",\"2022-01-08T15:57:15\",5.335243055555556],[9469015,\"Bulk Spain\",\"Load\",\"Hay Point\",\"2021-12-28T11:51:26\",16.505949074074074],[9560390,\"Cape Condor\",\"Load\",\"Hay Point\",\"2021-12-13T07:57:11\",31.668622685185184],[9563689,\"Cape Iris\",\"Load\",\"Hay Point\",\"2022-01-13T15:56:24\",0.3358333333333333],[9589401,\"Cape Legacy\",\"Load\",\"Hay Point\",\"2022-01-14T03:53:00\",null],[9683257,\"KSL Sapporo\",\"Load\",\"Hay Point\",\"2021-12-17T15:55:42\",27.336319444444445],[9827372,\"Santa Isabel\",\"Load\",\"Hay Point\",\"2022-01-04T23:57:44\",9.001574074074075],[9469857,\"Kanaris\",\"Load\",\"Nacala\",\"2022-01-06T07:51:51\",7.672326388888889],[9482251,\"Frontier Neige\",\"Load\",\"Nacala\",\"2022-01-12T07:55:53\",1.669525462962963],[9473353,\"Kiran Turkiye\",\"Load\",\"Whyalla\",\"2021-12-31T07:55:19\",13.669918981481482],[9479888,\"Alpha Grace\",\"Load\",\"Ponta Da Madeira\",\"2022-01-12T19:57:40\",1.168287037037037],[9479905,\"Cape Violet\",\"Discharge\",\"Mormugao\",\"2022-01-04T03:56:42\",9.835625],[9480526,\"Andama\",\"Discharge\",\"Kemen\",\"2022-01-14T20:41:31.479000\",null],[9481245,\"Navios Aurora II\",\"Load\",\"Puerto Bolivar\",\"2022-01-14T13:29:13.494000\",null],[9482524,\"Cape Victory\",\"Discharge\",\"Caofeidian\",\"2022-01-13T11:58:41\",0.5009143518518518],[9718375,\"Hermine Oldendorff\",\"Discharge\",\"Caofeidian\",\"2022-01-12T11:47:22\",1.5087731481481483],[9869526,\"Fidum Australis\",\"Discharge\",\"Caofeidian\",\"2022-01-13T15:46:04\",0.3430092592592593],[9490595,\"Global Enterprise\",\"Discharge\",\"Pyeongtaek\",\"2022-01-12T03:54:13\",1.837349537037037],[9492359,\"Casta Diva\",\"Discharge\",\"Lushun New Pt\",\"2022-01-10T23:52:40\",3.005092592592593],[9495416,\"K. Confidence\",\"Load\",\"Narvik\",\"2022-01-14T10:47:29\",null],[9498327,\"Heng Long\",\"Discharge\",\"Dandong\",\"2021-12-21T23:34:31\",23.017696759259263],[9513816,\"Shirara\",\"Discharge\",\"Dandong\",\"2022-01-01T11:57:36\",12.501666666666667],[9507544,\"Star Bueno\",\"Discharge\",\"Misurata\",\"2022-01-13T19:57:32\",0.16837962962962963],[9510515,\"Pan Acacia\",\"Discharge\",\"Lianyungang\",\"2022-01-05T11:46:31\",8.509363425925926],[9526667,\"Great Qin\",\"Discharge\",\"Lianyungang\",\"2022-01-12T11:53:26\",1.5045601851851853],[9617519,\"Thalassini Astrid\",\"Discharge\",\"Lianyungang\",\"2022-01-08T03:53:36\",5.837777777777778],[9639529,\"Marini\",\"Discharge\",\"Lianyungang\",\"2022-01-10T15:49:03\",3.3409375],[9783318,\"Fomento Three\",\"Discharge\",\"Lianyungang\",\"2022-01-08T07:51:25\",5.672627314814815],[9514224,\"Flagship\",\"Discharge\",\"Fukuyama\",\"2022-01-12T03:45:29\",1.8434143518518518],[9801213,\"CSK United\",\"Discharge\",\"Fukuyama\",\"2022-01-14T03:57:58\",null],[9519767,\"Mineral New York\",\"Discharge\",\"Jaigarh\",\"2022-01-14T23:28:42.802000\",null],[9524035,\"Tsukuba Maru\",\"Discharge\",\"Nagoya\",\"2022-01-12T07:56:16\",1.6692592592592592],[9531844,\"Global Commander\",\"Discharge\",\"Tobata\",\"2022-01-05T07:55:09\",8.670034722222223],[9750816,\"New Future\",\"Discharge\",\"Tobata\",\"2022-01-11T20:57:58.389000\",2.1264075347222224],[9537848,\"Aquatonka\",\"Load\",\"Tubarao\",\"2022-01-13T19:59:35\",0.16695601851851852],[9596325,\"Wisdom Of The Sea 1\",\"Discharge\",\"Tubarao\",\"2021-12-31T15:58:38\",13.334282407407407],[9735165,\"Maharaj\",\"Load\",\"Tubarao\",\"2022-01-07T11:57:06\",6.5020138888888885],[9545168,\"Cape Miron\",\"Load\",\"Vancouver (CA)\",\"2022-01-06T07:57:57\",7.668090277777778],[9724635,\"Conquistador\",\"Load\",\"Vancouver (CA)\",\"2021-12-28T19:55:59\",16.169456018518517],[9847243,\"Nightsky\",\"Load\",\"Vancouver (CA)\",\"2022-01-14T07:57:50\",null],[9552434,\"Kashima Maru\",\"Discharge\",\"Muroran\",\"2022-01-09T22:05:10\",4.079745370370371],[9566966,\"Bulk Integrity\",\"Load\",\"Dampier\",\"2022-01-14T22:32:15.401000\",null],[9573115,\"Beks Leo\",\"Load\",\"Whyalla\",\"2022-01-06T15:56:54\",7.335486111111111],[9576337,\"Berge Dhaulagiri\",\"Discharge\",\"Mokpo\",\"2022-01-11T02:14:05.024000\",2.9068862962962965],[9584607,\"Amorito\",\"Discharge\",\"Jingtang\",\"2022-01-14T14:38:13.479000\",null],[9588495,\"Philadelphia\",\"Discharge\",\"Luhuashan\",\"2022-01-13T19:57:41\",0.16827546296296297],[9597185,\"Edward N\",\"Discharge\",\"Huanghua\",\"2022-01-14T21:05:20.962000\",null],[9612961,\"Ever Beauty\",\"Discharge\",\"Dagang\",\"2022-01-11T03:54:44\",2.836990740740741],[9614880,\"Navios Obeliks\",\"Discharge\",\"Praia Mole\",\"2022-01-14T17:23:16.776000\",null],[9633226,\"Cape Armeria\",\"Discharge\",\"Khalifa Port\",\"2021-12-28T15:58:50\",16.33414351851852],[9638056,\"May Oldendorff\",\"Load\",\"Tanjung Bara\",\"2022-01-08T09:41:43\",5.596030092592593],[9673848,\"China Steel Sustainability\",\"Discharge\",\"Taichung\",\"2022-01-10T15:59:32\",3.3336574074074075],[9675951,\"Santa Barbara\",\"Load\",\"Cartier\",\"2022-01-06T11:57:30\",7.501736111111111],[9682954,\"Berge Kosciuszko\",\"Discharge\",\"Isdemir\",\"2022-01-07T11:59:38\",6.500254629629629],[9702584,\"Gortynia\",\"Discharge\",\"Vung Ang\",\"2022-01-14T10:35:53.409000\",null],[9702687,\"Maran Hero\",\"Discharge\",\"Mizushima\",\"2022-01-12T07:57:44\",1.6682407407407407],[9705134,\"Courageous\",\"Load\",\"Paradip\",\"2022-01-13T23:58:09\",0.0012847222222222223],[9721683,\"Oregon\",\"Discharge\",\"Bayuquan\",\"2022-01-14T14:43:35.336000\",null],[9874715,\"Cs Wu Han\",\"Discharge\",\"Bayuquan\",\"2022-01-03T00:30:48\",10.978611111111112],[9723526,\"Golden Surabaya\",\"Discharge\",\"Uncertain\",\"2022-01-04T07:55:41\",9.669664351851852],[9729166,\"Maran Unity\",\"Discharge\",\"Chiba\",\"2022-01-14T07:57:57\",null],[9731432,\"Star Virgo\",\"Load\",\"Guaiba\",\"2021-12-30T19:55:35\",14.169733796296295],[9737838,\"Fortune\",\"Discharge\",\"Algeciras\",\"2022-01-13T11:58:11\",0.5012615740740741],[9738856,\"NSU Responsibility\",\"Discharge\",\"Hirohata\",\"2022-01-14T12:31:29.041000\",null],[9743150,\"Golden Nimbus\",\"Discharge\",\"Zhangjiagang\",\"2022-01-13T03:52:07\",0.8388078703703704],[9750921,\"Berge Grossglockner\",\"Discharge\",\"Icdas\",\"2022-01-07T23:53:20\",6.004629629629631],[9767508,\"Jubilant Dream\",\"Load\",\"Uncertain\",\"2021-12-12T02:51:20\",32.881018518518516],[9770581,\"Shinzan Maru\",\"Load\",\"Port Walcott\",\"2021-12-26T19:55:18\",18.169930555555556],[9832987,\"China Steel Harmony\",\"Load\",\"Port Walcott\",\"2022-01-14T20:45:55.471000\",null],[9851804,\"Golden Comfort\",\"Load\",\"Port Walcott\",\"2022-01-14T15:38:33.850000\",null],[9774379,\"NSU Sirius\",\"Discharge\",\"Kashima\",\"2022-01-14T22:27:58.845000\",null],[9782297,\"NSU Trust\",\"Discharge\",\"Kashima\",\"2022-01-14T17:53:50.894000\",null],[9816555,\"CSK Enterprise\",\"Discharge\",\"Oita\",\"2022-01-14T03:57:09\",null],[9837315,\"Xin May\",\"Discharge\",\"Gangavaram\",\"2022-01-14T13:12:01.396000\",null],[9839868,\"Maran Splendour\",\"Discharge\",\"Chiba\",\"2022-01-14T18:36:34.358000\",null],[9847085,\"Long May\",\"Load\",\"Itaqui\",\"2022-01-08T11:56:15\",5.502604166666667],[9851816,\"Golden Courage\",\"Load\",\"Freetown\",\"2022-01-06T03:50:47\",7.839733796296296],[9853905,\"CSSC Rotterdam\",\"Discharge\",\"Salaya\",\"2022-01-14T03:55:47\",null],[9856490,\"Golden Competence\",\"Load\",\"Narvik\",\"2022-01-10T23:59:44\",3.0001851851851855],[9862827,\"An May\",\"Discharge\",\"Majishan\",\"2022-01-14T18:31:01.577000\",null],[9863106,\"Zella Oldendorff\",\"Discharge\",\"Taicang\",\"2022-01-14T02:05:29.743000\",null],[9874909,\"New Promise\",\"Load\",\"Ponta Do Ubu\",\"2022-01-13T15:52:49\",0.3383217592592593],[9883821,\"Azul Harmony\",\"Load\",\"Abbot Point\",\"2022-01-14T21:13:01.194000\",null],[9902689,\"Hui Xiu Hai\",\"Discharge\",\"Dalian\",\"2022-01-11T03:57:52\",2.8348148148148153]],\"hovertemplate\":\"IMO: %{customdata[0]} <br>Vessel Name: %{customdata[1]} <br>Purpose: %{customdata[2]} <br>Port: %{customdata[3]} <br>Arrival Date: %{customdata[4]} <br>Days at port: %{customdata[5]:.1f}\",\"lat\":[11.0724,11.072,36.3894,37.2422,37.2423,22.7546,22.7515,37.7173,37.7208,37.7243,37.832,37.9407,-2.4832,-2.4576,35.5886,35.5861,35.5863,21.1644,21.1645,-2.5607,-2.5637,-28.8139,-28.8166,37.0665,37.0679,25.9806,31.9687,31.9571,32.0282,32.0282,31.9687,31.9902,23.7926,23.7882,29.9367,37.6452,37.6477,35.4027,21.6072,21.5508,21.5508,21.5507,21.5574,21.3524,-28.792,-28.792,-28.792,-28.9246,-28.9845,-28.9629,-28.9917,-28.9528,-21.2484,-20.3286,-20.3305,-20.3303,-20.3279,12.2569,26.3838,26.3935,34.9041,34.9048,34.896,34.9032,38.9666,-20.3271,-20.3296,34.7118,38.9142,38.9945,39.0051,38.9144,38.9152,-20.3197,-20.321,-20.327,-21.8083,-21.8085,-33.0286,-33.0293,36.0287,36.0287,36.0285,35.8266,35.8037,35.8104,35.7788,35.7123,51.937,51.9656,51.967,4.1578,39.2407,39.239,39.2427,39.2118,35.3557,35.3558,35.3557,35.3555,33.2721,33.269,36.9163,39.2218,40.4072,9.7031,9.8109,29.7303,29.7303,-20.649,24.4483,24.229,29.8933,30.026,-3.9883,40.2918,40.2918,36.9976,36.9956,31.1392,35.1138,35.0889,35.0861,35.0888,35.1736,35.2445,35.2995,35.2582,35.2699,35.1541,35.2842,35.2652,34.9061,-19.8583,-19.7238,30.8064,50.1889,38.3663,38.3679,38.3472,38.3663,38.368,15.4138,-20.3098,-20.3238,-20.3129,-20.3238,17.9485,17.9292,49.0106,49.0152,48.7212,48.7323,48.4034,45.565,52.4688,52.4715,52.4509,41.5285,32.1941,24.2272,22.5402,22.5387,26.1902,26.7608,26.7657,31.6822,29.6557,17.3061,17.3042,17.2964,-5.9967,-15.2517,-3.7794,51.5736,-11.7541,38.9518,38.9511,35.3671,35.3659,30.6691,30.4102,30.4273,21.0735,34.7488,34.7499,34.7498,34.9015,34.9061,34.9316,50.0321,40.4229,33.923,34.4496,-20.637,-20.6378,31.8299,-22.9373,8.5787,-23.0132,-23.0125,-23.0166,-20.5786,-34.4589,-20.5851,-20.5844,18.0527,31.4761,31.2128,31.2289,31.3019,31.2657,31.1963,31.5434,31.2244,31.303,51.4459,43.5664,34.4863,34.4918,42.344,31.9275,31.9305,30.43,68.9825,-21.2666,50.1682,50.1911,50.2011,50.1836,22.8879,35.9232,38.9515,40.4754,35.5825,20.8197,28.0653,10.4082,10.3755,10.3573,10.3401,10.6412,10.6412,36.0409,36.0409,36.0409,42.7516,21.6072,21.6072,21.6072,21.6072,21.6072,21.6072,21.6072,21.6072,21.6072,21.6072,21.6072,50.196,50.196,37.6567,4.9449,23.7914,22.7097,30.4854,36.3998,34.8932,34.8932,34.8932,34.8932,29.9282,29.9282,29.9282,29.9282,29.9282,29.9282,29.9282,29.9282,29.9282,29.9282,29.9282,36.0167,36.0167,36.0167,-22.9679,-23.1372,-23.1688,-23.2248,-23.1955,-23.2203,-23.2374,-23.2162,-23.2334,-23.1953,40.0749,40.1697,40.0209,39.9839,39.9814,40.1387,40.0302,40.1394,40.0721,39.9724,40.0072,40.1459,40.056,40.144,40.0498,40.1419,41.5256,-0.7088,-0.7363,35.372,35.372,35.372,36.9167,4.258,4.258,-20.0712,-20.1235,-20.1053,-20.072,-20.0843,-19.9,-20.0989,-19.8727,-20.0792,-20.0877,-20.0711,-20.1244,-20.102,-20.119,-19.8504,-19.8874,-20.0691,-23.7984,-23.8354,-23.8194,-23.8334,-23.831,-23.7616,-23.8013,35.5714,35.5714,35.5714,49.0892,-22.9357,-22.9357,-20.3855,-20.3568,-20.3811,-20.3608,-20.3653,-20.3575,-20.3586,-20.3839,34.1352,33.9947,50.0159,50.0044,35.0961,-20.5418,-20.5351,-20.5403,-20.5462,-20.542,-20.5028,-20.5469,-20.5544,31.9621,31.9621,31.9621,31.9621,31.9621,37.2402,23.7871,22.7443,22.7233,20.9507,20.9722,-20.3173,-20.3173,-20.3173,-20.3173,-20.3173,-20.3173,-20.3173,37.1818,37.2455,37.2455,-27.0425,-21.7751,-21.7584,35.4304,35.4405,34.659,35.0979,-3.2006,-3.2397,20.7334,20.7226,20.7455,-32.9056,-15.219,-15.23,-15.22,-15.2376,-15.2289,-15.215,37.6414,37.6414,38.8823,38.883,38.8112,38.7682,38.8247,38.7996,38.8143,38.8271,10.3579,-21.1932,-21.1803,-21.2635,-21.1864,-21.1795,-21.2654,-14.3801,-14.3764,-33.3776,-2.5667,15.4065,26.3825,12.2534,38.9006,38.856,38.8672,37.0685,39.2083,68.4716,39.8176,39.8176,32.3656,34.753,34.753,34.753,34.753,34.753,34.4521,34.4521,17.3049,34.8663,33.9167,33.9167,-20.3858,-20.3222,-20.3671,48.3472,49.1948,49.307,42.3582,-20.4502,-33.0333,34.7745,39.1995,30.8167,38.3252,32.1887,-20.2923,24.8186,0.5526,24.2375,50.0315,36.7167,18.0507,34.5694,20.2076,40.2722,40.2722,32.8665,35.5316,-23.0121,36.14,34.7574,31.9797,40.45,10.2405,-20.6167,-20.6167,-20.6167,35.9301,35.9301,33.2691,17.6223,35.5072,-2.4007,8.4824,22.3186,68.4167,30.6737,31.6822,-20.8058,-19.8765,38.9343],\"lon\":[-74.2302,-74.2308,126.4784,126.428,126.4279,69.5689,69.5674,121.1134,121.1224,121.1224,121.6645,121.4557,109.941,109.9286,119.7892,119.7911,119.7912,110.4077,110.4078,-44.3797,-44.3796,32.051,32.0493,126.5064,126.5027,56.046,120.3997,120.3299,120.5862,120.5863,120.3998,120.634,120.1811,120.1787,121.8838,120.2868,120.2844,139.6685,108.3267,108.3519,108.3519,108.3519,108.3536,108.3755,32.043,32.0452,32.0488,32.1109,32.1263,32.1687,32.1527,32.1545,149.3046,118.5795,118.5694,118.5823,118.5713,-71.96,119.7644,119.78,127.7494,127.7453,127.7618,127.7548,117.7933,118.5674,118.5654,134.8393,118.5003,118.4553,118.4551,118.4958,118.4914,118.5781,118.5807,118.5865,-40.982,-40.9827,17.9851,17.9859,120.2341,120.2342,120.2343,120.2699,120.8986,120.968,120.9376,120.9933,4.0555,4.1131,4.1079,100.6047,119.08,119.0765,119.0836,119.0265,119.5455,119.5455,119.5456,119.5447,131.6314,131.6265,126.2429,-76.5764,27.0447,-14.2185,-14.1809,122.2073,122.2073,116.6739,118.0018,118.3344,122.0768,121.9903,115.6973,122.0808,122.081,126.709,126.713,29.8093,119.421,119.3733,119.3765,119.3734,120.1042,119.8319,119.8535,119.8083,119.8313,120.0871,119.8158,119.8505,128.1077,148.0883,148.0734,122.6255,-66.3709,117.9061,117.9096,117.8653,117.9061,117.9096,73.7978,118.5703,118.5698,118.5692,118.5696,-102.1566,-102.1854,-123.1678,-123.1552,-123.5436,-123.5596,-123.4481,13.7415,4.5788,4.5867,3.7313,31.9053,119.641,120.4857,120.345,120.3442,50.6876,51.4432,51.4329,121.1859,32.3529,73.2095,73.2039,73.0928,105.9633,-75.2422,114.4742,-3.8014,141.8547,117.8497,117.8538,139.8651,139.8692,122.4212,122.7662,122.7719,110.4929,119.421,119.4124,119.4089,120.0923,120.0057,120.0134,-66.7886,27.3321,130.8589,133.4458,116.718,116.7181,120.8457,-43.8388,124.7583,-44.0326,-44.0329,-44.0801,117.1995,150.8897,117.1817,117.181,106.4444,121.4242,122.5988,122.6456,122.6627,122.686,122.6546,121.4099,122.7284,122.7358,3.7053,-5.6871,133.7389,133.7346,140.9813,120.1503,120.1354,122.4443,33.0625,149.3141,-66.4693,-66.4458,-66.4781,-66.4536,70.106,140.6844,121.8794,17.2059,140.1045,86.9699,-115.1647,-14.7732,-14.7788,-14.7682,-14.7687,-14.6298,-14.6298,120.2608,120.2608,120.2608,133.0438,108.3267,108.3267,108.3267,108.3267,108.3267,108.3267,108.3267,108.3267,108.3267,108.3267,108.3267,-66.3802,-66.3802,120.3036,-1.6232,120.0237,69.6847,122.3472,126.4798,127.7,127.7,127.7,127.7,122.0835,122.0835,122.0835,122.0835,122.0835,122.0835,122.0835,122.0835,122.0835,122.0835,122.0835,129.4,129.4,129.4,-43.9476,-43.9699,-43.9481,-44.0342,-44.0288,-44.0045,-43.9443,-43.9405,-44.0631,-43.9182,121.3703,121.5971,121.3571,121.4836,121.437,121.3668,121.4782,121.4083,121.4205,121.4069,121.5078,121.5256,121.498,121.4966,121.4406,121.4592,31.9059,109.008,109.0053,119.541,119.541,119.541,126.2333,100.6599,100.6599,118.5771,118.6242,118.5835,118.5939,118.5977,118.5698,118.5207,118.5702,118.5407,118.616,118.6387,118.6044,118.6254,118.5157,118.3815,118.5456,118.6197,151.5172,151.4961,151.4965,151.4572,151.4785,151.4911,151.4779,119.7835,119.7835,119.7835,140.2975,-43.8473,-43.8473,116.5024,116.6331,116.5713,116.6049,116.5855,116.5491,116.5649,116.5269,128.0229,128.2528,-66.7556,-66.7596,119.3952,117.3225,117.4403,117.4184,117.3807,117.3464,117.2867,117.306,117.3605,120.0279,120.0279,120.0279,120.0279,120.0279,-76.1044,120.1687,69.9189,69.9267,110.9576,110.8739,118.5723,118.5723,118.5723,118.5723,118.5723,118.5723,118.5723,129.3529,126.427,126.427,-70.8331,-40.9383,-40.931,139.8319,139.8487,134.7826,129.0771,116.3738,116.3851,-17.001,-17.0052,-17.0143,151.7748,-75.2547,-75.2467,-75.235,-75.2364,-75.2618,-75.2472,121.2245,121.2245,121.988,122.0276,118.2578,118.4951,118.2381,118.273,118.2191,118.2228,-61.5973,149.6131,149.3819,149.4489,149.4649,149.4468,149.4147,40.7026,40.7115,137.54,-44.3833,73.8077,119.7625,-71.9586,118.6863,118.6854,118.6013,126.222,119.0217,17.4212,124.1488,124.1488,15.321,119.4229,119.4229,119.4229,119.4229,119.4229,133.4279,133.4279,73.2081,136.7509,130.85,130.85,-40.2114,-40.1636,-40.1792,-123.3554,-123.9046,-123.1833,140.9506,116.359,137.6,126.3795,119.0136,122.6333,117.8986,119.638,-40.2363,54.6772,117.726,120.4352,-66.7877,36.1833,106.4439,135.165,86.68,122.0176,122.0176,32.9499,139.9384,-44.0323,-5.4204,134.6299,120.4449,27.1333,-64.6332,117.1833,117.1833,117.1833,140.7005,140.7005,131.7635,83.2339,140.0186,-44.2863,-13.1855,69.6005,17.4,122.4088,121.1859,-40.4849,148.0765,121.848],\"name\":\"\",\"radius\":10,\"subplot\":\"mapbox\",\"type\":\"densitymapbox\",\"z\":[4.000115740740741,3.8422337962962962,12.339479166666667,null,6.001493055555557,0.24704861111111112,2.515138888888889,1.3462731481481482,2.005289351851852,2.799965277777778,1.0151851851851852,0.6728935185185185,21.67313657407408,5.180914351851852,10.680543981481481,6.684155092592593,7.835844907407408,9.501863425925926,null,5.167106481481482,3.668275462962963,2.3366550925925926,2.8345370370370375,null,6.836898148148149,5.001712962962963,1.6678587962962963,null,1.6794328703703705,null,null,0.6882523148148149,14.843541666666667,9.334340277777779,6.003773148148149,3.667939814814815,4.343680555555555,1.6684953703703704,7.835648148148148,9.67550925925926,9.667731481481482,7.836875,10.33599537037037,3.836585648148148,69.33396990740741,4.669988425925926,37.66804398148148,2.166678240740741,9.835347222222222,1.3357175925925926,30.502164351851853,3.1680439814814814,0.001099537037037037,1.0020717592592592,1.8351041666666668,1.5014699074074076,3.3346064814814813,1.003263888888889,5.507650462962964,1.2513310185185185,0.8433333333333334,12.00164351851852,3.672511574074074,5.68207175925926,4.175520833333334,9.835208333333334,2.001724537037037,3.670798611111111,2.1709375,2.5136689814814814,12.506724537037037,0.8334143518518519,4.84136574074074,6.835069444444445,2.334363425925926,2.002337962962963,8.002164351851851,8.00550925925926,null,0.1690277777777778,15.833518518518519,2.5062152777777778,6.1765625,3.010601851851852,0.5011574074074074,2.345173611111111,17.16818287037037,5.678333333333334,1.8351967592592593,7.33556712962963,6.336435185185185,6.335682870370371,1.0099189814814815,1.0017361111111112,0.669525462962963,1.5178587962962964,7.335462962962963,9.169143518518519,6.8470254629629625,4.67519675925926,null,5.335532407407407,11.334189814814817,23.670034722222226,81.84180555555555,null,3.8345949074074075,2.5011111111111113,3.671550925925926,4.001747685185185,1.6818287037037036,0.0042592592592592595,2.674236111111111,6.334976851851851,17.55409722222222,33.512199074074076,34.17872685185185,0.8371412037037037,3.669699074074074,4.500173611111111,1.6699768518518519,2.5094675925925927,5.170231481481482,3.3353819444444444,2.6729861111111113,3.0002083333333336,0.16697916666666668,null,0.8400925925925926,0.002870370370370371,2.5016782407407407,0.5019328703703704,3.0019444444444447,0.3390162037037037,8.001921296296297,2.668391203703704,9.169953703703703,6.1751504629629625,7.504699074074074,2.670960648148148,2.8811574074074078,8.174212962962963,5.5032407407407415,7.002962962962963,0.5015972222222222,8.336412037037038,1.334537037037037,3.3360185185185185,4.000092592592592,null,31.001863425925926,17.169733796296295,21.66715277777778,5.501377314814816,1.1681018518518518,3.001550925925926,7.167025462962963,78.66887731481482,11.171828703703705,0.6686111111111112,9.669525462962962,0.00015046296296296297,null,0.5018518518518519,9.169178240740742,null,7.232245370370371,15.169270833333334,0.3355787037037037,4.001354166666666,0.169837962962963,2.7056597222222227,13.17767361111111,7.0057986111111115,0.5002546296296296,16.005150462962963,6.502291666666666,10.344988425925926,3.8346180555555556,3.668645833333333,0.8336921296296296,0.3350925925925926,1.8421412037037037,2.3360300925925928,2.334108796296296,5.334560185185185,6.180636574074074,2.3355787037037037,6.169039351851852,9.83576388888889,5.501805555555556,4.1679050925925925,3.837337962962963,2.835706018518519,9.001354166666667,1.6714467592592592,0.6680671296296297,9.005856481481482,1.5067013888888892,21.834247685185186,19.502141203703705,9.167303240740742,17.833842592592593,2.167824074074074,16.502997685185186,4.500706018518518,4.5007523148148145,4.675219907407407,2.339664351851852,2.6736921296296297,4.508553240740741,5.005868055555555,4.841967592592592,6.668287037037037,4.509814814814815,2.674826388888889,7.001157407407407,7.503310185185185,4.5016087962962965,3.168553240740741,3.001527777777778,6.632719907407408,7.844247685185185,3.1686805555555555,4.001377314814815,6.005347222222223,9.168460648148148,14.002939814814814,2.167974537037037,4.000520833333334,2.1680555555555556,3.002604166666667,13.505752314814815,null,3.8353125,6.8432407407407405,9.002337962962963,1.8433912037037037,4.0001388888888885,0.33760416666666665,3.168761574074074,null,0.8348148148148148,null,1.907259675925926,null,1.5193634259259259,1.8581712962962964,3.3531828703703703,2.845046296296297,4.8421412037037035,0.16935185185185186,4.344131944444444,6.338680555555555,2.008159722222222,7.676875,5.169016203703704,6.677974537037037,null,0.3362962962962963,2.3742708333333336,17.171354166666667,0.8373726851851852,0.672349537037037,null,0.5552067592592593,null,1.0060532407407408,1.6756134259259259,null,2.5062962962962962,4.005763888888889,5.83951388888889,5.504305555555557,1.6757175925925927,4.50130787037037,0.6768865740740742,0.8436226851851852,2.4922089351851855,1.176238425925926,1.507175925925926,0.3345949074074074,5.502569444444445,null,9.835439814814816,16.168240740740742,10.66741898148148,5.168090277777778,8.335081018518519,25.169722222222223,1.004363425925926,5.1787731481481485,13.502905092592593,19.341805555555556,18.84784722222222,24.343344907407406,18.837314814814814,6.002928240740742,27.675196759259258,17.674953703703704,34.83340277777778,17.184560185185184,17.178946759259258,10.167337962962963,17.177974537037038,26.00172453703704,28.172604166666666,22.345833333333335,6.166851851851852,4.838449074074074,null,41.36056712962963,34.026666666666664,1.5028356481481484,null,null,5.677604166666668,5.001192129629629,null,0.1685185185185185,0.6689236111111111,2.1672685185185183,0.16918981481481485,null,1.0026736111111112,null,0.18030092592592595,4.169768518518518,0.668900462962963,6.002337962962963,1.1674305555555555,0.8346412037037036,1.6705439814814815,2.666875,0.16831018518518517,null,28.000520833333333,8.00292824074074,10.83601851851852,8.502997685185186,1.501678240740741,1.8355555555555556,22.00246527777778,7.1400347222222225,1.673738425925926,2.6720486111111112,4.666875,8.66851851851852,1.3369328703703705,0.8357060185185186,4.834710648148148,1.6679513888888888,0.16824074074074075,0.3360763888888889,2.502824074074074,1.1683217592592592,8.00537037037037,3.8419328703703703,0.17530092592592594,23.001817129629632,22.66990740740741,null,null,1.6693171296296296,1.167372685185185,null,6.338854166666667,0.8426388888888889,3.0040625000000003,6.170138888888889,13.336574074074074,3.6731944444444444,1.251140462962963,0.6709606481481482,2.172384259259259,61.50206018518519,null,1.178611111111111,0.1680324074074074,0.6678240740740741,null,0.00020833333333333335,null,1.6687152777777778,null,null,null,0.1718402777777778,3.5028125,null,2.583959282407408,0.33511574074074074,6.336712962962963,0.1681712962962963,1.5031250000000003,3.668576388888889,null,1.6712384259259259,2.3389467592592594,14.504166666666666,11.504270833333335,11.00025462962963,19.835185185185185,5.166782407407408,13.836446759259259,5.338958333333333,5.185127314814815,null,3.6743055555555557,4.001261574074074,0.5069675925925926,2.01087962962963,3.334652777777778,2.507175925925926,3.8394444444444447,1.340636574074074,7.845243055555556,3.169224537037037,0.33618055555555554,null,5.335243055555556,16.505949074074074,31.668622685185184,0.3358333333333333,null,27.336319444444445,9.001574074074075,7.672326388888889,1.669525462962963,13.669918981481482,1.168287037037037,9.835625,null,null,0.5009143518518518,1.5087731481481483,0.3430092592592593,1.837349537037037,3.005092592592593,null,23.017696759259263,12.501666666666667,0.16837962962962963,8.509363425925926,1.5045601851851853,5.837777777777778,3.3409375,5.672627314814815,1.8434143518518518,null,null,1.6692592592592592,8.670034722222223,2.1264075347222224,0.16695601851851852,13.334282407407407,6.5020138888888885,7.668090277777778,16.169456018518517,null,4.079745370370371,null,7.335486111111111,2.9068862962962965,null,0.16827546296296297,null,2.836990740740741,null,16.33414351851852,5.596030092592593,3.3336574074074075,7.501736111111111,6.500254629629629,null,1.6682407407407407,0.0012847222222222223,null,10.978611111111112,9.669664351851852,null,14.169733796296295,0.5012615740740741,null,0.8388078703703704,6.004629629629631,32.881018518518516,18.169930555555556,null,null,null,null,null,null,null,5.502604166666667,7.839733796296296,null,3.0001851851851855,null,null,0.3383217592592593,null,2.8348148148148153]}],                        {\"coloraxis\":{\"colorbar\":{\"title\":{\"text\":\"days_at_port\"}},\"colorscale\":[[0.0,\"#0d0887\"],[0.1111111111111111,\"#46039f\"],[0.2222222222222222,\"#7201a8\"],[0.3333333333333333,\"#9c179e\"],[0.4444444444444444,\"#bd3786\"],[0.5555555555555556,\"#d8576b\"],[0.6666666666666666,\"#ed7953\"],[0.7777777777777778,\"#fb9f3a\"],[0.8888888888888888,\"#fdca26\"],[1.0,\"#f0f921\"]]},\"height\":500,\"legend\":{\"tracegroupgap\":0},\"mapbox\":{\"center\":{\"lat\":0,\"lon\":180},\"domain\":{\"x\":[0.0,1.0],\"y\":[0.0,1.0]},\"style\":\"stamen-terrain\",\"zoom\":0},\"margin\":{\"t\":60},\"template\":{\"data\":{\"bar\":[{\"error_x\":{\"color\":\"#2a3f5f\"},\"error_y\":{\"color\":\"#2a3f5f\"},\"marker\":{\"line\":{\"color\":\"#E5ECF6\",\"width\":0.5},\"pattern\":{\"fillmode\":\"overlay\",\"size\":10,\"solidity\":0.2}},\"type\":\"bar\"}],\"barpolar\":[{\"marker\":{\"line\":{\"color\":\"#E5ECF6\",\"width\":0.5},\"pattern\":{\"fillmode\":\"overlay\",\"size\":10,\"solidity\":0.2}},\"type\":\"barpolar\"}],\"carpet\":[{\"aaxis\":{\"endlinecolor\":\"#2a3f5f\",\"gridcolor\":\"white\",\"linecolor\":\"white\",\"minorgridcolor\":\"white\",\"startlinecolor\":\"#2a3f5f\"},\"baxis\":{\"endlinecolor\":\"#2a3f5f\",\"gridcolor\":\"white\",\"linecolor\":\"white\",\"minorgridcolor\":\"white\",\"startlinecolor\":\"#2a3f5f\"},\"type\":\"carpet\"}],\"choropleth\":[{\"colorbar\":{\"outlinewidth\":0,\"ticks\":\"\"},\"type\":\"choropleth\"}],\"contour\":[{\"colorbar\":{\"outlinewidth\":0,\"ticks\":\"\"},\"colorscale\":[[0.0,\"#0d0887\"],[0.1111111111111111,\"#46039f\"],[0.2222222222222222,\"#7201a8\"],[0.3333333333333333,\"#9c179e\"],[0.4444444444444444,\"#bd3786\"],[0.5555555555555556,\"#d8576b\"],[0.6666666666666666,\"#ed7953\"],[0.7777777777777778,\"#fb9f3a\"],[0.8888888888888888,\"#fdca26\"],[1.0,\"#f0f921\"]],\"type\":\"contour\"}],\"contourcarpet\":[{\"colorbar\":{\"outlinewidth\":0,\"ticks\":\"\"},\"type\":\"contourcarpet\"}],\"heatmap\":[{\"colorbar\":{\"outlinewidth\":0,\"ticks\":\"\"},\"colorscale\":[[0.0,\"#0d0887\"],[0.1111111111111111,\"#46039f\"],[0.2222222222222222,\"#7201a8\"],[0.3333333333333333,\"#9c179e\"],[0.4444444444444444,\"#bd3786\"],[0.5555555555555556,\"#d8576b\"],[0.6666666666666666,\"#ed7953\"],[0.7777777777777778,\"#fb9f3a\"],[0.8888888888888888,\"#fdca26\"],[1.0,\"#f0f921\"]],\"type\":\"heatmap\"}],\"heatmapgl\":[{\"colorbar\":{\"outlinewidth\":0,\"ticks\":\"\"},\"colorscale\":[[0.0,\"#0d0887\"],[0.1111111111111111,\"#46039f\"],[0.2222222222222222,\"#7201a8\"],[0.3333333333333333,\"#9c179e\"],[0.4444444444444444,\"#bd3786\"],[0.5555555555555556,\"#d8576b\"],[0.6666666666666666,\"#ed7953\"],[0.7777777777777778,\"#fb9f3a\"],[0.8888888888888888,\"#fdca26\"],[1.0,\"#f0f921\"]],\"type\":\"heatmapgl\"}],\"histogram\":[{\"marker\":{\"pattern\":{\"fillmode\":\"overlay\",\"size\":10,\"solidity\":0.2}},\"type\":\"histogram\"}],\"histogram2d\":[{\"colorbar\":{\"outlinewidth\":0,\"ticks\":\"\"},\"colorscale\":[[0.0,\"#0d0887\"],[0.1111111111111111,\"#46039f\"],[0.2222222222222222,\"#7201a8\"],[0.3333333333333333,\"#9c179e\"],[0.4444444444444444,\"#bd3786\"],[0.5555555555555556,\"#d8576b\"],[0.6666666666666666,\"#ed7953\"],[0.7777777777777778,\"#fb9f3a\"],[0.8888888888888888,\"#fdca26\"],[1.0,\"#f0f921\"]],\"type\":\"histogram2d\"}],\"histogram2dcontour\":[{\"colorbar\":{\"outlinewidth\":0,\"ticks\":\"\"},\"colorscale\":[[0.0,\"#0d0887\"],[0.1111111111111111,\"#46039f\"],[0.2222222222222222,\"#7201a8\"],[0.3333333333333333,\"#9c179e\"],[0.4444444444444444,\"#bd3786\"],[0.5555555555555556,\"#d8576b\"],[0.6666666666666666,\"#ed7953\"],[0.7777777777777778,\"#fb9f3a\"],[0.8888888888888888,\"#fdca26\"],[1.0,\"#f0f921\"]],\"type\":\"histogram2dcontour\"}],\"mesh3d\":[{\"colorbar\":{\"outlinewidth\":0,\"ticks\":\"\"},\"type\":\"mesh3d\"}],\"parcoords\":[{\"line\":{\"colorbar\":{\"outlinewidth\":0,\"ticks\":\"\"}},\"type\":\"parcoords\"}],\"pie\":[{\"automargin\":true,\"type\":\"pie\"}],\"scatter\":[{\"marker\":{\"colorbar\":{\"outlinewidth\":0,\"ticks\":\"\"}},\"type\":\"scatter\"}],\"scatter3d\":[{\"line\":{\"colorbar\":{\"outlinewidth\":0,\"ticks\":\"\"}},\"marker\":{\"colorbar\":{\"outlinewidth\":0,\"ticks\":\"\"}},\"type\":\"scatter3d\"}],\"scattercarpet\":[{\"marker\":{\"colorbar\":{\"outlinewidth\":0,\"ticks\":\"\"}},\"type\":\"scattercarpet\"}],\"scattergeo\":[{\"marker\":{\"colorbar\":{\"outlinewidth\":0,\"ticks\":\"\"}},\"type\":\"scattergeo\"}],\"scattergl\":[{\"marker\":{\"colorbar\":{\"outlinewidth\":0,\"ticks\":\"\"}},\"type\":\"scattergl\"}],\"scattermapbox\":[{\"marker\":{\"colorbar\":{\"outlinewidth\":0,\"ticks\":\"\"}},\"type\":\"scattermapbox\"}],\"scatterpolar\":[{\"marker\":{\"colorbar\":{\"outlinewidth\":0,\"ticks\":\"\"}},\"type\":\"scatterpolar\"}],\"scatterpolargl\":[{\"marker\":{\"colorbar\":{\"outlinewidth\":0,\"ticks\":\"\"}},\"type\":\"scatterpolargl\"}],\"scatterternary\":[{\"marker\":{\"colorbar\":{\"outlinewidth\":0,\"ticks\":\"\"}},\"type\":\"scatterternary\"}],\"surface\":[{\"colorbar\":{\"outlinewidth\":0,\"ticks\":\"\"},\"colorscale\":[[0.0,\"#0d0887\"],[0.1111111111111111,\"#46039f\"],[0.2222222222222222,\"#7201a8\"],[0.3333333333333333,\"#9c179e\"],[0.4444444444444444,\"#bd3786\"],[0.5555555555555556,\"#d8576b\"],[0.6666666666666666,\"#ed7953\"],[0.7777777777777778,\"#fb9f3a\"],[0.8888888888888888,\"#fdca26\"],[1.0,\"#f0f921\"]],\"type\":\"surface\"}],\"table\":[{\"cells\":{\"fill\":{\"color\":\"#EBF0F8\"},\"line\":{\"color\":\"white\"}},\"header\":{\"fill\":{\"color\":\"#C8D4E3\"},\"line\":{\"color\":\"white\"}},\"type\":\"table\"}]},\"layout\":{\"annotationdefaults\":{\"arrowcolor\":\"#2a3f5f\",\"arrowhead\":0,\"arrowwidth\":1},\"autotypenumbers\":\"strict\",\"coloraxis\":{\"colorbar\":{\"outlinewidth\":0,\"ticks\":\"\"}},\"colorscale\":{\"diverging\":[[0,\"#8e0152\"],[0.1,\"#c51b7d\"],[0.2,\"#de77ae\"],[0.3,\"#f1b6da\"],[0.4,\"#fde0ef\"],[0.5,\"#f7f7f7\"],[0.6,\"#e6f5d0\"],[0.7,\"#b8e186\"],[0.8,\"#7fbc41\"],[0.9,\"#4d9221\"],[1,\"#276419\"]],\"sequential\":[[0.0,\"#0d0887\"],[0.1111111111111111,\"#46039f\"],[0.2222222222222222,\"#7201a8\"],[0.3333333333333333,\"#9c179e\"],[0.4444444444444444,\"#bd3786\"],[0.5555555555555556,\"#d8576b\"],[0.6666666666666666,\"#ed7953\"],[0.7777777777777778,\"#fb9f3a\"],[0.8888888888888888,\"#fdca26\"],[1.0,\"#f0f921\"]],\"sequentialminus\":[[0.0,\"#0d0887\"],[0.1111111111111111,\"#46039f\"],[0.2222222222222222,\"#7201a8\"],[0.3333333333333333,\"#9c179e\"],[0.4444444444444444,\"#bd3786\"],[0.5555555555555556,\"#d8576b\"],[0.6666666666666666,\"#ed7953\"],[0.7777777777777778,\"#fb9f3a\"],[0.8888888888888888,\"#fdca26\"],[1.0,\"#f0f921\"]]},\"colorway\":[\"#636efa\",\"#EF553B\",\"#00cc96\",\"#ab63fa\",\"#FFA15A\",\"#19d3f3\",\"#FF6692\",\"#B6E880\",\"#FF97FF\",\"#FECB52\"],\"font\":{\"color\":\"#2a3f5f\"},\"geo\":{\"bgcolor\":\"white\",\"lakecolor\":\"white\",\"landcolor\":\"#E5ECF6\",\"showlakes\":true,\"showland\":true,\"subunitcolor\":\"white\"},\"hoverlabel\":{\"align\":\"left\"},\"hovermode\":\"closest\",\"mapbox\":{\"style\":\"light\"},\"paper_bgcolor\":\"white\",\"plot_bgcolor\":\"#E5ECF6\",\"polar\":{\"angularaxis\":{\"gridcolor\":\"white\",\"linecolor\":\"white\",\"ticks\":\"\"},\"bgcolor\":\"#E5ECF6\",\"radialaxis\":{\"gridcolor\":\"white\",\"linecolor\":\"white\",\"ticks\":\"\"}},\"scene\":{\"xaxis\":{\"backgroundcolor\":\"#E5ECF6\",\"gridcolor\":\"white\",\"gridwidth\":2,\"linecolor\":\"white\",\"showbackground\":true,\"ticks\":\"\",\"zerolinecolor\":\"white\"},\"yaxis\":{\"backgroundcolor\":\"#E5ECF6\",\"gridcolor\":\"white\",\"gridwidth\":2,\"linecolor\":\"white\",\"showbackground\":true,\"ticks\":\"\",\"zerolinecolor\":\"white\"},\"zaxis\":{\"backgroundcolor\":\"#E5ECF6\",\"gridcolor\":\"white\",\"gridwidth\":2,\"linecolor\":\"white\",\"showbackground\":true,\"ticks\":\"\",\"zerolinecolor\":\"white\"}},\"shapedefaults\":{\"line\":{\"color\":\"#2a3f5f\"}},\"ternary\":{\"aaxis\":{\"gridcolor\":\"white\",\"linecolor\":\"white\",\"ticks\":\"\"},\"baxis\":{\"gridcolor\":\"white\",\"linecolor\":\"white\",\"ticks\":\"\"},\"bgcolor\":\"#E5ECF6\",\"caxis\":{\"gridcolor\":\"white\",\"linecolor\":\"white\",\"ticks\":\"\"}},\"title\":{\"x\":0.05},\"xaxis\":{\"automargin\":true,\"gridcolor\":\"white\",\"linecolor\":\"white\",\"ticks\":\"\",\"title\":{\"standoff\":15},\"zerolinecolor\":\"white\",\"zerolinewidth\":2},\"yaxis\":{\"automargin\":true,\"gridcolor\":\"white\",\"linecolor\":\"white\",\"ticks\":\"\",\"title\":{\"standoff\":15},\"zerolinecolor\":\"white\",\"zerolinewidth\":2}}},\"title\":{\"text\":\"Today's Activity\",\"x\":0.5},\"width\":700},                        {\"responsive\": true}                    ).then(function(){\n",
       "                            \n",
       "var gd = document.getElementById('9dcdc153-4fde-4c58-9645-6142c8f973b7');\n",
       "var x = new MutationObserver(function (mutations, observer) {{\n",
       "        var display = window.getComputedStyle(gd).display;\n",
       "        if (!display || display === 'none') {{\n",
       "            console.log([gd, 'removed!']);\n",
       "            Plotly.purge(gd);\n",
       "            observer.disconnect();\n",
       "        }}\n",
       "}});\n",
       "\n",
       "// Listen for the removal of the full notebook cells\n",
       "var notebookContainer = gd.closest('#notebook-container');\n",
       "if (notebookContainer) {{\n",
       "    x.observe(notebookContainer, {childList: true});\n",
       "}}\n",
       "\n",
       "// Listen for the clearing of the current output cell\n",
       "var outputEl = gd.closest('.output');\n",
       "if (outputEl) {{\n",
       "    x.observe(outputEl, {childList: true});\n",
       "}}\n",
       "\n",
       "                        })                };                });            </script>        </div>"
      ]
     },
     "metadata": {},
     "output_type": "display_data"
    }
   ],
   "source": [
    "fig = px.density_mapbox(vessel_at_port_df, lat = 'latitude', lon = 'longitude', z = 'days_at_port', radius = 10,\n",
    "                        center = dict(lat = 0, lon = 180),zoom = 0, mapbox_style = \"stamen-terrain\",\n",
    "                        custom_data = ['imo', 'vessel_name', 'purpose', 'port_name_geos', 'arrival_date', 'days_at_port'])\n",
    "fig.update_layout(\n",
    "    title = \"Today's Activity\", \n",
    "    title_x = 0.5,\n",
    "    width=700,\n",
    "    height=500)\n",
    "fig.update_traces(hovertemplate = 'IMO: %{customdata[0]} <br>Vessel Name: %{customdata[1]} <br>Purpose: %{customdata[2]} <br>Port: %{customdata[3]} <br>Arrival Date: %{customdata[4]} <br>Days at port: %{customdata[5]:.1f}')\n",
    "fig.show()"
   ]
  },
  {
   "cell_type": "markdown",
   "metadata": {},
   "source": [
    "#### Busiest Ports in China"
   ]
  },
  {
   "cell_type": "markdown",
   "metadata": {},
   "source": [
    "With this example we can monitor the number of vessels and their current Mode under any areas of interest. "
   ]
  },
  {
   "cell_type": "code",
   "execution_count": 55,
   "metadata": {},
   "outputs": [],
   "source": [
    "aggregated_df = (\n",
    "    vessel_at_port_df[\n",
    "        (vessel_at_port_df.area_name_level0_geos.isin(\n",
    "            ['Central China','North China', 'South China'])\n",
    "        )\n",
    "    ]\n",
    "    .groupby(['port_name_geos','Mode'])\n",
    "    .imo\n",
    "    .nunique()\n",
    "    .reset_index()\n",
    "    .rename(columns = {'imo':'num_of_vessels'})\n",
    ")"
   ]
  },
  {
   "cell_type": "code",
   "execution_count": 56,
   "metadata": {},
   "outputs": [],
   "source": [
    "top_10_busy_ports = (\n",
    "    aggregated_df.\n",
    "    groupby('port_name_geos')\n",
    "    .num_of_vessels\n",
    "    .sum()\n",
    "    .sort_values(ascending = False)\n",
    "    .head(10)\n",
    "    .index\n",
    ")"
   ]
  },
  {
   "cell_type": "code",
   "execution_count": 57,
   "metadata": {},
   "outputs": [
    {
     "data": {
      "application/vnd.plotly.v1+json": {
       "config": {
        "plotlyServerURL": "https://plot.ly"
       },
       "data": [
        {
         "alignmentgroup": "True",
         "customdata": [
          [
           "Operating"
          ],
          [
           "Operating"
          ],
          [
           "Operating"
          ],
          [
           "Operating"
          ],
          [
           "Operating"
          ],
          [
           "Operating"
          ],
          [
           "Operating"
          ],
          [
           "Operating"
          ],
          [
           "Operating"
          ],
          [
           "Operating"
          ]
         ],
         "hovertemplate": "%{y} <br>%{customdata[0]}: %{x}<extra></extra>",
         "legendgroup": "Operating",
         "marker": {
          "color": "rgba(38, 24, 74, 0.8)",
          "pattern": {
           "shape": ""
          }
         },
         "name": "Operating",
         "offsetgroup": "Operating",
         "orientation": "h",
         "showlegend": true,
         "text": [
          2,
          5,
          5,
          3,
          5,
          3,
          4,
          1,
          3,
          6
         ],
         "textposition": "auto",
         "type": "bar",
         "x": [
          2,
          5,
          5,
          3,
          5,
          3,
          4,
          1,
          3,
          6
         ],
         "xaxis": "x",
         "y": [
          "Bayuquan",
          "Caofeidian",
          "Fangcheng",
          "Lianyungang",
          "Ningbo",
          "Qingdao",
          "Rizhao - Lanshan",
          "Shanghai",
          "Tianjin",
          "Zhangjiagang"
         ],
         "yaxis": "y"
        },
        {
         "alignmentgroup": "True",
         "customdata": [
          [
           "Waiting"
          ],
          [
           "Waiting"
          ],
          [
           "Waiting"
          ],
          [
           "Waiting"
          ],
          [
           "Waiting"
          ],
          [
           "Waiting"
          ],
          [
           "Waiting"
          ],
          [
           "Waiting"
          ],
          [
           "Waiting"
          ],
          [
           "Waiting"
          ]
         ],
         "hovertemplate": "%{y} <br>%{customdata[0]}: %{x}<extra></extra>",
         "legendgroup": "Waiting",
         "marker": {
          "color": "rgba(122, 120, 168, 0.8)",
          "pattern": {
           "shape": ""
          }
         },
         "name": "Waiting",
         "offsetgroup": "Waiting",
         "orientation": "h",
         "showlegend": true,
         "text": [
          18,
          3,
          12,
          8,
          11,
          8,
          9,
          8,
          6,
          1
         ],
         "textposition": "auto",
         "type": "bar",
         "x": [
          18,
          3,
          12,
          8,
          11,
          8,
          9,
          8,
          6,
          1
         ],
         "xaxis": "x",
         "y": [
          "Bayuquan",
          "Caofeidian",
          "Fangcheng",
          "Lianyungang",
          "Ningbo",
          "Qingdao",
          "Rizhao - Lanshan",
          "Shanghai",
          "Tianjin",
          "Zhangjiagang"
         ],
         "yaxis": "y"
        }
       ],
       "layout": {
        "barmode": "stack",
        "height": 500,
        "legend": {
         "title": {
          "text": "Mode"
         },
         "tracegroupgap": 0
        },
        "template": {
         "data": {
          "bar": [
           {
            "error_x": {
             "color": "#2a3f5f"
            },
            "error_y": {
             "color": "#2a3f5f"
            },
            "marker": {
             "line": {
              "color": "#E5ECF6",
              "width": 0.5
             },
             "pattern": {
              "fillmode": "overlay",
              "size": 10,
              "solidity": 0.2
             }
            },
            "type": "bar"
           }
          ],
          "barpolar": [
           {
            "marker": {
             "line": {
              "color": "#E5ECF6",
              "width": 0.5
             },
             "pattern": {
              "fillmode": "overlay",
              "size": 10,
              "solidity": 0.2
             }
            },
            "type": "barpolar"
           }
          ],
          "carpet": [
           {
            "aaxis": {
             "endlinecolor": "#2a3f5f",
             "gridcolor": "white",
             "linecolor": "white",
             "minorgridcolor": "white",
             "startlinecolor": "#2a3f5f"
            },
            "baxis": {
             "endlinecolor": "#2a3f5f",
             "gridcolor": "white",
             "linecolor": "white",
             "minorgridcolor": "white",
             "startlinecolor": "#2a3f5f"
            },
            "type": "carpet"
           }
          ],
          "choropleth": [
           {
            "colorbar": {
             "outlinewidth": 0,
             "ticks": ""
            },
            "type": "choropleth"
           }
          ],
          "contour": [
           {
            "colorbar": {
             "outlinewidth": 0,
             "ticks": ""
            },
            "colorscale": [
             [
              0,
              "#0d0887"
             ],
             [
              0.1111111111111111,
              "#46039f"
             ],
             [
              0.2222222222222222,
              "#7201a8"
             ],
             [
              0.3333333333333333,
              "#9c179e"
             ],
             [
              0.4444444444444444,
              "#bd3786"
             ],
             [
              0.5555555555555556,
              "#d8576b"
             ],
             [
              0.6666666666666666,
              "#ed7953"
             ],
             [
              0.7777777777777778,
              "#fb9f3a"
             ],
             [
              0.8888888888888888,
              "#fdca26"
             ],
             [
              1,
              "#f0f921"
             ]
            ],
            "type": "contour"
           }
          ],
          "contourcarpet": [
           {
            "colorbar": {
             "outlinewidth": 0,
             "ticks": ""
            },
            "type": "contourcarpet"
           }
          ],
          "heatmap": [
           {
            "colorbar": {
             "outlinewidth": 0,
             "ticks": ""
            },
            "colorscale": [
             [
              0,
              "#0d0887"
             ],
             [
              0.1111111111111111,
              "#46039f"
             ],
             [
              0.2222222222222222,
              "#7201a8"
             ],
             [
              0.3333333333333333,
              "#9c179e"
             ],
             [
              0.4444444444444444,
              "#bd3786"
             ],
             [
              0.5555555555555556,
              "#d8576b"
             ],
             [
              0.6666666666666666,
              "#ed7953"
             ],
             [
              0.7777777777777778,
              "#fb9f3a"
             ],
             [
              0.8888888888888888,
              "#fdca26"
             ],
             [
              1,
              "#f0f921"
             ]
            ],
            "type": "heatmap"
           }
          ],
          "heatmapgl": [
           {
            "colorbar": {
             "outlinewidth": 0,
             "ticks": ""
            },
            "colorscale": [
             [
              0,
              "#0d0887"
             ],
             [
              0.1111111111111111,
              "#46039f"
             ],
             [
              0.2222222222222222,
              "#7201a8"
             ],
             [
              0.3333333333333333,
              "#9c179e"
             ],
             [
              0.4444444444444444,
              "#bd3786"
             ],
             [
              0.5555555555555556,
              "#d8576b"
             ],
             [
              0.6666666666666666,
              "#ed7953"
             ],
             [
              0.7777777777777778,
              "#fb9f3a"
             ],
             [
              0.8888888888888888,
              "#fdca26"
             ],
             [
              1,
              "#f0f921"
             ]
            ],
            "type": "heatmapgl"
           }
          ],
          "histogram": [
           {
            "marker": {
             "pattern": {
              "fillmode": "overlay",
              "size": 10,
              "solidity": 0.2
             }
            },
            "type": "histogram"
           }
          ],
          "histogram2d": [
           {
            "colorbar": {
             "outlinewidth": 0,
             "ticks": ""
            },
            "colorscale": [
             [
              0,
              "#0d0887"
             ],
             [
              0.1111111111111111,
              "#46039f"
             ],
             [
              0.2222222222222222,
              "#7201a8"
             ],
             [
              0.3333333333333333,
              "#9c179e"
             ],
             [
              0.4444444444444444,
              "#bd3786"
             ],
             [
              0.5555555555555556,
              "#d8576b"
             ],
             [
              0.6666666666666666,
              "#ed7953"
             ],
             [
              0.7777777777777778,
              "#fb9f3a"
             ],
             [
              0.8888888888888888,
              "#fdca26"
             ],
             [
              1,
              "#f0f921"
             ]
            ],
            "type": "histogram2d"
           }
          ],
          "histogram2dcontour": [
           {
            "colorbar": {
             "outlinewidth": 0,
             "ticks": ""
            },
            "colorscale": [
             [
              0,
              "#0d0887"
             ],
             [
              0.1111111111111111,
              "#46039f"
             ],
             [
              0.2222222222222222,
              "#7201a8"
             ],
             [
              0.3333333333333333,
              "#9c179e"
             ],
             [
              0.4444444444444444,
              "#bd3786"
             ],
             [
              0.5555555555555556,
              "#d8576b"
             ],
             [
              0.6666666666666666,
              "#ed7953"
             ],
             [
              0.7777777777777778,
              "#fb9f3a"
             ],
             [
              0.8888888888888888,
              "#fdca26"
             ],
             [
              1,
              "#f0f921"
             ]
            ],
            "type": "histogram2dcontour"
           }
          ],
          "mesh3d": [
           {
            "colorbar": {
             "outlinewidth": 0,
             "ticks": ""
            },
            "type": "mesh3d"
           }
          ],
          "parcoords": [
           {
            "line": {
             "colorbar": {
              "outlinewidth": 0,
              "ticks": ""
             }
            },
            "type": "parcoords"
           }
          ],
          "pie": [
           {
            "automargin": true,
            "type": "pie"
           }
          ],
          "scatter": [
           {
            "marker": {
             "colorbar": {
              "outlinewidth": 0,
              "ticks": ""
             }
            },
            "type": "scatter"
           }
          ],
          "scatter3d": [
           {
            "line": {
             "colorbar": {
              "outlinewidth": 0,
              "ticks": ""
             }
            },
            "marker": {
             "colorbar": {
              "outlinewidth": 0,
              "ticks": ""
             }
            },
            "type": "scatter3d"
           }
          ],
          "scattercarpet": [
           {
            "marker": {
             "colorbar": {
              "outlinewidth": 0,
              "ticks": ""
             }
            },
            "type": "scattercarpet"
           }
          ],
          "scattergeo": [
           {
            "marker": {
             "colorbar": {
              "outlinewidth": 0,
              "ticks": ""
             }
            },
            "type": "scattergeo"
           }
          ],
          "scattergl": [
           {
            "marker": {
             "colorbar": {
              "outlinewidth": 0,
              "ticks": ""
             }
            },
            "type": "scattergl"
           }
          ],
          "scattermapbox": [
           {
            "marker": {
             "colorbar": {
              "outlinewidth": 0,
              "ticks": ""
             }
            },
            "type": "scattermapbox"
           }
          ],
          "scatterpolar": [
           {
            "marker": {
             "colorbar": {
              "outlinewidth": 0,
              "ticks": ""
             }
            },
            "type": "scatterpolar"
           }
          ],
          "scatterpolargl": [
           {
            "marker": {
             "colorbar": {
              "outlinewidth": 0,
              "ticks": ""
             }
            },
            "type": "scatterpolargl"
           }
          ],
          "scatterternary": [
           {
            "marker": {
             "colorbar": {
              "outlinewidth": 0,
              "ticks": ""
             }
            },
            "type": "scatterternary"
           }
          ],
          "surface": [
           {
            "colorbar": {
             "outlinewidth": 0,
             "ticks": ""
            },
            "colorscale": [
             [
              0,
              "#0d0887"
             ],
             [
              0.1111111111111111,
              "#46039f"
             ],
             [
              0.2222222222222222,
              "#7201a8"
             ],
             [
              0.3333333333333333,
              "#9c179e"
             ],
             [
              0.4444444444444444,
              "#bd3786"
             ],
             [
              0.5555555555555556,
              "#d8576b"
             ],
             [
              0.6666666666666666,
              "#ed7953"
             ],
             [
              0.7777777777777778,
              "#fb9f3a"
             ],
             [
              0.8888888888888888,
              "#fdca26"
             ],
             [
              1,
              "#f0f921"
             ]
            ],
            "type": "surface"
           }
          ],
          "table": [
           {
            "cells": {
             "fill": {
              "color": "#EBF0F8"
             },
             "line": {
              "color": "white"
             }
            },
            "header": {
             "fill": {
              "color": "#C8D4E3"
             },
             "line": {
              "color": "white"
             }
            },
            "type": "table"
           }
          ]
         },
         "layout": {
          "annotationdefaults": {
           "arrowcolor": "#2a3f5f",
           "arrowhead": 0,
           "arrowwidth": 1
          },
          "autotypenumbers": "strict",
          "coloraxis": {
           "colorbar": {
            "outlinewidth": 0,
            "ticks": ""
           }
          },
          "colorscale": {
           "diverging": [
            [
             0,
             "#8e0152"
            ],
            [
             0.1,
             "#c51b7d"
            ],
            [
             0.2,
             "#de77ae"
            ],
            [
             0.3,
             "#f1b6da"
            ],
            [
             0.4,
             "#fde0ef"
            ],
            [
             0.5,
             "#f7f7f7"
            ],
            [
             0.6,
             "#e6f5d0"
            ],
            [
             0.7,
             "#b8e186"
            ],
            [
             0.8,
             "#7fbc41"
            ],
            [
             0.9,
             "#4d9221"
            ],
            [
             1,
             "#276419"
            ]
           ],
           "sequential": [
            [
             0,
             "#0d0887"
            ],
            [
             0.1111111111111111,
             "#46039f"
            ],
            [
             0.2222222222222222,
             "#7201a8"
            ],
            [
             0.3333333333333333,
             "#9c179e"
            ],
            [
             0.4444444444444444,
             "#bd3786"
            ],
            [
             0.5555555555555556,
             "#d8576b"
            ],
            [
             0.6666666666666666,
             "#ed7953"
            ],
            [
             0.7777777777777778,
             "#fb9f3a"
            ],
            [
             0.8888888888888888,
             "#fdca26"
            ],
            [
             1,
             "#f0f921"
            ]
           ],
           "sequentialminus": [
            [
             0,
             "#0d0887"
            ],
            [
             0.1111111111111111,
             "#46039f"
            ],
            [
             0.2222222222222222,
             "#7201a8"
            ],
            [
             0.3333333333333333,
             "#9c179e"
            ],
            [
             0.4444444444444444,
             "#bd3786"
            ],
            [
             0.5555555555555556,
             "#d8576b"
            ],
            [
             0.6666666666666666,
             "#ed7953"
            ],
            [
             0.7777777777777778,
             "#fb9f3a"
            ],
            [
             0.8888888888888888,
             "#fdca26"
            ],
            [
             1,
             "#f0f921"
            ]
           ]
          },
          "colorway": [
           "#636efa",
           "#EF553B",
           "#00cc96",
           "#ab63fa",
           "#FFA15A",
           "#19d3f3",
           "#FF6692",
           "#B6E880",
           "#FF97FF",
           "#FECB52"
          ],
          "font": {
           "color": "#2a3f5f"
          },
          "geo": {
           "bgcolor": "white",
           "lakecolor": "white",
           "landcolor": "#E5ECF6",
           "showlakes": true,
           "showland": true,
           "subunitcolor": "white"
          },
          "hoverlabel": {
           "align": "left"
          },
          "hovermode": "closest",
          "mapbox": {
           "style": "light"
          },
          "paper_bgcolor": "white",
          "plot_bgcolor": "#E5ECF6",
          "polar": {
           "angularaxis": {
            "gridcolor": "white",
            "linecolor": "white",
            "ticks": ""
           },
           "bgcolor": "#E5ECF6",
           "radialaxis": {
            "gridcolor": "white",
            "linecolor": "white",
            "ticks": ""
           }
          },
          "scene": {
           "xaxis": {
            "backgroundcolor": "#E5ECF6",
            "gridcolor": "white",
            "gridwidth": 2,
            "linecolor": "white",
            "showbackground": true,
            "ticks": "",
            "zerolinecolor": "white"
           },
           "yaxis": {
            "backgroundcolor": "#E5ECF6",
            "gridcolor": "white",
            "gridwidth": 2,
            "linecolor": "white",
            "showbackground": true,
            "ticks": "",
            "zerolinecolor": "white"
           },
           "zaxis": {
            "backgroundcolor": "#E5ECF6",
            "gridcolor": "white",
            "gridwidth": 2,
            "linecolor": "white",
            "showbackground": true,
            "ticks": "",
            "zerolinecolor": "white"
           }
          },
          "shapedefaults": {
           "line": {
            "color": "#2a3f5f"
           }
          },
          "ternary": {
           "aaxis": {
            "gridcolor": "white",
            "linecolor": "white",
            "ticks": ""
           },
           "baxis": {
            "gridcolor": "white",
            "linecolor": "white",
            "ticks": ""
           },
           "bgcolor": "#E5ECF6",
           "caxis": {
            "gridcolor": "white",
            "linecolor": "white",
            "ticks": ""
           }
          },
          "title": {
           "x": 0.05
          },
          "xaxis": {
           "automargin": true,
           "gridcolor": "white",
           "linecolor": "white",
           "ticks": "",
           "title": {
            "standoff": 15
           },
           "zerolinecolor": "white",
           "zerolinewidth": 2
          },
          "yaxis": {
           "automargin": true,
           "gridcolor": "white",
           "linecolor": "white",
           "ticks": "",
           "title": {
            "standoff": 15
           },
           "zerolinecolor": "white",
           "zerolinewidth": 2
          }
         }
        },
        "title": {
         "text": "Today's Activity - Top Ports"
        },
        "width": 1000,
        "xaxis": {
         "anchor": "y",
         "autorange": true,
         "domain": [
          0,
          1
         ],
         "range": [
          0,
          21.05263157894737
         ],
         "title": {
          "text": "Number of Vessels"
         },
         "type": "linear"
        },
        "yaxis": {
         "anchor": "x",
         "autorange": true,
         "categoryorder": "total ascending",
         "domain": [
          0,
          1
         ],
         "range": [
          -0.5,
          9.5
         ],
         "title": {
          "text": "Port"
         },
         "type": "category"
        }
       }
      },
      "image/png": "[encoded data removed]",
      "text/html": [
       "<div>                            <div id=\"01571397-e4da-469d-b1c4-b1a1267ff477\" class=\"plotly-graph-div\" style=\"height:500px; width:1000px;\"></div>            <script type=\"text/javascript\">                require([\"plotly\"], function(Plotly) {                    window.PLOTLYENV=window.PLOTLYENV || {};                                    if (document.getElementById(\"01571397-e4da-469d-b1c4-b1a1267ff477\")) {                    Plotly.newPlot(                        \"01571397-e4da-469d-b1c4-b1a1267ff477\",                        [{\"alignmentgroup\":\"True\",\"customdata\":[[\"Operating\"],[\"Operating\"],[\"Operating\"],[\"Operating\"],[\"Operating\"],[\"Operating\"],[\"Operating\"],[\"Operating\"],[\"Operating\"],[\"Operating\"]],\"hovertemplate\":\"%{y} <br>%{customdata[0]}: %{x}<extra></extra>\",\"legendgroup\":\"Operating\",\"marker\":{\"color\":\"rgba(38, 24, 74, 0.8)\",\"pattern\":{\"shape\":\"\"}},\"name\":\"Operating\",\"offsetgroup\":\"Operating\",\"orientation\":\"h\",\"showlegend\":true,\"text\":[2.0,5.0,5.0,3.0,5.0,3.0,4.0,1.0,3.0,6.0],\"textposition\":\"auto\",\"type\":\"bar\",\"x\":[2,5,5,3,5,3,4,1,3,6],\"xaxis\":\"x\",\"y\":[\"Bayuquan\",\"Caofeidian\",\"Fangcheng\",\"Lianyungang\",\"Ningbo\",\"Qingdao\",\"Rizhao - Lanshan\",\"Shanghai\",\"Tianjin\",\"Zhangjiagang\"],\"yaxis\":\"y\"},{\"alignmentgroup\":\"True\",\"customdata\":[[\"Waiting\"],[\"Waiting\"],[\"Waiting\"],[\"Waiting\"],[\"Waiting\"],[\"Waiting\"],[\"Waiting\"],[\"Waiting\"],[\"Waiting\"],[\"Waiting\"]],\"hovertemplate\":\"%{y} <br>%{customdata[0]}: %{x}<extra></extra>\",\"legendgroup\":\"Waiting\",\"marker\":{\"color\":\"rgba(122, 120, 168, 0.8)\",\"pattern\":{\"shape\":\"\"}},\"name\":\"Waiting\",\"offsetgroup\":\"Waiting\",\"orientation\":\"h\",\"showlegend\":true,\"text\":[18.0,3.0,12.0,8.0,11.0,8.0,9.0,8.0,6.0,1.0],\"textposition\":\"auto\",\"type\":\"bar\",\"x\":[18,3,12,8,11,8,9,8,6,1],\"xaxis\":\"x\",\"y\":[\"Bayuquan\",\"Caofeidian\",\"Fangcheng\",\"Lianyungang\",\"Ningbo\",\"Qingdao\",\"Rizhao - Lanshan\",\"Shanghai\",\"Tianjin\",\"Zhangjiagang\"],\"yaxis\":\"y\"}],                        {\"barmode\":\"stack\",\"height\":500,\"legend\":{\"title\":{\"text\":\"Mode\"},\"tracegroupgap\":0},\"template\":{\"data\":{\"bar\":[{\"error_x\":{\"color\":\"#2a3f5f\"},\"error_y\":{\"color\":\"#2a3f5f\"},\"marker\":{\"line\":{\"color\":\"#E5ECF6\",\"width\":0.5},\"pattern\":{\"fillmode\":\"overlay\",\"size\":10,\"solidity\":0.2}},\"type\":\"bar\"}],\"barpolar\":[{\"marker\":{\"line\":{\"color\":\"#E5ECF6\",\"width\":0.5},\"pattern\":{\"fillmode\":\"overlay\",\"size\":10,\"solidity\":0.2}},\"type\":\"barpolar\"}],\"carpet\":[{\"aaxis\":{\"endlinecolor\":\"#2a3f5f\",\"gridcolor\":\"white\",\"linecolor\":\"white\",\"minorgridcolor\":\"white\",\"startlinecolor\":\"#2a3f5f\"},\"baxis\":{\"endlinecolor\":\"#2a3f5f\",\"gridcolor\":\"white\",\"linecolor\":\"white\",\"minorgridcolor\":\"white\",\"startlinecolor\":\"#2a3f5f\"},\"type\":\"carpet\"}],\"choropleth\":[{\"colorbar\":{\"outlinewidth\":0,\"ticks\":\"\"},\"type\":\"choropleth\"}],\"contour\":[{\"colorbar\":{\"outlinewidth\":0,\"ticks\":\"\"},\"colorscale\":[[0.0,\"#0d0887\"],[0.1111111111111111,\"#46039f\"],[0.2222222222222222,\"#7201a8\"],[0.3333333333333333,\"#9c179e\"],[0.4444444444444444,\"#bd3786\"],[0.5555555555555556,\"#d8576b\"],[0.6666666666666666,\"#ed7953\"],[0.7777777777777778,\"#fb9f3a\"],[0.8888888888888888,\"#fdca26\"],[1.0,\"#f0f921\"]],\"type\":\"contour\"}],\"contourcarpet\":[{\"colorbar\":{\"outlinewidth\":0,\"ticks\":\"\"},\"type\":\"contourcarpet\"}],\"heatmap\":[{\"colorbar\":{\"outlinewidth\":0,\"ticks\":\"\"},\"colorscale\":[[0.0,\"#0d0887\"],[0.1111111111111111,\"#46039f\"],[0.2222222222222222,\"#7201a8\"],[0.3333333333333333,\"#9c179e\"],[0.4444444444444444,\"#bd3786\"],[0.5555555555555556,\"#d8576b\"],[0.6666666666666666,\"#ed7953\"],[0.7777777777777778,\"#fb9f3a\"],[0.8888888888888888,\"#fdca26\"],[1.0,\"#f0f921\"]],\"type\":\"heatmap\"}],\"heatmapgl\":[{\"colorbar\":{\"outlinewidth\":0,\"ticks\":\"\"},\"colorscale\":[[0.0,\"#0d0887\"],[0.1111111111111111,\"#46039f\"],[0.2222222222222222,\"#7201a8\"],[0.3333333333333333,\"#9c179e\"],[0.4444444444444444,\"#bd3786\"],[0.5555555555555556,\"#d8576b\"],[0.6666666666666666,\"#ed7953\"],[0.7777777777777778,\"#fb9f3a\"],[0.8888888888888888,\"#fdca26\"],[1.0,\"#f0f921\"]],\"type\":\"heatmapgl\"}],\"histogram\":[{\"marker\":{\"pattern\":{\"fillmode\":\"overlay\",\"size\":10,\"solidity\":0.2}},\"type\":\"histogram\"}],\"histogram2d\":[{\"colorbar\":{\"outlinewidth\":0,\"ticks\":\"\"},\"colorscale\":[[0.0,\"#0d0887\"],[0.1111111111111111,\"#46039f\"],[0.2222222222222222,\"#7201a8\"],[0.3333333333333333,\"#9c179e\"],[0.4444444444444444,\"#bd3786\"],[0.5555555555555556,\"#d8576b\"],[0.6666666666666666,\"#ed7953\"],[0.7777777777777778,\"#fb9f3a\"],[0.8888888888888888,\"#fdca26\"],[1.0,\"#f0f921\"]],\"type\":\"histogram2d\"}],\"histogram2dcontour\":[{\"colorbar\":{\"outlinewidth\":0,\"ticks\":\"\"},\"colorscale\":[[0.0,\"#0d0887\"],[0.1111111111111111,\"#46039f\"],[0.2222222222222222,\"#7201a8\"],[0.3333333333333333,\"#9c179e\"],[0.4444444444444444,\"#bd3786\"],[0.5555555555555556,\"#d8576b\"],[0.6666666666666666,\"#ed7953\"],[0.7777777777777778,\"#fb9f3a\"],[0.8888888888888888,\"#fdca26\"],[1.0,\"#f0f921\"]],\"type\":\"histogram2dcontour\"}],\"mesh3d\":[{\"colorbar\":{\"outlinewidth\":0,\"ticks\":\"\"},\"type\":\"mesh3d\"}],\"parcoords\":[{\"line\":{\"colorbar\":{\"outlinewidth\":0,\"ticks\":\"\"}},\"type\":\"parcoords\"}],\"pie\":[{\"automargin\":true,\"type\":\"pie\"}],\"scatter\":[{\"marker\":{\"colorbar\":{\"outlinewidth\":0,\"ticks\":\"\"}},\"type\":\"scatter\"}],\"scatter3d\":[{\"line\":{\"colorbar\":{\"outlinewidth\":0,\"ticks\":\"\"}},\"marker\":{\"colorbar\":{\"outlinewidth\":0,\"ticks\":\"\"}},\"type\":\"scatter3d\"}],\"scattercarpet\":[{\"marker\":{\"colorbar\":{\"outlinewidth\":0,\"ticks\":\"\"}},\"type\":\"scattercarpet\"}],\"scattergeo\":[{\"marker\":{\"colorbar\":{\"outlinewidth\":0,\"ticks\":\"\"}},\"type\":\"scattergeo\"}],\"scattergl\":[{\"marker\":{\"colorbar\":{\"outlinewidth\":0,\"ticks\":\"\"}},\"type\":\"scattergl\"}],\"scattermapbox\":[{\"marker\":{\"colorbar\":{\"outlinewidth\":0,\"ticks\":\"\"}},\"type\":\"scattermapbox\"}],\"scatterpolar\":[{\"marker\":{\"colorbar\":{\"outlinewidth\":0,\"ticks\":\"\"}},\"type\":\"scatterpolar\"}],\"scatterpolargl\":[{\"marker\":{\"colorbar\":{\"outlinewidth\":0,\"ticks\":\"\"}},\"type\":\"scatterpolargl\"}],\"scatterternary\":[{\"marker\":{\"colorbar\":{\"outlinewidth\":0,\"ticks\":\"\"}},\"type\":\"scatterternary\"}],\"surface\":[{\"colorbar\":{\"outlinewidth\":0,\"ticks\":\"\"},\"colorscale\":[[0.0,\"#0d0887\"],[0.1111111111111111,\"#46039f\"],[0.2222222222222222,\"#7201a8\"],[0.3333333333333333,\"#9c179e\"],[0.4444444444444444,\"#bd3786\"],[0.5555555555555556,\"#d8576b\"],[0.6666666666666666,\"#ed7953\"],[0.7777777777777778,\"#fb9f3a\"],[0.8888888888888888,\"#fdca26\"],[1.0,\"#f0f921\"]],\"type\":\"surface\"}],\"table\":[{\"cells\":{\"fill\":{\"color\":\"#EBF0F8\"},\"line\":{\"color\":\"white\"}},\"header\":{\"fill\":{\"color\":\"#C8D4E3\"},\"line\":{\"color\":\"white\"}},\"type\":\"table\"}]},\"layout\":{\"annotationdefaults\":{\"arrowcolor\":\"#2a3f5f\",\"arrowhead\":0,\"arrowwidth\":1},\"autotypenumbers\":\"strict\",\"coloraxis\":{\"colorbar\":{\"outlinewidth\":0,\"ticks\":\"\"}},\"colorscale\":{\"diverging\":[[0,\"#8e0152\"],[0.1,\"#c51b7d\"],[0.2,\"#de77ae\"],[0.3,\"#f1b6da\"],[0.4,\"#fde0ef\"],[0.5,\"#f7f7f7\"],[0.6,\"#e6f5d0\"],[0.7,\"#b8e186\"],[0.8,\"#7fbc41\"],[0.9,\"#4d9221\"],[1,\"#276419\"]],\"sequential\":[[0.0,\"#0d0887\"],[0.1111111111111111,\"#46039f\"],[0.2222222222222222,\"#7201a8\"],[0.3333333333333333,\"#9c179e\"],[0.4444444444444444,\"#bd3786\"],[0.5555555555555556,\"#d8576b\"],[0.6666666666666666,\"#ed7953\"],[0.7777777777777778,\"#fb9f3a\"],[0.8888888888888888,\"#fdca26\"],[1.0,\"#f0f921\"]],\"sequentialminus\":[[0.0,\"#0d0887\"],[0.1111111111111111,\"#46039f\"],[0.2222222222222222,\"#7201a8\"],[0.3333333333333333,\"#9c179e\"],[0.4444444444444444,\"#bd3786\"],[0.5555555555555556,\"#d8576b\"],[0.6666666666666666,\"#ed7953\"],[0.7777777777777778,\"#fb9f3a\"],[0.8888888888888888,\"#fdca26\"],[1.0,\"#f0f921\"]]},\"colorway\":[\"#636efa\",\"#EF553B\",\"#00cc96\",\"#ab63fa\",\"#FFA15A\",\"#19d3f3\",\"#FF6692\",\"#B6E880\",\"#FF97FF\",\"#FECB52\"],\"font\":{\"color\":\"#2a3f5f\"},\"geo\":{\"bgcolor\":\"white\",\"lakecolor\":\"white\",\"landcolor\":\"#E5ECF6\",\"showlakes\":true,\"showland\":true,\"subunitcolor\":\"white\"},\"hoverlabel\":{\"align\":\"left\"},\"hovermode\":\"closest\",\"mapbox\":{\"style\":\"light\"},\"paper_bgcolor\":\"white\",\"plot_bgcolor\":\"#E5ECF6\",\"polar\":{\"angularaxis\":{\"gridcolor\":\"white\",\"linecolor\":\"white\",\"ticks\":\"\"},\"bgcolor\":\"#E5ECF6\",\"radialaxis\":{\"gridcolor\":\"white\",\"linecolor\":\"white\",\"ticks\":\"\"}},\"scene\":{\"xaxis\":{\"backgroundcolor\":\"#E5ECF6\",\"gridcolor\":\"white\",\"gridwidth\":2,\"linecolor\":\"white\",\"showbackground\":true,\"ticks\":\"\",\"zerolinecolor\":\"white\"},\"yaxis\":{\"backgroundcolor\":\"#E5ECF6\",\"gridcolor\":\"white\",\"gridwidth\":2,\"linecolor\":\"white\",\"showbackground\":true,\"ticks\":\"\",\"zerolinecolor\":\"white\"},\"zaxis\":{\"backgroundcolor\":\"#E5ECF6\",\"gridcolor\":\"white\",\"gridwidth\":2,\"linecolor\":\"white\",\"showbackground\":true,\"ticks\":\"\",\"zerolinecolor\":\"white\"}},\"shapedefaults\":{\"line\":{\"color\":\"#2a3f5f\"}},\"ternary\":{\"aaxis\":{\"gridcolor\":\"white\",\"linecolor\":\"white\",\"ticks\":\"\"},\"baxis\":{\"gridcolor\":\"white\",\"linecolor\":\"white\",\"ticks\":\"\"},\"bgcolor\":\"#E5ECF6\",\"caxis\":{\"gridcolor\":\"white\",\"linecolor\":\"white\",\"ticks\":\"\"}},\"title\":{\"x\":0.05},\"xaxis\":{\"automargin\":true,\"gridcolor\":\"white\",\"linecolor\":\"white\",\"ticks\":\"\",\"title\":{\"standoff\":15},\"zerolinecolor\":\"white\",\"zerolinewidth\":2},\"yaxis\":{\"automargin\":true,\"gridcolor\":\"white\",\"linecolor\":\"white\",\"ticks\":\"\",\"title\":{\"standoff\":15},\"zerolinecolor\":\"white\",\"zerolinewidth\":2}}},\"title\":{\"text\":\"Today's Activity - Top Ports\"},\"width\":1000,\"xaxis\":{\"anchor\":\"y\",\"domain\":[0.0,1.0],\"title\":{\"text\":\"Number of Vessels\"}},\"yaxis\":{\"anchor\":\"x\",\"categoryorder\":\"total ascending\",\"domain\":[0.0,1.0],\"title\":{\"text\":\"Port\"}}},                        {\"responsive\": true}                    ).then(function(){\n",
       "                            \n",
       "var gd = document.getElementById('01571397-e4da-469d-b1c4-b1a1267ff477');\n",
       "var x = new MutationObserver(function (mutations, observer) {{\n",
       "        var display = window.getComputedStyle(gd).display;\n",
       "        if (!display || display === 'none') {{\n",
       "            console.log([gd, 'removed!']);\n",
       "            Plotly.purge(gd);\n",
       "            observer.disconnect();\n",
       "        }}\n",
       "}});\n",
       "\n",
       "// Listen for the removal of the full notebook cells\n",
       "var notebookContainer = gd.closest('#notebook-container');\n",
       "if (notebookContainer) {{\n",
       "    x.observe(notebookContainer, {childList: true});\n",
       "}}\n",
       "\n",
       "// Listen for the clearing of the current output cell\n",
       "var outputEl = gd.closest('.output');\n",
       "if (outputEl) {{\n",
       "    x.observe(outputEl, {childList: true});\n",
       "}}\n",
       "\n",
       "                        })                };                });            </script>        </div>"
      ]
     },
     "metadata": {},
     "output_type": "display_data"
    }
   ],
   "source": [
    "colors = ['rgba(38, 24, 74, 0.8)', 'rgba(122, 120, 168, 0.8)']\n",
    "fig = px.bar(aggregated_df[aggregated_df.port_name_geos.isin(top_10_busy_ports)], \n",
    "             y = 'port_name_geos', \n",
    "             x = 'num_of_vessels', \n",
    "             color= 'Mode', \n",
    "             title=\"Today's Activity - Top Ports\", \n",
    "             orientation = 'h', \n",
    "             color_discrete_sequence = colors, \n",
    "             text = 'num_of_vessels', \n",
    "             custom_data = ['Mode'])\n",
    "\n",
    "fig.update_layout(\n",
    "    width=1000,\n",
    "    height=500, \n",
    "    xaxis_title= 'Number of Vessels', yaxis_title = 'Port', barmode = 'stack', \n",
    "    yaxis = {'categoryorder':'total ascending'}\n",
    ") \n",
    "\n",
    "fig.update_traces(hovertemplate = '%{y} <br>%{customdata[0]}: %{x}<extra></extra>')\n",
    "fig.show()"
   ]
  },
  {
   "cell_type": "markdown",
   "metadata": {
    "tags": []
   },
   "source": [
    "### Historical Waiting Time"
   ]
  },
  {
   "cell_type": "markdown",
   "metadata": {},
   "source": [
    "Waiting Time is calculated for each day of each port call and is defined as the difference between that day and the starting point of the waiting interval.  \n",
    "We have noticed that the following assumptions lead to more accurate calculations:  \n",
    "* The first point of each interval is rolled over one day.\n",
    "* We do not take into account Waiting Time over 60 days (removing outliers)."
   ]
  },
  {
   "cell_type": "code",
   "execution_count": 58,
   "metadata": {},
   "outputs": [],
   "source": [
    "waiting_vessels = vessels_status_df[\n",
    "    (vessels_status_df.Mode == 'Waiting') & \n",
    "    (vessels_status_df.waiting_time_start.dt.date != vessels_status_df.DayDate.dt.date)\n",
    "].copy()"
   ]
  },
  {
   "cell_type": "code",
   "execution_count": 59,
   "metadata": {},
   "outputs": [],
   "source": [
    "waiting_vessels['waiting_time'] = (\n",
    "    (waiting_vessels['DayDate'] - waiting_vessels['waiting_time_start'])\n",
    "    .dt.total_seconds()/(60*60*24.0)\n",
    ")"
   ]
  },
  {
   "cell_type": "code",
   "execution_count": 60,
   "metadata": {},
   "outputs": [],
   "source": [
    "waiting_time_df = (\n",
    "    waiting_vessels[\n",
    "    (waiting_vessels.waiting_time < 60) & \n",
    "    (waiting_vessels.DayDate.dt.date != date.today())\n",
    "    ].groupby('DayDate')['waiting_time']\n",
    "    .mean()\n",
    "    .reset_index()\n",
    "    .rename(columns = {'waiting_time':'avg_waiting_time'})\n",
    "    .set_index('DayDate')\n",
    ")\n",
    "\n",
    "waiting_time_df.avg_waiting_time = waiting_time_df.avg_waiting_time.round(1)\n",
    "\n",
    "all_days = pd.date_range(waiting_time_df.index.min(), waiting_time_df.index.max(), freq = 'D')\n",
    "waiting_time_df = waiting_time_df.reindex(all_days)\n",
    "\n",
    "waiting_time_df['7d MA'] = np.around(\n",
    "    waiting_time_df\n",
    "    .avg_waiting_time\n",
    "    .rolling(window = 7, min_periods = 1).mean(), \n",
    "    decimals = 2\n",
    ")"
   ]
  },
  {
   "cell_type": "code",
   "execution_count": 61,
   "metadata": {},
   "outputs": [
    {
     "data": {
      "text/html": [
       "<div>\n",
       "<style scoped>\n",
       "    .dataframe tbody tr th:only-of-type {\n",
       "        vertical-align: middle;\n",
       "    }\n",
       "\n",
       "    .dataframe tbody tr th {\n",
       "        vertical-align: top;\n",
       "    }\n",
       "\n",
       "    .dataframe thead th {\n",
       "        text-align: right;\n",
       "    }\n",
       "</style>\n",
       "<table border=\"1\" class=\"dataframe\">\n",
       "  <thead>\n",
       "    <tr style=\"text-align: right;\">\n",
       "      <th></th>\n",
       "      <th>avg_waiting_time</th>\n",
       "      <th>7d MA</th>\n",
       "    </tr>\n",
       "  </thead>\n",
       "  <tbody>\n",
       "    <tr>\n",
       "      <th>2022-01-04</th>\n",
       "      <td>7.5</td>\n",
       "      <td>7.21</td>\n",
       "    </tr>\n",
       "    <tr>\n",
       "      <th>2022-01-05</th>\n",
       "      <td>7.2</td>\n",
       "      <td>7.26</td>\n",
       "    </tr>\n",
       "    <tr>\n",
       "      <th>2022-01-06</th>\n",
       "      <td>7.2</td>\n",
       "      <td>7.29</td>\n",
       "    </tr>\n",
       "    <tr>\n",
       "      <th>2022-01-07</th>\n",
       "      <td>7.1</td>\n",
       "      <td>7.29</td>\n",
       "    </tr>\n",
       "    <tr>\n",
       "      <th>2022-01-08</th>\n",
       "      <td>7.0</td>\n",
       "      <td>7.26</td>\n",
       "    </tr>\n",
       "    <tr>\n",
       "      <th>2022-01-09</th>\n",
       "      <td>7.0</td>\n",
       "      <td>7.19</td>\n",
       "    </tr>\n",
       "    <tr>\n",
       "      <th>2022-01-10</th>\n",
       "      <td>7.2</td>\n",
       "      <td>7.17</td>\n",
       "    </tr>\n",
       "    <tr>\n",
       "      <th>2022-01-11</th>\n",
       "      <td>7.3</td>\n",
       "      <td>7.14</td>\n",
       "    </tr>\n",
       "    <tr>\n",
       "      <th>2022-01-12</th>\n",
       "      <td>7.2</td>\n",
       "      <td>7.14</td>\n",
       "    </tr>\n",
       "    <tr>\n",
       "      <th>2022-01-13</th>\n",
       "      <td>6.8</td>\n",
       "      <td>7.09</td>\n",
       "    </tr>\n",
       "  </tbody>\n",
       "</table>\n",
       "</div>"
      ],
      "text/plain": [
       "            avg_waiting_time  7d MA\n",
       "2022-01-04               7.5   7.21\n",
       "2022-01-05               7.2   7.26\n",
       "2022-01-06               7.2   7.29\n",
       "2022-01-07               7.1   7.29\n",
       "2022-01-08               7.0   7.26\n",
       "2022-01-09               7.0   7.19\n",
       "2022-01-10               7.2   7.17\n",
       "2022-01-11               7.3   7.14\n",
       "2022-01-12               7.2   7.14\n",
       "2022-01-13               6.8   7.09"
      ]
     },
     "execution_count": 61,
     "metadata": {},
     "output_type": "execute_result"
    }
   ],
   "source": [
    "waiting_time_df.tail(10)"
   ]
  },
  {
   "cell_type": "code",
   "execution_count": 62,
   "metadata": {},
   "outputs": [
    {
     "data": {
      "application/vnd.plotly.v1+json": {
       "config": {
        "plotlyServerURL": "https://plot.ly"
       },
       "data": [
        {
         "hovertemplate": "Date: %{x|%Y-%m-%d}<br>Day: %{x|%A}<br>7d MA: %{y:.1f}",
         "legendgroup": "",
         "line": {
          "color": "#636efa",
          "dash": "solid"
         },
         "marker": {
          "symbol": "circle"
         },
         "mode": "lines",
         "name": "",
         "orientation": "v",
         "showlegend": false,
         "type": "scatter",
         "x": [
          "2021-01-19T00:00:00",
          "2021-01-20T00:00:00",
          "2021-01-21T00:00:00",
          "2021-01-22T00:00:00",
          "2021-01-23T00:00:00",
          "2021-01-24T00:00:00",
          "2021-01-25T00:00:00",
          "2021-01-26T00:00:00",
          "2021-01-27T00:00:00",
          "2021-01-28T00:00:00",
          "2021-01-29T00:00:00",
          "2021-01-30T00:00:00",
          "2021-01-31T00:00:00",
          "2021-02-01T00:00:00",
          "2021-02-02T00:00:00",
          "2021-02-03T00:00:00",
          "2021-02-04T00:00:00",
          "2021-02-05T00:00:00",
          "2021-02-06T00:00:00",
          "2021-02-07T00:00:00",
          "2021-02-08T00:00:00",
          "2021-02-09T00:00:00",
          "2021-02-10T00:00:00",
          "2021-02-11T00:00:00",
          "2021-02-12T00:00:00",
          "2021-02-13T00:00:00",
          "2021-02-14T00:00:00",
          "2021-02-15T00:00:00",
          "2021-02-16T00:00:00",
          "2021-02-17T00:00:00",
          "2021-02-18T00:00:00",
          "2021-02-19T00:00:00",
          "2021-02-20T00:00:00",
          "2021-02-21T00:00:00",
          "2021-02-22T00:00:00",
          "2021-02-23T00:00:00",
          "2021-02-24T00:00:00",
          "2021-02-25T00:00:00",
          "2021-02-26T00:00:00",
          "2021-02-27T00:00:00",
          "2021-02-28T00:00:00",
          "2021-03-01T00:00:00",
          "2021-03-02T00:00:00",
          "2021-03-03T00:00:00",
          "2021-03-04T00:00:00",
          "2021-03-05T00:00:00",
          "2021-03-06T00:00:00",
          "2021-03-07T00:00:00",
          "2021-03-08T00:00:00",
          "2021-03-09T00:00:00",
          "2021-03-10T00:00:00",
          "2021-03-11T00:00:00",
          "2021-03-12T00:00:00",
          "2021-03-13T00:00:00",
          "2021-03-14T00:00:00",
          "2021-03-15T00:00:00",
          "2021-03-16T00:00:00",
          "2021-03-17T00:00:00",
          "2021-03-18T00:00:00",
          "2021-03-19T00:00:00",
          "2021-03-20T00:00:00",
          "2021-03-21T00:00:00",
          "2021-03-22T00:00:00",
          "2021-03-23T00:00:00",
          "2021-03-24T00:00:00",
          "2021-03-25T00:00:00",
          "2021-03-26T00:00:00",
          "2021-03-27T00:00:00",
          "2021-03-28T00:00:00",
          "2021-03-29T00:00:00",
          "2021-03-30T00:00:00",
          "2021-03-31T00:00:00",
          "2021-04-01T00:00:00",
          "2021-04-02T00:00:00",
          "2021-04-03T00:00:00",
          "2021-04-04T00:00:00",
          "2021-04-05T00:00:00",
          "2021-04-06T00:00:00",
          "2021-04-07T00:00:00",
          "2021-04-08T00:00:00",
          "2021-04-09T00:00:00",
          "2021-04-10T00:00:00",
          "2021-04-11T00:00:00",
          "2021-04-12T00:00:00",
          "2021-04-13T00:00:00",
          "2021-04-14T00:00:00",
          "2021-04-15T00:00:00",
          "2021-04-16T00:00:00",
          "2021-04-17T00:00:00",
          "2021-04-18T00:00:00",
          "2021-04-19T00:00:00",
          "2021-04-20T00:00:00",
          "2021-04-21T00:00:00",
          "2021-04-22T00:00:00",
          "2021-04-23T00:00:00",
          "2021-04-24T00:00:00",
          "2021-04-25T00:00:00",
          "2021-04-26T00:00:00",
          "2021-04-27T00:00:00",
          "2021-04-28T00:00:00",
          "2021-04-29T00:00:00",
          "2021-04-30T00:00:00",
          "2021-05-01T00:00:00",
          "2021-05-02T00:00:00",
          "2021-05-03T00:00:00",
          "2021-05-04T00:00:00",
          "2021-05-05T00:00:00",
          "2021-05-06T00:00:00",
          "2021-05-07T00:00:00",
          "2021-05-08T00:00:00",
          "2021-05-09T00:00:00",
          "2021-05-10T00:00:00",
          "2021-05-11T00:00:00",
          "2021-05-12T00:00:00",
          "2021-05-13T00:00:00",
          "2021-05-14T00:00:00",
          "2021-05-15T00:00:00",
          "2021-05-16T00:00:00",
          "2021-05-17T00:00:00",
          "2021-05-18T00:00:00",
          "2021-05-19T00:00:00",
          "2021-05-20T00:00:00",
          "2021-05-21T00:00:00",
          "2021-05-22T00:00:00",
          "2021-05-23T00:00:00",
          "2021-05-24T00:00:00",
          "2021-05-25T00:00:00",
          "2021-05-26T00:00:00",
          "2021-05-27T00:00:00",
          "2021-05-28T00:00:00",
          "2021-05-29T00:00:00",
          "2021-05-30T00:00:00",
          "2021-05-31T00:00:00",
          "2021-06-01T00:00:00",
          "2021-06-02T00:00:00",
          "2021-06-03T00:00:00",
          "2021-06-04T00:00:00",
          "2021-06-05T00:00:00",
          "2021-06-06T00:00:00",
          "2021-06-07T00:00:00",
          "2021-06-08T00:00:00",
          "2021-06-09T00:00:00",
          "2021-06-10T00:00:00",
          "2021-06-11T00:00:00",
          "2021-06-12T00:00:00",
          "2021-06-13T00:00:00",
          "2021-06-14T00:00:00",
          "2021-06-15T00:00:00",
          "2021-06-16T00:00:00",
          "2021-06-17T00:00:00",
          "2021-06-18T00:00:00",
          "2021-06-19T00:00:00",
          "2021-06-20T00:00:00",
          "2021-06-21T00:00:00",
          "2021-06-22T00:00:00",
          "2021-06-23T00:00:00",
          "2021-06-24T00:00:00",
          "2021-06-25T00:00:00",
          "2021-06-26T00:00:00",
          "2021-06-27T00:00:00",
          "2021-06-28T00:00:00",
          "2021-06-29T00:00:00",
          "2021-06-30T00:00:00",
          "2021-07-01T00:00:00",
          "2021-07-02T00:00:00",
          "2021-07-03T00:00:00",
          "2021-07-04T00:00:00",
          "2021-07-05T00:00:00",
          "2021-07-06T00:00:00",
          "2021-07-07T00:00:00",
          "2021-07-08T00:00:00",
          "2021-07-09T00:00:00",
          "2021-07-10T00:00:00",
          "2021-07-11T00:00:00",
          "2021-07-12T00:00:00",
          "2021-07-13T00:00:00",
          "2021-07-14T00:00:00",
          "2021-07-15T00:00:00",
          "2021-07-16T00:00:00",
          "2021-07-17T00:00:00",
          "2021-07-18T00:00:00",
          "2021-07-19T00:00:00",
          "2021-07-20T00:00:00",
          "2021-07-21T00:00:00",
          "2021-07-22T00:00:00",
          "2021-07-23T00:00:00",
          "2021-07-24T00:00:00",
          "2021-07-25T00:00:00",
          "2021-07-26T00:00:00",
          "2021-07-27T00:00:00",
          "2021-07-28T00:00:00",
          "2021-07-29T00:00:00",
          "2021-07-30T00:00:00",
          "2021-07-31T00:00:00",
          "2021-08-01T00:00:00",
          "2021-08-02T00:00:00",
          "2021-08-03T00:00:00",
          "2021-08-04T00:00:00",
          "2021-08-05T00:00:00",
          "2021-08-06T00:00:00",
          "2021-08-07T00:00:00",
          "2021-08-08T00:00:00",
          "2021-08-09T00:00:00",
          "2021-08-10T00:00:00",
          "2021-08-11T00:00:00",
          "2021-08-12T00:00:00",
          "2021-08-13T00:00:00",
          "2021-08-14T00:00:00",
          "2021-08-15T00:00:00",
          "2021-08-16T00:00:00",
          "2021-08-17T00:00:00",
          "2021-08-18T00:00:00",
          "2021-08-19T00:00:00",
          "2021-08-20T00:00:00",
          "2021-08-21T00:00:00",
          "2021-08-22T00:00:00",
          "2021-08-23T00:00:00",
          "2021-08-24T00:00:00",
          "2021-08-25T00:00:00",
          "2021-08-26T00:00:00",
          "2021-08-27T00:00:00",
          "2021-08-28T00:00:00",
          "2021-08-29T00:00:00",
          "2021-08-30T00:00:00",
          "2021-08-31T00:00:00",
          "2021-09-01T00:00:00",
          "2021-09-02T00:00:00",
          "2021-09-03T00:00:00",
          "2021-09-04T00:00:00",
          "2021-09-05T00:00:00",
          "2021-09-06T00:00:00",
          "2021-09-07T00:00:00",
          "2021-09-08T00:00:00",
          "2021-09-09T00:00:00",
          "2021-09-10T00:00:00",
          "2021-09-11T00:00:00",
          "2021-09-12T00:00:00",
          "2021-09-13T00:00:00",
          "2021-09-14T00:00:00",
          "2021-09-15T00:00:00",
          "2021-09-16T00:00:00",
          "2021-09-17T00:00:00",
          "2021-09-18T00:00:00",
          "2021-09-19T00:00:00",
          "2021-09-20T00:00:00",
          "2021-09-21T00:00:00",
          "2021-09-22T00:00:00",
          "2021-09-23T00:00:00",
          "2021-09-24T00:00:00",
          "2021-09-25T00:00:00",
          "2021-09-26T00:00:00",
          "2021-09-27T00:00:00",
          "2021-09-28T00:00:00",
          "2021-09-29T00:00:00",
          "2021-09-30T00:00:00",
          "2021-10-01T00:00:00",
          "2021-10-02T00:00:00",
          "2021-10-03T00:00:00",
          "2021-10-04T00:00:00",
          "2021-10-05T00:00:00",
          "2021-10-06T00:00:00",
          "2021-10-07T00:00:00",
          "2021-10-08T00:00:00",
          "2021-10-09T00:00:00",
          "2021-10-10T00:00:00",
          "2021-10-11T00:00:00",
          "2021-10-12T00:00:00",
          "2021-10-13T00:00:00",
          "2021-10-14T00:00:00",
          "2021-10-15T00:00:00",
          "2021-10-16T00:00:00",
          "2021-10-17T00:00:00",
          "2021-10-18T00:00:00",
          "2021-10-19T00:00:00",
          "2021-10-20T00:00:00",
          "2021-10-21T00:00:00",
          "2021-10-22T00:00:00",
          "2021-10-23T00:00:00",
          "2021-10-24T00:00:00",
          "2021-10-25T00:00:00",
          "2021-10-26T00:00:00",
          "2021-10-27T00:00:00",
          "2021-10-28T00:00:00",
          "2021-10-29T00:00:00",
          "2021-10-30T00:00:00",
          "2021-10-31T00:00:00",
          "2021-11-01T00:00:00",
          "2021-11-02T00:00:00",
          "2021-11-03T00:00:00",
          "2021-11-04T00:00:00",
          "2021-11-05T00:00:00",
          "2021-11-06T00:00:00",
          "2021-11-07T00:00:00",
          "2021-11-08T00:00:00",
          "2021-11-09T00:00:00",
          "2021-11-10T00:00:00",
          "2021-11-11T00:00:00",
          "2021-11-12T00:00:00",
          "2021-11-13T00:00:00",
          "2021-11-14T00:00:00",
          "2021-11-15T00:00:00",
          "2021-11-16T00:00:00",
          "2021-11-17T00:00:00",
          "2021-11-18T00:00:00",
          "2021-11-19T00:00:00",
          "2021-11-20T00:00:00",
          "2021-11-21T00:00:00",
          "2021-11-22T00:00:00",
          "2021-11-23T00:00:00",
          "2021-11-24T00:00:00",
          "2021-11-25T00:00:00",
          "2021-11-26T00:00:00",
          "2021-11-27T00:00:00",
          "2021-11-28T00:00:00",
          "2021-11-29T00:00:00",
          "2021-11-30T00:00:00",
          "2021-12-01T00:00:00",
          "2021-12-02T00:00:00",
          "2021-12-03T00:00:00",
          "2021-12-04T00:00:00",
          "2021-12-05T00:00:00",
          "2021-12-06T00:00:00",
          "2021-12-07T00:00:00",
          "2021-12-08T00:00:00",
          "2021-12-09T00:00:00",
          "2021-12-10T00:00:00",
          "2021-12-11T00:00:00",
          "2021-12-12T00:00:00",
          "2021-12-13T00:00:00",
          "2021-12-14T00:00:00",
          "2021-12-15T00:00:00",
          "2021-12-16T00:00:00",
          "2021-12-17T00:00:00",
          "2021-12-18T00:00:00",
          "2021-12-19T00:00:00",
          "2021-12-20T00:00:00",
          "2021-12-21T00:00:00",
          "2021-12-22T00:00:00",
          "2021-12-23T00:00:00",
          "2021-12-24T00:00:00",
          "2021-12-25T00:00:00",
          "2021-12-26T00:00:00",
          "2021-12-27T00:00:00",
          "2021-12-28T00:00:00",
          "2021-12-29T00:00:00",
          "2021-12-30T00:00:00",
          "2021-12-31T00:00:00",
          "2022-01-01T00:00:00",
          "2022-01-02T00:00:00",
          "2022-01-03T00:00:00",
          "2022-01-04T00:00:00",
          "2022-01-05T00:00:00",
          "2022-01-06T00:00:00",
          "2022-01-07T00:00:00",
          "2022-01-08T00:00:00",
          "2022-01-09T00:00:00",
          "2022-01-10T00:00:00",
          "2022-01-11T00:00:00",
          "2022-01-12T00:00:00",
          "2022-01-13T00:00:00"
         ],
         "xaxis": "x",
         "y": [
          0.7,
          1.2,
          1.7,
          2.2,
          2.7,
          2.62,
          2.46,
          2.56,
          2.51,
          2.37,
          2.01,
          1.57,
          1.57,
          1.76,
          1.94,
          2.07,
          2.23,
          2.49,
          2.74,
          2.99,
          3.14,
          3.34,
          3.67,
          3.93,
          4.19,
          4.39,
          4.54,
          4.79,
          5.04,
          5.16,
          5.23,
          5.21,
          5.14,
          5.03,
          4.9,
          4.63,
          4.37,
          4.17,
          4.07,
          4,
          3.99,
          3.87,
          3.87,
          3.99,
          4.1,
          4.17,
          4.24,
          4.29,
          4.34,
          4.37,
          4.36,
          4.36,
          4.39,
          4.43,
          4.44,
          4.44,
          4.46,
          4.5,
          4.47,
          4.47,
          4.5,
          4.49,
          4.5,
          4.53,
          4.57,
          4.69,
          4.79,
          4.87,
          5,
          5.14,
          5.27,
          5.33,
          5.36,
          5.39,
          5.46,
          5.5,
          5.59,
          5.7,
          5.83,
          5.96,
          6.07,
          6.09,
          6.13,
          6.1,
          6.07,
          6.04,
          6.03,
          5.97,
          5.93,
          5.96,
          5.99,
          5.96,
          5.96,
          5.97,
          5.99,
          6.01,
          5.96,
          5.93,
          5.9,
          5.8,
          5.67,
          5.54,
          5.41,
          5.34,
          5.24,
          5.21,
          5.27,
          5.31,
          5.34,
          5.41,
          5.5,
          5.54,
          5.5,
          5.4,
          5.34,
          5.34,
          5.29,
          5.2,
          5.09,
          4.99,
          4.87,
          4.74,
          4.61,
          4.56,
          4.47,
          4.46,
          4.5,
          4.57,
          4.63,
          4.67,
          4.74,
          4.84,
          4.96,
          5.06,
          5.17,
          5.34,
          5.46,
          5.51,
          5.53,
          5.56,
          5.59,
          5.61,
          5.6,
          5.63,
          5.67,
          5.74,
          5.8,
          5.83,
          5.83,
          5.83,
          5.86,
          5.91,
          6.01,
          6.07,
          6.09,
          6.1,
          6.06,
          6.04,
          6.03,
          6,
          5.99,
          6.04,
          6.1,
          6.19,
          6.24,
          6.29,
          6.3,
          6.27,
          6.26,
          6.3,
          6.33,
          6.36,
          6.33,
          6.27,
          6.26,
          6.19,
          6.1,
          6,
          5.9,
          5.84,
          5.84,
          5.91,
          5.99,
          6.03,
          6.13,
          6.2,
          6.29,
          6.34,
          6.39,
          6.46,
          6.53,
          6.54,
          6.57,
          6.57,
          6.59,
          6.54,
          6.53,
          6.54,
          6.6,
          6.61,
          6.64,
          6.61,
          6.57,
          6.49,
          6.36,
          6.23,
          6.16,
          6.09,
          6,
          5.97,
          5.97,
          5.96,
          5.89,
          5.81,
          5.76,
          5.73,
          5.7,
          5.71,
          5.73,
          5.79,
          5.87,
          5.93,
          6.03,
          6.11,
          6.14,
          6.21,
          6.29,
          6.3,
          6.3,
          6.23,
          6.14,
          6.07,
          5.99,
          5.9,
          5.8,
          5.7,
          5.69,
          5.79,
          5.87,
          5.91,
          6,
          6.06,
          6.13,
          6.13,
          5.96,
          5.81,
          5.77,
          5.7,
          5.67,
          5.63,
          5.66,
          5.81,
          5.94,
          5.96,
          6,
          5.99,
          5.91,
          5.83,
          5.69,
          5.56,
          5.5,
          5.44,
          5.39,
          5.4,
          5.44,
          5.47,
          5.51,
          5.53,
          5.51,
          5.57,
          5.64,
          5.71,
          5.81,
          5.86,
          5.94,
          6.04,
          6.19,
          6.31,
          6.39,
          6.46,
          6.56,
          6.57,
          6.6,
          6.53,
          6.5,
          6.53,
          6.54,
          6.54,
          6.64,
          6.61,
          6.56,
          6.46,
          6.3,
          6.13,
          6,
          5.84,
          5.81,
          5.91,
          6.03,
          6.19,
          6.31,
          6.4,
          6.44,
          6.46,
          6.4,
          6.37,
          6.33,
          6.33,
          6.34,
          6.36,
          6.37,
          6.4,
          6.43,
          6.43,
          6.41,
          6.41,
          6.49,
          6.57,
          6.66,
          6.69,
          6.69,
          6.73,
          6.77,
          6.81,
          6.81,
          6.87,
          6.91,
          6.96,
          6.96,
          6.93,
          6.91,
          6.94,
          6.89,
          6.89,
          6.96,
          7.07,
          7.16,
          7.14,
          7.13,
          7.16,
          7.19,
          7.16,
          7.11,
          7.07,
          7.07,
          7.07,
          7.07,
          7.06,
          7.11,
          7.13,
          7.21,
          7.26,
          7.29,
          7.29,
          7.26,
          7.19,
          7.17,
          7.14,
          7.14,
          7.09
         ],
         "yaxis": "y"
        }
       ],
       "layout": {
        "height": 500,
        "legend": {
         "tracegroupgap": 0
        },
        "plot_bgcolor": "rgba(0, 0, 0, 0.05)",
        "template": {
         "data": {
          "bar": [
           {
            "error_x": {
             "color": "#2a3f5f"
            },
            "error_y": {
             "color": "#2a3f5f"
            },
            "marker": {
             "line": {
              "color": "#E5ECF6",
              "width": 0.5
             },
             "pattern": {
              "fillmode": "overlay",
              "size": 10,
              "solidity": 0.2
             }
            },
            "type": "bar"
           }
          ],
          "barpolar": [
           {
            "marker": {
             "line": {
              "color": "#E5ECF6",
              "width": 0.5
             },
             "pattern": {
              "fillmode": "overlay",
              "size": 10,
              "solidity": 0.2
             }
            },
            "type": "barpolar"
           }
          ],
          "carpet": [
           {
            "aaxis": {
             "endlinecolor": "#2a3f5f",
             "gridcolor": "white",
             "linecolor": "white",
             "minorgridcolor": "white",
             "startlinecolor": "#2a3f5f"
            },
            "baxis": {
             "endlinecolor": "#2a3f5f",
             "gridcolor": "white",
             "linecolor": "white",
             "minorgridcolor": "white",
             "startlinecolor": "#2a3f5f"
            },
            "type": "carpet"
           }
          ],
          "choropleth": [
           {
            "colorbar": {
             "outlinewidth": 0,
             "ticks": ""
            },
            "type": "choropleth"
           }
          ],
          "contour": [
           {
            "colorbar": {
             "outlinewidth": 0,
             "ticks": ""
            },
            "colorscale": [
             [
              0,
              "#0d0887"
             ],
             [
              0.1111111111111111,
              "#46039f"
             ],
             [
              0.2222222222222222,
              "#7201a8"
             ],
             [
              0.3333333333333333,
              "#9c179e"
             ],
             [
              0.4444444444444444,
              "#bd3786"
             ],
             [
              0.5555555555555556,
              "#d8576b"
             ],
             [
              0.6666666666666666,
              "#ed7953"
             ],
             [
              0.7777777777777778,
              "#fb9f3a"
             ],
             [
              0.8888888888888888,
              "#fdca26"
             ],
             [
              1,
              "#f0f921"
             ]
            ],
            "type": "contour"
           }
          ],
          "contourcarpet": [
           {
            "colorbar": {
             "outlinewidth": 0,
             "ticks": ""
            },
            "type": "contourcarpet"
           }
          ],
          "heatmap": [
           {
            "colorbar": {
             "outlinewidth": 0,
             "ticks": ""
            },
            "colorscale": [
             [
              0,
              "#0d0887"
             ],
             [
              0.1111111111111111,
              "#46039f"
             ],
             [
              0.2222222222222222,
              "#7201a8"
             ],
             [
              0.3333333333333333,
              "#9c179e"
             ],
             [
              0.4444444444444444,
              "#bd3786"
             ],
             [
              0.5555555555555556,
              "#d8576b"
             ],
             [
              0.6666666666666666,
              "#ed7953"
             ],
             [
              0.7777777777777778,
              "#fb9f3a"
             ],
             [
              0.8888888888888888,
              "#fdca26"
             ],
             [
              1,
              "#f0f921"
             ]
            ],
            "type": "heatmap"
           }
          ],
          "heatmapgl": [
           {
            "colorbar": {
             "outlinewidth": 0,
             "ticks": ""
            },
            "colorscale": [
             [
              0,
              "#0d0887"
             ],
             [
              0.1111111111111111,
              "#46039f"
             ],
             [
              0.2222222222222222,
              "#7201a8"
             ],
             [
              0.3333333333333333,
              "#9c179e"
             ],
             [
              0.4444444444444444,
              "#bd3786"
             ],
             [
              0.5555555555555556,
              "#d8576b"
             ],
             [
              0.6666666666666666,
              "#ed7953"
             ],
             [
              0.7777777777777778,
              "#fb9f3a"
             ],
             [
              0.8888888888888888,
              "#fdca26"
             ],
             [
              1,
              "#f0f921"
             ]
            ],
            "type": "heatmapgl"
           }
          ],
          "histogram": [
           {
            "marker": {
             "pattern": {
              "fillmode": "overlay",
              "size": 10,
              "solidity": 0.2
             }
            },
            "type": "histogram"
           }
          ],
          "histogram2d": [
           {
            "colorbar": {
             "outlinewidth": 0,
             "ticks": ""
            },
            "colorscale": [
             [
              0,
              "#0d0887"
             ],
             [
              0.1111111111111111,
              "#46039f"
             ],
             [
              0.2222222222222222,
              "#7201a8"
             ],
             [
              0.3333333333333333,
              "#9c179e"
             ],
             [
              0.4444444444444444,
              "#bd3786"
             ],
             [
              0.5555555555555556,
              "#d8576b"
             ],
             [
              0.6666666666666666,
              "#ed7953"
             ],
             [
              0.7777777777777778,
              "#fb9f3a"
             ],
             [
              0.8888888888888888,
              "#fdca26"
             ],
             [
              1,
              "#f0f921"
             ]
            ],
            "type": "histogram2d"
           }
          ],
          "histogram2dcontour": [
           {
            "colorbar": {
             "outlinewidth": 0,
             "ticks": ""
            },
            "colorscale": [
             [
              0,
              "#0d0887"
             ],
             [
              0.1111111111111111,
              "#46039f"
             ],
             [
              0.2222222222222222,
              "#7201a8"
             ],
             [
              0.3333333333333333,
              "#9c179e"
             ],
             [
              0.4444444444444444,
              "#bd3786"
             ],
             [
              0.5555555555555556,
              "#d8576b"
             ],
             [
              0.6666666666666666,
              "#ed7953"
             ],
             [
              0.7777777777777778,
              "#fb9f3a"
             ],
             [
              0.8888888888888888,
              "#fdca26"
             ],
             [
              1,
              "#f0f921"
             ]
            ],
            "type": "histogram2dcontour"
           }
          ],
          "mesh3d": [
           {
            "colorbar": {
             "outlinewidth": 0,
             "ticks": ""
            },
            "type": "mesh3d"
           }
          ],
          "parcoords": [
           {
            "line": {
             "colorbar": {
              "outlinewidth": 0,
              "ticks": ""
             }
            },
            "type": "parcoords"
           }
          ],
          "pie": [
           {
            "automargin": true,
            "type": "pie"
           }
          ],
          "scatter": [
           {
            "marker": {
             "colorbar": {
              "outlinewidth": 0,
              "ticks": ""
             }
            },
            "type": "scatter"
           }
          ],
          "scatter3d": [
           {
            "line": {
             "colorbar": {
              "outlinewidth": 0,
              "ticks": ""
             }
            },
            "marker": {
             "colorbar": {
              "outlinewidth": 0,
              "ticks": ""
             }
            },
            "type": "scatter3d"
           }
          ],
          "scattercarpet": [
           {
            "marker": {
             "colorbar": {
              "outlinewidth": 0,
              "ticks": ""
             }
            },
            "type": "scattercarpet"
           }
          ],
          "scattergeo": [
           {
            "marker": {
             "colorbar": {
              "outlinewidth": 0,
              "ticks": ""
             }
            },
            "type": "scattergeo"
           }
          ],
          "scattergl": [
           {
            "marker": {
             "colorbar": {
              "outlinewidth": 0,
              "ticks": ""
             }
            },
            "type": "scattergl"
           }
          ],
          "scattermapbox": [
           {
            "marker": {
             "colorbar": {
              "outlinewidth": 0,
              "ticks": ""
             }
            },
            "type": "scattermapbox"
           }
          ],
          "scatterpolar": [
           {
            "marker": {
             "colorbar": {
              "outlinewidth": 0,
              "ticks": ""
             }
            },
            "type": "scatterpolar"
           }
          ],
          "scatterpolargl": [
           {
            "marker": {
             "colorbar": {
              "outlinewidth": 0,
              "ticks": ""
             }
            },
            "type": "scatterpolargl"
           }
          ],
          "scatterternary": [
           {
            "marker": {
             "colorbar": {
              "outlinewidth": 0,
              "ticks": ""
             }
            },
            "type": "scatterternary"
           }
          ],
          "surface": [
           {
            "colorbar": {
             "outlinewidth": 0,
             "ticks": ""
            },
            "colorscale": [
             [
              0,
              "#0d0887"
             ],
             [
              0.1111111111111111,
              "#46039f"
             ],
             [
              0.2222222222222222,
              "#7201a8"
             ],
             [
              0.3333333333333333,
              "#9c179e"
             ],
             [
              0.4444444444444444,
              "#bd3786"
             ],
             [
              0.5555555555555556,
              "#d8576b"
             ],
             [
              0.6666666666666666,
              "#ed7953"
             ],
             [
              0.7777777777777778,
              "#fb9f3a"
             ],
             [
              0.8888888888888888,
              "#fdca26"
             ],
             [
              1,
              "#f0f921"
             ]
            ],
            "type": "surface"
           }
          ],
          "table": [
           {
            "cells": {
             "fill": {
              "color": "#EBF0F8"
             },
             "line": {
              "color": "white"
             }
            },
            "header": {
             "fill": {
              "color": "#C8D4E3"
             },
             "line": {
              "color": "white"
             }
            },
            "type": "table"
           }
          ]
         },
         "layout": {
          "annotationdefaults": {
           "arrowcolor": "#2a3f5f",
           "arrowhead": 0,
           "arrowwidth": 1
          },
          "autotypenumbers": "strict",
          "coloraxis": {
           "colorbar": {
            "outlinewidth": 0,
            "ticks": ""
           }
          },
          "colorscale": {
           "diverging": [
            [
             0,
             "#8e0152"
            ],
            [
             0.1,
             "#c51b7d"
            ],
            [
             0.2,
             "#de77ae"
            ],
            [
             0.3,
             "#f1b6da"
            ],
            [
             0.4,
             "#fde0ef"
            ],
            [
             0.5,
             "#f7f7f7"
            ],
            [
             0.6,
             "#e6f5d0"
            ],
            [
             0.7,
             "#b8e186"
            ],
            [
             0.8,
             "#7fbc41"
            ],
            [
             0.9,
             "#4d9221"
            ],
            [
             1,
             "#276419"
            ]
           ],
           "sequential": [
            [
             0,
             "#0d0887"
            ],
            [
             0.1111111111111111,
             "#46039f"
            ],
            [
             0.2222222222222222,
             "#7201a8"
            ],
            [
             0.3333333333333333,
             "#9c179e"
            ],
            [
             0.4444444444444444,
             "#bd3786"
            ],
            [
             0.5555555555555556,
             "#d8576b"
            ],
            [
             0.6666666666666666,
             "#ed7953"
            ],
            [
             0.7777777777777778,
             "#fb9f3a"
            ],
            [
             0.8888888888888888,
             "#fdca26"
            ],
            [
             1,
             "#f0f921"
            ]
           ],
           "sequentialminus": [
            [
             0,
             "#0d0887"
            ],
            [
             0.1111111111111111,
             "#46039f"
            ],
            [
             0.2222222222222222,
             "#7201a8"
            ],
            [
             0.3333333333333333,
             "#9c179e"
            ],
            [
             0.4444444444444444,
             "#bd3786"
            ],
            [
             0.5555555555555556,
             "#d8576b"
            ],
            [
             0.6666666666666666,
             "#ed7953"
            ],
            [
             0.7777777777777778,
             "#fb9f3a"
            ],
            [
             0.8888888888888888,
             "#fdca26"
            ],
            [
             1,
             "#f0f921"
            ]
           ]
          },
          "colorway": [
           "#636efa",
           "#EF553B",
           "#00cc96",
           "#ab63fa",
           "#FFA15A",
           "#19d3f3",
           "#FF6692",
           "#B6E880",
           "#FF97FF",
           "#FECB52"
          ],
          "font": {
           "color": "#2a3f5f"
          },
          "geo": {
           "bgcolor": "white",
           "lakecolor": "white",
           "landcolor": "#E5ECF6",
           "showlakes": true,
           "showland": true,
           "subunitcolor": "white"
          },
          "hoverlabel": {
           "align": "left"
          },
          "hovermode": "closest",
          "mapbox": {
           "style": "light"
          },
          "paper_bgcolor": "white",
          "plot_bgcolor": "#E5ECF6",
          "polar": {
           "angularaxis": {
            "gridcolor": "white",
            "linecolor": "white",
            "ticks": ""
           },
           "bgcolor": "#E5ECF6",
           "radialaxis": {
            "gridcolor": "white",
            "linecolor": "white",
            "ticks": ""
           }
          },
          "scene": {
           "xaxis": {
            "backgroundcolor": "#E5ECF6",
            "gridcolor": "white",
            "gridwidth": 2,
            "linecolor": "white",
            "showbackground": true,
            "ticks": "",
            "zerolinecolor": "white"
           },
           "yaxis": {
            "backgroundcolor": "#E5ECF6",
            "gridcolor": "white",
            "gridwidth": 2,
            "linecolor": "white",
            "showbackground": true,
            "ticks": "",
            "zerolinecolor": "white"
           },
           "zaxis": {
            "backgroundcolor": "#E5ECF6",
            "gridcolor": "white",
            "gridwidth": 2,
            "linecolor": "white",
            "showbackground": true,
            "ticks": "",
            "zerolinecolor": "white"
           }
          },
          "shapedefaults": {
           "line": {
            "color": "#2a3f5f"
           }
          },
          "ternary": {
           "aaxis": {
            "gridcolor": "white",
            "linecolor": "white",
            "ticks": ""
           },
           "baxis": {
            "gridcolor": "white",
            "linecolor": "white",
            "ticks": ""
           },
           "bgcolor": "#E5ECF6",
           "caxis": {
            "gridcolor": "white",
            "linecolor": "white",
            "ticks": ""
           }
          },
          "title": {
           "x": 0.05
          },
          "xaxis": {
           "automargin": true,
           "gridcolor": "white",
           "linecolor": "white",
           "ticks": "",
           "title": {
            "standoff": 15
           },
           "zerolinecolor": "white",
           "zerolinewidth": 2
          },
          "yaxis": {
           "automargin": true,
           "gridcolor": "white",
           "linecolor": "white",
           "ticks": "",
           "title": {
            "standoff": 15
           },
           "zerolinecolor": "white",
           "zerolinewidth": 2
          }
         }
        },
        "title": {
         "text": "Waiting Time - 7 days Moving Average Over Time"
        },
        "width": 1250,
        "xaxis": {
         "anchor": "y",
         "autorange": true,
         "domain": [
          0,
          1
         ],
         "range": [
          "2021-01-19",
          "2022-01-13"
         ],
         "rangeselector": {
          "buttons": [
           {
            "count": 1,
            "label": "1m",
            "step": "month",
            "stepmode": "backward"
           },
           {
            "count": 6,
            "label": "6m",
            "step": "month",
            "stepmode": "backward"
           },
           {
            "count": 1,
            "label": "YTD",
            "step": "year",
            "stepmode": "todate"
           }
          ]
         },
         "rangeslider": {
          "autorange": true,
          "range": [
           "2021-01-19",
           "2022-01-13"
          ],
          "visible": true,
          "yaxis": {
           "_template": null,
           "rangemode": "match"
          }
         },
         "title": {
          "text": "date"
         },
         "type": "date"
        },
        "yaxis": {
         "anchor": "x",
         "autorange": true,
         "domain": [
          0,
          1
         ],
         "range": [
          0.33388888888888885,
          7.6561111111111115
         ],
         "title": {
          "text": "Waiting Days"
         },
         "type": "linear"
        }
       }
      },
      "image/png": "[encoded data removed]",
      "text/html": [
       "<div>                            <div id=\"d94d4250-2a3b-436b-a6a5-9cce7b75e2da\" class=\"plotly-graph-div\" style=\"height:500px; width:1250px;\"></div>            <script type=\"text/javascript\">                require([\"plotly\"], function(Plotly) {                    window.PLOTLYENV=window.PLOTLYENV || {};                                    if (document.getElementById(\"d94d4250-2a3b-436b-a6a5-9cce7b75e2da\")) {                    Plotly.newPlot(                        \"d94d4250-2a3b-436b-a6a5-9cce7b75e2da\",                        [{\"hovertemplate\":\"Date: %{x|%Y-%m-%d}<br>Day: %{x|%A}<br>7d MA: %{y:.1f}\",\"legendgroup\":\"\",\"line\":{\"color\":\"#636efa\",\"dash\":\"solid\"},\"marker\":{\"symbol\":\"circle\"},\"mode\":\"lines\",\"name\":\"\",\"orientation\":\"v\",\"showlegend\":false,\"type\":\"scatter\",\"x\":[\"2021-01-19T00:00:00\",\"2021-01-20T00:00:00\",\"2021-01-21T00:00:00\",\"2021-01-22T00:00:00\",\"2021-01-23T00:00:00\",\"2021-01-24T00:00:00\",\"2021-01-25T00:00:00\",\"2021-01-26T00:00:00\",\"2021-01-27T00:00:00\",\"2021-01-28T00:00:00\",\"2021-01-29T00:00:00\",\"2021-01-30T00:00:00\",\"2021-01-31T00:00:00\",\"2021-02-01T00:00:00\",\"2021-02-02T00:00:00\",\"2021-02-03T00:00:00\",\"2021-02-04T00:00:00\",\"2021-02-05T00:00:00\",\"2021-02-06T00:00:00\",\"2021-02-07T00:00:00\",\"2021-02-08T00:00:00\",\"2021-02-09T00:00:00\",\"2021-02-10T00:00:00\",\"2021-02-11T00:00:00\",\"2021-02-12T00:00:00\",\"2021-02-13T00:00:00\",\"2021-02-14T00:00:00\",\"2021-02-15T00:00:00\",\"2021-02-16T00:00:00\",\"2021-02-17T00:00:00\",\"2021-02-18T00:00:00\",\"2021-02-19T00:00:00\",\"2021-02-20T00:00:00\",\"2021-02-21T00:00:00\",\"2021-02-22T00:00:00\",\"2021-02-23T00:00:00\",\"2021-02-24T00:00:00\",\"2021-02-25T00:00:00\",\"2021-02-26T00:00:00\",\"2021-02-27T00:00:00\",\"2021-02-28T00:00:00\",\"2021-03-01T00:00:00\",\"2021-03-02T00:00:00\",\"2021-03-03T00:00:00\",\"2021-03-04T00:00:00\",\"2021-03-05T00:00:00\",\"2021-03-06T00:00:00\",\"2021-03-07T00:00:00\",\"2021-03-08T00:00:00\",\"2021-03-09T00:00:00\",\"2021-03-10T00:00:00\",\"2021-03-11T00:00:00\",\"2021-03-12T00:00:00\",\"2021-03-13T00:00:00\",\"2021-03-14T00:00:00\",\"2021-03-15T00:00:00\",\"2021-03-16T00:00:00\",\"2021-03-17T00:00:00\",\"2021-03-18T00:00:00\",\"2021-03-19T00:00:00\",\"2021-03-20T00:00:00\",\"2021-03-21T00:00:00\",\"2021-03-22T00:00:00\",\"2021-03-23T00:00:00\",\"2021-03-24T00:00:00\",\"2021-03-25T00:00:00\",\"2021-03-26T00:00:00\",\"2021-03-27T00:00:00\",\"2021-03-28T00:00:00\",\"2021-03-29T00:00:00\",\"2021-03-30T00:00:00\",\"2021-03-31T00:00:00\",\"2021-04-01T00:00:00\",\"2021-04-02T00:00:00\",\"2021-04-03T00:00:00\",\"2021-04-04T00:00:00\",\"2021-04-05T00:00:00\",\"2021-04-06T00:00:00\",\"2021-04-07T00:00:00\",\"2021-04-08T00:00:00\",\"2021-04-09T00:00:00\",\"2021-04-10T00:00:00\",\"2021-04-11T00:00:00\",\"2021-04-12T00:00:00\",\"2021-04-13T00:00:00\",\"2021-04-14T00:00:00\",\"2021-04-15T00:00:00\",\"2021-04-16T00:00:00\",\"2021-04-17T00:00:00\",\"2021-04-18T00:00:00\",\"2021-04-19T00:00:00\",\"2021-04-20T00:00:00\",\"2021-04-21T00:00:00\",\"2021-04-22T00:00:00\",\"2021-04-23T00:00:00\",\"2021-04-24T00:00:00\",\"2021-04-25T00:00:00\",\"2021-04-26T00:00:00\",\"2021-04-27T00:00:00\",\"2021-04-28T00:00:00\",\"2021-04-29T00:00:00\",\"2021-04-30T00:00:00\",\"2021-05-01T00:00:00\",\"2021-05-02T00:00:00\",\"2021-05-03T00:00:00\",\"2021-05-04T00:00:00\",\"2021-05-05T00:00:00\",\"2021-05-06T00:00:00\",\"2021-05-07T00:00:00\",\"2021-05-08T00:00:00\",\"2021-05-09T00:00:00\",\"2021-05-10T00:00:00\",\"2021-05-11T00:00:00\",\"2021-05-12T00:00:00\",\"2021-05-13T00:00:00\",\"2021-05-14T00:00:00\",\"2021-05-15T00:00:00\",\"2021-05-16T00:00:00\",\"2021-05-17T00:00:00\",\"2021-05-18T00:00:00\",\"2021-05-19T00:00:00\",\"2021-05-20T00:00:00\",\"2021-05-21T00:00:00\",\"2021-05-22T00:00:00\",\"2021-05-23T00:00:00\",\"2021-05-24T00:00:00\",\"2021-05-25T00:00:00\",\"2021-05-26T00:00:00\",\"2021-05-27T00:00:00\",\"2021-05-28T00:00:00\",\"2021-05-29T00:00:00\",\"2021-05-30T00:00:00\",\"2021-05-31T00:00:00\",\"2021-06-01T00:00:00\",\"2021-06-02T00:00:00\",\"2021-06-03T00:00:00\",\"2021-06-04T00:00:00\",\"2021-06-05T00:00:00\",\"2021-06-06T00:00:00\",\"2021-06-07T00:00:00\",\"2021-06-08T00:00:00\",\"2021-06-09T00:00:00\",\"2021-06-10T00:00:00\",\"2021-06-11T00:00:00\",\"2021-06-12T00:00:00\",\"2021-06-13T00:00:00\",\"2021-06-14T00:00:00\",\"2021-06-15T00:00:00\",\"2021-06-16T00:00:00\",\"2021-06-17T00:00:00\",\"2021-06-18T00:00:00\",\"2021-06-19T00:00:00\",\"2021-06-20T00:00:00\",\"2021-06-21T00:00:00\",\"2021-06-22T00:00:00\",\"2021-06-23T00:00:00\",\"2021-06-24T00:00:00\",\"2021-06-25T00:00:00\",\"2021-06-26T00:00:00\",\"2021-06-27T00:00:00\",\"2021-06-28T00:00:00\",\"2021-06-29T00:00:00\",\"2021-06-30T00:00:00\",\"2021-07-01T00:00:00\",\"2021-07-02T00:00:00\",\"2021-07-03T00:00:00\",\"2021-07-04T00:00:00\",\"2021-07-05T00:00:00\",\"2021-07-06T00:00:00\",\"2021-07-07T00:00:00\",\"2021-07-08T00:00:00\",\"2021-07-09T00:00:00\",\"2021-07-10T00:00:00\",\"2021-07-11T00:00:00\",\"2021-07-12T00:00:00\",\"2021-07-13T00:00:00\",\"2021-07-14T00:00:00\",\"2021-07-15T00:00:00\",\"2021-07-16T00:00:00\",\"2021-07-17T00:00:00\",\"2021-07-18T00:00:00\",\"2021-07-19T00:00:00\",\"2021-07-20T00:00:00\",\"2021-07-21T00:00:00\",\"2021-07-22T00:00:00\",\"2021-07-23T00:00:00\",\"2021-07-24T00:00:00\",\"2021-07-25T00:00:00\",\"2021-07-26T00:00:00\",\"2021-07-27T00:00:00\",\"2021-07-28T00:00:00\",\"2021-07-29T00:00:00\",\"2021-07-30T00:00:00\",\"2021-07-31T00:00:00\",\"2021-08-01T00:00:00\",\"2021-08-02T00:00:00\",\"2021-08-03T00:00:00\",\"2021-08-04T00:00:00\",\"2021-08-05T00:00:00\",\"2021-08-06T00:00:00\",\"2021-08-07T00:00:00\",\"2021-08-08T00:00:00\",\"2021-08-09T00:00:00\",\"2021-08-10T00:00:00\",\"2021-08-11T00:00:00\",\"2021-08-12T00:00:00\",\"2021-08-13T00:00:00\",\"2021-08-14T00:00:00\",\"2021-08-15T00:00:00\",\"2021-08-16T00:00:00\",\"2021-08-17T00:00:00\",\"2021-08-18T00:00:00\",\"2021-08-19T00:00:00\",\"2021-08-20T00:00:00\",\"2021-08-21T00:00:00\",\"2021-08-22T00:00:00\",\"2021-08-23T00:00:00\",\"2021-08-24T00:00:00\",\"2021-08-25T00:00:00\",\"2021-08-26T00:00:00\",\"2021-08-27T00:00:00\",\"2021-08-28T00:00:00\",\"2021-08-29T00:00:00\",\"2021-08-30T00:00:00\",\"2021-08-31T00:00:00\",\"2021-09-01T00:00:00\",\"2021-09-02T00:00:00\",\"2021-09-03T00:00:00\",\"2021-09-04T00:00:00\",\"2021-09-05T00:00:00\",\"2021-09-06T00:00:00\",\"2021-09-07T00:00:00\",\"2021-09-08T00:00:00\",\"2021-09-09T00:00:00\",\"2021-09-10T00:00:00\",\"2021-09-11T00:00:00\",\"2021-09-12T00:00:00\",\"2021-09-13T00:00:00\",\"2021-09-14T00:00:00\",\"2021-09-15T00:00:00\",\"2021-09-16T00:00:00\",\"2021-09-17T00:00:00\",\"2021-09-18T00:00:00\",\"2021-09-19T00:00:00\",\"2021-09-20T00:00:00\",\"2021-09-21T00:00:00\",\"2021-09-22T00:00:00\",\"2021-09-23T00:00:00\",\"2021-09-24T00:00:00\",\"2021-09-25T00:00:00\",\"2021-09-26T00:00:00\",\"2021-09-27T00:00:00\",\"2021-09-28T00:00:00\",\"2021-09-29T00:00:00\",\"2021-09-30T00:00:00\",\"2021-10-01T00:00:00\",\"2021-10-02T00:00:00\",\"2021-10-03T00:00:00\",\"2021-10-04T00:00:00\",\"2021-10-05T00:00:00\",\"2021-10-06T00:00:00\",\"2021-10-07T00:00:00\",\"2021-10-08T00:00:00\",\"2021-10-09T00:00:00\",\"2021-10-10T00:00:00\",\"2021-10-11T00:00:00\",\"2021-10-12T00:00:00\",\"2021-10-13T00:00:00\",\"2021-10-14T00:00:00\",\"2021-10-15T00:00:00\",\"2021-10-16T00:00:00\",\"2021-10-17T00:00:00\",\"2021-10-18T00:00:00\",\"2021-10-19T00:00:00\",\"2021-10-20T00:00:00\",\"2021-10-21T00:00:00\",\"2021-10-22T00:00:00\",\"2021-10-23T00:00:00\",\"2021-10-24T00:00:00\",\"2021-10-25T00:00:00\",\"2021-10-26T00:00:00\",\"2021-10-27T00:00:00\",\"2021-10-28T00:00:00\",\"2021-10-29T00:00:00\",\"2021-10-30T00:00:00\",\"2021-10-31T00:00:00\",\"2021-11-01T00:00:00\",\"2021-11-02T00:00:00\",\"2021-11-03T00:00:00\",\"2021-11-04T00:00:00\",\"2021-11-05T00:00:00\",\"2021-11-06T00:00:00\",\"2021-11-07T00:00:00\",\"2021-11-08T00:00:00\",\"2021-11-09T00:00:00\",\"2021-11-10T00:00:00\",\"2021-11-11T00:00:00\",\"2021-11-12T00:00:00\",\"2021-11-13T00:00:00\",\"2021-11-14T00:00:00\",\"2021-11-15T00:00:00\",\"2021-11-16T00:00:00\",\"2021-11-17T00:00:00\",\"2021-11-18T00:00:00\",\"2021-11-19T00:00:00\",\"2021-11-20T00:00:00\",\"2021-11-21T00:00:00\",\"2021-11-22T00:00:00\",\"2021-11-23T00:00:00\",\"2021-11-24T00:00:00\",\"2021-11-25T00:00:00\",\"2021-11-26T00:00:00\",\"2021-11-27T00:00:00\",\"2021-11-28T00:00:00\",\"2021-11-29T00:00:00\",\"2021-11-30T00:00:00\",\"2021-12-01T00:00:00\",\"2021-12-02T00:00:00\",\"2021-12-03T00:00:00\",\"2021-12-04T00:00:00\",\"2021-12-05T00:00:00\",\"2021-12-06T00:00:00\",\"2021-12-07T00:00:00\",\"2021-12-08T00:00:00\",\"2021-12-09T00:00:00\",\"2021-12-10T00:00:00\",\"2021-12-11T00:00:00\",\"2021-12-12T00:00:00\",\"2021-12-13T00:00:00\",\"2021-12-14T00:00:00\",\"2021-12-15T00:00:00\",\"2021-12-16T00:00:00\",\"2021-12-17T00:00:00\",\"2021-12-18T00:00:00\",\"2021-12-19T00:00:00\",\"2021-12-20T00:00:00\",\"2021-12-21T00:00:00\",\"2021-12-22T00:00:00\",\"2021-12-23T00:00:00\",\"2021-12-24T00:00:00\",\"2021-12-25T00:00:00\",\"2021-12-26T00:00:00\",\"2021-12-27T00:00:00\",\"2021-12-28T00:00:00\",\"2021-12-29T00:00:00\",\"2021-12-30T00:00:00\",\"2021-12-31T00:00:00\",\"2022-01-01T00:00:00\",\"2022-01-02T00:00:00\",\"2022-01-03T00:00:00\",\"2022-01-04T00:00:00\",\"2022-01-05T00:00:00\",\"2022-01-06T00:00:00\",\"2022-01-07T00:00:00\",\"2022-01-08T00:00:00\",\"2022-01-09T00:00:00\",\"2022-01-10T00:00:00\",\"2022-01-11T00:00:00\",\"2022-01-12T00:00:00\",\"2022-01-13T00:00:00\"],\"xaxis\":\"x\",\"y\":[0.7,1.2,1.7,2.2,2.7,2.62,2.46,2.56,2.51,2.37,2.01,1.57,1.57,1.76,1.94,2.07,2.23,2.49,2.74,2.99,3.14,3.34,3.67,3.93,4.19,4.39,4.54,4.79,5.04,5.16,5.23,5.21,5.14,5.03,4.9,4.63,4.37,4.17,4.07,4.0,3.99,3.87,3.87,3.99,4.1,4.17,4.24,4.29,4.34,4.37,4.36,4.36,4.39,4.43,4.44,4.44,4.46,4.5,4.47,4.47,4.5,4.49,4.5,4.53,4.57,4.69,4.79,4.87,5.0,5.14,5.27,5.33,5.36,5.39,5.46,5.5,5.59,5.7,5.83,5.96,6.07,6.09,6.13,6.1,6.07,6.04,6.03,5.97,5.93,5.96,5.99,5.96,5.96,5.97,5.99,6.01,5.96,5.93,5.9,5.8,5.67,5.54,5.41,5.34,5.24,5.21,5.27,5.31,5.34,5.41,5.5,5.54,5.5,5.4,5.34,5.34,5.29,5.2,5.09,4.99,4.87,4.74,4.61,4.56,4.47,4.46,4.5,4.57,4.63,4.67,4.74,4.84,4.96,5.06,5.17,5.34,5.46,5.51,5.53,5.56,5.59,5.61,5.6,5.63,5.67,5.74,5.8,5.83,5.83,5.83,5.86,5.91,6.01,6.07,6.09,6.1,6.06,6.04,6.03,6.0,5.99,6.04,6.1,6.19,6.24,6.29,6.3,6.27,6.26,6.3,6.33,6.36,6.33,6.27,6.26,6.19,6.1,6.0,5.9,5.84,5.84,5.91,5.99,6.03,6.13,6.2,6.29,6.34,6.39,6.46,6.53,6.54,6.57,6.57,6.59,6.54,6.53,6.54,6.6,6.61,6.64,6.61,6.57,6.49,6.36,6.23,6.16,6.09,6.0,5.97,5.97,5.96,5.89,5.81,5.76,5.73,5.7,5.71,5.73,5.79,5.87,5.93,6.03,6.11,6.14,6.21,6.29,6.3,6.3,6.23,6.14,6.07,5.99,5.9,5.8,5.7,5.69,5.79,5.87,5.91,6.0,6.06,6.13,6.13,5.96,5.81,5.77,5.7,5.67,5.63,5.66,5.81,5.94,5.96,6.0,5.99,5.91,5.83,5.69,5.56,5.5,5.44,5.39,5.4,5.44,5.47,5.51,5.53,5.51,5.57,5.64,5.71,5.81,5.86,5.94,6.04,6.19,6.31,6.39,6.46,6.56,6.57,6.6,6.53,6.5,6.53,6.54,6.54,6.64,6.61,6.56,6.46,6.3,6.13,6.0,5.84,5.81,5.91,6.03,6.19,6.31,6.4,6.44,6.46,6.4,6.37,6.33,6.33,6.34,6.36,6.37,6.4,6.43,6.43,6.41,6.41,6.49,6.57,6.66,6.69,6.69,6.73,6.77,6.81,6.81,6.87,6.91,6.96,6.96,6.93,6.91,6.94,6.89,6.89,6.96,7.07,7.16,7.14,7.13,7.16,7.19,7.16,7.11,7.07,7.07,7.07,7.07,7.06,7.11,7.13,7.21,7.26,7.29,7.29,7.26,7.19,7.17,7.14,7.14,7.09],\"yaxis\":\"y\"}],                        {\"height\":500,\"legend\":{\"tracegroupgap\":0},\"plot_bgcolor\":\"rgba(0,0,0,0.05)\",\"template\":{\"data\":{\"bar\":[{\"error_x\":{\"color\":\"#2a3f5f\"},\"error_y\":{\"color\":\"#2a3f5f\"},\"marker\":{\"line\":{\"color\":\"#E5ECF6\",\"width\":0.5},\"pattern\":{\"fillmode\":\"overlay\",\"size\":10,\"solidity\":0.2}},\"type\":\"bar\"}],\"barpolar\":[{\"marker\":{\"line\":{\"color\":\"#E5ECF6\",\"width\":0.5},\"pattern\":{\"fillmode\":\"overlay\",\"size\":10,\"solidity\":0.2}},\"type\":\"barpolar\"}],\"carpet\":[{\"aaxis\":{\"endlinecolor\":\"#2a3f5f\",\"gridcolor\":\"white\",\"linecolor\":\"white\",\"minorgridcolor\":\"white\",\"startlinecolor\":\"#2a3f5f\"},\"baxis\":{\"endlinecolor\":\"#2a3f5f\",\"gridcolor\":\"white\",\"linecolor\":\"white\",\"minorgridcolor\":\"white\",\"startlinecolor\":\"#2a3f5f\"},\"type\":\"carpet\"}],\"choropleth\":[{\"colorbar\":{\"outlinewidth\":0,\"ticks\":\"\"},\"type\":\"choropleth\"}],\"contour\":[{\"colorbar\":{\"outlinewidth\":0,\"ticks\":\"\"},\"colorscale\":[[0.0,\"#0d0887\"],[0.1111111111111111,\"#46039f\"],[0.2222222222222222,\"#7201a8\"],[0.3333333333333333,\"#9c179e\"],[0.4444444444444444,\"#bd3786\"],[0.5555555555555556,\"#d8576b\"],[0.6666666666666666,\"#ed7953\"],[0.7777777777777778,\"#fb9f3a\"],[0.8888888888888888,\"#fdca26\"],[1.0,\"#f0f921\"]],\"type\":\"contour\"}],\"contourcarpet\":[{\"colorbar\":{\"outlinewidth\":0,\"ticks\":\"\"},\"type\":\"contourcarpet\"}],\"heatmap\":[{\"colorbar\":{\"outlinewidth\":0,\"ticks\":\"\"},\"colorscale\":[[0.0,\"#0d0887\"],[0.1111111111111111,\"#46039f\"],[0.2222222222222222,\"#7201a8\"],[0.3333333333333333,\"#9c179e\"],[0.4444444444444444,\"#bd3786\"],[0.5555555555555556,\"#d8576b\"],[0.6666666666666666,\"#ed7953\"],[0.7777777777777778,\"#fb9f3a\"],[0.8888888888888888,\"#fdca26\"],[1.0,\"#f0f921\"]],\"type\":\"heatmap\"}],\"heatmapgl\":[{\"colorbar\":{\"outlinewidth\":0,\"ticks\":\"\"},\"colorscale\":[[0.0,\"#0d0887\"],[0.1111111111111111,\"#46039f\"],[0.2222222222222222,\"#7201a8\"],[0.3333333333333333,\"#9c179e\"],[0.4444444444444444,\"#bd3786\"],[0.5555555555555556,\"#d8576b\"],[0.6666666666666666,\"#ed7953\"],[0.7777777777777778,\"#fb9f3a\"],[0.8888888888888888,\"#fdca26\"],[1.0,\"#f0f921\"]],\"type\":\"heatmapgl\"}],\"histogram\":[{\"marker\":{\"pattern\":{\"fillmode\":\"overlay\",\"size\":10,\"solidity\":0.2}},\"type\":\"histogram\"}],\"histogram2d\":[{\"colorbar\":{\"outlinewidth\":0,\"ticks\":\"\"},\"colorscale\":[[0.0,\"#0d0887\"],[0.1111111111111111,\"#46039f\"],[0.2222222222222222,\"#7201a8\"],[0.3333333333333333,\"#9c179e\"],[0.4444444444444444,\"#bd3786\"],[0.5555555555555556,\"#d8576b\"],[0.6666666666666666,\"#ed7953\"],[0.7777777777777778,\"#fb9f3a\"],[0.8888888888888888,\"#fdca26\"],[1.0,\"#f0f921\"]],\"type\":\"histogram2d\"}],\"histogram2dcontour\":[{\"colorbar\":{\"outlinewidth\":0,\"ticks\":\"\"},\"colorscale\":[[0.0,\"#0d0887\"],[0.1111111111111111,\"#46039f\"],[0.2222222222222222,\"#7201a8\"],[0.3333333333333333,\"#9c179e\"],[0.4444444444444444,\"#bd3786\"],[0.5555555555555556,\"#d8576b\"],[0.6666666666666666,\"#ed7953\"],[0.7777777777777778,\"#fb9f3a\"],[0.8888888888888888,\"#fdca26\"],[1.0,\"#f0f921\"]],\"type\":\"histogram2dcontour\"}],\"mesh3d\":[{\"colorbar\":{\"outlinewidth\":0,\"ticks\":\"\"},\"type\":\"mesh3d\"}],\"parcoords\":[{\"line\":{\"colorbar\":{\"outlinewidth\":0,\"ticks\":\"\"}},\"type\":\"parcoords\"}],\"pie\":[{\"automargin\":true,\"type\":\"pie\"}],\"scatter\":[{\"marker\":{\"colorbar\":{\"outlinewidth\":0,\"ticks\":\"\"}},\"type\":\"scatter\"}],\"scatter3d\":[{\"line\":{\"colorbar\":{\"outlinewidth\":0,\"ticks\":\"\"}},\"marker\":{\"colorbar\":{\"outlinewidth\":0,\"ticks\":\"\"}},\"type\":\"scatter3d\"}],\"scattercarpet\":[{\"marker\":{\"colorbar\":{\"outlinewidth\":0,\"ticks\":\"\"}},\"type\":\"scattercarpet\"}],\"scattergeo\":[{\"marker\":{\"colorbar\":{\"outlinewidth\":0,\"ticks\":\"\"}},\"type\":\"scattergeo\"}],\"scattergl\":[{\"marker\":{\"colorbar\":{\"outlinewidth\":0,\"ticks\":\"\"}},\"type\":\"scattergl\"}],\"scattermapbox\":[{\"marker\":{\"colorbar\":{\"outlinewidth\":0,\"ticks\":\"\"}},\"type\":\"scattermapbox\"}],\"scatterpolar\":[{\"marker\":{\"colorbar\":{\"outlinewidth\":0,\"ticks\":\"\"}},\"type\":\"scatterpolar\"}],\"scatterpolargl\":[{\"marker\":{\"colorbar\":{\"outlinewidth\":0,\"ticks\":\"\"}},\"type\":\"scatterpolargl\"}],\"scatterternary\":[{\"marker\":{\"colorbar\":{\"outlinewidth\":0,\"ticks\":\"\"}},\"type\":\"scatterternary\"}],\"surface\":[{\"colorbar\":{\"outlinewidth\":0,\"ticks\":\"\"},\"colorscale\":[[0.0,\"#0d0887\"],[0.1111111111111111,\"#46039f\"],[0.2222222222222222,\"#7201a8\"],[0.3333333333333333,\"#9c179e\"],[0.4444444444444444,\"#bd3786\"],[0.5555555555555556,\"#d8576b\"],[0.6666666666666666,\"#ed7953\"],[0.7777777777777778,\"#fb9f3a\"],[0.8888888888888888,\"#fdca26\"],[1.0,\"#f0f921\"]],\"type\":\"surface\"}],\"table\":[{\"cells\":{\"fill\":{\"color\":\"#EBF0F8\"},\"line\":{\"color\":\"white\"}},\"header\":{\"fill\":{\"color\":\"#C8D4E3\"},\"line\":{\"color\":\"white\"}},\"type\":\"table\"}]},\"layout\":{\"annotationdefaults\":{\"arrowcolor\":\"#2a3f5f\",\"arrowhead\":0,\"arrowwidth\":1},\"autotypenumbers\":\"strict\",\"coloraxis\":{\"colorbar\":{\"outlinewidth\":0,\"ticks\":\"\"}},\"colorscale\":{\"diverging\":[[0,\"#8e0152\"],[0.1,\"#c51b7d\"],[0.2,\"#de77ae\"],[0.3,\"#f1b6da\"],[0.4,\"#fde0ef\"],[0.5,\"#f7f7f7\"],[0.6,\"#e6f5d0\"],[0.7,\"#b8e186\"],[0.8,\"#7fbc41\"],[0.9,\"#4d9221\"],[1,\"#276419\"]],\"sequential\":[[0.0,\"#0d0887\"],[0.1111111111111111,\"#46039f\"],[0.2222222222222222,\"#7201a8\"],[0.3333333333333333,\"#9c179e\"],[0.4444444444444444,\"#bd3786\"],[0.5555555555555556,\"#d8576b\"],[0.6666666666666666,\"#ed7953\"],[0.7777777777777778,\"#fb9f3a\"],[0.8888888888888888,\"#fdca26\"],[1.0,\"#f0f921\"]],\"sequentialminus\":[[0.0,\"#0d0887\"],[0.1111111111111111,\"#46039f\"],[0.2222222222222222,\"#7201a8\"],[0.3333333333333333,\"#9c179e\"],[0.4444444444444444,\"#bd3786\"],[0.5555555555555556,\"#d8576b\"],[0.6666666666666666,\"#ed7953\"],[0.7777777777777778,\"#fb9f3a\"],[0.8888888888888888,\"#fdca26\"],[1.0,\"#f0f921\"]]},\"colorway\":[\"#636efa\",\"#EF553B\",\"#00cc96\",\"#ab63fa\",\"#FFA15A\",\"#19d3f3\",\"#FF6692\",\"#B6E880\",\"#FF97FF\",\"#FECB52\"],\"font\":{\"color\":\"#2a3f5f\"},\"geo\":{\"bgcolor\":\"white\",\"lakecolor\":\"white\",\"landcolor\":\"#E5ECF6\",\"showlakes\":true,\"showland\":true,\"subunitcolor\":\"white\"},\"hoverlabel\":{\"align\":\"left\"},\"hovermode\":\"closest\",\"mapbox\":{\"style\":\"light\"},\"paper_bgcolor\":\"white\",\"plot_bgcolor\":\"#E5ECF6\",\"polar\":{\"angularaxis\":{\"gridcolor\":\"white\",\"linecolor\":\"white\",\"ticks\":\"\"},\"bgcolor\":\"#E5ECF6\",\"radialaxis\":{\"gridcolor\":\"white\",\"linecolor\":\"white\",\"ticks\":\"\"}},\"scene\":{\"xaxis\":{\"backgroundcolor\":\"#E5ECF6\",\"gridcolor\":\"white\",\"gridwidth\":2,\"linecolor\":\"white\",\"showbackground\":true,\"ticks\":\"\",\"zerolinecolor\":\"white\"},\"yaxis\":{\"backgroundcolor\":\"#E5ECF6\",\"gridcolor\":\"white\",\"gridwidth\":2,\"linecolor\":\"white\",\"showbackground\":true,\"ticks\":\"\",\"zerolinecolor\":\"white\"},\"zaxis\":{\"backgroundcolor\":\"#E5ECF6\",\"gridcolor\":\"white\",\"gridwidth\":2,\"linecolor\":\"white\",\"showbackground\":true,\"ticks\":\"\",\"zerolinecolor\":\"white\"}},\"shapedefaults\":{\"line\":{\"color\":\"#2a3f5f\"}},\"ternary\":{\"aaxis\":{\"gridcolor\":\"white\",\"linecolor\":\"white\",\"ticks\":\"\"},\"baxis\":{\"gridcolor\":\"white\",\"linecolor\":\"white\",\"ticks\":\"\"},\"bgcolor\":\"#E5ECF6\",\"caxis\":{\"gridcolor\":\"white\",\"linecolor\":\"white\",\"ticks\":\"\"}},\"title\":{\"x\":0.05},\"xaxis\":{\"automargin\":true,\"gridcolor\":\"white\",\"linecolor\":\"white\",\"ticks\":\"\",\"title\":{\"standoff\":15},\"zerolinecolor\":\"white\",\"zerolinewidth\":2},\"yaxis\":{\"automargin\":true,\"gridcolor\":\"white\",\"linecolor\":\"white\",\"ticks\":\"\",\"title\":{\"standoff\":15},\"zerolinecolor\":\"white\",\"zerolinewidth\":2}}},\"title\":{\"text\":\"Waiting Time - 7 days Moving Average Over Time\"},\"width\":1250,\"xaxis\":{\"anchor\":\"y\",\"domain\":[0.0,1.0],\"rangeselector\":{\"buttons\":[{\"count\":1,\"label\":\"1m\",\"step\":\"month\",\"stepmode\":\"backward\"},{\"count\":6,\"label\":\"6m\",\"step\":\"month\",\"stepmode\":\"backward\"},{\"count\":1,\"label\":\"YTD\",\"step\":\"year\",\"stepmode\":\"todate\"}]},\"rangeslider\":{\"visible\":true},\"title\":{\"text\":\"date\"}},\"yaxis\":{\"anchor\":\"x\",\"domain\":[0.0,1.0],\"title\":{\"text\":\"Waiting Days\"}}},                        {\"responsive\": true}                    ).then(function(){\n",
       "                            \n",
       "var gd = document.getElementById('d94d4250-2a3b-436b-a6a5-9cce7b75e2da');\n",
       "var x = new MutationObserver(function (mutations, observer) {{\n",
       "        var display = window.getComputedStyle(gd).display;\n",
       "        if (!display || display === 'none') {{\n",
       "            console.log([gd, 'removed!']);\n",
       "            Plotly.purge(gd);\n",
       "            observer.disconnect();\n",
       "        }}\n",
       "}});\n",
       "\n",
       "// Listen for the removal of the full notebook cells\n",
       "var notebookContainer = gd.closest('#notebook-container');\n",
       "if (notebookContainer) {{\n",
       "    x.observe(notebookContainer, {childList: true});\n",
       "}}\n",
       "\n",
       "// Listen for the clearing of the current output cell\n",
       "var outputEl = gd.closest('.output');\n",
       "if (outputEl) {{\n",
       "    x.observe(outputEl, {childList: true});\n",
       "}}\n",
       "\n",
       "                        })                };                });            </script>        </div>"
      ]
     },
     "metadata": {},
     "output_type": "display_data"
    }
   ],
   "source": [
    "waiting_time_df['date'] = waiting_time_df.index\n",
    "\n",
    "fig = px.line(waiting_time_df, x = 'date', y = '7d MA', \n",
    "              title = f'Waiting Time - 7 days Moving Average Over Time')\n",
    "\n",
    "fig.update_traces(hovertemplate='Date: %{x|%Y-%m-%d}<br>Day: %{x|%A}<br>7d MA: %{y:.1f}')\n",
    "\n",
    "# Add buttons with dates, if applicable\n",
    "date_buttons = []\n",
    "date_buttons = add_date_buttons(1, waiting_time_df) # 1 month back\n",
    "date_buttons = add_date_buttons(6, waiting_time_df) # 6 months back\n",
    "date_buttons = add_date_buttons(12, waiting_time_df) # 12 months back\n",
    "date_buttons.append(dict(count = 1, label = \"YTD\", step = \"year\", stepmode = \"todate\"))\n",
    "\n",
    "fig.update_xaxes( rangeslider_visible = True, rangeselector = dict(buttons = date_buttons))\n",
    "fig.update_yaxes(title_text = 'Waiting Days')\n",
    "fig.update_layout(\n",
    "    width=1250,\n",
    "    height=500,\n",
    "    plot_bgcolor = 'rgba(0,0,0,0.05)')\n",
    "\n",
    "fig.show()"
   ]
  }
 ],
 "metadata": {
  "kernelspec": {
   "display_name": "Python 3",
   "language": "python",
   "name": "python3"
  },
  "language_info": {
   "codemirror_mode": {
    "name": "ipython",
    "version": 3
   },
   "file_extension": ".py",
   "mimetype": "text/x-python",
   "name": "python",
   "nbconvert_exporter": "python",
   "pygments_lexer": "ipython3",
   "version": "3.8.5"
  }
 },
 "nbformat": 4,
 "nbformat_minor": 4
}
