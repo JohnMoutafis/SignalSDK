{
 "cells": [
  {
   "cell_type": "markdown",
   "metadata": {},
   "source": [
    "# Voyages API  - Port Congestion\n",
    "\n",
    "## Run this example in [Colab](https://colab.research.google.com/github/SignalOceanSdk/SignalSDK/blob/master/docs/examples/jupyter/VoyagesAPI/Port%20Congestion.ipynb)"
   ]
  },
  {
   "cell_type": "markdown",
   "metadata": {},
   "source": [
    "## Setup\n",
    "Install the Signal Ocean SDK:\n",
    "```\n",
    "pip install signal-ocean\n",
    "```\n",
    "Set your subscription key acquired here: https://apis.signalocean.com/profile"
   ]
  },
  {
   "cell_type": "code",
   "execution_count": 1,
   "metadata": {},
   "outputs": [
    {
     "name": "stdout",
     "output_type": "stream",
     "text": [
      "Requirement already satisfied: signal-ocean in c:\\repos\\signalsdk\\signalsdk (1.0.4)\n",
      "Requirement already satisfied: requests<3,>=2.23.0 in c:\\users\\l.argiriou\\miniconda3\\envs\\minimal_ds\\lib\\site-packages (from signal-ocean) (2.24.0)\n",
      "Requirement already satisfied: python-dateutil<3,>=2.8.1 in c:\\users\\l.argiriou\\appdata\\roaming\\python\\python38\\site-packages (from signal-ocean) (2.8.1)\n",
      "Requirement already satisfied: pandas<2,>=1.0.3 in c:\\users\\l.argiriou\\miniconda3\\envs\\minimal_ds\\lib\\site-packages (from signal-ocean) (1.3.0)\n",
      "Requirement already satisfied: pytz>=2017.3 in c:\\users\\l.argiriou\\miniconda3\\envs\\minimal_ds\\lib\\site-packages (from pandas<2,>=1.0.3->signal-ocean) (2020.1)\n",
      "Requirement already satisfied: numpy>=1.17.3 in c:\\users\\l.argiriou\\miniconda3\\envs\\minimal_ds\\lib\\site-packages (from pandas<2,>=1.0.3->signal-ocean) (1.21.0)\n",
      "Requirement already satisfied: six>=1.5 in c:\\users\\l.argiriou\\miniconda3\\envs\\minimal_ds\\lib\\site-packages (from python-dateutil<3,>=2.8.1->signal-ocean) (1.15.0)\n",
      "Requirement already satisfied: idna<3,>=2.5 in c:\\users\\l.argiriou\\miniconda3\\envs\\minimal_ds\\lib\\site-packages (from requests<3,>=2.23.0->signal-ocean) (2.10)\n",
      "Requirement already satisfied: certifi>=2017.4.17 in c:\\users\\l.argiriou\\miniconda3\\envs\\minimal_ds\\lib\\site-packages (from requests<3,>=2.23.0->signal-ocean) (2020.12.5)\n",
      "Requirement already satisfied: urllib3!=1.25.0,!=1.25.1,<1.26,>=1.21.1 in c:\\users\\l.argiriou\\miniconda3\\envs\\minimal_ds\\lib\\site-packages (from requests<3,>=2.23.0->signal-ocean) (1.25.10)\n",
      "Requirement already satisfied: chardet<4,>=3.0.2 in c:\\users\\l.argiriou\\miniconda3\\envs\\minimal_ds\\lib\\site-packages (from requests<3,>=2.23.0->signal-ocean) (3.0.4)\n",
      "Note: you may need to restart the kernel to use updated packages.\n"
     ]
    },
    {
     "name": "stderr",
     "output_type": "stream",
     "text": [
      "WARNING: You are using pip version 20.3.3; however, version 21.3.1 is available.\n",
      "You should consider upgrading via the 'C:\\Users\\l.argiriou\\Miniconda3\\envs\\minimal_ds\\python.exe -m pip install --upgrade pip' command.\n"
     ]
    }
   ],
   "source": [
    "pip install signal-ocean"
   ]
  },
  {
   "cell_type": "code",
   "execution_count": 2,
   "metadata": {},
   "outputs": [],
   "source": [
    "signal_ocean_api_key = \"\"  # replace with your subscription key"
   ]
  },
  {
   "cell_type": "markdown",
   "metadata": {},
   "source": [
    "## Scope"
   ]
  },
  {
   "cell_type": "markdown",
   "metadata": {},
   "source": [
    "This example provides information about the following:  \n",
    "* Live & historical number of vessels waiting/operating at ports/areas of interest.\n",
    "* Historical waiting time of vessels at ports/areas of interest."
   ]
  },
  {
   "cell_type": "markdown",
   "metadata": {},
   "source": [
    "## Methodology"
   ]
  },
  {
   "cell_type": "markdown",
   "metadata": {},
   "source": [
    "We are going to use voyages that have started over the last 365 days.  \n",
    "\n",
    "Generally, in order to identify the time intervals that a vessel was waiting/operating during a port call, we have to drill down to event details of its voyage.  \n",
    "We will built up the methodology used in more details as we go."
   ]
  },
  {
   "cell_type": "markdown",
   "metadata": {},
   "source": [
    "## Retrieve data"
   ]
  },
  {
   "cell_type": "code",
   "execution_count": 3,
   "metadata": {},
   "outputs": [],
   "source": [
    "from signal_ocean import Connection\n",
    "from signal_ocean.voyages import VoyagesAPI\n",
    "\n",
    "import pandas as pd\n",
    "pd.set_option('display.max_columns', None)\n",
    "\n",
    "import numpy as np\n",
    "from datetime import date, datetime, timedelta\n",
    "from functools import reduce\n",
    "import plotly.express as px\n",
    "#from plotly.offline import iplot, init_notebook_mode\n",
    "#init_notebook_mode()"
   ]
  },
  {
   "cell_type": "code",
   "execution_count": 4,
   "metadata": {},
   "outputs": [],
   "source": [
    "import plotly.io as pio\n",
    "pio.renderers.default = \"iframe\""
   ]
  },
  {
   "cell_type": "markdown",
   "metadata": {},
   "source": [
    "Port congestion will be created using the voyages data api."
   ]
  },
  {
   "cell_type": "code",
   "execution_count": 5,
   "metadata": {},
   "outputs": [],
   "source": [
    "connection = Connection(signal_ocean_api_key)\n",
    "api = VoyagesAPI(connection)"
   ]
  },
  {
   "cell_type": "markdown",
   "metadata": {},
   "source": [
    "In this example, we will retrieve voyages of Capesize vessels that started during the last 365 days."
   ]
  },
  {
   "cell_type": "code",
   "execution_count": 6,
   "metadata": {},
   "outputs": [
    {
     "name": "stdout",
     "output_type": "stream",
     "text": [
      "Wall time: 37.8 s\n"
     ]
    }
   ],
   "source": [
    "%%time\n",
    "capesize_id = 70\n",
    "date_from = date.today() - timedelta(days = 365)\n",
    "\n",
    "voyages_flat = api.get_voyages_flat(\n",
    "    vessel_class_id=capesize_id, date_from=date_from\n",
    ")"
   ]
  },
  {
   "cell_type": "code",
   "execution_count": 7,
   "metadata": {},
   "outputs": [],
   "source": [
    "voyages_df = pd.DataFrame(v.__dict__ for v in voyages_flat.voyages)\n",
    "events_df = pd.DataFrame(v.__dict__ for v in voyages_flat.events)\n",
    "events_details_df = pd.DataFrame(v.__dict__ for v in voyages_flat.event_details)\n",
    "geos_df = pd.DataFrame(v.__dict__ for v in voyages_flat.geos).drop_duplicates()"
   ]
  },
  {
   "cell_type": "markdown",
   "metadata": {},
   "source": [
    "We merge voyages, events and event details in order to capture each detail of each voyage."
   ]
  },
  {
   "cell_type": "code",
   "execution_count": 8,
   "metadata": {},
   "outputs": [],
   "source": [
    "left_merge_keys = iter(['id','id_ev'])\n",
    "right_merge_keys = iter(['voyage_id','event_id'])\n",
    "suffixes = iter([('_voy','_ev'),('_ev','_det')])\n",
    "\n",
    "voyages_extd = reduce(\n",
    "    lambda left,right: pd.merge(\n",
    "        left,\n",
    "        right,\n",
    "        how ='left',\n",
    "        left_on = next(left_merge_keys,None),\n",
    "        right_on = next(right_merge_keys,None),\n",
    "        suffixes = next(suffixes,None)), \n",
    "    [voyages_df, events_df, events_details_df]\n",
    ")"
   ]
  },
  {
   "cell_type": "markdown",
   "metadata": {},
   "source": [
    "We need only port calls where the vessels executed an operation (Load/Discharge).  \n",
    "We exlude STS operations since they do not add up to port congestion."
   ]
  },
  {
   "cell_type": "code",
   "execution_count": 9,
   "metadata": {},
   "outputs": [],
   "source": [
    "voyages_extd = voyages_extd[\n",
    "    (voyages_extd['purpose'].isin(['Load', 'Discharge'])) &\n",
    "    (voyages_extd['event_detail_type'] != 'StS')\n",
    "]"
   ]
  },
  {
   "cell_type": "markdown",
   "metadata": {},
   "source": [
    "Port Congestion calculation takes into account also stopped vessels outside the port/anchorage limits using the forecasted part of the voyage (mainly driven from AIS).  \n",
    "This is achieved by 'connecting' future(predicted) port calls with their previous stops, given that the stops ended during the last 24 hours from the beginnning of the port calls.  \n",
    "The above results to new extended port calls that span from previous stop arrival date to future portcall sailing date."
   ]
  },
  {
   "cell_type": "code",
   "execution_count": 10,
   "metadata": {},
   "outputs": [
    {
     "name": "stdout",
     "output_type": "stream",
     "text": [
      "Stops-Future PortCalls Connected: 74\n"
     ]
    }
   ],
   "source": [
    "future_portcalls = (\n",
    "    events_df\n",
    "    .loc[\n",
    "    (events_df['purpose'].isin(['Load', 'Discharge'])) & \n",
    "    (events_df['event_horizon'] == 'Future')\n",
    "    ]\n",
    ")\n",
    "\n",
    "stops = events_df.loc[(events_df['purpose'] == 'Stop')]\n",
    "\n",
    "future_portcalls_extd = future_portcalls.merge(\n",
    "    stops, \n",
    "    how = 'inner',\n",
    "    left_on = 'voyage_id', \n",
    "    right_on = 'voyage_id', \n",
    "    suffixes = ('_fportcalls', '_stops')\n",
    ")\n",
    "\n",
    "future_portcalls_extd['stop_portcall_diff'] = (\n",
    "    (future_portcalls_extd['arrival_date_fportcalls'] - \n",
    "     future_portcalls_extd['sailing_date_stops'])\n",
    "    .dt\n",
    "    .total_seconds()\n",
    ")/3600\n",
    "\n",
    "future_portcalls_extd = (\n",
    "    future_portcalls_extd\n",
    "    .loc[future_portcalls_extd['stop_portcall_diff'] <= 24]\n",
    ")\n",
    "\n",
    "future_portcalls_extd = (\n",
    "    future_portcalls_extd\n",
    "    .sort_values('sailing_date_stops')\n",
    "    .groupby('voyage_id')\n",
    "    .tail(1)\n",
    ")\n",
    "\n",
    "future_portcalls_extd['original_sailing_date_fportcalls'] = future_portcalls_extd['sailing_date_fportcalls']\n",
    "print(f'Stops-Future PortCalls Connected: {future_portcalls_extd.shape[0]}')"
   ]
  },
  {
   "cell_type": "markdown",
   "metadata": {},
   "source": [
    "In the code block below we are merging the oringinal event details(enriched with events and voyage info) with the extended port calls we mentioned above.  \n",
    "This aims to update the event details attributes for the extended port calls.  \n",
    "The result of the merge will produce a column named Exist which indicates the following:  \n",
    "* Exist = 'both': \"connected\" Stops-Future PortCalls\n",
    "* Exist = 'left_only': original PortCalls, without connected Stops-Future PortCalls"
   ]
  },
  {
   "cell_type": "code",
   "execution_count": 11,
   "metadata": {},
   "outputs": [],
   "source": [
    "voyages_final_df = (\n",
    "    voyages_extd\n",
    "    .merge(\n",
    "        future_portcalls_extd, \n",
    "        how=\"outer\", \n",
    "        left_on=['id_voy', 'id_ev'], \n",
    "        right_on=['voyage_id', 'id_fportcalls'], \n",
    "        suffixes=('_connected', '_portcalls'), \n",
    "        indicator='Exist'\n",
    "    )\n",
    ")"
   ]
  },
  {
   "cell_type": "markdown",
   "metadata": {},
   "source": [
    "## Waiting/Operating Intervals Calculation"
   ]
  },
  {
   "cell_type": "markdown",
   "metadata": {},
   "source": [
    "In a few words, the date range between start_time_of_operation and end_time_of_operation(sailing date) will be marked as Operating, \n",
    "and the rest of the days inside each port call are going to be marked as waiting.  \n",
    "Later on we will dive into further details."
   ]
  },
  {
   "cell_type": "markdown",
   "metadata": {
    "tags": []
   },
   "source": [
    "### Waiting  \n",
    "\n",
    "We will split the port calls into 4 categories whose waiting interval calculation is differentiated.  \n",
    "For each category start/end time of the waiting interval is calculated as follows:  \n",
    "* **Historical Port Calls with start time of operation** : \n",
    "    * waiting_time_start -> event arrival date\n",
    "    * waiting_time_end -> one day prior to the start time of operation\n",
    "* **Historical Port Calls without start time of operation** :    \n",
    "(Note) A historical port call may lack the attribute start time of operation due to low ais density during the port call.\n",
    "    * waiting_time_start -> event arrival date\n",
    "    * waiting_time_end -> event detail sailing date \n",
    "* **Current Port Calls without start time of operation** :    \n",
    "(Note) A Current port call may also have event_horizon = 'Future' due to missing AIS data.\n",
    "    * waiting_time_start -> event arrival date\n",
    "    * waiting_time_end -> event sailing date  \n",
    "* **Extended Port Calls** :    \n",
    "(Note) A Current port call may also have event_horizon = 'Future' due to missing AIS data.\n",
    "    * waiting_time_start -> arrival date of previous stop\n",
    "    * waiting_time_end -> event sailing date  "
   ]
  },
  {
   "cell_type": "code",
   "execution_count": 12,
   "metadata": {},
   "outputs": [],
   "source": [
    "hist_port_calls_with_start_time_of_operation = (\n",
    "    voyages_final_df.start_time_of_operation.notna()\n",
    ")\n",
    "\n",
    "hist_port_calls_without_start_time_of_operation = (\n",
    "    (voyages_final_df.start_time_of_operation.isna()) &\n",
    "    (voyages_final_df.event_horizon == 'Historical')\n",
    ")\n",
    "\n",
    "current_port_calls_without_start_time_of_operation = (\n",
    "    (voyages_final_df.start_time_of_operation.isna()) &\n",
    "    (voyages_final_df.event_horizon.isin(['Current', 'Future']))\n",
    ")\n",
    "\n",
    "port_calls_merged_with_previous_stops = (\n",
    "    (voyages_final_df.Exist == 'both')\n",
    ")"
   ]
  },
  {
   "cell_type": "code",
   "execution_count": 13,
   "metadata": {},
   "outputs": [],
   "source": [
    "voyages_final_df.loc[\n",
    "    hist_port_calls_with_start_time_of_operation |\n",
    "    hist_port_calls_without_start_time_of_operation |\n",
    "    current_port_calls_without_start_time_of_operation,\n",
    "    'waiting_time_start'] = (\n",
    "    voyages_final_df[\n",
    "    hist_port_calls_with_start_time_of_operation |\n",
    "    hist_port_calls_without_start_time_of_operation |\n",
    "    current_port_calls_without_start_time_of_operation \n",
    "    ].arrival_date_ev\n",
    ")\n",
    "\n",
    "voyages_final_df.loc[\n",
    "    port_calls_merged_with_previous_stops,\n",
    "    'waiting_time_start'] = (\n",
    "    voyages_final_df[port_calls_merged_with_previous_stops]\n",
    "    .arrival_date_stops\n",
    ")\n",
    "\n",
    "\n",
    "voyages_final_df.loc[\n",
    "    hist_port_calls_with_start_time_of_operation,\n",
    "    'waiting_time_end'] = (\n",
    "    voyages_final_df[hist_port_calls_with_start_time_of_operation]\n",
    "    .start_time_of_operation\n",
    "    .apply(lambda x:datetime.combine(x, datetime.min.time()) - timedelta(minutes = 1))\n",
    ")\n",
    "    \n",
    "voyages_final_df.loc[\n",
    "    hist_port_calls_without_start_time_of_operation,\n",
    "    'waiting_time_end'] = (\n",
    "    voyages_final_df[hist_port_calls_without_start_time_of_operation]\n",
    "    .sailing_date_det\n",
    ")\n",
    "    \n",
    "voyages_final_df.loc[\n",
    "    current_port_calls_without_start_time_of_operation,\n",
    "    'waiting_time_end'] = (\n",
    "    voyages_final_df[current_port_calls_without_start_time_of_operation].sailing_date_ev\n",
    ")\n",
    "\n",
    "voyages_final_df.loc[\n",
    "    port_calls_merged_with_previous_stops,\n",
    "    'waiting_time_end'] = (\n",
    "    voyages_final_df[port_calls_merged_with_previous_stops]\n",
    "    .sailing_date_fportcalls\n",
    ")\n"
   ]
  },
  {
   "cell_type": "markdown",
   "metadata": {},
   "source": [
    "### Operating  \n",
    "\n",
    "The operating time interval is simply calculated by taking as operating_time_start the start time of operation and as operating_time_end the end time of operation.  \n",
    "In cases that later is not available the event sailing date is used instead."
   ]
  },
  {
   "cell_type": "code",
   "execution_count": 14,
   "metadata": {},
   "outputs": [],
   "source": [
    "voyages_final_df.loc[\n",
    "    hist_port_calls_with_start_time_of_operation,\n",
    "    'operating_time_start'] = (\n",
    "    voyages_final_df[\n",
    "    hist_port_calls_with_start_time_of_operation \n",
    "    ].start_time_of_operation\n",
    ")\n",
    "    \n",
    "voyages_final_df.loc[\n",
    "    hist_port_calls_with_start_time_of_operation &\n",
    "    (voyages_final_df.end_time_of_operation.notna()),\n",
    "    'operating_time_end'] = (\n",
    "    voyages_final_df[\n",
    "    hist_port_calls_with_start_time_of_operation &\n",
    "    (voyages_final_df.end_time_of_operation.notna())\n",
    "    ].end_time_of_operation\n",
    ")\n",
    "    \n",
    "voyages_final_df.loc[\n",
    "    hist_port_calls_with_start_time_of_operation &\n",
    "    (voyages_final_df.end_time_of_operation.isna()),\n",
    "    'operating_time_end'] = (\n",
    "    voyages_final_df[\n",
    "    hist_port_calls_with_start_time_of_operation &\n",
    "    (voyages_final_df.end_time_of_operation.isna())\n",
    "    ].sailing_date_ev\n",
    ")"
   ]
  },
  {
   "cell_type": "markdown",
   "metadata": {
    "tags": []
   },
   "source": [
    "## Calculating the Mode Per Day  \n",
    "\n",
    "The code below is used to mark each pair of date and imo with the correct Mode(Waiting/Operating).  \n",
    "We are using the assumption that for each day one vessel can be either waiting or operating and not both. In case of overlapping between waiting and operating interval, the days inside are marked as operating."
   ]
  },
  {
   "cell_type": "code",
   "execution_count": 15,
   "metadata": {},
   "outputs": [],
   "source": [
    "voyages_final_df['waiting_duration'] = (\n",
    "    voyages_final_df\n",
    "    .apply(lambda row: pd.date_range(\n",
    "        row.waiting_time_start.date(), \n",
    "        row.waiting_time_end.date()),\n",
    "    axis = 1)\n",
    ")\n",
    "    \n",
    "voyages_final_df['operating_duration'] = (\n",
    "    voyages_final_df\n",
    "    .apply(lambda row: pd.date_range(\n",
    "        row.operating_time_start.date(), \n",
    "        row.operating_time_end.date()) if not pd.isnull(row.operating_time_start) else [], \n",
    "    axis = 1)\n",
    ")"
   ]
  },
  {
   "cell_type": "code",
   "execution_count": 16,
   "metadata": {},
   "outputs": [],
   "source": [
    "vessels_status_df = (\n",
    "    pd.concat(\n",
    "    [(voyages_final_df\n",
    "      .explode('operating_duration')\n",
    "      .rename({'operating_duration':'DayDate'}, axis='columns')\n",
    "      .assign(Mode='Operating')),\n",
    "     (voyages_final_df\n",
    "      .explode('waiting_duration')\n",
    "      .rename({'waiting_duration':'DayDate'}, axis='columns')\n",
    "      .assign(Mode='Waiting'))],\n",
    "    ignore_index = True\n",
    "    )\n",
    "    .drop_duplicates(subset = ['imo','DayDate'], keep = 'first')\n",
    ")    "
   ]
  },
  {
   "cell_type": "markdown",
   "metadata": {},
   "source": [
    "Here we are updating the columns affected by the extension of the future/predicted port calls we mentioned earlier."
   ]
  },
  {
   "cell_type": "code",
   "execution_count": 17,
   "metadata": {},
   "outputs": [],
   "source": [
    "mapping_dict = {'geo_asset_name':['geo_asset_name_fportcalls','geo_asset_name_ev'],\n",
    "                'geo_asset_id':['geo_asset_id_fportcalls','geo_asset_id_ev'], \n",
    "                'purpose':['purpose_fportcalls','purpose'],\n",
    "                'latitude':['latitude_fportcalls','latitude_ev'],\n",
    "                'longitude':['longitude_fportcalls','longitude_ev'],\n",
    "                'port_name':['port_name_fportcalls','port_name'], \n",
    "                'arrival_date':['arrival_date_stops','arrival_date_ev'],\n",
    "                }"
   ]
  },
  {
   "cell_type": "code",
   "execution_count": 18,
   "metadata": {},
   "outputs": [],
   "source": [
    "conditions = [(vessels_status_df['Exist'] == 'both'), (vessels_status_df['Exist'] != 'both')]\n",
    "for key, value in mapping_dict.items():\n",
    "    actions = [vessels_status_df[value[0]], vessels_status_df[value[1]]]\n",
    "    vessels_status_df[key] = np.select(conditions, actions, default=actions[0])"
   ]
  },
  {
   "cell_type": "code",
   "execution_count": 19,
   "metadata": {},
   "outputs": [],
   "source": [
    "#for key, value in mapping_dict.items():\n",
    "#    vessels_status_df[key] = (\n",
    "#        vessels_status_df.apply( lambda row:\n",
    "#        row[value[0]] if row.Exist == 'both'\n",
    "#        else row[value[1]], \n",
    "#        axis = 1)\n",
    "#    )"
   ]
  },
  {
   "cell_type": "code",
   "execution_count": 20,
   "metadata": {},
   "outputs": [],
   "source": [
    "vessels_status_df_datetimetz = vessels_status_df.select_dtypes('datetimetz')\n",
    "vessels_status_df[vessels_status_df_datetimetz.columns] = (\n",
    "    vessels_status_df_datetimetz\n",
    "    .apply(lambda x: x.dt.tz_convert(None), \n",
    "           axis = 0)\n",
    ")"
   ]
  },
  {
   "cell_type": "code",
   "execution_count": 21,
   "metadata": {},
   "outputs": [],
   "source": [
    "vessels_status_df = vessels_status_df[\n",
    "    vessels_status_df.DayDate.dt.date <= date.today()]"
   ]
  },
  {
   "cell_type": "markdown",
   "metadata": {},
   "source": [
    "## Business Cases and Plots"
   ]
  },
  {
   "cell_type": "markdown",
   "metadata": {
    "tags": []
   },
   "source": [
    "### Historical Port Congestion"
   ]
  },
  {
   "cell_type": "markdown",
   "metadata": {},
   "source": [
    "Historical Port Congestion is translated to the number of vessels waiting or operating Over Time.   \n",
    "In this particular example we will focus on the historical port congestion across the globe."
   ]
  },
  {
   "cell_type": "code",
   "execution_count": 22,
   "metadata": {},
   "outputs": [
    {
     "data": {
      "text/html": [
       "<div>\n",
       "<style scoped>\n",
       "    .dataframe tbody tr th:only-of-type {\n",
       "        vertical-align: middle;\n",
       "    }\n",
       "\n",
       "    .dataframe tbody tr th {\n",
       "        vertical-align: top;\n",
       "    }\n",
       "\n",
       "    .dataframe thead th {\n",
       "        text-align: right;\n",
       "    }\n",
       "</style>\n",
       "<table border=\"1\" class=\"dataframe\">\n",
       "  <thead>\n",
       "    <tr style=\"text-align: right;\">\n",
       "      <th></th>\n",
       "      <th>date</th>\n",
       "      <th>vessels</th>\n",
       "    </tr>\n",
       "  </thead>\n",
       "  <tbody>\n",
       "    <tr>\n",
       "      <th>0</th>\n",
       "      <td>2021-01-23</td>\n",
       "      <td>1</td>\n",
       "    </tr>\n",
       "    <tr>\n",
       "      <th>1</th>\n",
       "      <td>2021-01-24</td>\n",
       "      <td>1</td>\n",
       "    </tr>\n",
       "    <tr>\n",
       "      <th>2</th>\n",
       "      <td>2021-01-25</td>\n",
       "      <td>2</td>\n",
       "    </tr>\n",
       "    <tr>\n",
       "      <th>3</th>\n",
       "      <td>2021-01-26</td>\n",
       "      <td>2</td>\n",
       "    </tr>\n",
       "    <tr>\n",
       "      <th>4</th>\n",
       "      <td>2021-01-27</td>\n",
       "      <td>3</td>\n",
       "    </tr>\n",
       "    <tr>\n",
       "      <th>...</th>\n",
       "      <td>...</td>\n",
       "      <td>...</td>\n",
       "    </tr>\n",
       "    <tr>\n",
       "      <th>355</th>\n",
       "      <td>2022-01-13</td>\n",
       "      <td>482</td>\n",
       "    </tr>\n",
       "    <tr>\n",
       "      <th>356</th>\n",
       "      <td>2022-01-14</td>\n",
       "      <td>490</td>\n",
       "    </tr>\n",
       "    <tr>\n",
       "      <th>357</th>\n",
       "      <td>2022-01-15</td>\n",
       "      <td>501</td>\n",
       "    </tr>\n",
       "    <tr>\n",
       "      <th>358</th>\n",
       "      <td>2022-01-16</td>\n",
       "      <td>514</td>\n",
       "    </tr>\n",
       "    <tr>\n",
       "      <th>359</th>\n",
       "      <td>2022-01-17</td>\n",
       "      <td>507</td>\n",
       "    </tr>\n",
       "  </tbody>\n",
       "</table>\n",
       "<p>360 rows × 2 columns</p>\n",
       "</div>"
      ],
      "text/plain": [
       "          date  vessels\n",
       "0   2021-01-23        1\n",
       "1   2021-01-24        1\n",
       "2   2021-01-25        2\n",
       "3   2021-01-26        2\n",
       "4   2021-01-27        3\n",
       "..         ...      ...\n",
       "355 2022-01-13      482\n",
       "356 2022-01-14      490\n",
       "357 2022-01-15      501\n",
       "358 2022-01-16      514\n",
       "359 2022-01-17      507\n",
       "\n",
       "[360 rows x 2 columns]"
      ]
     },
     "execution_count": 22,
     "metadata": {},
     "output_type": "execute_result"
    }
   ],
   "source": [
    "num_of_vessels_time_series = vessels_status_df.groupby('DayDate')['imo'].nunique().reset_index()\n",
    "num_of_vessels_time_series.columns = ['date', 'vessels']\n",
    "num_of_vessels_time_series"
   ]
  },
  {
   "cell_type": "code",
   "execution_count": 23,
   "metadata": {},
   "outputs": [],
   "source": [
    "# Helper 2Function that adds date buttons in time series visualisations\n",
    "def add_date_buttons(months_back, time_series):\n",
    "    current_date = datetime.utcnow().date()\n",
    "    past_date = current_date - pd.DateOffset(months=months_back)\n",
    "    if (months_back < 12):\n",
    "        label_m = str(months_back) + 'm'\n",
    "        if past_date >= time_series.date.min(): date_buttons.append(dict(count = months_back, label = label_m, step = \"month\", stepmode = \"backward\"))\n",
    "    else:\n",
    "        label_y = str(int(months_back/12)) + 'y'\n",
    "        if past_date >= time_series.date.min(): date_buttons.append(dict(count = int(months_back/12), label = label_y, step = \"year\", stepmode = \"backward\"))\n",
    "    return date_buttons"
   ]
  },
  {
   "cell_type": "code",
   "execution_count": 24,
   "metadata": {},
   "outputs": [
    {
     "data": {
      "text/html": [
       "<iframe\n",
       "    scrolling=\"no\"\n",
       "    width=\"1270px\"\n",
       "    height=\"520\"\n",
       "    src=\"iframe_figures/figure_24.html\"\n",
       "    frameborder=\"0\"\n",
       "    allowfullscreen\n",
       "></iframe>\n"
      ]
     },
     "metadata": {},
     "output_type": "display_data"
    }
   ],
   "source": [
    "fig = px.line(num_of_vessels_time_series, x='date', y='vessels', \n",
    "              title = f'Number of Vessels per Day for voyages with Start Date >= {date_from}')\n",
    "\n",
    "fig.update_traces(hovertemplate='Date: %{x|%Y-%m-%d}<br>Day: %{x|%A}<br>Vessels: %{y}')\n",
    "\n",
    "# Add buttons with dates, if applicable\n",
    "date_buttons = []\n",
    "date_buttons = add_date_buttons(1, num_of_vessels_time_series) # 1 month back\n",
    "date_buttons = add_date_buttons(6, num_of_vessels_time_series) # 6 months back\n",
    "date_buttons = add_date_buttons(12, num_of_vessels_time_series) # 12 months back\n",
    "date_buttons.append(dict(count = 1, label = \"YTD\", step = \"year\", stepmode = \"todate\"))\n",
    "fig.update_xaxes(rangeslider_visible = True, rangeselector = dict(buttons = date_buttons))\n",
    "fig.update_layout(\n",
    "    width=1250,\n",
    "    height=500,\n",
    "    plot_bgcolor = 'rgba(0,0,0,0.05)')\n",
    "fig.show() "
   ]
  },
  {
   "cell_type": "markdown",
   "metadata": {},
   "source": [
    "### Live Port Congestion"
   ]
  },
  {
   "cell_type": "markdown",
   "metadata": {},
   "source": [
    "Live Port Congestion is translated to the number of vessels currently waiting or operating.  \n",
    "We also take into account vessels that have finished their current port call today or are expected to start their current port call within the day."
   ]
  },
  {
   "cell_type": "code",
   "execution_count": 25,
   "metadata": {},
   "outputs": [],
   "source": [
    "vessel_at_port_df = vessels_status_df[\n",
    "    (vessels_status_df.DayDate.dt.date == date.today())\n",
    "].copy()"
   ]
  },
  {
   "cell_type": "code",
   "execution_count": 26,
   "metadata": {},
   "outputs": [],
   "source": [
    "vessel_at_port_df['days_at_port'] = (\n",
    "    (vessel_at_port_df.DayDate - vessel_at_port_df['arrival_date'])\n",
    "    .dt\n",
    "    .total_seconds()\n",
    "    /(60*60*24.0)\n",
    ")"
   ]
  },
  {
   "cell_type": "code",
   "execution_count": 27,
   "metadata": {},
   "outputs": [],
   "source": [
    "vessel_at_port_df.loc[vessel_at_port_df.days_at_port < 0, 'days_at_port'] = None"
   ]
  },
  {
   "cell_type": "code",
   "execution_count": 28,
   "metadata": {},
   "outputs": [],
   "source": [
    "vessel_at_port_df = vessel_at_port_df.merge(\n",
    "    geos_df,\n",
    "    how = 'inner',\n",
    "    left_on = 'geo_asset_id',\n",
    "    right_on = 'id',\n",
    "    suffixes = ['_at_port','_geos']\n",
    ")"
   ]
  },
  {
   "cell_type": "markdown",
   "metadata": {},
   "source": [
    "#### Live Congestion in Ningbo"
   ]
  },
  {
   "cell_type": "code",
   "execution_count": 29,
   "metadata": {},
   "outputs": [
    {
     "data": {
      "text/html": [
       "<div>\n",
       "<style scoped>\n",
       "    .dataframe tbody tr th:only-of-type {\n",
       "        vertical-align: middle;\n",
       "    }\n",
       "\n",
       "    .dataframe tbody tr th {\n",
       "        vertical-align: top;\n",
       "    }\n",
       "\n",
       "    .dataframe thead th {\n",
       "        text-align: right;\n",
       "    }\n",
       "</style>\n",
       "<table border=\"1\" class=\"dataframe\">\n",
       "  <thead>\n",
       "    <tr style=\"text-align: right;\">\n",
       "      <th></th>\n",
       "      <th>imo</th>\n",
       "      <th>vessel_name</th>\n",
       "      <th>area_name_level0_geos</th>\n",
       "      <th>country_geos</th>\n",
       "      <th>geo_asset_name</th>\n",
       "      <th>port_name_geos</th>\n",
       "      <th>arrival_date</th>\n",
       "      <th>Mode</th>\n",
       "      <th>days_at_port</th>\n",
       "    </tr>\n",
       "  </thead>\n",
       "  <tbody>\n",
       "    <tr>\n",
       "      <th>17</th>\n",
       "      <td>9278571</td>\n",
       "      <td>Ocean Queen</td>\n",
       "      <td>Central China</td>\n",
       "      <td>China</td>\n",
       "      <td>Ningbo Iron &amp; Steel</td>\n",
       "      <td>Ningbo</td>\n",
       "      <td>2022-01-11 11:50:56.000</td>\n",
       "      <td>Operating</td>\n",
       "      <td>5.506296</td>\n",
       "    </tr>\n",
       "    <tr>\n",
       "      <th>18</th>\n",
       "      <td>9631321</td>\n",
       "      <td>Cape Stars</td>\n",
       "      <td>Central China</td>\n",
       "      <td>China</td>\n",
       "      <td>Ningbo Iron &amp; Steel</td>\n",
       "      <td>Ningbo</td>\n",
       "      <td>2022-01-09 11:58:07.000</td>\n",
       "      <td>Operating</td>\n",
       "      <td>7.501308</td>\n",
       "    </tr>\n",
       "    <tr>\n",
       "      <th>186</th>\n",
       "      <td>9604196</td>\n",
       "      <td>Pacific North</td>\n",
       "      <td>Central China</td>\n",
       "      <td>China</td>\n",
       "      <td>Zheneng Liuheng Power Station</td>\n",
       "      <td>Ningbo</td>\n",
       "      <td>2022-01-12 07:46:58.000</td>\n",
       "      <td>Operating</td>\n",
       "      <td>4.675718</td>\n",
       "    </tr>\n",
       "    <tr>\n",
       "      <th>224</th>\n",
       "      <td>9747869</td>\n",
       "      <td>True Corsair</td>\n",
       "      <td>Central China</td>\n",
       "      <td>China</td>\n",
       "      <td>Ningbo Bulk Terminal</td>\n",
       "      <td>Ningbo</td>\n",
       "      <td>2022-01-13 03:45:11.000</td>\n",
       "      <td>Operating</td>\n",
       "      <td>3.843623</td>\n",
       "    </tr>\n",
       "    <tr>\n",
       "      <th>238</th>\n",
       "      <td>9920679</td>\n",
       "      <td>Ace Eternity</td>\n",
       "      <td>Central China</td>\n",
       "      <td>China</td>\n",
       "      <td>Zhoushan Wugang Dock</td>\n",
       "      <td>Ningbo</td>\n",
       "      <td>2022-01-12 11:49:40.000</td>\n",
       "      <td>Operating</td>\n",
       "      <td>4.507176</td>\n",
       "    </tr>\n",
       "    <tr>\n",
       "      <th>342</th>\n",
       "      <td>9344485</td>\n",
       "      <td>Cape Veni</td>\n",
       "      <td>Central China</td>\n",
       "      <td>China</td>\n",
       "      <td>Ningbo</td>\n",
       "      <td>Ningbo</td>\n",
       "      <td>2022-01-15 11:43:05.000</td>\n",
       "      <td>Waiting</td>\n",
       "      <td>1.511748</td>\n",
       "    </tr>\n",
       "    <tr>\n",
       "      <th>343</th>\n",
       "      <td>9453731</td>\n",
       "      <td>Berge Torre</td>\n",
       "      <td>Central China</td>\n",
       "      <td>China</td>\n",
       "      <td>Ningbo</td>\n",
       "      <td>Ningbo</td>\n",
       "      <td>2022-01-16 03:47:40.000</td>\n",
       "      <td>Waiting</td>\n",
       "      <td>0.841898</td>\n",
       "    </tr>\n",
       "    <tr>\n",
       "      <th>344</th>\n",
       "      <td>9472282</td>\n",
       "      <td>Rutland</td>\n",
       "      <td>Central China</td>\n",
       "      <td>China</td>\n",
       "      <td>Ningbo</td>\n",
       "      <td>Ningbo</td>\n",
       "      <td>2022-01-17 11:23:18.361</td>\n",
       "      <td>Waiting</td>\n",
       "      <td>NaN</td>\n",
       "    </tr>\n",
       "    <tr>\n",
       "      <th>345</th>\n",
       "      <td>9567984</td>\n",
       "      <td>Linda Hope</td>\n",
       "      <td>Central China</td>\n",
       "      <td>China</td>\n",
       "      <td>Ningbo</td>\n",
       "      <td>Ningbo</td>\n",
       "      <td>2022-01-16 03:47:59.000</td>\n",
       "      <td>Waiting</td>\n",
       "      <td>0.841678</td>\n",
       "    </tr>\n",
       "    <tr>\n",
       "      <th>346</th>\n",
       "      <td>9593309</td>\n",
       "      <td>Cape Asia</td>\n",
       "      <td>Central China</td>\n",
       "      <td>China</td>\n",
       "      <td>Ningbo</td>\n",
       "      <td>Ningbo</td>\n",
       "      <td>2022-01-16 11:38:05.000</td>\n",
       "      <td>Waiting</td>\n",
       "      <td>0.515220</td>\n",
       "    </tr>\n",
       "    <tr>\n",
       "      <th>347</th>\n",
       "      <td>9632234</td>\n",
       "      <td>Imperator Australis</td>\n",
       "      <td>Central China</td>\n",
       "      <td>China</td>\n",
       "      <td>Ningbo</td>\n",
       "      <td>Ningbo</td>\n",
       "      <td>2022-01-13 07:45:17.000</td>\n",
       "      <td>Waiting</td>\n",
       "      <td>3.676887</td>\n",
       "    </tr>\n",
       "    <tr>\n",
       "      <th>475</th>\n",
       "      <td>9590852</td>\n",
       "      <td>Berge Mcclintock</td>\n",
       "      <td>Central China</td>\n",
       "      <td>China</td>\n",
       "      <td>Ningbo Anchorage</td>\n",
       "      <td>Ningbo</td>\n",
       "      <td>2022-01-15 07:59:18.000</td>\n",
       "      <td>Waiting</td>\n",
       "      <td>1.667153</td>\n",
       "    </tr>\n",
       "  </tbody>\n",
       "</table>\n",
       "</div>"
      ],
      "text/plain": [
       "         imo          vessel_name area_name_level0_geos country_geos  \\\n",
       "17   9278571          Ocean Queen         Central China        China   \n",
       "18   9631321           Cape Stars         Central China        China   \n",
       "186  9604196        Pacific North         Central China        China   \n",
       "224  9747869         True Corsair         Central China        China   \n",
       "238  9920679         Ace Eternity         Central China        China   \n",
       "342  9344485            Cape Veni         Central China        China   \n",
       "343  9453731          Berge Torre         Central China        China   \n",
       "344  9472282              Rutland         Central China        China   \n",
       "345  9567984           Linda Hope         Central China        China   \n",
       "346  9593309            Cape Asia         Central China        China   \n",
       "347  9632234  Imperator Australis         Central China        China   \n",
       "475  9590852     Berge Mcclintock         Central China        China   \n",
       "\n",
       "                    geo_asset_name port_name_geos            arrival_date  \\\n",
       "17             Ningbo Iron & Steel         Ningbo 2022-01-11 11:50:56.000   \n",
       "18             Ningbo Iron & Steel         Ningbo 2022-01-09 11:58:07.000   \n",
       "186  Zheneng Liuheng Power Station         Ningbo 2022-01-12 07:46:58.000   \n",
       "224           Ningbo Bulk Terminal         Ningbo 2022-01-13 03:45:11.000   \n",
       "238           Zhoushan Wugang Dock         Ningbo 2022-01-12 11:49:40.000   \n",
       "342                         Ningbo         Ningbo 2022-01-15 11:43:05.000   \n",
       "343                         Ningbo         Ningbo 2022-01-16 03:47:40.000   \n",
       "344                         Ningbo         Ningbo 2022-01-17 11:23:18.361   \n",
       "345                         Ningbo         Ningbo 2022-01-16 03:47:59.000   \n",
       "346                         Ningbo         Ningbo 2022-01-16 11:38:05.000   \n",
       "347                         Ningbo         Ningbo 2022-01-13 07:45:17.000   \n",
       "475               Ningbo Anchorage         Ningbo 2022-01-15 07:59:18.000   \n",
       "\n",
       "          Mode  days_at_port  \n",
       "17   Operating      5.506296  \n",
       "18   Operating      7.501308  \n",
       "186  Operating      4.675718  \n",
       "224  Operating      3.843623  \n",
       "238  Operating      4.507176  \n",
       "342    Waiting      1.511748  \n",
       "343    Waiting      0.841898  \n",
       "344    Waiting           NaN  \n",
       "345    Waiting      0.841678  \n",
       "346    Waiting      0.515220  \n",
       "347    Waiting      3.676887  \n",
       "475    Waiting      1.667153  "
      ]
     },
     "execution_count": 29,
     "metadata": {},
     "output_type": "execute_result"
    }
   ],
   "source": [
    "vessel_at_port_df[vessel_at_port_df.port_name_geos == 'Ningbo']\\\n",
    "[['imo','vessel_name','area_name_level0_geos','country_geos','geo_asset_name','port_name_geos','arrival_date','Mode','days_at_port']]\n"
   ]
  },
  {
   "cell_type": "markdown",
   "metadata": {},
   "source": [
    "#### Days at port Heatmap (globally)"
   ]
  },
  {
   "cell_type": "markdown",
   "metadata": {},
   "source": [
    "In this example we are displaying the density of the measure 'days at port' around the world.  \n",
    "Dasy at port correspond to the difference between current date and port call arrival date."
   ]
  },
  {
   "cell_type": "code",
   "execution_count": 30,
   "metadata": {},
   "outputs": [
    {
     "data": {
      "text/html": [
       "<iframe\n",
       "    scrolling=\"no\"\n",
       "    width=\"720px\"\n",
       "    height=\"520\"\n",
       "    src=\"iframe_figures/figure_30.html\"\n",
       "    frameborder=\"0\"\n",
       "    allowfullscreen\n",
       "></iframe>\n"
      ]
     },
     "metadata": {},
     "output_type": "display_data"
    }
   ],
   "source": [
    "fig = px.density_mapbox(vessel_at_port_df, lat = 'latitude', lon = 'longitude', z = 'days_at_port', radius = 10,\n",
    "                        center = dict(lat = 0, lon = 180),zoom = 0, mapbox_style = \"stamen-terrain\",\n",
    "                        custom_data = ['imo', 'vessel_name', 'purpose', 'port_name_geos', 'arrival_date', 'days_at_port'])\n",
    "fig.update_layout(\n",
    "    title = \"Today's Activity\", \n",
    "    title_x = 0.5,\n",
    "    width=700,\n",
    "    height=500)\n",
    "fig.update_traces(hovertemplate = 'IMO: %{customdata[0]} <br>Vessel Name: %{customdata[1]} <br>Purpose: %{customdata[2]} <br>Port: %{customdata[3]} <br>Arrival Date: %{customdata[4]} <br>Days at port: %{customdata[5]:.1f}')\n",
    "fig.show()"
   ]
  },
  {
   "cell_type": "markdown",
   "metadata": {},
   "source": [
    "#### Busiest Ports in China"
   ]
  },
  {
   "cell_type": "markdown",
   "metadata": {},
   "source": [
    "With this example we can monitor the number of vessels and their current Mode under any areas of interest. "
   ]
  },
  {
   "cell_type": "code",
   "execution_count": 31,
   "metadata": {},
   "outputs": [],
   "source": [
    "aggregated_df = (\n",
    "    vessel_at_port_df[\n",
    "        (vessel_at_port_df.area_name_level0_geos.isin(\n",
    "            ['Central China','North China', 'South China'])\n",
    "        )\n",
    "    ]\n",
    "    .groupby(['port_name_geos','Mode'])\n",
    "    .imo\n",
    "    .nunique()\n",
    "    .reset_index()\n",
    "    .rename(columns = {'imo':'num_of_vessels'})\n",
    ")"
   ]
  },
  {
   "cell_type": "code",
   "execution_count": 32,
   "metadata": {},
   "outputs": [],
   "source": [
    "top_10_busy_ports = (\n",
    "    aggregated_df.\n",
    "    groupby('port_name_geos')\n",
    "    .num_of_vessels\n",
    "    .sum()\n",
    "    .sort_values(ascending = False)\n",
    "    .head(10)\n",
    "    .index\n",
    ")"
   ]
  },
  {
   "cell_type": "code",
   "execution_count": 33,
   "metadata": {},
   "outputs": [
    {
     "data": {
      "text/html": [
       "<iframe\n",
       "    scrolling=\"no\"\n",
       "    width=\"1020px\"\n",
       "    height=\"520\"\n",
       "    src=\"iframe_figures/figure_33.html\"\n",
       "    frameborder=\"0\"\n",
       "    allowfullscreen\n",
       "></iframe>\n"
      ]
     },
     "metadata": {},
     "output_type": "display_data"
    }
   ],
   "source": [
    "colors = ['rgba(38, 24, 74, 0.8)', 'rgba(122, 120, 168, 0.8)']\n",
    "fig = px.bar(aggregated_df[aggregated_df.port_name_geos.isin(top_10_busy_ports)], \n",
    "             y = 'port_name_geos', \n",
    "             x = 'num_of_vessels', \n",
    "             color= 'Mode', \n",
    "             title=\"Today's Activity - Top Ports\", \n",
    "             orientation = 'h', \n",
    "             color_discrete_sequence = colors, \n",
    "             text = 'num_of_vessels', \n",
    "             custom_data = ['Mode'])\n",
    "\n",
    "fig.update_layout(\n",
    "    width=1000,\n",
    "    height=500, \n",
    "    xaxis_title= 'Number of Vessels', yaxis_title = 'Port', barmode = 'stack', \n",
    "    yaxis = {'categoryorder':'total ascending'}\n",
    ") \n",
    "\n",
    "fig.update_traces(hovertemplate = '%{y} <br>%{customdata[0]}: %{x}<extra></extra>')\n",
    "fig.show()"
   ]
  },
  {
   "cell_type": "markdown",
   "metadata": {
    "tags": []
   },
   "source": [
    "### Historical Waiting Time"
   ]
  },
  {
   "cell_type": "markdown",
   "metadata": {},
   "source": [
    "Waiting Time is calculated for each day of each port call and is defined as the difference between that day and the starting point of the waiting interval.  \n",
    "We have noticed that the following assumptions lead to more accurate calculations:  \n",
    "* The first point of each interval is rolled over one day.\n",
    "* We do not take into account Waiting Time over 60 days (removing outliers)."
   ]
  },
  {
   "cell_type": "code",
   "execution_count": 34,
   "metadata": {},
   "outputs": [],
   "source": [
    "waiting_vessels = vessels_status_df[\n",
    "    (vessels_status_df.Mode == 'Waiting') & \n",
    "    (vessels_status_df.waiting_time_start.dt.date != vessels_status_df.DayDate.dt.date)\n",
    "].copy()"
   ]
  },
  {
   "cell_type": "code",
   "execution_count": 35,
   "metadata": {},
   "outputs": [],
   "source": [
    "waiting_vessels['waiting_time'] = (\n",
    "    (waiting_vessels['DayDate'] - waiting_vessels['waiting_time_start'])\n",
    "    .dt.total_seconds()/(60*60*24.0)\n",
    ")"
   ]
  },
  {
   "cell_type": "code",
   "execution_count": 36,
   "metadata": {},
   "outputs": [],
   "source": [
    "waiting_time_df = (\n",
    "    waiting_vessels[\n",
    "    (waiting_vessels.waiting_time < 60) & \n",
    "    (waiting_vessels.DayDate.dt.date != date.today())\n",
    "    ].groupby('DayDate')['waiting_time']\n",
    "    .mean()\n",
    "    .reset_index()\n",
    "    .rename(columns = {'waiting_time':'avg_waiting_time'})\n",
    "    .set_index('DayDate')\n",
    ")\n",
    "\n",
    "waiting_time_df.avg_waiting_time = waiting_time_df.avg_waiting_time.round(1)\n",
    "\n",
    "all_days = pd.date_range(waiting_time_df.index.min(), waiting_time_df.index.max(), freq = 'D')\n",
    "waiting_time_df = waiting_time_df.reindex(all_days)\n",
    "\n",
    "waiting_time_df['7d MA'] = np.around(\n",
    "    waiting_time_df\n",
    "    .avg_waiting_time\n",
    "    .rolling(window = 7, min_periods = 1).mean(), \n",
    "    decimals = 2\n",
    ")"
   ]
  },
  {
   "cell_type": "code",
   "execution_count": 37,
   "metadata": {},
   "outputs": [
    {
     "data": {
      "text/html": [
       "<div>\n",
       "<style scoped>\n",
       "    .dataframe tbody tr th:only-of-type {\n",
       "        vertical-align: middle;\n",
       "    }\n",
       "\n",
       "    .dataframe tbody tr th {\n",
       "        vertical-align: top;\n",
       "    }\n",
       "\n",
       "    .dataframe thead th {\n",
       "        text-align: right;\n",
       "    }\n",
       "</style>\n",
       "<table border=\"1\" class=\"dataframe\">\n",
       "  <thead>\n",
       "    <tr style=\"text-align: right;\">\n",
       "      <th></th>\n",
       "      <th>avg_waiting_time</th>\n",
       "      <th>7d MA</th>\n",
       "    </tr>\n",
       "  </thead>\n",
       "  <tbody>\n",
       "    <tr>\n",
       "      <th>2022-01-07</th>\n",
       "      <td>7.3</td>\n",
       "      <td>7.40</td>\n",
       "    </tr>\n",
       "    <tr>\n",
       "      <th>2022-01-08</th>\n",
       "      <td>7.2</td>\n",
       "      <td>7.39</td>\n",
       "    </tr>\n",
       "    <tr>\n",
       "      <th>2022-01-09</th>\n",
       "      <td>7.1</td>\n",
       "      <td>7.31</td>\n",
       "    </tr>\n",
       "    <tr>\n",
       "      <th>2022-01-10</th>\n",
       "      <td>7.5</td>\n",
       "      <td>7.33</td>\n",
       "    </tr>\n",
       "    <tr>\n",
       "      <th>2022-01-11</th>\n",
       "      <td>7.6</td>\n",
       "      <td>7.34</td>\n",
       "    </tr>\n",
       "    <tr>\n",
       "      <th>2022-01-12</th>\n",
       "      <td>7.5</td>\n",
       "      <td>7.37</td>\n",
       "    </tr>\n",
       "    <tr>\n",
       "      <th>2022-01-13</th>\n",
       "      <td>7.0</td>\n",
       "      <td>7.31</td>\n",
       "    </tr>\n",
       "    <tr>\n",
       "      <th>2022-01-14</th>\n",
       "      <td>6.8</td>\n",
       "      <td>7.24</td>\n",
       "    </tr>\n",
       "    <tr>\n",
       "      <th>2022-01-15</th>\n",
       "      <td>6.8</td>\n",
       "      <td>7.19</td>\n",
       "    </tr>\n",
       "    <tr>\n",
       "      <th>2022-01-16</th>\n",
       "      <td>6.5</td>\n",
       "      <td>7.10</td>\n",
       "    </tr>\n",
       "  </tbody>\n",
       "</table>\n",
       "</div>"
      ],
      "text/plain": [
       "            avg_waiting_time  7d MA\n",
       "2022-01-07               7.3   7.40\n",
       "2022-01-08               7.2   7.39\n",
       "2022-01-09               7.1   7.31\n",
       "2022-01-10               7.5   7.33\n",
       "2022-01-11               7.6   7.34\n",
       "2022-01-12               7.5   7.37\n",
       "2022-01-13               7.0   7.31\n",
       "2022-01-14               6.8   7.24\n",
       "2022-01-15               6.8   7.19\n",
       "2022-01-16               6.5   7.10"
      ]
     },
     "execution_count": 37,
     "metadata": {},
     "output_type": "execute_result"
    }
   ],
   "source": [
    "waiting_time_df.tail(10)"
   ]
  },
  {
   "cell_type": "code",
   "execution_count": 38,
   "metadata": {},
   "outputs": [
    {
     "data": {
      "text/html": [
       "<iframe\n",
       "    scrolling=\"no\"\n",
       "    width=\"1270px\"\n",
       "    height=\"520\"\n",
       "    src=\"iframe_figures/figure_38.html\"\n",
       "    frameborder=\"0\"\n",
       "    allowfullscreen\n",
       "></iframe>\n"
      ]
     },
     "metadata": {},
     "output_type": "display_data"
    }
   ],
   "source": [
    "waiting_time_df['date'] = waiting_time_df.index\n",
    "\n",
    "fig = px.line(waiting_time_df, x = 'date', y = '7d MA', \n",
    "              title = f'Waiting Time - 7 days Moving Average Over Time')\n",
    "\n",
    "fig.update_traces(hovertemplate='Date: %{x|%Y-%m-%d}<br>Day: %{x|%A}<br>7d MA: %{y:.1f}')\n",
    "\n",
    "# Add buttons with dates, if applicable\n",
    "date_buttons = []\n",
    "date_buttons = add_date_buttons(1, waiting_time_df) # 1 month back\n",
    "date_buttons = add_date_buttons(6, waiting_time_df) # 6 months back\n",
    "date_buttons = add_date_buttons(12, waiting_time_df) # 12 months back\n",
    "date_buttons.append(dict(count = 1, label = \"YTD\", step = \"year\", stepmode = \"todate\"))\n",
    "\n",
    "fig.update_xaxes( rangeslider_visible = True, rangeselector = dict(buttons = date_buttons))\n",
    "fig.update_yaxes(title_text = 'Waiting Days')\n",
    "fig.update_layout(\n",
    "    width=1250,\n",
    "    height=500,\n",
    "    plot_bgcolor = 'rgba(0,0,0,0.05)')\n",
    "\n",
    "fig.show()"
   ]
  }
 ],
 "metadata": {
  "kernelspec": {
   "display_name": "Python 3",
   "language": "python",
   "name": "python3"
  },
  "language_info": {
   "codemirror_mode": {
    "name": "ipython",
    "version": 3
   },
   "file_extension": ".py",
   "mimetype": "text/x-python",
   "name": "python",
   "nbconvert_exporter": "python",
   "pygments_lexer": "ipython3",
   "version": "3.8.5"
  }
 },
 "nbformat": 4,
 "nbformat_minor": 4
}
