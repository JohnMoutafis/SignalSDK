{
 "cells": [
  {
   "cell_type": "markdown",
   "metadata": {},
   "source": [
    "# Port Congestion (Live-Historical)"
   ]
  },
  {
   "cell_type": "markdown",
   "metadata": {},
   "source": [
    "This example provides information about the live & historical number of vessels waiting for operation or operating in a selected Port."
   ]
  },
  {
   "cell_type": "markdown",
   "metadata": {},
   "source": [
    "## Setup\n",
    "Install the Signal Ocean SDK:\n",
    "```\n",
    "pip install signal-ocean\n",
    "```\n",
    "Set your subscription key acquired here: https://apis.signalocean.com/profile"
   ]
  },
  {
   "cell_type": "code",
   "execution_count": 1,
   "metadata": {},
   "outputs": [],
   "source": [
    "# pip install signal-ocean"
   ]
  },
  {
   "cell_type": "code",
   "execution_count": 2,
   "metadata": {},
   "outputs": [],
   "source": [
    "signal_ocean_api_key = \"da322f874acd4fe5b6c66229bf6b2eac\"  # replace with your subscription key"
   ]
  },
  {
   "cell_type": "markdown",
   "metadata": {},
   "source": [
    "## Live"
   ]
  },
  {
   "cell_type": "markdown",
   "metadata": {},
   "source": [
    "In order to access the port congestion of a specific port (in this case Rotterdam) we are going to use the voyages data api.  \n",
    "More specifically we are going to retrieve the voyages events of MR2 vessels for the last 4 months and then use the available data regarding **event_horizon**, **arrival_date** and **sailing_date** in order to find out what vessels are operating or are expecting to operate at the port of interest.  \n",
    "   \n",
    "The time window of four months and also the narrowing of the vessel classes to one are used to restrict the data load of the api call and hence the running time of the notebook. For a more extended investigation the user is prompt to store locally the full voyages data of his interest and then run the analysis using them. This example displays a way to achieve this through sqlite."
   ]
  },
  {
   "cell_type": "code",
   "execution_count": 3,
   "metadata": {},
   "outputs": [],
   "source": [
    "from signal_ocean import Connection\n",
    "from signal_ocean.voyages import VoyagesAPI\n",
    "\n",
    "import pandas as pd\n",
    "from datetime import date, timedelta\n",
    "import sqlite3"
   ]
  },
  {
   "cell_type": "code",
   "execution_count": 4,
   "metadata": {},
   "outputs": [],
   "source": [
    "connection = Connection(signal_ocean_api_key)\n",
    "api = VoyagesAPI(connection)"
   ]
  },
  {
   "cell_type": "code",
   "execution_count": 5,
   "metadata": {},
   "outputs": [],
   "source": [
    "mr2_id = 88\n",
    "date_from = date.today() - timedelta(days=120)\n",
    "recent_mr2_voyages_flat = api.get_voyages_flat(\n",
    "    vessel_class_id=mr2_id, date_from=date_from\n",
    ")"
   ]
  },
  {
   "cell_type": "code",
   "execution_count": 6,
   "metadata": {},
   "outputs": [],
   "source": [
    "mr2_voyages_df = pd.DataFrame(v.__dict__ for v in recent_mr2_voyages_flat.voyages)\n",
    "mr2_events_df = pd.DataFrame(v.__dict__ for v in recent_mr2_voyages_flat.events)\n",
    "mr2_events_details_df = pd.DataFrame(\n",
    "    v.__dict__ for v in recent_mr2_voyages_flat.event_details\n",
    ")"
   ]
  },
  {
   "cell_type": "code",
   "execution_count": 7,
   "metadata": {},
   "outputs": [],
   "source": [
    "# the first time the connection is created, the .db file is created as well\n",
    "conn = sqlite3.connect(\"port_congestion.db\")"
   ]
  },
  {
   "cell_type": "code",
   "execution_count": 8,
   "metadata": {},
   "outputs": [],
   "source": [
    "from sqlalchemy import types, create_engine\n",
    "from os import path\n",
    "import os\n",
    "\n",
    "# we create an sqlalchemy engine for the db that we have created\n",
    "engine = create_engine(\n",
    "    f'sqlite:///{path.join(os.path.abspath(os.getcwd()), \"port_congestion.db\")}'\n",
    ")\n",
    "\n",
    "# create tables and append the data\n",
    "mr2_voyages_df.to_sql(\"mr2_voyages\", engine, index=True, if_exists=\"replace\")\n",
    "mr2_events_df.to_sql(\"mr2_events\", engine, index=True, if_exists=\"replace\")\n",
    "mr2_events_details_df.to_sql(\n",
    "    \"mr2_events_details\", engine, index=True, if_exists=\"replace\"\n",
    ")"
   ]
  },
  {
   "cell_type": "code",
   "execution_count": 9,
   "metadata": {},
   "outputs": [],
   "source": [
    "live_port_congestion_query = \"\"\"\n",
    "with voyages_full\n",
    "AS(\n",
    "    select *\n",
    "    ,ROW_NUMBER() OVER (\n",
    "        PARTITION BY imo, voyage_number,ev.id, event_type\n",
    "        ORDER BY ev.arrival_date, start_time_of_operation\n",
    "    ) as ev_det_num\n",
    "    from mr2_voyages voy \n",
    "    left join mr2_events ev on ev.voyage_id = voy.id\n",
    "    left join mr2_events_details det on det.event_id = ev.id\n",
    "    where\n",
    "     (\n",
    "         (event_horizon = 'Current' and Date(ev.sailing_date) >= Date('now'))\n",
    "         or \n",
    "         (event_horizon = 'Future' and Date(ev.arrival_date) <= Date('now'))\n",
    "         or\n",
    "        (event_horizon = 'Historical' and Date(ev.sailing_date) = Date('now'))\n",
    "    )\n",
    "    and not (ev.event_horizon = 'Future' and Date(ev.sailing_date)  < Date('now') )\n",
    "    and event_type in ('PortCall', 'Stop')\n",
    "    and port_name = 'Rotterdam'\n",
    "    and purpose in ('Load', 'Discharge', 'Stop')\n",
    ")\n",
    "select     \n",
    "imo,\n",
    "vessel_name,\n",
    "commercial_operator,\n",
    "event_horizon,\n",
    "purpose, \n",
    "date(arrival_date) as arrival_date,\n",
    "date(sailing_date) as sailing_date,\n",
    "    case \n",
    "\twhen event_horizon = 'Historical' and Purpose <> 'Stop' then 'Sailed (' || purpose || ')'\n",
    "\twhen purpose = 'Stop' then 'Stop'\n",
    "\twhen event_horizon = 'Future' and (Date(sailing_date)  <= Date('now')) then 'No Position Updated'\n",
    "\twhen event_horizon = 'Future' and (Date(arrival_date)  < Date('now') ) then 'No Position Updated'\n",
    "\twhen event_horizon = 'Future' and (Date(sailing_date)  > Date('now') ) then 'Expected to ' || purpose\n",
    "             when event_horizon = 'Current' and start_time_of_operation > datetime('now') then 'Expected to ' || purpose\n",
    "             when event_horizon = 'Current' and start_time_of_operation <= datetime('now') then 'Operating ' || '(' || purpose || ')'\n",
    "             when event_horizon = 'Current' and Date('now') between Date(arrival_date) and Date(sailing_date) then 'Operating ' || '(' || purpose || ')'\n",
    "\telse 'UNK'\n",
    "    end status\n",
    "from voyages_full\n",
    "where ev_det_num = 1;\n",
    "\"\"\""
   ]
  },
  {
   "cell_type": "code",
   "execution_count": 10,
   "metadata": {},
   "outputs": [
    {
     "data": {
      "text/html": [
       "<div>\n",
       "<style scoped>\n",
       "    .dataframe tbody tr th:only-of-type {\n",
       "        vertical-align: middle;\n",
       "    }\n",
       "\n",
       "    .dataframe tbody tr th {\n",
       "        vertical-align: top;\n",
       "    }\n",
       "\n",
       "    .dataframe thead th {\n",
       "        text-align: right;\n",
       "    }\n",
       "</style>\n",
       "<table border=\"1\" class=\"dataframe\">\n",
       "  <thead>\n",
       "    <tr style=\"text-align: right;\">\n",
       "      <th></th>\n",
       "      <th>imo</th>\n",
       "      <th>vessel_name</th>\n",
       "      <th>commercial_operator</th>\n",
       "      <th>event_horizon</th>\n",
       "      <th>purpose</th>\n",
       "      <th>arrival_date</th>\n",
       "      <th>sailing_date</th>\n",
       "      <th>status</th>\n",
       "    </tr>\n",
       "  </thead>\n",
       "  <tbody>\n",
       "    <tr>\n",
       "      <th>0</th>\n",
       "      <td>9215309</td>\n",
       "      <td>Bow Saga</td>\n",
       "      <td>Odfjell</td>\n",
       "      <td>Historical</td>\n",
       "      <td>Load</td>\n",
       "      <td>2021-08-14</td>\n",
       "      <td>2021-08-20</td>\n",
       "      <td>Sailed (Load)</td>\n",
       "    </tr>\n",
       "    <tr>\n",
       "      <th>1</th>\n",
       "      <td>9265861</td>\n",
       "      <td>Johnny Traveller</td>\n",
       "      <td>Champion Tankers</td>\n",
       "      <td>Current</td>\n",
       "      <td>Discharge</td>\n",
       "      <td>2021-08-17</td>\n",
       "      <td>2021-08-22</td>\n",
       "      <td>Operating (Discharge)</td>\n",
       "    </tr>\n",
       "    <tr>\n",
       "      <th>2</th>\n",
       "      <td>9273351</td>\n",
       "      <td>Eternal Sunshine</td>\n",
       "      <td>Product Shipping &amp; Trading</td>\n",
       "      <td>Historical</td>\n",
       "      <td>Stop</td>\n",
       "      <td>2021-08-17</td>\n",
       "      <td>2021-08-20</td>\n",
       "      <td>Stop</td>\n",
       "    </tr>\n",
       "    <tr>\n",
       "      <th>3</th>\n",
       "      <td>9379325</td>\n",
       "      <td>Ps London</td>\n",
       "      <td>Trafigura</td>\n",
       "      <td>Current</td>\n",
       "      <td>Load</td>\n",
       "      <td>2021-08-15</td>\n",
       "      <td>2021-08-22</td>\n",
       "      <td>Operating (Load)</td>\n",
       "    </tr>\n",
       "    <tr>\n",
       "      <th>4</th>\n",
       "      <td>9388209</td>\n",
       "      <td>Ps Houston</td>\n",
       "      <td>PB Tankers</td>\n",
       "      <td>Future</td>\n",
       "      <td>Discharge</td>\n",
       "      <td>2021-08-20</td>\n",
       "      <td>2021-08-20</td>\n",
       "      <td>No Position Updated</td>\n",
       "    </tr>\n",
       "    <tr>\n",
       "      <th>5</th>\n",
       "      <td>9391517</td>\n",
       "      <td>Ocean Princess I</td>\n",
       "      <td>Navig8 group</td>\n",
       "      <td>Historical</td>\n",
       "      <td>Stop</td>\n",
       "      <td>2021-08-17</td>\n",
       "      <td>2021-08-20</td>\n",
       "      <td>Stop</td>\n",
       "    </tr>\n",
       "    <tr>\n",
       "      <th>6</th>\n",
       "      <td>9392793</td>\n",
       "      <td>Nord Magic</td>\n",
       "      <td>Clearlake Shipping</td>\n",
       "      <td>Current</td>\n",
       "      <td>Discharge</td>\n",
       "      <td>2021-08-18</td>\n",
       "      <td>2021-08-21</td>\n",
       "      <td>Operating (Discharge)</td>\n",
       "    </tr>\n",
       "    <tr>\n",
       "      <th>7</th>\n",
       "      <td>9489065</td>\n",
       "      <td>NCC Masafi</td>\n",
       "      <td>Bahri</td>\n",
       "      <td>Current</td>\n",
       "      <td>Discharge</td>\n",
       "      <td>2021-08-16</td>\n",
       "      <td>2021-08-21</td>\n",
       "      <td>Operating (Discharge)</td>\n",
       "    </tr>\n",
       "    <tr>\n",
       "      <th>8</th>\n",
       "      <td>9682368</td>\n",
       "      <td>Silver Cindy</td>\n",
       "      <td>Signal Maritime</td>\n",
       "      <td>Historical</td>\n",
       "      <td>Stop</td>\n",
       "      <td>2021-08-18</td>\n",
       "      <td>2021-08-20</td>\n",
       "      <td>Stop</td>\n",
       "    </tr>\n",
       "    <tr>\n",
       "      <th>9</th>\n",
       "      <td>9683984</td>\n",
       "      <td>Largo Energy</td>\n",
       "      <td>Stena Bulk</td>\n",
       "      <td>Historical</td>\n",
       "      <td>Stop</td>\n",
       "      <td>2021-08-19</td>\n",
       "      <td>2021-08-20</td>\n",
       "      <td>Stop</td>\n",
       "    </tr>\n",
       "    <tr>\n",
       "      <th>10</th>\n",
       "      <td>9708227</td>\n",
       "      <td>Ardmore Seawolf</td>\n",
       "      <td>Stena Weco</td>\n",
       "      <td>Future</td>\n",
       "      <td>Load</td>\n",
       "      <td>2021-08-20</td>\n",
       "      <td>2021-08-23</td>\n",
       "      <td>Expected to Load</td>\n",
       "    </tr>\n",
       "    <tr>\n",
       "      <th>11</th>\n",
       "      <td>9747352</td>\n",
       "      <td>Pti Danube</td>\n",
       "      <td>Trafigura</td>\n",
       "      <td>Current</td>\n",
       "      <td>Load</td>\n",
       "      <td>2021-08-19</td>\n",
       "      <td>2021-08-23</td>\n",
       "      <td>Operating (Load)</td>\n",
       "    </tr>\n",
       "    <tr>\n",
       "      <th>12</th>\n",
       "      <td>9864356</td>\n",
       "      <td>Castor</td>\n",
       "      <td>Maersk</td>\n",
       "      <td>Current</td>\n",
       "      <td>Discharge</td>\n",
       "      <td>2021-07-24</td>\n",
       "      <td>2021-08-22</td>\n",
       "      <td>Operating (Discharge)</td>\n",
       "    </tr>\n",
       "  </tbody>\n",
       "</table>\n",
       "</div>"
      ],
      "text/plain": [
       "        imo       vessel_name         commercial_operator event_horizon  \\\n",
       "0   9215309          Bow Saga                     Odfjell    Historical   \n",
       "1   9265861  Johnny Traveller            Champion Tankers       Current   \n",
       "2   9273351  Eternal Sunshine  Product Shipping & Trading    Historical   \n",
       "3   9379325         Ps London                   Trafigura       Current   \n",
       "4   9388209        Ps Houston                  PB Tankers        Future   \n",
       "5   9391517  Ocean Princess I                Navig8 group    Historical   \n",
       "6   9392793        Nord Magic          Clearlake Shipping       Current   \n",
       "7   9489065        NCC Masafi                       Bahri       Current   \n",
       "8   9682368      Silver Cindy             Signal Maritime    Historical   \n",
       "9   9683984      Largo Energy                  Stena Bulk    Historical   \n",
       "10  9708227   Ardmore Seawolf                  Stena Weco        Future   \n",
       "11  9747352        Pti Danube                   Trafigura       Current   \n",
       "12  9864356            Castor                      Maersk       Current   \n",
       "\n",
       "      purpose arrival_date sailing_date                 status  \n",
       "0        Load   2021-08-14   2021-08-20          Sailed (Load)  \n",
       "1   Discharge   2021-08-17   2021-08-22  Operating (Discharge)  \n",
       "2        Stop   2021-08-17   2021-08-20                   Stop  \n",
       "3        Load   2021-08-15   2021-08-22       Operating (Load)  \n",
       "4   Discharge   2021-08-20   2021-08-20    No Position Updated  \n",
       "5        Stop   2021-08-17   2021-08-20                   Stop  \n",
       "6   Discharge   2021-08-18   2021-08-21  Operating (Discharge)  \n",
       "7   Discharge   2021-08-16   2021-08-21  Operating (Discharge)  \n",
       "8        Stop   2021-08-18   2021-08-20                   Stop  \n",
       "9        Stop   2021-08-19   2021-08-20                   Stop  \n",
       "10       Load   2021-08-20   2021-08-23       Expected to Load  \n",
       "11       Load   2021-08-19   2021-08-23       Operating (Load)  \n",
       "12  Discharge   2021-07-24   2021-08-22  Operating (Discharge)  "
      ]
     },
     "execution_count": 10,
     "metadata": {},
     "output_type": "execute_result"
    }
   ],
   "source": [
    "live_port_congestion_df = pd.read_sql_query(live_port_congestion_query, conn)\n",
    "live_port_congestion_df"
   ]
  },
  {
   "cell_type": "markdown",
   "metadata": {},
   "source": [
    "## Historical"
   ]
  },
  {
   "cell_type": "code",
   "execution_count": 11,
   "metadata": {},
   "outputs": [],
   "source": [
    "from signal_ocean import Connection\n",
    "from signal_ocean.voyages import VoyagesAPI\n",
    "\n",
    "import pandas as pd\n",
    "from datetime import date, timedelta\n",
    "import sqlite3"
   ]
  },
  {
   "cell_type": "code",
   "execution_count": 12,
   "metadata": {},
   "outputs": [],
   "source": [
    "connection = Connection(signal_ocean_api_key)\n",
    "api = VoyagesAPI(connection)"
   ]
  },
  {
   "cell_type": "markdown",
   "metadata": {},
   "source": [
    "We get the MR2 voyages that have started during the last year.  \n",
    "Since we need historical port congestion info there is no way to avoid making a heavy call on voyages data api."
   ]
  },
  {
   "cell_type": "code",
   "execution_count": 13,
   "metadata": {},
   "outputs": [
    {
     "name": "stdout",
     "output_type": "stream",
     "text": [
      "Wall time: 3min 6s\n"
     ]
    }
   ],
   "source": [
    "%%time\n",
    "\n",
    "mr2_id = 88\n",
    "date_from = date.today() - timedelta(days=365)\n",
    "recent_mr2_voyages_flat = api.get_voyages_flat(\n",
    "    vessel_class_id=mr2_id, date_from=date_from\n",
    ")"
   ]
  },
  {
   "cell_type": "code",
   "execution_count": 14,
   "metadata": {},
   "outputs": [],
   "source": [
    "mr2_voyages_df = pd.DataFrame(v.__dict__ for v in recent_mr2_voyages_flat.voyages)\n",
    "mr2_events_df = pd.DataFrame(v.__dict__ for v in recent_mr2_voyages_flat.events)"
   ]
  },
  {
   "cell_type": "code",
   "execution_count": 15,
   "metadata": {},
   "outputs": [],
   "source": [
    "rotterdam_events = mr2_events_df[\n",
    "    (mr2_events_df.port_name == \"Rotterdam\")\n",
    "    & (mr2_events_df.purpose.isin([\"Discharge\", \"Load\", \"Stop\"]))\n",
    "    & (mr2_events_df.arrival_date.apply(lambda x: x.date()) <= date.today())\n",
    "].copy()"
   ]
  },
  {
   "cell_type": "code",
   "execution_count": 16,
   "metadata": {},
   "outputs": [],
   "source": [
    "rotterdam_events[\"imo\"] = rotterdam_events.voyage_id.map(\n",
    "    dict(zip(mr2_voyages_df.id, mr2_voyages_df.imo))\n",
    ")"
   ]
  },
  {
   "cell_type": "markdown",
   "metadata": {},
   "source": [
    "**in_port** column stores the date range between arrival and sailing data. By exploding the dataframe based on this column we get one row per date inside the date range. This is used later on the aggregations."
   ]
  },
  {
   "cell_type": "code",
   "execution_count": 17,
   "metadata": {},
   "outputs": [],
   "source": [
    "rotterdam_events[\"in_port\"] = rotterdam_events.apply(\n",
    "    lambda row: pd.date_range(row.arrival_date.date(), row.sailing_date.date()), axis=1\n",
    ")"
   ]
  },
  {
   "cell_type": "code",
   "execution_count": 18,
   "metadata": {},
   "outputs": [],
   "source": [
    "rotterdam_events_ext = rotterdam_events.explode(\"in_port\")"
   ]
  },
  {
   "cell_type": "code",
   "execution_count": 19,
   "metadata": {},
   "outputs": [],
   "source": [
    "num_of_vessels_time_series = (\n",
    "    rotterdam_events_ext.groupby(\"in_port\")[\"imo\"].nunique().reset_index()\n",
    ")\n",
    "num_of_vessels_time_series.columns = [\"date\", \"vessels\"]"
   ]
  },
  {
   "cell_type": "markdown",
   "metadata": {},
   "source": [
    "**date_range_basis** dictates the dates to be displayed on the graph. On top of that ensures the continuity of the time series data by assigning 0 to the dates that had no vessels waiting or operating at the port of interest."
   ]
  },
  {
   "cell_type": "code",
   "execution_count": 20,
   "metadata": {},
   "outputs": [],
   "source": [
    "date_range_basis = pd.date_range(\n",
    "    start=date(2021,1,1),\n",
    "    end=date.today(),\n",
    ")"
   ]
  },
  {
   "cell_type": "code",
   "execution_count": 21,
   "metadata": {},
   "outputs": [],
   "source": [
    "num_of_vessels_time_series = (\n",
    "num_of_vessels_time_series\n",
    "    .set_index(\"date\")\n",
    "    .reindex(date_range_basis)\n",
    "    .fillna(0.0)\n",
    "    .rename_axis(\"date\").reset_index()\n",
    ")"
   ]
  },
  {
   "cell_type": "code",
   "execution_count": 22,
   "metadata": {},
   "outputs": [],
   "source": [
    "from matplotlib import pyplot as plt\n",
    "import seaborn as sns"
   ]
  },
  {
   "cell_type": "code",
   "execution_count": 23,
   "metadata": {},
   "outputs": [
    {
     "data": {
      "text/plain": [
       "<AxesSubplot:xlabel='date', ylabel='vessels'>"
      ]
     },
     "execution_count": 23,
     "metadata": {},
     "output_type": "execute_result"
    },
    {
     "data": {
      "image/png": "[encoded data removed]",
      "text/plain": [
       "<Figure size 1080x720 with 1 Axes>"
      ]
     },
     "metadata": {
      "needs_background": "light"
     },
     "output_type": "display_data"
    }
   ],
   "source": [
    "fig,ax = plt.subplots(figsize = (15,10))\n",
    "\n",
    "sns.lineplot(data=num_of_vessels_time_series, x=\"date\", y=\"vessels\")"
   ]
  }
 ],
 "metadata": {
  "kernelspec": {
   "display_name": "Python 3",
   "language": "python",
   "name": "python3"
  },
  "language_info": {
   "codemirror_mode": {
    "name": "ipython",
    "version": 3
   },
   "file_extension": ".py",
   "mimetype": "text/x-python",
   "name": "python",
   "nbconvert_exporter": "python",
   "pygments_lexer": "ipython3",
   "version": "3.8.5"
  }
 },
 "nbformat": 4,
 "nbformat_minor": 4
}
