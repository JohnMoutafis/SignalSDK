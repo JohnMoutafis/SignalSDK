{
 "cells": [
  {
   "cell_type": "markdown",
   "metadata": {},
   "source": [
    "# Port Expenses API Example"
   ]
  },
  {
   "cell_type": "markdown",
   "metadata": {},
   "source": [
    "## Setup\n",
    "Install the Signal Ocean SDK:\n",
    "```\n",
    "pip install signal-ocean\n",
    "```\n",
    "Set your subscription key acquired here: https://apis.signalocean.com/profile"
   ]
  },
  {
   "cell_type": "code",
   "execution_count": 16,
   "outputs": [],
   "source": [
    "signal_ocean_api_key = '' #replace with your subscription key"
   ],
   "metadata": {
    "collapsed": false,
    "pycharm": {
     "name": "#%%\n"
    }
   }
  },
  {
   "cell_type": "markdown",
   "metadata": {},
   "source": [
    "## Port expenses API\n",
    "The Port Expenses API retrieves expenses breakdown for a given port. First create connection towards\n",
    "Port Expenses API as also Geo API in order to find available ports by name:"
   ]
  },
  {
   "cell_type": "code",
   "execution_count": 17,
   "outputs": [],
   "source": [
    "from signal_ocean import Connection, PortExpensesAPI\n",
    "from signal_ocean.geo import GeoAPI, PortFilter\n",
    "from datetime import datetime\n",
    "\n",
    "connection = Connection(api_key=signal_ocean_api_key)\n",
    "pe_api = PortExpensesAPI(connection)\n",
    "geo_api = GeoAPI(connection)"
   ],
   "metadata": {
    "collapsed": false,
    "pycharm": {
     "name": "#%%\n"
    }
   }
  },
  {
   "cell_type": "markdown",
   "source": [
    "#### Get the port expenses for an IMO\n",
    "Now retrieve the expenses for the port of Fujairah for a given vessel IMO:"
   ],
   "metadata": {
    "collapsed": false
   }
  },
  {
   "cell_type": "code",
   "execution_count": 18,
   "outputs": [
    {
     "data": {
      "text/plain": "PortExpenses(port_id=3153, port_canal=0, towage=0, berth=0, port_dues=40193, lighthouse=594, mooring=0, pilotage=0, quay=0, anchorage=0, agency_fees=1500, other=2277, suez_dues=0, total_cost=44565, miscellaneous_dues=0, is_estimated=False, canal_dues=0, berth_dues=0, lighthouse_dues=594, mooring_unmooring=0, quay_dues=0, anchorage_dues=0, port_agents=[])"
     },
     "execution_count": 18,
     "metadata": {},
     "output_type": "execute_result"
    }
   ],
   "source": [
    "fujairah = geo_api.get_ports(PortFilter(name_like='Fujairah'))[0]\n",
    "pe_api.get_port_expenses(imo = 9867621, port_id = fujairah.id)"
   ],
   "metadata": {
    "collapsed": false,
    "pycharm": {
     "name": "#%%\n"
    }
   }
  },
  {
   "cell_type": "markdown",
   "source": [
    "The result is the total cost and a breakdown of the port expenses."
   ],
   "metadata": {
    "collapsed": false
   }
  },
  {
   "cell_type": "markdown",
   "source": [
    "#### Optional port expenses calculation parameters\n",
    "Depending on the port, the expenses calculation can be more precise by passing some extra parameters.\n",
    "Retrieve the list of the parameters for the port of Fujairah."
   ],
   "metadata": {
    "collapsed": false
   }
  },
  {
   "cell_type": "code",
   "execution_count": 19,
   "outputs": [
    {
     "data": {
      "text/plain": "['RoeAedToUsd', 'EstimatedTimeOfBerth', 'OperationLocationID']"
     },
     "execution_count": 19,
     "metadata": {},
     "output_type": "execute_result"
    }
   ],
   "source": [
    "pe_api.get_required_formula_parameters(port_id = fujairah.id)"
   ],
   "metadata": {
    "collapsed": false,
    "pycharm": {
     "name": "#%%\n"
    }
   }
  },
  {
   "cell_type": "markdown",
   "source": [
    "Get again the expenses for the port of Fujairah, this time by also passing one of the optional\n",
    "parameters retrieved above i.e. estimated time of berth:"
   ],
   "metadata": {
    "collapsed": false
   }
  },
  {
   "cell_type": "code",
   "execution_count": 20,
   "outputs": [
    {
     "data": {
      "text/plain": "PortExpenses(port_id=3153, port_canal=0, towage=0, berth=0, port_dues=40193, lighthouse=594, mooring=0, pilotage=0, quay=0, anchorage=0, agency_fees=1500, other=2277, suez_dues=0, total_cost=44565, miscellaneous_dues=0, is_estimated=False, canal_dues=0, berth_dues=0, lighthouse_dues=594, mooring_unmooring=0, quay_dues=0, anchorage_dues=0, port_agents=[])"
     },
     "execution_count": 20,
     "metadata": {},
     "output_type": "execute_result"
    }
   ],
   "source": [
    "pe_api.get_port_expenses(imo = 9867621, port_id = fujairah.id, estimated_time_of_berth=datetime(2018, 2, 27, 17, 48, 11))"
   ],
   "metadata": {
    "collapsed": false,
    "pycharm": {
     "name": "#%%\n"
    }
   }
  },
  {
   "cell_type": "markdown",
   "source": [
    "#### Get the port expenses for a model vessel\n",
    "Port expenses can also be calculated based on a model vessel. Use the Vessels API in order to retrieve\n",
    "available vessel types:"
   ],
   "metadata": {
    "collapsed": false
   }
  },
  {
   "cell_type": "code",
   "execution_count": 21,
   "outputs": [
    {
     "name": "stdout",
     "output_type": "stream",
     "text": [
      "(VesselType(id=-2, name='Not Set'), VesselType(id=-1, name='Unknown'), VesselType(id=6, name='LPG'), VesselType(id=3, name='Dry'), VesselType(id=4, name='Container'), VesselType(id=1, name='Tanker'), VesselType(id=5, name='LNG'))\n"
     ]
    }
   ],
   "source": [
    "from signal_ocean.vessels import VesselsAPI\n",
    "\n",
    "vessels_api = VesselsAPI(connection)\n",
    "vessel_types = vessels_api.get_vessel_types()\n",
    "print(vessel_types)"
   ],
   "metadata": {
    "collapsed": false,
    "pycharm": {
     "name": "#%%\n"
    }
   }
  },
  {
   "cell_type": "markdown",
   "source": [
    "Get expenses for Fujairah for dry vessels as of 8-3-2020:"
   ],
   "metadata": {
    "collapsed": false
   }
  },
  {
   "cell_type": "code",
   "execution_count": 22,
   "outputs": [
    {
     "data": {
      "text/plain": "PortExpenses(port_id=3153, port_canal=0, towage=0, berth=0, port_dues=17425, lighthouse=0, mooring=0, pilotage=0, quay=0, anchorage=0, agency_fees=3000, other=47, suez_dues=0, total_cost=20473, miscellaneous_dues=0, is_estimated=False, canal_dues=0, berth_dues=0, lighthouse_dues=0, mooring_unmooring=0, quay_dues=0, anchorage_dues=0, port_agents=None)"
     },
     "execution_count": 22,
     "metadata": {},
     "output_type": "execute_result"
    }
   ],
   "source": [
    "dry_vessel_type = next(vt for vt in vessel_types if vt.name=='Dry')\n",
    "pe_api.get_port_model_vessel_expenses(port_id = fujairah.id, vessel_type_id = dry_vessel_type.id, formula_calculation_date = datetime(2020, 3, 8, 0, 0, 0))"
   ],
   "metadata": {
    "collapsed": false,
    "pycharm": {
     "name": "#%%\n"
    }
   }
  }
 ],
 "metadata": {
  "kernelspec": {
   "display_name": "Python 3",
   "language": "python",
   "name": "python3"
  },
  "language_info": {
   "codemirror_mode": {
    "name": "ipython",
    "version": 3
   },
   "file_extension": ".py",
   "mimetype": "text/x-python",
   "name": "python",
   "nbconvert_exporter": "python",
   "pygments_lexer": "ipython3",
   "version": "3.8.5"
  }
 },
 "nbformat": 4,
 "nbformat_minor": 4
}