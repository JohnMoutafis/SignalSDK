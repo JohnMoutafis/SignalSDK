{
 "cells": [
  {
   "cell_type": "markdown",
   "metadata": {},
   "source": [
    "# Port Expenses API Example"
   ]
  },
  {
   "cell_type": "markdown",
   "metadata": {},
   "source": [
    "## Setup\n",
    "Install the Signal Ocean SDK:\n",
    "```\n",
    "pip install signal-ocean\n",
    "```\n",
    "And put your API key in a `SIGNAL_OCEAN_API_KEY` environment variable."
   ]
  },
  {
   "cell_type": "code",
   "execution_count": null,
   "metadata": {},
   "outputs": [],
   "source": [
    "from signal_ocean import PortExpensesAPI\n",
    "from datetime import datetime"
   ]
  },
  {
   "cell_type": "markdown",
   "metadata": {},
   "source": [
    "## Call the port expenses API\n",
    "The Port Expenses API retrieves port expenses information."
   ]
  },
  {
   "cell_type": "code",
   "execution_count": null,
   "metadata": {},
   "outputs": [],
   "source": [
    "api = PortExpensesAPI()"
   ]
  },
  {
   "cell_type": "markdown",
   "source": [
    "#### Get required formula parameters"
   ],
   "metadata": {
    "collapsed": false
   }
  },
  {
   "cell_type": "code",
   "execution_count": null,
   "outputs": [],
   "source": [
    "port_id = 3153\n",
    "req_params = api.get_required_formula_parameters(port_id)"
   ],
   "metadata": {
    "collapsed": false,
    "pycharm": {
     "name": "#%%\n"
    }
   }
  },
  {
   "cell_type": "markdown",
   "metadata": {},
   "source": [
    "#### Get port expenses"
   ]
  },
  {
   "cell_type": "code",
   "execution_count": null,
   "metadata": {},
   "outputs": [],
   "source": [
    "imo = 9867621\n",
    "port_id = 3153\n",
    "estimated_time_of_berth = datetime(2020, 2, 27, 17, 48, 11)\n",
    "port_expenses = api.get_port_expenses(imo, port_id, estimated_time_of_berth=estimated_time_of_berth)"
   ]
  },
  {
   "cell_type": "markdown",
   "metadata": {},
   "source": [
    "#### Get canal expenses"
   ]
  },
  {
   "cell_type": "code",
   "execution_count": null,
   "metadata": {},
   "outputs": [],
   "source": [
    "canal = 1\n",
    "imo = 9867621\n",
    "open_port_id = 3773\n",
    "load_port_id = 3360\n",
    "discharge_port_id = 3794\n",
    "ballast_speed = 12.0\n",
    "laden_speed = 12.5\n",
    "operation_status = 0\n",
    "formula_calculation_date = datetime(2020, 2, 27, 17, 48, 11)\n",
    "open_date = datetime(1, 1, 1, 0, 0, 0)\n",
    "load_sail_date = datetime(1, 1, 1, 0, 0, 0)\n",
    "cargo_type = \"Product\"\n",
    "canal_expenses = api.get_canal_expenses(canal, imo, open_port_id, load_port_id, discharge_port_id,\n",
    "                                        ballast_speed, laden_speed, operation_status,\n",
    "                                        formula_calculation_date, open_date, load_sail_date, cargo_type)"
   ]
  },
  {
   "cell_type": "markdown",
   "source": [
    "#### Get port model vessel expenses"
   ],
   "metadata": {
    "collapsed": false
   }
  },
  {
   "cell_type": "code",
   "execution_count": null,
   "outputs": [],
   "source": [
    "port_id = 3324\n",
    "vessel_type_id = 5\n",
    "formula_calculation_date = datetime(2020, 3, 8, 0, 0, 0)\n",
    "pmv_expenses = api.get_port_model_vessel_expenses(port_id, vessel_type_id, formula_calculation_date)"
   ],
   "metadata": {
    "collapsed": false,
    "pycharm": {
     "name": "#%%\n"
    }
   }
  },
  {
   "cell_type": "markdown",
   "source": [
    "#### Get canal model vessel expenses"
   ],
   "metadata": {
    "collapsed": false
   }
  },
  {
   "cell_type": "code",
   "execution_count": null,
   "outputs": [],
   "source": [
    "canal = 1\n",
    "open_port_id = 3773\n",
    "load_port_id = 3360\n",
    "discharge_port_id = 3794\n",
    "operation_status = 1\n",
    "formula_calculation_date = datetime(2020, 2, 27, 17, 48, 11)\n",
    "cmv_expenses = api.get_canal_model_vessel_expenses(canal, open_port_id, load_port_id, discharge_port_id,\n",
    "                                                    operation_status, formula_calculation_date)"
   ],
   "metadata": {
    "collapsed": false,
    "pycharm": {
     "name": "#%%\n"
    }
   }
  }
 ],
 "metadata": {
  "kernelspec": {
   "display_name": "Python 3",
   "language": "python",
   "name": "python3"
  },
  "language_info": {
   "codemirror_mode": {
    "name": "ipython",
    "version": 3
   },
   "file_extension": ".py",
   "mimetype": "text/x-python",
   "name": "python",
   "nbconvert_exporter": "python",
   "pygments_lexer": "ipython3",
   "version": "3.8.5"
  }
 },
 "nbformat": 4,
 "nbformat_minor": 4
}