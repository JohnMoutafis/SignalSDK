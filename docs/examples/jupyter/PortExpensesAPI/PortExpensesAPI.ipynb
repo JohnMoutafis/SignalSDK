{
 "cells": [
  {
   "cell_type": "markdown",
   "metadata": {},
   "source": [
    "# Port Expenses API Example"
   ]
  },
  {
   "cell_type": "markdown",
   "metadata": {},
   "source": [
    "## Setup\n",
    "Install the Signal Ocean SDK:\n",
    "```\n",
    "pip install signal-ocean\n",
    "```\n",
    "Set your subscription key acquired here: https://apis.signalocean.com/profile"
   ]
  },
  {
   "cell_type": "code",
   "execution_count": null,
   "metadata": {},
   "outputs": [],
   "source": [
    "pip install signal-ocean"
   ]
  },
  {
   "cell_type": "code",
   "execution_count": 1,
   "outputs": [],
   "source": [
    "signal_ocean_api_key = '' #replace with your subscription key"
   ],
   "metadata": {
    "collapsed": false,
    "pycharm": {
     "name": "#%%\n"
    }
   }
  },
  {
   "cell_type": "markdown",
   "metadata": {},
   "source": [
    "## Port expenses API\n",
    "The Port Expenses API retrieves expenses breakdown for a given port. First create connection towards\n",
    "Port Expenses API in order to find available ports by name:"
   ]
  },
  {
   "cell_type": "code",
   "execution_count": 2,
   "outputs": [],
   "source": [
    "from signal_ocean import Connection, PortExpensesAPI\n",
    "from signal_ocean.port_expenses import PortFilter\n",
    "from datetime import datetime\n",
    "\n",
    "connection = Connection(api_key=signal_ocean_api_key)\n",
    "pe_api = PortExpensesAPI(connection)"
   ],
   "metadata": {
    "collapsed": false,
    "pycharm": {
     "name": "#%%\n"
    }
   }
  },
  {
   "cell_type": "markdown",
   "source": [
    "#### Get the port expenses for an IMO\n",
    "Now retrieve the expenses for the port of Ningbo for a given vessel IMO:"
   ],
   "metadata": {
    "collapsed": false
   }
  },
  {
   "cell_type": "code",
   "execution_count": 3,
   "outputs": [
    {
     "data": {
      "text/plain": "PortExpenses(port_id=3302, port_canal=0, towage=12975, berth=4127, port_dues=25318, lighthouse=0, mooring=0, pilotage=10248, quay=0, anchorage=825, agency_fees=16209, other=4663, suez_dues=0, total_cost=74368, miscellaneous_dues=0, is_estimated=False, canal_dues=0, berth_dues=4127, lighthouse_dues=0, mooring_unmooring=0, quay_dues=0, anchorage_dues=825, port_agents=[])"
     },
     "execution_count": 3,
     "metadata": {},
     "output_type": "execute_result"
    }
   ],
   "source": [
    "ningbo = pe_api.get_ports(PortFilter(name_like='Ningbo'))[0]\n",
    "pe_api.get_port_expenses(imo = 9867621, port_id = ningbo.id)"
   ],
   "metadata": {
    "collapsed": false,
    "pycharm": {
     "name": "#%%\n"
    }
   }
  },
  {
   "cell_type": "markdown",
   "source": [
    "The result contains a breakdown of the costs as well as the total cost.\n",
    "In cases where we do not have the exact port costs modelled in our system, a total cost based on historical actual DAs is returned. In that case the is_estimated is True."
   ],
   "metadata": {
    "collapsed": false
   }
  },
  {
   "cell_type": "markdown",
   "source": [
    "#### Optional port expenses calculation parameters\n",
    "Depending on the port, the expenses calculation can be more precise by passing some extra parameters.\n",
    "Retrieve the list of the parameters for the port of Ningbo."
   ],
   "metadata": {
    "collapsed": false
   }
  },
  {
   "cell_type": "code",
   "execution_count": 4,
   "outputs": [
    {
     "data": {
      "text/plain": "['EstimatedTimeOfBerth']"
     },
     "execution_count": 4,
     "metadata": {},
     "output_type": "execute_result"
    }
   ],
   "source": [
    "pe_api.get_required_formula_parameters(port_id = ningbo.id)"
   ],
   "metadata": {
    "collapsed": false,
    "pycharm": {
     "name": "#%%\n"
    }
   }
  },
  {
   "cell_type": "markdown",
   "source": [
    "Get again the expenses for the port of Ningbo, this time by also passing one of the optional\n",
    "parameters retrieved above i.e. estimated time of berth:"
   ],
   "metadata": {
    "collapsed": false
   }
  },
  {
   "cell_type": "code",
   "execution_count": 12,
   "outputs": [
    {
     "data": {
      "text/plain": "PortExpenses(port_id=3302, port_canal=0, towage=12975, berth=4127, port_dues=25318, lighthouse=0, mooring=0, pilotage=8366, quay=0, anchorage=825, agency_fees=16209, other=4663, suez_dues=0, total_cost=72486, miscellaneous_dues=0, is_estimated=False, canal_dues=0, berth_dues=4127, lighthouse_dues=0, mooring_unmooring=0, quay_dues=0, anchorage_dues=825, port_agents=[])"
     },
     "execution_count": 12,
     "metadata": {},
     "output_type": "execute_result"
    }
   ],
   "source": [
    "pe_api.get_port_expenses(imo = 9867621, port_id = ningbo.id, estimated_time_of_berth=datetime(2019, 2, 27, 17, 48, 11))"
   ],
   "metadata": {
    "collapsed": false,
    "pycharm": {
     "name": "#%%\n"
    }
   }
  },
  {
   "cell_type": "markdown",
   "source": [
    "#### Get the port expenses for a model vessel\n",
    "Port expenses can also be calculated based on a model vessel. Retrieve all\n",
    "available vessel types:"
   ],
   "metadata": {
    "collapsed": false
   }
  },
  {
   "cell_type": "code",
   "execution_count": 5,
   "outputs": [
    {
     "name": "stdout",
     "output_type": "stream",
     "text": [
      "(VesselType(id=1, name='Tanker'), VesselType(id=3, name='Dry'), VesselType(id=4, name='Container'), VesselType(id=5, name='LNG'), VesselType(id=6, name='LPG'))\n"
     ]
    }
   ],
   "source": [
    "vessel_types = pe_api.get_vessel_types()\n",
    "print(vessel_types)"
   ],
   "metadata": {
    "collapsed": false,
    "pycharm": {
     "name": "#%%\n"
    }
   }
  },
  {
   "cell_type": "markdown",
   "source": [
    "Get expenses for Ningbo for dry vessels as of 8-3-2020:"
   ],
   "metadata": {
    "collapsed": false
   }
  },
  {
   "cell_type": "code",
   "execution_count": 6,
   "outputs": [
    {
     "data": {
      "text/plain": "PortExpenses(port_id=3302, port_canal=0, towage=0, berth=1080, port_dues=19881, lighthouse=0, mooring=0, pilotage=8147, quay=0, anchorage=216, agency_fees=4455, other=1128, suez_dues=0, total_cost=34909, miscellaneous_dues=0, is_estimated=False, canal_dues=0, berth_dues=1080, lighthouse_dues=0, mooring_unmooring=0, quay_dues=0, anchorage_dues=216, port_agents=None)"
     },
     "execution_count": 6,
     "metadata": {},
     "output_type": "execute_result"
    }
   ],
   "source": [
    "dry_vessel_type = next(vt for vt in vessel_types if vt.name=='Dry')\n",
    "pe_api.get_port_model_vessel_expenses(port_id = ningbo.id, vessel_type_id = dry_vessel_type.id, formula_calculation_date = datetime(2020, 3, 8, 0, 0, 0))"
   ],
   "metadata": {
    "collapsed": false,
    "pycharm": {
     "name": "#%%\n"
    }
   }
  }
 ],
 "metadata": {
  "kernelspec": {
   "display_name": "Python 3",
   "language": "python",
   "name": "python3"
  },
  "language_info": {
   "codemirror_mode": {
    "name": "ipython",
    "version": 3
   },
   "file_extension": ".py",
   "mimetype": "text/x-python",
   "name": "python",
   "nbconvert_exporter": "python",
   "pygments_lexer": "ipython3",
   "version": "3.8.5"
  }
 },
 "nbformat": 4,
 "nbformat_minor": 4
}