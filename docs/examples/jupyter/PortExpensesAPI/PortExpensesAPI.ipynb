{
 "cells": [
  {
   "cell_type": "markdown",
   "metadata": {},
   "source": [
    "# Port Expenses API Example\n",
    "\n",
    "## Run this example in [Colab](https://colab.research.google.com/github/SignalOceanSdk/SignalSDK/blob/master/docs/examples/jupyter/PortExpensesAPI/PortExpensesAPI.ipynb) "
   ]
  },
  {
   "cell_type": "markdown",
   "metadata": {},
   "source": [
    "## Setup\n",
    "Install the Signal Ocean SDK:\n",
    "```\n",
    "pip install signal-ocean\n",
    "```\n",
    "Set your subscription key acquired here: https://apis.signalocean.com/profile"
   ]
  },
  {
   "cell_type": "code",
   "execution_count": null,
   "metadata": {},
   "outputs": [],
   "source": [
    "pip install signal-ocean"
   ]
  },
  {
   "cell_type": "code",
   "execution_count": 5,
   "metadata": {
    "collapsed": false,
    "pycharm": {
     "name": "#%%\n"
    }
   },
   "outputs": [],
   "source": [
    "signal_ocean_api_key = '' #replace with your subscription key"
   ]
  },
  {
   "cell_type": "markdown",
   "metadata": {},
   "source": [
    "## Port expenses API\n",
    "The Port Expenses API retrieves expenses breakdown for a given port. First create connection towards\n",
    "Port Expenses API in order to find available ports by name:"
   ]
  },
  {
   "cell_type": "code",
   "execution_count": 6,
   "metadata": {
    "collapsed": false,
    "pycharm": {
     "name": "#%%\n"
    }
   },
   "outputs": [],
   "source": [
    "from signal_ocean import Connection, PortExpensesAPI\n",
    "from signal_ocean.port_expenses import PortFilter\n",
    "from datetime import datetime\n",
    "\n",
    "connection = Connection(api_key=signal_ocean_api_key)\n",
    "pe_api = PortExpensesAPI(connection)"
   ]
  },
  {
   "cell_type": "markdown",
   "metadata": {
    "collapsed": false
   },
   "source": [
    "#### Get the port expenses for an IMO\n",
    "Now retrieve the expenses for the port of Ningbo for a given vessel IMO:"
   ]
  },
  {
   "cell_type": "code",
   "execution_count": 7,
   "metadata": {
    "collapsed": false,
    "pycharm": {
     "name": "#%%\n"
    }
   },
   "outputs": [
    {
     "data": {
      "text/plain": "PortExpenses(port_id=3302, port_canal=0, towage=13381, berth=4257, port_dues=26109, lighthouse=0, mooring=0, pilotage=10569, quay=0, anchorage=851, agency_fees=16716, other=4809, suez_dues=0, total_cost=76692, miscellaneous_dues=0, is_estimated=False, canal_dues=0, berth_dues=4257, lighthouse_dues=0, mooring_unmooring=0, quay_dues=0, anchorage_dues=851, port_agents=[])"
     },
     "execution_count": 7,
     "metadata": {},
     "output_type": "execute_result"
    }
   ],
   "source": [
    "ningbo = pe_api.get_ports(PortFilter(name_like='Ningbo'))[0]\n",
    "pe_api.get_port_expenses(imo = 9867621, port_id = ningbo.id)"
   ]
  },
  {
   "cell_type": "markdown",
   "metadata": {
    "collapsed": false
   },
   "source": [
    "The result contains a breakdown of the costs as well as the total cost.\n",
    "In cases where we do not have the exact port costs modelled in our system, a total cost based on historical actual DAs is returned. In that case the is_estimated is True."
   ]
  },
  {
   "cell_type": "markdown",
   "metadata": {
    "collapsed": false
   },
   "source": [
    "#### Optional port expenses calculation parameters\n",
    "Depending on the port, the expenses calculation can be more precise by passing some extra parameters.\n",
    "Retrieve the list of the parameters for the port of Ningbo."
   ]
  },
  {
   "cell_type": "code",
   "execution_count": 8,
   "metadata": {
    "collapsed": false,
    "pycharm": {
     "name": "#%%\n"
    }
   },
   "outputs": [
    {
     "data": {
      "text/plain": "[]"
     },
     "execution_count": 8,
     "metadata": {},
     "output_type": "execute_result"
    }
   ],
   "source": [
    "pe_api.get_required_formula_parameters(port_id = ningbo.id, vessel_type_id = 1)"
   ]
  },
  {
   "cell_type": "markdown",
   "metadata": {
    "collapsed": false
   },
   "source": [
    "Get again the expenses for the port of Ningbo, this time by also passing one of the optional\n",
    "parameters retrieved above i.e. estimated time of berth:"
   ]
  },
  {
   "cell_type": "code",
   "execution_count": 9,
   "metadata": {
    "collapsed": false,
    "pycharm": {
     "name": "#%%\n"
    }
   },
   "outputs": [
    {
     "data": {
      "text/plain": "PortExpenses(port_id=3302, port_canal=0, towage=13381, berth=4257, port_dues=26109, lighthouse=0, mooring=0, pilotage=8627, quay=0, anchorage=851, agency_fees=16716, other=4809, suez_dues=0, total_cost=74751, miscellaneous_dues=0, is_estimated=False, canal_dues=0, berth_dues=4257, lighthouse_dues=0, mooring_unmooring=0, quay_dues=0, anchorage_dues=851, port_agents=[])"
     },
     "execution_count": 9,
     "metadata": {},
     "output_type": "execute_result"
    }
   ],
   "source": [
    "pe_api.get_port_expenses(imo = 9867621, port_id = ningbo.id, estimated_time_of_berth=datetime(2019, 2, 27, 17, 48, 11))"
   ]
  },
  {
   "cell_type": "markdown",
   "metadata": {
    "collapsed": false
   },
   "source": [
    "#### Get the port expenses for a model vessel\n",
    "Port expenses can also be calculated based on a model vessel. Retrieve all\n",
    "available vessel types:"
   ]
  },
  {
   "cell_type": "code",
   "execution_count": 10,
   "metadata": {
    "collapsed": false,
    "pycharm": {
     "name": "#%%\n"
    }
   },
   "outputs": [
    {
     "name": "stdout",
     "output_type": "stream",
     "text": [
      "(VesselType(id=1, name='Tanker'), VesselType(id=3, name='Dry'), VesselType(id=4, name='Container'), VesselType(id=5, name='LNG'), VesselType(id=6, name='LPG'))\n"
     ]
    }
   ],
   "source": [
    "vessel_types = pe_api.get_vessel_types()\n",
    "print(vessel_types)"
   ]
  },
  {
   "cell_type": "markdown",
   "metadata": {
    "collapsed": false
   },
   "source": [
    "Get expenses for Ningbo for dry vessels as of 8-3-2020:"
   ]
  },
  {
   "cell_type": "code",
   "execution_count": 11,
   "metadata": {
    "collapsed": false,
    "pycharm": {
     "name": "#%%\n"
    }
   },
   "outputs": [
    {
     "data": {
      "text/plain": "PortExpenses(port_id=3302, port_canal=0, towage=0, berth=1070, port_dues=19687, lighthouse=0, mooring=0, pilotage=8067, quay=0, anchorage=214, agency_fees=4411, other=1117, suez_dues=0, total_cost=34566, miscellaneous_dues=0, is_estimated=False, canal_dues=0, berth_dues=1070, lighthouse_dues=0, mooring_unmooring=0, quay_dues=0, anchorage_dues=214, port_agents=[])"
     },
     "execution_count": 11,
     "metadata": {},
     "output_type": "execute_result"
    }
   ],
   "source": [
    "dry_vessel_type = next(vt for vt in vessel_types if vt.name=='Dry')\n",
    "pe_api.get_port_model_vessel_expenses(port_id = ningbo.id, vessel_type_id = dry_vessel_type.id, formula_calculation_date = datetime(2020, 3, 8, 0, 0, 0))"
   ]
  }
 ],
 "metadata": {
  "kernelspec": {
   "display_name": "Python 3",
   "language": "python",
   "name": "python3"
  },
  "language_info": {
   "codemirror_mode": {
    "name": "ipython",
    "version": 3
   },
   "file_extension": ".py",
   "mimetype": "text/x-python",
   "name": "python",
   "nbconvert_exporter": "python",
   "pygments_lexer": "ipython3",
   "version": "3.8.5"
  }
 },
 "nbformat": 4,
 "nbformat_minor": 4
}