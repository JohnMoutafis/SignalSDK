{
 "cells": [
  {
   "cell_type": "markdown",
   "metadata": {
    "id": "sD97qSpbF7h0"
   },
   "source": [
    "# Scraped Fixture API\n",
    "\n",
    "## Run this example in [Colab](https://colab.research.google.com/github/SignalOceanSdk/SignalSDK/blob/master/docs/examples/jupyter/ScrapedFixtureAPI/ScrapedFixturesAPI.ipynb) "
   ]
  },
  {
   "cell_type": "markdown",
   "metadata": {
    "id": "FHadnhRZGAM_"
   },
   "source": [
    "- Get your personal Signal Ocean API subscription key (acquired [here](https://apis.signalocean.com/profile)) and replace it below:"
   ]
  },
  {
   "cell_type": "code",
   "execution_count": 1,
   "metadata": {
    "id": "vJ8RUjzXo5xH"
   },
   "outputs": [],
   "source": [
    "signal_ocean_api_key = '' # replace with your subscription key"
   ]
  },
  {
   "cell_type": "markdown",
   "metadata": {
    "id": "jCm5_UFCGKKc"
   },
   "source": [
    "## Setup"
   ]
  },
  {
   "cell_type": "markdown",
   "metadata": {},
   "source": [
    "### Import libraries"
   ]
  },
  {
   "cell_type": "code",
   "execution_count": 13,
   "metadata": {
    "colab": {
     "base_uri": "https://localhost:8080/"
    },
    "id": "yMSIVMDpGL5u",
    "outputId": "14f34266-d199-43ca-e35b-9433a15f82f3"
   },
   "outputs": [],
   "source": [
    "%%capture\n",
    "!pip install signal-ocean\n",
    "\n",
    "import pandas as pd\n",
    "from datetime import date, timedelta\n",
    "import plotly.graph_objects as go\n",
    "import plotly.express as px\n",
    "\n",
    "\n",
    "from signal_ocean import Connection\n",
    "from signal_ocean.scraped_fixtures import ScrapedFixturesAPI"
   ]
  },
  {
   "cell_type": "markdown",
   "metadata": {},
   "source": [
    "### ScrapedFixtureAPI parameters \n",
    "For the ScrapedFixtureAPI, the required input arguments are: \n",
    "* Vessel Type\n",
    "* The start date we want to extract the fixtures\n",
    "\n",
    "In addition the user can request with following 3 optional arguments:\n",
    "* Port id\n",
    "* Vessel class id\n",
    "* The end date we want to extract the fixtures"
   ]
  },
  {
   "cell_type": "markdown",
   "metadata": {
    "id": "nHCYl1Sjb8YY"
   },
   "source": [
    "## Scraped Fixtures "
   ]
  },
  {
   "cell_type": "markdown",
   "metadata": {},
   "source": [
    "### Get Scraped Fixtures using ScrapedFixturesAPI"
   ]
  },
  {
   "cell_type": "code",
   "execution_count": 14,
   "metadata": {},
   "outputs": [],
   "source": [
    "def get_scraped_fixtures(vessel_type_id, \n",
    "                         date_from, \n",
    "                         date_to=None, \n",
    "                         vessel_class_id = None,\n",
    "                         port_id = None):\n",
    "    \"\"\"\n",
    "    Return a dataframe with the scraped fixtures based o the above parameters\n",
    "    \"\"\"\n",
    "\n",
    "    # Scraped Fixture API\n",
    "    connection = Connection(signal_ocean_api_key)\n",
    "    api = ScrapedFixturesAPI(connection)\n",
    "    scraped_fixtures = api.get_fixtures(\n",
    "        received_date_from = date_from,\n",
    "        received_date_to = date_to,\n",
    "        vessel_type = vessel_type_id,\n",
    "        port_id = port_id,\n",
    "        vessel_class_id = vessel_class_id\n",
    "    )\n",
    "    \n",
    "    data = pd.DataFrame([v.__dict__ for v in scraped_fixtures])\n",
    "    return data"
   ]
  },
  {
   "cell_type": "markdown",
   "metadata": {},
   "source": [
    "Plot functions\n",
    "* Plot the top k charterers with VLCC in the last 7 days with loading port in Ras Tanura\n",
    "* Plot the weekly number of fixed vessels for Ras Tanura/VLCC"
   ]
  },
  {
   "cell_type": "code",
   "execution_count": 15,
   "metadata": {
    "id": "NWL8v-KfIK6r"
   },
   "outputs": [],
   "source": [
    "def plot_charterers(data, top_k_charterers=3, days = 7):\n",
    "\n",
    "    data_aggr = data \\\n",
    "              .groupby(['charterer'])['imo'] \\\n",
    "              .unique().reset_index()\n",
    "\n",
    "    data_aggr['Count Unique Imo'] = data_aggr \\\n",
    "                                            .apply(lambda x: len(x.imo),axis=1)\n",
    "    top_k = data_aggr \\\n",
    "          .sort_values('Count Unique Imo') \\\n",
    "          .tail(top_k_charterers)\n",
    "  \n",
    "    fig = px.bar(top_k, \n",
    "               y='charterer', \n",
    "               x='Count Unique Imo' ,\n",
    "               orientation='h',\n",
    "               title=\"Top {} charterers, last {} days, VLCC\" \\\n",
    "                              .format(top_k_charterers, days)\n",
    "               )\n",
    "    \n",
    "  \n",
    "    fig.update_layout(\n",
    "      xaxis_title=\"Number of fixed Vessels\",\n",
    "      yaxis_title=\"Charterers\"\n",
    "    )\n",
    "    fig.show()"
   ]
  },
  {
   "cell_type": "code",
   "execution_count": 16,
   "metadata": {
    "id": "9o3VYwMkDGay"
   },
   "outputs": [],
   "source": [
    "def plot_weekly_fixed_vessels(results):\n",
    "    freq_dict = {\n",
    "      0:'W-MON',\n",
    "      1:'W-TUE',\n",
    "      2:'W-WED',\n",
    "      3:'W-THU',\n",
    "      4:'W-FRI',\n",
    "      5:'W-SAT',\n",
    "      6:'W-SUN'\n",
    "    }\n",
    "    fixtures_weekly_laycan = results.groupby(\n",
    "      pd.Grouper(\n",
    "          key='laycan_from',\n",
    "          freq = freq_dict[date.today().weekday()],\n",
    "          closed = 'left',\n",
    "          label = 'left' \n",
    "      )\n",
    "    )['imo'].unique().reset_index()\n",
    "    fixtures_weekly_laycan['Count Unique Imo'] = fixtures_weekly_laycan \\\n",
    "                                            .apply(lambda x: len(x.imo),axis=1)\n",
    "\n",
    "    fig = px.line(\n",
    "      fixtures_weekly_laycan, \n",
    "      title=\"Fixtures per Week\",\n",
    "      x='laycan_from', \n",
    "      y='Count Unique Imo', \n",
    "    )\n",
    "    fig.update_layout(\n",
    "      yaxis_title=\"Number of fixed Vessels\",\n",
    "      xaxis_title=\"Laycan Date\"\n",
    "    )\n",
    "    fig.show()"
   ]
  },
  {
   "cell_type": "markdown",
   "metadata": {
    "id": "2X_WkXVweuIK"
   },
   "source": [
    "## Results"
   ]
  },
  {
   "cell_type": "markdown",
   "metadata": {},
   "source": [
    "### Example 1"
   ]
  },
  {
   "cell_type": "markdown",
   "metadata": {},
   "source": [
    "In the following example will extract the fixtures for the VLCC in the last 7 days with loading port in Ras Tanura"
   ]
  },
  {
   "cell_type": "code",
   "execution_count": 17,
   "metadata": {},
   "outputs": [
    {
     "name": "stdout",
     "output_type": "stream",
     "text": [
      "Wall time: 1min 9s\n"
     ]
    },
    {
     "data": {
      "text/html": [
       "<div>\n",
       "<style scoped>\n",
       "    .dataframe tbody tr th:only-of-type {\n",
       "        vertical-align: middle;\n",
       "    }\n",
       "\n",
       "    .dataframe tbody tr th {\n",
       "        vertical-align: top;\n",
       "    }\n",
       "\n",
       "    .dataframe thead th {\n",
       "        text-align: right;\n",
       "    }\n",
       "</style>\n",
       "<table border=\"1\" class=\"dataframe\">\n",
       "  <thead>\n",
       "    <tr style=\"text-align: right;\">\n",
       "      <th></th>\n",
       "      <th>fixture_id</th>\n",
       "      <th>message_id</th>\n",
       "      <th>updated_date</th>\n",
       "      <th>received_date</th>\n",
       "      <th>reported_fixture_date</th>\n",
       "      <th>imo</th>\n",
       "      <th>vessel_class_id</th>\n",
       "      <th>laycan_from</th>\n",
       "      <th>laycan_to</th>\n",
       "      <th>load_geo_id</th>\n",
       "      <th>...</th>\n",
       "      <th>redelivery_from_taxonomy</th>\n",
       "      <th>redelivery_to_name</th>\n",
       "      <th>redelivery_to_taxonomy</th>\n",
       "      <th>charterer_type</th>\n",
       "      <th>fixture_status</th>\n",
       "      <th>content</th>\n",
       "      <th>sender</th>\n",
       "      <th>is_private</th>\n",
       "      <th>is_invalidated</th>\n",
       "      <th>is_partial</th>\n",
       "    </tr>\n",
       "  </thead>\n",
       "  <tbody>\n",
       "    <tr>\n",
       "      <th>0</th>\n",
       "      <td>84450749</td>\n",
       "      <td>22734681</td>\n",
       "      <td>2022-03-28 05:50:22+00:00</td>\n",
       "      <td>2022-03-28 05:36:03+00:00</td>\n",
       "      <td>None</td>\n",
       "      <td>9246281</td>\n",
       "      <td>84</td>\n",
       "      <td>2022-04-03 00:00:00+00:00</td>\n",
       "      <td>2022-04-03 00:00:00+00:00</td>\n",
       "      <td>3778</td>\n",
       "      <td>...</td>\n",
       "      <td>None</td>\n",
       "      <td>None</td>\n",
       "      <td>None</td>\n",
       "      <td>None</td>\n",
       "      <td>None</td>\n",
       "      <td>tsurusaki 02 248 03/04 rt/kochi w45 bpcl</td>\n",
       "      <td>Howerob</td>\n",
       "      <td>True</td>\n",
       "      <td>False</td>\n",
       "      <td>False</td>\n",
       "    </tr>\n",
       "    <tr>\n",
       "      <th>1</th>\n",
       "      <td>84450750</td>\n",
       "      <td>22734681</td>\n",
       "      <td>2022-03-28 05:50:22+00:00</td>\n",
       "      <td>2022-03-28 05:36:03+00:00</td>\n",
       "      <td>None</td>\n",
       "      <td>9602631</td>\n",
       "      <td>84</td>\n",
       "      <td>2022-04-05 00:00:00+00:00</td>\n",
       "      <td>2022-04-05 00:00:00+00:00</td>\n",
       "      <td>3778</td>\n",
       "      <td>...</td>\n",
       "      <td>None</td>\n",
       "      <td>None</td>\n",
       "      <td>None</td>\n",
       "      <td>None</td>\n",
       "      <td>None</td>\n",
       "      <td>azure nova 12 227 05/04 rt/sikka w52 bpcl 17.7k</td>\n",
       "      <td>Howerob</td>\n",
       "      <td>True</td>\n",
       "      <td>False</td>\n",
       "      <td>False</td>\n",
       "    </tr>\n",
       "    <tr>\n",
       "      <th>2</th>\n",
       "      <td>84537430</td>\n",
       "      <td>22759366</td>\n",
       "      <td>2022-03-28 17:10:08+00:00</td>\n",
       "      <td>2022-03-28 17:08:36+00:00</td>\n",
       "      <td>None</td>\n",
       "      <td>9246281</td>\n",
       "      <td>84</td>\n",
       "      <td>2022-04-03 00:00:00+00:00</td>\n",
       "      <td>2022-04-03 00:00:00+00:00</td>\n",
       "      <td>3778</td>\n",
       "      <td>...</td>\n",
       "      <td>None</td>\n",
       "      <td>None</td>\n",
       "      <td>None</td>\n",
       "      <td>None</td>\n",
       "      <td>FullyFixed</td>\n",
       "      <td>tsurusaki 02 248 3/4 ras tanura kochi ws45 $17...</td>\n",
       "      <td>Fearnleys</td>\n",
       "      <td>True</td>\n",
       "      <td>False</td>\n",
       "      <td>False</td>\n",
       "    </tr>\n",
       "    <tr>\n",
       "      <th>3</th>\n",
       "      <td>84537473</td>\n",
       "      <td>22759366</td>\n",
       "      <td>2022-03-28 17:10:05+00:00</td>\n",
       "      <td>2022-03-28 17:08:36+00:00</td>\n",
       "      <td>None</td>\n",
       "      <td>9602631</td>\n",
       "      <td>84</td>\n",
       "      <td>2022-04-05 00:00:00+00:00</td>\n",
       "      <td>2022-04-05 00:00:00+00:00</td>\n",
       "      <td>3778</td>\n",
       "      <td>...</td>\n",
       "      <td>None</td>\n",
       "      <td>None</td>\n",
       "      <td>None</td>\n",
       "      <td>None</td>\n",
       "      <td>FullyFixed</td>\n",
       "      <td>azure nova 12 227 5/4 ras tanura sikka ws52 $1...</td>\n",
       "      <td>Fearnleys</td>\n",
       "      <td>True</td>\n",
       "      <td>False</td>\n",
       "      <td>False</td>\n",
       "    </tr>\n",
       "    <tr>\n",
       "      <th>4</th>\n",
       "      <td>84537676</td>\n",
       "      <td>22759362</td>\n",
       "      <td>2022-03-28 17:10:45+00:00</td>\n",
       "      <td>2022-03-28 17:09:17+00:00</td>\n",
       "      <td>None</td>\n",
       "      <td>9706401</td>\n",
       "      <td>84</td>\n",
       "      <td>2022-04-14 00:00:00+00:00</td>\n",
       "      <td>2022-04-14 00:00:00+00:00</td>\n",
       "      <td>3778</td>\n",
       "      <td>...</td>\n",
       "      <td>None</td>\n",
       "      <td>None</td>\n",
       "      <td>None</td>\n",
       "      <td>None</td>\n",
       "      <td>None</td>\n",
       "      <td>28-Mar-22\\t02-Apr-22\\t70\\tNEW CAESAR\\tOil Dirt...</td>\n",
       "      <td>Signal Ocean</td>\n",
       "      <td>False</td>\n",
       "      <td>False</td>\n",
       "      <td>False</td>\n",
       "    </tr>\n",
       "  </tbody>\n",
       "</table>\n",
       "<p>5 rows × 98 columns</p>\n",
       "</div>"
      ],
      "text/plain": [
       "   fixture_id  message_id              updated_date             received_date  \\\n",
       "0    84450749    22734681 2022-03-28 05:50:22+00:00 2022-03-28 05:36:03+00:00   \n",
       "1    84450750    22734681 2022-03-28 05:50:22+00:00 2022-03-28 05:36:03+00:00   \n",
       "2    84537430    22759366 2022-03-28 17:10:08+00:00 2022-03-28 17:08:36+00:00   \n",
       "3    84537473    22759366 2022-03-28 17:10:05+00:00 2022-03-28 17:08:36+00:00   \n",
       "4    84537676    22759362 2022-03-28 17:10:45+00:00 2022-03-28 17:09:17+00:00   \n",
       "\n",
       "  reported_fixture_date      imo  vessel_class_id               laycan_from  \\\n",
       "0                  None  9246281               84 2022-04-03 00:00:00+00:00   \n",
       "1                  None  9602631               84 2022-04-05 00:00:00+00:00   \n",
       "2                  None  9246281               84 2022-04-03 00:00:00+00:00   \n",
       "3                  None  9602631               84 2022-04-05 00:00:00+00:00   \n",
       "4                  None  9706401               84 2022-04-14 00:00:00+00:00   \n",
       "\n",
       "                  laycan_to  load_geo_id  ... redelivery_from_taxonomy  \\\n",
       "0 2022-04-03 00:00:00+00:00         3778  ...                     None   \n",
       "1 2022-04-05 00:00:00+00:00         3778  ...                     None   \n",
       "2 2022-04-03 00:00:00+00:00         3778  ...                     None   \n",
       "3 2022-04-05 00:00:00+00:00         3778  ...                     None   \n",
       "4 2022-04-14 00:00:00+00:00         3778  ...                     None   \n",
       "\n",
       "   redelivery_to_name redelivery_to_taxonomy  charterer_type fixture_status  \\\n",
       "0                None                   None            None           None   \n",
       "1                None                   None            None           None   \n",
       "2                None                   None            None     FullyFixed   \n",
       "3                None                   None            None     FullyFixed   \n",
       "4                None                   None            None           None   \n",
       "\n",
       "                                             content        sender  \\\n",
       "0           tsurusaki 02 248 03/04 rt/kochi w45 bpcl       Howerob   \n",
       "1    azure nova 12 227 05/04 rt/sikka w52 bpcl 17.7k       Howerob   \n",
       "2  tsurusaki 02 248 3/4 ras tanura kochi ws45 $17...     Fearnleys   \n",
       "3  azure nova 12 227 5/4 ras tanura sikka ws52 $1...     Fearnleys   \n",
       "4  28-Mar-22\\t02-Apr-22\\t70\\tNEW CAESAR\\tOil Dirt...  Signal Ocean   \n",
       "\n",
       "   is_private  is_invalidated  is_partial  \n",
       "0        True           False       False  \n",
       "1        True           False       False  \n",
       "2        True           False       False  \n",
       "3        True           False       False  \n",
       "4       False           False       False  \n",
       "\n",
       "[5 rows x 98 columns]"
      ]
     },
     "execution_count": 17,
     "metadata": {},
     "output_type": "execute_result"
    }
   ],
   "source": [
    "vessel_type_id = 1 \n",
    "last_days = 7 \n",
    "vessel_class_id = 84 \n",
    "port_id = 3778 \n",
    "date_from = date.today() - timedelta(days=last_days)\n",
    "date_to = date.today()\n",
    "results = get_scraped_fixtures(vessel_type_id,\n",
    "                              date_from,\n",
    "                              date_to,\n",
    "                              vessel_class_id,\n",
    "                              port_id)\n",
    "results.head(5)"
   ]
  },
  {
   "cell_type": "markdown",
   "metadata": {
    "id": "m7uQ3rh-qHIa"
   },
   "source": [
    "#### Plot top k charterers"
   ]
  },
  {
   "cell_type": "code",
   "execution_count": 18,
   "metadata": {
    "colab": {
     "base_uri": "https://localhost:8080/",
     "height": 542
    },
    "id": "zKwCpikGDYJD",
    "outputId": "d55db46e-27c9-495c-d62d-954ae8b9290c",
    "scrolled": false
   },
   "outputs": [
    {
     "data": {
      "image/png": "[encoded data removed]"
     },
     "metadata": {},
     "output_type": "display_data"
    }
   ],
   "source": [
    "k = 3\n",
    "plot_charterers(results, top_k_charterers=k, days=last_days)"
   ]
  },
  {
   "cell_type": "markdown",
   "metadata": {
    "id": "Tb5wmFfPCvqh"
   },
   "source": [
    "#### Get the weekly number of fixed vessels for Ras Tanura/VLCC"
   ]
  },
  {
   "cell_type": "code",
   "execution_count": 19,
   "metadata": {
    "colab": {
     "base_uri": "https://localhost:8080/",
     "height": 542
    },
    "id": "10Lf9lTyF1p_",
    "outputId": "ac7eb9d8-b512-4f37-c30a-66f996760b7f",
    "scrolled": false
   },
   "outputs": [
    {
     "data": {
      "image/png": "[encoded data removed]"
     },
     "metadata": {},
     "output_type": "display_data"
    }
   ],
   "source": [
    "plot_weekly_fixed_vessels(results)"
   ]
  },
  {
   "cell_type": "markdown",
   "metadata": {},
   "source": [
    "### Example 2 "
   ]
  },
  {
   "cell_type": "markdown",
   "metadata": {},
   "source": [
    "In the following example we will extract the scraped fixtures for Aframax for the last week."
   ]
  },
  {
   "cell_type": "code",
   "execution_count": 20,
   "metadata": {},
   "outputs": [
    {
     "name": "stdout",
     "output_type": "stream",
     "text": [
      "Wall time: 1min 22s\n"
     ]
    },
    {
     "data": {
      "text/html": [
       "<div>\n",
       "<style scoped>\n",
       "    .dataframe tbody tr th:only-of-type {\n",
       "        vertical-align: middle;\n",
       "    }\n",
       "\n",
       "    .dataframe tbody tr th {\n",
       "        vertical-align: top;\n",
       "    }\n",
       "\n",
       "    .dataframe thead th {\n",
       "        text-align: right;\n",
       "    }\n",
       "</style>\n",
       "<table border=\"1\" class=\"dataframe\">\n",
       "  <thead>\n",
       "    <tr style=\"text-align: right;\">\n",
       "      <th></th>\n",
       "      <th>fixture_id</th>\n",
       "      <th>message_id</th>\n",
       "      <th>updated_date</th>\n",
       "      <th>received_date</th>\n",
       "      <th>reported_fixture_date</th>\n",
       "      <th>imo</th>\n",
       "      <th>vessel_class_id</th>\n",
       "      <th>laycan_from</th>\n",
       "      <th>laycan_to</th>\n",
       "      <th>load_geo_id</th>\n",
       "      <th>...</th>\n",
       "      <th>redelivery_from_taxonomy</th>\n",
       "      <th>redelivery_to_name</th>\n",
       "      <th>redelivery_to_taxonomy</th>\n",
       "      <th>charterer_type</th>\n",
       "      <th>fixture_status</th>\n",
       "      <th>content</th>\n",
       "      <th>sender</th>\n",
       "      <th>is_private</th>\n",
       "      <th>is_invalidated</th>\n",
       "      <th>is_partial</th>\n",
       "    </tr>\n",
       "  </thead>\n",
       "  <tbody>\n",
       "    <tr>\n",
       "      <th>0</th>\n",
       "      <td>84444783</td>\n",
       "      <td>22731952</td>\n",
       "      <td>2022-03-28 03:50:22+00:00</td>\n",
       "      <td>2022-03-28 00:00:00+00:00</td>\n",
       "      <td>None</td>\n",
       "      <td>9719692</td>\n",
       "      <td>86</td>\n",
       "      <td>2022-03-29 00:00:00+00:00</td>\n",
       "      <td>2022-03-30 00:00:00+00:00</td>\n",
       "      <td>3360.0</td>\n",
       "      <td>...</td>\n",
       "      <td>None</td>\n",
       "      <td>None</td>\n",
       "      <td>None</td>\n",
       "      <td>None</td>\n",
       "      <td>OnSubs</td>\n",
       "      <td>sti symphony 90 cpp skikda/japan 29-30/03 2.70...</td>\n",
       "      <td>Eastport Maritime</td>\n",
       "      <td>True</td>\n",
       "      <td>False</td>\n",
       "      <td>False</td>\n",
       "    </tr>\n",
       "    <tr>\n",
       "      <th>1</th>\n",
       "      <td>84444785</td>\n",
       "      <td>22731952</td>\n",
       "      <td>2022-03-28 03:50:22+00:00</td>\n",
       "      <td>2022-03-28 00:00:00+00:00</td>\n",
       "      <td>None</td>\n",
       "      <td>9383950</td>\n",
       "      <td>86</td>\n",
       "      <td>2022-04-14 00:00:00+00:00</td>\n",
       "      <td>2022-04-16 00:00:00+00:00</td>\n",
       "      <td>3209.0</td>\n",
       "      <td>...</td>\n",
       "      <td>None</td>\n",
       "      <td>None</td>\n",
       "      <td>None</td>\n",
       "      <td>None</td>\n",
       "      <td>OnSubs</td>\n",
       "      <td>star prosperity 80 cond dampier/japan 14-16/04...</td>\n",
       "      <td>Eastport Maritime</td>\n",
       "      <td>True</td>\n",
       "      <td>False</td>\n",
       "      <td>False</td>\n",
       "    </tr>\n",
       "    <tr>\n",
       "      <th>2</th>\n",
       "      <td>84444786</td>\n",
       "      <td>22731952</td>\n",
       "      <td>2022-03-28 03:50:22+00:00</td>\n",
       "      <td>2022-03-28 00:00:00+00:00</td>\n",
       "      <td>None</td>\n",
       "      <td>9531636</td>\n",
       "      <td>86</td>\n",
       "      <td>2022-04-11 00:00:00+00:00</td>\n",
       "      <td>2022-04-13 00:00:00+00:00</td>\n",
       "      <td>3530.0</td>\n",
       "      <td>...</td>\n",
       "      <td>None</td>\n",
       "      <td>None</td>\n",
       "      <td>None</td>\n",
       "      <td>None</td>\n",
       "      <td>OnSubs</td>\n",
       "      <td>sks demini 75 ulsd sikka/oz 11-13/04 rnr ampol...</td>\n",
       "      <td>Eastport Maritime</td>\n",
       "      <td>True</td>\n",
       "      <td>False</td>\n",
       "      <td>False</td>\n",
       "    </tr>\n",
       "    <tr>\n",
       "      <th>3</th>\n",
       "      <td>84444797</td>\n",
       "      <td>22731952</td>\n",
       "      <td>2022-03-28 03:50:22+00:00</td>\n",
       "      <td>2022-03-28 00:00:00+00:00</td>\n",
       "      <td>None</td>\n",
       "      <td>9888742</td>\n",
       "      <td>86</td>\n",
       "      <td>2022-04-08 00:00:00+00:00</td>\n",
       "      <td>2022-04-10 00:00:00+00:00</td>\n",
       "      <td>24777.0</td>\n",
       "      <td>...</td>\n",
       "      <td>None</td>\n",
       "      <td>None</td>\n",
       "      <td>None</td>\n",
       "      <td>None</td>\n",
       "      <td>OnSubs</td>\n",
       "      <td>anwaar benghazi 75 nap ag/japan 08-10/04 w165 ...</td>\n",
       "      <td>Eastport Maritime</td>\n",
       "      <td>True</td>\n",
       "      <td>False</td>\n",
       "      <td>False</td>\n",
       "    </tr>\n",
       "    <tr>\n",
       "      <th>4</th>\n",
       "      <td>84524424</td>\n",
       "      <td>22757656</td>\n",
       "      <td>2022-03-28 15:52:23+00:00</td>\n",
       "      <td>2022-03-28 00:00:00+00:00</td>\n",
       "      <td>None</td>\n",
       "      <td>9592252</td>\n",
       "      <td>86</td>\n",
       "      <td>NaT</td>\n",
       "      <td>NaT</td>\n",
       "      <td>NaN</td>\n",
       "      <td>...</td>\n",
       "      <td>None</td>\n",
       "      <td>None</td>\n",
       "      <td>None</td>\n",
       "      <td>None</td>\n",
       "      <td>OnSubs</td>\n",
       "      <td>None</td>\n",
       "      <td>SSY</td>\n",
       "      <td>False</td>\n",
       "      <td>False</td>\n",
       "      <td>True</td>\n",
       "    </tr>\n",
       "  </tbody>\n",
       "</table>\n",
       "<p>5 rows × 98 columns</p>\n",
       "</div>"
      ],
      "text/plain": [
       "   fixture_id  message_id              updated_date             received_date  \\\n",
       "0    84444783    22731952 2022-03-28 03:50:22+00:00 2022-03-28 00:00:00+00:00   \n",
       "1    84444785    22731952 2022-03-28 03:50:22+00:00 2022-03-28 00:00:00+00:00   \n",
       "2    84444786    22731952 2022-03-28 03:50:22+00:00 2022-03-28 00:00:00+00:00   \n",
       "3    84444797    22731952 2022-03-28 03:50:22+00:00 2022-03-28 00:00:00+00:00   \n",
       "4    84524424    22757656 2022-03-28 15:52:23+00:00 2022-03-28 00:00:00+00:00   \n",
       "\n",
       "  reported_fixture_date      imo  vessel_class_id               laycan_from  \\\n",
       "0                  None  9719692               86 2022-03-29 00:00:00+00:00   \n",
       "1                  None  9383950               86 2022-04-14 00:00:00+00:00   \n",
       "2                  None  9531636               86 2022-04-11 00:00:00+00:00   \n",
       "3                  None  9888742               86 2022-04-08 00:00:00+00:00   \n",
       "4                  None  9592252               86                       NaT   \n",
       "\n",
       "                  laycan_to  load_geo_id  ...  redelivery_from_taxonomy  \\\n",
       "0 2022-03-30 00:00:00+00:00       3360.0  ...                      None   \n",
       "1 2022-04-16 00:00:00+00:00       3209.0  ...                      None   \n",
       "2 2022-04-13 00:00:00+00:00       3530.0  ...                      None   \n",
       "3 2022-04-10 00:00:00+00:00      24777.0  ...                      None   \n",
       "4                       NaT          NaN  ...                      None   \n",
       "\n",
       "   redelivery_to_name  redelivery_to_taxonomy  charterer_type  fixture_status  \\\n",
       "0                None                    None            None          OnSubs   \n",
       "1                None                    None            None          OnSubs   \n",
       "2                None                    None            None          OnSubs   \n",
       "3                None                    None            None          OnSubs   \n",
       "4                None                    None            None          OnSubs   \n",
       "\n",
       "                                             content             sender  \\\n",
       "0  sti symphony 90 cpp skikda/japan 29-30/03 2.70...  Eastport Maritime   \n",
       "1  star prosperity 80 cond dampier/japan 14-16/04...  Eastport Maritime   \n",
       "2  sks demini 75 ulsd sikka/oz 11-13/04 rnr ampol...  Eastport Maritime   \n",
       "3  anwaar benghazi 75 nap ag/japan 08-10/04 w165 ...  Eastport Maritime   \n",
       "4                                               None                SSY   \n",
       "\n",
       "   is_private  is_invalidated  is_partial  \n",
       "0        True           False       False  \n",
       "1        True           False       False  \n",
       "2        True           False       False  \n",
       "3        True           False       False  \n",
       "4       False           False        True  \n",
       "\n",
       "[5 rows x 98 columns]"
      ]
     },
     "execution_count": 20,
     "metadata": {},
     "output_type": "execute_result"
    }
   ],
   "source": [
    "vessel_type_id = 1 \n",
    "last_days = 7\n",
    "vessel_class_id = 86\n",
    "date_from = date.today() - timedelta(days=last_days)\n",
    "date_to = date.today()\n",
    "afra_results = get_scraped_fixtures(vessel_type_id,\n",
    "                              date_from,\n",
    "                              date_to,\n",
    "                              vessel_class_id)\n",
    "afra_results.head()"
   ]
  },
  {
   "cell_type": "markdown",
   "metadata": {},
   "source": [
    "#### Export results to csv\n"
   ]
  },
  {
   "cell_type": "code",
   "execution_count": 11,
   "metadata": {},
   "outputs": [],
   "source": [
    "output_path = '' # Change output_path with your path\n",
    "filename = 'afra_one_week_scraped_fix.csv'\n",
    "afra_results.to_csv(output_path+filename,index=False)"
   ]
  }
 ],
 "metadata": {
  "colab": {
   "collapsed_sections": [],
   "name": "ScrapedFixturesAPI.ipynb",
   "provenance": []
  },
  "kernelspec": {
   "display_name": "Python 3",
   "language": "python",
   "name": "python3"
  },
  "language_info": {
   "codemirror_mode": {
    "name": "ipython",
    "version": 3
   },
   "file_extension": ".py",
   "mimetype": "text/x-python",
   "name": "python",
   "nbconvert_exporter": "python",
   "pygments_lexer": "ipython3",
   "version": "3.8.7"
  }
 },
 "nbformat": 4,
 "nbformat_minor": 1
}
