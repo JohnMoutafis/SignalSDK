{
 "cells": [
  {
   "cell_type": "markdown",
   "metadata": {
    "id": "sD97qSpbF7h0"
   },
   "source": [
    "# Scraped Fixtures API Example\n",
    "\n",
    "## Run this example in [Colab](https://colab.research.google.com/github/SignalOceanSdk/SignalSDK/blob/master/docs/examples/jupyter/ScrapedFixturesAPI/Scraped%20Fixtures%20API%20Example.ipynb) "
   ]
  },
  {
   "cell_type": "markdown",
   "metadata": {
    "id": "FHadnhRZGAM_"
   },
   "source": [
    "- Get your personal Signal Ocean API subscription key (acquired [here](https://apis.signalocean.com/profile)) and replace it below:"
   ]
  },
  {
   "cell_type": "code",
   "execution_count": 19,
   "metadata": {
    "id": "vJ8RUjzXo5xH"
   },
   "outputs": [],
   "source": [
    "signal_ocean_api_key = '' # replace with your subscription key"
   ]
  },
  {
   "cell_type": "markdown",
   "metadata": {},
   "source": [
    "### Scraped Fixtures API  \n",
    "The goal of Scraped Fixtures API is to collect and return the scraped fixtures by the given filters. \n",
    "The data are requested by using the get_fixtures() function with the following arguments.\n",
    "\n",
    "Required input arguments are: \n",
    "* vessel_type: The vessel type\n",
    "* received_date_from :Earliest date the fixture received.\n",
    "\n",
    "Optional arguments:\n",
    "* port_id: The loading port id\n",
    "* vessel_class_id: The vessel class id\n",
    "* received_date_to: Latest date the fixture received.\n",
    "* updated_date_from: Earliest date the fixture updated. Cannot be combined with 'received_date_from'\n",
    "* updated_date_to: Latest date the fixture updated. Cannot be combined with 'received_date_to'\n",
    "\n",
    "Other optional arguments:\n",
    "* include_fixture_details: Boolean. If this field is True then the following columns will be incuded in the response (otherwise they will be None):\n",
    "    * parsed_part_id, line_from, line_to, in_line_order, source \n",
    "* include_scraped_fields: Boolean. If this field is True then the following columns will be incuded in the response (otherwise they will be None):\n",
    "    * scraped_vessel_name, scraped_deadweight, scraped_year_build, scraped_laycan, scraped_load, scraped_load2, scraped_discharge, scraped_discharge2, scraped_discharge_options, scraped_charterer, scraped_cargo_type, scraped_quantity, scraped_rate, scraped_rate_options, scraped_delivery_date, scraped_delivery, scraped_redelivery_from, scraped_redelivery_to\n",
    "* include_vessel_details: Boolean. If this field is True then the following columns will be incuded in the response (otherwise they will be None):\n",
    "    * vessel_name, deadweight, year_build, liquid_capacity, vessel_type_id, vessel_type, vessel_class, commercial_operator_id, commercial_operator\n",
    "* include_labels: Boolean. If this field is True then the following columns will be incuded in the response (otherwise they will be None):\n",
    "    * load_name,load_name2, load_taxonomy, load_taxonomy2, discharge_name, discharge_name2, discharge_taxonomy, discharge_taxonomy2, charterer, cargo_type, cargo_group, open_taxonomy, redelivery_from_name, delivery_name, open_geo_name, redelivery_from_taxonomy, redelivery_to_name, redelivery_to_taxonomy, charterer_type, fixture_status\n",
    "* include_content: Boolean. If this field is True then the following columns will be incuded in the response (otherwise they will be None):\n",
    "    * content\n",
    "* include_sender: Boolean. If this field is True then the following columns will be incuded in the response (otherwise they will be None): \n",
    "    * sender\n",
    "* include_debug_info: Boolean. If this field is True then the following columns will be incuded in the response (otherwise they will be None):\n",
    "    * is_private, is_invalidated, is_partial"
   ]
  },
  {
   "cell_type": "markdown",
   "metadata": {
    "id": "jCm5_UFCGKKc"
   },
   "source": [
    "## Setup"
   ]
  },
  {
   "cell_type": "markdown",
   "metadata": {},
   "source": [
    "### Import libraries"
   ]
  },
  {
   "cell_type": "code",
   "execution_count": 20,
   "metadata": {
    "colab": {
     "base_uri": "https://localhost:8080/"
    },
    "id": "yMSIVMDpGL5u",
    "outputId": "14f34266-d199-43ca-e35b-9433a15f82f3"
   },
   "outputs": [],
   "source": [
    "%%capture\n",
    "%pip install signal-ocean\n",
    "\n",
    "import pandas as pd\n",
    "from datetime import datetime, timedelta\n",
    "import plotly.graph_objects as go\n",
    "import plotly.express as px\n",
    "\n",
    "\n",
    "from signal_ocean import Connection\n",
    "from signal_ocean.scraped_fixtures import ScrapedFixturesAPI"
   ]
  },
  {
   "cell_type": "markdown",
   "metadata": {
    "id": "nHCYl1Sjb8YY"
   },
   "source": [
    "## Functions"
   ]
  },
  {
   "cell_type": "markdown",
   "metadata": {},
   "source": [
    "Plot functions\n",
    "* Plot the top k senders with VLCC in the last 7 days with loading port in Ras Tanura\n",
    "* Plot the daily number of fixtures for Ras Tanura/VLCC"
   ]
  },
  {
   "cell_type": "code",
   "execution_count": 21,
   "metadata": {
    "id": "NWL8v-KfIK6r"
   },
   "outputs": [],
   "source": [
    "def plot_senders(results, k):\n",
    "    \n",
    "    if results.empty:\n",
    "        print('No data')\n",
    "        return\n",
    "\n",
    "    data_aggr = results \\\n",
    "              .groupby(['sender'])['fixture_id'] \\\n",
    "              .unique().reset_index()\n",
    "\n",
    "    data_aggr['unique_fixture_ids'] = data_aggr \\\n",
    "                                            .apply(lambda x: len(x.fixture_id),axis=1)\n",
    "    top_k = data_aggr \\\n",
    "          .sort_values('unique_fixture_ids') \\\n",
    "          .tail(k)\n",
    "  \n",
    "    fig = px.bar(top_k, \n",
    "               y='sender', \n",
    "               x='unique_fixture_ids' ,\n",
    "               orientation='h',\n",
    "               title=\"Top {} senders, VLCC\" \\\n",
    "                              .format(k)\n",
    "               )\n",
    "    \n",
    "  \n",
    "    fig.update_layout(\n",
    "      xaxis_title=\"Number of fixtures\",\n",
    "      yaxis_title=\"Senders\"\n",
    "    )\n",
    "    fig.show()"
   ]
  },
  {
   "cell_type": "code",
   "execution_count": 22,
   "metadata": {
    "id": "9o3VYwMkDGay"
   },
   "outputs": [],
   "source": [
    "def plot_daily_fixtures(results):\n",
    "    \n",
    "    if results.empty:\n",
    "        print('No data')\n",
    "        return\n",
    "\n",
    "    \n",
    "    results['received_date'] = pd.to_datetime(results['received_date'])\n",
    "    results['received_date'] = results['received_date'].dt.date\n",
    "    fixtures_daily = results.groupby('received_date')['fixture_id'].unique().reset_index()\n",
    "    fixtures_daily['unique_fixture_ids'] = fixtures_daily \\\n",
    "                                            .apply(lambda x: len(x.fixture_id),axis=1)\n",
    "    fixtures_daily = fixtures_daily.sort_values('received_date')\n",
    "    fig = px.bar(\n",
    "      fixtures_daily, \n",
    "      title=\"Daily Fixtures\",\n",
    "      x='received_date', \n",
    "      y='unique_fixture_ids', \n",
    "    )\n",
    "    fig.update_layout(\n",
    "      yaxis_title=\"Number of fixtures\",\n",
    "      xaxis_title=\"Received Date\"\n",
    "    )\n",
    "    fig.show()"
   ]
  },
  {
   "cell_type": "markdown",
   "metadata": {
    "id": "2X_WkXVweuIK"
   },
   "source": [
    "## Results"
   ]
  },
  {
   "cell_type": "markdown",
   "metadata": {},
   "source": [
    "### Example "
   ]
  },
  {
   "cell_type": "markdown",
   "metadata": {},
   "source": [
    "In the following example will extract the fixtures for the VLCC in the last 7 days with loading port in Ras Tanura"
   ]
  },
  {
   "cell_type": "code",
   "execution_count": 23,
   "metadata": {
    "scrolled": false
   },
   "outputs": [
    {
     "data": {
      "text/html": [
       "<div>\n",
       "<style scoped>\n",
       "    .dataframe tbody tr th:only-of-type {\n",
       "        vertical-align: middle;\n",
       "    }\n",
       "\n",
       "    .dataframe tbody tr th {\n",
       "        vertical-align: top;\n",
       "    }\n",
       "\n",
       "    .dataframe thead th {\n",
       "        text-align: right;\n",
       "    }\n",
       "</style>\n",
       "<table border=\"1\" class=\"dataframe\">\n",
       "  <thead>\n",
       "    <tr style=\"text-align: right;\">\n",
       "      <th></th>\n",
       "      <th>fixture_id</th>\n",
       "      <th>message_id</th>\n",
       "      <th>updated_date</th>\n",
       "      <th>received_date</th>\n",
       "      <th>reported_fixture_date</th>\n",
       "      <th>imo</th>\n",
       "      <th>vessel_class_id</th>\n",
       "      <th>laycan_from</th>\n",
       "      <th>laycan_to</th>\n",
       "      <th>load_geo_id</th>\n",
       "      <th>...</th>\n",
       "      <th>redelivery_to_name</th>\n",
       "      <th>redelivery_to_taxonomy</th>\n",
       "      <th>charterer_type</th>\n",
       "      <th>fixture_status</th>\n",
       "      <th>content</th>\n",
       "      <th>sender</th>\n",
       "      <th>is_private</th>\n",
       "      <th>is_invalidated</th>\n",
       "      <th>is_partial</th>\n",
       "      <th>is_deleted</th>\n",
       "    </tr>\n",
       "  </thead>\n",
       "  <tbody>\n",
       "    <tr>\n",
       "      <th>0</th>\n",
       "      <td>85605769</td>\n",
       "      <td>23159915</td>\n",
       "      <td>2022-04-13 16:13:02+00:00</td>\n",
       "      <td>2022-04-13 16:11:34+00:00</td>\n",
       "      <td>None</td>\n",
       "      <td>9870800</td>\n",
       "      <td>84</td>\n",
       "      <td>2022-05-06 00:00:00+00:00</td>\n",
       "      <td>2022-05-06 00:00:00+00:00</td>\n",
       "      <td>38.0</td>\n",
       "      <td>...</td>\n",
       "      <td>None</td>\n",
       "      <td>None</td>\n",
       "      <td>None</td>\n",
       "      <td>None</td>\n",
       "      <td>hunter frigg 260 06may brazil east w59.89 petr...</td>\n",
       "      <td>Galbraith's</td>\n",
       "      <td>True</td>\n",
       "      <td>False</td>\n",
       "      <td>False</td>\n",
       "      <td>False</td>\n",
       "    </tr>\n",
       "    <tr>\n",
       "      <th>1</th>\n",
       "      <td>85605782</td>\n",
       "      <td>23159915</td>\n",
       "      <td>2022-04-13 16:13:02+00:00</td>\n",
       "      <td>2022-04-13 16:11:34+00:00</td>\n",
       "      <td>None</td>\n",
       "      <td>9915569</td>\n",
       "      <td>84</td>\n",
       "      <td>2022-05-02 00:00:00+00:00</td>\n",
       "      <td>2022-05-02 00:00:00+00:00</td>\n",
       "      <td>24676.0</td>\n",
       "      <td>...</td>\n",
       "      <td>None</td>\n",
       "      <td>None</td>\n",
       "      <td>None</td>\n",
       "      <td>None</td>\n",
       "      <td>grand bonanza 270 02may usg south korea usd7.5...</td>\n",
       "      <td>Galbraith's</td>\n",
       "      <td>True</td>\n",
       "      <td>False</td>\n",
       "      <td>False</td>\n",
       "      <td>False</td>\n",
       "    </tr>\n",
       "    <tr>\n",
       "      <th>2</th>\n",
       "      <td>85605783</td>\n",
       "      <td>23159915</td>\n",
       "      <td>2022-04-13 16:13:01+00:00</td>\n",
       "      <td>2022-04-13 16:11:34+00:00</td>\n",
       "      <td>None</td>\n",
       "      <td>9575955</td>\n",
       "      <td>84</td>\n",
       "      <td>2022-05-05 00:00:00+00:00</td>\n",
       "      <td>2022-05-05 00:00:00+00:00</td>\n",
       "      <td>37.0</td>\n",
       "      <td>...</td>\n",
       "      <td>None</td>\n",
       "      <td>None</td>\n",
       "      <td>None</td>\n",
       "      <td>None</td>\n",
       "      <td>polymnia i 260 05may west africa wc india w68 cnr</td>\n",
       "      <td>Galbraith's</td>\n",
       "      <td>True</td>\n",
       "      <td>False</td>\n",
       "      <td>False</td>\n",
       "      <td>False</td>\n",
       "    </tr>\n",
       "    <tr>\n",
       "      <th>3</th>\n",
       "      <td>85606037</td>\n",
       "      <td>23159909</td>\n",
       "      <td>2022-04-13 16:14:01+00:00</td>\n",
       "      <td>2022-04-13 16:11:34+00:00</td>\n",
       "      <td>None</td>\n",
       "      <td>9870800</td>\n",
       "      <td>84</td>\n",
       "      <td>2022-05-06 00:00:00+00:00</td>\n",
       "      <td>2022-05-06 00:00:00+00:00</td>\n",
       "      <td>38.0</td>\n",
       "      <td>...</td>\n",
       "      <td>None</td>\n",
       "      <td>None</td>\n",
       "      <td>None</td>\n",
       "      <td>None</td>\n",
       "      <td>hunter frigg 260 06may brazil east w59.89 petr...</td>\n",
       "      <td>Galbraith's</td>\n",
       "      <td>False</td>\n",
       "      <td>False</td>\n",
       "      <td>False</td>\n",
       "      <td>False</td>\n",
       "    </tr>\n",
       "    <tr>\n",
       "      <th>4</th>\n",
       "      <td>85606057</td>\n",
       "      <td>23159909</td>\n",
       "      <td>2022-04-13 16:14:01+00:00</td>\n",
       "      <td>2022-04-13 16:11:34+00:00</td>\n",
       "      <td>None</td>\n",
       "      <td>9915569</td>\n",
       "      <td>84</td>\n",
       "      <td>2022-05-02 00:00:00+00:00</td>\n",
       "      <td>2022-05-02 00:00:00+00:00</td>\n",
       "      <td>24676.0</td>\n",
       "      <td>...</td>\n",
       "      <td>None</td>\n",
       "      <td>None</td>\n",
       "      <td>None</td>\n",
       "      <td>None</td>\n",
       "      <td>grand bonanza 270 02may usg south korea usd7.5...</td>\n",
       "      <td>Galbraith's</td>\n",
       "      <td>False</td>\n",
       "      <td>False</td>\n",
       "      <td>False</td>\n",
       "      <td>False</td>\n",
       "    </tr>\n",
       "  </tbody>\n",
       "</table>\n",
       "<p>5 rows × 99 columns</p>\n",
       "</div>"
      ],
      "text/plain": [
       "   fixture_id  message_id              updated_date             received_date  \\\n",
       "0    85605769    23159915 2022-04-13 16:13:02+00:00 2022-04-13 16:11:34+00:00   \n",
       "1    85605782    23159915 2022-04-13 16:13:02+00:00 2022-04-13 16:11:34+00:00   \n",
       "2    85605783    23159915 2022-04-13 16:13:01+00:00 2022-04-13 16:11:34+00:00   \n",
       "3    85606037    23159909 2022-04-13 16:14:01+00:00 2022-04-13 16:11:34+00:00   \n",
       "4    85606057    23159909 2022-04-13 16:14:01+00:00 2022-04-13 16:11:34+00:00   \n",
       "\n",
       "  reported_fixture_date      imo  vessel_class_id               laycan_from  \\\n",
       "0                  None  9870800               84 2022-05-06 00:00:00+00:00   \n",
       "1                  None  9915569               84 2022-05-02 00:00:00+00:00   \n",
       "2                  None  9575955               84 2022-05-05 00:00:00+00:00   \n",
       "3                  None  9870800               84 2022-05-06 00:00:00+00:00   \n",
       "4                  None  9915569               84 2022-05-02 00:00:00+00:00   \n",
       "\n",
       "                  laycan_to  load_geo_id  ...  redelivery_to_name  \\\n",
       "0 2022-05-06 00:00:00+00:00         38.0  ...                None   \n",
       "1 2022-05-02 00:00:00+00:00      24676.0  ...                None   \n",
       "2 2022-05-05 00:00:00+00:00         37.0  ...                None   \n",
       "3 2022-05-06 00:00:00+00:00         38.0  ...                None   \n",
       "4 2022-05-02 00:00:00+00:00      24676.0  ...                None   \n",
       "\n",
       "   redelivery_to_taxonomy  charterer_type  fixture_status  \\\n",
       "0                    None            None            None   \n",
       "1                    None            None            None   \n",
       "2                    None            None            None   \n",
       "3                    None            None            None   \n",
       "4                    None            None            None   \n",
       "\n",
       "                                             content       sender is_private  \\\n",
       "0  hunter frigg 260 06may brazil east w59.89 petr...  Galbraith's       True   \n",
       "1  grand bonanza 270 02may usg south korea usd7.5...  Galbraith's       True   \n",
       "2  polymnia i 260 05may west africa wc india w68 cnr  Galbraith's       True   \n",
       "3  hunter frigg 260 06may brazil east w59.89 petr...  Galbraith's      False   \n",
       "4  grand bonanza 270 02may usg south korea usd7.5...  Galbraith's      False   \n",
       "\n",
       "   is_invalidated  is_partial  is_deleted  \n",
       "0           False       False       False  \n",
       "1           False       False       False  \n",
       "2           False       False       False  \n",
       "3           False       False       False  \n",
       "4           False       False       False  \n",
       "\n",
       "[5 rows x 99 columns]"
      ]
     },
     "execution_count": 23,
     "metadata": {},
     "output_type": "execute_result"
    }
   ],
   "source": [
    "vessel_type_id = 1 #tanker\n",
    "last_days = 7\n",
    "vessel_class_id = 84 #VLCC\n",
    "port_id = 3778 #Ras Tanura\n",
    "date_from = datetime.today() - timedelta(days=last_days)\n",
    "date_to = datetime.today()\n",
    "\n",
    "connection = Connection(signal_ocean_api_key)\n",
    "api = ScrapedFixturesAPI(connection)\n",
    "scraped_fixtures = api.get_fixtures(\n",
    "    received_date_from = date_from,\n",
    "    received_date_to = date_to,\n",
    "    vessel_type = vessel_type_id,\n",
    "#     port_id = port_id,\n",
    "    vessel_class_id = vessel_class_id\n",
    ")\n",
    "\n",
    "results = pd.DataFrame([v.__dict__ for v in scraped_fixtures])\n",
    "results = results.sort_values('received_date')\n",
    "results.head(5)"
   ]
  },
  {
   "cell_type": "markdown",
   "metadata": {
    "id": "m7uQ3rh-qHIa"
   },
   "source": [
    "#### Plot top 10 senders"
   ]
  },
  {
   "cell_type": "code",
   "execution_count": 24,
   "metadata": {
    "colab": {
     "base_uri": "https://localhost:8080/",
     "height": 542
    },
    "id": "zKwCpikGDYJD",
    "outputId": "d55db46e-27c9-495c-d62d-954ae8b9290c",
    "scrolled": false
   },
   "outputs": [
    {
     "data": {
      "image/png": "[encoded data removed]"
     },
     "metadata": {},
     "output_type": "display_data"
    }
   ],
   "source": [
    "plot_senders(results, k=10)"
   ]
  },
  {
   "cell_type": "markdown",
   "metadata": {
    "id": "Tb5wmFfPCvqh"
   },
   "source": [
    "#### Get the daily number of fixtures for Ras Tanura/VLCC"
   ]
  },
  {
   "cell_type": "code",
   "execution_count": 25,
   "metadata": {
    "colab": {
     "base_uri": "https://localhost:8080/",
     "height": 542
    },
    "id": "10Lf9lTyF1p_",
    "outputId": "ac7eb9d8-b512-4f37-c30a-66f996760b7f",
    "scrolled": false
   },
   "outputs": [
    {
     "data": {
      "image/png": "[encoded data removed]"
     },
     "metadata": {},
     "output_type": "display_data"
    }
   ],
   "source": [
    "plot_daily_fixtures(results)"
   ]
  },
  {
   "cell_type": "markdown",
   "metadata": {},
   "source": [
    "#### Export Results to CSV"
   ]
  },
  {
   "cell_type": "code",
   "execution_count": 10,
   "metadata": {},
   "outputs": [],
   "source": [
    "output_path = '' # Change output_path with your path\n",
    "filename = 'vlcc_one_week_scraped_fix.csv'\n",
    "if not results.empty:\n",
    "    results.to_csv(output_path+filename,index=False)"
   ]
  }
 ],
 "metadata": {
  "colab": {
   "collapsed_sections": [],
   "name": "ScrapedFixturesAPI.ipynb",
   "provenance": []
  },
  "kernelspec": {
   "display_name": "Python 3",
   "language": "python",
   "name": "python3"
  },
  "language_info": {
   "codemirror_mode": {
    "name": "ipython",
    "version": 3
   },
   "file_extension": ".py",
   "mimetype": "text/x-python",
   "name": "python",
   "nbconvert_exporter": "python",
   "pygments_lexer": "ipython3",
   "version": "3.8.7"
  }
 },
 "nbformat": 4,
 "nbformat_minor": 1
}
