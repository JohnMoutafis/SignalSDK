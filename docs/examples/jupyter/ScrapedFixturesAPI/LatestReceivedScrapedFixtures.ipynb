{
 "cells": [
  {
   "cell_type": "markdown",
   "metadata": {
    "id": "sD97qSpbF7h0"
   },
   "source": [
    "# Latest Received Scraped Fixtures\n",
    "\n",
    "## Run this example in [Colab](https://colab.research.google.com/github/SignalOceanSdk/SignalSDK/blob/master/docs/examples/jupyter/ScrapedFixturesAPI/LatestReceivedScrapedFixtures.ipynb) "
   ]
  },
  {
   "cell_type": "markdown",
   "metadata": {},
   "source": [
    "- Get your personal Signal Ocean API subscription key (acquired [here](https://apis.signalocean.com/profile)) and replace it below:"
   ]
  },
  {
   "cell_type": "code",
   "execution_count": 1,
   "metadata": {
    "id": "vJ8RUjzXo5xH"
   },
   "outputs": [],
   "source": [
    "signal_ocean_api_key = '' # replace with your subscription key"
   ]
  },
  {
   "cell_type": "markdown",
   "metadata": {},
   "source": [
    "This example uses the Scraped Fixtures API in order to get the latest fixtures for tanker and dry.\n",
    "The final results are exported to csv files."
   ]
  },
  {
   "cell_type": "markdown",
   "metadata": {
    "id": "jCm5_UFCGKKc"
   },
   "source": [
    "## Setup"
   ]
  },
  {
   "cell_type": "markdown",
   "metadata": {},
   "source": [
    "### Import libraries"
   ]
  },
  {
   "cell_type": "code",
   "execution_count": 2,
   "metadata": {
    "colab": {
     "base_uri": "https://localhost:8080/"
    },
    "id": "yMSIVMDpGL5u",
    "outputId": "14f34266-d199-43ca-e35b-9433a15f82f3"
   },
   "outputs": [],
   "source": [
    "%%capture\n",
    "%pip install signal-ocean\n",
    "\n",
    "from IPython.core.interactiveshell import InteractiveShell\n",
    "InteractiveShell.ast_node_interactivity = \"all\"\n",
    "import pandas as pd\n",
    "pd.set_option('display.width', 1000)\n",
    "from datetime import datetime, timedelta,timezone\n",
    "import plotly.graph_objects as go\n",
    "import plotly.express as px\n",
    "\n",
    "\n",
    "from signal_ocean import Connection\n",
    "from signal_ocean.scraped_fixtures import ScrapedFixturesAPI"
   ]
  },
  {
   "cell_type": "markdown",
   "metadata": {
    "id": "2X_WkXVweuIK"
   },
   "source": [
    "##  Results"
   ]
  },
  {
   "cell_type": "code",
   "execution_count": 3,
   "metadata": {},
   "outputs": [],
   "source": [
    "fields_to_show_tankers=['updated_date','vessel_name','quantity','load_name','discharge_name','laycan_from','rate_value','rate_type','charterer','cargo_type','content','sender']"
   ]
  },
  {
   "cell_type": "markdown",
   "metadata": {},
   "source": [
    "### Latest scraped fixtures for tankers"
   ]
  },
  {
   "cell_type": "code",
   "execution_count": 4,
   "metadata": {
    "scrolled": false
   },
   "outputs": [
    {
     "name": "stdout",
     "output_type": "stream",
     "text": [
      "Show 167 fixtures\n"
     ]
    },
    {
     "data": {
      "text/html": [
       "<div>\n",
       "<style scoped>\n",
       "    .dataframe tbody tr th:only-of-type {\n",
       "        vertical-align: middle;\n",
       "    }\n",
       "\n",
       "    .dataframe tbody tr th {\n",
       "        vertical-align: top;\n",
       "    }\n",
       "\n",
       "    .dataframe thead th {\n",
       "        text-align: right;\n",
       "    }\n",
       "</style>\n",
       "<table border=\"1\" class=\"dataframe\">\n",
       "  <thead>\n",
       "    <tr style=\"text-align: right;\">\n",
       "      <th></th>\n",
       "      <th>updated_date</th>\n",
       "      <th>vessel_name</th>\n",
       "      <th>quantity</th>\n",
       "      <th>load_name</th>\n",
       "      <th>discharge_name</th>\n",
       "      <th>laycan_from</th>\n",
       "      <th>rate_value</th>\n",
       "      <th>rate_type</th>\n",
       "      <th>charterer</th>\n",
       "      <th>cargo_type</th>\n",
       "      <th>content</th>\n",
       "      <th>sender</th>\n",
       "    </tr>\n",
       "  </thead>\n",
       "  <tbody>\n",
       "    <tr>\n",
       "      <th>166</th>\n",
       "      <td>2022-05-31 14:34:24+00:00</td>\n",
       "      <td>Aktea</td>\n",
       "      <td>NaN</td>\n",
       "      <td>None</td>\n",
       "      <td>None</td>\n",
       "      <td>NaT</td>\n",
       "      <td>NaN</td>\n",
       "      <td>None</td>\n",
       "      <td>None</td>\n",
       "      <td>None</td>\n",
       "      <td>None</td>\n",
       "      <td>Italia C&amp;A</td>\n",
       "    </tr>\n",
       "    <tr>\n",
       "      <th>165</th>\n",
       "      <td>2022-05-31 14:34:24+00:00</td>\n",
       "      <td>Hafnia Tourmaline</td>\n",
       "      <td>NaN</td>\n",
       "      <td>None</td>\n",
       "      <td>None</td>\n",
       "      <td>NaT</td>\n",
       "      <td>NaN</td>\n",
       "      <td>None</td>\n",
       "      <td>None</td>\n",
       "      <td>None</td>\n",
       "      <td>None</td>\n",
       "      <td>Italia C&amp;A</td>\n",
       "    </tr>\n",
       "    <tr>\n",
       "      <th>162</th>\n",
       "      <td>2022-05-31 14:34:24+00:00</td>\n",
       "      <td>Pacific Citrine</td>\n",
       "      <td>NaN</td>\n",
       "      <td>None</td>\n",
       "      <td>None</td>\n",
       "      <td>NaT</td>\n",
       "      <td>NaN</td>\n",
       "      <td>None</td>\n",
       "      <td>None</td>\n",
       "      <td>None</td>\n",
       "      <td>None</td>\n",
       "      <td>Italia C&amp;A</td>\n",
       "    </tr>\n",
       "    <tr>\n",
       "      <th>163</th>\n",
       "      <td>2022-05-31 14:34:24+00:00</td>\n",
       "      <td>Piltene</td>\n",
       "      <td>NaN</td>\n",
       "      <td>None</td>\n",
       "      <td>None</td>\n",
       "      <td>NaT</td>\n",
       "      <td>NaN</td>\n",
       "      <td>None</td>\n",
       "      <td>None</td>\n",
       "      <td>None</td>\n",
       "      <td>None</td>\n",
       "      <td>Italia C&amp;A</td>\n",
       "    </tr>\n",
       "    <tr>\n",
       "      <th>164</th>\n",
       "      <td>2022-05-31 14:34:24+00:00</td>\n",
       "      <td>Plover Pacific</td>\n",
       "      <td>NaN</td>\n",
       "      <td>None</td>\n",
       "      <td>None</td>\n",
       "      <td>NaT</td>\n",
       "      <td>NaN</td>\n",
       "      <td>None</td>\n",
       "      <td>None</td>\n",
       "      <td>None</td>\n",
       "      <td>None</td>\n",
       "      <td>Italia C&amp;A</td>\n",
       "    </tr>\n",
       "    <tr>\n",
       "      <th>158</th>\n",
       "      <td>2022-05-31 14:33:55+00:00</td>\n",
       "      <td>Athlos</td>\n",
       "      <td>NaN</td>\n",
       "      <td>None</td>\n",
       "      <td>None</td>\n",
       "      <td>NaT</td>\n",
       "      <td>NaN</td>\n",
       "      <td>None</td>\n",
       "      <td>None</td>\n",
       "      <td>None</td>\n",
       "      <td>None</td>\n",
       "      <td>MJLF</td>\n",
       "    </tr>\n",
       "    <tr>\n",
       "      <th>160</th>\n",
       "      <td>2022-05-31 14:33:55+00:00</td>\n",
       "      <td>Celsius Porto</td>\n",
       "      <td>NaN</td>\n",
       "      <td>None</td>\n",
       "      <td>None</td>\n",
       "      <td>NaT</td>\n",
       "      <td>NaN</td>\n",
       "      <td>None</td>\n",
       "      <td>None</td>\n",
       "      <td>None</td>\n",
       "      <td>None</td>\n",
       "      <td>MJLF</td>\n",
       "    </tr>\n",
       "    <tr>\n",
       "      <th>161</th>\n",
       "      <td>2022-05-31 14:33:55+00:00</td>\n",
       "      <td>Cururo</td>\n",
       "      <td>NaN</td>\n",
       "      <td>None</td>\n",
       "      <td>None</td>\n",
       "      <td>NaT</td>\n",
       "      <td>NaN</td>\n",
       "      <td>None</td>\n",
       "      <td>None</td>\n",
       "      <td>None</td>\n",
       "      <td>None</td>\n",
       "      <td>MJLF</td>\n",
       "    </tr>\n",
       "    <tr>\n",
       "      <th>159</th>\n",
       "      <td>2022-05-31 14:33:55+00:00</td>\n",
       "      <td>Seaways Oak</td>\n",
       "      <td>NaN</td>\n",
       "      <td>None</td>\n",
       "      <td>None</td>\n",
       "      <td>NaT</td>\n",
       "      <td>NaN</td>\n",
       "      <td>None</td>\n",
       "      <td>None</td>\n",
       "      <td>None</td>\n",
       "      <td>None</td>\n",
       "      <td>MJLF</td>\n",
       "    </tr>\n",
       "    <tr>\n",
       "      <th>154</th>\n",
       "      <td>2022-05-31 14:33:21+00:00</td>\n",
       "      <td>Athlos</td>\n",
       "      <td>NaN</td>\n",
       "      <td>None</td>\n",
       "      <td>None</td>\n",
       "      <td>NaT</td>\n",
       "      <td>NaN</td>\n",
       "      <td>None</td>\n",
       "      <td>None</td>\n",
       "      <td>None</td>\n",
       "      <td>None</td>\n",
       "      <td>MJLF</td>\n",
       "    </tr>\n",
       "  </tbody>\n",
       "</table>\n",
       "</div>"
      ],
      "text/plain": [
       "                 updated_date        vessel_name  quantity load_name discharge_name laycan_from  rate_value rate_type charterer cargo_type content      sender\n",
       "166 2022-05-31 14:34:24+00:00              Aktea       NaN      None           None         NaT         NaN      None      None       None    None  Italia C&A\n",
       "165 2022-05-31 14:34:24+00:00  Hafnia Tourmaline       NaN      None           None         NaT         NaN      None      None       None    None  Italia C&A\n",
       "162 2022-05-31 14:34:24+00:00    Pacific Citrine       NaN      None           None         NaT         NaN      None      None       None    None  Italia C&A\n",
       "163 2022-05-31 14:34:24+00:00            Piltene       NaN      None           None         NaT         NaN      None      None       None    None  Italia C&A\n",
       "164 2022-05-31 14:34:24+00:00     Plover Pacific       NaN      None           None         NaT         NaN      None      None       None    None  Italia C&A\n",
       "158 2022-05-31 14:33:55+00:00             Athlos       NaN      None           None         NaT         NaN      None      None       None    None        MJLF\n",
       "160 2022-05-31 14:33:55+00:00      Celsius Porto       NaN      None           None         NaT         NaN      None      None       None    None        MJLF\n",
       "161 2022-05-31 14:33:55+00:00             Cururo       NaN      None           None         NaT         NaN      None      None       None    None        MJLF\n",
       "159 2022-05-31 14:33:55+00:00        Seaways Oak       NaN      None           None         NaT         NaN      None      None       None    None        MJLF\n",
       "154 2022-05-31 14:33:21+00:00             Athlos       NaN      None           None         NaT         NaN      None      None       None    None        MJLF"
      ]
     },
     "execution_count": 4,
     "metadata": {},
     "output_type": "execute_result"
    }
   ],
   "source": [
    "vessel_type_id = 1 # tanker\n",
    "date_from = datetime.now(timezone.utc) - timedelta(hours=1, minutes=0)\n",
    "date_to = datetime.now(timezone.utc)\n",
    "\n",
    "connection = Connection(signal_ocean_api_key)\n",
    "api = ScrapedFixturesAPI(connection)\n",
    "scraped_fixtures = api.get_fixtures(\n",
    "    updated_date_from = date_from,\n",
    "    updated_date_to = date_to,\n",
    "    vessel_type = vessel_type_id\n",
    ")\n",
    "\n",
    "tanker_results = pd.DataFrame([v.__dict__ for v in scraped_fixtures])\n",
    "print('Show {} fixtures'.format(len(tanker_results)))\n",
    "if not tanker_results.empty:\n",
    "    tanker_results = tanker_results.sort_values(['updated_date','vessel_name'],ascending=[False,True])\n",
    "    tanker_results[fields_to_show_tankers].head(10)"
   ]
  },
  {
   "cell_type": "markdown",
   "metadata": {},
   "source": [
    "#### Export to csv"
   ]
  },
  {
   "cell_type": "code",
   "execution_count": 5,
   "metadata": {},
   "outputs": [],
   "source": [
    "if not tanker_results.empty:\n",
    "    output_path = '' # Change output_path with your path\n",
    "    filename = 'scraped_fix_tankers.csv'\n",
    "    re_arrange_columns = fields_to_show_tankers + list(set(tanker_results.columns) - set(fields_to_show_tankers))\n",
    "    tanker_results[re_arrange_columns].to_csv(output_path+filename,index=False)"
   ]
  },
  {
   "cell_type": "markdown",
   "metadata": {},
   "source": [
    "### Latest scraped fixtures for dry (Voyage Charter)"
   ]
  },
  {
   "cell_type": "code",
   "execution_count": 6,
   "metadata": {},
   "outputs": [],
   "source": [
    "fields_to_show_dry_VC=['updated_date','vessel_name','quantity_from','quantity_to','load_name','discharge_name','laycan_from','rate_value','rate_type','charterer','cargo_type','content','sender']"
   ]
  },
  {
   "cell_type": "code",
   "execution_count": 7,
   "metadata": {},
   "outputs": [
    {
     "name": "stdout",
     "output_type": "stream",
     "text": [
      "Show 43 fixtures\n"
     ]
    },
    {
     "data": {
      "text/html": [
       "<div>\n",
       "<style scoped>\n",
       "    .dataframe tbody tr th:only-of-type {\n",
       "        vertical-align: middle;\n",
       "    }\n",
       "\n",
       "    .dataframe tbody tr th {\n",
       "        vertical-align: top;\n",
       "    }\n",
       "\n",
       "    .dataframe thead th {\n",
       "        text-align: right;\n",
       "    }\n",
       "</style>\n",
       "<table border=\"1\" class=\"dataframe\">\n",
       "  <thead>\n",
       "    <tr style=\"text-align: right;\">\n",
       "      <th></th>\n",
       "      <th>updated_date</th>\n",
       "      <th>vessel_name</th>\n",
       "      <th>quantity_from</th>\n",
       "      <th>quantity_to</th>\n",
       "      <th>load_name</th>\n",
       "      <th>discharge_name</th>\n",
       "      <th>laycan_from</th>\n",
       "      <th>rate_value</th>\n",
       "      <th>rate_type</th>\n",
       "      <th>charterer</th>\n",
       "      <th>cargo_type</th>\n",
       "      <th>content</th>\n",
       "      <th>sender</th>\n",
       "    </tr>\n",
       "  </thead>\n",
       "  <tbody>\n",
       "    <tr>\n",
       "      <th>42</th>\n",
       "      <td>2022-05-31 09:53:26+00:00</td>\n",
       "      <td>Gladiator</td>\n",
       "      <td>NaN</td>\n",
       "      <td>NaN</td>\n",
       "      <td>Indonesia</td>\n",
       "      <td>None</td>\n",
       "      <td>NaT</td>\n",
       "      <td>22500.00</td>\n",
       "      <td>TCE</td>\n",
       "      <td>None</td>\n",
       "      <td>None</td>\n",
       "      <td>None</td>\n",
       "      <td>d.margariti@thesignalgroup.com</td>\n",
       "    </tr>\n",
       "    <tr>\n",
       "      <th>41</th>\n",
       "      <td>2022-05-31 09:44:01+00:00</td>\n",
       "      <td>None</td>\n",
       "      <td>63009.0</td>\n",
       "      <td>77011.0</td>\n",
       "      <td>Puerto Bolivar</td>\n",
       "      <td>Tarragona</td>\n",
       "      <td>2022-06-19 00:00:00+00:00</td>\n",
       "      <td>24.40</td>\n",
       "      <td>PMT</td>\n",
       "      <td>Enel</td>\n",
       "      <td>Coal</td>\n",
       "      <td>OLDENDORFF TBN 70,010 COAL BOLIVAR/TARRAGONA 2...</td>\n",
       "      <td>Carriers Chartering</td>\n",
       "    </tr>\n",
       "    <tr>\n",
       "      <th>40</th>\n",
       "      <td>2022-05-31 07:45:11+00:00</td>\n",
       "      <td>W Smash</td>\n",
       "      <td>NaN</td>\n",
       "      <td>NaN</td>\n",
       "      <td>None</td>\n",
       "      <td>None</td>\n",
       "      <td>NaT</td>\n",
       "      <td>NaN</td>\n",
       "      <td>None</td>\n",
       "      <td>None</td>\n",
       "      <td>None</td>\n",
       "      <td>None</td>\n",
       "      <td>Carriers Chartering</td>\n",
       "    </tr>\n",
       "    <tr>\n",
       "      <th>35</th>\n",
       "      <td>2022-05-31 06:26:22+00:00</td>\n",
       "      <td>Shandong Mission</td>\n",
       "      <td>171000.0</td>\n",
       "      <td>209000.0</td>\n",
       "      <td>Boffa</td>\n",
       "      <td>Rizhao - Lanshan</td>\n",
       "      <td>2022-06-10 00:00:00+00:00</td>\n",
       "      <td>30.00</td>\n",
       "      <td>PMT</td>\n",
       "      <td>Refined Success</td>\n",
       "      <td>None</td>\n",
       "      <td>'Shandong Mission ' 2021 RWE relet 190000/10 B...</td>\n",
       "      <td>Clarksons</td>\n",
       "    </tr>\n",
       "    <tr>\n",
       "      <th>36</th>\n",
       "      <td>2022-05-31 06:26:22+00:00</td>\n",
       "      <td>Ultra Lynx</td>\n",
       "      <td>NaN</td>\n",
       "      <td>NaN</td>\n",
       "      <td>None</td>\n",
       "      <td>None</td>\n",
       "      <td>NaT</td>\n",
       "      <td>NaN</td>\n",
       "      <td>None</td>\n",
       "      <td>None</td>\n",
       "      <td>None</td>\n",
       "      <td>None</td>\n",
       "      <td>Clarksons</td>\n",
       "    </tr>\n",
       "    <tr>\n",
       "      <th>25</th>\n",
       "      <td>2022-05-30 17:24:05+00:00</td>\n",
       "      <td>None</td>\n",
       "      <td>63009.0</td>\n",
       "      <td>77011.0</td>\n",
       "      <td>Puerto Bolivar</td>\n",
       "      <td>Tarragona</td>\n",
       "      <td>2022-06-19 00:00:00+00:00</td>\n",
       "      <td>24.40</td>\n",
       "      <td>PMT</td>\n",
       "      <td>Enel</td>\n",
       "      <td>Coal</td>\n",
       "      <td>TBN 70,010 COAL BOLIVAR/TARRAGONA 20-19 JUNE S...</td>\n",
       "      <td>Carriers Chartering</td>\n",
       "    </tr>\n",
       "    <tr>\n",
       "      <th>19</th>\n",
       "      <td>2022-05-30 16:54:31+00:00</td>\n",
       "      <td>None</td>\n",
       "      <td>63000.0</td>\n",
       "      <td>77000.0</td>\n",
       "      <td>Puerto Bolivar</td>\n",
       "      <td>Tarragona</td>\n",
       "      <td>2022-06-20 00:00:00+00:00</td>\n",
       "      <td>24.40</td>\n",
       "      <td>PMT</td>\n",
       "      <td>Enel</td>\n",
       "      <td>Coal</td>\n",
       "      <td>TBN 70/10, Coal, Bolivar/Tarragona, 20-29 June...</td>\n",
       "      <td>Arrow Shipbroking</td>\n",
       "    </tr>\n",
       "    <tr>\n",
       "      <th>16</th>\n",
       "      <td>2022-05-30 16:29:42+00:00</td>\n",
       "      <td>None</td>\n",
       "      <td>159000.0</td>\n",
       "      <td>159000.0</td>\n",
       "      <td>Yantai</td>\n",
       "      <td>Son Duong</td>\n",
       "      <td>2022-06-03 00:00:00+00:00</td>\n",
       "      <td>1.14</td>\n",
       "      <td>PMT</td>\n",
       "      <td>Vale</td>\n",
       "      <td>None</td>\n",
       "      <td>TBN m/m 159000-159000, Yantai/Son Duong, 3-8 J...</td>\n",
       "      <td>Arrow Shipbroking</td>\n",
       "    </tr>\n",
       "    <tr>\n",
       "      <th>17</th>\n",
       "      <td>2022-05-30 16:29:42+00:00</td>\n",
       "      <td>None</td>\n",
       "      <td>153000.0</td>\n",
       "      <td>187000.0</td>\n",
       "      <td>Dampier</td>\n",
       "      <td>Qingdao</td>\n",
       "      <td>2022-06-16 00:00:00+00:00</td>\n",
       "      <td>11.45</td>\n",
       "      <td>PMT</td>\n",
       "      <td>None</td>\n",
       "      <td>None</td>\n",
       "      <td>TBN 170/10, Dampier/Qingdao, 16-18 June, 90C/3...</td>\n",
       "      <td>Arrow Shipbroking</td>\n",
       "    </tr>\n",
       "    <tr>\n",
       "      <th>13</th>\n",
       "      <td>2022-05-30 16:05:10+00:00</td>\n",
       "      <td>None</td>\n",
       "      <td>144000.0</td>\n",
       "      <td>176000.0</td>\n",
       "      <td>Port Hedland</td>\n",
       "      <td>Qingdao</td>\n",
       "      <td>2022-06-10 00:00:00+00:00</td>\n",
       "      <td>13.10</td>\n",
       "      <td>PMT</td>\n",
       "      <td>FMG</td>\n",
       "      <td>None</td>\n",
       "      <td>TBN 160/10 Port Hedland/Qingdao eta 10 Jun $13...</td>\n",
       "      <td>Clarksons</td>\n",
       "    </tr>\n",
       "  </tbody>\n",
       "</table>\n",
       "</div>"
      ],
      "text/plain": [
       "                updated_date       vessel_name  quantity_from  quantity_to       load_name    discharge_name               laycan_from  rate_value rate_type        charterer cargo_type                                            content                          sender\n",
       "42 2022-05-31 09:53:26+00:00         Gladiator            NaN          NaN       Indonesia              None                       NaT    22500.00       TCE             None       None                                               None  d.margariti@thesignalgroup.com\n",
       "41 2022-05-31 09:44:01+00:00              None        63009.0      77011.0  Puerto Bolivar         Tarragona 2022-06-19 00:00:00+00:00       24.40       PMT             Enel       Coal  OLDENDORFF TBN 70,010 COAL BOLIVAR/TARRAGONA 2...             Carriers Chartering\n",
       "40 2022-05-31 07:45:11+00:00           W Smash            NaN          NaN            None              None                       NaT         NaN      None             None       None                                               None             Carriers Chartering\n",
       "35 2022-05-31 06:26:22+00:00  Shandong Mission       171000.0     209000.0           Boffa  Rizhao - Lanshan 2022-06-10 00:00:00+00:00       30.00       PMT  Refined Success       None  'Shandong Mission ' 2021 RWE relet 190000/10 B...                       Clarksons\n",
       "36 2022-05-31 06:26:22+00:00        Ultra Lynx            NaN          NaN            None              None                       NaT         NaN      None             None       None                                               None                       Clarksons\n",
       "25 2022-05-30 17:24:05+00:00              None        63009.0      77011.0  Puerto Bolivar         Tarragona 2022-06-19 00:00:00+00:00       24.40       PMT             Enel       Coal  TBN 70,010 COAL BOLIVAR/TARRAGONA 20-19 JUNE S...             Carriers Chartering\n",
       "19 2022-05-30 16:54:31+00:00              None        63000.0      77000.0  Puerto Bolivar         Tarragona 2022-06-20 00:00:00+00:00       24.40       PMT             Enel       Coal  TBN 70/10, Coal, Bolivar/Tarragona, 20-29 June...               Arrow Shipbroking\n",
       "16 2022-05-30 16:29:42+00:00              None       159000.0     159000.0          Yantai         Son Duong 2022-06-03 00:00:00+00:00        1.14       PMT             Vale       None  TBN m/m 159000-159000, Yantai/Son Duong, 3-8 J...               Arrow Shipbroking\n",
       "17 2022-05-30 16:29:42+00:00              None       153000.0     187000.0         Dampier           Qingdao 2022-06-16 00:00:00+00:00       11.45       PMT             None       None  TBN 170/10, Dampier/Qingdao, 16-18 June, 90C/3...               Arrow Shipbroking\n",
       "13 2022-05-30 16:05:10+00:00              None       144000.0     176000.0    Port Hedland           Qingdao 2022-06-10 00:00:00+00:00       13.10       PMT              FMG       None  TBN 160/10 Port Hedland/Qingdao eta 10 Jun $13...                       Clarksons"
      ]
     },
     "execution_count": 7,
     "metadata": {},
     "output_type": "execute_result"
    }
   ],
   "source": [
    "vessel_type_id = 3 # dry\n",
    "date_from = datetime.now(timezone.utc) - timedelta(hours=24, minutes=0)\n",
    "date_to = datetime.now(timezone.utc)\n",
    "\n",
    "connection = Connection(signal_ocean_api_key)\n",
    "api = ScrapedFixturesAPI(connection)\n",
    "scraped_fixtures = api.get_fixtures(\n",
    "    updated_date_from = date_from,\n",
    "    updated_date_to = date_to,\n",
    "    vessel_type = vessel_type_id\n",
    ")\n",
    "\n",
    "dry_results_VC = pd.DataFrame([v.__dict__ for v in scraped_fixtures])\n",
    "print('Show {} fixtures'.format(len(dry_results_VC)))\n",
    "if not dry_results_VC.empty:\n",
    "    dry_results_VC = dry_results_VC[dry_results_VC.charter_type_id==0]\n",
    "    dry_results_VC = dry_results_VC.sort_values(['updated_date','vessel_name'],ascending=[False,True])\n",
    "    dry_results_VC[fields_to_show_dry_VC].head(10)"
   ]
  },
  {
   "cell_type": "markdown",
   "metadata": {},
   "source": [
    "#### Export to csv"
   ]
  },
  {
   "cell_type": "code",
   "execution_count": 8,
   "metadata": {},
   "outputs": [],
   "source": [
    "if not dry_results_VC.empty:\n",
    "    output_path = '' # Change output_path with your path\n",
    "    filename = 'scraped_fix_dry_VC.csv'\n",
    "    re_arrange_columns = fields_to_show_dry_VC + list(set(dry_results_VC.columns) - set(fields_to_show_dry_VC))\n",
    "    dry_results_VC[re_arrange_columns].to_csv(output_path+filename,index=False)"
   ]
  },
  {
   "cell_type": "markdown",
   "metadata": {},
   "source": [
    "### Latest scraped fixtures for dry (Time Charter)"
   ]
  },
  {
   "cell_type": "code",
   "execution_count": 9,
   "metadata": {},
   "outputs": [],
   "source": [
    "fields_to_show_dry_TC=['updated_date','vessel_name','delivery_name','load_name','redelivery_from_name','delivery_date_from','rate_value','rate_type','charterer','cargo_type','content','sender']"
   ]
  },
  {
   "cell_type": "code",
   "execution_count": 14,
   "metadata": {},
   "outputs": [
    {
     "name": "stdout",
     "output_type": "stream",
     "text": [
      "Show 0 fixtures\n"
     ]
    }
   ],
   "source": [
    "vessel_type_id = 3 # dry\n",
    "date_from = datetime.now(timezone.utc) - timedelta(hours=4, minutes=0)\n",
    "date_to = datetime.now(timezone.utc)\n",
    "\n",
    "connection = Connection(signal_ocean_api_key)\n",
    "api = ScrapedFixturesAPI(connection)\n",
    "scraped_fixtures = api.get_fixtures(\n",
    "    updated_date_from = date_from,\n",
    "    updated_date_to = date_to,\n",
    "    vessel_type = vessel_type_id\n",
    ")\n",
    "\n",
    "dry_results_TC = pd.DataFrame([v.__dict__ for v in scraped_fixtures])\n",
    "print('Show {} fixtures'.format(len(dry_results_TC)))\n",
    "if not dry_results_TC.empty:\n",
    "    dry_results_TC = dry_results_TC[dry_results_TC.charter_type_id==1]\n",
    "    dry_results_TC = dry_results_TC.sort_values(['updated_date','vessel_name'],ascending=[False,True])\n",
    "    dry_results_TC[fields_to_show_dry_TC].head(10)"
   ]
  },
  {
   "cell_type": "markdown",
   "metadata": {},
   "source": [
    "#### Export to csv"
   ]
  },
  {
   "cell_type": "code",
   "execution_count": 15,
   "metadata": {},
   "outputs": [],
   "source": [
    "if not dry_results_TC.empty:\n",
    "    output_path = '' # Change output_path with your path\n",
    "    filename = 'scraped_fix_dry_TC.csv'\n",
    "    re_arrange_columns = fields_to_show_dry_TC + list(set(dry_results_TC.columns) - set(fields_to_show_dry_TC))\n",
    "    dry_results_TC[re_arrange_columns].to_csv(output_path+filename,index=False)"
   ]
  }
 ],
 "metadata": {
  "colab": {
   "collapsed_sections": [],
   "name": "ScrapedFixturesAPI.ipynb",
   "provenance": []
  },
  "kernelspec": {
   "display_name": "Python 3 (ipykernel)",
   "language": "python",
   "name": "python3"
  },
  "language_info": {
   "codemirror_mode": {
    "name": "ipython",
    "version": 3
   },
   "file_extension": ".py",
   "mimetype": "text/x-python",
   "name": "python",
   "nbconvert_exporter": "python",
   "pygments_lexer": "ipython3",
   "version": "3.9.13"
  }
 },
 "nbformat": 4,
 "nbformat_minor": 1
}
