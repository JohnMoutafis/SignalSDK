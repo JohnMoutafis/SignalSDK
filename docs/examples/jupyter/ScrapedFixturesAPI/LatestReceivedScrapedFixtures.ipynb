{
 "cells": [
  {
   "cell_type": "markdown",
   "metadata": {
    "id": "sD97qSpbF7h0"
   },
   "source": [
    "# Latest Received Scraped Fixtures\n",
    "\n",
    "## Run this example in [Colab](https://colab.research.google.com/github/SignalOceanSdk/SignalSDK/blob/master/docs/examples/jupyter/ScrapedFixturesAPI/LatestReceivedScrapedFixtures.ipynb) "
   ]
  },
  {
   "cell_type": "markdown",
   "metadata": {},
   "source": [
    "- Get your personal Signal Ocean API subscription key (acquired [here](https://apis.signalocean.com/profile)) and replace it below:"
   ]
  },
  {
   "cell_type": "code",
   "execution_count": 1,
   "metadata": {
    "id": "vJ8RUjzXo5xH"
   },
   "outputs": [],
   "source": [
    "signal_ocean_api_key = '' # replace with your subscription key"
   ]
  },
  {
   "cell_type": "markdown",
   "metadata": {},
   "source": [
    "This example uses the Scraped Fixtures API in order to get the latest fixtures for tanker and dry.\n",
    "The final results are exported to csv files."
   ]
  },
  {
   "cell_type": "markdown",
   "metadata": {
    "id": "jCm5_UFCGKKc"
   },
   "source": [
    "## Setup"
   ]
  },
  {
   "cell_type": "markdown",
   "metadata": {},
   "source": [
    "### Import libraries"
   ]
  },
  {
   "cell_type": "code",
   "execution_count": 2,
   "metadata": {
    "colab": {
     "base_uri": "https://localhost:8080/"
    },
    "id": "yMSIVMDpGL5u",
    "outputId": "14f34266-d199-43ca-e35b-9433a15f82f3"
   },
   "outputs": [],
   "source": [
    "%%capture\n",
    "%pip install signal-ocean\n",
    "\n",
    "from IPython.core.interactiveshell import InteractiveShell\n",
    "InteractiveShell.ast_node_interactivity = \"all\"\n",
    "import pandas as pd\n",
    "pd.set_option('display.width', 1000)\n",
    "from datetime import datetime, timedelta,timezone\n",
    "import plotly.graph_objects as go\n",
    "import plotly.express as px\n",
    "\n",
    "\n",
    "from signal_ocean import Connection\n",
    "from signal_ocean.scraped_fixtures import ScrapedFixturesAPI"
   ]
  },
  {
   "cell_type": "markdown",
   "metadata": {
    "id": "2X_WkXVweuIK"
   },
   "source": [
    "##  Results"
   ]
  },
  {
   "cell_type": "code",
   "execution_count": 3,
   "metadata": {},
   "outputs": [],
   "source": [
    "fields_to_show_tankers=['updated_date','vessel_name','quantity','load_name','discharge_name','laycan_from','rate_value','rate_type','charterer','cargo_type','content','sender']"
   ]
  },
  {
   "cell_type": "markdown",
   "metadata": {},
   "source": [
    "### Latest scraped fixtures for tankers"
   ]
  },
  {
   "cell_type": "code",
   "execution_count": 4,
   "metadata": {
    "scrolled": false
   },
   "outputs": [
    {
     "ename": "HTTPError",
     "evalue": "401 Client Error: Access Denied for url: https://api-gateway.signalocean.com/scraped-fixtures-api/api/public/v1/fixtures?PageNumber=1&PageSize=1000&VesselType=1&UpdatedDateFrom=2022-05-11T07%3A53%3A57Z&UpdatedDateTo=2022-05-11T08%3A53%3A57Z&IncludeFixtureDetails=True&IncludeScrapedFields=True&IncludeVesselDetails=True&IncludeLabels=True&IncludeContent=True&IncludeSender=True&IncludeDebugInfo=True",
     "output_type": "error",
     "traceback": [
      "\u001b[1;31m---------------------------------------------------------------------------\u001b[0m",
      "\u001b[1;31mHTTPError\u001b[0m                                 Traceback (most recent call last)",
      "\u001b[1;32m<ipython-input-4-889b745dd64c>\u001b[0m in \u001b[0;36m<module>\u001b[1;34m\u001b[0m\n\u001b[0;32m      5\u001b[0m \u001b[0mconnection\u001b[0m \u001b[1;33m=\u001b[0m \u001b[0mConnection\u001b[0m\u001b[1;33m(\u001b[0m\u001b[0msignal_ocean_api_key\u001b[0m\u001b[1;33m)\u001b[0m\u001b[1;33m\u001b[0m\u001b[1;33m\u001b[0m\u001b[0m\n\u001b[0;32m      6\u001b[0m \u001b[0mapi\u001b[0m \u001b[1;33m=\u001b[0m \u001b[0mScrapedFixturesAPI\u001b[0m\u001b[1;33m(\u001b[0m\u001b[0mconnection\u001b[0m\u001b[1;33m)\u001b[0m\u001b[1;33m\u001b[0m\u001b[1;33m\u001b[0m\u001b[0m\n\u001b[1;32m----> 7\u001b[1;33m scraped_fixtures = api.get_fixtures(\n\u001b[0m\u001b[0;32m      8\u001b[0m     \u001b[0mupdated_date_from\u001b[0m \u001b[1;33m=\u001b[0m \u001b[0mdate_from\u001b[0m\u001b[1;33m,\u001b[0m\u001b[1;33m\u001b[0m\u001b[1;33m\u001b[0m\u001b[0m\n\u001b[0;32m      9\u001b[0m     \u001b[0mupdated_date_to\u001b[0m \u001b[1;33m=\u001b[0m \u001b[0mdate_to\u001b[0m\u001b[1;33m,\u001b[0m\u001b[1;33m\u001b[0m\u001b[1;33m\u001b[0m\u001b[0m\n",
      "\u001b[1;32mc:\\users\\g.mema\\signal_tools\\programming_language\\python\\python38\\lib\\site-packages\\signal_ocean\\scraped_fixtures\\scraped_fixtures_api.py\u001b[0m in \u001b[0;36mget_fixtures\u001b[1;34m(self, received_date_from, vessel_type, received_date_to, updated_date_from, updated_date_to, include_fixture_details, include_scraped_fields, include_vessel_details, include_labels, include_content, include_sender, include_debug_info, port_id, vessel_class_id)\u001b[0m\n\u001b[0;32m    113\u001b[0m             }\n\u001b[0;32m    114\u001b[0m \u001b[1;33m\u001b[0m\u001b[0m\n\u001b[1;32m--> 115\u001b[1;33m             fixtures = get_multiple(\n\u001b[0m\u001b[0;32m    116\u001b[0m                 \u001b[0mconnection\u001b[0m\u001b[1;33m=\u001b[0m\u001b[0mself\u001b[0m\u001b[1;33m.\u001b[0m\u001b[0m__connection\u001b[0m\u001b[1;33m,\u001b[0m\u001b[1;33m\u001b[0m\u001b[1;33m\u001b[0m\u001b[0m\n\u001b[0;32m    117\u001b[0m                 \u001b[0mrelative_url\u001b[0m\u001b[1;33m=\u001b[0m\u001b[0mself\u001b[0m\u001b[1;33m.\u001b[0m\u001b[0mrelative_url\u001b[0m\u001b[1;33m,\u001b[0m\u001b[1;33m\u001b[0m\u001b[1;33m\u001b[0m\u001b[0m\n",
      "\u001b[1;32mc:\\users\\g.mema\\signal_tools\\programming_language\\python\\python38\\lib\\site-packages\\signal_ocean\\util\\request_helpers.py\u001b[0m in \u001b[0;36mget_multiple\u001b[1;34m(connection, relative_url, cls, query_string, rename_keys)\u001b[0m\n\u001b[0;32m     73\u001b[0m     response = connection._make_get_request(relative_url,\n\u001b[0;32m     74\u001b[0m                                             query_string=query_string)\n\u001b[1;32m---> 75\u001b[1;33m     \u001b[0mresponse\u001b[0m\u001b[1;33m.\u001b[0m\u001b[0mraise_for_status\u001b[0m\u001b[1;33m(\u001b[0m\u001b[1;33m)\u001b[0m\u001b[1;33m\u001b[0m\u001b[1;33m\u001b[0m\u001b[0m\n\u001b[0m\u001b[0;32m     76\u001b[0m     \u001b[0mdata\u001b[0m \u001b[1;33m=\u001b[0m \u001b[0mresponse\u001b[0m\u001b[1;33m.\u001b[0m\u001b[0mjson\u001b[0m\u001b[1;33m(\u001b[0m\u001b[1;33m)\u001b[0m\u001b[1;33m\u001b[0m\u001b[1;33m\u001b[0m\u001b[0m\n\u001b[0;32m     77\u001b[0m     \u001b[1;32mreturn\u001b[0m \u001b[0mtuple\u001b[0m\u001b[1;33m(\u001b[0m\u001b[0mparse_model\u001b[0m\u001b[1;33m(\u001b[0m\u001b[0md\u001b[0m\u001b[1;33m,\u001b[0m \u001b[0mcls\u001b[0m\u001b[1;33m,\u001b[0m \u001b[0mrename_keys\u001b[0m\u001b[1;33m=\u001b[0m\u001b[0mrename_keys\u001b[0m\u001b[1;33m)\u001b[0m \u001b[1;32mfor\u001b[0m \u001b[0md\u001b[0m \u001b[1;32min\u001b[0m \u001b[0mdata\u001b[0m\u001b[1;33m)\u001b[0m\u001b[1;33m\u001b[0m\u001b[1;33m\u001b[0m\u001b[0m\n",
      "\u001b[1;32mc:\\users\\g.mema\\signal_tools\\programming_language\\python\\python38\\lib\\site-packages\\requests\\models.py\u001b[0m in \u001b[0;36mraise_for_status\u001b[1;34m(self)\u001b[0m\n\u001b[0;32m    958\u001b[0m \u001b[1;33m\u001b[0m\u001b[0m\n\u001b[0;32m    959\u001b[0m         \u001b[1;32mif\u001b[0m \u001b[0mhttp_error_msg\u001b[0m\u001b[1;33m:\u001b[0m\u001b[1;33m\u001b[0m\u001b[1;33m\u001b[0m\u001b[0m\n\u001b[1;32m--> 960\u001b[1;33m             \u001b[1;32mraise\u001b[0m \u001b[0mHTTPError\u001b[0m\u001b[1;33m(\u001b[0m\u001b[0mhttp_error_msg\u001b[0m\u001b[1;33m,\u001b[0m \u001b[0mresponse\u001b[0m\u001b[1;33m=\u001b[0m\u001b[0mself\u001b[0m\u001b[1;33m)\u001b[0m\u001b[1;33m\u001b[0m\u001b[1;33m\u001b[0m\u001b[0m\n\u001b[0m\u001b[0;32m    961\u001b[0m \u001b[1;33m\u001b[0m\u001b[0m\n\u001b[0;32m    962\u001b[0m     \u001b[1;32mdef\u001b[0m \u001b[0mclose\u001b[0m\u001b[1;33m(\u001b[0m\u001b[0mself\u001b[0m\u001b[1;33m)\u001b[0m\u001b[1;33m:\u001b[0m\u001b[1;33m\u001b[0m\u001b[1;33m\u001b[0m\u001b[0m\n",
      "\u001b[1;31mHTTPError\u001b[0m: 401 Client Error: Access Denied for url: https://api-gateway.signalocean.com/scraped-fixtures-api/api/public/v1/fixtures?PageNumber=1&PageSize=1000&VesselType=1&UpdatedDateFrom=2022-05-11T07%3A53%3A57Z&UpdatedDateTo=2022-05-11T08%3A53%3A57Z&IncludeFixtureDetails=True&IncludeScrapedFields=True&IncludeVesselDetails=True&IncludeLabels=True&IncludeContent=True&IncludeSender=True&IncludeDebugInfo=True"
     ]
    }
   ],
   "source": [
    "vessel_type_id = 1 # tanker\n",
    "date_from = datetime.now(timezone.utc) - timedelta(hours=1, minutes=0)\n",
    "date_to = datetime.now(timezone.utc)\n",
    "\n",
    "connection = Connection(signal_ocean_api_key)\n",
    "api = ScrapedFixturesAPI(connection)\n",
    "scraped_fixtures = api.get_fixtures(\n",
    "    updated_date_from = date_from,\n",
    "    updated_date_to = date_to,\n",
    "    vessel_type = vessel_type_id\n",
    ")\n",
    "\n",
    "tanker_results = pd.DataFrame([v.__dict__ for v in scraped_fixtures])\n",
    "print('Show {} fixtures'.format(len(tanker_results)))\n",
    "if not tanker_results.empty:\n",
    "    tanker_results = tanker_results.sort_values(['updated_date','vessel_name'],ascending=[False,True])\n",
    "    tanker_results[fields_to_show_tankers].head(10)"
   ]
  },
  {
   "cell_type": "markdown",
   "metadata": {},
   "source": [
    "#### Export to csv"
   ]
  },
  {
   "cell_type": "code",
   "execution_count": null,
   "metadata": {},
   "outputs": [],
   "source": [
    "output_path = '' # Change output_path with your path\n",
    "filename = 'scraped_fix_tankers.csv'\n",
    "re_arrange_columns = fields_to_show_tankers + list(set(tanker_results.columns) - set(fields_to_show_tankers))\n",
    "tanker_results[re_arrange_columns].to_csv(output_path+filename,index=False)"
   ]
  },
  {
   "cell_type": "markdown",
   "metadata": {},
   "source": [
    "### Latest scraped fixtures for dry (Voyage Charter)"
   ]
  },
  {
   "cell_type": "code",
   "execution_count": null,
   "metadata": {},
   "outputs": [],
   "source": [
    "fields_to_show_dry_VC=['updated_date','vessel_name','quantity_from','quantity_to','load_name','discharge_name','laycan_from','rate_value','rate_type','charterer','cargo_type','content','sender']"
   ]
  },
  {
   "cell_type": "code",
   "execution_count": null,
   "metadata": {},
   "outputs": [],
   "source": [
    "vessel_type_id = 3 # dry\n",
    "date_from = datetime.now(timezone.utc) - timedelta(hours=24, minutes=0)\n",
    "date_to = datetime.now(timezone.utc)\n",
    "\n",
    "connection = Connection(signal_ocean_api_key)\n",
    "api = ScrapedFixturesAPI(connection)\n",
    "scraped_fixtures = api.get_fixtures(\n",
    "    updated_date_from = date_from,\n",
    "    updated_date_to = date_to,\n",
    "    vessel_type = vessel_type_id\n",
    ")\n",
    "\n",
    "dry_results_VC = pd.DataFrame([v.__dict__ for v in scraped_fixtures])\n",
    "print('Show {} fixtures'.format(len(dry_results_VC)))\n",
    "if not dry_results_VC.empty:\n",
    "    dry_results_VC = dry_results_VC[dry_results_VC.charter_type_id==0]\n",
    "    dry_results_VC = dry_results_VC.sort_values(['updated_date','vessel_name'],ascending=[False,True])\n",
    "    dry_results_VC[fields_to_show_dry_VC].head(10)"
   ]
  },
  {
   "cell_type": "markdown",
   "metadata": {},
   "source": [
    "#### Export to csv"
   ]
  },
  {
   "cell_type": "code",
   "execution_count": null,
   "metadata": {},
   "outputs": [],
   "source": [
    "output_path = '' # Change output_path with your path\n",
    "filename = 'scraped_fix_dry_VC.csv'\n",
    "re_arrange_columns = fields_to_show_dry_VC + list(set(dry_results_VC.columns) - set(fields_to_show_dry_VC))\n",
    "dry_results_VC[re_arrange_columns].to_csv(output_path+filename,index=False)"
   ]
  },
  {
   "cell_type": "markdown",
   "metadata": {},
   "source": [
    "### Latest scraped fixtures for dry (Time Charter)"
   ]
  },
  {
   "cell_type": "code",
   "execution_count": null,
   "metadata": {},
   "outputs": [],
   "source": [
    "fields_to_show_dry_TC=['updated_date','vessel_name','delivery_name','load_name','redelivery_from_name','delivery_date_from','rate_value','rate_type','charterer','cargo_type','content','sender']"
   ]
  },
  {
   "cell_type": "code",
   "execution_count": null,
   "metadata": {},
   "outputs": [],
   "source": [
    "vessel_type_id = 3 # dry\n",
    "date_from = datetime.now(timezone.utc) - timedelta(hours=4, minutes=0)\n",
    "date_to = datetime.now(timezone.utc)\n",
    "\n",
    "connection = Connection(signal_ocean_api_key)\n",
    "api = ScrapedFixturesAPI(connection)\n",
    "scraped_fixtures = api.get_fixtures(\n",
    "    updated_date_from = date_from,\n",
    "    updated_date_to = date_to,\n",
    "    vessel_type = vessel_type_id\n",
    ")\n",
    "\n",
    "dry_results_TC = pd.DataFrame([v.__dict__ for v in scraped_fixtures])\n",
    "print('Show {} fixtures'.format(len(dry_results_TC)))\n",
    "if not dry_results_TC.empty:\n",
    "    dry_results_TC = dry_results_TC[dry_results_TC.charter_type_id==1]\n",
    "    dry_results_TC = dry_results_TC.sort_values(['updated_date','vessel_name'],ascending=[False,True])\n",
    "    dry_results_TC[fields_to_show_dry_TC].head(10)"
   ]
  },
  {
   "cell_type": "markdown",
   "metadata": {},
   "source": [
    "#### Export to csv"
   ]
  },
  {
   "cell_type": "code",
   "execution_count": null,
   "metadata": {},
   "outputs": [],
   "source": [
    "output_path = '' # Change output_path with your path\n",
    "filename = 'scraped_fix_dry_TC.csv'\n",
    "re_arrange_columns = fields_to_show_dry_TC + list(set(dry_results_TC.columns) - set(fields_to_show_dry_TC))\n",
    "dry_results_TC[re_arrange_columns].to_csv(output_path+filename,index=False)"
   ]
  }
 ],
 "metadata": {
  "colab": {
   "collapsed_sections": [],
   "name": "ScrapedFixturesAPI.ipynb",
   "provenance": []
  },
  "kernelspec": {
   "display_name": "Python 3",
   "language": "python",
   "name": "python3"
  },
  "language_info": {
   "codemirror_mode": {
    "name": "ipython",
    "version": 3
   },
   "file_extension": ".py",
   "mimetype": "text/x-python",
   "name": "python",
   "nbconvert_exporter": "python",
   "pygments_lexer": "ipython3",
   "version": "3.8.7"
  }
 },
 "nbformat": 4,
 "nbformat_minor": 1
}
