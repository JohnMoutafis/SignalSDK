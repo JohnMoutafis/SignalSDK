{
 "cells": [
  {
   "cell_type": "markdown",
   "metadata": {},
   "source": [
    "# Valuations API Examples"
   ]
  },
  {
   "cell_type": "markdown",
   "metadata": {},
   "source": [
    "## Setup\n",
    "Install the Signal Ocean SDK:\n",
    "```\n",
    "pip install signal-ocean\n",
    "```\n",
    "And put your API key in a `SIGNAL_OCEAN_API_KEY` environment variable."
   ]
  },
  {
   "cell_type": "markdown",
   "metadata": {},
   "source": [
    "## Retrieving a vessel valuation.\n",
    "The Valuations API provides access to latest and historical SnP valuation of vessels.\n",
    "There are 3 functions available:\n",
    "\n",
    "1. Latest valuation for a given IMO\n",
    "2. Details of latest valuation for a given IMO\n",
    "3. All valuations for a given IMO\n",
    "\n",
    "The IMO should be given as an input for the function."
   ]
  },
  {
   "cell_type": "code",
   "execution_count": null,
   "metadata": {},
   "outputs": [],
   "source": [
    "from signal_ocean.vessel_valuations import VesselValuationsAPI\n",
    "\n",
    "vessel_ValuationsAPI = VesselValuationsAPI()\n",
    "vessel_imo = 9412036\n",
    "latest_valuation = vessel_ValuationsAPI.get_latest_valuation(9412036)*1000000\n",
    "\n",
    "print(f\"Latest valuation for imo: {vessel_imo} is ${latest_valuation}\")"
   ]
  },
  {
   "cell_type": "markdown",
   "metadata": {},
   "source": [
    "Plot a trend on how the vessel valuation has changed over time."
   ]
  },
  {
   "cell_type": "code",
   "execution_count": null,
   "metadata": {},
   "outputs": [],
   "source": [
    "import pandas as pd\n",
    "import matplotlib.pyplot as plt\n",
    "\n",
    "all_valuations = vessel_ValuationsAPI.get_valuation_history(vessel_imo)\n",
    "dataf = pd.DataFrame([o.__dict__ for o in all_valuations])\n",
    "dateTimeIndex= pd.DatetimeIndex(dataf['value_from'])\n",
    "\n",
    "# Create figure and plot space\n",
    "fig, ax = plt.subplots(figsize=(10, 10))\n",
    "ax.plot(dateTimeIndex,\n",
    "        dataf['valuation_price'])\n",
    "\n",
    "# Set title and labels for axes\n",
    "ax.set(xlabel=\"Date\",\n",
    "       ylabel=\"SnP Valuation in million$\",\n",
    "       title= f\"SnP Valuation evolvement of {vessel_imo} over time\")\n",
    "\n",
    "plt.show()"
   ]
  }
 ],
 "metadata": {
  "kernelspec": {
   "display_name": "Python 3",
   "language": "python",
   "name": "python3"
  },
  "language_info": {
   "codemirror_mode": {
    "name": "ipython",
    "version": 3
   },
   "file_extension": ".py",
   "mimetype": "text/x-python",
   "name": "python",
   "nbconvert_exporter": "python",
   "pygments_lexer": "ipython3",
   "version": "3.8.2"
  }
 },
 "nbformat": 4,
 "nbformat_minor": 4
}
