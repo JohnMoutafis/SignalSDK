{
 "cells": [
  {
   "cell_type": "markdown",
   "metadata": {},
   "source": [
    "# Historical Tonnage List API Examples"
   ]
  },
  {
   "cell_type": "markdown",
   "metadata": {},
   "source": [
    "## Setup\n",
    "Install the Signal Ocean SDK:\n",
    "```\n",
    "pip install signal-ocean\n",
    "```\n",
    "Set your subscription key acquired here: https://apis.signalocean.com/profile"
   ]
  },
  {
   "cell_type": "code",
   "execution_count": 1,
   "metadata": {},
   "outputs": [],
   "source": [
    "pip install signal-ocean"
   ]
  },
  {
   "cell_type": "code",
   "execution_count": 2,
   "metadata": {},
   "outputs": [],
   "source": [
    "signal_ocean_api_key = '' #replace with your subscription key"
   ]
  },
  {
   "cell_type": "markdown",
   "metadata": {},
   "source": [
    "## Retrieving a historical tonnage list\n",
    "First, we need to determine the parameters of the **historical tonnage list** (**HTL**). In order to fetch an HTL, we will need to specify:\n",
    "- a loading port,\n",
    "- a vessel class,\n",
    "- a time frame.\n",
    "\n",
    "Ports and vessel classes can be retrieved through their corresponding APIs via the `PortAPI` and `VesselClassAPI` classes:"
   ]
  },
  {
   "cell_type": "code",
   "execution_count": 3,
   "metadata": {},
   "outputs": [
    {
     "output_type": "execute_result",
     "data": {
      "text/plain": [
       "(VesselClass(id=60, name='VLGCLpg'),\n",
       " VesselClass(id=61, name='MidsizeLpg'),\n",
       " VesselClass(id=62, name='HandyLpg'),\n",
       " VesselClass(id=63, name='SmallLpg'),\n",
       " VesselClass(id=69, name='VLOC'),\n",
       " VesselClass(id=70, name='Capesize'),\n",
       " VesselClass(id=72, name='PostPanamaxDry'),\n",
       " VesselClass(id=74, name='PanamaxDry'),\n",
       " VesselClass(id=75, name='Supramax'),\n",
       " VesselClass(id=76, name='Handymax'),\n",
       " VesselClass(id=77, name='Handysize'),\n",
       " VesselClass(id=78, name='ULCV'),\n",
       " VesselClass(id=79, name='NewPanamaxContainer'),\n",
       " VesselClass(id=80, name='PostPanamaxContainer'),\n",
       " VesselClass(id=81, name='PanamaxContainer'),\n",
       " VesselClass(id=82, name='FeedermaxContainer'),\n",
       " VesselClass(id=83, name='FeederContainer'),\n",
       " VesselClass(id=84, name='VLCC'),\n",
       " VesselClass(id=85, name='Suezmax'),\n",
       " VesselClass(id=86, name='Aframax'),\n",
       " VesselClass(id=87, name='PanamaxTanker'),\n",
       " VesselClass(id=88, name='MR2'),\n",
       " VesselClass(id=89, name='MR1'),\n",
       " VesselClass(id=90, name='Small'),\n",
       " VesselClass(id=91, name='LNGLng'),\n",
       " VesselClass(id=92, name='SmallDry'),\n",
       " VesselClass(id=94, name='ULCC'),\n",
       " VesselClass(id=95, name='SmallContainer'))"
      ]
     },
     "metadata": {},
     "execution_count": 3
    }
   ],
   "source": [
    "from signal_ocean import PortAPI, VesselClassAPI, Connection\n",
    "\n",
    "connection = Connection(signal_ocean_api_key)\n",
    "\n",
    "port_api = PortAPI(connection)\n",
    "vessel_class_api = VesselClassAPI(connection)\n",
    "\n",
    "vessel_class_api.get_vessel_classes()"
   ]
  },
  {
   "cell_type": "markdown",
   "metadata": {},
   "source": [
    "Ports can be looked up by their name using the `PortFilter`:"
   ]
  },
  {
   "cell_type": "code",
   "execution_count": 4,
   "metadata": {},
   "outputs": [
    {
     "output_type": "execute_result",
     "data": {
      "text/plain": [
       "(Port(id=3689, name='Rotterdam'),\n",
       " Port(id=6625, name='Rota'),\n",
       " Port(id=8920, name='Crotone'),\n",
       " Port(id=15617, name='Rarotonga'))"
      ]
     },
     "metadata": {},
     "execution_count": 4
    }
   ],
   "source": [
    "from signal_ocean import PortFilter\n",
    "\n",
    "port_api.get_ports(PortFilter(name_like='rot'))"
   ]
  },
  {
   "cell_type": "markdown",
   "metadata": {},
   "source": [
    "And so can vessel classes with the use of the `VesselClassFilter`:"
   ]
  },
  {
   "cell_type": "code",
   "execution_count": 5,
   "metadata": {},
   "outputs": [
    {
     "output_type": "execute_result",
     "data": {
      "text/plain": [
       "(VesselClass(id=72, name='PostPanamaxDry'),\n",
       " VesselClass(id=74, name='PanamaxDry'),\n",
       " VesselClass(id=75, name='Supramax'),\n",
       " VesselClass(id=76, name='Handymax'),\n",
       " VesselClass(id=79, name='NewPanamaxContainer'),\n",
       " VesselClass(id=80, name='PostPanamaxContainer'),\n",
       " VesselClass(id=81, name='PanamaxContainer'),\n",
       " VesselClass(id=82, name='FeedermaxContainer'),\n",
       " VesselClass(id=85, name='Suezmax'),\n",
       " VesselClass(id=86, name='Aframax'),\n",
       " VesselClass(id=87, name='PanamaxTanker'))"
      ]
     },
     "metadata": {},
     "execution_count": 5
    }
   ],
   "source": [
    "from signal_ocean import VesselClassFilter\n",
    "\n",
    "vessel_class_api.get_vessel_classes(VesselClassFilter(name_like='MAX'))"
   ]
  },
  {
   "cell_type": "markdown",
   "metadata": {},
   "source": [
    "Note that the search is case-insensitive and does not require specifying exact names.\n",
    "\n",
    "We will look for Aframax vessels in Ceyhan, 6 days forward, for the last 90 days:"
   ]
  },
  {
   "cell_type": "code",
   "execution_count": 6,
   "metadata": {},
   "outputs": [],
   "source": [
    "from datetime import date, timedelta,time,datetime\n",
    "\n",
    "vessel_class = vessel_class_api.get_vessel_classes(VesselClassFilter(name_like='aframax'))[0]\n",
    "port = port_api.get_ports(PortFilter(name_like='ceyhan'))[0]\n",
    "days_forward = 6\n",
    "today = datetime.utcnow().date()\n",
    "start_date = today - timedelta(days=5)"
   ]
  },
  {
   "cell_type": "markdown",
   "metadata": {},
   "source": [
    "With the parameters above, we can now call the API:"
   ]
  },
  {
   "cell_type": "code",
   "execution_count": 7,
   "metadata": {},
   "outputs": [],
   "source": [
    "from signal_ocean.historical_tonnage_list import HistoricalTonnageListAPI\n",
    "\n",
    "htl_api = HistoricalTonnageListAPI(connection)\n",
    "\n",
    "htl = htl_api.get_historical_tonnage_list(\n",
    "    port,\n",
    "    vessel_class,\n",
    "    days_forward,\n",
    "    start_date,\n",
    "    end_date=today\n",
    ")"
   ]
  },
  {
   "cell_type": "markdown",
   "metadata": {},
   "source": [
    "The resulting historical tonnage list is a Python object that contains a collection of tonnage lists, each of which has a timestamp and a collection of vessel data. The tonnage lists are ordered by date in descending order:"
   ]
  },
  {
   "cell_type": "code",
   "execution_count": 8,
   "metadata": {},
   "outputs": [
    {
     "output_type": "stream",
     "name": "stdout",
     "text": [
      "Date: 2021-03-22 00:00:00+00:00\nVessel count: 59\nExample vessel: Vessel(imo=9215050, name='Alboran I', vessel_class='Aframax', ice_class=None, year_built=2001, deadweight=109326, length_overall=244.6, breadth_extreme=42, market_deployment='Spot', push_type='Not Pushed', open_port='Hong Kong', open_date=datetime.datetime(2019, 6, 20, 3, 42, 39, 940000, tzinfo=datetime.timezone.utc), operational_status='Laden', commercial_operator='Monte Nero Maritime', commercial_status='Available', eta=datetime.datetime(2019, 7, 15, 1, 0, tzinfo=datetime.timezone.utc), latest_ais=datetime.datetime(2019, 6, 13, 11, 34, 48, tzinfo=datetime.timezone.utc), subclass='Dirty', willing_to_switch_subclass=False, open_prediction_accuracy='Port', open_areas=(Area(name='South China', location_taxonomy='Narrow Area'), Area(name='China / Taiwan', location_taxonomy='Wide Area'), Area(name='China', location_taxonomy='Country')), availability_port_type='Source', availability_date_type='Prediction')\n"
     ]
    }
   ],
   "source": [
    "todays_tl = htl[0]\n",
    "print('Date:', todays_tl.date)\n",
    "print('Vessel count:', len(todays_tl.vessels))\n",
    "print('Example vessel:', todays_tl.vessels[0])"
   ]
  },
  {
   "cell_type": "markdown",
   "metadata": {},
   "source": [
    "The result can also be converted into a Pandas data frame:"
   ]
  },
  {
   "cell_type": "code",
   "execution_count": 9,
   "metadata": {},
   "outputs": [
    {
     "output_type": "execute_result",
     "data": {
      "text/plain": [
       "                                               name vessel_class ice_class  \\\n",
       "date                      imo                                                \n",
       "2021-03-22 00:00:00+00:00 9215050         Alboran I      Aframax       NaN   \n",
       "                          9038878               Eos      Aframax       NaN   \n",
       "                          9258894   Golden Splendor      Aframax       NaN   \n",
       "                          9138604   Barakuda Natuna      Aframax       NaN   \n",
       "                          9226970           Yoselin      Aframax       NaN   \n",
       "...                                             ...          ...       ...   \n",
       "2021-03-17 00:00:00+00:00 9388807     Ocean Voyager      Aframax       NaN   \n",
       "                          9422536  Dubai Attraction      Aframax       NaN   \n",
       "                          9368235      Ocean Taipan      Aframax       NaN   \n",
       "                          9843209          Seafaith      Aframax       NaN   \n",
       "                          9458016        Delta Star      Aframax       NaN   \n",
       "\n",
       "                                   year_built  deadweight  length_overall  \\\n",
       "date                      imo                                               \n",
       "2021-03-22 00:00:00+00:00 9215050        2001      109326          244.60   \n",
       "                          9038878        1993       99440          243.97   \n",
       "                          9258894        2004      114809          251.60   \n",
       "                          9138604        1998      109277          244.60   \n",
       "                          9226970        2001       98893          248.00   \n",
       "...                                       ...         ...             ...   \n",
       "2021-03-17 00:00:00+00:00 9388807        2009      108929          245.07   \n",
       "                          9422536        2011      115459          250.00   \n",
       "                          9368235        2008      108936          245.07   \n",
       "                          9843209        2020      111963          237.00   \n",
       "                          9458016        2013      115618          248.97   \n",
       "\n",
       "                                   breadth_extreme subclass  \\\n",
       "date                      imo                                 \n",
       "2021-03-22 00:00:00+00:00 9215050               42    Dirty   \n",
       "                          9038878               46    Dirty   \n",
       "                          9258894               44    Dirty   \n",
       "                          9138604               42    Clean   \n",
       "                          9226970               43    Dirty   \n",
       "...                                            ...      ...   \n",
       "2021-03-17 00:00:00+00:00 9388807               42    Clean   \n",
       "                          9422536               44    Dirty   \n",
       "                          9368235               42    Clean   \n",
       "                          9843209               44    Dirty   \n",
       "                          9458016               44    Dirty   \n",
       "\n",
       "                                  market_deployment_point_in_time  \\\n",
       "date                      imo                                       \n",
       "2021-03-22 00:00:00+00:00 9215050                            Spot   \n",
       "                          9038878                         Program   \n",
       "                          9258894                        Contract   \n",
       "                          9138604                            Spot   \n",
       "                          9226970                        Contract   \n",
       "...                                                           ...   \n",
       "2021-03-17 00:00:00+00:00 9388807                            Spot   \n",
       "                          9422536                            Spot   \n",
       "                          9368235                            Spot   \n",
       "                          9843209                         Program   \n",
       "                          9458016                            Spot   \n",
       "\n",
       "                                  push_type_point_in_time  ...  \\\n",
       "date                      imo                              ...   \n",
       "2021-03-22 00:00:00+00:00 9215050              Not Pushed  ...   \n",
       "                          9038878              Not Pushed  ...   \n",
       "                          9258894              Not Pushed  ...   \n",
       "                          9138604              Not Pushed  ...   \n",
       "                          9226970              Not Pushed  ...   \n",
       "...                                                   ...  ...   \n",
       "2021-03-17 00:00:00+00:00 9388807              Not Pushed  ...   \n",
       "                          9422536                  Pushed  ...   \n",
       "                          9368235                  Pushed  ...   \n",
       "                          9843209              Not Pushed  ...   \n",
       "                          9458016                  Pushed  ...   \n",
       "\n",
       "                                  commercial_operator_point_in_time  \\\n",
       "date                      imo                                         \n",
       "2021-03-22 00:00:00+00:00 9215050               Monte Nero Maritime   \n",
       "                          9038878                             PDVSA   \n",
       "                          9258894                      Soechi Lines   \n",
       "                          9138604                      Soechi Lines   \n",
       "                          9226970              Lundqvist Rederierna   \n",
       "...                                                             ...   \n",
       "2021-03-17 00:00:00+00:00 9388807                     Ocean Tankers   \n",
       "                          9422536                  Concord Maritime   \n",
       "                          9368235                     Ocean Tankers   \n",
       "                          9843209                           Chevron   \n",
       "                          9458016                     Delta Tankers   \n",
       "\n",
       "                                  commercial_status_point_in_time  \\\n",
       "date                      imo                                       \n",
       "2021-03-22 00:00:00+00:00 9215050                       Available   \n",
       "                          9038878                       Available   \n",
       "                          9258894                       Available   \n",
       "                          9138604                       Available   \n",
       "                          9226970                       Available   \n",
       "...                                                           ...   \n",
       "2021-03-17 00:00:00+00:00 9388807                       Available   \n",
       "                          9422536                         On Subs   \n",
       "                          9368235                       Available   \n",
       "                          9843209                         On Subs   \n",
       "                          9458016                       Available   \n",
       "\n",
       "                                          eta_point_in_time  \\\n",
       "date                      imo                                 \n",
       "2021-03-22 00:00:00+00:00 9215050 2019-07-15 01:00:00+00:00   \n",
       "                          9038878 2020-02-05 06:00:00+00:00   \n",
       "                          9258894 2020-08-05 03:00:00+00:00   \n",
       "                          9138604 2020-09-12 17:00:00+00:00   \n",
       "                          9226970 2020-11-19 08:00:00+00:00   \n",
       "...                                                     ...   \n",
       "2021-03-17 00:00:00+00:00 9388807 2021-03-23 19:00:00+00:00   \n",
       "                          9422536 2021-03-23 19:00:00+00:00   \n",
       "                          9368235 2021-03-23 21:00:00+00:00   \n",
       "                          9843209 2021-03-23 21:00:00+00:00   \n",
       "                          9458016 2021-03-23 23:00:00+00:00   \n",
       "\n",
       "                                   latest_ais_point_in_time  \\\n",
       "date                      imo                                 \n",
       "2021-03-22 00:00:00+00:00 9215050 2019-06-13 11:34:48+00:00   \n",
       "                          9038878 2020-01-05 20:49:03+00:00   \n",
       "                          9258894 2020-07-16 04:34:32+00:00   \n",
       "                          9138604 2020-08-23 01:45:14+00:00   \n",
       "                          9226970 2020-10-20 05:42:52+00:00   \n",
       "...                                                     ...   \n",
       "2021-03-17 00:00:00+00:00 9388807 2021-03-16 20:17:02+00:00   \n",
       "                          9422536 2021-03-15 04:01:29+00:00   \n",
       "                          9368235 2021-03-16 21:43:20+00:00   \n",
       "                          9843209 2021-03-16 21:03:07+00:00   \n",
       "                          9458016 2021-03-16 21:41:36+00:00   \n",
       "\n",
       "                                  open_prediction_accuracy_point_in_time  \\\n",
       "date                      imo                                              \n",
       "2021-03-22 00:00:00+00:00 9215050                                   Port   \n",
       "                          9038878                            Narrow Area   \n",
       "                          9258894                            Narrow Area   \n",
       "                          9138604                            Narrow Area   \n",
       "                          9226970                            Narrow Area   \n",
       "...                                                                  ...   \n",
       "2021-03-17 00:00:00+00:00 9388807                            Narrow Area   \n",
       "                          9422536                                   Port   \n",
       "                          9368235                            Narrow Area   \n",
       "                          9843209                                   Port   \n",
       "                          9458016                                   Port   \n",
       "\n",
       "                                          open_country_point_in_time  \\\n",
       "date                      imo                                          \n",
       "2021-03-22 00:00:00+00:00 9215050                              China   \n",
       "                          9038878  Venezuela, Bolivarian Republic of   \n",
       "                          9258894                          Singapore   \n",
       "                          9138604                           Malaysia   \n",
       "                          9226970   Bonaire, Sint Eustatius and Saba   \n",
       "...                                                              ...   \n",
       "2021-03-17 00:00:00+00:00 9388807                          Gibraltar   \n",
       "                          9422536                       Saudi Arabia   \n",
       "                          9368235                          Gibraltar   \n",
       "                          9843209                              Italy   \n",
       "                          9458016                             Turkey   \n",
       "\n",
       "                                  open_narrow_area_point_in_time  \\\n",
       "date                      imo                                      \n",
       "2021-03-22 00:00:00+00:00 9215050                    South China   \n",
       "                          9038878                         Caribs   \n",
       "                          9258894           Singapore / Malaysia   \n",
       "                          9138604           Singapore / Malaysia   \n",
       "                          9226970                         Caribs   \n",
       "...                                                          ...   \n",
       "2021-03-17 00:00:00+00:00 9388807             West Mediterranean   \n",
       "                          9422536                        Red Sea   \n",
       "                          9368235             West Mediterranean   \n",
       "                          9843209          Central Mediterranean   \n",
       "                          9458016             East Mediterranean   \n",
       "\n",
       "                                  open_wide_area_point_in_time  \\\n",
       "date                      imo                                    \n",
       "2021-03-22 00:00:00+00:00 9215050               China / Taiwan   \n",
       "                          9038878                       Caribs   \n",
       "                          9258894              South East Asia   \n",
       "                          9138604              South East Asia   \n",
       "                          9226970                       Caribs   \n",
       "...                                                        ...   \n",
       "2021-03-17 00:00:00+00:00 9388807                Mediterranean   \n",
       "                          9422536                      Red Sea   \n",
       "                          9368235                Mediterranean   \n",
       "                          9843209                Mediterranean   \n",
       "                          9458016                Mediterranean   \n",
       "\n",
       "                                  availability_port_type_point_in_time  \\\n",
       "date                      imo                                            \n",
       "2021-03-22 00:00:00+00:00 9215050                               Source   \n",
       "                          9038878                           Prediction   \n",
       "                          9258894                               Source   \n",
       "                          9138604                               Source   \n",
       "                          9226970                           Prediction   \n",
       "...                                                                ...   \n",
       "2021-03-17 00:00:00+00:00 9388807                               Source   \n",
       "                          9422536                               Source   \n",
       "                          9368235                               Source   \n",
       "                          9843209                               Source   \n",
       "                          9458016                               Source   \n",
       "\n",
       "                                  availability_date_type_point_in_time  \n",
       "date                      imo                                           \n",
       "2021-03-22 00:00:00+00:00 9215050                           Prediction  \n",
       "                          9038878                           Prediction  \n",
       "                          9258894                               Source  \n",
       "                          9138604                               Source  \n",
       "                          9226970                           Prediction  \n",
       "...                                                                ...  \n",
       "2021-03-17 00:00:00+00:00 9388807                               Source  \n",
       "                          9422536                               Source  \n",
       "                          9368235                               Source  \n",
       "                          9843209                               Source  \n",
       "                          9458016                               Source  \n",
       "\n",
       "[321 rows x 23 columns]"
      ],
      "text/html": "<div>\n<style scoped>\n    .dataframe tbody tr th:only-of-type {\n        vertical-align: middle;\n    }\n\n    .dataframe tbody tr th {\n        vertical-align: top;\n    }\n\n    .dataframe thead th {\n        text-align: right;\n    }\n</style>\n<table border=\"1\" class=\"dataframe\">\n  <thead>\n    <tr style=\"text-align: right;\">\n      <th></th>\n      <th></th>\n      <th>name</th>\n      <th>vessel_class</th>\n      <th>ice_class</th>\n      <th>year_built</th>\n      <th>deadweight</th>\n      <th>length_overall</th>\n      <th>breadth_extreme</th>\n      <th>subclass</th>\n      <th>market_deployment_point_in_time</th>\n      <th>push_type_point_in_time</th>\n      <th>...</th>\n      <th>commercial_operator_point_in_time</th>\n      <th>commercial_status_point_in_time</th>\n      <th>eta_point_in_time</th>\n      <th>latest_ais_point_in_time</th>\n      <th>open_prediction_accuracy_point_in_time</th>\n      <th>open_country_point_in_time</th>\n      <th>open_narrow_area_point_in_time</th>\n      <th>open_wide_area_point_in_time</th>\n      <th>availability_port_type_point_in_time</th>\n      <th>availability_date_type_point_in_time</th>\n    </tr>\n    <tr>\n      <th>date</th>\n      <th>imo</th>\n      <th></th>\n      <th></th>\n      <th></th>\n      <th></th>\n      <th></th>\n      <th></th>\n      <th></th>\n      <th></th>\n      <th></th>\n      <th></th>\n      <th></th>\n      <th></th>\n      <th></th>\n      <th></th>\n      <th></th>\n      <th></th>\n      <th></th>\n      <th></th>\n      <th></th>\n      <th></th>\n      <th></th>\n    </tr>\n  </thead>\n  <tbody>\n    <tr>\n      <th rowspan=\"5\" valign=\"top\">2021-03-22 00:00:00+00:00</th>\n      <th>9215050</th>\n      <td>Alboran I</td>\n      <td>Aframax</td>\n      <td>NaN</td>\n      <td>2001</td>\n      <td>109326</td>\n      <td>244.60</td>\n      <td>42</td>\n      <td>Dirty</td>\n      <td>Spot</td>\n      <td>Not Pushed</td>\n      <td>...</td>\n      <td>Monte Nero Maritime</td>\n      <td>Available</td>\n      <td>2019-07-15 01:00:00+00:00</td>\n      <td>2019-06-13 11:34:48+00:00</td>\n      <td>Port</td>\n      <td>China</td>\n      <td>South China</td>\n      <td>China / Taiwan</td>\n      <td>Source</td>\n      <td>Prediction</td>\n    </tr>\n    <tr>\n      <th>9038878</th>\n      <td>Eos</td>\n      <td>Aframax</td>\n      <td>NaN</td>\n      <td>1993</td>\n      <td>99440</td>\n      <td>243.97</td>\n      <td>46</td>\n      <td>Dirty</td>\n      <td>Program</td>\n      <td>Not Pushed</td>\n      <td>...</td>\n      <td>PDVSA</td>\n      <td>Available</td>\n      <td>2020-02-05 06:00:00+00:00</td>\n      <td>2020-01-05 20:49:03+00:00</td>\n      <td>Narrow Area</td>\n      <td>Venezuela, Bolivarian Republic of</td>\n      <td>Caribs</td>\n      <td>Caribs</td>\n      <td>Prediction</td>\n      <td>Prediction</td>\n    </tr>\n    <tr>\n      <th>9258894</th>\n      <td>Golden Splendor</td>\n      <td>Aframax</td>\n      <td>NaN</td>\n      <td>2004</td>\n      <td>114809</td>\n      <td>251.60</td>\n      <td>44</td>\n      <td>Dirty</td>\n      <td>Contract</td>\n      <td>Not Pushed</td>\n      <td>...</td>\n      <td>Soechi Lines</td>\n      <td>Available</td>\n      <td>2020-08-05 03:00:00+00:00</td>\n      <td>2020-07-16 04:34:32+00:00</td>\n      <td>Narrow Area</td>\n      <td>Singapore</td>\n      <td>Singapore / Malaysia</td>\n      <td>South East Asia</td>\n      <td>Source</td>\n      <td>Source</td>\n    </tr>\n    <tr>\n      <th>9138604</th>\n      <td>Barakuda Natuna</td>\n      <td>Aframax</td>\n      <td>NaN</td>\n      <td>1998</td>\n      <td>109277</td>\n      <td>244.60</td>\n      <td>42</td>\n      <td>Clean</td>\n      <td>Spot</td>\n      <td>Not Pushed</td>\n      <td>...</td>\n      <td>Soechi Lines</td>\n      <td>Available</td>\n      <td>2020-09-12 17:00:00+00:00</td>\n      <td>2020-08-23 01:45:14+00:00</td>\n      <td>Narrow Area</td>\n      <td>Malaysia</td>\n      <td>Singapore / Malaysia</td>\n      <td>South East Asia</td>\n      <td>Source</td>\n      <td>Source</td>\n    </tr>\n    <tr>\n      <th>9226970</th>\n      <td>Yoselin</td>\n      <td>Aframax</td>\n      <td>NaN</td>\n      <td>2001</td>\n      <td>98893</td>\n      <td>248.00</td>\n      <td>43</td>\n      <td>Dirty</td>\n      <td>Contract</td>\n      <td>Not Pushed</td>\n      <td>...</td>\n      <td>Lundqvist Rederierna</td>\n      <td>Available</td>\n      <td>2020-11-19 08:00:00+00:00</td>\n      <td>2020-10-20 05:42:52+00:00</td>\n      <td>Narrow Area</td>\n      <td>Bonaire, Sint Eustatius and Saba</td>\n      <td>Caribs</td>\n      <td>Caribs</td>\n      <td>Prediction</td>\n      <td>Prediction</td>\n    </tr>\n    <tr>\n      <th>...</th>\n      <th>...</th>\n      <td>...</td>\n      <td>...</td>\n      <td>...</td>\n      <td>...</td>\n      <td>...</td>\n      <td>...</td>\n      <td>...</td>\n      <td>...</td>\n      <td>...</td>\n      <td>...</td>\n      <td>...</td>\n      <td>...</td>\n      <td>...</td>\n      <td>...</td>\n      <td>...</td>\n      <td>...</td>\n      <td>...</td>\n      <td>...</td>\n      <td>...</td>\n      <td>...</td>\n      <td>...</td>\n    </tr>\n    <tr>\n      <th rowspan=\"5\" valign=\"top\">2021-03-17 00:00:00+00:00</th>\n      <th>9388807</th>\n      <td>Ocean Voyager</td>\n      <td>Aframax</td>\n      <td>NaN</td>\n      <td>2009</td>\n      <td>108929</td>\n      <td>245.07</td>\n      <td>42</td>\n      <td>Clean</td>\n      <td>Spot</td>\n      <td>Not Pushed</td>\n      <td>...</td>\n      <td>Ocean Tankers</td>\n      <td>Available</td>\n      <td>2021-03-23 19:00:00+00:00</td>\n      <td>2021-03-16 20:17:02+00:00</td>\n      <td>Narrow Area</td>\n      <td>Gibraltar</td>\n      <td>West Mediterranean</td>\n      <td>Mediterranean</td>\n      <td>Source</td>\n      <td>Source</td>\n    </tr>\n    <tr>\n      <th>9422536</th>\n      <td>Dubai Attraction</td>\n      <td>Aframax</td>\n      <td>NaN</td>\n      <td>2011</td>\n      <td>115459</td>\n      <td>250.00</td>\n      <td>44</td>\n      <td>Dirty</td>\n      <td>Spot</td>\n      <td>Pushed</td>\n      <td>...</td>\n      <td>Concord Maritime</td>\n      <td>On Subs</td>\n      <td>2021-03-23 19:00:00+00:00</td>\n      <td>2021-03-15 04:01:29+00:00</td>\n      <td>Port</td>\n      <td>Saudi Arabia</td>\n      <td>Red Sea</td>\n      <td>Red Sea</td>\n      <td>Source</td>\n      <td>Source</td>\n    </tr>\n    <tr>\n      <th>9368235</th>\n      <td>Ocean Taipan</td>\n      <td>Aframax</td>\n      <td>NaN</td>\n      <td>2008</td>\n      <td>108936</td>\n      <td>245.07</td>\n      <td>42</td>\n      <td>Clean</td>\n      <td>Spot</td>\n      <td>Pushed</td>\n      <td>...</td>\n      <td>Ocean Tankers</td>\n      <td>Available</td>\n      <td>2021-03-23 21:00:00+00:00</td>\n      <td>2021-03-16 21:43:20+00:00</td>\n      <td>Narrow Area</td>\n      <td>Gibraltar</td>\n      <td>West Mediterranean</td>\n      <td>Mediterranean</td>\n      <td>Source</td>\n      <td>Source</td>\n    </tr>\n    <tr>\n      <th>9843209</th>\n      <td>Seafaith</td>\n      <td>Aframax</td>\n      <td>NaN</td>\n      <td>2020</td>\n      <td>111963</td>\n      <td>237.00</td>\n      <td>44</td>\n      <td>Dirty</td>\n      <td>Program</td>\n      <td>Not Pushed</td>\n      <td>...</td>\n      <td>Chevron</td>\n      <td>On Subs</td>\n      <td>2021-03-23 21:00:00+00:00</td>\n      <td>2021-03-16 21:03:07+00:00</td>\n      <td>Port</td>\n      <td>Italy</td>\n      <td>Central Mediterranean</td>\n      <td>Mediterranean</td>\n      <td>Source</td>\n      <td>Source</td>\n    </tr>\n    <tr>\n      <th>9458016</th>\n      <td>Delta Star</td>\n      <td>Aframax</td>\n      <td>NaN</td>\n      <td>2013</td>\n      <td>115618</td>\n      <td>248.97</td>\n      <td>44</td>\n      <td>Dirty</td>\n      <td>Spot</td>\n      <td>Pushed</td>\n      <td>...</td>\n      <td>Delta Tankers</td>\n      <td>Available</td>\n      <td>2021-03-23 23:00:00+00:00</td>\n      <td>2021-03-16 21:41:36+00:00</td>\n      <td>Port</td>\n      <td>Turkey</td>\n      <td>East Mediterranean</td>\n      <td>Mediterranean</td>\n      <td>Source</td>\n      <td>Source</td>\n    </tr>\n  </tbody>\n</table>\n<p>321 rows × 23 columns</p>\n</div>"
     },
     "metadata": {},
     "execution_count": 9
    }
   ],
   "source": [
    "data_frame = htl.to_data_frame()\n",
    "data_frame"
   ]
  },
  {
   "cell_type": "markdown",
   "metadata": {},
   "source": [
    "## Example 1 - Plotting a supply trend\n",
    "The data frame format makes it very easy to generate a supply trend plot.\n",
    "\n",
    "We'll generate a supply trend from the beginning of the year, but we'll also filter the vessel list by looking for vessels that:\n",
    "- are pushed,\n",
    "- have a market deployment type of \"Relet\" or \"Spot\",\n",
    "- their commercial status is available, cancelled or failed,\n",
    "- are crude oil tankers (their vessel subclass is \"Dirty\"),\n",
    "- their AIS information is no older than 5 days.\n",
    "\n",
    "Filtering can be achieved by creating an instance of a `VesselFilter` and passing it to the `get_historical_tonnage_list` method. A `VesselFilter` meeting the above criteria will look as follows:"
   ]
  },
  {
   "cell_type": "code",
   "execution_count": 10,
   "metadata": {},
   "outputs": [],
   "source": [
    "from signal_ocean.historical_tonnage_list import VesselFilter, PushType, MarketDeployment, CommercialStatus, VesselSubclass\n",
    "\n",
    "vessel_filter = VesselFilter(\n",
    "    push_types=[PushType.PUSHED],\n",
    "    market_deployments=[MarketDeployment.RELET, MarketDeployment.SPOT],\n",
    "    commercial_statuses=[CommercialStatus.AVAILABLE, CommercialStatus.CANCELLED, CommercialStatus.FAILED],\n",
    "    vessel_subclass=VesselSubclass.DIRTY,\n",
    "    latest_ais_since=5\n",
    ")"
   ]
  },
  {
   "cell_type": "markdown",
   "metadata": {},
   "source": [
    "Note the usage of the `PushType`, `MarketDeployment`, `CommercialStatus`, and `VesselSubclass`. These are enum-like classes that contain constants for all the possible values for a given `VesselFilter` parameter. To list the available values for any of the classes, just invoke `list()` on the class:"
   ]
  },
  {
   "cell_type": "code",
   "execution_count": 11,
   "metadata": {},
   "outputs": [
    {
     "output_type": "execute_result",
     "data": {
      "text/plain": [
       "['On Subs', 'Failed', 'Cancelled', 'Available', 'Poss Fixed']"
      ]
     },
     "metadata": {},
     "execution_count": 11
    }
   ],
   "source": [
    "list(CommercialStatus)"
   ]
  },
  {
   "cell_type": "markdown",
   "metadata": {},
   "source": [
    "You can use these values directly or use a corresponding class member:"
   ]
  },
  {
   "cell_type": "code",
   "execution_count": 12,
   "metadata": {},
   "outputs": [
    {
     "output_type": "execute_result",
     "data": {
      "text/plain": [
       "True"
      ]
     },
     "metadata": {},
     "execution_count": 12
    }
   ],
   "source": [
    "CommercialStatus.ON_SUBS == 'On Subs'"
   ]
  },
  {
   "cell_type": "markdown",
   "metadata": {},
   "source": [
    "Let's get the HTL for our filter:"
   ]
  },
  {
   "cell_type": "code",
   "execution_count": 13,
   "metadata": {},
   "outputs": [
    {
     "output_type": "execute_result",
     "data": {
      "text/plain": [
       "89083                    Cardiff Marine   \n",
       "                          9389071                    Cardiff Marine   \n",
       "                          9239927               Bihar International   \n",
       "                          9458016                     Delta Tankers   \n",
       "\n",
       "                                  commercial_status_point_in_time  \\\n",
       "date                      imo                                       \n",
       "2021-03-22 06:00:00+00:00 9458016                       Available   \n",
       "                          9282479                       Available   \n",
       "                          9389100                       Available   \n",
       "                          9416551                       Available   \n",
       "                          9247390                       Available   \n",
       "                          9299599                       Available   \n",
       "                          9259707                       Available   \n",
       "                          9395329                       Available   \n",
       "                          9296195                       Available   \n",
       "2021-03-21 06:00:00+00:00 9389083                       Available   \n",
       "                          9458016                       Available   \n",
       "                          9416551                       Available   \n",
       "                          9247390                       Available   \n",
       "2021-03-20 06:00:00+00:00 9389083                       Available   \n",
       "                          9416551                       Available   \n",
       "                          9458016                       Available   \n",
       "2021-03-19 06:00:00+00:00 9333785                       Available   \n",
       "                          9458016                       Available   \n",
       "                          9388364                       Available   \n",
       "                          9239927                       Available   \n",
       "2021-03-18 06:00:00+00:00 9296195                       Available   \n",
       "                          9239927                       Available   \n",
       "                          9767340                       Available   \n",
       "2021-03-17 06:00:00+00:00 9308833                       Available   \n",
       "                          9416551                       Available   \n",
       "                          9296195                       Available   \n",
       "                          9389083                       Available   \n",
       "                          9389071                       Available   \n",
       "                          9239927                       Available   \n",
       "                          9458016                       Available   \n",
       "\n",
       "                                          eta_point_in_time  \\\n",
       "date                      imo                                 \n",
       "2021-03-22 06:00:00+00:00 9458016 2021-03-23 23:00:00+00:00   \n",
       "                          9282479 2021-03-24 18:00:00+00:00   \n",
       "                          9389100 2021-03-26 15:00:00+00:00   \n",
       "                          9416551 2021-03-26 17:00:00+00:00   \n",
       "                          9247390 2021-03-27 08:00:00+00:00   \n",
       "                          9299599 2021-03-28 02:00:00+00:00   \n",
       "                          9259707 2021-03-28 07:00:00+00:00   \n",
       "                          9395329 2021-03-28 07:00:00+00:00   \n",
       "                          9296195 2021-03-28 16:00:00+00:00   \n",
       "2021-03-21 06:00:00+00:00 9389083 2021-03-22 13:00:00+00:00   \n",
       "                          9458016 2021-03-23 23:00:00+00:00   \n",
       "                          9416551 2021-03-25 17:00:00+00:00   \n",
       "                          9247390 2021-03-27 06:00:00+00:00   \n",
       "2021-03-20 06:00:00+00:00 9389083 2021-03-22 00:00:00+00:00   \n",
       "                          9416551 2021-03-22 13:00:00+00:00   \n",
       "                          9458016 2021-03-23 23:00:00+00:00   \n",
       "2021-03-19 06:00:00+00:00 9333785 2021-03-23 20:00:00+00:00   \n",
       "                          9458016 2021-03-24 23:00:00+00:00   \n",
       "                          9388364 2021-03-25 18:00:00+00:00   \n",
       "                          9239927 2021-03-25 21:00:00+00:00   \n",
       "2021-03-18 06:00:00+00:00 9296195 2021-03-21 19:00:00+00:00   \n",
       "                          9239927 2021-03-23 07:00:00+00:00   \n",
       "                          9767340 2021-03-24 12:00:00+00:00   \n",
       "2021-03-17 06:00:00+00:00 9308833 2021-03-19 12:00:00+00:00   \n",
       "                          9416551 2021-03-20 14:00:00+00:00   \n",
       "                          9296195 2021-03-20 20:00:00+00:00   \n",
       "                          9389083 2021-03-20 21:00:00+00:00   \n",
       "                          9389071 2021-03-22 12:00:00+00:00   \n",
       "                          9239927 2021-03-23 07:00:00+00:00   \n",
       "                          9458016 2021-03-23 23:00:00+00:00   \n",
       "\n",
       "                                   latest_ais_point_in_time  \\\n",
       "date                      imo                                 \n",
       "2021-03-22 06:00:00+00:00 9458016 2021-03-22 05:13:54+00:00   \n",
       "                          9282479 2021-03-22 05:06:24+00:00   \n",
       "                          9389100 2021-03-22 01:35:04+00:00   \n",
       "                          9416551 2021-03-22 04:47:01+00:00   \n",
       "                          9247390 2021-03-22 04:36:33+00:00   \n",
       "                          9299599 2021-03-21 22:45:25+00:00   \n",
       "                          9259707 2021-03-22 05:37:54+00:00   \n",
       "                          9395329 2021-03-22 04:10:29+00:00   \n",
       "                          9296195 2021-03-22 03:15:43+00:00   \n",
       "2021-03-21 06:00:00+00:00 9389083 2021-03-21 05:32:14+00:00   \n",
       "                          9458016 2021-03-21 05:17:06+00:00   \n",
       "                          9416551 2021-03-21 05:16:07+00:00   \n",
       "                          9247390 2021-03-21 01:36:25+00:00   \n",
       "2021-03-20 06:00:00+00:00 9389083 2021-03-20 04:32:32+00:00   \n",
       "                          9416551 2021-03-20 02:40:00+00:00   \n",
       "                          9458016 2021-03-19 21:49:16+00:00   \n",
       "2021-03-19 06:00:00+00:00 9333785 2021-03-19 03:43:43+00:00   \n",
       "                          9458016 2021-03-18 19:17:06+00:00   \n",
       "                          9388364 2021-03-19 05:04:56+00:00   \n",
       "                          9239927 2021-03-19 02:43:54+00:00   \n",
       "2021-03-18 06:00:00+00:00 9296195 2021-03-18 03:44:08+00:00   \n",
       "                          9239927 2021-03-18 02:16:35+00:00   \n",
       "                          9767340 2021-03-18 04:07:05+00:00   \n",
       "2021-03-17 06:00:00+00:00 9308833 2021-03-17 04:59:49+00:00   \n",
       "                          9416551 2021-03-17 02:03:43+00:00   \n",
       "                          9296195 2021-03-17 05:02:11+00:00   \n",
       "                          9389083 2021-03-16 14:30:08+00:00   \n",
       "                          9389071 2021-03-17 02:24:40+00:00   \n",
       "                          9239927 2021-03-17 05:02:05+00:00   \n",
       "                          9458016 2021-03-17 04:33:54+00:00   \n",
       "\n",
       "                                  open_prediction_accuracy_point_in_time  \\\n",
       "date                      imo                                              \n",
       "2021-03-22 06:00:00+00:00 9458016                                   Port   \n",
       "                          9282479                                   Port   \n",
       "                          9389100                            Narrow Area   \n",
       "                          9416551                            Narrow Area   \n",
       "                          9247390                                   Port   \n",
       "                          9299599                            Narrow Area   \n",
       "                          9259707                                   Port   \n",
       "                          9395329                                   Port   \n",
       "                          9296195                                   Port   \n",
       "2021-03-21 06:00:00+00:00 9389083                            Narrow Area   \n",
       "                          9458016                                   Port   \n",
       "                          9416551                            Narrow Area   \n",
       "                          9247390                                   Port   \n",
       "2021-03-20 06:00:00+00:00 9389083                            Narrow Area   \n",
       "                          9416551                            Narrow Area   \n",
       "                          9458016                                   Port   \n",
       "2021-03-19 06:00:00+00:00 9333785                            Narrow Area   \n",
       "                          9458016                                   Port   \n",
       "                          9388364                                   Port   \n",
       "                          9239927                                   Port   \n",
       "2021-03-18 06:00:00+00:00 9296195                            Narrow Area   \n",
       "                          9239927                                   Port   \n",
       "                          9767340                                   Port   \n",
       "2021-03-17 06:00:00+00:00 9308833                            Narrow Area   \n",
       "                          9416551                            Narrow Area   \n",
       "                          9296195                            Narrow Area   \n",
       "                          9389083                            Narrow Area   \n",
       "                          9389071                                   Port   \n",
       "                          9239927                                   Port   \n",
       "                          9458016                                   Port   \n",
       "\n",
       "                                  open_country_point_in_time  \\\n",
       "date                      imo                                  \n",
       "2021-03-22 06:00:00+00:00 9458016                     Turkey   \n",
       "                          9282479                      Egypt   \n",
       "                          9389100               Saudi Arabia   \n",
       "                          9416551                     Turkey   \n",
       "                          9247390                     Greece   \n",
       "                          9299599                      Yemen   \n",
       "                          9259707                     Greece   \n",
       "                          9395329               Saudi Arabia   \n",
       "                          9296195                      Malta   \n",
       "2021-03-21 06:00:00+00:00 9389083                      Egypt   \n",
       "                          9458016                     Turkey   \n",
       "                          9416551                     Turkey   \n",
       "                          9247390                     Greece   \n",
       "2021-03-20 06:00:00+00:00 9389083                      Egypt   \n",
       "                          9416551                     Turkey   \n",
       "                          9458016                     Turkey   \n",
       "2021-03-19 06:00:00+00:00 9333785                      Italy   \n",
       "                          9458016                     Turkey   \n",
       "                          9388364                      Italy   \n",
       "                          9239927               Saudi Arabia   \n",
       "2021-03-18 06:00:00+00:00 9296195                      Malta   \n",
       "                          9239927               Saudi Arabia   \n",
       "                          9767340                      Italy   \n",
       "2021-03-17 06:00:00+00:00 9308833                      Egypt   \n",
       "                          9416551                      Italy   \n",
       "                          9296195                      Malta   \n",
       "                          9389083               Saudi Arabia   \n",
       "                          9389071                      Italy   \n",
       "                          9239927               Saudi Arabia   \n",
       "                          9458016                     Turkey   \n",
       "\n",
       "                                  open_narrow_area_point_in_time  \\\n",
       "date                      imo                                      \n",
       "2021-03-22 06:00:00+00:00 9458016             East Mediterranean   \n",
       "                          9282479                        Red Sea   \n",
       "                          9389100                        Red Sea   \n",
       "                          9416551                 Sea of Marmara   \n",
       "                          9247390             East Mediterranean   \n",
       "                          9299599                        Red Sea   \n",
       "                          9259707             East Mediterranean   \n",
       "                          9395329                        Red Sea   \n",
       "                          9296195          Central Mediterranean   \n",
       "2021-03-21 06:00:00+00:00 9389083             East Mediterranean   \n",
       "                          9458016             East Mediterranean   \n",
       "                          9416551                 Sea of Marmara   \n",
       "                          9247390             East Mediterranean   \n",
       "2021-03-20 06:00:00+00:00 9389083                        Red Sea   \n",
       "                          9416551                 Sea of Marmara   \n",
       "                          9458016             East Mediterranean   \n",
       "2021-03-19 06:00:00+00:00 9333785          Central Mediterranean   \n",
       "                          9458016             East Mediterranean   \n",
       "                          9388364          Central Mediterranean   \n",
       "                          9239927                        Red Sea   \n",
       "2021-03-18 06:00:00+00:00 9296195          Central Mediterranean   \n",
       "                          9239927                        Red Sea   \n",
       "                          9767340          Central Mediterranean   \n",
       "2021-03-17 06:00:00+00:00 9308833                        Red Sea   \n",
       "                          9416551          Central Mediterranean   \n",
       "                          9296195          Central Mediterranean   \n",
       "                          9389083                        Red Sea   \n",
       "                          9389071          Central Mediterranean   \n",
       "                          9239927                        Red Sea   \n",
       "                          9458016             East Mediterranean   \n",
       "\n",
       "                                  open_wide_area_point_in_time  \\\n",
       "date                      imo                                    \n",
       "2021-03-22 06:00:00+00:00 9458016                Mediterranean   \n",
       "                          9282479                      Red Sea   \n",
       "                          9389100                      Red Sea   \n",
       "                          9416551   Black Sea / Sea Of Marmara   \n",
       "                          9247390                Mediterranean   \n",
       "                          9299599                      Red Sea   \n",
       "                          9259707                Mediterranean   \n",
       "                          9395329                      Red Sea   \n",
       "                          9296195                Mediterranean   \n",
       "2021-03-21 06:00:00+00:00 9389083                Mediterranean   \n",
       "                          9458016                Mediterranean   \n",
       "                          9416551   Black Sea / Sea Of Marmara   \n",
       "                          9247390                Mediterranean   \n",
       "2021-03-20 06:00:00+00:00 9389083                      Red Sea   \n",
       "                          9416551   Black Sea / Sea Of Marmara   \n",
       "                          9458016                Mediterranean   \n",
       "2021-03-19 06:00:00+00:00 9333785                Mediterranean   \n",
       "                          9458016                Mediterranean   \n",
       "                          9388364                Mediterranean   \n",
       "                          9239927                      Red Sea   \n",
       "2021-03-18 06:00:00+00:00 9296195                Mediterranean   \n",
       "                          9239927                      Red Sea   \n",
       "                          9767340                Mediterranean   \n",
       "2021-03-17 06:00:00+00:00 9308833                      Red Sea   \n",
       "                          9416551                Mediterranean   \n",
       "                          9296195                Mediterranean   \n",
       "                          9389083                      Red Sea   \n",
       "                          9389071                Mediterranean   \n",
       "                          9239927                      Red Sea   \n",
       "                          9458016                Mediterranean   \n",
       "\n",
       "                                  availability_port_type_point_in_time  \\\n",
       "date                      imo                                            \n",
       "2021-03-22 06:00:00+00:00 9458016                               Source   \n",
       "                          9282479                               Source   \n",
       "                          9389100                               Source   \n",
       "                          9416551                               Source   \n",
       "                          9247390                               Source   \n",
       "                          9299599                               Source   \n",
       "                          9259707                               Source   \n",
       "                          9395329                               Source   \n",
       "                          9296195                               Source   \n",
       "2021-03-21 06:00:00+00:00 9389083                               Source   \n",
       "                          9458016                               Source   \n",
       "                          9416551                               Source   \n",
       "                          9247390                               Source   \n",
       "2021-03-20 06:00:00+00:00 9389083                               Source   \n",
       "                          9416551                               Source   \n",
       "                          9458016                               Source   \n",
       "2021-03-19 06:00:00+00:00 9333785                               Source   \n",
       "                          9458016                               Source   \n",
       "                          9388364                               Source   \n",
       "                          9239927                               Source   \n",
       "2021-03-18 06:00:00+00:00 9296195                               Source   \n",
       "                          9239927                               Source   \n",
       "                          9767340                               Source   \n",
       "2021-03-17 06:00:00+00:00 9308833                               Source   \n",
       "                          9416551                               Source   \n",
       "                          9296195                               Source   \n",
       "                          9389083                               Source   \n",
       "                          9389071                               Source   \n",
       "                          9239927                               Source   \n",
       "                          9458016                               Source   \n",
       "\n",
       "                                  availability_date_type_point_in_time  \n",
       "date                      imo                                           \n",
       "2021-03-22 06:00:00+00:00 9458016                               Source  \n",
       "                          9282479                               Source  \n",
       "                          9389100                               Source  \n",
       "                          9416551                               Source  \n",
       "                          9247390                           Prediction  \n",
       "                          9299599                               Source  \n",
       "                          9259707                               Source  \n",
       "                          9395329                               Source  \n",
       "                          9296195                               Source  \n",
       "2021-03-21 06:00:00+00:00 9389083                               Source  \n",
       "                          9458016                               Source  \n",
       "                          9416551                               Source  \n",
       "                          9247390                           Prediction  \n",
       "2021-03-20 06:00:00+00:00 9389083                               Source  \n",
       "                          9416551                               Source  \n",
       "                          9458016                               Source  \n",
       "2021-03-19 06:00:00+00:00 9333785                               Source  \n",
       "                          9458016                               Source  \n",
       "                          9388364                           Prediction  \n",
       "                          9239927                           Prediction  \n",
       "2021-03-18 06:00:00+00:00 9296195                               Source  \n",
       "                          9239927                           Prediction  \n",
       "                          9767340                               Source  \n",
       "2021-03-17 06:00:00+00:00 9308833                               Source  \n",
       "                          9416551                               Source  \n",
       "                          9296195                               Source  \n",
       "                          9389083                               Source  \n",
       "                          9389071                           Prediction  \n",
       "                          9239927                           Prediction  \n",
       "                          9458016                               Source  \n",
       "\n",
       "[30 rows x 23 columns]"
      ],
      "text/html": "<div>\n<style scoped>\n    .dataframe tbody tr th:only-of-type {\n        vertical-align: middle;\n    }\n\n    .dataframe tbody tr th {\n        vertical-align: top;\n    }\n\n    .dataframe thead th {\n        text-align: right;\n    }\n</style>\n<table border=\"1\" class=\"dataframe\">\n  <thead>\n    <tr style=\"text-align: right;\">\n      <th></th>\n      <th></th>\n      <th>name</th>\n      <th>vessel_class</th>\n      <th>ice_class</th>\n      <th>year_built</th>\n      <th>deadweight</th>\n      <th>length_overall</th>\n      <th>breadth_extreme</th>\n      <th>subclass</th>\n      <th>market_deployment_point_in_time</th>\n      <th>push_type_point_in_time</th>\n      <th>...</th>\n      <th>commercial_operator_point_in_time</th>\n      <th>commercial_status_point_in_time</th>\n      <th>eta_point_in_time</th>\n      <th>latest_ais_point_in_time</th>\n      <th>open_prediction_accuracy_point_in_time</th>\n      <th>open_country_point_in_time</th>\n      <th>open_narrow_area_point_in_time</th>\n      <th>open_wide_area_point_in_time</th>\n      <th>availability_port_type_point_in_time</th>\n      <th>availability_date_type_point_in_time</th>\n    </tr>\n    <tr>\n      <th>date</th>\n      <th>imo</th>\n      <th></th>\n      <th></th>\n      <th></th>\n      <th></th>\n      <th></th>\n      <th></th>\n      <th></th>\n      <th></th>\n      <th></th>\n      <th></th>\n      <th></th>\n      <th></th>\n      <th></th>\n      <th></th>\n      <th></th>\n      <th></th>\n      <th></th>\n      <th></th>\n      <th></th>\n      <th></th>\n      <th></th>\n    </tr>\n  </thead>\n  <tbody>\n    <tr>\n      <th rowspan=\"9\" valign=\"top\">2021-03-22 06:00:00+00:00</th>\n      <th>9458016</th>\n      <td>Delta Star</td>\n      <td>Aframax</td>\n      <td>NaN</td>\n      <td>2013</td>\n      <td>115618</td>\n      <td>248.97</td>\n      <td>44</td>\n      <td>Dirty</td>\n      <td>Spot</td>\n      <td>Pushed</td>\n      <td>...</td>\n      <td>Delta Tankers</td>\n      <td>Available</td>\n      <td>2021-03-23 23:00:00+00:00</td>\n      <td>2021-03-22 05:13:54+00:00</td>\n      <td>Port</td>\n      <td>Turkey</td>\n      <td>East Mediterranean</td>\n      <td>Mediterranean</td>\n      <td>Source</td>\n      <td>Source</td>\n    </tr>\n    <tr>\n      <th>9282479</th>\n      <td>Magnus</td>\n      <td>Aframax</td>\n      <td>NaN</td>\n      <td>2005</td>\n      <td>114809</td>\n      <td>251.56</td>\n      <td>44</td>\n      <td>Dirty</td>\n      <td>Spot</td>\n      <td>Pushed</td>\n      <td>...</td>\n      <td>Union Maritime</td>\n      <td>Available</td>\n      <td>2021-03-24 18:00:00+00:00</td>\n      <td>2021-03-22 05:06:24+00:00</td>\n      <td>Port</td>\n      <td>Egypt</td>\n      <td>Red Sea</td>\n      <td>Red Sea</td>\n      <td>Source</td>\n      <td>Source</td>\n    </tr>\n    <tr>\n      <th>9389100</th>\n      <td>Myrtos</td>\n      <td>Aframax</td>\n      <td>NaN</td>\n      <td>2009</td>\n      <td>106750</td>\n      <td>243.80</td>\n      <td>42</td>\n      <td>Dirty</td>\n      <td>Spot</td>\n      <td>Pushed</td>\n      <td>...</td>\n      <td>Cardiff Marine</td>\n      <td>Available</td>\n      <td>2021-03-26 15:00:00+00:00</td>\n      <td>2021-03-22 01:35:04+00:00</td>\n      <td>Narrow Area</td>\n      <td>Saudi Arabia</td>\n      <td>Red Sea</td>\n      <td>Red Sea</td>\n      <td>Source</td>\n      <td>Source</td>\n    </tr>\n    <tr>\n      <th>9416551</th>\n      <td>Alatau</td>\n      <td>Aframax</td>\n      <td>NaN</td>\n      <td>2009</td>\n      <td>115949</td>\n      <td>248.96</td>\n      <td>44</td>\n      <td>Dirty</td>\n      <td>Spot</td>\n      <td>Pushed</td>\n      <td>...</td>\n      <td>Kazmortransflot UK</td>\n      <td>Available</td>\n      <td>2021-03-26 17:00:00+00:00</td>\n      <td>2021-03-22 04:47:01+00:00</td>\n      <td>Narrow Area</td>\n      <td>Turkey</td>\n      <td>Sea of Marmara</td>\n      <td>Black Sea / Sea Of Marmara</td>\n      <td>Source</td>\n      <td>Source</td>\n    </tr>\n    <tr>\n      <th>9247390</th>\n      <td>Neverland</td>\n      <td>Aframax</td>\n      <td>NaN</td>\n      <td>2003</td>\n      <td>105411</td>\n      <td>239.00</td>\n      <td>42</td>\n      <td>Dirty</td>\n      <td>Relet</td>\n      <td>Pushed</td>\n      <td>...</td>\n      <td>Vitol</td>\n      <td>Available</td>\n      <td>2021-03-27 08:00:00+00:00</td>\n      <td>2021-03-22 04:36:33+00:00</td>\n      <td>Port</td>\n      <td>Greece</td>\n      <td>East Mediterranean</td>\n      <td>Mediterranean</td>\n      <td>Source</td>\n      <td>Prediction</td>\n    </tr>\n    <tr>\n      <th>9299599</th>\n      <td>Glifa</td>\n      <td>Aframax</td>\n      <td>NaN</td>\n      <td>2005</td>\n      <td>109229</td>\n      <td>243.00</td>\n      <td>42</td>\n      <td>Dirty</td>\n      <td>Spot</td>\n      <td>Pushed</td>\n      <td>...</td>\n      <td>Signal Maritime</td>\n      <td>Available</td>\n      <td>2021-03-28 02:00:00+00:00</td>\n      <td>2021-03-21 22:45:25+00:00</td>\n      <td>Narrow Area</td>\n      <td>Yemen</td>\n      <td>Red Sea</td>\n      <td>Red Sea</td>\n      <td>Source</td>\n      <td>Source</td>\n    </tr>\n    <tr>\n      <th>9259707</th>\n      <td>Marianna V.V.</td>\n      <td>Aframax</td>\n      <td>NaN</td>\n      <td>2002</td>\n      <td>84999</td>\n      <td>238.94</td>\n      <td>38</td>\n      <td>Dirty</td>\n      <td>Relet</td>\n      <td>Pushed</td>\n      <td>...</td>\n      <td>Avin International</td>\n      <td>Available</td>\n      <td>2021-03-28 07:00:00+00:00</td>\n      <td>2021-03-22 05:37:54+00:00</td>\n      <td>Port</td>\n      <td>Greece</td>\n      <td>East Mediterranean</td>\n      <td>Mediterranean</td>\n      <td>Source</td>\n      <td>Source</td>\n    </tr>\n    <tr>\n      <th>9395329</th>\n      <td>Botafogo</td>\n      <td>Aframax</td>\n      <td>NaN</td>\n      <td>2010</td>\n      <td>106892</td>\n      <td>243.80</td>\n      <td>42</td>\n      <td>Dirty</td>\n      <td>Spot</td>\n      <td>Pushed</td>\n      <td>...</td>\n      <td>Cardiff Marine</td>\n      <td>Available</td>\n      <td>2021-03-28 07:00:00+00:00</td>\n      <td>2021-03-22 04:10:29+00:00</td>\n      <td>Port</td>\n      <td>Saudi Arabia</td>\n      <td>Red Sea</td>\n      <td>Red Sea</td>\n      <td>Source</td>\n      <td>Source</td>\n    </tr>\n    <tr>\n      <th>9296195</th>\n      <td>Paros</td>\n      <td>Aframax</td>\n      <td>NaN</td>\n      <td>2003</td>\n      <td>107197</td>\n      <td>247.00</td>\n      <td>42</td>\n      <td>Dirty</td>\n      <td>Spot</td>\n      <td>Pushed</td>\n      <td>...</td>\n      <td>New Shipping</td>\n      <td>Available</td>\n      <td>2021-03-28 16:00:00+00:00</td>\n      <td>2021-03-22 03:15:43+00:00</td>\n      <td>Port</td>\n      <td>Malta</td>\n      <td>Central Mediterranean</td>\n      <td>Mediterranean</td>\n      <td>Source</td>\n      <td>Source</td>\n    </tr>\n    <tr>\n      <th rowspan=\"4\" valign=\"top\">2021-03-21 06:00:00+00:00</th>\n      <th>9389083</th>\n      <td>Agrari</td>\n      <td>Aframax</td>\n      <td>NaN</td>\n      <td>2009</td>\n      <td>107009</td>\n      <td>243.80</td>\n      <td>42</td>\n      <td>Dirty</td>\n      <td>Spot</td>\n      <td>Pushed</td>\n      <td>...</td>\n      <td>Cardiff Marine</td>\n      <td>Available</td>\n      <td>2021-03-22 13:00:00+00:00</td>\n      <td>2021-03-21 05:32:14+00:00</td>\n      <td>Narrow Area</td>\n      <td>Egypt</td>\n      <td>East Mediterranean</td>\n      <td>Mediterranean</td>\n      <td>Source</td>\n      <td>Source</td>\n    </tr>\n    <tr>\n      <th>9458016</th>\n      <td>Delta Star</td>\n      <td>Aframax</td>\n      <td>NaN</td>\n      <td>2013</td>\n      <td>115618</td>\n      <td>248.97</td>\n      <td>44</td>\n      <td>Dirty</td>\n      <td>Spot</td>\n      <td>Pushed</td>\n      <td>...</td>\n      <td>Delta Tankers</td>\n      <td>Available</td>\n      <td>2021-03-23 23:00:00+00:00</td>\n      <td>2021-03-21 05:17:06+00:00</td>\n      <td>Port</td>\n      <td>Turkey</td>\n      <td>East Mediterranean</td>\n      <td>Mediterranean</td>\n      <td>Source</td>\n      <td>Source</td>\n    </tr>\n    <tr>\n      <th>9416551</th>\n      <td>Alatau</td>\n      <td>Aframax</td>\n      <td>NaN</td>\n      <td>2009</td>\n      <td>115949</td>\n      <td>248.96</td>\n      <td>44</td>\n      <td>Dirty</td>\n      <td>Spot</td>\n      <td>Pushed</td>\n      <td>...</td>\n      <td>Kazmortransflot UK</td>\n      <td>Available</td>\n      <td>2021-03-25 17:00:00+00:00</td>\n      <td>2021-03-21 05:16:07+00:00</td>\n      <td>Narrow Area</td>\n      <td>Turkey</td>\n      <td>Sea of Marmara</td>\n      <td>Black Sea / Sea Of Marmara</td>\n      <td>Source</td>\n      <td>Source</td>\n    </tr>\n    <tr>\n      <th>9247390</th>\n      <td>Neverland</td>\n      <td>Aframax</td>\n      <td>NaN</td>\n      <td>2003</td>\n      <td>105411</td>\n      <td>239.00</td>\n      <td>42</td>\n      <td>Dirty</td>\n      <td>Relet</td>\n      <td>Pushed</td>\n      <td>...</td>\n      <td>Vitol</td>\n      <td>Available</td>\n      <td>2021-03-27 06:00:00+00:00</td>\n      <td>2021-03-21 01:36:25+00:00</td>\n      <td>Port</td>\n      <td>Greece</td>\n      <td>East Mediterranean</td>\n      <td>Mediterranean</td>\n      <td>Source</td>\n      <td>Prediction</td>\n    </tr>\n    <tr>\n      <th rowspan=\"3\" valign=\"top\">2021-03-20 06:00:00+00:00</th>\n      <th>9389083</th>\n      <td>Agrari</td>\n      <td>Aframax</td>\n      <td>NaN</td>\n      <td>2009</td>\n      <td>107009</td>\n      <td>243.80</td>\n      <td>42</td>\n      <td>Dirty</td>\n      <td>Spot</td>\n      <td>Pushed</td>\n      <td>...</td>\n      <td>Cardiff Marine</td>\n      <td>Available</td>\n      <td>2021-03-22 00:00:00+00:00</td>\n      <td>2021-03-20 04:32:32+00:00</td>\n      <td>Narrow Area</td>\n      <td>Egypt</td>\n      <td>Red Sea</td>\n      <td>Red Sea</td>\n      <td>Source</td>\n      <td>Source</td>\n    </tr>\n    <tr>\n      <th>9416551</th>\n      <td>Alatau</td>\n      <td>Aframax</td>\n      <td>NaN</td>\n      <td>2009</td>\n      <td>115949</td>\n      <td>248.96</td>\n      <td>44</td>\n      <td>Dirty</td>\n      <td>Spot</td>\n      <td>Pushed</td>\n      <td>...</td>\n      <td>Kazmortransflot UK</td>\n      <td>Available</td>\n      <td>2021-03-22 13:00:00+00:00</td>\n      <td>2021-03-20 02:40:00+00:00</td>\n      <td>Narrow Area</td>\n      <td>Turkey</td>\n      <td>Sea of Marmara</td>\n      <td>Black Sea / Sea Of Marmara</td>\n      <td>Source</td>\n      <td>Source</td>\n    </tr>\n    <tr>\n      <th>9458016</th>\n      <td>Delta Star</td>\n      <td>Aframax</td>\n      <td>NaN</td>\n      <td>2013</td>\n      <td>115618</td>\n      <td>248.97</td>\n      <td>44</td>\n      <td>Dirty</td>\n      <td>Spot</td>\n      <td>Pushed</td>\n      <td>...</td>\n      <td>Delta Tankers</td>\n      <td>Available</td>\n      <td>2021-03-23 23:00:00+00:00</td>\n      <td>2021-03-19 21:49:16+00:00</td>\n      <td>Port</td>\n      <td>Turkey</td>\n      <td>East Mediterranean</td>\n      <td>Mediterranean</td>\n      <td>Source</td>\n      <td>Source</td>\n    </tr>\n    <tr>\n      <th rowspan=\"4\" valign=\"top\">2021-03-19 06:00:00+00:00</th>\n      <th>9333785</th>\n      <td>Capricorn Sun</td>\n      <td>Aframax</td>\n      <td>NaN</td>\n      <td>2007</td>\n      <td>115577</td>\n      <td>243.80</td>\n      <td>42</td>\n      <td>Dirty</td>\n      <td>Spot</td>\n      <td>Pushed</td>\n      <td>...</td>\n      <td>Zodiac Maritime</td>\n      <td>Available</td>\n      <td>2021-03-23 20:00:00+00:00</td>\n      <td>2021-03-19 03:43:43+00:00</td>\n      <td>Narrow Area</td>\n      <td>Italy</td>\n      <td>Central Mediterranean</td>\n      <td>Mediterranean</td>\n      <td>Source</td>\n      <td>Source</td>\n    </tr>\n    <tr>\n      <th>9458016</th>\n      <td>Delta Star</td>\n      <td>Aframax</td>\n      <td>NaN</td>\n      <td>2013</td>\n      <td>115618</td>\n      <td>248.97</td>\n      <td>44</td>\n      <td>Dirty</td>\n      <td>Spot</td>\n      <td>Pushed</td>\n      <td>...</td>\n      <td>Delta Tankers</td>\n      <td>Available</td>\n      <td>2021-03-24 23:00:00+00:00</td>\n      <td>2021-03-18 19:17:06+00:00</td>\n      <td>Port</td>\n      <td>Turkey</td>\n      <td>East Mediterranean</td>\n      <td>Mediterranean</td>\n      <td>Source</td>\n      <td>Source</td>\n    </tr>\n    <tr>\n      <th>9388364</th>\n      <td>Merbabu</td>\n      <td>Aframax</td>\n      <td>NaN</td>\n      <td>2008</td>\n      <td>105746</td>\n      <td>243.97</td>\n      <td>42</td>\n      <td>Dirty</td>\n      <td>Spot</td>\n      <td>Pushed</td>\n      <td>...</td>\n      <td>Centrofin</td>\n      <td>Available</td>\n      <td>2021-03-25 18:00:00+00:00</td>\n      <td>2021-03-19 05:04:56+00:00</td>\n      <td>Port</td>\n      <td>Italy</td>\n      <td>Central Mediterranean</td>\n      <td>Mediterranean</td>\n      <td>Source</td>\n      <td>Prediction</td>\n    </tr>\n    <tr>\n      <th>9239927</th>\n      <td>Daffodil</td>\n      <td>Aframax</td>\n      <td>NaN</td>\n      <td>2002</td>\n      <td>105357</td>\n      <td>248.00</td>\n      <td>43</td>\n      <td>Dirty</td>\n      <td>Spot</td>\n      <td>Pushed</td>\n      <td>...</td>\n      <td>Bihar International</td>\n      <td>Available</td>\n      <td>2021-03-25 21:00:00+00:00</td>\n      <td>2021-03-19 02:43:54+00:00</td>\n      <td>Port</td>\n      <td>Saudi Arabia</td>\n      <td>Red Sea</td>\n      <td>Red Sea</td>\n      <td>Source</td>\n      <td>Prediction</td>\n    </tr>\n    <tr>\n      <th rowspan=\"3\" valign=\"top\">2021-03-18 06:00:00+00:00</th>\n      <th>9296195</th>\n      <td>Paros</td>\n      <td>Aframax</td>\n      <td>NaN</td>\n      <td>2003</td>\n      <td>107197</td>\n      <td>247.00</td>\n      <td>42</td>\n      <td>Dirty</td>\n      <td>Spot</td>\n      <td>Pushed</td>\n      <td>...</td>\n      <td>New Shipping</td>\n      <td>Available</td>\n      <td>2021-03-21 19:00:00+00:00</td>\n      <td>2021-03-18 03:44:08+00:00</td>\n      <td>Narrow Area</td>\n      <td>Malta</td>\n      <td>Central Mediterranean</td>\n      <td>Mediterranean</td>\n      <td>Source</td>\n      <td>Source</td>\n    </tr>\n    <tr>\n      <th>9239927</th>\n      <td>Daffodil</td>\n      <td>Aframax</td>\n      <td>NaN</td>\n      <td>2002</td>\n      <td>105357</td>\n      <td>248.00</td>\n      <td>43</td>\n      <td>Dirty</td>\n      <td>Spot</td>\n      <td>Pushed</td>\n      <td>...</td>\n      <td>Bihar International</td>\n      <td>Available</td>\n      <td>2021-03-23 07:00:00+00:00</td>\n      <td>2021-03-18 02:16:35+00:00</td>\n      <td>Port</td>\n      <td>Saudi Arabia</td>\n      <td>Red Sea</td>\n      <td>Red Sea</td>\n      <td>Source</td>\n      <td>Prediction</td>\n    </tr>\n    <tr>\n      <th>9767340</th>\n      <td>Front Sirius</td>\n      <td>Aframax</td>\n      <td>NaN</td>\n      <td>2017</td>\n      <td>110000</td>\n      <td>252.00</td>\n      <td>44</td>\n      <td>Dirty</td>\n      <td>Spot</td>\n      <td>Pushed</td>\n      <td>...</td>\n      <td>Frontline</td>\n      <td>Available</td>\n      <td>2021-03-24 12:00:00+00:00</td>\n      <td>2021-03-18 04:07:05+00:00</td>\n      <td>Port</td>\n      <td>Italy</td>\n      <td>Central Mediterranean</td>\n      <td>Mediterranean</td>\n      <td>Source</td>\n      <td>Source</td>\n    </tr>\n    <tr>\n      <th rowspan=\"7\" valign=\"top\">2021-03-17 06:00:00+00:00</th>\n      <th>9308833</th>\n      <td>Lovina</td>\n      <td>Aframax</td>\n      <td>NaN</td>\n      <td>2005</td>\n      <td>105047</td>\n      <td>243.80</td>\n      <td>42</td>\n      <td>Dirty</td>\n      <td>Spot</td>\n      <td>Pushed</td>\n      <td>...</td>\n      <td>Cardiff Marine</td>\n      <td>Available</td>\n      <td>2021-03-19 12:00:00+00:00</td>\n      <td>2021-03-17 04:59:49+00:00</td>\n      <td>Narrow Area</td>\n      <td>Egypt</td>\n      <td>Red Sea</td>\n      <td>Red Sea</td>\n      <td>Source</td>\n      <td>Source</td>\n    </tr>\n    <tr>\n      <th>9416551</th>\n      <td>Alatau</td>\n      <td>Aframax</td>\n      <td>NaN</td>\n      <td>2009</td>\n      <td>115949</td>\n      <td>248.96</td>\n      <td>44</td>\n      <td>Dirty</td>\n      <td>Spot</td>\n      <td>Pushed</td>\n      <td>...</td>\n      <td>Kazmortransflot UK</td>\n      <td>Available</td>\n      <td>2021-03-20 14:00:00+00:00</td>\n      <td>2021-03-17 02:03:43+00:00</td>\n      <td>Narrow Area</td>\n      <td>Italy</td>\n      <td>Central Mediterranean</td>\n      <td>Mediterranean</td>\n      <td>Source</td>\n      <td>Source</td>\n    </tr>\n    <tr>\n      <th>9296195</th>\n      <td>Paros</td>\n      <td>Aframax</td>\n      <td>NaN</td>\n      <td>2003</td>\n      <td>107197</td>\n      <td>247.00</td>\n      <td>42</td>\n      <td>Dirty</td>\n      <td>Spot</td>\n      <td>Pushed</td>\n      <td>...</td>\n      <td>New Shipping</td>\n      <td>Available</td>\n      <td>2021-03-20 20:00:00+00:00</td>\n      <td>2021-03-17 05:02:11+00:00</td>\n      <td>Narrow Area</td>\n      <td>Malta</td>\n      <td>Central Mediterranean</td>\n      <td>Mediterranean</td>\n      <td>Source</td>\n      <td>Source</td>\n    </tr>\n    <tr>\n      <th>9389083</th>\n      <td>Agrari</td>\n      <td>Aframax</td>\n      <td>NaN</td>\n      <td>2009</td>\n      <td>107009</td>\n      <td>243.80</td>\n      <td>42</td>\n      <td>Dirty</td>\n      <td>Spot</td>\n      <td>Pushed</td>\n      <td>...</td>\n      <td>Cardiff Marine</td>\n      <td>Available</td>\n      <td>2021-03-20 21:00:00+00:00</td>\n      <td>2021-03-16 14:30:08+00:00</td>\n      <td>Narrow Area</td>\n      <td>Saudi Arabia</td>\n      <td>Red Sea</td>\n      <td>Red Sea</td>\n      <td>Source</td>\n      <td>Source</td>\n    </tr>\n    <tr>\n      <th>9389071</th>\n      <td>Scorpio</td>\n      <td>Aframax</td>\n      <td>NaN</td>\n      <td>2009</td>\n      <td>107157</td>\n      <td>243.80</td>\n      <td>42</td>\n      <td>Dirty</td>\n      <td>Spot</td>\n      <td>Pushed</td>\n      <td>...</td>\n      <td>Cardiff Marine</td>\n      <td>Available</td>\n      <td>2021-03-22 12:00:00+00:00</td>\n      <td>2021-03-17 02:24:40+00:00</td>\n      <td>Port</td>\n      <td>Italy</td>\n      <td>Central Mediterranean</td>\n      <td>Mediterranean</td>\n      <td>Source</td>\n      <td>Prediction</td>\n    </tr>\n    <tr>\n      <th>9239927</th>\n      <td>Daffodil</td>\n      <td>Aframax</td>\n      <td>NaN</td>\n      <td>2002</td>\n      <td>105357</td>\n      <td>248.00</td>\n      <td>43</td>\n      <td>Dirty</td>\n      <td>Spot</td>\n      <td>Pushed</td>\n      <td>...</td>\n      <td>Bihar International</td>\n      <td>Available</td>\n      <td>2021-03-23 07:00:00+00:00</td>\n      <td>2021-03-17 05:02:05+00:00</td>\n      <td>Port</td>\n      <td>Saudi Arabia</td>\n      <td>Red Sea</td>\n      <td>Red Sea</td>\n      <td>Source</td>\n      <td>Prediction</td>\n    </tr>\n    <tr>\n      <th>9458016</th>\n      <td>Delta Star</td>\n      <td>Aframax</td>\n      <td>NaN</td>\n      <td>2013</td>\n      <td>115618</td>\n      <td>248.97</td>\n      <td>44</td>\n      <td>Dirty</td>\n      <td>Spot</td>\n      <td>Pushed</td>\n      <td>...</td>\n      <td>Delta Tankers</td>\n      <td>Available</td>\n      <td>2021-03-23 23:00:00+00:00</td>\n      <td>2021-03-17 04:33:54+00:00</td>\n      <td>Port</td>\n      <td>Turkey</td>\n      <td>East Mediterranean</td>\n      <td>Mediterranean</td>\n      <td>Source</td>\n      <td>Source</td>\n    </tr>\n  </tbody>\n</table>\n<p>30 rows × 23 columns</p>\n</div>"
     },
     "metadata": {},
     "execution_count": 13
    }
   ],
   "source": [
    "beginning_of_year = date(today.year, 1, 1)\n",
    "\n",
    "htl_for_supply_trend = htl_api.get_historical_tonnage_list(\n",
    "    port,\n",
    "    vessel_class,\n",
    "    days_forward,\n",
    "    start_date,\n",
    "    end_date=today,\n",
    "    vessel_filter=vessel_filter,\n",
    "    time=time(hour=6)\n",
    ")\n",
    "\n",
    "supply_trend_data_frame = htl_for_supply_trend.to_data_frame()\n",
    "\n",
    "supply_trend_data_frame"
   ]
  },
  {
   "cell_type": "markdown",
   "metadata": {},
   "source": [
    "Now, we can generate the plot:"
   ]
  },
  {
   "cell_type": "code",
   "execution_count": 14,
   "metadata": {},
   "outputs": [
    {
     "output_type": "execute_result",
     "data": {
      "text/plain": [
       "<AxesSubplot:xlabel='date', ylabel='Vessel count'>"
      ]
     },
     "metadata": {},
     "execution_count": 14
    },
    {
     "output_type": "display_data",
     "data": {
      "text/plain": "<Figure size 432x288 with 1 Axes>",
      "image/svg+xml": "<?xml version=\"1.0\" encoding=\"utf-8\" standalone=\"no\"?>\r\n<!DOCTYPE svg PUBLIC \"-//W3C//DTD SVG 1.1//EN\"\r\n  \"http://www.w3.org/Graphics/SVG/1.1/DTD/svg11.dtd\">\r\n<!-- Created with matplotlib (https://matplotlib.org/) -->\r\n<svg height=\"268.35744pt\" version=\"1.1\" viewBox=\"0 0 404.36867 268.35744\" width=\"404.36867pt\" xmlns=\"http://www.w3.org/2000/svg\" xmlns:xlink=\"http://www.w3.org/1999/xlink\">\r\n <metadata>\r\n  <rdf:RDF xmlns:cc=\"http://creativecommons.org/ns#\" xmlns:dc=\"http://purl.org/dc/elements/1.1/\" xmlns:rdf=\"http://www.w3.org/1999/02/22-rdf-syntax-ns#\">\r\n   <cc:Work>\r\n    <dc:type rdf:resource=\"http://purl.org/dc/dcmitype/StillImage\"/>\r\n    <dc:date>2021-03-23T01:00:05.288198</dc:date>\r\n    <dc:format>image/svg+xml</dc:format>\r\n    <dc:creator>\r\n     <cc:Agent>\r\n      <dc:title>Matplotlib v3.3.2, https://matplotlib.org/</dc:title>\r\n     </cc:Agent>\r\n    </dc:creator>\r\n   </cc:Work>\r\n  </rdf:RDF>\r\n </metadata>\r\n <defs>\r\n  <style type=\"text/css\">*{stroke-linecap:butt;stroke-linejoin:round;}</style>\r\n </defs>\r\n <g id=\"figure_1\">\r\n  <g id=\"patch_1\">\r\n   <path d=\"M 0 268.35744 \r\nL 404.36867 268.35744 \r\nL 404.36867 0 \r\nL 0 0 \r\nz\r\n\" style=\"fill:none;\"/>\r\n  </g>\r\n  <g id=\"axes_1\">\r\n   <g id=\"patch_2\">\r\n    <path d=\"M 62.36867 203.04 \r\nL 397.16867 203.04 \r\nL 397.16867 7.2 \r\nL 62.36867 7.2 \r\nz\r\n\" style=\"fill:#ffffff;\"/>\r\n   </g>\r\n   <g id=\"matplotlib.axis_1\">\r\n    <g id=\"xtick_1\">\r\n     <g id=\"line2d_1\">\r\n      <defs>\r\n       <path d=\"M 0 0 \r\nL 0 3.5 \r\n\" id=\"m5e5fa16673\" style=\"stroke:#000000;stroke-width:0.8;\"/>\r\n      </defs>\r\n      <g>\r\n       <use style=\"stroke:#000000;stroke-width:0.8;\" x=\"62.36867\" xlink:href=\"#m5e5fa16673\" y=\"203.04\"/>\r\n      </g>\r\n     </g>\r\n     <g id=\"text_1\">\r\n      <!-- 2021-03-17 -->\r\n      <g transform=\"translate(10.999219 245.678252)rotate(-30)scale(0.1 -0.1)\">\r\n       <defs>\r\n        <path d=\"M 19.1875 8.296875 \r\nL 53.609375 8.296875 \r\nL 53.609375 0 \r\nL 7.328125 0 \r\nL 7.328125 8.296875 \r\nQ 12.9375 14.109375 22.625 23.890625 \r\nQ 32.328125 33.6875 34.8125 36.53125 \r\nQ 39.546875 41.84375 41.421875 45.53125 \r\nQ 43.3125 49.21875 43.3125 52.78125 \r\nQ 43.3125 58.59375 39.234375 62.25 \r\nQ 35.15625 65.921875 28.609375 65.921875 \r\nQ 23.96875 65.921875 18.8125 64.3125 \r\nQ 13.671875 62.703125 7.8125 59.421875 \r\nL 7.8125 69.390625 \r\nQ 13.765625 71.78125 18.9375 73 \r\nQ 24.125 74.21875 28.421875 74.21875 \r\nQ 39.75 74.21875 46.484375 68.546875 \r\nQ 53.21875 62.890625 53.21875 53.421875 \r\nQ 53.21875 48.921875 51.53125 44.890625 \r\nQ 49.859375 40.875 45.40625 35.40625 \r\nQ 44.1875 33.984375 37.640625 27.21875 \r\nQ 31.109375 20.453125 19.1875 8.296875 \r\nz\r\n\" id=\"DejaVuSans-50\"/>\r\n        <path d=\"M 31.78125 66.40625 \r\nQ 24.171875 66.40625 20.328125 58.90625 \r\nQ 16.5 51.421875 16.5 36.375 \r\nQ 16.5 21.390625 20.328125 13.890625 \r\nQ 24.171875 6.390625 31.78125 6.390625 \r\nQ 39.453125 6.390625 43.28125 13.890625 \r\nQ 47.125 21.390625 47.125 36.375 \r\nQ 47.125 51.421875 43.28125 58.90625 \r\nQ 39.453125 66.40625 31.78125 66.40625 \r\nz\r\nM 31.78125 74.21875 \r\nQ 44.046875 74.21875 50.515625 64.515625 \r\nQ 56.984375 54.828125 56.984375 36.375 \r\nQ 56.984375 17.96875 50.515625 8.265625 \r\nQ 44.046875 -1.421875 31.78125 -1.421875 \r\nQ 19.53125 -1.421875 13.0625 8.265625 \r\nQ 6.59375 17.96875 6.59375 36.375 \r\nQ 6.59375 54.828125 13.0625 64.515625 \r\nQ 19.53125 74.21875 31.78125 74.21875 \r\nz\r\n\" id=\"DejaVuSans-48\"/>\r\n        <path d=\"M 12.40625 8.296875 \r\nL 28.515625 8.296875 \r\nL 28.515625 63.921875 \r\nL 10.984375 60.40625 \r\nL 10.984375 69.390625 \r\nL 28.421875 72.90625 \r\nL 38.28125 72.90625 \r\nL 38.28125 8.296875 \r\nL 54.390625 8.296875 \r\nL 54.390625 0 \r\nL 12.40625 0 \r\nz\r\n\" id=\"DejaVuSans-49\"/>\r\n        <path d=\"M 4.890625 31.390625 \r\nL 31.203125 31.390625 \r\nL 31.203125 23.390625 \r\nL 4.890625 23.390625 \r\nz\r\n\" id=\"DejaVuSans-45\"/>\r\n        <path d=\"M 40.578125 39.3125 \r\nQ 47.65625 37.796875 51.625 33 \r\nQ 55.609375 28.21875 55.609375 21.1875 \r\nQ 55.609375 10.40625 48.1875 4.484375 \r\nQ 40.765625 -1.421875 27.09375 -1.421875 \r\nQ 22.515625 -1.421875 17.65625 -0.515625 \r\nQ 12.796875 0.390625 7.625 2.203125 \r\nL 7.625 11.71875 \r\nQ 11.71875 9.328125 16.59375 8.109375 \r\nQ 21.484375 6.890625 26.8125 6.890625 \r\nQ 36.078125 6.890625 40.9375 10.546875 \r\nQ 45.796875 14.203125 45.796875 21.1875 \r\nQ 45.796875 27.640625 41.28125 31.265625 \r\nQ 36.765625 34.90625 28.71875 34.90625 \r\nL 20.21875 34.90625 \r\nL 20.21875 43.015625 \r\nL 29.109375 43.015625 \r\nQ 36.375 43.015625 40.234375 45.921875 \r\nQ 44.09375 48.828125 44.09375 54.296875 \r\nQ 44.09375 59.90625 40.109375 62.90625 \r\nQ 36.140625 65.921875 28.71875 65.921875 \r\nQ 24.65625 65.921875 20.015625 65.03125 \r\nQ 15.375 64.15625 9.8125 62.3125 \r\nL 9.8125 71.09375 \r\nQ 15.4375 72.65625 20.34375 73.4375 \r\nQ 25.25 74.21875 29.59375 74.21875 \r\nQ 40.828125 74.21875 47.359375 69.109375 \r\nQ 53.90625 64.015625 53.90625 55.328125 \r\nQ 53.90625 49.265625 50.4375 45.09375 \r\nQ 46.96875 40.921875 40.578125 39.3125 \r\nz\r\n\" id=\"DejaVuSans-51\"/>\r\n        <path d=\"M 8.203125 72.90625 \r\nL 55.078125 72.90625 \r\nL 55.078125 68.703125 \r\nL 28.609375 0 \r\nL 18.3125 0 \r\nL 43.21875 64.59375 \r\nL 8.203125 64.59375 \r\nz\r\n\" id=\"DejaVuSans-55\"/>\r\n       </defs>\r\n       <use xlink:href=\"#DejaVuSans-50\"/>\r\n       <use x=\"63.623047\" xlink:href=\"#DejaVuSans-48\"/>\r\n       <use x=\"127.246094\" xlink:href=\"#DejaVuSans-50\"/>\r\n       <use x=\"190.869141\" xlink:href=\"#DejaVuSans-49\"/>\r\n       <use x=\"254.492188\" xlink:href=\"#DejaVuSans-45\"/>\r\n       <use x=\"290.576172\" xlink:href=\"#DejaVuSans-48\"/>\r\n       <use x=\"354.199219\" xlink:href=\"#DejaVuSans-51\"/>\r\n       <use x=\"417.822266\" xlink:href=\"#DejaVuSans-45\"/>\r\n       <use x=\"453.90625\" xlink:href=\"#DejaVuSans-49\"/>\r\n       <use x=\"517.529297\" xlink:href=\"#DejaVuSans-55\"/>\r\n      </g>\r\n     </g>\r\n    </g>\r\n    <g id=\"xtick_2\">\r\n     <g id=\"line2d_2\">\r\n      <g>\r\n       <use style=\"stroke:#000000;stroke-width:0.8;\" x=\"123.241397\" xlink:href=\"#m5e5fa16673\" y=\"203.04\"/>\r\n      </g>\r\n     </g>\r\n     <g id=\"text_2\">\r\n      <!-- 2021-03-18 -->\r\n      <g transform=\"translate(71.871946 245.678252)rotate(-30)scale(0.1 -0.1)\">\r\n       <defs>\r\n        <path d=\"M 31.78125 34.625 \r\nQ 24.75 34.625 20.71875 30.859375 \r\nQ 16.703125 27.09375 16.703125 20.515625 \r\nQ 16.703125 13.921875 20.71875 10.15625 \r\nQ 24.75 6.390625 31.78125 6.390625 \r\nQ 38.8125 6.390625 42.859375 10.171875 \r\nQ 46.921875 13.96875 46.921875 20.515625 \r\nQ 46.921875 27.09375 42.890625 30.859375 \r\nQ 38.875 34.625 31.78125 34.625 \r\nz\r\nM 21.921875 38.8125 \r\nQ 15.578125 40.375 12.03125 44.71875 \r\nQ 8.5 49.078125 8.5 55.328125 \r\nQ 8.5 64.0625 14.71875 69.140625 \r\nQ 20.953125 74.21875 31.78125 74.21875 \r\nQ 42.671875 74.21875 48.875 69.140625 \r\nQ 55.078125 64.0625 55.078125 55.328125 \r\nQ 55.078125 49.078125 51.53125 44.71875 \r\nQ 48 40.375 41.703125 38.8125 \r\nQ 48.828125 37.15625 52.796875 32.3125 \r\nQ 56.78125 27.484375 56.78125 20.515625 \r\nQ 56.78125 9.90625 50.3125 4.234375 \r\nQ 43.84375 -1.421875 31.78125 -1.421875 \r\nQ 19.734375 -1.421875 13.25 4.234375 \r\nQ 6.78125 9.90625 6.78125 20.515625 \r\nQ 6.78125 27.484375 10.78125 32.3125 \r\nQ 14.796875 37.15625 21.921875 38.8125 \r\nz\r\nM 18.3125 54.390625 \r\nQ 18.3125 48.734375 21.84375 45.5625 \r\nQ 25.390625 42.390625 31.78125 42.390625 \r\nQ 38.140625 42.390625 41.71875 45.5625 \r\nQ 45.3125 48.734375 45.3125 54.390625 \r\nQ 45.3125 60.0625 41.71875 63.234375 \r\nQ 38.140625 66.40625 31.78125 66.40625 \r\nQ 25.390625 66.40625 21.84375 63.234375 \r\nQ 18.3125 60.0625 18.3125 54.390625 \r\nz\r\n\" id=\"DejaVuSans-56\"/>\r\n       </defs>\r\n       <use xlink:href=\"#DejaVuSans-50\"/>\r\n       <use x=\"63.623047\" xlink:href=\"#DejaVuSans-48\"/>\r\n       <use x=\"127.246094\" xlink:href=\"#DejaVuSans-50\"/>\r\n       <use x=\"190.869141\" xlink:href=\"#DejaVuSans-49\"/>\r\n       <use x=\"254.492188\" xlink:href=\"#DejaVuSans-45\"/>\r\n       <use x=\"290.576172\" xlink:href=\"#DejaVuSans-48\"/>\r\n       <use x=\"354.199219\" xlink:href=\"#DejaVuSans-51\"/>\r\n       <use x=\"417.822266\" xlink:href=\"#DejaVuSans-45\"/>\r\n       <use x=\"453.90625\" xlink:href=\"#DejaVuSans-49\"/>\r\n       <use x=\"517.529297\" xlink:href=\"#DejaVuSans-56\"/>\r\n      </g>\r\n     </g>\r\n    </g>\r\n    <g id=\"xtick_3\">\r\n     <g id=\"line2d_3\">\r\n      <g>\r\n       <use style=\"stroke:#000000;stroke-width:0.8;\" x=\"184.114125\" xlink:href=\"#m5e5fa16673\" y=\"203.04\"/>\r\n      </g>\r\n     </g>\r\n     <g id=\"text_3\">\r\n      <!-- 2021-03-19 -->\r\n      <g transform=\"translate(132.744673 245.678252)rotate(-30)scale(0.1 -0.1)\">\r\n       <defs>\r\n        <path d=\"M 10.984375 1.515625 \r\nL 10.984375 10.5 \r\nQ 14.703125 8.734375 18.5 7.8125 \r\nQ 22.3125 6.890625 25.984375 6.890625 \r\nQ 35.75 6.890625 40.890625 13.453125 \r\nQ 46.046875 20.015625 46.78125 33.40625 \r\nQ 43.953125 29.203125 39.59375 26.953125 \r\nQ 35.25 24.703125 29.984375 24.703125 \r\nQ 19.046875 24.703125 12.671875 31.3125 \r\nQ 6.296875 37.9375 6.296875 49.421875 \r\nQ 6.296875 60.640625 12.9375 67.421875 \r\nQ 19.578125 74.21875 30.609375 74.21875 \r\nQ 43.265625 74.21875 49.921875 64.515625 \r\nQ 56.59375 54.828125 56.59375 36.375 \r\nQ 56.59375 19.140625 48.40625 8.859375 \r\nQ 40.234375 -1.421875 26.421875 -1.421875 \r\nQ 22.703125 -1.421875 18.890625 -0.6875 \r\nQ 15.09375 0.046875 10.984375 1.515625 \r\nz\r\nM 30.609375 32.421875 \r\nQ 37.25 32.421875 41.125 36.953125 \r\nQ 45.015625 41.5 45.015625 49.421875 \r\nQ 45.015625 57.28125 41.125 61.84375 \r\nQ 37.25 66.40625 30.609375 66.40625 \r\nQ 23.96875 66.40625 20.09375 61.84375 \r\nQ 16.21875 57.28125 16.21875 49.421875 \r\nQ 16.21875 41.5 20.09375 36.953125 \r\nQ 23.96875 32.421875 30.609375 32.421875 \r\nz\r\n\" id=\"DejaVuSans-57\"/>\r\n       </defs>\r\n       <use xlink:href=\"#DejaVuSans-50\"/>\r\n       <use x=\"63.623047\" xlink:href=\"#DejaVuSans-48\"/>\r\n       <use x=\"127.246094\" xlink:href=\"#DejaVuSans-50\"/>\r\n       <use x=\"190.869141\" xlink:href=\"#DejaVuSans-49\"/>\r\n       <use x=\"254.492188\" xlink:href=\"#DejaVuSans-45\"/>\r\n       <use x=\"290.576172\" xlink:href=\"#DejaVuSans-48\"/>\r\n       <use x=\"354.199219\" xlink:href=\"#DejaVuSans-51\"/>\r\n       <use x=\"417.822266\" xlink:href=\"#DejaVuSans-45\"/>\r\n       <use x=\"453.90625\" xlink:href=\"#DejaVuSans-49\"/>\r\n       <use x=\"517.529297\" xlink:href=\"#DejaVuSans-57\"/>\r\n      </g>\r\n     </g>\r\n    </g>\r\n    <g id=\"xtick_4\">\r\n     <g id=\"line2d_4\">\r\n      <g>\r\n       <use style=\"stroke:#000000;stroke-width:0.8;\" x=\"244.986852\" xlink:href=\"#m5e5fa16673\" y=\"203.04\"/>\r\n      </g>\r\n     </g>\r\n     <g id=\"text_4\">\r\n      <!-- 2021-03-20 -->\r\n      <g transform=\"translate(193.617401 245.678252)rotate(-30)scale(0.1 -0.1)\">\r\n       <use xlink:href=\"#DejaVuSans-50\"/>\r\n       <use x=\"63.623047\" xlink:href=\"#DejaVuSans-48\"/>\r\n       <use x=\"127.246094\" xlink:href=\"#DejaVuSans-50\"/>\r\n       <use x=\"190.869141\" xlink:href=\"#DejaVuSans-49\"/>\r\n       <use x=\"254.492188\" xlink:href=\"#DejaVuSans-45\"/>\r\n       <use x=\"290.576172\" xlink:href=\"#DejaVuSans-48\"/>\r\n       <use x=\"354.199219\" xlink:href=\"#DejaVuSans-51\"/>\r\n       <use x=\"417.822266\" xlink:href=\"#DejaVuSans-45\"/>\r\n       <use x=\"453.90625\" xlink:href=\"#DejaVuSans-50\"/>\r\n       <use x=\"517.529297\" xlink:href=\"#DejaVuSans-48\"/>\r\n      </g>\r\n     </g>\r\n    </g>\r\n    <g id=\"xtick_5\">\r\n     <g id=\"line2d_5\">\r\n      <g>\r\n       <use style=\"stroke:#000000;stroke-width:0.8;\" x=\"305.859579\" xlink:href=\"#m5e5fa16673\" y=\"203.04\"/>\r\n      </g>\r\n     </g>\r\n     <g id=\"text_5\">\r\n      <!-- 2021-03-21 -->\r\n      <g transform=\"translate(254.490128 245.678252)rotate(-30)scale(0.1 -0.1)\">\r\n       <use xlink:href=\"#DejaVuSans-50\"/>\r\n       <use x=\"63.623047\" xlink:href=\"#DejaVuSans-48\"/>\r\n       <use x=\"127.246094\" xlink:href=\"#DejaVuSans-50\"/>\r\n       <use x=\"190.869141\" xlink:href=\"#DejaVuSans-49\"/>\r\n       <use x=\"254.492188\" xlink:href=\"#DejaVuSans-45\"/>\r\n       <use x=\"290.576172\" xlink:href=\"#DejaVuSans-48\"/>\r\n       <use x=\"354.199219\" xlink:href=\"#DejaVuSans-51\"/>\r\n       <use x=\"417.822266\" xlink:href=\"#DejaVuSans-45\"/>\r\n       <use x=\"453.90625\" xlink:href=\"#DejaVuSans-50\"/>\r\n       <use x=\"517.529297\" xlink:href=\"#DejaVuSans-49\"/>\r\n      </g>\r\n     </g>\r\n    </g>\r\n    <g id=\"xtick_6\">\r\n     <g id=\"line2d_6\">\r\n      <g>\r\n       <use style=\"stroke:#000000;stroke-width:0.8;\" x=\"366.732306\" xlink:href=\"#m5e5fa16673\" y=\"203.04\"/>\r\n      </g>\r\n     </g>\r\n     <g id=\"text_6\">\r\n      <!-- 2021-03-22 -->\r\n      <g transform=\"translate(315.362855 245.678252)rotate(-30)scale(0.1 -0.1)\">\r\n       <use xlink:href=\"#DejaVuSans-50\"/>\r\n       <use x=\"63.623047\" xlink:href=\"#DejaVuSans-48\"/>\r\n       <use x=\"127.246094\" xlink:href=\"#DejaVuSans-50\"/>\r\n       <use x=\"190.869141\" xlink:href=\"#DejaVuSans-49\"/>\r\n       <use x=\"254.492188\" xlink:href=\"#DejaVuSans-45\"/>\r\n       <use x=\"290.576172\" xlink:href=\"#DejaVuSans-48\"/>\r\n       <use x=\"354.199219\" xlink:href=\"#DejaVuSans-51\"/>\r\n       <use x=\"417.822266\" xlink:href=\"#DejaVuSans-45\"/>\r\n       <use x=\"453.90625\" xlink:href=\"#DejaVuSans-50\"/>\r\n       <use x=\"517.529297\" xlink:href=\"#DejaVuSans-50\"/>\r\n      </g>\r\n     </g>\r\n    </g>\r\n    <g id=\"text_7\">\r\n     <!-- date -->\r\n     <g transform=\"translate(218.49367 259.077752)scale(0.1 -0.1)\">\r\n      <defs>\r\n       <path d=\"M 45.40625 46.390625 \r\nL 45.40625 75.984375 \r\nL 54.390625 75.984375 \r\nL 54.390625 0 \r\nL 45.40625 0 \r\nL 45.40625 8.203125 \r\nQ 42.578125 3.328125 38.25 0.953125 \r\nQ 33.9375 -1.421875 27.875 -1.421875 \r\nQ 17.96875 -1.421875 11.734375 6.484375 \r\nQ 5.515625 14.40625 5.515625 27.296875 \r\nQ 5.515625 40.1875 11.734375 48.09375 \r\nQ 17.96875 56 27.875 56 \r\nQ 33.9375 56 38.25 53.625 \r\nQ 42.578125 51.265625 45.40625 46.390625 \r\nz\r\nM 14.796875 27.296875 \r\nQ 14.796875 17.390625 18.875 11.75 \r\nQ 22.953125 6.109375 30.078125 6.109375 \r\nQ 37.203125 6.109375 41.296875 11.75 \r\nQ 45.40625 17.390625 45.40625 27.296875 \r\nQ 45.40625 37.203125 41.296875 42.84375 \r\nQ 37.203125 48.484375 30.078125 48.484375 \r\nQ 22.953125 48.484375 18.875 42.84375 \r\nQ 14.796875 37.203125 14.796875 27.296875 \r\nz\r\n\" id=\"DejaVuSans-100\"/>\r\n       <path d=\"M 34.28125 27.484375 \r\nQ 23.390625 27.484375 19.1875 25 \r\nQ 14.984375 22.515625 14.984375 16.5 \r\nQ 14.984375 11.71875 18.140625 8.90625 \r\nQ 21.296875 6.109375 26.703125 6.109375 \r\nQ 34.1875 6.109375 38.703125 11.40625 \r\nQ 43.21875 16.703125 43.21875 25.484375 \r\nL 43.21875 27.484375 \r\nz\r\nM 52.203125 31.203125 \r\nL 52.203125 0 \r\nL 43.21875 0 \r\nL 43.21875 8.296875 \r\nQ 40.140625 3.328125 35.546875 0.953125 \r\nQ 30.953125 -1.421875 24.3125 -1.421875 \r\nQ 15.921875 -1.421875 10.953125 3.296875 \r\nQ 6 8.015625 6 15.921875 \r\nQ 6 25.140625 12.171875 29.828125 \r\nQ 18.359375 34.515625 30.609375 34.515625 \r\nL 43.21875 34.515625 \r\nL 43.21875 35.40625 \r\nQ 43.21875 41.609375 39.140625 45 \r\nQ 35.0625 48.390625 27.6875 48.390625 \r\nQ 23 48.390625 18.546875 47.265625 \r\nQ 14.109375 46.140625 10.015625 43.890625 \r\nL 10.015625 52.203125 \r\nQ 14.9375 54.109375 19.578125 55.046875 \r\nQ 24.21875 56 28.609375 56 \r\nQ 40.484375 56 46.34375 49.84375 \r\nQ 52.203125 43.703125 52.203125 31.203125 \r\nz\r\n\" id=\"DejaVuSans-97\"/>\r\n       <path d=\"M 18.3125 70.21875 \r\nL 18.3125 54.6875 \r\nL 36.8125 54.6875 \r\nL 36.8125 47.703125 \r\nL 18.3125 47.703125 \r\nL 18.3125 18.015625 \r\nQ 18.3125 11.328125 20.140625 9.421875 \r\nQ 21.96875 7.515625 27.59375 7.515625 \r\nL 36.8125 7.515625 \r\nL 36.8125 0 \r\nL 27.59375 0 \r\nQ 17.1875 0 13.234375 3.875 \r\nQ 9.28125 7.765625 9.28125 18.015625 \r\nL 9.28125 47.703125 \r\nL 2.6875 47.703125 \r\nL 2.6875 54.6875 \r\nL 9.28125 54.6875 \r\nL 9.28125 70.21875 \r\nz\r\n\" id=\"DejaVuSans-116\"/>\r\n       <path d=\"M 56.203125 29.59375 \r\nL 56.203125 25.203125 \r\nL 14.890625 25.203125 \r\nQ 15.484375 15.921875 20.484375 11.0625 \r\nQ 25.484375 6.203125 34.421875 6.203125 \r\nQ 39.59375 6.203125 44.453125 7.46875 \r\nQ 49.3125 8.734375 54.109375 11.28125 \r\nL 54.109375 2.78125 \r\nQ 49.265625 0.734375 44.1875 -0.34375 \r\nQ 39.109375 -1.421875 33.890625 -1.421875 \r\nQ 20.796875 -1.421875 13.15625 6.1875 \r\nQ 5.515625 13.8125 5.515625 26.8125 \r\nQ 5.515625 40.234375 12.765625 48.109375 \r\nQ 20.015625 56 32.328125 56 \r\nQ 43.359375 56 49.78125 48.890625 \r\nQ 56.203125 41.796875 56.203125 29.59375 \r\nz\r\nM 47.21875 32.234375 \r\nQ 47.125 39.59375 43.09375 43.984375 \r\nQ 39.0625 48.390625 32.421875 48.390625 \r\nQ 24.90625 48.390625 20.390625 44.140625 \r\nQ 15.875 39.890625 15.1875 32.171875 \r\nz\r\n\" id=\"DejaVuSans-101\"/>\r\n      </defs>\r\n      <use xlink:href=\"#DejaVuSans-100\"/>\r\n      <use x=\"63.476562\" xlink:href=\"#DejaVuSans-97\"/>\r\n      <use x=\"124.755859\" xlink:href=\"#DejaVuSans-116\"/>\r\n      <use x=\"163.964844\" xlink:href=\"#DejaVuSans-101\"/>\r\n     </g>\r\n    </g>\r\n   </g>\r\n   <g id=\"matplotlib.axis_2\">\r\n    <g id=\"ytick_1\">\r\n     <g id=\"line2d_7\">\r\n      <defs>\r\n       <path d=\"M 0 0 \r\nL -3.5 0 \r\n\" id=\"ma47d07ad81\" style=\"stroke:#000000;stroke-width:0.8;\"/>\r\n      </defs>\r\n      <g>\r\n       <use style=\"stroke:#000000;stroke-width:0.8;\" x=\"62.36867\" xlink:href=\"#ma47d07ad81\" y=\"194.138182\"/>\r\n      </g>\r\n     </g>\r\n     <g id=\"text_8\">\r\n      <!-- 3 -->\r\n      <g transform=\"translate(49.00617 197.937401)scale(0.1 -0.1)\">\r\n       <use xlink:href=\"#DejaVuSans-51\"/>\r\n      </g>\r\n     </g>\r\n    </g>\r\n    <g id=\"ytick_2\">\r\n     <g id=\"line2d_8\">\r\n      <g>\r\n       <use style=\"stroke:#000000;stroke-width:0.8;\" x=\"62.36867\" xlink:href=\"#ma47d07ad81\" y=\"164.465455\"/>\r\n      </g>\r\n     </g>\r\n     <g id=\"text_9\">\r\n      <!-- 4 -->\r\n      <g transform=\"translate(49.00617 168.264673)scale(0.1 -0.1)\">\r\n       <defs>\r\n        <path d=\"M 37.796875 64.3125 \r\nL 12.890625 25.390625 \r\nL 37.796875 25.390625 \r\nz\r\nM 35.203125 72.90625 \r\nL 47.609375 72.90625 \r\nL 47.609375 25.390625 \r\nL 58.015625 25.390625 \r\nL 58.015625 17.1875 \r\nL 47.609375 17.1875 \r\nL 47.609375 0 \r\nL 37.796875 0 \r\nL 37.796875 17.1875 \r\nL 4.890625 17.1875 \r\nL 4.890625 26.703125 \r\nz\r\n\" id=\"DejaVuSans-52\"/>\r\n       </defs>\r\n       <use xlink:href=\"#DejaVuSans-52\"/>\r\n      </g>\r\n     </g>\r\n    </g>\r\n    <g id=\"ytick_3\">\r\n     <g id=\"line2d_9\">\r\n      <g>\r\n       <use style=\"stroke:#000000;stroke-width:0.8;\" x=\"62.36867\" xlink:href=\"#ma47d07ad81\" y=\"134.792727\"/>\r\n      </g>\r\n     </g>\r\n     <g id=\"text_10\">\r\n      <!-- 5 -->\r\n      <g transform=\"translate(49.00617 138.591946)scale(0.1 -0.1)\">\r\n       <defs>\r\n        <path d=\"M 10.796875 72.90625 \r\nL 49.515625 72.90625 \r\nL 49.515625 64.59375 \r\nL 19.828125 64.59375 \r\nL 19.828125 46.734375 \r\nQ 21.96875 47.46875 24.109375 47.828125 \r\nQ 26.265625 48.1875 28.421875 48.1875 \r\nQ 40.625 48.1875 47.75 41.5 \r\nQ 54.890625 34.8125 54.890625 23.390625 \r\nQ 54.890625 11.625 47.5625 5.09375 \r\nQ 40.234375 -1.421875 26.90625 -1.421875 \r\nQ 22.3125 -1.421875 17.546875 -0.640625 \r\nQ 12.796875 0.140625 7.71875 1.703125 \r\nL 7.71875 11.625 \r\nQ 12.109375 9.234375 16.796875 8.0625 \r\nQ 21.484375 6.890625 26.703125 6.890625 \r\nQ 35.15625 6.890625 40.078125 11.328125 \r\nQ 45.015625 15.765625 45.015625 23.390625 \r\nQ 45.015625 31 40.078125 35.4375 \r\nQ 35.15625 39.890625 26.703125 39.890625 \r\nQ 22.75 39.890625 18.8125 39.015625 \r\nQ 14.890625 38.140625 10.796875 36.28125 \r\nz\r\n\" id=\"DejaVuSans-53\"/>\r\n       </defs>\r\n       <use xlink:href=\"#DejaVuSans-53\"/>\r\n      </g>\r\n     </g>\r\n    </g>\r\n    <g id=\"ytick_4\">\r\n     <g id=\"line2d_10\">\r\n      <g>\r\n       <use style=\"stroke:#000000;stroke-width:0.8;\" x=\"62.36867\" xlink:href=\"#ma47d07ad81\" y=\"105.12\"/>\r\n      </g>\r\n     </g>\r\n     <g id=\"text_11\">\r\n      <!-- 6 -->\r\n      <g transform=\"translate(49.00617 108.919219)scale(0.1 -0.1)\">\r\n       <defs>\r\n        <path d=\"M 33.015625 40.375 \r\nQ 26.375 40.375 22.484375 35.828125 \r\nQ 18.609375 31.296875 18.609375 23.390625 \r\nQ 18.609375 15.53125 22.484375 10.953125 \r\nQ 26.375 6.390625 33.015625 6.390625 \r\nQ 39.65625 6.390625 43.53125 10.953125 \r\nQ 47.40625 15.53125 47.40625 23.390625 \r\nQ 47.40625 31.296875 43.53125 35.828125 \r\nQ 39.65625 40.375 33.015625 40.375 \r\nz\r\nM 52.59375 71.296875 \r\nL 52.59375 62.3125 \r\nQ 48.875 64.0625 45.09375 64.984375 \r\nQ 41.3125 65.921875 37.59375 65.921875 \r\nQ 27.828125 65.921875 22.671875 59.328125 \r\nQ 17.53125 52.734375 16.796875 39.40625 \r\nQ 19.671875 43.65625 24.015625 45.921875 \r\nQ 28.375 48.1875 33.59375 48.1875 \r\nQ 44.578125 48.1875 50.953125 41.515625 \r\nQ 57.328125 34.859375 57.328125 23.390625 \r\nQ 57.328125 12.15625 50.6875 5.359375 \r\nQ 44.046875 -1.421875 33.015625 -1.421875 \r\nQ 20.359375 -1.421875 13.671875 8.265625 \r\nQ 6.984375 17.96875 6.984375 36.375 \r\nQ 6.984375 53.65625 15.1875 63.9375 \r\nQ 23.390625 74.21875 37.203125 74.21875 \r\nQ 40.921875 74.21875 44.703125 73.484375 \r\nQ 48.484375 72.75 52.59375 71.296875 \r\nz\r\n\" id=\"DejaVuSans-54\"/>\r\n       </defs>\r\n       <use xlink:href=\"#DejaVuSans-54\"/>\r\n      </g>\r\n     </g>\r\n    </g>\r\n    <g id=\"ytick_5\">\r\n     <g id=\"line2d_11\">\r\n      <g>\r\n       <use style=\"stroke:#000000;stroke-width:0.8;\" x=\"62.36867\" xlink:href=\"#ma47d07ad81\" y=\"75.447273\"/>\r\n      </g>\r\n     </g>\r\n     <g id=\"text_12\">\r\n      <!-- 7 -->\r\n      <g transform=\"translate(49.00617 79.246491)scale(0.1 -0.1)\">\r\n       <use xlink:href=\"#DejaVuSans-55\"/>\r\n      </g>\r\n     </g>\r\n    </g>\r\n    <g id=\"ytick_6\">\r\n     <g id=\"line2d_12\">\r\n      <g>\r\n       <use style=\"stroke:#000000;stroke-width:0.8;\" x=\"62.36867\" xlink:href=\"#ma47d07ad81\" y=\"45.774545\"/>\r\n      </g>\r\n     </g>\r\n     <g id=\"text_13\">\r\n      <!-- 8 -->\r\n      <g transform=\"translate(49.00617 49.573764)scale(0.1 -0.1)\">\r\n       <use xlink:href=\"#DejaVuSans-56\"/>\r\n      </g>\r\n     </g>\r\n    </g>\r\n    <g id=\"ytick_7\">\r\n     <g id=\"line2d_13\">\r\n      <g>\r\n       <use style=\"stroke:#000000;stroke-width:0.8;\" x=\"62.36867\" xlink:href=\"#ma47d07ad81\" y=\"16.101818\"/>\r\n      </g>\r\n     </g>\r\n     <g id=\"text_14\">\r\n      <!-- 9 -->\r\n      <g transform=\"translate(49.00617 19.901037)scale(0.1 -0.1)\">\r\n       <use xlink:href=\"#DejaVuSans-57\"/>\r\n      </g>\r\n     </g>\r\n    </g>\r\n    <g id=\"text_15\">\r\n     <!-- Vessel count -->\r\n     <g transform=\"translate(42.926483 136.599687)rotate(-90)scale(0.1 -0.1)\">\r\n      <defs>\r\n       <path d=\"M 28.609375 0 \r\nL 0.78125 72.90625 \r\nL 11.078125 72.90625 \r\nL 34.1875 11.53125 \r\nL 57.328125 72.90625 \r\nL 67.578125 72.90625 \r\nL 39.796875 0 \r\nz\r\n\" id=\"DejaVuSans-86\"/>\r\n       <path d=\"M 44.28125 53.078125 \r\nL 44.28125 44.578125 \r\nQ 40.484375 46.53125 36.375 47.5 \r\nQ 32.28125 48.484375 27.875 48.484375 \r\nQ 21.1875 48.484375 17.84375 46.4375 \r\nQ 14.5 44.390625 14.5 40.28125 \r\nQ 14.5 37.15625 16.890625 35.375 \r\nQ 19.28125 33.59375 26.515625 31.984375 \r\nL 29.59375 31.296875 \r\nQ 39.15625 29.25 43.1875 25.515625 \r\nQ 47.21875 21.78125 47.21875 15.09375 \r\nQ 47.21875 7.46875 41.1875 3.015625 \r\nQ 35.15625 -1.421875 24.609375 -1.421875 \r\nQ 20.21875 -1.421875 15.453125 -0.5625 \r\nQ 10.6875 0.296875 5.421875 2 \r\nL 5.421875 11.28125 \r\nQ 10.40625 8.6875 15.234375 7.390625 \r\nQ 20.0625 6.109375 24.8125 6.109375 \r\nQ 31.15625 6.109375 34.5625 8.28125 \r\nQ 37.984375 10.453125 37.984375 14.40625 \r\nQ 37.984375 18.0625 35.515625 20.015625 \r\nQ 33.0625 21.96875 24.703125 23.78125 \r\nL 21.578125 24.515625 \r\nQ 13.234375 26.265625 9.515625 29.90625 \r\nQ 5.8125 33.546875 5.8125 39.890625 \r\nQ 5.8125 47.609375 11.28125 51.796875 \r\nQ 16.75 56 26.8125 56 \r\nQ 31.78125 56 36.171875 55.265625 \r\nQ 40.578125 54.546875 44.28125 53.078125 \r\nz\r\n\" id=\"DejaVuSans-115\"/>\r\n       <path d=\"M 9.421875 75.984375 \r\nL 18.40625 75.984375 \r\nL 18.40625 0 \r\nL 9.421875 0 \r\nz\r\n\" id=\"DejaVuSans-108\"/>\r\n       <path id=\"DejaVuSans-32\"/>\r\n       <path d=\"M 48.78125 52.59375 \r\nL 48.78125 44.1875 \r\nQ 44.96875 46.296875 41.140625 47.34375 \r\nQ 37.3125 48.390625 33.40625 48.390625 \r\nQ 24.65625 48.390625 19.8125 42.84375 \r\nQ 14.984375 37.3125 14.984375 27.296875 \r\nQ 14.984375 17.28125 19.8125 11.734375 \r\nQ 24.65625 6.203125 33.40625 6.203125 \r\nQ 37.3125 6.203125 41.140625 7.25 \r\nQ 44.96875 8.296875 48.78125 10.40625 \r\nL 48.78125 2.09375 \r\nQ 45.015625 0.34375 40.984375 -0.53125 \r\nQ 36.96875 -1.421875 32.421875 -1.421875 \r\nQ 20.0625 -1.421875 12.78125 6.34375 \r\nQ 5.515625 14.109375 5.515625 27.296875 \r\nQ 5.515625 40.671875 12.859375 48.328125 \r\nQ 20.21875 56 33.015625 56 \r\nQ 37.15625 56 41.109375 55.140625 \r\nQ 45.0625 54.296875 48.78125 52.59375 \r\nz\r\n\" id=\"DejaVuSans-99\"/>\r\n       <path d=\"M 30.609375 48.390625 \r\nQ 23.390625 48.390625 19.1875 42.75 \r\nQ 14.984375 37.109375 14.984375 27.296875 \r\nQ 14.984375 17.484375 19.15625 11.84375 \r\nQ 23.34375 6.203125 30.609375 6.203125 \r\nQ 37.796875 6.203125 41.984375 11.859375 \r\nQ 46.1875 17.53125 46.1875 27.296875 \r\nQ 46.1875 37.015625 41.984375 42.703125 \r\nQ 37.796875 48.390625 30.609375 48.390625 \r\nz\r\nM 30.609375 56 \r\nQ 42.328125 56 49.015625 48.375 \r\nQ 55.71875 40.765625 55.71875 27.296875 \r\nQ 55.71875 13.875 49.015625 6.21875 \r\nQ 42.328125 -1.421875 30.609375 -1.421875 \r\nQ 18.84375 -1.421875 12.171875 6.21875 \r\nQ 5.515625 13.875 5.515625 27.296875 \r\nQ 5.515625 40.765625 12.171875 48.375 \r\nQ 18.84375 56 30.609375 56 \r\nz\r\n\" id=\"DejaVuSans-111\"/>\r\n       <path d=\"M 8.5 21.578125 \r\nL 8.5 54.6875 \r\nL 17.484375 54.6875 \r\nL 17.484375 21.921875 \r\nQ 17.484375 14.15625 20.5 10.265625 \r\nQ 23.53125 6.390625 29.59375 6.390625 \r\nQ 36.859375 6.390625 41.078125 11.03125 \r\nQ 45.3125 15.671875 45.3125 23.6875 \r\nL 45.3125 54.6875 \r\nL 54.296875 54.6875 \r\nL 54.296875 0 \r\nL 45.3125 0 \r\nL 45.3125 8.40625 \r\nQ 42.046875 3.421875 37.71875 1 \r\nQ 33.40625 -1.421875 27.6875 -1.421875 \r\nQ 18.265625 -1.421875 13.375 4.4375 \r\nQ 8.5 10.296875 8.5 21.578125 \r\nz\r\nM 31.109375 56 \r\nz\r\n\" id=\"DejaVuSans-117\"/>\r\n       <path d=\"M 54.890625 33.015625 \r\nL 54.890625 0 \r\nL 45.90625 0 \r\nL 45.90625 32.71875 \r\nQ 45.90625 40.484375 42.875 44.328125 \r\nQ 39.84375 48.1875 33.796875 48.1875 \r\nQ 26.515625 48.1875 22.3125 43.546875 \r\nQ 18.109375 38.921875 18.109375 30.90625 \r\nL 18.109375 0 \r\nL 9.078125 0 \r\nL 9.078125 54.6875 \r\nL 18.109375 54.6875 \r\nL 18.109375 46.1875 \r\nQ 21.34375 51.125 25.703125 53.5625 \r\nQ 30.078125 56 35.796875 56 \r\nQ 45.21875 56 50.046875 50.171875 \r\nQ 54.890625 44.34375 54.890625 33.015625 \r\nz\r\n\" id=\"DejaVuSans-110\"/>\r\n      </defs>\r\n      <use xlink:href=\"#DejaVuSans-86\"/>\r\n      <use x=\"60.658203\" xlink:href=\"#DejaVuSans-101\"/>\r\n      <use x=\"122.181641\" xlink:href=\"#DejaVuSans-115\"/>\r\n      <use x=\"174.28125\" xlink:href=\"#DejaVuSans-115\"/>\r\n      <use x=\"226.380859\" xlink:href=\"#DejaVuSans-101\"/>\r\n      <use x=\"287.904297\" xlink:href=\"#DejaVuSans-108\"/>\r\n      <use x=\"315.6875\" xlink:href=\"#DejaVuSans-32\"/>\r\n      <use x=\"347.474609\" xlink:href=\"#DejaVuSans-99\"/>\r\n      <use x=\"402.455078\" xlink:href=\"#DejaVuSans-111\"/>\r\n      <use x=\"463.636719\" xlink:href=\"#DejaVuSans-117\"/>\r\n      <use x=\"527.015625\" xlink:href=\"#DejaVuSans-110\"/>\r\n      <use x=\"590.394531\" xlink:href=\"#DejaVuSans-116\"/>\r\n     </g>\r\n    </g>\r\n   </g>\r\n   <g id=\"line2d_14\">\r\n    <path clip-path=\"url(#pec5426049f)\" d=\"M 77.586852 75.447273 \r\nL 138.459579 194.138182 \r\nL 199.332306 164.465455 \r\nL 260.205034 194.138182 \r\nL 321.077761 164.465455 \r\nL 381.950488 16.101818 \r\n\" style=\"fill:none;stroke:#1f77b4;stroke-linecap:square;stroke-width:1.5;\"/>\r\n   </g>\r\n   <g id=\"patch_3\">\r\n    <path d=\"M 62.36867 203.04 \r\nL 62.36867 7.2 \r\n\" style=\"fill:none;stroke:#000000;stroke-linecap:square;stroke-linejoin:miter;stroke-width:0.8;\"/>\r\n   </g>\r\n   <g id=\"patch_4\">\r\n    <path d=\"M 397.16867 203.04 \r\nL 397.16867 7.2 \r\n\" style=\"fill:none;stroke:#000000;stroke-linecap:square;stroke-linejoin:miter;stroke-width:0.8;\"/>\r\n   </g>\r\n   <g id=\"patch_5\">\r\n    <path d=\"M 62.36867 203.04 \r\nL 397.16867 203.04 \r\n\" style=\"fill:none;stroke:#000000;stroke-linecap:square;stroke-linejoin:miter;stroke-width:0.8;\"/>\r\n   </g>\r\n   <g id=\"patch_6\">\r\n    <path d=\"M 62.36867 7.2 \r\nL 397.16867 7.2 \r\n\" style=\"fill:none;stroke:#000000;stroke-linecap:square;stroke-linejoin:miter;stroke-width:0.8;\"/>\r\n   </g>\r\n  </g>\r\n </g>\r\n <defs>\r\n  <clipPath id=\"pec5426049f\">\r\n   <rect height=\"195.84\" width=\"334.8\" x=\"62.36867\" y=\"7.2\"/>\r\n  </clipPath>\r\n </defs>\r\n</svg>\r\n",
      "image/png": "[encoded data removed]"
     },
     "metadata": {
      "needs_background": "light"
     }
    }
   ],
   "source": [
    "from signal_ocean.historical_tonnage_list import IndexLevel\n",
    "\n",
    "supply_trend = supply_trend_data_frame.groupby(IndexLevel.DATE, sort=True).size()\n",
    "plot = supply_trend.plot()\n",
    "plot.set_ylabel('Vessel count')\n",
    "\n",
    "plot"
   ]
  },
  {
   "cell_type": "markdown",
   "metadata": {},
   "source": [
    "## Example 2 - Generating an Excel sheet\n",
    "The data frame can be easily saved as an Excel file by using Pandas's built-in `to_excel()` function.\n",
    "\n",
    "Before we do that, we need to remove all the time zone information from all the timestamps in the data frame. This is because Excel does not support storing time zone information along with timestamps. However, Signal Ocean's SDK always provides time zone information to make all timestamp-based computation unambiguous."
   ]
  },
  {
   "cell_type": "code",
   "execution_count": 15,
   "metadata": {},
   "outputs": [],
   "source": [
    "from signal_ocean.historical_tonnage_list import Column\n",
    "\n",
    "without_time_zones = (\n",
    "    supply_trend_data_frame\n",
    "        .reset_index()\n",
    "        .astype({ IndexLevel.DATE: 'datetime64[ns]', Column.OPEN_DATE: 'datetime64[ns]', Column.ETA: 'datetime64[ns]', Column.LATEST_AIS: 'datetime64[ns]'})\n",
    "        .set_index([IndexLevel.DATE, IndexLevel.IMO])\n",
    " )"
   ]
  },
  {
   "cell_type": "markdown",
   "metadata": {},
   "source": [
    "Now, we can generate the Excel file:"
   ]
  },
  {
   "cell_type": "code",
   "execution_count": 16,
   "metadata": {},
   "outputs": [],
   "source": [
    "without_time_zones.to_excel('htl.xlsx')"
   ]
  }
 ],
 "metadata": {
  "kernelspec": {
   "display_name": "Python 3",
   "language": "python",
   "name": "python3"
  },
  "language_info": {
   "codemirror_mode": {
    "name": "ipython",
    "version": 3
   },
   "file_extension": ".py",
   "mimetype": "text/x-python",
   "name": "python",
   "nbconvert_exporter": "python",
   "pygments_lexer": "ipython3",
   "version": "3.8.5-final"
  }
 },
 "nbformat": 4,
 "nbformat_minor": 4
}