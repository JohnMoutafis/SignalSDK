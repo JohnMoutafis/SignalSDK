{
 "cells": [
  {
   "cell_type": "markdown",
   "metadata": {},
   "source": [
    "# Freight Pricing API Example"
   ]
  },
  {
   "cell_type": "markdown",
   "metadata": {},
   "source": [
    "## Setup\n",
    "Install the Signal Ocean SDK:\n",
    "```\n",
    "pip install signal-ocean\n",
    "```\n",
    "Set your subscription key acquired here: https://apis.signalocean.com/profile"
   ]
  },
  {
   "cell_type": "code",
   "execution_count": 1,
   "metadata": {},
   "outputs": [],
   "source": [
    "signal_ocean_api_key = 'NotValid' replace with your subscription key"
   ]
  },
  {
   "cell_type": "markdown",
   "metadata": {},
   "source": [
    "## Calculating a freight price\n",
    "The Freight pricing API Retrieves freight prices for moving commodities between two port.\n",
    "The following function is available:\n",
    "\n",
    "1. get_freight_pricing.\n",
    "\n",
    "Args:\n",
    "\n",
    "    vessel_type: The type of vessel to calculate the prices for.\n",
    "    load_port: Port where the commodity is loaded.\n",
    "    discharge_port: Port where the commodity is discharged.\n",
    "    date: Date at which the freight price is requested.\n",
    "    vessel_subclass: The vessel's subclass.\n",
    "\n",
    "Returns:\n",
    "\n",
    "    A collection of freight pricing items, one per vessel class.\n",
    "    \n",
    "### Moving commodity from Fujairah towards Rotterdam\n",
    "The following example will display how to calculate the available freight prices to move a commodity from Fujairah to Rotterdam.\n",
    "We will use also the PortAPI to map ports to the Signal Geo schema."
   ]
  },
  {
   "cell_type": "code",
   "execution_count": 3,
   "metadata": {},
   "outputs": [],
   "source": [
    "from signal_ocean import Connection\n",
    "connection = Connection(api_key=signal_ocean_api_key)"
   ]
  },
  {
   "cell_type": "code",
   "execution_count": 4,
   "metadata": {},
   "outputs": [
    {
     "data": {
      "text/plain": [
       "(VesselType(id=0, name='Empty'),\n",
       " VesselType(id=1, name='Tanker'),\n",
       " VesselType(id=3, name='Dry'),\n",
       " VesselType(id=4, name='Container'),\n",
       " VesselType(id=5, name='Lng'),\n",
       " VesselType(id=6, name='Lpg'),\n",
       " VesselType(id=-2, name='NotSet'),\n",
       " VesselType(id=-1, name='Unknown'))"
      ]
     },
     "execution_count": 4,
     "metadata": {},
     "output_type": "execute_result"
    }
   ],
   "source": [
    "from signal_ocean.freight_pricing import FreightPricingAPI\n",
    "\n",
    "freight_pricing_api = FreightPricingAPI(connection)\n",
    "\n",
    "freight_pricing_api.get_ports()\n",
    "freight_pricing_api.get_vessel_classes()\n",
    "freight_pricing_api.get_vessel_types()"
   ]
  },
  {
   "cell_type": "code",
   "execution_count": 5,
   "metadata": {},
   "outputs": [
    {
     "data": {
      "text/plain": [
       "(VesselType(id=1, name='Tanker'),)"
      ]
     },
     "execution_count": 5,
     "metadata": {},
     "output_type": "execute_result"
    }
   ],
   "source": [
    "from signal_ocean.freight_pricing import FreightPricingAPI, VesselTypeFilter, VesselClassFilter, PortFilter\n",
    "\n",
    "freight_pricing_api.get_ports(PortFilter(name_like='roa'))\n",
    "freight_pricing_api.get_vessel_classes(VesselClassFilter(name_like='max'))\n",
    "freight_pricing_api.get_vessel_types(VesselTypeFilter(name_like='Tank'))"
   ]
  },
  {
   "cell_type": "markdown",
   "metadata": {},
   "source": [
    "### Call the freight pricing API\n",
    "Now that we have the ports we want to query about, we can call the freight pricing API and get out the commodity transfer cost."
   ]
  },
  {
   "cell_type": "code",
   "execution_count": 6,
   "metadata": {},
   "outputs": [],
   "source": [
    "from signal_ocean.freight_pricing import FreightPricingAPI,VesselType,VesselSubclass\n",
    "from datetime import date\n",
    "\n",
    "freight_pricing_api = FreightPricingAPI()\n",
    "\n",
    "vessel_type = freight_pricing_api.get_vessel_types(VesselTypeFilter(name_like='tanker'))[0]\n",
    "load_port = freight_pricing_api.get_ports(PortFilter(name_like='Fujairah'))[0]\n",
    "discharge_port = freight_pricing_api.get_ports(PortFilter(name_like='Rotterdam'))[0]\n",
    "\n",
    "today = date.today()\n",
    "\n",
    "freight_pricing = freight_pricing_api.get_freight_pricing(\n",
    "    vessel_type,\n",
    "    load_port=load_port, \n",
    "    discharge_port=discharge_port,\n",
    "    date=today,\n",
    "    vessel_subclass=VesselSubclass.DIRTY\n",
    ")"
   ]
  },
  {
   "cell_type": "markdown",
   "metadata": {},
   "source": [
    "### Print out the result\n",
    "\n",
    "Now we can hold the result and print it out on a dataframe"
   ]
  },
  {
   "cell_type": "code",
   "execution_count": 7,
   "metadata": {},
   "outputs": [
    {
     "data": {
      "text/html": [
       "<div>\n",
       "<style scoped>\n",
       "    .dataframe tbody tr th:only-of-type {\n",
       "        vertical-align: middle;\n",
       "    }\n",
       "\n",
       "    .dataframe tbody tr th {\n",
       "        vertical-align: top;\n",
       "    }\n",
       "\n",
       "    .dataframe thead th {\n",
       "        text-align: right;\n",
       "    }\n",
       "</style>\n",
       "<table border=\"1\" class=\"dataframe\">\n",
       "  <thead>\n",
       "    <tr style=\"text-align: right;\">\n",
       "      <th></th>\n",
       "      <th>vessel_class</th>\n",
       "      <th>cargo_quantity</th>\n",
       "      <th>freight_rate</th>\n",
       "      <th>freight_cost</th>\n",
       "      <th>canal</th>\n",
       "      <th>total_cost</th>\n",
       "      <th>total_cost_per_ton</th>\n",
       "    </tr>\n",
       "  </thead>\n",
       "  <tbody>\n",
       "    <tr>\n",
       "      <th>0</th>\n",
       "      <td>VLCC</td>\n",
       "      <td>280000.0</td>\n",
       "      <td>7.98664</td>\n",
       "      <td>2236259.2</td>\n",
       "      <td>0.0</td>\n",
       "      <td>2236259.2</td>\n",
       "      <td>7.98664</td>\n",
       "    </tr>\n",
       "    <tr>\n",
       "      <th>1</th>\n",
       "      <td>Suezmax</td>\n",
       "      <td>140000.0</td>\n",
       "      <td>-2.53416</td>\n",
       "      <td>-354782.4</td>\n",
       "      <td>713288.0</td>\n",
       "      <td>358505.6</td>\n",
       "      <td>2.5607542857142858</td>\n",
       "    </tr>\n",
       "    <tr>\n",
       "      <th>2</th>\n",
       "      <td>Aframax</td>\n",
       "      <td>80000.0</td>\n",
       "      <td>13.1875</td>\n",
       "      <td>1055000.0</td>\n",
       "      <td>599610.0</td>\n",
       "      <td>1654610.0</td>\n",
       "      <td>20.682625</td>\n",
       "    </tr>\n",
       "  </tbody>\n",
       "</table>\n",
       "</div>"
      ],
      "text/plain": [
       "  vessel_class cargo_quantity freight_rate freight_cost     canal total_cost  \\\n",
       "0         VLCC       280000.0      7.98664    2236259.2       0.0  2236259.2   \n",
       "1      Suezmax       140000.0     -2.53416    -354782.4  713288.0   358505.6   \n",
       "2      Aframax        80000.0      13.1875    1055000.0  599610.0  1654610.0   \n",
       "\n",
       "   total_cost_per_ton  \n",
       "0             7.98664  \n",
       "1  2.5607542857142858  \n",
       "2           20.682625  "
      ]
     },
     "execution_count": 7,
     "metadata": {},
     "output_type": "execute_result"
    }
   ],
   "source": [
    "import pandas as pd\n",
    "\n",
    "dataf = pd.DataFrame([{\n",
    "    'vessel_class': p.vessel_class,\n",
    "    'cargo_quantity': p.cargo_quantity,\n",
    "    **p.costs.__dict__,\n",
    "    **p.totals.__dict__ } for p in freight_pricing\n",
    "])\n",
    "\n",
    "dataf"
   ]
  },
  {
   "cell_type": "code",
   "execution_count": null,
   "metadata": {},
   "outputs": [],
   "source": []
  }
 ],
 "metadata": {
  "kernelspec": {
   "display_name": "Python 3",
   "language": "python",
   "name": "python3"
  },
  "language_info": {
   "codemirror_mode": {
    "name": "ipython",
    "version": 3
   },
   "file_extension": ".py",
   "mimetype": "text/x-python",
   "name": "python",
   "nbconvert_exporter": "python",
   "pygments_lexer": "ipython3",
   "version": "3.8.5"
  }
 },
 "nbformat": 4,
 "nbformat_minor": 4
}
