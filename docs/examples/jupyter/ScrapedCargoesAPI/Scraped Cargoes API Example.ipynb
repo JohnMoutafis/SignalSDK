{
 "cells": [
  {
   "cell_type": "markdown",
   "id": "7b752389",
   "metadata": {},
   "source": [
    "# Scraped Cargoes API Example\n",
    "\n",
    "## Run this example in [Colab](https://colab.research.google.com/github/SignalOceanSdk/SignalSDK/blob/master/docs/examples/jupyter/ScrapedCargoesAPI/Scraped%20Cargoes%20API%20Example.ipynb)"
   ]
  },
  {
   "cell_type": "markdown",
   "id": "8f837272",
   "metadata": {},
   "source": [
    "Get your personal Signal Ocean API subscription key (acquired [here](https://apis.signalocean.com/profile)) and replace it below:"
   ]
  },
  {
   "cell_type": "code",
   "execution_count": 1,
   "id": "2497822b",
   "metadata": {},
   "outputs": [],
   "source": [
    "signal_ocean_api_key = '' # Replace with your subscription key"
   ]
  },
  {
   "cell_type": "markdown",
   "id": "dd44a9fd",
   "metadata": {},
   "source": [
    "# Scraped Cargoes API\n",
    "\n",
    "The goal of Scraped Cargoes API is to collect and return scraped cargoes by the given filters or cargo IDs. This can be done by using the `ScrapedCargoesAPI` class and calling appropriate methods\n",
    "\n",
    "#### 1. Request by filters\n",
    "\n",
    "Cargoes can be retrieved for specific filters, by calling the `get_cargoes` method with the following arguments:\n",
    "\n",
    "#### Required\n",
    "\n",
    "`vessel_type` The vessel type\n",
    "\n",
    "_Additionally, at least one of the following is required_\n",
    "\n",
    "`received_date_from` Earliest date the cargo received\n",
    "\n",
    "`received_date_to` Latest date the cargo received\n",
    "\n",
    "`updated_date_from` Earliest date the cargo updated\n",
    "\n",
    "`updated_date_to` Latest date the cargo updated\n",
    "\n",
    "> Mixing received and updated dates is not allowed\n",
    "\n",
    "> It's highly recommended to use UTC  dates, since this is the internally used format\n",
    "\n",
    "\n",
    "#### 2. Request by cargo IDs\n",
    "\n",
    "Cargoes can be retrieved for specific cargo IDs, by calling the `get_cargoes_by_cargo_ids` method with the following argument:\n",
    "\n",
    "#### Required\n",
    "\n",
    "`cargo_ids` A list of cargo ids to retrieve"
   ]
  },
  {
   "cell_type": "markdown",
   "id": "3c3d1cb3",
   "metadata": {},
   "source": [
    "### Additional optional arguments\n",
    "\n",
    "Both methods, also accept the following optional arguments:\n",
    "\n",
    "`include_details` If this field is `True` the following columns will be included in the response (otherwise they will be `None`):\n",
    "```\n",
    "parsed_part_id, line_from, line_to, in_line_order, source\n",
    "```\n",
    "\n",
    "`include_scraped_fields` If this field is `True` the following columns will be included in the response (otherwise they will be `None`):\n",
    "```\n",
    "scraped_laycan, scraped_load, scraped_load2, scraped_discharge, scraped_discharge_options, scraped_discharge2, scraped_charterer, scraped_cargo_type, scraped_quantity, scraped_delivery_date, scraped_delivery_from, scraped_delivery_to, \n",
    "scraped_redelivery_from, scraped_redelivery_to\n",
    "```\n",
    "\n",
    "`include_labels` If this field is `True` the following columns will be included in the response (otherwise they will be `None`):\n",
    "```\n",
    "load_name, load_taxonomy, load_name2, load_taxonomy2, discharge_name, discharge_taxonomy, discharge_name2, discharge_taxonomy2, charterer, cargo_type, cargo_type_group, delivery_from_name, delivery_from_taxonomy, delivery_to_name, delivery_to_taxonomy, redelivery_from_name, redelivery_from_taxonomy, redelivery_to_name, redelivery_to_taxonomy, charter_type, cargo_status\n",
    "```\n",
    "\n",
    "`include_content` If this field is `True` the following columns will be included in the response (otherwise they will be `None`):\n",
    "```\n",
    "content\n",
    "```\n",
    "\n",
    "`include_sender` If this field is `True` the following columns will be included in the response (otherwise they will be `None`): \n",
    "```\n",
    "sender\n",
    "```\n",
    "\n",
    "`include_debug_info` If this field is `True` the following columns will be included in the response (otherwise they will be `None`):\n",
    "```\n",
    "is_private\n",
    "```\n",
    "\n",
    "> Default value is `True` for the arguments described above "
   ]
  },
  {
   "cell_type": "markdown",
   "id": "4e694c91",
   "metadata": {},
   "source": [
    "## Installation"
   ]
  },
  {
   "cell_type": "markdown",
   "id": "0f62eae9",
   "metadata": {},
   "source": [
    "To install _Signal Ocean SDK_, simply run the following command"
   ]
  },
  {
   "cell_type": "code",
   "execution_count": 2,
   "id": "0c0bc271",
   "metadata": {},
   "outputs": [],
   "source": [
    "%%capture\n",
    "%pip install signal-ocean"
   ]
  },
  {
   "cell_type": "markdown",
   "id": "8bd5ede1",
   "metadata": {},
   "source": [
    "## Quickstart"
   ]
  },
  {
   "cell_type": "markdown",
   "id": "b69aa608",
   "metadata": {},
   "source": [
    "Import `signal-ocean` and other modules required for this demo"
   ]
  },
  {
   "cell_type": "code",
   "execution_count": 3,
   "id": "ff6a062a",
   "metadata": {},
   "outputs": [],
   "source": [
    "from signal_ocean import Connection\n",
    "from signal_ocean.scraped_cargoes import ScrapedCargoesAPI, ScrapedCargo\n",
    "\n",
    "from datetime import datetime, timedelta\n",
    "import pandas as pd\n",
    "import plotly.graph_objects as go"
   ]
  },
  {
   "cell_type": "markdown",
   "id": "856e9b14",
   "metadata": {},
   "source": [
    "Create a new instance of the `ScrapedCargoesAPI` class"
   ]
  },
  {
   "cell_type": "code",
   "execution_count": 4,
   "id": "c309af83",
   "metadata": {},
   "outputs": [],
   "source": [
    "connection = Connection(signal_ocean_api_key)\n",
    "api = ScrapedCargoesAPI(connection)"
   ]
  },
  {
   "cell_type": "markdown",
   "id": "af6e7fa7",
   "metadata": {},
   "source": [
    "Now you are ready to retrieve your data"
   ]
  },
  {
   "cell_type": "markdown",
   "id": "7f8dce5e",
   "metadata": {},
   "source": [
    "#### Request by date"
   ]
  },
  {
   "cell_type": "markdown",
   "id": "3413ec09",
   "metadata": {},
   "source": [
    "To get all tanker cargoes received the last 4 days, you must declare appropriate `vessel_type` and `received_date_from` variables"
   ]
  },
  {
   "cell_type": "code",
   "execution_count": 5,
   "id": "7c189880",
   "metadata": {},
   "outputs": [],
   "source": [
    "vessel_type = 1  # Tanker\n",
    "received_date_from = datetime.utcnow() - timedelta(days=4)"
   ]
  },
  {
   "cell_type": "markdown",
   "id": "25751fdc",
   "metadata": {},
   "source": [
    "And then call `get_cargoes` method, as below"
   ]
  },
  {
   "cell_type": "code",
   "execution_count": 6,
   "id": "8c6089c8",
   "metadata": {
    "scrolled": false
   },
   "outputs": [
    {
     "data": {
      "text/plain": [
       "ScrapedCargo(cargo_id=23767059, message_id=30798517, parsed_part_id=45792193, line_from=51, line_to=51, in_line_order=None, source='Email', updated_date=datetime.datetime(2022, 11, 17, 14, 43, 3, tzinfo=datetime.timezone.utc), received_date=datetime.datetime(2022, 11, 17, 14, 28, 35, tzinfo=datetime.timezone.utc), is_deleted=False, scraped_laycan='01/dec', laycan_from=datetime.datetime(2022, 12, 1, 0, 0, tzinfo=datetime.timezone.utc), laycan_to=datetime.datetime(2022, 12, 1, 0, 0, tzinfo=datetime.timezone.utc), scraped_load='ras tan', load_geo_id=3778, load_name='Ras Tanura', load_taxonomy_id=2, load_taxonomy='Port', scraped_load2=None, load_geo_id2=None, load_name2=None, load_taxonomy_id2=None, load_taxonomy2=None, scraped_discharge='ec india', scraped_discharge_options=None, discharge_geo_id=24771, discharge_name='East Coast India', discharge_taxonomy_id=4, discharge_taxonomy='Level0', scraped_discharge2=None, discharge_geo_id2=None, discharge_name2=None, discharge_taxonomy_id2=None, discharge_taxonomy2=None, scraped_charterer='bpcl', charterer_id=181, charterer='Bharat Petroleum', scraped_cargo_type=None, cargo_type_id=None, cargo_type=None, cargo_type_group_id=None, cargo_type_group=None, scraped_quantity='260', quantity=260000.0, quantity_buffer=0.0, quantity_from=260000.0, quantity_to=260000.0, size_from=None, size_to=None, scraped_delivery_date=None, delivery_date_from=None, delivery_date_to=None, scraped_delivery_from=None, delivery_from_geo_id=None, delivery_from_name=None, delivery_from_taxonomy_id=None, delivery_from_taxonomy=None, scraped_delivery_to=None, delivery_to_geo_id=None, delivery_to_name=None, delivery_to_taxonomy_id=None, delivery_to_taxonomy=None, scraped_redelivery_from=None, redelivery_from_geo_id=None, redelivery_from_name=None, redelivery_from_taxonomy_id=None, redelivery_from_taxonomy=None, scraped_redelivery_to=None, redelivery_to_geo_id=None, redelivery_to_name=None, redelivery_to_taxonomy_id=None, redelivery_to_taxonomy=None, charter_type_id=0, charter_type='Voyage', cargo_status_id=None, cargo_status=None, content='ag/red sea bpcl requote 260 ras tan/ec india 01/dec', sender='Southport Maritime', is_private=False)"
      ]
     },
     "execution_count": 6,
     "metadata": {},
     "output_type": "execute_result"
    }
   ],
   "source": [
    "scraped_cargoes = api.get_cargoes(\n",
    "    vessel_type = vessel_type,\n",
    "    received_date_from = received_date_from,\n",
    ")\n",
    "\n",
    "next(iter(scraped_cargoes), None)"
   ]
  },
  {
   "cell_type": "markdown",
   "id": "d568c2af",
   "metadata": {},
   "source": [
    "For better visualization, it's convenient to insert data into a DataFrame"
   ]
  },
  {
   "cell_type": "code",
   "execution_count": 7,
   "id": "0d6df5c7",
   "metadata": {
    "scrolled": false
   },
   "outputs": [
    {
     "data": {
      "text/html": [
       "<div>\n",
       "<style scoped>\n",
       "    .dataframe tbody tr th:only-of-type {\n",
       "        vertical-align: middle;\n",
       "    }\n",
       "\n",
       "    .dataframe tbody tr th {\n",
       "        vertical-align: top;\n",
       "    }\n",
       "\n",
       "    .dataframe thead th {\n",
       "        text-align: right;\n",
       "    }\n",
       "</style>\n",
       "<table border=\"1\" class=\"dataframe\">\n",
       "  <thead>\n",
       "    <tr style=\"text-align: right;\">\n",
       "      <th></th>\n",
       "      <th>cargo_id</th>\n",
       "      <th>message_id</th>\n",
       "      <th>parsed_part_id</th>\n",
       "      <th>line_from</th>\n",
       "      <th>line_to</th>\n",
       "      <th>in_line_order</th>\n",
       "      <th>source</th>\n",
       "      <th>updated_date</th>\n",
       "      <th>received_date</th>\n",
       "      <th>is_deleted</th>\n",
       "      <th>...</th>\n",
       "      <th>redelivery_to_name</th>\n",
       "      <th>redelivery_to_taxonomy_id</th>\n",
       "      <th>redelivery_to_taxonomy</th>\n",
       "      <th>charter_type_id</th>\n",
       "      <th>charter_type</th>\n",
       "      <th>cargo_status_id</th>\n",
       "      <th>cargo_status</th>\n",
       "      <th>content</th>\n",
       "      <th>sender</th>\n",
       "      <th>is_private</th>\n",
       "    </tr>\n",
       "  </thead>\n",
       "  <tbody>\n",
       "    <tr>\n",
       "      <th>0</th>\n",
       "      <td>23767059</td>\n",
       "      <td>30798517</td>\n",
       "      <td>45792193</td>\n",
       "      <td>51</td>\n",
       "      <td>51</td>\n",
       "      <td>NaN</td>\n",
       "      <td>Email</td>\n",
       "      <td>2022-11-17 14:43:03+00:00</td>\n",
       "      <td>2022-11-17 14:28:35+00:00</td>\n",
       "      <td>False</td>\n",
       "      <td>...</td>\n",
       "      <td>None</td>\n",
       "      <td>None</td>\n",
       "      <td>None</td>\n",
       "      <td>0</td>\n",
       "      <td>Voyage</td>\n",
       "      <td>NaN</td>\n",
       "      <td>None</td>\n",
       "      <td>ag/red sea bpcl requote 260 ras tan/ec india 0...</td>\n",
       "      <td>Southport Maritime</td>\n",
       "      <td>False</td>\n",
       "    </tr>\n",
       "    <tr>\n",
       "      <th>1</th>\n",
       "      <td>23767060</td>\n",
       "      <td>30798517</td>\n",
       "      <td>45792193</td>\n",
       "      <td>52</td>\n",
       "      <td>52</td>\n",
       "      <td>NaN</td>\n",
       "      <td>Email</td>\n",
       "      <td>2022-11-17 14:43:03+00:00</td>\n",
       "      <td>2022-11-17 14:28:35+00:00</td>\n",
       "      <td>False</td>\n",
       "      <td>...</td>\n",
       "      <td>None</td>\n",
       "      <td>None</td>\n",
       "      <td>None</td>\n",
       "      <td>0</td>\n",
       "      <td>Voyage</td>\n",
       "      <td>NaN</td>\n",
       "      <td>None</td>\n",
       "      <td>americas petrobras 130 brazil/ med 12-13/dec</td>\n",
       "      <td>Southport Maritime</td>\n",
       "      <td>False</td>\n",
       "    </tr>\n",
       "    <tr>\n",
       "      <th>2</th>\n",
       "      <td>23767061</td>\n",
       "      <td>30798517</td>\n",
       "      <td>45792193</td>\n",
       "      <td>50</td>\n",
       "      <td>50</td>\n",
       "      <td>NaN</td>\n",
       "      <td>Email</td>\n",
       "      <td>2022-11-17 14:43:03+00:00</td>\n",
       "      <td>2022-11-17 14:28:35+00:00</td>\n",
       "      <td>False</td>\n",
       "      <td>...</td>\n",
       "      <td>None</td>\n",
       "      <td>None</td>\n",
       "      <td>None</td>\n",
       "      <td>0</td>\n",
       "      <td>Voyage</td>\n",
       "      <td>0.0</td>\n",
       "      <td>OnSubs</td>\n",
       "      <td>ag/red sea bpcl 130 ras tan/wc india 3/dec on ...</td>\n",
       "      <td>Southport Maritime</td>\n",
       "      <td>False</td>\n",
       "    </tr>\n",
       "    <tr>\n",
       "      <th>3</th>\n",
       "      <td>23767062</td>\n",
       "      <td>30798517</td>\n",
       "      <td>45792193</td>\n",
       "      <td>53</td>\n",
       "      <td>53</td>\n",
       "      <td>0.0</td>\n",
       "      <td>Email</td>\n",
       "      <td>2022-11-17 14:43:03+00:00</td>\n",
       "      <td>2022-11-17 14:28:35+00:00</td>\n",
       "      <td>False</td>\n",
       "      <td>...</td>\n",
       "      <td>None</td>\n",
       "      <td>None</td>\n",
       "      <td>None</td>\n",
       "      <td>0</td>\n",
       "      <td>Voyage</td>\n",
       "      <td>NaN</td>\n",
       "      <td>None</td>\n",
       "      <td>americas petrobras 70 fo brazil/ww opts int us...</td>\n",
       "      <td>Southport Maritime</td>\n",
       "      <td>False</td>\n",
       "    </tr>\n",
       "    <tr>\n",
       "      <th>4</th>\n",
       "      <td>23767063</td>\n",
       "      <td>30798517</td>\n",
       "      <td>45792193</td>\n",
       "      <td>53</td>\n",
       "      <td>53</td>\n",
       "      <td>1.0</td>\n",
       "      <td>Email</td>\n",
       "      <td>2022-11-17 14:43:03+00:00</td>\n",
       "      <td>2022-11-17 14:28:35+00:00</td>\n",
       "      <td>False</td>\n",
       "      <td>...</td>\n",
       "      <td>None</td>\n",
       "      <td>None</td>\n",
       "      <td>None</td>\n",
       "      <td>0</td>\n",
       "      <td>Voyage</td>\n",
       "      <td>NaN</td>\n",
       "      <td>None</td>\n",
       "      <td>americas petrobras 70 fo brazil/ww opts int us...</td>\n",
       "      <td>Southport Maritime</td>\n",
       "      <td>False</td>\n",
       "    </tr>\n",
       "  </tbody>\n",
       "</table>\n",
       "<p>5 rows × 79 columns</p>\n",
       "</div>"
      ],
      "text/plain": [
       "   cargo_id  message_id  parsed_part_id  line_from  line_to  in_line_order  \\\n",
       "0  23767059    30798517        45792193         51       51            NaN   \n",
       "1  23767060    30798517        45792193         52       52            NaN   \n",
       "2  23767061    30798517        45792193         50       50            NaN   \n",
       "3  23767062    30798517        45792193         53       53            0.0   \n",
       "4  23767063    30798517        45792193         53       53            1.0   \n",
       "\n",
       "  source              updated_date             received_date  is_deleted  ...  \\\n",
       "0  Email 2022-11-17 14:43:03+00:00 2022-11-17 14:28:35+00:00       False  ...   \n",
       "1  Email 2022-11-17 14:43:03+00:00 2022-11-17 14:28:35+00:00       False  ...   \n",
       "2  Email 2022-11-17 14:43:03+00:00 2022-11-17 14:28:35+00:00       False  ...   \n",
       "3  Email 2022-11-17 14:43:03+00:00 2022-11-17 14:28:35+00:00       False  ...   \n",
       "4  Email 2022-11-17 14:43:03+00:00 2022-11-17 14:28:35+00:00       False  ...   \n",
       "\n",
       "  redelivery_to_name redelivery_to_taxonomy_id redelivery_to_taxonomy  \\\n",
       "0               None                      None                   None   \n",
       "1               None                      None                   None   \n",
       "2               None                      None                   None   \n",
       "3               None                      None                   None   \n",
       "4               None                      None                   None   \n",
       "\n",
       "  charter_type_id  charter_type cargo_status_id  cargo_status  \\\n",
       "0               0        Voyage             NaN          None   \n",
       "1               0        Voyage             NaN          None   \n",
       "2               0        Voyage             0.0        OnSubs   \n",
       "3               0        Voyage             NaN          None   \n",
       "4               0        Voyage             NaN          None   \n",
       "\n",
       "                                             content              sender  \\\n",
       "0  ag/red sea bpcl requote 260 ras tan/ec india 0...  Southport Maritime   \n",
       "1       americas petrobras 130 brazil/ med 12-13/dec  Southport Maritime   \n",
       "2  ag/red sea bpcl 130 ras tan/wc india 3/dec on ...  Southport Maritime   \n",
       "3  americas petrobras 70 fo brazil/ww opts int us...  Southport Maritime   \n",
       "4  americas petrobras 70 fo brazil/ww opts int us...  Southport Maritime   \n",
       "\n",
       "  is_private  \n",
       "0      False  \n",
       "1      False  \n",
       "2      False  \n",
       "3      False  \n",
       "4      False  \n",
       "\n",
       "[5 rows x 79 columns]"
      ]
     },
     "execution_count": 7,
     "metadata": {},
     "output_type": "execute_result"
    }
   ],
   "source": [
    "df = pd.DataFrame(scraped_cargoes)\n",
    "\n",
    "df.head()"
   ]
  },
  {
   "cell_type": "markdown",
   "id": "78ad4070",
   "metadata": {},
   "source": [
    "#### Request by cargo IDs"
   ]
  },
  {
   "cell_type": "markdown",
   "id": "b8d899bb",
   "metadata": {},
   "source": [
    "To get data for specific cargo ID(s), you must call the `get_cargoes_by_cargo_ids` method for a list of desired cargo ID(s)"
   ]
  },
  {
   "cell_type": "markdown",
   "id": "5aafdc45",
   "metadata": {},
   "source": [
    "Date arguments are not available in this method"
   ]
  },
  {
   "cell_type": "code",
   "execution_count": 8,
   "id": "c7947889",
   "metadata": {
    "scrolled": false
   },
   "outputs": [
    {
     "data": {
      "text/html": [
       "<div>\n",
       "<style scoped>\n",
       "    .dataframe tbody tr th:only-of-type {\n",
       "        vertical-align: middle;\n",
       "    }\n",
       "\n",
       "    .dataframe tbody tr th {\n",
       "        vertical-align: top;\n",
       "    }\n",
       "\n",
       "    .dataframe thead th {\n",
       "        text-align: right;\n",
       "    }\n",
       "</style>\n",
       "<table border=\"1\" class=\"dataframe\">\n",
       "  <thead>\n",
       "    <tr style=\"text-align: right;\">\n",
       "      <th></th>\n",
       "      <th>cargo_id</th>\n",
       "      <th>message_id</th>\n",
       "      <th>parsed_part_id</th>\n",
       "      <th>line_from</th>\n",
       "      <th>line_to</th>\n",
       "      <th>in_line_order</th>\n",
       "      <th>source</th>\n",
       "      <th>updated_date</th>\n",
       "      <th>received_date</th>\n",
       "      <th>is_deleted</th>\n",
       "      <th>...</th>\n",
       "      <th>redelivery_to_name</th>\n",
       "      <th>redelivery_to_taxonomy_id</th>\n",
       "      <th>redelivery_to_taxonomy</th>\n",
       "      <th>charter_type_id</th>\n",
       "      <th>charter_type</th>\n",
       "      <th>cargo_status_id</th>\n",
       "      <th>cargo_status</th>\n",
       "      <th>content</th>\n",
       "      <th>sender</th>\n",
       "      <th>is_private</th>\n",
       "    </tr>\n",
       "  </thead>\n",
       "  <tbody>\n",
       "    <tr>\n",
       "      <th>0</th>\n",
       "      <td>23790303</td>\n",
       "      <td>30829741</td>\n",
       "      <td>45820017</td>\n",
       "      <td>494</td>\n",
       "      <td>494</td>\n",
       "      <td>None</td>\n",
       "      <td>Email</td>\n",
       "      <td>2022-11-18 08:39:09+00:00</td>\n",
       "      <td>2022-11-18 00:00:00+00:00</td>\n",
       "      <td>False</td>\n",
       "      <td>...</td>\n",
       "      <td>None</td>\n",
       "      <td>None</td>\n",
       "      <td>None</td>\n",
       "      <td>0</td>\n",
       "      <td>Voyage</td>\n",
       "      <td>None</td>\n",
       "      <td>None</td>\n",
       "      <td>exxon 145 26-27 nov usg/ukcm - firm 2nd cargo ...</td>\n",
       "      <td>SSY</td>\n",
       "      <td>False</td>\n",
       "    </tr>\n",
       "    <tr>\n",
       "      <th>1</th>\n",
       "      <td>23799890</td>\n",
       "      <td>30842695</td>\n",
       "      <td>45831137</td>\n",
       "      <td>110</td>\n",
       "      <td>110</td>\n",
       "      <td>None</td>\n",
       "      <td>Email</td>\n",
       "      <td>2022-11-18 12:30:29+00:00</td>\n",
       "      <td>2022-11-18 00:00:00+00:00</td>\n",
       "      <td>False</td>\n",
       "      <td>...</td>\n",
       "      <td>None</td>\n",
       "      <td>None</td>\n",
       "      <td>None</td>\n",
       "      <td>0</td>\n",
       "      <td>Voyage</td>\n",
       "      <td>None</td>\n",
       "      <td>None</td>\n",
       "      <td>ioc 130 22-23 dec greater plutonio/paradip - q...</td>\n",
       "      <td>SSY</td>\n",
       "      <td>False</td>\n",
       "    </tr>\n",
       "    <tr>\n",
       "      <th>2</th>\n",
       "      <td>23799892</td>\n",
       "      <td>30842695</td>\n",
       "      <td>45831137</td>\n",
       "      <td>100</td>\n",
       "      <td>100</td>\n",
       "      <td>None</td>\n",
       "      <td>Email</td>\n",
       "      <td>2022-11-18 12:30:29+00:00</td>\n",
       "      <td>2022-11-18 00:00:00+00:00</td>\n",
       "      <td>False</td>\n",
       "      <td>...</td>\n",
       "      <td>None</td>\n",
       "      <td>None</td>\n",
       "      <td>None</td>\n",
       "      <td>0</td>\n",
       "      <td>Voyage</td>\n",
       "      <td>None</td>\n",
       "      <td>None</td>\n",
       "      <td>cnr 140 ely dec basrah/west - rumoured</td>\n",
       "      <td>SSY</td>\n",
       "      <td>False</td>\n",
       "    </tr>\n",
       "    <tr>\n",
       "      <th>3</th>\n",
       "      <td>23799896</td>\n",
       "      <td>30842695</td>\n",
       "      <td>45831137</td>\n",
       "      <td>108</td>\n",
       "      <td>108</td>\n",
       "      <td>None</td>\n",
       "      <td>Email</td>\n",
       "      <td>2022-11-18 12:30:29+00:00</td>\n",
       "      <td>2022-11-18 00:00:00+00:00</td>\n",
       "      <td>False</td>\n",
       "      <td>...</td>\n",
       "      <td>None</td>\n",
       "      <td>None</td>\n",
       "      <td>None</td>\n",
       "      <td>0</td>\n",
       "      <td>Voyage</td>\n",
       "      <td>None</td>\n",
       "      <td>None</td>\n",
       "      <td>repsol 130 11-12 dec wafr/ukcm - firm</td>\n",
       "      <td>SSY</td>\n",
       "      <td>False</td>\n",
       "    </tr>\n",
       "    <tr>\n",
       "      <th>4</th>\n",
       "      <td>23780101</td>\n",
       "      <td>30814158</td>\n",
       "      <td>45808575</td>\n",
       "      <td>69</td>\n",
       "      <td>69</td>\n",
       "      <td>None</td>\n",
       "      <td>Email</td>\n",
       "      <td>2022-11-18 03:47:05+00:00</td>\n",
       "      <td>2022-11-18 03:44:48+00:00</td>\n",
       "      <td>False</td>\n",
       "      <td>...</td>\n",
       "      <td>None</td>\n",
       "      <td>None</td>\n",
       "      <td>None</td>\n",
       "      <td>0</td>\n",
       "      <td>Voyage</td>\n",
       "      <td>None</td>\n",
       "      <td>None</td>\n",
       "      <td>houston ref 70-145 ecmex/usg 27-29/11</td>\n",
       "      <td>SSY</td>\n",
       "      <td>False</td>\n",
       "    </tr>\n",
       "  </tbody>\n",
       "</table>\n",
       "<p>5 rows × 79 columns</p>\n",
       "</div>"
      ],
      "text/plain": [
       "   cargo_id  message_id  parsed_part_id  line_from  line_to in_line_order  \\\n",
       "0  23790303    30829741        45820017        494      494          None   \n",
       "1  23799890    30842695        45831137        110      110          None   \n",
       "2  23799892    30842695        45831137        100      100          None   \n",
       "3  23799896    30842695        45831137        108      108          None   \n",
       "4  23780101    30814158        45808575         69       69          None   \n",
       "\n",
       "  source              updated_date             received_date  is_deleted  ...  \\\n",
       "0  Email 2022-11-18 08:39:09+00:00 2022-11-18 00:00:00+00:00       False  ...   \n",
       "1  Email 2022-11-18 12:30:29+00:00 2022-11-18 00:00:00+00:00       False  ...   \n",
       "2  Email 2022-11-18 12:30:29+00:00 2022-11-18 00:00:00+00:00       False  ...   \n",
       "3  Email 2022-11-18 12:30:29+00:00 2022-11-18 00:00:00+00:00       False  ...   \n",
       "4  Email 2022-11-18 03:47:05+00:00 2022-11-18 03:44:48+00:00       False  ...   \n",
       "\n",
       "  redelivery_to_name redelivery_to_taxonomy_id redelivery_to_taxonomy  \\\n",
       "0               None                      None                   None   \n",
       "1               None                      None                   None   \n",
       "2               None                      None                   None   \n",
       "3               None                      None                   None   \n",
       "4               None                      None                   None   \n",
       "\n",
       "  charter_type_id  charter_type cargo_status_id  cargo_status  \\\n",
       "0               0        Voyage            None          None   \n",
       "1               0        Voyage            None          None   \n",
       "2               0        Voyage            None          None   \n",
       "3               0        Voyage            None          None   \n",
       "4               0        Voyage            None          None   \n",
       "\n",
       "                                             content sender is_private  \n",
       "0  exxon 145 26-27 nov usg/ukcm - firm 2nd cargo ...    SSY      False  \n",
       "1  ioc 130 22-23 dec greater plutonio/paradip - q...    SSY      False  \n",
       "2             cnr 140 ely dec basrah/west - rumoured    SSY      False  \n",
       "3              repsol 130 11-12 dec wafr/ukcm - firm    SSY      False  \n",
       "4              houston ref 70-145 ecmex/usg 27-29/11    SSY      False  \n",
       "\n",
       "[5 rows x 79 columns]"
      ]
     },
     "execution_count": 8,
     "metadata": {},
     "output_type": "execute_result"
    }
   ],
   "source": [
    "cargo_ids = [23780101, 23799896, 23799890, 23799892, 23790303]    # Or add a list of your desired cargo IDs\n",
    "\n",
    "scraped_cargoes_by_ids = api.get_cargoes_by_cargo_ids(\n",
    "    cargo_ids=cargo_ids,\n",
    ")\n",
    "\n",
    "df_by_ids = pd.DataFrame(scraped_cargoes_by_ids)\n",
    "df_by_ids.head()"
   ]
  },
  {
   "cell_type": "markdown",
   "id": "870c3021",
   "metadata": {},
   "source": [
    "#### Usage of optional arguments"
   ]
  },
  {
   "cell_type": "markdown",
   "id": "c43706a0",
   "metadata": {},
   "source": [
    "By default, all fields are returned. In many cases, it is convenient to select specific columns. For example, if we want to compare scraped and mapped fields"
   ]
  },
  {
   "cell_type": "code",
   "execution_count": 9,
   "id": "edeea873",
   "metadata": {},
   "outputs": [
    {
     "data": {
      "text/html": [
       "<div>\n",
       "<style scoped>\n",
       "    .dataframe tbody tr th:only-of-type {\n",
       "        vertical-align: middle;\n",
       "    }\n",
       "\n",
       "    .dataframe tbody tr th {\n",
       "        vertical-align: top;\n",
       "    }\n",
       "\n",
       "    .dataframe thead th {\n",
       "        text-align: right;\n",
       "    }\n",
       "</style>\n",
       "<table border=\"1\" class=\"dataframe\">\n",
       "  <thead>\n",
       "    <tr style=\"text-align: right;\">\n",
       "      <th></th>\n",
       "      <th>scraped_charterer</th>\n",
       "      <th>charterer</th>\n",
       "      <th>scraped_quantity</th>\n",
       "      <th>quantity</th>\n",
       "      <th>scraped_load</th>\n",
       "      <th>load_name</th>\n",
       "    </tr>\n",
       "  </thead>\n",
       "  <tbody>\n",
       "    <tr>\n",
       "      <th>0</th>\n",
       "      <td>bpcl</td>\n",
       "      <td>Bharat Petroleum</td>\n",
       "      <td>260</td>\n",
       "      <td>260000.0</td>\n",
       "      <td>ras tan</td>\n",
       "      <td>Ras Tanura</td>\n",
       "    </tr>\n",
       "    <tr>\n",
       "      <th>1</th>\n",
       "      <td>americas petrobras</td>\n",
       "      <td>Petrobras</td>\n",
       "      <td>130</td>\n",
       "      <td>130000.0</td>\n",
       "      <td>brazil</td>\n",
       "      <td>Brazil</td>\n",
       "    </tr>\n",
       "    <tr>\n",
       "      <th>2</th>\n",
       "      <td>bpcl</td>\n",
       "      <td>Bharat Petroleum</td>\n",
       "      <td>130</td>\n",
       "      <td>130000.0</td>\n",
       "      <td>ras tan</td>\n",
       "      <td>Ras Tanura</td>\n",
       "    </tr>\n",
       "    <tr>\n",
       "      <th>3</th>\n",
       "      <td>americas petrobras</td>\n",
       "      <td>Petrobras</td>\n",
       "      <td>70</td>\n",
       "      <td>70000.0</td>\n",
       "      <td>brazil</td>\n",
       "      <td>Brazil</td>\n",
       "    </tr>\n",
       "    <tr>\n",
       "      <th>4</th>\n",
       "      <td>americas petrobras</td>\n",
       "      <td>Petrobras</td>\n",
       "      <td>70</td>\n",
       "      <td>70000.0</td>\n",
       "      <td>brazil</td>\n",
       "      <td>Brazil</td>\n",
       "    </tr>\n",
       "  </tbody>\n",
       "</table>\n",
       "</div>"
      ],
      "text/plain": [
       "    scraped_charterer         charterer scraped_quantity  quantity  \\\n",
       "0                bpcl  Bharat Petroleum              260  260000.0   \n",
       "1  americas petrobras         Petrobras              130  130000.0   \n",
       "2                bpcl  Bharat Petroleum              130  130000.0   \n",
       "3  americas petrobras         Petrobras               70   70000.0   \n",
       "4  americas petrobras         Petrobras               70   70000.0   \n",
       "\n",
       "  scraped_load   load_name  \n",
       "0      ras tan  Ras Tanura  \n",
       "1       brazil      Brazil  \n",
       "2      ras tan  Ras Tanura  \n",
       "3       brazil      Brazil  \n",
       "4       brazil      Brazil  "
      ]
     },
     "execution_count": 9,
     "metadata": {},
     "output_type": "execute_result"
    }
   ],
   "source": [
    "scraped_mapped_columns = [\n",
    "    'scraped_charterer',\n",
    "    'charterer',\n",
    "    'scraped_quantity',\n",
    "    'quantity',\n",
    "    'scraped_load',\n",
    "    'load_name',\n",
    "]\n",
    "\n",
    "scraped_mapped_df = pd.DataFrame(scraped_cargoes, columns=scraped_mapped_columns)\n",
    "\n",
    "scraped_mapped_df.head()"
   ]
  },
  {
   "cell_type": "markdown",
   "id": "3fa44d5d",
   "metadata": {},
   "source": [
    "## Examples"
   ]
  },
  {
   "cell_type": "markdown",
   "id": "86378f5f",
   "metadata": {},
   "source": [
    "Let's start by fetching all tanker cargoes received the last 2 weeks"
   ]
  },
  {
   "cell_type": "code",
   "execution_count": 10,
   "id": "54269d8b",
   "metadata": {
    "scrolled": true
   },
   "outputs": [],
   "source": [
    "example_vessel_type = 1  # Tanker\n",
    "example_date_from = datetime.utcnow() - timedelta(days=14)\n",
    "\n",
    "example_scraped_cargoes = api.get_cargoes(\n",
    "   vessel_type=example_vessel_type,\n",
    "   received_date_from=example_date_from,\n",
    ")"
   ]
  },
  {
   "cell_type": "markdown",
   "id": "da6393c7",
   "metadata": {},
   "source": [
    "#### Exclude deleted scraped cargoes"
   ]
  },
  {
   "cell_type": "markdown",
   "id": "06de6b3e",
   "metadata": {},
   "source": [
    "The `is_deleted` property of a scraped cargo indicates whether it is valid or not. If it is set to `True`, the corresponding `cargo_id` has been replaced by a new one.\n",
    "\n",
    "For the sake of completeness, we will exclude deleted scraped cargoes in the following examples"
   ]
  },
  {
   "cell_type": "code",
   "execution_count": 11,
   "id": "b43829f5",
   "metadata": {},
   "outputs": [
    {
     "data": {
      "text/plain": [
       "ScrapedCargo(cargo_id=23442847, message_id=30272566, parsed_part_id=45336243, line_from=61, line_to=61, in_line_order=1, source='Email', updated_date=datetime.datetime(2022, 11, 7, 14, 28, 27, tzinfo=datetime.timezone.utc), received_date=datetime.datetime(2022, 11, 7, 14, 26, 35, tzinfo=datetime.timezone.utc), is_deleted=False, scraped_laycan='2-3/dec', laycan_from=datetime.datetime(2022, 12, 2, 0, 0, tzinfo=datetime.timezone.utc), laycan_to=datetime.datetime(2022, 12, 3, 0, 0, tzinfo=datetime.timezone.utc), scraped_load='usan', load_geo_id=4375, load_name='FPSO Usan', load_taxonomy_id=1, load_taxonomy='GeoAsset', scraped_load2=None, load_geo_id2=None, load_name2=None, load_taxonomy_id2=None, load_taxonomy2=None, scraped_discharge='vadinar', scraped_discharge_options=None, discharge_geo_id=3532, discharge_name='Vadinar', discharge_taxonomy_id=2, discharge_taxonomy='Port', scraped_discharge2=None, discharge_geo_id2=None, discharge_name2=None, discharge_taxonomy_id2=None, discharge_taxonomy2=None, scraped_charterer='ioc', charterer_id=718, charterer='Indian Oil', scraped_cargo_type=None, cargo_type_id=None, cargo_type=None, cargo_type_group_id=None, cargo_type_group=None, scraped_quantity='260', quantity=260000.0, quantity_buffer=0.0, quantity_from=260000.0, quantity_to=260000.0, size_from=None, size_to=None, scraped_delivery_date=None, delivery_date_from=None, delivery_date_to=None, scraped_delivery_from=None, delivery_from_geo_id=None, delivery_from_name=None, delivery_from_taxonomy_id=None, delivery_from_taxonomy=None, scraped_delivery_to=None, delivery_to_geo_id=None, delivery_to_name=None, delivery_to_taxonomy_id=None, delivery_to_taxonomy=None, scraped_redelivery_from=None, redelivery_from_geo_id=None, redelivery_from_name=None, redelivery_from_taxonomy_id=None, redelivery_from_taxonomy=None, scraped_redelivery_to=None, redelivery_to_geo_id=None, redelivery_to_name=None, redelivery_to_taxonomy_id=None, redelivery_to_taxonomy=None, charter_type_id=0, charter_type='Voyage', cargo_status_id=None, cargo_status=None, content='west africa ioc 260 usan/agbami/vadinar 2-3/dec', sender='Southport Maritime', is_private=False)"
      ]
     },
     "execution_count": 11,
     "metadata": {},
     "output_type": "execute_result"
    }
   ],
   "source": [
    "example_scraped_cargoes = [cargo for cargo in example_scraped_cargoes if not cargo.is_deleted]\n",
    "\n",
    "next(iter(example_scraped_cargoes), None)"
   ]
  },
  {
   "cell_type": "markdown",
   "id": "882d67c4",
   "metadata": {},
   "source": [
    "Now, we are ready to insert our data into a dataframe and keep only specific fields"
   ]
  },
  {
   "cell_type": "code",
   "execution_count": 12,
   "id": "a1719a9f",
   "metadata": {},
   "outputs": [
    {
     "data": {
      "text/html": [
       "<div>\n",
       "<style scoped>\n",
       "    .dataframe tbody tr th:only-of-type {\n",
       "        vertical-align: middle;\n",
       "    }\n",
       "\n",
       "    .dataframe tbody tr th {\n",
       "        vertical-align: top;\n",
       "    }\n",
       "\n",
       "    .dataframe thead th {\n",
       "        text-align: right;\n",
       "    }\n",
       "</style>\n",
       "<table border=\"1\" class=\"dataframe\">\n",
       "  <thead>\n",
       "    <tr style=\"text-align: right;\">\n",
       "      <th></th>\n",
       "      <th>charterer</th>\n",
       "      <th>laycan_from</th>\n",
       "      <th>load_name</th>\n",
       "      <th>quantity</th>\n",
       "      <th>is_deleted</th>\n",
       "    </tr>\n",
       "  </thead>\n",
       "  <tbody>\n",
       "    <tr>\n",
       "      <th>0</th>\n",
       "      <td>Indian Oil</td>\n",
       "      <td>2022-12-02 00:00:00+00:00</td>\n",
       "      <td>FPSO Usan</td>\n",
       "      <td>260000.0</td>\n",
       "      <td>False</td>\n",
       "    </tr>\n",
       "    <tr>\n",
       "      <th>1</th>\n",
       "      <td>ENI</td>\n",
       "      <td>2022-11-23 00:00:00+00:00</td>\n",
       "      <td>CPC (Novorossiysk)</td>\n",
       "      <td>80000.0</td>\n",
       "      <td>False</td>\n",
       "    </tr>\n",
       "    <tr>\n",
       "      <th>2</th>\n",
       "      <td>Indian Oil</td>\n",
       "      <td>2022-12-02 00:00:00+00:00</td>\n",
       "      <td>FPSO Usan</td>\n",
       "      <td>260000.0</td>\n",
       "      <td>False</td>\n",
       "    </tr>\n",
       "    <tr>\n",
       "      <th>3</th>\n",
       "      <td>PKN Orlen</td>\n",
       "      <td>2022-11-19 00:00:00+00:00</td>\n",
       "      <td>Sidi Kerir</td>\n",
       "      <td>100000.0</td>\n",
       "      <td>False</td>\n",
       "    </tr>\n",
       "    <tr>\n",
       "      <th>4</th>\n",
       "      <td>Indian Oil</td>\n",
       "      <td>2022-11-26 00:00:00+00:00</td>\n",
       "      <td>Mina Al-Ahmadi Refinery</td>\n",
       "      <td>270000.0</td>\n",
       "      <td>False</td>\n",
       "    </tr>\n",
       "  </tbody>\n",
       "</table>\n",
       "</div>"
      ],
      "text/plain": [
       "    charterer               laycan_from                load_name  quantity  \\\n",
       "0  Indian Oil 2022-12-02 00:00:00+00:00                FPSO Usan  260000.0   \n",
       "1         ENI 2022-11-23 00:00:00+00:00       CPC (Novorossiysk)   80000.0   \n",
       "2  Indian Oil 2022-12-02 00:00:00+00:00                FPSO Usan  260000.0   \n",
       "3   PKN Orlen 2022-11-19 00:00:00+00:00               Sidi Kerir  100000.0   \n",
       "4  Indian Oil 2022-11-26 00:00:00+00:00  Mina Al-Ahmadi Refinery  270000.0   \n",
       "\n",
       "   is_deleted  \n",
       "0       False  \n",
       "1       False  \n",
       "2       False  \n",
       "3       False  \n",
       "4       False  "
      ]
     },
     "execution_count": 12,
     "metadata": {},
     "output_type": "execute_result"
    }
   ],
   "source": [
    "example_columns = [\n",
    "    'charterer',   \n",
    "    'laycan_from',\n",
    "    'load_name',\n",
    "    'quantity',\n",
    "    'is_deleted',\n",
    "]\n",
    "\n",
    "data = pd.DataFrame(example_scraped_cargoes, columns=example_columns)\n",
    "\n",
    "data.head()"
   ]
  },
  {
   "cell_type": "markdown",
   "id": "79adee65",
   "metadata": {},
   "source": [
    "#### Top 10 Charterers"
   ]
  },
  {
   "cell_type": "markdown",
   "id": "92f736dd",
   "metadata": {},
   "source": [
    "In this example, we will find the top 10 Charterers, based on the number of distinct available cargoes"
   ]
  },
  {
   "cell_type": "code",
   "execution_count": 13,
   "id": "fc9e6a1f",
   "metadata": {},
   "outputs": [
    {
     "data": {
      "text/html": [
       "<div>\n",
       "<style scoped>\n",
       "    .dataframe tbody tr th:only-of-type {\n",
       "        vertical-align: middle;\n",
       "    }\n",
       "\n",
       "    .dataframe tbody tr th {\n",
       "        vertical-align: top;\n",
       "    }\n",
       "\n",
       "    .dataframe thead th {\n",
       "        text-align: right;\n",
       "    }\n",
       "</style>\n",
       "<table border=\"1\" class=\"dataframe\">\n",
       "  <thead>\n",
       "    <tr style=\"text-align: right;\">\n",
       "      <th></th>\n",
       "      <th>Charterer</th>\n",
       "      <th>CargoCount</th>\n",
       "    </tr>\n",
       "  </thead>\n",
       "  <tbody>\n",
       "    <tr>\n",
       "      <th>0</th>\n",
       "      <td>Total</td>\n",
       "      <td>13</td>\n",
       "    </tr>\n",
       "    <tr>\n",
       "      <th>1</th>\n",
       "      <td>ExxonMobil</td>\n",
       "      <td>12</td>\n",
       "    </tr>\n",
       "    <tr>\n",
       "      <th>2</th>\n",
       "      <td>BP</td>\n",
       "      <td>12</td>\n",
       "    </tr>\n",
       "    <tr>\n",
       "      <th>3</th>\n",
       "      <td>Shell</td>\n",
       "      <td>11</td>\n",
       "    </tr>\n",
       "    <tr>\n",
       "      <th>4</th>\n",
       "      <td>Vitol</td>\n",
       "      <td>11</td>\n",
       "    </tr>\n",
       "    <tr>\n",
       "      <th>5</th>\n",
       "      <td>Trafigura</td>\n",
       "      <td>11</td>\n",
       "    </tr>\n",
       "    <tr>\n",
       "      <th>6</th>\n",
       "      <td>ENI</td>\n",
       "      <td>10</td>\n",
       "    </tr>\n",
       "    <tr>\n",
       "      <th>7</th>\n",
       "      <td>Repsol</td>\n",
       "      <td>10</td>\n",
       "    </tr>\n",
       "    <tr>\n",
       "      <th>8</th>\n",
       "      <td>ST Shipping &amp; Transport</td>\n",
       "      <td>9</td>\n",
       "    </tr>\n",
       "    <tr>\n",
       "      <th>9</th>\n",
       "      <td>Indian Oil</td>\n",
       "      <td>8</td>\n",
       "    </tr>\n",
       "  </tbody>\n",
       "</table>\n",
       "</div>"
      ],
      "text/plain": [
       "                 Charterer  CargoCount\n",
       "0                    Total          13\n",
       "1               ExxonMobil          12\n",
       "2                       BP          12\n",
       "3                    Shell          11\n",
       "4                    Vitol          11\n",
       "5                Trafigura          11\n",
       "6                      ENI          10\n",
       "7                   Repsol          10\n",
       "8  ST Shipping & Transport           9\n",
       "9               Indian Oil           8"
      ]
     },
     "execution_count": 13,
     "metadata": {},
     "output_type": "execute_result"
    }
   ],
   "source": [
    "top_chrtr_ser = data[['charterer', 'laycan_from']].drop_duplicates().charterer.value_counts().head(10)\n",
    "\n",
    "top_chrtr_df = top_chrtr_ser.to_frame(name='CargoCount').reset_index().rename(columns={'index': 'Charterer'})\n",
    "\n",
    "top_chrtr_df"
   ]
  },
  {
   "cell_type": "markdown",
   "id": "38000d58",
   "metadata": {},
   "source": [
    "And display results in a bar plot"
   ]
  },
  {
   "cell_type": "code",
   "execution_count": 14,
   "id": "5c176262",
   "metadata": {},
   "outputs": [
    {
     "data": {
      "image/png": "[encoded data removed]"
     },
     "metadata": {},
     "output_type": "display_data"
    }
   ],
   "source": [
    "top_chrtr_fig = go.Figure()\n",
    "\n",
    "bar = go.Bar(\n",
    "    x=top_chrtr_df.Charterer.tolist(),\n",
    "    y=top_chrtr_df.CargoCount.tolist(),\n",
    ")\n",
    "\n",
    "top_chrtr_fig.add_trace(bar)\n",
    "top_chrtr_fig.update_xaxes(title_text=\"Charterer\")\n",
    "top_chrtr_fig.update_yaxes(title_text=\"Number of available Cargoes\")\n",
    "top_chrtr_fig.show()"
   ]
  },
  {
   "cell_type": "markdown",
   "id": "a78da91b",
   "metadata": {
    "scrolled": false
   },
   "source": [
    "#### Total quantity to load in specific areas per day the next week"
   ]
  },
  {
   "cell_type": "code",
   "execution_count": 15,
   "id": "afaf5722",
   "metadata": {},
   "outputs": [
    {
     "data": {
      "text/plain": [
       "['US Gulf', 'Brazil', 'Continent', 'Africa Atlantic Coast', 'Basrah']"
      ]
     },
     "execution_count": 15,
     "metadata": {},
     "output_type": "execute_result"
    }
   ],
   "source": [
    "this_week_days = pd.date_range(start=datetime.utcnow().date(), freq='D', periods=7, tz='UTC')\n",
    "areas = data[data.load_name.notna()].load_name.value_counts().head().index.tolist()\n",
    "\n",
    "areas"
   ]
  },
  {
   "cell_type": "markdown",
   "id": "2b2a4640",
   "metadata": {},
   "source": [
    "Create the pivot table"
   ]
  },
  {
   "cell_type": "code",
   "execution_count": 16,
   "id": "640be898",
   "metadata": {},
   "outputs": [
    {
     "data": {
      "text/html": [
       "<div>\n",
       "<style scoped>\n",
       "    .dataframe tbody tr th:only-of-type {\n",
       "        vertical-align: middle;\n",
       "    }\n",
       "\n",
       "    .dataframe tbody tr th {\n",
       "        vertical-align: top;\n",
       "    }\n",
       "\n",
       "    .dataframe thead th {\n",
       "        text-align: right;\n",
       "    }\n",
       "</style>\n",
       "<table border=\"1\" class=\"dataframe\">\n",
       "  <thead>\n",
       "    <tr style=\"text-align: right;\">\n",
       "      <th>load_name</th>\n",
       "      <th>laycan_from</th>\n",
       "      <th>Africa Atlantic Coast</th>\n",
       "      <th>Basrah</th>\n",
       "      <th>Brazil</th>\n",
       "      <th>Continent</th>\n",
       "      <th>US Gulf</th>\n",
       "    </tr>\n",
       "  </thead>\n",
       "  <tbody>\n",
       "    <tr>\n",
       "      <th>0</th>\n",
       "      <td>2022-11-21 00:00:00+00:00</td>\n",
       "      <td>0</td>\n",
       "      <td>0</td>\n",
       "      <td>0</td>\n",
       "      <td>60000</td>\n",
       "      <td>0</td>\n",
       "    </tr>\n",
       "    <tr>\n",
       "      <th>1</th>\n",
       "      <td>2022-11-22 00:00:00+00:00</td>\n",
       "      <td>0</td>\n",
       "      <td>0</td>\n",
       "      <td>0</td>\n",
       "      <td>164000</td>\n",
       "      <td>2820000</td>\n",
       "    </tr>\n",
       "    <tr>\n",
       "      <th>2</th>\n",
       "      <td>2022-11-23 00:00:00+00:00</td>\n",
       "      <td>130000</td>\n",
       "      <td>0</td>\n",
       "      <td>0</td>\n",
       "      <td>37000</td>\n",
       "      <td>0</td>\n",
       "    </tr>\n",
       "    <tr>\n",
       "      <th>3</th>\n",
       "      <td>2022-11-24 00:00:00+00:00</td>\n",
       "      <td>0</td>\n",
       "      <td>0</td>\n",
       "      <td>0</td>\n",
       "      <td>67000</td>\n",
       "      <td>0</td>\n",
       "    </tr>\n",
       "    <tr>\n",
       "      <th>4</th>\n",
       "      <td>2022-11-25 00:00:00+00:00</td>\n",
       "      <td>130000</td>\n",
       "      <td>265000</td>\n",
       "      <td>240000</td>\n",
       "      <td>37000</td>\n",
       "      <td>0</td>\n",
       "    </tr>\n",
       "    <tr>\n",
       "      <th>5</th>\n",
       "      <td>2022-11-26 00:00:00+00:00</td>\n",
       "      <td>0</td>\n",
       "      <td>0</td>\n",
       "      <td>0</td>\n",
       "      <td>37000</td>\n",
       "      <td>940000</td>\n",
       "    </tr>\n",
       "    <tr>\n",
       "      <th>6</th>\n",
       "      <td>2022-11-27 00:00:00+00:00</td>\n",
       "      <td>130000</td>\n",
       "      <td>0</td>\n",
       "      <td>0</td>\n",
       "      <td>0</td>\n",
       "      <td>2310000</td>\n",
       "    </tr>\n",
       "  </tbody>\n",
       "</table>\n",
       "</div>"
      ],
      "text/plain": [
       "load_name               laycan_from  Africa Atlantic Coast  Basrah  Brazil  \\\n",
       "0         2022-11-21 00:00:00+00:00                      0       0       0   \n",
       "1         2022-11-22 00:00:00+00:00                      0       0       0   \n",
       "2         2022-11-23 00:00:00+00:00                 130000       0       0   \n",
       "3         2022-11-24 00:00:00+00:00                      0       0       0   \n",
       "4         2022-11-25 00:00:00+00:00                 130000  265000  240000   \n",
       "5         2022-11-26 00:00:00+00:00                      0       0       0   \n",
       "6         2022-11-27 00:00:00+00:00                 130000       0       0   \n",
       "\n",
       "load_name  Continent  US Gulf  \n",
       "0              60000        0  \n",
       "1             164000  2820000  \n",
       "2              37000        0  \n",
       "3              67000        0  \n",
       "4              37000        0  \n",
       "5              37000   940000  \n",
       "6                  0  2310000  "
      ]
     },
     "execution_count": 16,
     "metadata": {},
     "output_type": "execute_result"
    }
   ],
   "source": [
    "areas_mask = data.load_name.isin(areas) & data.laycan_from.isin(this_week_days)\n",
    "\n",
    "df_areas = data[areas_mask]\n",
    "\n",
    "df_pivot = pd.pivot_table(\n",
    "    df_areas,\n",
    "    columns='load_name',\n",
    "    index='laycan_from',\n",
    "    values='quantity',\n",
    "    aggfunc=pd.Series.sum,\n",
    "    fill_value=0,\n",
    ").reindex(index=this_week_days, fill_value=0).reset_index().rename(columns={'index': 'laycan_from'})\n",
    "\n",
    "df_pivot"
   ]
  },
  {
   "cell_type": "markdown",
   "id": "bd6d325c",
   "metadata": {},
   "source": [
    "And display the results as timeseries"
   ]
  },
  {
   "cell_type": "code",
   "execution_count": 17,
   "id": "a6e120ca",
   "metadata": {
    "scrolled": false
   },
   "outputs": [
    {
     "data": {
      "image/png": "[encoded data removed]"
     },
     "metadata": {},
     "output_type": "display_data"
    }
   ],
   "source": [
    "def area_button(area):\n",
    "    args = [\n",
    "        {'visible': [i == areas.index(area) for i in range(len(areas))]},\n",
    "        {\n",
    "            'title': f'Total Quantity to load in {area} per day',\n",
    "            'showlegend': True\n",
    "        },\n",
    "    ]\n",
    "    \n",
    "    return dict(\n",
    "        label=area,\n",
    "        method='update',\n",
    "        args=args,\n",
    "    )\n",
    "\n",
    "title = 'Total Quantity to load per day'\n",
    "today = datetime.combine(datetime.utcnow().date(), datetime.min.time())\n",
    "\n",
    "areas_fig = go.Figure()\n",
    "\n",
    "area_buttons = []\n",
    "\n",
    "for area in areas:\n",
    "    if area not in df_pivot.columns:\n",
    "        continue\n",
    "    area_scatter_plot = go.Scatter(    \n",
    "        x = df_pivot.laycan_from,\n",
    "        y = df_pivot[area],\n",
    "        name=area,\n",
    "        mode='lines',\n",
    "    )\n",
    "\n",
    "    areas_fig.add_trace(area_scatter_plot)\n",
    "    \n",
    "    area_buttons.append(area_button(area))\n",
    "    \n",
    "buttons = list([\n",
    "    dict(\n",
    "        label='All',\n",
    "        method='update',\n",
    "        args=[    \n",
    "            {'visible': [True for _ in range(len(areas))]},\n",
    "            {\n",
    "                'title': title,\n",
    "                'showlegend': True\n",
    "            }\n",
    "        ],\n",
    "    ),\n",
    "    *area_buttons,\n",
    "])\n",
    "\n",
    "areas_fig.update_layout(\n",
    "    title=title,\n",
    "    updatemenus=[go.layout.Updatemenu(\n",
    "        active=0,\n",
    "        buttons=buttons,\n",
    "    )],\n",
    "    xaxis_range=[today - timedelta(hours=4), today + timedelta(hours=24*6 + 4)],\n",
    ")\n",
    "\n",
    "areas_fig.show()"
   ]
  },
  {
   "cell_type": "markdown",
   "id": "b4834756",
   "metadata": {},
   "source": [
    "#### Export data to csv"
   ]
  },
  {
   "cell_type": "code",
   "execution_count": 18,
   "id": "f0957236",
   "metadata": {},
   "outputs": [],
   "source": [
    "output_path = '' # Change output_path with your path\n",
    "filename = 'last_two_weeks_cargoes.csv'\n",
    "if not data.empty:\n",
    "    data.to_csv(output_path+filename, index=False)"
   ]
  }
 ],
 "metadata": {
  "kernelspec": {
   "display_name": "Python 3 (ipykernel)",
   "language": "python",
   "name": "python3"
  },
  "language_info": {
   "codemirror_mode": {
    "name": "ipython",
    "version": 3
   },
   "file_extension": ".py",
   "mimetype": "text/x-python",
   "name": "python",
   "nbconvert_exporter": "python",
   "pygments_lexer": "ipython3",
   "version": "3.8.10"
  }
 },
 "nbformat": 4,
 "nbformat_minor": 5
}
