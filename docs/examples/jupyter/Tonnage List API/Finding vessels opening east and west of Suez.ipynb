{
  "cells": [
    {
      "cell_type": "markdown",
      "metadata": {
        "id": "uijauGGxAxuN"
      },
      "source": [
        "# Finding vessels opening east and west of Suez\n",
        "\n",
        "## Run this example in [Colab](https://colab.research.google.com/github/SignalOceanSdk/SignalSDK/blob/master/docs/examples/jupyter/Tonnage%20List%20API/Finding%20vessels%20opening%20east%20and%20west%20of%20Suez.ipynb). "
      ]
    },
    {
      "cell_type": "markdown",
      "metadata": {
        "id": "z-L-roy9AxuQ"
      },
      "source": [
        "## Setup\n",
        "Install the Signal Ocean SDK:"
      ]
    },
    {
      "cell_type": "code",
      "execution_count": null,
      "metadata": {
        "colab": {
          "base_uri": "https://localhost:8080/"
        },
        "id": "xUpFFQkUAxuR",
        "outputId": "87e8b065-43c2-482c-ab53-f3883e6bc588"
      },
      "outputs": [],
      "source": [
        "!pip install signal-ocean"
      ]
    },
    {
      "cell_type": "markdown",
      "metadata": {
        "id": "2pWV3e4QAxuT"
      },
      "source": [
        "Set your subscription key, acquired here: [https://apis.signalocean.com/profile](https://apis.signalocean.com/profile)"
      ]
    },
    {
      "cell_type": "code",
      "execution_count": 12,
      "metadata": {
        "id": "CsiHkFBRAxuU"
      },
      "outputs": [],
      "source": [
        "signal_ocean_api_key = '' #replace with your subscription key"
      ]
    },
    {
      "cell_type": "markdown",
      "metadata": {
        "id": "zmIIZ6N3AxuU"
      },
      "source": [
        "## Example 1: Number of spot and relet vessels over time\n",
        "In this example, a supply trend is generated in order to calculate the number of spot and relet vessels which open in specific areas. A time period of 5 days is explored here but this number can go up until the date you subscribed to The Signal Ocean Platform.\n",
        "\n",
        "First, get a historical tonnage list containing the relevant data:"
      ]
    },
    {
      "cell_type": "code",
      "execution_count": 13,
      "metadata": {
        "id": "NctQHMSWAxuV"
      },
      "outputs": [],
      "source": [
        "from datetime import date, timedelta\n",
        "from signal_ocean import Connection\n",
        "from signal_ocean.tonnage_list import (\n",
        "    TonnageListAPI,\n",
        "    VesselClassFilter,\n",
        "    PortFilter,\n",
        "    VesselFilter,\n",
        "    MarketDeployment,\n",
        "    VesselSubclass,\n",
        "    DateRange\n",
        ")\n",
        "\n",
        "connection = Connection(signal_ocean_api_key)\n",
        "api = TonnageListAPI(connection)\n",
        "\n",
        "vessel_class_filter = VesselClassFilter(name_like=\"aframax\")\n",
        "vessel_class = api.get_vessel_classes(vessel_class_filter)[0]\n",
        "\n",
        "port_filter = PortFilter(name_like=\"ceyhan\")\n",
        "port = api.get_ports(port_filter)[0]\n",
        "\n",
        "laycan_end_in_days = 512\n",
        "start_date = date.today() - timedelta(days=5)\n",
        "end_date = date.today()\n",
        "\n",
        "historical_tonnage_list = api.get_historical_tonnage_list(\n",
        "    port,\n",
        "    vessel_class,\n",
        "    laycan_end_in_days,\n",
        "    DateRange(start_date, end_date))\n"
      ]
    },
    {
      "cell_type": "markdown",
      "metadata": {
        "id": "OyoyX1eVAxuX"
      },
      "source": [
        "Then, convert the data to a data frame, filter, and plot:"
      ]
    },
    {
      "cell_type": "code",
      "execution_count": 14,
      "metadata": {
        "colab": {
          "base_uri": "https://localhost:8080/",
          "height": 547
        },
        "id": "VPRszAitAxuY",
        "outputId": "02875fc4-f1dd-40d9-fe71-d95fac08d639"
      },
      "outputs": [
        {
          "data": {
            "text/plain": [
              "<matplotlib.legend.Legend at 0x21c5b2aea60>"
            ]
          },
          "execution_count": 14,
          "metadata": {},
          "output_type": "execute_result"
        },
        {
          "data": {
            "image/png": "[encoded data removed]",
            "text/plain": [
              "<Figure size 864x648 with 1 Axes>"
            ]
          },
          "metadata": {
            "needs_background": "light"
          },
          "output_type": "display_data"
        }
      ],
      "source": [
        "from signal_ocean.tonnage_list import IndexLevel\n",
        "\n",
        "data_frame = historical_tonnage_list.to_data_frame()\n",
        "open_wide_area_west_of_suez = [\n",
        "\"Caribs\",\n",
        "\"UK Continent\",\n",
        "\"Mediterranean\",\n",
        "\"West Africa\",\n",
        "\"Black Sea / Sea Of Marmara\",\n",
        "\"North Sea\",\n",
        "\"Baltic\",\n",
        "\"South East Africa\",\n",
        "\"East Coast Canada\",\n",
        "\"US Atlantic Coast\",\n",
        "\"West Coast Central America\",\n",
        "\"US Gulf & Mainland\",\n",
        "\"East Coast Mexico\",\n",
        "\"East Coast Central America\"\n",
        "]\n",
        "\n",
        "open_wide_area_east_of_suez = [\n",
        "    \"South East Asia\",\n",
        "\"Arabian Gulf\",\n",
        "\"Red Sea\",\n",
        "\"Korea / Japan\",\n",
        "\"India / Pakistan\",\n",
        "\"South East Africa\",\n",
        "\"China / Taiwan\",\n",
        "\"West Coast Central America\",\n",
        "\"Australia / New Zealand\",\n",
        "\"Russian Pacific\",\n",
        "\"West Coast South America\",\n",
        "\"West Coast North America\",\n",
        "\"Pacific Islands\"\n",
        "]\n",
        "west_areas_filter = data_frame.open_wide_area_point_in_time.isin(\n",
        "    open_wide_area_west_of_suez\n",
        ")\n",
        "\n",
        "\n",
        "east_areas_filter = data_frame.open_wide_area_point_in_time.isin(\n",
        "    open_wide_area_east_of_suez\n",
        ")\n",
        "\n",
        "west_vessels = (\n",
        "    data_frame[west_areas_filter]\n",
        "    .groupby(IndexLevel.DATE, sort=True)\n",
        "    .size()\n",
        ")\n",
        "\n",
        "east_vessels = (\n",
        "    data_frame[east_areas_filter]\n",
        "    .groupby(IndexLevel.DATE, sort=True)\n",
        "    .size()\n",
        ")\n",
        "\n",
        "ax = west_vessels.plot(\n",
        "    markerfacecolor=\"blue\",\n",
        "    color=\"skyblue\",\n",
        "    linewidth=4,\n",
        "    label=\"West\",\n",
        "    figsize=(12, 9),\n",
        ")\n",
        "ax2 = east_vessels.plot(\n",
        "    ax=ax,\n",
        "    markerfacecolor=\"darkgreen\",\n",
        "    color=\"lime\",\n",
        "    linewidth=4,\n",
        "    label=\"East\",\n",
        "    figsize=(12, 9),\n",
        ")\n",
        "\n",
        "ax2.set_ylabel(\"Vessel count\")\n",
        "ax2.legend()\n"
      ]
    }
  ],
  "metadata": {
    "colab": {
      "name": "Finding vessels opening east and west.ipynb",
      "provenance": []
    },
    "interpreter": {
      "hash": "21e11546e10a66add335db6a1349eaa88bf2ec3fc97130662d43c4cc611e17ce"
    },
    "kernelspec": {
      "display_name": "Python 3.9.7 64-bit ('env': venv)",
      "name": "python3"
    },
    "language_info": {
      "codemirror_mode": {
        "name": "ipython",
        "version": 3
      },
      "file_extension": ".py",
      "mimetype": "text/x-python",
      "name": "python",
      "nbconvert_exporter": "python",
      "pygments_lexer": "ipython3",
      "version": "3.9.7"
    }
  },
  "nbformat": 4,
  "nbformat_minor": 0
}
