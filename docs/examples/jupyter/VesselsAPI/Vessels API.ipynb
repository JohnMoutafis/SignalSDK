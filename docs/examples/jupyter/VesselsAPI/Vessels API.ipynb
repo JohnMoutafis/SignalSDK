{
 "cells": [
  {
   "cell_type": "markdown",
   "metadata": {},
   "source": [
    "# Vessels API Example"
   ]
  },
  {
   "cell_type": "markdown",
   "metadata": {},
   "source": [
    "## Setup\n",
    "Install the Signal Ocean SDK:\n",
    "```\n",
    "pip install signal-ocean\n",
    "```\n",
    "And put your API key in a `SIGNAL_OCEAN_API_KEY` environment variable."
   ]
  },
  {
   "cell_type": "code",
   "execution_count": 1,
   "metadata": {},
   "outputs": [],
   "source": [
    "from signal_ocean.vessels import VesselsAPI\n",
    "import pandas as pd\n",
    "import seaborn as sns\n",
    "from datetime import datetime"
   ]
  },
  {
   "cell_type": "markdown",
   "metadata": {},
   "source": [
    "## Call the vessels API\n",
    "The Vessels API retrieves vessel information."
   ]
  },
  {
   "cell_type": "code",
   "execution_count": 2,
   "metadata": {},
   "outputs": [],
   "source": [
    "api = VesselsAPI()"
   ]
  },
  {
   "cell_type": "markdown",
   "metadata": {},
   "source": [
    "#### Get vessel classes"
   ]
  },
  {
   "cell_type": "code",
   "execution_count": 3,
   "metadata": {},
   "outputs": [],
   "source": [
    "vessel_classes = api.get_vessel_classes()"
   ]
  },
  {
   "cell_type": "code",
   "execution_count": 4,
   "metadata": {},
   "outputs": [
    {
     "data": {
      "text/plain": [
       "VesselClass(id=86, vessel_type_id=1, from_size=82000, to_size=124999, name='Aframax', vessel_type='Tanker', defining_size='DeadWeight', size='kt')"
      ]
     },
     "execution_count": 4,
     "metadata": {},
     "output_type": "execute_result"
    }
   ],
   "source": [
    "aframax_vesel_class = next(vc for vc in vessel_classes if vc.name=='Aframax')\n",
    "aframax_vesel_class"
   ]
  },
  {
   "cell_type": "code",
   "execution_count": 5,
   "metadata": {},
   "outputs": [
    {
     "data": {
      "text/html": [
       "<div>\n",
       "<style scoped>\n",
       "    .dataframe tbody tr th:only-of-type {\n",
       "        vertical-align: middle;\n",
       "    }\n",
       "\n",
       "    .dataframe tbody tr th {\n",
       "        vertical-align: top;\n",
       "    }\n",
       "\n",
       "    .dataframe thead th {\n",
       "        text-align: right;\n",
       "    }\n",
       "</style>\n",
       "<table border=\"1\" class=\"dataframe\">\n",
       "  <thead>\n",
       "    <tr style=\"text-align: right;\">\n",
       "      <th></th>\n",
       "      <th>id</th>\n",
       "      <th>vessel_type_id</th>\n",
       "      <th>from_size</th>\n",
       "      <th>to_size</th>\n",
       "      <th>name</th>\n",
       "      <th>vessel_type</th>\n",
       "      <th>defining_size</th>\n",
       "      <th>size</th>\n",
       "    </tr>\n",
       "  </thead>\n",
       "  <tbody>\n",
       "    <tr>\n",
       "      <th>25</th>\n",
       "      <td>90</td>\n",
       "      <td>1</td>\n",
       "      <td>0</td>\n",
       "      <td>24999</td>\n",
       "      <td>Small</td>\n",
       "      <td>Tanker</td>\n",
       "      <td>DeadWeight</td>\n",
       "      <td>kt</td>\n",
       "    </tr>\n",
       "    <tr>\n",
       "      <th>26</th>\n",
       "      <td>91</td>\n",
       "      <td>5</td>\n",
       "      <td>0</td>\n",
       "      <td>550000</td>\n",
       "      <td>LNG</td>\n",
       "      <td>LNG</td>\n",
       "      <td>CubicSize</td>\n",
       "      <td>cbm</td>\n",
       "    </tr>\n",
       "    <tr>\n",
       "      <th>27</th>\n",
       "      <td>92</td>\n",
       "      <td>3</td>\n",
       "      <td>0</td>\n",
       "      <td>19999</td>\n",
       "      <td>Small</td>\n",
       "      <td>Dry</td>\n",
       "      <td>DeadWeight</td>\n",
       "      <td>kt</td>\n",
       "    </tr>\n",
       "    <tr>\n",
       "      <th>28</th>\n",
       "      <td>94</td>\n",
       "      <td>1</td>\n",
       "      <td>350000</td>\n",
       "      <td>550000</td>\n",
       "      <td>ULCC</td>\n",
       "      <td>Tanker</td>\n",
       "      <td>DeadWeight</td>\n",
       "      <td>kt</td>\n",
       "    </tr>\n",
       "    <tr>\n",
       "      <th>29</th>\n",
       "      <td>95</td>\n",
       "      <td>4</td>\n",
       "      <td>0</td>\n",
       "      <td>1000</td>\n",
       "      <td>Small</td>\n",
       "      <td>Container</td>\n",
       "      <td>TEU</td>\n",
       "      <td>TEU</td>\n",
       "    </tr>\n",
       "  </tbody>\n",
       "</table>\n",
       "</div>"
      ],
      "text/plain": [
       "    id  vessel_type_id  from_size  to_size   name vessel_type defining_size  \\\n",
       "25  90               1          0    24999  Small      Tanker    DeadWeight   \n",
       "26  91               5          0   550000    LNG         LNG     CubicSize   \n",
       "27  92               3          0    19999  Small         Dry    DeadWeight   \n",
       "28  94               1     350000   550000   ULCC      Tanker    DeadWeight   \n",
       "29  95               4          0     1000  Small   Container           TEU   \n",
       "\n",
       "   size  \n",
       "25   kt  \n",
       "26  cbm  \n",
       "27   kt  \n",
       "28   kt  \n",
       "29  TEU  "
      ]
     },
     "execution_count": 5,
     "metadata": {},
     "output_type": "execute_result"
    }
   ],
   "source": [
    "pd.DataFrame([vc.__dict__ for vc in vessel_classes]).tail(5)"
   ]
  },
  {
   "cell_type": "markdown",
   "metadata": {},
   "source": [
    "#### Get vessel types"
   ]
  },
  {
   "cell_type": "code",
   "execution_count": 6,
   "metadata": {},
   "outputs": [],
   "source": [
    "vessel_types = api.get_vessel_types()"
   ]
  },
  {
   "cell_type": "code",
   "execution_count": 7,
   "metadata": {},
   "outputs": [
    {
     "data": {
      "text/plain": [
       "VesselType(id=3, name='Dry')"
      ]
     },
     "execution_count": 7,
     "metadata": {},
     "output_type": "execute_result"
    }
   ],
   "source": [
    "tanker_vessel_type = next(vt for vt in vessel_types if vt.name=='Dry')\n",
    "tanker_vessel_type"
   ]
  },
  {
   "cell_type": "code",
   "execution_count": 8,
   "metadata": {},
   "outputs": [
    {
     "data": {
      "text/html": [
       "<div>\n",
       "<style scoped>\n",
       "    .dataframe tbody tr th:only-of-type {\n",
       "        vertical-align: middle;\n",
       "    }\n",
       "\n",
       "    .dataframe tbody tr th {\n",
       "        vertical-align: top;\n",
       "    }\n",
       "\n",
       "    .dataframe thead th {\n",
       "        text-align: right;\n",
       "    }\n",
       "</style>\n",
       "<table border=\"1\" class=\"dataframe\">\n",
       "  <thead>\n",
       "    <tr style=\"text-align: right;\">\n",
       "      <th></th>\n",
       "      <th>id</th>\n",
       "      <th>name</th>\n",
       "    </tr>\n",
       "  </thead>\n",
       "  <tbody>\n",
       "    <tr>\n",
       "      <th>4</th>\n",
       "      <td>4</td>\n",
       "      <td>Container</td>\n",
       "    </tr>\n",
       "    <tr>\n",
       "      <th>5</th>\n",
       "      <td>1</td>\n",
       "      <td>Tanker</td>\n",
       "    </tr>\n",
       "    <tr>\n",
       "      <th>6</th>\n",
       "      <td>5</td>\n",
       "      <td>LNG</td>\n",
       "    </tr>\n",
       "  </tbody>\n",
       "</table>\n",
       "</div>"
      ],
      "text/plain": [
       "   id       name\n",
       "4   4  Container\n",
       "5   1     Tanker\n",
       "6   5        LNG"
      ]
     },
     "execution_count": 8,
     "metadata": {},
     "output_type": "execute_result"
    }
   ],
   "source": [
    "pd.DataFrame([vc.__dict__ for vc in vessel_types]).tail(3)"
   ]
  },
  {
   "cell_type": "markdown",
   "metadata": {},
   "source": [
    "#### Get details for a specific vessel"
   ]
  },
  {
   "cell_type": "code",
   "execution_count": 9,
   "metadata": {},
   "outputs": [
    {
     "name": "stdout",
     "output_type": "stream",
     "text": [
      "9436006: Signal Cheetah (Aframax / Signal Maritime)\n"
     ]
    }
   ],
   "source": [
    "imo = 9436006\n",
    "v = api.get_vessel(imo)\n",
    "print(f'{v.imo}: {v.vessel_name} ({v.vessel_class} / {v.commercial_operator})')"
   ]
  },
  {
   "cell_type": "markdown",
   "metadata": {},
   "source": [
    "#### Get details for all vessels"
   ]
  },
  {
   "cell_type": "code",
   "execution_count": 10,
   "metadata": {},
   "outputs": [],
   "source": [
    "vessels = api.get_vessels()"
   ]
  },
  {
   "cell_type": "code",
   "execution_count": 11,
   "metadata": {},
   "outputs": [
    {
     "data": {
      "text/plain": [
       "42298"
      ]
     },
     "execution_count": 11,
     "metadata": {},
     "output_type": "execute_result"
    }
   ],
   "source": [
    "len(vessels)"
   ]
  },
  {
   "cell_type": "code",
   "execution_count": 12,
   "metadata": {},
   "outputs": [],
   "source": [
    "df = pd.DataFrame([x.__dict__ for x in vessels])"
   ]
  },
  {
   "cell_type": "code",
   "execution_count": 13,
   "metadata": {},
   "outputs": [
    {
     "data": {
      "text/plain": [
       "Index(['imo', 'vessel_type_id', 'built_for_trade_id', 'trade_id',\n",
       "       'vessel_class_id', 'commercial_operator_id', 'deadweight',\n",
       "       'breadth_extreme', 'gross_rated_tonnage', 'reduced_gross_tonnage',\n",
       "       'net_rated_tonnage', 'draught', 'length_overall', 'moulded_depth',\n",
       "       'year_built', 'geared', 'clean_dirty_willing',\n",
       "       'main_engine_manufacturer_id', 'classification_register_id',\n",
       "       'updated_date', 'vessel_name', 'call_sign', 'vessel_type',\n",
       "       'built_for_trade', 'trade', 'vessel_class', 'flag_code', 'flag',\n",
       "       'commercial_operator', 'built_country_code', 'built_country_name',\n",
       "       'scrapped_date', 'shipyard_built_id', 'shipyard_built_name',\n",
       "       'ice_class', 'cranes_ton_capacity', 'teu', 'te_u14', 'reefers',\n",
       "       'panama_canal_net_tonnage', 'cubic_size', 'scrubbers_date',\n",
       "       'summer_tpc', 'lightship_tonnes', 'main_engine_manufacturer',\n",
       "       'delivery_date', 'classification_register', 'number_of_holds',\n",
       "       'grain_capacity', 'bale_capacity'],\n",
       "      dtype='object')"
      ]
     },
     "execution_count": 13,
     "metadata": {},
     "output_type": "execute_result"
    }
   ],
   "source": [
    "df.columns"
   ]
  },
  {
   "cell_type": "code",
   "execution_count": 14,
   "metadata": {},
   "outputs": [
    {
     "data": {
      "text/html": [
       "<div>\n",
       "<style scoped>\n",
       "    .dataframe tbody tr th:only-of-type {\n",
       "        vertical-align: middle;\n",
       "    }\n",
       "\n",
       "    .dataframe tbody tr th {\n",
       "        vertical-align: top;\n",
       "    }\n",
       "\n",
       "    .dataframe thead th {\n",
       "        text-align: right;\n",
       "    }\n",
       "</style>\n",
       "<table border=\"1\" class=\"dataframe\">\n",
       "  <thead>\n",
       "    <tr style=\"text-align: right;\">\n",
       "      <th></th>\n",
       "      <th>imo</th>\n",
       "      <th>vessel_name</th>\n",
       "      <th>vessel_class</th>\n",
       "    </tr>\n",
       "  </thead>\n",
       "  <tbody>\n",
       "    <tr>\n",
       "      <th>32247</th>\n",
       "      <td>9594731</td>\n",
       "      <td>Brazos</td>\n",
       "      <td>Suezmax</td>\n",
       "    </tr>\n",
       "    <tr>\n",
       "      <th>704</th>\n",
       "      <td>7019438</td>\n",
       "      <td>Sonar Kamol</td>\n",
       "      <td>Small</td>\n",
       "    </tr>\n",
       "    <tr>\n",
       "      <th>21855</th>\n",
       "      <td>9330537</td>\n",
       "      <td>Irenes Rythm</td>\n",
       "      <td>Feedermax</td>\n",
       "    </tr>\n",
       "    <tr>\n",
       "      <th>2213</th>\n",
       "      <td>7519024</td>\n",
       "      <td>Corina</td>\n",
       "      <td>Handysize</td>\n",
       "    </tr>\n",
       "    <tr>\n",
       "      <th>31397</th>\n",
       "      <td>9573816</td>\n",
       "      <td>Tramontana</td>\n",
       "      <td>Handysize</td>\n",
       "    </tr>\n",
       "    <tr>\n",
       "      <th>35402</th>\n",
       "      <td>9679892</td>\n",
       "      <td>Cma Cgm Congo</td>\n",
       "      <td>Post Panamax</td>\n",
       "    </tr>\n",
       "    <tr>\n",
       "      <th>14747</th>\n",
       "      <td>9161285</td>\n",
       "      <td>SKS Trinity</td>\n",
       "      <td>Aframax</td>\n",
       "    </tr>\n",
       "    <tr>\n",
       "      <th>11601</th>\n",
       "      <td>9062960</td>\n",
       "      <td>Msc Kerry</td>\n",
       "      <td>Panamax</td>\n",
       "    </tr>\n",
       "    <tr>\n",
       "      <th>26266</th>\n",
       "      <td>9431185</td>\n",
       "      <td>Bellevue</td>\n",
       "      <td>Post Panamax Dry</td>\n",
       "    </tr>\n",
       "    <tr>\n",
       "      <th>29651</th>\n",
       "      <td>9514872</td>\n",
       "      <td>Yuyo Maru</td>\n",
       "      <td>Small</td>\n",
       "    </tr>\n",
       "  </tbody>\n",
       "</table>\n",
       "</div>"
      ],
      "text/plain": [
       "           imo    vessel_name      vessel_class\n",
       "32247  9594731         Brazos           Suezmax\n",
       "704    7019438    Sonar Kamol             Small\n",
       "21855  9330537   Irenes Rythm         Feedermax\n",
       "2213   7519024         Corina         Handysize\n",
       "31397  9573816     Tramontana         Handysize\n",
       "35402  9679892  Cma Cgm Congo      Post Panamax\n",
       "14747  9161285    SKS Trinity           Aframax\n",
       "11601  9062960      Msc Kerry           Panamax\n",
       "26266  9431185       Bellevue  Post Panamax Dry\n",
       "29651  9514872      Yuyo Maru             Small"
      ]
     },
     "execution_count": 14,
     "metadata": {},
     "output_type": "execute_result"
    }
   ],
   "source": [
    "df[['imo', 'vessel_name', 'vessel_class']].sample(10)"
   ]
  },
  {
   "cell_type": "markdown",
   "metadata": {},
   "source": [
    "#### Find fleet size per vessel class"
   ]
  },
  {
   "cell_type": "code",
   "execution_count": 15,
   "metadata": {},
   "outputs": [
    {
     "data": {
      "text/html": [
       "<div>\n",
       "<style scoped>\n",
       "    .dataframe tbody tr th:only-of-type {\n",
       "        vertical-align: middle;\n",
       "    }\n",
       "\n",
       "    .dataframe tbody tr th {\n",
       "        vertical-align: top;\n",
       "    }\n",
       "\n",
       "    .dataframe thead th {\n",
       "        text-align: right;\n",
       "    }\n",
       "</style>\n",
       "<table border=\"1\" class=\"dataframe\">\n",
       "  <thead>\n",
       "    <tr style=\"text-align: right;\">\n",
       "      <th></th>\n",
       "      <th>vessel_count</th>\n",
       "    </tr>\n",
       "  </thead>\n",
       "  <tbody>\n",
       "    <tr>\n",
       "      <th>Small</th>\n",
       "      <td>11141</td>\n",
       "    </tr>\n",
       "    <tr>\n",
       "      <th>Supramax</th>\n",
       "      <td>3132</td>\n",
       "    </tr>\n",
       "    <tr>\n",
       "      <th>Handysize</th>\n",
       "      <td>2952</td>\n",
       "    </tr>\n",
       "    <tr>\n",
       "      <th>Panamax Dry</th>\n",
       "      <td>2366</td>\n",
       "    </tr>\n",
       "    <tr>\n",
       "      <th>MR2</th>\n",
       "      <td>1700</td>\n",
       "    </tr>\n",
       "    <tr>\n",
       "      <th>Capesize</th>\n",
       "      <td>1450</td>\n",
       "    </tr>\n",
       "    <tr>\n",
       "      <th>Feeder</th>\n",
       "      <td>1334</td>\n",
       "    </tr>\n",
       "    <tr>\n",
       "      <th>Aframax</th>\n",
       "      <td>1127</td>\n",
       "    </tr>\n",
       "    <tr>\n",
       "      <th>Post Panamax</th>\n",
       "      <td>951</td>\n",
       "    </tr>\n",
       "    <tr>\n",
       "      <th>VLCC</th>\n",
       "      <td>919</td>\n",
       "    </tr>\n",
       "  </tbody>\n",
       "</table>\n",
       "</div>"
      ],
      "text/plain": [
       "              vessel_count\n",
       "Small                11141\n",
       "Supramax              3132\n",
       "Handysize             2952\n",
       "Panamax Dry           2366\n",
       "MR2                   1700\n",
       "Capesize              1450\n",
       "Feeder                1334\n",
       "Aframax               1127\n",
       "Post Panamax           951\n",
       "VLCC                   919"
      ]
     },
     "execution_count": 15,
     "metadata": {},
     "output_type": "execute_result"
    }
   ],
   "source": [
    "df[pd.isnull(df['scrapped_date'])]['vessel_class'].value_counts().to_frame('vessel_count').head(10)"
   ]
  },
  {
   "cell_type": "markdown",
   "metadata": {},
   "source": [
    "#### Find the commercial operators that currently operate the largest Aframax fleets"
   ]
  },
  {
   "cell_type": "code",
   "execution_count": 16,
   "metadata": {},
   "outputs": [
    {
     "data": {
      "text/plain": [
       "Teekay Corp                      55\n",
       "Scorpio Commercial Management    42\n",
       "Sovcomflot                       39\n",
       "AET                              36\n",
       "Minerva Marine                   33\n",
       "Cardiff Marine                   31\n",
       "Thenamaris                       29\n",
       "Signal Maritime                  28\n",
       "Vitol                            28\n",
       "Shell                            25\n",
       "Name: commercial_operator, dtype: int64"
      ]
     },
     "execution_count": 16,
     "metadata": {},
     "output_type": "execute_result"
    }
   ],
   "source": [
    "data = df[(df['vessel_class']=='Aframax')&(pd.isnull(df['scrapped_date']))]\n",
    "data['commercial_operator'].value_counts().head(10)"
   ]
  },
  {
   "cell_type": "markdown",
   "metadata": {},
   "source": [
    "#### Visualize fleet age by vessel class for VLCC, Suezmax and Aframax Tankers"
   ]
  },
  {
   "cell_type": "code",
   "execution_count": 17,
   "metadata": {},
   "outputs": [
    {
     "data": {
      "image/png": "[encoded data removed]",
      "text/plain": [
       "<Figure size 432x288 with 1 Axes>"
      ]
     },
     "metadata": {
      "needs_background": "light"
     },
     "output_type": "display_data"
    }
   ],
   "source": [
    "df['vessel_age'] = df.apply(lambda r: datetime.now().year - r['year_built'], axis=1)\n",
    "data = df[(pd.isnull(df['scrapped_date']))&(df['vessel_class'].isin(['VLCC', 'Suezmax', 'Aframax']))]\n",
    "sns.kdeplot(data=data, x='vessel_age', hue='vessel_class', multiple=\"stack\");"
   ]
  },
  {
   "cell_type": "markdown",
   "metadata": {},
   "source": [
    "#### Visualize pairwise relationships for deadweight, length_overall and breadth_extreme for VLCC, Suezmax and Aframax Tankers"
   ]
  },
  {
   "cell_type": "code",
   "execution_count": 18,
   "metadata": {},
   "outputs": [
    {
     "data": {
      "image/png": "[encoded data removed]",
      "text/plain": [
       "<Figure size 621.5x540 with 12 Axes>"
      ]
     },
     "metadata": {
      "needs_background": "light"
     },
     "output_type": "display_data"
    }
   ],
   "source": [
    "data = df[(pd.isnull(df['scrapped_date']))&(df['vessel_class'].isin(['VLCC', 'Suezmax', 'Aframax']))]\n",
    "sns.pairplot(data, kind='kde', hue='vessel_class', vars=['deadweight', 'length_overall', 'breadth_extreme']);"
   ]
  },
  {
   "cell_type": "markdown",
   "metadata": {},
   "source": [
    "#### Get all vessels the name of which contains the term signal"
   ]
  },
  {
   "cell_type": "code",
   "execution_count": 19,
   "metadata": {},
   "outputs": [],
   "source": [
    "vessels = api.get_vessels('signal')"
   ]
  },
  {
   "cell_type": "code",
   "execution_count": 20,
   "metadata": {},
   "outputs": [
    {
     "data": {
      "text/plain": [
       "3"
      ]
     },
     "execution_count": 20,
     "metadata": {},
     "output_type": "execute_result"
    }
   ],
   "source": [
    "len(vessels)"
   ]
  },
  {
   "cell_type": "code",
   "execution_count": 21,
   "metadata": {},
   "outputs": [],
   "source": [
    "df = pd.DataFrame([x.__dict__ for x in vessels])"
   ]
  },
  {
   "cell_type": "code",
   "execution_count": 22,
   "metadata": {},
   "outputs": [
    {
     "data": {
      "text/html": [
       "<div>\n",
       "<style scoped>\n",
       "    .dataframe tbody tr th:only-of-type {\n",
       "        vertical-align: middle;\n",
       "    }\n",
       "\n",
       "    .dataframe tbody tr th {\n",
       "        vertical-align: top;\n",
       "    }\n",
       "\n",
       "    .dataframe thead th {\n",
       "        text-align: right;\n",
       "    }\n",
       "</style>\n",
       "<table border=\"1\" class=\"dataframe\">\n",
       "  <thead>\n",
       "    <tr style=\"text-align: right;\">\n",
       "      <th></th>\n",
       "      <th>imo</th>\n",
       "      <th>vessel_type_id</th>\n",
       "      <th>built_for_trade_id</th>\n",
       "      <th>trade_id</th>\n",
       "      <th>vessel_class_id</th>\n",
       "      <th>commercial_operator_id</th>\n",
       "      <th>deadweight</th>\n",
       "      <th>breadth_extreme</th>\n",
       "      <th>gross_rated_tonnage</th>\n",
       "      <th>reduced_gross_tonnage</th>\n",
       "      <th>...</th>\n",
       "      <th>cubic_size</th>\n",
       "      <th>scrubbers_date</th>\n",
       "      <th>summer_tpc</th>\n",
       "      <th>lightship_tonnes</th>\n",
       "      <th>main_engine_manufacturer</th>\n",
       "      <th>delivery_date</th>\n",
       "      <th>classification_register</th>\n",
       "      <th>number_of_holds</th>\n",
       "      <th>grain_capacity</th>\n",
       "      <th>bale_capacity</th>\n",
       "    </tr>\n",
       "  </thead>\n",
       "  <tbody>\n",
       "    <tr>\n",
       "      <th>0</th>\n",
       "      <td>9412036</td>\n",
       "      <td>1</td>\n",
       "      <td>2</td>\n",
       "      <td>1</td>\n",
       "      <td>86</td>\n",
       "      <td>1926</td>\n",
       "      <td>116337</td>\n",
       "      <td>44</td>\n",
       "      <td>62884</td>\n",
       "      <td>50408</td>\n",
       "      <td>...</td>\n",
       "      <td>126819</td>\n",
       "      <td>None</td>\n",
       "      <td>99.41</td>\n",
       "      <td>19150</td>\n",
       "      <td>MAN B&amp;W</td>\n",
       "      <td>2011-10-31</td>\n",
       "      <td>Bureau Veritas</td>\n",
       "      <td>None</td>\n",
       "      <td>None</td>\n",
       "      <td>None</td>\n",
       "    </tr>\n",
       "    <tr>\n",
       "      <th>1</th>\n",
       "      <td>9436006</td>\n",
       "      <td>1</td>\n",
       "      <td>1</td>\n",
       "      <td>1</td>\n",
       "      <td>86</td>\n",
       "      <td>1926</td>\n",
       "      <td>112984</td>\n",
       "      <td>44</td>\n",
       "      <td>62775</td>\n",
       "      <td>50063</td>\n",
       "      <td>...</td>\n",
       "      <td>124612</td>\n",
       "      <td>None</td>\n",
       "      <td>99.70</td>\n",
       "      <td>20994</td>\n",
       "      <td>MAN B&amp;W</td>\n",
       "      <td>2009-05-26</td>\n",
       "      <td>American Bureau of Shipping</td>\n",
       "      <td>None</td>\n",
       "      <td>None</td>\n",
       "      <td>None</td>\n",
       "    </tr>\n",
       "    <tr>\n",
       "      <th>2</th>\n",
       "      <td>9773923</td>\n",
       "      <td>1</td>\n",
       "      <td>1</td>\n",
       "      <td>1</td>\n",
       "      <td>86</td>\n",
       "      <td>1926</td>\n",
       "      <td>113221</td>\n",
       "      <td>44</td>\n",
       "      <td>62350</td>\n",
       "      <td>49609</td>\n",
       "      <td>...</td>\n",
       "      <td>123170</td>\n",
       "      <td>None</td>\n",
       "      <td>98.61</td>\n",
       "      <td>20270</td>\n",
       "      <td>MAN B&amp;W</td>\n",
       "      <td>2017-07-20</td>\n",
       "      <td>Registro Italiano Navale</td>\n",
       "      <td>None</td>\n",
       "      <td>None</td>\n",
       "      <td>None</td>\n",
       "    </tr>\n",
       "  </tbody>\n",
       "</table>\n",
       "<p>3 rows × 50 columns</p>\n",
       "</div>"
      ],
      "text/plain": [
       "       imo  vessel_type_id  built_for_trade_id  trade_id  vessel_class_id  \\\n",
       "0  9412036               1                   2         1               86   \n",
       "1  9436006               1                   1         1               86   \n",
       "2  9773923               1                   1         1               86   \n",
       "\n",
       "   commercial_operator_id  deadweight  breadth_extreme  gross_rated_tonnage  \\\n",
       "0                    1926      116337               44                62884   \n",
       "1                    1926      112984               44                62775   \n",
       "2                    1926      113221               44                62350   \n",
       "\n",
       "   reduced_gross_tonnage  ...  cubic_size  scrubbers_date  summer_tpc  \\\n",
       "0                  50408  ...      126819            None       99.41   \n",
       "1                  50063  ...      124612            None       99.70   \n",
       "2                  49609  ...      123170            None       98.61   \n",
       "\n",
       "   lightship_tonnes  main_engine_manufacturer  delivery_date  \\\n",
       "0             19150                   MAN B&W     2011-10-31   \n",
       "1             20994                   MAN B&W     2009-05-26   \n",
       "2             20270                   MAN B&W     2017-07-20   \n",
       "\n",
       "       classification_register  number_of_holds  grain_capacity bale_capacity  \n",
       "0               Bureau Veritas             None            None          None  \n",
       "1  American Bureau of Shipping             None            None          None  \n",
       "2     Registro Italiano Navale             None            None          None  \n",
       "\n",
       "[3 rows x 50 columns]"
      ]
     },
     "execution_count": 22,
     "metadata": {},
     "output_type": "execute_result"
    }
   ],
   "source": [
    "df.head(3)"
   ]
  }
 ],
 "metadata": {
  "kernelspec": {
   "display_name": "Python 3",
   "language": "python",
   "name": "python3"
  },
  "language_info": {
   "codemirror_mode": {
    "name": "ipython",
    "version": 3
   },
   "file_extension": ".py",
   "mimetype": "text/x-python",
   "name": "python",
   "nbconvert_exporter": "python",
   "pygments_lexer": "ipython3",
   "version": "3.7.3"
  }
 },
 "nbformat": 4,
 "nbformat_minor": 4
}
