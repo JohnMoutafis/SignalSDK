{
 "cells": [
  {
   "cell_type": "markdown",
   "id": "9480e4f4",
   "metadata": {},
   "source": [
    "# Geos API Example"
   ]
  },
  {
   "cell_type": "markdown",
   "id": "0255def7",
   "metadata": {},
   "source": [
    "## Run this example in [Colab](https://colab.research.google.com/github/SignalOceanSdk/SignalSDK/blob/master/docs/examples/jupyter/GeoAPI/GeoAPI%20Use%20Case.ipynb) \n",
    "\n",
    "## Setup\n",
    "\n",
    "Install the Signal Ocean SDK:"
   ]
  },
  {
   "cell_type": "code",
   "execution_count": null,
   "id": "aaba128e",
   "metadata": {},
   "outputs": [],
   "source": [
    "pip install signal-ocean"
   ]
  },
  {
   "cell_type": "markdown",
   "id": "4f07164a",
   "metadata": {},
   "source": [
    "Set your subscription key acquired here: https://apis.signalocean.com/profile"
   ]
  },
  {
   "cell_type": "code",
   "execution_count": null,
   "id": "1c4158d1",
   "metadata": {},
   "outputs": [],
   "source": [
    "signal_ocean_api_key = '' #replace with your subscription key"
   ]
  },
  {
   "cell_type": "code",
   "execution_count": null,
   "id": "8f73d7d1",
   "metadata": {},
   "outputs": [],
   "source": [
    "from signal_ocean import Connection\n",
    "from signal_ocean.geos import GeosAPI\n",
    "import numpy as np\n",
    "import pandas as pd\n",
    "import requests\n",
    "import json"
   ]
  },
  {
   "cell_type": "code",
   "execution_count": null,
   "id": "6e53a9ce",
   "metadata": {},
   "outputs": [],
   "source": [
    "connection = Connection(signal_ocean_api_key)\n",
    "api = GeosAPI(connection)"
   ]
  },
  {
   "cell_type": "markdown",
   "id": "b05054e1",
   "metadata": {},
   "source": [
    "## Scope"
   ]
  },
  {
   "cell_type": "markdown",
   "id": "5b303554",
   "metadata": {},
   "source": [
    "In this notebook we will show how you can get all the different kinds of Geo data available."
   ]
  },
  {
   "cell_type": "markdown",
   "id": "a65cca25",
   "metadata": {},
   "source": [
    "There are three kinds of Geo data:\n",
    "* Areas\n",
    "* Countries\n",
    "* Ports\n",
    "* GeoAssets"
   ]
  },
  {
   "cell_type": "markdown",
   "id": "4b3ddacc",
   "metadata": {},
   "source": [
    "## Areas"
   ]
  },
  {
   "cell_type": "markdown",
   "id": "6383121c",
   "metadata": {},
   "source": [
    "### Get all available areas"
   ]
  },
  {
   "cell_type": "code",
   "execution_count": null,
   "id": "2f898593",
   "metadata": {},
   "outputs": [],
   "source": [
    "all_areas = api.get_areas()"
   ]
  },
  {
   "cell_type": "code",
   "execution_count": null,
   "id": "458191bf",
   "metadata": {},
   "outputs": [],
   "source": [
    "df_areas = pd.DataFrame([a.__dict__ for a in all_areas])"
   ]
  },
  {
   "cell_type": "code",
   "execution_count": null,
   "id": "68cd60f7",
   "metadata": {},
   "outputs": [],
   "source": [
    "df_areas.head(10)"
   ]
  },
  {
   "cell_type": "markdown",
   "id": "1d6f9814",
   "metadata": {},
   "source": [
    "This can create a tree-like structure."
   ]
  },
  {
   "cell_type": "markdown",
   "id": "09052e90",
   "metadata": {},
   "source": [
    "**Example** \n",
    "* West\n",
    "    * Black Sea / Sea Of Marmara\n",
    "    * Atlantic America\n",
    "    * Baltic / North Sea\n",
    "    * Mediterranean / UK Continent \n",
    "        * UK Continent\n",
    "        * Mediterranean\n",
    "            * West Mediterranean\n",
    "            * East Mediterranean\n",
    "            * Central Mediterranean"
   ]
  },
  {
   "cell_type": "markdown",
   "id": "dc382779",
   "metadata": {},
   "source": [
    "#### Get a dataframe with all area level names"
   ]
  },
  {
   "cell_type": "markdown",
   "id": "d76b4b89",
   "metadata": {},
   "source": [
    "We can get a dataframe with the complete area tree by gradually merging an area type with the one below it."
   ]
  },
  {
   "cell_type": "code",
   "execution_count": null,
   "id": "6f095ea9",
   "metadata": {},
   "outputs": [],
   "source": [
    "df_areas_all = df_areas[df_areas['location_taxonomy_id'] == 7].merge(df_areas,\n",
    "                                                             how = 'left',\n",
    "                                                             left_on = 'area_id',\n",
    "                                                             right_on = 'parent_area_id',\n",
    "                                                             suffixes = ['_type7','_type6'])[['area_id_type7',\n",
    "                                                                                              'area_name_type7',\n",
    "                                                                                              'area_id_type6',\n",
    "                                                                                              'area_name_type6']]\\\n",
    "                                                      .merge(df_areas,\n",
    "                                                             how = 'left',\n",
    "                                                             left_on = 'area_id_type6',\n",
    "                                                             right_on = 'parent_area_id')[['area_id_type7',\n",
    "                                                                                           'area_name_type7',\n",
    "                                                                                           'area_id_type6',\n",
    "                                                                                           'area_name_type6',\n",
    "                                                                                           'area_id',\n",
    "                                                                                           'area_name']]\\\n",
    "                                                      .merge(df_areas,\n",
    "                                                             how = 'left',\n",
    "                                                             left_on = 'area_id',\n",
    "                                                             right_on = 'parent_area_id',\n",
    "                                                             suffixes = ['_type5','_type4'])[['area_id_type7',\n",
    "                                                                                              'area_name_type7',\n",
    "                                                                                              'area_id_type6',\n",
    "                                                                                              'area_name_type6',\n",
    "                                                                                              'area_id_type5',\n",
    "                                                                                              'area_name_type5',\n",
    "                                                                                              'area_id_type4',\n",
    "                                                                                              'area_name_type4']]\n"
   ]
  },
  {
   "cell_type": "code",
   "execution_count": null,
   "id": "5e09e9bc",
   "metadata": {},
   "outputs": [],
   "source": [
    "df_areas_all.head(10)"
   ]
  },
  {
   "cell_type": "markdown",
   "id": "36fd6a06",
   "metadata": {},
   "source": [
    "From there we can recreate the area tree example from above, by filetring a specific type 3 area."
   ]
  },
  {
   "cell_type": "code",
   "execution_count": null,
   "id": "be57d973",
   "metadata": {},
   "outputs": [],
   "source": [
    "df_areas_all[df_areas_all['area_name_type7'] == 'West']"
   ]
  },
  {
   "cell_type": "markdown",
   "id": "28e73ff7",
   "metadata": {},
   "source": [
    "## Countries"
   ]
  },
  {
   "cell_type": "markdown",
   "id": "908ea96e",
   "metadata": {},
   "source": [
    "### Get available countries"
   ]
  },
  {
   "cell_type": "code",
   "execution_count": null,
   "id": "479ade67",
   "metadata": {},
   "outputs": [],
   "source": [
    "all_countries = api.get_countries()"
   ]
  },
  {
   "cell_type": "code",
   "execution_count": null,
   "id": "2511f1d0",
   "metadata": {},
   "outputs": [],
   "source": [
    "df_countries = pd.DataFrame([a.__dict__ for a in all_countries])"
   ]
  },
  {
   "cell_type": "code",
   "execution_count": null,
   "id": "3f6e2921",
   "metadata": {},
   "outputs": [],
   "source": [
    "df_countries.head(10)"
   ]
  },
  {
   "cell_type": "markdown",
   "id": "f22cbaa4",
   "metadata": {},
   "source": [
    "## Ports"
   ]
  },
  {
   "cell_type": "markdown",
   "id": "51c1617f",
   "metadata": {},
   "source": [
    "### Get availabe ports"
   ]
  },
  {
   "cell_type": "code",
   "execution_count": null,
   "id": "eed7e7cd",
   "metadata": {},
   "outputs": [],
   "source": [
    "all_ports = api.get_ports()"
   ]
  },
  {
   "cell_type": "code",
   "execution_count": null,
   "id": "5e5847a9",
   "metadata": {},
   "outputs": [],
   "source": [
    "df_ports = pd.DataFrame([a.__dict__ for a in all_ports])"
   ]
  },
  {
   "cell_type": "code",
   "execution_count": null,
   "id": "a8ed8831",
   "metadata": {},
   "outputs": [],
   "source": [
    "df_ports.head(10)"
   ]
  },
  {
   "cell_type": "markdown",
   "id": "28efeb07",
   "metadata": {},
   "source": [
    "## Using all of the data above"
   ]
  },
  {
   "cell_type": "markdown",
   "id": "6b9208fa",
   "metadata": {},
   "source": [
    "### Get all ports in a specific level 0 area"
   ]
  },
  {
   "cell_type": "code",
   "execution_count": null,
   "id": "1e233a6d",
   "metadata": {},
   "outputs": [],
   "source": [
    "area_name = 'US Gulf'"
   ]
  },
  {
   "cell_type": "code",
   "execution_count": null,
   "id": "91371a89",
   "metadata": {},
   "outputs": [],
   "source": [
    "df_Ports_In_Area = df_areas[  (df_areas['area_name'] == area_name ) \n",
    "                            & (df_areas['location_taxonomy_id'] == 4)].merge(df_ports,\n",
    "                                                                     how = 'left',\n",
    "                                                                     left_on = 'area_id',\n",
    "                                                                     right_on = 'area_id_level0',\n",
    "                                                                     suffixes = ['_area','_port'])[['port_id','port_name','area_id','area_name']]"
   ]
  },
  {
   "cell_type": "code",
   "execution_count": null,
   "id": "17b0142d",
   "metadata": {},
   "outputs": [],
   "source": [
    "df_Ports_In_Area.head(10)"
   ]
  },
  {
   "cell_type": "markdown",
   "id": "dc07f113",
   "metadata": {},
   "source": [
    "### Get all ports in a specific country"
   ]
  },
  {
   "cell_type": "code",
   "execution_count": null,
   "id": "858cc931",
   "metadata": {},
   "outputs": [],
   "source": [
    "country_name = 'United Arab Emirates'"
   ]
  },
  {
   "cell_type": "code",
   "execution_count": null,
   "id": "eea01e2f",
   "metadata": {},
   "outputs": [],
   "source": [
    "df_Ports_In_Country = df_countries[df_countries['country_name'] == country_name].merge(df_ports,\n",
    "                                                                               how = 'left',\n",
    "                                                                               left_on = 'country_id',\n",
    "                                                                               right_on = 'country_id',\n",
    "                                                                               suffixes = ['_country','_port'])[['port_id','port_name','country_id','country_name_country']]"
   ]
  },
  {
   "cell_type": "code",
   "execution_count": null,
   "id": "d0d1d89b",
   "metadata": {},
   "outputs": [],
   "source": [
    "df_Ports_In_Country.head(10)"
   ]
  },
  {
   "cell_type": "markdown",
   "id": "d7425d77",
   "metadata": {},
   "source": [
    "### Get all areas in a country"
   ]
  },
  {
   "cell_type": "markdown",
   "id": "f8b8deb2",
   "metadata": {},
   "source": [
    "Some countries can span across multiple type 0 areas. We can make that connection through **ports**."
   ]
  },
  {
   "cell_type": "code",
   "execution_count": null,
   "id": "15b2deb6",
   "metadata": {},
   "outputs": [],
   "source": [
    "country_name = 'United States'"
   ]
  },
  {
   "cell_type": "code",
   "execution_count": null,
   "id": "a8a49b7c",
   "metadata": {},
   "outputs": [],
   "source": [
    "df_countries[df_countries['country_name'] == country_name].merge(df_ports,\n",
    "                                                         how = 'left',\n",
    "                                                         left_on = 'country_id',\n",
    "                                                         right_on = 'country_id',\n",
    "                                                         suffixes = ['_country',None])[['port_id','port_name','country_id','country_name_country','area_id_level0']]\\\n",
    "                                                  .merge(df_areas,\n",
    "                                                         how = 'left',\n",
    "                                                         left_on = 'area_id_level0',\n",
    "                                                         right_on = 'area_id',\n",
    "                                                         suffixes = (None, '_area'))[['country_id','country_name_country','area_id', 'area_name']].area_name.unique()"
   ]
  },
  {
   "cell_type": "markdown",
   "id": "c8a4345c",
   "metadata": {},
   "source": [
    "#### Find the top 10 Countries with the most Ports"
   ]
  },
  {
   "cell_type": "code",
   "execution_count": null,
   "id": "a0f2d3a1",
   "metadata": {},
   "outputs": [],
   "source": [
    "df_Ports_country_count =  df_ports.merge(df_countries,\n",
    "                                         how = 'left',\n",
    "                                         left_on = 'country_id',\n",
    "                                         right_on = 'country_id',\n",
    "                                         suffixes =['_port','_country'])[['port_id','port_name','country_id','country_name_country']] "
   ]
  },
  {
   "cell_type": "code",
   "execution_count": null,
   "id": "701f1fe7",
   "metadata": {},
   "outputs": [],
   "source": [
    "df_Ports_country_count.country_name_country.value_counts().head(10)"
   ]
  },
  {
   "cell_type": "markdown",
   "id": "beebee42",
   "metadata": {},
   "source": [
    "## Geo Assets"
   ]
  },
  {
   "cell_type": "markdown",
   "id": "baa2dea1",
   "metadata": {},
   "source": [
    "### Get availabe geo assets"
   ]
  },
  {
   "cell_type": "code",
   "execution_count": null,
   "id": "13d24611",
   "metadata": {},
   "outputs": [],
   "source": [
    "all_geoAssets = api.get_geoAssets()"
   ]
  },
  {
   "cell_type": "code",
   "execution_count": null,
   "id": "5b3be843",
   "metadata": {},
   "outputs": [],
   "source": [
    "df_geoAssets = pd.DataFrame([a.__dict__ for a in all_geoAssets])"
   ]
  },
  {
   "cell_type": "code",
   "execution_count": null,
   "id": "607f5801",
   "metadata": {},
   "outputs": [],
   "source": [
    "df_geoAssets.head(10)"
   ]
  }
 ],
 "metadata": {
  "kernelspec": {
   "display_name": "Python 3 (ipykernel)",
   "language": "python",
   "name": "python3"
  },
  "language_info": {
   "codemirror_mode": {
    "name": "ipython",
    "version": 3
   },
   "file_extension": ".py",
   "mimetype": "text/x-python",
   "name": "python",
   "nbconvert_exporter": "python",
   "pygments_lexer": "ipython3",
   "version": "3.9.12"
  }
 },
 "nbformat": 4,
 "nbformat_minor": 5
}
