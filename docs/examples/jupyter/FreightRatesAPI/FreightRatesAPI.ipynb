{
 "cells": [
  {
   "cell_type": "markdown",
   "metadata": {},
   "source": [
    "# Freight Rates API Example"
   ]
  },
  {
   "cell_type": "markdown",
   "metadata": {},
   "source": [
    "## Setup\n",
    "Install the Signal Ocean SDK:\n",
    "```\n",
    "pip install signal-ocean\n",
    "```\n",
    "Set your subscription key acquired here: https://apis.signalocean.com/profile"
   ]
  },
  {
   "cell_type": "code",
   "execution_count": null,
   "metadata": {},
   "outputs": [],
   "source": [
    "pip install signal-ocean"
   ]
  },
  {
   "cell_type": "code",
   "execution_count": 15,
   "outputs": [],
   "source": [
    "signal_ocean_api_key = '' #replace with your subscription key"
   ],
   "metadata": {
    "collapsed": false,
    "pycharm": {
     "name": "#%%\n"
    }
   }
  },
  {
   "cell_type": "markdown",
   "metadata": {},
   "source": [
    "## Freight Rates API\n",
    "The Freight Rates API retrieves freight costs breakdown for a given load,\n",
    "discharge port and vessel class. First create connection towards\n",
    "Freight Rates API in order to find available ports and vessel classes:"
   ]
  },
  {
   "cell_type": "code",
   "execution_count": 2,
   "outputs": [],
   "source": [
    "from signal_ocean import Connection, FreightRatesAPI\n",
    "from signal_ocean.freight_rates import PortFilter\n",
    "\n",
    "connection = Connection(api_key=signal_ocean_api_key)\n",
    "fr_api = FreightRatesAPI(connection)"
   ],
   "metadata": {
    "collapsed": false,
    "pycharm": {
     "name": "#%%\n"
    }
   }
  },
  {
   "cell_type": "markdown",
   "source": [
    "#### Find available ports and vessel classes\n",
    "Now retrieve the available vessel classes and look if specific ports are available.\n",
    "If you want to get all the available ports do not pass any parameter to the\n",
    "corresponding method."
   ],
   "metadata": {
    "collapsed": false
   }
  },
  {
   "cell_type": "code",
   "execution_count": 4,
   "outputs": [
    {
     "name": "stdout",
     "output_type": "stream",
     "text": [
      "('VLGC', 'MidsizeLGC', 'HandyLPG', 'SmallLPG', 'VLOC', 'Capesize', 'PostPanamaxDry', 'PanamaxDry', 'Supramax', 'Handymax', 'Handysize', 'ULVC', 'NewPanamax', 'PostPanamax', 'Panamax', 'Feedermax', 'Feeder', 'VLCC', 'Suezmax', 'Aframax', 'PanamaxTanker', 'MR2', 'MR1', 'SmallTanker', 'ModernTFTE', 'SmallDry', 'ULCC', 'SmallContainer')\n"
     ]
    }
   ],
   "source": [
    "vessel_classes = fr_api.get_vessel_classes()\n",
    "print(vessel_classes)\n",
    "cpc = fr_api.get_ports(PortFilter(name_like='CPC'))[0]\n",
    "augusta = fr_api.get_ports(PortFilter(name_like='Augusta'))[0]"
   ],
   "metadata": {
    "collapsed": false,
    "pycharm": {
     "name": "#%%\n"
    }
   }
  },
  {
   "cell_type": "markdown",
   "source": [
    "#### Get freight rates for specific ports and vessel class\n",
    "In this example we retrieve today’s freight rate for Clean Panamax Amsterdam - Lome:"
   ],
   "metadata": {
    "collapsed": false
   }
  },
  {
   "cell_type": "code",
   "execution_count": 6,
   "outputs": [
    {
     "name": "stdout",
     "output_type": "stream",
     "text": [
      "(FreightPricing(vessel_class='PanamaxTanker', rate=85.0, rate_type='WorldScale', estimated_flat_rate=13.9666, costs=Cost(canal=0.0, freight_cost=712296.6), total_freight_cost=712296.6, total_freight_rate=11.87161, route_type='Unknown', load_port=Port(name='Amsterdam', id=None, country='Netherlands', area='Continent'), discharge_port=Port(name='Lome', id=None, country='Togo', area='Africa Atlantic Coast'), quantity=60000.0, min_flat_augusta_used=False, routing_choices=None),)\n"
     ]
    }
   ],
   "source": [
    "amsterdam = fr_api.get_ports(PortFilter(name_like='Amsterdam'))[0]\n",
    "lome = fr_api.get_ports(PortFilter(name_like='Lome'))[0]\n",
    "fr = fr_api.get_freight_pricing(load_port_id=amsterdam.id, discharge_port_id=lome.id,\n",
    "                                vessel_classes=[\"PanamaxTanker\"], is_clean=True)\n",
    "print(fr)"
   ],
   "metadata": {
    "collapsed": false,
    "pycharm": {
     "name": "#%%\n"
    }
   }
  },
  {
   "cell_type": "markdown",
   "source": [
    "We can also plot the freight rates for the same combination from 1st of January\n",
    "until today:"
   ],
   "metadata": {
    "collapsed": false,
    "pycharm": {
     "name": "#%% md\n"
    }
   }
  },
  {
   "cell_type": "code",
   "execution_count": 14,
   "outputs": [
    {
     "data": {
      "text/plain": "<Figure size 432x288 with 1 Axes>",
      "image/png": "[encoded data removed]"
     },
     "metadata": {
      "needs_background": "light"
     },
     "output_type": "display_data"
    }
   ],
   "source": [
    "from datetime import date, timedelta\n",
    "import matplotlib.pyplot as plt\n",
    "import matplotlib.dates as mdates\n",
    "\n",
    "start_date = date(2021, 1, 1)\n",
    "end_date = date.today()\n",
    "delta = end_date - start_date\n",
    "dates = [start_date + timedelta(days=i) for i in range(delta.days + 1)]\n",
    "\n",
    "rates = []\n",
    "for day in dates:\n",
    "    frates = fr_api.get_freight_pricing(load_port_id=cpc.id,\n",
    "                                        discharge_port_id=augusta.id,\n",
    "                                        vessel_classes=[\"Aframax\"],\n",
    "                                        is_clean=False,\n",
    "                                        date=day)\n",
    "    rates.append(frates[0].rate)\n",
    "\n",
    "plt.gca().xaxis.set_major_formatter(mdates.DateFormatter('%d/%m/%Y'))\n",
    "plt.gca().xaxis.set_major_locator(mdates.MonthLocator(interval=1))\n",
    "plt.plot(dates, rates)\n",
    "plt.gcf().autofmt_xdate()"
   ],
   "metadata": {
    "collapsed": false,
    "pycharm": {
     "name": "#%%\n"
    }
   }
  }
 ],
 "metadata": {
  "kernelspec": {
   "display_name": "Python 3",
   "language": "python",
   "name": "python3"
  },
  "language_info": {
   "codemirror_mode": {
    "name": "ipython",
    "version": 3
   },
   "file_extension": ".py",
   "mimetype": "text/x-python",
   "name": "python",
   "nbconvert_exporter": "python",
   "pygments_lexer": "ipython3",
   "version": "3.8.5"
  }
 },
 "nbformat": 4,
 "nbformat_minor": 4
}