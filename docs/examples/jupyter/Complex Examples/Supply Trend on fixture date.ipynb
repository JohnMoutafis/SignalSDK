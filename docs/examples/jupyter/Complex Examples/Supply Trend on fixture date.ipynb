{
 "cells": [
  {
   "cell_type": "markdown",
   "metadata": {},
   "source": [
    "# Supply Trend on fixture date"
   ]
  },
  {
   "cell_type": "markdown",
   "metadata": {},
   "source": [
    "## Voyages Data & HTL joint Use Case"
   ]
  },
  {
   "cell_type": "markdown",
   "metadata": {},
   "source": [
    "The following Use Case serves the need of monitoring the supply trend when a fixture is closed. We are going to use the voyages data api in order to retrieve the voyages of interest. Then, using the voyages data, we are going to query the HTL api and get the supply trend at the point in time that each vessel was fixed.  \n",
    "For the sake of the example we are going to focus on voyages within 2021 having as commercial operator Vitol."
   ]
  },
  {
   "cell_type": "markdown",
   "metadata": {},
   "source": [
    "## Setup\n",
    "Install the Signal Ocean SDK:\n",
    "```\n",
    "pip install signal-ocean\n",
    "```\n",
    "Set your subscription key acquired here: https://apis.signalocean.com/profile"
   ]
  },
  {
   "cell_type": "code",
   "execution_count": 1,
   "metadata": {},
   "outputs": [],
   "source": [
    "#pip install signal-ocean"
   ]
  },
  {
   "cell_type": "code",
   "execution_count": 2,
   "metadata": {},
   "outputs": [],
   "source": [
    "import pandas as pd\n",
    "from datetime import date, timedelta,time\n",
    "\n",
    "# imports regarding HTL\n",
    "from signal_ocean import PortAPI, VesselClassAPI,PortFilter,VesselClassFilter,Connection\n",
    "from signal_ocean.historical_tonnage_list import VesselFilter, PushType, MarketDeployment, CommercialStatus, VesselSubclass\n",
    "from signal_ocean.historical_tonnage_list import HistoricalTonnageListAPI\n",
    "from signal_ocean.historical_tonnage_list import Column, IndexLevel\n",
    "\n",
    "# imports regarding Voyages Data\n",
    "from signal_ocean.voyages import VoyagesAPI"
   ]
  },
  {
   "cell_type": "code",
   "execution_count": 3,
   "metadata": {},
   "outputs": [],
   "source": [
    "signal_ocean_api_key = '' #replace with your subscription key\n",
    "connection = Connection(signal_ocean_api_key)"
   ]
  },
  {
   "cell_type": "code",
   "execution_count": 4,
   "metadata": {},
   "outputs": [],
   "source": [
    "# instantiating connections for all necessary apis \n",
    "port_api = PortAPI(connection)\n",
    "vessel_class_api = VesselClassAPI(connection)\n",
    "voyages_api = VoyagesAPI(connection)\n",
    "htl_api = HistoricalTonnageListAPI(connection)"
   ]
  },
  {
   "cell_type": "markdown",
   "metadata": {},
   "source": [
    "### Getting the voyages"
   ]
  },
  {
   "cell_type": "code",
   "execution_count": 5,
   "metadata": {},
   "outputs": [],
   "source": [
    "vessel_class = vessel_class_api.get_vessel_classes(VesselClassFilter(name_like='aframax'))[0]\n",
    "vessel_class_id = vessel_class.id\n",
    "\n",
    "start_date = date(2021,1,1)"
   ]
  },
  {
   "cell_type": "code",
   "execution_count": 6,
   "metadata": {},
   "outputs": [],
   "source": [
    "voyages = voyages_api.get_voyages(vessel_class_id=vessel_class_id, date_from=start_date)\n",
    "voyages_df = pd.DataFrame([v.__dict__ for v in voyages])"
   ]
  },
  {
   "cell_type": "code",
   "execution_count": 7,
   "metadata": {},
   "outputs": [
    {
     "data": {
      "text/plain": [
       "array(['Pertamina', 'Equinor', 'Elmira Tankers', 'PDVSA', 'Saud Shipping',\n",
       "       'International Marine Management', 'ECB International',\n",
       "       'Dynacom Tankers', 'Norstar Shipping', 'Knutsen',\n",
       "       'Olympic Shipping & Management', 'Torm', 'Eurotankers',\n",
       "       'Centrofin', 'Sanmar Shipping', 'Fareast Shipmanagement',\n",
       "       'Soechi Lines', 'Sovcomflot', 'Unknown', 'Bihar International',\n",
       "       'Chandris', 'ST Shipping & Transport', 'Red Sea Marine Services',\n",
       "       'PT Buana Lintas Lautan Tbk', 'Silk Road Petroleum',\n",
       "       'Gerhard Shipping', 'Jellicoe Tankers', 'NITC', 'Nathalin',\n",
       "       'Zodiac Maritime', 'Marshal Shipping', 'Petronas', 'Navig8 group',\n",
       "       'Shanghai Zhenhua Shipping', 'Cakra Manunggal Semesta PT',\n",
       "       'Eastern Mediterranean Maritime', 'Pelayaran Sakti Erawan',\n",
       "       'Teekay Corp', 'Coral Shipping', 'PetroVietnam',\n",
       "       'Rosewood Shipping', 'Darya Shipping', 'Monte Nero Maritime',\n",
       "       'New Shipping', 'Berlian Laju Tanker', 'Thenamaris',\n",
       "       'General National Maritime', 'Avin International', 'Eletson',\n",
       "       'Sea World Management', 'Arcadia Ship',\n",
       "       'Shipping Corporation of India', 'Prime', 'Agelef Maritime',\n",
       "       'Neste', 'Minerva Marine', 'Sinokor Merchant Marine',\n",
       "       'Signal Maritime', 'Lundqvist Rederierna',\n",
       "       'Arab Maritime Petroleum Transport', 'SKS Tankers', 'Rima Marine',\n",
       "       'Alpha Ship', 'Shell', 'Vitol', 'Hellenic Tankers', 'ENI',\n",
       "       'Nakata Mac Corp', 'Waruna Nusa Sentana',\n",
       "       'European Product Carriers', 'ExxonMobil', 'AET', 'Maersk',\n",
       "       'Eastern Pacific Shipping', 'NGM Energy', 'Eiger Shipping',\n",
       "       'Pakistan National Shipping', 'Scorpio Commercial Management',\n",
       "       'Tsakos Shipping & Trading', 'Concord Maritime', 'Penfield Marine',\n",
       "       'Columbia Shipmanagement', 'Union Maritime', 'COSCO',\n",
       "       'China Shipping Tanker', 'Cardiff Marine', 'Delta Tankers',\n",
       "       'East Coast Group', 'Mjolner Shipping', 'Stealth Maritime Corp',\n",
       "       'Trafigura', 'Heidmar', 'Foresight', 'Alberta',\n",
       "       'Aramco Trading Company', 'Freepoint', 'ChevTex', 'Chevron',\n",
       "       'Almi Tankers', 'N2 Tankers', 'Petrovietnam Transportation',\n",
       "       'Kuwait Petroleum', 'Unitized Ocean Transport', 'Yasa Shipping',\n",
       "       'Tankerska Plovidba dd', 'Polyar Tankers',\n",
       "       'Chemnav Shipmanagement', 'Polembros Shipping', 'Phillips 66',\n",
       "       'BP', 'Amazonas', 'Core Petroleum', 'PetroChina',\n",
       "       'China Merchants Energy', 'Nanjing Tanker', 'Novatek',\n",
       "       'Sakhalin Energy Investment', 'Phoenix Tankers',\n",
       "       'Marla Shipmanagement', 'Total', 'Petraco', 'OceanGold Tankers',\n",
       "       'Argyll Shipping', 'Mitsui OSK Lines', 'Petrobras', 'SK',\n",
       "       'Solal Shipping', 'Unipec', 'Maran Tankers Management',\n",
       "       'Kazmortransflot UK', 'Dorian Hellas', 'UML', 'Cape Tankers',\n",
       "       'Venous Ships Management and Operation', 'Reliance', 'Premuda',\n",
       "       'Wellbred', 'Shanghai North Sea Shipping', 'ZhenHua Oil',\n",
       "       'Altera Infrastructure', 'Rizzo Bottiglieri De Carlini Armatori',\n",
       "       'Associated Maritime', 'Glasford Shipping', 'Adnoc', 'Transpetrol',\n",
       "       'Viken Shipping', 'Frota', 'Hanseatic Chartering',\n",
       "       'Formosa Plastics', 'OMV', 'Unisea Shipping', 'Kyklades Maritime',\n",
       "       'Koch', 'JX Nippon Oil', 'Frontline', 'Clearlake Shipping',\n",
       "       'Orpheus Marine Transport', 'Marathon Petroleum', 'Nord Reederei',\n",
       "       'Tai Chong Cheang Steamship', 'Valero', 'K Line', 'Klaveness',\n",
       "       'Chartworld Shipping'], dtype=object)"
      ]
     },
     "execution_count": 7,
     "metadata": {},
     "output_type": "execute_result"
    }
   ],
   "source": [
    "#list of all Commercial Operators found in the dataset\n",
    "voyages_df.commercial_operator.unique()"
   ]
  },
  {
   "cell_type": "code",
   "execution_count": 8,
   "metadata": {},
   "outputs": [],
   "source": [
    "# we need the voyages for which we know the fixture date\n",
    "com_op_voyages = voyages_df[(voyages_df.commercial_operator=='Vitol') & \\\n",
    "                           (voyages_df.fixture_date.notna())].copy()"
   ]
  },
  {
   "cell_type": "code",
   "execution_count": 9,
   "metadata": {},
   "outputs": [
    {
     "data": {
      "text/html": [
       "<div>\n",
       "<style scoped>\n",
       "    .dataframe tbody tr th:only-of-type {\n",
       "        vertical-align: middle;\n",
       "    }\n",
       "\n",
       "    .dataframe tbody tr th {\n",
       "        vertical-align: top;\n",
       "    }\n",
       "\n",
       "    .dataframe thead th {\n",
       "        text-align: right;\n",
       "    }\n",
       "</style>\n",
       "<table border=\"1\" class=\"dataframe\">\n",
       "  <thead>\n",
       "    <tr style=\"text-align: right;\">\n",
       "      <th></th>\n",
       "      <th>imo</th>\n",
       "      <th>voyage_number</th>\n",
       "      <th>vessel_type_id</th>\n",
       "      <th>vessel_class_id</th>\n",
       "      <th>vessel_status_id</th>\n",
       "      <th>commercial_operator_id</th>\n",
       "      <th>deleted</th>\n",
       "      <th>events</th>\n",
       "      <th>id</th>\n",
       "      <th>vessel_name</th>\n",
       "      <th>...</th>\n",
       "      <th>laycan_to</th>\n",
       "      <th>fixture_status_id</th>\n",
       "      <th>fixture_status</th>\n",
       "      <th>fixture_date</th>\n",
       "      <th>fixture_is_coa</th>\n",
       "      <th>fixture_is_hold</th>\n",
       "      <th>is_implied_by_ais</th>\n",
       "      <th>has_manual_entries</th>\n",
       "      <th>ballast_distance</th>\n",
       "      <th>laden_distance</th>\n",
       "    </tr>\n",
       "  </thead>\n",
       "  <tbody>\n",
       "    <tr>\n",
       "      <th>4545</th>\n",
       "      <td>9821706</td>\n",
       "      <td>24</td>\n",
       "      <td>1</td>\n",
       "      <td>86</td>\n",
       "      <td>1</td>\n",
       "      <td>1831</td>\n",
       "      <td>False</td>\n",
       "      <td>(VoyageEvent(id='I95DE0ASED7805D00', port_id=3...</td>\n",
       "      <td>I95DE0AVED7805D00</td>\n",
       "      <td>Elandra Sound</td>\n",
       "      <td>...</td>\n",
       "      <td>2021-01-11 19:55:25+00:00</td>\n",
       "      <td>1.0</td>\n",
       "      <td>FullyFixed</td>\n",
       "      <td>2021-01-05 14:26:27+00:00</td>\n",
       "      <td>False</td>\n",
       "      <td>False</td>\n",
       "      <td>None</td>\n",
       "      <td>None</td>\n",
       "      <td>549.77</td>\n",
       "      <td>5311.35</td>\n",
       "    </tr>\n",
       "    <tr>\n",
       "      <th>4547</th>\n",
       "      <td>9821706</td>\n",
       "      <td>26</td>\n",
       "      <td>1</td>\n",
       "      <td>86</td>\n",
       "      <td>1</td>\n",
       "      <td>1831</td>\n",
       "      <td>False</td>\n",
       "      <td>(VoyageEvent(id='I95DE0ASED7C24800', port_id=1...</td>\n",
       "      <td>I95DE0AVED7C24800</td>\n",
       "      <td>Elandra Sound</td>\n",
       "      <td>...</td>\n",
       "      <td>2021-02-23 19:56:24+00:00</td>\n",
       "      <td>1.0</td>\n",
       "      <td>FullyFixed</td>\n",
       "      <td>2021-02-15 12:23:18+00:00</td>\n",
       "      <td>True</td>\n",
       "      <td>False</td>\n",
       "      <td>None</td>\n",
       "      <td>None</td>\n",
       "      <td>466.73</td>\n",
       "      <td>554.81</td>\n",
       "    </tr>\n",
       "    <tr>\n",
       "      <th>4550</th>\n",
       "      <td>9821706</td>\n",
       "      <td>29</td>\n",
       "      <td>1</td>\n",
       "      <td>86</td>\n",
       "      <td>1</td>\n",
       "      <td>1831</td>\n",
       "      <td>False</td>\n",
       "      <td>(VoyageEvent(id='I95DE0ASED8116200', port_id=3...</td>\n",
       "      <td>I95DE0AVED8116200</td>\n",
       "      <td>Elandra Sound</td>\n",
       "      <td>...</td>\n",
       "      <td>2021-05-12 00:00:00+00:00</td>\n",
       "      <td>1.0</td>\n",
       "      <td>FullyFixed</td>\n",
       "      <td>2021-04-27 09:44:15+00:00</td>\n",
       "      <td>False</td>\n",
       "      <td>False</td>\n",
       "      <td>None</td>\n",
       "      <td>True</td>\n",
       "      <td>1691.13</td>\n",
       "      <td>1979.97</td>\n",
       "    </tr>\n",
       "    <tr>\n",
       "      <th>4551</th>\n",
       "      <td>9821706</td>\n",
       "      <td>30</td>\n",
       "      <td>1</td>\n",
       "      <td>86</td>\n",
       "      <td>1</td>\n",
       "      <td>1831</td>\n",
       "      <td>False</td>\n",
       "      <td>(VoyageEvent(id='I95DE0ASED81E9100', port_id=3...</td>\n",
       "      <td>I95DE0AVED81E9100</td>\n",
       "      <td>Elandra Sound</td>\n",
       "      <td>...</td>\n",
       "      <td>2021-06-02 00:00:00+00:00</td>\n",
       "      <td>0.0</td>\n",
       "      <td>OnSubs</td>\n",
       "      <td>2021-05-19 11:20:25.850000+00:00</td>\n",
       "      <td>False</td>\n",
       "      <td>False</td>\n",
       "      <td>None</td>\n",
       "      <td>True</td>\n",
       "      <td>NaN</td>\n",
       "      <td>NaN</td>\n",
       "    </tr>\n",
       "    <tr>\n",
       "      <th>4605</th>\n",
       "      <td>9829899</td>\n",
       "      <td>20</td>\n",
       "      <td>1</td>\n",
       "      <td>86</td>\n",
       "      <td>1</td>\n",
       "      <td>1831</td>\n",
       "      <td>False</td>\n",
       "      <td>(VoyageEvent(id='I95FE0BSED7CF7700', port_id=3...</td>\n",
       "      <td>I95FE0BVED7CF7700</td>\n",
       "      <td>Navig8 Pride Lhj</td>\n",
       "      <td>...</td>\n",
       "      <td>2021-03-26 23:59:00+00:00</td>\n",
       "      <td>1.0</td>\n",
       "      <td>FullyFixed</td>\n",
       "      <td>2021-03-12 02:44:42+00:00</td>\n",
       "      <td>False</td>\n",
       "      <td>False</td>\n",
       "      <td>None</td>\n",
       "      <td>None</td>\n",
       "      <td>2605.56</td>\n",
       "      <td>2874.46</td>\n",
       "    </tr>\n",
       "  </tbody>\n",
       "</table>\n",
       "<p>5 rows × 42 columns</p>\n",
       "</div>"
      ],
      "text/plain": [
       "          imo  voyage_number  vessel_type_id  vessel_class_id  \\\n",
       "4545  9821706             24               1               86   \n",
       "4547  9821706             26               1               86   \n",
       "4550  9821706             29               1               86   \n",
       "4551  9821706             30               1               86   \n",
       "4605  9829899             20               1               86   \n",
       "\n",
       "      vessel_status_id  commercial_operator_id  deleted  \\\n",
       "4545                 1                    1831    False   \n",
       "4547                 1                    1831    False   \n",
       "4550                 1                    1831    False   \n",
       "4551                 1                    1831    False   \n",
       "4605                 1                    1831    False   \n",
       "\n",
       "                                                 events                 id  \\\n",
       "4545  (VoyageEvent(id='I95DE0ASED7805D00', port_id=3...  I95DE0AVED7805D00   \n",
       "4547  (VoyageEvent(id='I95DE0ASED7C24800', port_id=1...  I95DE0AVED7C24800   \n",
       "4550  (VoyageEvent(id='I95DE0ASED8116200', port_id=3...  I95DE0AVED8116200   \n",
       "4551  (VoyageEvent(id='I95DE0ASED81E9100', port_id=3...  I95DE0AVED81E9100   \n",
       "4605  (VoyageEvent(id='I95FE0BSED7CF7700', port_id=3...  I95FE0BVED7CF7700   \n",
       "\n",
       "           vessel_name  ...                 laycan_to fixture_status_id  \\\n",
       "4545     Elandra Sound  ... 2021-01-11 19:55:25+00:00               1.0   \n",
       "4547     Elandra Sound  ... 2021-02-23 19:56:24+00:00               1.0   \n",
       "4550     Elandra Sound  ... 2021-05-12 00:00:00+00:00               1.0   \n",
       "4551     Elandra Sound  ... 2021-06-02 00:00:00+00:00               0.0   \n",
       "4605  Navig8 Pride Lhj  ... 2021-03-26 23:59:00+00:00               1.0   \n",
       "\n",
       "     fixture_status                     fixture_date fixture_is_coa  \\\n",
       "4545     FullyFixed        2021-01-05 14:26:27+00:00          False   \n",
       "4547     FullyFixed        2021-02-15 12:23:18+00:00           True   \n",
       "4550     FullyFixed        2021-04-27 09:44:15+00:00          False   \n",
       "4551         OnSubs 2021-05-19 11:20:25.850000+00:00          False   \n",
       "4605     FullyFixed        2021-03-12 02:44:42+00:00          False   \n",
       "\n",
       "     fixture_is_hold is_implied_by_ais has_manual_entries ballast_distance  \\\n",
       "4545           False              None               None           549.77   \n",
       "4547           False              None               None           466.73   \n",
       "4550           False              None               True          1691.13   \n",
       "4551           False              None               True              NaN   \n",
       "4605           False              None               None          2605.56   \n",
       "\n",
       "      laden_distance  \n",
       "4545         5311.35  \n",
       "4547          554.81  \n",
       "4550         1979.97  \n",
       "4551             NaN  \n",
       "4605         2874.46  \n",
       "\n",
       "[5 rows x 42 columns]"
      ]
     },
     "execution_count": 9,
     "metadata": {},
     "output_type": "execute_result"
    }
   ],
   "source": [
    "com_op_voyages.tail()"
   ]
  },
  {
   "cell_type": "markdown",
   "metadata": {},
   "source": [
    "We need the information regarding the first load of the voyage. It will be the basis port for the htl query."
   ]
  },
  {
   "cell_type": "code",
   "execution_count": 10,
   "metadata": {},
   "outputs": [],
   "source": [
    "def get_voyage_first_load_port(voyage_events):\n",
    "    return next((e.port_name for e in voyage_events or [] if e.purpose=='Load'), None)\n",
    "\n",
    "com_op_voyages['first_load_port'] = com_op_voyages['events'].apply(get_voyage_first_load_port)"
   ]
  },
  {
   "cell_type": "markdown",
   "metadata": {},
   "source": [
    "The htl_query function is going to call the HTL api for each voyage, using as parameters its attributes.  \n",
    "Also it should be mentioned that fixture date refers to the date of the first fixture reporting the specific voyage.   "
   ]
  },
  {
   "cell_type": "code",
   "execution_count": 11,
   "metadata": {},
   "outputs": [],
   "source": [
    "import numpy as np\n",
    "\n",
    "def htl_query(**params):\n",
    "    port = port_api.get_ports(PortFilter(name_like=params['port_name']))[0]\n",
    "    vessel_class = vessel_class_api.get_vessel_classes(VesselClassFilter(name_like=params['vessel_class']))[0]\n",
    "    date_of_interest = params['fixture_date']\n",
    "    laycanEndInDays = (params['laycan_end'] - date_of_interest).days\n",
    "    \n",
    "    if laycanEndInDays<=0:\n",
    "        return {}\n",
    "    \n",
    "    vessel_filter = VesselFilter(\n",
    "        push_types=[PushType.PUSHED, PushType.PUSHED_POSS],\n",
    "        market_deployments=[MarketDeployment.RELET, MarketDeployment.SPOT],\n",
    "        commercial_statuses=[CommercialStatus.AVAILABLE, CommercialStatus.CANCELLED, CommercialStatus.FAILED],\n",
    "        vessel_subclass=VesselSubclass.DIRTY,\n",
    "        latest_ais_since=5\n",
    "    )\n",
    "    \n",
    "    htl_for_supply_trend = htl_api.get_historical_tonnage_list(\n",
    "        port,\n",
    "        vessel_class,\n",
    "        laycanEndInDays,\n",
    "        start_date = date_of_interest- timedelta(days=3),\n",
    "        end_date = date_of_interest,\n",
    "        vessel_filter=vessel_filter,\n",
    "        time=time(hour=6)\n",
    "    )\n",
    "    supply_trend_data_frame = htl_for_supply_trend.to_data_frame()\n",
    "    supply_trend = supply_trend_data_frame.groupby(IndexLevel.DATE, sort=True).size().to_dict()\n",
    "    \n",
    "    return supply_trend\n",
    "    "
   ]
  },
  {
   "cell_type": "code",
   "execution_count": 12,
   "metadata": {},
   "outputs": [
    {
     "name": "stdout",
     "output_type": "stream",
     "text": [
      "# of calls to HTL api: 44\n"
     ]
    }
   ],
   "source": [
    "print(f'# of calls to HTL api: {com_op_voyages.shape[0]}')"
   ]
  },
  {
   "cell_type": "code",
   "execution_count": 13,
   "metadata": {},
   "outputs": [],
   "source": [
    "com_op_voyages['supply_trend'] = com_op_voyages\\\n",
    "                                .apply(lambda row:htl_query(port_name = row['first_load_port'],\n",
    "                                                            vessel_class = row['vessel_class'],\n",
    "                                                            fixture_date = row['fixture_date'].date(),\n",
    "                                                            laycan_end = row['laycan_to'].date()),axis=1)"
   ]
  },
  {
   "cell_type": "code",
   "execution_count": 14,
   "metadata": {
    "scrolled": true
   },
   "outputs": [],
   "source": [
    "com_op_voyages[['Same day','1 day before','2 days before','3 days before']] = com_op_voyages['supply_trend']\\\n",
    "                                                                             .apply(lambda x: list(x.values())[::-1]).apply(pd.Series).values"
   ]
  },
  {
   "cell_type": "code",
   "execution_count": 15,
   "metadata": {},
   "outputs": [],
   "source": [
    "com_op_voyages['laycan window'] = [str(laycan_window.days) + ' days' for laycan_window in  (com_op_voyages['laycan_to'] - com_op_voyages['fixture_date'])]"
   ]
  },
  {
   "cell_type": "code",
   "execution_count": 16,
   "metadata": {},
   "outputs": [],
   "source": [
    "supply_trend_on_fixtures = com_op_voyages[['vessel_name','voyage_number','fixture_date','first_load_port',\n",
    "                                           'laycan window','Same day','1 day before','2 days before','3 days before']].dropna()"
   ]
  },
  {
   "cell_type": "code",
   "execution_count": 17,
   "metadata": {},
   "outputs": [
    {
     "data": {
      "text/html": [
       "<div>\n",
       "<style scoped>\n",
       "    .dataframe tbody tr th:only-of-type {\n",
       "        vertical-align: middle;\n",
       "    }\n",
       "\n",
       "    .dataframe tbody tr th {\n",
       "        vertical-align: top;\n",
       "    }\n",
       "\n",
       "    .dataframe thead th {\n",
       "        text-align: right;\n",
       "    }\n",
       "</style>\n",
       "<table border=\"1\" class=\"dataframe\">\n",
       "  <thead>\n",
       "    <tr style=\"text-align: right;\">\n",
       "      <th></th>\n",
       "      <th>vessel_name</th>\n",
       "      <th>voyage_number</th>\n",
       "      <th>fixture_date</th>\n",
       "      <th>first_load_port</th>\n",
       "      <th>laycan window</th>\n",
       "      <th>Same day</th>\n",
       "      <th>1 day before</th>\n",
       "      <th>2 days before</th>\n",
       "      <th>3 days before</th>\n",
       "    </tr>\n",
       "  </thead>\n",
       "  <tbody>\n",
       "    <tr>\n",
       "      <th>4545</th>\n",
       "      <td>Elandra Sound</td>\n",
       "      <td>24</td>\n",
       "      <td>2021-01-05 14:26:27.000</td>\n",
       "      <td>Corpus Christi</td>\n",
       "      <td>6 days</td>\n",
       "      <td>7</td>\n",
       "      <td>13</td>\n",
       "      <td>10</td>\n",
       "      <td>10</td>\n",
       "    </tr>\n",
       "    <tr>\n",
       "      <th>4198</th>\n",
       "      <td>Antonis</td>\n",
       "      <td>54</td>\n",
       "      <td>2021-01-05 18:03:19.247</td>\n",
       "      <td>Cayo Arcas</td>\n",
       "      <td>9 days</td>\n",
       "      <td>14</td>\n",
       "      <td>17</td>\n",
       "      <td>20</td>\n",
       "      <td>18</td>\n",
       "    </tr>\n",
       "    <tr>\n",
       "      <th>4045</th>\n",
       "      <td>Dong-A Thetis</td>\n",
       "      <td>33</td>\n",
       "      <td>2021-01-11 16:29:28.000</td>\n",
       "      <td>Yanbu</td>\n",
       "      <td>17 days</td>\n",
       "      <td>131</td>\n",
       "      <td>122</td>\n",
       "      <td>115</td>\n",
       "      <td>130</td>\n",
       "    </tr>\n",
       "    <tr>\n",
       "      <th>1572</th>\n",
       "      <td>Alhani</td>\n",
       "      <td>102</td>\n",
       "      <td>2021-01-11 16:53:43.003</td>\n",
       "      <td>Corpus Christi</td>\n",
       "      <td>8 days</td>\n",
       "      <td>23</td>\n",
       "      <td>20</td>\n",
       "      <td>19</td>\n",
       "      <td>19</td>\n",
       "    </tr>\n",
       "    <tr>\n",
       "      <th>4048</th>\n",
       "      <td>Dong-A Maia</td>\n",
       "      <td>50</td>\n",
       "      <td>2021-01-11 21:05:10.203</td>\n",
       "      <td>Corpus Christi</td>\n",
       "      <td>10 days</td>\n",
       "      <td>27</td>\n",
       "      <td>25</td>\n",
       "      <td>23</td>\n",
       "      <td>19</td>\n",
       "    </tr>\n",
       "  </tbody>\n",
       "</table>\n",
       "</div>"
      ],
      "text/plain": [
       "        vessel_name  voyage_number            fixture_date first_load_port  \\\n",
       "4545  Elandra Sound             24 2021-01-05 14:26:27.000  Corpus Christi   \n",
       "4198        Antonis             54 2021-01-05 18:03:19.247      Cayo Arcas   \n",
       "4045  Dong-A Thetis             33 2021-01-11 16:29:28.000           Yanbu   \n",
       "1572         Alhani            102 2021-01-11 16:53:43.003  Corpus Christi   \n",
       "4048    Dong-A Maia             50 2021-01-11 21:05:10.203  Corpus Christi   \n",
       "\n",
       "     laycan window  Same day  1 day before  2 days before  3 days before  \n",
       "4545        6 days         7            13             10             10  \n",
       "4198        9 days        14            17             20             18  \n",
       "4045       17 days       131           122            115            130  \n",
       "1572        8 days        23            20             19             19  \n",
       "4048       10 days        27            25             23             19  "
      ]
     },
     "execution_count": 17,
     "metadata": {},
     "output_type": "execute_result"
    }
   ],
   "source": [
    "supply_trend_on_fixtures = supply_trend_on_fixtures.astype({'fixture_date':'datetime64[ns]'})\n",
    "supply_trend_on_fixtures.sort_values('fixture_date').head()"
   ]
  },
  {
   "cell_type": "code",
   "execution_count": 18,
   "metadata": {},
   "outputs": [],
   "source": [
    "supply_trend_on_fixtures.to_excel('supply_trend_on_fixture_day.xlsx')"
   ]
  }
 ],
 "metadata": {
  "kernelspec": {
   "display_name": "Python 3",
   "language": "python",
   "name": "python3"
  },
  "language_info": {
   "codemirror_mode": {
    "name": "ipython",
    "version": 3
   },
   "file_extension": ".py",
   "mimetype": "text/x-python",
   "name": "python",
   "nbconvert_exporter": "python",
   "pygments_lexer": "ipython3",
   "version": "3.8.5"
  }
 },
 "nbformat": 4,
 "nbformat_minor": 4
}
