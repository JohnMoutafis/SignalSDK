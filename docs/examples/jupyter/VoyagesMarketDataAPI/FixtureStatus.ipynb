{
 "cells": [
  {
   "cell_type": "markdown",
   "id": "e2e44921-cae2-4511-a8dd-6cdd20794ef5",
   "metadata": {},
   "source": [
    "# Fixtures Status\n",
    "\n",
    "## Run this example in [Colab](https://colab.research.google.com/github/SignalOceanSdk/SignalSDK/blob/master/docs/examples/jupyter/VoyagesMarketDataAPI/RateTrend.ipynb) "
   ]
  },
  {
   "cell_type": "markdown",
   "id": "cde2b7a4-6073-406e-8cd5-ebbb92293fa0",
   "metadata": {},
   "source": [
    "This example plots the number of fixtures per month, grouped by status for Very Large Crude Carriers (VLCCs)"
   ]
  },
  {
   "cell_type": "markdown",
   "id": "4f310e0a-8625-4da8-9acb-f9315ef004ac",
   "metadata": {},
   "source": [
    "<h3>Setup</h3>"
   ]
  },
  {
   "cell_type": "markdown",
   "id": "2bccb1c4-f85b-4de6-96ac-a7b60c341d0c",
   "metadata": {},
   "source": [
    "Install the Signal Ocean SDK:"
   ]
  },
  {
   "cell_type": "code",
   "execution_count": null,
   "id": "bc4cc297-f1ac-4112-ab54-941604aa6e68",
   "metadata": {},
   "outputs": [],
   "source": [
    "pip install signal-ocean"
   ]
  },
  {
   "cell_type": "markdown",
   "id": "867e2a7c-d746-4f1b-917d-9bfe189581a9",
   "metadata": {
    "id": "8hq1SgijyOr6"
   },
   "source": [
    "Import required libraries / APIs / packages:"
   ]
  },
  {
   "cell_type": "markdown",
   "id": "5e7eb8bf-ef8f-4e43-9e15-f7c5abe9ec09",
   "metadata": {},
   "source": [
    "<h3>Import Voyages Market Data API and some additional libraries</h3>"
   ]
  },
  {
   "cell_type": "code",
   "execution_count": 1,
   "id": "4db89bbc-28d1-4de1-9ca0-823515afa84f",
   "metadata": {
    "tags": []
   },
   "outputs": [],
   "source": [
    "import pandas as pd\n",
    "import plotly.express as px\n",
    "from datetime import date, timedelta, datetime\n",
    "\n",
    "from signal_ocean import Connection\n",
    "from signal_ocean.voyages_market_data import VoyagesMarketDataAPI"
   ]
  },
  {
   "cell_type": "markdown",
   "id": "d71b3458-048c-44d5-9e04-95907bc0780f",
   "metadata": {
    "id": "w3y19XNwyOr8"
   },
   "source": [
    "Fill in your personal SignalOcean API subscription key acquired <a href=\"https://apis.signalocean.com/profile\" target=\"_blank\">here</a> and open a connection:"
   ]
  },
  {
   "cell_type": "code",
   "execution_count": 2,
   "id": "a49e5580-941e-4986-a728-5a3c7dd84816",
   "metadata": {
    "tags": []
   },
   "outputs": [],
   "source": [
    "signal_ocean_api_key = '' #replace with your subscription key"
   ]
  },
  {
   "cell_type": "markdown",
   "id": "ee32eae6-3e3c-4932-bafc-c5e74996cc73",
   "metadata": {},
   "source": [
    "Create a connection"
   ]
  },
  {
   "cell_type": "code",
   "execution_count": 3,
   "id": "b0c0a7d3-acff-47aa-bd90-364c1d34cacc",
   "metadata": {
    "tags": []
   },
   "outputs": [],
   "source": [
    "connection = Connection(signal_ocean_api_key)\n",
    "api = VoyagesMarketDataAPI(connection)"
   ]
  },
  {
   "cell_type": "markdown",
   "id": "64b79c6e-2115-4555-ac0a-e8f01be68b70",
   "metadata": {},
   "source": [
    "<h3>Call the API to Get market data</h3>"
   ]
  },
  {
   "cell_type": "code",
   "execution_count": 2,
   "id": "d4ff86a6-09d1-49ac-b3ae-ac741531e910",
   "metadata": {
    "tags": []
   },
   "outputs": [],
   "source": [
    "result = api.get_voyage_market_data(vessel_class_id=84, include_fixtures = True, include_matched_fixture = True, include_labels = True)"
   ]
  },
  {
   "cell_type": "markdown",
   "id": "19987f4e-8589-4fb5-a074-5a1f7799ddfb",
   "metadata": {},
   "source": [
    "Get data into a dataframe"
   ]
  },
  {
   "cell_type": "code",
   "execution_count": 3,
   "id": "c0e58895-26fb-4bdf-8360-560c6aa6b600",
   "metadata": {},
   "outputs": [],
   "source": [
    "voyages_market_data = pd.DataFrame([r.__dict__ for r in result])"
   ]
  },
  {
   "cell_type": "markdown",
   "id": "45a0768b-b7d4-44b4-979a-bf61db168d80",
   "metadata": {},
   "source": [
    "Extract date info from matched fixture"
   ]
  },
  {
   "cell_type": "code",
   "execution_count": 4,
   "id": "5af7d47c-f0ae-44f8-82e5-10a378f991af",
   "metadata": {},
   "outputs": [],
   "source": [
    "voyages_market_data = voyages_market_data[voyages_market_data['matched_fixture'].notna()]\n",
    "voyages_market_data['Date'] = voyages_market_data['matched_fixture'].apply(lambda mf: mf.laycan_from)"
   ]
  },
  {
   "cell_type": "markdown",
   "id": "2091f7e8-b44d-4c43-8781-6a364c7c19a3",
   "metadata": {},
   "source": [
    "<h3>Transform Data</h3>"
   ]
  },
  {
   "cell_type": "markdown",
   "id": "fd9f3cb6-5608-49d7-aea9-518a73d9f7e2",
   "metadata": {},
   "source": [
    "Drop rows that have no date"
   ]
  },
  {
   "cell_type": "code",
   "execution_count": 5,
   "id": "7477e9b7-a2f2-4c1c-b437-f7b1a5ca95c9",
   "metadata": {},
   "outputs": [],
   "source": [
    "voyages_market_data = voyages_market_data[voyages_market_data.Date.map(lambda d: isinstance(d,datetime))]"
   ]
  },
  {
   "cell_type": "markdown",
   "id": "beb0a67e-df17-4898-b08d-ed2464ac485d",
   "metadata": {},
   "source": [
    "Expand the dataframe to have one row per fixture and extract fixture_status"
   ]
  },
  {
   "cell_type": "code",
   "execution_count": 6,
   "id": "b2bb3668-939c-49a6-bbbf-d870f2f5b3a6",
   "metadata": {},
   "outputs": [],
   "source": [
    "voyages_market_data=voyages_market_data.explode('fixtures').reset_index(drop=True)\n",
    "voyages_market_data['fixture_status'] = voyages_market_data['fixtures'].apply(lambda f: f.fixture_status)"
   ]
  },
  {
   "cell_type": "markdown",
   "id": "9c026978-1c5a-430b-8c69-0cce34588fb8",
   "metadata": {},
   "source": [
    "Keep only rows with fixture_status info"
   ]
  },
  {
   "cell_type": "code",
   "execution_count": 7,
   "id": "8b485703-d4a4-407f-8990-8caec6d6979f",
   "metadata": {},
   "outputs": [],
   "source": [
    "voyages_market_data = voyages_market_data[voyages_market_data['fixture_status'].notna()][['Date', 'fixture_status', 'voyage_id']]"
   ]
  },
  {
   "cell_type": "markdown",
   "id": "adcd1615-cbdc-4428-b9b2-efc2d7b24fd2",
   "metadata": {},
   "source": [
    "Keep one fixture report for each status per voyage"
   ]
  },
  {
   "cell_type": "code",
   "execution_count": 8,
   "id": "2db49e69-b1fa-486c-af76-d50ab9cb4406",
   "metadata": {},
   "outputs": [
    {
     "data": {
      "text/html": [
       "<div>\n",
       "<style scoped>\n",
       "    .dataframe tbody tr th:only-of-type {\n",
       "        vertical-align: middle;\n",
       "    }\n",
       "\n",
       "    .dataframe tbody tr th {\n",
       "        vertical-align: top;\n",
       "    }\n",
       "\n",
       "    .dataframe thead th {\n",
       "        text-align: right;\n",
       "    }\n",
       "</style>\n",
       "<table border=\"1\" class=\"dataframe\">\n",
       "  <thead>\n",
       "    <tr style=\"text-align: right;\">\n",
       "      <th></th>\n",
       "      <th>Date</th>\n",
       "      <th>fixture_status</th>\n",
       "      <th>voyage_id</th>\n",
       "    </tr>\n",
       "  </thead>\n",
       "  <tbody>\n",
       "    <tr>\n",
       "      <th>62</th>\n",
       "      <td>2011-07-09 00:00:00+00:00</td>\n",
       "      <td>FullyFixed</td>\n",
       "      <td>I8818E7VEC5455F00</td>\n",
       "    </tr>\n",
       "    <tr>\n",
       "      <th>67</th>\n",
       "      <td>2011-08-28 00:00:00+00:00</td>\n",
       "      <td>FullyFixed</td>\n",
       "      <td>I8818E7VEC5BC0600</td>\n",
       "    </tr>\n",
       "    <tr>\n",
       "      <th>74</th>\n",
       "      <td>2011-10-10 00:00:00+00:00</td>\n",
       "      <td>FullyFixed</td>\n",
       "      <td>I8818E7VEC60B2000</td>\n",
       "    </tr>\n",
       "    <tr>\n",
       "      <th>77</th>\n",
       "      <td>2012-01-25 00:00:00+00:00</td>\n",
       "      <td>OnSubs</td>\n",
       "      <td>I8818E7VEC681C700</td>\n",
       "    </tr>\n",
       "    <tr>\n",
       "      <th>81</th>\n",
       "      <td>2012-03-05 00:00:00+00:00</td>\n",
       "      <td>FullyFixed</td>\n",
       "      <td>I8818E7VEC6D0E100</td>\n",
       "    </tr>\n",
       "  </tbody>\n",
       "</table>\n",
       "</div>"
      ],
      "text/plain": [
       "                        Date fixture_status          voyage_id\n",
       "62 2011-07-09 00:00:00+00:00     FullyFixed  I8818E7VEC5455F00\n",
       "67 2011-08-28 00:00:00+00:00     FullyFixed  I8818E7VEC5BC0600\n",
       "74 2011-10-10 00:00:00+00:00     FullyFixed  I8818E7VEC60B2000\n",
       "77 2012-01-25 00:00:00+00:00         OnSubs  I8818E7VEC681C700\n",
       "81 2012-03-05 00:00:00+00:00     FullyFixed  I8818E7VEC6D0E100"
      ]
     },
     "execution_count": 8,
     "metadata": {},
     "output_type": "execute_result"
    }
   ],
   "source": [
    "voyages_market_data = voyages_market_data.drop_duplicates(subset=['voyage_id', 'fixture_status'], keep='last')\n",
    "voyages_market_data.head()"
   ]
  },
  {
   "cell_type": "markdown",
   "id": "c3f99ff1-b2a4-4108-bc4d-581fc7062e73",
   "metadata": {},
   "source": [
    "Keep only Month and year info on Date"
   ]
  },
  {
   "cell_type": "code",
   "execution_count": 9,
   "id": "c26d28c2-55d5-401e-bbfa-5b5fb6d4dd34",
   "metadata": {},
   "outputs": [
    {
     "name": "stderr",
     "output_type": "stream",
     "text": [
      "C:\\Users\\l.kolonis\\Anaconda3\\envs\\python38\\lib\\site-packages\\pandas\\core\\arrays\\datetimes.py:1143: UserWarning: Converting to PeriodArray/Index representation will drop timezone information.\n",
      "  warnings.warn(\n"
     ]
    },
    {
     "data": {
      "text/html": [
       "<div>\n",
       "<style scoped>\n",
       "    .dataframe tbody tr th:only-of-type {\n",
       "        vertical-align: middle;\n",
       "    }\n",
       "\n",
       "    .dataframe tbody tr th {\n",
       "        vertical-align: top;\n",
       "    }\n",
       "\n",
       "    .dataframe thead th {\n",
       "        text-align: right;\n",
       "    }\n",
       "</style>\n",
       "<table border=\"1\" class=\"dataframe\">\n",
       "  <thead>\n",
       "    <tr style=\"text-align: right;\">\n",
       "      <th></th>\n",
       "      <th>Date</th>\n",
       "      <th>fixture_status</th>\n",
       "      <th>voyage_id</th>\n",
       "    </tr>\n",
       "  </thead>\n",
       "  <tbody>\n",
       "    <tr>\n",
       "      <th>62</th>\n",
       "      <td>2011-07</td>\n",
       "      <td>FullyFixed</td>\n",
       "      <td>I8818E7VEC5455F00</td>\n",
       "    </tr>\n",
       "    <tr>\n",
       "      <th>67</th>\n",
       "      <td>2011-08</td>\n",
       "      <td>FullyFixed</td>\n",
       "      <td>I8818E7VEC5BC0600</td>\n",
       "    </tr>\n",
       "    <tr>\n",
       "      <th>74</th>\n",
       "      <td>2011-10</td>\n",
       "      <td>FullyFixed</td>\n",
       "      <td>I8818E7VEC60B2000</td>\n",
       "    </tr>\n",
       "    <tr>\n",
       "      <th>77</th>\n",
       "      <td>2012-01</td>\n",
       "      <td>OnSubs</td>\n",
       "      <td>I8818E7VEC681C700</td>\n",
       "    </tr>\n",
       "    <tr>\n",
       "      <th>81</th>\n",
       "      <td>2012-03</td>\n",
       "      <td>FullyFixed</td>\n",
       "      <td>I8818E7VEC6D0E100</td>\n",
       "    </tr>\n",
       "  </tbody>\n",
       "</table>\n",
       "</div>"
      ],
      "text/plain": [
       "       Date fixture_status          voyage_id\n",
       "62  2011-07     FullyFixed  I8818E7VEC5455F00\n",
       "67  2011-08     FullyFixed  I8818E7VEC5BC0600\n",
       "74  2011-10     FullyFixed  I8818E7VEC60B2000\n",
       "77  2012-01         OnSubs  I8818E7VEC681C700\n",
       "81  2012-03     FullyFixed  I8818E7VEC6D0E100"
      ]
     },
     "execution_count": 9,
     "metadata": {},
     "output_type": "execute_result"
    }
   ],
   "source": [
    "voyages_market_data['Date'] = pd.to_datetime(voyages_market_data['Date'], utc=True).dt.to_period('M')\n",
    "voyages_market_data.head()"
   ]
  },
  {
   "cell_type": "markdown",
   "id": "30e0aee5-df45-45ee-b1e3-b8f84c6abbcf",
   "metadata": {},
   "source": [
    "<h3>Group and plot</h3>"
   ]
  },
  {
   "cell_type": "code",
   "execution_count": 10,
   "id": "63b85a11-c80c-4506-907b-fbc389c06c8d",
   "metadata": {},
   "outputs": [
    {
     "data": {
      "text/html": [
       "<div>\n",
       "<style scoped>\n",
       "    .dataframe tbody tr th:only-of-type {\n",
       "        vertical-align: middle;\n",
       "    }\n",
       "\n",
       "    .dataframe tbody tr th {\n",
       "        vertical-align: top;\n",
       "    }\n",
       "\n",
       "    .dataframe thead th {\n",
       "        text-align: right;\n",
       "    }\n",
       "</style>\n",
       "<table border=\"1\" class=\"dataframe\">\n",
       "  <thead>\n",
       "    <tr style=\"text-align: right;\">\n",
       "      <th></th>\n",
       "      <th>Date</th>\n",
       "      <th>fixture_status</th>\n",
       "      <th>Count</th>\n",
       "    </tr>\n",
       "  </thead>\n",
       "  <tbody>\n",
       "    <tr>\n",
       "      <th>463</th>\n",
       "      <td>2022-07</td>\n",
       "      <td>Failed</td>\n",
       "      <td>5</td>\n",
       "    </tr>\n",
       "    <tr>\n",
       "      <th>467</th>\n",
       "      <td>2022-08</td>\n",
       "      <td>FullyFixed</td>\n",
       "      <td>51</td>\n",
       "    </tr>\n",
       "    <tr>\n",
       "      <th>468</th>\n",
       "      <td>2022-08</td>\n",
       "      <td>OnSubs</td>\n",
       "      <td>113</td>\n",
       "    </tr>\n",
       "    <tr>\n",
       "      <th>466</th>\n",
       "      <td>2022-08</td>\n",
       "      <td>Failed</td>\n",
       "      <td>9</td>\n",
       "    </tr>\n",
       "    <tr>\n",
       "      <th>469</th>\n",
       "      <td>2022-09</td>\n",
       "      <td>OnSubs</td>\n",
       "      <td>3</td>\n",
       "    </tr>\n",
       "  </tbody>\n",
       "</table>\n",
       "</div>"
      ],
      "text/plain": [
       "        Date fixture_status  Count\n",
       "463  2022-07         Failed      5\n",
       "467  2022-08     FullyFixed     51\n",
       "468  2022-08         OnSubs    113\n",
       "466  2022-08         Failed      9\n",
       "469  2022-09         OnSubs      3"
      ]
     },
     "execution_count": 10,
     "metadata": {},
     "output_type": "execute_result"
    }
   ],
   "source": [
    "voyages_market_data_grouped = voyages_market_data.groupby(['Date', 'fixture_status']).size().reset_index(name=\"Count\")\n",
    "voyages_market_data_grouped.sort_values(['Date'], ascending = True, inplace = True)\n",
    "voyages_market_data_grouped.tail()"
   ]
  },
  {
   "cell_type": "code",
   "execution_count": 11,
   "id": "d2cc19b3-c78a-4b78-bb7a-2000eab15be8",
   "metadata": {},
   "outputs": [],
   "source": [
    "voyages_market_data_grouped=voyages_market_data_grouped[voyages_market_data_grouped['Date']>='2020-01']\n",
    "voyages_market_data_grouped['Date'] = voyages_market_data_grouped['Date'].astype(str)"
   ]
  },
  {
   "cell_type": "code",
   "execution_count": 14,
   "id": "6208bbaa-6394-4399-810e-c686b136dba9",
   "metadata": {},
   "outputs": [
    {
     "data": {
      "image/png": "[encoded data removed]"
     },
     "metadata": {},
     "output_type": "display_data"
    }
   ],
   "source": [
    "fig = px.bar(voyages_market_data_grouped, x=\"Date\", y=\"Count\", color='fixture_status', orientation='v',\n",
    "             barmode='group', height=500, width=1000,\n",
    "             title='VLCC Fixture Status over time',\n",
    "             color_discrete_sequence=px.colors.qualitative.Vivid)\n",
    "fig.show()"
   ]
  },
  {
   "cell_type": "code",
   "execution_count": null,
   "id": "e0c0a350-59dd-4201-97dd-f2f494064743",
   "metadata": {},
   "outputs": [],
   "source": []
  }
 ],
 "metadata": {
  "kernelspec": {
   "display_name": "Python 3 (ipykernel)",
   "language": "python",
   "name": "python3"
  },
  "language_info": {
   "codemirror_mode": {
    "name": "ipython",
    "version": 3
   },
   "file_extension": ".py",
   "mimetype": "text/x-python",
   "name": "python",
   "nbconvert_exporter": "python",
   "pygments_lexer": "ipython3",
   "version": "3.8.12"
  }
 },
 "nbformat": 4,
 "nbformat_minor": 5
}
