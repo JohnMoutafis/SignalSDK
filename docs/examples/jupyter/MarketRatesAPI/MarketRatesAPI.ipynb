{
 "cells": [
  {
   "cell_type": "markdown",
   "metadata": {
    "collapsed": false
   },
   "source": [
    "# Market Rates API Example\n",
    "\n",
    "## Run this example in [Colab](https://colab.research.google.com/github/SignalOceanSdk/SignalSDK/blob/master/docs/examples/jupyter/MarketRatesAPI/MarketRatesAPI.ipynb) "
   ]
  },
  {
   "cell_type": "markdown",
   "metadata": {
    "collapsed": false
   },
   "source": [
    "## Setup\n",
    "Install the Signal Ocean SDK:\n",
    "```\n",
    "pip install signal-ocean\n",
    "```\n",
    "Set your subscription key acquired here: https://apis.signalocean.com/profile"
   ]
  },
  {
   "cell_type": "code",
   "execution_count": 14,
   "metadata": {
    "collapsed": false,
    "pycharm": {
     "name": "#%%\n"
    }
   },
   "outputs": [],
   "source": [
    "signal_ocean_api_key = '' #replace with your subscription key"
   ]
  },
  {
   "cell_type": "markdown",
   "metadata": {
    "collapsed": false
   },
   "source": [
    "## Market Rates API\n",
    "The Market Rates API retrieves available routes and market rates. First create connection towards\n",
    "Market Rates API in order to find available routes by vessel class:"
   ]
  },
  {
   "cell_type": "code",
   "execution_count": 15,
   "metadata": {
    "collapsed": false,
    "pycharm": {
     "name": "#%%\n"
    }
   },
   "outputs": [],
   "source": [
    "from signal_ocean import Connection, MarketRatesAPI\n",
    "from datetime import date\n",
    "\n",
    "connection = Connection(api_key=signal_ocean_api_key)\n",
    "mr_api = MarketRatesAPI(connection)"
   ]
  },
  {
   "cell_type": "markdown",
   "metadata": {
    "collapsed": false
   },
   "source": [
    "#### Get the available vessel classes\n",
    "Retrieve the vessel classes for which we can get routes or market rates:"
   ]
  },
  {
   "cell_type": "code",
   "execution_count": 16,
   "metadata": {
    "collapsed": false,
    "pycharm": {
     "name": "#%%\n"
    }
   },
   "outputs": [
    {
     "name": "stdout",
     "output_type": "stream",
     "text": [
      "(VesselClass(id=60, vessel_type_id=6, from_size=70001, to_size=250000, name='VLGC', vessel_type='LPG', defining_size='CubicSize', size='cbm'), VesselClass(id=61, vessel_type_id=6, from_size=28001, to_size=70000, name='Midsize/LGC', vessel_type='LPG', defining_size='CubicSize', size='cbm'), VesselClass(id=62, vessel_type_id=6, from_size=10001, to_size=28000, name='Handy', vessel_type='LPG', defining_size='CubicSize', size='cbm'), VesselClass(id=63, vessel_type_id=6, from_size=0, to_size=10000, name='Small', vessel_type='LPG', defining_size='CubicSize', size='cbm'), VesselClass(id=69, vessel_type_id=3, from_size=220000, to_size=550000, name='VLOC', vessel_type='Dry', defining_size='DeadWeight', size='kt'), VesselClass(id=70, vessel_type_id=3, from_size=120000, to_size=219999, name='Capesize', vessel_type='Dry', defining_size='DeadWeight', size='kt'), VesselClass(id=72, vessel_type_id=3, from_size=85000, to_size=119999, name='Post Panamax Dry', vessel_type='Dry', defining_size='DeadWeight', size='kt'), VesselClass(id=74, vessel_type_id=3, from_size=67000, to_size=84999, name='Panamax Dry', vessel_type='Dry', defining_size='DeadWeight', size='kt'), VesselClass(id=75, vessel_type_id=3, from_size=50000, to_size=66999, name='Supramax', vessel_type='Dry', defining_size='DeadWeight', size='kt'), VesselClass(id=76, vessel_type_id=3, from_size=40000, to_size=49999, name='Handymax', vessel_type='Dry', defining_size='DeadWeight', size='kt'), VesselClass(id=77, vessel_type_id=3, from_size=20000, to_size=39999, name='Handysize', vessel_type='Dry', defining_size='DeadWeight', size='kt'), VesselClass(id=78, vessel_type_id=4, from_size=14501, to_size=25000, name='ULCV', vessel_type='Container', defining_size='TEU', size='TEU'), VesselClass(id=79, vessel_type_id=4, from_size=10001, to_size=14500, name='New Panamax', vessel_type='Container', defining_size='TEU', size='TEU'), VesselClass(id=80, vessel_type_id=4, from_size=5101, to_size=10000, name='Post Panamax', vessel_type='Container', defining_size='TEU', size='TEU'), VesselClass(id=81, vessel_type_id=4, from_size=3001, to_size=5100, name='Panamax', vessel_type='Container', defining_size='TEU', size='TEU'), VesselClass(id=82, vessel_type_id=4, from_size=2001, to_size=3000, name='Feedermax', vessel_type='Container', defining_size='TEU', size='TEU'), VesselClass(id=83, vessel_type_id=4, from_size=1001, to_size=2000, name='Feeder', vessel_type='Container', defining_size='TEU', size='TEU'), VesselClass(id=84, vessel_type_id=1, from_size=200000, to_size=349999, name='VLCC', vessel_type='Tanker', defining_size='DeadWeight', size='kt'), VesselClass(id=85, vessel_type_id=1, from_size=125000, to_size=199999, name='Suezmax', vessel_type='Tanker', defining_size='DeadWeight', size='kt'), VesselClass(id=86, vessel_type_id=1, from_size=82000, to_size=124999, name='Aframax', vessel_type='Tanker', defining_size='DeadWeight', size='kt'), VesselClass(id=87, vessel_type_id=1, from_size=60000, to_size=81999, name='Panamax Tanker', vessel_type='Tanker', defining_size='DeadWeight', size='kt'), VesselClass(id=88, vessel_type_id=1, from_size=42000, to_size=59999, name='MR2', vessel_type='Tanker', defining_size='DeadWeight', size='kt'), VesselClass(id=89, vessel_type_id=1, from_size=25000, to_size=41999, name='MR1', vessel_type='Tanker', defining_size='DeadWeight', size='kt'), VesselClass(id=90, vessel_type_id=1, from_size=0, to_size=24999, name='Small', vessel_type='Tanker', defining_size='DeadWeight', size='kt'), VesselClass(id=91, vessel_type_id=5, from_size=0, to_size=550000, name='LNG', vessel_type='LNG', defining_size='CubicSize', size='cbm'), VesselClass(id=92, vessel_type_id=3, from_size=0, to_size=19999, name='Small', vessel_type='Dry', defining_size='DeadWeight', size='kt'), VesselClass(id=94, vessel_type_id=1, from_size=350000, to_size=550000, name='ULCC', vessel_type='Tanker', defining_size='DeadWeight', size='kt'), VesselClass(id=95, vessel_type_id=4, from_size=0, to_size=1000, name='Small', vessel_type='Container', defining_size='TEU', size='TEU'))\n"
     ]
    }
   ],
   "source": [
    "vessel_classes = mr_api.get_vessel_classes()\n",
    "print(vessel_classes)"
   ]
  },
  {
   "cell_type": "markdown",
   "metadata": {
    "collapsed": false
   },
   "source": [
    "#### Get routes for a vessel class\n",
    "Based on the vessel classes that we got above we can request available routes for VLCC vessels"
   ]
  },
  {
   "cell_type": "code",
   "execution_count": 17,
   "metadata": {
    "collapsed": false,
    "pycharm": {
     "name": "#%%\n"
    }
   },
   "outputs": [
    {
     "name": "stdout",
     "output_type": "stream",
     "text": [
      "(Route(id='R5', description='VLCC - AG_FarEast', unit='WS', vessel_class_id=84, is_clean=False), Route(id='R6', description='VLCC - AG_Spore', unit='WS', vessel_class_id=84, is_clean=False), Route(id='R7', description='VLCC - AG_USG', unit='WS', vessel_class_id=84, is_clean=False), Route(id='R8', description='VLCC - WAfr_East', unit='WS', vessel_class_id=84, is_clean=False))\n"
     ]
    }
   ],
   "source": [
    "vlcc_vessel_class = next(vc for vc in vessel_classes if vc.name=='VLCC')\n",
    "vlcc_routes = mr_api.get_routes(vessel_class_id=vlcc_vessel_class.id)\n",
    "print(vlcc_routes)"
   ]
  },
  {
   "cell_type": "markdown",
   "metadata": {
    "collapsed": false
   },
   "source": [
    "#### Get the market rates\n",
    "Now we can request the market rate on a given date for one of the routes we got in previous step or\n",
    "for all routes matching this vessel class"
   ]
  },
  {
   "cell_type": "code",
   "execution_count": 18,
   "metadata": {
    "collapsed": false,
    "pycharm": {
     "name": "#%%\n"
    }
   },
   "outputs": [
    {
     "data": {
      "text/plain": [
       "(MarketRate(route_id='R8', rate_date='2020-01-02', rate_value=127.5, unit='WS', vessel_class_id=84),\n",
       " MarketRate(route_id='R7', rate_date='2020-01-02', rate_value=66.0, unit='WS', vessel_class_id=84),\n",
       " MarketRate(route_id='R5', rate_date='2020-01-02', rate_value=144.5, unit='WS', vessel_class_id=84),\n",
       " MarketRate(route_id='R6', rate_date='2020-01-02', rate_value=145.0, unit='WS', vessel_class_id=84))"
      ]
     },
     "execution_count": 18,
     "metadata": {},
     "output_type": "execute_result"
    }
   ],
   "source": [
    "mr_api.get_market_rates(date(2020, 1, 2), route_id=vlcc_routes[0].id)\n",
    "mr_api.get_market_rates(date(2020, 1, 2), vessel_class_id=vlcc_vessel_class.id)"
   ]
  },
  {
   "cell_type": "markdown",
   "metadata": {
    "collapsed": false
   },
   "source": [
    "We can also see how market rates evolve on the routes of a certain vessel class for a given time period.\n",
    "Below we plot the VLCC market rates in WS from October through December 2020."
   ]
  },
  {
   "cell_type": "code",
   "execution_count": 19,
   "metadata": {
    "collapsed": false,
    "pycharm": {
     "name": "#%%\n"
    }
   },
   "outputs": [
    {
     "data": {
      "image/png": "[encoded data removed]",
      "text/plain": [
       "<Figure size 432x288 with 1 Axes>"
      ]
     },
     "metadata": {
      "needs_background": "light"
     },
     "output_type": "display_data"
    }
   ],
   "source": [
    "import pandas as pd\n",
    "import warnings\n",
    "warnings.filterwarnings('ignore')\n",
    "\n",
    "vlcc_rates = mr_api.get_market_rates(start_date=date(2020, 10, 1),\n",
    "                                end_date=date(2020, 12, 31),\n",
    "                                vessel_class_id=vlcc_vessel_class.id)\n",
    "df = pd.DataFrame([vars(vr) for vr in vlcc_rates])\n",
    "df.set_index('rate_date', inplace=True)\n",
    "df.groupby('route_id')['rate_value'].plot(legend=True);"
   ]
  },
  {
   "cell_type": "code",
   "execution_count": null,
   "metadata": {
    "collapsed": false,
    "pycharm": {
     "name": "#%%\n"
    }
   },
   "outputs": [],
   "source": []
  }
 ],
 "metadata": {
  "kernelspec": {
   "display_name": "Python 3",
   "language": "python",
   "name": "python3"
  },
  "language_info": {
   "codemirror_mode": {
    "name": "ipython",
    "version": 2
   },
   "file_extension": ".py",
   "mimetype": "text/x-python",
   "name": "python",
   "nbconvert_exporter": "python",
   "pygments_lexer": "ipython2",
   "version": "2.7.6"
  }
 },
 "nbformat": 4,
 "nbformat_minor": 0
}
