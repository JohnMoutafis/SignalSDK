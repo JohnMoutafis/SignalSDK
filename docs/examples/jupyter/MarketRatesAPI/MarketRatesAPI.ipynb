{
 "cells": [
  {
   "cell_type": "markdown",
   "metadata": {
    "collapsed": false,
    "pycharm": {
     "name": "#%% md\n"
    }
   },
   "source": [
    "# Market Rates API Example\n",
    "\n",
    "## Run this example in [Colab](https://colab.research.google.com/github/SignalOceanSdk/SignalSDK/blob/master/docs/examples/jupyter/MarketRatesAPI/MarketRatesAPI.ipynb) "
   ]
  },
  {
   "cell_type": "markdown",
   "metadata": {
    "collapsed": false,
    "pycharm": {
     "name": "#%% md\n"
    }
   },
   "source": [
    "## Setup\n",
    "Install the Signal Ocean SDK:\n",
    "```\n",
    "pip install signal-ocean\n",
    "```\n",
    "Set your subscription key acquired here: https://apis.signalocean.com/profile"
   ]
  },
  {
   "cell_type": "code",
   "execution_count": 84,
   "metadata": {
    "collapsed": false,
    "pycharm": {
     "name": "#%%\n"
    }
   },
   "outputs": [],
   "source": [
    "signal_ocean_api_key = '' #replace with your subscription key"
   ]
  },
  {
   "cell_type": "markdown",
   "metadata": {
    "collapsed": false,
    "pycharm": {
     "name": "#%% md\n"
    }
   },
   "source": [
    "## Market Rates API\n",
    "The Market Rates API retrieves available routes and market rates. First create connection towards\n",
    "Market Rates API in order to find available routes by vessel class:"
   ]
  },
  {
   "cell_type": "code",
   "execution_count": 85,
   "metadata": {
    "collapsed": false,
    "pycharm": {
     "name": "#%%\n"
    }
   },
   "outputs": [],
   "source": [
    "from signal_ocean import Connection, MarketRatesAPI\n",
    "from datetime import date\n",
    "\n",
    "connection = Connection(api_key=signal_ocean_api_key)\n",
    "mr_api = MarketRatesAPI(connection)"
   ]
  },
  {
   "cell_type": "markdown",
   "metadata": {
    "collapsed": false,
    "pycharm": {
     "name": "#%% md\n"
    }
   },
   "source": [
    "#### Get the available vessel classes\n",
    "Retrieve the vessel classes for which we can get routes or market rates:"
   ]
  },
  {
   "cell_type": "code",
   "execution_count": 86,
   "metadata": {
    "collapsed": false,
    "pycharm": {
     "name": "#%%\n"
    }
   },
   "outputs": [
    {
     "data": {
      "application/vnd.plotly.v1+json": {
       "data": [
        {
         "colorscale": [
          [
           0,
           "#00083e"
          ],
          [
           0.5,
           "#ededee"
          ],
          [
           1,
           "#ffffff"
          ]
         ],
         "hoverinfo": "none",
         "opacity": 0.75,
         "showscale": false,
         "z": [
          [
           0,
           0,
           0,
           0,
           0,
           0,
           0,
           0,
           0
          ],
          [
           0,
           0.5,
           0.5,
           0.5,
           0.5,
           0.5,
           0.5,
           0.5,
           0.5
          ],
          [
           0,
           1,
           1,
           1,
           1,
           1,
           1,
           1,
           1
          ],
          [
           0,
           0.5,
           0.5,
           0.5,
           0.5,
           0.5,
           0.5,
           0.5,
           0.5
          ],
          [
           0,
           1,
           1,
           1,
           1,
           1,
           1,
           1,
           1
          ],
          [
           0,
           0.5,
           0.5,
           0.5,
           0.5,
           0.5,
           0.5,
           0.5,
           0.5
          ],
          [
           0,
           1,
           1,
           1,
           1,
           1,
           1,
           1,
           1
          ],
          [
           0,
           0.5,
           0.5,
           0.5,
           0.5,
           0.5,
           0.5,
           0.5,
           0.5
          ],
          [
           0,
           1,
           1,
           1,
           1,
           1,
           1,
           1,
           1
          ],
          [
           0,
           0.5,
           0.5,
           0.5,
           0.5,
           0.5,
           0.5,
           0.5,
           0.5
          ],
          [
           0,
           1,
           1,
           1,
           1,
           1,
           1,
           1,
           1
          ]
         ],
         "type": "heatmap"
        }
       ],
       "layout": {
        "annotations": [
         {
          "align": "left",
          "font": {
           "color": "#ffffff",
           "family": "Calibri",
           "size": 14
          },
          "showarrow": false,
          "text": "<b></b>",
          "x": -0.45,
          "xanchor": "left",
          "xref": "x",
          "y": 0,
          "yref": "y"
         },
         {
          "align": "left",
          "font": {
           "color": "#ffffff",
           "family": "Calibri",
           "size": 14
          },
          "showarrow": false,
          "text": "<b>Id</b>",
          "x": 0.55,
          "xanchor": "left",
          "xref": "x",
          "y": 0,
          "yref": "y"
         },
         {
          "align": "left",
          "font": {
           "color": "#ffffff",
           "family": "Calibri",
           "size": 14
          },
          "showarrow": false,
          "text": "<b>VesselTypeId</b>",
          "x": 1.55,
          "xanchor": "left",
          "xref": "x",
          "y": 0,
          "yref": "y"
         },
         {
          "align": "left",
          "font": {
           "color": "#ffffff",
           "family": "Calibri",
           "size": 14
          },
          "showarrow": false,
          "text": "<b>FromSize</b>",
          "x": 2.55,
          "xanchor": "left",
          "xref": "x",
          "y": 0,
          "yref": "y"
         },
         {
          "align": "left",
          "font": {
           "color": "#ffffff",
           "family": "Calibri",
           "size": 14
          },
          "showarrow": false,
          "text": "<b>ToSize</b>",
          "x": 3.55,
          "xanchor": "left",
          "xref": "x",
          "y": 0,
          "yref": "y"
         },
         {
          "align": "left",
          "font": {
           "color": "#ffffff",
           "family": "Calibri",
           "size": 14
          },
          "showarrow": false,
          "text": "<b>Name</b>",
          "x": 4.55,
          "xanchor": "left",
          "xref": "x",
          "y": 0,
          "yref": "y"
         },
         {
          "align": "left",
          "font": {
           "color": "#ffffff",
           "family": "Calibri",
           "size": 14
          },
          "showarrow": false,
          "text": "<b>VesselType</b>",
          "x": 5.55,
          "xanchor": "left",
          "xref": "x",
          "y": 0,
          "yref": "y"
         },
         {
          "align": "left",
          "font": {
           "color": "#ffffff",
           "family": "Calibri",
           "size": 14
          },
          "showarrow": false,
          "text": "<b>DefiningSize</b>",
          "x": 6.55,
          "xanchor": "left",
          "xref": "x",
          "y": 0,
          "yref": "y"
         },
         {
          "align": "left",
          "font": {
           "color": "#ffffff",
           "family": "Calibri",
           "size": 14
          },
          "showarrow": false,
          "text": "<b>Size</b>",
          "x": 7.55,
          "xanchor": "left",
          "xref": "x",
          "y": 0,
          "yref": "y"
         },
         {
          "align": "left",
          "font": {
           "color": "#ffffff",
           "family": "Calibri",
           "size": 14
          },
          "showarrow": false,
          "text": "<b>0</b>",
          "x": -0.45,
          "xanchor": "left",
          "xref": "x",
          "y": 1,
          "yref": "y"
         },
         {
          "align": "left",
          "font": {
           "color": "#000000",
           "family": "Calibri",
           "size": 14
          },
          "showarrow": false,
          "text": "70",
          "x": 0.55,
          "xanchor": "left",
          "xref": "x",
          "y": 1,
          "yref": "y"
         },
         {
          "align": "left",
          "font": {
           "color": "#000000",
           "family": "Calibri",
           "size": 14
          },
          "showarrow": false,
          "text": "3",
          "x": 1.55,
          "xanchor": "left",
          "xref": "x",
          "y": 1,
          "yref": "y"
         },
         {
          "align": "left",
          "font": {
           "color": "#000000",
           "family": "Calibri",
           "size": 14
          },
          "showarrow": false,
          "text": "120000",
          "x": 2.55,
          "xanchor": "left",
          "xref": "x",
          "y": 1,
          "yref": "y"
         },
         {
          "align": "left",
          "font": {
           "color": "#000000",
           "family": "Calibri",
           "size": 14
          },
          "showarrow": false,
          "text": "219999",
          "x": 3.55,
          "xanchor": "left",
          "xref": "x",
          "y": 1,
          "yref": "y"
         },
         {
          "align": "left",
          "font": {
           "color": "#000000",
           "family": "Calibri",
           "size": 14
          },
          "showarrow": false,
          "text": "Capesize",
          "x": 4.55,
          "xanchor": "left",
          "xref": "x",
          "y": 1,
          "yref": "y"
         },
         {
          "align": "left",
          "font": {
           "color": "#000000",
           "family": "Calibri",
           "size": 14
          },
          "showarrow": false,
          "text": "Dry",
          "x": 5.55,
          "xanchor": "left",
          "xref": "x",
          "y": 1,
          "yref": "y"
         },
         {
          "align": "left",
          "font": {
           "color": "#000000",
           "family": "Calibri",
           "size": 14
          },
          "showarrow": false,
          "text": "DeadWeight",
          "x": 6.55,
          "xanchor": "left",
          "xref": "x",
          "y": 1,
          "yref": "y"
         },
         {
          "align": "left",
          "font": {
           "color": "#000000",
           "family": "Calibri",
           "size": 14
          },
          "showarrow": false,
          "text": "kt",
          "x": 7.55,
          "xanchor": "left",
          "xref": "x",
          "y": 1,
          "yref": "y"
         },
         {
          "align": "left",
          "font": {
           "color": "#ffffff",
           "family": "Calibri",
           "size": 14
          },
          "showarrow": false,
          "text": "<b>1</b>",
          "x": -0.45,
          "xanchor": "left",
          "xref": "x",
          "y": 2,
          "yref": "y"
         },
         {
          "align": "left",
          "font": {
           "color": "#000000",
           "family": "Calibri",
           "size": 14
          },
          "showarrow": false,
          "text": "74",
          "x": 0.55,
          "xanchor": "left",
          "xref": "x",
          "y": 2,
          "yref": "y"
         },
         {
          "align": "left",
          "font": {
           "color": "#000000",
           "family": "Calibri",
           "size": 14
          },
          "showarrow": false,
          "text": "3",
          "x": 1.55,
          "xanchor": "left",
          "xref": "x",
          "y": 2,
          "yref": "y"
         },
         {
          "align": "left",
          "font": {
           "color": "#000000",
           "family": "Calibri",
           "size": 14
          },
          "showarrow": false,
          "text": "67000",
          "x": 2.55,
          "xanchor": "left",
          "xref": "x",
          "y": 2,
          "yref": "y"
         },
         {
          "align": "left",
          "font": {
           "color": "#000000",
           "family": "Calibri",
           "size": 14
          },
          "showarrow": false,
          "text": "84999",
          "x": 3.55,
          "xanchor": "left",
          "xref": "x",
          "y": 2,
          "yref": "y"
         },
         {
          "align": "left",
          "font": {
           "color": "#000000",
           "family": "Calibri",
           "size": 14
          },
          "showarrow": false,
          "text": "Panamax Dry",
          "x": 4.55,
          "xanchor": "left",
          "xref": "x",
          "y": 2,
          "yref": "y"
         },
         {
          "align": "left",
          "font": {
           "color": "#000000",
           "family": "Calibri",
           "size": 14
          },
          "showarrow": false,
          "text": "Dry",
          "x": 5.55,
          "xanchor": "left",
          "xref": "x",
          "y": 2,
          "yref": "y"
         },
         {
          "align": "left",
          "font": {
           "color": "#000000",
           "family": "Calibri",
           "size": 14
          },
          "showarrow": false,
          "text": "DeadWeight",
          "x": 6.55,
          "xanchor": "left",
          "xref": "x",
          "y": 2,
          "yref": "y"
         },
         {
          "align": "left",
          "font": {
           "color": "#000000",
           "family": "Calibri",
           "size": 14
          },
          "showarrow": false,
          "text": "kt",
          "x": 7.55,
          "xanchor": "left",
          "xref": "x",
          "y": 2,
          "yref": "y"
         },
         {
          "align": "left",
          "font": {
           "color": "#ffffff",
           "family": "Calibri",
           "size": 14
          },
          "showarrow": false,
          "text": "<b>2</b>",
          "x": -0.45,
          "xanchor": "left",
          "xref": "x",
          "y": 3,
          "yref": "y"
         },
         {
          "align": "left",
          "font": {
           "color": "#000000",
           "family": "Calibri",
           "size": 14
          },
          "showarrow": false,
          "text": "75",
          "x": 0.55,
          "xanchor": "left",
          "xref": "x",
          "y": 3,
          "yref": "y"
         },
         {
          "align": "left",
          "font": {
           "color": "#000000",
           "family": "Calibri",
           "size": 14
          },
          "showarrow": false,
          "text": "3",
          "x": 1.55,
          "xanchor": "left",
          "xref": "x",
          "y": 3,
          "yref": "y"
         },
         {
          "align": "left",
          "font": {
           "color": "#000000",
           "family": "Calibri",
           "size": 14
          },
          "showarrow": false,
          "text": "50000",
          "x": 2.55,
          "xanchor": "left",
          "xref": "x",
          "y": 3,
          "yref": "y"
         },
         {
          "align": "left",
          "font": {
           "color": "#000000",
           "family": "Calibri",
           "size": 14
          },
          "showarrow": false,
          "text": "66999",
          "x": 3.55,
          "xanchor": "left",
          "xref": "x",
          "y": 3,
          "yref": "y"
         },
         {
          "align": "left",
          "font": {
           "color": "#000000",
           "family": "Calibri",
           "size": 14
          },
          "showarrow": false,
          "text": "Supramax",
          "x": 4.55,
          "xanchor": "left",
          "xref": "x",
          "y": 3,
          "yref": "y"
         },
         {
          "align": "left",
          "font": {
           "color": "#000000",
           "family": "Calibri",
           "size": 14
          },
          "showarrow": false,
          "text": "Dry",
          "x": 5.55,
          "xanchor": "left",
          "xref": "x",
          "y": 3,
          "yref": "y"
         },
         {
          "align": "left",
          "font": {
           "color": "#000000",
           "family": "Calibri",
           "size": 14
          },
          "showarrow": false,
          "text": "DeadWeight",
          "x": 6.55,
          "xanchor": "left",
          "xref": "x",
          "y": 3,
          "yref": "y"
         },
         {
          "align": "left",
          "font": {
           "color": "#000000",
           "family": "Calibri",
           "size": 14
          },
          "showarrow": false,
          "text": "kt",
          "x": 7.55,
          "xanchor": "left",
          "xref": "x",
          "y": 3,
          "yref": "y"
         },
         {
          "align": "left",
          "font": {
           "color": "#ffffff",
           "family": "Calibri",
           "size": 14
          },
          "showarrow": false,
          "text": "<b>3</b>",
          "x": -0.45,
          "xanchor": "left",
          "xref": "x",
          "y": 4,
          "yref": "y"
         },
         {
          "align": "left",
          "font": {
           "color": "#000000",
           "family": "Calibri",
           "size": 14
          },
          "showarrow": false,
          "text": "77",
          "x": 0.55,
          "xanchor": "left",
          "xref": "x",
          "y": 4,
          "yref": "y"
         },
         {
          "align": "left",
          "font": {
           "color": "#000000",
           "family": "Calibri",
           "size": 14
          },
          "showarrow": false,
          "text": "3",
          "x": 1.55,
          "xanchor": "left",
          "xref": "x",
          "y": 4,
          "yref": "y"
         },
         {
          "align": "left",
          "font": {
           "color": "#000000",
           "family": "Calibri",
           "size": 14
          },
          "showarrow": false,
          "text": "20000",
          "x": 2.55,
          "xanchor": "left",
          "xref": "x",
          "y": 4,
          "yref": "y"
         },
         {
          "align": "left",
          "font": {
           "color": "#000000",
           "family": "Calibri",
           "size": 14
          },
          "showarrow": false,
          "text": "39999",
          "x": 3.55,
          "xanchor": "left",
          "xref": "x",
          "y": 4,
          "yref": "y"
         },
         {
          "align": "left",
          "font": {
           "color": "#000000",
           "family": "Calibri",
           "size": 14
          },
          "showarrow": false,
          "text": "Handysize",
          "x": 4.55,
          "xanchor": "left",
          "xref": "x",
          "y": 4,
          "yref": "y"
         },
         {
          "align": "left",
          "font": {
           "color": "#000000",
           "family": "Calibri",
           "size": 14
          },
          "showarrow": false,
          "text": "Dry",
          "x": 5.55,
          "xanchor": "left",
          "xref": "x",
          "y": 4,
          "yref": "y"
         },
         {
          "align": "left",
          "font": {
           "color": "#000000",
           "family": "Calibri",
           "size": 14
          },
          "showarrow": false,
          "text": "DeadWeight",
          "x": 6.55,
          "xanchor": "left",
          "xref": "x",
          "y": 4,
          "yref": "y"
         },
         {
          "align": "left",
          "font": {
           "color": "#000000",
           "family": "Calibri",
           "size": 14
          },
          "showarrow": false,
          "text": "kt",
          "x": 7.55,
          "xanchor": "left",
          "xref": "x",
          "y": 4,
          "yref": "y"
         },
         {
          "align": "left",
          "font": {
           "color": "#ffffff",
           "family": "Calibri",
           "size": 14
          },
          "showarrow": false,
          "text": "<b>4</b>",
          "x": -0.45,
          "xanchor": "left",
          "xref": "x",
          "y": 5,
          "yref": "y"
         },
         {
          "align": "left",
          "font": {
           "color": "#000000",
           "family": "Calibri",
           "size": 14
          },
          "showarrow": false,
          "text": "84",
          "x": 0.55,
          "xanchor": "left",
          "xref": "x",
          "y": 5,
          "yref": "y"
         },
         {
          "align": "left",
          "font": {
           "color": "#000000",
           "family": "Calibri",
           "size": 14
          },
          "showarrow": false,
          "text": "1",
          "x": 1.55,
          "xanchor": "left",
          "xref": "x",
          "y": 5,
          "yref": "y"
         },
         {
          "align": "left",
          "font": {
           "color": "#000000",
           "family": "Calibri",
           "size": 14
          },
          "showarrow": false,
          "text": "200000",
          "x": 2.55,
          "xanchor": "left",
          "xref": "x",
          "y": 5,
          "yref": "y"
         },
         {
          "align": "left",
          "font": {
           "color": "#000000",
           "family": "Calibri",
           "size": 14
          },
          "showarrow": false,
          "text": "349999",
          "x": 3.55,
          "xanchor": "left",
          "xref": "x",
          "y": 5,
          "yref": "y"
         },
         {
          "align": "left",
          "font": {
           "color": "#000000",
           "family": "Calibri",
           "size": 14
          },
          "showarrow": false,
          "text": "VLCC",
          "x": 4.55,
          "xanchor": "left",
          "xref": "x",
          "y": 5,
          "yref": "y"
         },
         {
          "align": "left",
          "font": {
           "color": "#000000",
           "family": "Calibri",
           "size": 14
          },
          "showarrow": false,
          "text": "Tanker",
          "x": 5.55,
          "xanchor": "left",
          "xref": "x",
          "y": 5,
          "yref": "y"
         },
         {
          "align": "left",
          "font": {
           "color": "#000000",
           "family": "Calibri",
           "size": 14
          },
          "showarrow": false,
          "text": "DeadWeight",
          "x": 6.55,
          "xanchor": "left",
          "xref": "x",
          "y": 5,
          "yref": "y"
         },
         {
          "align": "left",
          "font": {
           "color": "#000000",
           "family": "Calibri",
           "size": 14
          },
          "showarrow": false,
          "text": "kt",
          "x": 7.55,
          "xanchor": "left",
          "xref": "x",
          "y": 5,
          "yref": "y"
         },
         {
          "align": "left",
          "font": {
           "color": "#ffffff",
           "family": "Calibri",
           "size": 14
          },
          "showarrow": false,
          "text": "<b>5</b>",
          "x": -0.45,
          "xanchor": "left",
          "xref": "x",
          "y": 6,
          "yref": "y"
         },
         {
          "align": "left",
          "font": {
           "color": "#000000",
           "family": "Calibri",
           "size": 14
          },
          "showarrow": false,
          "text": "85",
          "x": 0.55,
          "xanchor": "left",
          "xref": "x",
          "y": 6,
          "yref": "y"
         },
         {
          "align": "left",
          "font": {
           "color": "#000000",
           "family": "Calibri",
           "size": 14
          },
          "showarrow": false,
          "text": "1",
          "x": 1.55,
          "xanchor": "left",
          "xref": "x",
          "y": 6,
          "yref": "y"
         },
         {
          "align": "left",
          "font": {
           "color": "#000000",
           "family": "Calibri",
           "size": 14
          },
          "showarrow": false,
          "text": "125000",
          "x": 2.55,
          "xanchor": "left",
          "xref": "x",
          "y": 6,
          "yref": "y"
         },
         {
          "align": "left",
          "font": {
           "color": "#000000",
           "family": "Calibri",
           "size": 14
          },
          "showarrow": false,
          "text": "199999",
          "x": 3.55,
          "xanchor": "left",
          "xref": "x",
          "y": 6,
          "yref": "y"
         },
         {
          "align": "left",
          "font": {
           "color": "#000000",
           "family": "Calibri",
           "size": 14
          },
          "showarrow": false,
          "text": "Suezmax",
          "x": 4.55,
          "xanchor": "left",
          "xref": "x",
          "y": 6,
          "yref": "y"
         },
         {
          "align": "left",
          "font": {
           "color": "#000000",
           "family": "Calibri",
           "size": 14
          },
          "showarrow": false,
          "text": "Tanker",
          "x": 5.55,
          "xanchor": "left",
          "xref": "x",
          "y": 6,
          "yref": "y"
         },
         {
          "align": "left",
          "font": {
           "color": "#000000",
           "family": "Calibri",
           "size": 14
          },
          "showarrow": false,
          "text": "DeadWeight",
          "x": 6.55,
          "xanchor": "left",
          "xref": "x",
          "y": 6,
          "yref": "y"
         },
         {
          "align": "left",
          "font": {
           "color": "#000000",
           "family": "Calibri",
           "size": 14
          },
          "showarrow": false,
          "text": "kt",
          "x": 7.55,
          "xanchor": "left",
          "xref": "x",
          "y": 6,
          "yref": "y"
         },
         {
          "align": "left",
          "font": {
           "color": "#ffffff",
           "family": "Calibri",
           "size": 14
          },
          "showarrow": false,
          "text": "<b>6</b>",
          "x": -0.45,
          "xanchor": "left",
          "xref": "x",
          "y": 7,
          "yref": "y"
         },
         {
          "align": "left",
          "font": {
           "color": "#000000",
           "family": "Calibri",
           "size": 14
          },
          "showarrow": false,
          "text": "86",
          "x": 0.55,
          "xanchor": "left",
          "xref": "x",
          "y": 7,
          "yref": "y"
         },
         {
          "align": "left",
          "font": {
           "color": "#000000",
           "family": "Calibri",
           "size": 14
          },
          "showarrow": false,
          "text": "1",
          "x": 1.55,
          "xanchor": "left",
          "xref": "x",
          "y": 7,
          "yref": "y"
         },
         {
          "align": "left",
          "font": {
           "color": "#000000",
           "family": "Calibri",
           "size": 14
          },
          "showarrow": false,
          "text": "82000",
          "x": 2.55,
          "xanchor": "left",
          "xref": "x",
          "y": 7,
          "yref": "y"
         },
         {
          "align": "left",
          "font": {
           "color": "#000000",
           "family": "Calibri",
           "size": 14
          },
          "showarrow": false,
          "text": "124999",
          "x": 3.55,
          "xanchor": "left",
          "xref": "x",
          "y": 7,
          "yref": "y"
         },
         {
          "align": "left",
          "font": {
           "color": "#000000",
           "family": "Calibri",
           "size": 14
          },
          "showarrow": false,
          "text": "Aframax",
          "x": 4.55,
          "xanchor": "left",
          "xref": "x",
          "y": 7,
          "yref": "y"
         },
         {
          "align": "left",
          "font": {
           "color": "#000000",
           "family": "Calibri",
           "size": 14
          },
          "showarrow": false,
          "text": "Tanker",
          "x": 5.55,
          "xanchor": "left",
          "xref": "x",
          "y": 7,
          "yref": "y"
         },
         {
          "align": "left",
          "font": {
           "color": "#000000",
           "family": "Calibri",
           "size": 14
          },
          "showarrow": false,
          "text": "DeadWeight",
          "x": 6.55,
          "xanchor": "left",
          "xref": "x",
          "y": 7,
          "yref": "y"
         },
         {
          "align": "left",
          "font": {
           "color": "#000000",
           "family": "Calibri",
           "size": 14
          },
          "showarrow": false,
          "text": "kt",
          "x": 7.55,
          "xanchor": "left",
          "xref": "x",
          "y": 7,
          "yref": "y"
         },
         {
          "align": "left",
          "font": {
           "color": "#ffffff",
           "family": "Calibri",
           "size": 14
          },
          "showarrow": false,
          "text": "<b>7</b>",
          "x": -0.45,
          "xanchor": "left",
          "xref": "x",
          "y": 8,
          "yref": "y"
         },
         {
          "align": "left",
          "font": {
           "color": "#000000",
           "family": "Calibri",
           "size": 14
          },
          "showarrow": false,
          "text": "87",
          "x": 0.55,
          "xanchor": "left",
          "xref": "x",
          "y": 8,
          "yref": "y"
         },
         {
          "align": "left",
          "font": {
           "color": "#000000",
           "family": "Calibri",
           "size": 14
          },
          "showarrow": false,
          "text": "1",
          "x": 1.55,
          "xanchor": "left",
          "xref": "x",
          "y": 8,
          "yref": "y"
         },
         {
          "align": "left",
          "font": {
           "color": "#000000",
           "family": "Calibri",
           "size": 14
          },
          "showarrow": false,
          "text": "60000",
          "x": 2.55,
          "xanchor": "left",
          "xref": "x",
          "y": 8,
          "yref": "y"
         },
         {
          "align": "left",
          "font": {
           "color": "#000000",
           "family": "Calibri",
           "size": 14
          },
          "showarrow": false,
          "text": "81999",
          "x": 3.55,
          "xanchor": "left",
          "xref": "x",
          "y": 8,
          "yref": "y"
         },
         {
          "align": "left",
          "font": {
           "color": "#000000",
           "family": "Calibri",
           "size": 14
          },
          "showarrow": false,
          "text": "Panamax Tanker",
          "x": 4.55,
          "xanchor": "left",
          "xref": "x",
          "y": 8,
          "yref": "y"
         },
         {
          "align": "left",
          "font": {
           "color": "#000000",
           "family": "Calibri",
           "size": 14
          },
          "showarrow": false,
          "text": "Tanker",
          "x": 5.55,
          "xanchor": "left",
          "xref": "x",
          "y": 8,
          "yref": "y"
         },
         {
          "align": "left",
          "font": {
           "color": "#000000",
           "family": "Calibri",
           "size": 14
          },
          "showarrow": false,
          "text": "DeadWeight",
          "x": 6.55,
          "xanchor": "left",
          "xref": "x",
          "y": 8,
          "yref": "y"
         },
         {
          "align": "left",
          "font": {
           "color": "#000000",
           "family": "Calibri",
           "size": 14
          },
          "showarrow": false,
          "text": "kt",
          "x": 7.55,
          "xanchor": "left",
          "xref": "x",
          "y": 8,
          "yref": "y"
         },
         {
          "align": "left",
          "font": {
           "color": "#ffffff",
           "family": "Calibri",
           "size": 14
          },
          "showarrow": false,
          "text": "<b>8</b>",
          "x": -0.45,
          "xanchor": "left",
          "xref": "x",
          "y": 9,
          "yref": "y"
         },
         {
          "align": "left",
          "font": {
           "color": "#000000",
           "family": "Calibri",
           "size": 14
          },
          "showarrow": false,
          "text": "88",
          "x": 0.55,
          "xanchor": "left",
          "xref": "x",
          "y": 9,
          "yref": "y"
         },
         {
          "align": "left",
          "font": {
           "color": "#000000",
           "family": "Calibri",
           "size": 14
          },
          "showarrow": false,
          "text": "1",
          "x": 1.55,
          "xanchor": "left",
          "xref": "x",
          "y": 9,
          "yref": "y"
         },
         {
          "align": "left",
          "font": {
           "color": "#000000",
           "family": "Calibri",
           "size": 14
          },
          "showarrow": false,
          "text": "42000",
          "x": 2.55,
          "xanchor": "left",
          "xref": "x",
          "y": 9,
          "yref": "y"
         },
         {
          "align": "left",
          "font": {
           "color": "#000000",
           "family": "Calibri",
           "size": 14
          },
          "showarrow": false,
          "text": "59999",
          "x": 3.55,
          "xanchor": "left",
          "xref": "x",
          "y": 9,
          "yref": "y"
         },
         {
          "align": "left",
          "font": {
           "color": "#000000",
           "family": "Calibri",
           "size": 14
          },
          "showarrow": false,
          "text": "MR2",
          "x": 4.55,
          "xanchor": "left",
          "xref": "x",
          "y": 9,
          "yref": "y"
         },
         {
          "align": "left",
          "font": {
           "color": "#000000",
           "family": "Calibri",
           "size": 14
          },
          "showarrow": false,
          "text": "Tanker",
          "x": 5.55,
          "xanchor": "left",
          "xref": "x",
          "y": 9,
          "yref": "y"
         },
         {
          "align": "left",
          "font": {
           "color": "#000000",
           "family": "Calibri",
           "size": 14
          },
          "showarrow": false,
          "text": "DeadWeight",
          "x": 6.55,
          "xanchor": "left",
          "xref": "x",
          "y": 9,
          "yref": "y"
         },
         {
          "align": "left",
          "font": {
           "color": "#000000",
           "family": "Calibri",
           "size": 14
          },
          "showarrow": false,
          "text": "kt",
          "x": 7.55,
          "xanchor": "left",
          "xref": "x",
          "y": 9,
          "yref": "y"
         },
         {
          "align": "left",
          "font": {
           "color": "#ffffff",
           "family": "Calibri",
           "size": 14
          },
          "showarrow": false,
          "text": "<b>9</b>",
          "x": -0.45,
          "xanchor": "left",
          "xref": "x",
          "y": 10,
          "yref": "y"
         },
         {
          "align": "left",
          "font": {
           "color": "#000000",
           "family": "Calibri",
           "size": 14
          },
          "showarrow": false,
          "text": "89",
          "x": 0.55,
          "xanchor": "left",
          "xref": "x",
          "y": 10,
          "yref": "y"
         },
         {
          "align": "left",
          "font": {
           "color": "#000000",
           "family": "Calibri",
           "size": 14
          },
          "showarrow": false,
          "text": "1",
          "x": 1.55,
          "xanchor": "left",
          "xref": "x",
          "y": 10,
          "yref": "y"
         },
         {
          "align": "left",
          "font": {
           "color": "#000000",
           "family": "Calibri",
           "size": 14
          },
          "showarrow": false,
          "text": "25000",
          "x": 2.55,
          "xanchor": "left",
          "xref": "x",
          "y": 10,
          "yref": "y"
         },
         {
          "align": "left",
          "font": {
           "color": "#000000",
           "family": "Calibri",
           "size": 14
          },
          "showarrow": false,
          "text": "41999",
          "x": 3.55,
          "xanchor": "left",
          "xref": "x",
          "y": 10,
          "yref": "y"
         },
         {
          "align": "left",
          "font": {
           "color": "#000000",
           "family": "Calibri",
           "size": 14
          },
          "showarrow": false,
          "text": "MR1",
          "x": 4.55,
          "xanchor": "left",
          "xref": "x",
          "y": 10,
          "yref": "y"
         },
         {
          "align": "left",
          "font": {
           "color": "#000000",
           "family": "Calibri",
           "size": 14
          },
          "showarrow": false,
          "text": "Tanker",
          "x": 5.55,
          "xanchor": "left",
          "xref": "x",
          "y": 10,
          "yref": "y"
         },
         {
          "align": "left",
          "font": {
           "color": "#000000",
           "family": "Calibri",
           "size": 14
          },
          "showarrow": false,
          "text": "DeadWeight",
          "x": 6.55,
          "xanchor": "left",
          "xref": "x",
          "y": 10,
          "yref": "y"
         },
         {
          "align": "left",
          "font": {
           "color": "#000000",
           "family": "Calibri",
           "size": 14
          },
          "showarrow": false,
          "text": "kt",
          "x": 7.55,
          "xanchor": "left",
          "xref": "x",
          "y": 10,
          "yref": "y"
         }
        ],
        "height": 380,
        "margin": {
         "b": 0,
         "l": 0,
         "r": 0,
         "t": 0
        },
        "xaxis": {
         "dtick": 1,
         "gridwidth": 2,
         "showticklabels": false,
         "tick0": -0.5,
         "ticks": "",
         "zeroline": false
        },
        "yaxis": {
         "autorange": "reversed",
         "dtick": 1,
         "gridwidth": 2,
         "showticklabels": false,
         "tick0": 0.5,
         "ticks": "",
         "zeroline": false
        },
        "template": {
         "data": {
          "histogram2dcontour": [
           {
            "type": "histogram2dcontour",
            "colorbar": {
             "outlinewidth": 0,
             "ticks": ""
            },
            "colorscale": [
             [
              0.0,
              "#0d0887"
             ],
             [
              0.1111111111111111,
              "#46039f"
             ],
             [
              0.2222222222222222,
              "#7201a8"
             ],
             [
              0.3333333333333333,
              "#9c179e"
             ],
             [
              0.4444444444444444,
              "#bd3786"
             ],
             [
              0.5555555555555556,
              "#d8576b"
             ],
             [
              0.6666666666666666,
              "#ed7953"
             ],
             [
              0.7777777777777778,
              "#fb9f3a"
             ],
             [
              0.8888888888888888,
              "#fdca26"
             ],
             [
              1.0,
              "#f0f921"
             ]
            ]
           }
          ],
          "choropleth": [
           {
            "type": "choropleth",
            "colorbar": {
             "outlinewidth": 0,
             "ticks": ""
            }
           }
          ],
          "histogram2d": [
           {
            "type": "histogram2d",
            "colorbar": {
             "outlinewidth": 0,
             "ticks": ""
            },
            "colorscale": [
             [
              0.0,
              "#0d0887"
             ],
             [
              0.1111111111111111,
              "#46039f"
             ],
             [
              0.2222222222222222,
              "#7201a8"
             ],
             [
              0.3333333333333333,
              "#9c179e"
             ],
             [
              0.4444444444444444,
              "#bd3786"
             ],
             [
              0.5555555555555556,
              "#d8576b"
             ],
             [
              0.6666666666666666,
              "#ed7953"
             ],
             [
              0.7777777777777778,
              "#fb9f3a"
             ],
             [
              0.8888888888888888,
              "#fdca26"
             ],
             [
              1.0,
              "#f0f921"
             ]
            ]
           }
          ],
          "heatmap": [
           {
            "type": "heatmap",
            "colorbar": {
             "outlinewidth": 0,
             "ticks": ""
            },
            "colorscale": [
             [
              0.0,
              "#0d0887"
             ],
             [
              0.1111111111111111,
              "#46039f"
             ],
             [
              0.2222222222222222,
              "#7201a8"
             ],
             [
              0.3333333333333333,
              "#9c179e"
             ],
             [
              0.4444444444444444,
              "#bd3786"
             ],
             [
              0.5555555555555556,
              "#d8576b"
             ],
             [
              0.6666666666666666,
              "#ed7953"
             ],
             [
              0.7777777777777778,
              "#fb9f3a"
             ],
             [
              0.8888888888888888,
              "#fdca26"
             ],
             [
              1.0,
              "#f0f921"
             ]
            ]
           }
          ],
          "heatmapgl": [
           {
            "type": "heatmapgl",
            "colorbar": {
             "outlinewidth": 0,
             "ticks": ""
            },
            "colorscale": [
             [
              0.0,
              "#0d0887"
             ],
             [
              0.1111111111111111,
              "#46039f"
             ],
             [
              0.2222222222222222,
              "#7201a8"
             ],
             [
              0.3333333333333333,
              "#9c179e"
             ],
             [
              0.4444444444444444,
              "#bd3786"
             ],
             [
              0.5555555555555556,
              "#d8576b"
             ],
             [
              0.6666666666666666,
              "#ed7953"
             ],
             [
              0.7777777777777778,
              "#fb9f3a"
             ],
             [
              0.8888888888888888,
              "#fdca26"
             ],
             [
              1.0,
              "#f0f921"
             ]
            ]
           }
          ],
          "contourcarpet": [
           {
            "type": "contourcarpet",
            "colorbar": {
             "outlinewidth": 0,
             "ticks": ""
            }
           }
          ],
          "contour": [
           {
            "type": "contour",
            "colorbar": {
             "outlinewidth": 0,
             "ticks": ""
            },
            "colorscale": [
             [
              0.0,
              "#0d0887"
             ],
             [
              0.1111111111111111,
              "#46039f"
             ],
             [
              0.2222222222222222,
              "#7201a8"
             ],
             [
              0.3333333333333333,
              "#9c179e"
             ],
             [
              0.4444444444444444,
              "#bd3786"
             ],
             [
              0.5555555555555556,
              "#d8576b"
             ],
             [
              0.6666666666666666,
              "#ed7953"
             ],
             [
              0.7777777777777778,
              "#fb9f3a"
             ],
             [
              0.8888888888888888,
              "#fdca26"
             ],
             [
              1.0,
              "#f0f921"
             ]
            ]
           }
          ],
          "surface": [
           {
            "type": "surface",
            "colorbar": {
             "outlinewidth": 0,
             "ticks": ""
            },
            "colorscale": [
             [
              0.0,
              "#0d0887"
             ],
             [
              0.1111111111111111,
              "#46039f"
             ],
             [
              0.2222222222222222,
              "#7201a8"
             ],
             [
              0.3333333333333333,
              "#9c179e"
             ],
             [
              0.4444444444444444,
              "#bd3786"
             ],
             [
              0.5555555555555556,
              "#d8576b"
             ],
             [
              0.6666666666666666,
              "#ed7953"
             ],
             [
              0.7777777777777778,
              "#fb9f3a"
             ],
             [
              0.8888888888888888,
              "#fdca26"
             ],
             [
              1.0,
              "#f0f921"
             ]
            ]
           }
          ],
          "mesh3d": [
           {
            "type": "mesh3d",
            "colorbar": {
             "outlinewidth": 0,
             "ticks": ""
            }
           }
          ],
          "scatter": [
           {
            "fillpattern": {
             "fillmode": "overlay",
             "size": 10,
             "solidity": 0.2
            },
            "type": "scatter"
           }
          ],
          "parcoords": [
           {
            "type": "parcoords",
            "line": {
             "colorbar": {
              "outlinewidth": 0,
              "ticks": ""
             }
            }
           }
          ],
          "scatterpolargl": [
           {
            "type": "scatterpolargl",
            "marker": {
             "colorbar": {
              "outlinewidth": 0,
              "ticks": ""
             }
            }
           }
          ],
          "bar": [
           {
            "error_x": {
             "color": "#2a3f5f"
            },
            "error_y": {
             "color": "#2a3f5f"
            },
            "marker": {
             "line": {
              "color": "#E5ECF6",
              "width": 0.5
             },
             "pattern": {
              "fillmode": "overlay",
              "size": 10,
              "solidity": 0.2
             }
            },
            "type": "bar"
           }
          ],
          "scattergeo": [
           {
            "type": "scattergeo",
            "marker": {
             "colorbar": {
              "outlinewidth": 0,
              "ticks": ""
             }
            }
           }
          ],
          "scatterpolar": [
           {
            "type": "scatterpolar",
            "marker": {
             "colorbar": {
              "outlinewidth": 0,
              "ticks": ""
             }
            }
           }
          ],
          "histogram": [
           {
            "marker": {
             "pattern": {
              "fillmode": "overlay",
              "size": 10,
              "solidity": 0.2
             }
            },
            "type": "histogram"
           }
          ],
          "scattergl": [
           {
            "type": "scattergl",
            "marker": {
             "colorbar": {
              "outlinewidth": 0,
              "ticks": ""
             }
            }
           }
          ],
          "scatter3d": [
           {
            "type": "scatter3d",
            "line": {
             "colorbar": {
              "outlinewidth": 0,
              "ticks": ""
             }
            },
            "marker": {
             "colorbar": {
              "outlinewidth": 0,
              "ticks": ""
             }
            }
           }
          ],
          "scattermapbox": [
           {
            "type": "scattermapbox",
            "marker": {
             "colorbar": {
              "outlinewidth": 0,
              "ticks": ""
             }
            }
           }
          ],
          "scatterternary": [
           {
            "type": "scatterternary",
            "marker": {
             "colorbar": {
              "outlinewidth": 0,
              "ticks": ""
             }
            }
           }
          ],
          "scattercarpet": [
           {
            "type": "scattercarpet",
            "marker": {
             "colorbar": {
              "outlinewidth": 0,
              "ticks": ""
             }
            }
           }
          ],
          "carpet": [
           {
            "aaxis": {
             "endlinecolor": "#2a3f5f",
             "gridcolor": "white",
             "linecolor": "white",
             "minorgridcolor": "white",
             "startlinecolor": "#2a3f5f"
            },
            "baxis": {
             "endlinecolor": "#2a3f5f",
             "gridcolor": "white",
             "linecolor": "white",
             "minorgridcolor": "white",
             "startlinecolor": "#2a3f5f"
            },
            "type": "carpet"
           }
          ],
          "table": [
           {
            "cells": {
             "fill": {
              "color": "#EBF0F8"
             },
             "line": {
              "color": "white"
             }
            },
            "header": {
             "fill": {
              "color": "#C8D4E3"
             },
             "line": {
              "color": "white"
             }
            },
            "type": "table"
           }
          ],
          "barpolar": [
           {
            "marker": {
             "line": {
              "color": "#E5ECF6",
              "width": 0.5
             },
             "pattern": {
              "fillmode": "overlay",
              "size": 10,
              "solidity": 0.2
             }
            },
            "type": "barpolar"
           }
          ],
          "pie": [
           {
            "automargin": true,
            "type": "pie"
           }
          ]
         },
         "layout": {
          "autotypenumbers": "strict",
          "colorway": [
           "#636efa",
           "#EF553B",
           "#00cc96",
           "#ab63fa",
           "#FFA15A",
           "#19d3f3",
           "#FF6692",
           "#B6E880",
           "#FF97FF",
           "#FECB52"
          ],
          "font": {
           "color": "#2a3f5f"
          },
          "hovermode": "closest",
          "hoverlabel": {
           "align": "left"
          },
          "paper_bgcolor": "white",
          "plot_bgcolor": "#E5ECF6",
          "polar": {
           "bgcolor": "#E5ECF6",
           "angularaxis": {
            "gridcolor": "white",
            "linecolor": "white",
            "ticks": ""
           },
           "radialaxis": {
            "gridcolor": "white",
            "linecolor": "white",
            "ticks": ""
           }
          },
          "ternary": {
           "bgcolor": "#E5ECF6",
           "aaxis": {
            "gridcolor": "white",
            "linecolor": "white",
            "ticks": ""
           },
           "baxis": {
            "gridcolor": "white",
            "linecolor": "white",
            "ticks": ""
           },
           "caxis": {
            "gridcolor": "white",
            "linecolor": "white",
            "ticks": ""
           }
          },
          "coloraxis": {
           "colorbar": {
            "outlinewidth": 0,
            "ticks": ""
           }
          },
          "colorscale": {
           "sequential": [
            [
             0.0,
             "#0d0887"
            ],
            [
             0.1111111111111111,
             "#46039f"
            ],
            [
             0.2222222222222222,
             "#7201a8"
            ],
            [
             0.3333333333333333,
             "#9c179e"
            ],
            [
             0.4444444444444444,
             "#bd3786"
            ],
            [
             0.5555555555555556,
             "#d8576b"
            ],
            [
             0.6666666666666666,
             "#ed7953"
            ],
            [
             0.7777777777777778,
             "#fb9f3a"
            ],
            [
             0.8888888888888888,
             "#fdca26"
            ],
            [
             1.0,
             "#f0f921"
            ]
           ],
           "sequentialminus": [
            [
             0.0,
             "#0d0887"
            ],
            [
             0.1111111111111111,
             "#46039f"
            ],
            [
             0.2222222222222222,
             "#7201a8"
            ],
            [
             0.3333333333333333,
             "#9c179e"
            ],
            [
             0.4444444444444444,
             "#bd3786"
            ],
            [
             0.5555555555555556,
             "#d8576b"
            ],
            [
             0.6666666666666666,
             "#ed7953"
            ],
            [
             0.7777777777777778,
             "#fb9f3a"
            ],
            [
             0.8888888888888888,
             "#fdca26"
            ],
            [
             1.0,
             "#f0f921"
            ]
           ],
           "diverging": [
            [
             0,
             "#8e0152"
            ],
            [
             0.1,
             "#c51b7d"
            ],
            [
             0.2,
             "#de77ae"
            ],
            [
             0.3,
             "#f1b6da"
            ],
            [
             0.4,
             "#fde0ef"
            ],
            [
             0.5,
             "#f7f7f7"
            ],
            [
             0.6,
             "#e6f5d0"
            ],
            [
             0.7,
             "#b8e186"
            ],
            [
             0.8,
             "#7fbc41"
            ],
            [
             0.9,
             "#4d9221"
            ],
            [
             1,
             "#276419"
            ]
           ]
          },
          "xaxis": {
           "gridcolor": "white",
           "linecolor": "white",
           "ticks": "",
           "title": {
            "standoff": 15
           },
           "zerolinecolor": "white",
           "automargin": true,
           "zerolinewidth": 2
          },
          "yaxis": {
           "gridcolor": "white",
           "linecolor": "white",
           "ticks": "",
           "title": {
            "standoff": 15
           },
           "zerolinecolor": "white",
           "automargin": true,
           "zerolinewidth": 2
          },
          "scene": {
           "xaxis": {
            "backgroundcolor": "#E5ECF6",
            "gridcolor": "white",
            "linecolor": "white",
            "showbackground": true,
            "ticks": "",
            "zerolinecolor": "white",
            "gridwidth": 2
           },
           "yaxis": {
            "backgroundcolor": "#E5ECF6",
            "gridcolor": "white",
            "linecolor": "white",
            "showbackground": true,
            "ticks": "",
            "zerolinecolor": "white",
            "gridwidth": 2
           },
           "zaxis": {
            "backgroundcolor": "#E5ECF6",
            "gridcolor": "white",
            "linecolor": "white",
            "showbackground": true,
            "ticks": "",
            "zerolinecolor": "white",
            "gridwidth": 2
           }
          },
          "shapedefaults": {
           "line": {
            "color": "#2a3f5f"
           }
          },
          "annotationdefaults": {
           "arrowcolor": "#2a3f5f",
           "arrowhead": 0,
           "arrowwidth": 1
          },
          "geo": {
           "bgcolor": "white",
           "landcolor": "#E5ECF6",
           "subunitcolor": "white",
           "showland": true,
           "showlakes": true,
           "lakecolor": "white"
          },
          "title": {
           "x": 0.05
          },
          "mapbox": {
           "style": "light"
          }
         }
        },
        "width": 900
       },
       "config": {
        "plotlyServerURL": "https://plot.ly"
       }
      },
      "text/html": "<div>                            <div id=\"846c4b56-272c-4ae3-a3fd-57ca17ee1e78\" class=\"plotly-graph-div\" style=\"height:380px; width:900px;\"></div>            <script type=\"text/javascript\">                require([\"plotly\"], function(Plotly) {                    window.PLOTLYENV=window.PLOTLYENV || {};                                    if (document.getElementById(\"846c4b56-272c-4ae3-a3fd-57ca17ee1e78\")) {                    Plotly.newPlot(                        \"846c4b56-272c-4ae3-a3fd-57ca17ee1e78\",                        [{\"colorscale\":[[0,\"#00083e\"],[0.5,\"#ededee\"],[1,\"#ffffff\"]],\"hoverinfo\":\"none\",\"opacity\":0.75,\"showscale\":false,\"z\":[[0,0,0,0,0,0,0,0,0],[0,0.5,0.5,0.5,0.5,0.5,0.5,0.5,0.5],[0,1,1,1,1,1,1,1,1],[0,0.5,0.5,0.5,0.5,0.5,0.5,0.5,0.5],[0,1,1,1,1,1,1,1,1],[0,0.5,0.5,0.5,0.5,0.5,0.5,0.5,0.5],[0,1,1,1,1,1,1,1,1],[0,0.5,0.5,0.5,0.5,0.5,0.5,0.5,0.5],[0,1,1,1,1,1,1,1,1],[0,0.5,0.5,0.5,0.5,0.5,0.5,0.5,0.5],[0,1,1,1,1,1,1,1,1]],\"type\":\"heatmap\"}],                        {\"annotations\":[{\"align\":\"left\",\"font\":{\"color\":\"#ffffff\",\"family\":\"Calibri\",\"size\":14},\"showarrow\":false,\"text\":\"<b></b>\",\"x\":-0.45,\"xanchor\":\"left\",\"xref\":\"x\",\"y\":0,\"yref\":\"y\"},{\"align\":\"left\",\"font\":{\"color\":\"#ffffff\",\"family\":\"Calibri\",\"size\":14},\"showarrow\":false,\"text\":\"<b>Id</b>\",\"x\":0.55,\"xanchor\":\"left\",\"xref\":\"x\",\"y\":0,\"yref\":\"y\"},{\"align\":\"left\",\"font\":{\"color\":\"#ffffff\",\"family\":\"Calibri\",\"size\":14},\"showarrow\":false,\"text\":\"<b>VesselTypeId</b>\",\"x\":1.55,\"xanchor\":\"left\",\"xref\":\"x\",\"y\":0,\"yref\":\"y\"},{\"align\":\"left\",\"font\":{\"color\":\"#ffffff\",\"family\":\"Calibri\",\"size\":14},\"showarrow\":false,\"text\":\"<b>FromSize</b>\",\"x\":2.55,\"xanchor\":\"left\",\"xref\":\"x\",\"y\":0,\"yref\":\"y\"},{\"align\":\"left\",\"font\":{\"color\":\"#ffffff\",\"family\":\"Calibri\",\"size\":14},\"showarrow\":false,\"text\":\"<b>ToSize</b>\",\"x\":3.55,\"xanchor\":\"left\",\"xref\":\"x\",\"y\":0,\"yref\":\"y\"},{\"align\":\"left\",\"font\":{\"color\":\"#ffffff\",\"family\":\"Calibri\",\"size\":14},\"showarrow\":false,\"text\":\"<b>Name</b>\",\"x\":4.55,\"xanchor\":\"left\",\"xref\":\"x\",\"y\":0,\"yref\":\"y\"},{\"align\":\"left\",\"font\":{\"color\":\"#ffffff\",\"family\":\"Calibri\",\"size\":14},\"showarrow\":false,\"text\":\"<b>VesselType</b>\",\"x\":5.55,\"xanchor\":\"left\",\"xref\":\"x\",\"y\":0,\"yref\":\"y\"},{\"align\":\"left\",\"font\":{\"color\":\"#ffffff\",\"family\":\"Calibri\",\"size\":14},\"showarrow\":false,\"text\":\"<b>DefiningSize</b>\",\"x\":6.55,\"xanchor\":\"left\",\"xref\":\"x\",\"y\":0,\"yref\":\"y\"},{\"align\":\"left\",\"font\":{\"color\":\"#ffffff\",\"family\":\"Calibri\",\"size\":14},\"showarrow\":false,\"text\":\"<b>Size</b>\",\"x\":7.55,\"xanchor\":\"left\",\"xref\":\"x\",\"y\":0,\"yref\":\"y\"},{\"align\":\"left\",\"font\":{\"color\":\"#ffffff\",\"family\":\"Calibri\",\"size\":14},\"showarrow\":false,\"text\":\"<b>0</b>\",\"x\":-0.45,\"xanchor\":\"left\",\"xref\":\"x\",\"y\":1,\"yref\":\"y\"},{\"align\":\"left\",\"font\":{\"color\":\"#000000\",\"family\":\"Calibri\",\"size\":14},\"showarrow\":false,\"text\":\"70\",\"x\":0.55,\"xanchor\":\"left\",\"xref\":\"x\",\"y\":1,\"yref\":\"y\"},{\"align\":\"left\",\"font\":{\"color\":\"#000000\",\"family\":\"Calibri\",\"size\":14},\"showarrow\":false,\"text\":\"3\",\"x\":1.55,\"xanchor\":\"left\",\"xref\":\"x\",\"y\":1,\"yref\":\"y\"},{\"align\":\"left\",\"font\":{\"color\":\"#000000\",\"family\":\"Calibri\",\"size\":14},\"showarrow\":false,\"text\":\"120000\",\"x\":2.55,\"xanchor\":\"left\",\"xref\":\"x\",\"y\":1,\"yref\":\"y\"},{\"align\":\"left\",\"font\":{\"color\":\"#000000\",\"family\":\"Calibri\",\"size\":14},\"showarrow\":false,\"text\":\"219999\",\"x\":3.55,\"xanchor\":\"left\",\"xref\":\"x\",\"y\":1,\"yref\":\"y\"},{\"align\":\"left\",\"font\":{\"color\":\"#000000\",\"family\":\"Calibri\",\"size\":14},\"showarrow\":false,\"text\":\"Capesize\",\"x\":4.55,\"xanchor\":\"left\",\"xref\":\"x\",\"y\":1,\"yref\":\"y\"},{\"align\":\"left\",\"font\":{\"color\":\"#000000\",\"family\":\"Calibri\",\"size\":14},\"showarrow\":false,\"text\":\"Dry\",\"x\":5.55,\"xanchor\":\"left\",\"xref\":\"x\",\"y\":1,\"yref\":\"y\"},{\"align\":\"left\",\"font\":{\"color\":\"#000000\",\"family\":\"Calibri\",\"size\":14},\"showarrow\":false,\"text\":\"DeadWeight\",\"x\":6.55,\"xanchor\":\"left\",\"xref\":\"x\",\"y\":1,\"yref\":\"y\"},{\"align\":\"left\",\"font\":{\"color\":\"#000000\",\"family\":\"Calibri\",\"size\":14},\"showarrow\":false,\"text\":\"kt\",\"x\":7.55,\"xanchor\":\"left\",\"xref\":\"x\",\"y\":1,\"yref\":\"y\"},{\"align\":\"left\",\"font\":{\"color\":\"#ffffff\",\"family\":\"Calibri\",\"size\":14},\"showarrow\":false,\"text\":\"<b>1</b>\",\"x\":-0.45,\"xanchor\":\"left\",\"xref\":\"x\",\"y\":2,\"yref\":\"y\"},{\"align\":\"left\",\"font\":{\"color\":\"#000000\",\"family\":\"Calibri\",\"size\":14},\"showarrow\":false,\"text\":\"74\",\"x\":0.55,\"xanchor\":\"left\",\"xref\":\"x\",\"y\":2,\"yref\":\"y\"},{\"align\":\"left\",\"font\":{\"color\":\"#000000\",\"family\":\"Calibri\",\"size\":14},\"showarrow\":false,\"text\":\"3\",\"x\":1.55,\"xanchor\":\"left\",\"xref\":\"x\",\"y\":2,\"yref\":\"y\"},{\"align\":\"left\",\"font\":{\"color\":\"#000000\",\"family\":\"Calibri\",\"size\":14},\"showarrow\":false,\"text\":\"67000\",\"x\":2.55,\"xanchor\":\"left\",\"xref\":\"x\",\"y\":2,\"yref\":\"y\"},{\"align\":\"left\",\"font\":{\"color\":\"#000000\",\"family\":\"Calibri\",\"size\":14},\"showarrow\":false,\"text\":\"84999\",\"x\":3.55,\"xanchor\":\"left\",\"xref\":\"x\",\"y\":2,\"yref\":\"y\"},{\"align\":\"left\",\"font\":{\"color\":\"#000000\",\"family\":\"Calibri\",\"size\":14},\"showarrow\":false,\"text\":\"Panamax Dry\",\"x\":4.55,\"xanchor\":\"left\",\"xref\":\"x\",\"y\":2,\"yref\":\"y\"},{\"align\":\"left\",\"font\":{\"color\":\"#000000\",\"family\":\"Calibri\",\"size\":14},\"showarrow\":false,\"text\":\"Dry\",\"x\":5.55,\"xanchor\":\"left\",\"xref\":\"x\",\"y\":2,\"yref\":\"y\"},{\"align\":\"left\",\"font\":{\"color\":\"#000000\",\"family\":\"Calibri\",\"size\":14},\"showarrow\":false,\"text\":\"DeadWeight\",\"x\":6.55,\"xanchor\":\"left\",\"xref\":\"x\",\"y\":2,\"yref\":\"y\"},{\"align\":\"left\",\"font\":{\"color\":\"#000000\",\"family\":\"Calibri\",\"size\":14},\"showarrow\":false,\"text\":\"kt\",\"x\":7.55,\"xanchor\":\"left\",\"xref\":\"x\",\"y\":2,\"yref\":\"y\"},{\"align\":\"left\",\"font\":{\"color\":\"#ffffff\",\"family\":\"Calibri\",\"size\":14},\"showarrow\":false,\"text\":\"<b>2</b>\",\"x\":-0.45,\"xanchor\":\"left\",\"xref\":\"x\",\"y\":3,\"yref\":\"y\"},{\"align\":\"left\",\"font\":{\"color\":\"#000000\",\"family\":\"Calibri\",\"size\":14},\"showarrow\":false,\"text\":\"75\",\"x\":0.55,\"xanchor\":\"left\",\"xref\":\"x\",\"y\":3,\"yref\":\"y\"},{\"align\":\"left\",\"font\":{\"color\":\"#000000\",\"family\":\"Calibri\",\"size\":14},\"showarrow\":false,\"text\":\"3\",\"x\":1.55,\"xanchor\":\"left\",\"xref\":\"x\",\"y\":3,\"yref\":\"y\"},{\"align\":\"left\",\"font\":{\"color\":\"#000000\",\"family\":\"Calibri\",\"size\":14},\"showarrow\":false,\"text\":\"50000\",\"x\":2.55,\"xanchor\":\"left\",\"xref\":\"x\",\"y\":3,\"yref\":\"y\"},{\"align\":\"left\",\"font\":{\"color\":\"#000000\",\"family\":\"Calibri\",\"size\":14},\"showarrow\":false,\"text\":\"66999\",\"x\":3.55,\"xanchor\":\"left\",\"xref\":\"x\",\"y\":3,\"yref\":\"y\"},{\"align\":\"left\",\"font\":{\"color\":\"#000000\",\"family\":\"Calibri\",\"size\":14},\"showarrow\":false,\"text\":\"Supramax\",\"x\":4.55,\"xanchor\":\"left\",\"xref\":\"x\",\"y\":3,\"yref\":\"y\"},{\"align\":\"left\",\"font\":{\"color\":\"#000000\",\"family\":\"Calibri\",\"size\":14},\"showarrow\":false,\"text\":\"Dry\",\"x\":5.55,\"xanchor\":\"left\",\"xref\":\"x\",\"y\":3,\"yref\":\"y\"},{\"align\":\"left\",\"font\":{\"color\":\"#000000\",\"family\":\"Calibri\",\"size\":14},\"showarrow\":false,\"text\":\"DeadWeight\",\"x\":6.55,\"xanchor\":\"left\",\"xref\":\"x\",\"y\":3,\"yref\":\"y\"},{\"align\":\"left\",\"font\":{\"color\":\"#000000\",\"family\":\"Calibri\",\"size\":14},\"showarrow\":false,\"text\":\"kt\",\"x\":7.55,\"xanchor\":\"left\",\"xref\":\"x\",\"y\":3,\"yref\":\"y\"},{\"align\":\"left\",\"font\":{\"color\":\"#ffffff\",\"family\":\"Calibri\",\"size\":14},\"showarrow\":false,\"text\":\"<b>3</b>\",\"x\":-0.45,\"xanchor\":\"left\",\"xref\":\"x\",\"y\":4,\"yref\":\"y\"},{\"align\":\"left\",\"font\":{\"color\":\"#000000\",\"family\":\"Calibri\",\"size\":14},\"showarrow\":false,\"text\":\"77\",\"x\":0.55,\"xanchor\":\"left\",\"xref\":\"x\",\"y\":4,\"yref\":\"y\"},{\"align\":\"left\",\"font\":{\"color\":\"#000000\",\"family\":\"Calibri\",\"size\":14},\"showarrow\":false,\"text\":\"3\",\"x\":1.55,\"xanchor\":\"left\",\"xref\":\"x\",\"y\":4,\"yref\":\"y\"},{\"align\":\"left\",\"font\":{\"color\":\"#000000\",\"family\":\"Calibri\",\"size\":14},\"showarrow\":false,\"text\":\"20000\",\"x\":2.55,\"xanchor\":\"left\",\"xref\":\"x\",\"y\":4,\"yref\":\"y\"},{\"align\":\"left\",\"font\":{\"color\":\"#000000\",\"family\":\"Calibri\",\"size\":14},\"showarrow\":false,\"text\":\"39999\",\"x\":3.55,\"xanchor\":\"left\",\"xref\":\"x\",\"y\":4,\"yref\":\"y\"},{\"align\":\"left\",\"font\":{\"color\":\"#000000\",\"family\":\"Calibri\",\"size\":14},\"showarrow\":false,\"text\":\"Handysize\",\"x\":4.55,\"xanchor\":\"left\",\"xref\":\"x\",\"y\":4,\"yref\":\"y\"},{\"align\":\"left\",\"font\":{\"color\":\"#000000\",\"family\":\"Calibri\",\"size\":14},\"showarrow\":false,\"text\":\"Dry\",\"x\":5.55,\"xanchor\":\"left\",\"xref\":\"x\",\"y\":4,\"yref\":\"y\"},{\"align\":\"left\",\"font\":{\"color\":\"#000000\",\"family\":\"Calibri\",\"size\":14},\"showarrow\":false,\"text\":\"DeadWeight\",\"x\":6.55,\"xanchor\":\"left\",\"xref\":\"x\",\"y\":4,\"yref\":\"y\"},{\"align\":\"left\",\"font\":{\"color\":\"#000000\",\"family\":\"Calibri\",\"size\":14},\"showarrow\":false,\"text\":\"kt\",\"x\":7.55,\"xanchor\":\"left\",\"xref\":\"x\",\"y\":4,\"yref\":\"y\"},{\"align\":\"left\",\"font\":{\"color\":\"#ffffff\",\"family\":\"Calibri\",\"size\":14},\"showarrow\":false,\"text\":\"<b>4</b>\",\"x\":-0.45,\"xanchor\":\"left\",\"xref\":\"x\",\"y\":5,\"yref\":\"y\"},{\"align\":\"left\",\"font\":{\"color\":\"#000000\",\"family\":\"Calibri\",\"size\":14},\"showarrow\":false,\"text\":\"84\",\"x\":0.55,\"xanchor\":\"left\",\"xref\":\"x\",\"y\":5,\"yref\":\"y\"},{\"align\":\"left\",\"font\":{\"color\":\"#000000\",\"family\":\"Calibri\",\"size\":14},\"showarrow\":false,\"text\":\"1\",\"x\":1.55,\"xanchor\":\"left\",\"xref\":\"x\",\"y\":5,\"yref\":\"y\"},{\"align\":\"left\",\"font\":{\"color\":\"#000000\",\"family\":\"Calibri\",\"size\":14},\"showarrow\":false,\"text\":\"200000\",\"x\":2.55,\"xanchor\":\"left\",\"xref\":\"x\",\"y\":5,\"yref\":\"y\"},{\"align\":\"left\",\"font\":{\"color\":\"#000000\",\"family\":\"Calibri\",\"size\":14},\"showarrow\":false,\"text\":\"349999\",\"x\":3.55,\"xanchor\":\"left\",\"xref\":\"x\",\"y\":5,\"yref\":\"y\"},{\"align\":\"left\",\"font\":{\"color\":\"#000000\",\"family\":\"Calibri\",\"size\":14},\"showarrow\":false,\"text\":\"VLCC\",\"x\":4.55,\"xanchor\":\"left\",\"xref\":\"x\",\"y\":5,\"yref\":\"y\"},{\"align\":\"left\",\"font\":{\"color\":\"#000000\",\"family\":\"Calibri\",\"size\":14},\"showarrow\":false,\"text\":\"Tanker\",\"x\":5.55,\"xanchor\":\"left\",\"xref\":\"x\",\"y\":5,\"yref\":\"y\"},{\"align\":\"left\",\"font\":{\"color\":\"#000000\",\"family\":\"Calibri\",\"size\":14},\"showarrow\":false,\"text\":\"DeadWeight\",\"x\":6.55,\"xanchor\":\"left\",\"xref\":\"x\",\"y\":5,\"yref\":\"y\"},{\"align\":\"left\",\"font\":{\"color\":\"#000000\",\"family\":\"Calibri\",\"size\":14},\"showarrow\":false,\"text\":\"kt\",\"x\":7.55,\"xanchor\":\"left\",\"xref\":\"x\",\"y\":5,\"yref\":\"y\"},{\"align\":\"left\",\"font\":{\"color\":\"#ffffff\",\"family\":\"Calibri\",\"size\":14},\"showarrow\":false,\"text\":\"<b>5</b>\",\"x\":-0.45,\"xanchor\":\"left\",\"xref\":\"x\",\"y\":6,\"yref\":\"y\"},{\"align\":\"left\",\"font\":{\"color\":\"#000000\",\"family\":\"Calibri\",\"size\":14},\"showarrow\":false,\"text\":\"85\",\"x\":0.55,\"xanchor\":\"left\",\"xref\":\"x\",\"y\":6,\"yref\":\"y\"},{\"align\":\"left\",\"font\":{\"color\":\"#000000\",\"family\":\"Calibri\",\"size\":14},\"showarrow\":false,\"text\":\"1\",\"x\":1.55,\"xanchor\":\"left\",\"xref\":\"x\",\"y\":6,\"yref\":\"y\"},{\"align\":\"left\",\"font\":{\"color\":\"#000000\",\"family\":\"Calibri\",\"size\":14},\"showarrow\":false,\"text\":\"125000\",\"x\":2.55,\"xanchor\":\"left\",\"xref\":\"x\",\"y\":6,\"yref\":\"y\"},{\"align\":\"left\",\"font\":{\"color\":\"#000000\",\"family\":\"Calibri\",\"size\":14},\"showarrow\":false,\"text\":\"199999\",\"x\":3.55,\"xanchor\":\"left\",\"xref\":\"x\",\"y\":6,\"yref\":\"y\"},{\"align\":\"left\",\"font\":{\"color\":\"#000000\",\"family\":\"Calibri\",\"size\":14},\"showarrow\":false,\"text\":\"Suezmax\",\"x\":4.55,\"xanchor\":\"left\",\"xref\":\"x\",\"y\":6,\"yref\":\"y\"},{\"align\":\"left\",\"font\":{\"color\":\"#000000\",\"family\":\"Calibri\",\"size\":14},\"showarrow\":false,\"text\":\"Tanker\",\"x\":5.55,\"xanchor\":\"left\",\"xref\":\"x\",\"y\":6,\"yref\":\"y\"},{\"align\":\"left\",\"font\":{\"color\":\"#000000\",\"family\":\"Calibri\",\"size\":14},\"showarrow\":false,\"text\":\"DeadWeight\",\"x\":6.55,\"xanchor\":\"left\",\"xref\":\"x\",\"y\":6,\"yref\":\"y\"},{\"align\":\"left\",\"font\":{\"color\":\"#000000\",\"family\":\"Calibri\",\"size\":14},\"showarrow\":false,\"text\":\"kt\",\"x\":7.55,\"xanchor\":\"left\",\"xref\":\"x\",\"y\":6,\"yref\":\"y\"},{\"align\":\"left\",\"font\":{\"color\":\"#ffffff\",\"family\":\"Calibri\",\"size\":14},\"showarrow\":false,\"text\":\"<b>6</b>\",\"x\":-0.45,\"xanchor\":\"left\",\"xref\":\"x\",\"y\":7,\"yref\":\"y\"},{\"align\":\"left\",\"font\":{\"color\":\"#000000\",\"family\":\"Calibri\",\"size\":14},\"showarrow\":false,\"text\":\"86\",\"x\":0.55,\"xanchor\":\"left\",\"xref\":\"x\",\"y\":7,\"yref\":\"y\"},{\"align\":\"left\",\"font\":{\"color\":\"#000000\",\"family\":\"Calibri\",\"size\":14},\"showarrow\":false,\"text\":\"1\",\"x\":1.55,\"xanchor\":\"left\",\"xref\":\"x\",\"y\":7,\"yref\":\"y\"},{\"align\":\"left\",\"font\":{\"color\":\"#000000\",\"family\":\"Calibri\",\"size\":14},\"showarrow\":false,\"text\":\"82000\",\"x\":2.55,\"xanchor\":\"left\",\"xref\":\"x\",\"y\":7,\"yref\":\"y\"},{\"align\":\"left\",\"font\":{\"color\":\"#000000\",\"family\":\"Calibri\",\"size\":14},\"showarrow\":false,\"text\":\"124999\",\"x\":3.55,\"xanchor\":\"left\",\"xref\":\"x\",\"y\":7,\"yref\":\"y\"},{\"align\":\"left\",\"font\":{\"color\":\"#000000\",\"family\":\"Calibri\",\"size\":14},\"showarrow\":false,\"text\":\"Aframax\",\"x\":4.55,\"xanchor\":\"left\",\"xref\":\"x\",\"y\":7,\"yref\":\"y\"},{\"align\":\"left\",\"font\":{\"color\":\"#000000\",\"family\":\"Calibri\",\"size\":14},\"showarrow\":false,\"text\":\"Tanker\",\"x\":5.55,\"xanchor\":\"left\",\"xref\":\"x\",\"y\":7,\"yref\":\"y\"},{\"align\":\"left\",\"font\":{\"color\":\"#000000\",\"family\":\"Calibri\",\"size\":14},\"showarrow\":false,\"text\":\"DeadWeight\",\"x\":6.55,\"xanchor\":\"left\",\"xref\":\"x\",\"y\":7,\"yref\":\"y\"},{\"align\":\"left\",\"font\":{\"color\":\"#000000\",\"family\":\"Calibri\",\"size\":14},\"showarrow\":false,\"text\":\"kt\",\"x\":7.55,\"xanchor\":\"left\",\"xref\":\"x\",\"y\":7,\"yref\":\"y\"},{\"align\":\"left\",\"font\":{\"color\":\"#ffffff\",\"family\":\"Calibri\",\"size\":14},\"showarrow\":false,\"text\":\"<b>7</b>\",\"x\":-0.45,\"xanchor\":\"left\",\"xref\":\"x\",\"y\":8,\"yref\":\"y\"},{\"align\":\"left\",\"font\":{\"color\":\"#000000\",\"family\":\"Calibri\",\"size\":14},\"showarrow\":false,\"text\":\"87\",\"x\":0.55,\"xanchor\":\"left\",\"xref\":\"x\",\"y\":8,\"yref\":\"y\"},{\"align\":\"left\",\"font\":{\"color\":\"#000000\",\"family\":\"Calibri\",\"size\":14},\"showarrow\":false,\"text\":\"1\",\"x\":1.55,\"xanchor\":\"left\",\"xref\":\"x\",\"y\":8,\"yref\":\"y\"},{\"align\":\"left\",\"font\":{\"color\":\"#000000\",\"family\":\"Calibri\",\"size\":14},\"showarrow\":false,\"text\":\"60000\",\"x\":2.55,\"xanchor\":\"left\",\"xref\":\"x\",\"y\":8,\"yref\":\"y\"},{\"align\":\"left\",\"font\":{\"color\":\"#000000\",\"family\":\"Calibri\",\"size\":14},\"showarrow\":false,\"text\":\"81999\",\"x\":3.55,\"xanchor\":\"left\",\"xref\":\"x\",\"y\":8,\"yref\":\"y\"},{\"align\":\"left\",\"font\":{\"color\":\"#000000\",\"family\":\"Calibri\",\"size\":14},\"showarrow\":false,\"text\":\"Panamax Tanker\",\"x\":4.55,\"xanchor\":\"left\",\"xref\":\"x\",\"y\":8,\"yref\":\"y\"},{\"align\":\"left\",\"font\":{\"color\":\"#000000\",\"family\":\"Calibri\",\"size\":14},\"showarrow\":false,\"text\":\"Tanker\",\"x\":5.55,\"xanchor\":\"left\",\"xref\":\"x\",\"y\":8,\"yref\":\"y\"},{\"align\":\"left\",\"font\":{\"color\":\"#000000\",\"family\":\"Calibri\",\"size\":14},\"showarrow\":false,\"text\":\"DeadWeight\",\"x\":6.55,\"xanchor\":\"left\",\"xref\":\"x\",\"y\":8,\"yref\":\"y\"},{\"align\":\"left\",\"font\":{\"color\":\"#000000\",\"family\":\"Calibri\",\"size\":14},\"showarrow\":false,\"text\":\"kt\",\"x\":7.55,\"xanchor\":\"left\",\"xref\":\"x\",\"y\":8,\"yref\":\"y\"},{\"align\":\"left\",\"font\":{\"color\":\"#ffffff\",\"family\":\"Calibri\",\"size\":14},\"showarrow\":false,\"text\":\"<b>8</b>\",\"x\":-0.45,\"xanchor\":\"left\",\"xref\":\"x\",\"y\":9,\"yref\":\"y\"},{\"align\":\"left\",\"font\":{\"color\":\"#000000\",\"family\":\"Calibri\",\"size\":14},\"showarrow\":false,\"text\":\"88\",\"x\":0.55,\"xanchor\":\"left\",\"xref\":\"x\",\"y\":9,\"yref\":\"y\"},{\"align\":\"left\",\"font\":{\"color\":\"#000000\",\"family\":\"Calibri\",\"size\":14},\"showarrow\":false,\"text\":\"1\",\"x\":1.55,\"xanchor\":\"left\",\"xref\":\"x\",\"y\":9,\"yref\":\"y\"},{\"align\":\"left\",\"font\":{\"color\":\"#000000\",\"family\":\"Calibri\",\"size\":14},\"showarrow\":false,\"text\":\"42000\",\"x\":2.55,\"xanchor\":\"left\",\"xref\":\"x\",\"y\":9,\"yref\":\"y\"},{\"align\":\"left\",\"font\":{\"color\":\"#000000\",\"family\":\"Calibri\",\"size\":14},\"showarrow\":false,\"text\":\"59999\",\"x\":3.55,\"xanchor\":\"left\",\"xref\":\"x\",\"y\":9,\"yref\":\"y\"},{\"align\":\"left\",\"font\":{\"color\":\"#000000\",\"family\":\"Calibri\",\"size\":14},\"showarrow\":false,\"text\":\"MR2\",\"x\":4.55,\"xanchor\":\"left\",\"xref\":\"x\",\"y\":9,\"yref\":\"y\"},{\"align\":\"left\",\"font\":{\"color\":\"#000000\",\"family\":\"Calibri\",\"size\":14},\"showarrow\":false,\"text\":\"Tanker\",\"x\":5.55,\"xanchor\":\"left\",\"xref\":\"x\",\"y\":9,\"yref\":\"y\"},{\"align\":\"left\",\"font\":{\"color\":\"#000000\",\"family\":\"Calibri\",\"size\":14},\"showarrow\":false,\"text\":\"DeadWeight\",\"x\":6.55,\"xanchor\":\"left\",\"xref\":\"x\",\"y\":9,\"yref\":\"y\"},{\"align\":\"left\",\"font\":{\"color\":\"#000000\",\"family\":\"Calibri\",\"size\":14},\"showarrow\":false,\"text\":\"kt\",\"x\":7.55,\"xanchor\":\"left\",\"xref\":\"x\",\"y\":9,\"yref\":\"y\"},{\"align\":\"left\",\"font\":{\"color\":\"#ffffff\",\"family\":\"Calibri\",\"size\":14},\"showarrow\":false,\"text\":\"<b>9</b>\",\"x\":-0.45,\"xanchor\":\"left\",\"xref\":\"x\",\"y\":10,\"yref\":\"y\"},{\"align\":\"left\",\"font\":{\"color\":\"#000000\",\"family\":\"Calibri\",\"size\":14},\"showarrow\":false,\"text\":\"89\",\"x\":0.55,\"xanchor\":\"left\",\"xref\":\"x\",\"y\":10,\"yref\":\"y\"},{\"align\":\"left\",\"font\":{\"color\":\"#000000\",\"family\":\"Calibri\",\"size\":14},\"showarrow\":false,\"text\":\"1\",\"x\":1.55,\"xanchor\":\"left\",\"xref\":\"x\",\"y\":10,\"yref\":\"y\"},{\"align\":\"left\",\"font\":{\"color\":\"#000000\",\"family\":\"Calibri\",\"size\":14},\"showarrow\":false,\"text\":\"25000\",\"x\":2.55,\"xanchor\":\"left\",\"xref\":\"x\",\"y\":10,\"yref\":\"y\"},{\"align\":\"left\",\"font\":{\"color\":\"#000000\",\"family\":\"Calibri\",\"size\":14},\"showarrow\":false,\"text\":\"41999\",\"x\":3.55,\"xanchor\":\"left\",\"xref\":\"x\",\"y\":10,\"yref\":\"y\"},{\"align\":\"left\",\"font\":{\"color\":\"#000000\",\"family\":\"Calibri\",\"size\":14},\"showarrow\":false,\"text\":\"MR1\",\"x\":4.55,\"xanchor\":\"left\",\"xref\":\"x\",\"y\":10,\"yref\":\"y\"},{\"align\":\"left\",\"font\":{\"color\":\"#000000\",\"family\":\"Calibri\",\"size\":14},\"showarrow\":false,\"text\":\"Tanker\",\"x\":5.55,\"xanchor\":\"left\",\"xref\":\"x\",\"y\":10,\"yref\":\"y\"},{\"align\":\"left\",\"font\":{\"color\":\"#000000\",\"family\":\"Calibri\",\"size\":14},\"showarrow\":false,\"text\":\"DeadWeight\",\"x\":6.55,\"xanchor\":\"left\",\"xref\":\"x\",\"y\":10,\"yref\":\"y\"},{\"align\":\"left\",\"font\":{\"color\":\"#000000\",\"family\":\"Calibri\",\"size\":14},\"showarrow\":false,\"text\":\"kt\",\"x\":7.55,\"xanchor\":\"left\",\"xref\":\"x\",\"y\":10,\"yref\":\"y\"}],\"height\":380,\"margin\":{\"b\":0,\"l\":0,\"r\":0,\"t\":0},\"xaxis\":{\"dtick\":1,\"gridwidth\":2,\"showticklabels\":false,\"tick0\":-0.5,\"ticks\":\"\",\"zeroline\":false},\"yaxis\":{\"autorange\":\"reversed\",\"dtick\":1,\"gridwidth\":2,\"showticklabels\":false,\"tick0\":0.5,\"ticks\":\"\",\"zeroline\":false},\"template\":{\"data\":{\"histogram2dcontour\":[{\"type\":\"histogram2dcontour\",\"colorbar\":{\"outlinewidth\":0,\"ticks\":\"\"},\"colorscale\":[[0.0,\"#0d0887\"],[0.1111111111111111,\"#46039f\"],[0.2222222222222222,\"#7201a8\"],[0.3333333333333333,\"#9c179e\"],[0.4444444444444444,\"#bd3786\"],[0.5555555555555556,\"#d8576b\"],[0.6666666666666666,\"#ed7953\"],[0.7777777777777778,\"#fb9f3a\"],[0.8888888888888888,\"#fdca26\"],[1.0,\"#f0f921\"]]}],\"choropleth\":[{\"type\":\"choropleth\",\"colorbar\":{\"outlinewidth\":0,\"ticks\":\"\"}}],\"histogram2d\":[{\"type\":\"histogram2d\",\"colorbar\":{\"outlinewidth\":0,\"ticks\":\"\"},\"colorscale\":[[0.0,\"#0d0887\"],[0.1111111111111111,\"#46039f\"],[0.2222222222222222,\"#7201a8\"],[0.3333333333333333,\"#9c179e\"],[0.4444444444444444,\"#bd3786\"],[0.5555555555555556,\"#d8576b\"],[0.6666666666666666,\"#ed7953\"],[0.7777777777777778,\"#fb9f3a\"],[0.8888888888888888,\"#fdca26\"],[1.0,\"#f0f921\"]]}],\"heatmap\":[{\"type\":\"heatmap\",\"colorbar\":{\"outlinewidth\":0,\"ticks\":\"\"},\"colorscale\":[[0.0,\"#0d0887\"],[0.1111111111111111,\"#46039f\"],[0.2222222222222222,\"#7201a8\"],[0.3333333333333333,\"#9c179e\"],[0.4444444444444444,\"#bd3786\"],[0.5555555555555556,\"#d8576b\"],[0.6666666666666666,\"#ed7953\"],[0.7777777777777778,\"#fb9f3a\"],[0.8888888888888888,\"#fdca26\"],[1.0,\"#f0f921\"]]}],\"heatmapgl\":[{\"type\":\"heatmapgl\",\"colorbar\":{\"outlinewidth\":0,\"ticks\":\"\"},\"colorscale\":[[0.0,\"#0d0887\"],[0.1111111111111111,\"#46039f\"],[0.2222222222222222,\"#7201a8\"],[0.3333333333333333,\"#9c179e\"],[0.4444444444444444,\"#bd3786\"],[0.5555555555555556,\"#d8576b\"],[0.6666666666666666,\"#ed7953\"],[0.7777777777777778,\"#fb9f3a\"],[0.8888888888888888,\"#fdca26\"],[1.0,\"#f0f921\"]]}],\"contourcarpet\":[{\"type\":\"contourcarpet\",\"colorbar\":{\"outlinewidth\":0,\"ticks\":\"\"}}],\"contour\":[{\"type\":\"contour\",\"colorbar\":{\"outlinewidth\":0,\"ticks\":\"\"},\"colorscale\":[[0.0,\"#0d0887\"],[0.1111111111111111,\"#46039f\"],[0.2222222222222222,\"#7201a8\"],[0.3333333333333333,\"#9c179e\"],[0.4444444444444444,\"#bd3786\"],[0.5555555555555556,\"#d8576b\"],[0.6666666666666666,\"#ed7953\"],[0.7777777777777778,\"#fb9f3a\"],[0.8888888888888888,\"#fdca26\"],[1.0,\"#f0f921\"]]}],\"surface\":[{\"type\":\"surface\",\"colorbar\":{\"outlinewidth\":0,\"ticks\":\"\"},\"colorscale\":[[0.0,\"#0d0887\"],[0.1111111111111111,\"#46039f\"],[0.2222222222222222,\"#7201a8\"],[0.3333333333333333,\"#9c179e\"],[0.4444444444444444,\"#bd3786\"],[0.5555555555555556,\"#d8576b\"],[0.6666666666666666,\"#ed7953\"],[0.7777777777777778,\"#fb9f3a\"],[0.8888888888888888,\"#fdca26\"],[1.0,\"#f0f921\"]]}],\"mesh3d\":[{\"type\":\"mesh3d\",\"colorbar\":{\"outlinewidth\":0,\"ticks\":\"\"}}],\"scatter\":[{\"fillpattern\":{\"fillmode\":\"overlay\",\"size\":10,\"solidity\":0.2},\"type\":\"scatter\"}],\"parcoords\":[{\"type\":\"parcoords\",\"line\":{\"colorbar\":{\"outlinewidth\":0,\"ticks\":\"\"}}}],\"scatterpolargl\":[{\"type\":\"scatterpolargl\",\"marker\":{\"colorbar\":{\"outlinewidth\":0,\"ticks\":\"\"}}}],\"bar\":[{\"error_x\":{\"color\":\"#2a3f5f\"},\"error_y\":{\"color\":\"#2a3f5f\"},\"marker\":{\"line\":{\"color\":\"#E5ECF6\",\"width\":0.5},\"pattern\":{\"fillmode\":\"overlay\",\"size\":10,\"solidity\":0.2}},\"type\":\"bar\"}],\"scattergeo\":[{\"type\":\"scattergeo\",\"marker\":{\"colorbar\":{\"outlinewidth\":0,\"ticks\":\"\"}}}],\"scatterpolar\":[{\"type\":\"scatterpolar\",\"marker\":{\"colorbar\":{\"outlinewidth\":0,\"ticks\":\"\"}}}],\"histogram\":[{\"marker\":{\"pattern\":{\"fillmode\":\"overlay\",\"size\":10,\"solidity\":0.2}},\"type\":\"histogram\"}],\"scattergl\":[{\"type\":\"scattergl\",\"marker\":{\"colorbar\":{\"outlinewidth\":0,\"ticks\":\"\"}}}],\"scatter3d\":[{\"type\":\"scatter3d\",\"line\":{\"colorbar\":{\"outlinewidth\":0,\"ticks\":\"\"}},\"marker\":{\"colorbar\":{\"outlinewidth\":0,\"ticks\":\"\"}}}],\"scattermapbox\":[{\"type\":\"scattermapbox\",\"marker\":{\"colorbar\":{\"outlinewidth\":0,\"ticks\":\"\"}}}],\"scatterternary\":[{\"type\":\"scatterternary\",\"marker\":{\"colorbar\":{\"outlinewidth\":0,\"ticks\":\"\"}}}],\"scattercarpet\":[{\"type\":\"scattercarpet\",\"marker\":{\"colorbar\":{\"outlinewidth\":0,\"ticks\":\"\"}}}],\"carpet\":[{\"aaxis\":{\"endlinecolor\":\"#2a3f5f\",\"gridcolor\":\"white\",\"linecolor\":\"white\",\"minorgridcolor\":\"white\",\"startlinecolor\":\"#2a3f5f\"},\"baxis\":{\"endlinecolor\":\"#2a3f5f\",\"gridcolor\":\"white\",\"linecolor\":\"white\",\"minorgridcolor\":\"white\",\"startlinecolor\":\"#2a3f5f\"},\"type\":\"carpet\"}],\"table\":[{\"cells\":{\"fill\":{\"color\":\"#EBF0F8\"},\"line\":{\"color\":\"white\"}},\"header\":{\"fill\":{\"color\":\"#C8D4E3\"},\"line\":{\"color\":\"white\"}},\"type\":\"table\"}],\"barpolar\":[{\"marker\":{\"line\":{\"color\":\"#E5ECF6\",\"width\":0.5},\"pattern\":{\"fillmode\":\"overlay\",\"size\":10,\"solidity\":0.2}},\"type\":\"barpolar\"}],\"pie\":[{\"automargin\":true,\"type\":\"pie\"}]},\"layout\":{\"autotypenumbers\":\"strict\",\"colorway\":[\"#636efa\",\"#EF553B\",\"#00cc96\",\"#ab63fa\",\"#FFA15A\",\"#19d3f3\",\"#FF6692\",\"#B6E880\",\"#FF97FF\",\"#FECB52\"],\"font\":{\"color\":\"#2a3f5f\"},\"hovermode\":\"closest\",\"hoverlabel\":{\"align\":\"left\"},\"paper_bgcolor\":\"white\",\"plot_bgcolor\":\"#E5ECF6\",\"polar\":{\"bgcolor\":\"#E5ECF6\",\"angularaxis\":{\"gridcolor\":\"white\",\"linecolor\":\"white\",\"ticks\":\"\"},\"radialaxis\":{\"gridcolor\":\"white\",\"linecolor\":\"white\",\"ticks\":\"\"}},\"ternary\":{\"bgcolor\":\"#E5ECF6\",\"aaxis\":{\"gridcolor\":\"white\",\"linecolor\":\"white\",\"ticks\":\"\"},\"baxis\":{\"gridcolor\":\"white\",\"linecolor\":\"white\",\"ticks\":\"\"},\"caxis\":{\"gridcolor\":\"white\",\"linecolor\":\"white\",\"ticks\":\"\"}},\"coloraxis\":{\"colorbar\":{\"outlinewidth\":0,\"ticks\":\"\"}},\"colorscale\":{\"sequential\":[[0.0,\"#0d0887\"],[0.1111111111111111,\"#46039f\"],[0.2222222222222222,\"#7201a8\"],[0.3333333333333333,\"#9c179e\"],[0.4444444444444444,\"#bd3786\"],[0.5555555555555556,\"#d8576b\"],[0.6666666666666666,\"#ed7953\"],[0.7777777777777778,\"#fb9f3a\"],[0.8888888888888888,\"#fdca26\"],[1.0,\"#f0f921\"]],\"sequentialminus\":[[0.0,\"#0d0887\"],[0.1111111111111111,\"#46039f\"],[0.2222222222222222,\"#7201a8\"],[0.3333333333333333,\"#9c179e\"],[0.4444444444444444,\"#bd3786\"],[0.5555555555555556,\"#d8576b\"],[0.6666666666666666,\"#ed7953\"],[0.7777777777777778,\"#fb9f3a\"],[0.8888888888888888,\"#fdca26\"],[1.0,\"#f0f921\"]],\"diverging\":[[0,\"#8e0152\"],[0.1,\"#c51b7d\"],[0.2,\"#de77ae\"],[0.3,\"#f1b6da\"],[0.4,\"#fde0ef\"],[0.5,\"#f7f7f7\"],[0.6,\"#e6f5d0\"],[0.7,\"#b8e186\"],[0.8,\"#7fbc41\"],[0.9,\"#4d9221\"],[1,\"#276419\"]]},\"xaxis\":{\"gridcolor\":\"white\",\"linecolor\":\"white\",\"ticks\":\"\",\"title\":{\"standoff\":15},\"zerolinecolor\":\"white\",\"automargin\":true,\"zerolinewidth\":2},\"yaxis\":{\"gridcolor\":\"white\",\"linecolor\":\"white\",\"ticks\":\"\",\"title\":{\"standoff\":15},\"zerolinecolor\":\"white\",\"automargin\":true,\"zerolinewidth\":2},\"scene\":{\"xaxis\":{\"backgroundcolor\":\"#E5ECF6\",\"gridcolor\":\"white\",\"linecolor\":\"white\",\"showbackground\":true,\"ticks\":\"\",\"zerolinecolor\":\"white\",\"gridwidth\":2},\"yaxis\":{\"backgroundcolor\":\"#E5ECF6\",\"gridcolor\":\"white\",\"linecolor\":\"white\",\"showbackground\":true,\"ticks\":\"\",\"zerolinecolor\":\"white\",\"gridwidth\":2},\"zaxis\":{\"backgroundcolor\":\"#E5ECF6\",\"gridcolor\":\"white\",\"linecolor\":\"white\",\"showbackground\":true,\"ticks\":\"\",\"zerolinecolor\":\"white\",\"gridwidth\":2}},\"shapedefaults\":{\"line\":{\"color\":\"#2a3f5f\"}},\"annotationdefaults\":{\"arrowcolor\":\"#2a3f5f\",\"arrowhead\":0,\"arrowwidth\":1},\"geo\":{\"bgcolor\":\"white\",\"landcolor\":\"#E5ECF6\",\"subunitcolor\":\"white\",\"showland\":true,\"showlakes\":true,\"lakecolor\":\"white\"},\"title\":{\"x\":0.05},\"mapbox\":{\"style\":\"light\"}}},\"width\":900},                        {\"responsive\": true}                    ).then(function(){\n                            \nvar gd = document.getElementById('846c4b56-272c-4ae3-a3fd-57ca17ee1e78');\nvar x = new MutationObserver(function (mutations, observer) {{\n        var display = window.getComputedStyle(gd).display;\n        if (!display || display === 'none') {{\n            console.log([gd, 'removed!']);\n            Plotly.purge(gd);\n            observer.disconnect();\n        }}\n}});\n\n// Listen for the removal of the full notebook cells\nvar notebookContainer = gd.closest('#notebook-container');\nif (notebookContainer) {{\n    x.observe(notebookContainer, {childList: true});\n}}\n\n// Listen for the clearing of the current output cell\nvar outputEl = gd.closest('.output');\nif (outputEl) {{\n    x.observe(outputEl, {childList: true});\n}}\n\n                        })                };                });            </script>        </div>"
     },
     "metadata": {},
     "output_type": "display_data"
    }
   ],
   "source": [
    "from signal_ocean.market_rates.utils import create_dataframe\n",
    "from signal_ocean.plots import styled_table, line_chart\n",
    "\n",
    "vessel_classes = mr_api.get_vessel_classes()\n",
    "styled_table(create_dataframe(vessel_classes))"
   ]
  },
  {
   "cell_type": "markdown",
   "metadata": {
    "collapsed": false,
    "pycharm": {
     "name": "#%% md\n"
    }
   },
   "source": [
    "#### Get routes for a vessel class\n",
    "Based on the vessel classes that we got above we can request available routes for VLCC vessels"
   ]
  },
  {
   "cell_type": "code",
   "execution_count": 87,
   "metadata": {
    "collapsed": false,
    "pycharm": {
     "name": "#%%\n"
    }
   },
   "outputs": [
    {
     "data": {
      "application/vnd.plotly.v1+json": {
       "data": [
        {
         "colorscale": [
          [
           0,
           "#00083e"
          ],
          [
           0.5,
           "#ededee"
          ],
          [
           1,
           "#ffffff"
          ]
         ],
         "hoverinfo": "none",
         "opacity": 0.75,
         "showscale": false,
         "z": [
          [
           0,
           0,
           0,
           0,
           0,
           0
          ],
          [
           0,
           0.5,
           0.5,
           0.5,
           0.5,
           0.5
          ],
          [
           0,
           1,
           1,
           1,
           1,
           1
          ],
          [
           0,
           0.5,
           0.5,
           0.5,
           0.5,
           0.5
          ],
          [
           0,
           1,
           1,
           1,
           1,
           1
          ]
         ],
         "type": "heatmap"
        }
       ],
       "layout": {
        "annotations": [
         {
          "align": "left",
          "font": {
           "color": "#ffffff",
           "family": "Calibri",
           "size": 14
          },
          "showarrow": false,
          "text": "<b></b>",
          "x": -0.45,
          "xanchor": "left",
          "xref": "x",
          "y": 0,
          "yref": "y"
         },
         {
          "align": "left",
          "font": {
           "color": "#ffffff",
           "family": "Calibri",
           "size": 14
          },
          "showarrow": false,
          "text": "<b>Id</b>",
          "x": 0.55,
          "xanchor": "left",
          "xref": "x",
          "y": 0,
          "yref": "y"
         },
         {
          "align": "left",
          "font": {
           "color": "#ffffff",
           "family": "Calibri",
           "size": 14
          },
          "showarrow": false,
          "text": "<b>Description</b>",
          "x": 1.55,
          "xanchor": "left",
          "xref": "x",
          "y": 0,
          "yref": "y"
         },
         {
          "align": "left",
          "font": {
           "color": "#ffffff",
           "family": "Calibri",
           "size": 14
          },
          "showarrow": false,
          "text": "<b>Unit</b>",
          "x": 2.55,
          "xanchor": "left",
          "xref": "x",
          "y": 0,
          "yref": "y"
         },
         {
          "align": "left",
          "font": {
           "color": "#ffffff",
           "family": "Calibri",
           "size": 14
          },
          "showarrow": false,
          "text": "<b>VesselClassId</b>",
          "x": 3.55,
          "xanchor": "left",
          "xref": "x",
          "y": 0,
          "yref": "y"
         },
         {
          "align": "left",
          "font": {
           "color": "#ffffff",
           "family": "Calibri",
           "size": 14
          },
          "showarrow": false,
          "text": "<b>CargoId</b>",
          "x": 4.55,
          "xanchor": "left",
          "xref": "x",
          "y": 0,
          "yref": "y"
         },
         {
          "align": "left",
          "font": {
           "color": "#ffffff",
           "family": "Calibri",
           "size": 14
          },
          "showarrow": false,
          "text": "<b>0</b>",
          "x": -0.45,
          "xanchor": "left",
          "xref": "x",
          "y": 1,
          "yref": "y"
         },
         {
          "align": "left",
          "font": {
           "color": "#000000",
           "family": "Calibri",
           "size": 14
          },
          "showarrow": false,
          "text": "R5",
          "x": 0.55,
          "xanchor": "left",
          "xref": "x",
          "y": 1,
          "yref": "y"
         },
         {
          "align": "left",
          "font": {
           "color": "#000000",
           "family": "Calibri",
           "size": 14
          },
          "showarrow": false,
          "text": "VLCC - MEG/China",
          "x": 1.55,
          "xanchor": "left",
          "xref": "x",
          "y": 1,
          "yref": "y"
         },
         {
          "align": "left",
          "font": {
           "color": "#000000",
           "family": "Calibri",
           "size": 14
          },
          "showarrow": false,
          "text": "WS",
          "x": 2.55,
          "xanchor": "left",
          "xref": "x",
          "y": 1,
          "yref": "y"
         },
         {
          "align": "left",
          "font": {
           "color": "#000000",
           "family": "Calibri",
           "size": 14
          },
          "showarrow": false,
          "text": "84",
          "x": 3.55,
          "xanchor": "left",
          "xref": "x",
          "y": 1,
          "yref": "y"
         },
         {
          "align": "left",
          "font": {
           "color": "#000000",
           "family": "Calibri",
           "size": 14
          },
          "showarrow": false,
          "text": "0",
          "x": 4.55,
          "xanchor": "left",
          "xref": "x",
          "y": 1,
          "yref": "y"
         },
         {
          "align": "left",
          "font": {
           "color": "#ffffff",
           "family": "Calibri",
           "size": 14
          },
          "showarrow": false,
          "text": "<b>1</b>",
          "x": -0.45,
          "xanchor": "left",
          "xref": "x",
          "y": 2,
          "yref": "y"
         },
         {
          "align": "left",
          "font": {
           "color": "#000000",
           "family": "Calibri",
           "size": 14
          },
          "showarrow": false,
          "text": "R6",
          "x": 0.55,
          "xanchor": "left",
          "xref": "x",
          "y": 2,
          "yref": "y"
         },
         {
          "align": "left",
          "font": {
           "color": "#000000",
           "family": "Calibri",
           "size": 14
          },
          "showarrow": false,
          "text": "VLCC - MEG/Spore",
          "x": 1.55,
          "xanchor": "left",
          "xref": "x",
          "y": 2,
          "yref": "y"
         },
         {
          "align": "left",
          "font": {
           "color": "#000000",
           "family": "Calibri",
           "size": 14
          },
          "showarrow": false,
          "text": "WS",
          "x": 2.55,
          "xanchor": "left",
          "xref": "x",
          "y": 2,
          "yref": "y"
         },
         {
          "align": "left",
          "font": {
           "color": "#000000",
           "family": "Calibri",
           "size": 14
          },
          "showarrow": false,
          "text": "84",
          "x": 3.55,
          "xanchor": "left",
          "xref": "x",
          "y": 2,
          "yref": "y"
         },
         {
          "align": "left",
          "font": {
           "color": "#000000",
           "family": "Calibri",
           "size": 14
          },
          "showarrow": false,
          "text": "0",
          "x": 4.55,
          "xanchor": "left",
          "xref": "x",
          "y": 2,
          "yref": "y"
         },
         {
          "align": "left",
          "font": {
           "color": "#ffffff",
           "family": "Calibri",
           "size": 14
          },
          "showarrow": false,
          "text": "<b>2</b>",
          "x": -0.45,
          "xanchor": "left",
          "xref": "x",
          "y": 3,
          "yref": "y"
         },
         {
          "align": "left",
          "font": {
           "color": "#000000",
           "family": "Calibri",
           "size": 14
          },
          "showarrow": false,
          "text": "R7",
          "x": 0.55,
          "xanchor": "left",
          "xref": "x",
          "y": 3,
          "yref": "y"
         },
         {
          "align": "left",
          "font": {
           "color": "#000000",
           "family": "Calibri",
           "size": 14
          },
          "showarrow": false,
          "text": "VLCC - MEG/USG",
          "x": 1.55,
          "xanchor": "left",
          "xref": "x",
          "y": 3,
          "yref": "y"
         },
         {
          "align": "left",
          "font": {
           "color": "#000000",
           "family": "Calibri",
           "size": 14
          },
          "showarrow": false,
          "text": "WS",
          "x": 2.55,
          "xanchor": "left",
          "xref": "x",
          "y": 3,
          "yref": "y"
         },
         {
          "align": "left",
          "font": {
           "color": "#000000",
           "family": "Calibri",
           "size": 14
          },
          "showarrow": false,
          "text": "84",
          "x": 3.55,
          "xanchor": "left",
          "xref": "x",
          "y": 3,
          "yref": "y"
         },
         {
          "align": "left",
          "font": {
           "color": "#000000",
           "family": "Calibri",
           "size": 14
          },
          "showarrow": false,
          "text": "0",
          "x": 4.55,
          "xanchor": "left",
          "xref": "x",
          "y": 3,
          "yref": "y"
         },
         {
          "align": "left",
          "font": {
           "color": "#ffffff",
           "family": "Calibri",
           "size": 14
          },
          "showarrow": false,
          "text": "<b>3</b>",
          "x": -0.45,
          "xanchor": "left",
          "xref": "x",
          "y": 4,
          "yref": "y"
         },
         {
          "align": "left",
          "font": {
           "color": "#000000",
           "family": "Calibri",
           "size": 14
          },
          "showarrow": false,
          "text": "R8",
          "x": 0.55,
          "xanchor": "left",
          "xref": "x",
          "y": 4,
          "yref": "y"
         },
         {
          "align": "left",
          "font": {
           "color": "#000000",
           "family": "Calibri",
           "size": 14
          },
          "showarrow": false,
          "text": "VLCC - WAfr/China",
          "x": 1.55,
          "xanchor": "left",
          "xref": "x",
          "y": 4,
          "yref": "y"
         },
         {
          "align": "left",
          "font": {
           "color": "#000000",
           "family": "Calibri",
           "size": 14
          },
          "showarrow": false,
          "text": "WS",
          "x": 2.55,
          "xanchor": "left",
          "xref": "x",
          "y": 4,
          "yref": "y"
         },
         {
          "align": "left",
          "font": {
           "color": "#000000",
           "family": "Calibri",
           "size": 14
          },
          "showarrow": false,
          "text": "84",
          "x": 3.55,
          "xanchor": "left",
          "xref": "x",
          "y": 4,
          "yref": "y"
         },
         {
          "align": "left",
          "font": {
           "color": "#000000",
           "family": "Calibri",
           "size": 14
          },
          "showarrow": false,
          "text": "0",
          "x": 4.55,
          "xanchor": "left",
          "xref": "x",
          "y": 4,
          "yref": "y"
         }
        ],
        "height": 200,
        "margin": {
         "b": 0,
         "l": 0,
         "r": 0,
         "t": 0
        },
        "xaxis": {
         "dtick": 1,
         "gridwidth": 2,
         "showticklabels": false,
         "tick0": -0.5,
         "ticks": "",
         "zeroline": false
        },
        "yaxis": {
         "autorange": "reversed",
         "dtick": 1,
         "gridwidth": 2,
         "showticklabels": false,
         "tick0": 0.5,
         "ticks": "",
         "zeroline": false
        },
        "template": {
         "data": {
          "histogram2dcontour": [
           {
            "type": "histogram2dcontour",
            "colorbar": {
             "outlinewidth": 0,
             "ticks": ""
            },
            "colorscale": [
             [
              0.0,
              "#0d0887"
             ],
             [
              0.1111111111111111,
              "#46039f"
             ],
             [
              0.2222222222222222,
              "#7201a8"
             ],
             [
              0.3333333333333333,
              "#9c179e"
             ],
             [
              0.4444444444444444,
              "#bd3786"
             ],
             [
              0.5555555555555556,
              "#d8576b"
             ],
             [
              0.6666666666666666,
              "#ed7953"
             ],
             [
              0.7777777777777778,
              "#fb9f3a"
             ],
             [
              0.8888888888888888,
              "#fdca26"
             ],
             [
              1.0,
              "#f0f921"
             ]
            ]
           }
          ],
          "choropleth": [
           {
            "type": "choropleth",
            "colorbar": {
             "outlinewidth": 0,
             "ticks": ""
            }
           }
          ],
          "histogram2d": [
           {
            "type": "histogram2d",
            "colorbar": {
             "outlinewidth": 0,
             "ticks": ""
            },
            "colorscale": [
             [
              0.0,
              "#0d0887"
             ],
             [
              0.1111111111111111,
              "#46039f"
             ],
             [
              0.2222222222222222,
              "#7201a8"
             ],
             [
              0.3333333333333333,
              "#9c179e"
             ],
             [
              0.4444444444444444,
              "#bd3786"
             ],
             [
              0.5555555555555556,
              "#d8576b"
             ],
             [
              0.6666666666666666,
              "#ed7953"
             ],
             [
              0.7777777777777778,
              "#fb9f3a"
             ],
             [
              0.8888888888888888,
              "#fdca26"
             ],
             [
              1.0,
              "#f0f921"
             ]
            ]
           }
          ],
          "heatmap": [
           {
            "type": "heatmap",
            "colorbar": {
             "outlinewidth": 0,
             "ticks": ""
            },
            "colorscale": [
             [
              0.0,
              "#0d0887"
             ],
             [
              0.1111111111111111,
              "#46039f"
             ],
             [
              0.2222222222222222,
              "#7201a8"
             ],
             [
              0.3333333333333333,
              "#9c179e"
             ],
             [
              0.4444444444444444,
              "#bd3786"
             ],
             [
              0.5555555555555556,
              "#d8576b"
             ],
             [
              0.6666666666666666,
              "#ed7953"
             ],
             [
              0.7777777777777778,
              "#fb9f3a"
             ],
             [
              0.8888888888888888,
              "#fdca26"
             ],
             [
              1.0,
              "#f0f921"
             ]
            ]
           }
          ],
          "heatmapgl": [
           {
            "type": "heatmapgl",
            "colorbar": {
             "outlinewidth": 0,
             "ticks": ""
            },
            "colorscale": [
             [
              0.0,
              "#0d0887"
             ],
             [
              0.1111111111111111,
              "#46039f"
             ],
             [
              0.2222222222222222,
              "#7201a8"
             ],
             [
              0.3333333333333333,
              "#9c179e"
             ],
             [
              0.4444444444444444,
              "#bd3786"
             ],
             [
              0.5555555555555556,
              "#d8576b"
             ],
             [
              0.6666666666666666,
              "#ed7953"
             ],
             [
              0.7777777777777778,
              "#fb9f3a"
             ],
             [
              0.8888888888888888,
              "#fdca26"
             ],
             [
              1.0,
              "#f0f921"
             ]
            ]
           }
          ],
          "contourcarpet": [
           {
            "type": "contourcarpet",
            "colorbar": {
             "outlinewidth": 0,
             "ticks": ""
            }
           }
          ],
          "contour": [
           {
            "type": "contour",
            "colorbar": {
             "outlinewidth": 0,
             "ticks": ""
            },
            "colorscale": [
             [
              0.0,
              "#0d0887"
             ],
             [
              0.1111111111111111,
              "#46039f"
             ],
             [
              0.2222222222222222,
              "#7201a8"
             ],
             [
              0.3333333333333333,
              "#9c179e"
             ],
             [
              0.4444444444444444,
              "#bd3786"
             ],
             [
              0.5555555555555556,
              "#d8576b"
             ],
             [
              0.6666666666666666,
              "#ed7953"
             ],
             [
              0.7777777777777778,
              "#fb9f3a"
             ],
             [
              0.8888888888888888,
              "#fdca26"
             ],
             [
              1.0,
              "#f0f921"
             ]
            ]
           }
          ],
          "surface": [
           {
            "type": "surface",
            "colorbar": {
             "outlinewidth": 0,
             "ticks": ""
            },
            "colorscale": [
             [
              0.0,
              "#0d0887"
             ],
             [
              0.1111111111111111,
              "#46039f"
             ],
             [
              0.2222222222222222,
              "#7201a8"
             ],
             [
              0.3333333333333333,
              "#9c179e"
             ],
             [
              0.4444444444444444,
              "#bd3786"
             ],
             [
              0.5555555555555556,
              "#d8576b"
             ],
             [
              0.6666666666666666,
              "#ed7953"
             ],
             [
              0.7777777777777778,
              "#fb9f3a"
             ],
             [
              0.8888888888888888,
              "#fdca26"
             ],
             [
              1.0,
              "#f0f921"
             ]
            ]
           }
          ],
          "mesh3d": [
           {
            "type": "mesh3d",
            "colorbar": {
             "outlinewidth": 0,
             "ticks": ""
            }
           }
          ],
          "scatter": [
           {
            "fillpattern": {
             "fillmode": "overlay",
             "size": 10,
             "solidity": 0.2
            },
            "type": "scatter"
           }
          ],
          "parcoords": [
           {
            "type": "parcoords",
            "line": {
             "colorbar": {
              "outlinewidth": 0,
              "ticks": ""
             }
            }
           }
          ],
          "scatterpolargl": [
           {
            "type": "scatterpolargl",
            "marker": {
             "colorbar": {
              "outlinewidth": 0,
              "ticks": ""
             }
            }
           }
          ],
          "bar": [
           {
            "error_x": {
             "color": "#2a3f5f"
            },
            "error_y": {
             "color": "#2a3f5f"
            },
            "marker": {
             "line": {
              "color": "#E5ECF6",
              "width": 0.5
             },
             "pattern": {
              "fillmode": "overlay",
              "size": 10,
              "solidity": 0.2
             }
            },
            "type": "bar"
           }
          ],
          "scattergeo": [
           {
            "type": "scattergeo",
            "marker": {
             "colorbar": {
              "outlinewidth": 0,
              "ticks": ""
             }
            }
           }
          ],
          "scatterpolar": [
           {
            "type": "scatterpolar",
            "marker": {
             "colorbar": {
              "outlinewidth": 0,
              "ticks": ""
             }
            }
           }
          ],
          "histogram": [
           {
            "marker": {
             "pattern": {
              "fillmode": "overlay",
              "size": 10,
              "solidity": 0.2
             }
            },
            "type": "histogram"
           }
          ],
          "scattergl": [
           {
            "type": "scattergl",
            "marker": {
             "colorbar": {
              "outlinewidth": 0,
              "ticks": ""
             }
            }
           }
          ],
          "scatter3d": [
           {
            "type": "scatter3d",
            "line": {
             "colorbar": {
              "outlinewidth": 0,
              "ticks": ""
             }
            },
            "marker": {
             "colorbar": {
              "outlinewidth": 0,
              "ticks": ""
             }
            }
           }
          ],
          "scattermapbox": [
           {
            "type": "scattermapbox",
            "marker": {
             "colorbar": {
              "outlinewidth": 0,
              "ticks": ""
             }
            }
           }
          ],
          "scatterternary": [
           {
            "type": "scatterternary",
            "marker": {
             "colorbar": {
              "outlinewidth": 0,
              "ticks": ""
             }
            }
           }
          ],
          "scattercarpet": [
           {
            "type": "scattercarpet",
            "marker": {
             "colorbar": {
              "outlinewidth": 0,
              "ticks": ""
             }
            }
           }
          ],
          "carpet": [
           {
            "aaxis": {
             "endlinecolor": "#2a3f5f",
             "gridcolor": "white",
             "linecolor": "white",
             "minorgridcolor": "white",
             "startlinecolor": "#2a3f5f"
            },
            "baxis": {
             "endlinecolor": "#2a3f5f",
             "gridcolor": "white",
             "linecolor": "white",
             "minorgridcolor": "white",
             "startlinecolor": "#2a3f5f"
            },
            "type": "carpet"
           }
          ],
          "table": [
           {
            "cells": {
             "fill": {
              "color": "#EBF0F8"
             },
             "line": {
              "color": "white"
             }
            },
            "header": {
             "fill": {
              "color": "#C8D4E3"
             },
             "line": {
              "color": "white"
             }
            },
            "type": "table"
           }
          ],
          "barpolar": [
           {
            "marker": {
             "line": {
              "color": "#E5ECF6",
              "width": 0.5
             },
             "pattern": {
              "fillmode": "overlay",
              "size": 10,
              "solidity": 0.2
             }
            },
            "type": "barpolar"
           }
          ],
          "pie": [
           {
            "automargin": true,
            "type": "pie"
           }
          ]
         },
         "layout": {
          "autotypenumbers": "strict",
          "colorway": [
           "#636efa",
           "#EF553B",
           "#00cc96",
           "#ab63fa",
           "#FFA15A",
           "#19d3f3",
           "#FF6692",
           "#B6E880",
           "#FF97FF",
           "#FECB52"
          ],
          "font": {
           "color": "#2a3f5f"
          },
          "hovermode": "closest",
          "hoverlabel": {
           "align": "left"
          },
          "paper_bgcolor": "white",
          "plot_bgcolor": "#E5ECF6",
          "polar": {
           "bgcolor": "#E5ECF6",
           "angularaxis": {
            "gridcolor": "white",
            "linecolor": "white",
            "ticks": ""
           },
           "radialaxis": {
            "gridcolor": "white",
            "linecolor": "white",
            "ticks": ""
           }
          },
          "ternary": {
           "bgcolor": "#E5ECF6",
           "aaxis": {
            "gridcolor": "white",
            "linecolor": "white",
            "ticks": ""
           },
           "baxis": {
            "gridcolor": "white",
            "linecolor": "white",
            "ticks": ""
           },
           "caxis": {
            "gridcolor": "white",
            "linecolor": "white",
            "ticks": ""
           }
          },
          "coloraxis": {
           "colorbar": {
            "outlinewidth": 0,
            "ticks": ""
           }
          },
          "colorscale": {
           "sequential": [
            [
             0.0,
             "#0d0887"
            ],
            [
             0.1111111111111111,
             "#46039f"
            ],
            [
             0.2222222222222222,
             "#7201a8"
            ],
            [
             0.3333333333333333,
             "#9c179e"
            ],
            [
             0.4444444444444444,
             "#bd3786"
            ],
            [
             0.5555555555555556,
             "#d8576b"
            ],
            [
             0.6666666666666666,
             "#ed7953"
            ],
            [
             0.7777777777777778,
             "#fb9f3a"
            ],
            [
             0.8888888888888888,
             "#fdca26"
            ],
            [
             1.0,
             "#f0f921"
            ]
           ],
           "sequentialminus": [
            [
             0.0,
             "#0d0887"
            ],
            [
             0.1111111111111111,
             "#46039f"
            ],
            [
             0.2222222222222222,
             "#7201a8"
            ],
            [
             0.3333333333333333,
             "#9c179e"
            ],
            [
             0.4444444444444444,
             "#bd3786"
            ],
            [
             0.5555555555555556,
             "#d8576b"
            ],
            [
             0.6666666666666666,
             "#ed7953"
            ],
            [
             0.7777777777777778,
             "#fb9f3a"
            ],
            [
             0.8888888888888888,
             "#fdca26"
            ],
            [
             1.0,
             "#f0f921"
            ]
           ],
           "diverging": [
            [
             0,
             "#8e0152"
            ],
            [
             0.1,
             "#c51b7d"
            ],
            [
             0.2,
             "#de77ae"
            ],
            [
             0.3,
             "#f1b6da"
            ],
            [
             0.4,
             "#fde0ef"
            ],
            [
             0.5,
             "#f7f7f7"
            ],
            [
             0.6,
             "#e6f5d0"
            ],
            [
             0.7,
             "#b8e186"
            ],
            [
             0.8,
             "#7fbc41"
            ],
            [
             0.9,
             "#4d9221"
            ],
            [
             1,
             "#276419"
            ]
           ]
          },
          "xaxis": {
           "gridcolor": "white",
           "linecolor": "white",
           "ticks": "",
           "title": {
            "standoff": 15
           },
           "zerolinecolor": "white",
           "automargin": true,
           "zerolinewidth": 2
          },
          "yaxis": {
           "gridcolor": "white",
           "linecolor": "white",
           "ticks": "",
           "title": {
            "standoff": 15
           },
           "zerolinecolor": "white",
           "automargin": true,
           "zerolinewidth": 2
          },
          "scene": {
           "xaxis": {
            "backgroundcolor": "#E5ECF6",
            "gridcolor": "white",
            "linecolor": "white",
            "showbackground": true,
            "ticks": "",
            "zerolinecolor": "white",
            "gridwidth": 2
           },
           "yaxis": {
            "backgroundcolor": "#E5ECF6",
            "gridcolor": "white",
            "linecolor": "white",
            "showbackground": true,
            "ticks": "",
            "zerolinecolor": "white",
            "gridwidth": 2
           },
           "zaxis": {
            "backgroundcolor": "#E5ECF6",
            "gridcolor": "white",
            "linecolor": "white",
            "showbackground": true,
            "ticks": "",
            "zerolinecolor": "white",
            "gridwidth": 2
           }
          },
          "shapedefaults": {
           "line": {
            "color": "#2a3f5f"
           }
          },
          "annotationdefaults": {
           "arrowcolor": "#2a3f5f",
           "arrowhead": 0,
           "arrowwidth": 1
          },
          "geo": {
           "bgcolor": "white",
           "landcolor": "#E5ECF6",
           "subunitcolor": "white",
           "showland": true,
           "showlakes": true,
           "lakecolor": "white"
          },
          "title": {
           "x": 0.05
          },
          "mapbox": {
           "style": "light"
          }
         }
        },
        "width": 900
       },
       "config": {
        "plotlyServerURL": "https://plot.ly"
       }
      },
      "text/html": "<div>                            <div id=\"7e988738-0895-44f7-9e37-3981459ac64a\" class=\"plotly-graph-div\" style=\"height:200px; width:900px;\"></div>            <script type=\"text/javascript\">                require([\"plotly\"], function(Plotly) {                    window.PLOTLYENV=window.PLOTLYENV || {};                                    if (document.getElementById(\"7e988738-0895-44f7-9e37-3981459ac64a\")) {                    Plotly.newPlot(                        \"7e988738-0895-44f7-9e37-3981459ac64a\",                        [{\"colorscale\":[[0,\"#00083e\"],[0.5,\"#ededee\"],[1,\"#ffffff\"]],\"hoverinfo\":\"none\",\"opacity\":0.75,\"showscale\":false,\"z\":[[0,0,0,0,0,0],[0,0.5,0.5,0.5,0.5,0.5],[0,1,1,1,1,1],[0,0.5,0.5,0.5,0.5,0.5],[0,1,1,1,1,1]],\"type\":\"heatmap\"}],                        {\"annotations\":[{\"align\":\"left\",\"font\":{\"color\":\"#ffffff\",\"family\":\"Calibri\",\"size\":14},\"showarrow\":false,\"text\":\"<b></b>\",\"x\":-0.45,\"xanchor\":\"left\",\"xref\":\"x\",\"y\":0,\"yref\":\"y\"},{\"align\":\"left\",\"font\":{\"color\":\"#ffffff\",\"family\":\"Calibri\",\"size\":14},\"showarrow\":false,\"text\":\"<b>Id</b>\",\"x\":0.55,\"xanchor\":\"left\",\"xref\":\"x\",\"y\":0,\"yref\":\"y\"},{\"align\":\"left\",\"font\":{\"color\":\"#ffffff\",\"family\":\"Calibri\",\"size\":14},\"showarrow\":false,\"text\":\"<b>Description</b>\",\"x\":1.55,\"xanchor\":\"left\",\"xref\":\"x\",\"y\":0,\"yref\":\"y\"},{\"align\":\"left\",\"font\":{\"color\":\"#ffffff\",\"family\":\"Calibri\",\"size\":14},\"showarrow\":false,\"text\":\"<b>Unit</b>\",\"x\":2.55,\"xanchor\":\"left\",\"xref\":\"x\",\"y\":0,\"yref\":\"y\"},{\"align\":\"left\",\"font\":{\"color\":\"#ffffff\",\"family\":\"Calibri\",\"size\":14},\"showarrow\":false,\"text\":\"<b>VesselClassId</b>\",\"x\":3.55,\"xanchor\":\"left\",\"xref\":\"x\",\"y\":0,\"yref\":\"y\"},{\"align\":\"left\",\"font\":{\"color\":\"#ffffff\",\"family\":\"Calibri\",\"size\":14},\"showarrow\":false,\"text\":\"<b>CargoId</b>\",\"x\":4.55,\"xanchor\":\"left\",\"xref\":\"x\",\"y\":0,\"yref\":\"y\"},{\"align\":\"left\",\"font\":{\"color\":\"#ffffff\",\"family\":\"Calibri\",\"size\":14},\"showarrow\":false,\"text\":\"<b>0</b>\",\"x\":-0.45,\"xanchor\":\"left\",\"xref\":\"x\",\"y\":1,\"yref\":\"y\"},{\"align\":\"left\",\"font\":{\"color\":\"#000000\",\"family\":\"Calibri\",\"size\":14},\"showarrow\":false,\"text\":\"R5\",\"x\":0.55,\"xanchor\":\"left\",\"xref\":\"x\",\"y\":1,\"yref\":\"y\"},{\"align\":\"left\",\"font\":{\"color\":\"#000000\",\"family\":\"Calibri\",\"size\":14},\"showarrow\":false,\"text\":\"VLCC - MEG/China\",\"x\":1.55,\"xanchor\":\"left\",\"xref\":\"x\",\"y\":1,\"yref\":\"y\"},{\"align\":\"left\",\"font\":{\"color\":\"#000000\",\"family\":\"Calibri\",\"size\":14},\"showarrow\":false,\"text\":\"WS\",\"x\":2.55,\"xanchor\":\"left\",\"xref\":\"x\",\"y\":1,\"yref\":\"y\"},{\"align\":\"left\",\"font\":{\"color\":\"#000000\",\"family\":\"Calibri\",\"size\":14},\"showarrow\":false,\"text\":\"84\",\"x\":3.55,\"xanchor\":\"left\",\"xref\":\"x\",\"y\":1,\"yref\":\"y\"},{\"align\":\"left\",\"font\":{\"color\":\"#000000\",\"family\":\"Calibri\",\"size\":14},\"showarrow\":false,\"text\":\"0\",\"x\":4.55,\"xanchor\":\"left\",\"xref\":\"x\",\"y\":1,\"yref\":\"y\"},{\"align\":\"left\",\"font\":{\"color\":\"#ffffff\",\"family\":\"Calibri\",\"size\":14},\"showarrow\":false,\"text\":\"<b>1</b>\",\"x\":-0.45,\"xanchor\":\"left\",\"xref\":\"x\",\"y\":2,\"yref\":\"y\"},{\"align\":\"left\",\"font\":{\"color\":\"#000000\",\"family\":\"Calibri\",\"size\":14},\"showarrow\":false,\"text\":\"R6\",\"x\":0.55,\"xanchor\":\"left\",\"xref\":\"x\",\"y\":2,\"yref\":\"y\"},{\"align\":\"left\",\"font\":{\"color\":\"#000000\",\"family\":\"Calibri\",\"size\":14},\"showarrow\":false,\"text\":\"VLCC - MEG/Spore\",\"x\":1.55,\"xanchor\":\"left\",\"xref\":\"x\",\"y\":2,\"yref\":\"y\"},{\"align\":\"left\",\"font\":{\"color\":\"#000000\",\"family\":\"Calibri\",\"size\":14},\"showarrow\":false,\"text\":\"WS\",\"x\":2.55,\"xanchor\":\"left\",\"xref\":\"x\",\"y\":2,\"yref\":\"y\"},{\"align\":\"left\",\"font\":{\"color\":\"#000000\",\"family\":\"Calibri\",\"size\":14},\"showarrow\":false,\"text\":\"84\",\"x\":3.55,\"xanchor\":\"left\",\"xref\":\"x\",\"y\":2,\"yref\":\"y\"},{\"align\":\"left\",\"font\":{\"color\":\"#000000\",\"family\":\"Calibri\",\"size\":14},\"showarrow\":false,\"text\":\"0\",\"x\":4.55,\"xanchor\":\"left\",\"xref\":\"x\",\"y\":2,\"yref\":\"y\"},{\"align\":\"left\",\"font\":{\"color\":\"#ffffff\",\"family\":\"Calibri\",\"size\":14},\"showarrow\":false,\"text\":\"<b>2</b>\",\"x\":-0.45,\"xanchor\":\"left\",\"xref\":\"x\",\"y\":3,\"yref\":\"y\"},{\"align\":\"left\",\"font\":{\"color\":\"#000000\",\"family\":\"Calibri\",\"size\":14},\"showarrow\":false,\"text\":\"R7\",\"x\":0.55,\"xanchor\":\"left\",\"xref\":\"x\",\"y\":3,\"yref\":\"y\"},{\"align\":\"left\",\"font\":{\"color\":\"#000000\",\"family\":\"Calibri\",\"size\":14},\"showarrow\":false,\"text\":\"VLCC - MEG/USG\",\"x\":1.55,\"xanchor\":\"left\",\"xref\":\"x\",\"y\":3,\"yref\":\"y\"},{\"align\":\"left\",\"font\":{\"color\":\"#000000\",\"family\":\"Calibri\",\"size\":14},\"showarrow\":false,\"text\":\"WS\",\"x\":2.55,\"xanchor\":\"left\",\"xref\":\"x\",\"y\":3,\"yref\":\"y\"},{\"align\":\"left\",\"font\":{\"color\":\"#000000\",\"family\":\"Calibri\",\"size\":14},\"showarrow\":false,\"text\":\"84\",\"x\":3.55,\"xanchor\":\"left\",\"xref\":\"x\",\"y\":3,\"yref\":\"y\"},{\"align\":\"left\",\"font\":{\"color\":\"#000000\",\"family\":\"Calibri\",\"size\":14},\"showarrow\":false,\"text\":\"0\",\"x\":4.55,\"xanchor\":\"left\",\"xref\":\"x\",\"y\":3,\"yref\":\"y\"},{\"align\":\"left\",\"font\":{\"color\":\"#ffffff\",\"family\":\"Calibri\",\"size\":14},\"showarrow\":false,\"text\":\"<b>3</b>\",\"x\":-0.45,\"xanchor\":\"left\",\"xref\":\"x\",\"y\":4,\"yref\":\"y\"},{\"align\":\"left\",\"font\":{\"color\":\"#000000\",\"family\":\"Calibri\",\"size\":14},\"showarrow\":false,\"text\":\"R8\",\"x\":0.55,\"xanchor\":\"left\",\"xref\":\"x\",\"y\":4,\"yref\":\"y\"},{\"align\":\"left\",\"font\":{\"color\":\"#000000\",\"family\":\"Calibri\",\"size\":14},\"showarrow\":false,\"text\":\"VLCC - WAfr/China\",\"x\":1.55,\"xanchor\":\"left\",\"xref\":\"x\",\"y\":4,\"yref\":\"y\"},{\"align\":\"left\",\"font\":{\"color\":\"#000000\",\"family\":\"Calibri\",\"size\":14},\"showarrow\":false,\"text\":\"WS\",\"x\":2.55,\"xanchor\":\"left\",\"xref\":\"x\",\"y\":4,\"yref\":\"y\"},{\"align\":\"left\",\"font\":{\"color\":\"#000000\",\"family\":\"Calibri\",\"size\":14},\"showarrow\":false,\"text\":\"84\",\"x\":3.55,\"xanchor\":\"left\",\"xref\":\"x\",\"y\":4,\"yref\":\"y\"},{\"align\":\"left\",\"font\":{\"color\":\"#000000\",\"family\":\"Calibri\",\"size\":14},\"showarrow\":false,\"text\":\"0\",\"x\":4.55,\"xanchor\":\"left\",\"xref\":\"x\",\"y\":4,\"yref\":\"y\"}],\"height\":200,\"margin\":{\"b\":0,\"l\":0,\"r\":0,\"t\":0},\"xaxis\":{\"dtick\":1,\"gridwidth\":2,\"showticklabels\":false,\"tick0\":-0.5,\"ticks\":\"\",\"zeroline\":false},\"yaxis\":{\"autorange\":\"reversed\",\"dtick\":1,\"gridwidth\":2,\"showticklabels\":false,\"tick0\":0.5,\"ticks\":\"\",\"zeroline\":false},\"template\":{\"data\":{\"histogram2dcontour\":[{\"type\":\"histogram2dcontour\",\"colorbar\":{\"outlinewidth\":0,\"ticks\":\"\"},\"colorscale\":[[0.0,\"#0d0887\"],[0.1111111111111111,\"#46039f\"],[0.2222222222222222,\"#7201a8\"],[0.3333333333333333,\"#9c179e\"],[0.4444444444444444,\"#bd3786\"],[0.5555555555555556,\"#d8576b\"],[0.6666666666666666,\"#ed7953\"],[0.7777777777777778,\"#fb9f3a\"],[0.8888888888888888,\"#fdca26\"],[1.0,\"#f0f921\"]]}],\"choropleth\":[{\"type\":\"choropleth\",\"colorbar\":{\"outlinewidth\":0,\"ticks\":\"\"}}],\"histogram2d\":[{\"type\":\"histogram2d\",\"colorbar\":{\"outlinewidth\":0,\"ticks\":\"\"},\"colorscale\":[[0.0,\"#0d0887\"],[0.1111111111111111,\"#46039f\"],[0.2222222222222222,\"#7201a8\"],[0.3333333333333333,\"#9c179e\"],[0.4444444444444444,\"#bd3786\"],[0.5555555555555556,\"#d8576b\"],[0.6666666666666666,\"#ed7953\"],[0.7777777777777778,\"#fb9f3a\"],[0.8888888888888888,\"#fdca26\"],[1.0,\"#f0f921\"]]}],\"heatmap\":[{\"type\":\"heatmap\",\"colorbar\":{\"outlinewidth\":0,\"ticks\":\"\"},\"colorscale\":[[0.0,\"#0d0887\"],[0.1111111111111111,\"#46039f\"],[0.2222222222222222,\"#7201a8\"],[0.3333333333333333,\"#9c179e\"],[0.4444444444444444,\"#bd3786\"],[0.5555555555555556,\"#d8576b\"],[0.6666666666666666,\"#ed7953\"],[0.7777777777777778,\"#fb9f3a\"],[0.8888888888888888,\"#fdca26\"],[1.0,\"#f0f921\"]]}],\"heatmapgl\":[{\"type\":\"heatmapgl\",\"colorbar\":{\"outlinewidth\":0,\"ticks\":\"\"},\"colorscale\":[[0.0,\"#0d0887\"],[0.1111111111111111,\"#46039f\"],[0.2222222222222222,\"#7201a8\"],[0.3333333333333333,\"#9c179e\"],[0.4444444444444444,\"#bd3786\"],[0.5555555555555556,\"#d8576b\"],[0.6666666666666666,\"#ed7953\"],[0.7777777777777778,\"#fb9f3a\"],[0.8888888888888888,\"#fdca26\"],[1.0,\"#f0f921\"]]}],\"contourcarpet\":[{\"type\":\"contourcarpet\",\"colorbar\":{\"outlinewidth\":0,\"ticks\":\"\"}}],\"contour\":[{\"type\":\"contour\",\"colorbar\":{\"outlinewidth\":0,\"ticks\":\"\"},\"colorscale\":[[0.0,\"#0d0887\"],[0.1111111111111111,\"#46039f\"],[0.2222222222222222,\"#7201a8\"],[0.3333333333333333,\"#9c179e\"],[0.4444444444444444,\"#bd3786\"],[0.5555555555555556,\"#d8576b\"],[0.6666666666666666,\"#ed7953\"],[0.7777777777777778,\"#fb9f3a\"],[0.8888888888888888,\"#fdca26\"],[1.0,\"#f0f921\"]]}],\"surface\":[{\"type\":\"surface\",\"colorbar\":{\"outlinewidth\":0,\"ticks\":\"\"},\"colorscale\":[[0.0,\"#0d0887\"],[0.1111111111111111,\"#46039f\"],[0.2222222222222222,\"#7201a8\"],[0.3333333333333333,\"#9c179e\"],[0.4444444444444444,\"#bd3786\"],[0.5555555555555556,\"#d8576b\"],[0.6666666666666666,\"#ed7953\"],[0.7777777777777778,\"#fb9f3a\"],[0.8888888888888888,\"#fdca26\"],[1.0,\"#f0f921\"]]}],\"mesh3d\":[{\"type\":\"mesh3d\",\"colorbar\":{\"outlinewidth\":0,\"ticks\":\"\"}}],\"scatter\":[{\"fillpattern\":{\"fillmode\":\"overlay\",\"size\":10,\"solidity\":0.2},\"type\":\"scatter\"}],\"parcoords\":[{\"type\":\"parcoords\",\"line\":{\"colorbar\":{\"outlinewidth\":0,\"ticks\":\"\"}}}],\"scatterpolargl\":[{\"type\":\"scatterpolargl\",\"marker\":{\"colorbar\":{\"outlinewidth\":0,\"ticks\":\"\"}}}],\"bar\":[{\"error_x\":{\"color\":\"#2a3f5f\"},\"error_y\":{\"color\":\"#2a3f5f\"},\"marker\":{\"line\":{\"color\":\"#E5ECF6\",\"width\":0.5},\"pattern\":{\"fillmode\":\"overlay\",\"size\":10,\"solidity\":0.2}},\"type\":\"bar\"}],\"scattergeo\":[{\"type\":\"scattergeo\",\"marker\":{\"colorbar\":{\"outlinewidth\":0,\"ticks\":\"\"}}}],\"scatterpolar\":[{\"type\":\"scatterpolar\",\"marker\":{\"colorbar\":{\"outlinewidth\":0,\"ticks\":\"\"}}}],\"histogram\":[{\"marker\":{\"pattern\":{\"fillmode\":\"overlay\",\"size\":10,\"solidity\":0.2}},\"type\":\"histogram\"}],\"scattergl\":[{\"type\":\"scattergl\",\"marker\":{\"colorbar\":{\"outlinewidth\":0,\"ticks\":\"\"}}}],\"scatter3d\":[{\"type\":\"scatter3d\",\"line\":{\"colorbar\":{\"outlinewidth\":0,\"ticks\":\"\"}},\"marker\":{\"colorbar\":{\"outlinewidth\":0,\"ticks\":\"\"}}}],\"scattermapbox\":[{\"type\":\"scattermapbox\",\"marker\":{\"colorbar\":{\"outlinewidth\":0,\"ticks\":\"\"}}}],\"scatterternary\":[{\"type\":\"scatterternary\",\"marker\":{\"colorbar\":{\"outlinewidth\":0,\"ticks\":\"\"}}}],\"scattercarpet\":[{\"type\":\"scattercarpet\",\"marker\":{\"colorbar\":{\"outlinewidth\":0,\"ticks\":\"\"}}}],\"carpet\":[{\"aaxis\":{\"endlinecolor\":\"#2a3f5f\",\"gridcolor\":\"white\",\"linecolor\":\"white\",\"minorgridcolor\":\"white\",\"startlinecolor\":\"#2a3f5f\"},\"baxis\":{\"endlinecolor\":\"#2a3f5f\",\"gridcolor\":\"white\",\"linecolor\":\"white\",\"minorgridcolor\":\"white\",\"startlinecolor\":\"#2a3f5f\"},\"type\":\"carpet\"}],\"table\":[{\"cells\":{\"fill\":{\"color\":\"#EBF0F8\"},\"line\":{\"color\":\"white\"}},\"header\":{\"fill\":{\"color\":\"#C8D4E3\"},\"line\":{\"color\":\"white\"}},\"type\":\"table\"}],\"barpolar\":[{\"marker\":{\"line\":{\"color\":\"#E5ECF6\",\"width\":0.5},\"pattern\":{\"fillmode\":\"overlay\",\"size\":10,\"solidity\":0.2}},\"type\":\"barpolar\"}],\"pie\":[{\"automargin\":true,\"type\":\"pie\"}]},\"layout\":{\"autotypenumbers\":\"strict\",\"colorway\":[\"#636efa\",\"#EF553B\",\"#00cc96\",\"#ab63fa\",\"#FFA15A\",\"#19d3f3\",\"#FF6692\",\"#B6E880\",\"#FF97FF\",\"#FECB52\"],\"font\":{\"color\":\"#2a3f5f\"},\"hovermode\":\"closest\",\"hoverlabel\":{\"align\":\"left\"},\"paper_bgcolor\":\"white\",\"plot_bgcolor\":\"#E5ECF6\",\"polar\":{\"bgcolor\":\"#E5ECF6\",\"angularaxis\":{\"gridcolor\":\"white\",\"linecolor\":\"white\",\"ticks\":\"\"},\"radialaxis\":{\"gridcolor\":\"white\",\"linecolor\":\"white\",\"ticks\":\"\"}},\"ternary\":{\"bgcolor\":\"#E5ECF6\",\"aaxis\":{\"gridcolor\":\"white\",\"linecolor\":\"white\",\"ticks\":\"\"},\"baxis\":{\"gridcolor\":\"white\",\"linecolor\":\"white\",\"ticks\":\"\"},\"caxis\":{\"gridcolor\":\"white\",\"linecolor\":\"white\",\"ticks\":\"\"}},\"coloraxis\":{\"colorbar\":{\"outlinewidth\":0,\"ticks\":\"\"}},\"colorscale\":{\"sequential\":[[0.0,\"#0d0887\"],[0.1111111111111111,\"#46039f\"],[0.2222222222222222,\"#7201a8\"],[0.3333333333333333,\"#9c179e\"],[0.4444444444444444,\"#bd3786\"],[0.5555555555555556,\"#d8576b\"],[0.6666666666666666,\"#ed7953\"],[0.7777777777777778,\"#fb9f3a\"],[0.8888888888888888,\"#fdca26\"],[1.0,\"#f0f921\"]],\"sequentialminus\":[[0.0,\"#0d0887\"],[0.1111111111111111,\"#46039f\"],[0.2222222222222222,\"#7201a8\"],[0.3333333333333333,\"#9c179e\"],[0.4444444444444444,\"#bd3786\"],[0.5555555555555556,\"#d8576b\"],[0.6666666666666666,\"#ed7953\"],[0.7777777777777778,\"#fb9f3a\"],[0.8888888888888888,\"#fdca26\"],[1.0,\"#f0f921\"]],\"diverging\":[[0,\"#8e0152\"],[0.1,\"#c51b7d\"],[0.2,\"#de77ae\"],[0.3,\"#f1b6da\"],[0.4,\"#fde0ef\"],[0.5,\"#f7f7f7\"],[0.6,\"#e6f5d0\"],[0.7,\"#b8e186\"],[0.8,\"#7fbc41\"],[0.9,\"#4d9221\"],[1,\"#276419\"]]},\"xaxis\":{\"gridcolor\":\"white\",\"linecolor\":\"white\",\"ticks\":\"\",\"title\":{\"standoff\":15},\"zerolinecolor\":\"white\",\"automargin\":true,\"zerolinewidth\":2},\"yaxis\":{\"gridcolor\":\"white\",\"linecolor\":\"white\",\"ticks\":\"\",\"title\":{\"standoff\":15},\"zerolinecolor\":\"white\",\"automargin\":true,\"zerolinewidth\":2},\"scene\":{\"xaxis\":{\"backgroundcolor\":\"#E5ECF6\",\"gridcolor\":\"white\",\"linecolor\":\"white\",\"showbackground\":true,\"ticks\":\"\",\"zerolinecolor\":\"white\",\"gridwidth\":2},\"yaxis\":{\"backgroundcolor\":\"#E5ECF6\",\"gridcolor\":\"white\",\"linecolor\":\"white\",\"showbackground\":true,\"ticks\":\"\",\"zerolinecolor\":\"white\",\"gridwidth\":2},\"zaxis\":{\"backgroundcolor\":\"#E5ECF6\",\"gridcolor\":\"white\",\"linecolor\":\"white\",\"showbackground\":true,\"ticks\":\"\",\"zerolinecolor\":\"white\",\"gridwidth\":2}},\"shapedefaults\":{\"line\":{\"color\":\"#2a3f5f\"}},\"annotationdefaults\":{\"arrowcolor\":\"#2a3f5f\",\"arrowhead\":0,\"arrowwidth\":1},\"geo\":{\"bgcolor\":\"white\",\"landcolor\":\"#E5ECF6\",\"subunitcolor\":\"white\",\"showland\":true,\"showlakes\":true,\"lakecolor\":\"white\"},\"title\":{\"x\":0.05},\"mapbox\":{\"style\":\"light\"}}},\"width\":900},                        {\"responsive\": true}                    ).then(function(){\n                            \nvar gd = document.getElementById('7e988738-0895-44f7-9e37-3981459ac64a');\nvar x = new MutationObserver(function (mutations, observer) {{\n        var display = window.getComputedStyle(gd).display;\n        if (!display || display === 'none') {{\n            console.log([gd, 'removed!']);\n            Plotly.purge(gd);\n            observer.disconnect();\n        }}\n}});\n\n// Listen for the removal of the full notebook cells\nvar notebookContainer = gd.closest('#notebook-container');\nif (notebookContainer) {{\n    x.observe(notebookContainer, {childList: true});\n}}\n\n// Listen for the clearing of the current output cell\nvar outputEl = gd.closest('.output');\nif (outputEl) {{\n    x.observe(outputEl, {childList: true});\n}}\n\n                        })                };                });            </script>        </div>"
     },
     "metadata": {},
     "output_type": "display_data"
    }
   ],
   "source": [
    "vlcc_routes = mr_api.get_routes(vessel_class_id=84)\n",
    "vlcc_routes_df = create_dataframe(vlcc_routes).drop(\n",
    "    ['LoadPortId', 'DischargePortId', 'LoadAreaId',\n",
    "     'DischargeAreaId', 'LoadPort2Id', 'DischargePort2Id', 'LoadArea2Id',\n",
    "     'DischargeArea2Id', 'DeprecatedTo', 'DeprecatedSince'], axis=1)\n",
    "styled_table(vlcc_routes_df)"
   ]
  },
  {
   "cell_type": "markdown",
   "metadata": {
    "collapsed": false,
    "pycharm": {
     "name": "#%% md\n"
    }
   },
   "source": [
    "#### Get the market rates\n",
    "Now we can request the market rate on a given date for one of the routes we got in previous step or\n",
    "for all routes matching this vessel class"
   ]
  },
  {
   "cell_type": "code",
   "execution_count": 88,
   "metadata": {
    "collapsed": false,
    "pycharm": {
     "name": "#%%\n"
    }
   },
   "outputs": [
    {
     "data": {
      "application/vnd.plotly.v1+json": {
       "data": [
        {
         "colorscale": [
          [
           0,
           "#00083e"
          ],
          [
           0.5,
           "#ededee"
          ],
          [
           1,
           "#ffffff"
          ]
         ],
         "hoverinfo": "none",
         "opacity": 0.75,
         "showscale": false,
         "z": [
          [
           0,
           0,
           0,
           0,
           0,
           0,
           0
          ],
          [
           0,
           0.5,
           0.5,
           0.5,
           0.5,
           0.5,
           0.5
          ],
          [
           0,
           1,
           1,
           1,
           1,
           1,
           1
          ],
          [
           0,
           0.5,
           0.5,
           0.5,
           0.5,
           0.5,
           0.5
          ],
          [
           0,
           1,
           1,
           1,
           1,
           1,
           1
          ]
         ],
         "type": "heatmap"
        }
       ],
       "layout": {
        "annotations": [
         {
          "align": "left",
          "font": {
           "color": "#ffffff",
           "family": "Calibri",
           "size": 14
          },
          "showarrow": false,
          "text": "<b></b>",
          "x": -0.45,
          "xanchor": "left",
          "xref": "x",
          "y": 0,
          "yref": "y"
         },
         {
          "align": "left",
          "font": {
           "color": "#ffffff",
           "family": "Calibri",
           "size": 14
          },
          "showarrow": false,
          "text": "<b>RouteId</b>",
          "x": 0.55,
          "xanchor": "left",
          "xref": "x",
          "y": 0,
          "yref": "y"
         },
         {
          "align": "left",
          "font": {
           "color": "#ffffff",
           "family": "Calibri",
           "size": 14
          },
          "showarrow": false,
          "text": "<b>RateDate</b>",
          "x": 1.55,
          "xanchor": "left",
          "xref": "x",
          "y": 0,
          "yref": "y"
         },
         {
          "align": "left",
          "font": {
           "color": "#ffffff",
           "family": "Calibri",
           "size": 14
          },
          "showarrow": false,
          "text": "<b>RateValue</b>",
          "x": 2.55,
          "xanchor": "left",
          "xref": "x",
          "y": 0,
          "yref": "y"
         },
         {
          "align": "left",
          "font": {
           "color": "#ffffff",
           "family": "Calibri",
           "size": 14
          },
          "showarrow": false,
          "text": "<b>Unit</b>",
          "x": 3.55,
          "xanchor": "left",
          "xref": "x",
          "y": 0,
          "yref": "y"
         },
         {
          "align": "left",
          "font": {
           "color": "#ffffff",
           "family": "Calibri",
           "size": 14
          },
          "showarrow": false,
          "text": "<b>VesselClassId</b>",
          "x": 4.55,
          "xanchor": "left",
          "xref": "x",
          "y": 0,
          "yref": "y"
         },
         {
          "align": "left",
          "font": {
           "color": "#ffffff",
           "family": "Calibri",
           "size": 14
          },
          "showarrow": false,
          "text": "<b>DeprecatedTo</b>",
          "x": 5.55,
          "xanchor": "left",
          "xref": "x",
          "y": 0,
          "yref": "y"
         },
         {
          "align": "left",
          "font": {
           "color": "#ffffff",
           "family": "Calibri",
           "size": 14
          },
          "showarrow": false,
          "text": "<b>0</b>",
          "x": -0.45,
          "xanchor": "left",
          "xref": "x",
          "y": 1,
          "yref": "y"
         },
         {
          "align": "left",
          "font": {
           "color": "#000000",
           "family": "Calibri",
           "size": 14
          },
          "showarrow": false,
          "text": "R7",
          "x": 0.55,
          "xanchor": "left",
          "xref": "x",
          "y": 1,
          "yref": "y"
         },
         {
          "align": "left",
          "font": {
           "color": "#000000",
           "family": "Calibri",
           "size": 14
          },
          "showarrow": false,
          "text": "2020-01-02",
          "x": 1.55,
          "xanchor": "left",
          "xref": "x",
          "y": 1,
          "yref": "y"
         },
         {
          "align": "left",
          "font": {
           "color": "#000000",
           "family": "Calibri",
           "size": 14
          },
          "showarrow": false,
          "text": "66.0",
          "x": 2.55,
          "xanchor": "left",
          "xref": "x",
          "y": 1,
          "yref": "y"
         },
         {
          "align": "left",
          "font": {
           "color": "#000000",
           "family": "Calibri",
           "size": 14
          },
          "showarrow": false,
          "text": "WS",
          "x": 3.55,
          "xanchor": "left",
          "xref": "x",
          "y": 1,
          "yref": "y"
         },
         {
          "align": "left",
          "font": {
           "color": "#000000",
           "family": "Calibri",
           "size": 14
          },
          "showarrow": false,
          "text": "84",
          "x": 4.55,
          "xanchor": "left",
          "xref": "x",
          "y": 1,
          "yref": "y"
         },
         {
          "align": "left",
          "font": {
           "color": "#000000",
           "family": "Calibri",
           "size": 14
          },
          "showarrow": false,
          "text": "None",
          "x": 5.55,
          "xanchor": "left",
          "xref": "x",
          "y": 1,
          "yref": "y"
         },
         {
          "align": "left",
          "font": {
           "color": "#ffffff",
           "family": "Calibri",
           "size": 14
          },
          "showarrow": false,
          "text": "<b>1</b>",
          "x": -0.45,
          "xanchor": "left",
          "xref": "x",
          "y": 2,
          "yref": "y"
         },
         {
          "align": "left",
          "font": {
           "color": "#000000",
           "family": "Calibri",
           "size": 14
          },
          "showarrow": false,
          "text": "R5",
          "x": 0.55,
          "xanchor": "left",
          "xref": "x",
          "y": 2,
          "yref": "y"
         },
         {
          "align": "left",
          "font": {
           "color": "#000000",
           "family": "Calibri",
           "size": 14
          },
          "showarrow": false,
          "text": "2020-01-02",
          "x": 1.55,
          "xanchor": "left",
          "xref": "x",
          "y": 2,
          "yref": "y"
         },
         {
          "align": "left",
          "font": {
           "color": "#000000",
           "family": "Calibri",
           "size": 14
          },
          "showarrow": false,
          "text": "144.5",
          "x": 2.55,
          "xanchor": "left",
          "xref": "x",
          "y": 2,
          "yref": "y"
         },
         {
          "align": "left",
          "font": {
           "color": "#000000",
           "family": "Calibri",
           "size": 14
          },
          "showarrow": false,
          "text": "WS",
          "x": 3.55,
          "xanchor": "left",
          "xref": "x",
          "y": 2,
          "yref": "y"
         },
         {
          "align": "left",
          "font": {
           "color": "#000000",
           "family": "Calibri",
           "size": 14
          },
          "showarrow": false,
          "text": "84",
          "x": 4.55,
          "xanchor": "left",
          "xref": "x",
          "y": 2,
          "yref": "y"
         },
         {
          "align": "left",
          "font": {
           "color": "#000000",
           "family": "Calibri",
           "size": 14
          },
          "showarrow": false,
          "text": "None",
          "x": 5.55,
          "xanchor": "left",
          "xref": "x",
          "y": 2,
          "yref": "y"
         },
         {
          "align": "left",
          "font": {
           "color": "#ffffff",
           "family": "Calibri",
           "size": 14
          },
          "showarrow": false,
          "text": "<b>2</b>",
          "x": -0.45,
          "xanchor": "left",
          "xref": "x",
          "y": 3,
          "yref": "y"
         },
         {
          "align": "left",
          "font": {
           "color": "#000000",
           "family": "Calibri",
           "size": 14
          },
          "showarrow": false,
          "text": "R6",
          "x": 0.55,
          "xanchor": "left",
          "xref": "x",
          "y": 3,
          "yref": "y"
         },
         {
          "align": "left",
          "font": {
           "color": "#000000",
           "family": "Calibri",
           "size": 14
          },
          "showarrow": false,
          "text": "2020-01-02",
          "x": 1.55,
          "xanchor": "left",
          "xref": "x",
          "y": 3,
          "yref": "y"
         },
         {
          "align": "left",
          "font": {
           "color": "#000000",
           "family": "Calibri",
           "size": 14
          },
          "showarrow": false,
          "text": "145.0",
          "x": 2.55,
          "xanchor": "left",
          "xref": "x",
          "y": 3,
          "yref": "y"
         },
         {
          "align": "left",
          "font": {
           "color": "#000000",
           "family": "Calibri",
           "size": 14
          },
          "showarrow": false,
          "text": "WS",
          "x": 3.55,
          "xanchor": "left",
          "xref": "x",
          "y": 3,
          "yref": "y"
         },
         {
          "align": "left",
          "font": {
           "color": "#000000",
           "family": "Calibri",
           "size": 14
          },
          "showarrow": false,
          "text": "84",
          "x": 4.55,
          "xanchor": "left",
          "xref": "x",
          "y": 3,
          "yref": "y"
         },
         {
          "align": "left",
          "font": {
           "color": "#000000",
           "family": "Calibri",
           "size": 14
          },
          "showarrow": false,
          "text": "None",
          "x": 5.55,
          "xanchor": "left",
          "xref": "x",
          "y": 3,
          "yref": "y"
         },
         {
          "align": "left",
          "font": {
           "color": "#ffffff",
           "family": "Calibri",
           "size": 14
          },
          "showarrow": false,
          "text": "<b>3</b>",
          "x": -0.45,
          "xanchor": "left",
          "xref": "x",
          "y": 4,
          "yref": "y"
         },
         {
          "align": "left",
          "font": {
           "color": "#000000",
           "family": "Calibri",
           "size": 14
          },
          "showarrow": false,
          "text": "R8",
          "x": 0.55,
          "xanchor": "left",
          "xref": "x",
          "y": 4,
          "yref": "y"
         },
         {
          "align": "left",
          "font": {
           "color": "#000000",
           "family": "Calibri",
           "size": 14
          },
          "showarrow": false,
          "text": "2020-01-02",
          "x": 1.55,
          "xanchor": "left",
          "xref": "x",
          "y": 4,
          "yref": "y"
         },
         {
          "align": "left",
          "font": {
           "color": "#000000",
           "family": "Calibri",
           "size": 14
          },
          "showarrow": false,
          "text": "127.5",
          "x": 2.55,
          "xanchor": "left",
          "xref": "x",
          "y": 4,
          "yref": "y"
         },
         {
          "align": "left",
          "font": {
           "color": "#000000",
           "family": "Calibri",
           "size": 14
          },
          "showarrow": false,
          "text": "WS",
          "x": 3.55,
          "xanchor": "left",
          "xref": "x",
          "y": 4,
          "yref": "y"
         },
         {
          "align": "left",
          "font": {
           "color": "#000000",
           "family": "Calibri",
           "size": 14
          },
          "showarrow": false,
          "text": "84",
          "x": 4.55,
          "xanchor": "left",
          "xref": "x",
          "y": 4,
          "yref": "y"
         },
         {
          "align": "left",
          "font": {
           "color": "#000000",
           "family": "Calibri",
           "size": 14
          },
          "showarrow": false,
          "text": "None",
          "x": 5.55,
          "xanchor": "left",
          "xref": "x",
          "y": 4,
          "yref": "y"
         }
        ],
        "height": 200,
        "margin": {
         "b": 0,
         "l": 0,
         "r": 0,
         "t": 0
        },
        "xaxis": {
         "dtick": 1,
         "gridwidth": 2,
         "showticklabels": false,
         "tick0": -0.5,
         "ticks": "",
         "zeroline": false
        },
        "yaxis": {
         "autorange": "reversed",
         "dtick": 1,
         "gridwidth": 2,
         "showticklabels": false,
         "tick0": 0.5,
         "ticks": "",
         "zeroline": false
        },
        "template": {
         "data": {
          "histogram2dcontour": [
           {
            "type": "histogram2dcontour",
            "colorbar": {
             "outlinewidth": 0,
             "ticks": ""
            },
            "colorscale": [
             [
              0.0,
              "#0d0887"
             ],
             [
              0.1111111111111111,
              "#46039f"
             ],
             [
              0.2222222222222222,
              "#7201a8"
             ],
             [
              0.3333333333333333,
              "#9c179e"
             ],
             [
              0.4444444444444444,
              "#bd3786"
             ],
             [
              0.5555555555555556,
              "#d8576b"
             ],
             [
              0.6666666666666666,
              "#ed7953"
             ],
             [
              0.7777777777777778,
              "#fb9f3a"
             ],
             [
              0.8888888888888888,
              "#fdca26"
             ],
             [
              1.0,
              "#f0f921"
             ]
            ]
           }
          ],
          "choropleth": [
           {
            "type": "choropleth",
            "colorbar": {
             "outlinewidth": 0,
             "ticks": ""
            }
           }
          ],
          "histogram2d": [
           {
            "type": "histogram2d",
            "colorbar": {
             "outlinewidth": 0,
             "ticks": ""
            },
            "colorscale": [
             [
              0.0,
              "#0d0887"
             ],
             [
              0.1111111111111111,
              "#46039f"
             ],
             [
              0.2222222222222222,
              "#7201a8"
             ],
             [
              0.3333333333333333,
              "#9c179e"
             ],
             [
              0.4444444444444444,
              "#bd3786"
             ],
             [
              0.5555555555555556,
              "#d8576b"
             ],
             [
              0.6666666666666666,
              "#ed7953"
             ],
             [
              0.7777777777777778,
              "#fb9f3a"
             ],
             [
              0.8888888888888888,
              "#fdca26"
             ],
             [
              1.0,
              "#f0f921"
             ]
            ]
           }
          ],
          "heatmap": [
           {
            "type": "heatmap",
            "colorbar": {
             "outlinewidth": 0,
             "ticks": ""
            },
            "colorscale": [
             [
              0.0,
              "#0d0887"
             ],
             [
              0.1111111111111111,
              "#46039f"
             ],
             [
              0.2222222222222222,
              "#7201a8"
             ],
             [
              0.3333333333333333,
              "#9c179e"
             ],
             [
              0.4444444444444444,
              "#bd3786"
             ],
             [
              0.5555555555555556,
              "#d8576b"
             ],
             [
              0.6666666666666666,
              "#ed7953"
             ],
             [
              0.7777777777777778,
              "#fb9f3a"
             ],
             [
              0.8888888888888888,
              "#fdca26"
             ],
             [
              1.0,
              "#f0f921"
             ]
            ]
           }
          ],
          "heatmapgl": [
           {
            "type": "heatmapgl",
            "colorbar": {
             "outlinewidth": 0,
             "ticks": ""
            },
            "colorscale": [
             [
              0.0,
              "#0d0887"
             ],
             [
              0.1111111111111111,
              "#46039f"
             ],
             [
              0.2222222222222222,
              "#7201a8"
             ],
             [
              0.3333333333333333,
              "#9c179e"
             ],
             [
              0.4444444444444444,
              "#bd3786"
             ],
             [
              0.5555555555555556,
              "#d8576b"
             ],
             [
              0.6666666666666666,
              "#ed7953"
             ],
             [
              0.7777777777777778,
              "#fb9f3a"
             ],
             [
              0.8888888888888888,
              "#fdca26"
             ],
             [
              1.0,
              "#f0f921"
             ]
            ]
           }
          ],
          "contourcarpet": [
           {
            "type": "contourcarpet",
            "colorbar": {
             "outlinewidth": 0,
             "ticks": ""
            }
           }
          ],
          "contour": [
           {
            "type": "contour",
            "colorbar": {
             "outlinewidth": 0,
             "ticks": ""
            },
            "colorscale": [
             [
              0.0,
              "#0d0887"
             ],
             [
              0.1111111111111111,
              "#46039f"
             ],
             [
              0.2222222222222222,
              "#7201a8"
             ],
             [
              0.3333333333333333,
              "#9c179e"
             ],
             [
              0.4444444444444444,
              "#bd3786"
             ],
             [
              0.5555555555555556,
              "#d8576b"
             ],
             [
              0.6666666666666666,
              "#ed7953"
             ],
             [
              0.7777777777777778,
              "#fb9f3a"
             ],
             [
              0.8888888888888888,
              "#fdca26"
             ],
             [
              1.0,
              "#f0f921"
             ]
            ]
           }
          ],
          "surface": [
           {
            "type": "surface",
            "colorbar": {
             "outlinewidth": 0,
             "ticks": ""
            },
            "colorscale": [
             [
              0.0,
              "#0d0887"
             ],
             [
              0.1111111111111111,
              "#46039f"
             ],
             [
              0.2222222222222222,
              "#7201a8"
             ],
             [
              0.3333333333333333,
              "#9c179e"
             ],
             [
              0.4444444444444444,
              "#bd3786"
             ],
             [
              0.5555555555555556,
              "#d8576b"
             ],
             [
              0.6666666666666666,
              "#ed7953"
             ],
             [
              0.7777777777777778,
              "#fb9f3a"
             ],
             [
              0.8888888888888888,
              "#fdca26"
             ],
             [
              1.0,
              "#f0f921"
             ]
            ]
           }
          ],
          "mesh3d": [
           {
            "type": "mesh3d",
            "colorbar": {
             "outlinewidth": 0,
             "ticks": ""
            }
           }
          ],
          "scatter": [
           {
            "fillpattern": {
             "fillmode": "overlay",
             "size": 10,
             "solidity": 0.2
            },
            "type": "scatter"
           }
          ],
          "parcoords": [
           {
            "type": "parcoords",
            "line": {
             "colorbar": {
              "outlinewidth": 0,
              "ticks": ""
             }
            }
           }
          ],
          "scatterpolargl": [
           {
            "type": "scatterpolargl",
            "marker": {
             "colorbar": {
              "outlinewidth": 0,
              "ticks": ""
             }
            }
           }
          ],
          "bar": [
           {
            "error_x": {
             "color": "#2a3f5f"
            },
            "error_y": {
             "color": "#2a3f5f"
            },
            "marker": {
             "line": {
              "color": "#E5ECF6",
              "width": 0.5
             },
             "pattern": {
              "fillmode": "overlay",
              "size": 10,
              "solidity": 0.2
             }
            },
            "type": "bar"
           }
          ],
          "scattergeo": [
           {
            "type": "scattergeo",
            "marker": {
             "colorbar": {
              "outlinewidth": 0,
              "ticks": ""
             }
            }
           }
          ],
          "scatterpolar": [
           {
            "type": "scatterpolar",
            "marker": {
             "colorbar": {
              "outlinewidth": 0,
              "ticks": ""
             }
            }
           }
          ],
          "histogram": [
           {
            "marker": {
             "pattern": {
              "fillmode": "overlay",
              "size": 10,
              "solidity": 0.2
             }
            },
            "type": "histogram"
           }
          ],
          "scattergl": [
           {
            "type": "scattergl",
            "marker": {
             "colorbar": {
              "outlinewidth": 0,
              "ticks": ""
             }
            }
           }
          ],
          "scatter3d": [
           {
            "type": "scatter3d",
            "line": {
             "colorbar": {
              "outlinewidth": 0,
              "ticks": ""
             }
            },
            "marker": {
             "colorbar": {
              "outlinewidth": 0,
              "ticks": ""
             }
            }
           }
          ],
          "scattermapbox": [
           {
            "type": "scattermapbox",
            "marker": {
             "colorbar": {
              "outlinewidth": 0,
              "ticks": ""
             }
            }
           }
          ],
          "scatterternary": [
           {
            "type": "scatterternary",
            "marker": {
             "colorbar": {
              "outlinewidth": 0,
              "ticks": ""
             }
            }
           }
          ],
          "scattercarpet": [
           {
            "type": "scattercarpet",
            "marker": {
             "colorbar": {
              "outlinewidth": 0,
              "ticks": ""
             }
            }
           }
          ],
          "carpet": [
           {
            "aaxis": {
             "endlinecolor": "#2a3f5f",
             "gridcolor": "white",
             "linecolor": "white",
             "minorgridcolor": "white",
             "startlinecolor": "#2a3f5f"
            },
            "baxis": {
             "endlinecolor": "#2a3f5f",
             "gridcolor": "white",
             "linecolor": "white",
             "minorgridcolor": "white",
             "startlinecolor": "#2a3f5f"
            },
            "type": "carpet"
           }
          ],
          "table": [
           {
            "cells": {
             "fill": {
              "color": "#EBF0F8"
             },
             "line": {
              "color": "white"
             }
            },
            "header": {
             "fill": {
              "color": "#C8D4E3"
             },
             "line": {
              "color": "white"
             }
            },
            "type": "table"
           }
          ],
          "barpolar": [
           {
            "marker": {
             "line": {
              "color": "#E5ECF6",
              "width": 0.5
             },
             "pattern": {
              "fillmode": "overlay",
              "size": 10,
              "solidity": 0.2
             }
            },
            "type": "barpolar"
           }
          ],
          "pie": [
           {
            "automargin": true,
            "type": "pie"
           }
          ]
         },
         "layout": {
          "autotypenumbers": "strict",
          "colorway": [
           "#636efa",
           "#EF553B",
           "#00cc96",
           "#ab63fa",
           "#FFA15A",
           "#19d3f3",
           "#FF6692",
           "#B6E880",
           "#FF97FF",
           "#FECB52"
          ],
          "font": {
           "color": "#2a3f5f"
          },
          "hovermode": "closest",
          "hoverlabel": {
           "align": "left"
          },
          "paper_bgcolor": "white",
          "plot_bgcolor": "#E5ECF6",
          "polar": {
           "bgcolor": "#E5ECF6",
           "angularaxis": {
            "gridcolor": "white",
            "linecolor": "white",
            "ticks": ""
           },
           "radialaxis": {
            "gridcolor": "white",
            "linecolor": "white",
            "ticks": ""
           }
          },
          "ternary": {
           "bgcolor": "#E5ECF6",
           "aaxis": {
            "gridcolor": "white",
            "linecolor": "white",
            "ticks": ""
           },
           "baxis": {
            "gridcolor": "white",
            "linecolor": "white",
            "ticks": ""
           },
           "caxis": {
            "gridcolor": "white",
            "linecolor": "white",
            "ticks": ""
           }
          },
          "coloraxis": {
           "colorbar": {
            "outlinewidth": 0,
            "ticks": ""
           }
          },
          "colorscale": {
           "sequential": [
            [
             0.0,
             "#0d0887"
            ],
            [
             0.1111111111111111,
             "#46039f"
            ],
            [
             0.2222222222222222,
             "#7201a8"
            ],
            [
             0.3333333333333333,
             "#9c179e"
            ],
            [
             0.4444444444444444,
             "#bd3786"
            ],
            [
             0.5555555555555556,
             "#d8576b"
            ],
            [
             0.6666666666666666,
             "#ed7953"
            ],
            [
             0.7777777777777778,
             "#fb9f3a"
            ],
            [
             0.8888888888888888,
             "#fdca26"
            ],
            [
             1.0,
             "#f0f921"
            ]
           ],
           "sequentialminus": [
            [
             0.0,
             "#0d0887"
            ],
            [
             0.1111111111111111,
             "#46039f"
            ],
            [
             0.2222222222222222,
             "#7201a8"
            ],
            [
             0.3333333333333333,
             "#9c179e"
            ],
            [
             0.4444444444444444,
             "#bd3786"
            ],
            [
             0.5555555555555556,
             "#d8576b"
            ],
            [
             0.6666666666666666,
             "#ed7953"
            ],
            [
             0.7777777777777778,
             "#fb9f3a"
            ],
            [
             0.8888888888888888,
             "#fdca26"
            ],
            [
             1.0,
             "#f0f921"
            ]
           ],
           "diverging": [
            [
             0,
             "#8e0152"
            ],
            [
             0.1,
             "#c51b7d"
            ],
            [
             0.2,
             "#de77ae"
            ],
            [
             0.3,
             "#f1b6da"
            ],
            [
             0.4,
             "#fde0ef"
            ],
            [
             0.5,
             "#f7f7f7"
            ],
            [
             0.6,
             "#e6f5d0"
            ],
            [
             0.7,
             "#b8e186"
            ],
            [
             0.8,
             "#7fbc41"
            ],
            [
             0.9,
             "#4d9221"
            ],
            [
             1,
             "#276419"
            ]
           ]
          },
          "xaxis": {
           "gridcolor": "white",
           "linecolor": "white",
           "ticks": "",
           "title": {
            "standoff": 15
           },
           "zerolinecolor": "white",
           "automargin": true,
           "zerolinewidth": 2
          },
          "yaxis": {
           "gridcolor": "white",
           "linecolor": "white",
           "ticks": "",
           "title": {
            "standoff": 15
           },
           "zerolinecolor": "white",
           "automargin": true,
           "zerolinewidth": 2
          },
          "scene": {
           "xaxis": {
            "backgroundcolor": "#E5ECF6",
            "gridcolor": "white",
            "linecolor": "white",
            "showbackground": true,
            "ticks": "",
            "zerolinecolor": "white",
            "gridwidth": 2
           },
           "yaxis": {
            "backgroundcolor": "#E5ECF6",
            "gridcolor": "white",
            "linecolor": "white",
            "showbackground": true,
            "ticks": "",
            "zerolinecolor": "white",
            "gridwidth": 2
           },
           "zaxis": {
            "backgroundcolor": "#E5ECF6",
            "gridcolor": "white",
            "linecolor": "white",
            "showbackground": true,
            "ticks": "",
            "zerolinecolor": "white",
            "gridwidth": 2
           }
          },
          "shapedefaults": {
           "line": {
            "color": "#2a3f5f"
           }
          },
          "annotationdefaults": {
           "arrowcolor": "#2a3f5f",
           "arrowhead": 0,
           "arrowwidth": 1
          },
          "geo": {
           "bgcolor": "white",
           "landcolor": "#E5ECF6",
           "subunitcolor": "white",
           "showland": true,
           "showlakes": true,
           "lakecolor": "white"
          },
          "title": {
           "x": 0.05
          },
          "mapbox": {
           "style": "light"
          }
         }
        },
        "width": 900
       },
       "config": {
        "plotlyServerURL": "https://plot.ly"
       }
      },
      "text/html": "<div>                            <div id=\"07c4f8f9-5169-458b-bdfb-26c57e82f996\" class=\"plotly-graph-div\" style=\"height:200px; width:900px;\"></div>            <script type=\"text/javascript\">                require([\"plotly\"], function(Plotly) {                    window.PLOTLYENV=window.PLOTLYENV || {};                                    if (document.getElementById(\"07c4f8f9-5169-458b-bdfb-26c57e82f996\")) {                    Plotly.newPlot(                        \"07c4f8f9-5169-458b-bdfb-26c57e82f996\",                        [{\"colorscale\":[[0,\"#00083e\"],[0.5,\"#ededee\"],[1,\"#ffffff\"]],\"hoverinfo\":\"none\",\"opacity\":0.75,\"showscale\":false,\"z\":[[0,0,0,0,0,0,0],[0,0.5,0.5,0.5,0.5,0.5,0.5],[0,1,1,1,1,1,1],[0,0.5,0.5,0.5,0.5,0.5,0.5],[0,1,1,1,1,1,1]],\"type\":\"heatmap\"}],                        {\"annotations\":[{\"align\":\"left\",\"font\":{\"color\":\"#ffffff\",\"family\":\"Calibri\",\"size\":14},\"showarrow\":false,\"text\":\"<b></b>\",\"x\":-0.45,\"xanchor\":\"left\",\"xref\":\"x\",\"y\":0,\"yref\":\"y\"},{\"align\":\"left\",\"font\":{\"color\":\"#ffffff\",\"family\":\"Calibri\",\"size\":14},\"showarrow\":false,\"text\":\"<b>RouteId</b>\",\"x\":0.55,\"xanchor\":\"left\",\"xref\":\"x\",\"y\":0,\"yref\":\"y\"},{\"align\":\"left\",\"font\":{\"color\":\"#ffffff\",\"family\":\"Calibri\",\"size\":14},\"showarrow\":false,\"text\":\"<b>RateDate</b>\",\"x\":1.55,\"xanchor\":\"left\",\"xref\":\"x\",\"y\":0,\"yref\":\"y\"},{\"align\":\"left\",\"font\":{\"color\":\"#ffffff\",\"family\":\"Calibri\",\"size\":14},\"showarrow\":false,\"text\":\"<b>RateValue</b>\",\"x\":2.55,\"xanchor\":\"left\",\"xref\":\"x\",\"y\":0,\"yref\":\"y\"},{\"align\":\"left\",\"font\":{\"color\":\"#ffffff\",\"family\":\"Calibri\",\"size\":14},\"showarrow\":false,\"text\":\"<b>Unit</b>\",\"x\":3.55,\"xanchor\":\"left\",\"xref\":\"x\",\"y\":0,\"yref\":\"y\"},{\"align\":\"left\",\"font\":{\"color\":\"#ffffff\",\"family\":\"Calibri\",\"size\":14},\"showarrow\":false,\"text\":\"<b>VesselClassId</b>\",\"x\":4.55,\"xanchor\":\"left\",\"xref\":\"x\",\"y\":0,\"yref\":\"y\"},{\"align\":\"left\",\"font\":{\"color\":\"#ffffff\",\"family\":\"Calibri\",\"size\":14},\"showarrow\":false,\"text\":\"<b>DeprecatedTo</b>\",\"x\":5.55,\"xanchor\":\"left\",\"xref\":\"x\",\"y\":0,\"yref\":\"y\"},{\"align\":\"left\",\"font\":{\"color\":\"#ffffff\",\"family\":\"Calibri\",\"size\":14},\"showarrow\":false,\"text\":\"<b>0</b>\",\"x\":-0.45,\"xanchor\":\"left\",\"xref\":\"x\",\"y\":1,\"yref\":\"y\"},{\"align\":\"left\",\"font\":{\"color\":\"#000000\",\"family\":\"Calibri\",\"size\":14},\"showarrow\":false,\"text\":\"R7\",\"x\":0.55,\"xanchor\":\"left\",\"xref\":\"x\",\"y\":1,\"yref\":\"y\"},{\"align\":\"left\",\"font\":{\"color\":\"#000000\",\"family\":\"Calibri\",\"size\":14},\"showarrow\":false,\"text\":\"2020-01-02\",\"x\":1.55,\"xanchor\":\"left\",\"xref\":\"x\",\"y\":1,\"yref\":\"y\"},{\"align\":\"left\",\"font\":{\"color\":\"#000000\",\"family\":\"Calibri\",\"size\":14},\"showarrow\":false,\"text\":\"66.0\",\"x\":2.55,\"xanchor\":\"left\",\"xref\":\"x\",\"y\":1,\"yref\":\"y\"},{\"align\":\"left\",\"font\":{\"color\":\"#000000\",\"family\":\"Calibri\",\"size\":14},\"showarrow\":false,\"text\":\"WS\",\"x\":3.55,\"xanchor\":\"left\",\"xref\":\"x\",\"y\":1,\"yref\":\"y\"},{\"align\":\"left\",\"font\":{\"color\":\"#000000\",\"family\":\"Calibri\",\"size\":14},\"showarrow\":false,\"text\":\"84\",\"x\":4.55,\"xanchor\":\"left\",\"xref\":\"x\",\"y\":1,\"yref\":\"y\"},{\"align\":\"left\",\"font\":{\"color\":\"#000000\",\"family\":\"Calibri\",\"size\":14},\"showarrow\":false,\"text\":\"None\",\"x\":5.55,\"xanchor\":\"left\",\"xref\":\"x\",\"y\":1,\"yref\":\"y\"},{\"align\":\"left\",\"font\":{\"color\":\"#ffffff\",\"family\":\"Calibri\",\"size\":14},\"showarrow\":false,\"text\":\"<b>1</b>\",\"x\":-0.45,\"xanchor\":\"left\",\"xref\":\"x\",\"y\":2,\"yref\":\"y\"},{\"align\":\"left\",\"font\":{\"color\":\"#000000\",\"family\":\"Calibri\",\"size\":14},\"showarrow\":false,\"text\":\"R5\",\"x\":0.55,\"xanchor\":\"left\",\"xref\":\"x\",\"y\":2,\"yref\":\"y\"},{\"align\":\"left\",\"font\":{\"color\":\"#000000\",\"family\":\"Calibri\",\"size\":14},\"showarrow\":false,\"text\":\"2020-01-02\",\"x\":1.55,\"xanchor\":\"left\",\"xref\":\"x\",\"y\":2,\"yref\":\"y\"},{\"align\":\"left\",\"font\":{\"color\":\"#000000\",\"family\":\"Calibri\",\"size\":14},\"showarrow\":false,\"text\":\"144.5\",\"x\":2.55,\"xanchor\":\"left\",\"xref\":\"x\",\"y\":2,\"yref\":\"y\"},{\"align\":\"left\",\"font\":{\"color\":\"#000000\",\"family\":\"Calibri\",\"size\":14},\"showarrow\":false,\"text\":\"WS\",\"x\":3.55,\"xanchor\":\"left\",\"xref\":\"x\",\"y\":2,\"yref\":\"y\"},{\"align\":\"left\",\"font\":{\"color\":\"#000000\",\"family\":\"Calibri\",\"size\":14},\"showarrow\":false,\"text\":\"84\",\"x\":4.55,\"xanchor\":\"left\",\"xref\":\"x\",\"y\":2,\"yref\":\"y\"},{\"align\":\"left\",\"font\":{\"color\":\"#000000\",\"family\":\"Calibri\",\"size\":14},\"showarrow\":false,\"text\":\"None\",\"x\":5.55,\"xanchor\":\"left\",\"xref\":\"x\",\"y\":2,\"yref\":\"y\"},{\"align\":\"left\",\"font\":{\"color\":\"#ffffff\",\"family\":\"Calibri\",\"size\":14},\"showarrow\":false,\"text\":\"<b>2</b>\",\"x\":-0.45,\"xanchor\":\"left\",\"xref\":\"x\",\"y\":3,\"yref\":\"y\"},{\"align\":\"left\",\"font\":{\"color\":\"#000000\",\"family\":\"Calibri\",\"size\":14},\"showarrow\":false,\"text\":\"R6\",\"x\":0.55,\"xanchor\":\"left\",\"xref\":\"x\",\"y\":3,\"yref\":\"y\"},{\"align\":\"left\",\"font\":{\"color\":\"#000000\",\"family\":\"Calibri\",\"size\":14},\"showarrow\":false,\"text\":\"2020-01-02\",\"x\":1.55,\"xanchor\":\"left\",\"xref\":\"x\",\"y\":3,\"yref\":\"y\"},{\"align\":\"left\",\"font\":{\"color\":\"#000000\",\"family\":\"Calibri\",\"size\":14},\"showarrow\":false,\"text\":\"145.0\",\"x\":2.55,\"xanchor\":\"left\",\"xref\":\"x\",\"y\":3,\"yref\":\"y\"},{\"align\":\"left\",\"font\":{\"color\":\"#000000\",\"family\":\"Calibri\",\"size\":14},\"showarrow\":false,\"text\":\"WS\",\"x\":3.55,\"xanchor\":\"left\",\"xref\":\"x\",\"y\":3,\"yref\":\"y\"},{\"align\":\"left\",\"font\":{\"color\":\"#000000\",\"family\":\"Calibri\",\"size\":14},\"showarrow\":false,\"text\":\"84\",\"x\":4.55,\"xanchor\":\"left\",\"xref\":\"x\",\"y\":3,\"yref\":\"y\"},{\"align\":\"left\",\"font\":{\"color\":\"#000000\",\"family\":\"Calibri\",\"size\":14},\"showarrow\":false,\"text\":\"None\",\"x\":5.55,\"xanchor\":\"left\",\"xref\":\"x\",\"y\":3,\"yref\":\"y\"},{\"align\":\"left\",\"font\":{\"color\":\"#ffffff\",\"family\":\"Calibri\",\"size\":14},\"showarrow\":false,\"text\":\"<b>3</b>\",\"x\":-0.45,\"xanchor\":\"left\",\"xref\":\"x\",\"y\":4,\"yref\":\"y\"},{\"align\":\"left\",\"font\":{\"color\":\"#000000\",\"family\":\"Calibri\",\"size\":14},\"showarrow\":false,\"text\":\"R8\",\"x\":0.55,\"xanchor\":\"left\",\"xref\":\"x\",\"y\":4,\"yref\":\"y\"},{\"align\":\"left\",\"font\":{\"color\":\"#000000\",\"family\":\"Calibri\",\"size\":14},\"showarrow\":false,\"text\":\"2020-01-02\",\"x\":1.55,\"xanchor\":\"left\",\"xref\":\"x\",\"y\":4,\"yref\":\"y\"},{\"align\":\"left\",\"font\":{\"color\":\"#000000\",\"family\":\"Calibri\",\"size\":14},\"showarrow\":false,\"text\":\"127.5\",\"x\":2.55,\"xanchor\":\"left\",\"xref\":\"x\",\"y\":4,\"yref\":\"y\"},{\"align\":\"left\",\"font\":{\"color\":\"#000000\",\"family\":\"Calibri\",\"size\":14},\"showarrow\":false,\"text\":\"WS\",\"x\":3.55,\"xanchor\":\"left\",\"xref\":\"x\",\"y\":4,\"yref\":\"y\"},{\"align\":\"left\",\"font\":{\"color\":\"#000000\",\"family\":\"Calibri\",\"size\":14},\"showarrow\":false,\"text\":\"84\",\"x\":4.55,\"xanchor\":\"left\",\"xref\":\"x\",\"y\":4,\"yref\":\"y\"},{\"align\":\"left\",\"font\":{\"color\":\"#000000\",\"family\":\"Calibri\",\"size\":14},\"showarrow\":false,\"text\":\"None\",\"x\":5.55,\"xanchor\":\"left\",\"xref\":\"x\",\"y\":4,\"yref\":\"y\"}],\"height\":200,\"margin\":{\"b\":0,\"l\":0,\"r\":0,\"t\":0},\"xaxis\":{\"dtick\":1,\"gridwidth\":2,\"showticklabels\":false,\"tick0\":-0.5,\"ticks\":\"\",\"zeroline\":false},\"yaxis\":{\"autorange\":\"reversed\",\"dtick\":1,\"gridwidth\":2,\"showticklabels\":false,\"tick0\":0.5,\"ticks\":\"\",\"zeroline\":false},\"template\":{\"data\":{\"histogram2dcontour\":[{\"type\":\"histogram2dcontour\",\"colorbar\":{\"outlinewidth\":0,\"ticks\":\"\"},\"colorscale\":[[0.0,\"#0d0887\"],[0.1111111111111111,\"#46039f\"],[0.2222222222222222,\"#7201a8\"],[0.3333333333333333,\"#9c179e\"],[0.4444444444444444,\"#bd3786\"],[0.5555555555555556,\"#d8576b\"],[0.6666666666666666,\"#ed7953\"],[0.7777777777777778,\"#fb9f3a\"],[0.8888888888888888,\"#fdca26\"],[1.0,\"#f0f921\"]]}],\"choropleth\":[{\"type\":\"choropleth\",\"colorbar\":{\"outlinewidth\":0,\"ticks\":\"\"}}],\"histogram2d\":[{\"type\":\"histogram2d\",\"colorbar\":{\"outlinewidth\":0,\"ticks\":\"\"},\"colorscale\":[[0.0,\"#0d0887\"],[0.1111111111111111,\"#46039f\"],[0.2222222222222222,\"#7201a8\"],[0.3333333333333333,\"#9c179e\"],[0.4444444444444444,\"#bd3786\"],[0.5555555555555556,\"#d8576b\"],[0.6666666666666666,\"#ed7953\"],[0.7777777777777778,\"#fb9f3a\"],[0.8888888888888888,\"#fdca26\"],[1.0,\"#f0f921\"]]}],\"heatmap\":[{\"type\":\"heatmap\",\"colorbar\":{\"outlinewidth\":0,\"ticks\":\"\"},\"colorscale\":[[0.0,\"#0d0887\"],[0.1111111111111111,\"#46039f\"],[0.2222222222222222,\"#7201a8\"],[0.3333333333333333,\"#9c179e\"],[0.4444444444444444,\"#bd3786\"],[0.5555555555555556,\"#d8576b\"],[0.6666666666666666,\"#ed7953\"],[0.7777777777777778,\"#fb9f3a\"],[0.8888888888888888,\"#fdca26\"],[1.0,\"#f0f921\"]]}],\"heatmapgl\":[{\"type\":\"heatmapgl\",\"colorbar\":{\"outlinewidth\":0,\"ticks\":\"\"},\"colorscale\":[[0.0,\"#0d0887\"],[0.1111111111111111,\"#46039f\"],[0.2222222222222222,\"#7201a8\"],[0.3333333333333333,\"#9c179e\"],[0.4444444444444444,\"#bd3786\"],[0.5555555555555556,\"#d8576b\"],[0.6666666666666666,\"#ed7953\"],[0.7777777777777778,\"#fb9f3a\"],[0.8888888888888888,\"#fdca26\"],[1.0,\"#f0f921\"]]}],\"contourcarpet\":[{\"type\":\"contourcarpet\",\"colorbar\":{\"outlinewidth\":0,\"ticks\":\"\"}}],\"contour\":[{\"type\":\"contour\",\"colorbar\":{\"outlinewidth\":0,\"ticks\":\"\"},\"colorscale\":[[0.0,\"#0d0887\"],[0.1111111111111111,\"#46039f\"],[0.2222222222222222,\"#7201a8\"],[0.3333333333333333,\"#9c179e\"],[0.4444444444444444,\"#bd3786\"],[0.5555555555555556,\"#d8576b\"],[0.6666666666666666,\"#ed7953\"],[0.7777777777777778,\"#fb9f3a\"],[0.8888888888888888,\"#fdca26\"],[1.0,\"#f0f921\"]]}],\"surface\":[{\"type\":\"surface\",\"colorbar\":{\"outlinewidth\":0,\"ticks\":\"\"},\"colorscale\":[[0.0,\"#0d0887\"],[0.1111111111111111,\"#46039f\"],[0.2222222222222222,\"#7201a8\"],[0.3333333333333333,\"#9c179e\"],[0.4444444444444444,\"#bd3786\"],[0.5555555555555556,\"#d8576b\"],[0.6666666666666666,\"#ed7953\"],[0.7777777777777778,\"#fb9f3a\"],[0.8888888888888888,\"#fdca26\"],[1.0,\"#f0f921\"]]}],\"mesh3d\":[{\"type\":\"mesh3d\",\"colorbar\":{\"outlinewidth\":0,\"ticks\":\"\"}}],\"scatter\":[{\"fillpattern\":{\"fillmode\":\"overlay\",\"size\":10,\"solidity\":0.2},\"type\":\"scatter\"}],\"parcoords\":[{\"type\":\"parcoords\",\"line\":{\"colorbar\":{\"outlinewidth\":0,\"ticks\":\"\"}}}],\"scatterpolargl\":[{\"type\":\"scatterpolargl\",\"marker\":{\"colorbar\":{\"outlinewidth\":0,\"ticks\":\"\"}}}],\"bar\":[{\"error_x\":{\"color\":\"#2a3f5f\"},\"error_y\":{\"color\":\"#2a3f5f\"},\"marker\":{\"line\":{\"color\":\"#E5ECF6\",\"width\":0.5},\"pattern\":{\"fillmode\":\"overlay\",\"size\":10,\"solidity\":0.2}},\"type\":\"bar\"}],\"scattergeo\":[{\"type\":\"scattergeo\",\"marker\":{\"colorbar\":{\"outlinewidth\":0,\"ticks\":\"\"}}}],\"scatterpolar\":[{\"type\":\"scatterpolar\",\"marker\":{\"colorbar\":{\"outlinewidth\":0,\"ticks\":\"\"}}}],\"histogram\":[{\"marker\":{\"pattern\":{\"fillmode\":\"overlay\",\"size\":10,\"solidity\":0.2}},\"type\":\"histogram\"}],\"scattergl\":[{\"type\":\"scattergl\",\"marker\":{\"colorbar\":{\"outlinewidth\":0,\"ticks\":\"\"}}}],\"scatter3d\":[{\"type\":\"scatter3d\",\"line\":{\"colorbar\":{\"outlinewidth\":0,\"ticks\":\"\"}},\"marker\":{\"colorbar\":{\"outlinewidth\":0,\"ticks\":\"\"}}}],\"scattermapbox\":[{\"type\":\"scattermapbox\",\"marker\":{\"colorbar\":{\"outlinewidth\":0,\"ticks\":\"\"}}}],\"scatterternary\":[{\"type\":\"scatterternary\",\"marker\":{\"colorbar\":{\"outlinewidth\":0,\"ticks\":\"\"}}}],\"scattercarpet\":[{\"type\":\"scattercarpet\",\"marker\":{\"colorbar\":{\"outlinewidth\":0,\"ticks\":\"\"}}}],\"carpet\":[{\"aaxis\":{\"endlinecolor\":\"#2a3f5f\",\"gridcolor\":\"white\",\"linecolor\":\"white\",\"minorgridcolor\":\"white\",\"startlinecolor\":\"#2a3f5f\"},\"baxis\":{\"endlinecolor\":\"#2a3f5f\",\"gridcolor\":\"white\",\"linecolor\":\"white\",\"minorgridcolor\":\"white\",\"startlinecolor\":\"#2a3f5f\"},\"type\":\"carpet\"}],\"table\":[{\"cells\":{\"fill\":{\"color\":\"#EBF0F8\"},\"line\":{\"color\":\"white\"}},\"header\":{\"fill\":{\"color\":\"#C8D4E3\"},\"line\":{\"color\":\"white\"}},\"type\":\"table\"}],\"barpolar\":[{\"marker\":{\"line\":{\"color\":\"#E5ECF6\",\"width\":0.5},\"pattern\":{\"fillmode\":\"overlay\",\"size\":10,\"solidity\":0.2}},\"type\":\"barpolar\"}],\"pie\":[{\"automargin\":true,\"type\":\"pie\"}]},\"layout\":{\"autotypenumbers\":\"strict\",\"colorway\":[\"#636efa\",\"#EF553B\",\"#00cc96\",\"#ab63fa\",\"#FFA15A\",\"#19d3f3\",\"#FF6692\",\"#B6E880\",\"#FF97FF\",\"#FECB52\"],\"font\":{\"color\":\"#2a3f5f\"},\"hovermode\":\"closest\",\"hoverlabel\":{\"align\":\"left\"},\"paper_bgcolor\":\"white\",\"plot_bgcolor\":\"#E5ECF6\",\"polar\":{\"bgcolor\":\"#E5ECF6\",\"angularaxis\":{\"gridcolor\":\"white\",\"linecolor\":\"white\",\"ticks\":\"\"},\"radialaxis\":{\"gridcolor\":\"white\",\"linecolor\":\"white\",\"ticks\":\"\"}},\"ternary\":{\"bgcolor\":\"#E5ECF6\",\"aaxis\":{\"gridcolor\":\"white\",\"linecolor\":\"white\",\"ticks\":\"\"},\"baxis\":{\"gridcolor\":\"white\",\"linecolor\":\"white\",\"ticks\":\"\"},\"caxis\":{\"gridcolor\":\"white\",\"linecolor\":\"white\",\"ticks\":\"\"}},\"coloraxis\":{\"colorbar\":{\"outlinewidth\":0,\"ticks\":\"\"}},\"colorscale\":{\"sequential\":[[0.0,\"#0d0887\"],[0.1111111111111111,\"#46039f\"],[0.2222222222222222,\"#7201a8\"],[0.3333333333333333,\"#9c179e\"],[0.4444444444444444,\"#bd3786\"],[0.5555555555555556,\"#d8576b\"],[0.6666666666666666,\"#ed7953\"],[0.7777777777777778,\"#fb9f3a\"],[0.8888888888888888,\"#fdca26\"],[1.0,\"#f0f921\"]],\"sequentialminus\":[[0.0,\"#0d0887\"],[0.1111111111111111,\"#46039f\"],[0.2222222222222222,\"#7201a8\"],[0.3333333333333333,\"#9c179e\"],[0.4444444444444444,\"#bd3786\"],[0.5555555555555556,\"#d8576b\"],[0.6666666666666666,\"#ed7953\"],[0.7777777777777778,\"#fb9f3a\"],[0.8888888888888888,\"#fdca26\"],[1.0,\"#f0f921\"]],\"diverging\":[[0,\"#8e0152\"],[0.1,\"#c51b7d\"],[0.2,\"#de77ae\"],[0.3,\"#f1b6da\"],[0.4,\"#fde0ef\"],[0.5,\"#f7f7f7\"],[0.6,\"#e6f5d0\"],[0.7,\"#b8e186\"],[0.8,\"#7fbc41\"],[0.9,\"#4d9221\"],[1,\"#276419\"]]},\"xaxis\":{\"gridcolor\":\"white\",\"linecolor\":\"white\",\"ticks\":\"\",\"title\":{\"standoff\":15},\"zerolinecolor\":\"white\",\"automargin\":true,\"zerolinewidth\":2},\"yaxis\":{\"gridcolor\":\"white\",\"linecolor\":\"white\",\"ticks\":\"\",\"title\":{\"standoff\":15},\"zerolinecolor\":\"white\",\"automargin\":true,\"zerolinewidth\":2},\"scene\":{\"xaxis\":{\"backgroundcolor\":\"#E5ECF6\",\"gridcolor\":\"white\",\"linecolor\":\"white\",\"showbackground\":true,\"ticks\":\"\",\"zerolinecolor\":\"white\",\"gridwidth\":2},\"yaxis\":{\"backgroundcolor\":\"#E5ECF6\",\"gridcolor\":\"white\",\"linecolor\":\"white\",\"showbackground\":true,\"ticks\":\"\",\"zerolinecolor\":\"white\",\"gridwidth\":2},\"zaxis\":{\"backgroundcolor\":\"#E5ECF6\",\"gridcolor\":\"white\",\"linecolor\":\"white\",\"showbackground\":true,\"ticks\":\"\",\"zerolinecolor\":\"white\",\"gridwidth\":2}},\"shapedefaults\":{\"line\":{\"color\":\"#2a3f5f\"}},\"annotationdefaults\":{\"arrowcolor\":\"#2a3f5f\",\"arrowhead\":0,\"arrowwidth\":1},\"geo\":{\"bgcolor\":\"white\",\"landcolor\":\"#E5ECF6\",\"subunitcolor\":\"white\",\"showland\":true,\"showlakes\":true,\"lakecolor\":\"white\"},\"title\":{\"x\":0.05},\"mapbox\":{\"style\":\"light\"}}},\"width\":900},                        {\"responsive\": true}                    ).then(function(){\n                            \nvar gd = document.getElementById('07c4f8f9-5169-458b-bdfb-26c57e82f996');\nvar x = new MutationObserver(function (mutations, observer) {{\n        var display = window.getComputedStyle(gd).display;\n        if (!display || display === 'none') {{\n            console.log([gd, 'removed!']);\n            Plotly.purge(gd);\n            observer.disconnect();\n        }}\n}});\n\n// Listen for the removal of the full notebook cells\nvar notebookContainer = gd.closest('#notebook-container');\nif (notebookContainer) {{\n    x.observe(notebookContainer, {childList: true});\n}}\n\n// Listen for the clearing of the current output cell\nvar outputEl = gd.closest('.output');\nif (outputEl) {{\n    x.observe(outputEl, {childList: true});\n}}\n\n                        })                };                });            </script>        </div>"
     },
     "metadata": {},
     "output_type": "display_data"
    }
   ],
   "source": [
    "from signal_ocean.market_rates import CargoId\n",
    "market_rates_for_vlcc = mr_api.get_market_rates(date(2020, 1, 2),\n",
    "                                                vessel_class_id=84,\n",
    "                                                cargo_id=CargoId.DIRTY)\n",
    "styled_table(create_dataframe(market_rates_for_vlcc))"
   ]
  },
  {
   "cell_type": "markdown",
   "metadata": {
    "collapsed": false,
    "pycharm": {
     "name": "#%% md\n"
    }
   },
   "source": [
    "We can also see how market rates evolve on the routes of a certain vessel class for a given time period.\n",
    "Below we plot the VLCC market rates in WS from October through December 2020."
   ]
  },
  {
   "cell_type": "code",
   "execution_count": 89,
   "metadata": {
    "collapsed": false,
    "pycharm": {
     "name": "#%%\n"
    }
   },
   "outputs": [
    {
     "data": {
      "application/vnd.plotly.v1+json": {
       "data": [
        {
         "customdata": [
          [
           "R7",
           "WS",
           84,
           null
          ],
          [
           "R7",
           "WS",
           84,
           null
          ],
          [
           "R7",
           "WS",
           84,
           null
          ],
          [
           "R7",
           "WS",
           84,
           null
          ],
          [
           "R7",
           "WS",
           84,
           null
          ],
          [
           "R7",
           "WS",
           84,
           null
          ],
          [
           "R7",
           "WS",
           84,
           null
          ],
          [
           "R7",
           "WS",
           84,
           null
          ],
          [
           "R7",
           "WS",
           84,
           null
          ],
          [
           "R7",
           "WS",
           84,
           null
          ],
          [
           "R7",
           "WS",
           84,
           null
          ],
          [
           "R7",
           "WS",
           84,
           null
          ],
          [
           "R7",
           "WS",
           84,
           null
          ],
          [
           "R7",
           "WS",
           84,
           null
          ],
          [
           "R7",
           "WS",
           84,
           null
          ],
          [
           "R7",
           "WS",
           84,
           null
          ],
          [
           "R7",
           "WS",
           84,
           null
          ],
          [
           "R7",
           "WS",
           84,
           null
          ],
          [
           "R7",
           "WS",
           84,
           null
          ],
          [
           "R7",
           "WS",
           84,
           null
          ],
          [
           "R7",
           "WS",
           84,
           null
          ],
          [
           "R7",
           "WS",
           84,
           null
          ],
          [
           "R7",
           "WS",
           84,
           null
          ],
          [
           "R7",
           "WS",
           84,
           null
          ],
          [
           "R7",
           "WS",
           84,
           null
          ],
          [
           "R7",
           "WS",
           84,
           null
          ],
          [
           "R7",
           "WS",
           84,
           null
          ],
          [
           "R7",
           "WS",
           84,
           null
          ],
          [
           "R7",
           "WS",
           84,
           null
          ],
          [
           "R7",
           "WS",
           84,
           null
          ],
          [
           "R7",
           "WS",
           84,
           null
          ],
          [
           "R7",
           "WS",
           84,
           null
          ],
          [
           "R7",
           "WS",
           84,
           null
          ],
          [
           "R7",
           "WS",
           84,
           null
          ],
          [
           "R7",
           "WS",
           84,
           null
          ],
          [
           "R7",
           "WS",
           84,
           null
          ],
          [
           "R7",
           "WS",
           84,
           null
          ],
          [
           "R7",
           "WS",
           84,
           null
          ],
          [
           "R7",
           "WS",
           84,
           null
          ],
          [
           "R7",
           "WS",
           84,
           null
          ],
          [
           "R7",
           "WS",
           84,
           null
          ],
          [
           "R7",
           "WS",
           84,
           null
          ],
          [
           "R7",
           "WS",
           84,
           null
          ],
          [
           "R7",
           "WS",
           84,
           null
          ],
          [
           "R7",
           "WS",
           84,
           null
          ],
          [
           "R7",
           "WS",
           84,
           null
          ],
          [
           "R7",
           "WS",
           84,
           null
          ],
          [
           "R7",
           "WS",
           84,
           null
          ],
          [
           "R7",
           "WS",
           84,
           null
          ],
          [
           "R7",
           "WS",
           84,
           null
          ],
          [
           "R7",
           "WS",
           84,
           null
          ],
          [
           "R7",
           "WS",
           84,
           null
          ],
          [
           "R7",
           "WS",
           84,
           null
          ],
          [
           "R7",
           "WS",
           84,
           null
          ],
          [
           "R7",
           "WS",
           84,
           null
          ],
          [
           "R7",
           "WS",
           84,
           null
          ],
          [
           "R7",
           "WS",
           84,
           null
          ],
          [
           "R7",
           "WS",
           84,
           null
          ],
          [
           "R7",
           "WS",
           84,
           null
          ],
          [
           "R7",
           "WS",
           84,
           null
          ],
          [
           "R7",
           "WS",
           84,
           null
          ],
          [
           "R7",
           "WS",
           84,
           null
          ],
          [
           "R7",
           "WS",
           84,
           null
          ],
          [
           "R7",
           "WS",
           84,
           null
          ],
          [
           "R7",
           "WS",
           84,
           null
          ],
          [
           "R7",
           "WS",
           84,
           null
          ],
          [
           "R7",
           "WS",
           84,
           null
          ],
          [
           "R7",
           "WS",
           84,
           null
          ],
          [
           "R7",
           "WS",
           84,
           null
          ],
          [
           "R7",
           "WS",
           84,
           null
          ],
          [
           "R7",
           "WS",
           84,
           null
          ],
          [
           "R7",
           "WS",
           84,
           null
          ],
          [
           "R7",
           "WS",
           84,
           null
          ],
          [
           "R7",
           "WS",
           84,
           null
          ],
          [
           "R7",
           "WS",
           84,
           null
          ],
          [
           "R7",
           "WS",
           84,
           null
          ],
          [
           "R7",
           "WS",
           84,
           null
          ],
          [
           "R7",
           "WS",
           84,
           null
          ],
          [
           "R7",
           "WS",
           84,
           null
          ],
          [
           "R7",
           "WS",
           84,
           null
          ],
          [
           "R7",
           "WS",
           84,
           null
          ],
          [
           "R7",
           "WS",
           84,
           null
          ],
          [
           "R7",
           "WS",
           84,
           null
          ],
          [
           "R7",
           "WS",
           84,
           null
          ],
          [
           "R7",
           "WS",
           84,
           null
          ],
          [
           "R7",
           "WS",
           84,
           null
          ],
          [
           "R7",
           "WS",
           84,
           null
          ],
          [
           "R7",
           "WS",
           84,
           null
          ],
          [
           "R7",
           "WS",
           84,
           null
          ],
          [
           "R7",
           "WS",
           84,
           null
          ],
          [
           "R7",
           "WS",
           84,
           null
          ],
          [
           "R7",
           "WS",
           84,
           null
          ]
         ],
         "hovertemplate": "RouteId=%{customdata[0]}<br>RateDate=%{x}<br>RateValue=%{y}<br>Unit=%{customdata[1]}<br>VesselClassId=%{customdata[2]}<br>DeprecatedTo=%{customdata[3]}<extra></extra>",
         "legendgroup": "R7",
         "line": {
          "color": "#636efa",
          "dash": "solid"
         },
         "marker": {
          "symbol": "circle"
         },
         "mode": "lines",
         "name": "R7",
         "orientation": "v",
         "showlegend": true,
         "x": [
          "2020-10-01",
          "2020-10-02",
          "2020-10-03",
          "2020-10-04",
          "2020-10-05",
          "2020-10-06",
          "2020-10-07",
          "2020-10-08",
          "2020-10-09",
          "2020-10-10",
          "2020-10-11",
          "2020-10-12",
          "2020-10-13",
          "2020-10-14",
          "2020-10-15",
          "2020-10-16",
          "2020-10-17",
          "2020-10-18",
          "2020-10-19",
          "2020-10-20",
          "2020-10-21",
          "2020-10-22",
          "2020-10-23",
          "2020-10-24",
          "2020-10-25",
          "2020-10-26",
          "2020-10-27",
          "2020-10-28",
          "2020-10-29",
          "2020-10-30",
          "2020-10-31",
          "2020-11-01",
          "2020-11-02",
          "2020-11-03",
          "2020-11-04",
          "2020-11-05",
          "2020-11-06",
          "2020-11-07",
          "2020-11-08",
          "2020-11-09",
          "2020-11-10",
          "2020-11-11",
          "2020-11-12",
          "2020-11-13",
          "2020-11-14",
          "2020-11-15",
          "2020-11-16",
          "2020-11-17",
          "2020-11-18",
          "2020-11-19",
          "2020-11-20",
          "2020-11-21",
          "2020-11-22",
          "2020-11-23",
          "2020-11-24",
          "2020-11-25",
          "2020-11-26",
          "2020-11-27",
          "2020-11-28",
          "2020-11-29",
          "2020-11-30",
          "2020-12-01",
          "2020-12-02",
          "2020-12-03",
          "2020-12-04",
          "2020-12-05",
          "2020-12-06",
          "2020-12-07",
          "2020-12-08",
          "2020-12-09",
          "2020-12-10",
          "2020-12-11",
          "2020-12-12",
          "2020-12-13",
          "2020-12-14",
          "2020-12-15",
          "2020-12-16",
          "2020-12-17",
          "2020-12-18",
          "2020-12-19",
          "2020-12-20",
          "2020-12-21",
          "2020-12-22",
          "2020-12-23",
          "2020-12-24",
          "2020-12-25",
          "2020-12-26",
          "2020-12-27",
          "2020-12-28",
          "2020-12-29",
          "2020-12-30",
          "2020-12-31"
         ],
         "xaxis": "x",
         "y": [
          17.5,
          17.5,
          17.5,
          17.5,
          17.5,
          17.5,
          17.5,
          17.0,
          17.0,
          17.0,
          17.0,
          17.0,
          17.0,
          18.0,
          18.0,
          18.0,
          18.0,
          18.0,
          18.0,
          18.0,
          18.0,
          17.5,
          17.5,
          17.5,
          17.5,
          15.5,
          15.5,
          15.5,
          15.5,
          15.5,
          15.5,
          15.5,
          15.0,
          15.0,
          15.0,
          15.0,
          15.0,
          15.0,
          15.0,
          15.0,
          15.0,
          15.0,
          15.0,
          15.0,
          15.0,
          15.0,
          15.0,
          15.0,
          15.0,
          15.0,
          15.0,
          15.0,
          15.0,
          15.0,
          15.0,
          15.0,
          15.5,
          15.5,
          15.5,
          15.5,
          15.5,
          16.5,
          16.5,
          16.5,
          16.5,
          16.5,
          16.5,
          16.5,
          17.0,
          17.5,
          17.5,
          17.5,
          17.5,
          17.5,
          17.5,
          17.5,
          17.5,
          17.5,
          17.5,
          17.5,
          17.5,
          18.5,
          18.5,
          18.5,
          18.5,
          18.5,
          18.5,
          18.5,
          18.5,
          18.5,
          18.5,
          18.5
         ],
         "yaxis": "y",
         "type": "scatter"
        },
        {
         "customdata": [
          [
           "R6",
           "WS",
           84,
           null
          ],
          [
           "R6",
           "WS",
           84,
           null
          ],
          [
           "R6",
           "WS",
           84,
           null
          ],
          [
           "R6",
           "WS",
           84,
           null
          ],
          [
           "R6",
           "WS",
           84,
           null
          ],
          [
           "R6",
           "WS",
           84,
           null
          ],
          [
           "R6",
           "WS",
           84,
           null
          ],
          [
           "R6",
           "WS",
           84,
           null
          ],
          [
           "R6",
           "WS",
           84,
           null
          ],
          [
           "R6",
           "WS",
           84,
           null
          ],
          [
           "R6",
           "WS",
           84,
           null
          ],
          [
           "R6",
           "WS",
           84,
           null
          ],
          [
           "R6",
           "WS",
           84,
           null
          ],
          [
           "R6",
           "WS",
           84,
           null
          ],
          [
           "R6",
           "WS",
           84,
           null
          ],
          [
           "R6",
           "WS",
           84,
           null
          ],
          [
           "R6",
           "WS",
           84,
           null
          ],
          [
           "R6",
           "WS",
           84,
           null
          ],
          [
           "R6",
           "WS",
           84,
           null
          ],
          [
           "R6",
           "WS",
           84,
           null
          ],
          [
           "R6",
           "WS",
           84,
           null
          ],
          [
           "R6",
           "WS",
           84,
           null
          ],
          [
           "R6",
           "WS",
           84,
           null
          ],
          [
           "R6",
           "WS",
           84,
           null
          ],
          [
           "R6",
           "WS",
           84,
           null
          ],
          [
           "R6",
           "WS",
           84,
           null
          ],
          [
           "R6",
           "WS",
           84,
           null
          ],
          [
           "R6",
           "WS",
           84,
           null
          ],
          [
           "R6",
           "WS",
           84,
           null
          ],
          [
           "R6",
           "WS",
           84,
           null
          ],
          [
           "R6",
           "WS",
           84,
           null
          ],
          [
           "R6",
           "WS",
           84,
           null
          ],
          [
           "R6",
           "WS",
           84,
           null
          ],
          [
           "R6",
           "WS",
           84,
           null
          ],
          [
           "R6",
           "WS",
           84,
           null
          ],
          [
           "R6",
           "WS",
           84,
           null
          ],
          [
           "R6",
           "WS",
           84,
           null
          ],
          [
           "R6",
           "WS",
           84,
           null
          ],
          [
           "R6",
           "WS",
           84,
           null
          ],
          [
           "R6",
           "WS",
           84,
           null
          ],
          [
           "R6",
           "WS",
           84,
           null
          ],
          [
           "R6",
           "WS",
           84,
           null
          ],
          [
           "R6",
           "WS",
           84,
           null
          ],
          [
           "R6",
           "WS",
           84,
           null
          ],
          [
           "R6",
           "WS",
           84,
           null
          ],
          [
           "R6",
           "WS",
           84,
           null
          ],
          [
           "R6",
           "WS",
           84,
           null
          ],
          [
           "R6",
           "WS",
           84,
           null
          ],
          [
           "R6",
           "WS",
           84,
           null
          ],
          [
           "R6",
           "WS",
           84,
           null
          ],
          [
           "R6",
           "WS",
           84,
           null
          ],
          [
           "R6",
           "WS",
           84,
           null
          ],
          [
           "R6",
           "WS",
           84,
           null
          ],
          [
           "R6",
           "WS",
           84,
           null
          ],
          [
           "R6",
           "WS",
           84,
           null
          ],
          [
           "R6",
           "WS",
           84,
           null
          ],
          [
           "R6",
           "WS",
           84,
           null
          ],
          [
           "R6",
           "WS",
           84,
           null
          ],
          [
           "R6",
           "WS",
           84,
           null
          ],
          [
           "R6",
           "WS",
           84,
           null
          ],
          [
           "R6",
           "WS",
           84,
           null
          ],
          [
           "R6",
           "WS",
           84,
           null
          ],
          [
           "R6",
           "WS",
           84,
           null
          ],
          [
           "R6",
           "WS",
           84,
           null
          ],
          [
           "R6",
           "WS",
           84,
           null
          ],
          [
           "R6",
           "WS",
           84,
           null
          ],
          [
           "R6",
           "WS",
           84,
           null
          ],
          [
           "R6",
           "WS",
           84,
           null
          ],
          [
           "R6",
           "WS",
           84,
           null
          ],
          [
           "R6",
           "WS",
           84,
           null
          ],
          [
           "R6",
           "WS",
           84,
           null
          ],
          [
           "R6",
           "WS",
           84,
           null
          ],
          [
           "R6",
           "WS",
           84,
           null
          ],
          [
           "R6",
           "WS",
           84,
           null
          ],
          [
           "R6",
           "WS",
           84,
           null
          ],
          [
           "R6",
           "WS",
           84,
           null
          ],
          [
           "R6",
           "WS",
           84,
           null
          ],
          [
           "R6",
           "WS",
           84,
           null
          ],
          [
           "R6",
           "WS",
           84,
           null
          ],
          [
           "R6",
           "WS",
           84,
           null
          ],
          [
           "R6",
           "WS",
           84,
           null
          ],
          [
           "R6",
           "WS",
           84,
           null
          ],
          [
           "R6",
           "WS",
           84,
           null
          ],
          [
           "R6",
           "WS",
           84,
           null
          ],
          [
           "R6",
           "WS",
           84,
           null
          ],
          [
           "R6",
           "WS",
           84,
           null
          ],
          [
           "R6",
           "WS",
           84,
           null
          ],
          [
           "R6",
           "WS",
           84,
           null
          ],
          [
           "R6",
           "WS",
           84,
           null
          ],
          [
           "R6",
           "WS",
           84,
           null
          ],
          [
           "R6",
           "WS",
           84,
           null
          ],
          [
           "R6",
           "WS",
           84,
           null
          ]
         ],
         "hovertemplate": "RouteId=%{customdata[0]}<br>RateDate=%{x}<br>RateValue=%{y}<br>Unit=%{customdata[1]}<br>VesselClassId=%{customdata[2]}<br>DeprecatedTo=%{customdata[3]}<extra></extra>",
         "legendgroup": "R6",
         "line": {
          "color": "#EF553B",
          "dash": "solid"
         },
         "marker": {
          "symbol": "circle"
         },
         "mode": "lines",
         "name": "R6",
         "orientation": "v",
         "showlegend": true,
         "x": [
          "2020-10-01",
          "2020-10-02",
          "2020-10-03",
          "2020-10-04",
          "2020-10-05",
          "2020-10-06",
          "2020-10-07",
          "2020-10-08",
          "2020-10-09",
          "2020-10-10",
          "2020-10-11",
          "2020-10-12",
          "2020-10-13",
          "2020-10-14",
          "2020-10-15",
          "2020-10-16",
          "2020-10-17",
          "2020-10-18",
          "2020-10-19",
          "2020-10-20",
          "2020-10-21",
          "2020-10-22",
          "2020-10-23",
          "2020-10-24",
          "2020-10-25",
          "2020-10-26",
          "2020-10-27",
          "2020-10-28",
          "2020-10-29",
          "2020-10-30",
          "2020-10-31",
          "2020-11-01",
          "2020-11-02",
          "2020-11-03",
          "2020-11-04",
          "2020-11-05",
          "2020-11-06",
          "2020-11-07",
          "2020-11-08",
          "2020-11-09",
          "2020-11-10",
          "2020-11-11",
          "2020-11-12",
          "2020-11-13",
          "2020-11-14",
          "2020-11-15",
          "2020-11-16",
          "2020-11-17",
          "2020-11-18",
          "2020-11-19",
          "2020-11-20",
          "2020-11-21",
          "2020-11-22",
          "2020-11-23",
          "2020-11-24",
          "2020-11-25",
          "2020-11-26",
          "2020-11-27",
          "2020-11-28",
          "2020-11-29",
          "2020-11-30",
          "2020-12-01",
          "2020-12-02",
          "2020-12-03",
          "2020-12-04",
          "2020-12-05",
          "2020-12-06",
          "2020-12-07",
          "2020-12-08",
          "2020-12-09",
          "2020-12-10",
          "2020-12-11",
          "2020-12-12",
          "2020-12-13",
          "2020-12-14",
          "2020-12-15",
          "2020-12-16",
          "2020-12-17",
          "2020-12-18",
          "2020-12-19",
          "2020-12-20",
          "2020-12-21",
          "2020-12-22",
          "2020-12-23",
          "2020-12-24",
          "2020-12-25",
          "2020-12-26",
          "2020-12-27",
          "2020-12-28",
          "2020-12-29",
          "2020-12-30",
          "2020-12-31"
         ],
         "xaxis": "x",
         "y": [
          27.5,
          27.5,
          27.5,
          27.5,
          27.5,
          27.5,
          27.5,
          27.0,
          27.0,
          27.0,
          27.0,
          27.0,
          27.0,
          30.0,
          30.0,
          30.0,
          30.0,
          30.0,
          30.0,
          30.0,
          30.0,
          30.0,
          30.0,
          30.0,
          30.0,
          30.0,
          30.0,
          30.0,
          30.0,
          30.0,
          30.0,
          30.0,
          26.5,
          26.5,
          26.5,
          27.0,
          27.0,
          27.0,
          27.0,
          27.0,
          27.0,
          26.0,
          26.0,
          26.5,
          26.5,
          26.5,
          26.5,
          26.5,
          26.5,
          26.5,
          26.5,
          26.5,
          26.5,
          26.5,
          26.5,
          26.5,
          28.5,
          29.0,
          29.0,
          29.0,
          29.0,
          30.0,
          30.0,
          30.0,
          30.0,
          30.0,
          30.0,
          30.0,
          33.5,
          35.0,
          35.0,
          34.5,
          34.5,
          34.5,
          34.5,
          34.5,
          34.5,
          34.5,
          34.5,
          34.5,
          34.5,
          38.0,
          38.0,
          38.0,
          38.0,
          38.0,
          38.0,
          38.0,
          38.0,
          38.0,
          38.0,
          38.0
         ],
         "yaxis": "y",
         "type": "scatter"
        },
        {
         "customdata": [
          [
           "R8",
           "WS",
           84,
           null
          ],
          [
           "R8",
           "WS",
           84,
           null
          ],
          [
           "R8",
           "WS",
           84,
           null
          ],
          [
           "R8",
           "WS",
           84,
           null
          ],
          [
           "R8",
           "WS",
           84,
           null
          ],
          [
           "R8",
           "WS",
           84,
           null
          ],
          [
           "R8",
           "WS",
           84,
           null
          ],
          [
           "R8",
           "WS",
           84,
           null
          ],
          [
           "R8",
           "WS",
           84,
           null
          ],
          [
           "R8",
           "WS",
           84,
           null
          ],
          [
           "R8",
           "WS",
           84,
           null
          ],
          [
           "R8",
           "WS",
           84,
           null
          ],
          [
           "R8",
           "WS",
           84,
           null
          ],
          [
           "R8",
           "WS",
           84,
           null
          ],
          [
           "R8",
           "WS",
           84,
           null
          ],
          [
           "R8",
           "WS",
           84,
           null
          ],
          [
           "R8",
           "WS",
           84,
           null
          ],
          [
           "R8",
           "WS",
           84,
           null
          ],
          [
           "R8",
           "WS",
           84,
           null
          ],
          [
           "R8",
           "WS",
           84,
           null
          ],
          [
           "R8",
           "WS",
           84,
           null
          ],
          [
           "R8",
           "WS",
           84,
           null
          ],
          [
           "R8",
           "WS",
           84,
           null
          ],
          [
           "R8",
           "WS",
           84,
           null
          ],
          [
           "R8",
           "WS",
           84,
           null
          ],
          [
           "R8",
           "WS",
           84,
           null
          ],
          [
           "R8",
           "WS",
           84,
           null
          ],
          [
           "R8",
           "WS",
           84,
           null
          ],
          [
           "R8",
           "WS",
           84,
           null
          ],
          [
           "R8",
           "WS",
           84,
           null
          ],
          [
           "R8",
           "WS",
           84,
           null
          ],
          [
           "R8",
           "WS",
           84,
           null
          ],
          [
           "R8",
           "WS",
           84,
           null
          ],
          [
           "R8",
           "WS",
           84,
           null
          ],
          [
           "R8",
           "WS",
           84,
           null
          ],
          [
           "R8",
           "WS",
           84,
           null
          ],
          [
           "R8",
           "WS",
           84,
           null
          ],
          [
           "R8",
           "WS",
           84,
           null
          ],
          [
           "R8",
           "WS",
           84,
           null
          ],
          [
           "R8",
           "WS",
           84,
           null
          ],
          [
           "R8",
           "WS",
           84,
           null
          ],
          [
           "R8",
           "WS",
           84,
           null
          ],
          [
           "R8",
           "WS",
           84,
           null
          ],
          [
           "R8",
           "WS",
           84,
           null
          ],
          [
           "R8",
           "WS",
           84,
           null
          ],
          [
           "R8",
           "WS",
           84,
           null
          ],
          [
           "R8",
           "WS",
           84,
           null
          ],
          [
           "R8",
           "WS",
           84,
           null
          ],
          [
           "R8",
           "WS",
           84,
           null
          ],
          [
           "R8",
           "WS",
           84,
           null
          ],
          [
           "R8",
           "WS",
           84,
           null
          ],
          [
           "R8",
           "WS",
           84,
           null
          ],
          [
           "R8",
           "WS",
           84,
           null
          ],
          [
           "R8",
           "WS",
           84,
           null
          ],
          [
           "R8",
           "WS",
           84,
           null
          ],
          [
           "R8",
           "WS",
           84,
           null
          ],
          [
           "R8",
           "WS",
           84,
           null
          ],
          [
           "R8",
           "WS",
           84,
           null
          ],
          [
           "R8",
           "WS",
           84,
           null
          ],
          [
           "R8",
           "WS",
           84,
           null
          ],
          [
           "R8",
           "WS",
           84,
           null
          ],
          [
           "R8",
           "WS",
           84,
           null
          ],
          [
           "R8",
           "WS",
           84,
           null
          ],
          [
           "R8",
           "WS",
           84,
           null
          ],
          [
           "R8",
           "WS",
           84,
           null
          ],
          [
           "R8",
           "WS",
           84,
           null
          ],
          [
           "R8",
           "WS",
           84,
           null
          ],
          [
           "R8",
           "WS",
           84,
           null
          ],
          [
           "R8",
           "WS",
           84,
           null
          ],
          [
           "R8",
           "WS",
           84,
           null
          ],
          [
           "R8",
           "WS",
           84,
           null
          ],
          [
           "R8",
           "WS",
           84,
           null
          ],
          [
           "R8",
           "WS",
           84,
           null
          ],
          [
           "R8",
           "WS",
           84,
           null
          ],
          [
           "R8",
           "WS",
           84,
           null
          ],
          [
           "R8",
           "WS",
           84,
           null
          ],
          [
           "R8",
           "WS",
           84,
           null
          ],
          [
           "R8",
           "WS",
           84,
           null
          ],
          [
           "R8",
           "WS",
           84,
           null
          ],
          [
           "R8",
           "WS",
           84,
           null
          ],
          [
           "R8",
           "WS",
           84,
           null
          ],
          [
           "R8",
           "WS",
           84,
           null
          ],
          [
           "R8",
           "WS",
           84,
           null
          ],
          [
           "R8",
           "WS",
           84,
           null
          ],
          [
           "R8",
           "WS",
           84,
           null
          ],
          [
           "R8",
           "WS",
           84,
           null
          ],
          [
           "R8",
           "WS",
           84,
           null
          ],
          [
           "R8",
           "WS",
           84,
           null
          ],
          [
           "R8",
           "WS",
           84,
           null
          ],
          [
           "R8",
           "WS",
           84,
           null
          ],
          [
           "R8",
           "WS",
           84,
           null
          ],
          [
           "R8",
           "WS",
           84,
           null
          ]
         ],
         "hovertemplate": "RouteId=%{customdata[0]}<br>RateDate=%{x}<br>RateValue=%{y}<br>Unit=%{customdata[1]}<br>VesselClassId=%{customdata[2]}<br>DeprecatedTo=%{customdata[3]}<extra></extra>",
         "legendgroup": "R8",
         "line": {
          "color": "#00cc96",
          "dash": "solid"
         },
         "marker": {
          "symbol": "circle"
         },
         "mode": "lines",
         "name": "R8",
         "orientation": "v",
         "showlegend": true,
         "x": [
          "2020-10-01",
          "2020-10-02",
          "2020-10-03",
          "2020-10-04",
          "2020-10-05",
          "2020-10-06",
          "2020-10-07",
          "2020-10-08",
          "2020-10-09",
          "2020-10-10",
          "2020-10-11",
          "2020-10-12",
          "2020-10-13",
          "2020-10-14",
          "2020-10-15",
          "2020-10-16",
          "2020-10-17",
          "2020-10-18",
          "2020-10-19",
          "2020-10-20",
          "2020-10-21",
          "2020-10-22",
          "2020-10-23",
          "2020-10-24",
          "2020-10-25",
          "2020-10-26",
          "2020-10-27",
          "2020-10-28",
          "2020-10-29",
          "2020-10-30",
          "2020-10-31",
          "2020-11-01",
          "2020-11-02",
          "2020-11-03",
          "2020-11-04",
          "2020-11-05",
          "2020-11-06",
          "2020-11-07",
          "2020-11-08",
          "2020-11-09",
          "2020-11-10",
          "2020-11-11",
          "2020-11-12",
          "2020-11-13",
          "2020-11-14",
          "2020-11-15",
          "2020-11-16",
          "2020-11-17",
          "2020-11-18",
          "2020-11-19",
          "2020-11-20",
          "2020-11-21",
          "2020-11-22",
          "2020-11-23",
          "2020-11-24",
          "2020-11-25",
          "2020-11-26",
          "2020-11-27",
          "2020-11-28",
          "2020-11-29",
          "2020-11-30",
          "2020-12-01",
          "2020-12-02",
          "2020-12-03",
          "2020-12-04",
          "2020-12-05",
          "2020-12-06",
          "2020-12-07",
          "2020-12-08",
          "2020-12-09",
          "2020-12-10",
          "2020-12-11",
          "2020-12-12",
          "2020-12-13",
          "2020-12-14",
          "2020-12-15",
          "2020-12-16",
          "2020-12-17",
          "2020-12-18",
          "2020-12-19",
          "2020-12-20",
          "2020-12-21",
          "2020-12-22",
          "2020-12-23",
          "2020-12-24",
          "2020-12-25",
          "2020-12-26",
          "2020-12-27",
          "2020-12-28",
          "2020-12-29",
          "2020-12-30",
          "2020-12-31"
         ],
         "xaxis": "x",
         "y": [
          32.0,
          32.0,
          32.0,
          32.0,
          32.0,
          31.0,
          30.5,
          30.5,
          30.5,
          30.5,
          30.5,
          30.5,
          30.5,
          30.5,
          30.5,
          30.5,
          30.5,
          30.5,
          30.5,
          30.0,
          31.0,
          31.0,
          31.0,
          31.0,
          31.0,
          30.0,
          30.0,
          29.0,
          28.5,
          28.5,
          28.5,
          28.5,
          28.5,
          28.5,
          28.5,
          28.5,
          28.5,
          28.5,
          28.5,
          29.0,
          29.0,
          29.0,
          29.0,
          29.0,
          29.0,
          29.0,
          29.5,
          29.5,
          29.5,
          29.5,
          29.5,
          29.5,
          29.5,
          29.5,
          29.5,
          29.0,
          29.5,
          29.5,
          29.5,
          29.5,
          33.0,
          33.0,
          33.0,
          34.0,
          34.0,
          34.0,
          34.0,
          37.0,
          37.0,
          36.5,
          36.5,
          35.5,
          35.5,
          35.5,
          34.5,
          34.5,
          34.0,
          34.0,
          35.0,
          35.0,
          35.0,
          35.0,
          37.5,
          37.5,
          37.5,
          37.5,
          37.5,
          37.5,
          37.5,
          37.5,
          37.5,
          37.5
         ],
         "yaxis": "y",
         "type": "scatter"
        },
        {
         "customdata": [
          [
           "R5",
           "WS",
           84,
           null
          ],
          [
           "R5",
           "WS",
           84,
           null
          ],
          [
           "R5",
           "WS",
           84,
           null
          ],
          [
           "R5",
           "WS",
           84,
           null
          ],
          [
           "R5",
           "WS",
           84,
           null
          ],
          [
           "R5",
           "WS",
           84,
           null
          ],
          [
           "R5",
           "WS",
           84,
           null
          ],
          [
           "R5",
           "WS",
           84,
           null
          ],
          [
           "R5",
           "WS",
           84,
           null
          ],
          [
           "R5",
           "WS",
           84,
           null
          ],
          [
           "R5",
           "WS",
           84,
           null
          ],
          [
           "R5",
           "WS",
           84,
           null
          ],
          [
           "R5",
           "WS",
           84,
           null
          ],
          [
           "R5",
           "WS",
           84,
           null
          ],
          [
           "R5",
           "WS",
           84,
           null
          ],
          [
           "R5",
           "WS",
           84,
           null
          ],
          [
           "R5",
           "WS",
           84,
           null
          ],
          [
           "R5",
           "WS",
           84,
           null
          ],
          [
           "R5",
           "WS",
           84,
           null
          ],
          [
           "R5",
           "WS",
           84,
           null
          ],
          [
           "R5",
           "WS",
           84,
           null
          ],
          [
           "R5",
           "WS",
           84,
           null
          ],
          [
           "R5",
           "WS",
           84,
           null
          ],
          [
           "R5",
           "WS",
           84,
           null
          ],
          [
           "R5",
           "WS",
           84,
           null
          ],
          [
           "R5",
           "WS",
           84,
           null
          ],
          [
           "R5",
           "WS",
           84,
           null
          ],
          [
           "R5",
           "WS",
           84,
           null
          ],
          [
           "R5",
           "WS",
           84,
           null
          ],
          [
           "R5",
           "WS",
           84,
           null
          ],
          [
           "R5",
           "WS",
           84,
           null
          ],
          [
           "R5",
           "WS",
           84,
           null
          ],
          [
           "R5",
           "WS",
           84,
           null
          ],
          [
           "R5",
           "WS",
           84,
           null
          ],
          [
           "R5",
           "WS",
           84,
           null
          ],
          [
           "R5",
           "WS",
           84,
           null
          ],
          [
           "R5",
           "WS",
           84,
           null
          ],
          [
           "R5",
           "WS",
           84,
           null
          ],
          [
           "R5",
           "WS",
           84,
           null
          ],
          [
           "R5",
           "WS",
           84,
           null
          ],
          [
           "R5",
           "WS",
           84,
           null
          ],
          [
           "R5",
           "WS",
           84,
           null
          ],
          [
           "R5",
           "WS",
           84,
           null
          ],
          [
           "R5",
           "WS",
           84,
           null
          ],
          [
           "R5",
           "WS",
           84,
           null
          ],
          [
           "R5",
           "WS",
           84,
           null
          ],
          [
           "R5",
           "WS",
           84,
           null
          ],
          [
           "R5",
           "WS",
           84,
           null
          ],
          [
           "R5",
           "WS",
           84,
           null
          ],
          [
           "R5",
           "WS",
           84,
           null
          ],
          [
           "R5",
           "WS",
           84,
           null
          ],
          [
           "R5",
           "WS",
           84,
           null
          ],
          [
           "R5",
           "WS",
           84,
           null
          ],
          [
           "R5",
           "WS",
           84,
           null
          ],
          [
           "R5",
           "WS",
           84,
           null
          ],
          [
           "R5",
           "WS",
           84,
           null
          ],
          [
           "R5",
           "WS",
           84,
           null
          ],
          [
           "R5",
           "WS",
           84,
           null
          ],
          [
           "R5",
           "WS",
           84,
           null
          ],
          [
           "R5",
           "WS",
           84,
           null
          ],
          [
           "R5",
           "WS",
           84,
           null
          ],
          [
           "R5",
           "WS",
           84,
           null
          ],
          [
           "R5",
           "WS",
           84,
           null
          ],
          [
           "R5",
           "WS",
           84,
           null
          ],
          [
           "R5",
           "WS",
           84,
           null
          ],
          [
           "R5",
           "WS",
           84,
           null
          ],
          [
           "R5",
           "WS",
           84,
           null
          ],
          [
           "R5",
           "WS",
           84,
           null
          ],
          [
           "R5",
           "WS",
           84,
           null
          ],
          [
           "R5",
           "WS",
           84,
           null
          ],
          [
           "R5",
           "WS",
           84,
           null
          ],
          [
           "R5",
           "WS",
           84,
           null
          ],
          [
           "R5",
           "WS",
           84,
           null
          ],
          [
           "R5",
           "WS",
           84,
           null
          ],
          [
           "R5",
           "WS",
           84,
           null
          ],
          [
           "R5",
           "WS",
           84,
           null
          ],
          [
           "R5",
           "WS",
           84,
           null
          ],
          [
           "R5",
           "WS",
           84,
           null
          ],
          [
           "R5",
           "WS",
           84,
           null
          ],
          [
           "R5",
           "WS",
           84,
           null
          ],
          [
           "R5",
           "WS",
           84,
           null
          ],
          [
           "R5",
           "WS",
           84,
           null
          ],
          [
           "R5",
           "WS",
           84,
           null
          ],
          [
           "R5",
           "WS",
           84,
           null
          ],
          [
           "R5",
           "WS",
           84,
           null
          ],
          [
           "R5",
           "WS",
           84,
           null
          ],
          [
           "R5",
           "WS",
           84,
           null
          ],
          [
           "R5",
           "WS",
           84,
           null
          ],
          [
           "R5",
           "WS",
           84,
           null
          ],
          [
           "R5",
           "WS",
           84,
           null
          ],
          [
           "R5",
           "WS",
           84,
           null
          ],
          [
           "R5",
           "WS",
           84,
           null
          ]
         ],
         "hovertemplate": "RouteId=%{customdata[0]}<br>RateDate=%{x}<br>RateValue=%{y}<br>Unit=%{customdata[1]}<br>VesselClassId=%{customdata[2]}<br>DeprecatedTo=%{customdata[3]}<extra></extra>",
         "legendgroup": "R5",
         "line": {
          "color": "#ab63fa",
          "dash": "solid"
         },
         "marker": {
          "symbol": "circle"
         },
         "mode": "lines",
         "name": "R5",
         "orientation": "v",
         "showlegend": true,
         "x": [
          "2020-10-01",
          "2020-10-02",
          "2020-10-03",
          "2020-10-04",
          "2020-10-05",
          "2020-10-06",
          "2020-10-07",
          "2020-10-08",
          "2020-10-09",
          "2020-10-10",
          "2020-10-11",
          "2020-10-12",
          "2020-10-13",
          "2020-10-14",
          "2020-10-15",
          "2020-10-16",
          "2020-10-17",
          "2020-10-18",
          "2020-10-19",
          "2020-10-20",
          "2020-10-21",
          "2020-10-22",
          "2020-10-23",
          "2020-10-24",
          "2020-10-25",
          "2020-10-26",
          "2020-10-27",
          "2020-10-28",
          "2020-10-29",
          "2020-10-30",
          "2020-10-31",
          "2020-11-01",
          "2020-11-02",
          "2020-11-03",
          "2020-11-04",
          "2020-11-05",
          "2020-11-06",
          "2020-11-07",
          "2020-11-08",
          "2020-11-09",
          "2020-11-10",
          "2020-11-11",
          "2020-11-12",
          "2020-11-13",
          "2020-11-14",
          "2020-11-15",
          "2020-11-16",
          "2020-11-17",
          "2020-11-18",
          "2020-11-19",
          "2020-11-20",
          "2020-11-21",
          "2020-11-22",
          "2020-11-23",
          "2020-11-24",
          "2020-11-25",
          "2020-11-26",
          "2020-11-27",
          "2020-11-28",
          "2020-11-29",
          "2020-11-30",
          "2020-12-01",
          "2020-12-02",
          "2020-12-03",
          "2020-12-04",
          "2020-12-05",
          "2020-12-06",
          "2020-12-07",
          "2020-12-08",
          "2020-12-09",
          "2020-12-10",
          "2020-12-11",
          "2020-12-12",
          "2020-12-13",
          "2020-12-14",
          "2020-12-15",
          "2020-12-16",
          "2020-12-17",
          "2020-12-18",
          "2020-12-19",
          "2020-12-20",
          "2020-12-21",
          "2020-12-22",
          "2020-12-23",
          "2020-12-24",
          "2020-12-25",
          "2020-12-26",
          "2020-12-27",
          "2020-12-28",
          "2020-12-29",
          "2020-12-30",
          "2020-12-31"
         ],
         "xaxis": "x",
         "y": [
          26.5,
          26.5,
          26.5,
          26.5,
          26.5,
          26.5,
          26.5,
          26.5,
          26.5,
          26.5,
          26.5,
          26.5,
          26.5,
          29.0,
          29.0,
          29.0,
          29.0,
          29.0,
          29.0,
          29.0,
          29.0,
          29.0,
          29.0,
          29.0,
          29.0,
          29.0,
          29.0,
          29.0,
          29.0,
          29.0,
          29.0,
          29.0,
          25.5,
          25.5,
          25.5,
          26.0,
          26.0,
          26.0,
          26.0,
          26.0,
          26.0,
          25.5,
          25.5,
          26.0,
          26.0,
          26.0,
          26.0,
          26.0,
          26.0,
          26.0,
          26.0,
          26.0,
          26.0,
          26.0,
          26.0,
          26.0,
          28.0,
          28.5,
          28.5,
          28.5,
          28.5,
          29.5,
          29.5,
          29.5,
          29.5,
          29.5,
          29.5,
          29.5,
          33.0,
          34.5,
          34.5,
          34.0,
          34.0,
          34.0,
          34.0,
          34.0,
          34.0,
          34.0,
          34.0,
          34.0,
          34.0,
          37.5,
          37.5,
          37.5,
          37.5,
          37.5,
          37.5,
          37.5,
          37.5,
          37.5,
          37.5,
          37.5
         ],
         "yaxis": "y",
         "type": "scatter"
        }
       ],
       "layout": {
        "template": {
         "data": {
          "histogram2dcontour": [
           {
            "type": "histogram2dcontour",
            "colorbar": {
             "outlinewidth": 0,
             "ticks": ""
            },
            "colorscale": [
             [
              0.0,
              "#0d0887"
             ],
             [
              0.1111111111111111,
              "#46039f"
             ],
             [
              0.2222222222222222,
              "#7201a8"
             ],
             [
              0.3333333333333333,
              "#9c179e"
             ],
             [
              0.4444444444444444,
              "#bd3786"
             ],
             [
              0.5555555555555556,
              "#d8576b"
             ],
             [
              0.6666666666666666,
              "#ed7953"
             ],
             [
              0.7777777777777778,
              "#fb9f3a"
             ],
             [
              0.8888888888888888,
              "#fdca26"
             ],
             [
              1.0,
              "#f0f921"
             ]
            ]
           }
          ],
          "choropleth": [
           {
            "type": "choropleth",
            "colorbar": {
             "outlinewidth": 0,
             "ticks": ""
            }
           }
          ],
          "histogram2d": [
           {
            "type": "histogram2d",
            "colorbar": {
             "outlinewidth": 0,
             "ticks": ""
            },
            "colorscale": [
             [
              0.0,
              "#0d0887"
             ],
             [
              0.1111111111111111,
              "#46039f"
             ],
             [
              0.2222222222222222,
              "#7201a8"
             ],
             [
              0.3333333333333333,
              "#9c179e"
             ],
             [
              0.4444444444444444,
              "#bd3786"
             ],
             [
              0.5555555555555556,
              "#d8576b"
             ],
             [
              0.6666666666666666,
              "#ed7953"
             ],
             [
              0.7777777777777778,
              "#fb9f3a"
             ],
             [
              0.8888888888888888,
              "#fdca26"
             ],
             [
              1.0,
              "#f0f921"
             ]
            ]
           }
          ],
          "heatmap": [
           {
            "type": "heatmap",
            "colorbar": {
             "outlinewidth": 0,
             "ticks": ""
            },
            "colorscale": [
             [
              0.0,
              "#0d0887"
             ],
             [
              0.1111111111111111,
              "#46039f"
             ],
             [
              0.2222222222222222,
              "#7201a8"
             ],
             [
              0.3333333333333333,
              "#9c179e"
             ],
             [
              0.4444444444444444,
              "#bd3786"
             ],
             [
              0.5555555555555556,
              "#d8576b"
             ],
             [
              0.6666666666666666,
              "#ed7953"
             ],
             [
              0.7777777777777778,
              "#fb9f3a"
             ],
             [
              0.8888888888888888,
              "#fdca26"
             ],
             [
              1.0,
              "#f0f921"
             ]
            ]
           }
          ],
          "heatmapgl": [
           {
            "type": "heatmapgl",
            "colorbar": {
             "outlinewidth": 0,
             "ticks": ""
            },
            "colorscale": [
             [
              0.0,
              "#0d0887"
             ],
             [
              0.1111111111111111,
              "#46039f"
             ],
             [
              0.2222222222222222,
              "#7201a8"
             ],
             [
              0.3333333333333333,
              "#9c179e"
             ],
             [
              0.4444444444444444,
              "#bd3786"
             ],
             [
              0.5555555555555556,
              "#d8576b"
             ],
             [
              0.6666666666666666,
              "#ed7953"
             ],
             [
              0.7777777777777778,
              "#fb9f3a"
             ],
             [
              0.8888888888888888,
              "#fdca26"
             ],
             [
              1.0,
              "#f0f921"
             ]
            ]
           }
          ],
          "contourcarpet": [
           {
            "type": "contourcarpet",
            "colorbar": {
             "outlinewidth": 0,
             "ticks": ""
            }
           }
          ],
          "contour": [
           {
            "type": "contour",
            "colorbar": {
             "outlinewidth": 0,
             "ticks": ""
            },
            "colorscale": [
             [
              0.0,
              "#0d0887"
             ],
             [
              0.1111111111111111,
              "#46039f"
             ],
             [
              0.2222222222222222,
              "#7201a8"
             ],
             [
              0.3333333333333333,
              "#9c179e"
             ],
             [
              0.4444444444444444,
              "#bd3786"
             ],
             [
              0.5555555555555556,
              "#d8576b"
             ],
             [
              0.6666666666666666,
              "#ed7953"
             ],
             [
              0.7777777777777778,
              "#fb9f3a"
             ],
             [
              0.8888888888888888,
              "#fdca26"
             ],
             [
              1.0,
              "#f0f921"
             ]
            ]
           }
          ],
          "surface": [
           {
            "type": "surface",
            "colorbar": {
             "outlinewidth": 0,
             "ticks": ""
            },
            "colorscale": [
             [
              0.0,
              "#0d0887"
             ],
             [
              0.1111111111111111,
              "#46039f"
             ],
             [
              0.2222222222222222,
              "#7201a8"
             ],
             [
              0.3333333333333333,
              "#9c179e"
             ],
             [
              0.4444444444444444,
              "#bd3786"
             ],
             [
              0.5555555555555556,
              "#d8576b"
             ],
             [
              0.6666666666666666,
              "#ed7953"
             ],
             [
              0.7777777777777778,
              "#fb9f3a"
             ],
             [
              0.8888888888888888,
              "#fdca26"
             ],
             [
              1.0,
              "#f0f921"
             ]
            ]
           }
          ],
          "mesh3d": [
           {
            "type": "mesh3d",
            "colorbar": {
             "outlinewidth": 0,
             "ticks": ""
            }
           }
          ],
          "scatter": [
           {
            "fillpattern": {
             "fillmode": "overlay",
             "size": 10,
             "solidity": 0.2
            },
            "type": "scatter"
           }
          ],
          "parcoords": [
           {
            "type": "parcoords",
            "line": {
             "colorbar": {
              "outlinewidth": 0,
              "ticks": ""
             }
            }
           }
          ],
          "scatterpolargl": [
           {
            "type": "scatterpolargl",
            "marker": {
             "colorbar": {
              "outlinewidth": 0,
              "ticks": ""
             }
            }
           }
          ],
          "bar": [
           {
            "error_x": {
             "color": "#2a3f5f"
            },
            "error_y": {
             "color": "#2a3f5f"
            },
            "marker": {
             "line": {
              "color": "#E5ECF6",
              "width": 0.5
             },
             "pattern": {
              "fillmode": "overlay",
              "size": 10,
              "solidity": 0.2
             }
            },
            "type": "bar"
           }
          ],
          "scattergeo": [
           {
            "type": "scattergeo",
            "marker": {
             "colorbar": {
              "outlinewidth": 0,
              "ticks": ""
             }
            }
           }
          ],
          "scatterpolar": [
           {
            "type": "scatterpolar",
            "marker": {
             "colorbar": {
              "outlinewidth": 0,
              "ticks": ""
             }
            }
           }
          ],
          "histogram": [
           {
            "marker": {
             "pattern": {
              "fillmode": "overlay",
              "size": 10,
              "solidity": 0.2
             }
            },
            "type": "histogram"
           }
          ],
          "scattergl": [
           {
            "type": "scattergl",
            "marker": {
             "colorbar": {
              "outlinewidth": 0,
              "ticks": ""
             }
            }
           }
          ],
          "scatter3d": [
           {
            "type": "scatter3d",
            "line": {
             "colorbar": {
              "outlinewidth": 0,
              "ticks": ""
             }
            },
            "marker": {
             "colorbar": {
              "outlinewidth": 0,
              "ticks": ""
             }
            }
           }
          ],
          "scattermapbox": [
           {
            "type": "scattermapbox",
            "marker": {
             "colorbar": {
              "outlinewidth": 0,
              "ticks": ""
             }
            }
           }
          ],
          "scatterternary": [
           {
            "type": "scatterternary",
            "marker": {
             "colorbar": {
              "outlinewidth": 0,
              "ticks": ""
             }
            }
           }
          ],
          "scattercarpet": [
           {
            "type": "scattercarpet",
            "marker": {
             "colorbar": {
              "outlinewidth": 0,
              "ticks": ""
             }
            }
           }
          ],
          "carpet": [
           {
            "aaxis": {
             "endlinecolor": "#2a3f5f",
             "gridcolor": "white",
             "linecolor": "white",
             "minorgridcolor": "white",
             "startlinecolor": "#2a3f5f"
            },
            "baxis": {
             "endlinecolor": "#2a3f5f",
             "gridcolor": "white",
             "linecolor": "white",
             "minorgridcolor": "white",
             "startlinecolor": "#2a3f5f"
            },
            "type": "carpet"
           }
          ],
          "table": [
           {
            "cells": {
             "fill": {
              "color": "#EBF0F8"
             },
             "line": {
              "color": "white"
             }
            },
            "header": {
             "fill": {
              "color": "#C8D4E3"
             },
             "line": {
              "color": "white"
             }
            },
            "type": "table"
           }
          ],
          "barpolar": [
           {
            "marker": {
             "line": {
              "color": "#E5ECF6",
              "width": 0.5
             },
             "pattern": {
              "fillmode": "overlay",
              "size": 10,
              "solidity": 0.2
             }
            },
            "type": "barpolar"
           }
          ],
          "pie": [
           {
            "automargin": true,
            "type": "pie"
           }
          ]
         },
         "layout": {
          "autotypenumbers": "strict",
          "colorway": [
           "#636efa",
           "#EF553B",
           "#00cc96",
           "#ab63fa",
           "#FFA15A",
           "#19d3f3",
           "#FF6692",
           "#B6E880",
           "#FF97FF",
           "#FECB52"
          ],
          "font": {
           "color": "#2a3f5f"
          },
          "hovermode": "closest",
          "hoverlabel": {
           "align": "left"
          },
          "paper_bgcolor": "white",
          "plot_bgcolor": "#E5ECF6",
          "polar": {
           "bgcolor": "#E5ECF6",
           "angularaxis": {
            "gridcolor": "white",
            "linecolor": "white",
            "ticks": ""
           },
           "radialaxis": {
            "gridcolor": "white",
            "linecolor": "white",
            "ticks": ""
           }
          },
          "ternary": {
           "bgcolor": "#E5ECF6",
           "aaxis": {
            "gridcolor": "white",
            "linecolor": "white",
            "ticks": ""
           },
           "baxis": {
            "gridcolor": "white",
            "linecolor": "white",
            "ticks": ""
           },
           "caxis": {
            "gridcolor": "white",
            "linecolor": "white",
            "ticks": ""
           }
          },
          "coloraxis": {
           "colorbar": {
            "outlinewidth": 0,
            "ticks": ""
           }
          },
          "colorscale": {
           "sequential": [
            [
             0.0,
             "#0d0887"
            ],
            [
             0.1111111111111111,
             "#46039f"
            ],
            [
             0.2222222222222222,
             "#7201a8"
            ],
            [
             0.3333333333333333,
             "#9c179e"
            ],
            [
             0.4444444444444444,
             "#bd3786"
            ],
            [
             0.5555555555555556,
             "#d8576b"
            ],
            [
             0.6666666666666666,
             "#ed7953"
            ],
            [
             0.7777777777777778,
             "#fb9f3a"
            ],
            [
             0.8888888888888888,
             "#fdca26"
            ],
            [
             1.0,
             "#f0f921"
            ]
           ],
           "sequentialminus": [
            [
             0.0,
             "#0d0887"
            ],
            [
             0.1111111111111111,
             "#46039f"
            ],
            [
             0.2222222222222222,
             "#7201a8"
            ],
            [
             0.3333333333333333,
             "#9c179e"
            ],
            [
             0.4444444444444444,
             "#bd3786"
            ],
            [
             0.5555555555555556,
             "#d8576b"
            ],
            [
             0.6666666666666666,
             "#ed7953"
            ],
            [
             0.7777777777777778,
             "#fb9f3a"
            ],
            [
             0.8888888888888888,
             "#fdca26"
            ],
            [
             1.0,
             "#f0f921"
            ]
           ],
           "diverging": [
            [
             0,
             "#8e0152"
            ],
            [
             0.1,
             "#c51b7d"
            ],
            [
             0.2,
             "#de77ae"
            ],
            [
             0.3,
             "#f1b6da"
            ],
            [
             0.4,
             "#fde0ef"
            ],
            [
             0.5,
             "#f7f7f7"
            ],
            [
             0.6,
             "#e6f5d0"
            ],
            [
             0.7,
             "#b8e186"
            ],
            [
             0.8,
             "#7fbc41"
            ],
            [
             0.9,
             "#4d9221"
            ],
            [
             1,
             "#276419"
            ]
           ]
          },
          "xaxis": {
           "gridcolor": "white",
           "linecolor": "white",
           "ticks": "",
           "title": {
            "standoff": 15
           },
           "zerolinecolor": "white",
           "automargin": true,
           "zerolinewidth": 2
          },
          "yaxis": {
           "gridcolor": "white",
           "linecolor": "white",
           "ticks": "",
           "title": {
            "standoff": 15
           },
           "zerolinecolor": "white",
           "automargin": true,
           "zerolinewidth": 2
          },
          "scene": {
           "xaxis": {
            "backgroundcolor": "#E5ECF6",
            "gridcolor": "white",
            "linecolor": "white",
            "showbackground": true,
            "ticks": "",
            "zerolinecolor": "white",
            "gridwidth": 2
           },
           "yaxis": {
            "backgroundcolor": "#E5ECF6",
            "gridcolor": "white",
            "linecolor": "white",
            "showbackground": true,
            "ticks": "",
            "zerolinecolor": "white",
            "gridwidth": 2
           },
           "zaxis": {
            "backgroundcolor": "#E5ECF6",
            "gridcolor": "white",
            "linecolor": "white",
            "showbackground": true,
            "ticks": "",
            "zerolinecolor": "white",
            "gridwidth": 2
           }
          },
          "shapedefaults": {
           "line": {
            "color": "#2a3f5f"
           }
          },
          "annotationdefaults": {
           "arrowcolor": "#2a3f5f",
           "arrowhead": 0,
           "arrowwidth": 1
          },
          "geo": {
           "bgcolor": "white",
           "landcolor": "#E5ECF6",
           "subunitcolor": "white",
           "showland": true,
           "showlakes": true,
           "lakecolor": "white"
          },
          "title": {
           "x": 0.05
          },
          "mapbox": {
           "style": "light"
          }
         }
        },
        "xaxis": {
         "anchor": "y",
         "domain": [
          0.0,
          1.0
         ],
         "title": {
          "text": "RateDate"
         }
        },
        "yaxis": {
         "anchor": "x",
         "domain": [
          0.0,
          1.0
         ],
         "title": {
          "text": "RateValue"
         }
        },
        "legend": {
         "title": {
          "text": "RouteId"
         },
         "tracegroupgap": 0
        },
        "margin": {
         "t": 60
        },
        "width": 1000,
        "hoverlabel": {
         "font": {
          "size": 14,
          "family": "Calibri"
         },
         "bgcolor": "blue"
        }
       },
       "config": {
        "plotlyServerURL": "https://plot.ly"
       }
      },
      "text/html": "<div>                            <div id=\"d7004426-4865-4bc7-8ea0-90419f393685\" class=\"plotly-graph-div\" style=\"height:525px; width:1000px;\"></div>            <script type=\"text/javascript\">                require([\"plotly\"], function(Plotly) {                    window.PLOTLYENV=window.PLOTLYENV || {};                                    if (document.getElementById(\"d7004426-4865-4bc7-8ea0-90419f393685\")) {                    Plotly.newPlot(                        \"d7004426-4865-4bc7-8ea0-90419f393685\",                        [{\"customdata\":[[\"R7\",\"WS\",84,null],[\"R7\",\"WS\",84,null],[\"R7\",\"WS\",84,null],[\"R7\",\"WS\",84,null],[\"R7\",\"WS\",84,null],[\"R7\",\"WS\",84,null],[\"R7\",\"WS\",84,null],[\"R7\",\"WS\",84,null],[\"R7\",\"WS\",84,null],[\"R7\",\"WS\",84,null],[\"R7\",\"WS\",84,null],[\"R7\",\"WS\",84,null],[\"R7\",\"WS\",84,null],[\"R7\",\"WS\",84,null],[\"R7\",\"WS\",84,null],[\"R7\",\"WS\",84,null],[\"R7\",\"WS\",84,null],[\"R7\",\"WS\",84,null],[\"R7\",\"WS\",84,null],[\"R7\",\"WS\",84,null],[\"R7\",\"WS\",84,null],[\"R7\",\"WS\",84,null],[\"R7\",\"WS\",84,null],[\"R7\",\"WS\",84,null],[\"R7\",\"WS\",84,null],[\"R7\",\"WS\",84,null],[\"R7\",\"WS\",84,null],[\"R7\",\"WS\",84,null],[\"R7\",\"WS\",84,null],[\"R7\",\"WS\",84,null],[\"R7\",\"WS\",84,null],[\"R7\",\"WS\",84,null],[\"R7\",\"WS\",84,null],[\"R7\",\"WS\",84,null],[\"R7\",\"WS\",84,null],[\"R7\",\"WS\",84,null],[\"R7\",\"WS\",84,null],[\"R7\",\"WS\",84,null],[\"R7\",\"WS\",84,null],[\"R7\",\"WS\",84,null],[\"R7\",\"WS\",84,null],[\"R7\",\"WS\",84,null],[\"R7\",\"WS\",84,null],[\"R7\",\"WS\",84,null],[\"R7\",\"WS\",84,null],[\"R7\",\"WS\",84,null],[\"R7\",\"WS\",84,null],[\"R7\",\"WS\",84,null],[\"R7\",\"WS\",84,null],[\"R7\",\"WS\",84,null],[\"R7\",\"WS\",84,null],[\"R7\",\"WS\",84,null],[\"R7\",\"WS\",84,null],[\"R7\",\"WS\",84,null],[\"R7\",\"WS\",84,null],[\"R7\",\"WS\",84,null],[\"R7\",\"WS\",84,null],[\"R7\",\"WS\",84,null],[\"R7\",\"WS\",84,null],[\"R7\",\"WS\",84,null],[\"R7\",\"WS\",84,null],[\"R7\",\"WS\",84,null],[\"R7\",\"WS\",84,null],[\"R7\",\"WS\",84,null],[\"R7\",\"WS\",84,null],[\"R7\",\"WS\",84,null],[\"R7\",\"WS\",84,null],[\"R7\",\"WS\",84,null],[\"R7\",\"WS\",84,null],[\"R7\",\"WS\",84,null],[\"R7\",\"WS\",84,null],[\"R7\",\"WS\",84,null],[\"R7\",\"WS\",84,null],[\"R7\",\"WS\",84,null],[\"R7\",\"WS\",84,null],[\"R7\",\"WS\",84,null],[\"R7\",\"WS\",84,null],[\"R7\",\"WS\",84,null],[\"R7\",\"WS\",84,null],[\"R7\",\"WS\",84,null],[\"R7\",\"WS\",84,null],[\"R7\",\"WS\",84,null],[\"R7\",\"WS\",84,null],[\"R7\",\"WS\",84,null],[\"R7\",\"WS\",84,null],[\"R7\",\"WS\",84,null],[\"R7\",\"WS\",84,null],[\"R7\",\"WS\",84,null],[\"R7\",\"WS\",84,null],[\"R7\",\"WS\",84,null],[\"R7\",\"WS\",84,null],[\"R7\",\"WS\",84,null]],\"hovertemplate\":\"RouteId=%{customdata[0]}<br>RateDate=%{x}<br>RateValue=%{y}<br>Unit=%{customdata[1]}<br>VesselClassId=%{customdata[2]}<br>DeprecatedTo=%{customdata[3]}<extra></extra>\",\"legendgroup\":\"R7\",\"line\":{\"color\":\"#636efa\",\"dash\":\"solid\"},\"marker\":{\"symbol\":\"circle\"},\"mode\":\"lines\",\"name\":\"R7\",\"orientation\":\"v\",\"showlegend\":true,\"x\":[\"2020-10-01\",\"2020-10-02\",\"2020-10-03\",\"2020-10-04\",\"2020-10-05\",\"2020-10-06\",\"2020-10-07\",\"2020-10-08\",\"2020-10-09\",\"2020-10-10\",\"2020-10-11\",\"2020-10-12\",\"2020-10-13\",\"2020-10-14\",\"2020-10-15\",\"2020-10-16\",\"2020-10-17\",\"2020-10-18\",\"2020-10-19\",\"2020-10-20\",\"2020-10-21\",\"2020-10-22\",\"2020-10-23\",\"2020-10-24\",\"2020-10-25\",\"2020-10-26\",\"2020-10-27\",\"2020-10-28\",\"2020-10-29\",\"2020-10-30\",\"2020-10-31\",\"2020-11-01\",\"2020-11-02\",\"2020-11-03\",\"2020-11-04\",\"2020-11-05\",\"2020-11-06\",\"2020-11-07\",\"2020-11-08\",\"2020-11-09\",\"2020-11-10\",\"2020-11-11\",\"2020-11-12\",\"2020-11-13\",\"2020-11-14\",\"2020-11-15\",\"2020-11-16\",\"2020-11-17\",\"2020-11-18\",\"2020-11-19\",\"2020-11-20\",\"2020-11-21\",\"2020-11-22\",\"2020-11-23\",\"2020-11-24\",\"2020-11-25\",\"2020-11-26\",\"2020-11-27\",\"2020-11-28\",\"2020-11-29\",\"2020-11-30\",\"2020-12-01\",\"2020-12-02\",\"2020-12-03\",\"2020-12-04\",\"2020-12-05\",\"2020-12-06\",\"2020-12-07\",\"2020-12-08\",\"2020-12-09\",\"2020-12-10\",\"2020-12-11\",\"2020-12-12\",\"2020-12-13\",\"2020-12-14\",\"2020-12-15\",\"2020-12-16\",\"2020-12-17\",\"2020-12-18\",\"2020-12-19\",\"2020-12-20\",\"2020-12-21\",\"2020-12-22\",\"2020-12-23\",\"2020-12-24\",\"2020-12-25\",\"2020-12-26\",\"2020-12-27\",\"2020-12-28\",\"2020-12-29\",\"2020-12-30\",\"2020-12-31\"],\"xaxis\":\"x\",\"y\":[17.5,17.5,17.5,17.5,17.5,17.5,17.5,17.0,17.0,17.0,17.0,17.0,17.0,18.0,18.0,18.0,18.0,18.0,18.0,18.0,18.0,17.5,17.5,17.5,17.5,15.5,15.5,15.5,15.5,15.5,15.5,15.5,15.0,15.0,15.0,15.0,15.0,15.0,15.0,15.0,15.0,15.0,15.0,15.0,15.0,15.0,15.0,15.0,15.0,15.0,15.0,15.0,15.0,15.0,15.0,15.0,15.5,15.5,15.5,15.5,15.5,16.5,16.5,16.5,16.5,16.5,16.5,16.5,17.0,17.5,17.5,17.5,17.5,17.5,17.5,17.5,17.5,17.5,17.5,17.5,17.5,18.5,18.5,18.5,18.5,18.5,18.5,18.5,18.5,18.5,18.5,18.5],\"yaxis\":\"y\",\"type\":\"scatter\"},{\"customdata\":[[\"R6\",\"WS\",84,null],[\"R6\",\"WS\",84,null],[\"R6\",\"WS\",84,null],[\"R6\",\"WS\",84,null],[\"R6\",\"WS\",84,null],[\"R6\",\"WS\",84,null],[\"R6\",\"WS\",84,null],[\"R6\",\"WS\",84,null],[\"R6\",\"WS\",84,null],[\"R6\",\"WS\",84,null],[\"R6\",\"WS\",84,null],[\"R6\",\"WS\",84,null],[\"R6\",\"WS\",84,null],[\"R6\",\"WS\",84,null],[\"R6\",\"WS\",84,null],[\"R6\",\"WS\",84,null],[\"R6\",\"WS\",84,null],[\"R6\",\"WS\",84,null],[\"R6\",\"WS\",84,null],[\"R6\",\"WS\",84,null],[\"R6\",\"WS\",84,null],[\"R6\",\"WS\",84,null],[\"R6\",\"WS\",84,null],[\"R6\",\"WS\",84,null],[\"R6\",\"WS\",84,null],[\"R6\",\"WS\",84,null],[\"R6\",\"WS\",84,null],[\"R6\",\"WS\",84,null],[\"R6\",\"WS\",84,null],[\"R6\",\"WS\",84,null],[\"R6\",\"WS\",84,null],[\"R6\",\"WS\",84,null],[\"R6\",\"WS\",84,null],[\"R6\",\"WS\",84,null],[\"R6\",\"WS\",84,null],[\"R6\",\"WS\",84,null],[\"R6\",\"WS\",84,null],[\"R6\",\"WS\",84,null],[\"R6\",\"WS\",84,null],[\"R6\",\"WS\",84,null],[\"R6\",\"WS\",84,null],[\"R6\",\"WS\",84,null],[\"R6\",\"WS\",84,null],[\"R6\",\"WS\",84,null],[\"R6\",\"WS\",84,null],[\"R6\",\"WS\",84,null],[\"R6\",\"WS\",84,null],[\"R6\",\"WS\",84,null],[\"R6\",\"WS\",84,null],[\"R6\",\"WS\",84,null],[\"R6\",\"WS\",84,null],[\"R6\",\"WS\",84,null],[\"R6\",\"WS\",84,null],[\"R6\",\"WS\",84,null],[\"R6\",\"WS\",84,null],[\"R6\",\"WS\",84,null],[\"R6\",\"WS\",84,null],[\"R6\",\"WS\",84,null],[\"R6\",\"WS\",84,null],[\"R6\",\"WS\",84,null],[\"R6\",\"WS\",84,null],[\"R6\",\"WS\",84,null],[\"R6\",\"WS\",84,null],[\"R6\",\"WS\",84,null],[\"R6\",\"WS\",84,null],[\"R6\",\"WS\",84,null],[\"R6\",\"WS\",84,null],[\"R6\",\"WS\",84,null],[\"R6\",\"WS\",84,null],[\"R6\",\"WS\",84,null],[\"R6\",\"WS\",84,null],[\"R6\",\"WS\",84,null],[\"R6\",\"WS\",84,null],[\"R6\",\"WS\",84,null],[\"R6\",\"WS\",84,null],[\"R6\",\"WS\",84,null],[\"R6\",\"WS\",84,null],[\"R6\",\"WS\",84,null],[\"R6\",\"WS\",84,null],[\"R6\",\"WS\",84,null],[\"R6\",\"WS\",84,null],[\"R6\",\"WS\",84,null],[\"R6\",\"WS\",84,null],[\"R6\",\"WS\",84,null],[\"R6\",\"WS\",84,null],[\"R6\",\"WS\",84,null],[\"R6\",\"WS\",84,null],[\"R6\",\"WS\",84,null],[\"R6\",\"WS\",84,null],[\"R6\",\"WS\",84,null],[\"R6\",\"WS\",84,null],[\"R6\",\"WS\",84,null]],\"hovertemplate\":\"RouteId=%{customdata[0]}<br>RateDate=%{x}<br>RateValue=%{y}<br>Unit=%{customdata[1]}<br>VesselClassId=%{customdata[2]}<br>DeprecatedTo=%{customdata[3]}<extra></extra>\",\"legendgroup\":\"R6\",\"line\":{\"color\":\"#EF553B\",\"dash\":\"solid\"},\"marker\":{\"symbol\":\"circle\"},\"mode\":\"lines\",\"name\":\"R6\",\"orientation\":\"v\",\"showlegend\":true,\"x\":[\"2020-10-01\",\"2020-10-02\",\"2020-10-03\",\"2020-10-04\",\"2020-10-05\",\"2020-10-06\",\"2020-10-07\",\"2020-10-08\",\"2020-10-09\",\"2020-10-10\",\"2020-10-11\",\"2020-10-12\",\"2020-10-13\",\"2020-10-14\",\"2020-10-15\",\"2020-10-16\",\"2020-10-17\",\"2020-10-18\",\"2020-10-19\",\"2020-10-20\",\"2020-10-21\",\"2020-10-22\",\"2020-10-23\",\"2020-10-24\",\"2020-10-25\",\"2020-10-26\",\"2020-10-27\",\"2020-10-28\",\"2020-10-29\",\"2020-10-30\",\"2020-10-31\",\"2020-11-01\",\"2020-11-02\",\"2020-11-03\",\"2020-11-04\",\"2020-11-05\",\"2020-11-06\",\"2020-11-07\",\"2020-11-08\",\"2020-11-09\",\"2020-11-10\",\"2020-11-11\",\"2020-11-12\",\"2020-11-13\",\"2020-11-14\",\"2020-11-15\",\"2020-11-16\",\"2020-11-17\",\"2020-11-18\",\"2020-11-19\",\"2020-11-20\",\"2020-11-21\",\"2020-11-22\",\"2020-11-23\",\"2020-11-24\",\"2020-11-25\",\"2020-11-26\",\"2020-11-27\",\"2020-11-28\",\"2020-11-29\",\"2020-11-30\",\"2020-12-01\",\"2020-12-02\",\"2020-12-03\",\"2020-12-04\",\"2020-12-05\",\"2020-12-06\",\"2020-12-07\",\"2020-12-08\",\"2020-12-09\",\"2020-12-10\",\"2020-12-11\",\"2020-12-12\",\"2020-12-13\",\"2020-12-14\",\"2020-12-15\",\"2020-12-16\",\"2020-12-17\",\"2020-12-18\",\"2020-12-19\",\"2020-12-20\",\"2020-12-21\",\"2020-12-22\",\"2020-12-23\",\"2020-12-24\",\"2020-12-25\",\"2020-12-26\",\"2020-12-27\",\"2020-12-28\",\"2020-12-29\",\"2020-12-30\",\"2020-12-31\"],\"xaxis\":\"x\",\"y\":[27.5,27.5,27.5,27.5,27.5,27.5,27.5,27.0,27.0,27.0,27.0,27.0,27.0,30.0,30.0,30.0,30.0,30.0,30.0,30.0,30.0,30.0,30.0,30.0,30.0,30.0,30.0,30.0,30.0,30.0,30.0,30.0,26.5,26.5,26.5,27.0,27.0,27.0,27.0,27.0,27.0,26.0,26.0,26.5,26.5,26.5,26.5,26.5,26.5,26.5,26.5,26.5,26.5,26.5,26.5,26.5,28.5,29.0,29.0,29.0,29.0,30.0,30.0,30.0,30.0,30.0,30.0,30.0,33.5,35.0,35.0,34.5,34.5,34.5,34.5,34.5,34.5,34.5,34.5,34.5,34.5,38.0,38.0,38.0,38.0,38.0,38.0,38.0,38.0,38.0,38.0,38.0],\"yaxis\":\"y\",\"type\":\"scatter\"},{\"customdata\":[[\"R8\",\"WS\",84,null],[\"R8\",\"WS\",84,null],[\"R8\",\"WS\",84,null],[\"R8\",\"WS\",84,null],[\"R8\",\"WS\",84,null],[\"R8\",\"WS\",84,null],[\"R8\",\"WS\",84,null],[\"R8\",\"WS\",84,null],[\"R8\",\"WS\",84,null],[\"R8\",\"WS\",84,null],[\"R8\",\"WS\",84,null],[\"R8\",\"WS\",84,null],[\"R8\",\"WS\",84,null],[\"R8\",\"WS\",84,null],[\"R8\",\"WS\",84,null],[\"R8\",\"WS\",84,null],[\"R8\",\"WS\",84,null],[\"R8\",\"WS\",84,null],[\"R8\",\"WS\",84,null],[\"R8\",\"WS\",84,null],[\"R8\",\"WS\",84,null],[\"R8\",\"WS\",84,null],[\"R8\",\"WS\",84,null],[\"R8\",\"WS\",84,null],[\"R8\",\"WS\",84,null],[\"R8\",\"WS\",84,null],[\"R8\",\"WS\",84,null],[\"R8\",\"WS\",84,null],[\"R8\",\"WS\",84,null],[\"R8\",\"WS\",84,null],[\"R8\",\"WS\",84,null],[\"R8\",\"WS\",84,null],[\"R8\",\"WS\",84,null],[\"R8\",\"WS\",84,null],[\"R8\",\"WS\",84,null],[\"R8\",\"WS\",84,null],[\"R8\",\"WS\",84,null],[\"R8\",\"WS\",84,null],[\"R8\",\"WS\",84,null],[\"R8\",\"WS\",84,null],[\"R8\",\"WS\",84,null],[\"R8\",\"WS\",84,null],[\"R8\",\"WS\",84,null],[\"R8\",\"WS\",84,null],[\"R8\",\"WS\",84,null],[\"R8\",\"WS\",84,null],[\"R8\",\"WS\",84,null],[\"R8\",\"WS\",84,null],[\"R8\",\"WS\",84,null],[\"R8\",\"WS\",84,null],[\"R8\",\"WS\",84,null],[\"R8\",\"WS\",84,null],[\"R8\",\"WS\",84,null],[\"R8\",\"WS\",84,null],[\"R8\",\"WS\",84,null],[\"R8\",\"WS\",84,null],[\"R8\",\"WS\",84,null],[\"R8\",\"WS\",84,null],[\"R8\",\"WS\",84,null],[\"R8\",\"WS\",84,null],[\"R8\",\"WS\",84,null],[\"R8\",\"WS\",84,null],[\"R8\",\"WS\",84,null],[\"R8\",\"WS\",84,null],[\"R8\",\"WS\",84,null],[\"R8\",\"WS\",84,null],[\"R8\",\"WS\",84,null],[\"R8\",\"WS\",84,null],[\"R8\",\"WS\",84,null],[\"R8\",\"WS\",84,null],[\"R8\",\"WS\",84,null],[\"R8\",\"WS\",84,null],[\"R8\",\"WS\",84,null],[\"R8\",\"WS\",84,null],[\"R8\",\"WS\",84,null],[\"R8\",\"WS\",84,null],[\"R8\",\"WS\",84,null],[\"R8\",\"WS\",84,null],[\"R8\",\"WS\",84,null],[\"R8\",\"WS\",84,null],[\"R8\",\"WS\",84,null],[\"R8\",\"WS\",84,null],[\"R8\",\"WS\",84,null],[\"R8\",\"WS\",84,null],[\"R8\",\"WS\",84,null],[\"R8\",\"WS\",84,null],[\"R8\",\"WS\",84,null],[\"R8\",\"WS\",84,null],[\"R8\",\"WS\",84,null],[\"R8\",\"WS\",84,null],[\"R8\",\"WS\",84,null],[\"R8\",\"WS\",84,null]],\"hovertemplate\":\"RouteId=%{customdata[0]}<br>RateDate=%{x}<br>RateValue=%{y}<br>Unit=%{customdata[1]}<br>VesselClassId=%{customdata[2]}<br>DeprecatedTo=%{customdata[3]}<extra></extra>\",\"legendgroup\":\"R8\",\"line\":{\"color\":\"#00cc96\",\"dash\":\"solid\"},\"marker\":{\"symbol\":\"circle\"},\"mode\":\"lines\",\"name\":\"R8\",\"orientation\":\"v\",\"showlegend\":true,\"x\":[\"2020-10-01\",\"2020-10-02\",\"2020-10-03\",\"2020-10-04\",\"2020-10-05\",\"2020-10-06\",\"2020-10-07\",\"2020-10-08\",\"2020-10-09\",\"2020-10-10\",\"2020-10-11\",\"2020-10-12\",\"2020-10-13\",\"2020-10-14\",\"2020-10-15\",\"2020-10-16\",\"2020-10-17\",\"2020-10-18\",\"2020-10-19\",\"2020-10-20\",\"2020-10-21\",\"2020-10-22\",\"2020-10-23\",\"2020-10-24\",\"2020-10-25\",\"2020-10-26\",\"2020-10-27\",\"2020-10-28\",\"2020-10-29\",\"2020-10-30\",\"2020-10-31\",\"2020-11-01\",\"2020-11-02\",\"2020-11-03\",\"2020-11-04\",\"2020-11-05\",\"2020-11-06\",\"2020-11-07\",\"2020-11-08\",\"2020-11-09\",\"2020-11-10\",\"2020-11-11\",\"2020-11-12\",\"2020-11-13\",\"2020-11-14\",\"2020-11-15\",\"2020-11-16\",\"2020-11-17\",\"2020-11-18\",\"2020-11-19\",\"2020-11-20\",\"2020-11-21\",\"2020-11-22\",\"2020-11-23\",\"2020-11-24\",\"2020-11-25\",\"2020-11-26\",\"2020-11-27\",\"2020-11-28\",\"2020-11-29\",\"2020-11-30\",\"2020-12-01\",\"2020-12-02\",\"2020-12-03\",\"2020-12-04\",\"2020-12-05\",\"2020-12-06\",\"2020-12-07\",\"2020-12-08\",\"2020-12-09\",\"2020-12-10\",\"2020-12-11\",\"2020-12-12\",\"2020-12-13\",\"2020-12-14\",\"2020-12-15\",\"2020-12-16\",\"2020-12-17\",\"2020-12-18\",\"2020-12-19\",\"2020-12-20\",\"2020-12-21\",\"2020-12-22\",\"2020-12-23\",\"2020-12-24\",\"2020-12-25\",\"2020-12-26\",\"2020-12-27\",\"2020-12-28\",\"2020-12-29\",\"2020-12-30\",\"2020-12-31\"],\"xaxis\":\"x\",\"y\":[32.0,32.0,32.0,32.0,32.0,31.0,30.5,30.5,30.5,30.5,30.5,30.5,30.5,30.5,30.5,30.5,30.5,30.5,30.5,30.0,31.0,31.0,31.0,31.0,31.0,30.0,30.0,29.0,28.5,28.5,28.5,28.5,28.5,28.5,28.5,28.5,28.5,28.5,28.5,29.0,29.0,29.0,29.0,29.0,29.0,29.0,29.5,29.5,29.5,29.5,29.5,29.5,29.5,29.5,29.5,29.0,29.5,29.5,29.5,29.5,33.0,33.0,33.0,34.0,34.0,34.0,34.0,37.0,37.0,36.5,36.5,35.5,35.5,35.5,34.5,34.5,34.0,34.0,35.0,35.0,35.0,35.0,37.5,37.5,37.5,37.5,37.5,37.5,37.5,37.5,37.5,37.5],\"yaxis\":\"y\",\"type\":\"scatter\"},{\"customdata\":[[\"R5\",\"WS\",84,null],[\"R5\",\"WS\",84,null],[\"R5\",\"WS\",84,null],[\"R5\",\"WS\",84,null],[\"R5\",\"WS\",84,null],[\"R5\",\"WS\",84,null],[\"R5\",\"WS\",84,null],[\"R5\",\"WS\",84,null],[\"R5\",\"WS\",84,null],[\"R5\",\"WS\",84,null],[\"R5\",\"WS\",84,null],[\"R5\",\"WS\",84,null],[\"R5\",\"WS\",84,null],[\"R5\",\"WS\",84,null],[\"R5\",\"WS\",84,null],[\"R5\",\"WS\",84,null],[\"R5\",\"WS\",84,null],[\"R5\",\"WS\",84,null],[\"R5\",\"WS\",84,null],[\"R5\",\"WS\",84,null],[\"R5\",\"WS\",84,null],[\"R5\",\"WS\",84,null],[\"R5\",\"WS\",84,null],[\"R5\",\"WS\",84,null],[\"R5\",\"WS\",84,null],[\"R5\",\"WS\",84,null],[\"R5\",\"WS\",84,null],[\"R5\",\"WS\",84,null],[\"R5\",\"WS\",84,null],[\"R5\",\"WS\",84,null],[\"R5\",\"WS\",84,null],[\"R5\",\"WS\",84,null],[\"R5\",\"WS\",84,null],[\"R5\",\"WS\",84,null],[\"R5\",\"WS\",84,null],[\"R5\",\"WS\",84,null],[\"R5\",\"WS\",84,null],[\"R5\",\"WS\",84,null],[\"R5\",\"WS\",84,null],[\"R5\",\"WS\",84,null],[\"R5\",\"WS\",84,null],[\"R5\",\"WS\",84,null],[\"R5\",\"WS\",84,null],[\"R5\",\"WS\",84,null],[\"R5\",\"WS\",84,null],[\"R5\",\"WS\",84,null],[\"R5\",\"WS\",84,null],[\"R5\",\"WS\",84,null],[\"R5\",\"WS\",84,null],[\"R5\",\"WS\",84,null],[\"R5\",\"WS\",84,null],[\"R5\",\"WS\",84,null],[\"R5\",\"WS\",84,null],[\"R5\",\"WS\",84,null],[\"R5\",\"WS\",84,null],[\"R5\",\"WS\",84,null],[\"R5\",\"WS\",84,null],[\"R5\",\"WS\",84,null],[\"R5\",\"WS\",84,null],[\"R5\",\"WS\",84,null],[\"R5\",\"WS\",84,null],[\"R5\",\"WS\",84,null],[\"R5\",\"WS\",84,null],[\"R5\",\"WS\",84,null],[\"R5\",\"WS\",84,null],[\"R5\",\"WS\",84,null],[\"R5\",\"WS\",84,null],[\"R5\",\"WS\",84,null],[\"R5\",\"WS\",84,null],[\"R5\",\"WS\",84,null],[\"R5\",\"WS\",84,null],[\"R5\",\"WS\",84,null],[\"R5\",\"WS\",84,null],[\"R5\",\"WS\",84,null],[\"R5\",\"WS\",84,null],[\"R5\",\"WS\",84,null],[\"R5\",\"WS\",84,null],[\"R5\",\"WS\",84,null],[\"R5\",\"WS\",84,null],[\"R5\",\"WS\",84,null],[\"R5\",\"WS\",84,null],[\"R5\",\"WS\",84,null],[\"R5\",\"WS\",84,null],[\"R5\",\"WS\",84,null],[\"R5\",\"WS\",84,null],[\"R5\",\"WS\",84,null],[\"R5\",\"WS\",84,null],[\"R5\",\"WS\",84,null],[\"R5\",\"WS\",84,null],[\"R5\",\"WS\",84,null],[\"R5\",\"WS\",84,null],[\"R5\",\"WS\",84,null]],\"hovertemplate\":\"RouteId=%{customdata[0]}<br>RateDate=%{x}<br>RateValue=%{y}<br>Unit=%{customdata[1]}<br>VesselClassId=%{customdata[2]}<br>DeprecatedTo=%{customdata[3]}<extra></extra>\",\"legendgroup\":\"R5\",\"line\":{\"color\":\"#ab63fa\",\"dash\":\"solid\"},\"marker\":{\"symbol\":\"circle\"},\"mode\":\"lines\",\"name\":\"R5\",\"orientation\":\"v\",\"showlegend\":true,\"x\":[\"2020-10-01\",\"2020-10-02\",\"2020-10-03\",\"2020-10-04\",\"2020-10-05\",\"2020-10-06\",\"2020-10-07\",\"2020-10-08\",\"2020-10-09\",\"2020-10-10\",\"2020-10-11\",\"2020-10-12\",\"2020-10-13\",\"2020-10-14\",\"2020-10-15\",\"2020-10-16\",\"2020-10-17\",\"2020-10-18\",\"2020-10-19\",\"2020-10-20\",\"2020-10-21\",\"2020-10-22\",\"2020-10-23\",\"2020-10-24\",\"2020-10-25\",\"2020-10-26\",\"2020-10-27\",\"2020-10-28\",\"2020-10-29\",\"2020-10-30\",\"2020-10-31\",\"2020-11-01\",\"2020-11-02\",\"2020-11-03\",\"2020-11-04\",\"2020-11-05\",\"2020-11-06\",\"2020-11-07\",\"2020-11-08\",\"2020-11-09\",\"2020-11-10\",\"2020-11-11\",\"2020-11-12\",\"2020-11-13\",\"2020-11-14\",\"2020-11-15\",\"2020-11-16\",\"2020-11-17\",\"2020-11-18\",\"2020-11-19\",\"2020-11-20\",\"2020-11-21\",\"2020-11-22\",\"2020-11-23\",\"2020-11-24\",\"2020-11-25\",\"2020-11-26\",\"2020-11-27\",\"2020-11-28\",\"2020-11-29\",\"2020-11-30\",\"2020-12-01\",\"2020-12-02\",\"2020-12-03\",\"2020-12-04\",\"2020-12-05\",\"2020-12-06\",\"2020-12-07\",\"2020-12-08\",\"2020-12-09\",\"2020-12-10\",\"2020-12-11\",\"2020-12-12\",\"2020-12-13\",\"2020-12-14\",\"2020-12-15\",\"2020-12-16\",\"2020-12-17\",\"2020-12-18\",\"2020-12-19\",\"2020-12-20\",\"2020-12-21\",\"2020-12-22\",\"2020-12-23\",\"2020-12-24\",\"2020-12-25\",\"2020-12-26\",\"2020-12-27\",\"2020-12-28\",\"2020-12-29\",\"2020-12-30\",\"2020-12-31\"],\"xaxis\":\"x\",\"y\":[26.5,26.5,26.5,26.5,26.5,26.5,26.5,26.5,26.5,26.5,26.5,26.5,26.5,29.0,29.0,29.0,29.0,29.0,29.0,29.0,29.0,29.0,29.0,29.0,29.0,29.0,29.0,29.0,29.0,29.0,29.0,29.0,25.5,25.5,25.5,26.0,26.0,26.0,26.0,26.0,26.0,25.5,25.5,26.0,26.0,26.0,26.0,26.0,26.0,26.0,26.0,26.0,26.0,26.0,26.0,26.0,28.0,28.5,28.5,28.5,28.5,29.5,29.5,29.5,29.5,29.5,29.5,29.5,33.0,34.5,34.5,34.0,34.0,34.0,34.0,34.0,34.0,34.0,34.0,34.0,34.0,37.5,37.5,37.5,37.5,37.5,37.5,37.5,37.5,37.5,37.5,37.5],\"yaxis\":\"y\",\"type\":\"scatter\"}],                        {\"template\":{\"data\":{\"histogram2dcontour\":[{\"type\":\"histogram2dcontour\",\"colorbar\":{\"outlinewidth\":0,\"ticks\":\"\"},\"colorscale\":[[0.0,\"#0d0887\"],[0.1111111111111111,\"#46039f\"],[0.2222222222222222,\"#7201a8\"],[0.3333333333333333,\"#9c179e\"],[0.4444444444444444,\"#bd3786\"],[0.5555555555555556,\"#d8576b\"],[0.6666666666666666,\"#ed7953\"],[0.7777777777777778,\"#fb9f3a\"],[0.8888888888888888,\"#fdca26\"],[1.0,\"#f0f921\"]]}],\"choropleth\":[{\"type\":\"choropleth\",\"colorbar\":{\"outlinewidth\":0,\"ticks\":\"\"}}],\"histogram2d\":[{\"type\":\"histogram2d\",\"colorbar\":{\"outlinewidth\":0,\"ticks\":\"\"},\"colorscale\":[[0.0,\"#0d0887\"],[0.1111111111111111,\"#46039f\"],[0.2222222222222222,\"#7201a8\"],[0.3333333333333333,\"#9c179e\"],[0.4444444444444444,\"#bd3786\"],[0.5555555555555556,\"#d8576b\"],[0.6666666666666666,\"#ed7953\"],[0.7777777777777778,\"#fb9f3a\"],[0.8888888888888888,\"#fdca26\"],[1.0,\"#f0f921\"]]}],\"heatmap\":[{\"type\":\"heatmap\",\"colorbar\":{\"outlinewidth\":0,\"ticks\":\"\"},\"colorscale\":[[0.0,\"#0d0887\"],[0.1111111111111111,\"#46039f\"],[0.2222222222222222,\"#7201a8\"],[0.3333333333333333,\"#9c179e\"],[0.4444444444444444,\"#bd3786\"],[0.5555555555555556,\"#d8576b\"],[0.6666666666666666,\"#ed7953\"],[0.7777777777777778,\"#fb9f3a\"],[0.8888888888888888,\"#fdca26\"],[1.0,\"#f0f921\"]]}],\"heatmapgl\":[{\"type\":\"heatmapgl\",\"colorbar\":{\"outlinewidth\":0,\"ticks\":\"\"},\"colorscale\":[[0.0,\"#0d0887\"],[0.1111111111111111,\"#46039f\"],[0.2222222222222222,\"#7201a8\"],[0.3333333333333333,\"#9c179e\"],[0.4444444444444444,\"#bd3786\"],[0.5555555555555556,\"#d8576b\"],[0.6666666666666666,\"#ed7953\"],[0.7777777777777778,\"#fb9f3a\"],[0.8888888888888888,\"#fdca26\"],[1.0,\"#f0f921\"]]}],\"contourcarpet\":[{\"type\":\"contourcarpet\",\"colorbar\":{\"outlinewidth\":0,\"ticks\":\"\"}}],\"contour\":[{\"type\":\"contour\",\"colorbar\":{\"outlinewidth\":0,\"ticks\":\"\"},\"colorscale\":[[0.0,\"#0d0887\"],[0.1111111111111111,\"#46039f\"],[0.2222222222222222,\"#7201a8\"],[0.3333333333333333,\"#9c179e\"],[0.4444444444444444,\"#bd3786\"],[0.5555555555555556,\"#d8576b\"],[0.6666666666666666,\"#ed7953\"],[0.7777777777777778,\"#fb9f3a\"],[0.8888888888888888,\"#fdca26\"],[1.0,\"#f0f921\"]]}],\"surface\":[{\"type\":\"surface\",\"colorbar\":{\"outlinewidth\":0,\"ticks\":\"\"},\"colorscale\":[[0.0,\"#0d0887\"],[0.1111111111111111,\"#46039f\"],[0.2222222222222222,\"#7201a8\"],[0.3333333333333333,\"#9c179e\"],[0.4444444444444444,\"#bd3786\"],[0.5555555555555556,\"#d8576b\"],[0.6666666666666666,\"#ed7953\"],[0.7777777777777778,\"#fb9f3a\"],[0.8888888888888888,\"#fdca26\"],[1.0,\"#f0f921\"]]}],\"mesh3d\":[{\"type\":\"mesh3d\",\"colorbar\":{\"outlinewidth\":0,\"ticks\":\"\"}}],\"scatter\":[{\"fillpattern\":{\"fillmode\":\"overlay\",\"size\":10,\"solidity\":0.2},\"type\":\"scatter\"}],\"parcoords\":[{\"type\":\"parcoords\",\"line\":{\"colorbar\":{\"outlinewidth\":0,\"ticks\":\"\"}}}],\"scatterpolargl\":[{\"type\":\"scatterpolargl\",\"marker\":{\"colorbar\":{\"outlinewidth\":0,\"ticks\":\"\"}}}],\"bar\":[{\"error_x\":{\"color\":\"#2a3f5f\"},\"error_y\":{\"color\":\"#2a3f5f\"},\"marker\":{\"line\":{\"color\":\"#E5ECF6\",\"width\":0.5},\"pattern\":{\"fillmode\":\"overlay\",\"size\":10,\"solidity\":0.2}},\"type\":\"bar\"}],\"scattergeo\":[{\"type\":\"scattergeo\",\"marker\":{\"colorbar\":{\"outlinewidth\":0,\"ticks\":\"\"}}}],\"scatterpolar\":[{\"type\":\"scatterpolar\",\"marker\":{\"colorbar\":{\"outlinewidth\":0,\"ticks\":\"\"}}}],\"histogram\":[{\"marker\":{\"pattern\":{\"fillmode\":\"overlay\",\"size\":10,\"solidity\":0.2}},\"type\":\"histogram\"}],\"scattergl\":[{\"type\":\"scattergl\",\"marker\":{\"colorbar\":{\"outlinewidth\":0,\"ticks\":\"\"}}}],\"scatter3d\":[{\"type\":\"scatter3d\",\"line\":{\"colorbar\":{\"outlinewidth\":0,\"ticks\":\"\"}},\"marker\":{\"colorbar\":{\"outlinewidth\":0,\"ticks\":\"\"}}}],\"scattermapbox\":[{\"type\":\"scattermapbox\",\"marker\":{\"colorbar\":{\"outlinewidth\":0,\"ticks\":\"\"}}}],\"scatterternary\":[{\"type\":\"scatterternary\",\"marker\":{\"colorbar\":{\"outlinewidth\":0,\"ticks\":\"\"}}}],\"scattercarpet\":[{\"type\":\"scattercarpet\",\"marker\":{\"colorbar\":{\"outlinewidth\":0,\"ticks\":\"\"}}}],\"carpet\":[{\"aaxis\":{\"endlinecolor\":\"#2a3f5f\",\"gridcolor\":\"white\",\"linecolor\":\"white\",\"minorgridcolor\":\"white\",\"startlinecolor\":\"#2a3f5f\"},\"baxis\":{\"endlinecolor\":\"#2a3f5f\",\"gridcolor\":\"white\",\"linecolor\":\"white\",\"minorgridcolor\":\"white\",\"startlinecolor\":\"#2a3f5f\"},\"type\":\"carpet\"}],\"table\":[{\"cells\":{\"fill\":{\"color\":\"#EBF0F8\"},\"line\":{\"color\":\"white\"}},\"header\":{\"fill\":{\"color\":\"#C8D4E3\"},\"line\":{\"color\":\"white\"}},\"type\":\"table\"}],\"barpolar\":[{\"marker\":{\"line\":{\"color\":\"#E5ECF6\",\"width\":0.5},\"pattern\":{\"fillmode\":\"overlay\",\"size\":10,\"solidity\":0.2}},\"type\":\"barpolar\"}],\"pie\":[{\"automargin\":true,\"type\":\"pie\"}]},\"layout\":{\"autotypenumbers\":\"strict\",\"colorway\":[\"#636efa\",\"#EF553B\",\"#00cc96\",\"#ab63fa\",\"#FFA15A\",\"#19d3f3\",\"#FF6692\",\"#B6E880\",\"#FF97FF\",\"#FECB52\"],\"font\":{\"color\":\"#2a3f5f\"},\"hovermode\":\"closest\",\"hoverlabel\":{\"align\":\"left\"},\"paper_bgcolor\":\"white\",\"plot_bgcolor\":\"#E5ECF6\",\"polar\":{\"bgcolor\":\"#E5ECF6\",\"angularaxis\":{\"gridcolor\":\"white\",\"linecolor\":\"white\",\"ticks\":\"\"},\"radialaxis\":{\"gridcolor\":\"white\",\"linecolor\":\"white\",\"ticks\":\"\"}},\"ternary\":{\"bgcolor\":\"#E5ECF6\",\"aaxis\":{\"gridcolor\":\"white\",\"linecolor\":\"white\",\"ticks\":\"\"},\"baxis\":{\"gridcolor\":\"white\",\"linecolor\":\"white\",\"ticks\":\"\"},\"caxis\":{\"gridcolor\":\"white\",\"linecolor\":\"white\",\"ticks\":\"\"}},\"coloraxis\":{\"colorbar\":{\"outlinewidth\":0,\"ticks\":\"\"}},\"colorscale\":{\"sequential\":[[0.0,\"#0d0887\"],[0.1111111111111111,\"#46039f\"],[0.2222222222222222,\"#7201a8\"],[0.3333333333333333,\"#9c179e\"],[0.4444444444444444,\"#bd3786\"],[0.5555555555555556,\"#d8576b\"],[0.6666666666666666,\"#ed7953\"],[0.7777777777777778,\"#fb9f3a\"],[0.8888888888888888,\"#fdca26\"],[1.0,\"#f0f921\"]],\"sequentialminus\":[[0.0,\"#0d0887\"],[0.1111111111111111,\"#46039f\"],[0.2222222222222222,\"#7201a8\"],[0.3333333333333333,\"#9c179e\"],[0.4444444444444444,\"#bd3786\"],[0.5555555555555556,\"#d8576b\"],[0.6666666666666666,\"#ed7953\"],[0.7777777777777778,\"#fb9f3a\"],[0.8888888888888888,\"#fdca26\"],[1.0,\"#f0f921\"]],\"diverging\":[[0,\"#8e0152\"],[0.1,\"#c51b7d\"],[0.2,\"#de77ae\"],[0.3,\"#f1b6da\"],[0.4,\"#fde0ef\"],[0.5,\"#f7f7f7\"],[0.6,\"#e6f5d0\"],[0.7,\"#b8e186\"],[0.8,\"#7fbc41\"],[0.9,\"#4d9221\"],[1,\"#276419\"]]},\"xaxis\":{\"gridcolor\":\"white\",\"linecolor\":\"white\",\"ticks\":\"\",\"title\":{\"standoff\":15},\"zerolinecolor\":\"white\",\"automargin\":true,\"zerolinewidth\":2},\"yaxis\":{\"gridcolor\":\"white\",\"linecolor\":\"white\",\"ticks\":\"\",\"title\":{\"standoff\":15},\"zerolinecolor\":\"white\",\"automargin\":true,\"zerolinewidth\":2},\"scene\":{\"xaxis\":{\"backgroundcolor\":\"#E5ECF6\",\"gridcolor\":\"white\",\"linecolor\":\"white\",\"showbackground\":true,\"ticks\":\"\",\"zerolinecolor\":\"white\",\"gridwidth\":2},\"yaxis\":{\"backgroundcolor\":\"#E5ECF6\",\"gridcolor\":\"white\",\"linecolor\":\"white\",\"showbackground\":true,\"ticks\":\"\",\"zerolinecolor\":\"white\",\"gridwidth\":2},\"zaxis\":{\"backgroundcolor\":\"#E5ECF6\",\"gridcolor\":\"white\",\"linecolor\":\"white\",\"showbackground\":true,\"ticks\":\"\",\"zerolinecolor\":\"white\",\"gridwidth\":2}},\"shapedefaults\":{\"line\":{\"color\":\"#2a3f5f\"}},\"annotationdefaults\":{\"arrowcolor\":\"#2a3f5f\",\"arrowhead\":0,\"arrowwidth\":1},\"geo\":{\"bgcolor\":\"white\",\"landcolor\":\"#E5ECF6\",\"subunitcolor\":\"white\",\"showland\":true,\"showlakes\":true,\"lakecolor\":\"white\"},\"title\":{\"x\":0.05},\"mapbox\":{\"style\":\"light\"}}},\"xaxis\":{\"anchor\":\"y\",\"domain\":[0.0,1.0],\"title\":{\"text\":\"RateDate\"}},\"yaxis\":{\"anchor\":\"x\",\"domain\":[0.0,1.0],\"title\":{\"text\":\"RateValue\"}},\"legend\":{\"title\":{\"text\":\"RouteId\"},\"tracegroupgap\":0},\"margin\":{\"t\":60},\"width\":1000,\"hoverlabel\":{\"font\":{\"size\":14,\"family\":\"Calibri\"},\"bgcolor\":\"blue\"}},                        {\"responsive\": true}                    ).then(function(){\n                            \nvar gd = document.getElementById('d7004426-4865-4bc7-8ea0-90419f393685');\nvar x = new MutationObserver(function (mutations, observer) {{\n        var display = window.getComputedStyle(gd).display;\n        if (!display || display === 'none') {{\n            console.log([gd, 'removed!']);\n            Plotly.purge(gd);\n            observer.disconnect();\n        }}\n}});\n\n// Listen for the removal of the full notebook cells\nvar notebookContainer = gd.closest('#notebook-container');\nif (notebookContainer) {{\n    x.observe(notebookContainer, {childList: true});\n}}\n\n// Listen for the clearing of the current output cell\nvar outputEl = gd.closest('.output');\nif (outputEl) {{\n    x.observe(outputEl, {childList: true});\n}}\n\n                        })                };                });            </script>        </div>"
     },
     "metadata": {},
     "output_type": "display_data"
    }
   ],
   "source": [
    "import warnings\n",
    "warnings.filterwarnings('ignore')\n",
    "\n",
    "vlcc_rates = mr_api.get_market_rates(start_date=date(2020, 10, 1),\n",
    "                                end_date=date(2020, 12, 31),\n",
    "                                vessel_class_id=84,\n",
    "                                cargo_id=CargoId.DIRTY)\n",
    "line_chart(create_dataframe(vlcc_rates), 'RateDate', \"RateValue\", \"RouteId\")"
   ]
  },
  {
   "cell_type": "code",
   "execution_count": 89,
   "metadata": {
    "collapsed": false,
    "pycharm": {
     "name": "#%%\n"
    }
   },
   "outputs": [],
   "source": []
  }
 ],
 "metadata": {
  "kernelspec": {
   "display_name": "Python 3",
   "language": "python",
   "name": "python3"
  },
  "language_info": {
   "codemirror_mode": {
    "name": "ipython",
    "version": 2
   },
   "file_extension": ".py",
   "mimetype": "text/x-python",
   "name": "python",
   "nbconvert_exporter": "python",
   "pygments_lexer": "ipython2",
   "version": "2.7.6"
  }
 },
 "nbformat": 4,
 "nbformat_minor": 0
}