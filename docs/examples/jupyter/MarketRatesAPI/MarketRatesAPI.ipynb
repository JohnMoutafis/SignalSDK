{
 "cells": [
  {
   "cell_type": "markdown",
   "source": [
    "# Market Rates API Example"
   ],
   "metadata": {
    "collapsed": false
   }
  },
  {
   "cell_type": "markdown",
   "source": [
    "## Setup\n",
    "Install the Signal Ocean SDK:\n",
    "```\n",
    "pip install signal-ocean\n",
    "```\n",
    "Set your subscription key acquired here: https://apis.signalocean.com/profile"
   ],
   "metadata": {
    "collapsed": false
   }
  },
  {
   "cell_type": "code",
   "execution_count": 2,
   "outputs": [],
   "source": [
    "signal_ocean_api_key = '' #replace with your subscription key"
   ],
   "metadata": {
    "collapsed": false,
    "pycharm": {
     "name": "#%%\n"
    }
   }
  },
  {
   "cell_type": "markdown",
   "source": [
    "## Market Rates API\n",
    "The Market Rates API retrieves available routes and market rates. First create connection towards\n",
    "Market Rates API in order to find available routes by vessel class:"
   ],
   "metadata": {
    "collapsed": false
   }
  },
  {
   "cell_type": "code",
   "execution_count": 3,
   "outputs": [],
   "source": [
    "from signal_ocean import Connection\n",
    "from signal_ocean.market_rates import MarketRatesAPI\n",
    "from datetime import datetime\n",
    "\n",
    "connection = Connection(api_key=signal_ocean_api_key)\n",
    "mr_api = MarketRatesAPI(connection)"
   ],
   "metadata": {
    "collapsed": false,
    "pycharm": {
     "name": "#%%\n"
    }
   }
  },
  {
   "cell_type": "markdown",
   "source": [
    "#### Get the available vessel classes\n",
    "Retrieve the vessel classes for which we can get routes or market rates:"
   ],
   "metadata": {
    "collapsed": false
   }
  },
  {
   "cell_type": "code",
   "execution_count": 4,
   "outputs": [
    {
     "name": "stdout",
     "output_type": "stream",
     "text": [
      "(VesselClass(id=60, vessel_type_id=6, from_size=70001, to_size=250000, name='VLGC', vessel_type='LPG', defining_size='CubicSize', size='cbm'), VesselClass(id=61, vessel_type_id=6, from_size=28001, to_size=70000, name='Midsize/LGC', vessel_type='LPG', defining_size='CubicSize', size='cbm'), VesselClass(id=62, vessel_type_id=6, from_size=10001, to_size=28000, name='Handy', vessel_type='LPG', defining_size='CubicSize', size='cbm'), VesselClass(id=63, vessel_type_id=6, from_size=0, to_size=10000, name='Small', vessel_type='LPG', defining_size='CubicSize', size='cbm'), VesselClass(id=69, vessel_type_id=3, from_size=220000, to_size=550000, name='VLOC', vessel_type='Dry', defining_size='DeadWeight', size='kt'), VesselClass(id=70, vessel_type_id=3, from_size=120000, to_size=219999, name='Capesize', vessel_type='Dry', defining_size='DeadWeight', size='kt'), VesselClass(id=72, vessel_type_id=3, from_size=85000, to_size=119999, name='Post Panamax Dry', vessel_type='Dry', defining_size='DeadWeight', size='kt'), VesselClass(id=74, vessel_type_id=3, from_size=67000, to_size=84999, name='Panamax Dry', vessel_type='Dry', defining_size='DeadWeight', size='kt'), VesselClass(id=75, vessel_type_id=3, from_size=50000, to_size=66999, name='Supramax', vessel_type='Dry', defining_size='DeadWeight', size='kt'), VesselClass(id=76, vessel_type_id=3, from_size=40000, to_size=49999, name='Handymax', vessel_type='Dry', defining_size='DeadWeight', size='kt'), VesselClass(id=77, vessel_type_id=3, from_size=20000, to_size=39999, name='Handysize', vessel_type='Dry', defining_size='DeadWeight', size='kt'), VesselClass(id=78, vessel_type_id=4, from_size=14501, to_size=25000, name='ULCV', vessel_type='Container', defining_size='TEU', size='TEU'), VesselClass(id=79, vessel_type_id=4, from_size=10001, to_size=14500, name='New Panamax', vessel_type='Container', defining_size='TEU', size='TEU'), VesselClass(id=80, vessel_type_id=4, from_size=5101, to_size=10000, name='Post Panamax', vessel_type='Container', defining_size='TEU', size='TEU'), VesselClass(id=81, vessel_type_id=4, from_size=3001, to_size=5100, name='Panamax', vessel_type='Container', defining_size='TEU', size='TEU'), VesselClass(id=82, vessel_type_id=4, from_size=2001, to_size=3000, name='Feedermax', vessel_type='Container', defining_size='TEU', size='TEU'), VesselClass(id=83, vessel_type_id=4, from_size=1001, to_size=2000, name='Feeder', vessel_type='Container', defining_size='TEU', size='TEU'), VesselClass(id=84, vessel_type_id=1, from_size=200000, to_size=349999, name='VLCC', vessel_type='Tanker', defining_size='DeadWeight', size='kt'), VesselClass(id=85, vessel_type_id=1, from_size=125000, to_size=199999, name='Suezmax', vessel_type='Tanker', defining_size='DeadWeight', size='kt'), VesselClass(id=86, vessel_type_id=1, from_size=82000, to_size=124999, name='Aframax', vessel_type='Tanker', defining_size='DeadWeight', size='kt'), VesselClass(id=87, vessel_type_id=1, from_size=60000, to_size=81999, name='Panamax Tanker', vessel_type='Tanker', defining_size='DeadWeight', size='kt'), VesselClass(id=88, vessel_type_id=1, from_size=42000, to_size=59999, name='MR2', vessel_type='Tanker', defining_size='DeadWeight', size='kt'), VesselClass(id=89, vessel_type_id=1, from_size=25000, to_size=41999, name='MR1', vessel_type='Tanker', defining_size='DeadWeight', size='kt'), VesselClass(id=90, vessel_type_id=1, from_size=0, to_size=24999, name='Small', vessel_type='Tanker', defining_size='DeadWeight', size='kt'), VesselClass(id=91, vessel_type_id=5, from_size=0, to_size=550000, name='LNG', vessel_type='LNG', defining_size='CubicSize', size='cbm'), VesselClass(id=92, vessel_type_id=3, from_size=0, to_size=19999, name='Small', vessel_type='Dry', defining_size='DeadWeight', size='kt'), VesselClass(id=94, vessel_type_id=1, from_size=350000, to_size=550000, name='ULCC', vessel_type='Tanker', defining_size='DeadWeight', size='kt'), VesselClass(id=95, vessel_type_id=4, from_size=0, to_size=1000, name='Small', vessel_type='Container', defining_size='TEU', size='TEU'))\n"
     ]
    }
   ],
   "source": [
    "vessel_classes = mr_api.get_vessel_classes()\n",
    "print(vessel_classes)"
   ],
   "metadata": {
    "collapsed": false,
    "pycharm": {
     "name": "#%%\n"
    }
   }
  },
  {
   "cell_type": "markdown",
   "source": [
    "#### Get routes for a vessel class\n",
    "Based on the vessel classes that we got above we can request available routes for Aframax vessels"
   ],
   "metadata": {
    "collapsed": false
   }
  },
  {
   "cell_type": "code",
   "execution_count": 5,
   "outputs": [
    {
     "name": "stdout",
     "output_type": "stream",
     "text": [
      "(Route(id='R1', description='Afra - Med', unit='WS', vessel_class_id=86, is_clean=False), Route(id='R10', description='Afra - Indo_OZ', unit='WS', vessel_class_id=86, is_clean=False), Route(id='R13', description='Afra - USG_Med', unit='WS', vessel_class_id=86, is_clean=False), Route(id='R14', description='LR2 - AG', unit='WS', vessel_class_id=86, is_clean=True), Route(id='R2', description='Afra - Baltic', unit='WS', vessel_class_id=86, is_clean=False), Route(id='R3', description='Afra - UKCont', unit='WS', vessel_class_id=86, is_clean=False), Route(id='R4', description='Afra - Caribs', unit='WS', vessel_class_id=86, is_clean=False), Route(id='R42', description='Afra - PacRussia_China', unit='LS', vessel_class_id=86, is_clean=False), Route(id='R43', description='LR2 - Med_FarEast', unit='LS', vessel_class_id=86, is_clean=True), Route(id='R9', description='Afra - AG_FarEast', unit='WS', vessel_class_id=86, is_clean=False), Route(id='TC1', description='Afra - One Year TC Rate', unit='$/day', vessel_class_id=86, is_clean=False))\n"
     ]
    }
   ],
   "source": [
    "afra_vessel_class = next(vc for vc in vessel_classes if vc.name=='Aframax')\n",
    "afra_routes = mr_api.get_routes(afra_vessel_class.id)\n",
    "print(afra_routes)"
   ],
   "metadata": {
    "collapsed": false,
    "pycharm": {
     "name": "#%%\n"
    }
   }
  },
  {
   "cell_type": "markdown",
   "source": [
    "#### Get the market rates\n",
    "Now we can request the market rate on a given date for one of the routes we got in previous step or\n",
    "for all routes matching this vessel class"
   ],
   "metadata": {
    "collapsed": false
   }
  },
  {
   "cell_type": "code",
   "execution_count": 7,
   "outputs": [
    {
     "data": {
      "text/plain": "(MarketRate(route_id='R1', rate_date='2020-01-02', rate_value=245.0, unit='WS', vessel_class_id=86),\n MarketRate(route_id='R2', rate_date='2020-01-02', rate_value=175.0, unit='WS', vessel_class_id=86),\n MarketRate(route_id='R3', rate_date='2020-01-02', rate_value=160.0, unit='WS', vessel_class_id=86),\n MarketRate(route_id='R4', rate_date='2020-01-02', rate_value=400.0, unit='WS', vessel_class_id=86),\n MarketRate(route_id='R13', rate_date='2020-01-02', rate_value=325.0, unit='WS', vessel_class_id=86),\n MarketRate(route_id='R10', rate_date='2020-01-02', rate_value=215.0, unit='WS', vessel_class_id=86),\n MarketRate(route_id='R9', rate_date='2020-01-02', rate_value=280.0, unit='WS', vessel_class_id=86),\n MarketRate(route_id='R42', rate_date='2020-01-02', rate_value=1363417.0, unit='LS', vessel_class_id=86),\n MarketRate(route_id='TC1', rate_date='2020-01-02', rate_value=25000.0, unit='LS', vessel_class_id=86))"
     },
     "execution_count": 7,
     "metadata": {},
     "output_type": "execute_result"
    }
   ],
   "source": [
    "mr_api.get_market_rates(datetime(2020, 1, 2), route_id=afra_routes[0].id)\n",
    "mr_api.get_market_rates(datetime(2020, 1, 2), vessel_class_id=afra_vessel_class.id)"
   ],
   "metadata": {
    "collapsed": false,
    "pycharm": {
     "name": "#%%\n"
    }
   }
  },
  {
   "cell_type": "markdown",
   "source": [
    "mr_api.get_market_rates(datetime(2020, 1, 2), route_id=afra_routes[0].id)\n",
    "mr_api.get_market_rates(datetime(2020, 1, 2), vessel_class_id=afra_vessel_class.id)"
   ],
   "metadata": {
    "collapsed": false
   }
  },
  {
   "cell_type": "markdown",
   "source": [
    "## Setup\n",
    "Install the Signal Ocean SDK:\n",
    "```\n",
    "pip install signal-ocean\n",
    "```\n",
    "Set your subscription key acquired here: https://apis.signalocean.com/profile"
   ],
   "metadata": {
    "collapsed": false
   }
  },
  {
   "cell_type": "code",
   "execution_count": null,
   "outputs": [],
   "source": [
    "signal_ocean_api_key = '' #replace with your subscription key"
   ],
   "metadata": {
    "collapsed": false,
    "pycharm": {
     "name": "#%%\n"
    }
   }
  },
  {
   "cell_type": "markdown",
   "source": [
    "## Market Rates API\n",
    "The Market Rates API retrieves available routes and market rates. First create connection towards\n",
    "Market Rates API in order to find available routes by vessel class:"
   ],
   "metadata": {
    "collapsed": false
   }
  },
  {
   "cell_type": "code",
   "execution_count": null,
   "outputs": [],
   "source": [
    "from signal_ocean import Connection\n",
    "from signal_ocean.market_rates import MarketRatesAPI\n",
    "from datetime import datetime\n",
    "\n",
    "connection = Connection(api_key=signal_ocean_api_key)\n",
    "mr_api = MarketRatesAPI(connection)"
   ],
   "metadata": {
    "collapsed": false,
    "pycharm": {
     "name": "#%%\n"
    }
   }
  },
  {
   "cell_type": "markdown",
   "source": [
    "#### Get the available vessel classes\n",
    "Retrieve the vessel classes for which we can get routes or market rates:"
   ],
   "metadata": {
    "collapsed": false
   }
  },
  {
   "cell_type": "code",
   "execution_count": null,
   "outputs": [],
   "source": [
    "vessel_classes = mr_api.get_vessel_classes()\n",
    "print(vessel_classes)"
   ],
   "metadata": {
    "collapsed": false,
    "pycharm": {
     "name": "#%%\n"
    }
   }
  },
  {
   "cell_type": "markdown",
   "source": [
    "#### Get routes for a vessel class\n",
    "Based on the vessel classes that we got above we can request available routes for Aframax vessels"
   ],
   "metadata": {
    "collapsed": false
   }
  },
  {
   "cell_type": "code",
   "execution_count": null,
   "outputs": [],
   "source": [
    "afra_vessel_class = next(vc for vc in vessel_classes if vc.name=='Aframax')\n",
    "afra_routes = mr_api.get_routes(afra_vessel_class.id)\n",
    "print(afra_routes)"
   ],
   "metadata": {
    "collapsed": false,
    "pycharm": {
     "name": "#%%\n"
    }
   }
  },
  {
   "cell_type": "markdown",
   "source": [
    "#### Get the market rates\n",
    "Now we can request the market rate on a given date for one of the routes we got in previous step or\n",
    "for all routes matching this vessel class"
   ],
   "metadata": {
    "collapsed": false
   }
  },
  {
   "cell_type": "code",
   "execution_count": null,
   "outputs": [],
   "source": [
    "mr_api.get_market_rates(datetime(2020, 1, 2), route_id=afra_routes[0].id)\n",
    "mr_api.get_market_rates(datetime(2020, 1, 2), vessel_class_id=afra_vessel_class.id)"
   ],
   "metadata": {
    "collapsed": false,
    "pycharm": {
     "name": "#%%\n"
    }
   }
  }
 ],
 "metadata": {
  "kernelspec": {
   "display_name": "Python 3",
   "language": "python",
   "name": "python3"
  },
  "language_info": {
   "codemirror_mode": {
    "name": "ipython",
    "version": 3
   },
   "file_extension": ".py",
   "mimetype": "text/x-python",
   "name": "python",
   "nbconvert_exporter": "python",
   "pygments_lexer": "ipython3",
   "version": "3.8.5"
  }
 },
 "nbformat": 4,
 "nbformat_minor": 4
}