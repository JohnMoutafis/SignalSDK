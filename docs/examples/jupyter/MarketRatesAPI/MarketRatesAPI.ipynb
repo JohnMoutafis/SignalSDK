{
 "cells": [
  {
   "cell_type": "markdown",
   "metadata": {},
   "source": [
    "# Market Rates API Example"
   ]
  },
  {
   "cell_type": "markdown",
   "metadata": {},
   "source": [
    "## Setup\n",
    "Install the Signal Ocean SDK:\n",
    "```\n",
    "pip install signal-ocean\n",
    "```\n",
    "Set your subscription key acquired here: https://apis.signalocean.com/profile"
   ]
  },
  {
   "cell_type": "code",
   "execution_count": 5,
   "outputs": [],
   "source": [
    "signal_ocean_api_key = '' #replace with your subscription key"
   ],
   "metadata": {
    "collapsed": false,
    "pycharm": {
     "name": "#%%\n"
    }
   }
  },
  {
   "cell_type": "markdown",
   "metadata": {},
   "source": [
    "## Market Rates API\n",
    "The Market Rates API retrieves available routes and market rates. First create connection towards\n",
    "Market Rates API in order to find available routes by vessel class:"
   ]
  },
  {
   "cell_type": "code",
   "execution_count": 6,
   "outputs": [],
   "source": [
    "from signal_ocean import Connection\n",
    "from signal_ocean.market_rates import MarketRatesAPI\n",
    "from datetime import datetime\n",
    "\n",
    "connection = Connection(api_key=signal_ocean_api_key)\n",
    "mr_api = MarketRatesAPI(connection)"
   ],
   "metadata": {
    "collapsed": false,
    "pycharm": {
     "name": "#%%\n"
    }
   }
  },
  {
   "cell_type": "markdown",
   "source": [
    "#### Get the available vessel classes\n",
    "Retrieve the vessel classes for which we can get routes or market rates:"
   ],
   "metadata": {
    "collapsed": false
   }
  },
  {
   "cell_type": "code",
   "execution_count": 7,
   "outputs": [
    {
     "name": "stdout",
     "output_type": "stream",
     "text": [
      "(VesselClass(id=60, vessel_type_id=6, from_size=70001, to_size=250000, name='VLGC', vessel_type='LPG', defining_size='CubicSize', size='cbm'), VesselClass(id=61, vessel_type_id=6, from_size=28001, to_size=70000, name='Midsize/LGC', vessel_type='LPG', defining_size='CubicSize', size='cbm'), VesselClass(id=62, vessel_type_id=6, from_size=10001, to_size=28000, name='Handy', vessel_type='LPG', defining_size='CubicSize', size='cbm'), VesselClass(id=63, vessel_type_id=6, from_size=0, to_size=10000, name='Small', vessel_type='LPG', defining_size='CubicSize', size='cbm'), VesselClass(id=69, vessel_type_id=3, from_size=220000, to_size=550000, name='VLOC', vessel_type='Dry', defining_size='DeadWeight', size='kt'), VesselClass(id=70, vessel_type_id=3, from_size=120000, to_size=219999, name='Capesize', vessel_type='Dry', defining_size='DeadWeight', size='kt'), VesselClass(id=72, vessel_type_id=3, from_size=85000, to_size=119999, name='Post Panamax Dry', vessel_type='Dry', defining_size='DeadWeight', size='kt'), VesselClass(id=74, vessel_type_id=3, from_size=67000, to_size=84999, name='Panamax Dry', vessel_type='Dry', defining_size='DeadWeight', size='kt'), VesselClass(id=75, vessel_type_id=3, from_size=50000, to_size=66999, name='Supramax', vessel_type='Dry', defining_size='DeadWeight', size='kt'), VesselClass(id=76, vessel_type_id=3, from_size=40000, to_size=49999, name='Handymax', vessel_type='Dry', defining_size='DeadWeight', size='kt'), VesselClass(id=77, vessel_type_id=3, from_size=20000, to_size=39999, name='Handysize', vessel_type='Dry', defining_size='DeadWeight', size='kt'), VesselClass(id=78, vessel_type_id=4, from_size=14501, to_size=25000, name='ULCV', vessel_type='Container', defining_size='TEU', size='TEU'), VesselClass(id=79, vessel_type_id=4, from_size=10001, to_size=14500, name='New Panamax', vessel_type='Container', defining_size='TEU', size='TEU'), VesselClass(id=80, vessel_type_id=4, from_size=5101, to_size=10000, name='Post Panamax', vessel_type='Container', defining_size='TEU', size='TEU'), VesselClass(id=81, vessel_type_id=4, from_size=3001, to_size=5100, name='Panamax', vessel_type='Container', defining_size='TEU', size='TEU'), VesselClass(id=82, vessel_type_id=4, from_size=2001, to_size=3000, name='Feedermax', vessel_type='Container', defining_size='TEU', size='TEU'), VesselClass(id=83, vessel_type_id=4, from_size=1001, to_size=2000, name='Feeder', vessel_type='Container', defining_size='TEU', size='TEU'), VesselClass(id=84, vessel_type_id=1, from_size=200000, to_size=349999, name='VLCC', vessel_type='Tanker', defining_size='DeadWeight', size='kt'), VesselClass(id=85, vessel_type_id=1, from_size=125000, to_size=199999, name='Suezmax', vessel_type='Tanker', defining_size='DeadWeight', size='kt'), VesselClass(id=86, vessel_type_id=1, from_size=82000, to_size=124999, name='Aframax', vessel_type='Tanker', defining_size='DeadWeight', size='kt'), VesselClass(id=87, vessel_type_id=1, from_size=60000, to_size=81999, name='Panamax Tanker', vessel_type='Tanker', defining_size='DeadWeight', size='kt'), VesselClass(id=88, vessel_type_id=1, from_size=42000, to_size=59999, name='MR2', vessel_type='Tanker', defining_size='DeadWeight', size='kt'), VesselClass(id=89, vessel_type_id=1, from_size=25000, to_size=41999, name='MR1', vessel_type='Tanker', defining_size='DeadWeight', size='kt'), VesselClass(id=90, vessel_type_id=1, from_size=0, to_size=24999, name='Small', vessel_type='Tanker', defining_size='DeadWeight', size='kt'), VesselClass(id=91, vessel_type_id=5, from_size=0, to_size=550000, name='LNG', vessel_type='LNG', defining_size='CubicSize', size='cbm'), VesselClass(id=92, vessel_type_id=3, from_size=0, to_size=19999, name='Small', vessel_type='Dry', defining_size='DeadWeight', size='kt'), VesselClass(id=94, vessel_type_id=1, from_size=350000, to_size=550000, name='ULCC', vessel_type='Tanker', defining_size='DeadWeight', size='kt'), VesselClass(id=95, vessel_type_id=4, from_size=0, to_size=1000, name='Small', vessel_type='Container', defining_size='TEU', size='TEU'))\n"
     ]
    }
   ],
   "source": [
    "vessel_classes = mr_api.get_vessel_classes()\n",
    "print(vessel_classes)"
   ],
   "metadata": {
    "collapsed": false,
    "pycharm": {
     "name": "#%%\n"
    }
   }
  },
  {
   "cell_type": "markdown",
   "source": [
    "#### Get routes for a vessel class\n",
    "Based on the vessel classes that we got above we can request available routes for Aframax vessels"
   ],
   "metadata": {
    "collapsed": false
   }
  },
  {
   "cell_type": "code",
   "execution_count": 4,
   "outputs": [
    {
     "ename": "HTTPError",
     "evalue": "401 Client Error: Access Denied for url: https://signaloceantestapims.azure-api.net/market-rates/api/routes/86",
     "output_type": "error",
     "traceback": [
      "\u001B[1;31m---------------------------------------------------------------------------\u001B[0m",
      "\u001B[1;31mHTTPError\u001B[0m                                 Traceback (most recent call last)",
      "\u001B[1;32m<ipython-input-4-4ddf98bda0f2>\u001B[0m in \u001B[0;36m<module>\u001B[1;34m\u001B[0m\n\u001B[0;32m      1\u001B[0m \u001B[0mafra_vessel_class\u001B[0m \u001B[1;33m=\u001B[0m \u001B[0mnext\u001B[0m\u001B[1;33m(\u001B[0m\u001B[0mvc\u001B[0m \u001B[1;32mfor\u001B[0m \u001B[0mvc\u001B[0m \u001B[1;32min\u001B[0m \u001B[0mvessel_classes\u001B[0m \u001B[1;32mif\u001B[0m \u001B[0mvc\u001B[0m\u001B[1;33m.\u001B[0m\u001B[0mname\u001B[0m\u001B[1;33m==\u001B[0m\u001B[1;34m'Aframax'\u001B[0m\u001B[1;33m)\u001B[0m\u001B[1;33m\u001B[0m\u001B[1;33m\u001B[0m\u001B[0m\n\u001B[1;32m----> 2\u001B[1;33m \u001B[0mafra_routes\u001B[0m \u001B[1;33m=\u001B[0m \u001B[0mmr_api\u001B[0m\u001B[1;33m.\u001B[0m\u001B[0mget_routes\u001B[0m\u001B[1;33m(\u001B[0m\u001B[0mafra_vessel_class\u001B[0m\u001B[1;33m.\u001B[0m\u001B[0mid\u001B[0m\u001B[1;33m)\u001B[0m\u001B[1;33m\u001B[0m\u001B[1;33m\u001B[0m\u001B[0m\n\u001B[0m\u001B[0;32m      3\u001B[0m \u001B[0mprint\u001B[0m\u001B[1;33m(\u001B[0m\u001B[0mafra_routes\u001B[0m\u001B[1;33m)\u001B[0m\u001B[1;33m\u001B[0m\u001B[1;33m\u001B[0m\u001B[0m\n\u001B[0;32m      4\u001B[0m \u001B[1;33m\u001B[0m\u001B[0m\n",
      "\u001B[1;32m~\\workspace\\SignalSDK\\signal_ocean\\market_rates\\market_rates_api.py\u001B[0m in \u001B[0;36mget_routes\u001B[1;34m(self, vessel_class_id)\u001B[0m\n\u001B[0;32m     85\u001B[0m \u001B[1;33m\u001B[0m\u001B[0m\n\u001B[0;32m     86\u001B[0m         \u001B[0mresponse\u001B[0m \u001B[1;33m=\u001B[0m \u001B[0mself\u001B[0m\u001B[1;33m.\u001B[0m\u001B[0m__connection\u001B[0m\u001B[1;33m.\u001B[0m\u001B[0m_make_get_request\u001B[0m\u001B[1;33m(\u001B[0m\u001B[0muri\u001B[0m\u001B[1;33m)\u001B[0m\u001B[1;33m\u001B[0m\u001B[1;33m\u001B[0m\u001B[0m\n\u001B[1;32m---> 87\u001B[1;33m         \u001B[0mresponse\u001B[0m\u001B[1;33m.\u001B[0m\u001B[0mraise_for_status\u001B[0m\u001B[1;33m(\u001B[0m\u001B[1;33m)\u001B[0m\u001B[1;33m\u001B[0m\u001B[1;33m\u001B[0m\u001B[0m\n\u001B[0m\u001B[0;32m     88\u001B[0m         \u001B[0mresponse_json\u001B[0m \u001B[1;33m=\u001B[0m \u001B[0mresponse\u001B[0m\u001B[1;33m.\u001B[0m\u001B[0mjson\u001B[0m\u001B[1;33m(\u001B[0m\u001B[1;33m)\u001B[0m\u001B[1;33m\u001B[0m\u001B[1;33m\u001B[0m\u001B[0m\n\u001B[0;32m     89\u001B[0m         \u001B[0mreturn_object\u001B[0m \u001B[1;33m=\u001B[0m \u001B[0mparse_routes\u001B[0m\u001B[1;33m(\u001B[0m\u001B[0mresponse_json\u001B[0m\u001B[1;33m)\u001B[0m\u001B[1;33m\u001B[0m\u001B[1;33m\u001B[0m\u001B[0m\n",
      "\u001B[1;32mc:\\users\\k.tsitsikas\\workspace\\signalsdk\\venv\\lib\\site-packages\\requests\\models.py\u001B[0m in \u001B[0;36mraise_for_status\u001B[1;34m(self)\u001B[0m\n\u001B[0;32m    939\u001B[0m \u001B[1;33m\u001B[0m\u001B[0m\n\u001B[0;32m    940\u001B[0m         \u001B[1;32mif\u001B[0m \u001B[0mhttp_error_msg\u001B[0m\u001B[1;33m:\u001B[0m\u001B[1;33m\u001B[0m\u001B[1;33m\u001B[0m\u001B[0m\n\u001B[1;32m--> 941\u001B[1;33m             \u001B[1;32mraise\u001B[0m \u001B[0mHTTPError\u001B[0m\u001B[1;33m(\u001B[0m\u001B[0mhttp_error_msg\u001B[0m\u001B[1;33m,\u001B[0m \u001B[0mresponse\u001B[0m\u001B[1;33m=\u001B[0m\u001B[0mself\u001B[0m\u001B[1;33m)\u001B[0m\u001B[1;33m\u001B[0m\u001B[1;33m\u001B[0m\u001B[0m\n\u001B[0m\u001B[0;32m    942\u001B[0m \u001B[1;33m\u001B[0m\u001B[0m\n\u001B[0;32m    943\u001B[0m     \u001B[1;32mdef\u001B[0m \u001B[0mclose\u001B[0m\u001B[1;33m(\u001B[0m\u001B[0mself\u001B[0m\u001B[1;33m)\u001B[0m\u001B[1;33m:\u001B[0m\u001B[1;33m\u001B[0m\u001B[1;33m\u001B[0m\u001B[0m\n",
      "\u001B[1;31mHTTPError\u001B[0m: 401 Client Error: Access Denied for url: https://signaloceantestapims.azure-api.net/market-rates/api/routes/86"
     ]
    }
   ],
   "source": [
    "afra_vessel_class = next(vc for vc in vessel_classes if vc.name=='Aframax')\n",
    "afra_routes = mr_api.get_routes(afra_vessel_class.id)\n",
    "print(afra_routes)"
   ],
   "metadata": {
    "collapsed": false,
    "pycharm": {
     "name": "#%%\n"
    }
   }
  },
  {
   "cell_type": "markdown",
   "source": [
    "#### Get the market rates\n",
    "Now we can request the market rate on a given date for one of the routes we got in previous step or\n",
    "for all routes matching this vessel class"
   ],
   "metadata": {
    "collapsed": false
   }
  },
  {
   "cell_type": "code",
   "execution_count": 5,
   "outputs": [
    {
     "name": "stdout",
     "output_type": "stream",
     "text": [
      "(VesselType(id=1, name='Tanker'), VesselType(id=3, name='Dry'), VesselType(id=4, name='Container'), VesselType(id=5, name='LNG'), VesselType(id=6, name='LPG'))\n"
     ]
    }
   ],
   "source": [
    "mr_api.get_market_rates(datetime(2020, 1, 2), route_id=afra_routes[0].id)\n",
    "mr_api.get_market_rates(datetime(2020, 1, 2), vessel_class_id=afra_vessel_class.id)"
   ],
   "metadata": {
    "collapsed": false,
    "pycharm": {
     "name": "#%%\n"
    }
   }
  }
 ],
 "metadata": {
  "kernelspec": {
   "display_name": "Python 3",
   "language": "python",
   "name": "python3"
  },
  "language_info": {
   "codemirror_mode": {
    "name": "ipython",
    "version": 3
   },
   "file_extension": ".py",
   "mimetype": "text/x-python",
   "name": "python",
   "nbconvert_exporter": "python",
   "pygments_lexer": "ipython3",
   "version": "3.8.5"
  }
 },
 "nbformat": 4,
 "nbformat_minor": 4
}